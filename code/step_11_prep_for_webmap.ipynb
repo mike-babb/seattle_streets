{
 "cells": [
  {
   "cell_type": "markdown",
   "id": "fed9e25b-c5b9-4aee-89cd-15a7da3945c0",
   "metadata": {},
   "source": [
    "## Part 11: export data for a web map\n",
    "michael babb  \n",
    "2025 10 03"
   ]
  },
  {
   "cell_type": "code",
   "execution_count": 1,
   "id": "e88ca8b2-b75d-4e72-8fc7-65c4cea61cde",
   "metadata": {},
   "outputs": [],
   "source": [
    "# standard\n",
    "import os"
   ]
  },
  {
   "cell_type": "code",
   "execution_count": 2,
   "id": "0778d9a5-0c62-4724-be28-c21598d23b6f",
   "metadata": {},
   "outputs": [],
   "source": [
    "# external\n",
    "import geopandas as gpd\n",
    "import numpy as np\n",
    "import pandas as pd"
   ]
  },
  {
   "cell_type": "code",
   "execution_count": null,
   "id": "b8dac5db",
   "metadata": {},
   "outputs": [],
   "source": [
    "# custom\n",
    "import run_constants as rc\n",
    "from geo_data_io.fc_df_spatial import  (write_gdf, keep_largest_geometry,\n",
    "                    check_MultiLineStrings,\n",
    "                    inner_ring_buffer)\n",
    "from geo_data_io.fileio import write_json"
   ]
  },
  {
   "cell_type": "markdown",
   "id": "d56ea77e-ffd7-4326-b793-415f8a131ef2",
   "metadata": {},
   "source": [
    "# load the city sectors"
   ]
  },
  {
   "cell_type": "code",
   "execution_count": 4,
   "id": "ddf62724-9105-44c9-b983-e4f520328fa9",
   "metadata": {},
   "outputs": [],
   "source": [
    "fpn = os.path.join(rc.OUTPUT_FILE_PATH, rc.S02_CITY_SECTORS_OUT_FILE_NAME)"
   ]
  },
  {
   "cell_type": "code",
   "execution_count": 5,
   "id": "2cbdb5c1-c973-4882-b442-cf5396e90d3e",
   "metadata": {},
   "outputs": [],
   "source": [
    "gdf = gpd.read_file(filename = fpn)"
   ]
  },
  {
   "cell_type": "code",
   "execution_count": 6,
   "id": "69b4418d",
   "metadata": {},
   "outputs": [
    {
     "data": {
      "text/plain": [
       "(16, 3)"
      ]
     },
     "execution_count": 6,
     "metadata": {},
     "output_type": "execute_result"
    }
   ],
   "source": [
    "gdf.shape"
   ]
  },
  {
   "cell_type": "code",
   "execution_count": 7,
   "id": "a0f49e76",
   "metadata": {},
   "outputs": [
    {
     "data": {
      "text/html": [
       "<div>\n",
       "<style scoped>\n",
       "    .dataframe tbody tr th:only-of-type {\n",
       "        vertical-align: middle;\n",
       "    }\n",
       "\n",
       "    .dataframe tbody tr th {\n",
       "        vertical-align: top;\n",
       "    }\n",
       "\n",
       "    .dataframe thead th {\n",
       "        text-align: right;\n",
       "    }\n",
       "</style>\n",
       "<table border=\"1\" class=\"dataframe\">\n",
       "  <thead>\n",
       "    <tr style=\"text-align: right;\">\n",
       "      <th></th>\n",
       "      <th>city_sector</th>\n",
       "      <th>hull_type</th>\n",
       "      <th>geometry</th>\n",
       "    </tr>\n",
       "  </thead>\n",
       "  <tbody>\n",
       "    <tr>\n",
       "      <th>0</th>\n",
       "      <td>NW</td>\n",
       "      <td>convex</td>\n",
       "      <td>POLYGON ((-122.35768 47.65214, -122.35784 47.6...</td>\n",
       "    </tr>\n",
       "    <tr>\n",
       "      <th>1</th>\n",
       "      <td>NW</td>\n",
       "      <td>concave</td>\n",
       "      <td>POLYGON ((-122.40637 47.67378, -122.40638 47.6...</td>\n",
       "    </tr>\n",
       "    <tr>\n",
       "      <th>2</th>\n",
       "      <td>N</td>\n",
       "      <td>convex</td>\n",
       "      <td>POLYGON ((-122.33299 47.61852, -122.33427 47.6...</td>\n",
       "    </tr>\n",
       "    <tr>\n",
       "      <th>3</th>\n",
       "      <td>N</td>\n",
       "      <td>concave</td>\n",
       "      <td>POLYGON ((-122.35769 47.64955, -122.35769 47.6...</td>\n",
       "    </tr>\n",
       "    <tr>\n",
       "      <th>4</th>\n",
       "      <td>NE</td>\n",
       "      <td>convex</td>\n",
       "      <td>POLYGON ((-122.3046 47.64749, -122.31007 47.64...</td>\n",
       "    </tr>\n",
       "  </tbody>\n",
       "</table>\n",
       "</div>"
      ],
      "text/plain": [
       "  city_sector hull_type                                           geometry\n",
       "0          NW    convex  POLYGON ((-122.35768 47.65214, -122.35784 47.6...\n",
       "1          NW   concave  POLYGON ((-122.40637 47.67378, -122.40638 47.6...\n",
       "2           N    convex  POLYGON ((-122.33299 47.61852, -122.33427 47.6...\n",
       "3           N   concave  POLYGON ((-122.35769 47.64955, -122.35769 47.6...\n",
       "4          NE    convex  POLYGON ((-122.3046 47.64749, -122.31007 47.64..."
      ]
     },
     "execution_count": 7,
     "metadata": {},
     "output_type": "execute_result"
    }
   ],
   "source": [
    "gdf.head()"
   ]
  },
  {
   "cell_type": "markdown",
   "id": "aafba1df",
   "metadata": {},
   "source": [
    "#  create non-overlapping polygons"
   ]
  },
  {
   "cell_type": "code",
   "execution_count": 8,
   "id": "8ae5ed24",
   "metadata": {},
   "outputs": [],
   "source": [
    "# keep only the concave bulls\n",
    "p_gdf = gdf.loc[gdf['hull_type'] == 'concave', :]"
   ]
  },
  {
   "cell_type": "code",
   "execution_count": 9,
   "id": "fc6e8f96",
   "metadata": {},
   "outputs": [],
   "source": [
    "# reproject to wgs 84 utm zone 10\n",
    "p_gdf = p_gdf.to_crs(epsg = 32610)"
   ]
  },
  {
   "cell_type": "code",
   "execution_count": 10,
   "id": "1f3ae2d8",
   "metadata": {},
   "outputs": [
    {
     "data": {
      "text/plain": [
       "<Axes: >"
      ]
     },
     "execution_count": 10,
     "metadata": {},
     "output_type": "execute_result"
    },
    {
     "data": {
      "image/png": "[encoded data removed]",
      "text/plain": [
       "<Figure size 640x480 with 1 Axes>"
      ]
     },
     "metadata": {},
     "output_type": "display_data"
    }
   ],
   "source": [
    "p_gdf.plot()"
   ]
  },
  {
   "cell_type": "code",
   "execution_count": 11,
   "id": "b7550a70",
   "metadata": {},
   "outputs": [
    {
     "data": {
      "text/html": [
       "<div>\n",
       "<style scoped>\n",
       "    .dataframe tbody tr th:only-of-type {\n",
       "        vertical-align: middle;\n",
       "    }\n",
       "\n",
       "    .dataframe tbody tr th {\n",
       "        vertical-align: top;\n",
       "    }\n",
       "\n",
       "    .dataframe thead th {\n",
       "        text-align: right;\n",
       "    }\n",
       "</style>\n",
       "<table border=\"1\" class=\"dataframe\">\n",
       "  <thead>\n",
       "    <tr style=\"text-align: right;\">\n",
       "      <th></th>\n",
       "      <th>city_sector</th>\n",
       "      <th>hull_type</th>\n",
       "      <th>geometry</th>\n",
       "    </tr>\n",
       "  </thead>\n",
       "  <tbody>\n",
       "    <tr>\n",
       "      <th>1</th>\n",
       "      <td>NW</td>\n",
       "      <td>concave</td>\n",
       "      <td>POLYGON ((544560.158 5280213.434, 544559.88 52...</td>\n",
       "    </tr>\n",
       "    <tr>\n",
       "      <th>3</th>\n",
       "      <td>N</td>\n",
       "      <td>concave</td>\n",
       "      <td>POLYGON ((548236.706 5277549.869, 548236.48 52...</td>\n",
       "    </tr>\n",
       "    <tr>\n",
       "      <th>5</th>\n",
       "      <td>NE</td>\n",
       "      <td>concave</td>\n",
       "      <td>POLYGON ((550433.919 5278501.622, 550442.898 5...</td>\n",
       "    </tr>\n",
       "    <tr>\n",
       "      <th>7</th>\n",
       "      <td>CNTR</td>\n",
       "      <td>concave</td>\n",
       "      <td>POLYGON ((548285.033 5274027.51, 548284.855 52...</td>\n",
       "    </tr>\n",
       "    <tr>\n",
       "      <th>9</th>\n",
       "      <td>E</td>\n",
       "      <td>concave</td>\n",
       "      <td>POLYGON ((550377.214 5276766.109, 550410.608 5...</td>\n",
       "    </tr>\n",
       "  </tbody>\n",
       "</table>\n",
       "</div>"
      ],
      "text/plain": [
       "  city_sector hull_type                                           geometry\n",
       "1          NW   concave  POLYGON ((544560.158 5280213.434, 544559.88 52...\n",
       "3           N   concave  POLYGON ((548236.706 5277549.869, 548236.48 52...\n",
       "5          NE   concave  POLYGON ((550433.919 5278501.622, 550442.898 5...\n",
       "7        CNTR   concave  POLYGON ((548285.033 5274027.51, 548284.855 52...\n",
       "9           E   concave  POLYGON ((550377.214 5276766.109, 550410.608 5..."
      ]
     },
     "execution_count": 11,
     "metadata": {},
     "output_type": "execute_result"
    }
   ],
   "source": [
    "p_gdf.head()"
   ]
  },
  {
   "cell_type": "code",
   "execution_count": 12,
   "id": "eb636395",
   "metadata": {},
   "outputs": [],
   "source": [
    "# we first need to reproject\n",
    "# and then: intersect the data so that it's nice and clean. So clean. "
   ]
  },
  {
   "cell_type": "code",
   "execution_count": 13,
   "id": "4196ae65",
   "metadata": {},
   "outputs": [],
   "source": [
    "# here is what needs to be intersected and clipped\n",
    "# N and CNTR and E and CNTR\n",
    "g_names = ['N', 'CNTR', 'E']\n",
    "geom_dict = {}\n",
    "for gn in g_names:\n",
    "    geom_dict[gn] = p_gdf.loc[p_gdf['city_sector'] == gn, 'geometry'].iloc[0]"
   ]
  },
  {
   "cell_type": "code",
   "execution_count": 14,
   "id": "8515d06f",
   "metadata": {},
   "outputs": [],
   "source": [
    "# time to do an intersection!\n",
    "# north / center geometry\n",
    "nc_geom = geom_dict['N'].intersection(geom_dict['CNTR'])\n",
    "# east / center geometry\n",
    "ec_geom = geom_dict['E'].intersection(geom_dict['CNTR'])\n",
    "\n",
    "# the isolated center geometry\n",
    "c_geom = geom_dict['CNTR'].difference(geom_dict['N'])\n",
    "c_geom = c_geom.difference(geom_dict['E'])\n",
    "\n",
    "# we also need only the north and east geometry. Compute the difference\n",
    "# north / center geometry\n",
    "nc_diff_geom = geom_dict['N'].difference(geom_dict['CNTR'])\n",
    "# east / center geometry\n",
    "ec_diff_geom = geom_dict['E'].difference(geom_dict['CNTR'])\n"
   ]
  },
  {
   "cell_type": "code",
   "execution_count": 15,
   "id": "c3b3b0ca",
   "metadata": {},
   "outputs": [],
   "source": [
    "# gather and create a geodataframe\n",
    "geom_list = [c_geom, nc_geom, ec_geom, nc_diff_geom, ec_diff_geom]\n",
    "data_list = ['CNTR', 'NC', 'EC', 'N', 'E']\n",
    "mod_gdf = gpd.GeoDataFrame(data = {'city_sector':data_list},\n",
    "                           geometry = geom_list, crs = 32610)"
   ]
  },
  {
   "cell_type": "code",
   "execution_count": 16,
   "id": "3ffc4f97",
   "metadata": {},
   "outputs": [],
   "source": [
    "# clean up the geometries\n",
    "mod_gdf = keep_largest_geometry(gdf = mod_gdf, group_col_names=['city_sector'])"
   ]
  },
  {
   "cell_type": "code",
   "execution_count": 17,
   "id": "07cb074b",
   "metadata": {},
   "outputs": [
    {
     "data": {
      "text/html": [
       "<div>\n",
       "<style scoped>\n",
       "    .dataframe tbody tr th:only-of-type {\n",
       "        vertical-align: middle;\n",
       "    }\n",
       "\n",
       "    .dataframe tbody tr th {\n",
       "        vertical-align: top;\n",
       "    }\n",
       "\n",
       "    .dataframe thead th {\n",
       "        text-align: right;\n",
       "    }\n",
       "</style>\n",
       "<table border=\"1\" class=\"dataframe\">\n",
       "  <thead>\n",
       "    <tr style=\"text-align: right;\">\n",
       "      <th></th>\n",
       "      <th>city_sector</th>\n",
       "      <th>geometry</th>\n",
       "    </tr>\n",
       "  </thead>\n",
       "  <tbody>\n",
       "    <tr>\n",
       "      <th>0</th>\n",
       "      <td>CNTR</td>\n",
       "      <td>POLYGON ((548207.446 5274110.047, 548205.081 5...</td>\n",
       "    </tr>\n",
       "    <tr>\n",
       "      <th>1</th>\n",
       "      <td>NC</td>\n",
       "      <td>POLYGON ((548236.48 5277575.735, 548237.788 52...</td>\n",
       "    </tr>\n",
       "    <tr>\n",
       "      <th>2</th>\n",
       "      <td>EC</td>\n",
       "      <td>POLYGON ((553990.355 5274053.615, 554005.492 5...</td>\n",
       "    </tr>\n",
       "    <tr>\n",
       "      <th>3</th>\n",
       "      <td>N</td>\n",
       "      <td>POLYGON ((548236.052 5277648.077, 548281.925 5...</td>\n",
       "    </tr>\n",
       "    <tr>\n",
       "      <th>4</th>\n",
       "      <td>E</td>\n",
       "      <td>POLYGON ((550410.608 5276841.828, 550415.26 52...</td>\n",
       "    </tr>\n",
       "  </tbody>\n",
       "</table>\n",
       "</div>"
      ],
      "text/plain": [
       "  city_sector                                           geometry\n",
       "0        CNTR  POLYGON ((548207.446 5274110.047, 548205.081 5...\n",
       "1          NC  POLYGON ((548236.48 5277575.735, 548237.788 52...\n",
       "2          EC  POLYGON ((553990.355 5274053.615, 554005.492 5...\n",
       "3           N  POLYGON ((548236.052 5277648.077, 548281.925 5...\n",
       "4           E  POLYGON ((550410.608 5276841.828, 550415.26 52..."
      ]
     },
     "execution_count": 17,
     "metadata": {},
     "output_type": "execute_result"
    }
   ],
   "source": [
    "mod_gdf.head()"
   ]
  },
  {
   "cell_type": "code",
   "execution_count": 18,
   "id": "487778b2",
   "metadata": {},
   "outputs": [
    {
     "data": {
      "text/html": [
       "<div>\n",
       "<style scoped>\n",
       "    .dataframe tbody tr th:only-of-type {\n",
       "        vertical-align: middle;\n",
       "    }\n",
       "\n",
       "    .dataframe tbody tr th {\n",
       "        vertical-align: top;\n",
       "    }\n",
       "\n",
       "    .dataframe thead th {\n",
       "        text-align: right;\n",
       "    }\n",
       "</style>\n",
       "<table border=\"1\" class=\"dataframe\">\n",
       "  <thead>\n",
       "    <tr style=\"text-align: right;\">\n",
       "      <th></th>\n",
       "      <th>city_sector</th>\n",
       "      <th>hull_type</th>\n",
       "      <th>geometry</th>\n",
       "    </tr>\n",
       "  </thead>\n",
       "  <tbody>\n",
       "    <tr>\n",
       "      <th>1</th>\n",
       "      <td>NW</td>\n",
       "      <td>concave</td>\n",
       "      <td>POLYGON ((544560.158 5280213.434, 544559.88 52...</td>\n",
       "    </tr>\n",
       "    <tr>\n",
       "      <th>3</th>\n",
       "      <td>N</td>\n",
       "      <td>concave</td>\n",
       "      <td>POLYGON ((548236.706 5277549.869, 548236.48 52...</td>\n",
       "    </tr>\n",
       "    <tr>\n",
       "      <th>5</th>\n",
       "      <td>NE</td>\n",
       "      <td>concave</td>\n",
       "      <td>POLYGON ((550433.919 5278501.622, 550442.898 5...</td>\n",
       "    </tr>\n",
       "    <tr>\n",
       "      <th>7</th>\n",
       "      <td>CNTR</td>\n",
       "      <td>concave</td>\n",
       "      <td>POLYGON ((548285.033 5274027.51, 548284.855 52...</td>\n",
       "    </tr>\n",
       "    <tr>\n",
       "      <th>9</th>\n",
       "      <td>E</td>\n",
       "      <td>concave</td>\n",
       "      <td>POLYGON ((550377.214 5276766.109, 550410.608 5...</td>\n",
       "    </tr>\n",
       "  </tbody>\n",
       "</table>\n",
       "</div>"
      ],
      "text/plain": [
       "  city_sector hull_type                                           geometry\n",
       "1          NW   concave  POLYGON ((544560.158 5280213.434, 544559.88 52...\n",
       "3           N   concave  POLYGON ((548236.706 5277549.869, 548236.48 52...\n",
       "5          NE   concave  POLYGON ((550433.919 5278501.622, 550442.898 5...\n",
       "7        CNTR   concave  POLYGON ((548285.033 5274027.51, 548284.855 52...\n",
       "9           E   concave  POLYGON ((550377.214 5276766.109, 550410.608 5..."
      ]
     },
     "execution_count": 18,
     "metadata": {},
     "output_type": "execute_result"
    }
   ],
   "source": [
    "# add them to the other geodataframe with the good geometry:\n",
    "p_gdf.head()"
   ]
  },
  {
   "cell_type": "code",
   "execution_count": 19,
   "id": "c79decc3",
   "metadata": {},
   "outputs": [],
   "source": [
    "mod_gdf['hull_type'] = 'concave'"
   ]
  },
  {
   "cell_type": "code",
   "execution_count": 20,
   "id": "be1a3e4e",
   "metadata": {},
   "outputs": [],
   "source": [
    "col_names = p_gdf.columns.tolist()\n",
    "mod_gdf = mod_gdf[col_names]"
   ]
  },
  {
   "cell_type": "code",
   "execution_count": 21,
   "id": "b3845e26",
   "metadata": {},
   "outputs": [],
   "source": [
    "# drop existing geometries in the p_gdf GDF\n",
    "p_gdf = p_gdf.loc[-p_gdf['city_sector'].isin(mod_gdf['city_sector']), :]"
   ]
  },
  {
   "cell_type": "code",
   "execution_count": 22,
   "id": "b778e7fe",
   "metadata": {},
   "outputs": [],
   "source": [
    "# stack by concat\n",
    "p_gdf = pd.concat(objs = [p_gdf, mod_gdf], axis = 0)"
   ]
  },
  {
   "cell_type": "code",
   "execution_count": 23,
   "id": "9c2d7a3d",
   "metadata": {},
   "outputs": [],
   "source": [
    "p_gdf = p_gdf.to_crs(epsg=4326)"
   ]
  },
  {
   "cell_type": "code",
   "execution_count": 24,
   "id": "cf2f954f",
   "metadata": {},
   "outputs": [],
   "source": [
    "write_gdf(gdf = p_gdf, output_file_path=rc.OUTPUT_FILE_PATH, output_file_name=rc.S11_NON_OVERLAPPING_CITY_SECTORS_FILE_NAME)"
   ]
  },
  {
   "cell_type": "code",
   "execution_count": null,
   "id": "be7b751b",
   "metadata": {},
   "outputs": [],
   "source": []
  },
  {
   "cell_type": "markdown",
   "id": "d092f31e",
   "metadata": {},
   "source": [
    "# create inner ring buffers\n",
    "The inner ring buffers of the different city sectors aren't used in any analysis.\n",
    "They are used in the webmap to help orient the reader for the different sectors.\n",
    "In doing so, it will make the within-sector and cross-sector added streets make\n",
    "more sense."
   ]
  },
  {
   "cell_type": "code",
   "execution_count": 25,
   "id": "c42e558f",
   "metadata": {},
   "outputs": [],
   "source": [
    "# convert to WGS 84 UTM Zone 10 N, for creating the inner-ring buffers\n",
    "p_gdf = p_gdf.to_crs(epsg = 32610)"
   ]
  },
  {
   "cell_type": "code",
   "execution_count": 26,
   "id": "39117b02",
   "metadata": {},
   "outputs": [],
   "source": [
    "cc_gdf = gdf.loc[gdf['hull_type'] == 'concave', ]"
   ]
  },
  {
   "cell_type": "code",
   "execution_count": 27,
   "id": "7fa58029",
   "metadata": {},
   "outputs": [],
   "source": [
    "cc_gdf = cc_gdf.to_crs(epsg = 32610)"
   ]
  },
  {
   "cell_type": "code",
   "execution_count": 28,
   "id": "631a2282",
   "metadata": {},
   "outputs": [
    {
     "name": "stdout",
     "output_type": "stream",
     "text": [
      "Processing row: 1\n",
      "Processing row: 5\n",
      "Processing row: 11\n",
      "Processing row: 13\n",
      "Processing row: 15\n",
      "Processing row: 0\n",
      "Processing row: 1\n",
      "Processing row: 2\n",
      "Processing row: 3\n",
      "Processing row: 4\n"
     ]
    }
   ],
   "source": [
    "# let's do some fun inner ring buffering - the non-overlapping data\n",
    "output_gdf, output_line_gdf = inner_ring_buffer(gdf = p_gdf,\n",
    "                                                 dist_start=10,\n",
    "                                                 dist_end=100, buff_dist=10)\n",
    "\n",
    "# project to WGS 84\n",
    "output_gdf = output_gdf.to_crs(epsg = 4326)\n",
    "\n",
    "# project to WGS 84\n",
    "output_line_gdf = output_line_gdf.to_crs(epsg = 4326)\n",
    "\n",
    "# save this to disk\n",
    "write_gdf(gdf = output_gdf, output_file_path=rc.OUTPUT_FILE_PATH,\n",
    "          output_file_name=rc.S11_NON_OVERLAPPING_CITY_SECTORS_POLY_INNER_RING_BUFFER_FILE_NAME)\n",
    "write_gdf(gdf = output_line_gdf, output_file_path=rc.OUTPUT_FILE_PATH,\n",
    "          output_file_name=rc.S11_NON_OVERLAPPING_CITY_SECTORS_LINE_INNER_RING_BUFFER_FILE_NAME)"
   ]
  },
  {
   "cell_type": "code",
   "execution_count": 29,
   "id": "68ed18b8",
   "metadata": {},
   "outputs": [
    {
     "name": "stdout",
     "output_type": "stream",
     "text": [
      "Processing row: 1\n",
      "Processing row: 3\n",
      "Processing row: 5\n",
      "Processing row: 7\n",
      "Processing row: 9\n",
      "Processing row: 11\n",
      "Processing row: 13\n",
      "Processing row: 15\n"
     ]
    }
   ],
   "source": [
    "# let's do some fun inner ring buffering - the full set of geometry\n",
    "output_gdf, output_line_gdf = inner_ring_buffer(gdf = cc_gdf,\n",
    "                                                 dist_start=10,\n",
    "                                                 dist_end=100, buff_dist=10)\n",
    "\n",
    "# project to WGS 84\n",
    "output_gdf = output_gdf.to_crs(epsg = 4326)\n",
    "\n",
    "# project to WGS 84\n",
    "output_line_gdf = output_line_gdf.to_crs(epsg = 4326)\n",
    "\n",
    "# save this to disk\n",
    "write_gdf(gdf = output_gdf, output_file_path=rc.OUTPUT_FILE_PATH,\n",
    "          output_file_name=rc.S11_OVERLAPPING_CITY_SECTORS_POLY_INNER_RING_BUFFER_FILE_NAME)\n",
    "write_gdf(gdf = output_line_gdf, output_file_path=rc.OUTPUT_FILE_PATH,\n",
    "          output_file_name=rc.S11_OVERLAPPING_CITY_SECTORS_LINE_INNER_RING_BUFFER_FILE_NAME)"
   ]
  },
  {
   "cell_type": "code",
   "execution_count": 30,
   "id": "7bb8c9b8",
   "metadata": {},
   "outputs": [],
   "source": [
    "# save the output_line_gdf as a geojson for use in a webmap.\n",
    "# we'll filter different distances in the webmap to get the visual appeal just \n",
    "# right. "
   ]
  },
  {
   "cell_type": "code",
   "execution_count": 31,
   "id": "d9cbcd61",
   "metadata": {},
   "outputs": [
    {
     "data": {
      "text/html": [
       "<div>\n",
       "<style scoped>\n",
       "    .dataframe tbody tr th:only-of-type {\n",
       "        vertical-align: middle;\n",
       "    }\n",
       "\n",
       "    .dataframe tbody tr th {\n",
       "        vertical-align: top;\n",
       "    }\n",
       "\n",
       "    .dataframe thead th {\n",
       "        text-align: right;\n",
       "    }\n",
       "</style>\n",
       "<table border=\"1\" class=\"dataframe\">\n",
       "  <thead>\n",
       "    <tr style=\"text-align: right;\">\n",
       "      <th></th>\n",
       "      <th>city_sector</th>\n",
       "      <th>hull_type</th>\n",
       "      <th>distance</th>\n",
       "      <th>line_index</th>\n",
       "      <th>geometry</th>\n",
       "    </tr>\n",
       "  </thead>\n",
       "  <tbody>\n",
       "    <tr>\n",
       "      <th>0</th>\n",
       "      <td>NW</td>\n",
       "      <td>concave</td>\n",
       "      <td>10</td>\n",
       "      <td>0</td>\n",
       "      <td>LINESTRING (-122.40638 47.67405, -122.40638 47...</td>\n",
       "    </tr>\n",
       "    <tr>\n",
       "      <th>1</th>\n",
       "      <td>NW</td>\n",
       "      <td>concave</td>\n",
       "      <td>10</td>\n",
       "      <td>1</td>\n",
       "      <td>LINESTRING (-122.39602 47.6677, -122.39592 47....</td>\n",
       "    </tr>\n",
       "    <tr>\n",
       "      <th>2</th>\n",
       "      <td>NW</td>\n",
       "      <td>concave</td>\n",
       "      <td>20</td>\n",
       "      <td>0</td>\n",
       "      <td>LINESTRING (-122.39603 47.6677, -122.39603 47....</td>\n",
       "    </tr>\n",
       "    <tr>\n",
       "      <th>3</th>\n",
       "      <td>NW</td>\n",
       "      <td>concave</td>\n",
       "      <td>20</td>\n",
       "      <td>1</td>\n",
       "      <td>LINESTRING (-122.39605 47.6681, -122.39604 47....</td>\n",
       "    </tr>\n",
       "    <tr>\n",
       "      <th>4</th>\n",
       "      <td>NW</td>\n",
       "      <td>concave</td>\n",
       "      <td>30</td>\n",
       "      <td>0</td>\n",
       "      <td>LINESTRING (-122.39609 47.66795, -122.3961 47....</td>\n",
       "    </tr>\n",
       "  </tbody>\n",
       "</table>\n",
       "</div>"
      ],
      "text/plain": [
       "  city_sector hull_type  distance  line_index  \\\n",
       "0          NW   concave        10           0   \n",
       "1          NW   concave        10           1   \n",
       "2          NW   concave        20           0   \n",
       "3          NW   concave        20           1   \n",
       "4          NW   concave        30           0   \n",
       "\n",
       "                                            geometry  \n",
       "0  LINESTRING (-122.40638 47.67405, -122.40638 47...  \n",
       "1  LINESTRING (-122.39602 47.6677, -122.39592 47....  \n",
       "2  LINESTRING (-122.39603 47.6677, -122.39603 47....  \n",
       "3  LINESTRING (-122.39605 47.6681, -122.39604 47....  \n",
       "4  LINESTRING (-122.39609 47.66795, -122.3961 47....  "
      ]
     },
     "execution_count": 31,
     "metadata": {},
     "output_type": "execute_result"
    }
   ],
   "source": [
    "temp_output_gdf = output_line_gdf.copy()\n",
    "temp_output_gdf.head()"
   ]
  },
  {
   "cell_type": "code",
   "execution_count": 32,
   "id": "03b978b4",
   "metadata": {},
   "outputs": [],
   "source": [
    "temp_output_gdf.columns = ['cp', 'hull_type', 'dist', 'li', 'geometry']\n",
    "temp_output_gdf['cp'] = temp_output_gdf['cp'].str.replace('CNTR', 'C')\n",
    "cs_json = temp_output_gdf.to_json(drop_id=True, to_wgs84=True)\n"
   ]
  },
  {
   "cell_type": "code",
   "execution_count": 33,
   "id": "08b26623",
   "metadata": {},
   "outputs": [
    {
     "name": "stdout",
     "output_type": "stream",
     "text": [
      "city_sector_lines\n"
     ]
    }
   ],
   "source": [
    "# let's save this to a geojson\n",
    "write_json(json_data=cs_json, output_file_path='../maps', output_file_name=rc.S11_CITY_SECTOR_LINES_JSON_FILE_NAME,\n",
    "           var_name = None)"
   ]
  },
  {
   "cell_type": "markdown",
   "id": "1c60134f",
   "metadata": {},
   "source": [
    "# export street data for use in a web map"
   ]
  },
  {
   "cell_type": "code",
   "execution_count": 34,
   "id": "74d1f901",
   "metadata": {},
   "outputs": [],
   "source": [
    "fpn = os.path.join(rc.OUTPUT_FILE_PATH, rc.S05_MISSING_IN_FILE_NAME)"
   ]
  },
  {
   "cell_type": "code",
   "execution_count": 35,
   "id": "e5ee7745",
   "metadata": {},
   "outputs": [],
   "source": [
    "gdf = gpd.read_file(filename = fpn)"
   ]
  },
  {
   "cell_type": "code",
   "execution_count": 36,
   "id": "7b8aa612",
   "metadata": {},
   "outputs": [],
   "source": [
    "# dissolve - this also aggregates\n",
    "col_names = ['ord_stname_type_group','snd_group', 'street_status', 'group_id', 'dist_miles', 'geometry']\n",
    "diss_gdf = gdf[col_names].dissolve(by = col_names[:-2],\n",
    "                     aggfunc =  ['sum'], as_index = False)"
   ]
  },
  {
   "cell_type": "code",
   "execution_count": 37,
   "id": "15b4a2d7",
   "metadata": {},
   "outputs": [],
   "source": [
    "# set column names\n",
    "col_names = ['ord_stname_type_group','snd_group', 'street_status', 'group_id', 'geometry', 'dist_miles']\n",
    "diss_gdf.columns = col_names"
   ]
  },
  {
   "cell_type": "code",
   "execution_count": 38,
   "id": "6d3d02b6",
   "metadata": {},
   "outputs": [],
   "source": [
    "# add a column to count the number of records - this will be summed later\n",
    "diss_gdf['n_segments'] = 1\n",
    "col_names = ['osntg','sndg', 'ss', 'gi', 'geometry', 'dm', 'ns']\n",
    "diss_gdf.columns = col_names"
   ]
  },
  {
   "cell_type": "code",
   "execution_count": 39,
   "id": "e93926d1",
   "metadata": {},
   "outputs": [],
   "source": [
    "# let's try dropping some columns\n",
    "drop_col_names = ['sndg', 'gi']\n",
    "diss_gdf = diss_gdf.drop(labels=drop_col_names, axis = 1)"
   ]
  },
  {
   "cell_type": "code",
   "execution_count": 40,
   "id": "b2146671",
   "metadata": {},
   "outputs": [
    {
     "data": {
      "text/html": [
       "<div>\n",
       "<style scoped>\n",
       "    .dataframe tbody tr th:only-of-type {\n",
       "        vertical-align: middle;\n",
       "    }\n",
       "\n",
       "    .dataframe tbody tr th {\n",
       "        vertical-align: top;\n",
       "    }\n",
       "\n",
       "    .dataframe thead th {\n",
       "        text-align: right;\n",
       "    }\n",
       "</style>\n",
       "<table border=\"1\" class=\"dataframe\">\n",
       "  <thead>\n",
       "    <tr style=\"text-align: right;\">\n",
       "      <th></th>\n",
       "      <th>osntg</th>\n",
       "      <th>ss</th>\n",
       "      <th>geometry</th>\n",
       "      <th>(dm, sum)</th>\n",
       "      <th>(ns, sum)</th>\n",
       "    </tr>\n",
       "  </thead>\n",
       "  <tbody>\n",
       "    <tr>\n",
       "      <th>0</th>\n",
       "      <td>100TH PL NW</td>\n",
       "      <td>0</td>\n",
       "      <td>MULTILINESTRING ((-122.36206 47.7035, -122.363...</td>\n",
       "      <td>0.201049</td>\n",
       "      <td>1</td>\n",
       "    </tr>\n",
       "    <tr>\n",
       "      <th>1</th>\n",
       "      <td>100TH PL SW</td>\n",
       "      <td>0</td>\n",
       "      <td>LINESTRING (-122.3403 47.51334, -122.34036 47....</td>\n",
       "      <td>0.035254</td>\n",
       "      <td>1</td>\n",
       "    </tr>\n",
       "    <tr>\n",
       "      <th>2</th>\n",
       "      <td>100TH ST NW_N_NE</td>\n",
       "      <td>1</td>\n",
       "      <td>MULTILINESTRING ((-122.38757 47.70155, -122.38...</td>\n",
       "      <td>4.535595</td>\n",
       "      <td>9</td>\n",
       "    </tr>\n",
       "    <tr>\n",
       "      <th>3</th>\n",
       "      <td>100TH ST NW_N_NE</td>\n",
       "      <td>2</td>\n",
       "      <td>MULTILINESTRING ((-122.38387 47.70155, -122.38...</td>\n",
       "      <td>0.653439</td>\n",
       "      <td>7</td>\n",
       "    </tr>\n",
       "    <tr>\n",
       "      <th>4</th>\n",
       "      <td>100TH ST NW_N_NE</td>\n",
       "      <td>3</td>\n",
       "      <td>LINESTRING (-122.33512 47.70142, -122.32852 47...</td>\n",
       "      <td>0.307315</td>\n",
       "      <td>1</td>\n",
       "    </tr>\n",
       "  </tbody>\n",
       "</table>\n",
       "</div>"
      ],
      "text/plain": [
       "              osntg  ss                                           geometry  \\\n",
       "0       100TH PL NW   0  MULTILINESTRING ((-122.36206 47.7035, -122.363...   \n",
       "1       100TH PL SW   0  LINESTRING (-122.3403 47.51334, -122.34036 47....   \n",
       "2  100TH ST NW_N_NE   1  MULTILINESTRING ((-122.38757 47.70155, -122.38...   \n",
       "3  100TH ST NW_N_NE   2  MULTILINESTRING ((-122.38387 47.70155, -122.38...   \n",
       "4  100TH ST NW_N_NE   3  LINESTRING (-122.33512 47.70142, -122.32852 47...   \n",
       "\n",
       "   (dm, sum)  (ns, sum)  \n",
       "0   0.201049          1  \n",
       "1   0.035254          1  \n",
       "2   4.535595          9  \n",
       "3   0.653439          7  \n",
       "4   0.307315          1  "
      ]
     },
     "execution_count": 40,
     "metadata": {},
     "output_type": "execute_result"
    }
   ],
   "source": [
    "# perform another dissolve in order to get the righ count of segments\n",
    "# this is necessary because we want continuous segments to be counted as one\n",
    "diss_gdf.columns\n",
    "col_names = ['osntg', 'ss', 'dm', 'ns']\n",
    "diss_gdf = diss_gdf.dissolve(by = col_names[:2], aggfunc =  ['sum'], as_index = False)\n",
    "diss_gdf.head()"
   ]
  },
  {
   "cell_type": "code",
   "execution_count": 41,
   "id": "653febfb",
   "metadata": {},
   "outputs": [
    {
     "data": {
      "text/html": [
       "<div>\n",
       "<style scoped>\n",
       "    .dataframe tbody tr th:only-of-type {\n",
       "        vertical-align: middle;\n",
       "    }\n",
       "\n",
       "    .dataframe tbody tr th {\n",
       "        vertical-align: top;\n",
       "    }\n",
       "\n",
       "    .dataframe thead th {\n",
       "        text-align: right;\n",
       "    }\n",
       "</style>\n",
       "<table border=\"1\" class=\"dataframe\">\n",
       "  <thead>\n",
       "    <tr style=\"text-align: right;\">\n",
       "      <th></th>\n",
       "      <th>osntg</th>\n",
       "      <th>ss</th>\n",
       "      <th>geometry</th>\n",
       "      <th>dm</th>\n",
       "      <th>ns</th>\n",
       "    </tr>\n",
       "  </thead>\n",
       "  <tbody>\n",
       "    <tr>\n",
       "      <th>0</th>\n",
       "      <td>100TH PL NW</td>\n",
       "      <td>0</td>\n",
       "      <td>MULTILINESTRING ((-122.36206 47.7035, -122.363...</td>\n",
       "      <td>0.201049</td>\n",
       "      <td>1</td>\n",
       "    </tr>\n",
       "    <tr>\n",
       "      <th>1</th>\n",
       "      <td>100TH PL SW</td>\n",
       "      <td>0</td>\n",
       "      <td>LINESTRING (-122.3403 47.51334, -122.34036 47....</td>\n",
       "      <td>0.035254</td>\n",
       "      <td>1</td>\n",
       "    </tr>\n",
       "    <tr>\n",
       "      <th>2</th>\n",
       "      <td>100TH ST NW_N_NE</td>\n",
       "      <td>1</td>\n",
       "      <td>MULTILINESTRING ((-122.38757 47.70155, -122.38...</td>\n",
       "      <td>4.535595</td>\n",
       "      <td>9</td>\n",
       "    </tr>\n",
       "    <tr>\n",
       "      <th>3</th>\n",
       "      <td>100TH ST NW_N_NE</td>\n",
       "      <td>2</td>\n",
       "      <td>MULTILINESTRING ((-122.38387 47.70155, -122.38...</td>\n",
       "      <td>0.653439</td>\n",
       "      <td>7</td>\n",
       "    </tr>\n",
       "    <tr>\n",
       "      <th>4</th>\n",
       "      <td>100TH ST NW_N_NE</td>\n",
       "      <td>3</td>\n",
       "      <td>LINESTRING (-122.33512 47.70142, -122.32852 47...</td>\n",
       "      <td>0.307315</td>\n",
       "      <td>1</td>\n",
       "    </tr>\n",
       "  </tbody>\n",
       "</table>\n",
       "</div>"
      ],
      "text/plain": [
       "              osntg  ss                                           geometry  \\\n",
       "0       100TH PL NW   0  MULTILINESTRING ((-122.36206 47.7035, -122.363...   \n",
       "1       100TH PL SW   0  LINESTRING (-122.3403 47.51334, -122.34036 47....   \n",
       "2  100TH ST NW_N_NE   1  MULTILINESTRING ((-122.38757 47.70155, -122.38...   \n",
       "3  100TH ST NW_N_NE   2  MULTILINESTRING ((-122.38387 47.70155, -122.38...   \n",
       "4  100TH ST NW_N_NE   3  LINESTRING (-122.33512 47.70142, -122.32852 47...   \n",
       "\n",
       "         dm  ns  \n",
       "0  0.201049   1  \n",
       "1  0.035254   1  \n",
       "2  4.535595   9  \n",
       "3  0.653439   7  \n",
       "4  0.307315   1  "
      ]
     },
     "execution_count": 41,
     "metadata": {},
     "output_type": "execute_result"
    }
   ],
   "source": [
    "# rename \n",
    "diss_gdf.columns = ['osntg', 'ss', 'geometry', 'dm', 'ns']\n",
    "diss_gdf.shape\n",
    "diss_gdf.head()"
   ]
  },
  {
   "cell_type": "code",
   "execution_count": 42,
   "id": "bab4de5d",
   "metadata": {},
   "outputs": [],
   "source": [
    "# format the osntg output\n",
    "def format_osntg(sn):\n",
    "    if '_' in sn:\n",
    "        pos = sn.rfind(' ') \n",
    "        osn = sn[:pos]\n",
    "        #ost = sn[pos + 1:].replace('_', '] [')\n",
    "        #outcome = osn + ' : [' + ost + ']'\n",
    "        ost = sn[pos + 1:].replace('_', ' | ')\n",
    "        outcome = osn + ': ' + ost\n",
    "\n",
    "    else:\n",
    "        outcome = sn\n",
    "    return outcome\n"
   ]
  },
  {
   "cell_type": "code",
   "execution_count": 43,
   "id": "fa7e1423",
   "metadata": {},
   "outputs": [
    {
     "data": {
      "text/html": [
       "<div>\n",
       "<style scoped>\n",
       "    .dataframe tbody tr th:only-of-type {\n",
       "        vertical-align: middle;\n",
       "    }\n",
       "\n",
       "    .dataframe tbody tr th {\n",
       "        vertical-align: top;\n",
       "    }\n",
       "\n",
       "    .dataframe thead th {\n",
       "        text-align: right;\n",
       "    }\n",
       "</style>\n",
       "<table border=\"1\" class=\"dataframe\">\n",
       "  <thead>\n",
       "    <tr style=\"text-align: right;\">\n",
       "      <th></th>\n",
       "      <th>osntg</th>\n",
       "      <th>ss</th>\n",
       "      <th>geometry</th>\n",
       "      <th>dm</th>\n",
       "      <th>ns</th>\n",
       "    </tr>\n",
       "  </thead>\n",
       "  <tbody>\n",
       "    <tr>\n",
       "      <th>0</th>\n",
       "      <td>100TH PL NW</td>\n",
       "      <td>0</td>\n",
       "      <td>MULTILINESTRING ((-122.36206 47.7035, -122.363...</td>\n",
       "      <td>0.201049</td>\n",
       "      <td>1</td>\n",
       "    </tr>\n",
       "    <tr>\n",
       "      <th>1</th>\n",
       "      <td>100TH PL SW</td>\n",
       "      <td>0</td>\n",
       "      <td>LINESTRING (-122.3403 47.51334, -122.34036 47....</td>\n",
       "      <td>0.035254</td>\n",
       "      <td>1</td>\n",
       "    </tr>\n",
       "    <tr>\n",
       "      <th>2</th>\n",
       "      <td>100TH ST: NW | N | NE</td>\n",
       "      <td>1</td>\n",
       "      <td>MULTILINESTRING ((-122.38757 47.70155, -122.38...</td>\n",
       "      <td>4.535595</td>\n",
       "      <td>9</td>\n",
       "    </tr>\n",
       "    <tr>\n",
       "      <th>3</th>\n",
       "      <td>100TH ST: NW | N | NE</td>\n",
       "      <td>2</td>\n",
       "      <td>MULTILINESTRING ((-122.38387 47.70155, -122.38...</td>\n",
       "      <td>0.653439</td>\n",
       "      <td>7</td>\n",
       "    </tr>\n",
       "    <tr>\n",
       "      <th>4</th>\n",
       "      <td>100TH ST: NW | N | NE</td>\n",
       "      <td>3</td>\n",
       "      <td>LINESTRING (-122.33512 47.70142, -122.32852 47...</td>\n",
       "      <td>0.307315</td>\n",
       "      <td>1</td>\n",
       "    </tr>\n",
       "  </tbody>\n",
       "</table>\n",
       "</div>"
      ],
      "text/plain": [
       "                   osntg  ss  \\\n",
       "0            100TH PL NW   0   \n",
       "1            100TH PL SW   0   \n",
       "2  100TH ST: NW | N | NE   1   \n",
       "3  100TH ST: NW | N | NE   2   \n",
       "4  100TH ST: NW | N | NE   3   \n",
       "\n",
       "                                            geometry        dm  ns  \n",
       "0  MULTILINESTRING ((-122.36206 47.7035, -122.363...  0.201049   1  \n",
       "1  LINESTRING (-122.3403 47.51334, -122.34036 47....  0.035254   1  \n",
       "2  MULTILINESTRING ((-122.38757 47.70155, -122.38...  4.535595   9  \n",
       "3  MULTILINESTRING ((-122.38387 47.70155, -122.38...  0.653439   7  \n",
       "4  LINESTRING (-122.33512 47.70142, -122.32852 47...  0.307315   1  "
      ]
     },
     "execution_count": 43,
     "metadata": {},
     "output_type": "execute_result"
    }
   ],
   "source": [
    "diss_gdf['osntg'] = diss_gdf['osntg'].map(format_osntg)\n",
    "diss_gdf.head()"
   ]
  },
  {
   "cell_type": "code",
   "execution_count": 44,
   "id": "3db8958b",
   "metadata": {},
   "outputs": [
    {
     "data": {
      "text/plain": [
       "MultiLineString    1850\n",
       "LineString          968\n",
       "Name: count, dtype: int64"
      ]
     },
     "execution_count": 44,
     "metadata": {},
     "output_type": "execute_result"
    }
   ],
   "source": [
    "# see if we can collapse MultiLineStrings to LineStrings\n",
    "diss_gdf['geometry'].geom_type.value_counts()\n"
   ]
  },
  {
   "cell_type": "code",
   "execution_count": 45,
   "id": "53caec72",
   "metadata": {},
   "outputs": [
    {
     "data": {
      "text/plain": [
       "LineString         1501\n",
       "MultiLineString    1317\n",
       "Name: count, dtype: int64"
      ]
     },
     "execution_count": 45,
     "metadata": {},
     "output_type": "execute_result"
    }
   ],
   "source": [
    "diss_gdf['geometry'] = diss_gdf['geometry'].map(check_MultiLineStrings)\n",
    "diss_gdf['geometry'].geom_type.value_counts()"
   ]
  },
  {
   "cell_type": "code",
   "execution_count": 46,
   "id": "23bc9dcf",
   "metadata": {},
   "outputs": [
    {
     "name": "stdout",
     "output_type": "stream",
     "text": [
      "all_streets_diss\n"
     ]
    }
   ],
   "source": [
    "# finally, rename the CNTR streets to just C\n",
    "diss_gdf['osntg'] = diss_gdf['osntg'].str.replace('CNTR', 'C')\n",
    "out_data = diss_gdf.to_json(drop_id=True, to_wgs84=True)\n",
    "output_file_name = rc.S11_STREETS_JSON_FILE_NAME\n",
    "write_json(json_data=out_data, output_file_path ='../maps',\n",
    "               output_file_name = output_file_name, var_name = 'all_streets_diss')\n"
   ]
  },
  {
   "cell_type": "code",
   "execution_count": null,
   "id": "b9f041d1",
   "metadata": {},
   "outputs": [],
   "source": []
  }
 ],
 "metadata": {
  "kernelspec": {
   "display_name": "analysis",
   "language": "python",
   "name": "python3"
  },
  "language_info": {
   "codemirror_mode": {
    "name": "ipython",
    "version": 3
   },
   "file_extension": ".py",
   "mimetype": "text/x-python",
   "name": "python",
   "nbconvert_exporter": "python",
   "pygments_lexer": "ipython3",
   "version": "3.12.7"
  }
 },
 "nbformat": 4,
 "nbformat_minor": 5
}
