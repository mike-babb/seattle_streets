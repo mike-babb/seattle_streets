{
 "cells": [
  {
   "cell_type": "markdown",
   "id": "fed9e25b-c5b9-4aee-89cd-15a7da3945c0",
   "metadata": {},
   "source": [
    "## Part 11: export data for a web map\n",
    "michael babb\n",
    "2025 02 18"
   ]
  },
  {
   "cell_type": "code",
   "execution_count": null,
   "id": "e88ca8b2-b75d-4e72-8fc7-65c4cea61cde",
   "metadata": {},
   "outputs": [],
   "source": [
    "# standard\n",
    "import os"
   ]
  },
  {
   "cell_type": "code",
   "execution_count": null,
   "id": "0778d9a5-0c62-4724-be28-c21598d23b6f",
   "metadata": {},
   "outputs": [],
   "source": [
    "# external\n",
    "import geopandas as gpd\n",
    "import numpy as np\n",
    "import pandas as pd"
   ]
  },
  {
   "cell_type": "code",
   "execution_count": null,
   "id": "b8dac5db",
   "metadata": {},
   "outputs": [],
   "source": [
    "# custom\n",
    "import run_constants as rc\n",
    "from utils import write_gdf, write_json, keep_largest_geometry, build_gdf_from_geom, check_MultiLineStrings"
   ]
  },
  {
   "cell_type": "markdown",
   "id": "d56ea77e-ffd7-4326-b793-415f8a131ef2",
   "metadata": {},
   "source": [
    "# load the city sectors"
   ]
  },
  {
   "cell_type": "code",
   "execution_count": null,
   "id": "ddf62724-9105-44c9-b983-e4f520328fa9",
   "metadata": {},
   "outputs": [],
   "source": [
    "fpn = os.path.join(rc.OUTPUT_FILE_PATH, rc.S02_CITY_SECTORS_OUT_FILE_NAME)"
   ]
  },
  {
   "cell_type": "code",
   "execution_count": null,
   "id": "2cbdb5c1-c973-4882-b442-cf5396e90d3e",
   "metadata": {},
   "outputs": [],
   "source": [
    "gdf = gpd.read_file(filename = fpn)"
   ]
  },
  {
   "cell_type": "code",
   "execution_count": null,
   "id": "69b4418d",
   "metadata": {},
   "outputs": [],
   "source": [
    "gdf.shape"
   ]
  },
  {
   "cell_type": "code",
   "execution_count": null,
   "id": "a0f49e76",
   "metadata": {},
   "outputs": [],
   "source": [
    "gdf.head()"
   ]
  },
  {
   "cell_type": "markdown",
   "id": "aafba1df",
   "metadata": {},
   "source": [
    "#  create non-overlapping polygons"
   ]
  },
  {
   "cell_type": "code",
   "execution_count": null,
   "id": "8ae5ed24",
   "metadata": {},
   "outputs": [],
   "source": [
    "# keep only the concave bulls\n",
    "p_gdf = gdf.loc[gdf['hull_type'] == 'concave', :]"
   ]
  },
  {
   "cell_type": "code",
   "execution_count": null,
   "id": "fc6e8f96",
   "metadata": {},
   "outputs": [],
   "source": [
    "# reproject to wgs 84 utm zone 10\n",
    "p_gdf = p_gdf.to_crs(epsg = 32610)"
   ]
  },
  {
   "cell_type": "code",
   "execution_count": null,
   "id": "1f3ae2d8",
   "metadata": {},
   "outputs": [],
   "source": [
    "p_gdf.plot()"
   ]
  },
  {
   "cell_type": "code",
   "execution_count": null,
   "id": "b7550a70",
   "metadata": {},
   "outputs": [],
   "source": [
    "p_gdf.head()"
   ]
  },
  {
   "cell_type": "code",
   "execution_count": null,
   "id": "eb636395",
   "metadata": {},
   "outputs": [],
   "source": [
    "# we first need to reproject\n",
    "# and then: intersect the data so that it's nice and clean. So clean. "
   ]
  },
  {
   "cell_type": "code",
   "execution_count": null,
   "id": "4196ae65",
   "metadata": {},
   "outputs": [],
   "source": [
    "# here is what needs to be intersected and clipped\n",
    "# N and CNTR and E and CNTR\n",
    "g_names = ['N', 'CNTR', 'E']\n",
    "geom_dict = {}\n",
    "for gn in g_names:\n",
    "    geom_dict[gn] = p_gdf.loc[p_gdf['city_sector'] == gn, 'geometry'].iloc[0]"
   ]
  },
  {
   "cell_type": "code",
   "execution_count": null,
   "id": "8515d06f",
   "metadata": {},
   "outputs": [],
   "source": [
    "# time to do an intersection!\n",
    "# north / center geometry\n",
    "nc_geom = geom_dict['N'].intersection(geom_dict['CNTR'])\n",
    "# east / center geometry\n",
    "ec_geom = geom_dict['E'].intersection(geom_dict['CNTR'])\n",
    "\n",
    "# the isolated center geometry\n",
    "c_geom = geom_dict['CNTR'].difference(geom_dict['N'])\n",
    "c_geom = c_geom.difference(geom_dict['E'])\n",
    "\n",
    "# we also need only the north and east geometry. Compute the difference\n",
    "# north / center geometry\n",
    "nc_diff_geom = geom_dict['N'].difference(geom_dict['CNTR'])\n",
    "# east / center geometry\n",
    "ec_diff_geom = geom_dict['E'].difference(geom_dict['CNTR'])\n"
   ]
  },
  {
   "cell_type": "code",
   "execution_count": null,
   "id": "c3b3b0ca",
   "metadata": {},
   "outputs": [],
   "source": [
    "# gather and create a geodataframe\n",
    "geom_list = [c_geom, nc_geom, ec_geom, nc_diff_geom, ec_diff_geom]\n",
    "data_list = ['CNTR', 'NC', 'EC', 'N', 'E']\n",
    "mod_gdf = gpd.GeoDataFrame(data = {'city_sector':data_list},\n",
    "                           geometry = geom_list, crs = 32610)"
   ]
  },
  {
   "cell_type": "code",
   "execution_count": null,
   "id": "3ffc4f97",
   "metadata": {},
   "outputs": [],
   "source": [
    "# clean up the geometries\n",
    "mod_gdf = keep_largest_geometry(gdf = mod_gdf, group_col_names=['city_sector'])"
   ]
  },
  {
   "cell_type": "code",
   "execution_count": null,
   "id": "07cb074b",
   "metadata": {},
   "outputs": [],
   "source": [
    "mod_gdf.head()"
   ]
  },
  {
   "cell_type": "code",
   "execution_count": null,
   "id": "487778b2",
   "metadata": {},
   "outputs": [],
   "source": [
    "# add them to the other geodataframe with the good geometry:\n",
    "p_gdf.head()"
   ]
  },
  {
   "cell_type": "code",
   "execution_count": null,
   "id": "c79decc3",
   "metadata": {},
   "outputs": [],
   "source": [
    "mod_gdf['hull_type'] = 'concave'"
   ]
  },
  {
   "cell_type": "code",
   "execution_count": null,
   "id": "be1a3e4e",
   "metadata": {},
   "outputs": [],
   "source": [
    "col_names = p_gdf.columns.tolist()\n",
    "mod_gdf = mod_gdf[col_names]"
   ]
  },
  {
   "cell_type": "code",
   "execution_count": null,
   "id": "b3845e26",
   "metadata": {},
   "outputs": [],
   "source": [
    "# drop existing geometries in the p_gdf GDF\n",
    "p_gdf = p_gdf.loc[-p_gdf['city_sector'].isin(mod_gdf['city_sector']), :]"
   ]
  },
  {
   "cell_type": "code",
   "execution_count": null,
   "id": "b778e7fe",
   "metadata": {},
   "outputs": [],
   "source": [
    "# stack by concat\n",
    "p_gdf = pd.concat(objs = [p_gdf, mod_gdf], axis = 0)"
   ]
  },
  {
   "cell_type": "code",
   "execution_count": null,
   "id": "9c2d7a3d",
   "metadata": {},
   "outputs": [],
   "source": [
    "p_gdf = p_gdf.to_crs(epsg=4326)"
   ]
  },
  {
   "cell_type": "code",
   "execution_count": null,
   "id": "cf2f954f",
   "metadata": {},
   "outputs": [],
   "source": [
    "write_gdf(gdf = p_gdf, output_file_path=rc.OUTPUT_FILE_PATH, output_file_name=rc.S11_NON_OVERLAPPING_CITY_SECTORS_FILE_NAME)"
   ]
  },
  {
   "cell_type": "markdown",
   "id": "d092f31e",
   "metadata": {},
   "source": [
    "# create inner ring buffers\n",
    "The inner ring buffers of the different city sectors aren't used in any analysis.\n",
    "They are used in the webmap to help orient the reader for the different sectors.\n",
    "In doing so, it will make the within-sector and cross-sector added streets make\n",
    "more sense."
   ]
  },
  {
   "cell_type": "code",
   "execution_count": null,
   "id": "c42e558f",
   "metadata": {},
   "outputs": [],
   "source": [
    "# convert to WGS 84 UTM Zone 10 N, for creating the inner-ring buffers\n",
    "p_gdf = p_gdf.to_crs(epsg = 32610)"
   ]
  },
  {
   "cell_type": "code",
   "execution_count": null,
   "id": "631a2282",
   "metadata": {},
   "outputs": [],
   "source": [
    "# let's do some fun inner buffering\n",
    "output_data_list = []\n",
    "output_geom_list = []\n",
    "\n",
    "output_line_data_list = []\n",
    "output_line_geom_list = []\n",
    "for ir, row in p_gdf.iterrows():\n",
    "    city_sector = row['city_sector']\n",
    "    print(city_sector)\n",
    "    \n",
    "    # the focal geometry\n",
    "    geom = row['geometry']\n",
    "    # the perimeter\n",
    "    perim = geom.boundary\n",
    "    # a dictionary to store the previously created buffer\n",
    "    # important for creating rings\n",
    "    previous_buff_dict = {}\n",
    "    # buffer out 10 units at a time. The units are the same as the units of the\n",
    "    # geometry's coordinate system.\n",
    "    for i_dist in range(10, 101, 10):\n",
    "        # buffer the perimeter. This creates geometry that is both on the inside\n",
    "        # and outside of the input focal geometry\n",
    "        my_buff = perim.buffer(distance= i_dist)\n",
    "        # perform an intersection to get only the stuff on the inside.\n",
    "        my_buff = my_buff.intersection(geom)\n",
    "        # remove slivers and splinters\n",
    "        my_buff = build_gdf_from_geom(geom = my_buff,return_geom=True, crs = p_gdf.crs)        \n",
    "        \n",
    "        # add this cleaned geometry to the previous buffer dictionatry\n",
    "        previous_buff_dict[i_dist] = my_buff\n",
    "\n",
    "        # now, clip it to the previous buffer\n",
    "        if i_dist > 10:\n",
    "            previous_buff = previous_buff_dict[i_dist - 10] \n",
    "            # the difference is the part that doesn't overlap - this is the \n",
    "            # next ring in the series. \n",
    "            my_buff = my_buff.difference(previous_buff)\n",
    "\n",
    "            my_buff = build_gdf_from_geom(geom = my_buff, return_geom=True, crs = p_gdf.crs)        \n",
    "         \n",
    "        # this is for the polygon output \n",
    "        temp_list = [city_sector, i_dist]\n",
    "        output_data_list.append(temp_list)\n",
    "        output_geom_list.append(my_buff)\n",
    "\n",
    "        # extract the lines for these inner ring buffers. \n",
    "        # one-stop shopping\n",
    "        line_index = 0\n",
    "        for line_geom in my_buff.boundary.geoms:\n",
    "            curr_list = temp_list[:]\n",
    "            curr_list.append(line_index)\n",
    "            output_line_data_list.append(curr_list)\n",
    "            output_line_geom_list.append(line_geom)\n",
    "            line_index += 1\n",
    "\n",
    "# create the polygon output gdf\n",
    "output_gdf = gpd.GeoDataFrame(data = output_data_list, geometry = output_geom_list,\n",
    "                              crs = 'epsg:32610', columns = ['city_sector', 'distance'])\n",
    "\n",
    "# project to WGS 84\n",
    "output_gdf = output_gdf.to_crs(epsg = 4326)\n",
    "\n",
    "# create the line output gdf\n",
    "output_line_gdf = gpd.GeoDataFrame(data = output_line_data_list, geometry = output_line_geom_list,\n",
    "                              crs = 'epsg:32610', columns = ['city_sector', 'distance', 'line_index'])\n",
    "# project to WGS 84\n",
    "output_line_gdf = output_line_gdf.to_crs(epsg = 4326)"
   ]
  },
  {
   "cell_type": "code",
   "execution_count": null,
   "id": "68ed18b8",
   "metadata": {},
   "outputs": [],
   "source": [
    "# save this to disk\n",
    "write_gdf(gdf = output_gdf, output_file_path=rc.OUTPUT_FILE_PATH,\n",
    "          output_file_name=rc.S11_NON_OVERLAPPING_CITY_SECTORS_POLY_INNER_RING_BUFFER_FILE_NAME)\n",
    "write_gdf(gdf = output_line_gdf, output_file_path=rc.OUTPUT_FILE_PATH,\n",
    "          output_file_name=rc.S11_NON_OVERLAPPING_CITY_SECTORS_LINE_INNER_RING_BUFFER_FILE_NAME)"
   ]
  },
  {
   "cell_type": "code",
   "execution_count": null,
   "id": "7bb8c9b8",
   "metadata": {},
   "outputs": [],
   "source": [
    "# save the output_line_gdf as a geojson for use in a webmap.\n",
    "# we'll filter different distances in the webmap to get the visual appeal just \n",
    "# right. "
   ]
  },
  {
   "cell_type": "code",
   "execution_count": null,
   "id": "d9cbcd61",
   "metadata": {},
   "outputs": [],
   "source": [
    "temp_output_gdf = output_line_gdf.copy()\n",
    "temp_output_gdf.columns = ['cp', 'dist', 'li', 'geometry']\n",
    "temp_output_gdf['cp'] = temp_output_gdf['cp'].str.replace('CNTR', 'C')\n",
    "cs_json = temp_output_gdf.to_json(drop_id=True, to_wgs84=True)\n"
   ]
  },
  {
   "cell_type": "code",
   "execution_count": null,
   "id": "08b26623",
   "metadata": {},
   "outputs": [],
   "source": [
    "# let's save this to a geojson\n",
    "write_json(json_data=cs_json, output_file_path='../maps', output_file_name='city_sector_lines.geojson',\n",
    "           var_name = None)"
   ]
  },
  {
   "cell_type": "markdown",
   "id": "1c60134f",
   "metadata": {},
   "source": [
    "# export street data for use in a web map"
   ]
  },
  {
   "cell_type": "code",
   "execution_count": null,
   "id": "74d1f901",
   "metadata": {},
   "outputs": [],
   "source": [
    "fpn = os.path.join(rc.OUTPUT_FILE_PATH, rc.S05_MISSING_IN_FILE_NAME)"
   ]
  },
  {
   "cell_type": "code",
   "execution_count": null,
   "id": "e5ee7745",
   "metadata": {},
   "outputs": [],
   "source": [
    "gdf = gpd.read_file(filename = fpn)"
   ]
  },
  {
   "cell_type": "code",
   "execution_count": null,
   "id": "7b8aa612",
   "metadata": {},
   "outputs": [],
   "source": [
    "# dissolve - this also aggregates\n",
    "col_names = ['ord_stname_type_group','snd_group', 'street_status', 'group_id', 'dist_miles', 'geometry']\n",
    "diss_gdf = gdf[col_names].dissolve(by = col_names[:-2],\n",
    "                     aggfunc =  ['sum'], as_index = False)"
   ]
  },
  {
   "cell_type": "code",
   "execution_count": null,
   "id": "15b4a2d7",
   "metadata": {},
   "outputs": [],
   "source": [
    "# set column names\n",
    "col_names = ['ord_stname_type_group','snd_group', 'street_status', 'group_id', 'geometry', 'dist_miles']\n",
    "diss_gdf.columns = col_names"
   ]
  },
  {
   "cell_type": "code",
   "execution_count": null,
   "id": "6d3d02b6",
   "metadata": {},
   "outputs": [],
   "source": [
    "# add a column to count the number of records - this will be summed later\n",
    "diss_gdf['n_segments'] = 1\n",
    "col_names = ['osntg','sndg', 'ss', 'gi', 'geometry', 'dm', 'ns']\n",
    "diss_gdf.columns = col_names"
   ]
  },
  {
   "cell_type": "code",
   "execution_count": null,
   "id": "e93926d1",
   "metadata": {},
   "outputs": [],
   "source": [
    "# let's try dropping some columns\n",
    "drop_col_names = ['sndg', 'gi']\n",
    "diss_gdf = diss_gdf.drop(labels=drop_col_names, axis = 1)"
   ]
  },
  {
   "cell_type": "code",
   "execution_count": null,
   "id": "b2146671",
   "metadata": {},
   "outputs": [],
   "source": [
    "# perform another dissolve in order to get the righ count of segments\n",
    "# this is necessary because we want continuous segments to be counted as one\n",
    "diss_gdf.columns\n",
    "col_names = ['osntg', 'ss', 'dm', 'ns']\n",
    "diss_gdf = diss_gdf.dissolve(by = col_names[:2], aggfunc =  ['sum'], as_index = False)\n",
    "diss_gdf.head()"
   ]
  },
  {
   "cell_type": "code",
   "execution_count": null,
   "id": "653febfb",
   "metadata": {},
   "outputs": [],
   "source": [
    "# rename \n",
    "diss_gdf.columns = ['osntg', 'ss', 'geometry', 'dm', 'ns']\n",
    "diss_gdf.shape\n",
    "diss_gdf.head()"
   ]
  },
  {
   "cell_type": "code",
   "execution_count": null,
   "id": "bab4de5d",
   "metadata": {},
   "outputs": [],
   "source": [
    "# format the osntg output\n",
    "def format_osntg(sn):\n",
    "    if '_' in sn:\n",
    "        pos = sn.rfind(' ') \n",
    "        osn = sn[:pos]\n",
    "        #ost = sn[pos + 1:].replace('_', '] [')\n",
    "        #outcome = osn + ' : [' + ost + ']'\n",
    "        ost = sn[pos + 1:].replace('_', ' | ')\n",
    "        outcome = osn + ': ' + ost\n",
    "\n",
    "    else:\n",
    "        outcome = sn\n",
    "    return outcome\n"
   ]
  },
  {
   "cell_type": "code",
   "execution_count": null,
   "id": "fa7e1423",
   "metadata": {},
   "outputs": [],
   "source": [
    "diss_gdf['osntg'] = diss_gdf['osntg'].map(format_osntg)\n",
    "diss_gdf.head()"
   ]
  },
  {
   "cell_type": "code",
   "execution_count": null,
   "id": "3db8958b",
   "metadata": {},
   "outputs": [],
   "source": [
    "# see if we can collapse MultiLineStrings to LineStrings\n",
    "diss_gdf['geometry'].geom_type.value_counts()\n"
   ]
  },
  {
   "cell_type": "code",
   "execution_count": null,
   "id": "53caec72",
   "metadata": {},
   "outputs": [],
   "source": [
    "diss_gdf['geometry'] = diss_gdf['geometry'].map(check_MultiLineStrings)\n",
    "diss_gdf['geometry'].geom_type.value_counts()"
   ]
  },
  {
   "cell_type": "code",
   "execution_count": null,
   "id": "23bc9dcf",
   "metadata": {},
   "outputs": [],
   "source": [
    "# finally, rename the CNTR streets to just C\n",
    "diss_gdf['osntg'] = diss_gdf['osntg'].str.replace('CNTR', 'C')\n",
    "out_data = diss_gdf.to_json(drop_id=True, to_wgs84=True)\n",
    "output_file_name = 'all_streets_diss_v2.geojson'\n",
    "write_json(json_data=out_data, output_file_path ='../maps',\n",
    "               output_file_name = output_file_name, var_name = 'all_streets_diss')\n"
   ]
  },
  {
   "cell_type": "code",
   "execution_count": null,
   "id": "b9f041d1",
   "metadata": {},
   "outputs": [],
   "source": []
  }
 ],
 "metadata": {
  "kernelspec": {
   "display_name": "analysis",
   "language": "python",
   "name": "python3"
  },
  "language_info": {
   "codemirror_mode": {
    "name": "ipython",
    "version": 3
   },
   "file_extension": ".py",
   "mimetype": "text/x-python",
   "name": "python",
   "nbconvert_exporter": "python",
   "pygments_lexer": "ipython3",
   "version": "3.12.7"
  }
 },
 "nbformat": 4,
 "nbformat_minor": 5
}
