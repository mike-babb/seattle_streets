{
 "cells": [
  {
   "cell_type": "code",
   "execution_count": 13,
   "id": "d6efbb7d",
   "metadata": {},
   "outputs": [],
   "source": [
    "from itertools import product, combinations"
   ]
  },
  {
   "cell_type": "code",
   "execution_count": 8,
   "id": "9397091a",
   "metadata": {},
   "outputs": [],
   "source": [
    "import pandas as pd"
   ]
  },
  {
   "cell_type": "code",
   "execution_count": 9,
   "id": "b59445f9",
   "metadata": {},
   "outputs": [],
   "source": [
    "g = ['b', 'g']"
   ]
  },
  {
   "cell_type": "code",
   "execution_count": 17,
   "id": "29631cd4",
   "metadata": {},
   "outputs": [
    {
     "name": "stdout",
     "output_type": "stream",
     "text": [
      "('b', 'b')\n",
      "('b', 'g')\n",
      "('g', 'b')\n",
      "('g', 'g')\n"
     ]
    }
   ],
   "source": [
    "for gg in product(g, g):\n",
    "    print(gg)"
   ]
  },
  {
   "cell_type": "code",
   "execution_count": 10,
   "id": "989b0950",
   "metadata": {},
   "outputs": [],
   "source": [
    "dow = ['mo', 'tu', 'we', 'th', 'fr', 'sa', 'su']"
   ]
  },
  {
   "cell_type": "code",
   "execution_count": null,
   "id": "50a8ab5b",
   "metadata": {},
   "outputs": [],
   "source": []
  },
  {
   "cell_type": "code",
   "execution_count": null,
   "id": "835e59a2",
   "metadata": {},
   "outputs": [],
   "source": []
  },
  {
   "cell_type": "code",
   "execution_count": null,
   "id": "ded7b9ae",
   "metadata": {},
   "outputs": [],
   "source": []
  },
  {
   "cell_type": "code",
   "execution_count": 14,
   "id": "c700e294",
   "metadata": {},
   "outputs": [
    {
     "ename": "TypeError",
     "evalue": "'list' object cannot be interpreted as an integer",
     "output_type": "error",
     "traceback": [
      "\u001b[31m---------------------------------------------------------------------------\u001b[39m",
      "\u001b[31mTypeError\u001b[39m                                 Traceback (most recent call last)",
      "\u001b[36mCell\u001b[39m\u001b[36m \u001b[39m\u001b[32mIn[14]\u001b[39m\u001b[32m, line 1\u001b[39m\n\u001b[32m----> \u001b[39m\u001b[32m1\u001b[39m \u001b[38;5;28;01mfor\u001b[39;00m gg \u001b[38;5;129;01min\u001b[39;00m combinations(g, dow):\n\u001b[32m      2\u001b[39m     \u001b[38;5;28mprint\u001b[39m(gg)\n",
      "\u001b[31mTypeError\u001b[39m: 'list' object cannot be interpreted as an integer"
     ]
    }
   ],
   "source": [
    "for gg in combinations(g, dow):\n",
    "    print(gg)"
   ]
  },
  {
   "cell_type": "code",
   "execution_count": null,
   "id": "8c07b492",
   "metadata": {},
   "outputs": [],
   "source": []
  }
 ],
 "metadata": {
  "kernelspec": {
   "display_name": "analysis",
   "language": "python",
   "name": "python3"
  },
  "language_info": {
   "codemirror_mode": {
    "name": "ipython",
    "version": 3
   },
   "file_extension": ".py",
   "mimetype": "text/x-python",
   "name": "python",
   "nbconvert_exporter": "python",
   "pygments_lexer": "ipython3",
   "version": "3.12.7"
  }
 },
 "nbformat": 4,
 "nbformat_minor": 5
}
