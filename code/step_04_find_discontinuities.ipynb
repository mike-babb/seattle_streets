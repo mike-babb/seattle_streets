{
 "cells": [
  {
   "cell_type": "markdown",
   "id": "fed9e25b-c5b9-4aee-89cd-15a7da3945c0",
   "metadata": {},
   "source": [
    "# Part 03: Find the discontinuities in Seattle's streets\n",
    "michael babb  \n",
    "2024 11 24"
   ]
  },
  {
   "cell_type": "code",
   "execution_count": 1,
   "id": "e88ca8b2-b75d-4e72-8fc7-65c4cea61cde",
   "metadata": {},
   "outputs": [],
   "source": [
    "# standard\n",
    "import os"
   ]
  },
  {
   "cell_type": "code",
   "execution_count": 2,
   "id": "0778d9a5-0c62-4724-be28-c21598d23b6f",
   "metadata": {},
   "outputs": [],
   "source": [
    "# external\n",
    "import geopandas as gpd\n",
    "import networkx as nx\n",
    "import numpy as np\n",
    "import pandas as pd\n",
    "from shapely.geometry import LineString, Point"
   ]
  },
  {
   "cell_type": "code",
   "execution_count": 3,
   "id": "2fc61400-c637-4828-820d-56c2cdd14942",
   "metadata": {},
   "outputs": [],
   "source": [
    "# custom\n",
    "import run_constants as rc\n",
    "from utils import *\n",
    "from geodataio import df_operations as dfo"
   ]
  },
  {
   "cell_type": "markdown",
   "id": "d56ea77e-ffd7-4326-b793-415f8a131ef2",
   "metadata": {},
   "source": [
    "# load the working seattle street network data"
   ]
  },
  {
   "cell_type": "code",
   "execution_count": 4,
   "id": "ddf62724-9105-44c9-b983-e4f520328fa9",
   "metadata": {},
   "outputs": [],
   "source": [
    "fpn = os.path.join(rc.OUTPUT_FILE_PATH, rc.S04_SND_WORKING_IN_FILE_NAME)"
   ]
  },
  {
   "cell_type": "code",
   "execution_count": 5,
   "id": "2cbdb5c1-c973-4882-b442-cf5396e90d3e",
   "metadata": {},
   "outputs": [],
   "source": [
    "gdf = gpd.read_file(filename = fpn)"
   ]
  },
  {
   "cell_type": "code",
   "execution_count": 6,
   "id": "390b341e",
   "metadata": {},
   "outputs": [
    {
     "data": {
      "text/plain": [
       "(25773, 44)"
      ]
     },
     "execution_count": 6,
     "metadata": {},
     "output_type": "execute_result"
    }
   ],
   "source": [
    "gdf.shape"
   ]
  },
  {
   "cell_type": "markdown",
   "id": "7ee171e0-b275-4f73-9ec5-e8a2a718d55d",
   "metadata": {},
   "source": [
    "# load the node data"
   ]
  },
  {
   "cell_type": "code",
   "execution_count": 7,
   "id": "81e88fff-cc66-47fd-bc60-fb253a9f110f",
   "metadata": {},
   "outputs": [],
   "source": [
    "fpn = os.path.join(rc.OUTPUT_FILE_PATH, rc.S04_NODE_IN_FILE_NAME)"
   ]
  },
  {
   "cell_type": "code",
   "execution_count": 8,
   "id": "e67fed54-4d3b-45ca-8a41-2f9e7103a699",
   "metadata": {},
   "outputs": [],
   "source": [
    "node_gdf = gpd.read_file(filename = fpn)"
   ]
  },
  {
   "cell_type": "code",
   "execution_count": 9,
   "id": "26bac731-425e-409f-bb41-c3a5d1a6bf2b",
   "metadata": {},
   "outputs": [
    {
     "data": {
      "text/html": [
       "<div>\n",
       "<style scoped>\n",
       "    .dataframe tbody tr th:only-of-type {\n",
       "        vertical-align: middle;\n",
       "    }\n",
       "\n",
       "    .dataframe tbody tr th {\n",
       "        vertical-align: top;\n",
       "    }\n",
       "\n",
       "    .dataframe thead th {\n",
       "        text-align: right;\n",
       "    }\n",
       "</style>\n",
       "<table border=\"1\" class=\"dataframe\">\n",
       "  <thead>\n",
       "    <tr style=\"text-align: right;\">\n",
       "      <th></th>\n",
       "      <th>node_id</th>\n",
       "      <th>geometry</th>\n",
       "    </tr>\n",
       "  </thead>\n",
       "  <tbody>\n",
       "    <tr>\n",
       "      <th>0</th>\n",
       "      <td>17740</td>\n",
       "      <td>POINT (-122.32287 47.52982)</td>\n",
       "    </tr>\n",
       "    <tr>\n",
       "      <th>1</th>\n",
       "      <td>11391</td>\n",
       "      <td>POINT (-122.32402 47.61849)</td>\n",
       "    </tr>\n",
       "    <tr>\n",
       "      <th>2</th>\n",
       "      <td>982</td>\n",
       "      <td>POINT (-122.29193 47.7649)</td>\n",
       "    </tr>\n",
       "    <tr>\n",
       "      <th>3</th>\n",
       "      <td>11695</td>\n",
       "      <td>POINT (-122.30782 47.61411)</td>\n",
       "    </tr>\n",
       "    <tr>\n",
       "      <th>4</th>\n",
       "      <td>6257</td>\n",
       "      <td>POINT (-122.38214 47.67456)</td>\n",
       "    </tr>\n",
       "  </tbody>\n",
       "</table>\n",
       "</div>"
      ],
      "text/plain": [
       "   node_id                     geometry\n",
       "0    17740  POINT (-122.32287 47.52982)\n",
       "1    11391  POINT (-122.32402 47.61849)\n",
       "2      982   POINT (-122.29193 47.7649)\n",
       "3    11695  POINT (-122.30782 47.61411)\n",
       "4     6257  POINT (-122.38214 47.67456)"
      ]
     },
     "execution_count": 9,
     "metadata": {},
     "output_type": "execute_result"
    }
   ],
   "source": [
    "node_gdf.head()"
   ]
  },
  {
   "cell_type": "code",
   "execution_count": 10,
   "id": "42a1ff85-d812-4f94-aff7-ad94f57cfba7",
   "metadata": {},
   "outputs": [],
   "source": [
    "node_gdf['node_id'] = node_gdf['node_id'].astype(int)"
   ]
  },
  {
   "cell_type": "code",
   "execution_count": 11,
   "id": "65c710c8-40db-4bc0-af3a-78c6c64e495b",
   "metadata": {},
   "outputs": [],
   "source": [
    "node_gdf['coords'] = node_gdf['geometry'].map(lambda x: x.coords[0])"
   ]
  },
  {
   "cell_type": "code",
   "execution_count": 12,
   "id": "ac7dff3c-6d52-4b80-b259-2214ef6c131a",
   "metadata": {},
   "outputs": [
    {
     "data": {
      "text/html": [
       "<div>\n",
       "<style scoped>\n",
       "    .dataframe tbody tr th:only-of-type {\n",
       "        vertical-align: middle;\n",
       "    }\n",
       "\n",
       "    .dataframe tbody tr th {\n",
       "        vertical-align: top;\n",
       "    }\n",
       "\n",
       "    .dataframe thead th {\n",
       "        text-align: right;\n",
       "    }\n",
       "</style>\n",
       "<table border=\"1\" class=\"dataframe\">\n",
       "  <thead>\n",
       "    <tr style=\"text-align: right;\">\n",
       "      <th></th>\n",
       "      <th>node_id</th>\n",
       "      <th>geometry</th>\n",
       "      <th>coords</th>\n",
       "    </tr>\n",
       "  </thead>\n",
       "  <tbody>\n",
       "    <tr>\n",
       "      <th>0</th>\n",
       "      <td>17740</td>\n",
       "      <td>POINT (-122.32287 47.52982)</td>\n",
       "      <td>(-122.32287444824671, 47.529819957875)</td>\n",
       "    </tr>\n",
       "    <tr>\n",
       "      <th>1</th>\n",
       "      <td>11391</td>\n",
       "      <td>POINT (-122.32402 47.61849)</td>\n",
       "      <td>(-122.32401964037119, 47.61848906651073)</td>\n",
       "    </tr>\n",
       "    <tr>\n",
       "      <th>2</th>\n",
       "      <td>982</td>\n",
       "      <td>POINT (-122.29193 47.7649)</td>\n",
       "      <td>(-122.29192836110747, 47.764904310419276)</td>\n",
       "    </tr>\n",
       "    <tr>\n",
       "      <th>3</th>\n",
       "      <td>11695</td>\n",
       "      <td>POINT (-122.30782 47.61411)</td>\n",
       "      <td>(-122.30781531879083, 47.61410595110372)</td>\n",
       "    </tr>\n",
       "    <tr>\n",
       "      <th>4</th>\n",
       "      <td>6257</td>\n",
       "      <td>POINT (-122.38214 47.67456)</td>\n",
       "      <td>(-122.38214200036303, 47.67455801597557)</td>\n",
       "    </tr>\n",
       "  </tbody>\n",
       "</table>\n",
       "</div>"
      ],
      "text/plain": [
       "   node_id                     geometry  \\\n",
       "0    17740  POINT (-122.32287 47.52982)   \n",
       "1    11391  POINT (-122.32402 47.61849)   \n",
       "2      982   POINT (-122.29193 47.7649)   \n",
       "3    11695  POINT (-122.30782 47.61411)   \n",
       "4     6257  POINT (-122.38214 47.67456)   \n",
       "\n",
       "                                      coords  \n",
       "0     (-122.32287444824671, 47.529819957875)  \n",
       "1   (-122.32401964037119, 47.61848906651073)  \n",
       "2  (-122.29192836110747, 47.764904310419276)  \n",
       "3   (-122.30781531879083, 47.61410595110372)  \n",
       "4   (-122.38214200036303, 47.67455801597557)  "
      ]
     },
     "execution_count": 12,
     "metadata": {},
     "output_type": "execute_result"
    }
   ],
   "source": [
    "node_gdf.head()"
   ]
  },
  {
   "cell_type": "code",
   "execution_count": 13,
   "id": "6b5cd5df-cf8d-4d55-8595-2c83b8140cd9",
   "metadata": {},
   "outputs": [
    {
     "data": {
      "text/plain": [
       "node_id        int32\n",
       "geometry    geometry\n",
       "coords        object\n",
       "dtype: object"
      ]
     },
     "execution_count": 13,
     "metadata": {},
     "output_type": "execute_result"
    }
   ],
   "source": [
    "node_gdf.dtypes"
   ]
  },
  {
   "cell_type": "code",
   "execution_count": 14,
   "id": "d26b04eb-ebbf-4b3c-a2a2-f7e5604a695a",
   "metadata": {},
   "outputs": [],
   "source": [
    "# zap the node id and the coords into a dictionary\n",
    "node_dict = {}\n",
    "for i, row in node_gdf.iterrows():\n",
    "    node_dict[row['node_id']] = row['coords']"
   ]
  },
  {
   "cell_type": "markdown",
   "id": "e3cc818f-24c9-4a7d-8f33-e516cde7dd55",
   "metadata": {},
   "source": [
    "# find missing segments"
   ]
  },
  {
   "cell_type": "code",
   "execution_count": 15,
   "id": "c51ddb74",
   "metadata": {},
   "outputs": [
    {
     "data": {
      "text/plain": [
       "Index(['f_intr_id', 't_intr_id', 'snd_id', 'snd_feacode', 'citycode',\n",
       "       'stname_id', 'st_code', 'arterial_code', 'segment_type', 'agency_code',\n",
       "       'access_code', 'divided_code', 'structure_type', 'legalloc_code',\n",
       "       'vehicle_use_code', 'gis_seg_length', 'l_adrs_from', 'l_adrs_to',\n",
       "       'r_adrs_from', 'r_adrs_to', 'ord_pre_dir', 'ord_street_name',\n",
       "       'ord_street_type', 'ord_suf_dir', 'ord_stname_concat', 'l_city',\n",
       "       'l_state', 'l_zip', 'r_city', 'r_state', 'r_zip', 'sndseg_update',\n",
       "       'compkey', 'comptype', 'unitid', 'unitid2', 'city_portion',\n",
       "       'ord_stname_unique', 'group_id', 'sort_order', 'ord_stname_type',\n",
       "       'city_portion_group', 'ord_stname_type_group', 'geometry'],\n",
       "      dtype='object')"
      ]
     },
     "execution_count": 15,
     "metadata": {},
     "output_type": "execute_result"
    }
   ],
   "source": [
    "gdf.columns"
   ]
  },
  {
   "cell_type": "code",
   "execution_count": 16,
   "id": "f66e8c67-7363-44b2-a812-f7c38d5619b2",
   "metadata": {},
   "outputs": [],
   "source": [
    "# create a weight variable from the gis_segment_length variable\n",
    "gdf['weight'] = gdf['gis_seg_length']"
   ]
  },
  {
   "cell_type": "code",
   "execution_count": 17,
   "id": "58d63e28-b0e3-4643-aa49-e14e498065fa",
   "metadata": {},
   "outputs": [],
   "source": [
    "# only select columns names used in subsequent steps\n",
    "col_names = ['f_intr_id',\n",
    "'t_intr_id',\n",
    "'snd_id',\n",
    "'snd_feacode',\n",
    "'gis_seg_length',\n",
    "'ord_street_name',\n",
    "'ord_street_type',\n",
    "'ord_stname_type',\n",
    "'ord_stname_concat',\n",
    "'ord_stname_unique', \n",
    "'ord_stname_type_group',\n",
    "'city_portion',\n",
    "'city_portion_group',\n",
    "'weight',\n",
    "'group_id',\n",
    "'sort_order',\n",
    "'geometry']"
   ]
  },
  {
   "cell_type": "code",
   "execution_count": 18,
   "id": "a6d7fd5a-93e1-47de-96e0-29eebc7e4a21",
   "metadata": {},
   "outputs": [],
   "source": [
    "gdf = gdf[col_names].copy()"
   ]
  },
  {
   "cell_type": "code",
   "execution_count": 19,
   "id": "0fc359c3",
   "metadata": {},
   "outputs": [
    {
     "data": {
      "text/plain": [
       "50338"
      ]
     },
     "execution_count": 19,
     "metadata": {},
     "output_type": "execute_result"
    }
   ],
   "source": [
    "# what's the current max snd ID?\n",
    "gdf['snd_id'].max()"
   ]
  },
  {
   "cell_type": "code",
   "execution_count": 20,
   "id": "6dfe45d2",
   "metadata": {},
   "outputs": [
    {
     "data": {
      "text/plain": [
       "65536"
      ]
     },
     "execution_count": 20,
     "metadata": {},
     "output_type": "execute_result"
    }
   ],
   "source": [
    "# what's 2^16? start adding IDs at this value?\n",
    "2**16"
   ]
  },
  {
   "cell_type": "code",
   "execution_count": 21,
   "id": "f0a069b7",
   "metadata": {},
   "outputs": [
    {
     "data": {
      "text/plain": [
       "Index(['f_intr_id', 't_intr_id', 'snd_id', 'snd_feacode', 'gis_seg_length',\n",
       "       'ord_street_name', 'ord_street_type', 'ord_stname_type',\n",
       "       'ord_stname_concat', 'ord_stname_unique', 'ord_stname_type_group',\n",
       "       'city_portion', 'city_portion_group', 'weight', 'group_id',\n",
       "       'sort_order', 'geometry'],\n",
       "      dtype='object')"
      ]
     },
     "execution_count": 21,
     "metadata": {},
     "output_type": "execute_result"
    }
   ],
   "source": [
    "gdf.columns"
   ]
  },
  {
   "cell_type": "code",
   "execution_count": 22,
   "id": "1c60002e",
   "metadata": {},
   "outputs": [],
   "source": [
    "testo = gdf.loc[gdf['ord_street_name'] == 'NEBRASKA', :]"
   ]
  },
  {
   "cell_type": "code",
   "execution_count": 23,
   "id": "b48b2553",
   "metadata": {},
   "outputs": [
    {
     "data": {
      "text/html": [
       "<div>\n",
       "<style scoped>\n",
       "    .dataframe tbody tr th:only-of-type {\n",
       "        vertical-align: middle;\n",
       "    }\n",
       "\n",
       "    .dataframe tbody tr th {\n",
       "        vertical-align: top;\n",
       "    }\n",
       "\n",
       "    .dataframe thead th {\n",
       "        text-align: right;\n",
       "    }\n",
       "</style>\n",
       "<table border=\"1\" class=\"dataframe\">\n",
       "  <thead>\n",
       "    <tr style=\"text-align: right;\">\n",
       "      <th></th>\n",
       "      <th>f_intr_id</th>\n",
       "      <th>t_intr_id</th>\n",
       "      <th>snd_id</th>\n",
       "      <th>snd_feacode</th>\n",
       "      <th>gis_seg_length</th>\n",
       "      <th>ord_street_name</th>\n",
       "      <th>ord_street_type</th>\n",
       "      <th>ord_stname_type</th>\n",
       "      <th>ord_stname_concat</th>\n",
       "      <th>ord_stname_unique</th>\n",
       "      <th>ord_stname_type_group</th>\n",
       "      <th>city_portion</th>\n",
       "      <th>city_portion_group</th>\n",
       "      <th>weight</th>\n",
       "      <th>group_id</th>\n",
       "      <th>sort_order</th>\n",
       "      <th>geometry</th>\n",
       "    </tr>\n",
       "  </thead>\n",
       "  <tbody>\n",
       "    <tr>\n",
       "      <th>21592</th>\n",
       "      <td>7667</td>\n",
       "      <td>7707</td>\n",
       "      <td>15592</td>\n",
       "      <td>1</td>\n",
       "      <td>150.029545</td>\n",
       "      <td>NEBRASKA</td>\n",
       "      <td>ST</td>\n",
       "      <td>NEBRASKA ST</td>\n",
       "      <td>NEBRASKA ST</td>\n",
       "      <td>NEBRASKA ST W</td>\n",
       "      <td>NEBRASKA ST W_S</td>\n",
       "      <td>W</td>\n",
       "      <td>W_S</td>\n",
       "      <td>150.029545</td>\n",
       "      <td>1</td>\n",
       "      <td>NEBRASKA</td>\n",
       "      <td>LINESTRING (-122.41747 47.66069, -122.41745 47...</td>\n",
       "    </tr>\n",
       "    <tr>\n",
       "      <th>21593</th>\n",
       "      <td>7707</td>\n",
       "      <td>7745</td>\n",
       "      <td>15602</td>\n",
       "      <td>1</td>\n",
       "      <td>292.030442</td>\n",
       "      <td>NEBRASKA</td>\n",
       "      <td>ST</td>\n",
       "      <td>NEBRASKA ST</td>\n",
       "      <td>NEBRASKA ST</td>\n",
       "      <td>NEBRASKA ST W</td>\n",
       "      <td>NEBRASKA ST W_S</td>\n",
       "      <td>W</td>\n",
       "      <td>W_S</td>\n",
       "      <td>292.030442</td>\n",
       "      <td>1</td>\n",
       "      <td>NEBRASKA</td>\n",
       "      <td>LINESTRING (-122.41721 47.66034, -122.4161 47....</td>\n",
       "    </tr>\n",
       "    <tr>\n",
       "      <th>21594</th>\n",
       "      <td>7777</td>\n",
       "      <td>7745</td>\n",
       "      <td>15617</td>\n",
       "      <td>1</td>\n",
       "      <td>236.185868</td>\n",
       "      <td>NEBRASKA</td>\n",
       "      <td>ST</td>\n",
       "      <td>NEBRASKA ST</td>\n",
       "      <td>NEBRASKA ST</td>\n",
       "      <td>NEBRASKA ST W</td>\n",
       "      <td>NEBRASKA ST W_S</td>\n",
       "      <td>W</td>\n",
       "      <td>W_S</td>\n",
       "      <td>236.185868</td>\n",
       "      <td>1</td>\n",
       "      <td>NEBRASKA</td>\n",
       "      <td>LINESTRING (-122.4152 47.65985, -122.4161 47.6...</td>\n",
       "    </tr>\n",
       "    <tr>\n",
       "      <th>21595</th>\n",
       "      <td>16353</td>\n",
       "      <td>16302</td>\n",
       "      <td>32147</td>\n",
       "      <td>1</td>\n",
       "      <td>973.211903</td>\n",
       "      <td>NEBRASKA</td>\n",
       "      <td>ST</td>\n",
       "      <td>NEBRASKA ST</td>\n",
       "      <td>S NEBRASKA ST</td>\n",
       "      <td>S NEBRASKA ST</td>\n",
       "      <td>NEBRASKA ST W_S</td>\n",
       "      <td>S</td>\n",
       "      <td>W_S</td>\n",
       "      <td>973.211903</td>\n",
       "      <td>1</td>\n",
       "      <td>NEBRASKA</td>\n",
       "      <td>LINESTRING (-122.32104 47.5489, -122.31899 47....</td>\n",
       "    </tr>\n",
       "    <tr>\n",
       "      <th>21596</th>\n",
       "      <td>7707</td>\n",
       "      <td>7706</td>\n",
       "      <td>45368</td>\n",
       "      <td>0</td>\n",
       "      <td>16.710732</td>\n",
       "      <td>NEBRASKA</td>\n",
       "      <td>ST</td>\n",
       "      <td>NEBRASKA ST</td>\n",
       "      <td>NEBRASKA ST</td>\n",
       "      <td>NEBRASKA ST W</td>\n",
       "      <td>NEBRASKA ST W_S</td>\n",
       "      <td>W</td>\n",
       "      <td>W_S</td>\n",
       "      <td>16.710732</td>\n",
       "      <td>1</td>\n",
       "      <td>NEBRASKA</td>\n",
       "      <td>LINESTRING (-122.41721 47.66034, -122.41715 47...</td>\n",
       "    </tr>\n",
       "  </tbody>\n",
       "</table>\n",
       "</div>"
      ],
      "text/plain": [
       "       f_intr_id  t_intr_id  snd_id  snd_feacode  gis_seg_length  \\\n",
       "21592       7667       7707   15592            1      150.029545   \n",
       "21593       7707       7745   15602            1      292.030442   \n",
       "21594       7777       7745   15617            1      236.185868   \n",
       "21595      16353      16302   32147            1      973.211903   \n",
       "21596       7707       7706   45368            0       16.710732   \n",
       "\n",
       "      ord_street_name ord_street_type ord_stname_type ord_stname_concat  \\\n",
       "21592        NEBRASKA              ST     NEBRASKA ST       NEBRASKA ST   \n",
       "21593        NEBRASKA              ST     NEBRASKA ST       NEBRASKA ST   \n",
       "21594        NEBRASKA              ST     NEBRASKA ST       NEBRASKA ST   \n",
       "21595        NEBRASKA              ST     NEBRASKA ST     S NEBRASKA ST   \n",
       "21596        NEBRASKA              ST     NEBRASKA ST       NEBRASKA ST   \n",
       "\n",
       "      ord_stname_unique ord_stname_type_group city_portion city_portion_group  \\\n",
       "21592     NEBRASKA ST W       NEBRASKA ST W_S            W                W_S   \n",
       "21593     NEBRASKA ST W       NEBRASKA ST W_S            W                W_S   \n",
       "21594     NEBRASKA ST W       NEBRASKA ST W_S            W                W_S   \n",
       "21595     S NEBRASKA ST       NEBRASKA ST W_S            S                W_S   \n",
       "21596     NEBRASKA ST W       NEBRASKA ST W_S            W                W_S   \n",
       "\n",
       "           weight  group_id sort_order  \\\n",
       "21592  150.029545         1   NEBRASKA   \n",
       "21593  292.030442         1   NEBRASKA   \n",
       "21594  236.185868         1   NEBRASKA   \n",
       "21595  973.211903         1   NEBRASKA   \n",
       "21596   16.710732         1   NEBRASKA   \n",
       "\n",
       "                                                geometry  \n",
       "21592  LINESTRING (-122.41747 47.66069, -122.41745 47...  \n",
       "21593  LINESTRING (-122.41721 47.66034, -122.4161 47....  \n",
       "21594  LINESTRING (-122.4152 47.65985, -122.4161 47.6...  \n",
       "21595  LINESTRING (-122.32104 47.5489, -122.31899 47....  \n",
       "21596  LINESTRING (-122.41721 47.66034, -122.41715 47...  "
      ]
     },
     "execution_count": 23,
     "metadata": {},
     "output_type": "execute_result"
    }
   ],
   "source": [
    "testo.head()"
   ]
  },
  {
   "cell_type": "code",
   "execution_count": 26,
   "id": "e5fab916-d87a-4d24-b079-7ac593c4bfc7",
   "metadata": {
    "scrolled": true
   },
   "outputs": [
    {
     "name": "stdout",
     "output_type": "stream",
     "text": [
      "COMSTOCK ST W_CNTR\n"
     ]
    }
   ],
   "source": [
    "# here is where the discontinuities are identified and the \"missing\" segments are created.\n",
    "# a full run, without saving intermediate data, takes less than a minute.\n",
    "# saving intermediate data takes an additional ~5 minutes.\n",
    "\n",
    "write_intermediate = False\n",
    "use_v1 = False\n",
    "\n",
    "# street_status\n",
    "# 0: continuous street\n",
    "# 1: discontinuous\n",
    "# 2: added street: intra-connection\n",
    "# 3: added street: inter-connection\n",
    "\n",
    "# hold the output\n",
    "output_gdf_list = []\n",
    "shortest_added_path = []\n",
    "gdf['snd_group'] = int(0)\n",
    "snd_group_count = -1\n",
    "# use this value to start the ID number for the added segements.\n",
    "temp_snd_id = 2**16\n",
    "# get the list of unique names\n",
    "osntg_list = gdf['ord_stname_type_group'].unique().tolist()\n",
    "\n",
    "# uncomment to test specifc street\n",
    "#osntg_list = ['7TH AVE N', 'W GALER ST']\n",
    "#osntg_list = ['GALER ST']\n",
    "#osntg_list = ['15TH AVE W']\n",
    "#osntg_list = ['WOODLAWN AVE N']\n",
    "osntg_list = ['COMSTOCK ST W_CNTR']\n",
    "\n",
    "# the trouble_list, for lack of a beter name, are streets with parallel edges\n",
    "# we can record the names of these streets. \n",
    "trouble_list = []\n",
    "\n",
    "for osntg in osntg_list[:None]:\n",
    "    print(osntg)\n",
    "    \n",
    "    # subset the gdf by ord_stname_concat\n",
    "    sub_gdf = gdf.loc[gdf['ord_stname_type_group'] == osntg, :].copy().reset_index(drop = True)\n",
    "    unique_id_list = sub_gdf['group_id'].unique().tolist()\n",
    "    \n",
    "    for gi in unique_id_list:\n",
    "        \n",
    "        temp_gdf = sub_gdf.loc[sub_gdf['group_id'] == gi, :].copy()\n",
    "        \n",
    "        # create the graph for a single street.\n",
    "        # For example, all streets named W GALER ST are a single graph.\n",
    "        # this is an undirected graph.\n",
    "        fg = nx.from_pandas_edgelist(df = temp_gdf, source = 'f_intr_id', target = 't_intr_id', edge_attr=True)\n",
    "        \n",
    "        if temp_gdf.shape[0] != fg.number_of_edges():\n",
    "            trouble_list.append(osntg)            \n",
    "            \n",
    "            # subsequent steps need a single-edge graph. \n",
    "            # Parallel edges are not allowed. \n",
    "            # so, let's return the edges last added to the graph.\n",
    "            mod_edge_list = []\n",
    "            for ed in fg.edges.data():\n",
    "                mod_edge_list.append(ed[2]['snd_id'])\n",
    "            temp_gdf = temp_gdf.loc[temp_gdf['snd_id'].isin(mod_edge_list), :]\n",
    "            \n",
    "        # get the list of nodes in the graph.\n",
    "        node_list = list(fg.nodes)\n",
    "        \n",
    "        # a list of the snd groups - this is necessary to match street segments to nodes\n",
    "        # nx.connected_components() identifies disconnected graphs\n",
    "        for cc in nx.connected_components(G = fg):\n",
    "            # cc is the sub graph\n",
    "            sub_graph = fg.subgraph(cc).copy()\n",
    "            # this is the edge data        \n",
    "            edge_data_list = sub_graph.edges.data()        \n",
    "            # this marks the street(s) in each sub graph\n",
    "            snd_id_list = []\n",
    "            for edl in edge_data_list:                        \n",
    "                snd_id_list.append(edl[2]['snd_id'])        \n",
    "            snd_group_count += 1\n",
    "            # this will update the gdf per street name with the groups of streets\n",
    "            temp_gdf.loc[temp_gdf['snd_id'].isin(snd_id_list), 'snd_group'] = snd_group_count     \n",
    "        \n",
    "        # this is the number of unique snd_groups\n",
    "        # also the number of discontinuities\n",
    "        snd_group_id_list = temp_gdf['snd_group'].unique()    \n",
    "        \n",
    "        n_discontinuities = len(snd_group_id_list)    \n",
    "        \n",
    "        if n_discontinuities > 1:\n",
    "\n",
    "            # process for the sub graphs\n",
    "            node_snd_group_dict = {}\n",
    "            # a node - an intersection - can have more than one street.\n",
    "            # we need to update the node snd group dict for every street\n",
    "            # identify each edge that each node is on\n",
    "            for ir, row in temp_gdf.iterrows():       \n",
    "                fn = row['f_intr_id']\n",
    "                tn = row['t_intr_id']\n",
    "                #osn = row['ord_street_name']\n",
    "                #osnt = row['ord_stname_type']\n",
    "                #osnu = row['ord_stname_concat']\n",
    "\n",
    "                snd_group_id = row['snd_group']\n",
    "                node_snd_group_dict[fn] = snd_group_id\n",
    "                node_snd_group_dict[tn] = snd_group_id                                             \n",
    "            \n",
    "            # create a list of available edges - these are the missing segments\n",
    "            # these are formed from the non-edges of the graph.        \n",
    "            avail_edges = []\n",
    "\n",
    "            # compute the degree centrality \n",
    "            node_centrality_dict = nx.degree_centrality(G = fg)\n",
    "\n",
    "            # dictionary to hold available edges\n",
    "            # let's only make the distance calculation once, yeah?\n",
    "            # it's a simple calculation, but even more simple to store it. \n",
    "            node_dist_dict = {}\n",
    "            # enumerate the non-edges\n",
    "            non_edge_count = 0\n",
    "            # the total number of non-edges\n",
    "            diff_non_edge_count = 0\n",
    "            # the number of non-edges that connect disconnected components\n",
    "            for ne in nx.non_edges(graph = fg):    \n",
    "                non_edge_count += 1\n",
    "                # ne is a tuple of from / to nodes.\n",
    "                # create available edges if the nodes are not on the same segment\n",
    "                # this will decrease the potential solution space\n",
    "                if node_snd_group_dict[ne[0]] != node_snd_group_dict[ne[1]]:\n",
    "                    diff_non_edge_count += 1\n",
    "                    # calculate the straight-line distance between two nodes. \n",
    "                    # convert to feet to match the existing distance / weight variable\n",
    "                    weight = points2distance(node_dict[ne[0]], node_dict[ne[1]], unit = 'miles') * 5280\n",
    "                    \n",
    "                    # build the output tuple\n",
    "                    if use_v1:\n",
    "                        # this does not use node centrality\n",
    "                        output = (ne[0], ne[1], {'weight':weight})\n",
    "                    else:\n",
    "                        # let's get the node centrality and use its inverse to further weight distances                     \n",
    "                        ne_0_nc = node_centrality_dict[ne[0]]\n",
    "                        ne_1_nc = node_centrality_dict[ne[1]]\n",
    "                        edge_weight = weight * (ne_0_nc * ne_1_nc)\n",
    "                        output = (ne[0], ne[1], {'weight':edge_weight})                        \n",
    "                    # add to the distance dict\n",
    "                    node_dist_dict[(ne[0], ne[1])] = weight \n",
    "                    node_dist_dict[(ne[1], ne[0])] = weight \n",
    "                    avail_edges.append(output)\n",
    "\n",
    "            # we just calculated all of the potential segments that span discontinuities\n",
    "            # nx.k_edge_augmentation() creates the potential edges in a graph by adding as\n",
    "            # few edges as possible. In a street network, with multiple disconnected\n",
    "            # components, there is really one way to minimally connect the disparate components\n",
    "            # to create full connectivity. And it's the shortest geographic segment in this case!\n",
    "            # weighted graph traversal works by accumulating as little weight as possible. \n",
    "            \n",
    "            # this will store the output\n",
    "            data_list = []\n",
    "            line_list = []\n",
    "            # once nx.k_edge_augmentation() finishes, it returns a generator with the added edges that\n",
    "            # ensure complete connectivity between all nodes.\n",
    "            augmented_edges = nx.k_edge_augmentation(G = fg, k = 1, avail = avail_edges, weight = 'weight')    \n",
    "            # enumerate the augmented edges\n",
    "            for i_ae, ae in enumerate(augmented_edges):                \n",
    "                # unpack\n",
    "                # fn: from node, tn: to node\n",
    "                fn, tn = ae            \n",
    "                # get the weight / distance of the added edge\n",
    "                weight = node_dist_dict[(fn, tn)] \n",
    "                # this is the output dictionary\n",
    "                # street name, integer indicating the snd_group, from node, to node, distance of the edge\n",
    "\n",
    "                # get node data: from nodes\n",
    "                fn_node_list = []                \n",
    "                for curr_edge in fg.edges(fn):\n",
    "                    edge_dict = fg.edges[curr_edge]\n",
    "                    fn_node_list.append(edge_dict)\n",
    "                \n",
    "                fn_df = pd.DataFrame(data = fn_node_list)\n",
    "                fn_osnu = fn_df['ord_stname_unique']\n",
    "                fn_osnc = fn_df['ord_stname_concat']\n",
    "                fn_cp = fn_df['city_portion']\n",
    "\n",
    "                # get node data: to nodes\n",
    "                tn_node_list = []\n",
    "                for curr_edge in fg.edges(tn):\n",
    "                    edge_dict = fg.edges[curr_edge]\n",
    "                    tn_node_list.append(edge_dict)\n",
    "                \n",
    "                tn_df = pd.DataFrame(data = tn_node_list)\n",
    "                tn_osnu = tn_df['ord_stname_unique']\n",
    "                tn_osnc = tn_df['ord_stname_concat']\n",
    "                tn_cp = tn_df['city_portion']\n",
    "\n",
    "                # ord_stname_concat: determine this by computing the set intersection\n",
    "                osnu_set = set(fn_osnu).intersection(tn_osnu)\n",
    "                osnc_set = set(fn_osnc).intersection(tn_osnc)\n",
    "                cp_set = set(fn_cp).intersection(tn_cp)\n",
    "                \n",
    "                if len(osnu_set) == 1:\n",
    "                    # this means that the segments are on the same street\n",
    "                    osnu = osnu_set.pop()\n",
    "                    osnc = osnc_set.pop()\n",
    "                    cp = cp_set.pop()\n",
    "                    \n",
    "                else:\n",
    "                    # the segments\n",
    "                    osnu = ''\n",
    "                    osnc = ''\n",
    "                    cp = '_'.join(sorted(temp_gdf['city_portion'].unique().tolist()))\n",
    "\n",
    "                # ord_street_name\n",
    "                osn = temp_gdf['ord_street_name'].unique().tolist()[0]\n",
    "                # ord_street_type\n",
    "                ost = temp_gdf['ord_street_type'].unique().tolist()[0]\n",
    "                # ord_stname_type\n",
    "                osnt = temp_gdf['ord_stname_type'].unique().tolist()[0]                                                \n",
    "                \n",
    "                # ostntg\n",
    "                # this is calculated from the osntg\n",
    "                # city_portion\n",
    "                \n",
    "                # city_portion group\n",
    "                cpg = temp_gdf['city_portion_group'].unique().tolist()[0]\n",
    "\n",
    "                # order of the columns to add:\n",
    "                # ord_street_name: osn\n",
    "                # ord_street_type: ost\n",
    "                # ord_stname_type: osnt\n",
    "                # ord_stname_concat: osnc\n",
    "                # ord_stname_unique: osnu\n",
    "                # ord_stname_type_group: osntg\n",
    "                # weight                \n",
    "                # city_portion\n",
    "                # city_portion_group\n",
    "\n",
    "                temp_snd_id += 1\n",
    "\n",
    "                temp_data_list = [temp_snd_id, osn, ost, osnt, osnc, osnu, osntg, i_ae, fn, tn, weight, cp, cpg, gi]\n",
    "                # now, let's create some geometry\n",
    "                temp_line = LineString([node_dict[fn], node_dict[tn]])\n",
    "                line_list.append(temp_line)\n",
    "                data_list.append(temp_data_list)\n",
    "\n",
    "            # compare the list of available edges to the list of chosen edges\n",
    "            # this isn't necessary to complete the edge augmentation, but it's\n",
    "            # nice to know how often added edges are always the shortest edges        \n",
    "            av_df = pd.DataFrame(data = avail_edges, columns = ['sn_id', 'en_id', 'weight_dict'])\n",
    "            #av_df['dist'] = av_df['weight_dict'].map(lambda x: x['weight'])\n",
    "\n",
    "            av_df['dist'] = av_df.apply(func=lambda x: node_dist_dict[(x['sn_id'], x['en_id'])], axis = 1)\n",
    "            av_df = av_df.drop(labels = 'weight_dict', axis = 1)\n",
    "            # rank distance - the lower the rank, the shorter the segment.\n",
    "            av_df['dist_rank'] = av_df['dist'].rank(method = 'dense')\n",
    "\n",
    "            # ord_street_name: osn\n",
    "            # ord_street_type: ost\n",
    "            # ord_stname_type: osnt\n",
    "            # ord_stname_concat: osnc\n",
    "            # ord_stname_unique: osnu\n",
    "            # ord_stname_type_group: osntg\n",
    "            # weight                \n",
    "            # city_portion\n",
    "            # city_portion_group\n",
    "            \n",
    "            # build a gpd.GeoDataFrame - these are the \"missing\" segments\"\n",
    "            col_names = ['snd_id', 'ord_street_name', 'ord_street_type',\n",
    "                         'ord_stname_type', 'ord_stname_concat', \n",
    "                         'ord_stname_unique', 'ord_stname_type_group',\n",
    "                         'snd_group', 'sn_id', 'en_id', 'dist', 'city_portion',\n",
    "                         'city_portion_group', 'group_id']\n",
    "            \n",
    "            ms_gdf = gpd.GeoDataFrame(data = data_list,\n",
    "                                            columns = col_names,\n",
    "                                            geometry = line_list, crs = 'epsg:4326')\n",
    "            # these edges are not on the same street group\n",
    "            ms_gdf['street_status'] = int(2)\n",
    "            \n",
    "            # update where the connection spans city portions     \n",
    "            ms_gdf.loc[ms_gdf['ord_stname_unique'] == '', 'street_status'] = 3\n",
    "\n",
    "            # but sometimes, there will be instances where it's the same street, but\n",
    "            # only by direction prefix / suffix          \n",
    "            cp_set = get_a_set(cn = ms_gdf['city_portion'])\n",
    "            cpg_set = split_col_values(cn = ms_gdf['city_portion_group'])\n",
    "\n",
    "\n",
    "            if len(cp_set) == 1 and len(cpg_set) == 1:\n",
    "                ms_gdf.loc[ms_gdf['ord_stname_unique'] == '', 'street_status'] = 2                \n",
    "\n",
    "            # this will track if there are any graphs with parallel edges.\n",
    "            if ms_gdf.empty:\n",
    "                trouble_list.append(osntg)            \n",
    "            \n",
    "            # select where the rank is LTE than the number of records in the missing segement gdf\n",
    "            av_df = av_df.loc[av_df['dist_rank'] <= ms_gdf.shape[0], :]\n",
    "            \n",
    "            # if the sum of the distance of the added segments is the same, then only the\n",
    "            # shortest segments were added. If not, then other, longer, segments were added\n",
    "            # but that makes for less total distance traversed in the graph.\n",
    "            # So, how often does that happen?\n",
    "            shortest_tot_path = av_df['dist'].sum() == ms_gdf['dist'].sum()\n",
    "            shortest_tot_path = int(shortest_tot_path)\n",
    "            shortest_added_path.append([osn, ost, osnt, osnc,osnu, osntg, shortest_tot_path, n_discontinuities - 1])        \n",
    "\n",
    "            # ord_street_name: osn\n",
    "            # ord_street_type: ost\n",
    "            # ord_stname_type: osnt\n",
    "            # ord_stname_concat: osnc\n",
    "            # ord_stname_unique: osnu\n",
    "            # ord_stname_type_group: osntg\n",
    "            # weight                \n",
    "            # city_portion\n",
    "            # city_portion_group\n",
    "                    \n",
    "            # add the known, disconnected segments. These are the existing streets.\n",
    "            col_names = ['snd_id', 'ord_street_name', 'ord_street_type',\n",
    "                         'ord_stname_type', 'ord_stname_concat', 'ord_stname_unique', \n",
    "                         'ord_stname_type_group', 'snd_group',  'f_intr_id', 't_intr_id',\n",
    "                         'gis_seg_length', 'city_portion', 'city_portion_group', 'group_id', 'geometry']                             \n",
    "\n",
    "            ks_gdf = temp_gdf[col_names].copy()\n",
    "            ks_gdf['street_status'] = int(1)\n",
    "            ks_gdf = ks_gdf.rename(columns = {'f_intr_id':'sn_id', 't_intr_id':'en_id', 'gis_seg_length':'dist'})\n",
    "\n",
    "            # stack the geodataframes\n",
    "            output_gdf = pd.concat([ms_gdf, ks_gdf])            \n",
    "        \n",
    "            # write intermediate\n",
    "            if write_intermediate:\n",
    "                # intermediate streets - existing streets\n",
    "                is_output_file_path = os.path.join(rc.OUTPUT_FILE_PATH, 'individual_streets')\n",
    "                if not os.path.exists(is_output_file_path):\n",
    "                    os.makedirs(is_output_file_path)\n",
    "                output_file_name = '_'.join(osntg.split()) + '.gpkg'\n",
    "                write_gdf(gdf = temp_gdf, output_file_path = is_output_file_path, output_file_name = output_file_name)\n",
    "            \n",
    "                # intermediate nodes\n",
    "                curr_node_df = pd.DataFrame(data = {'node_id':fg.nodes()})\n",
    "                #curr_node_list = curr_node_df['node_id'].tolist()\n",
    "                curr_node_df['node_centrality'] = curr_node_df['node_id'].map(node_centrality_dict)\n",
    "                node_subset_gdf = subset_node_gdf(node_gdf = node_gdf, other_node_df = curr_node_df)\n",
    "                output_file_name = '_'.join(osntg.split()) + '_full_nodes.gpkg'\n",
    "                write_gdf(gdf = node_subset_gdf, output_file_path = is_output_file_path, output_file_name = output_file_name)\n",
    "\n",
    "                # the added and continuous segments for a street\n",
    "                output_file_name = '_'.join(osntg.split()) + '_missing_segments.gpkg'\n",
    "                ofpn = os.path.join(is_output_file_path, output_file_name)                \n",
    "                write_gdf(gdf = output_gdf, output_file_path = is_output_file_path, output_file_name = output_file_name)\n",
    "\n",
    "        else:\n",
    "            # gather the streets with no missing segments.         \n",
    "            # ord_street_name: osn\n",
    "            # ord_street_type: ost\n",
    "            # ord_stname_type: osnt\n",
    "            # ord_stname_concat: osnc\n",
    "            # ord_stname_unique: osnu\n",
    "            # ord_stname_type_group: osntg\n",
    "            # weight                \n",
    "            # city_portion\n",
    "            # city_portion_group\n",
    "\n",
    "            col_names = ['snd_id', 'ord_street_name', 'ord_street_type',\n",
    "                         'ord_stname_type', 'ord_stname_concat', 'ord_stname_unique', \n",
    "                         'ord_stname_type_group', 'snd_group',  'f_intr_id',\n",
    "                         't_intr_id', 'gis_seg_length', 'city_portion',\n",
    "                         'city_portion_group', 'group_id', 'geometry']    \n",
    "\n",
    "            output_gdf = temp_gdf[col_names].copy()\n",
    "            output_gdf['street_status'] = int(0)\n",
    "            output_gdf = output_gdf.rename(columns = {'f_intr_id':'sn_id', 't_intr_id':'en_id', 'gis_seg_length':'dist'})\n",
    "\n",
    "        # add to the output list\n",
    "        output_gdf_list.append(output_gdf)"
   ]
  },
  {
   "cell_type": "markdown",
   "id": "de05d0f4",
   "metadata": {},
   "source": [
    "# combine data for output"
   ]
  },
  {
   "cell_type": "code",
   "execution_count": 27,
   "id": "a91f2298",
   "metadata": {},
   "outputs": [],
   "source": [
    "ms_gdf = pd.concat(objs = output_gdf_list)"
   ]
  },
  {
   "cell_type": "code",
   "execution_count": 28,
   "id": "3e350635",
   "metadata": {},
   "outputs": [],
   "source": [
    "ms_gdf['dist_miles'] = ms_gdf['dist'] / 5280"
   ]
  },
  {
   "cell_type": "code",
   "execution_count": 29,
   "id": "d5eb8f8e",
   "metadata": {},
   "outputs": [],
   "source": [
    "# join in other street indentification data"
   ]
  },
  {
   "cell_type": "code",
   "execution_count": 30,
   "id": "b1cc3456",
   "metadata": {},
   "outputs": [
    {
     "data": {
      "text/plain": [
       "(13, 17)"
      ]
     },
     "execution_count": 30,
     "metadata": {},
     "output_type": "execute_result"
    }
   ],
   "source": [
    "ms_gdf.shape"
   ]
  },
  {
   "cell_type": "code",
   "execution_count": 31,
   "id": "bd1af46b",
   "metadata": {},
   "outputs": [
    {
     "data": {
      "text/plain": [
       "street_status\n",
       "1    11\n",
       "2     2\n",
       "Name: count, dtype: int64"
      ]
     },
     "execution_count": 31,
     "metadata": {},
     "output_type": "execute_result"
    }
   ],
   "source": [
    "ms_gdf['street_status'].value_counts()"
   ]
  },
  {
   "cell_type": "code",
   "execution_count": 32,
   "id": "b5a7ebef",
   "metadata": {},
   "outputs": [
    {
     "data": {
      "text/plain": [
       "Index(['snd_id', 'ord_street_name', 'ord_street_type', 'ord_stname_type',\n",
       "       'ord_stname_concat', 'ord_stname_unique', 'ord_stname_type_group',\n",
       "       'snd_group', 'sn_id', 'en_id', 'dist', 'city_portion',\n",
       "       'city_portion_group', 'group_id', 'geometry', 'street_status',\n",
       "       'dist_miles'],\n",
       "      dtype='object')"
      ]
     },
     "execution_count": 32,
     "metadata": {},
     "output_type": "execute_result"
    }
   ],
   "source": [
    "ms_gdf.columns"
   ]
  },
  {
   "cell_type": "code",
   "execution_count": 33,
   "id": "80c5b502",
   "metadata": {},
   "outputs": [],
   "source": [
    "# check for missing values\n",
    "hey_what_is_na(ms_gdf)"
   ]
  },
  {
   "cell_type": "code",
   "execution_count": 34,
   "id": "861fb0ed",
   "metadata": {},
   "outputs": [],
   "source": [
    "write_gdf(gdf = ms_gdf, output_file_path=rc.OUTPUT_FILE_PATH, output_file_name='galer.gpkg')"
   ]
  },
  {
   "cell_type": "code",
   "execution_count": null,
   "id": "f22ae2fd",
   "metadata": {},
   "outputs": [],
   "source": [
    "# what streets have parallel edges?\n",
    "# these can be verified / examined in qGIS\n",
    "trouble_list"
   ]
  },
  {
   "cell_type": "code",
   "execution_count": null,
   "id": "61f5123e",
   "metadata": {},
   "outputs": [],
   "source": [
    "# is everything lining up?\n",
    "testo = ms_gdf.loc[ms_gdf['ord_stname_unique'] != ms_gdf['ord_stname_concat'], :]"
   ]
  },
  {
   "cell_type": "code",
   "execution_count": null,
   "id": "30e30d5d",
   "metadata": {},
   "outputs": [],
   "source": [
    "testo.head()"
   ]
  },
  {
   "cell_type": "code",
   "execution_count": null,
   "id": "236c1a61",
   "metadata": {},
   "outputs": [],
   "source": [
    "testo.shape"
   ]
  },
  {
   "cell_type": "code",
   "execution_count": null,
   "id": "d1d10bc1",
   "metadata": {},
   "outputs": [],
   "source": [
    "testo['street_status'].value_counts()"
   ]
  },
  {
   "cell_type": "code",
   "execution_count": null,
   "id": "b85b54e9",
   "metadata": {},
   "outputs": [],
   "source": [
    "testo['ord_stname_concat'].value_counts()"
   ]
  },
  {
   "cell_type": "markdown",
   "id": "583f4f60",
   "metadata": {},
   "source": [
    "# compute if the added segments were indeed the shortest."
   ]
  },
  {
   "cell_type": "code",
   "execution_count": null,
   "id": "fe305789",
   "metadata": {},
   "outputs": [],
   "source": [
    "# ord_street_name: osn\n",
    "# ord_street_type: ost\n",
    "# ord_stname_type: osnt\n",
    "# ord_stname_concat: osnc\n",
    "# ord_stname_unique: osnu\n",
    "# ord_stname_type_group: osntg\n",
    "# weight                \n",
    "# city_portion\n",
    "# city_portion_group"
   ]
  },
  {
   "cell_type": "code",
   "execution_count": null,
   "id": "0c534bbc-15b2-42a5-a552-fcafb1e9aa8c",
   "metadata": {},
   "outputs": [],
   "source": [
    "# the number of times when the shortest segment is the shortest\n",
    "col_names = ['ord_street_name', 'ord_street_type', 'ord_stname_type', 'ord_stname_concat',\n",
    "             'ord_stname_unique', 'ord_stname_type_group', 'shortest_added_path',\n",
    "             'n_discontinuities']                                      \n",
    "sap_df = pd.DataFrame(data = shortest_added_path, columns = col_names)"
   ]
  },
  {
   "cell_type": "code",
   "execution_count": null,
   "id": "dcacc94a-5323-4e25-9044-bae4cfe4fbfa",
   "metadata": {},
   "outputs": [],
   "source": [
    "sap_df['n_streets'] = int(1)"
   ]
  },
  {
   "cell_type": "code",
   "execution_count": null,
   "id": "c5e9c2f5",
   "metadata": {},
   "outputs": [],
   "source": [
    "sap_df.head()"
   ]
  },
  {
   "cell_type": "code",
   "execution_count": null,
   "id": "58290996",
   "metadata": {},
   "outputs": [],
   "source": [
    "sap_df['ord_stname_concat'].unique().shape"
   ]
  },
  {
   "cell_type": "code",
   "execution_count": null,
   "id": "9f2dcc6c",
   "metadata": {},
   "outputs": [],
   "source": [
    "recode_dict = {0:'shortest_is_false', 1:'shortest_is_true', }"
   ]
  },
  {
   "cell_type": "code",
   "execution_count": null,
   "id": "f8287618",
   "metadata": {},
   "outputs": [],
   "source": [
    "sap_df['shortest_added_path'] = sap_df['shortest_added_path'].map(recode_dict)"
   ]
  },
  {
   "cell_type": "code",
   "execution_count": null,
   "id": "0b4d1387",
   "metadata": {},
   "outputs": [],
   "source": [
    "sap_df = sap_df.sort_values(by = ['ord_stname_type', 'ord_stname_concat'])"
   ]
  },
  {
   "cell_type": "code",
   "execution_count": null,
   "id": "bc490774",
   "metadata": {},
   "outputs": [],
   "source": [
    "sap_df['connection_status'] = \"intraconnection\"\n",
    "sap_df.loc[sap_df['ord_stname_concat'] == '', 'connection_status'] = 'interconnection'"
   ]
  },
  {
   "cell_type": "code",
   "execution_count": null,
   "id": "92d74132",
   "metadata": {},
   "outputs": [],
   "source": [
    "sap_df.head()"
   ]
  },
  {
   "cell_type": "code",
   "execution_count": null,
   "id": "34fc35a2",
   "metadata": {},
   "outputs": [],
   "source": [
    "sap_df_ct_count = pd.pivot_table(data = sap_df, values = 'n_streets',\n",
    "                                 index = ['connection_status', 'n_discontinuities'], columns = 'shortest_added_path',\n",
    "                                 aggfunc='sum', fill_value=0, margins = True).reset_index(drop=False)"
   ]
  },
  {
   "cell_type": "code",
   "execution_count": null,
   "id": "1f775d6b",
   "metadata": {},
   "outputs": [],
   "source": [
    "sap_df_ct_count.columns"
   ]
  },
  {
   "cell_type": "code",
   "execution_count": null,
   "id": "67859efe",
   "metadata": {},
   "outputs": [],
   "source": [
    "sap_df_ct_count.head()"
   ]
  },
  {
   "cell_type": "code",
   "execution_count": null,
   "id": "955c862b",
   "metadata": {},
   "outputs": [],
   "source": [
    "for recode_key, recode_value in recode_dict.items():\n",
    "    if recode_value not in sap_df_ct_count.columns:\n",
    "        sap_df_ct_count[recode_value] = [0] * sap_df_ct_count.shape[0]"
   ]
  },
  {
   "cell_type": "code",
   "execution_count": null,
   "id": "dc40aca8",
   "metadata": {},
   "outputs": [],
   "source": [
    "sap_df_ct_count.head()"
   ]
  },
  {
   "cell_type": "code",
   "execution_count": null,
   "id": "c82548cb",
   "metadata": {},
   "outputs": [],
   "source": [
    "sap_df_ct_count = sap_df_ct_count.rename(columns = {'All':'n_streets'})\n",
    "col_names = ['connection_status', 'n_discontinuities', 'shortest_is_false', 'shortest_is_true', 'n_streets']\n",
    "sap_df_ct_count = sap_df_ct_count[col_names]"
   ]
  },
  {
   "cell_type": "code",
   "execution_count": null,
   "id": "4bad967e",
   "metadata": {},
   "outputs": [],
   "source": [
    "for cn in ['shortest_is_false', 'shortest_is_true']:\n",
    "    ncn = cn + '_per'\n",
    "    sap_df_ct_count[ncn] = sap_df_ct_count[cn] / sap_df_ct_count['n_streets']"
   ]
  },
  {
   "cell_type": "code",
   "execution_count": null,
   "id": "9fb3b244",
   "metadata": {},
   "outputs": [],
   "source": [
    "sap_df_ct_count.head()"
   ]
  },
  {
   "cell_type": "code",
   "execution_count": null,
   "id": "8741d730",
   "metadata": {},
   "outputs": [],
   "source": [
    "# export this to excel\n",
    "if not os.path.exists(rc.ANALYSIS_OUTPUT_FILE_PATH):\n",
    "    os.makedirs(rc.ANALYSIS_OUTPUT_FILE_PATH)\n",
    "ofpn = os.path.join(rc.ANALYSIS_OUTPUT_FILE_PATH, rc.S04_SS_COUNT_OUT_FILE_NAME)\n",
    "print(ofpn)\n",
    "\n",
    "sap_df_ct_count.to_excel(excel_writer=ofpn, sheet_name='shortest_segment_count', index = False)"
   ]
  },
  {
   "cell_type": "markdown",
   "id": "5717e052-e7bf-4e60-b5e1-70d1a855e7f8",
   "metadata": {},
   "source": [
    "# add ranking by street type to help with visualization"
   ]
  },
  {
   "cell_type": "code",
   "execution_count": null,
   "id": "17d0ea23-c8e1-4aa7-920d-c457eeb22ff0",
   "metadata": {},
   "outputs": [],
   "source": [
    "st_type_df = ms_gdf.loc[ms_gdf['street_status'].isin((2,3)), 'ord_street_type'].value_counts().to_frame(name = 'n_segments').reset_index()"
   ]
  },
  {
   "cell_type": "code",
   "execution_count": null,
   "id": "587d3e87-7ca6-4f14-a606-5e3fb459c83f",
   "metadata": {},
   "outputs": [],
   "source": [
    "st_type_df.head()"
   ]
  },
  {
   "cell_type": "code",
   "execution_count": null,
   "id": "ac05148a-684c-4f11-b325-10c66b244227",
   "metadata": {},
   "outputs": [],
   "source": [
    "st_type_df['segment_rank'] = st_type_df['n_segments'].rank(ascending = True).astype(int).astype(str).str.zfill(2)"
   ]
  },
  {
   "cell_type": "code",
   "execution_count": null,
   "id": "4987655b-a00c-43c7-b04c-88d53a068b27",
   "metadata": {},
   "outputs": [],
   "source": [
    "st_type_df.head(n=20)"
   ]
  },
  {
   "cell_type": "code",
   "execution_count": null,
   "id": "f6503816-1cf2-4304-9578-917b874aabc5",
   "metadata": {},
   "outputs": [],
   "source": [
    "st_type_df['ord_street_type_rank'] = st_type_df['segment_rank'] + '_' + st_type_df['ord_street_type']"
   ]
  },
  {
   "cell_type": "code",
   "execution_count": null,
   "id": "abeac03c-4917-4c5c-8fab-aebcac12dc0f",
   "metadata": {},
   "outputs": [],
   "source": [
    "st_rank_dict = {ost:ostr for ost, ostr in zip(st_type_df['ord_street_type'], st_type_df['ord_street_type_rank'])}"
   ]
  },
  {
   "cell_type": "code",
   "execution_count": null,
   "id": "e33d501e-0011-41ec-965f-7ad2657d36f0",
   "metadata": {},
   "outputs": [],
   "source": [
    "ms_gdf['ord_street_type_rank'] = ms_gdf['ord_street_type'].map(st_rank_dict)"
   ]
  },
  {
   "cell_type": "code",
   "execution_count": null,
   "id": "d4afaa78-b8cc-4713-915b-f08686446cc0",
   "metadata": {},
   "outputs": [],
   "source": [
    "ms_gdf.loc[ms_gdf['ord_street_type_rank'].isna(), 'ord_street_type_rank'] = \"\""
   ]
  },
  {
   "cell_type": "code",
   "execution_count": null,
   "id": "efa67109",
   "metadata": {},
   "outputs": [],
   "source": [
    "ms_gdf.columns"
   ]
  },
  {
   "cell_type": "code",
   "execution_count": null,
   "id": "fbaa122d",
   "metadata": {},
   "outputs": [],
   "source": [
    "# ord_street_name: osn\n",
    "# ord_street_type: ost\n",
    "# ord_stname_type: osnt\n",
    "# ord_stname_concat: osnc\n",
    "# ord_stname_unique: osnu\n",
    "# ord_stname_type_group: osntg\n",
    "# weight                \n",
    "# city_portion\n",
    "# city_portion_group"
   ]
  },
  {
   "cell_type": "code",
   "execution_count": null,
   "id": "3766617b-52fa-4f04-992e-457b9343b9b1",
   "metadata": {},
   "outputs": [],
   "source": [
    "# reorder columns\n",
    "col_names = ['snd_id', 'ord_street_name', 'ord_street_type','ord_stname_type',\n",
    "             'ord_stname_concat', 'ord_stname_unique', 'ord_stname_type_group',\n",
    "             'ord_street_type_rank','snd_group', 'group_id', 'city_portion',\n",
    "             'city_portion_group', 'street_status', 'sn_id','en_id',\n",
    "             'dist','dist_miles','geometry']"
   ]
  },
  {
   "cell_type": "code",
   "execution_count": null,
   "id": "6d849621-4392-415b-894a-4dcc9dfc7370",
   "metadata": {},
   "outputs": [],
   "source": [
    "ms_gdf = ms_gdf[col_names]"
   ]
  },
  {
   "cell_type": "markdown",
   "id": "8b17be1f-d5f8-4505-ab76-572b6598ff39",
   "metadata": {},
   "source": [
    "# save the geodataframe with the continuous, discontinuous, and added streets"
   ]
  },
  {
   "cell_type": "code",
   "execution_count": null,
   "id": "0b821c98-17dc-4529-a560-cc278daf1e89",
   "metadata": {},
   "outputs": [],
   "source": [
    "write_gdf(gdf = ms_gdf, output_file_path= rc.OUTPUT_FILE_PATH,\n",
    "          output_file_name = rc.S04_MISSING_OUT_FILE_NAME)"
   ]
  },
  {
   "cell_type": "code",
   "execution_count": null,
   "id": "1a9d4c20",
   "metadata": {},
   "outputs": [],
   "source": []
  }
 ],
 "metadata": {
  "kernelspec": {
   "display_name": "analysis",
   "language": "python",
   "name": "python3"
  },
  "language_info": {
   "codemirror_mode": {
    "name": "ipython",
    "version": 3
   },
   "file_extension": ".py",
   "mimetype": "text/x-python",
   "name": "python",
   "nbconvert_exporter": "python",
   "pygments_lexer": "ipython3",
   "version": "3.12.7"
  }
 },
 "nbformat": 4,
 "nbformat_minor": 5
}
