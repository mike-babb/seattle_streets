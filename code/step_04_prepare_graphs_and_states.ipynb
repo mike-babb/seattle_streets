{
 "cells": [
  {
   "cell_type": "code",
   "execution_count": 1,
   "id": "fed9e25b-c5b9-4aee-89cd-15a7da3945c0",
   "metadata": {},
   "outputs": [],
   "source": [
    "# mike babb\n",
    "# 2024 06 28\n",
    "# what streets start and stop?"
   ]
  },
  {
   "cell_type": "code",
   "execution_count": 2,
   "id": "e88ca8b2-b75d-4e72-8fc7-65c4cea61cde",
   "metadata": {},
   "outputs": [],
   "source": [
    "# standard\n",
    "import os"
   ]
  },
  {
   "cell_type": "code",
   "execution_count": 3,
   "id": "0778d9a5-0c62-4724-be28-c21598d23b6f",
   "metadata": {},
   "outputs": [],
   "source": [
    "# external\n",
    "from itertools import combinations, product\n",
    "import geopandas as gpd\n",
    "from matplotlib.patches import Rectangle\n",
    "import matplotlib.pyplot as plt\n",
    "import numpy as np\n",
    "import pandas as pd\n",
    "import seaborn as sns\n",
    "from shapely.geometry import LineString, Point\n",
    "from shapely import line_merge"
   ]
  },
  {
   "cell_type": "code",
   "execution_count": 4,
   "id": "2fc61400-c637-4828-820d-56c2cdd14942",
   "metadata": {},
   "outputs": [],
   "source": [
    "# custom\n",
    "from geodataio.geo_operations import points2distance, calculate_initial_compass_bearing\n",
    "from utils import *"
   ]
  },
  {
   "cell_type": "markdown",
   "id": "358f0850-02ab-40e9-9153-bfafaa9ec699",
   "metadata": {},
   "source": [
    "# OUTPUT"
   ]
  },
  {
   "cell_type": "code",
   "execution_count": 5,
   "id": "5c46992a-b96b-477f-bb85-767e2a45c567",
   "metadata": {},
   "outputs": [],
   "source": [
    "output_file_path = 'H:/project/seattle_streets/data/' "
   ]
  },
  {
   "cell_type": "code",
   "execution_count": 6,
   "id": "e751e8ff-2878-4f51-abf9-8d4cda7b1d75",
   "metadata": {},
   "outputs": [],
   "source": [
    "output_file_name = 'street_analysis.xlsx'"
   ]
  },
  {
   "cell_type": "code",
   "execution_count": 7,
   "id": "38fa089c-59ba-46ae-9dbf-9956fc58b714",
   "metadata": {},
   "outputs": [],
   "source": [
    "ofpn = os.path.join(output_file_path, output_file_name)"
   ]
  },
  {
   "cell_type": "code",
   "execution_count": 8,
   "id": "0dc40716-4c84-4eea-b7c3-0253e57e9f84",
   "metadata": {},
   "outputs": [],
   "source": [
    "e_writer = pd.ExcelWriter(path = ofpn)"
   ]
  },
  {
   "cell_type": "markdown",
   "id": "d56ea77e-ffd7-4326-b793-415f8a131ef2",
   "metadata": {},
   "source": [
    "# load the street network"
   ]
  },
  {
   "cell_type": "code",
   "execution_count": 9,
   "id": "d07cfb9b-9184-48d7-af77-035e2390d9e5",
   "metadata": {},
   "outputs": [],
   "source": [
    "# file path\n",
    "input_file_path = 'H:/project/seattle_streets/data/' "
   ]
  },
  {
   "cell_type": "code",
   "execution_count": 10,
   "id": "3c1039f5-a281-4460-b65d-98a6ca2556b7",
   "metadata": {},
   "outputs": [],
   "source": [
    "file_name = 'missing_segments.gpkg'"
   ]
  },
  {
   "cell_type": "code",
   "execution_count": 11,
   "id": "ddf62724-9105-44c9-b983-e4f520328fa9",
   "metadata": {},
   "outputs": [],
   "source": [
    "fpn = os.path.join(input_file_path, file_name)"
   ]
  },
  {
   "cell_type": "code",
   "execution_count": 12,
   "id": "2cbdb5c1-c973-4882-b442-cf5396e90d3e",
   "metadata": {},
   "outputs": [],
   "source": [
    "gdf = gpd.read_file(filename = fpn)"
   ]
  },
  {
   "cell_type": "code",
   "execution_count": 13,
   "id": "ce02bdf0-a0ca-46a5-bf8f-54b576ee2de7",
   "metadata": {},
   "outputs": [
    {
     "data": {
      "text/plain": [
       "Index(['snd_id', 'ord_street_name', 'ord_stname_concat', 'ord_street_type',\n",
       "       'snd_group', 'street_status', 'sn_id', 'en_id', 'dist', 'dist_miles',\n",
       "       'geometry'],\n",
       "      dtype='object')"
      ]
     },
     "execution_count": 13,
     "metadata": {},
     "output_type": "execute_result"
    }
   ],
   "source": [
    "gdf.columns"
   ]
  },
  {
   "cell_type": "code",
   "execution_count": 14,
   "id": "0b203ee7-3a98-4f02-970b-b9d463918afe",
   "metadata": {},
   "outputs": [],
   "source": [
    "gdf['n_segments'] = int(1)"
   ]
  },
  {
   "cell_type": "code",
   "execution_count": 15,
   "id": "ca5fec99-9b05-4830-b081-74d31d82aa61",
   "metadata": {},
   "outputs": [],
   "source": [
    "missing_dict = {0:'complete_street',\n",
    "                1:'disconnected_street',\n",
    "                2:'missing_street'}"
   ]
  },
  {
   "cell_type": "code",
   "execution_count": 16,
   "id": "a77fd1ec-b9c2-4814-bdcd-688df88d4c2e",
   "metadata": {},
   "outputs": [],
   "source": [
    "gdf['street_status_desc'] = gdf['street_status'].map(missing_dict)"
   ]
  },
  {
   "cell_type": "markdown",
   "id": "f18a47d3-1f2c-444b-ab15-a079f9c80557",
   "metadata": {},
   "source": [
    "# WHAT STREET NAME HAS THE MOST STREET TYPES?"
   ]
  },
  {
   "cell_type": "code",
   "execution_count": 17,
   "id": "6ba407e8-2619-457d-bdca-d90d341a5e01",
   "metadata": {},
   "outputs": [],
   "source": [
    "col_names = ['ord_street_name', 'ord_street_type', 'n_segments']"
   ]
  },
  {
   "cell_type": "code",
   "execution_count": 18,
   "id": "7b7f1fb8-5923-4262-b8dd-8a672837cf82",
   "metadata": {},
   "outputs": [],
   "source": [
    "gdf_agg = gdf[col_names].drop_duplicates()"
   ]
  },
  {
   "cell_type": "code",
   "execution_count": 19,
   "id": "039bb6c4-897a-4094-9555-bdb3dc0f316d",
   "metadata": {},
   "outputs": [],
   "source": [
    "gdf_pv = pd.pivot_table(data = gdf_agg, values = ['n_segments'], index = 'ord_street_name', columns = ['ord_street_type'], aggfunc = 'sum', fill_value = 0, margins = True).reset_index()"
   ]
  },
  {
   "cell_type": "code",
   "execution_count": 20,
   "id": "50cc7c5b-8352-4466-a490-b85b9773f04e",
   "metadata": {},
   "outputs": [],
   "source": [
    "gdf_pv.columns = [''.join(cn).replace('n_segments', '') for cn in gdf_pv.columns]"
   ]
  },
  {
   "cell_type": "code",
   "execution_count": 21,
   "id": "949704f8-42df-4ac4-b178-696183ffac2b",
   "metadata": {},
   "outputs": [
    {
     "data": {
      "text/html": [
       "<div>\n",
       "<style scoped>\n",
       "    .dataframe tbody tr th:only-of-type {\n",
       "        vertical-align: middle;\n",
       "    }\n",
       "\n",
       "    .dataframe tbody tr th {\n",
       "        vertical-align: top;\n",
       "    }\n",
       "\n",
       "    .dataframe thead th {\n",
       "        text-align: right;\n",
       "    }\n",
       "</style>\n",
       "<table border=\"1\" class=\"dataframe\">\n",
       "  <thead>\n",
       "    <tr style=\"text-align: right;\">\n",
       "      <th></th>\n",
       "      <th>ord_street_name</th>\n",
       "      <th>AVE</th>\n",
       "      <th>BLVD</th>\n",
       "      <th>BR</th>\n",
       "      <th>CIR</th>\n",
       "      <th>CT</th>\n",
       "      <th>DR</th>\n",
       "      <th>LN</th>\n",
       "      <th>LOOP</th>\n",
       "      <th>MALL</th>\n",
       "      <th>PKWY</th>\n",
       "      <th>PL</th>\n",
       "      <th>PZ</th>\n",
       "      <th>RD</th>\n",
       "      <th>ST</th>\n",
       "      <th>TER</th>\n",
       "      <th>VIEW</th>\n",
       "      <th>WAY</th>\n",
       "      <th>All</th>\n",
       "    </tr>\n",
       "  </thead>\n",
       "  <tbody>\n",
       "    <tr>\n",
       "      <th>0</th>\n",
       "      <td>100TH</td>\n",
       "      <td>0</td>\n",
       "      <td>0</td>\n",
       "      <td>0</td>\n",
       "      <td>0</td>\n",
       "      <td>0</td>\n",
       "      <td>0</td>\n",
       "      <td>0</td>\n",
       "      <td>0</td>\n",
       "      <td>0</td>\n",
       "      <td>0</td>\n",
       "      <td>1</td>\n",
       "      <td>0</td>\n",
       "      <td>0</td>\n",
       "      <td>1</td>\n",
       "      <td>0</td>\n",
       "      <td>0</td>\n",
       "      <td>0</td>\n",
       "      <td>2</td>\n",
       "    </tr>\n",
       "    <tr>\n",
       "      <th>1</th>\n",
       "      <td>101ST</td>\n",
       "      <td>0</td>\n",
       "      <td>0</td>\n",
       "      <td>0</td>\n",
       "      <td>0</td>\n",
       "      <td>0</td>\n",
       "      <td>0</td>\n",
       "      <td>0</td>\n",
       "      <td>0</td>\n",
       "      <td>0</td>\n",
       "      <td>0</td>\n",
       "      <td>1</td>\n",
       "      <td>0</td>\n",
       "      <td>0</td>\n",
       "      <td>1</td>\n",
       "      <td>0</td>\n",
       "      <td>0</td>\n",
       "      <td>0</td>\n",
       "      <td>2</td>\n",
       "    </tr>\n",
       "    <tr>\n",
       "      <th>2</th>\n",
       "      <td>102ND</td>\n",
       "      <td>0</td>\n",
       "      <td>0</td>\n",
       "      <td>0</td>\n",
       "      <td>0</td>\n",
       "      <td>0</td>\n",
       "      <td>0</td>\n",
       "      <td>1</td>\n",
       "      <td>0</td>\n",
       "      <td>0</td>\n",
       "      <td>0</td>\n",
       "      <td>0</td>\n",
       "      <td>0</td>\n",
       "      <td>0</td>\n",
       "      <td>1</td>\n",
       "      <td>0</td>\n",
       "      <td>0</td>\n",
       "      <td>0</td>\n",
       "      <td>2</td>\n",
       "    </tr>\n",
       "    <tr>\n",
       "      <th>3</th>\n",
       "      <td>103RD</td>\n",
       "      <td>0</td>\n",
       "      <td>0</td>\n",
       "      <td>0</td>\n",
       "      <td>0</td>\n",
       "      <td>0</td>\n",
       "      <td>0</td>\n",
       "      <td>0</td>\n",
       "      <td>0</td>\n",
       "      <td>0</td>\n",
       "      <td>0</td>\n",
       "      <td>1</td>\n",
       "      <td>0</td>\n",
       "      <td>0</td>\n",
       "      <td>1</td>\n",
       "      <td>0</td>\n",
       "      <td>0</td>\n",
       "      <td>0</td>\n",
       "      <td>2</td>\n",
       "    </tr>\n",
       "    <tr>\n",
       "      <th>4</th>\n",
       "      <td>104TH</td>\n",
       "      <td>0</td>\n",
       "      <td>0</td>\n",
       "      <td>0</td>\n",
       "      <td>0</td>\n",
       "      <td>0</td>\n",
       "      <td>0</td>\n",
       "      <td>1</td>\n",
       "      <td>0</td>\n",
       "      <td>0</td>\n",
       "      <td>0</td>\n",
       "      <td>1</td>\n",
       "      <td>0</td>\n",
       "      <td>0</td>\n",
       "      <td>1</td>\n",
       "      <td>0</td>\n",
       "      <td>0</td>\n",
       "      <td>1</td>\n",
       "      <td>4</td>\n",
       "    </tr>\n",
       "  </tbody>\n",
       "</table>\n",
       "</div>"
      ],
      "text/plain": [
       "  ord_street_name  AVE  BLVD  BR  CIR  CT  DR  LN  LOOP  MALL  PKWY  PL  PZ  \\\n",
       "0           100TH    0     0   0    0   0   0   0     0     0     0   1   0   \n",
       "1           101ST    0     0   0    0   0   0   0     0     0     0   1   0   \n",
       "2           102ND    0     0   0    0   0   0   1     0     0     0   0   0   \n",
       "3           103RD    0     0   0    0   0   0   0     0     0     0   1   0   \n",
       "4           104TH    0     0   0    0   0   0   1     0     0     0   1   0   \n",
       "\n",
       "   RD  ST  TER  VIEW  WAY  All  \n",
       "0   0   1    0     0    0    2  \n",
       "1   0   1    0     0    0    2  \n",
       "2   0   1    0     0    0    2  \n",
       "3   0   1    0     0    0    2  \n",
       "4   0   1    0     0    1    4  "
      ]
     },
     "execution_count": 21,
     "metadata": {},
     "output_type": "execute_result"
    }
   ],
   "source": [
    "gdf_pv.head()"
   ]
  },
  {
   "cell_type": "code",
   "execution_count": 22,
   "id": "8b3a5d0a-f993-4352-a96c-0f15218d5103",
   "metadata": {},
   "outputs": [],
   "source": [
    "gdf_pv.to_excel(excel_writer=e_writer, sheet_name = 's_type_count', index = False)"
   ]
  },
  {
   "cell_type": "markdown",
   "id": "1b7bb5ae-834e-4078-b830-ed9f8f6c29de",
   "metadata": {},
   "source": [
    "# WHAT STREET NAME HAS THE MOST STREET CONNECTIONS?"
   ]
  },
  {
   "cell_type": "code",
   "execution_count": 23,
   "id": "816f7b54-543e-4afa-aa2c-1d92197435fe",
   "metadata": {},
   "outputs": [],
   "source": [
    "col_names = ['ord_street_name', 'ord_stname_concat', 'street_status_desc', 'n_segments']\n",
    "gdf_agg = gdf[col_names].drop_duplicates()"
   ]
  },
  {
   "cell_type": "code",
   "execution_count": 24,
   "id": "b30c8d9a-5711-4c9a-bea9-fe2e4ac06eee",
   "metadata": {},
   "outputs": [],
   "source": [
    "gdf_pv = pd.pivot_table(data = gdf_agg, values = ['n_segments'], index = 'ord_street_name', columns = ['street_status_desc'], aggfunc = 'sum', fill_value = 0, margins = True).reset_index()"
   ]
  },
  {
   "cell_type": "code",
   "execution_count": 25,
   "id": "f54b0198-3b4d-4cac-8e8a-3f0070ba1666",
   "metadata": {},
   "outputs": [
    {
     "data": {
      "text/html": [
       "<div>\n",
       "<style scoped>\n",
       "    .dataframe tbody tr th:only-of-type {\n",
       "        vertical-align: middle;\n",
       "    }\n",
       "\n",
       "    .dataframe tbody tr th {\n",
       "        vertical-align: top;\n",
       "    }\n",
       "\n",
       "    .dataframe thead tr th {\n",
       "        text-align: left;\n",
       "    }\n",
       "</style>\n",
       "<table border=\"1\" class=\"dataframe\">\n",
       "  <thead>\n",
       "    <tr>\n",
       "      <th></th>\n",
       "      <th>ord_street_name</th>\n",
       "      <th colspan=\"4\" halign=\"left\">n_segments</th>\n",
       "    </tr>\n",
       "    <tr>\n",
       "      <th>street_status_desc</th>\n",
       "      <th></th>\n",
       "      <th>complete_street</th>\n",
       "      <th>disconnected_street</th>\n",
       "      <th>missing_street</th>\n",
       "      <th>All</th>\n",
       "    </tr>\n",
       "  </thead>\n",
       "  <tbody>\n",
       "    <tr>\n",
       "      <th>0</th>\n",
       "      <td>100TH</td>\n",
       "      <td>3</td>\n",
       "      <td>4</td>\n",
       "      <td>4</td>\n",
       "      <td>11</td>\n",
       "    </tr>\n",
       "    <tr>\n",
       "      <th>1</th>\n",
       "      <td>101ST</td>\n",
       "      <td>3</td>\n",
       "      <td>2</td>\n",
       "      <td>2</td>\n",
       "      <td>7</td>\n",
       "    </tr>\n",
       "    <tr>\n",
       "      <th>2</th>\n",
       "      <td>102ND</td>\n",
       "      <td>2</td>\n",
       "      <td>3</td>\n",
       "      <td>3</td>\n",
       "      <td>8</td>\n",
       "    </tr>\n",
       "    <tr>\n",
       "      <th>3</th>\n",
       "      <td>103RD</td>\n",
       "      <td>2</td>\n",
       "      <td>5</td>\n",
       "      <td>5</td>\n",
       "      <td>12</td>\n",
       "    </tr>\n",
       "    <tr>\n",
       "      <th>4</th>\n",
       "      <td>104TH</td>\n",
       "      <td>4</td>\n",
       "      <td>4</td>\n",
       "      <td>4</td>\n",
       "      <td>12</td>\n",
       "    </tr>\n",
       "  </tbody>\n",
       "</table>\n",
       "</div>"
      ],
      "text/plain": [
       "                   ord_street_name      n_segments                      \\\n",
       "street_status_desc                 complete_street disconnected_street   \n",
       "0                            100TH               3                   4   \n",
       "1                            101ST               3                   2   \n",
       "2                            102ND               2                   3   \n",
       "3                            103RD               2                   5   \n",
       "4                            104TH               4                   4   \n",
       "\n",
       "                                       \n",
       "street_status_desc missing_street All  \n",
       "0                               4  11  \n",
       "1                               2   7  \n",
       "2                               3   8  \n",
       "3                               5  12  \n",
       "4                               4  12  "
      ]
     },
     "execution_count": 25,
     "metadata": {},
     "output_type": "execute_result"
    }
   ],
   "source": [
    "gdf_pv.head()"
   ]
  },
  {
   "cell_type": "code",
   "execution_count": 26,
   "id": "b56fdcf8-da0a-4f91-a222-8df69eb1bd7f",
   "metadata": {},
   "outputs": [],
   "source": [
    "gdf_pv.columns = [''.join(cn).replace('n_segments', '') for cn in gdf_pv.columns]"
   ]
  },
  {
   "cell_type": "code",
   "execution_count": 27,
   "id": "0dd440d1-d9ec-4133-8131-09d79bfdd3e8",
   "metadata": {},
   "outputs": [
    {
     "data": {
      "text/plain": [
       "Index(['ord_street_name', 'complete_street', 'disconnected_street',\n",
       "       'missing_street', 'All'],\n",
       "      dtype='object')"
      ]
     },
     "execution_count": 27,
     "metadata": {},
     "output_type": "execute_result"
    }
   ],
   "source": [
    "gdf_pv.columns"
   ]
  },
  {
   "cell_type": "code",
   "execution_count": 28,
   "id": "c0384c02-840a-4534-a919-2cdb1b5693d2",
   "metadata": {},
   "outputs": [
    {
     "data": {
      "text/html": [
       "<div>\n",
       "<style scoped>\n",
       "    .dataframe tbody tr th:only-of-type {\n",
       "        vertical-align: middle;\n",
       "    }\n",
       "\n",
       "    .dataframe tbody tr th {\n",
       "        vertical-align: top;\n",
       "    }\n",
       "\n",
       "    .dataframe thead th {\n",
       "        text-align: right;\n",
       "    }\n",
       "</style>\n",
       "<table border=\"1\" class=\"dataframe\">\n",
       "  <thead>\n",
       "    <tr style=\"text-align: right;\">\n",
       "      <th></th>\n",
       "      <th>ord_street_name</th>\n",
       "      <th>complete_street</th>\n",
       "      <th>disconnected_street</th>\n",
       "      <th>missing_street</th>\n",
       "      <th>All</th>\n",
       "    </tr>\n",
       "  </thead>\n",
       "  <tbody>\n",
       "    <tr>\n",
       "      <th>0</th>\n",
       "      <td>100TH</td>\n",
       "      <td>3</td>\n",
       "      <td>4</td>\n",
       "      <td>4</td>\n",
       "      <td>11</td>\n",
       "    </tr>\n",
       "    <tr>\n",
       "      <th>1</th>\n",
       "      <td>101ST</td>\n",
       "      <td>3</td>\n",
       "      <td>2</td>\n",
       "      <td>2</td>\n",
       "      <td>7</td>\n",
       "    </tr>\n",
       "    <tr>\n",
       "      <th>2</th>\n",
       "      <td>102ND</td>\n",
       "      <td>2</td>\n",
       "      <td>3</td>\n",
       "      <td>3</td>\n",
       "      <td>8</td>\n",
       "    </tr>\n",
       "    <tr>\n",
       "      <th>3</th>\n",
       "      <td>103RD</td>\n",
       "      <td>2</td>\n",
       "      <td>5</td>\n",
       "      <td>5</td>\n",
       "      <td>12</td>\n",
       "    </tr>\n",
       "    <tr>\n",
       "      <th>4</th>\n",
       "      <td>104TH</td>\n",
       "      <td>4</td>\n",
       "      <td>4</td>\n",
       "      <td>4</td>\n",
       "      <td>12</td>\n",
       "    </tr>\n",
       "  </tbody>\n",
       "</table>\n",
       "</div>"
      ],
      "text/plain": [
       "  ord_street_name  complete_street  disconnected_street  missing_street  All\n",
       "0           100TH                3                    4               4   11\n",
       "1           101ST                3                    2               2    7\n",
       "2           102ND                2                    3               3    8\n",
       "3           103RD                2                    5               5   12\n",
       "4           104TH                4                    4               4   12"
      ]
     },
     "execution_count": 28,
     "metadata": {},
     "output_type": "execute_result"
    }
   ],
   "source": [
    "gdf_pv.head()"
   ]
  },
  {
   "cell_type": "code",
   "execution_count": 29,
   "id": "cac54e56-219b-492f-ae81-d072405e9cb2",
   "metadata": {},
   "outputs": [],
   "source": [
    "gdf_pv.to_excel(excel_writer=e_writer, sheet_name = 'connection_count_by_name', index = False)"
   ]
  },
  {
   "cell_type": "code",
   "execution_count": null,
   "id": "e9223959-0acd-4591-8040-aa38d420f603",
   "metadata": {},
   "outputs": [],
   "source": []
  },
  {
   "cell_type": "markdown",
   "id": "08b2c5f6-690e-4ac9-bdc4-5e0514b33a64",
   "metadata": {},
   "source": [
    "# COUNT OF DISCONNECTED STREETS"
   ]
  },
  {
   "cell_type": "code",
   "execution_count": 30,
   "id": "01a1bf1f-227a-4af1-a828-8bef3e0f08c3",
   "metadata": {},
   "outputs": [],
   "source": [
    "col_names = ['ord_stname_concat', 'ord_street_type', 'street_status', 'street_status_desc', 'n_segments']\n",
    "gdf_agg = gdf[col_names]"
   ]
  },
  {
   "cell_type": "code",
   "execution_count": 31,
   "id": "78d1c42a-2682-4029-abdf-ec0b76cd0758",
   "metadata": {},
   "outputs": [],
   "source": [
    "gdf_pv = pd.pivot_table(data = gdf_agg, values = ['n_segments'], index = ['ord_stname_concat', 'ord_street_type'],\n",
    "                        columns = ['street_status_desc'], aggfunc = 'sum', fill_value = 0, margins = True).reset_index()"
   ]
  },
  {
   "cell_type": "code",
   "execution_count": 32,
   "id": "7f72b0c0-9358-4814-895d-e3bdd2e67df5",
   "metadata": {},
   "outputs": [],
   "source": [
    "gdf_pv.columns = [''.join(cn).replace('n_segments', '') for cn in gdf_pv.columns]"
   ]
  },
  {
   "cell_type": "code",
   "execution_count": 33,
   "id": "0c16ca15-fced-4ee7-b1fb-e0507f8c6201",
   "metadata": {},
   "outputs": [
    {
     "data": {
      "text/html": [
       "<div>\n",
       "<style scoped>\n",
       "    .dataframe tbody tr th:only-of-type {\n",
       "        vertical-align: middle;\n",
       "    }\n",
       "\n",
       "    .dataframe tbody tr th {\n",
       "        vertical-align: top;\n",
       "    }\n",
       "\n",
       "    .dataframe thead th {\n",
       "        text-align: right;\n",
       "    }\n",
       "</style>\n",
       "<table border=\"1\" class=\"dataframe\">\n",
       "  <thead>\n",
       "    <tr style=\"text-align: right;\">\n",
       "      <th></th>\n",
       "      <th>ord_stname_concat</th>\n",
       "      <th>ord_street_type</th>\n",
       "      <th>complete_street</th>\n",
       "      <th>disconnected_street</th>\n",
       "      <th>missing_street</th>\n",
       "      <th>All</th>\n",
       "    </tr>\n",
       "  </thead>\n",
       "  <tbody>\n",
       "    <tr>\n",
       "      <th>0</th>\n",
       "      <td>10TH AVE</td>\n",
       "      <td>AVE</td>\n",
       "      <td>0</td>\n",
       "      <td>11</td>\n",
       "      <td>3</td>\n",
       "      <td>14</td>\n",
       "    </tr>\n",
       "    <tr>\n",
       "      <th>1</th>\n",
       "      <td>10TH AVE E</td>\n",
       "      <td>AVE</td>\n",
       "      <td>0</td>\n",
       "      <td>21</td>\n",
       "      <td>3</td>\n",
       "      <td>24</td>\n",
       "    </tr>\n",
       "    <tr>\n",
       "      <th>2</th>\n",
       "      <td>10TH AVE NE</td>\n",
       "      <td>AVE</td>\n",
       "      <td>7</td>\n",
       "      <td>0</td>\n",
       "      <td>0</td>\n",
       "      <td>7</td>\n",
       "    </tr>\n",
       "    <tr>\n",
       "      <th>3</th>\n",
       "      <td>10TH AVE NW</td>\n",
       "      <td>AVE</td>\n",
       "      <td>0</td>\n",
       "      <td>14</td>\n",
       "      <td>4</td>\n",
       "      <td>18</td>\n",
       "    </tr>\n",
       "    <tr>\n",
       "      <th>4</th>\n",
       "      <td>10TH AVE S</td>\n",
       "      <td>AVE</td>\n",
       "      <td>0</td>\n",
       "      <td>32</td>\n",
       "      <td>7</td>\n",
       "      <td>39</td>\n",
       "    </tr>\n",
       "  </tbody>\n",
       "</table>\n",
       "</div>"
      ],
      "text/plain": [
       "  ord_stname_concat ord_street_type  complete_street  disconnected_street  \\\n",
       "0          10TH AVE             AVE                0                   11   \n",
       "1        10TH AVE E             AVE                0                   21   \n",
       "2       10TH AVE NE             AVE                7                    0   \n",
       "3       10TH AVE NW             AVE                0                   14   \n",
       "4        10TH AVE S             AVE                0                   32   \n",
       "\n",
       "   missing_street  All  \n",
       "0               3   14  \n",
       "1               3   24  \n",
       "2               0    7  \n",
       "3               4   18  \n",
       "4               7   39  "
      ]
     },
     "execution_count": 33,
     "metadata": {},
     "output_type": "execute_result"
    }
   ],
   "source": [
    "gdf_pv.head()"
   ]
  },
  {
   "cell_type": "code",
   "execution_count": 34,
   "id": "12b52f64-bcc9-4c3a-a1c8-39fc48e16224",
   "metadata": {},
   "outputs": [
    {
     "data": {
      "text/plain": [
       "(2498, 6)"
      ]
     },
     "execution_count": 34,
     "metadata": {},
     "output_type": "execute_result"
    }
   ],
   "source": [
    "gdf_pv.shape"
   ]
  },
  {
   "cell_type": "code",
   "execution_count": 35,
   "id": "9c95166a-031f-49f5-b0cc-1643d57f8963",
   "metadata": {},
   "outputs": [],
   "source": [
    "gdf_pv.to_excel(excel_writer=e_writer, sheet_name = 'connection_count_full_name', index = False)"
   ]
  },
  {
   "cell_type": "code",
   "execution_count": 36,
   "id": "baf1066d-c197-49af-896e-298e22e239ea",
   "metadata": {},
   "outputs": [],
   "source": [
    "# remove the all row\n",
    "w_gdf_pv = gdf_pv.loc[gdf_pv['ord_stname_concat'] != 'All', :]"
   ]
  },
  {
   "cell_type": "code",
   "execution_count": 37,
   "id": "9b4c2392-c709-4106-bfe9-8847637623c7",
   "metadata": {},
   "outputs": [
    {
     "data": {
      "text/plain": [
       "(2497, 6)"
      ]
     },
     "execution_count": 37,
     "metadata": {},
     "output_type": "execute_result"
    }
   ],
   "source": [
    "w_gdf_pv.shape"
   ]
  },
  {
   "cell_type": "code",
   "execution_count": 38,
   "id": "4752649f-e9fa-42de-84a5-cb4ac6a52493",
   "metadata": {},
   "outputs": [
    {
     "data": {
      "text/plain": [
       "1140"
      ]
     },
     "execution_count": 38,
     "metadata": {},
     "output_type": "execute_result"
    }
   ],
   "source": [
    "# number of streets with at least one missing segment\n",
    "split_streets = w_gdf_pv.loc[w_gdf_pv['disconnected_street'] > 0, :].shape[0]\n",
    "split_streets"
   ]
  },
  {
   "cell_type": "code",
   "execution_count": 39,
   "id": "7d163564-a8a1-4178-b8b5-72fa597af33c",
   "metadata": {},
   "outputs": [
    {
     "data": {
      "text/plain": [
       "1357"
      ]
     },
     "execution_count": 39,
     "metadata": {},
     "output_type": "execute_result"
    }
   ],
   "source": [
    "# number of streets with no missing segments\n",
    "complete_streets = w_gdf_pv.loc[w_gdf_pv['complete_street'] > 0, :].shape[0]\n",
    "complete_streets"
   ]
  },
  {
   "cell_type": "code",
   "execution_count": 40,
   "id": "7742c295-99cd-4341-9af1-c09fcd0795ac",
   "metadata": {},
   "outputs": [
    {
     "data": {
      "text/plain": [
       "0.4565478574289147"
      ]
     },
     "execution_count": 40,
     "metadata": {},
     "output_type": "execute_result"
    }
   ],
   "source": [
    "split_streets / w_gdf_pv.shape[0]"
   ]
  },
  {
   "cell_type": "code",
   "execution_count": 41,
   "id": "cbac562b-c88b-4639-8e49-a168590abfee",
   "metadata": {},
   "outputs": [
    {
     "data": {
      "text/plain": [
       "0.5434521425710853"
      ]
     },
     "execution_count": 41,
     "metadata": {},
     "output_type": "execute_result"
    }
   ],
   "source": [
    "complete_streets / w_gdf_pv.shape[0]"
   ]
  },
  {
   "cell_type": "code",
   "execution_count": 43,
   "id": "1ab8dc0d-f9d4-4bfb-8f37-96c1c769fbbd",
   "metadata": {},
   "outputs": [],
   "source": [
    "# 46 percent of streets are multi-segments.\n",
    "# 54 percent of streets are single segment."
   ]
  },
  {
   "cell_type": "markdown",
   "id": "7429299f-c713-41d0-a8eb-57c623c63d6c",
   "metadata": {},
   "source": [
    "# SUM OF ROAD MILES BY DISCONNECTED STREET"
   ]
  },
  {
   "cell_type": "code",
   "execution_count": 44,
   "id": "9df0f0f8-b9d8-428e-9f01-a4e3b35fe162",
   "metadata": {},
   "outputs": [],
   "source": [
    "col_names = ['ord_stname_concat', 'ord_street_type', 'street_status', 'street_status_desc', 'dist_miles']\n",
    "gdf_agg = gdf[col_names]"
   ]
  },
  {
   "cell_type": "code",
   "execution_count": 45,
   "id": "e2105d40-f7cd-4f1c-8d5d-3e43a815626b",
   "metadata": {},
   "outputs": [],
   "source": [
    "gdf_pv = pd.pivot_table(data = gdf_agg, values = ['dist_miles'], index = ['ord_stname_concat', 'ord_street_type'],\n",
    "                        columns = ['street_status_desc'], aggfunc = 'sum', fill_value = 0, margins = True).reset_index()"
   ]
  },
  {
   "cell_type": "code",
   "execution_count": 46,
   "id": "480db292-c5cc-4975-b332-367a29bece9c",
   "metadata": {},
   "outputs": [],
   "source": [
    "gdf_pv.columns = [''.join(cn).replace('dist_miles', '') for cn in gdf_pv.columns]"
   ]
  },
  {
   "cell_type": "code",
   "execution_count": 47,
   "id": "fd8f0b02-27b6-42e5-9647-99b3a439ff61",
   "metadata": {},
   "outputs": [
    {
     "data": {
      "text/html": [
       "<div>\n",
       "<style scoped>\n",
       "    .dataframe tbody tr th:only-of-type {\n",
       "        vertical-align: middle;\n",
       "    }\n",
       "\n",
       "    .dataframe tbody tr th {\n",
       "        vertical-align: top;\n",
       "    }\n",
       "\n",
       "    .dataframe thead th {\n",
       "        text-align: right;\n",
       "    }\n",
       "</style>\n",
       "<table border=\"1\" class=\"dataframe\">\n",
       "  <thead>\n",
       "    <tr style=\"text-align: right;\">\n",
       "      <th></th>\n",
       "      <th>ord_stname_concat</th>\n",
       "      <th>ord_street_type</th>\n",
       "      <th>complete_street</th>\n",
       "      <th>disconnected_street</th>\n",
       "      <th>missing_street</th>\n",
       "      <th>All</th>\n",
       "    </tr>\n",
       "  </thead>\n",
       "  <tbody>\n",
       "    <tr>\n",
       "      <th>0</th>\n",
       "      <td>10TH AVE</td>\n",
       "      <td>AVE</td>\n",
       "      <td>0.00000</td>\n",
       "      <td>0.613528</td>\n",
       "      <td>0.328426</td>\n",
       "      <td>0.941954</td>\n",
       "    </tr>\n",
       "    <tr>\n",
       "      <th>1</th>\n",
       "      <td>10TH AVE E</td>\n",
       "      <td>AVE</td>\n",
       "      <td>0.00000</td>\n",
       "      <td>1.942426</td>\n",
       "      <td>0.051903</td>\n",
       "      <td>1.994328</td>\n",
       "    </tr>\n",
       "    <tr>\n",
       "      <th>2</th>\n",
       "      <td>10TH AVE NE</td>\n",
       "      <td>AVE</td>\n",
       "      <td>0.48567</td>\n",
       "      <td>0.000000</td>\n",
       "      <td>0.000000</td>\n",
       "      <td>0.485670</td>\n",
       "    </tr>\n",
       "    <tr>\n",
       "      <th>3</th>\n",
       "      <td>10TH AVE NW</td>\n",
       "      <td>AVE</td>\n",
       "      <td>0.00000</td>\n",
       "      <td>1.701021</td>\n",
       "      <td>1.753063</td>\n",
       "      <td>3.454084</td>\n",
       "    </tr>\n",
       "    <tr>\n",
       "      <th>4</th>\n",
       "      <td>10TH AVE S</td>\n",
       "      <td>AVE</td>\n",
       "      <td>0.00000</td>\n",
       "      <td>2.025667</td>\n",
       "      <td>4.517775</td>\n",
       "      <td>6.543441</td>\n",
       "    </tr>\n",
       "  </tbody>\n",
       "</table>\n",
       "</div>"
      ],
      "text/plain": [
       "  ord_stname_concat ord_street_type  complete_street  disconnected_street  \\\n",
       "0          10TH AVE             AVE          0.00000             0.613528   \n",
       "1        10TH AVE E             AVE          0.00000             1.942426   \n",
       "2       10TH AVE NE             AVE          0.48567             0.000000   \n",
       "3       10TH AVE NW             AVE          0.00000             1.701021   \n",
       "4        10TH AVE S             AVE          0.00000             2.025667   \n",
       "\n",
       "   missing_street       All  \n",
       "0        0.328426  0.941954  \n",
       "1        0.051903  1.994328  \n",
       "2        0.000000  0.485670  \n",
       "3        1.753063  3.454084  \n",
       "4        4.517775  6.543441  "
      ]
     },
     "execution_count": 47,
     "metadata": {},
     "output_type": "execute_result"
    }
   ],
   "source": [
    "gdf_pv.head()"
   ]
  },
  {
   "cell_type": "code",
   "execution_count": 54,
   "id": "ab7a421e-74c3-465f-a3a4-cc9f53606127",
   "metadata": {},
   "outputs": [],
   "source": [
    "# WHICH STREETS FEATURE LONGER DISCONNECTED PORTIONS?\n",
    "gdf_pv['longer_missing'] = int(0) # street is complete\n",
    "gdf_pv.loc[(gdf_pv['complete_street'] == 0) & (gdf_pv['missing_street'] <= gdf_pv['disconnected_street']), 'longer_missing'] = int(1)\n",
    "gdf_pv.loc[(gdf_pv['complete_street'] == 0) & (gdf_pv['missing_street'] > gdf_pv['disconnected_street']), 'longer_missing'] = int(2)"
   ]
  },
  {
   "cell_type": "code",
   "execution_count": 55,
   "id": "bfaf3134-e1b7-4abe-a5a8-64083ab78709",
   "metadata": {},
   "outputs": [
    {
     "data": {
      "text/plain": [
       "longer_missing\n",
       "0    1358\n",
       "1     840\n",
       "2     300\n",
       "Name: count, dtype: int64"
      ]
     },
     "execution_count": 55,
     "metadata": {},
     "output_type": "execute_result"
    }
   ],
   "source": [
    "gdf_pv['longer_missing'].value_counts()"
   ]
  },
  {
   "cell_type": "code",
   "execution_count": 56,
   "id": "0b13203b-090a-4298-9e26-b43303650e2c",
   "metadata": {},
   "outputs": [],
   "source": [
    "gdf_pv.to_excel(excel_writer=e_writer, sheet_name = 'distance_full_name', index = False)"
   ]
  },
  {
   "cell_type": "code",
   "execution_count": null,
   "id": "18bf465e-7513-42e9-8e4f-ca281d134564",
   "metadata": {},
   "outputs": [],
   "source": []
  },
  {
   "cell_type": "code",
   "execution_count": 57,
   "id": "304c1e5d-20f9-4a70-a8af-585105e97f4f",
   "metadata": {},
   "outputs": [],
   "source": [
    "# remove the all row\n",
    "w_gdf_pv = gdf_pv.loc[gdf_pv['ord_stname_concat'] != 'All', :]"
   ]
  },
  {
   "cell_type": "code",
   "execution_count": 58,
   "id": "1d8d5115-519c-4da9-b99c-fdb67e592ec3",
   "metadata": {},
   "outputs": [
    {
     "data": {
      "text/plain": [
       "(2497, 7)"
      ]
     },
     "execution_count": 58,
     "metadata": {},
     "output_type": "execute_result"
    }
   ],
   "source": [
    "w_gdf_pv.shape"
   ]
  },
  {
   "cell_type": "code",
   "execution_count": 62,
   "id": "d03e5668-9c2e-425c-9d24-5801c5011450",
   "metadata": {},
   "outputs": [
    {
     "data": {
      "text/plain": [
       "1511.0745079236742"
      ]
     },
     "execution_count": 62,
     "metadata": {},
     "output_type": "execute_result"
    }
   ],
   "source": [
    "# number of streets with at least one missing segment\n",
    "split_streets = w_gdf_pv['disconnected_street'].sum()\n",
    "split_streets"
   ]
  },
  {
   "cell_type": "code",
   "execution_count": 63,
   "id": "1ec88b36-6bbb-4a35-8d85-02187c2a7cd4",
   "metadata": {},
   "outputs": [
    {
     "data": {
      "text/plain": [
       "420.9508936253788"
      ]
     },
     "execution_count": 63,
     "metadata": {},
     "output_type": "execute_result"
    }
   ],
   "source": [
    "# number of streets with no missing segments\n",
    "complete_streets = w_gdf_pv['complete_street'].sum()\n",
    "complete_streets"
   ]
  },
  {
   "cell_type": "code",
   "execution_count": 65,
   "id": "8bb21306-30c2-43c5-9720-864e851cb0ff",
   "metadata": {},
   "outputs": [
    {
     "data": {
      "text/plain": [
       "0.7821193793374196"
      ]
     },
     "execution_count": 65,
     "metadata": {},
     "output_type": "execute_result"
    }
   ],
   "source": [
    "split_streets / (split_streets + complete_streets)"
   ]
  },
  {
   "cell_type": "code",
   "execution_count": 67,
   "id": "540aec80-4735-4613-bcd0-61a0ce073770",
   "metadata": {},
   "outputs": [
    {
     "data": {
      "text/plain": [
       "0.2178806206625804"
      ]
     },
     "execution_count": 67,
     "metadata": {},
     "output_type": "execute_result"
    }
   ],
   "source": [
    "complete_streets / (split_streets + complete_streets)"
   ]
  },
  {
   "cell_type": "code",
   "execution_count": 68,
   "id": "d16b0f1e-e6ee-4007-9405-3bb212a7ee91",
   "metadata": {},
   "outputs": [],
   "source": [
    "# 78 percent of streets are multi-segments streets\n",
    "# 22 percent of road miles are single segment streets"
   ]
  },
  {
   "cell_type": "code",
   "execution_count": null,
   "id": "ffb764bb-3eb5-4ab3-b59d-826c722b46f2",
   "metadata": {},
   "outputs": [],
   "source": []
  },
  {
   "cell_type": "code",
   "execution_count": null,
   "id": "22540c8e-a1bc-4497-874e-8f1857cfe896",
   "metadata": {},
   "outputs": [],
   "source": []
  },
  {
   "cell_type": "code",
   "execution_count": null,
   "id": "f9bd13d2-e5b2-4c08-be56-763e9adfa1ce",
   "metadata": {},
   "outputs": [],
   "source": []
  },
  {
   "cell_type": "code",
   "execution_count": null,
   "id": "cc9f6d2f-00c4-47ad-8dcd-e9cd375826dd",
   "metadata": {},
   "outputs": [],
   "source": []
  },
  {
   "cell_type": "code",
   "execution_count": 69,
   "id": "822cd67d-bcd1-4509-a442-cbd8911808a6",
   "metadata": {},
   "outputs": [],
   "source": [
    "e_writer.close()"
   ]
  },
  {
   "cell_type": "code",
   "execution_count": null,
   "id": "3021683e-bf3f-4b8a-b2a7-ec25ea147185",
   "metadata": {},
   "outputs": [],
   "source": []
  },
  {
   "cell_type": "code",
   "execution_count": null,
   "id": "7462ab26-a171-447e-b137-92e467cff2f3",
   "metadata": {},
   "outputs": [],
   "source": []
  },
  {
   "cell_type": "code",
   "execution_count": null,
   "id": "bdc5e1ed-e413-4297-9455-eb9a818403ec",
   "metadata": {},
   "outputs": [],
   "source": []
  },
  {
   "cell_type": "code",
   "execution_count": null,
   "id": "857186be-8ab5-4d31-8e75-697b1eb6bc54",
   "metadata": {},
   "outputs": [],
   "source": []
  },
  {
   "cell_type": "markdown",
   "id": "39645fe5-d0ea-4848-a79a-19603648b951",
   "metadata": {},
   "source": [
    "# LONGEST MISSING STREETS"
   ]
  },
  {
   "cell_type": "code",
   "execution_count": 70,
   "id": "245b03b4-37a9-45f8-8c73-ed815e7eb6c7",
   "metadata": {},
   "outputs": [],
   "source": [
    "wms_gdf = gdf.loc[gdf['street_status'] == 2, :].copy()"
   ]
  },
  {
   "cell_type": "code",
   "execution_count": 71,
   "id": "08f13bc4-7ef7-42a4-8631-c74923c43b7b",
   "metadata": {},
   "outputs": [],
   "source": [
    "wms_gdf['dist_rank'] = wms_gdf['dist'].rank(method = 'dense', ascending = False)"
   ]
  },
  {
   "cell_type": "code",
   "execution_count": 72,
   "id": "318bb352-980b-4633-9223-c96ee4cd0bfe",
   "metadata": {},
   "outputs": [
    {
     "data": {
      "text/plain": [
       "['S 112TH ST',\n",
       " 'S 106TH ST',\n",
       " '20TH AVE S',\n",
       " '11TH AVE S',\n",
       " '33RD AVE SW',\n",
       " 'S 105TH ST',\n",
       " '9TH AVE S',\n",
       " 'S 116TH ST',\n",
       " '7TH PL S',\n",
       " 'S 108TH ST']"
      ]
     },
     "execution_count": 72,
     "metadata": {},
     "output_type": "execute_result"
    }
   ],
   "source": [
    "wms_gdf.loc[wms_gdf['dist_rank'] <= 10, 'ord_stname_concat'].tolist()"
   ]
  },
  {
   "cell_type": "code",
   "execution_count": 73,
   "id": "77d75dd2-492d-4dbe-ac73-7d0b2c67bc73",
   "metadata": {},
   "outputs": [],
   "source": [
    "wms_gdf['dist_miles_log'] = np.log10(wms_gdf['dist_miles'])"
   ]
  },
  {
   "cell_type": "code",
   "execution_count": 74,
   "id": "2bdf45d3-a2b4-4fd3-a9a9-1f2f6464f58b",
   "metadata": {},
   "outputs": [
    {
     "data": {
      "text/plain": [
       "count    3643.000000\n",
       "mean       -1.024413\n",
       "std         0.577650\n",
       "min        -3.128428\n",
       "25%        -1.486670\n",
       "50%        -1.075904\n",
       "75%        -0.601155\n",
       "max         0.696677\n",
       "Name: dist_miles_log, dtype: float64"
      ]
     },
     "execution_count": 74,
     "metadata": {},
     "output_type": "execute_result"
    }
   ],
   "source": [
    "wms_gdf['dist_miles_log'].describe()"
   ]
  },
  {
   "cell_type": "markdown",
   "id": "25c6222c-74b2-4613-a272-dff8a7bb3df6",
   "metadata": {},
   "source": [
    "# LET'S MAKE A GRAPHIC SHOWING THE DISTRIBUTION OF ADDED STREETS"
   ]
  },
  {
   "cell_type": "code",
   "execution_count": 80,
   "id": "7c525a73-5a19-4c34-8e3f-20d0c235d79c",
   "metadata": {},
   "outputs": [],
   "source": [
    "ds_df = wms_gdf['dist_miles'].describe().to_frame().reset_index(names = ['stat'])"
   ]
  },
  {
   "cell_type": "code",
   "execution_count": 81,
   "id": "5e32f197-6d19-4d61-8dd4-eff65476ec40",
   "metadata": {},
   "outputs": [],
   "source": [
    "ds_df = ds_df.loc[-ds_df['stat'].isin(['count', 'std']), :]"
   ]
  },
  {
   "cell_type": "code",
   "execution_count": 82,
   "id": "5f43b2a3-11a8-4670-8b5f-580c432ba6de",
   "metadata": {},
   "outputs": [
    {
     "data": {
      "text/html": [
       "<div>\n",
       "<style scoped>\n",
       "    .dataframe tbody tr th:only-of-type {\n",
       "        vertical-align: middle;\n",
       "    }\n",
       "\n",
       "    .dataframe tbody tr th {\n",
       "        vertical-align: top;\n",
       "    }\n",
       "\n",
       "    .dataframe thead th {\n",
       "        text-align: right;\n",
       "    }\n",
       "</style>\n",
       "<table border=\"1\" class=\"dataframe\">\n",
       "  <thead>\n",
       "    <tr style=\"text-align: right;\">\n",
       "      <th></th>\n",
       "      <th>stat</th>\n",
       "      <th>dist_miles</th>\n",
       "    </tr>\n",
       "  </thead>\n",
       "  <tbody>\n",
       "    <tr>\n",
       "      <th>0</th>\n",
       "      <td>10%</td>\n",
       "      <td>0.018747</td>\n",
       "    </tr>\n",
       "    <tr>\n",
       "      <th>1</th>\n",
       "      <td>95%</td>\n",
       "      <td>0.962718</td>\n",
       "    </tr>\n",
       "    <tr>\n",
       "      <th>2</th>\n",
       "      <td>99%</td>\n",
       "      <td>1.797078</td>\n",
       "    </tr>\n",
       "  </tbody>\n",
       "</table>\n",
       "</div>"
      ],
      "text/plain": [
       "  stat  dist_miles\n",
       "0  10%    0.018747\n",
       "1  95%    0.962718\n",
       "2  99%    1.797078"
      ]
     },
     "execution_count": 82,
     "metadata": {},
     "output_type": "execute_result"
    }
   ],
   "source": [
    "# add the 95-percentile\n",
    "temp_stat_records = [\n",
    "    ['10%', np.quantile(a = wms_gdf['dist_miles'], q = 0.10)],\n",
    "    ['95%', np.quantile(a = wms_gdf['dist_miles'], q = 0.95)],\n",
    "    ['99%', np.quantile(a = wms_gdf['dist_miles'], q = 0.99)]\n",
    "]\n",
    "temp_stat_df = pd.DataFrame(data = temp_stat_records, columns = ds_df.columns)\n",
    "temp_stat_df.head()"
   ]
  },
  {
   "cell_type": "code",
   "execution_count": 83,
   "id": "1131eacf-69d0-466c-be56-3e56afdb5369",
   "metadata": {},
   "outputs": [],
   "source": [
    "ds_df = pd.concat(objs = [ds_df, temp_stat_df], axis = 0)"
   ]
  },
  {
   "cell_type": "code",
   "execution_count": 84,
   "id": "91de3404-7cce-4987-8d60-c082cbad6692",
   "metadata": {},
   "outputs": [],
   "source": [
    "ds_df = ds_df.sort_values(by = ['dist_miles'])"
   ]
  },
  {
   "cell_type": "code",
   "execution_count": 85,
   "id": "d0d5f3dd-3e10-4f84-bf92-21c7f738371e",
   "metadata": {},
   "outputs": [],
   "source": [
    "ds_df['dist_miles_log'] = ds_df['dist_miles'].map(lambda x: np.log10(x))"
   ]
  },
  {
   "cell_type": "code",
   "execution_count": 86,
   "id": "965a66b7-46f5-445f-b84a-773ef91f7e7e",
   "metadata": {},
   "outputs": [],
   "source": [
    "ds_df['color_list'] = 'red'"
   ]
  },
  {
   "cell_type": "code",
   "execution_count": 87,
   "id": "ab435071-39f7-4bcd-8158-6a9d91da59d8",
   "metadata": {},
   "outputs": [],
   "source": [
    "ds_df.loc[ds_df['stat'].isin(['min','mean','max']), 'color_list'] = 'black'"
   ]
  },
  {
   "cell_type": "code",
   "execution_count": 88,
   "id": "8aae0a65-898a-46d4-8338-1b84993e19a1",
   "metadata": {},
   "outputs": [],
   "source": [
    "ds_df['dist_feet'] = ds_df['dist_miles'] * 5280"
   ]
  },
  {
   "cell_type": "code",
   "execution_count": 161,
   "id": "563fa33d-01c4-4e69-980d-1fe762e14bdc",
   "metadata": {},
   "outputs": [],
   "source": [
    "ds_df['text_ha'] = ['left', 'right',  'center', 'right', 'right', 'left', 'center', 'center', 'right']"
   ]
  },
  {
   "cell_type": "code",
   "execution_count": 162,
   "id": "fee2b3cf-5d58-4bdf-b759-009fab23a2db",
   "metadata": {},
   "outputs": [],
   "source": [
    "ds_df['text'] = ['4ft (min)', '99 ft (10%)', '172 ft (25%)', '443 ft (med.)', '0.23 mi (avg.)', '0.25 mi (75%)', '0.96 mi (95%)','1.8 mi (99%)', '5 mi (max)']"
   ]
  },
  {
   "cell_type": "code",
   "execution_count": 163,
   "id": "2da23a3b-fff6-4263-bd00-1b8f8e9aeb38",
   "metadata": {},
   "outputs": [],
   "source": [
    "ds_df['text_jitter'] = [0, .001, 0, .05, 0, 0, -.05, 0, 0]"
   ]
  },
  {
   "cell_type": "code",
   "execution_count": 164,
   "id": "cbd0ccc4-51f5-498f-9e11-7165350e00ab",
   "metadata": {},
   "outputs": [],
   "source": [
    "ds_df['text_x_pos'] = ds_df['dist_miles_log'] + ds_df['text_jitter']"
   ]
  },
  {
   "cell_type": "code",
   "execution_count": 165,
   "id": "11de704b-c412-4058-a214-d40b24dfb3cf",
   "metadata": {},
   "outputs": [
    {
     "data": {
      "text/html": [
       "<div>\n",
       "<style scoped>\n",
       "    .dataframe tbody tr th:only-of-type {\n",
       "        vertical-align: middle;\n",
       "    }\n",
       "\n",
       "    .dataframe tbody tr th {\n",
       "        vertical-align: top;\n",
       "    }\n",
       "\n",
       "    .dataframe thead th {\n",
       "        text-align: right;\n",
       "    }\n",
       "</style>\n",
       "<table border=\"1\" class=\"dataframe\">\n",
       "  <thead>\n",
       "    <tr style=\"text-align: right;\">\n",
       "      <th></th>\n",
       "      <th>stat</th>\n",
       "      <th>dist_miles</th>\n",
       "      <th>dist_miles_log</th>\n",
       "      <th>color_list</th>\n",
       "      <th>dist_feet</th>\n",
       "      <th>text_ha</th>\n",
       "      <th>text</th>\n",
       "      <th>text_jitter</th>\n",
       "      <th>text_x_pos</th>\n",
       "    </tr>\n",
       "  </thead>\n",
       "  <tbody>\n",
       "    <tr>\n",
       "      <th>3</th>\n",
       "      <td>min</td>\n",
       "      <td>0.000744</td>\n",
       "      <td>-3.128428</td>\n",
       "      <td>black</td>\n",
       "      <td>3.928314</td>\n",
       "      <td>left</td>\n",
       "      <td>4ft (min)</td>\n",
       "      <td>0.000</td>\n",
       "      <td>-3.128428</td>\n",
       "    </tr>\n",
       "    <tr>\n",
       "      <th>0</th>\n",
       "      <td>10%</td>\n",
       "      <td>0.018747</td>\n",
       "      <td>-1.727074</td>\n",
       "      <td>red</td>\n",
       "      <td>98.982774</td>\n",
       "      <td>right</td>\n",
       "      <td>99 ft (10%)</td>\n",
       "      <td>0.001</td>\n",
       "      <td>-1.726074</td>\n",
       "    </tr>\n",
       "    <tr>\n",
       "      <th>4</th>\n",
       "      <td>25%</td>\n",
       "      <td>0.032608</td>\n",
       "      <td>-1.486670</td>\n",
       "      <td>red</td>\n",
       "      <td>172.172750</td>\n",
       "      <td>center</td>\n",
       "      <td>172 ft (25%)</td>\n",
       "      <td>0.000</td>\n",
       "      <td>-1.486670</td>\n",
       "    </tr>\n",
       "    <tr>\n",
       "      <th>5</th>\n",
       "      <td>50%</td>\n",
       "      <td>0.083964</td>\n",
       "      <td>-1.075904</td>\n",
       "      <td>red</td>\n",
       "      <td>443.332350</td>\n",
       "      <td>right</td>\n",
       "      <td>443 ft (med.)</td>\n",
       "      <td>0.050</td>\n",
       "      <td>-1.025904</td>\n",
       "    </tr>\n",
       "    <tr>\n",
       "      <th>1</th>\n",
       "      <td>mean</td>\n",
       "      <td>0.228895</td>\n",
       "      <td>-0.640363</td>\n",
       "      <td>black</td>\n",
       "      <td>1208.567839</td>\n",
       "      <td>right</td>\n",
       "      <td>0.23 mi (avg.)</td>\n",
       "      <td>0.000</td>\n",
       "      <td>-0.640363</td>\n",
       "    </tr>\n",
       "    <tr>\n",
       "      <th>6</th>\n",
       "      <td>75%</td>\n",
       "      <td>0.250521</td>\n",
       "      <td>-0.601155</td>\n",
       "      <td>red</td>\n",
       "      <td>1322.752385</td>\n",
       "      <td>left</td>\n",
       "      <td>0.25 mi (75%)</td>\n",
       "      <td>0.000</td>\n",
       "      <td>-0.601155</td>\n",
       "    </tr>\n",
       "    <tr>\n",
       "      <th>1</th>\n",
       "      <td>95%</td>\n",
       "      <td>0.962718</td>\n",
       "      <td>-0.016501</td>\n",
       "      <td>red</td>\n",
       "      <td>5083.153075</td>\n",
       "      <td>center</td>\n",
       "      <td>0.96 mi (95%)</td>\n",
       "      <td>-0.050</td>\n",
       "      <td>-0.066501</td>\n",
       "    </tr>\n",
       "    <tr>\n",
       "      <th>2</th>\n",
       "      <td>99%</td>\n",
       "      <td>1.797078</td>\n",
       "      <td>0.254567</td>\n",
       "      <td>red</td>\n",
       "      <td>9488.573933</td>\n",
       "      <td>center</td>\n",
       "      <td>1.8 mi (99%)</td>\n",
       "      <td>0.000</td>\n",
       "      <td>0.254567</td>\n",
       "    </tr>\n",
       "    <tr>\n",
       "      <th>7</th>\n",
       "      <td>max</td>\n",
       "      <td>4.973674</td>\n",
       "      <td>0.696677</td>\n",
       "      <td>black</td>\n",
       "      <td>26261.000182</td>\n",
       "      <td>right</td>\n",
       "      <td>5 mi (max)</td>\n",
       "      <td>0.000</td>\n",
       "      <td>0.696677</td>\n",
       "    </tr>\n",
       "  </tbody>\n",
       "</table>\n",
       "</div>"
      ],
      "text/plain": [
       "   stat  dist_miles  dist_miles_log color_list     dist_feet text_ha  \\\n",
       "3   min    0.000744       -3.128428      black      3.928314    left   \n",
       "0   10%    0.018747       -1.727074        red     98.982774   right   \n",
       "4   25%    0.032608       -1.486670        red    172.172750  center   \n",
       "5   50%    0.083964       -1.075904        red    443.332350   right   \n",
       "1  mean    0.228895       -0.640363      black   1208.567839   right   \n",
       "6   75%    0.250521       -0.601155        red   1322.752385    left   \n",
       "1   95%    0.962718       -0.016501        red   5083.153075  center   \n",
       "2   99%    1.797078        0.254567        red   9488.573933  center   \n",
       "7   max    4.973674        0.696677      black  26261.000182   right   \n",
       "\n",
       "             text  text_jitter  text_x_pos  \n",
       "3       4ft (min)        0.000   -3.128428  \n",
       "0     99 ft (10%)        0.001   -1.726074  \n",
       "4    172 ft (25%)        0.000   -1.486670  \n",
       "5   443 ft (med.)        0.050   -1.025904  \n",
       "1  0.23 mi (avg.)        0.000   -0.640363  \n",
       "6   0.25 mi (75%)        0.000   -0.601155  \n",
       "1   0.96 mi (95%)       -0.050   -0.066501  \n",
       "2    1.8 mi (99%)        0.000    0.254567  \n",
       "7      5 mi (max)        0.000    0.696677  "
      ]
     },
     "execution_count": 165,
     "metadata": {},
     "output_type": "execute_result"
    }
   ],
   "source": [
    "ds_df.head(n=10)"
   ]
  },
  {
   "cell_type": "code",
   "execution_count": 182,
   "id": "ae4c5536-b909-461f-ab60-742848295312",
   "metadata": {},
   "outputs": [
    {
     "name": "stdout",
     "output_type": "stream",
     "text": [
      "10\n",
      "10\n",
      "..\\assets\\dist_histogram.png\n"
     ]
    },
    {
     "data": {
      "image/png": "[encoded data removed]",
      "text/plain": [
       "<Figure size 2000x500 with 1 Axes>"
      ]
     },
     "metadata": {},
     "output_type": "display_data"
    }
   ],
   "source": [
    "# let's make a graphic showing the distances\n",
    "sns.set_theme(style = \"whitegrid\")\n",
    "f, ax = plt.subplots(figsize = (20, 5))\n",
    "\n",
    "ax.set_ylim(0, 185.6)\n",
    "\n",
    "my_plot = sns.histplot(data = wms_gdf, x = 'dist_miles_log',\n",
    "                      color='darkgreen', bins = 100)\n",
    "\n",
    "y_ticks = list(range(0, 176, 25))\n",
    "y_tick_labels_formatted = ['{:,}'.format(ytl) for ytl in y_ticks]   \n",
    "\n",
    "my_plot.set_yticks(ticks = y_ticks)\n",
    "my_plot.set_yticklabels(labels = y_tick_labels_formatted, rotation=0)\n",
    "\n",
    "plt.title(label = \"Histogram of missing street segment length\", fontsize = 16)\n",
    "plt.xlabel(xlabel = 'Missing street segment length (log-scale)')\n",
    "plt.ylabel(ylabel = \"Number of misssing street segments\")\n",
    "\n",
    "x_tick_labels = [50 / 5280, 100 / 5280, 300 / 5280, .1, .25, .5, 1, 1.5, 2, 3]\n",
    "x_ticks = [np.log10(xtl) for xtl in x_tick_labels]\n",
    "print(len(x_ticks))\n",
    "\n",
    "x_tick_label_text = ['50 ft', '100 ft', '300 ft',  '1/10 mi', '1/4 mi', '1/2 mi', '1 mi', '1.5 mi', '2 mi', '3 mi']\n",
    "print(len(x_tick_label_text))\n",
    "\n",
    "my_plot.set_xticks(ticks = x_ticks)\n",
    "my_plot.set_xticklabels(labels = x_tick_label_text, rotation=0)\n",
    "\n",
    "# add vertical lines at some descriptive statistics points\n",
    "my_plot.vlines(x = ds_df['dist_miles_log'], ymin = 0, ymax = 175, color = ds_df['color_list'], linestyles = 'dashed')\n",
    "my_plot.hlines(y = 185, xmin = -3.2, xmax = 1, colors = 'black')\n",
    "\n",
    "for ir, row in ds_df.iterrows():\n",
    "    my_plot.text(x = row['text_x_pos'], y = 176, s = row['text'], horizontalalignment = row['text_ha'], color = 'red')\n",
    "\n",
    "\n",
    "output_file_name = '..\\\\assets\\\\dist_histogram.png'\n",
    "output_file_name = os.path.normpath(output_file_name)\n",
    "print(output_file_name)\n",
    "my_plot.get_figure().savefig(fname = output_file_name)\n",
    "plt.show()"
   ]
  },
  {
   "cell_type": "code",
   "execution_count": null,
   "id": "3f4237a2-5a59-49d5-9b08-1b7be0b19fab",
   "metadata": {},
   "outputs": [],
   "source": []
  }
 ],
 "metadata": {
  "kernelspec": {
   "display_name": "Python 3 (ipykernel)",
   "language": "python",
   "name": "python3"
  },
  "language_info": {
   "codemirror_mode": {
    "name": "ipython",
    "version": 3
   },
   "file_extension": ".py",
   "mimetype": "text/x-python",
   "name": "python",
   "nbconvert_exporter": "python",
   "pygments_lexer": "ipython3",
   "version": "3.12.7"
  }
 },
 "nbformat": 4,
 "nbformat_minor": 5
}
