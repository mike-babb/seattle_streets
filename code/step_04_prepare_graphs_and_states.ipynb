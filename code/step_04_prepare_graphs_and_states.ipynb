{
 "cells": [
  {
   "cell_type": "markdown",
   "id": "fed9e25b-c5b9-4aee-89cd-15a7da3945c0",
   "metadata": {},
   "source": [
    "# Part 04: Tabulate statistics on the street disconntinuties\n",
    "michael babb  \n",
    "2024 11 24"
   ]
  },
  {
   "cell_type": "code",
   "execution_count": 1,
   "id": "e88ca8b2-b75d-4e72-8fc7-65c4cea61cde",
   "metadata": {},
   "outputs": [],
   "source": [
    "# standard\n",
    "import os"
   ]
  },
  {
   "cell_type": "code",
   "execution_count": 2,
   "id": "0778d9a5-0c62-4724-be28-c21598d23b6f",
   "metadata": {},
   "outputs": [],
   "source": [
    "# external\n",
    "import geopandas as gpd\n",
    "import matplotlib.pyplot as plt\n",
    "import numpy as np\n",
    "import pandas as pd\n",
    "import seaborn as sns"
   ]
  },
  {
   "cell_type": "code",
   "execution_count": 3,
   "id": "2fc61400-c637-4828-820d-56c2cdd14942",
   "metadata": {},
   "outputs": [],
   "source": [
    "# custom\n",
    "import run_constants as rc\n",
    "from utils import *"
   ]
  },
  {
   "cell_type": "markdown",
   "id": "358f0850-02ab-40e9-9153-bfafaa9ec699",
   "metadata": {},
   "source": [
    "# output"
   ]
  },
  {
   "cell_type": "code",
   "execution_count": 4,
   "id": "38fa089c-59ba-46ae-9dbf-9956fc58b714",
   "metadata": {},
   "outputs": [],
   "source": [
    "ofpn = os.path.join(rc.ANALYSIS_OUTPUT_FILE_PATH, rc.S04_ANALYSIS_OUT_FILE_NAME)"
   ]
  },
  {
   "cell_type": "code",
   "execution_count": 5,
   "id": "0dc40716-4c84-4eea-b7c3-0253e57e9f84",
   "metadata": {},
   "outputs": [],
   "source": [
    "e_writer = pd.ExcelWriter(path = ofpn)"
   ]
  },
  {
   "cell_type": "markdown",
   "id": "d56ea77e-ffd7-4326-b793-415f8a131ef2",
   "metadata": {},
   "source": [
    "# load the street network data"
   ]
  },
  {
   "cell_type": "code",
   "execution_count": 6,
   "id": "ddf62724-9105-44c9-b983-e4f520328fa9",
   "metadata": {},
   "outputs": [],
   "source": [
    "fpn = os.path.join(rc.OUTPUT_FILE_PATH, rc.S04_MISSING_IN_FILE_NAME)"
   ]
  },
  {
   "cell_type": "code",
   "execution_count": 7,
   "id": "2cbdb5c1-c973-4882-b442-cf5396e90d3e",
   "metadata": {},
   "outputs": [],
   "source": [
    "gdf = gpd.read_file(filename = fpn)"
   ]
  },
  {
   "cell_type": "code",
   "execution_count": 8,
   "id": "ce02bdf0-a0ca-46a5-bf8f-54b576ee2de7",
   "metadata": {},
   "outputs": [
    {
     "data": {
      "text/plain": [
       "Index(['snd_id', 'ord_street_name', 'ord_stname_concat', 'ord_street_type',\n",
       "       'ord_street_type_rank', 'snd_group', 'street_status', 'sn_id', 'en_id',\n",
       "       'dist', 'dist_miles', 'geometry'],\n",
       "      dtype='object')"
      ]
     },
     "execution_count": 8,
     "metadata": {},
     "output_type": "execute_result"
    }
   ],
   "source": [
    "gdf.columns"
   ]
  },
  {
   "cell_type": "code",
   "execution_count": 9,
   "id": "0b203ee7-3a98-4f02-970b-b9d463918afe",
   "metadata": {},
   "outputs": [],
   "source": [
    "gdf['n_segments'] = int(1)"
   ]
  },
  {
   "cell_type": "code",
   "execution_count": 10,
   "id": "ca5fec99-9b05-4830-b081-74d31d82aa61",
   "metadata": {},
   "outputs": [],
   "source": [
    "# add text descriptions for the street type categories\n",
    "missing_dict = {0:'complete_street',\n",
    "                1:'disconnected_street',\n",
    "                2:'missing_street'}"
   ]
  },
  {
   "cell_type": "code",
   "execution_count": 11,
   "id": "a77fd1ec-b9c2-4814-bdcd-688df88d4c2e",
   "metadata": {},
   "outputs": [],
   "source": [
    "gdf['street_status_desc'] = gdf['street_status'].map(missing_dict)"
   ]
  },
  {
   "cell_type": "markdown",
   "id": "f18a47d3-1f2c-444b-ab15-a079f9c80557",
   "metadata": {},
   "source": [
    "# what street name - excluding direction - has the most street types?"
   ]
  },
  {
   "cell_type": "code",
   "execution_count": 12,
   "id": "6ba407e8-2619-457d-bdca-d90d341a5e01",
   "metadata": {},
   "outputs": [],
   "source": [
    "col_names = ['ord_street_name', 'ord_street_type', 'n_segments']"
   ]
  },
  {
   "cell_type": "code",
   "execution_count": 13,
   "id": "7b7f1fb8-5923-4262-b8dd-8a672837cf82",
   "metadata": {},
   "outputs": [],
   "source": [
    "gdf_agg = gdf[col_names].drop_duplicates()"
   ]
  },
  {
   "cell_type": "code",
   "execution_count": 14,
   "id": "039bb6c4-897a-4094-9555-bdb3dc0f316d",
   "metadata": {},
   "outputs": [],
   "source": [
    "gdf_pv = pd.pivot_table(data = gdf_agg, values = ['n_segments'], index = 'ord_street_name', columns = ['ord_street_type'], aggfunc = 'sum', fill_value = 0, margins = True).reset_index()"
   ]
  },
  {
   "cell_type": "code",
   "execution_count": 15,
   "id": "50cc7c5b-8352-4466-a490-b85b9773f04e",
   "metadata": {},
   "outputs": [],
   "source": [
    "gdf_pv.columns = [''.join(cn).replace('n_segments', '') for cn in gdf_pv.columns]"
   ]
  },
  {
   "cell_type": "code",
   "execution_count": 16,
   "id": "949704f8-42df-4ac4-b178-696183ffac2b",
   "metadata": {},
   "outputs": [
    {
     "data": {
      "text/html": [
       "<div>\n",
       "<style scoped>\n",
       "    .dataframe tbody tr th:only-of-type {\n",
       "        vertical-align: middle;\n",
       "    }\n",
       "\n",
       "    .dataframe tbody tr th {\n",
       "        vertical-align: top;\n",
       "    }\n",
       "\n",
       "    .dataframe thead th {\n",
       "        text-align: right;\n",
       "    }\n",
       "</style>\n",
       "<table border=\"1\" class=\"dataframe\">\n",
       "  <thead>\n",
       "    <tr style=\"text-align: right;\">\n",
       "      <th></th>\n",
       "      <th>ord_street_name</th>\n",
       "      <th>AVE</th>\n",
       "      <th>BLVD</th>\n",
       "      <th>BR</th>\n",
       "      <th>CIR</th>\n",
       "      <th>CT</th>\n",
       "      <th>DR</th>\n",
       "      <th>LN</th>\n",
       "      <th>LOOP</th>\n",
       "      <th>MALL</th>\n",
       "      <th>PKWY</th>\n",
       "      <th>PL</th>\n",
       "      <th>PZ</th>\n",
       "      <th>RD</th>\n",
       "      <th>ST</th>\n",
       "      <th>TER</th>\n",
       "      <th>VIEW</th>\n",
       "      <th>WAY</th>\n",
       "      <th>All</th>\n",
       "    </tr>\n",
       "  </thead>\n",
       "  <tbody>\n",
       "    <tr>\n",
       "      <th>0</th>\n",
       "      <td>100TH</td>\n",
       "      <td>0</td>\n",
       "      <td>0</td>\n",
       "      <td>0</td>\n",
       "      <td>0</td>\n",
       "      <td>0</td>\n",
       "      <td>0</td>\n",
       "      <td>0</td>\n",
       "      <td>0</td>\n",
       "      <td>0</td>\n",
       "      <td>0</td>\n",
       "      <td>1</td>\n",
       "      <td>0</td>\n",
       "      <td>0</td>\n",
       "      <td>1</td>\n",
       "      <td>0</td>\n",
       "      <td>0</td>\n",
       "      <td>0</td>\n",
       "      <td>2</td>\n",
       "    </tr>\n",
       "    <tr>\n",
       "      <th>1</th>\n",
       "      <td>101ST</td>\n",
       "      <td>0</td>\n",
       "      <td>0</td>\n",
       "      <td>0</td>\n",
       "      <td>0</td>\n",
       "      <td>0</td>\n",
       "      <td>0</td>\n",
       "      <td>0</td>\n",
       "      <td>0</td>\n",
       "      <td>0</td>\n",
       "      <td>0</td>\n",
       "      <td>1</td>\n",
       "      <td>0</td>\n",
       "      <td>0</td>\n",
       "      <td>1</td>\n",
       "      <td>0</td>\n",
       "      <td>0</td>\n",
       "      <td>0</td>\n",
       "      <td>2</td>\n",
       "    </tr>\n",
       "    <tr>\n",
       "      <th>2</th>\n",
       "      <td>102ND</td>\n",
       "      <td>0</td>\n",
       "      <td>0</td>\n",
       "      <td>0</td>\n",
       "      <td>0</td>\n",
       "      <td>0</td>\n",
       "      <td>0</td>\n",
       "      <td>1</td>\n",
       "      <td>0</td>\n",
       "      <td>0</td>\n",
       "      <td>0</td>\n",
       "      <td>0</td>\n",
       "      <td>0</td>\n",
       "      <td>0</td>\n",
       "      <td>1</td>\n",
       "      <td>0</td>\n",
       "      <td>0</td>\n",
       "      <td>0</td>\n",
       "      <td>2</td>\n",
       "    </tr>\n",
       "    <tr>\n",
       "      <th>3</th>\n",
       "      <td>103RD</td>\n",
       "      <td>0</td>\n",
       "      <td>0</td>\n",
       "      <td>0</td>\n",
       "      <td>0</td>\n",
       "      <td>0</td>\n",
       "      <td>0</td>\n",
       "      <td>0</td>\n",
       "      <td>0</td>\n",
       "      <td>0</td>\n",
       "      <td>0</td>\n",
       "      <td>1</td>\n",
       "      <td>0</td>\n",
       "      <td>0</td>\n",
       "      <td>1</td>\n",
       "      <td>0</td>\n",
       "      <td>0</td>\n",
       "      <td>0</td>\n",
       "      <td>2</td>\n",
       "    </tr>\n",
       "    <tr>\n",
       "      <th>4</th>\n",
       "      <td>104TH</td>\n",
       "      <td>0</td>\n",
       "      <td>0</td>\n",
       "      <td>0</td>\n",
       "      <td>0</td>\n",
       "      <td>0</td>\n",
       "      <td>0</td>\n",
       "      <td>1</td>\n",
       "      <td>0</td>\n",
       "      <td>0</td>\n",
       "      <td>0</td>\n",
       "      <td>1</td>\n",
       "      <td>0</td>\n",
       "      <td>0</td>\n",
       "      <td>1</td>\n",
       "      <td>0</td>\n",
       "      <td>0</td>\n",
       "      <td>1</td>\n",
       "      <td>4</td>\n",
       "    </tr>\n",
       "  </tbody>\n",
       "</table>\n",
       "</div>"
      ],
      "text/plain": [
       "  ord_street_name  AVE  BLVD  BR  CIR  CT  DR  LN  LOOP  MALL  PKWY  PL  PZ  \\\n",
       "0           100TH    0     0   0    0   0   0   0     0     0     0   1   0   \n",
       "1           101ST    0     0   0    0   0   0   0     0     0     0   1   0   \n",
       "2           102ND    0     0   0    0   0   0   1     0     0     0   0   0   \n",
       "3           103RD    0     0   0    0   0   0   0     0     0     0   1   0   \n",
       "4           104TH    0     0   0    0   0   0   1     0     0     0   1   0   \n",
       "\n",
       "   RD  ST  TER  VIEW  WAY  All  \n",
       "0   0   1    0     0    0    2  \n",
       "1   0   1    0     0    0    2  \n",
       "2   0   1    0     0    0    2  \n",
       "3   0   1    0     0    0    2  \n",
       "4   0   1    0     0    1    4  "
      ]
     },
     "execution_count": 16,
     "metadata": {},
     "output_type": "execute_result"
    }
   ],
   "source": [
    "gdf_pv.head()"
   ]
  },
  {
   "cell_type": "code",
   "execution_count": 17,
   "id": "8b3a5d0a-f993-4352-a96c-0f15218d5103",
   "metadata": {},
   "outputs": [],
   "source": [
    "gdf_pv.to_excel(excel_writer=e_writer, sheet_name = 's_type_count', index = False)"
   ]
  },
  {
   "cell_type": "markdown",
   "id": "1b7bb5ae-834e-4078-b830-ed9f8f6c29de",
   "metadata": {},
   "source": [
    "# what street name - excluding type - has the most street connections?"
   ]
  },
  {
   "cell_type": "code",
   "execution_count": 18,
   "id": "816f7b54-543e-4afa-aa2c-1d92197435fe",
   "metadata": {},
   "outputs": [],
   "source": [
    "col_names = ['ord_street_name', 'ord_stname_concat', 'street_status_desc', 'n_segments']\n",
    "gdf_agg = gdf[col_names].drop_duplicates()"
   ]
  },
  {
   "cell_type": "code",
   "execution_count": 19,
   "id": "b30c8d9a-5711-4c9a-bea9-fe2e4ac06eee",
   "metadata": {},
   "outputs": [],
   "source": [
    "gdf_pv = pd.pivot_table(data = gdf_agg, values = ['n_segments'], index = 'ord_street_name', columns = ['street_status_desc'],\n",
    "                        aggfunc = 'sum', fill_value = 0, margins = True).reset_index()"
   ]
  },
  {
   "cell_type": "code",
   "execution_count": 20,
   "id": "f54b0198-3b4d-4cac-8e8a-3f0070ba1666",
   "metadata": {},
   "outputs": [
    {
     "data": {
      "text/html": [
       "<div>\n",
       "<style scoped>\n",
       "    .dataframe tbody tr th:only-of-type {\n",
       "        vertical-align: middle;\n",
       "    }\n",
       "\n",
       "    .dataframe tbody tr th {\n",
       "        vertical-align: top;\n",
       "    }\n",
       "\n",
       "    .dataframe thead tr th {\n",
       "        text-align: left;\n",
       "    }\n",
       "</style>\n",
       "<table border=\"1\" class=\"dataframe\">\n",
       "  <thead>\n",
       "    <tr>\n",
       "      <th></th>\n",
       "      <th>ord_street_name</th>\n",
       "      <th colspan=\"4\" halign=\"left\">n_segments</th>\n",
       "    </tr>\n",
       "    <tr>\n",
       "      <th>street_status_desc</th>\n",
       "      <th></th>\n",
       "      <th>complete_street</th>\n",
       "      <th>disconnected_street</th>\n",
       "      <th>missing_street</th>\n",
       "      <th>All</th>\n",
       "    </tr>\n",
       "  </thead>\n",
       "  <tbody>\n",
       "    <tr>\n",
       "      <th>0</th>\n",
       "      <td>100TH</td>\n",
       "      <td>3</td>\n",
       "      <td>4</td>\n",
       "      <td>4</td>\n",
       "      <td>11</td>\n",
       "    </tr>\n",
       "    <tr>\n",
       "      <th>1</th>\n",
       "      <td>101ST</td>\n",
       "      <td>3</td>\n",
       "      <td>2</td>\n",
       "      <td>2</td>\n",
       "      <td>7</td>\n",
       "    </tr>\n",
       "    <tr>\n",
       "      <th>2</th>\n",
       "      <td>102ND</td>\n",
       "      <td>2</td>\n",
       "      <td>3</td>\n",
       "      <td>3</td>\n",
       "      <td>8</td>\n",
       "    </tr>\n",
       "    <tr>\n",
       "      <th>3</th>\n",
       "      <td>103RD</td>\n",
       "      <td>2</td>\n",
       "      <td>5</td>\n",
       "      <td>5</td>\n",
       "      <td>12</td>\n",
       "    </tr>\n",
       "    <tr>\n",
       "      <th>4</th>\n",
       "      <td>104TH</td>\n",
       "      <td>4</td>\n",
       "      <td>4</td>\n",
       "      <td>4</td>\n",
       "      <td>12</td>\n",
       "    </tr>\n",
       "  </tbody>\n",
       "</table>\n",
       "</div>"
      ],
      "text/plain": [
       "                   ord_street_name      n_segments                      \\\n",
       "street_status_desc                 complete_street disconnected_street   \n",
       "0                            100TH               3                   4   \n",
       "1                            101ST               3                   2   \n",
       "2                            102ND               2                   3   \n",
       "3                            103RD               2                   5   \n",
       "4                            104TH               4                   4   \n",
       "\n",
       "                                       \n",
       "street_status_desc missing_street All  \n",
       "0                               4  11  \n",
       "1                               2   7  \n",
       "2                               3   8  \n",
       "3                               5  12  \n",
       "4                               4  12  "
      ]
     },
     "execution_count": 20,
     "metadata": {},
     "output_type": "execute_result"
    }
   ],
   "source": [
    "gdf_pv.head()"
   ]
  },
  {
   "cell_type": "code",
   "execution_count": 21,
   "id": "b56fdcf8-da0a-4f91-a222-8df69eb1bd7f",
   "metadata": {},
   "outputs": [],
   "source": [
    "gdf_pv.columns = [''.join(cn).replace('n_segments', '') for cn in gdf_pv.columns]"
   ]
  },
  {
   "cell_type": "code",
   "execution_count": 22,
   "id": "0dd440d1-d9ec-4133-8131-09d79bfdd3e8",
   "metadata": {},
   "outputs": [
    {
     "data": {
      "text/plain": [
       "Index(['ord_street_name', 'complete_street', 'disconnected_street',\n",
       "       'missing_street', 'All'],\n",
       "      dtype='object')"
      ]
     },
     "execution_count": 22,
     "metadata": {},
     "output_type": "execute_result"
    }
   ],
   "source": [
    "gdf_pv.columns"
   ]
  },
  {
   "cell_type": "code",
   "execution_count": 23,
   "id": "c0384c02-840a-4534-a919-2cdb1b5693d2",
   "metadata": {},
   "outputs": [
    {
     "data": {
      "text/html": [
       "<div>\n",
       "<style scoped>\n",
       "    .dataframe tbody tr th:only-of-type {\n",
       "        vertical-align: middle;\n",
       "    }\n",
       "\n",
       "    .dataframe tbody tr th {\n",
       "        vertical-align: top;\n",
       "    }\n",
       "\n",
       "    .dataframe thead th {\n",
       "        text-align: right;\n",
       "    }\n",
       "</style>\n",
       "<table border=\"1\" class=\"dataframe\">\n",
       "  <thead>\n",
       "    <tr style=\"text-align: right;\">\n",
       "      <th></th>\n",
       "      <th>ord_street_name</th>\n",
       "      <th>complete_street</th>\n",
       "      <th>disconnected_street</th>\n",
       "      <th>missing_street</th>\n",
       "      <th>All</th>\n",
       "    </tr>\n",
       "  </thead>\n",
       "  <tbody>\n",
       "    <tr>\n",
       "      <th>0</th>\n",
       "      <td>100TH</td>\n",
       "      <td>3</td>\n",
       "      <td>4</td>\n",
       "      <td>4</td>\n",
       "      <td>11</td>\n",
       "    </tr>\n",
       "    <tr>\n",
       "      <th>1</th>\n",
       "      <td>101ST</td>\n",
       "      <td>3</td>\n",
       "      <td>2</td>\n",
       "      <td>2</td>\n",
       "      <td>7</td>\n",
       "    </tr>\n",
       "    <tr>\n",
       "      <th>2</th>\n",
       "      <td>102ND</td>\n",
       "      <td>2</td>\n",
       "      <td>3</td>\n",
       "      <td>3</td>\n",
       "      <td>8</td>\n",
       "    </tr>\n",
       "    <tr>\n",
       "      <th>3</th>\n",
       "      <td>103RD</td>\n",
       "      <td>2</td>\n",
       "      <td>5</td>\n",
       "      <td>5</td>\n",
       "      <td>12</td>\n",
       "    </tr>\n",
       "    <tr>\n",
       "      <th>4</th>\n",
       "      <td>104TH</td>\n",
       "      <td>4</td>\n",
       "      <td>4</td>\n",
       "      <td>4</td>\n",
       "      <td>12</td>\n",
       "    </tr>\n",
       "  </tbody>\n",
       "</table>\n",
       "</div>"
      ],
      "text/plain": [
       "  ord_street_name  complete_street  disconnected_street  missing_street  All\n",
       "0           100TH                3                    4               4   11\n",
       "1           101ST                3                    2               2    7\n",
       "2           102ND                2                    3               3    8\n",
       "3           103RD                2                    5               5   12\n",
       "4           104TH                4                    4               4   12"
      ]
     },
     "execution_count": 23,
     "metadata": {},
     "output_type": "execute_result"
    }
   ],
   "source": [
    "gdf_pv.head()"
   ]
  },
  {
   "cell_type": "code",
   "execution_count": 24,
   "id": "cac54e56-219b-492f-ae81-d072405e9cb2",
   "metadata": {},
   "outputs": [],
   "source": [
    "gdf_pv.to_excel(excel_writer=e_writer, sheet_name = 'connection_count_by_name', index = False)"
   ]
  },
  {
   "cell_type": "markdown",
   "id": "08b2c5f6-690e-4ac9-bdc4-5e0514b33a64",
   "metadata": {},
   "source": [
    "# what street name - include direction and type - has the most street connections?"
   ]
  },
  {
   "cell_type": "code",
   "execution_count": 25,
   "id": "01a1bf1f-227a-4af1-a828-8bef3e0f08c3",
   "metadata": {},
   "outputs": [],
   "source": [
    "col_names = ['ord_stname_concat', 'ord_street_type', 'street_status', 'street_status_desc', 'n_segments']\n",
    "gdf_agg = gdf[col_names]"
   ]
  },
  {
   "cell_type": "code",
   "execution_count": 26,
   "id": "78d1c42a-2682-4029-abdf-ec0b76cd0758",
   "metadata": {},
   "outputs": [],
   "source": [
    "gdf_pv = pd.pivot_table(data = gdf_agg, values = ['n_segments'], index = ['ord_stname_concat', 'ord_street_type'],\n",
    "                        columns = ['street_status_desc'], aggfunc = 'sum', fill_value = 0, margins = True).reset_index()"
   ]
  },
  {
   "cell_type": "code",
   "execution_count": 27,
   "id": "7f72b0c0-9358-4814-895d-e3bdd2e67df5",
   "metadata": {},
   "outputs": [],
   "source": [
    "gdf_pv.columns = [''.join(cn).replace('n_segments', '') for cn in gdf_pv.columns]"
   ]
  },
  {
   "cell_type": "code",
   "execution_count": 28,
   "id": "0c16ca15-fced-4ee7-b1fb-e0507f8c6201",
   "metadata": {},
   "outputs": [
    {
     "data": {
      "text/html": [
       "<div>\n",
       "<style scoped>\n",
       "    .dataframe tbody tr th:only-of-type {\n",
       "        vertical-align: middle;\n",
       "    }\n",
       "\n",
       "    .dataframe tbody tr th {\n",
       "        vertical-align: top;\n",
       "    }\n",
       "\n",
       "    .dataframe thead th {\n",
       "        text-align: right;\n",
       "    }\n",
       "</style>\n",
       "<table border=\"1\" class=\"dataframe\">\n",
       "  <thead>\n",
       "    <tr style=\"text-align: right;\">\n",
       "      <th></th>\n",
       "      <th>ord_stname_concat</th>\n",
       "      <th>ord_street_type</th>\n",
       "      <th>complete_street</th>\n",
       "      <th>disconnected_street</th>\n",
       "      <th>missing_street</th>\n",
       "      <th>All</th>\n",
       "    </tr>\n",
       "  </thead>\n",
       "  <tbody>\n",
       "    <tr>\n",
       "      <th>0</th>\n",
       "      <td>10TH AVE</td>\n",
       "      <td>AVE</td>\n",
       "      <td>0</td>\n",
       "      <td>11</td>\n",
       "      <td>3</td>\n",
       "      <td>14</td>\n",
       "    </tr>\n",
       "    <tr>\n",
       "      <th>1</th>\n",
       "      <td>10TH AVE E</td>\n",
       "      <td>AVE</td>\n",
       "      <td>0</td>\n",
       "      <td>21</td>\n",
       "      <td>3</td>\n",
       "      <td>24</td>\n",
       "    </tr>\n",
       "    <tr>\n",
       "      <th>2</th>\n",
       "      <td>10TH AVE NE</td>\n",
       "      <td>AVE</td>\n",
       "      <td>7</td>\n",
       "      <td>0</td>\n",
       "      <td>0</td>\n",
       "      <td>7</td>\n",
       "    </tr>\n",
       "    <tr>\n",
       "      <th>3</th>\n",
       "      <td>10TH AVE NW</td>\n",
       "      <td>AVE</td>\n",
       "      <td>0</td>\n",
       "      <td>14</td>\n",
       "      <td>4</td>\n",
       "      <td>18</td>\n",
       "    </tr>\n",
       "    <tr>\n",
       "      <th>4</th>\n",
       "      <td>10TH AVE S</td>\n",
       "      <td>AVE</td>\n",
       "      <td>0</td>\n",
       "      <td>32</td>\n",
       "      <td>7</td>\n",
       "      <td>39</td>\n",
       "    </tr>\n",
       "  </tbody>\n",
       "</table>\n",
       "</div>"
      ],
      "text/plain": [
       "  ord_stname_concat ord_street_type  complete_street  disconnected_street  \\\n",
       "0          10TH AVE             AVE                0                   11   \n",
       "1        10TH AVE E             AVE                0                   21   \n",
       "2       10TH AVE NE             AVE                7                    0   \n",
       "3       10TH AVE NW             AVE                0                   14   \n",
       "4        10TH AVE S             AVE                0                   32   \n",
       "\n",
       "   missing_street  All  \n",
       "0               3   14  \n",
       "1               3   24  \n",
       "2               0    7  \n",
       "3               4   18  \n",
       "4               7   39  "
      ]
     },
     "execution_count": 28,
     "metadata": {},
     "output_type": "execute_result"
    }
   ],
   "source": [
    "gdf_pv.head()"
   ]
  },
  {
   "cell_type": "code",
   "execution_count": 29,
   "id": "664f9830",
   "metadata": {},
   "outputs": [],
   "source": [
    "# remove the all row\n",
    "gdf_pv = gdf_pv.loc[gdf_pv['ord_stname_concat'] != 'All', :]"
   ]
  },
  {
   "cell_type": "code",
   "execution_count": 30,
   "id": "12b52f64-bcc9-4c3a-a1c8-39fc48e16224",
   "metadata": {},
   "outputs": [
    {
     "data": {
      "text/plain": [
       "(2497, 6)"
      ]
     },
     "execution_count": 30,
     "metadata": {},
     "output_type": "execute_result"
    }
   ],
   "source": [
    "gdf_pv.shape"
   ]
  },
  {
   "cell_type": "markdown",
   "id": "1c7b09a5",
   "metadata": {},
   "source": [
    "# what are the streets with at least 10 discontinuities?"
   ]
  },
  {
   "cell_type": "code",
   "execution_count": 31,
   "id": "967f466c-65e3-436e-b489-acf630afd23b",
   "metadata": {},
   "outputs": [
    {
     "data": {
      "text/plain": [
       "['12TH AVE S',\n",
       " '16TH AVE S',\n",
       " '1ST AVE NW',\n",
       " '22ND AVE NE',\n",
       " '24TH AVE NE',\n",
       " '24TH AVE S',\n",
       " '25TH AVE S',\n",
       " '26TH AVE NE',\n",
       " '27TH AVE S',\n",
       " '29TH AVE S',\n",
       " '2ND AVE NE',\n",
       " '2ND AVE NW',\n",
       " '2ND AVE S',\n",
       " '30TH AVE S',\n",
       " '31ST AVE S',\n",
       " '33RD AVE S',\n",
       " '35TH AVE S',\n",
       " '36TH AVE S',\n",
       " '36TH AVE SW',\n",
       " '38TH AVE NE',\n",
       " '3RD AVE S',\n",
       " '44TH AVE SW',\n",
       " '45TH AVE S',\n",
       " '46TH AVE S',\n",
       " '46TH AVE SW',\n",
       " '4TH AVE NE',\n",
       " '8TH AVE S',\n",
       " 'CORLISS AVE N',\n",
       " 'DENSMORE AVE N',\n",
       " 'PALATINE AVE N',\n",
       " 'S BENNETT ST',\n",
       " 'S HINDS ST',\n",
       " 'S RAYMOND ST',\n",
       " 'S ROSE ST',\n",
       " 'W RAYE ST']"
      ]
     },
     "execution_count": 31,
     "metadata": {},
     "output_type": "execute_result"
    }
   ],
   "source": [
    "gdf_pv.loc[gdf_pv['missing_street'] >= 10, 'ord_stname_concat'].tolist()"
   ]
  },
  {
   "cell_type": "code",
   "execution_count": 32,
   "id": "9c95166a-031f-49f5-b0cc-1643d57f8963",
   "metadata": {},
   "outputs": [],
   "source": [
    "gdf_pv.to_excel(excel_writer=e_writer, sheet_name = 'connection_count_full_name', index = False)"
   ]
  },
  {
   "cell_type": "markdown",
   "id": "7da624c7",
   "metadata": {},
   "source": [
    "# what is ratio of disconnected to complete streets?"
   ]
  },
  {
   "cell_type": "code",
   "execution_count": 33,
   "id": "4752649f-e9fa-42de-84a5-cb4ac6a52493",
   "metadata": {},
   "outputs": [
    {
     "data": {
      "text/plain": [
       "1140"
      ]
     },
     "execution_count": 33,
     "metadata": {},
     "output_type": "execute_result"
    }
   ],
   "source": [
    "# number of streets with at least one missing segment\n",
    "split_streets = gdf_pv.loc[gdf_pv['disconnected_street'] > 0, :].shape[0]\n",
    "split_streets"
   ]
  },
  {
   "cell_type": "code",
   "execution_count": 34,
   "id": "7d163564-a8a1-4178-b8b5-72fa597af33c",
   "metadata": {},
   "outputs": [
    {
     "data": {
      "text/plain": [
       "1357"
      ]
     },
     "execution_count": 34,
     "metadata": {},
     "output_type": "execute_result"
    }
   ],
   "source": [
    "# number of streets with no missing segments\n",
    "complete_streets = gdf_pv.loc[gdf_pv['complete_street'] > 0, :].shape[0]\n",
    "complete_streets"
   ]
  },
  {
   "cell_type": "code",
   "execution_count": 35,
   "id": "7742c295-99cd-4341-9af1-c09fcd0795ac",
   "metadata": {},
   "outputs": [
    {
     "data": {
      "text/plain": [
       "0.4565478574289147"
      ]
     },
     "execution_count": 35,
     "metadata": {},
     "output_type": "execute_result"
    }
   ],
   "source": [
    "split_streets / gdf_pv.shape[0]"
   ]
  },
  {
   "cell_type": "code",
   "execution_count": 36,
   "id": "cbac562b-c88b-4639-8e49-a168590abfee",
   "metadata": {},
   "outputs": [
    {
     "data": {
      "text/plain": [
       "0.5434521425710853"
      ]
     },
     "execution_count": 36,
     "metadata": {},
     "output_type": "execute_result"
    }
   ],
   "source": [
    "complete_streets / gdf_pv.shape[0]"
   ]
  },
  {
   "cell_type": "code",
   "execution_count": 37,
   "id": "1ab8dc0d-f9d4-4bfb-8f37-96c1c769fbbd",
   "metadata": {},
   "outputs": [],
   "source": [
    "# 46 percent of streets are multi-segments.\n",
    "# 54 percent of streets are single segment."
   ]
  },
  {
   "cell_type": "markdown",
   "id": "7429299f-c713-41d0-a8eb-57c623c63d6c",
   "metadata": {},
   "source": [
    "# sum of road miles by disconnected street"
   ]
  },
  {
   "cell_type": "code",
   "execution_count": 38,
   "id": "9df0f0f8-b9d8-428e-9f01-a4e3b35fe162",
   "metadata": {},
   "outputs": [],
   "source": [
    "col_names = ['ord_stname_concat', 'ord_street_type', 'street_status', 'street_status_desc', 'dist_miles']\n",
    "gdf_agg = gdf[col_names]"
   ]
  },
  {
   "cell_type": "code",
   "execution_count": 39,
   "id": "e2105d40-f7cd-4f1c-8d5d-3e43a815626b",
   "metadata": {},
   "outputs": [],
   "source": [
    "gdf_pv = pd.pivot_table(data = gdf_agg, values = ['dist_miles'], index = ['ord_stname_concat', 'ord_street_type'],\n",
    "                        columns = ['street_status_desc'], aggfunc = 'sum', fill_value = 0, margins = True).reset_index()"
   ]
  },
  {
   "cell_type": "code",
   "execution_count": 40,
   "id": "480db292-c5cc-4975-b332-367a29bece9c",
   "metadata": {},
   "outputs": [],
   "source": [
    "gdf_pv.columns = [''.join(cn).replace('dist_miles', '') for cn in gdf_pv.columns]"
   ]
  },
  {
   "cell_type": "code",
   "execution_count": 41,
   "id": "b4933d0b",
   "metadata": {},
   "outputs": [
    {
     "data": {
      "text/plain": [
       "(2498, 6)"
      ]
     },
     "execution_count": 41,
     "metadata": {},
     "output_type": "execute_result"
    }
   ],
   "source": [
    "gdf_pv.shape"
   ]
  },
  {
   "cell_type": "code",
   "execution_count": 42,
   "id": "e9e843d2",
   "metadata": {},
   "outputs": [],
   "source": [
    "gdf_pv = gdf_pv.loc[gdf_pv['ord_stname_concat']!= 'All', :].copy()"
   ]
  },
  {
   "cell_type": "code",
   "execution_count": 43,
   "id": "8511b981",
   "metadata": {},
   "outputs": [
    {
     "data": {
      "text/plain": [
       "(2497, 6)"
      ]
     },
     "execution_count": 43,
     "metadata": {},
     "output_type": "execute_result"
    }
   ],
   "source": [
    "gdf_pv.shape"
   ]
  },
  {
   "cell_type": "code",
   "execution_count": 44,
   "id": "fd8f0b02-27b6-42e5-9647-99b3a439ff61",
   "metadata": {},
   "outputs": [
    {
     "data": {
      "text/html": [
       "<div>\n",
       "<style scoped>\n",
       "    .dataframe tbody tr th:only-of-type {\n",
       "        vertical-align: middle;\n",
       "    }\n",
       "\n",
       "    .dataframe tbody tr th {\n",
       "        vertical-align: top;\n",
       "    }\n",
       "\n",
       "    .dataframe thead th {\n",
       "        text-align: right;\n",
       "    }\n",
       "</style>\n",
       "<table border=\"1\" class=\"dataframe\">\n",
       "  <thead>\n",
       "    <tr style=\"text-align: right;\">\n",
       "      <th></th>\n",
       "      <th>ord_stname_concat</th>\n",
       "      <th>ord_street_type</th>\n",
       "      <th>complete_street</th>\n",
       "      <th>disconnected_street</th>\n",
       "      <th>missing_street</th>\n",
       "      <th>All</th>\n",
       "    </tr>\n",
       "  </thead>\n",
       "  <tbody>\n",
       "    <tr>\n",
       "      <th>0</th>\n",
       "      <td>10TH AVE</td>\n",
       "      <td>AVE</td>\n",
       "      <td>0.00000</td>\n",
       "      <td>0.613528</td>\n",
       "      <td>0.328426</td>\n",
       "      <td>0.941954</td>\n",
       "    </tr>\n",
       "    <tr>\n",
       "      <th>1</th>\n",
       "      <td>10TH AVE E</td>\n",
       "      <td>AVE</td>\n",
       "      <td>0.00000</td>\n",
       "      <td>1.942426</td>\n",
       "      <td>0.051903</td>\n",
       "      <td>1.994328</td>\n",
       "    </tr>\n",
       "    <tr>\n",
       "      <th>2</th>\n",
       "      <td>10TH AVE NE</td>\n",
       "      <td>AVE</td>\n",
       "      <td>0.48567</td>\n",
       "      <td>0.000000</td>\n",
       "      <td>0.000000</td>\n",
       "      <td>0.485670</td>\n",
       "    </tr>\n",
       "    <tr>\n",
       "      <th>3</th>\n",
       "      <td>10TH AVE NW</td>\n",
       "      <td>AVE</td>\n",
       "      <td>0.00000</td>\n",
       "      <td>1.701021</td>\n",
       "      <td>1.753063</td>\n",
       "      <td>3.454084</td>\n",
       "    </tr>\n",
       "    <tr>\n",
       "      <th>4</th>\n",
       "      <td>10TH AVE S</td>\n",
       "      <td>AVE</td>\n",
       "      <td>0.00000</td>\n",
       "      <td>2.025667</td>\n",
       "      <td>4.517775</td>\n",
       "      <td>6.543441</td>\n",
       "    </tr>\n",
       "  </tbody>\n",
       "</table>\n",
       "</div>"
      ],
      "text/plain": [
       "  ord_stname_concat ord_street_type  complete_street  disconnected_street  \\\n",
       "0          10TH AVE             AVE          0.00000             0.613528   \n",
       "1        10TH AVE E             AVE          0.00000             1.942426   \n",
       "2       10TH AVE NE             AVE          0.48567             0.000000   \n",
       "3       10TH AVE NW             AVE          0.00000             1.701021   \n",
       "4        10TH AVE S             AVE          0.00000             2.025667   \n",
       "\n",
       "   missing_street       All  \n",
       "0        0.328426  0.941954  \n",
       "1        0.051903  1.994328  \n",
       "2        0.000000  0.485670  \n",
       "3        1.753063  3.454084  \n",
       "4        4.517775  6.543441  "
      ]
     },
     "execution_count": 44,
     "metadata": {},
     "output_type": "execute_result"
    }
   ],
   "source": [
    "gdf_pv.head()"
   ]
  },
  {
   "cell_type": "markdown",
   "id": "f65138b1",
   "metadata": {},
   "source": [
    "# which streets feature longer disconnected portions?"
   ]
  },
  {
   "cell_type": "code",
   "execution_count": 45,
   "id": "ab7a421e-74c3-465f-a3a4-cc9f53606127",
   "metadata": {},
   "outputs": [],
   "source": [
    "gdf_pv['longer_missing'] = int(0) # street is complete\n",
    "gdf_pv.loc[(gdf_pv['complete_street'] == 0) & (gdf_pv['missing_street'] <= gdf_pv['disconnected_street']), 'longer_missing'] = int(1)\n",
    "gdf_pv.loc[(gdf_pv['complete_street'] == 0) & (gdf_pv['missing_street'] > gdf_pv['disconnected_street']), 'longer_missing'] = int(2)"
   ]
  },
  {
   "cell_type": "code",
   "execution_count": 46,
   "id": "bfaf3134-e1b7-4abe-a5a8-64083ab78709",
   "metadata": {},
   "outputs": [
    {
     "data": {
      "text/plain": [
       "longer_missing\n",
       "0    1357\n",
       "1     840\n",
       "2     300\n",
       "Name: count, dtype: int64"
      ]
     },
     "execution_count": 46,
     "metadata": {},
     "output_type": "execute_result"
    }
   ],
   "source": [
    "gdf_pv['longer_missing'].value_counts()"
   ]
  },
  {
   "cell_type": "code",
   "execution_count": 47,
   "id": "0b13203b-090a-4298-9e26-b43303650e2c",
   "metadata": {},
   "outputs": [],
   "source": [
    "gdf_pv.to_excel(excel_writer=e_writer, sheet_name = 'distance_full_name', index = False)"
   ]
  },
  {
   "cell_type": "code",
   "execution_count": 48,
   "id": "d03e5668-9c2e-425c-9d24-5801c5011450",
   "metadata": {},
   "outputs": [
    {
     "data": {
      "text/plain": [
       "1511.0745079236742"
      ]
     },
     "execution_count": 48,
     "metadata": {},
     "output_type": "execute_result"
    }
   ],
   "source": [
    "# road miles on streets with at least one missing segment\n",
    "split_streets = gdf_pv['disconnected_street'].sum()\n",
    "split_streets"
   ]
  },
  {
   "cell_type": "code",
   "execution_count": 49,
   "id": "1ec88b36-6bbb-4a35-8d85-02187c2a7cd4",
   "metadata": {},
   "outputs": [
    {
     "data": {
      "text/plain": [
       "420.9508936253788"
      ]
     },
     "execution_count": 49,
     "metadata": {},
     "output_type": "execute_result"
    }
   ],
   "source": [
    "# road miles on streets with no missing segments\n",
    "complete_streets = gdf_pv['complete_street'].sum()\n",
    "complete_streets"
   ]
  },
  {
   "cell_type": "code",
   "execution_count": 50,
   "id": "8bb21306-30c2-43c5-9720-864e851cb0ff",
   "metadata": {},
   "outputs": [
    {
     "data": {
      "text/plain": [
       "0.7821193793374196"
      ]
     },
     "execution_count": 50,
     "metadata": {},
     "output_type": "execute_result"
    }
   ],
   "source": [
    "split_streets / (split_streets + complete_streets)"
   ]
  },
  {
   "cell_type": "code",
   "execution_count": 51,
   "id": "540aec80-4735-4613-bcd0-61a0ce073770",
   "metadata": {},
   "outputs": [
    {
     "data": {
      "text/plain": [
       "0.2178806206625804"
      ]
     },
     "execution_count": 51,
     "metadata": {},
     "output_type": "execute_result"
    }
   ],
   "source": [
    "complete_streets / (split_streets + complete_streets)"
   ]
  },
  {
   "cell_type": "code",
   "execution_count": 52,
   "id": "d16b0f1e-e6ee-4007-9405-3bb212a7ee91",
   "metadata": {},
   "outputs": [],
   "source": [
    "# 78 percent of road miles are multi-segments streets\n",
    "# 22 percent of road miles are single segment streets"
   ]
  },
  {
   "cell_type": "markdown",
   "id": "2f3989a8-b1ac-46d7-9609-a1a5266912a8",
   "metadata": {},
   "source": [
    "# tabulate distances and distributions by street type"
   ]
  },
  {
   "cell_type": "code",
   "execution_count": 53,
   "id": "5b1cec5c-854e-4243-87e3-7b947e7b709c",
   "metadata": {},
   "outputs": [],
   "source": [
    "st_type_df = pd.pivot_table(data = gdf, index = ['ord_street_type'],\n",
    "                         columns = ['street_status_desc'], values = ['dist_miles'],\n",
    "                        aggfunc='sum', fill_value = 0).reset_index()\n",
    "\n"
   ]
  },
  {
   "cell_type": "code",
   "execution_count": 54,
   "id": "4f98d7f5-56b7-4603-8f44-0d3289f281f9",
   "metadata": {},
   "outputs": [],
   "source": [
    "st_type_df.columns = [''.join(cn).replace('dist_miles', '') for cn in st_type_df.columns]"
   ]
  },
  {
   "cell_type": "code",
   "execution_count": 55,
   "id": "14541764-7683-4aad-915a-74f00cbfc4c5",
   "metadata": {},
   "outputs": [
    {
     "data": {
      "text/plain": [
       "(17, 4)"
      ]
     },
     "execution_count": 55,
     "metadata": {},
     "output_type": "execute_result"
    }
   ],
   "source": [
    "st_type_df.shape"
   ]
  },
  {
   "cell_type": "code",
   "execution_count": 56,
   "id": "488d701e-4705-4a4c-a3c4-b4b8eb51bbf0",
   "metadata": {},
   "outputs": [
    {
     "data": {
      "text/html": [
       "<div>\n",
       "<style scoped>\n",
       "    .dataframe tbody tr th:only-of-type {\n",
       "        vertical-align: middle;\n",
       "    }\n",
       "\n",
       "    .dataframe tbody tr th {\n",
       "        vertical-align: top;\n",
       "    }\n",
       "\n",
       "    .dataframe thead th {\n",
       "        text-align: right;\n",
       "    }\n",
       "</style>\n",
       "<table border=\"1\" class=\"dataframe\">\n",
       "  <thead>\n",
       "    <tr style=\"text-align: right;\">\n",
       "      <th></th>\n",
       "      <th>ord_street_type</th>\n",
       "      <th>complete_street</th>\n",
       "      <th>disconnected_street</th>\n",
       "      <th>missing_street</th>\n",
       "    </tr>\n",
       "  </thead>\n",
       "  <tbody>\n",
       "    <tr>\n",
       "      <th>0</th>\n",
       "      <td>AVE</td>\n",
       "      <td>111.130081</td>\n",
       "      <td>828.215079</td>\n",
       "      <td>436.939922</td>\n",
       "    </tr>\n",
       "    <tr>\n",
       "      <th>1</th>\n",
       "      <td>BLVD</td>\n",
       "      <td>11.388519</td>\n",
       "      <td>13.867313</td>\n",
       "      <td>0.662671</td>\n",
       "    </tr>\n",
       "    <tr>\n",
       "      <th>2</th>\n",
       "      <td>BR</td>\n",
       "      <td>13.147350</td>\n",
       "      <td>0.000000</td>\n",
       "      <td>0.000000</td>\n",
       "    </tr>\n",
       "    <tr>\n",
       "      <th>3</th>\n",
       "      <td>CIR</td>\n",
       "      <td>0.704074</td>\n",
       "      <td>0.000000</td>\n",
       "      <td>0.000000</td>\n",
       "    </tr>\n",
       "    <tr>\n",
       "      <th>4</th>\n",
       "      <td>CT</td>\n",
       "      <td>4.442460</td>\n",
       "      <td>0.228902</td>\n",
       "      <td>0.066143</td>\n",
       "    </tr>\n",
       "  </tbody>\n",
       "</table>\n",
       "</div>"
      ],
      "text/plain": [
       "  ord_street_type  complete_street  disconnected_street  missing_street\n",
       "0             AVE       111.130081           828.215079      436.939922\n",
       "1            BLVD        11.388519            13.867313        0.662671\n",
       "2              BR        13.147350             0.000000        0.000000\n",
       "3             CIR         0.704074             0.000000        0.000000\n",
       "4              CT         4.442460             0.228902        0.066143"
      ]
     },
     "execution_count": 56,
     "metadata": {},
     "output_type": "execute_result"
    }
   ],
   "source": [
    "st_type_df.head()"
   ]
  },
  {
   "cell_type": "code",
   "execution_count": 57,
   "id": "d9ea6a1c-610e-488d-800c-6723bf54b72b",
   "metadata": {},
   "outputs": [],
   "source": [
    "# now, melt\n",
    "st_type_df_melt = pd.melt(frame = st_type_df, id_vars = ['ord_street_type'],\n",
    "                          var_name = 'street_status_desc',\n",
    "                          value_name = 'total_miles')"
   ]
  },
  {
   "cell_type": "code",
   "execution_count": 58,
   "id": "36d9b6fb-77d1-40d8-ac6d-0db7fc142d02",
   "metadata": {},
   "outputs": [
    {
     "data": {
      "text/html": [
       "<div>\n",
       "<style scoped>\n",
       "    .dataframe tbody tr th:only-of-type {\n",
       "        vertical-align: middle;\n",
       "    }\n",
       "\n",
       "    .dataframe tbody tr th {\n",
       "        vertical-align: top;\n",
       "    }\n",
       "\n",
       "    .dataframe thead th {\n",
       "        text-align: right;\n",
       "    }\n",
       "</style>\n",
       "<table border=\"1\" class=\"dataframe\">\n",
       "  <thead>\n",
       "    <tr style=\"text-align: right;\">\n",
       "      <th></th>\n",
       "      <th>ord_street_type</th>\n",
       "      <th>street_status_desc</th>\n",
       "      <th>total_miles</th>\n",
       "    </tr>\n",
       "  </thead>\n",
       "  <tbody>\n",
       "    <tr>\n",
       "      <th>0</th>\n",
       "      <td>AVE</td>\n",
       "      <td>complete_street</td>\n",
       "      <td>111.130081</td>\n",
       "    </tr>\n",
       "    <tr>\n",
       "      <th>1</th>\n",
       "      <td>BLVD</td>\n",
       "      <td>complete_street</td>\n",
       "      <td>11.388519</td>\n",
       "    </tr>\n",
       "    <tr>\n",
       "      <th>2</th>\n",
       "      <td>BR</td>\n",
       "      <td>complete_street</td>\n",
       "      <td>13.147350</td>\n",
       "    </tr>\n",
       "    <tr>\n",
       "      <th>3</th>\n",
       "      <td>CIR</td>\n",
       "      <td>complete_street</td>\n",
       "      <td>0.704074</td>\n",
       "    </tr>\n",
       "    <tr>\n",
       "      <th>4</th>\n",
       "      <td>CT</td>\n",
       "      <td>complete_street</td>\n",
       "      <td>4.442460</td>\n",
       "    </tr>\n",
       "  </tbody>\n",
       "</table>\n",
       "</div>"
      ],
      "text/plain": [
       "  ord_street_type street_status_desc  total_miles\n",
       "0             AVE    complete_street   111.130081\n",
       "1            BLVD    complete_street    11.388519\n",
       "2              BR    complete_street    13.147350\n",
       "3             CIR    complete_street     0.704074\n",
       "4              CT    complete_street     4.442460"
      ]
     },
     "execution_count": 58,
     "metadata": {},
     "output_type": "execute_result"
    }
   ],
   "source": [
    "st_type_df_melt.head()"
   ]
  },
  {
   "cell_type": "code",
   "execution_count": 59,
   "id": "9ff43502-84df-446b-bfd9-a95d0bf81ecb",
   "metadata": {},
   "outputs": [],
   "source": [
    "col_names = ['ord_street_type', 'street_status_desc', 'dist_miles']"
   ]
  },
  {
   "cell_type": "code",
   "execution_count": 60,
   "id": "338b9aa8-5848-4f7d-98d6-00d6588bb7f9",
   "metadata": {},
   "outputs": [],
   "source": [
    "ds_st_df = gdf[col_names].groupby(col_names[:-1]).describe().reset_index()"
   ]
  },
  {
   "cell_type": "code",
   "execution_count": 61,
   "id": "58af1cc8-30f3-4df3-9292-062d489ba15e",
   "metadata": {},
   "outputs": [
    {
     "data": {
      "text/html": [
       "<div>\n",
       "<style scoped>\n",
       "    .dataframe tbody tr th:only-of-type {\n",
       "        vertical-align: middle;\n",
       "    }\n",
       "\n",
       "    .dataframe tbody tr th {\n",
       "        vertical-align: top;\n",
       "    }\n",
       "\n",
       "    .dataframe thead tr th {\n",
       "        text-align: left;\n",
       "    }\n",
       "</style>\n",
       "<table border=\"1\" class=\"dataframe\">\n",
       "  <thead>\n",
       "    <tr>\n",
       "      <th></th>\n",
       "      <th>ord_street_type</th>\n",
       "      <th>street_status_desc</th>\n",
       "      <th colspan=\"8\" halign=\"left\">dist_miles</th>\n",
       "    </tr>\n",
       "    <tr>\n",
       "      <th></th>\n",
       "      <th></th>\n",
       "      <th></th>\n",
       "      <th>count</th>\n",
       "      <th>mean</th>\n",
       "      <th>std</th>\n",
       "      <th>min</th>\n",
       "      <th>25%</th>\n",
       "      <th>50%</th>\n",
       "      <th>75%</th>\n",
       "      <th>max</th>\n",
       "    </tr>\n",
       "  </thead>\n",
       "  <tbody>\n",
       "    <tr>\n",
       "      <th>0</th>\n",
       "      <td>AVE</td>\n",
       "      <td>complete_street</td>\n",
       "      <td>1484.0</td>\n",
       "      <td>0.074885</td>\n",
       "      <td>0.046680</td>\n",
       "      <td>0.002083</td>\n",
       "      <td>0.049255</td>\n",
       "      <td>0.066940</td>\n",
       "      <td>0.088289</td>\n",
       "      <td>0.639583</td>\n",
       "    </tr>\n",
       "    <tr>\n",
       "      <th>1</th>\n",
       "      <td>AVE</td>\n",
       "      <td>disconnected_street</td>\n",
       "      <td>10345.0</td>\n",
       "      <td>0.080059</td>\n",
       "      <td>0.048284</td>\n",
       "      <td>0.000947</td>\n",
       "      <td>0.049960</td>\n",
       "      <td>0.068181</td>\n",
       "      <td>0.122227</td>\n",
       "      <td>0.633067</td>\n",
       "    </tr>\n",
       "    <tr>\n",
       "      <th>2</th>\n",
       "      <td>AVE</td>\n",
       "      <td>missing_street</td>\n",
       "      <td>1806.0</td>\n",
       "      <td>0.241938</td>\n",
       "      <td>0.390708</td>\n",
       "      <td>0.002857</td>\n",
       "      <td>0.030976</td>\n",
       "      <td>0.091495</td>\n",
       "      <td>0.256562</td>\n",
       "      <td>3.739595</td>\n",
       "    </tr>\n",
       "    <tr>\n",
       "      <th>3</th>\n",
       "      <td>BLVD</td>\n",
       "      <td>complete_street</td>\n",
       "      <td>115.0</td>\n",
       "      <td>0.099031</td>\n",
       "      <td>0.090999</td>\n",
       "      <td>0.006818</td>\n",
       "      <td>0.051247</td>\n",
       "      <td>0.068698</td>\n",
       "      <td>0.106965</td>\n",
       "      <td>0.605102</td>\n",
       "    </tr>\n",
       "    <tr>\n",
       "      <th>4</th>\n",
       "      <td>BLVD</td>\n",
       "      <td>disconnected_street</td>\n",
       "      <td>130.0</td>\n",
       "      <td>0.106672</td>\n",
       "      <td>0.092032</td>\n",
       "      <td>0.002317</td>\n",
       "      <td>0.055406</td>\n",
       "      <td>0.082050</td>\n",
       "      <td>0.132516</td>\n",
       "      <td>0.697001</td>\n",
       "    </tr>\n",
       "  </tbody>\n",
       "</table>\n",
       "</div>"
      ],
      "text/plain": [
       "  ord_street_type   street_status_desc dist_miles                      \\\n",
       "                                            count      mean       std   \n",
       "0             AVE      complete_street     1484.0  0.074885  0.046680   \n",
       "1             AVE  disconnected_street    10345.0  0.080059  0.048284   \n",
       "2             AVE       missing_street     1806.0  0.241938  0.390708   \n",
       "3            BLVD      complete_street      115.0  0.099031  0.090999   \n",
       "4            BLVD  disconnected_street      130.0  0.106672  0.092032   \n",
       "\n",
       "                                                     \n",
       "        min       25%       50%       75%       max  \n",
       "0  0.002083  0.049255  0.066940  0.088289  0.639583  \n",
       "1  0.000947  0.049960  0.068181  0.122227  0.633067  \n",
       "2  0.002857  0.030976  0.091495  0.256562  3.739595  \n",
       "3  0.006818  0.051247  0.068698  0.106965  0.605102  \n",
       "4  0.002317  0.055406  0.082050  0.132516  0.697001  "
      ]
     },
     "execution_count": 61,
     "metadata": {},
     "output_type": "execute_result"
    }
   ],
   "source": [
    "ds_st_df.head()"
   ]
  },
  {
   "cell_type": "code",
   "execution_count": 62,
   "id": "7d8f27a6-287d-4691-b62c-89e80392accd",
   "metadata": {},
   "outputs": [],
   "source": [
    "ds_st_df.columns =  [''.join(cn).replace('dist_miles', '') for cn in ds_st_df.columns]"
   ]
  },
  {
   "cell_type": "code",
   "execution_count": 63,
   "id": "c347a8d3-bd9f-4088-b974-b587cc13cf05",
   "metadata": {},
   "outputs": [
    {
     "data": {
      "text/html": [
       "<div>\n",
       "<style scoped>\n",
       "    .dataframe tbody tr th:only-of-type {\n",
       "        vertical-align: middle;\n",
       "    }\n",
       "\n",
       "    .dataframe tbody tr th {\n",
       "        vertical-align: top;\n",
       "    }\n",
       "\n",
       "    .dataframe thead th {\n",
       "        text-align: right;\n",
       "    }\n",
       "</style>\n",
       "<table border=\"1\" class=\"dataframe\">\n",
       "  <thead>\n",
       "    <tr style=\"text-align: right;\">\n",
       "      <th></th>\n",
       "      <th>ord_street_type</th>\n",
       "      <th>street_status_desc</th>\n",
       "      <th>count</th>\n",
       "      <th>mean</th>\n",
       "      <th>std</th>\n",
       "      <th>min</th>\n",
       "      <th>25%</th>\n",
       "      <th>50%</th>\n",
       "      <th>75%</th>\n",
       "      <th>max</th>\n",
       "    </tr>\n",
       "  </thead>\n",
       "  <tbody>\n",
       "    <tr>\n",
       "      <th>0</th>\n",
       "      <td>AVE</td>\n",
       "      <td>complete_street</td>\n",
       "      <td>1484.0</td>\n",
       "      <td>0.074885</td>\n",
       "      <td>0.046680</td>\n",
       "      <td>0.002083</td>\n",
       "      <td>0.049255</td>\n",
       "      <td>0.066940</td>\n",
       "      <td>0.088289</td>\n",
       "      <td>0.639583</td>\n",
       "    </tr>\n",
       "    <tr>\n",
       "      <th>1</th>\n",
       "      <td>AVE</td>\n",
       "      <td>disconnected_street</td>\n",
       "      <td>10345.0</td>\n",
       "      <td>0.080059</td>\n",
       "      <td>0.048284</td>\n",
       "      <td>0.000947</td>\n",
       "      <td>0.049960</td>\n",
       "      <td>0.068181</td>\n",
       "      <td>0.122227</td>\n",
       "      <td>0.633067</td>\n",
       "    </tr>\n",
       "    <tr>\n",
       "      <th>2</th>\n",
       "      <td>AVE</td>\n",
       "      <td>missing_street</td>\n",
       "      <td>1806.0</td>\n",
       "      <td>0.241938</td>\n",
       "      <td>0.390708</td>\n",
       "      <td>0.002857</td>\n",
       "      <td>0.030976</td>\n",
       "      <td>0.091495</td>\n",
       "      <td>0.256562</td>\n",
       "      <td>3.739595</td>\n",
       "    </tr>\n",
       "    <tr>\n",
       "      <th>3</th>\n",
       "      <td>BLVD</td>\n",
       "      <td>complete_street</td>\n",
       "      <td>115.0</td>\n",
       "      <td>0.099031</td>\n",
       "      <td>0.090999</td>\n",
       "      <td>0.006818</td>\n",
       "      <td>0.051247</td>\n",
       "      <td>0.068698</td>\n",
       "      <td>0.106965</td>\n",
       "      <td>0.605102</td>\n",
       "    </tr>\n",
       "    <tr>\n",
       "      <th>4</th>\n",
       "      <td>BLVD</td>\n",
       "      <td>disconnected_street</td>\n",
       "      <td>130.0</td>\n",
       "      <td>0.106672</td>\n",
       "      <td>0.092032</td>\n",
       "      <td>0.002317</td>\n",
       "      <td>0.055406</td>\n",
       "      <td>0.082050</td>\n",
       "      <td>0.132516</td>\n",
       "      <td>0.697001</td>\n",
       "    </tr>\n",
       "  </tbody>\n",
       "</table>\n",
       "</div>"
      ],
      "text/plain": [
       "  ord_street_type   street_status_desc    count      mean       std       min  \\\n",
       "0             AVE      complete_street   1484.0  0.074885  0.046680  0.002083   \n",
       "1             AVE  disconnected_street  10345.0  0.080059  0.048284  0.000947   \n",
       "2             AVE       missing_street   1806.0  0.241938  0.390708  0.002857   \n",
       "3            BLVD      complete_street    115.0  0.099031  0.090999  0.006818   \n",
       "4            BLVD  disconnected_street    130.0  0.106672  0.092032  0.002317   \n",
       "\n",
       "        25%       50%       75%       max  \n",
       "0  0.049255  0.066940  0.088289  0.639583  \n",
       "1  0.049960  0.068181  0.122227  0.633067  \n",
       "2  0.030976  0.091495  0.256562  3.739595  \n",
       "3  0.051247  0.068698  0.106965  0.605102  \n",
       "4  0.055406  0.082050  0.132516  0.697001  "
      ]
     },
     "execution_count": 63,
     "metadata": {},
     "output_type": "execute_result"
    }
   ],
   "source": [
    "ds_st_df.head()"
   ]
  },
  {
   "cell_type": "code",
   "execution_count": 64,
   "id": "b040c362-b1dd-4432-9d1c-2d8760856454",
   "metadata": {},
   "outputs": [],
   "source": [
    "temp_ds_st_df = ds_st_df.loc[ds_st_df['street_status_desc'] == 'missing_street', :].copy()"
   ]
  },
  {
   "cell_type": "code",
   "execution_count": 65,
   "id": "7a6a7ffe-5561-42ee-a96f-1bbcbce84212",
   "metadata": {},
   "outputs": [],
   "source": [
    "temp_ds_st_df = temp_ds_st_df.drop(labels = 'std', axis = 1)"
   ]
  },
  {
   "cell_type": "code",
   "execution_count": 66,
   "id": "1e8f7bee-c334-434d-aa6f-22927d30604b",
   "metadata": {},
   "outputs": [],
   "source": [
    "temp_ds_st_df = temp_ds_st_df.sort_values(by = ['count'], ascending = False)"
   ]
  },
  {
   "cell_type": "code",
   "execution_count": 67,
   "id": "336dc410",
   "metadata": {},
   "outputs": [],
   "source": [
    "temp_ds_st_df.to_excel(excel_writer=e_writer, sheet_name = 'missing_street_count', index = False)"
   ]
  },
  {
   "cell_type": "code",
   "execution_count": 68,
   "id": "489a1eaa-5ddb-4d7a-894d-cb9cc67b7158",
   "metadata": {},
   "outputs": [
    {
     "data": {
      "text/html": [
       "<div>\n",
       "<style scoped>\n",
       "    .dataframe tbody tr th:only-of-type {\n",
       "        vertical-align: middle;\n",
       "    }\n",
       "\n",
       "    .dataframe tbody tr th {\n",
       "        vertical-align: top;\n",
       "    }\n",
       "\n",
       "    .dataframe thead th {\n",
       "        text-align: right;\n",
       "    }\n",
       "</style>\n",
       "<table border=\"1\" class=\"dataframe\">\n",
       "  <thead>\n",
       "    <tr style=\"text-align: right;\">\n",
       "      <th></th>\n",
       "      <th>ord_street_type</th>\n",
       "      <th>street_status_desc</th>\n",
       "      <th>total_miles</th>\n",
       "    </tr>\n",
       "  </thead>\n",
       "  <tbody>\n",
       "    <tr>\n",
       "      <th>0</th>\n",
       "      <td>AVE</td>\n",
       "      <td>complete_street</td>\n",
       "      <td>111.130081</td>\n",
       "    </tr>\n",
       "    <tr>\n",
       "      <th>1</th>\n",
       "      <td>BLVD</td>\n",
       "      <td>complete_street</td>\n",
       "      <td>11.388519</td>\n",
       "    </tr>\n",
       "    <tr>\n",
       "      <th>2</th>\n",
       "      <td>BR</td>\n",
       "      <td>complete_street</td>\n",
       "      <td>13.147350</td>\n",
       "    </tr>\n",
       "    <tr>\n",
       "      <th>3</th>\n",
       "      <td>CIR</td>\n",
       "      <td>complete_street</td>\n",
       "      <td>0.704074</td>\n",
       "    </tr>\n",
       "    <tr>\n",
       "      <th>4</th>\n",
       "      <td>CT</td>\n",
       "      <td>complete_street</td>\n",
       "      <td>4.442460</td>\n",
       "    </tr>\n",
       "  </tbody>\n",
       "</table>\n",
       "</div>"
      ],
      "text/plain": [
       "  ord_street_type street_status_desc  total_miles\n",
       "0             AVE    complete_street   111.130081\n",
       "1            BLVD    complete_street    11.388519\n",
       "2              BR    complete_street    13.147350\n",
       "3             CIR    complete_street     0.704074\n",
       "4              CT    complete_street     4.442460"
      ]
     },
     "execution_count": 68,
     "metadata": {},
     "output_type": "execute_result"
    }
   ],
   "source": [
    "st_type_df_melt.head()"
   ]
  },
  {
   "cell_type": "code",
   "execution_count": 69,
   "id": "b619198d",
   "metadata": {},
   "outputs": [
    {
     "data": {
      "text/html": [
       "<div>\n",
       "<style scoped>\n",
       "    .dataframe tbody tr th:only-of-type {\n",
       "        vertical-align: middle;\n",
       "    }\n",
       "\n",
       "    .dataframe tbody tr th {\n",
       "        vertical-align: top;\n",
       "    }\n",
       "\n",
       "    .dataframe thead th {\n",
       "        text-align: right;\n",
       "    }\n",
       "</style>\n",
       "<table border=\"1\" class=\"dataframe\">\n",
       "  <thead>\n",
       "    <tr style=\"text-align: right;\">\n",
       "      <th></th>\n",
       "      <th>ord_street_type</th>\n",
       "      <th>street_status_desc</th>\n",
       "      <th>count</th>\n",
       "      <th>mean</th>\n",
       "      <th>std</th>\n",
       "      <th>min</th>\n",
       "      <th>25%</th>\n",
       "      <th>50%</th>\n",
       "      <th>75%</th>\n",
       "      <th>max</th>\n",
       "    </tr>\n",
       "  </thead>\n",
       "  <tbody>\n",
       "    <tr>\n",
       "      <th>0</th>\n",
       "      <td>AVE</td>\n",
       "      <td>complete_street</td>\n",
       "      <td>1484.0</td>\n",
       "      <td>0.074885</td>\n",
       "      <td>0.046680</td>\n",
       "      <td>0.002083</td>\n",
       "      <td>0.049255</td>\n",
       "      <td>0.066940</td>\n",
       "      <td>0.088289</td>\n",
       "      <td>0.639583</td>\n",
       "    </tr>\n",
       "    <tr>\n",
       "      <th>1</th>\n",
       "      <td>AVE</td>\n",
       "      <td>disconnected_street</td>\n",
       "      <td>10345.0</td>\n",
       "      <td>0.080059</td>\n",
       "      <td>0.048284</td>\n",
       "      <td>0.000947</td>\n",
       "      <td>0.049960</td>\n",
       "      <td>0.068181</td>\n",
       "      <td>0.122227</td>\n",
       "      <td>0.633067</td>\n",
       "    </tr>\n",
       "    <tr>\n",
       "      <th>2</th>\n",
       "      <td>AVE</td>\n",
       "      <td>missing_street</td>\n",
       "      <td>1806.0</td>\n",
       "      <td>0.241938</td>\n",
       "      <td>0.390708</td>\n",
       "      <td>0.002857</td>\n",
       "      <td>0.030976</td>\n",
       "      <td>0.091495</td>\n",
       "      <td>0.256562</td>\n",
       "      <td>3.739595</td>\n",
       "    </tr>\n",
       "    <tr>\n",
       "      <th>3</th>\n",
       "      <td>BLVD</td>\n",
       "      <td>complete_street</td>\n",
       "      <td>115.0</td>\n",
       "      <td>0.099031</td>\n",
       "      <td>0.090999</td>\n",
       "      <td>0.006818</td>\n",
       "      <td>0.051247</td>\n",
       "      <td>0.068698</td>\n",
       "      <td>0.106965</td>\n",
       "      <td>0.605102</td>\n",
       "    </tr>\n",
       "    <tr>\n",
       "      <th>4</th>\n",
       "      <td>BLVD</td>\n",
       "      <td>disconnected_street</td>\n",
       "      <td>130.0</td>\n",
       "      <td>0.106672</td>\n",
       "      <td>0.092032</td>\n",
       "      <td>0.002317</td>\n",
       "      <td>0.055406</td>\n",
       "      <td>0.082050</td>\n",
       "      <td>0.132516</td>\n",
       "      <td>0.697001</td>\n",
       "    </tr>\n",
       "  </tbody>\n",
       "</table>\n",
       "</div>"
      ],
      "text/plain": [
       "  ord_street_type   street_status_desc    count      mean       std       min  \\\n",
       "0             AVE      complete_street   1484.0  0.074885  0.046680  0.002083   \n",
       "1             AVE  disconnected_street  10345.0  0.080059  0.048284  0.000947   \n",
       "2             AVE       missing_street   1806.0  0.241938  0.390708  0.002857   \n",
       "3            BLVD      complete_street    115.0  0.099031  0.090999  0.006818   \n",
       "4            BLVD  disconnected_street    130.0  0.106672  0.092032  0.002317   \n",
       "\n",
       "        25%       50%       75%       max  \n",
       "0  0.049255  0.066940  0.088289  0.639583  \n",
       "1  0.049960  0.068181  0.122227  0.633067  \n",
       "2  0.030976  0.091495  0.256562  3.739595  \n",
       "3  0.051247  0.068698  0.106965  0.605102  \n",
       "4  0.055406  0.082050  0.132516  0.697001  "
      ]
     },
     "execution_count": 69,
     "metadata": {},
     "output_type": "execute_result"
    }
   ],
   "source": [
    "ds_st_df.head()"
   ]
  },
  {
   "cell_type": "code",
   "execution_count": 70,
   "id": "0ca83554-691c-4ca0-bfa1-018bf313b3de",
   "metadata": {},
   "outputs": [],
   "source": [
    "# join to get total miles and summary statistics\n",
    "ds_st_df = pd.merge(left = st_type_df_melt, right = ds_st_df, how = 'left')"
   ]
  },
  {
   "cell_type": "code",
   "execution_count": 71,
   "id": "cb00d37e-e37f-42bd-953d-ae5ee3cb379b",
   "metadata": {},
   "outputs": [
    {
     "data": {
      "text/html": [
       "<div>\n",
       "<style scoped>\n",
       "    .dataframe tbody tr th:only-of-type {\n",
       "        vertical-align: middle;\n",
       "    }\n",
       "\n",
       "    .dataframe tbody tr th {\n",
       "        vertical-align: top;\n",
       "    }\n",
       "\n",
       "    .dataframe thead th {\n",
       "        text-align: right;\n",
       "    }\n",
       "</style>\n",
       "<table border=\"1\" class=\"dataframe\">\n",
       "  <thead>\n",
       "    <tr style=\"text-align: right;\">\n",
       "      <th></th>\n",
       "      <th>ord_street_type</th>\n",
       "      <th>street_status_desc</th>\n",
       "      <th>total_miles</th>\n",
       "      <th>count</th>\n",
       "      <th>mean</th>\n",
       "      <th>std</th>\n",
       "      <th>min</th>\n",
       "      <th>25%</th>\n",
       "      <th>50%</th>\n",
       "      <th>75%</th>\n",
       "      <th>max</th>\n",
       "    </tr>\n",
       "  </thead>\n",
       "  <tbody>\n",
       "    <tr>\n",
       "      <th>0</th>\n",
       "      <td>AVE</td>\n",
       "      <td>complete_street</td>\n",
       "      <td>111.130081</td>\n",
       "      <td>1484.0</td>\n",
       "      <td>0.074885</td>\n",
       "      <td>0.046680</td>\n",
       "      <td>0.002083</td>\n",
       "      <td>0.049255</td>\n",
       "      <td>0.066940</td>\n",
       "      <td>0.088289</td>\n",
       "      <td>0.639583</td>\n",
       "    </tr>\n",
       "    <tr>\n",
       "      <th>1</th>\n",
       "      <td>BLVD</td>\n",
       "      <td>complete_street</td>\n",
       "      <td>11.388519</td>\n",
       "      <td>115.0</td>\n",
       "      <td>0.099031</td>\n",
       "      <td>0.090999</td>\n",
       "      <td>0.006818</td>\n",
       "      <td>0.051247</td>\n",
       "      <td>0.068698</td>\n",
       "      <td>0.106965</td>\n",
       "      <td>0.605102</td>\n",
       "    </tr>\n",
       "    <tr>\n",
       "      <th>2</th>\n",
       "      <td>BR</td>\n",
       "      <td>complete_street</td>\n",
       "      <td>13.147350</td>\n",
       "      <td>74.0</td>\n",
       "      <td>0.177667</td>\n",
       "      <td>0.154664</td>\n",
       "      <td>0.004735</td>\n",
       "      <td>0.057955</td>\n",
       "      <td>0.127488</td>\n",
       "      <td>0.241951</td>\n",
       "      <td>0.689962</td>\n",
       "    </tr>\n",
       "    <tr>\n",
       "      <th>3</th>\n",
       "      <td>CIR</td>\n",
       "      <td>complete_street</td>\n",
       "      <td>0.704074</td>\n",
       "      <td>15.0</td>\n",
       "      <td>0.046938</td>\n",
       "      <td>0.050546</td>\n",
       "      <td>0.005492</td>\n",
       "      <td>0.014464</td>\n",
       "      <td>0.036020</td>\n",
       "      <td>0.065051</td>\n",
       "      <td>0.204545</td>\n",
       "    </tr>\n",
       "    <tr>\n",
       "      <th>4</th>\n",
       "      <td>CT</td>\n",
       "      <td>complete_street</td>\n",
       "      <td>4.442460</td>\n",
       "      <td>86.0</td>\n",
       "      <td>0.051657</td>\n",
       "      <td>0.030255</td>\n",
       "      <td>0.002273</td>\n",
       "      <td>0.028444</td>\n",
       "      <td>0.048578</td>\n",
       "      <td>0.066217</td>\n",
       "      <td>0.156602</td>\n",
       "    </tr>\n",
       "  </tbody>\n",
       "</table>\n",
       "</div>"
      ],
      "text/plain": [
       "  ord_street_type street_status_desc  total_miles   count      mean       std  \\\n",
       "0             AVE    complete_street   111.130081  1484.0  0.074885  0.046680   \n",
       "1            BLVD    complete_street    11.388519   115.0  0.099031  0.090999   \n",
       "2              BR    complete_street    13.147350    74.0  0.177667  0.154664   \n",
       "3             CIR    complete_street     0.704074    15.0  0.046938  0.050546   \n",
       "4              CT    complete_street     4.442460    86.0  0.051657  0.030255   \n",
       "\n",
       "        min       25%       50%       75%       max  \n",
       "0  0.002083  0.049255  0.066940  0.088289  0.639583  \n",
       "1  0.006818  0.051247  0.068698  0.106965  0.605102  \n",
       "2  0.004735  0.057955  0.127488  0.241951  0.689962  \n",
       "3  0.005492  0.014464  0.036020  0.065051  0.204545  \n",
       "4  0.002273  0.028444  0.048578  0.066217  0.156602  "
      ]
     },
     "execution_count": 71,
     "metadata": {},
     "output_type": "execute_result"
    }
   ],
   "source": [
    "ds_st_df.head()"
   ]
  },
  {
   "cell_type": "code",
   "execution_count": 72,
   "id": "ad359c4d-6bda-443a-b944-3c3a6d0f7f79",
   "metadata": {},
   "outputs": [
    {
     "data": {
      "text/plain": [
       "Index(['ord_street_type', 'street_status_desc', 'total_miles', 'count', 'mean',\n",
       "       'std', 'min', '25%', '50%', '75%', 'max'],\n",
       "      dtype='object')"
      ]
     },
     "execution_count": 72,
     "metadata": {},
     "output_type": "execute_result"
    }
   ],
   "source": [
    "ds_st_df.columns"
   ]
  },
  {
   "cell_type": "code",
   "execution_count": 73,
   "id": "f9bd13d2-e5b2-4c08-be56-763e9adfa1ce",
   "metadata": {},
   "outputs": [],
   "source": [
    "for cn in ds_st_df.columns:\n",
    "    if ds_st_df[cn].dtype == 'float64':\n",
    "        ds_st_df[cn] = ds_st_df[cn].fillna(0)"
   ]
  },
  {
   "cell_type": "code",
   "execution_count": 74,
   "id": "340a2e24-a4b5-4b64-95e9-9802256d211e",
   "metadata": {},
   "outputs": [],
   "source": [
    "ds_st_df = ds_st_df.sort_values(by = ['ord_street_type', 'street_status_desc'])"
   ]
  },
  {
   "cell_type": "code",
   "execution_count": 75,
   "id": "e2405bb7-df4d-4cbc-87d7-5336de7fcd71",
   "metadata": {},
   "outputs": [],
   "source": [
    "ds_st_df['street_status_desc'] = ds_st_df['street_status_desc'].str.replace('_street', '')"
   ]
  },
  {
   "cell_type": "code",
   "execution_count": 76,
   "id": "f656f484-086d-4ce6-8813-292cce915d4f",
   "metadata": {},
   "outputs": [],
   "source": [
    "# set index"
   ]
  },
  {
   "cell_type": "code",
   "execution_count": 77,
   "id": "974ccfba-d8f4-41fb-94ac-05501da7cc0b",
   "metadata": {},
   "outputs": [],
   "source": [
    "ds_st_df = ds_st_df.set_index(keys = ['ord_street_type', 'street_status_desc'])"
   ]
  },
  {
   "cell_type": "code",
   "execution_count": 78,
   "id": "8fab26f7-0320-46ec-ae66-1a91fc89015c",
   "metadata": {},
   "outputs": [],
   "source": [
    "# reorder columns\n",
    "col_names = ['count', 'min', '25%', '50%', 'mean', '75%', 'max', 'total_miles']\n",
    "ds_st_df = ds_st_df[col_names]"
   ]
  },
  {
   "cell_type": "code",
   "execution_count": 79,
   "id": "ab160db0-766d-4909-9f5b-1154b766e8f1",
   "metadata": {},
   "outputs": [],
   "source": [
    "ds_st_df.to_excel(excel_writer=e_writer, sheet_name = 'sum_stats', index = True)\n",
    "                  "
   ]
  },
  {
   "cell_type": "code",
   "execution_count": 80,
   "id": "822cd67d-bcd1-4509-a442-cbd8911808a6",
   "metadata": {},
   "outputs": [],
   "source": [
    "e_writer.close()"
   ]
  },
  {
   "cell_type": "code",
   "execution_count": 81,
   "id": "de911359",
   "metadata": {},
   "outputs": [
    {
     "data": {
      "text/html": [
       "<div>\n",
       "<style scoped>\n",
       "    .dataframe tbody tr th:only-of-type {\n",
       "        vertical-align: middle;\n",
       "    }\n",
       "\n",
       "    .dataframe tbody tr th {\n",
       "        vertical-align: top;\n",
       "    }\n",
       "\n",
       "    .dataframe thead th {\n",
       "        text-align: right;\n",
       "    }\n",
       "</style>\n",
       "<table border=\"1\" class=\"dataframe\">\n",
       "  <thead>\n",
       "    <tr style=\"text-align: right;\">\n",
       "      <th></th>\n",
       "      <th></th>\n",
       "      <th>count</th>\n",
       "      <th>min</th>\n",
       "      <th>25%</th>\n",
       "      <th>50%</th>\n",
       "      <th>mean</th>\n",
       "      <th>75%</th>\n",
       "      <th>max</th>\n",
       "      <th>total_miles</th>\n",
       "    </tr>\n",
       "    <tr>\n",
       "      <th>ord_street_type</th>\n",
       "      <th>street_status_desc</th>\n",
       "      <th></th>\n",
       "      <th></th>\n",
       "      <th></th>\n",
       "      <th></th>\n",
       "      <th></th>\n",
       "      <th></th>\n",
       "      <th></th>\n",
       "      <th></th>\n",
       "    </tr>\n",
       "  </thead>\n",
       "  <tbody>\n",
       "    <tr>\n",
       "      <th rowspan=\"3\" valign=\"top\">AVE</th>\n",
       "      <th>complete</th>\n",
       "      <td>1484.0</td>\n",
       "      <td>0.002083</td>\n",
       "      <td>0.049255</td>\n",
       "      <td>0.066940</td>\n",
       "      <td>0.074885</td>\n",
       "      <td>0.088289</td>\n",
       "      <td>0.639583</td>\n",
       "      <td>111.130081</td>\n",
       "    </tr>\n",
       "    <tr>\n",
       "      <th>disconnected</th>\n",
       "      <td>10345.0</td>\n",
       "      <td>0.000947</td>\n",
       "      <td>0.049960</td>\n",
       "      <td>0.068181</td>\n",
       "      <td>0.080059</td>\n",
       "      <td>0.122227</td>\n",
       "      <td>0.633067</td>\n",
       "      <td>828.215079</td>\n",
       "    </tr>\n",
       "    <tr>\n",
       "      <th>missing</th>\n",
       "      <td>1806.0</td>\n",
       "      <td>0.002857</td>\n",
       "      <td>0.030976</td>\n",
       "      <td>0.091495</td>\n",
       "      <td>0.241938</td>\n",
       "      <td>0.256562</td>\n",
       "      <td>3.739595</td>\n",
       "      <td>436.939922</td>\n",
       "    </tr>\n",
       "    <tr>\n",
       "      <th rowspan=\"2\" valign=\"top\">BLVD</th>\n",
       "      <th>complete</th>\n",
       "      <td>115.0</td>\n",
       "      <td>0.006818</td>\n",
       "      <td>0.051247</td>\n",
       "      <td>0.068698</td>\n",
       "      <td>0.099031</td>\n",
       "      <td>0.106965</td>\n",
       "      <td>0.605102</td>\n",
       "      <td>11.388519</td>\n",
       "    </tr>\n",
       "    <tr>\n",
       "      <th>disconnected</th>\n",
       "      <td>130.0</td>\n",
       "      <td>0.002317</td>\n",
       "      <td>0.055406</td>\n",
       "      <td>0.082050</td>\n",
       "      <td>0.106672</td>\n",
       "      <td>0.132516</td>\n",
       "      <td>0.697001</td>\n",
       "      <td>13.867313</td>\n",
       "    </tr>\n",
       "  </tbody>\n",
       "</table>\n",
       "</div>"
      ],
      "text/plain": [
       "                                      count       min       25%       50%  \\\n",
       "ord_street_type street_status_desc                                          \n",
       "AVE             complete             1484.0  0.002083  0.049255  0.066940   \n",
       "                disconnected        10345.0  0.000947  0.049960  0.068181   \n",
       "                missing              1806.0  0.002857  0.030976  0.091495   \n",
       "BLVD            complete              115.0  0.006818  0.051247  0.068698   \n",
       "                disconnected          130.0  0.002317  0.055406  0.082050   \n",
       "\n",
       "                                        mean       75%       max  total_miles  \n",
       "ord_street_type street_status_desc                                             \n",
       "AVE             complete            0.074885  0.088289  0.639583   111.130081  \n",
       "                disconnected        0.080059  0.122227  0.633067   828.215079  \n",
       "                missing             0.241938  0.256562  3.739595   436.939922  \n",
       "BLVD            complete            0.099031  0.106965  0.605102    11.388519  \n",
       "                disconnected        0.106672  0.132516  0.697001    13.867313  "
      ]
     },
     "execution_count": 81,
     "metadata": {},
     "output_type": "execute_result"
    }
   ],
   "source": [
    "ds_st_df.head()"
   ]
  },
  {
   "cell_type": "markdown",
   "id": "39645fe5-d0ea-4848-a79a-19603648b951",
   "metadata": {},
   "source": [
    "# 10 longest missing streets"
   ]
  },
  {
   "cell_type": "code",
   "execution_count": 82,
   "id": "245b03b4-37a9-45f8-8c73-ed815e7eb6c7",
   "metadata": {},
   "outputs": [],
   "source": [
    "wms_gdf = gdf.loc[gdf['street_status'] == 2, :].copy()"
   ]
  },
  {
   "cell_type": "code",
   "execution_count": 83,
   "id": "08f13bc4-7ef7-42a4-8631-c74923c43b7b",
   "metadata": {},
   "outputs": [],
   "source": [
    "wms_gdf['dist_rank'] = wms_gdf['dist'].rank(method = 'dense', ascending = False)"
   ]
  },
  {
   "cell_type": "code",
   "execution_count": 84,
   "id": "318bb352-980b-4633-9223-c96ee4cd0bfe",
   "metadata": {},
   "outputs": [
    {
     "data": {
      "text/plain": [
       "['S 112TH ST',\n",
       " 'S 106TH ST',\n",
       " '20TH AVE S',\n",
       " '11TH AVE S',\n",
       " '33RD AVE SW',\n",
       " 'S 105TH ST',\n",
       " '9TH AVE S',\n",
       " 'S 116TH ST',\n",
       " '7TH PL S',\n",
       " 'S 108TH ST']"
      ]
     },
     "execution_count": 84,
     "metadata": {},
     "output_type": "execute_result"
    }
   ],
   "source": [
    "wms_gdf.loc[wms_gdf['dist_rank'] <= 10, 'ord_stname_concat'].tolist()"
   ]
  },
  {
   "cell_type": "markdown",
   "id": "4df5e632",
   "metadata": {},
   "source": [
    "# histogram of all added streets"
   ]
  },
  {
   "cell_type": "code",
   "execution_count": 85,
   "id": "77d75dd2-492d-4dbe-ac73-7d0b2c67bc73",
   "metadata": {},
   "outputs": [],
   "source": [
    "# log transform the distance in miles to prep for plotting\n",
    "wms_gdf['dist_miles_log'] = np.log10(wms_gdf['dist_miles'])"
   ]
  },
  {
   "cell_type": "code",
   "execution_count": 86,
   "id": "2bdf45d3-a2b4-4fd3-a9a9-1f2f6464f58b",
   "metadata": {},
   "outputs": [
    {
     "data": {
      "text/plain": [
       "count    3643.000000\n",
       "mean       -1.024413\n",
       "std         0.577650\n",
       "min        -3.128428\n",
       "25%        -1.486670\n",
       "50%        -1.075904\n",
       "75%        -0.601155\n",
       "max         0.696677\n",
       "Name: dist_miles_log, dtype: float64"
      ]
     },
     "execution_count": 86,
     "metadata": {},
     "output_type": "execute_result"
    }
   ],
   "source": [
    "wms_gdf['dist_miles_log'].describe()"
   ]
  },
  {
   "cell_type": "code",
   "execution_count": 87,
   "id": "7c525a73-5a19-4c34-8e3f-20d0c235d79c",
   "metadata": {},
   "outputs": [],
   "source": [
    "# compute summary stats and create a dataframe\n",
    "# the ds_df will hold values of interest to plot and plotting keywords for \n",
    "# those values\n",
    "ds_df = wms_gdf['dist_miles'].describe().to_frame().reset_index(names = ['stat'])"
   ]
  },
  {
   "cell_type": "code",
   "execution_count": 88,
   "id": "5e32f197-6d19-4d61-8dd4-eff65476ec40",
   "metadata": {},
   "outputs": [],
   "source": [
    "# remove the count and the standard deviation - not useful for plotting\n",
    "ds_df = ds_df.loc[-ds_df['stat'].isin(['count', 'std']), :]"
   ]
  },
  {
   "cell_type": "code",
   "execution_count": 89,
   "id": "5f43b2a3-11a8-4670-8b5f-580c432ba6de",
   "metadata": {},
   "outputs": [
    {
     "data": {
      "text/html": [
       "<div>\n",
       "<style scoped>\n",
       "    .dataframe tbody tr th:only-of-type {\n",
       "        vertical-align: middle;\n",
       "    }\n",
       "\n",
       "    .dataframe tbody tr th {\n",
       "        vertical-align: top;\n",
       "    }\n",
       "\n",
       "    .dataframe thead th {\n",
       "        text-align: right;\n",
       "    }\n",
       "</style>\n",
       "<table border=\"1\" class=\"dataframe\">\n",
       "  <thead>\n",
       "    <tr style=\"text-align: right;\">\n",
       "      <th></th>\n",
       "      <th>stat</th>\n",
       "      <th>dist_miles</th>\n",
       "    </tr>\n",
       "  </thead>\n",
       "  <tbody>\n",
       "    <tr>\n",
       "      <th>0</th>\n",
       "      <td>10%</td>\n",
       "      <td>0.018747</td>\n",
       "    </tr>\n",
       "    <tr>\n",
       "      <th>1</th>\n",
       "      <td>95%</td>\n",
       "      <td>0.962718</td>\n",
       "    </tr>\n",
       "    <tr>\n",
       "      <th>2</th>\n",
       "      <td>99%</td>\n",
       "      <td>1.797078</td>\n",
       "    </tr>\n",
       "  </tbody>\n",
       "</table>\n",
       "</div>"
      ],
      "text/plain": [
       "  stat  dist_miles\n",
       "0  10%    0.018747\n",
       "1  95%    0.962718\n",
       "2  99%    1.797078"
      ]
     },
     "execution_count": 89,
     "metadata": {},
     "output_type": "execute_result"
    }
   ],
   "source": [
    "# add the 10th, 95th, and 99th precentiles\n",
    "temp_stat_records = [\n",
    "    ['10%', np.quantile(a = wms_gdf['dist_miles'], q = 0.10)],\n",
    "    ['95%', np.quantile(a = wms_gdf['dist_miles'], q = 0.95)],\n",
    "    ['99%', np.quantile(a = wms_gdf['dist_miles'], q = 0.99)]\n",
    "]\n",
    "temp_stat_df = pd.DataFrame(data = temp_stat_records, columns = ds_df.columns)\n",
    "temp_stat_df.head()"
   ]
  },
  {
   "cell_type": "code",
   "execution_count": 90,
   "id": "1131eacf-69d0-466c-be56-3e56afdb5369",
   "metadata": {},
   "outputs": [],
   "source": [
    "# combine\n",
    "ds_df = pd.concat(objs = [ds_df, temp_stat_df], axis = 0)"
   ]
  },
  {
   "cell_type": "code",
   "execution_count": 91,
   "id": "91de3404-7cce-4987-8d60-c082cbad6692",
   "metadata": {},
   "outputs": [],
   "source": [
    "ds_df = ds_df.sort_values(by = ['dist_miles'])"
   ]
  },
  {
   "cell_type": "code",
   "execution_count": 92,
   "id": "d0d5f3dd-3e10-4f84-bf92-21c7f738371e",
   "metadata": {},
   "outputs": [],
   "source": [
    "ds_df['dist_miles_log'] = ds_df['dist_miles'].map(lambda x: np.log10(x))"
   ]
  },
  {
   "cell_type": "code",
   "execution_count": 93,
   "id": "965a66b7-46f5-445f-b84a-773ef91f7e7e",
   "metadata": {},
   "outputs": [],
   "source": [
    "# the color of the lines to add\n",
    "ds_df['color_list'] = 'black'"
   ]
  },
  {
   "cell_type": "code",
   "execution_count": 94,
   "id": "8aae0a65-898a-46d4-8338-1b84993e19a1",
   "metadata": {},
   "outputs": [],
   "source": [
    "# convert to feet to help with labeling\n",
    "ds_df['dist_feet'] = ds_df['dist_miles'] * 5280"
   ]
  },
  {
   "cell_type": "code",
   "execution_count": 95,
   "id": "563fa33d-01c4-4e69-980d-1fe762e14bdc",
   "metadata": {},
   "outputs": [],
   "source": [
    "# this the horizontal alignment of each piece of added text\n",
    "ds_df['text_ha'] = ['left', 'right',  'center', 'right', 'right', 'left', 'center', 'center', 'right']"
   ]
  },
  {
   "cell_type": "code",
   "execution_count": 96,
   "id": "fee2b3cf-5d58-4bdf-b759-009fab23a2db",
   "metadata": {},
   "outputs": [],
   "source": [
    "# the text labels to add\n",
    "ds_df['text'] = ['4ft (min.)', '99 ft (10%)', '172 ft (25%)', '443 ft (med.)', '0.23 mi (avg.)', '0.25 mi (75%)', '0.96 mi (95%)','1.8 mi (99%)', '5 mi (max.)']"
   ]
  },
  {
   "cell_type": "code",
   "execution_count": 97,
   "id": "2da23a3b-fff6-4263-bd00-1b8f8e9aeb38",
   "metadata": {},
   "outputs": [],
   "source": [
    "# jitter each piece of text by a small amount left or right\n",
    "ds_df['text_jitter'] = [0, .001, 0, .09, 0, 0, -.05, 0, 0]"
   ]
  },
  {
   "cell_type": "code",
   "execution_count": 98,
   "id": "cbd0ccc4-51f5-498f-9e11-7165350e00ab",
   "metadata": {},
   "outputs": [],
   "source": [
    "# the horizontal position is created from the distance in miles and the text jitter\n",
    "ds_df['text_x_pos'] = ds_df['dist_miles_log'] + ds_df['text_jitter']"
   ]
  },
  {
   "cell_type": "code",
   "execution_count": 99,
   "id": "11de704b-c412-4058-a214-d40b24dfb3cf",
   "metadata": {},
   "outputs": [
    {
     "data": {
      "text/html": [
       "<div>\n",
       "<style scoped>\n",
       "    .dataframe tbody tr th:only-of-type {\n",
       "        vertical-align: middle;\n",
       "    }\n",
       "\n",
       "    .dataframe tbody tr th {\n",
       "        vertical-align: top;\n",
       "    }\n",
       "\n",
       "    .dataframe thead th {\n",
       "        text-align: right;\n",
       "    }\n",
       "</style>\n",
       "<table border=\"1\" class=\"dataframe\">\n",
       "  <thead>\n",
       "    <tr style=\"text-align: right;\">\n",
       "      <th></th>\n",
       "      <th>stat</th>\n",
       "      <th>dist_miles</th>\n",
       "      <th>dist_miles_log</th>\n",
       "      <th>color_list</th>\n",
       "      <th>dist_feet</th>\n",
       "      <th>text_ha</th>\n",
       "      <th>text</th>\n",
       "      <th>text_jitter</th>\n",
       "      <th>text_x_pos</th>\n",
       "    </tr>\n",
       "  </thead>\n",
       "  <tbody>\n",
       "    <tr>\n",
       "      <th>3</th>\n",
       "      <td>min</td>\n",
       "      <td>0.000744</td>\n",
       "      <td>-3.128428</td>\n",
       "      <td>black</td>\n",
       "      <td>3.928314</td>\n",
       "      <td>left</td>\n",
       "      <td>4ft (min.)</td>\n",
       "      <td>0.000</td>\n",
       "      <td>-3.128428</td>\n",
       "    </tr>\n",
       "    <tr>\n",
       "      <th>0</th>\n",
       "      <td>10%</td>\n",
       "      <td>0.018747</td>\n",
       "      <td>-1.727074</td>\n",
       "      <td>black</td>\n",
       "      <td>98.982774</td>\n",
       "      <td>right</td>\n",
       "      <td>99 ft (10%)</td>\n",
       "      <td>0.001</td>\n",
       "      <td>-1.726074</td>\n",
       "    </tr>\n",
       "    <tr>\n",
       "      <th>4</th>\n",
       "      <td>25%</td>\n",
       "      <td>0.032608</td>\n",
       "      <td>-1.486670</td>\n",
       "      <td>black</td>\n",
       "      <td>172.172750</td>\n",
       "      <td>center</td>\n",
       "      <td>172 ft (25%)</td>\n",
       "      <td>0.000</td>\n",
       "      <td>-1.486670</td>\n",
       "    </tr>\n",
       "    <tr>\n",
       "      <th>5</th>\n",
       "      <td>50%</td>\n",
       "      <td>0.083964</td>\n",
       "      <td>-1.075904</td>\n",
       "      <td>black</td>\n",
       "      <td>443.332350</td>\n",
       "      <td>right</td>\n",
       "      <td>443 ft (med.)</td>\n",
       "      <td>0.090</td>\n",
       "      <td>-0.985904</td>\n",
       "    </tr>\n",
       "    <tr>\n",
       "      <th>1</th>\n",
       "      <td>mean</td>\n",
       "      <td>0.228895</td>\n",
       "      <td>-0.640363</td>\n",
       "      <td>black</td>\n",
       "      <td>1208.567839</td>\n",
       "      <td>right</td>\n",
       "      <td>0.23 mi (avg.)</td>\n",
       "      <td>0.000</td>\n",
       "      <td>-0.640363</td>\n",
       "    </tr>\n",
       "    <tr>\n",
       "      <th>6</th>\n",
       "      <td>75%</td>\n",
       "      <td>0.250521</td>\n",
       "      <td>-0.601155</td>\n",
       "      <td>black</td>\n",
       "      <td>1322.752385</td>\n",
       "      <td>left</td>\n",
       "      <td>0.25 mi (75%)</td>\n",
       "      <td>0.000</td>\n",
       "      <td>-0.601155</td>\n",
       "    </tr>\n",
       "    <tr>\n",
       "      <th>1</th>\n",
       "      <td>95%</td>\n",
       "      <td>0.962718</td>\n",
       "      <td>-0.016501</td>\n",
       "      <td>black</td>\n",
       "      <td>5083.153075</td>\n",
       "      <td>center</td>\n",
       "      <td>0.96 mi (95%)</td>\n",
       "      <td>-0.050</td>\n",
       "      <td>-0.066501</td>\n",
       "    </tr>\n",
       "    <tr>\n",
       "      <th>2</th>\n",
       "      <td>99%</td>\n",
       "      <td>1.797078</td>\n",
       "      <td>0.254567</td>\n",
       "      <td>black</td>\n",
       "      <td>9488.573933</td>\n",
       "      <td>center</td>\n",
       "      <td>1.8 mi (99%)</td>\n",
       "      <td>0.000</td>\n",
       "      <td>0.254567</td>\n",
       "    </tr>\n",
       "    <tr>\n",
       "      <th>7</th>\n",
       "      <td>max</td>\n",
       "      <td>4.973674</td>\n",
       "      <td>0.696677</td>\n",
       "      <td>black</td>\n",
       "      <td>26261.000182</td>\n",
       "      <td>right</td>\n",
       "      <td>5 mi (max.)</td>\n",
       "      <td>0.000</td>\n",
       "      <td>0.696677</td>\n",
       "    </tr>\n",
       "  </tbody>\n",
       "</table>\n",
       "</div>"
      ],
      "text/plain": [
       "   stat  dist_miles  dist_miles_log color_list     dist_feet text_ha  \\\n",
       "3   min    0.000744       -3.128428      black      3.928314    left   \n",
       "0   10%    0.018747       -1.727074      black     98.982774   right   \n",
       "4   25%    0.032608       -1.486670      black    172.172750  center   \n",
       "5   50%    0.083964       -1.075904      black    443.332350   right   \n",
       "1  mean    0.228895       -0.640363      black   1208.567839   right   \n",
       "6   75%    0.250521       -0.601155      black   1322.752385    left   \n",
       "1   95%    0.962718       -0.016501      black   5083.153075  center   \n",
       "2   99%    1.797078        0.254567      black   9488.573933  center   \n",
       "7   max    4.973674        0.696677      black  26261.000182   right   \n",
       "\n",
       "             text  text_jitter  text_x_pos  \n",
       "3      4ft (min.)        0.000   -3.128428  \n",
       "0     99 ft (10%)        0.001   -1.726074  \n",
       "4    172 ft (25%)        0.000   -1.486670  \n",
       "5   443 ft (med.)        0.090   -0.985904  \n",
       "1  0.23 mi (avg.)        0.000   -0.640363  \n",
       "6   0.25 mi (75%)        0.000   -0.601155  \n",
       "1   0.96 mi (95%)       -0.050   -0.066501  \n",
       "2    1.8 mi (99%)        0.000    0.254567  \n",
       "7     5 mi (max.)        0.000    0.696677  "
      ]
     },
     "execution_count": 99,
     "metadata": {},
     "output_type": "execute_result"
    }
   ],
   "source": [
    "ds_df.head(n=10)"
   ]
  },
  {
   "cell_type": "code",
   "execution_count": 100,
   "id": "0eabecfa",
   "metadata": {},
   "outputs": [
    {
     "data": {
      "text/html": [
       "<div>\n",
       "<style scoped>\n",
       "    .dataframe tbody tr th:only-of-type {\n",
       "        vertical-align: middle;\n",
       "    }\n",
       "\n",
       "    .dataframe tbody tr th {\n",
       "        vertical-align: top;\n",
       "    }\n",
       "\n",
       "    .dataframe thead th {\n",
       "        text-align: right;\n",
       "    }\n",
       "</style>\n",
       "<table border=\"1\" class=\"dataframe\">\n",
       "  <thead>\n",
       "    <tr style=\"text-align: right;\">\n",
       "      <th></th>\n",
       "      <th>snd_id</th>\n",
       "      <th>ord_street_name</th>\n",
       "      <th>ord_stname_concat</th>\n",
       "      <th>ord_street_type</th>\n",
       "      <th>ord_street_type_rank</th>\n",
       "      <th>snd_group</th>\n",
       "      <th>street_status</th>\n",
       "      <th>sn_id</th>\n",
       "      <th>en_id</th>\n",
       "      <th>dist</th>\n",
       "      <th>dist_miles</th>\n",
       "      <th>geometry</th>\n",
       "      <th>n_segments</th>\n",
       "      <th>street_status_desc</th>\n",
       "      <th>dist_rank</th>\n",
       "      <th>dist_miles_log</th>\n",
       "    </tr>\n",
       "  </thead>\n",
       "  <tbody>\n",
       "    <tr>\n",
       "      <th>0</th>\n",
       "      <td>65537</td>\n",
       "      <td>8TH</td>\n",
       "      <td>8TH AVE S</td>\n",
       "      <td>AVE</td>\n",
       "      <td>10_AVE</td>\n",
       "      <td>0</td>\n",
       "      <td>2</td>\n",
       "      <td>18097</td>\n",
       "      <td>18114</td>\n",
       "      <td>204.196924</td>\n",
       "      <td>0.038674</td>\n",
       "      <td>LINESTRING (-122.32234 47.52483, -122.32313 47...</td>\n",
       "      <td>1</td>\n",
       "      <td>missing_street</td>\n",
       "      <td>2595.0</td>\n",
       "      <td>-1.412585</td>\n",
       "    </tr>\n",
       "    <tr>\n",
       "      <th>1</th>\n",
       "      <td>65538</td>\n",
       "      <td>8TH</td>\n",
       "      <td>8TH AVE S</td>\n",
       "      <td>AVE</td>\n",
       "      <td>10_AVE</td>\n",
       "      <td>1</td>\n",
       "      <td>2</td>\n",
       "      <td>47681</td>\n",
       "      <td>17351</td>\n",
       "      <td>623.561561</td>\n",
       "      <td>0.118099</td>\n",
       "      <td>LINESTRING (-122.32282 47.53344, -122.32258 47...</td>\n",
       "      <td>1</td>\n",
       "      <td>missing_street</td>\n",
       "      <td>1559.0</td>\n",
       "      <td>-0.927755</td>\n",
       "    </tr>\n",
       "    <tr>\n",
       "      <th>2</th>\n",
       "      <td>65539</td>\n",
       "      <td>8TH</td>\n",
       "      <td>8TH AVE S</td>\n",
       "      <td>AVE</td>\n",
       "      <td>10_AVE</td>\n",
       "      <td>2</td>\n",
       "      <td>2</td>\n",
       "      <td>47349</td>\n",
       "      <td>47350</td>\n",
       "      <td>22.457337</td>\n",
       "      <td>0.004253</td>\n",
       "      <td>LINESTRING (-122.32352 47.58541, -122.32351 47...</td>\n",
       "      <td>1</td>\n",
       "      <td>missing_street</td>\n",
       "      <td>3620.0</td>\n",
       "      <td>-2.371276</td>\n",
       "    </tr>\n",
       "    <tr>\n",
       "      <th>3</th>\n",
       "      <td>65540</td>\n",
       "      <td>8TH</td>\n",
       "      <td>8TH AVE S</td>\n",
       "      <td>AVE</td>\n",
       "      <td>10_AVE</td>\n",
       "      <td>3</td>\n",
       "      <td>2</td>\n",
       "      <td>12997</td>\n",
       "      <td>12890</td>\n",
       "      <td>809.775930</td>\n",
       "      <td>0.153367</td>\n",
       "      <td>LINESTRING (-122.32278 47.59057, -122.32278 47...</td>\n",
       "      <td>1</td>\n",
       "      <td>missing_street</td>\n",
       "      <td>1262.0</td>\n",
       "      <td>-0.814269</td>\n",
       "    </tr>\n",
       "    <tr>\n",
       "      <th>4</th>\n",
       "      <td>65541</td>\n",
       "      <td>8TH</td>\n",
       "      <td>8TH AVE S</td>\n",
       "      <td>AVE</td>\n",
       "      <td>10_AVE</td>\n",
       "      <td>4</td>\n",
       "      <td>2</td>\n",
       "      <td>12576</td>\n",
       "      <td>12538</td>\n",
       "      <td>349.926253</td>\n",
       "      <td>0.066274</td>\n",
       "      <td>LINESTRING (-122.32246 47.59919, -122.32177 47...</td>\n",
       "      <td>1</td>\n",
       "      <td>missing_street</td>\n",
       "      <td>2036.0</td>\n",
       "      <td>-1.178657</td>\n",
       "    </tr>\n",
       "  </tbody>\n",
       "</table>\n",
       "</div>"
      ],
      "text/plain": [
       "   snd_id ord_street_name ord_stname_concat ord_street_type  \\\n",
       "0   65537             8TH         8TH AVE S             AVE   \n",
       "1   65538             8TH         8TH AVE S             AVE   \n",
       "2   65539             8TH         8TH AVE S             AVE   \n",
       "3   65540             8TH         8TH AVE S             AVE   \n",
       "4   65541             8TH         8TH AVE S             AVE   \n",
       "\n",
       "  ord_street_type_rank  snd_group  street_status  sn_id  en_id        dist  \\\n",
       "0               10_AVE          0              2  18097  18114  204.196924   \n",
       "1               10_AVE          1              2  47681  17351  623.561561   \n",
       "2               10_AVE          2              2  47349  47350   22.457337   \n",
       "3               10_AVE          3              2  12997  12890  809.775930   \n",
       "4               10_AVE          4              2  12576  12538  349.926253   \n",
       "\n",
       "   dist_miles                                           geometry  n_segments  \\\n",
       "0    0.038674  LINESTRING (-122.32234 47.52483, -122.32313 47...           1   \n",
       "1    0.118099  LINESTRING (-122.32282 47.53344, -122.32258 47...           1   \n",
       "2    0.004253  LINESTRING (-122.32352 47.58541, -122.32351 47...           1   \n",
       "3    0.153367  LINESTRING (-122.32278 47.59057, -122.32278 47...           1   \n",
       "4    0.066274  LINESTRING (-122.32246 47.59919, -122.32177 47...           1   \n",
       "\n",
       "  street_status_desc  dist_rank  dist_miles_log  \n",
       "0     missing_street     2595.0       -1.412585  \n",
       "1     missing_street     1559.0       -0.927755  \n",
       "2     missing_street     3620.0       -2.371276  \n",
       "3     missing_street     1262.0       -0.814269  \n",
       "4     missing_street     2036.0       -1.178657  "
      ]
     },
     "execution_count": 100,
     "metadata": {},
     "output_type": "execute_result"
    }
   ],
   "source": [
    "wms_gdf.head()"
   ]
  },
  {
   "cell_type": "code",
   "execution_count": 101,
   "id": "ae4c5536-b909-461f-ab60-742848295312",
   "metadata": {},
   "outputs": [
    {
     "name": "stdout",
     "output_type": "stream",
     "text": [
      "..\\graphics\\_all_streets_dist_histogram.png\n"
     ]
    },
    {
     "data": {
      "image/png": "[encoded data removed]",
      "text/plain": [
       "<Figure size 2000x500 with 1 Axes>"
      ]
     },
     "metadata": {},
     "output_type": "display_data"
    }
   ],
   "source": [
    "# compute the histogram of the added distribution\n",
    "sns.set_theme(style = \"whitegrid\")\n",
    "f, ax = plt.subplots(figsize = (20, 5))\n",
    "\n",
    "ax.set_ylim(0, 185.6)\n",
    "ax.set_xlim(-3.2, .75)\n",
    "\n",
    "my_plot = sns.histplot(data = wms_gdf, x = 'dist_miles_log',\n",
    "                      color='#ca0020', bins = 100)\n",
    "\n",
    "# set the top part of the plot frame - the spine - to black\n",
    "ax.spines['top'].set_edgecolor(color = 'black')\n",
    "\n",
    "y_ticks = list(range(0, 176, 25))\n",
    "y_tick_labels_formatted = ['{:,}'.format(ytl) for ytl in y_ticks]   \n",
    "\n",
    "my_plot.set_yticks(ticks = y_ticks)\n",
    "my_plot.set_yticklabels(labels = y_tick_labels_formatted, rotation=0)\n",
    "\n",
    "# total missing streets\n",
    "n_missing = wms_gdf.shape[0]\n",
    "n_missing =  f\"{n_missing:,}\"\n",
    "\n",
    "tot_miles = wms_gdf['dist_miles'].sum()\n",
    "tot_miles = f\"{int(round(tot_miles, 0)):,}\"\n",
    "\n",
    "my_title = \"Histogram of missing road segment length, all road types (n = {}, {} miles)\".format(n_missing, tot_miles)\n",
    "\n",
    "plt.title(label = my_title, fontsize = 16)\n",
    "plt.xlabel(xlabel = 'Missing road segment length (log-scale)')\n",
    "plt.ylabel(ylabel = \"Number of misssing road segments\")\n",
    "\n",
    "# x tick positions\n",
    "x_tick_labels = [50 / 5280, 100 / 5280, 300 / 5280, .1, .25, .5, 1, 2, 3]\n",
    "x_ticks = [np.log10(xtl) for xtl in x_tick_labels]\n",
    "\n",
    "# x tick labels\n",
    "x_tick_label_text = ['50 ft', '100 ft', '300 ft',  '1/10 mi', '1/4 mi', '1/2 mi', '1 mi', '2 mi', '3 mi']\n",
    "\n",
    "\n",
    "my_plot.set_xticks(ticks = x_ticks)\n",
    "my_plot.set_xticklabels(labels = x_tick_label_text, rotation=0)\n",
    "\n",
    "# white out the top portion of the ticks\n",
    "for xt in x_ticks:\n",
    "    my_plot.vlines(x = xt, ymin = 175, ymax = 185, color = 'white', linestyles = 'solid', linewidth = 2)\n",
    "\n",
    "# add vertical lines at some descriptive statistics points\n",
    "my_plot.vlines(x = ds_df['dist_miles_log'], ymin = 0, ymax = 175, color = ds_df['color_list'], linestyles = 'dashdot')\n",
    "\n",
    "# add text for the descriptive stats\n",
    "for ir, row in ds_df.iterrows():\n",
    "    my_plot.text(x = row['text_x_pos'], y = 176, s = row['text'], horizontalalignment = row['text_ha'], color = '#ca0020')\n",
    "\n",
    "output_file_name = '..\\\\graphics\\\\_all_streets_dist_histogram.png'\n",
    "output_file_name = os.path.normpath(output_file_name)\n",
    "print(output_file_name)\n",
    "my_plot.get_figure().savefig(fname = output_file_name)\n",
    "plt.show()"
   ]
  },
  {
   "cell_type": "code",
   "execution_count": 102,
   "id": "8970a023-51b0-43e7-a271-0de1964d82e3",
   "metadata": {},
   "outputs": [],
   "source": [
    "# and there you have it... most added streets are short. \n",
    "# 75% of all added streets are 0.25 miles or less. "
   ]
  },
  {
   "cell_type": "markdown",
   "id": "4050443b-5e5d-4a02-a99f-1a110ee80202",
   "metadata": {},
   "source": [
    "# histogram of each type of street"
   ]
  },
  {
   "cell_type": "code",
   "execution_count": 103,
   "id": "53d57e75-dd3a-4385-bb31-58c128e070e3",
   "metadata": {},
   "outputs": [],
   "source": [
    "st_type_df = pd.pivot_table(data = wms_gdf, index = ['ord_street_type'],\n",
    "                         columns = ['street_status_desc'], values = ['dist_miles'],\n",
    "                        aggfunc='sum', fill_value = 0).reset_index()"
   ]
  },
  {
   "cell_type": "code",
   "execution_count": 104,
   "id": "26b893ff-3656-4567-ae2c-2dd8b8dd9165",
   "metadata": {},
   "outputs": [
    {
     "data": {
      "text/html": [
       "<div>\n",
       "<style scoped>\n",
       "    .dataframe tbody tr th:only-of-type {\n",
       "        vertical-align: middle;\n",
       "    }\n",
       "\n",
       "    .dataframe tbody tr th {\n",
       "        vertical-align: top;\n",
       "    }\n",
       "\n",
       "    .dataframe thead tr th {\n",
       "        text-align: left;\n",
       "    }\n",
       "</style>\n",
       "<table border=\"1\" class=\"dataframe\">\n",
       "  <thead>\n",
       "    <tr>\n",
       "      <th></th>\n",
       "      <th>ord_street_type</th>\n",
       "      <th>dist_miles</th>\n",
       "    </tr>\n",
       "    <tr>\n",
       "      <th>street_status_desc</th>\n",
       "      <th></th>\n",
       "      <th>missing_street</th>\n",
       "    </tr>\n",
       "  </thead>\n",
       "  <tbody>\n",
       "    <tr>\n",
       "      <th>0</th>\n",
       "      <td>AVE</td>\n",
       "      <td>436.939922</td>\n",
       "    </tr>\n",
       "    <tr>\n",
       "      <th>1</th>\n",
       "      <td>BLVD</td>\n",
       "      <td>0.662671</td>\n",
       "    </tr>\n",
       "    <tr>\n",
       "      <th>2</th>\n",
       "      <td>CT</td>\n",
       "      <td>0.066143</td>\n",
       "    </tr>\n",
       "    <tr>\n",
       "      <th>3</th>\n",
       "      <td>DR</td>\n",
       "      <td>1.527658</td>\n",
       "    </tr>\n",
       "    <tr>\n",
       "      <th>4</th>\n",
       "      <td>LN</td>\n",
       "      <td>2.171834</td>\n",
       "    </tr>\n",
       "  </tbody>\n",
       "</table>\n",
       "</div>"
      ],
      "text/plain": [
       "                   ord_street_type     dist_miles\n",
       "street_status_desc                 missing_street\n",
       "0                              AVE     436.939922\n",
       "1                             BLVD       0.662671\n",
       "2                               CT       0.066143\n",
       "3                               DR       1.527658\n",
       "4                               LN       2.171834"
      ]
     },
     "execution_count": 104,
     "metadata": {},
     "output_type": "execute_result"
    }
   ],
   "source": [
    "st_type_df.head()"
   ]
  },
  {
   "cell_type": "code",
   "execution_count": 105,
   "id": "f63da0ad-fe7a-43da-bf85-02e170b318dd",
   "metadata": {},
   "outputs": [],
   "source": [
    "st_type_df.columns = [''.join(cn).replace('dist_miles', '') for cn in st_type_df.columns]"
   ]
  },
  {
   "cell_type": "code",
   "execution_count": 106,
   "id": "ab22f894-c935-44fc-9fb0-10cb5deb981d",
   "metadata": {},
   "outputs": [
    {
     "data": {
      "text/html": [
       "<div>\n",
       "<style scoped>\n",
       "    .dataframe tbody tr th:only-of-type {\n",
       "        vertical-align: middle;\n",
       "    }\n",
       "\n",
       "    .dataframe tbody tr th {\n",
       "        vertical-align: top;\n",
       "    }\n",
       "\n",
       "    .dataframe thead th {\n",
       "        text-align: right;\n",
       "    }\n",
       "</style>\n",
       "<table border=\"1\" class=\"dataframe\">\n",
       "  <thead>\n",
       "    <tr style=\"text-align: right;\">\n",
       "      <th></th>\n",
       "      <th>ord_street_type</th>\n",
       "      <th>missing_street</th>\n",
       "    </tr>\n",
       "  </thead>\n",
       "  <tbody>\n",
       "    <tr>\n",
       "      <th>0</th>\n",
       "      <td>AVE</td>\n",
       "      <td>436.939922</td>\n",
       "    </tr>\n",
       "    <tr>\n",
       "      <th>1</th>\n",
       "      <td>BLVD</td>\n",
       "      <td>0.662671</td>\n",
       "    </tr>\n",
       "    <tr>\n",
       "      <th>2</th>\n",
       "      <td>CT</td>\n",
       "      <td>0.066143</td>\n",
       "    </tr>\n",
       "    <tr>\n",
       "      <th>3</th>\n",
       "      <td>DR</td>\n",
       "      <td>1.527658</td>\n",
       "    </tr>\n",
       "    <tr>\n",
       "      <th>4</th>\n",
       "      <td>LN</td>\n",
       "      <td>2.171834</td>\n",
       "    </tr>\n",
       "  </tbody>\n",
       "</table>\n",
       "</div>"
      ],
      "text/plain": [
       "  ord_street_type  missing_street\n",
       "0             AVE      436.939922\n",
       "1            BLVD        0.662671\n",
       "2              CT        0.066143\n",
       "3              DR        1.527658\n",
       "4              LN        2.171834"
      ]
     },
     "execution_count": 106,
     "metadata": {},
     "output_type": "execute_result"
    }
   ],
   "source": [
    "st_type_df.head()"
   ]
  },
  {
   "cell_type": "code",
   "execution_count": 107,
   "id": "2c9c7927-679a-44db-a559-a00c41025a2c",
   "metadata": {},
   "outputs": [],
   "source": [
    "st_type_df.columns = ['ord_street_type', 'total_miles']"
   ]
  },
  {
   "cell_type": "code",
   "execution_count": 108,
   "id": "b4856a7b-901f-457b-8003-f824b88e317d",
   "metadata": {},
   "outputs": [],
   "source": [
    "ds_df = wms_gdf[['ord_street_type', 'dist_miles']].groupby(['ord_street_type'])['dist_miles'].describe().reset_index(names = ['ord_street_type'])"
   ]
  },
  {
   "cell_type": "code",
   "execution_count": 109,
   "id": "3f69b31e-cc60-4e77-9e7d-74c845110d61",
   "metadata": {},
   "outputs": [
    {
     "data": {
      "text/html": [
       "<div>\n",
       "<style scoped>\n",
       "    .dataframe tbody tr th:only-of-type {\n",
       "        vertical-align: middle;\n",
       "    }\n",
       "\n",
       "    .dataframe tbody tr th {\n",
       "        vertical-align: top;\n",
       "    }\n",
       "\n",
       "    .dataframe thead th {\n",
       "        text-align: right;\n",
       "    }\n",
       "</style>\n",
       "<table border=\"1\" class=\"dataframe\">\n",
       "  <thead>\n",
       "    <tr style=\"text-align: right;\">\n",
       "      <th></th>\n",
       "      <th>ord_street_type</th>\n",
       "      <th>count</th>\n",
       "      <th>mean</th>\n",
       "      <th>std</th>\n",
       "      <th>min</th>\n",
       "      <th>25%</th>\n",
       "      <th>50%</th>\n",
       "      <th>75%</th>\n",
       "      <th>max</th>\n",
       "    </tr>\n",
       "  </thead>\n",
       "  <tbody>\n",
       "    <tr>\n",
       "      <th>0</th>\n",
       "      <td>AVE</td>\n",
       "      <td>1806.0</td>\n",
       "      <td>0.241938</td>\n",
       "      <td>0.390708</td>\n",
       "      <td>0.002857</td>\n",
       "      <td>0.030976</td>\n",
       "      <td>0.091495</td>\n",
       "      <td>0.256562</td>\n",
       "      <td>3.739595</td>\n",
       "    </tr>\n",
       "    <tr>\n",
       "      <th>1</th>\n",
       "      <td>BLVD</td>\n",
       "      <td>13.0</td>\n",
       "      <td>0.050975</td>\n",
       "      <td>0.069432</td>\n",
       "      <td>0.001021</td>\n",
       "      <td>0.013328</td>\n",
       "      <td>0.030070</td>\n",
       "      <td>0.046605</td>\n",
       "      <td>0.255118</td>\n",
       "    </tr>\n",
       "    <tr>\n",
       "      <th>2</th>\n",
       "      <td>CT</td>\n",
       "      <td>2.0</td>\n",
       "      <td>0.033072</td>\n",
       "      <td>0.020849</td>\n",
       "      <td>0.018329</td>\n",
       "      <td>0.025700</td>\n",
       "      <td>0.033072</td>\n",
       "      <td>0.040443</td>\n",
       "      <td>0.047814</td>\n",
       "    </tr>\n",
       "    <tr>\n",
       "      <th>3</th>\n",
       "      <td>DR</td>\n",
       "      <td>19.0</td>\n",
       "      <td>0.080403</td>\n",
       "      <td>0.088947</td>\n",
       "      <td>0.004334</td>\n",
       "      <td>0.030876</td>\n",
       "      <td>0.057824</td>\n",
       "      <td>0.081903</td>\n",
       "      <td>0.383551</td>\n",
       "    </tr>\n",
       "    <tr>\n",
       "      <th>4</th>\n",
       "      <td>LN</td>\n",
       "      <td>13.0</td>\n",
       "      <td>0.167064</td>\n",
       "      <td>0.279788</td>\n",
       "      <td>0.014486</td>\n",
       "      <td>0.018194</td>\n",
       "      <td>0.031653</td>\n",
       "      <td>0.068437</td>\n",
       "      <td>0.903147</td>\n",
       "    </tr>\n",
       "  </tbody>\n",
       "</table>\n",
       "</div>"
      ],
      "text/plain": [
       "  ord_street_type   count      mean       std       min       25%       50%  \\\n",
       "0             AVE  1806.0  0.241938  0.390708  0.002857  0.030976  0.091495   \n",
       "1            BLVD    13.0  0.050975  0.069432  0.001021  0.013328  0.030070   \n",
       "2              CT     2.0  0.033072  0.020849  0.018329  0.025700  0.033072   \n",
       "3              DR    19.0  0.080403  0.088947  0.004334  0.030876  0.057824   \n",
       "4              LN    13.0  0.167064  0.279788  0.014486  0.018194  0.031653   \n",
       "\n",
       "        75%       max  \n",
       "0  0.256562  3.739595  \n",
       "1  0.046605  0.255118  \n",
       "2  0.040443  0.047814  \n",
       "3  0.081903  0.383551  \n",
       "4  0.068437  0.903147  "
      ]
     },
     "execution_count": 109,
     "metadata": {},
     "output_type": "execute_result"
    }
   ],
   "source": [
    "ds_df.head()"
   ]
  },
  {
   "cell_type": "code",
   "execution_count": 110,
   "id": "70e9fc08-04b6-469b-925b-415d1bc75037",
   "metadata": {},
   "outputs": [
    {
     "data": {
      "text/plain": [
       "[3.7395953497001355,\n",
       " 0.25511811226877146,\n",
       " 0.04781399100785158,\n",
       " 0.3835505539397646,\n",
       " 0.9031467790728132,\n",
       " 0.015428321856929715,\n",
       " 4.97367427687857,\n",
       " 0.44164899742250396,\n",
       " 4.048921545671539,\n",
       " 0.8421779354619497]"
      ]
     },
     "execution_count": 110,
     "metadata": {},
     "output_type": "execute_result"
    }
   ],
   "source": [
    "ds_df['max'].tolist()"
   ]
  },
  {
   "cell_type": "code",
   "execution_count": 111,
   "id": "83e8f77b-7f31-4c0c-93d4-53b59b85b414",
   "metadata": {},
   "outputs": [
    {
     "data": {
      "text/plain": [
       "(10, 9)"
      ]
     },
     "execution_count": 111,
     "metadata": {},
     "output_type": "execute_result"
    }
   ],
   "source": [
    "ds_df.shape"
   ]
  },
  {
   "cell_type": "code",
   "execution_count": 116,
   "id": "631cb418-6cdf-4b2a-9e17-5363959616fd",
   "metadata": {},
   "outputs": [
    {
     "name": "stdout",
     "output_type": "stream",
     "text": [
      "..\\graphics\\AVE_dist_histogram.png\n",
      "..\\graphics\\BLVD_dist_histogram.png\n",
      "..\\graphics\\CT_dist_histogram.png\n",
      "..\\graphics\\DR_dist_histogram.png\n",
      "..\\graphics\\LN_dist_histogram.png\n",
      "..\\graphics\\PKWY_dist_histogram.png\n",
      "..\\graphics\\PL_dist_histogram.png\n",
      "..\\graphics\\RD_dist_histogram.png\n",
      "..\\graphics\\ST_dist_histogram.png\n",
      "..\\graphics\\WAY_dist_histogram.png\n"
     ]
    }
   ],
   "source": [
    "for ir, row in ds_df.iterrows():\n",
    "    # let's make a graphic showing the distances\n",
    "    sns.set_theme(style = \"whitegrid\")\n",
    "    f, ax = plt.subplots(figsize = (20, 5))\n",
    "\n",
    "    # set the top part of the plot frame - the spine - to black\n",
    "    ax.spines['top'].set_edgecolor(color = 'black')\n",
    "\n",
    "    x_max = row['max']\n",
    "    ost = row['ord_street_type']    \n",
    "    \n",
    "    if x_max > 1:\n",
    "        xlim_max = .75\n",
    "    else:\n",
    "        xlim_max = 0\n",
    "    ax.set_xlim(-3.2, xlim_max)\n",
    "\n",
    "    temp_gdf = wms_gdf.loc[wms_gdf['ord_street_type'] == ost, :]\n",
    "    my_plot = sns.histplot(data = temp_gdf, x = 'dist_miles_log',\n",
    "                          color='#ca0020', bins = 100)\n",
    "    \n",
    "    # total missing streets\n",
    "    n_missing = temp_gdf.shape[0]\n",
    "    n_missing =  f\"{n_missing:,}\"\n",
    "\n",
    "    tot_miles = temp_gdf['dist_miles'].sum()    \n",
    "    dist_units = 'miles'\n",
    "    if tot_miles < .25:\n",
    "        tot_dist = int(round(temp_gdf['dist'].sum(), 0))\n",
    "        dist_units = 'feet'        \n",
    "    elif tot_miles >= .25 and tot_miles <= 5:    \n",
    "        tot_dist = tot_miles\n",
    "        tot_dist = round(tot_dist, 2)        \n",
    "    else:\n",
    "        tot_dist = int(round(tot_miles, 0))        \n",
    "        \n",
    "    my_title =   \"Histogram of missing road segment length: {} (n = {}, {} {})\".format(ost, n_missing, tot_dist, dist_units )\n",
    "    \n",
    "    plt.title(label = my_title, fontsize = 16)\n",
    "    plt.xlabel(xlabel = 'Missing road segment  length (log-scale)')\n",
    "    plt.ylabel(ylabel = \"Number of misssing road segments\")\n",
    "    \n",
    "    if x_max > 1:\n",
    "        x_tick_labels = [50 / 5280, 100 / 5280, 300 / 5280, .1, .25, .5, 1, 2, 3]\n",
    "        x_tick_label_text = ['50 ft', '100 ft', '300 ft',  '1/10 mi', '1/4 mi', '1/2 mi', '1 mi', '2 mi', '3 mi']\n",
    "    else:\n",
    "        x_tick_labels = [50 / 5280, 100 / 5280, 300 / 5280, .1, .25, .5, 1]\n",
    "        x_tick_label_text = ['50 ft', '100 ft', '300 ft',  '1/10 mi', '1/4 mi', '1/2 mi', '1 mi']\n",
    "        \n",
    "    x_ticks = [np.log10(xtl) for xtl in x_tick_labels]\n",
    "    \n",
    "    my_plot.set_xticks(ticks = x_ticks)\n",
    "    my_plot.set_xticklabels(labels = x_tick_label_text, rotation=0)    \n",
    "    \n",
    "    \n",
    "    output_file_name = '..\\\\graphics\\\\{}_dist_histogram.png'.format(row['ord_street_type'])\n",
    "    output_file_name = os.path.normpath(output_file_name)\n",
    "    print(output_file_name)\n",
    "    my_plot.get_figure().savefig(fname = output_file_name)\n",
    "    plt.close()"
   ]
  },
  {
   "cell_type": "code",
   "execution_count": 117,
   "id": "c46614e1-b85a-4baa-a977-01f53d5b0f37",
   "metadata": {},
   "outputs": [
    {
     "data": {
      "text/html": [
       "<div>\n",
       "<style scoped>\n",
       "    .dataframe tbody tr th:only-of-type {\n",
       "        vertical-align: middle;\n",
       "    }\n",
       "\n",
       "    .dataframe tbody tr th {\n",
       "        vertical-align: top;\n",
       "    }\n",
       "\n",
       "    .dataframe thead th {\n",
       "        text-align: right;\n",
       "    }\n",
       "</style>\n",
       "<table border=\"1\" class=\"dataframe\">\n",
       "  <thead>\n",
       "    <tr style=\"text-align: right;\">\n",
       "      <th></th>\n",
       "      <th></th>\n",
       "      <th>count</th>\n",
       "      <th>min</th>\n",
       "      <th>25%</th>\n",
       "      <th>50%</th>\n",
       "      <th>mean</th>\n",
       "      <th>75%</th>\n",
       "      <th>max</th>\n",
       "      <th>total_miles</th>\n",
       "    </tr>\n",
       "    <tr>\n",
       "      <th>ord_street_type</th>\n",
       "      <th>street_status_desc</th>\n",
       "      <th></th>\n",
       "      <th></th>\n",
       "      <th></th>\n",
       "      <th></th>\n",
       "      <th></th>\n",
       "      <th></th>\n",
       "      <th></th>\n",
       "      <th></th>\n",
       "    </tr>\n",
       "  </thead>\n",
       "  <tbody>\n",
       "    <tr>\n",
       "      <th rowspan=\"3\" valign=\"top\">AVE</th>\n",
       "      <th>complete</th>\n",
       "      <td>1484.0</td>\n",
       "      <td>0.002083</td>\n",
       "      <td>0.049255</td>\n",
       "      <td>0.066940</td>\n",
       "      <td>0.074885</td>\n",
       "      <td>0.088289</td>\n",
       "      <td>0.639583</td>\n",
       "      <td>111.130081</td>\n",
       "    </tr>\n",
       "    <tr>\n",
       "      <th>disconnected</th>\n",
       "      <td>10345.0</td>\n",
       "      <td>0.000947</td>\n",
       "      <td>0.049960</td>\n",
       "      <td>0.068181</td>\n",
       "      <td>0.080059</td>\n",
       "      <td>0.122227</td>\n",
       "      <td>0.633067</td>\n",
       "      <td>828.215079</td>\n",
       "    </tr>\n",
       "    <tr>\n",
       "      <th>missing</th>\n",
       "      <td>1806.0</td>\n",
       "      <td>0.002857</td>\n",
       "      <td>0.030976</td>\n",
       "      <td>0.091495</td>\n",
       "      <td>0.241938</td>\n",
       "      <td>0.256562</td>\n",
       "      <td>3.739595</td>\n",
       "      <td>436.939922</td>\n",
       "    </tr>\n",
       "    <tr>\n",
       "      <th rowspan=\"2\" valign=\"top\">BLVD</th>\n",
       "      <th>complete</th>\n",
       "      <td>115.0</td>\n",
       "      <td>0.006818</td>\n",
       "      <td>0.051247</td>\n",
       "      <td>0.068698</td>\n",
       "      <td>0.099031</td>\n",
       "      <td>0.106965</td>\n",
       "      <td>0.605102</td>\n",
       "      <td>11.388519</td>\n",
       "    </tr>\n",
       "    <tr>\n",
       "      <th>disconnected</th>\n",
       "      <td>130.0</td>\n",
       "      <td>0.002317</td>\n",
       "      <td>0.055406</td>\n",
       "      <td>0.082050</td>\n",
       "      <td>0.106672</td>\n",
       "      <td>0.132516</td>\n",
       "      <td>0.697001</td>\n",
       "      <td>13.867313</td>\n",
       "    </tr>\n",
       "  </tbody>\n",
       "</table>\n",
       "</div>"
      ],
      "text/plain": [
       "                                      count       min       25%       50%  \\\n",
       "ord_street_type street_status_desc                                          \n",
       "AVE             complete             1484.0  0.002083  0.049255  0.066940   \n",
       "                disconnected        10345.0  0.000947  0.049960  0.068181   \n",
       "                missing              1806.0  0.002857  0.030976  0.091495   \n",
       "BLVD            complete              115.0  0.006818  0.051247  0.068698   \n",
       "                disconnected          130.0  0.002317  0.055406  0.082050   \n",
       "\n",
       "                                        mean       75%       max  total_miles  \n",
       "ord_street_type street_status_desc                                             \n",
       "AVE             complete            0.074885  0.088289  0.639583   111.130081  \n",
       "                disconnected        0.080059  0.122227  0.633067   828.215079  \n",
       "                missing             0.241938  0.256562  3.739595   436.939922  \n",
       "BLVD            complete            0.099031  0.106965  0.605102    11.388519  \n",
       "                disconnected        0.106672  0.132516  0.697001    13.867313  "
      ]
     },
     "execution_count": 117,
     "metadata": {},
     "output_type": "execute_result"
    }
   ],
   "source": [
    "ds_st_df.head()"
   ]
  },
  {
   "cell_type": "code",
   "execution_count": 127,
   "id": "de5e38e3-2524-4ee8-b278-d076b15ce789",
   "metadata": {},
   "outputs": [],
   "source": [
    "col_names = ['ord_street_type', 'street_status_desc', 'dist_miles']\n",
    "ds_st_df = gdf[col_names].groupby(col_names[:-1]).agg(n_segments = ('dist_miles', 'size'),\n",
    "                                                      n_miles = ('dist_miles', 'sum')).reset_index()"
   ]
  },
  {
   "cell_type": "code",
   "execution_count": 128,
   "id": "e708690f",
   "metadata": {},
   "outputs": [
    {
     "data": {
      "text/html": [
       "<div>\n",
       "<style scoped>\n",
       "    .dataframe tbody tr th:only-of-type {\n",
       "        vertical-align: middle;\n",
       "    }\n",
       "\n",
       "    .dataframe tbody tr th {\n",
       "        vertical-align: top;\n",
       "    }\n",
       "\n",
       "    .dataframe thead th {\n",
       "        text-align: right;\n",
       "    }\n",
       "</style>\n",
       "<table border=\"1\" class=\"dataframe\">\n",
       "  <thead>\n",
       "    <tr style=\"text-align: right;\">\n",
       "      <th></th>\n",
       "      <th>ord_street_type</th>\n",
       "      <th>street_status_desc</th>\n",
       "      <th>n_segments</th>\n",
       "      <th>n_miles</th>\n",
       "    </tr>\n",
       "  </thead>\n",
       "  <tbody>\n",
       "    <tr>\n",
       "      <th>0</th>\n",
       "      <td>AVE</td>\n",
       "      <td>complete_street</td>\n",
       "      <td>1484</td>\n",
       "      <td>111.130081</td>\n",
       "    </tr>\n",
       "    <tr>\n",
       "      <th>1</th>\n",
       "      <td>AVE</td>\n",
       "      <td>disconnected_street</td>\n",
       "      <td>10345</td>\n",
       "      <td>828.215079</td>\n",
       "    </tr>\n",
       "    <tr>\n",
       "      <th>2</th>\n",
       "      <td>AVE</td>\n",
       "      <td>missing_street</td>\n",
       "      <td>1806</td>\n",
       "      <td>436.939922</td>\n",
       "    </tr>\n",
       "    <tr>\n",
       "      <th>3</th>\n",
       "      <td>BLVD</td>\n",
       "      <td>complete_street</td>\n",
       "      <td>115</td>\n",
       "      <td>11.388519</td>\n",
       "    </tr>\n",
       "    <tr>\n",
       "      <th>4</th>\n",
       "      <td>BLVD</td>\n",
       "      <td>disconnected_street</td>\n",
       "      <td>130</td>\n",
       "      <td>13.867313</td>\n",
       "    </tr>\n",
       "  </tbody>\n",
       "</table>\n",
       "</div>"
      ],
      "text/plain": [
       "  ord_street_type   street_status_desc  n_segments     n_miles\n",
       "0             AVE      complete_street        1484  111.130081\n",
       "1             AVE  disconnected_street       10345  828.215079\n",
       "2             AVE       missing_street        1806  436.939922\n",
       "3            BLVD      complete_street         115   11.388519\n",
       "4            BLVD  disconnected_street         130   13.867313"
      ]
     },
     "execution_count": 128,
     "metadata": {},
     "output_type": "execute_result"
    }
   ],
   "source": [
    "ds_st_df.head()"
   ]
  },
  {
   "cell_type": "code",
   "execution_count": 129,
   "id": "3b55634b",
   "metadata": {},
   "outputs": [],
   "source": [
    "col_names = ['street_status_desc', 'dist_miles']\n",
    "all_ds_st_df = gdf[col_names].groupby(col_names[:-1]).agg(n_segments = ('dist_miles', 'size'),\n",
    "                                                      n_miles = ('dist_miles', 'sum')).reset_index()"
   ]
  },
  {
   "cell_type": "code",
   "execution_count": 130,
   "id": "d03b7a18",
   "metadata": {},
   "outputs": [],
   "source": [
    "all_ds_st_df['ord_street_type'] = 'ALL'"
   ]
  },
  {
   "cell_type": "code",
   "execution_count": 132,
   "id": "030a6f3b",
   "metadata": {},
   "outputs": [],
   "source": [
    "col_names = ['ord_street_type', 'street_status_desc', 'n_segments', 'n_miles']\n",
    "all_ds_st_df = all_ds_st_df[col_names]"
   ]
  },
  {
   "cell_type": "code",
   "execution_count": 133,
   "id": "73b71b61",
   "metadata": {},
   "outputs": [],
   "source": [
    "ds_st_df = pd.concat(objs = [all_ds_st_df, ds_st_df])"
   ]
  },
  {
   "cell_type": "code",
   "execution_count": 134,
   "id": "42b47ed8",
   "metadata": {},
   "outputs": [
    {
     "data": {
      "text/html": [
       "<div>\n",
       "<style scoped>\n",
       "    .dataframe tbody tr th:only-of-type {\n",
       "        vertical-align: middle;\n",
       "    }\n",
       "\n",
       "    .dataframe tbody tr th {\n",
       "        vertical-align: top;\n",
       "    }\n",
       "\n",
       "    .dataframe thead th {\n",
       "        text-align: right;\n",
       "    }\n",
       "</style>\n",
       "<table border=\"1\" class=\"dataframe\">\n",
       "  <thead>\n",
       "    <tr style=\"text-align: right;\">\n",
       "      <th></th>\n",
       "      <th>ord_street_type</th>\n",
       "      <th>street_status_desc</th>\n",
       "      <th>n_segments</th>\n",
       "      <th>n_miles</th>\n",
       "    </tr>\n",
       "  </thead>\n",
       "  <tbody>\n",
       "    <tr>\n",
       "      <th>0</th>\n",
       "      <td>ALL</td>\n",
       "      <td>complete_street</td>\n",
       "      <td>5462</td>\n",
       "      <td>420.950894</td>\n",
       "    </tr>\n",
       "    <tr>\n",
       "      <th>1</th>\n",
       "      <td>ALL</td>\n",
       "      <td>disconnected_street</td>\n",
       "      <td>21404</td>\n",
       "      <td>1511.074508</td>\n",
       "    </tr>\n",
       "    <tr>\n",
       "      <th>2</th>\n",
       "      <td>ALL</td>\n",
       "      <td>missing_street</td>\n",
       "      <td>3643</td>\n",
       "      <td>833.866030</td>\n",
       "    </tr>\n",
       "    <tr>\n",
       "      <th>0</th>\n",
       "      <td>AVE</td>\n",
       "      <td>complete_street</td>\n",
       "      <td>1484</td>\n",
       "      <td>111.130081</td>\n",
       "    </tr>\n",
       "    <tr>\n",
       "      <th>1</th>\n",
       "      <td>AVE</td>\n",
       "      <td>disconnected_street</td>\n",
       "      <td>10345</td>\n",
       "      <td>828.215079</td>\n",
       "    </tr>\n",
       "  </tbody>\n",
       "</table>\n",
       "</div>"
      ],
      "text/plain": [
       "  ord_street_type   street_status_desc  n_segments      n_miles\n",
       "0             ALL      complete_street        5462   420.950894\n",
       "1             ALL  disconnected_street       21404  1511.074508\n",
       "2             ALL       missing_street        3643   833.866030\n",
       "0             AVE      complete_street        1484   111.130081\n",
       "1             AVE  disconnected_street       10345   828.215079"
      ]
     },
     "execution_count": 134,
     "metadata": {},
     "output_type": "execute_result"
    }
   ],
   "source": [
    "ds_st_df.head()"
   ]
  },
  {
   "cell_type": "code",
   "execution_count": 150,
   "id": "c1e8d055",
   "metadata": {},
   "outputs": [],
   "source": [
    "ds_st_df['n_miles_log'] = np.log(ds_st_df['n_miles'])\n",
    "ds_st_df['street_status_desc'] = ds_st_df['street_status_desc'].str.replace('_', ' ')"
   ]
  },
  {
   "cell_type": "code",
   "execution_count": 156,
   "id": "af3ec83b",
   "metadata": {},
   "outputs": [
    {
     "name": "stdout",
     "output_type": "stream",
     "text": [
      "..\\graphics\\_all_streets_dist_count.png\n"
     ]
    },
    {
     "data": {
      "image/png": "[encoded data removed]",
      "text/plain": [
       "<Figure size 2000x500 with 1 Axes>"
      ]
     },
     "metadata": {},
     "output_type": "display_data"
    }
   ],
   "source": [
    "sns.set_theme(style = \"whitegrid\")\n",
    "f, ax = plt.subplots(figsize = (20, 5))\n",
    "ax.set_ylim(0, 1600)\n",
    "\n",
    "# these are the same green, black, and red colors used in qGIS. \n",
    "my_color_palette = {'complete street': '#33a02c',\n",
    "'disconnected street': '#000000',\n",
    "'missing street': '#ca0020'}\n",
    "\n",
    "my_plot = sns.barplot(data = ds_st_df, x = 'ord_street_type', y = 'n_miles',\n",
    "                      hue = 'street_status_desc', palette=my_color_palette)\n",
    "\n",
    "# set the top part of the plot frame - the spine - to black\n",
    "ax.spines['top'].set_edgecolor(color = 'black')\n",
    "\n",
    "y_ticks = list(range(0, 1601, 200))\n",
    "y_tick_labels_formatted = ['{:,}'.format(ytl) for ytl in y_ticks]   \n",
    "\n",
    "my_plot.set_yticks(ticks = y_ticks)\n",
    "my_plot.set_yticklabels(labels = y_tick_labels_formatted, rotation=0)\n",
    "\n",
    "my_title = \"Total miles by road types and road status\"\n",
    "\n",
    "plt.title(label = my_title, fontsize = 16)\n",
    "plt.xlabel(xlabel = 'Road type')\n",
    "plt.ylabel(ylabel = \"Miles\")\n",
    "\n",
    "plt.legend(title='Road status')\n",
    "\n",
    "output_file_name = '..\\\\graphics\\\\_all_streets_dist_count.png'\n",
    "output_file_name = os.path.normpath(output_file_name)\n",
    "print(output_file_name)\n",
    "my_plot.get_figure().savefig(fname = output_file_name)\n",
    "plt.show()"
   ]
  },
  {
   "cell_type": "code",
   "execution_count": 161,
   "id": "a2c5929c",
   "metadata": {},
   "outputs": [
    {
     "name": "stdout",
     "output_type": "stream",
     "text": [
      "..\\graphics\\_all_streets_segment_count.png\n"
     ]
    },
    {
     "data": {
      "image/png": "[encoded data removed]",
      "text/plain": [
       "<Figure size 2000x500 with 1 Axes>"
      ]
     },
     "metadata": {},
     "output_type": "display_data"
    }
   ],
   "source": [
    "sns.set_theme(style = \"whitegrid\")\n",
    "f, ax = plt.subplots(figsize = (20, 5))\n",
    "ax.set_ylim(0, 22000)\n",
    "\n",
    "# these are the same green, black, and red colors used in qGIS. \n",
    "my_color_palette = {'complete street': '#33a02c',\n",
    "'disconnected street': '#000000',\n",
    "'missing street': '#ca0020'}\n",
    "\n",
    "my_plot = sns.barplot(data = ds_st_df, x = 'ord_street_type', y = 'n_segments',\n",
    "                      hue = 'street_status_desc', palette=my_color_palette)\n",
    "\n",
    "# set the top part of the plot frame - the spine - to black\n",
    "ax.spines['top'].set_edgecolor(color = 'black')\n",
    "\n",
    "y_ticks = list(range(0, 22001, 2000))\n",
    "y_tick_labels_formatted = ['{:,}'.format(ytl) for ytl in y_ticks]   \n",
    "\n",
    "my_plot.set_yticks(ticks = y_ticks)\n",
    "my_plot.set_yticklabels(labels = y_tick_labels_formatted, rotation=0)\n",
    "\n",
    "my_title = \"Total segments by road types and road status\"\n",
    "\n",
    "plt.title(label = my_title, fontsize = 16)\n",
    "plt.xlabel(xlabel = 'Road type')\n",
    "plt.ylabel(ylabel = \"Number of segments\")\n",
    "\n",
    "plt.legend(title='Road status')\n",
    "\n",
    "output_file_name = '..\\\\graphics\\\\_all_streets_segment_count.png'\n",
    "output_file_name = os.path.normpath(output_file_name)\n",
    "print(output_file_name)\n",
    "my_plot.get_figure().savefig(fname = output_file_name)\n",
    "plt.show()"
   ]
  }
 ],
 "metadata": {
  "kernelspec": {
   "display_name": "analysis",
   "language": "python",
   "name": "python3"
  },
  "language_info": {
   "codemirror_mode": {
    "name": "ipython",
    "version": 3
   },
   "file_extension": ".py",
   "mimetype": "text/x-python",
   "name": "python",
   "nbconvert_exporter": "python",
   "pygments_lexer": "ipython3",
   "version": "3.12.7"
  }
 },
 "nbformat": 4,
 "nbformat_minor": 5
}
