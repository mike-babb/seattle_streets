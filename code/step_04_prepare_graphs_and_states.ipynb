{
 "cells": [
  {
   "cell_type": "code",
   "execution_count": 1,
   "id": "fed9e25b-c5b9-4aee-89cd-15a7da3945c0",
   "metadata": {},
   "outputs": [],
   "source": [
    "# mike babb\n",
    "# 2024 06 28\n",
    "# what streets start and stop?"
   ]
  },
  {
   "cell_type": "code",
   "execution_count": 2,
   "id": "e88ca8b2-b75d-4e72-8fc7-65c4cea61cde",
   "metadata": {},
   "outputs": [],
   "source": [
    "# standard\n",
    "import os"
   ]
  },
  {
   "cell_type": "code",
   "execution_count": 3,
   "id": "0778d9a5-0c62-4724-be28-c21598d23b6f",
   "metadata": {},
   "outputs": [],
   "source": [
    "# external\n",
    "from itertools import combinations, product\n",
    "import geopandas as gpd\n",
    "from matplotlib.patches import Rectangle\n",
    "import matplotlib.pyplot as plt\n",
    "import numpy as np\n",
    "import pandas as pd\n",
    "import seaborn as sns\n",
    "from shapely.geometry import LineString, Point\n",
    "from shapely import line_merge"
   ]
  },
  {
   "cell_type": "code",
   "execution_count": 4,
   "id": "2fc61400-c637-4828-820d-56c2cdd14942",
   "metadata": {},
   "outputs": [],
   "source": [
    "# custom\n",
    "from geodataio.geo_operations import points2distance, calculate_initial_compass_bearing\n",
    "from utils import *"
   ]
  },
  {
   "cell_type": "markdown",
   "id": "d56ea77e-ffd7-4326-b793-415f8a131ef2",
   "metadata": {},
   "source": [
    "# load the street network"
   ]
  },
  {
   "cell_type": "code",
   "execution_count": 5,
   "id": "d07cfb9b-9184-48d7-af77-035e2390d9e5",
   "metadata": {},
   "outputs": [],
   "source": [
    "# file path\n",
    "input_file_path = 'H:/project/seattle_streets/data/' "
   ]
  },
  {
   "cell_type": "code",
   "execution_count": 6,
   "id": "3c1039f5-a281-4460-b65d-98a6ca2556b7",
   "metadata": {},
   "outputs": [],
   "source": [
    "file_name = 'missing_segments.gpkg'"
   ]
  },
  {
   "cell_type": "code",
   "execution_count": 7,
   "id": "ddf62724-9105-44c9-b983-e4f520328fa9",
   "metadata": {},
   "outputs": [],
   "source": [
    "fpn = os.path.join(input_file_path, file_name)"
   ]
  },
  {
   "cell_type": "code",
   "execution_count": 8,
   "id": "2cbdb5c1-c973-4882-b442-cf5396e90d3e",
   "metadata": {},
   "outputs": [],
   "source": [
    "gdf = gpd.read_file(filename = fpn)"
   ]
  },
  {
   "cell_type": "code",
   "execution_count": 9,
   "id": "ce02bdf0-a0ca-46a5-bf8f-54b576ee2de7",
   "metadata": {},
   "outputs": [
    {
     "data": {
      "text/plain": [
       "Index(['f_intr_id', 't_intr_id', 'snd_id', 'snd_feacode', 'citycode',\n",
       "       'stname_id', 'st_code', 'arterial_code', 'segment_type', 'agency_code',\n",
       "       'access_code', 'divided_code', 'structure_type', 'legalloc_code',\n",
       "       'vehicle_use_code', 'gis_seg_length', 'l_adrs_from', 'l_adrs_to',\n",
       "       'r_adrs_from', 'r_adrs_to', 'ord_pre_dir', 'ord_street_name',\n",
       "       'ord_street_type', 'ord_suf_dir', 'ord_stname_concat', 'l_city',\n",
       "       'l_state', 'l_zip', 'r_city', 'r_state', 'r_zip', 'sndseg_update',\n",
       "       'compkey', 'comptype', 'unitid', 'unitid2', 'city_portion', 'geometry'],\n",
       "      dtype='object')"
      ]
     },
     "execution_count": 9,
     "metadata": {},
     "output_type": "execute_result"
    }
   ],
   "source": [
    "gdf.columns"
   ]
  },
  {
   "cell_type": "markdown",
   "id": "f18a47d3-1f2c-444b-ab15-a079f9c80557",
   "metadata": {},
   "source": [
    "# WHAT STREET NAME HAS THE MOST STREET TYPES"
   ]
  },
  {
   "cell_type": "code",
   "execution_count": 56,
   "id": "816f7b54-543e-4afa-aa2c-1d92197435fe",
   "metadata": {},
   "outputs": [],
   "source": [
    "# what street has the most number of types?\n",
    "col_names = ['ord_street_name', 'ord_stname_concat', 's]\n",
    "gdf_agg = gdf[col_names].drop_duplicates()"
   ]
  },
  {
   "cell_type": "code",
   "execution_count": 58,
   "id": "1798d64f-6d0c-44f3-9d8a-69bda0569586",
   "metadata": {},
   "outputs": [
    {
     "data": {
      "text/plain": [
       "array(['34TH AVE S', '34TH AVE', 'N 34TH ST', '34TH AVE NW',\n",
       "       '34TH AVE SW', '34TH PL SW', '34TH AVE E', '34TH AVE W',\n",
       "       '34TH AVE NE', '34TH CT S', '34TH PL S', '34TH CT W'], dtype=object)"
      ]
     },
     "execution_count": 58,
     "metadata": {},
     "output_type": "execute_result"
    }
   ],
   "source": [
    "gdf_agg.loc[gdf_agg['ord_street_name'] == '34TH', 'ord_stname_concat'].unique()"
   ]
  },
  {
   "cell_type": "code",
   "execution_count": 52,
   "id": "b30c8d9a-5711-4c9a-bea9-fe2e4ac06eee",
   "metadata": {},
   "outputs": [],
   "source": [
    "gdf_agg = gdf_agg.groupby(col_names[:-1]).agg(n_streets = ('ord_stname_concat', 'size')).reset_index()"
   ]
  },
  {
   "cell_type": "code",
   "execution_count": 53,
   "id": "1f099c24-f637-49dc-ac01-9294f77ad2de",
   "metadata": {},
   "outputs": [
    {
     "data": {
      "text/plain": [
       "count    1223.000000\n",
       "mean        2.041701\n",
       "std         2.030228\n",
       "min         1.000000\n",
       "25%         1.000000\n",
       "50%         1.000000\n",
       "75%         2.000000\n",
       "max        12.000000\n",
       "Name: n_streets, dtype: float64"
      ]
     },
     "execution_count": 53,
     "metadata": {},
     "output_type": "execute_result"
    }
   ],
   "source": [
    "gdf_agg['n_streets'].describe()"
   ]
  },
  {
   "cell_type": "code",
   "execution_count": 49,
   "id": "5c1a9cfb-2513-46d5-87a6-26f860ef7d61",
   "metadata": {},
   "outputs": [],
   "source": [
    "gdf_agg = gdf_agg.sort_values(by = ['n_streets'], ascending = False)"
   ]
  },
  {
   "cell_type": "code",
   "execution_count": 50,
   "id": "1f750f03-a373-4e6f-8edc-1f54ef5f591a",
   "metadata": {},
   "outputs": [
    {
     "data": {
      "text/html": [
       "<div>\n",
       "<style scoped>\n",
       "    .dataframe tbody tr th:only-of-type {\n",
       "        vertical-align: middle;\n",
       "    }\n",
       "\n",
       "    .dataframe tbody tr th {\n",
       "        vertical-align: top;\n",
       "    }\n",
       "\n",
       "    .dataframe thead th {\n",
       "        text-align: right;\n",
       "    }\n",
       "</style>\n",
       "<table border=\"1\" class=\"dataframe\">\n",
       "  <thead>\n",
       "    <tr style=\"text-align: right;\">\n",
       "      <th></th>\n",
       "      <th>ord_street_name</th>\n",
       "      <th>n_streets</th>\n",
       "    </tr>\n",
       "  </thead>\n",
       "  <tbody>\n",
       "    <tr>\n",
       "      <th>81</th>\n",
       "      <td>34TH</td>\n",
       "      <td>12</td>\n",
       "    </tr>\n",
       "    <tr>\n",
       "      <th>84</th>\n",
       "      <td>37TH</td>\n",
       "      <td>12</td>\n",
       "    </tr>\n",
       "    <tr>\n",
       "      <th>76</th>\n",
       "      <td>31ST</td>\n",
       "      <td>11</td>\n",
       "    </tr>\n",
       "    <tr>\n",
       "      <th>79</th>\n",
       "      <td>33RD</td>\n",
       "      <td>11</td>\n",
       "    </tr>\n",
       "    <tr>\n",
       "      <th>82</th>\n",
       "      <td>35TH</td>\n",
       "      <td>11</td>\n",
       "    </tr>\n",
       "  </tbody>\n",
       "</table>\n",
       "</div>"
      ],
      "text/plain": [
       "   ord_street_name  n_streets\n",
       "81            34TH         12\n",
       "84            37TH         12\n",
       "76            31ST         11\n",
       "79            33RD         11\n",
       "82            35TH         11"
      ]
     },
     "execution_count": 50,
     "metadata": {},
     "output_type": "execute_result"
    }
   ],
   "source": [
    "gdf_agg.head()"
   ]
  },
  {
   "cell_type": "code",
   "execution_count": null,
   "id": "320330be-17bf-425c-a7cb-e3434233cdbc",
   "metadata": {},
   "outputs": [],
   "source": [
    "ms_gdf.shape"
   ]
  },
  {
   "cell_type": "code",
   "execution_count": null,
   "id": "32eafaa6-40b6-40de-9b57-eb61eddad7f1",
   "metadata": {},
   "outputs": [],
   "source": [
    "ms_gdf.head()"
   ]
  },
  {
   "cell_type": "code",
   "execution_count": null,
   "id": "ea191607-106f-43fb-826f-b750b477b64e",
   "metadata": {},
   "outputs": [],
   "source": [
    "# group by and descibe\n",
    "wms_gdf = ms_gdf.loc[ms_gdf['same_snd_group'] == 0, :].copy()"
   ]
  },
  {
   "cell_type": "code",
   "execution_count": null,
   "id": "58bd641d-70bd-4f49-a726-f09336d626b9",
   "metadata": {},
   "outputs": [],
   "source": [
    "wms_gdf.groupby('ord_street_type')['dist_miles'].describe()"
   ]
  },
  {
   "cell_type": "code",
   "execution_count": null,
   "id": "9671b23d-d288-4533-a5da-4a62139d2ff7",
   "metadata": {},
   "outputs": [],
   "source": [
    "# COUNT UNIQUE STREET GROUPS"
   ]
  },
  {
   "cell_type": "code",
   "execution_count": null,
   "id": "5591e037-4828-427a-8113-aa6c4f46d9ff",
   "metadata": {},
   "outputs": [],
   "source": [
    "col_names = ['ord_stname_concat', 'ord_street_type', 'snd_group']\n",
    "gdf_agg = gdf[col_names].drop_duplicates().groupby(col_names[:-1]).agg( snd_group_count = ('snd_group', 'size')).reset_index()\n",
    "\n",
    "gdf_agg.shape\n",
    "\n",
    "gdf_agg.head()\n",
    "\n",
    "gdf_agg['snd_group_count'].describe()\n",
    "\n",
    "# number of streets with at least two segments\n",
    "split_streets = gdf_agg.loc[gdf_agg['snd_group_count'] > 1, :].shape[0]\n",
    "split_streets\n",
    "\n",
    "# percent\n",
    "split_streets / gdf_agg.shape[0]\n",
    "\n",
    "complete_streets = gdf_agg.loc[gdf_agg['snd_group_count'] == 1, :].shape[0]\n",
    "complete_streets\n",
    "\n",
    "# percent\n",
    "complete_streets / gdf_agg.shape[0]\n",
    "\n",
    "# 55 percent of streets are single segment\n",
    "# 45 percent of streets are multi-segments.\n",
    "# TODO: figure out how much of this is road miles."
   ]
  },
  {
   "cell_type": "code",
   "execution_count": null,
   "id": "284e5cd4-6755-46c8-ad06-feba78c0644d",
   "metadata": {},
   "outputs": [],
   "source": []
  },
  {
   "cell_type": "code",
   "execution_count": null,
   "id": "ffb764bb-3eb5-4ab3-b59d-826c722b46f2",
   "metadata": {},
   "outputs": [],
   "source": []
  },
  {
   "cell_type": "markdown",
   "id": "25c6222c-74b2-4613-a272-dff8a7bb3df6",
   "metadata": {},
   "source": [
    "# LET'S MAKE A GRAPHIC SHOWING THE DISTRIBUTION OF ADDED STREETS"
   ]
  },
  {
   "cell_type": "code",
   "execution_count": null,
   "id": "ec290a6e-8edc-4613-bffd-322a12ff1c18",
   "metadata": {},
   "outputs": [],
   "source": [
    "# find the longest\n",
    "ms_gdf['same_snd_group'].value_counts()"
   ]
  },
  {
   "cell_type": "code",
   "execution_count": null,
   "id": "c8d0f521-1c09-4119-895b-69e93c25fd44",
   "metadata": {},
   "outputs": [],
   "source": [
    "gdf['ord_stname_concat'].unique().shape"
   ]
  },
  {
   "cell_type": "code",
   "execution_count": null,
   "id": "3021683e-bf3f-4b8a-b2a7-ec25ea147185",
   "metadata": {},
   "outputs": [],
   "source": []
  },
  {
   "cell_type": "code",
   "execution_count": null,
   "id": "7462ab26-a171-447e-b137-92e467cff2f3",
   "metadata": {},
   "outputs": [],
   "source": []
  },
  {
   "cell_type": "code",
   "execution_count": null,
   "id": "bdc5e1ed-e413-4297-9455-eb9a818403ec",
   "metadata": {},
   "outputs": [],
   "source": []
  },
  {
   "cell_type": "code",
   "execution_count": null,
   "id": "857186be-8ab5-4d31-8e75-697b1eb6bc54",
   "metadata": {},
   "outputs": [],
   "source": []
  },
  {
   "cell_type": "markdown",
   "id": "39645fe5-d0ea-4848-a79a-19603648b951",
   "metadata": {},
   "source": [
    "# LONGEST MISSING STREETS"
   ]
  },
  {
   "cell_type": "code",
   "execution_count": null,
   "id": "08f13bc4-7ef7-42a4-8631-c74923c43b7b",
   "metadata": {},
   "outputs": [],
   "source": [
    "wms_gdf['dist_rank'] = wms_gdf['dist'].rank(method = 'dense', ascending = False)"
   ]
  },
  {
   "cell_type": "code",
   "execution_count": null,
   "id": "318bb352-980b-4633-9223-c96ee4cd0bfe",
   "metadata": {},
   "outputs": [],
   "source": [
    "wms_gdf.loc[wms_gdf['dist_rank'] <= 10, 'ord_stname_concat'].tolist()"
   ]
  },
  {
   "cell_type": "code",
   "execution_count": null,
   "id": "77d75dd2-492d-4dbe-ac73-7d0b2c67bc73",
   "metadata": {},
   "outputs": [],
   "source": [
    "wms_gdf['dist_miles_log'] = np.log10(wms_gdf['dist_miles'])"
   ]
  },
  {
   "cell_type": "code",
   "execution_count": null,
   "id": "2bdf45d3-a2b4-4fd3-a9a9-1f2f6464f58b",
   "metadata": {},
   "outputs": [],
   "source": [
    "wms_gdf['dist_miles_log'].describe()"
   ]
  },
  {
   "cell_type": "code",
   "execution_count": null,
   "id": "2a4c423a-57dd-4057-ba1e-93b320ffa9fc",
   "metadata": {},
   "outputs": [],
   "source": [
    "my_start_list = [100, 250, 500]\n",
    "\n",
    "for ii in range(1, 5):\n",
    "    my_calc = int((5280 * (ii / 4)))    \n",
    "    my_start_list.append(my_calc)    \n",
    "\n",
    "my_start_list\n",
    "\n",
    "for ii in range(1, 2):\n",
    "    for jj in range(0, 5):\n",
    "        my_calc = int((5280 * (ii / 1)) + (5280 * jj))        \n",
    "        my_start_list.append(my_calc)    \n",
    "\n",
    "x_tick_list = [x for x in my_start_list]"
   ]
  },
  {
   "cell_type": "code",
   "execution_count": null,
   "id": "8fd48c94-adea-4d5d-a155-c301f0110b33",
   "metadata": {},
   "outputs": [],
   "source": [
    "x_tick_list"
   ]
  },
  {
   "cell_type": "code",
   "execution_count": null,
   "id": "ae4c5536-b909-461f-ab60-742848295312",
   "metadata": {},
   "outputs": [],
   "source": [
    "# let's make a graphic showing the distances\n",
    "sns.set_theme(style = \"whitegrid\")\n",
    "f, ax = plt.subplots(figsize = (20, 5))\n",
    "\n",
    "my_plot = sns.histplot(data = wms_gdf, x = 'dist_miles_log',\n",
    "                      color='darkgreen', bins = 100)\n",
    "\n",
    "y_ticks = list(range(0, 176, 25))\n",
    "y_tick_labels_formatted = ['{:,}'.format(ytl) for ytl in y_ticks]   \n",
    "\n",
    "my_plot.set_yticks(ticks = y_ticks)\n",
    "my_plot.set_yticklabels(labels = y_tick_labels_formatted, rotation=0)\n",
    "\n",
    "plt.title(label = \"Histogram of missing segment length\")\n",
    "plt.xlabel(xlabel = 'Missing segment length')\n",
    "plt.ylabel(ylabel = \"Count\")\n",
    "\n",
    "x_tick_labels = [50 / 5280, 100 / 5280, 250 / 5280, 500 / 5280, .25, .5, .75, 1, 1.5, 2, 3]\n",
    "x_ticks = [np.log10(xtl) for xtl in x_tick_labels]\n",
    "\n",
    "x_tick_label_text = ['50 F', '100 F', '250 F',  '500 F', '1/4 M', '1/2 M', '3/4 M', '1 M', '1.5 M', '2 M', '3 M']\n",
    "#x_ticks = [-3, -2, -1, 0, .5]\n",
    "#x_tick_labels = [10**xt for xt in x_ticks]\n",
    "#x_tick_labels_formatted = ['{:,}'.format(10**xtl) for xtl in x_ticks]   \n",
    "\n",
    "my_plot.set_xticks(ticks = x_ticks)\n",
    "my_plot.set_xticklabels(labels = x_tick_label_text, rotation=0)\n",
    "\n",
    "output_file_name = '..\\\\assets\\\\dist_histogram.png'\n",
    "output_file_name = os.path.normpath(output_file_name)\n",
    "print(output_file_name)\n",
    "my_plot.get_figure().savefig(fname = output_file_name)"
   ]
  },
  {
   "cell_type": "code",
   "execution_count": null,
   "id": "27d58236-dcf2-46ff-9097-09b770a20774",
   "metadata": {},
   "outputs": [],
   "source": [
    "temp_wms_gdf = wms_gdf.loc[wms_gdf['ord_street_type'].isin(['AVE', 'ST']), :]"
   ]
  },
  {
   "cell_type": "code",
   "execution_count": null,
   "id": "42317919-45a1-4af6-b17f-cab9b61644f2",
   "metadata": {},
   "outputs": [],
   "source": [
    "# let's make a graphic showing the distances\n",
    "sns.set_theme(style = \"whitegrid\")\n",
    "f, ax = plt.subplots(figsize = (20, 5))\n",
    "\n",
    "my_plot = sns.kdeplot(data = temp_wms_gdf, x = 'dist_miles_log', fill = True,\n",
    "                      hue = 'ord_street_type')"
   ]
  },
  {
   "cell_type": "code",
   "execution_count": null,
   "id": "3f74497b-f37e-44a2-8cff-242394a0b18f",
   "metadata": {},
   "outputs": [],
   "source": [
    "file_name = '../testo.geojson'"
   ]
  },
  {
   "cell_type": "code",
   "execution_count": null,
   "id": "673134c3-4723-4f34-a619-708eeb6f952a",
   "metadata": {},
   "outputs": [],
   "source": [
    "tt = temp_wms_gdf.loc[temp_wms_gdf['ord_stname_concat'].str.find('GALER') > 0, :].copy()"
   ]
  },
  {
   "cell_type": "code",
   "execution_count": null,
   "id": "be7a9cdb-2b0b-4d0b-892a-679c9d8d05ea",
   "metadata": {},
   "outputs": [],
   "source": [
    "tt.to_file(filename = file_name, driver = 'geojson', index = False)"
   ]
  },
  {
   "cell_type": "code",
   "execution_count": null,
   "id": "2563b1e5-dc2d-4e4d-859a-c863943478a9",
   "metadata": {},
   "outputs": [],
   "source": []
  },
  {
   "cell_type": "code",
   "execution_count": null,
   "id": "a2215bc6-8ef3-45e1-bfb1-b14e66c7e18a",
   "metadata": {},
   "outputs": [],
   "source": [
    "y_ticks = list(range(0, 176, 25))\n",
    "y_tick_labels_formatted = ['{:,}'.format(ytl) for ytl in y_ticks]   \n",
    "\n",
    "my_plot.set_yticks(ticks = y_ticks)\n",
    "my_plot.set_yticklabels(labels = y_tick_labels_formatted, rotation=0)\n",
    "\n",
    "plt.title(label = \"Histogram of missing segment length\")\n",
    "plt.xlabel(xlabel = 'Missing segment length')\n",
    "plt.ylabel(ylabel = \"Count\")\n",
    "\n",
    "x_tick_labels = [50 / 5280, 100 / 5280, 250 / 5280, 500 / 5280, .25, .5, .75, 1, 1.5, 2, 3]\n",
    "x_ticks = [np.log10(xtl) for xtl in x_tick_labels]\n",
    "\n",
    "x_tick_label_text = ['50 F', '100 F', '250 F',  '500 F', '1/4 M', '1/2 M', '3/4 M', '1 M', '1.5 M', '2 M', '3 M']\n",
    "#x_ticks = [-3, -2, -1, 0, .5]\n",
    "#x_tick_labels = [10**xt for xt in x_ticks]\n",
    "#x_tick_labels_formatted = ['{:,}'.format(10**xtl) for xtl in x_ticks]   \n",
    "\n",
    "my_plot.set_xticks(ticks = x_ticks)\n",
    "my_plot.set_xticklabels(labels = x_tick_label_text, rotation=0)\n",
    "\n",
    "output_file_name = '..\\\\assets\\\\dist_histogram.png'\n",
    "output_file_name = os.path.normpath(output_file_name)\n",
    "print(output_file_name)\n",
    "my_plot.get_figure().savefig(fname = output_file_name)"
   ]
  },
  {
   "cell_type": "code",
   "execution_count": null,
   "id": "fd4941be-d4eb-4dc5-9a30-1fb85759a30b",
   "metadata": {},
   "outputs": [],
   "source": []
  },
  {
   "cell_type": "code",
   "execution_count": null,
   "id": "18879b53-2ddc-4aef-8ef6-b4c73ab55d13",
   "metadata": {},
   "outputs": [],
   "source": []
  },
  {
   "cell_type": "code",
   "execution_count": null,
   "id": "ed30df93-c9af-4b85-8e87-ed456eb18847",
   "metadata": {},
   "outputs": [],
   "source": []
  },
  {
   "cell_type": "code",
   "execution_count": null,
   "id": "3d093639-068f-4ff5-844b-605cfb10b1f9",
   "metadata": {},
   "outputs": [],
   "source": []
  }
 ],
 "metadata": {
  "kernelspec": {
   "display_name": "Python 3 (ipykernel)",
   "language": "python",
   "name": "python3"
  },
  "language_info": {
   "codemirror_mode": {
    "name": "ipython",
    "version": 3
   },
   "file_extension": ".py",
   "mimetype": "text/x-python",
   "name": "python",
   "nbconvert_exporter": "python",
   "pygments_lexer": "ipython3",
   "version": "3.12.7"
  }
 },
 "nbformat": 4,
 "nbformat_minor": 5
}
