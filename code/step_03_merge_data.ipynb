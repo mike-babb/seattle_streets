{
 "cells": [
  {
   "cell_type": "markdown",
   "id": "fed9e25b-c5b9-4aee-89cd-15a7da3945c0",
   "metadata": {},
   "source": [
    "# Part 03: Merge data and prep to find discontinuities\n",
    "michael babb  \n",
    "2025 09 22"
   ]
  },
  {
   "cell_type": "code",
   "execution_count": 63,
   "id": "e88ca8b2-b75d-4e72-8fc7-65c4cea61cde",
   "metadata": {},
   "outputs": [],
   "source": [
    "# standard\n",
    "import os"
   ]
  },
  {
   "cell_type": "code",
   "execution_count": 64,
   "id": "0778d9a5-0c62-4724-be28-c21598d23b6f",
   "metadata": {},
   "outputs": [],
   "source": [
    "# external\n",
    "import geopandas as gpd\n",
    "import numpy as np\n",
    "import pandas as pd\n",
    "from shapely.geometry import LineString, Point"
   ]
  },
  {
   "cell_type": "code",
   "execution_count": 65,
   "id": "2fc61400-c637-4828-820d-56c2cdd14942",
   "metadata": {},
   "outputs": [],
   "source": [
    "# custom\n",
    "import run_constants as rc\n",
    "from geo_data_io.df_operations import hey_what_is_na\n",
    "from geo_data_io.fc_df_spatial import write_gdf\n",
    "from utils import get_sort_order"
   ]
  },
  {
   "cell_type": "markdown",
   "id": "d56ea77e-ffd7-4326-b793-415f8a131ef2",
   "metadata": {},
   "source": [
    "# load the working seattle street network data"
   ]
  },
  {
   "cell_type": "code",
   "execution_count": 66,
   "id": "ddf62724-9105-44c9-b983-e4f520328fa9",
   "metadata": {},
   "outputs": [],
   "source": [
    "fpn = os.path.join(rc.OUTPUT_FILE_PATH, rc.S03_SND_WORKING_IN_FILE_NAME)"
   ]
  },
  {
   "cell_type": "code",
   "execution_count": 67,
   "id": "2cbdb5c1-c973-4882-b442-cf5396e90d3e",
   "metadata": {},
   "outputs": [],
   "source": [
    "gdf = gpd.read_file(filename = fpn)"
   ]
  },
  {
   "cell_type": "code",
   "execution_count": 68,
   "id": "390b341e",
   "metadata": {},
   "outputs": [
    {
     "data": {
      "text/plain": [
       "(25771, 39)"
      ]
     },
     "execution_count": 68,
     "metadata": {},
     "output_type": "execute_result"
    }
   ],
   "source": [
    "gdf.shape"
   ]
  },
  {
   "cell_type": "code",
   "execution_count": 69,
   "id": "328a720d",
   "metadata": {},
   "outputs": [
    {
     "data": {
      "text/plain": [
       "Index(['f_intr_id', 't_intr_id', 'snd_id', 'snd_feacode', 'citycode',\n",
       "       'stname_id', 'st_code', 'arterial_code', 'segment_type', 'agency_code',\n",
       "       'access_code', 'divided_code', 'structure_type', 'legalloc_code',\n",
       "       'vehicle_use_code', 'gis_seg_length', 'l_adrs_from', 'l_adrs_to',\n",
       "       'r_adrs_from', 'r_adrs_to', 'ord_pre_dir', 'ord_street_name',\n",
       "       'ord_street_type', 'ord_suf_dir', 'ord_stname_concat', 'l_city',\n",
       "       'l_state', 'l_zip', 'r_city', 'r_state', 'r_zip', 'sndseg_update',\n",
       "       'compkey', 'comptype', 'unitid', 'unitid2', 'city_sector',\n",
       "       'ord_stname_unique', 'geometry'],\n",
       "      dtype='object')"
      ]
     },
     "execution_count": 69,
     "metadata": {},
     "output_type": "execute_result"
    }
   ],
   "source": [
    "gdf.columns"
   ]
  },
  {
   "cell_type": "markdown",
   "id": "bdc6814a",
   "metadata": {},
   "source": [
    "# load the manually created street group data\n",
    "These data were created in Step 6, but we'll bring them into the Step 3 workflow."
   ]
  },
  {
   "cell_type": "code",
   "execution_count": 70,
   "id": "b490fe46",
   "metadata": {},
   "outputs": [],
   "source": [
    "fpn = os.path.join(rc.INPUT_FILE_PATH, rc.S03_STREET_GROUP_IN_FILE_NAME)"
   ]
  },
  {
   "cell_type": "code",
   "execution_count": 71,
   "id": "7fa5dd23",
   "metadata": {},
   "outputs": [],
   "source": [
    "index_cols = ['sort_order', 'ord_street_name', 'ord_street_type', 'city_sector']\n",
    "sg_df = pd.read_excel(io = fpn, index_col=[0, 1, 2, 3])\n",
    "sg_df = sg_df.reset_index()"
   ]
  },
  {
   "cell_type": "code",
   "execution_count": 72,
   "id": "af012cc9",
   "metadata": {},
   "outputs": [
    {
     "data": {
      "text/html": [
       "<div>\n",
       "<style scoped>\n",
       "    .dataframe tbody tr th:only-of-type {\n",
       "        vertical-align: middle;\n",
       "    }\n",
       "\n",
       "    .dataframe tbody tr th {\n",
       "        vertical-align: top;\n",
       "    }\n",
       "\n",
       "    .dataframe thead th {\n",
       "        text-align: right;\n",
       "    }\n",
       "</style>\n",
       "<table border=\"1\" class=\"dataframe\">\n",
       "  <thead>\n",
       "    <tr style=\"text-align: right;\">\n",
       "      <th></th>\n",
       "      <th>sort_order</th>\n",
       "      <th>ord_street_name</th>\n",
       "      <th>ord_street_type</th>\n",
       "      <th>city_sector</th>\n",
       "      <th>group_id</th>\n",
       "      <th>progress</th>\n",
       "      <th>count</th>\n",
       "    </tr>\n",
       "  </thead>\n",
       "  <tbody>\n",
       "    <tr>\n",
       "      <th>0</th>\n",
       "      <td>001</td>\n",
       "      <td>1ST</td>\n",
       "      <td>AVE</td>\n",
       "      <td>CNTR</td>\n",
       "      <td>2</td>\n",
       "      <td>0.000824</td>\n",
       "      <td>1</td>\n",
       "    </tr>\n",
       "    <tr>\n",
       "      <th>1</th>\n",
       "      <td>001</td>\n",
       "      <td>1ST</td>\n",
       "      <td>AVE</td>\n",
       "      <td>N</td>\n",
       "      <td>2</td>\n",
       "      <td>0.001647</td>\n",
       "      <td>2</td>\n",
       "    </tr>\n",
       "    <tr>\n",
       "      <th>2</th>\n",
       "      <td>001</td>\n",
       "      <td>1ST</td>\n",
       "      <td>AVE</td>\n",
       "      <td>NE</td>\n",
       "      <td>2</td>\n",
       "      <td>0.002471</td>\n",
       "      <td>3</td>\n",
       "    </tr>\n",
       "    <tr>\n",
       "      <th>3</th>\n",
       "      <td>001</td>\n",
       "      <td>1ST</td>\n",
       "      <td>AVE</td>\n",
       "      <td>NW</td>\n",
       "      <td>1</td>\n",
       "      <td>0.003295</td>\n",
       "      <td>4</td>\n",
       "    </tr>\n",
       "    <tr>\n",
       "      <th>4</th>\n",
       "      <td>001</td>\n",
       "      <td>1ST</td>\n",
       "      <td>AVE</td>\n",
       "      <td>S</td>\n",
       "      <td>2</td>\n",
       "      <td>0.004119</td>\n",
       "      <td>5</td>\n",
       "    </tr>\n",
       "  </tbody>\n",
       "</table>\n",
       "</div>"
      ],
      "text/plain": [
       "  sort_order ord_street_name ord_street_type city_sector  group_id  progress  \\\n",
       "0        001             1ST             AVE        CNTR         2  0.000824   \n",
       "1        001             1ST             AVE           N         2  0.001647   \n",
       "2        001             1ST             AVE          NE         2  0.002471   \n",
       "3        001             1ST             AVE          NW         1  0.003295   \n",
       "4        001             1ST             AVE           S         2  0.004119   \n",
       "\n",
       "   count  \n",
       "0      1  \n",
       "1      2  \n",
       "2      3  \n",
       "3      4  \n",
       "4      5  "
      ]
     },
     "execution_count": 72,
     "metadata": {},
     "output_type": "execute_result"
    }
   ],
   "source": [
    "sg_df.head()"
   ]
  },
  {
   "cell_type": "code",
   "execution_count": 73,
   "id": "23379a66",
   "metadata": {},
   "outputs": [],
   "source": [
    "drop_cols = ['sort_order', 'progress', 'count']\n",
    "sg_df = sg_df.drop(labels = drop_cols, axis = 1)"
   ]
  },
  {
   "cell_type": "code",
   "execution_count": 74,
   "id": "2dae69f0",
   "metadata": {},
   "outputs": [],
   "source": [
    "hey_what_is_na(sg_df)"
   ]
  },
  {
   "cell_type": "code",
   "execution_count": 75,
   "id": "ef5bf6ea",
   "metadata": {},
   "outputs": [
    {
     "data": {
      "text/html": [
       "<div>\n",
       "<style scoped>\n",
       "    .dataframe tbody tr th:only-of-type {\n",
       "        vertical-align: middle;\n",
       "    }\n",
       "\n",
       "    .dataframe tbody tr th {\n",
       "        vertical-align: top;\n",
       "    }\n",
       "\n",
       "    .dataframe thead th {\n",
       "        text-align: right;\n",
       "    }\n",
       "</style>\n",
       "<table border=\"1\" class=\"dataframe\">\n",
       "  <thead>\n",
       "    <tr style=\"text-align: right;\">\n",
       "      <th></th>\n",
       "      <th>ord_street_name</th>\n",
       "      <th>ord_street_type</th>\n",
       "      <th>city_sector</th>\n",
       "      <th>group_id</th>\n",
       "    </tr>\n",
       "  </thead>\n",
       "  <tbody>\n",
       "    <tr>\n",
       "      <th>452</th>\n",
       "      <td>55TH</td>\n",
       "      <td>PL</td>\n",
       "      <td>NE</td>\n",
       "      <td>1</td>\n",
       "    </tr>\n",
       "    <tr>\n",
       "      <th>453</th>\n",
       "      <td>55TH</td>\n",
       "      <td>PL</td>\n",
       "      <td>NW</td>\n",
       "      <td>2</td>\n",
       "    </tr>\n",
       "  </tbody>\n",
       "</table>\n",
       "</div>"
      ],
      "text/plain": [
       "    ord_street_name ord_street_type city_sector  group_id\n",
       "452            55TH              PL          NE         1\n",
       "453            55TH              PL          NW         2"
      ]
     },
     "execution_count": 75,
     "metadata": {},
     "output_type": "execute_result"
    }
   ],
   "source": [
    "sg_df.loc[\n",
    "        (sg_df['ord_street_name']=='55TH') &\n",
    "        (sg_df['ord_street_type'] == 'PL'), :]"
   ]
  },
  {
   "cell_type": "code",
   "execution_count": 76,
   "id": "69bff2d6",
   "metadata": {},
   "outputs": [
    {
     "data": {
      "text/html": [
       "<div>\n",
       "<style scoped>\n",
       "    .dataframe tbody tr th:only-of-type {\n",
       "        vertical-align: middle;\n",
       "    }\n",
       "\n",
       "    .dataframe tbody tr th {\n",
       "        vertical-align: top;\n",
       "    }\n",
       "\n",
       "    .dataframe thead th {\n",
       "        text-align: right;\n",
       "    }\n",
       "</style>\n",
       "<table border=\"1\" class=\"dataframe\">\n",
       "  <thead>\n",
       "    <tr style=\"text-align: right;\">\n",
       "      <th></th>\n",
       "      <th>ord_street_name</th>\n",
       "      <th>ord_street_type</th>\n",
       "      <th>city_sector</th>\n",
       "      <th>group_id</th>\n",
       "    </tr>\n",
       "  </thead>\n",
       "  <tbody>\n",
       "    <tr>\n",
       "      <th>0</th>\n",
       "      <td>1ST</td>\n",
       "      <td>AVE</td>\n",
       "      <td>CNTR</td>\n",
       "      <td>2</td>\n",
       "    </tr>\n",
       "    <tr>\n",
       "      <th>1</th>\n",
       "      <td>1ST</td>\n",
       "      <td>AVE</td>\n",
       "      <td>N</td>\n",
       "      <td>2</td>\n",
       "    </tr>\n",
       "    <tr>\n",
       "      <th>2</th>\n",
       "      <td>1ST</td>\n",
       "      <td>AVE</td>\n",
       "      <td>NE</td>\n",
       "      <td>2</td>\n",
       "    </tr>\n",
       "    <tr>\n",
       "      <th>3</th>\n",
       "      <td>1ST</td>\n",
       "      <td>AVE</td>\n",
       "      <td>NW</td>\n",
       "      <td>1</td>\n",
       "    </tr>\n",
       "    <tr>\n",
       "      <th>4</th>\n",
       "      <td>1ST</td>\n",
       "      <td>AVE</td>\n",
       "      <td>S</td>\n",
       "      <td>2</td>\n",
       "    </tr>\n",
       "  </tbody>\n",
       "</table>\n",
       "</div>"
      ],
      "text/plain": [
       "  ord_street_name ord_street_type city_sector  group_id\n",
       "0             1ST             AVE        CNTR         2\n",
       "1             1ST             AVE           N         2\n",
       "2             1ST             AVE          NE         2\n",
       "3             1ST             AVE          NW         1\n",
       "4             1ST             AVE           S         2"
      ]
     },
     "execution_count": 76,
     "metadata": {},
     "output_type": "execute_result"
    }
   ],
   "source": [
    "sg_df.head()"
   ]
  },
  {
   "cell_type": "code",
   "execution_count": 77,
   "id": "854d1ddd",
   "metadata": {},
   "outputs": [],
   "source": [
    "gdf = pd.merge(left = gdf, right = sg_df, how = 'left', indicator=True)\n",
    "gdf['group_id'] = gdf['group_id'].fillna(1).astype(int)"
   ]
  },
  {
   "cell_type": "code",
   "execution_count": 78,
   "id": "aa672330",
   "metadata": {},
   "outputs": [
    {
     "data": {
      "text/plain": [
       "(25771, 41)"
      ]
     },
     "execution_count": 78,
     "metadata": {},
     "output_type": "execute_result"
    }
   ],
   "source": [
    "gdf.shape"
   ]
  },
  {
   "cell_type": "code",
   "execution_count": 79,
   "id": "697a81f7",
   "metadata": {},
   "outputs": [
    {
     "data": {
      "text/plain": [
       "_merge\n",
       "both          19031\n",
       "left_only      6740\n",
       "right_only        0\n",
       "Name: count, dtype: int64"
      ]
     },
     "execution_count": 79,
     "metadata": {},
     "output_type": "execute_result"
    }
   ],
   "source": [
    "gdf['_merge'].value_counts()"
   ]
  },
  {
   "cell_type": "code",
   "execution_count": 80,
   "id": "a573eb6e",
   "metadata": {},
   "outputs": [
    {
     "data": {
      "text/plain": [
       "Index(['f_intr_id', 't_intr_id', 'snd_id', 'snd_feacode', 'citycode',\n",
       "       'stname_id', 'st_code', 'arterial_code', 'segment_type', 'agency_code',\n",
       "       'access_code', 'divided_code', 'structure_type', 'legalloc_code',\n",
       "       'vehicle_use_code', 'gis_seg_length', 'l_adrs_from', 'l_adrs_to',\n",
       "       'r_adrs_from', 'r_adrs_to', 'ord_pre_dir', 'ord_street_name',\n",
       "       'ord_street_type', 'ord_suf_dir', 'ord_stname_concat', 'l_city',\n",
       "       'l_state', 'l_zip', 'r_city', 'r_state', 'r_zip', 'sndseg_update',\n",
       "       'compkey', 'comptype', 'unitid', 'unitid2', 'city_sector',\n",
       "       'ord_stname_unique', 'geometry', 'group_id', '_merge'],\n",
       "      dtype='object')"
      ]
     },
     "execution_count": 80,
     "metadata": {},
     "output_type": "execute_result"
    }
   ],
   "source": [
    "gdf.columns"
   ]
  },
  {
   "cell_type": "code",
   "execution_count": 81,
   "id": "9676a1fb",
   "metadata": {},
   "outputs": [
    {
     "name": "stdout",
     "output_type": "stream",
     "text": [
      "unitid\n",
      "False    25715\n",
      "True        56\n",
      "Name: count, dtype: int64\n",
      "unitid2\n",
      "False    25715\n",
      "True        56\n",
      "Name: count, dtype: int64\n"
     ]
    }
   ],
   "source": [
    "hey_what_is_na(gdf)"
   ]
  },
  {
   "cell_type": "markdown",
   "id": "97386816",
   "metadata": {},
   "source": [
    "# Manually update groups of streets\n",
    "In Northeast Seattle, there is a 55TH PL NE and NE 55TH PL.  \n",
    "These are different streets, and not one street with a discontinuity.  \n",
    "NE 55TH PL runs parallel to NE 55TH ST.  \n",
    "55TH PL NE is curved, beginning at the northern end of 55TH AVE NE."
   ]
  },
  {
   "cell_type": "code",
   "execution_count": 82,
   "id": "5e97ac03",
   "metadata": {},
   "outputs": [],
   "source": [
    "tgdf = gdf.loc[\n",
    "        (gdf['ord_street_name']=='55TH') &\n",
    "        (gdf['ord_street_type'] == 'PL'), :]"
   ]
  },
  {
   "cell_type": "code",
   "execution_count": 83,
   "id": "4d6a7bb2",
   "metadata": {},
   "outputs": [
    {
     "data": {
      "text/html": [
       "<div>\n",
       "<style scoped>\n",
       "    .dataframe tbody tr th:only-of-type {\n",
       "        vertical-align: middle;\n",
       "    }\n",
       "\n",
       "    .dataframe tbody tr th {\n",
       "        vertical-align: top;\n",
       "    }\n",
       "\n",
       "    .dataframe thead th {\n",
       "        text-align: right;\n",
       "    }\n",
       "</style>\n",
       "<table border=\"1\" class=\"dataframe\">\n",
       "  <thead>\n",
       "    <tr style=\"text-align: right;\">\n",
       "      <th></th>\n",
       "      <th>f_intr_id</th>\n",
       "      <th>t_intr_id</th>\n",
       "      <th>snd_id</th>\n",
       "      <th>snd_feacode</th>\n",
       "      <th>citycode</th>\n",
       "      <th>stname_id</th>\n",
       "      <th>st_code</th>\n",
       "      <th>arterial_code</th>\n",
       "      <th>segment_type</th>\n",
       "      <th>agency_code</th>\n",
       "      <th>...</th>\n",
       "      <th>sndseg_update</th>\n",
       "      <th>compkey</th>\n",
       "      <th>comptype</th>\n",
       "      <th>unitid</th>\n",
       "      <th>unitid2</th>\n",
       "      <th>city_sector</th>\n",
       "      <th>ord_stname_unique</th>\n",
       "      <th>geometry</th>\n",
       "      <th>group_id</th>\n",
       "      <th>_merge</th>\n",
       "    </tr>\n",
       "  </thead>\n",
       "  <tbody>\n",
       "    <tr>\n",
       "      <th>3414</th>\n",
       "      <td>5551</td>\n",
       "      <td>5553</td>\n",
       "      <td>7609</td>\n",
       "      <td>1</td>\n",
       "      <td>1</td>\n",
       "      <td>456</td>\n",
       "      <td>0</td>\n",
       "      <td>0</td>\n",
       "      <td>1</td>\n",
       "      <td>1</td>\n",
       "      <td>...</td>\n",
       "      <td>2007-04-22 00:00:00+00:00</td>\n",
       "      <td>7734</td>\n",
       "      <td>68</td>\n",
       "      <td>04225</td>\n",
       "      <td>0750</td>\n",
       "      <td>NE</td>\n",
       "      <td>55TH PL NE</td>\n",
       "      <td>LINESTRING (-122.26899 47.68334, -122.26899 47...</td>\n",
       "      <td>1</td>\n",
       "      <td>both</td>\n",
       "    </tr>\n",
       "    <tr>\n",
       "      <th>5390</th>\n",
       "      <td>6828</td>\n",
       "      <td>6913</td>\n",
       "      <td>9865</td>\n",
       "      <td>5</td>\n",
       "      <td>1</td>\n",
       "      <td>3461</td>\n",
       "      <td>0</td>\n",
       "      <td>1</td>\n",
       "      <td>1</td>\n",
       "      <td>1</td>\n",
       "      <td>...</td>\n",
       "      <td>2005-05-04 00:00:00+00:00</td>\n",
       "      <td>18443</td>\n",
       "      <td>68</td>\n",
       "      <td>14545</td>\n",
       "      <td>0550</td>\n",
       "      <td>NW</td>\n",
       "      <td>NW 55TH PL</td>\n",
       "      <td>LINESTRING (-122.36082 47.66943, -122.36091 47...</td>\n",
       "      <td>2</td>\n",
       "      <td>both</td>\n",
       "    </tr>\n",
       "    <tr>\n",
       "      <th>8152</th>\n",
       "      <td>6959</td>\n",
       "      <td>6960</td>\n",
       "      <td>13081</td>\n",
       "      <td>1</td>\n",
       "      <td>1</td>\n",
       "      <td>1864</td>\n",
       "      <td>0</td>\n",
       "      <td>0</td>\n",
       "      <td>1</td>\n",
       "      <td>1</td>\n",
       "      <td>...</td>\n",
       "      <td>2005-05-04 00:00:00+00:00</td>\n",
       "      <td>17020</td>\n",
       "      <td>68</td>\n",
       "      <td>13370</td>\n",
       "      <td>0170</td>\n",
       "      <td>NE</td>\n",
       "      <td>NE 55TH PL</td>\n",
       "      <td>LINESTRING (-122.30887 47.66894, -122.30709 47...</td>\n",
       "      <td>1</td>\n",
       "      <td>both</td>\n",
       "    </tr>\n",
       "  </tbody>\n",
       "</table>\n",
       "<p>3 rows × 41 columns</p>\n",
       "</div>"
      ],
      "text/plain": [
       "      f_intr_id  t_intr_id  snd_id  snd_feacode  citycode  stname_id  st_code  \\\n",
       "3414       5551       5553    7609            1         1        456        0   \n",
       "5390       6828       6913    9865            5         1       3461        0   \n",
       "8152       6959       6960   13081            1         1       1864        0   \n",
       "\n",
       "      arterial_code  segment_type  agency_code  ...             sndseg_update  \\\n",
       "3414              0             1            1  ... 2007-04-22 00:00:00+00:00   \n",
       "5390              1             1            1  ... 2005-05-04 00:00:00+00:00   \n",
       "8152              0             1            1  ... 2005-05-04 00:00:00+00:00   \n",
       "\n",
       "      compkey  comptype  unitid  unitid2  city_sector  ord_stname_unique  \\\n",
       "3414     7734        68   04225     0750           NE         55TH PL NE   \n",
       "5390    18443        68   14545     0550           NW         NW 55TH PL   \n",
       "8152    17020        68   13370     0170           NE         NE 55TH PL   \n",
       "\n",
       "                                               geometry  group_id  _merge  \n",
       "3414  LINESTRING (-122.26899 47.68334, -122.26899 47...         1    both  \n",
       "5390  LINESTRING (-122.36082 47.66943, -122.36091 47...         2    both  \n",
       "8152  LINESTRING (-122.30887 47.66894, -122.30709 47...         1    both  \n",
       "\n",
       "[3 rows x 41 columns]"
      ]
     },
     "execution_count": 83,
     "metadata": {},
     "output_type": "execute_result"
    }
   ],
   "source": [
    "tgdf.head()"
   ]
  },
  {
   "cell_type": "code",
   "execution_count": 84,
   "id": "68b67ef3",
   "metadata": {},
   "outputs": [],
   "source": [
    "# manually assign to a different group\n",
    "gdf.loc[gdf['ord_stname_concat'] == 'NE 55TH PL', 'group_id'] = 3"
   ]
  },
  {
   "cell_type": "code",
   "execution_count": 85,
   "id": "d9fe23c0",
   "metadata": {},
   "outputs": [
    {
     "name": "stdout",
     "output_type": "stream",
     "text": [
      "unitid\n",
      "False    25715\n",
      "True        56\n",
      "Name: count, dtype: int64\n",
      "unitid2\n",
      "False    25715\n",
      "True        56\n",
      "Name: count, dtype: int64\n"
     ]
    }
   ],
   "source": [
    "# check for NA\n",
    "hey_what_is_na(gdf)"
   ]
  },
  {
   "cell_type": "code",
   "execution_count": 86,
   "id": "221731ef",
   "metadata": {},
   "outputs": [],
   "source": [
    "# that's okay"
   ]
  },
  {
   "cell_type": "code",
   "execution_count": 87,
   "id": "6e257cad",
   "metadata": {},
   "outputs": [],
   "source": [
    "# drop the _merge\n",
    "gdf = gdf.drop(labels = [\"_merge\"], axis = 1)"
   ]
  },
  {
   "cell_type": "markdown",
   "id": "231b9ac7",
   "metadata": {},
   "source": [
    "# create an id across street groups"
   ]
  },
  {
   "cell_type": "code",
   "execution_count": 88,
   "id": "bcf3a65a",
   "metadata": {},
   "outputs": [],
   "source": [
    "col_names = ['ord_street_name', 'ord_street_type',  'ord_stname_concat', 'ord_stname_unique', 'city_sector', 'group_id']\n",
    "id_df = gdf[col_names].drop_duplicates().reset_index(drop=True)"
   ]
  },
  {
   "cell_type": "code",
   "execution_count": 89,
   "id": "fd8779df",
   "metadata": {},
   "outputs": [],
   "source": [
    "id_df['ord_stname_type'] = id_df['ord_street_name'] + ' ' + id_df['ord_street_type']"
   ]
  },
  {
   "cell_type": "code",
   "execution_count": 90,
   "id": "b4c0f7de",
   "metadata": {},
   "outputs": [],
   "source": [
    "id_df['sort_order'] = id_df['ord_street_name'].map(get_sort_order)"
   ]
  },
  {
   "cell_type": "code",
   "execution_count": 91,
   "id": "e716ecdf",
   "metadata": {},
   "outputs": [],
   "source": [
    "id_df = id_df.sort_values(by = ['sort_order', 'ord_street_type', 'city_sector']).reset_index(drop = True)"
   ]
  },
  {
   "cell_type": "code",
   "execution_count": 92,
   "id": "4f473862",
   "metadata": {},
   "outputs": [
    {
     "data": {
      "text/html": [
       "<div>\n",
       "<style scoped>\n",
       "    .dataframe tbody tr th:only-of-type {\n",
       "        vertical-align: middle;\n",
       "    }\n",
       "\n",
       "    .dataframe tbody tr th {\n",
       "        vertical-align: top;\n",
       "    }\n",
       "\n",
       "    .dataframe thead th {\n",
       "        text-align: right;\n",
       "    }\n",
       "</style>\n",
       "<table border=\"1\" class=\"dataframe\">\n",
       "  <thead>\n",
       "    <tr style=\"text-align: right;\">\n",
       "      <th></th>\n",
       "      <th>ord_street_name</th>\n",
       "      <th>ord_street_type</th>\n",
       "      <th>ord_stname_concat</th>\n",
       "      <th>ord_stname_unique</th>\n",
       "      <th>city_sector</th>\n",
       "      <th>group_id</th>\n",
       "      <th>ord_stname_type</th>\n",
       "      <th>sort_order</th>\n",
       "    </tr>\n",
       "  </thead>\n",
       "  <tbody>\n",
       "    <tr>\n",
       "      <th>0</th>\n",
       "      <td>1ST</td>\n",
       "      <td>AVE</td>\n",
       "      <td>1ST AVE</td>\n",
       "      <td>1ST AVE CNTR</td>\n",
       "      <td>CNTR</td>\n",
       "      <td>2</td>\n",
       "      <td>1ST AVE</td>\n",
       "      <td>001</td>\n",
       "    </tr>\n",
       "    <tr>\n",
       "      <th>1</th>\n",
       "      <td>1ST</td>\n",
       "      <td>AVE</td>\n",
       "      <td>1ST AVE N</td>\n",
       "      <td>1ST AVE N</td>\n",
       "      <td>N</td>\n",
       "      <td>2</td>\n",
       "      <td>1ST AVE</td>\n",
       "      <td>001</td>\n",
       "    </tr>\n",
       "    <tr>\n",
       "      <th>2</th>\n",
       "      <td>1ST</td>\n",
       "      <td>AVE</td>\n",
       "      <td>1ST AVE NE</td>\n",
       "      <td>1ST AVE NE</td>\n",
       "      <td>NE</td>\n",
       "      <td>2</td>\n",
       "      <td>1ST AVE</td>\n",
       "      <td>001</td>\n",
       "    </tr>\n",
       "    <tr>\n",
       "      <th>3</th>\n",
       "      <td>1ST</td>\n",
       "      <td>AVE</td>\n",
       "      <td>1ST AVE NW</td>\n",
       "      <td>1ST AVE NW</td>\n",
       "      <td>NW</td>\n",
       "      <td>1</td>\n",
       "      <td>1ST AVE</td>\n",
       "      <td>001</td>\n",
       "    </tr>\n",
       "    <tr>\n",
       "      <th>4</th>\n",
       "      <td>1ST</td>\n",
       "      <td>AVE</td>\n",
       "      <td>1ST AVE S</td>\n",
       "      <td>1ST AVE S</td>\n",
       "      <td>S</td>\n",
       "      <td>2</td>\n",
       "      <td>1ST AVE</td>\n",
       "      <td>001</td>\n",
       "    </tr>\n",
       "  </tbody>\n",
       "</table>\n",
       "</div>"
      ],
      "text/plain": [
       "  ord_street_name ord_street_type ord_stname_concat ord_stname_unique  \\\n",
       "0             1ST             AVE           1ST AVE      1ST AVE CNTR   \n",
       "1             1ST             AVE         1ST AVE N         1ST AVE N   \n",
       "2             1ST             AVE        1ST AVE NE        1ST AVE NE   \n",
       "3             1ST             AVE        1ST AVE NW        1ST AVE NW   \n",
       "4             1ST             AVE         1ST AVE S         1ST AVE S   \n",
       "\n",
       "  city_sector  group_id ord_stname_type sort_order  \n",
       "0        CNTR         2         1ST AVE        001  \n",
       "1           N         2         1ST AVE        001  \n",
       "2          NE         2         1ST AVE        001  \n",
       "3          NW         1         1ST AVE        001  \n",
       "4           S         2         1ST AVE        001  "
      ]
     },
     "execution_count": 92,
     "metadata": {},
     "output_type": "execute_result"
    }
   ],
   "source": [
    "id_df.head()"
   ]
  },
  {
   "cell_type": "code",
   "execution_count": 93,
   "id": "50fa2541",
   "metadata": {},
   "outputs": [],
   "source": [
    "hey_what_is_na(id_df)"
   ]
  },
  {
   "cell_type": "code",
   "execution_count": 94,
   "id": "89a7075c",
   "metadata": {},
   "outputs": [
    {
     "data": {
      "text/plain": [
       "(2457, 8)"
      ]
     },
     "execution_count": 94,
     "metadata": {},
     "output_type": "execute_result"
    }
   ],
   "source": [
    "id_df.shape"
   ]
  },
  {
   "cell_type": "code",
   "execution_count": 95,
   "id": "c5e74228",
   "metadata": {},
   "outputs": [
    {
     "data": {
      "text/html": [
       "<div>\n",
       "<style scoped>\n",
       "    .dataframe tbody tr th:only-of-type {\n",
       "        vertical-align: middle;\n",
       "    }\n",
       "\n",
       "    .dataframe tbody tr th {\n",
       "        vertical-align: top;\n",
       "    }\n",
       "\n",
       "    .dataframe thead th {\n",
       "        text-align: right;\n",
       "    }\n",
       "</style>\n",
       "<table border=\"1\" class=\"dataframe\">\n",
       "  <thead>\n",
       "    <tr style=\"text-align: right;\">\n",
       "      <th></th>\n",
       "      <th>ord_street_name</th>\n",
       "      <th>ord_street_type</th>\n",
       "      <th>ord_stname_concat</th>\n",
       "      <th>ord_stname_unique</th>\n",
       "      <th>city_sector</th>\n",
       "      <th>group_id</th>\n",
       "      <th>ord_stname_type</th>\n",
       "      <th>sort_order</th>\n",
       "    </tr>\n",
       "  </thead>\n",
       "  <tbody>\n",
       "    <tr>\n",
       "      <th>500</th>\n",
       "      <td>55TH</td>\n",
       "      <td>PL</td>\n",
       "      <td>55TH PL NE</td>\n",
       "      <td>55TH PL NE</td>\n",
       "      <td>NE</td>\n",
       "      <td>1</td>\n",
       "      <td>55TH PL</td>\n",
       "      <td>055</td>\n",
       "    </tr>\n",
       "    <tr>\n",
       "      <th>501</th>\n",
       "      <td>55TH</td>\n",
       "      <td>PL</td>\n",
       "      <td>NE 55TH PL</td>\n",
       "      <td>NE 55TH PL</td>\n",
       "      <td>NE</td>\n",
       "      <td>3</td>\n",
       "      <td>55TH PL</td>\n",
       "      <td>055</td>\n",
       "    </tr>\n",
       "    <tr>\n",
       "      <th>502</th>\n",
       "      <td>55TH</td>\n",
       "      <td>PL</td>\n",
       "      <td>NW 55TH PL</td>\n",
       "      <td>NW 55TH PL</td>\n",
       "      <td>NW</td>\n",
       "      <td>2</td>\n",
       "      <td>55TH PL</td>\n",
       "      <td>055</td>\n",
       "    </tr>\n",
       "  </tbody>\n",
       "</table>\n",
       "</div>"
      ],
      "text/plain": [
       "    ord_street_name ord_street_type ord_stname_concat ord_stname_unique  \\\n",
       "500            55TH              PL        55TH PL NE        55TH PL NE   \n",
       "501            55TH              PL        NE 55TH PL        NE 55TH PL   \n",
       "502            55TH              PL        NW 55TH PL        NW 55TH PL   \n",
       "\n",
       "    city_sector  group_id ord_stname_type sort_order  \n",
       "500          NE         1         55TH PL        055  \n",
       "501          NE         3         55TH PL        055  \n",
       "502          NW         2         55TH PL        055  "
      ]
     },
     "execution_count": 95,
     "metadata": {},
     "output_type": "execute_result"
    }
   ],
   "source": [
    "# check 55TH PL NE and NE 55TH PL\n",
    "id_df.loc[\n",
    "        (id_df['ord_street_name']=='55TH') &\n",
    "        (id_df['ord_street_type'] == 'PL'), :]"
   ]
  },
  {
   "cell_type": "markdown",
   "id": "0d907eed",
   "metadata": {},
   "source": [
    "# Aggregate by groups"
   ]
  },
  {
   "cell_type": "code",
   "execution_count": 96,
   "id": "d5ff5023",
   "metadata": {},
   "outputs": [],
   "source": [
    "col_names = ['sort_order', 'ord_street_name', 'ord_street_type', 'ord_stname_type', 'group_id', 'city_sector']\n",
    "agg_id_df = id_df[col_names].groupby(col_names[:-1]).agg(\n",
    "    city_sector_group = ('city_sector', lambda x: '_'.join(sorted(set(x)))),\n",
    "    n_groups = ('city_sector', lambda x: len(set(x)))).reset_index()"
   ]
  },
  {
   "cell_type": "code",
   "execution_count": 97,
   "id": "1911c5a6",
   "metadata": {},
   "outputs": [],
   "source": [
    "hey_what_is_na(agg_id_df)"
   ]
  },
  {
   "cell_type": "code",
   "execution_count": 98,
   "id": "f9f6f834",
   "metadata": {},
   "outputs": [
    {
     "data": {
      "text/html": [
       "<div>\n",
       "<style scoped>\n",
       "    .dataframe tbody tr th:only-of-type {\n",
       "        vertical-align: middle;\n",
       "    }\n",
       "\n",
       "    .dataframe tbody tr th {\n",
       "        vertical-align: top;\n",
       "    }\n",
       "\n",
       "    .dataframe thead th {\n",
       "        text-align: right;\n",
       "    }\n",
       "</style>\n",
       "<table border=\"1\" class=\"dataframe\">\n",
       "  <thead>\n",
       "    <tr style=\"text-align: right;\">\n",
       "      <th></th>\n",
       "      <th>sort_order</th>\n",
       "      <th>ord_street_name</th>\n",
       "      <th>ord_street_type</th>\n",
       "      <th>ord_stname_type</th>\n",
       "      <th>group_id</th>\n",
       "      <th>city_sector_group</th>\n",
       "      <th>n_groups</th>\n",
       "    </tr>\n",
       "  </thead>\n",
       "  <tbody>\n",
       "    <tr>\n",
       "      <th>0</th>\n",
       "      <td>001</td>\n",
       "      <td>1ST</td>\n",
       "      <td>AVE</td>\n",
       "      <td>1ST AVE</td>\n",
       "      <td>1</td>\n",
       "      <td>NW_SW_W</td>\n",
       "      <td>3</td>\n",
       "    </tr>\n",
       "    <tr>\n",
       "      <th>1</th>\n",
       "      <td>001</td>\n",
       "      <td>1ST</td>\n",
       "      <td>AVE</td>\n",
       "      <td>1ST AVE</td>\n",
       "      <td>2</td>\n",
       "      <td>CNTR_N_NE_S</td>\n",
       "      <td>4</td>\n",
       "    </tr>\n",
       "    <tr>\n",
       "      <th>2</th>\n",
       "      <td>001</td>\n",
       "      <td>1ST</td>\n",
       "      <td>PL</td>\n",
       "      <td>1ST PL</td>\n",
       "      <td>1</td>\n",
       "      <td>NE</td>\n",
       "      <td>1</td>\n",
       "    </tr>\n",
       "    <tr>\n",
       "      <th>3</th>\n",
       "      <td>002</td>\n",
       "      <td>2ND</td>\n",
       "      <td>AVE</td>\n",
       "      <td>2ND AVE</td>\n",
       "      <td>1</td>\n",
       "      <td>NW_SW_W</td>\n",
       "      <td>3</td>\n",
       "    </tr>\n",
       "    <tr>\n",
       "      <th>4</th>\n",
       "      <td>002</td>\n",
       "      <td>2ND</td>\n",
       "      <td>AVE</td>\n",
       "      <td>2ND AVE</td>\n",
       "      <td>2</td>\n",
       "      <td>CNTR_N_NE_S</td>\n",
       "      <td>4</td>\n",
       "    </tr>\n",
       "  </tbody>\n",
       "</table>\n",
       "</div>"
      ],
      "text/plain": [
       "  sort_order ord_street_name ord_street_type ord_stname_type  group_id  \\\n",
       "0        001             1ST             AVE         1ST AVE         1   \n",
       "1        001             1ST             AVE         1ST AVE         2   \n",
       "2        001             1ST              PL          1ST PL         1   \n",
       "3        002             2ND             AVE         2ND AVE         1   \n",
       "4        002             2ND             AVE         2ND AVE         2   \n",
       "\n",
       "  city_sector_group  n_groups  \n",
       "0           NW_SW_W         3  \n",
       "1       CNTR_N_NE_S         4  \n",
       "2                NE         1  \n",
       "3           NW_SW_W         3  \n",
       "4       CNTR_N_NE_S         4  "
      ]
     },
     "execution_count": 98,
     "metadata": {},
     "output_type": "execute_result"
    }
   ],
   "source": [
    "agg_id_df.head()"
   ]
  },
  {
   "cell_type": "code",
   "execution_count": 99,
   "id": "40ab209f",
   "metadata": {},
   "outputs": [
    {
     "data": {
      "text/html": [
       "<div>\n",
       "<style scoped>\n",
       "    .dataframe tbody tr th:only-of-type {\n",
       "        vertical-align: middle;\n",
       "    }\n",
       "\n",
       "    .dataframe tbody tr th {\n",
       "        vertical-align: top;\n",
       "    }\n",
       "\n",
       "    .dataframe thead th {\n",
       "        text-align: right;\n",
       "    }\n",
       "</style>\n",
       "<table border=\"1\" class=\"dataframe\">\n",
       "  <thead>\n",
       "    <tr style=\"text-align: right;\">\n",
       "      <th></th>\n",
       "      <th>sort_order</th>\n",
       "      <th>ord_street_name</th>\n",
       "      <th>ord_street_type</th>\n",
       "      <th>ord_stname_type</th>\n",
       "      <th>group_id</th>\n",
       "      <th>city_sector_group</th>\n",
       "      <th>n_groups</th>\n",
       "    </tr>\n",
       "  </thead>\n",
       "  <tbody>\n",
       "    <tr>\n",
       "      <th>245</th>\n",
       "      <td>055</td>\n",
       "      <td>55TH</td>\n",
       "      <td>PL</td>\n",
       "      <td>55TH PL</td>\n",
       "      <td>1</td>\n",
       "      <td>NE</td>\n",
       "      <td>1</td>\n",
       "    </tr>\n",
       "    <tr>\n",
       "      <th>246</th>\n",
       "      <td>055</td>\n",
       "      <td>55TH</td>\n",
       "      <td>PL</td>\n",
       "      <td>55TH PL</td>\n",
       "      <td>2</td>\n",
       "      <td>NW</td>\n",
       "      <td>1</td>\n",
       "    </tr>\n",
       "    <tr>\n",
       "      <th>247</th>\n",
       "      <td>055</td>\n",
       "      <td>55TH</td>\n",
       "      <td>PL</td>\n",
       "      <td>55TH PL</td>\n",
       "      <td>3</td>\n",
       "      <td>NE</td>\n",
       "      <td>1</td>\n",
       "    </tr>\n",
       "  </tbody>\n",
       "</table>\n",
       "</div>"
      ],
      "text/plain": [
       "    sort_order ord_street_name ord_street_type ord_stname_type  group_id  \\\n",
       "245        055            55TH              PL         55TH PL         1   \n",
       "246        055            55TH              PL         55TH PL         2   \n",
       "247        055            55TH              PL         55TH PL         3   \n",
       "\n",
       "    city_sector_group  n_groups  \n",
       "245                NE         1  \n",
       "246                NW         1  \n",
       "247                NE         1  "
      ]
     },
     "execution_count": 99,
     "metadata": {},
     "output_type": "execute_result"
    }
   ],
   "source": [
    "agg_id_df.loc[\n",
    "        (agg_id_df['ord_street_name']=='55TH') &\n",
    "        (agg_id_df['ord_street_type'] == 'PL'), :]"
   ]
  },
  {
   "cell_type": "markdown",
   "id": "222a09a1",
   "metadata": {},
   "source": [
    "# import the revised city_sector_group"
   ]
  },
  {
   "cell_type": "code",
   "execution_count": 100,
   "id": "ea0962aa",
   "metadata": {},
   "outputs": [],
   "source": [
    "fpn = os.path.join(rc.INPUT_FILE_PATH, 'city_sector_check_working.xlsx')"
   ]
  },
  {
   "cell_type": "code",
   "execution_count": 101,
   "id": "4e99a54f",
   "metadata": {},
   "outputs": [],
   "source": [
    "cpg_df = pd.read_excel(io = fpn)"
   ]
  },
  {
   "cell_type": "code",
   "execution_count": 102,
   "id": "50271f95",
   "metadata": {},
   "outputs": [
    {
     "data": {
      "text/html": [
       "<div>\n",
       "<style scoped>\n",
       "    .dataframe tbody tr th:only-of-type {\n",
       "        vertical-align: middle;\n",
       "    }\n",
       "\n",
       "    .dataframe tbody tr th {\n",
       "        vertical-align: top;\n",
       "    }\n",
       "\n",
       "    .dataframe thead th {\n",
       "        text-align: right;\n",
       "    }\n",
       "</style>\n",
       "<table border=\"1\" class=\"dataframe\">\n",
       "  <thead>\n",
       "    <tr style=\"text-align: right;\">\n",
       "      <th></th>\n",
       "      <th>city_sector_group</th>\n",
       "      <th>ord_street_type</th>\n",
       "      <th>n_groups</th>\n",
       "      <th>city_sector_group_revised</th>\n",
       "    </tr>\n",
       "  </thead>\n",
       "  <tbody>\n",
       "    <tr>\n",
       "      <th>0</th>\n",
       "      <td>CNTR</td>\n",
       "      <td>AVE</td>\n",
       "      <td>1</td>\n",
       "      <td>NaN</td>\n",
       "    </tr>\n",
       "    <tr>\n",
       "      <th>1</th>\n",
       "      <td>CNTR</td>\n",
       "      <td>BR</td>\n",
       "      <td>1</td>\n",
       "      <td>NaN</td>\n",
       "    </tr>\n",
       "    <tr>\n",
       "      <th>2</th>\n",
       "      <td>CNTR</td>\n",
       "      <td>CT</td>\n",
       "      <td>1</td>\n",
       "      <td>NaN</td>\n",
       "    </tr>\n",
       "    <tr>\n",
       "      <th>3</th>\n",
       "      <td>CNTR</td>\n",
       "      <td>DR</td>\n",
       "      <td>1</td>\n",
       "      <td>NaN</td>\n",
       "    </tr>\n",
       "    <tr>\n",
       "      <th>4</th>\n",
       "      <td>CNTR</td>\n",
       "      <td>PL</td>\n",
       "      <td>1</td>\n",
       "      <td>NaN</td>\n",
       "    </tr>\n",
       "  </tbody>\n",
       "</table>\n",
       "</div>"
      ],
      "text/plain": [
       "  city_sector_group ord_street_type  n_groups city_sector_group_revised\n",
       "0              CNTR             AVE         1                       NaN\n",
       "1              CNTR              BR         1                       NaN\n",
       "2              CNTR              CT         1                       NaN\n",
       "3              CNTR              DR         1                       NaN\n",
       "4              CNTR              PL         1                       NaN"
      ]
     },
     "execution_count": 102,
     "metadata": {},
     "output_type": "execute_result"
    }
   ],
   "source": [
    "cpg_df.head()"
   ]
  },
  {
   "cell_type": "code",
   "execution_count": 103,
   "id": "998fa727",
   "metadata": {},
   "outputs": [
    {
     "name": "stdout",
     "output_type": "stream",
     "text": [
      "city_sector_group_revised\n",
      "True     87\n",
      "False    39\n",
      "Name: count, dtype: int64\n"
     ]
    }
   ],
   "source": [
    "hey_what_is_na(cpg_df)"
   ]
  },
  {
   "cell_type": "code",
   "execution_count": 104,
   "id": "822324f8",
   "metadata": {},
   "outputs": [
    {
     "data": {
      "text/html": [
       "<div>\n",
       "<style scoped>\n",
       "    .dataframe tbody tr th:only-of-type {\n",
       "        vertical-align: middle;\n",
       "    }\n",
       "\n",
       "    .dataframe tbody tr th {\n",
       "        vertical-align: top;\n",
       "    }\n",
       "\n",
       "    .dataframe thead th {\n",
       "        text-align: right;\n",
       "    }\n",
       "</style>\n",
       "<table border=\"1\" class=\"dataframe\">\n",
       "  <thead>\n",
       "    <tr style=\"text-align: right;\">\n",
       "      <th></th>\n",
       "      <th>city_sector_group</th>\n",
       "      <th>ord_street_type</th>\n",
       "      <th>n_groups</th>\n",
       "      <th>city_sector_group_revised</th>\n",
       "    </tr>\n",
       "  </thead>\n",
       "  <tbody>\n",
       "    <tr>\n",
       "      <th>4</th>\n",
       "      <td>CNTR</td>\n",
       "      <td>PL</td>\n",
       "      <td>1</td>\n",
       "      <td>NaN</td>\n",
       "    </tr>\n",
       "    <tr>\n",
       "      <th>33</th>\n",
       "      <td>E</td>\n",
       "      <td>PL</td>\n",
       "      <td>1</td>\n",
       "      <td>NaN</td>\n",
       "    </tr>\n",
       "    <tr>\n",
       "      <th>48</th>\n",
       "      <td>N</td>\n",
       "      <td>PL</td>\n",
       "      <td>1</td>\n",
       "      <td>NaN</td>\n",
       "    </tr>\n",
       "    <tr>\n",
       "      <th>59</th>\n",
       "      <td>NE</td>\n",
       "      <td>PL</td>\n",
       "      <td>1</td>\n",
       "      <td>NaN</td>\n",
       "    </tr>\n",
       "    <tr>\n",
       "      <th>72</th>\n",
       "      <td>NW</td>\n",
       "      <td>PL</td>\n",
       "      <td>1</td>\n",
       "      <td>NaN</td>\n",
       "    </tr>\n",
       "    <tr>\n",
       "      <th>90</th>\n",
       "      <td>S</td>\n",
       "      <td>PL</td>\n",
       "      <td>1</td>\n",
       "      <td>NaN</td>\n",
       "    </tr>\n",
       "    <tr>\n",
       "      <th>102</th>\n",
       "      <td>SW</td>\n",
       "      <td>PL</td>\n",
       "      <td>1</td>\n",
       "      <td>NaN</td>\n",
       "    </tr>\n",
       "    <tr>\n",
       "      <th>121</th>\n",
       "      <td>W</td>\n",
       "      <td>PL</td>\n",
       "      <td>1</td>\n",
       "      <td>NaN</td>\n",
       "    </tr>\n",
       "  </tbody>\n",
       "</table>\n",
       "</div>"
      ],
      "text/plain": [
       "    city_sector_group ord_street_type  n_groups city_sector_group_revised\n",
       "4                CNTR              PL         1                       NaN\n",
       "33                  E              PL         1                       NaN\n",
       "48                  N              PL         1                       NaN\n",
       "59                 NE              PL         1                       NaN\n",
       "72                 NW              PL         1                       NaN\n",
       "90                  S              PL         1                       NaN\n",
       "102                SW              PL         1                       NaN\n",
       "121                 W              PL         1                       NaN"
      ]
     },
     "execution_count": 104,
     "metadata": {},
     "output_type": "execute_result"
    }
   ],
   "source": [
    "cpg_df.loc[cpg_df['ord_street_type'] == 'PL', :]"
   ]
  },
  {
   "cell_type": "code",
   "execution_count": 105,
   "id": "fca96a22",
   "metadata": {},
   "outputs": [],
   "source": [
    "# build a row selector. Less code!\n",
    "row_select = cpg_df['city_sector_group_revised'].isna()"
   ]
  },
  {
   "cell_type": "code",
   "execution_count": 106,
   "id": "fd6636f5",
   "metadata": {},
   "outputs": [],
   "source": [
    "# update where null\n",
    "cpg_df.loc[row_select, 'city_sector_group_revised'] = cpg_df.loc[row_select, 'city_sector_group']"
   ]
  },
  {
   "cell_type": "code",
   "execution_count": 107,
   "id": "7b474025",
   "metadata": {},
   "outputs": [
    {
     "data": {
      "text/html": [
       "<div>\n",
       "<style scoped>\n",
       "    .dataframe tbody tr th:only-of-type {\n",
       "        vertical-align: middle;\n",
       "    }\n",
       "\n",
       "    .dataframe tbody tr th {\n",
       "        vertical-align: top;\n",
       "    }\n",
       "\n",
       "    .dataframe thead th {\n",
       "        text-align: right;\n",
       "    }\n",
       "</style>\n",
       "<table border=\"1\" class=\"dataframe\">\n",
       "  <thead>\n",
       "    <tr style=\"text-align: right;\">\n",
       "      <th></th>\n",
       "      <th>city_sector_group</th>\n",
       "      <th>ord_street_type</th>\n",
       "      <th>n_groups</th>\n",
       "      <th>city_sector_group_revised</th>\n",
       "    </tr>\n",
       "  </thead>\n",
       "  <tbody>\n",
       "    <tr>\n",
       "      <th>0</th>\n",
       "      <td>CNTR</td>\n",
       "      <td>AVE</td>\n",
       "      <td>1</td>\n",
       "      <td>CNTR</td>\n",
       "    </tr>\n",
       "    <tr>\n",
       "      <th>1</th>\n",
       "      <td>CNTR</td>\n",
       "      <td>BR</td>\n",
       "      <td>1</td>\n",
       "      <td>CNTR</td>\n",
       "    </tr>\n",
       "    <tr>\n",
       "      <th>2</th>\n",
       "      <td>CNTR</td>\n",
       "      <td>CT</td>\n",
       "      <td>1</td>\n",
       "      <td>CNTR</td>\n",
       "    </tr>\n",
       "    <tr>\n",
       "      <th>3</th>\n",
       "      <td>CNTR</td>\n",
       "      <td>DR</td>\n",
       "      <td>1</td>\n",
       "      <td>CNTR</td>\n",
       "    </tr>\n",
       "    <tr>\n",
       "      <th>4</th>\n",
       "      <td>CNTR</td>\n",
       "      <td>PL</td>\n",
       "      <td>1</td>\n",
       "      <td>CNTR</td>\n",
       "    </tr>\n",
       "  </tbody>\n",
       "</table>\n",
       "</div>"
      ],
      "text/plain": [
       "  city_sector_group ord_street_type  n_groups city_sector_group_revised\n",
       "0              CNTR             AVE         1                      CNTR\n",
       "1              CNTR              BR         1                      CNTR\n",
       "2              CNTR              CT         1                      CNTR\n",
       "3              CNTR              DR         1                      CNTR\n",
       "4              CNTR              PL         1                      CNTR"
      ]
     },
     "execution_count": 107,
     "metadata": {},
     "output_type": "execute_result"
    }
   ],
   "source": [
    "cpg_df.head()"
   ]
  },
  {
   "cell_type": "code",
   "execution_count": 108,
   "id": "efc034a3",
   "metadata": {},
   "outputs": [],
   "source": [
    "hey_what_is_na(df = cpg_df)"
   ]
  },
  {
   "cell_type": "code",
   "execution_count": 109,
   "id": "3256354e",
   "metadata": {},
   "outputs": [],
   "source": [
    "hey_what_is_na(df = agg_id_df)"
   ]
  },
  {
   "cell_type": "code",
   "execution_count": 110,
   "id": "6cee3088",
   "metadata": {},
   "outputs": [
    {
     "data": {
      "text/html": [
       "<div>\n",
       "<style scoped>\n",
       "    .dataframe tbody tr th:only-of-type {\n",
       "        vertical-align: middle;\n",
       "    }\n",
       "\n",
       "    .dataframe tbody tr th {\n",
       "        vertical-align: top;\n",
       "    }\n",
       "\n",
       "    .dataframe thead th {\n",
       "        text-align: right;\n",
       "    }\n",
       "</style>\n",
       "<table border=\"1\" class=\"dataframe\">\n",
       "  <thead>\n",
       "    <tr style=\"text-align: right;\">\n",
       "      <th></th>\n",
       "      <th>city_sector_group</th>\n",
       "      <th>ord_street_type</th>\n",
       "      <th>n_groups</th>\n",
       "      <th>city_sector_group_revised</th>\n",
       "    </tr>\n",
       "  </thead>\n",
       "  <tbody>\n",
       "    <tr>\n",
       "      <th>4</th>\n",
       "      <td>CNTR</td>\n",
       "      <td>PL</td>\n",
       "      <td>1</td>\n",
       "      <td>CNTR</td>\n",
       "    </tr>\n",
       "    <tr>\n",
       "      <th>33</th>\n",
       "      <td>E</td>\n",
       "      <td>PL</td>\n",
       "      <td>1</td>\n",
       "      <td>E</td>\n",
       "    </tr>\n",
       "    <tr>\n",
       "      <th>48</th>\n",
       "      <td>N</td>\n",
       "      <td>PL</td>\n",
       "      <td>1</td>\n",
       "      <td>N</td>\n",
       "    </tr>\n",
       "    <tr>\n",
       "      <th>59</th>\n",
       "      <td>NE</td>\n",
       "      <td>PL</td>\n",
       "      <td>1</td>\n",
       "      <td>NE</td>\n",
       "    </tr>\n",
       "    <tr>\n",
       "      <th>72</th>\n",
       "      <td>NW</td>\n",
       "      <td>PL</td>\n",
       "      <td>1</td>\n",
       "      <td>NW</td>\n",
       "    </tr>\n",
       "    <tr>\n",
       "      <th>90</th>\n",
       "      <td>S</td>\n",
       "      <td>PL</td>\n",
       "      <td>1</td>\n",
       "      <td>S</td>\n",
       "    </tr>\n",
       "    <tr>\n",
       "      <th>102</th>\n",
       "      <td>SW</td>\n",
       "      <td>PL</td>\n",
       "      <td>1</td>\n",
       "      <td>SW</td>\n",
       "    </tr>\n",
       "    <tr>\n",
       "      <th>121</th>\n",
       "      <td>W</td>\n",
       "      <td>PL</td>\n",
       "      <td>1</td>\n",
       "      <td>W</td>\n",
       "    </tr>\n",
       "  </tbody>\n",
       "</table>\n",
       "</div>"
      ],
      "text/plain": [
       "    city_sector_group ord_street_type  n_groups city_sector_group_revised\n",
       "4                CNTR              PL         1                      CNTR\n",
       "33                  E              PL         1                         E\n",
       "48                  N              PL         1                         N\n",
       "59                 NE              PL         1                        NE\n",
       "72                 NW              PL         1                        NW\n",
       "90                  S              PL         1                         S\n",
       "102                SW              PL         1                        SW\n",
       "121                 W              PL         1                         W"
      ]
     },
     "metadata": {},
     "output_type": "display_data"
    }
   ],
   "source": [
    "display(cpg_df.loc[cpg_df['ord_street_type'] == 'PL', ])"
   ]
  },
  {
   "cell_type": "code",
   "execution_count": 111,
   "id": "c008c969",
   "metadata": {},
   "outputs": [],
   "source": [
    "test_join = pd.merge(left = agg_id_df, right = cpg_df, how = 'outer', indicator=True)"
   ]
  },
  {
   "cell_type": "code",
   "execution_count": 112,
   "id": "15426a65",
   "metadata": {},
   "outputs": [
    {
     "data": {
      "text/plain": [
       "_merge\n",
       "both          1817\n",
       "left_only        0\n",
       "right_only       0\n",
       "Name: count, dtype: int64"
      ]
     },
     "execution_count": 112,
     "metadata": {},
     "output_type": "execute_result"
    }
   ],
   "source": [
    "test_join['_merge'].value_counts()"
   ]
  },
  {
   "cell_type": "code",
   "execution_count": 113,
   "id": "ad8712b5",
   "metadata": {},
   "outputs": [
    {
     "data": {
      "text/html": [
       "<div>\n",
       "<style scoped>\n",
       "    .dataframe tbody tr th:only-of-type {\n",
       "        vertical-align: middle;\n",
       "    }\n",
       "\n",
       "    .dataframe tbody tr th {\n",
       "        vertical-align: top;\n",
       "    }\n",
       "\n",
       "    .dataframe thead th {\n",
       "        text-align: right;\n",
       "    }\n",
       "</style>\n",
       "<table border=\"1\" class=\"dataframe\">\n",
       "  <thead>\n",
       "    <tr style=\"text-align: right;\">\n",
       "      <th></th>\n",
       "      <th>sort_order</th>\n",
       "      <th>ord_street_name</th>\n",
       "      <th>ord_street_type</th>\n",
       "      <th>ord_stname_type</th>\n",
       "      <th>group_id</th>\n",
       "      <th>city_sector_group</th>\n",
       "      <th>n_groups</th>\n",
       "    </tr>\n",
       "  </thead>\n",
       "  <tbody>\n",
       "    <tr>\n",
       "      <th>0</th>\n",
       "      <td>001</td>\n",
       "      <td>1ST</td>\n",
       "      <td>AVE</td>\n",
       "      <td>1ST AVE</td>\n",
       "      <td>1</td>\n",
       "      <td>NW_SW_W</td>\n",
       "      <td>3</td>\n",
       "    </tr>\n",
       "    <tr>\n",
       "      <th>1</th>\n",
       "      <td>001</td>\n",
       "      <td>1ST</td>\n",
       "      <td>AVE</td>\n",
       "      <td>1ST AVE</td>\n",
       "      <td>2</td>\n",
       "      <td>CNTR_N_NE_S</td>\n",
       "      <td>4</td>\n",
       "    </tr>\n",
       "    <tr>\n",
       "      <th>2</th>\n",
       "      <td>001</td>\n",
       "      <td>1ST</td>\n",
       "      <td>PL</td>\n",
       "      <td>1ST PL</td>\n",
       "      <td>1</td>\n",
       "      <td>NE</td>\n",
       "      <td>1</td>\n",
       "    </tr>\n",
       "    <tr>\n",
       "      <th>3</th>\n",
       "      <td>002</td>\n",
       "      <td>2ND</td>\n",
       "      <td>AVE</td>\n",
       "      <td>2ND AVE</td>\n",
       "      <td>1</td>\n",
       "      <td>NW_SW_W</td>\n",
       "      <td>3</td>\n",
       "    </tr>\n",
       "    <tr>\n",
       "      <th>4</th>\n",
       "      <td>002</td>\n",
       "      <td>2ND</td>\n",
       "      <td>AVE</td>\n",
       "      <td>2ND AVE</td>\n",
       "      <td>2</td>\n",
       "      <td>CNTR_N_NE_S</td>\n",
       "      <td>4</td>\n",
       "    </tr>\n",
       "  </tbody>\n",
       "</table>\n",
       "</div>"
      ],
      "text/plain": [
       "  sort_order ord_street_name ord_street_type ord_stname_type  group_id  \\\n",
       "0        001             1ST             AVE         1ST AVE         1   \n",
       "1        001             1ST             AVE         1ST AVE         2   \n",
       "2        001             1ST              PL          1ST PL         1   \n",
       "3        002             2ND             AVE         2ND AVE         1   \n",
       "4        002             2ND             AVE         2ND AVE         2   \n",
       "\n",
       "  city_sector_group  n_groups  \n",
       "0           NW_SW_W         3  \n",
       "1       CNTR_N_NE_S         4  \n",
       "2                NE         1  \n",
       "3           NW_SW_W         3  \n",
       "4       CNTR_N_NE_S         4  "
      ]
     },
     "execution_count": 113,
     "metadata": {},
     "output_type": "execute_result"
    }
   ],
   "source": [
    "agg_id_df.head()"
   ]
  },
  {
   "cell_type": "code",
   "execution_count": 114,
   "id": "764449b6",
   "metadata": {},
   "outputs": [],
   "source": [
    "agg_id_df = test_join.drop(labels = ['city_sector_group', '_merge'], axis = 1)"
   ]
  },
  {
   "cell_type": "code",
   "execution_count": 115,
   "id": "dea7f3cf",
   "metadata": {},
   "outputs": [],
   "source": [
    "hey_what_is_na(df = agg_id_df)    "
   ]
  },
  {
   "cell_type": "code",
   "execution_count": 116,
   "id": "097fe221",
   "metadata": {},
   "outputs": [],
   "source": [
    "test_join = pd.merge(left = gdf, right = agg_id_df, how = 'outer', indicator=True)"
   ]
  },
  {
   "cell_type": "code",
   "execution_count": 117,
   "id": "31a44648",
   "metadata": {},
   "outputs": [
    {
     "data": {
      "text/plain": [
       "_merge\n",
       "both          25771\n",
       "left_only         0\n",
       "right_only        0\n",
       "Name: count, dtype: int64"
      ]
     },
     "execution_count": 117,
     "metadata": {},
     "output_type": "execute_result"
    }
   ],
   "source": [
    "test_join['_merge'].value_counts()"
   ]
  },
  {
   "cell_type": "code",
   "execution_count": 118,
   "id": "da704166",
   "metadata": {},
   "outputs": [],
   "source": [
    "test_join['city_sector_group'] = test_join['city_sector_group_revised']"
   ]
  },
  {
   "cell_type": "code",
   "execution_count": 119,
   "id": "0f10a8a9",
   "metadata": {},
   "outputs": [],
   "source": [
    "gdf = test_join.drop(labels = ['_merge', 'city_sector_group_revised', 'n_groups'], axis = 1)"
   ]
  },
  {
   "cell_type": "code",
   "execution_count": 120,
   "id": "0cbbf4b2",
   "metadata": {},
   "outputs": [
    {
     "data": {
      "text/html": [
       "<div>\n",
       "<style scoped>\n",
       "    .dataframe tbody tr th:only-of-type {\n",
       "        vertical-align: middle;\n",
       "    }\n",
       "\n",
       "    .dataframe tbody tr th {\n",
       "        vertical-align: top;\n",
       "    }\n",
       "\n",
       "    .dataframe thead th {\n",
       "        text-align: right;\n",
       "    }\n",
       "</style>\n",
       "<table border=\"1\" class=\"dataframe\">\n",
       "  <thead>\n",
       "    <tr style=\"text-align: right;\">\n",
       "      <th></th>\n",
       "      <th>f_intr_id</th>\n",
       "      <th>t_intr_id</th>\n",
       "      <th>snd_id</th>\n",
       "      <th>snd_feacode</th>\n",
       "      <th>citycode</th>\n",
       "      <th>stname_id</th>\n",
       "      <th>st_code</th>\n",
       "      <th>arterial_code</th>\n",
       "      <th>segment_type</th>\n",
       "      <th>agency_code</th>\n",
       "      <th>...</th>\n",
       "      <th>comptype</th>\n",
       "      <th>unitid</th>\n",
       "      <th>unitid2</th>\n",
       "      <th>city_sector</th>\n",
       "      <th>ord_stname_unique</th>\n",
       "      <th>geometry</th>\n",
       "      <th>group_id</th>\n",
       "      <th>sort_order</th>\n",
       "      <th>ord_stname_type</th>\n",
       "      <th>city_sector_group</th>\n",
       "    </tr>\n",
       "  </thead>\n",
       "  <tbody>\n",
       "    <tr>\n",
       "      <th>0</th>\n",
       "      <td>3836</td>\n",
       "      <td>3893</td>\n",
       "      <td>4787</td>\n",
       "      <td>5</td>\n",
       "      <td>1</td>\n",
       "      <td>1955</td>\n",
       "      <td>0</td>\n",
       "      <td>1</td>\n",
       "      <td>1</td>\n",
       "      <td>1</td>\n",
       "      <td>...</td>\n",
       "      <td>68</td>\n",
       "      <td>14050</td>\n",
       "      <td>0040</td>\n",
       "      <td>NW</td>\n",
       "      <td>NW 100TH PL</td>\n",
       "      <td>LINESTRING (-122.36206 47.7035, -122.36342 47....</td>\n",
       "      <td>1</td>\n",
       "      <td>100</td>\n",
       "      <td>100TH PL</td>\n",
       "      <td>NW</td>\n",
       "    </tr>\n",
       "    <tr>\n",
       "      <th>1</th>\n",
       "      <td>3893</td>\n",
       "      <td>3906</td>\n",
       "      <td>4802</td>\n",
       "      <td>5</td>\n",
       "      <td>1</td>\n",
       "      <td>1955</td>\n",
       "      <td>0</td>\n",
       "      <td>1</td>\n",
       "      <td>1</td>\n",
       "      <td>1</td>\n",
       "      <td>...</td>\n",
       "      <td>68</td>\n",
       "      <td>14050</td>\n",
       "      <td>0043</td>\n",
       "      <td>NW</td>\n",
       "      <td>NW 100TH PL</td>\n",
       "      <td>LINESTRING (-122.36342 47.70275, -122.36386 47...</td>\n",
       "      <td>1</td>\n",
       "      <td>100</td>\n",
       "      <td>100TH PL</td>\n",
       "      <td>NW</td>\n",
       "    </tr>\n",
       "    <tr>\n",
       "      <th>2</th>\n",
       "      <td>3906</td>\n",
       "      <td>3973</td>\n",
       "      <td>4864</td>\n",
       "      <td>5</td>\n",
       "      <td>1</td>\n",
       "      <td>1955</td>\n",
       "      <td>0</td>\n",
       "      <td>1</td>\n",
       "      <td>1</td>\n",
       "      <td>1</td>\n",
       "      <td>...</td>\n",
       "      <td>68</td>\n",
       "      <td>14050</td>\n",
       "      <td>0070</td>\n",
       "      <td>NW</td>\n",
       "      <td>NW 100TH PL</td>\n",
       "      <td>LINESTRING (-122.36386 47.70251, -122.36535 47...</td>\n",
       "      <td>1</td>\n",
       "      <td>100</td>\n",
       "      <td>100TH PL</td>\n",
       "      <td>NW</td>\n",
       "    </tr>\n",
       "    <tr>\n",
       "      <th>3</th>\n",
       "      <td>48444</td>\n",
       "      <td>48443</td>\n",
       "      <td>49871</td>\n",
       "      <td>1</td>\n",
       "      <td>0</td>\n",
       "      <td>3767</td>\n",
       "      <td>0</td>\n",
       "      <td>0</td>\n",
       "      <td>1</td>\n",
       "      <td>1</td>\n",
       "      <td>...</td>\n",
       "      <td>0</td>\n",
       "      <td>0</td>\n",
       "      <td>0</td>\n",
       "      <td>SW</td>\n",
       "      <td>SW 100TH PL</td>\n",
       "      <td>LINESTRING (-122.3403 47.51334, -122.34036 47....</td>\n",
       "      <td>2</td>\n",
       "      <td>100</td>\n",
       "      <td>100TH PL</td>\n",
       "      <td>SW</td>\n",
       "    </tr>\n",
       "    <tr>\n",
       "      <th>4</th>\n",
       "      <td>3943</td>\n",
       "      <td>3939</td>\n",
       "      <td>4836</td>\n",
       "      <td>1</td>\n",
       "      <td>1</td>\n",
       "      <td>1956</td>\n",
       "      <td>0</td>\n",
       "      <td>0</td>\n",
       "      <td>1</td>\n",
       "      <td>1</td>\n",
       "      <td>...</td>\n",
       "      <td>68</td>\n",
       "      <td>14055</td>\n",
       "      <td>0240</td>\n",
       "      <td>NW</td>\n",
       "      <td>NW 100TH ST</td>\n",
       "      <td>LINESTRING (-122.38757 47.70155, -122.38762 47...</td>\n",
       "      <td>1</td>\n",
       "      <td>100</td>\n",
       "      <td>100TH ST</td>\n",
       "      <td>NW_N_NE</td>\n",
       "    </tr>\n",
       "  </tbody>\n",
       "</table>\n",
       "<p>5 rows × 43 columns</p>\n",
       "</div>"
      ],
      "text/plain": [
       "   f_intr_id  t_intr_id  snd_id  snd_feacode  citycode  stname_id  st_code  \\\n",
       "0       3836       3893    4787            5         1       1955        0   \n",
       "1       3893       3906    4802            5         1       1955        0   \n",
       "2       3906       3973    4864            5         1       1955        0   \n",
       "3      48444      48443   49871            1         0       3767        0   \n",
       "4       3943       3939    4836            1         1       1956        0   \n",
       "\n",
       "   arterial_code  segment_type  agency_code  ...  comptype  unitid  unitid2  \\\n",
       "0              1             1            1  ...        68   14050     0040   \n",
       "1              1             1            1  ...        68   14050     0043   \n",
       "2              1             1            1  ...        68   14050     0070   \n",
       "3              0             1            1  ...         0       0        0   \n",
       "4              0             1            1  ...        68   14055     0240   \n",
       "\n",
       "   city_sector  ord_stname_unique  \\\n",
       "0           NW        NW 100TH PL   \n",
       "1           NW        NW 100TH PL   \n",
       "2           NW        NW 100TH PL   \n",
       "3           SW        SW 100TH PL   \n",
       "4           NW        NW 100TH ST   \n",
       "\n",
       "                                            geometry  group_id  sort_order  \\\n",
       "0  LINESTRING (-122.36206 47.7035, -122.36342 47....         1         100   \n",
       "1  LINESTRING (-122.36342 47.70275, -122.36386 47...         1         100   \n",
       "2  LINESTRING (-122.36386 47.70251, -122.36535 47...         1         100   \n",
       "3  LINESTRING (-122.3403 47.51334, -122.34036 47....         2         100   \n",
       "4  LINESTRING (-122.38757 47.70155, -122.38762 47...         1         100   \n",
       "\n",
       "   ord_stname_type  city_sector_group  \n",
       "0         100TH PL                 NW  \n",
       "1         100TH PL                 NW  \n",
       "2         100TH PL                 NW  \n",
       "3         100TH PL                 SW  \n",
       "4         100TH ST            NW_N_NE  \n",
       "\n",
       "[5 rows x 43 columns]"
      ]
     },
     "execution_count": 120,
     "metadata": {},
     "output_type": "execute_result"
    }
   ],
   "source": [
    "gdf.head()"
   ]
  },
  {
   "cell_type": "code",
   "execution_count": 121,
   "id": "acf2a857",
   "metadata": {},
   "outputs": [
    {
     "data": {
      "text/plain": [
       "Index(['f_intr_id', 't_intr_id', 'snd_id', 'snd_feacode', 'citycode',\n",
       "       'stname_id', 'st_code', 'arterial_code', 'segment_type', 'agency_code',\n",
       "       'access_code', 'divided_code', 'structure_type', 'legalloc_code',\n",
       "       'vehicle_use_code', 'gis_seg_length', 'l_adrs_from', 'l_adrs_to',\n",
       "       'r_adrs_from', 'r_adrs_to', 'ord_pre_dir', 'ord_street_name',\n",
       "       'ord_street_type', 'ord_suf_dir', 'ord_stname_concat', 'l_city',\n",
       "       'l_state', 'l_zip', 'r_city', 'r_state', 'r_zip', 'sndseg_update',\n",
       "       'compkey', 'comptype', 'unitid', 'unitid2', 'city_sector',\n",
       "       'ord_stname_unique', 'geometry', 'group_id', 'sort_order',\n",
       "       'ord_stname_type', 'city_sector_group'],\n",
       "      dtype='object')"
      ]
     },
     "execution_count": 121,
     "metadata": {},
     "output_type": "execute_result"
    }
   ],
   "source": [
    "gdf.columns"
   ]
  },
  {
   "cell_type": "code",
   "execution_count": 122,
   "id": "045777af",
   "metadata": {},
   "outputs": [],
   "source": [
    "gdf['ord_stname_type_group'] = gdf['ord_stname_type'] + ' ' + gdf['city_sector_group']"
   ]
  },
  {
   "cell_type": "code",
   "execution_count": 123,
   "id": "84dd22f1",
   "metadata": {},
   "outputs": [],
   "source": [
    "# export to disk\n",
    "write_gdf(gdf = gdf, output_file_path=rc.OUTPUT_FILE_PATH, output_file_name=rc.S03_CLEANED_STREET_GROUP_OUT_FILE_NAME)"
   ]
  },
  {
   "cell_type": "code",
   "execution_count": 124,
   "id": "a178100b",
   "metadata": {},
   "outputs": [
    {
     "name": "stdout",
     "output_type": "stream",
     "text": [
      "unitid\n",
      "False    25715\n",
      "True        56\n",
      "Name: count, dtype: int64\n",
      "unitid2\n",
      "False    25715\n",
      "True        56\n",
      "Name: count, dtype: int64\n"
     ]
    }
   ],
   "source": [
    "hey_what_is_na(df = gdf)"
   ]
  },
  {
   "cell_type": "code",
   "execution_count": null,
   "id": "8877c494",
   "metadata": {},
   "outputs": [],
   "source": []
  },
  {
   "cell_type": "code",
   "execution_count": null,
   "id": "ac2ccacc",
   "metadata": {},
   "outputs": [],
   "source": []
  }
 ],
 "metadata": {
  "kernelspec": {
   "display_name": "analysis",
   "language": "python",
   "name": "python3"
  },
  "language_info": {
   "codemirror_mode": {
    "name": "ipython",
    "version": 3
   },
   "file_extension": ".py",
   "mimetype": "text/x-python",
   "name": "python",
   "nbconvert_exporter": "python",
   "pygments_lexer": "ipython3",
   "version": "3.12.7"
  }
 },
 "nbformat": 4,
 "nbformat_minor": 5
}
