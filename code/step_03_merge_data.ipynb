{
 "cells": [
  {
   "cell_type": "markdown",
   "id": "fed9e25b-c5b9-4aee-89cd-15a7da3945c0",
   "metadata": {},
   "source": [
    "# Part 03: Merge data and prep to find discontinuities\n",
    "michael babb  \n",
    "2025 02 18"
   ]
  },
  {
   "cell_type": "code",
   "execution_count": null,
   "id": "e88ca8b2-b75d-4e72-8fc7-65c4cea61cde",
   "metadata": {},
   "outputs": [],
   "source": [
    "# standard\n",
    "import os"
   ]
  },
  {
   "cell_type": "code",
   "execution_count": null,
   "id": "0778d9a5-0c62-4724-be28-c21598d23b6f",
   "metadata": {},
   "outputs": [],
   "source": [
    "# external\n",
    "import geopandas as gpd\n",
    "import networkx as nx\n",
    "import numpy as np\n",
    "import pandas as pd\n",
    "from shapely.geometry import LineString, Point"
   ]
  },
  {
   "cell_type": "code",
   "execution_count": null,
   "id": "2fc61400-c637-4828-820d-56c2cdd14942",
   "metadata": {},
   "outputs": [],
   "source": [
    "# custom\n",
    "import run_constants as rc\n",
    "from utils import *\n",
    "from geodataio import df_operations as dfo"
   ]
  },
  {
   "cell_type": "markdown",
   "id": "d56ea77e-ffd7-4326-b793-415f8a131ef2",
   "metadata": {},
   "source": [
    "# load the working seattle street network data"
   ]
  },
  {
   "cell_type": "code",
   "execution_count": null,
   "id": "ddf62724-9105-44c9-b983-e4f520328fa9",
   "metadata": {},
   "outputs": [],
   "source": [
    "fpn = os.path.join(rc.OUTPUT_FILE_PATH, rc.S03_SND_WORKING_IN_FILE_NAME)"
   ]
  },
  {
   "cell_type": "code",
   "execution_count": null,
   "id": "2cbdb5c1-c973-4882-b442-cf5396e90d3e",
   "metadata": {},
   "outputs": [],
   "source": [
    "gdf = gpd.read_file(filename = fpn)"
   ]
  },
  {
   "cell_type": "code",
   "execution_count": null,
   "id": "390b341e",
   "metadata": {},
   "outputs": [],
   "source": [
    "gdf.shape"
   ]
  },
  {
   "cell_type": "markdown",
   "id": "bdc6814a",
   "metadata": {},
   "source": [
    "## load the manually created street group data\n",
    "These data were created in Step 6, but we'll bring them into the Step 3 workflow."
   ]
  },
  {
   "cell_type": "code",
   "execution_count": null,
   "id": "b490fe46",
   "metadata": {},
   "outputs": [],
   "source": [
    "fpn = os.path.join(rc.INPUT_FILE_PATH, rc.S03_STREET_GROUP_IN_FILE_NAME)"
   ]
  },
  {
   "cell_type": "code",
   "execution_count": null,
   "id": "7fa5dd23",
   "metadata": {},
   "outputs": [],
   "source": [
    "index_cols = ['sort_order', 'ord_street_name', 'ord_street_type', 'city_sector']\n",
    "sg_df = pd.read_excel(io = fpn, index_col=[0, 1, 2, 3])\n",
    "sg_df = sg_df.reset_index()"
   ]
  },
  {
   "cell_type": "code",
   "execution_count": null,
   "id": "23379a66",
   "metadata": {},
   "outputs": [],
   "source": [
    "drop_cols = ['sort_order', 'progress', 'count']\n",
    "sg_df = sg_df.drop(labels = drop_cols, axis = 1)"
   ]
  },
  {
   "cell_type": "code",
   "execution_count": null,
   "id": "854d1ddd",
   "metadata": {},
   "outputs": [],
   "source": [
    "gdf = pd.merge(left = gdf, right = sg_df, how = 'left', indicator=True)\n",
    "gdf['group_id'] = gdf['group_id'].fillna(1).astype(int)"
   ]
  },
  {
   "cell_type": "code",
   "execution_count": null,
   "id": "aa672330",
   "metadata": {},
   "outputs": [],
   "source": [
    "gdf.shape"
   ]
  },
  {
   "cell_type": "code",
   "execution_count": null,
   "id": "697a81f7",
   "metadata": {},
   "outputs": [],
   "source": [
    "gdf['_merge'].value_counts()"
   ]
  },
  {
   "cell_type": "code",
   "execution_count": null,
   "id": "a573eb6e",
   "metadata": {},
   "outputs": [],
   "source": [
    "gdf.columns"
   ]
  },
  {
   "cell_type": "code",
   "execution_count": null,
   "id": "d9fe23c0",
   "metadata": {},
   "outputs": [],
   "source": [
    "# TODO: THIS IS WHERE i LEFT OFF: 2025 01 25\n",
    "hey_what_is_na(gdf)"
   ]
  },
  {
   "cell_type": "code",
   "execution_count": null,
   "id": "6e257cad",
   "metadata": {},
   "outputs": [],
   "source": [
    "gdf = gdf.drop(labels = [\"_merge\"], axis = 1)"
   ]
  },
  {
   "cell_type": "markdown",
   "id": "231b9ac7",
   "metadata": {},
   "source": [
    "# create an id across street groups"
   ]
  },
  {
   "cell_type": "code",
   "execution_count": null,
   "id": "bcf3a65a",
   "metadata": {},
   "outputs": [],
   "source": [
    "col_names = ['ord_street_name', 'ord_street_type',  'ord_stname_concat', 'ord_stname_unique', 'city_sector', 'group_id']\n",
    "id_df = gdf[col_names].drop_duplicates()"
   ]
  },
  {
   "cell_type": "code",
   "execution_count": null,
   "id": "fd8779df",
   "metadata": {},
   "outputs": [],
   "source": [
    "id_df['ord_stname_type'] = id_df['ord_street_name'] + ' ' + id_df['ord_street_type']"
   ]
  },
  {
   "cell_type": "code",
   "execution_count": null,
   "id": "b4c0f7de",
   "metadata": {},
   "outputs": [],
   "source": [
    "id_df['sort_order'] = id_df['ord_street_name'].map(get_sort_order)"
   ]
  },
  {
   "cell_type": "code",
   "execution_count": null,
   "id": "e716ecdf",
   "metadata": {},
   "outputs": [],
   "source": [
    "id_df = id_df.sort_values(by = ['sort_order', 'ord_street_type', 'city_sector'])"
   ]
  },
  {
   "cell_type": "code",
   "execution_count": null,
   "id": "4f473862",
   "metadata": {},
   "outputs": [],
   "source": [
    "id_df.head()"
   ]
  },
  {
   "cell_type": "code",
   "execution_count": null,
   "id": "89a7075c",
   "metadata": {},
   "outputs": [],
   "source": [
    "id_df.shape"
   ]
  },
  {
   "cell_type": "code",
   "execution_count": null,
   "id": "0d907eed",
   "metadata": {},
   "outputs": [],
   "source": [
    "# let's get the groups! can we aggregate this?"
   ]
  },
  {
   "cell_type": "code",
   "execution_count": null,
   "id": "d5ff5023",
   "metadata": {},
   "outputs": [],
   "source": [
    "col_names = ['sort_order', 'ord_street_name', 'ord_street_type', 'ord_stname_type', 'group_id', 'city_sector']\n",
    "agg_id_df = id_df[col_names].groupby(col_names[:-1]).agg(city_sector_group = ('city_sector', lambda x: '_'.join(sorted(set(x)))),\n",
    "                                                        n_groups = ('city_sector', lambda x: len(set(x)))).reset_index()"
   ]
  },
  {
   "cell_type": "code",
   "execution_count": null,
   "id": "f9f6f834",
   "metadata": {},
   "outputs": [],
   "source": [
    "agg_id_df.head()"
   ]
  },
  {
   "cell_type": "code",
   "execution_count": null,
   "id": "f2dac15f",
   "metadata": {},
   "outputs": [],
   "source": [
    "agg_id_df['city_sector_group'].unique().shape"
   ]
  },
  {
   "cell_type": "code",
   "execution_count": null,
   "id": "5652c3f4",
   "metadata": {},
   "outputs": [],
   "source": [
    "agg_id_df.loc[agg_id_df['n_groups'] > 1, ].shape"
   ]
  },
  {
   "cell_type": "code",
   "execution_count": null,
   "id": "9fc3a8cb",
   "metadata": {},
   "outputs": [],
   "source": [
    "agg_id_df.head()"
   ]
  },
  {
   "cell_type": "code",
   "execution_count": null,
   "id": "222a09a1",
   "metadata": {},
   "outputs": [],
   "source": [
    "# import the revised city_sector_group"
   ]
  },
  {
   "cell_type": "code",
   "execution_count": null,
   "id": "ea0962aa",
   "metadata": {},
   "outputs": [],
   "source": [
    "fpn = os.path.join(rc.INPUT_FILE_PATH, 'city_sector_check_working.xlsx')"
   ]
  },
  {
   "cell_type": "code",
   "execution_count": null,
   "id": "4e99a54f",
   "metadata": {},
   "outputs": [],
   "source": [
    "cpg_df = pd.read_excel(io = fpn)"
   ]
  },
  {
   "cell_type": "code",
   "execution_count": null,
   "id": "fca96a22",
   "metadata": {},
   "outputs": [],
   "source": [
    "# build a row selector. Less code!\n",
    "row_select = cpg_df['city_sector_group_revised'].isna()"
   ]
  },
  {
   "cell_type": "code",
   "execution_count": null,
   "id": "fd6636f5",
   "metadata": {},
   "outputs": [],
   "source": [
    "cpg_df.loc[row_select, 'city_sector_group_revised'] = cpg_df.loc[row_select, 'city_sector_group']"
   ]
  },
  {
   "cell_type": "code",
   "execution_count": null,
   "id": "7b474025",
   "metadata": {},
   "outputs": [],
   "source": [
    "cpg_df.head()"
   ]
  },
  {
   "cell_type": "code",
   "execution_count": null,
   "id": "3f579003",
   "metadata": {},
   "outputs": [],
   "source": [
    "agg_id_df.head()"
   ]
  },
  {
   "cell_type": "code",
   "execution_count": null,
   "id": "c008c969",
   "metadata": {},
   "outputs": [],
   "source": [
    "test_join = pd.merge(left = agg_id_df, right = cpg_df, how = 'outer', indicator=True)"
   ]
  },
  {
   "cell_type": "code",
   "execution_count": null,
   "id": "15426a65",
   "metadata": {},
   "outputs": [],
   "source": [
    "test_join['_merge'].value_counts()"
   ]
  },
  {
   "cell_type": "code",
   "execution_count": null,
   "id": "269800b5",
   "metadata": {},
   "outputs": [],
   "source": [
    "test_join.head()"
   ]
  },
  {
   "cell_type": "code",
   "execution_count": null,
   "id": "764449b6",
   "metadata": {},
   "outputs": [],
   "source": [
    "agg_id_df = test_join.drop(labels = ['city_sector_group', '_merge'], axis = 1)"
   ]
  },
  {
   "cell_type": "code",
   "execution_count": null,
   "id": "dea7f3cf",
   "metadata": {},
   "outputs": [],
   "source": [
    "hey_what_is_na(df = agg_id_df)    "
   ]
  },
  {
   "cell_type": "code",
   "execution_count": null,
   "id": "097fe221",
   "metadata": {},
   "outputs": [],
   "source": [
    "test_join = pd.merge(left = gdf, right = agg_id_df, how = 'outer', indicator=True)"
   ]
  },
  {
   "cell_type": "code",
   "execution_count": null,
   "id": "31a44648",
   "metadata": {},
   "outputs": [],
   "source": [
    "test_join['_merge'].value_counts()"
   ]
  },
  {
   "cell_type": "code",
   "execution_count": null,
   "id": "da704166",
   "metadata": {},
   "outputs": [],
   "source": [
    "test_join['city_sector_group'] = test_join['city_sector_group_revised']"
   ]
  },
  {
   "cell_type": "code",
   "execution_count": null,
   "id": "0f10a8a9",
   "metadata": {},
   "outputs": [],
   "source": [
    "gdf = test_join.drop(labels = ['_merge', 'city_sector_group_revised', 'n_groups'], axis = 1)"
   ]
  },
  {
   "cell_type": "code",
   "execution_count": null,
   "id": "0cbbf4b2",
   "metadata": {},
   "outputs": [],
   "source": [
    "gdf.head()"
   ]
  },
  {
   "cell_type": "code",
   "execution_count": null,
   "id": "acf2a857",
   "metadata": {},
   "outputs": [],
   "source": [
    "gdf.columns"
   ]
  },
  {
   "cell_type": "code",
   "execution_count": null,
   "id": "045777af",
   "metadata": {},
   "outputs": [],
   "source": [
    "gdf['ord_stname_type_group'] = gdf['ord_stname_type'] + ' ' + gdf['city_sector_group']"
   ]
  },
  {
   "cell_type": "code",
   "execution_count": null,
   "id": "84dd22f1",
   "metadata": {},
   "outputs": [],
   "source": [
    "# export to disk\n",
    "write_gdf(gdf = gdf, output_file_path=rc.OUTPUT_FILE_PATH, output_file_name=rc.S03_CLEANED_STREET_GROUP_OUT_FILE_NAME)"
   ]
  },
  {
   "cell_type": "code",
   "execution_count": null,
   "id": "93048a89",
   "metadata": {},
   "outputs": [],
   "source": []
  }
 ],
 "metadata": {
  "kernelspec": {
   "display_name": "analysis",
   "language": "python",
   "name": "python3"
  },
  "language_info": {
   "codemirror_mode": {
    "name": "ipython",
    "version": 3
   },
   "file_extension": ".py",
   "mimetype": "text/x-python",
   "name": "python",
   "nbconvert_exporter": "python",
   "pygments_lexer": "ipython3",
   "version": "3.12.7"
  }
 },
 "nbformat": 4,
 "nbformat_minor": 5
}
