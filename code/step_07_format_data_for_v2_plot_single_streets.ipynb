{
 "cells": [
  {
   "cell_type": "markdown",
   "id": "fed9e25b-c5b9-4aee-89cd-15a7da3945c0",
   "metadata": {},
   "source": [
    "# Part 07: Identify streets that cross sectors, plot individual streets\n",
    "michael babb  \n",
    "2025 02 18 "
   ]
  },
  {
   "cell_type": "code",
   "execution_count": null,
   "id": "e88ca8b2-b75d-4e72-8fc7-65c4cea61cde",
   "metadata": {},
   "outputs": [],
   "source": [
    "# standard\n",
    "import os\n",
    "import re\n",
    "import collections"
   ]
  },
  {
   "cell_type": "code",
   "execution_count": null,
   "id": "0778d9a5-0c62-4724-be28-c21598d23b6f",
   "metadata": {},
   "outputs": [],
   "source": [
    "# external\n",
    "import geopandas as gpd\n",
    "import matplotlib as mpl\n",
    "from matplotlib.gridspec import GridSpec\n",
    "import matplotlib.pyplot as plt\n",
    "import numpy as np\n",
    "import pandas as pd\n",
    "import seaborn as sns"
   ]
  },
  {
   "cell_type": "code",
   "execution_count": null,
   "id": "2fc61400-c637-4828-820d-56c2cdd14942",
   "metadata": {},
   "outputs": [],
   "source": [
    "# custom\n",
    "import run_constants as rc\n",
    "from utils import *"
   ]
  },
  {
   "cell_type": "code",
   "execution_count": null,
   "id": "47a873e8",
   "metadata": {},
   "outputs": [],
   "source": [
    "# process flow variables"
   ]
  },
  {
   "cell_type": "markdown",
   "id": "d56ea77e-ffd7-4326-b793-415f8a131ef2",
   "metadata": {},
   "source": [
    "# load the street network data"
   ]
  },
  {
   "cell_type": "code",
   "execution_count": null,
   "id": "c9bf0f01",
   "metadata": {},
   "outputs": [],
   "source": [
    "rc.S03_SND_WORKING_IN_FILE_NAME"
   ]
  },
  {
   "cell_type": "code",
   "execution_count": null,
   "id": "ddf62724-9105-44c9-b983-e4f520328fa9",
   "metadata": {},
   "outputs": [],
   "source": [
    "# load the list of streets - this is before any work is done to compute the missing segments. \n",
    "fpn = os.path.join(rc.OUTPUT_FILE_PATH, rc.S03_SND_WORKING_IN_FILE_NAME)"
   ]
  },
  {
   "cell_type": "code",
   "execution_count": null,
   "id": "2cbdb5c1-c973-4882-b442-cf5396e90d3e",
   "metadata": {},
   "outputs": [],
   "source": [
    "gdf = gpd.read_file(filename = fpn)"
   ]
  },
  {
   "cell_type": "code",
   "execution_count": null,
   "id": "ce02bdf0-a0ca-46a5-bf8f-54b576ee2de7",
   "metadata": {},
   "outputs": [],
   "source": [
    "gdf.columns"
   ]
  },
  {
   "cell_type": "code",
   "execution_count": null,
   "id": "0b203ee7-3a98-4f02-970b-b9d463918afe",
   "metadata": {},
   "outputs": [],
   "source": [
    "gdf['n_roads'] = int(1)"
   ]
  },
  {
   "cell_type": "code",
   "execution_count": null,
   "id": "53f3d75e",
   "metadata": {},
   "outputs": [],
   "source": [
    "\n",
    "gdf['ord_stname_concat'].unique().shape"
   ]
  },
  {
   "cell_type": "code",
   "execution_count": null,
   "id": "497b9c41",
   "metadata": {},
   "outputs": [],
   "source": [
    "gdf['ord_stname_unique'].unique().shape"
   ]
  },
  {
   "cell_type": "markdown",
   "id": "d5a06e0f",
   "metadata": {},
   "source": [
    "# group data by street type for use in version 2.0"
   ]
  },
  {
   "cell_type": "code",
   "execution_count": null,
   "id": "84cd647f",
   "metadata": {},
   "outputs": [],
   "source": [
    "col_names = ['ord_street_name', 'ord_street_type', 'ord_stname_concat','ord_stname_unique',  'city_sector']\n",
    "st_name_type_df = gdf[col_names].drop_duplicates()"
   ]
  },
  {
   "cell_type": "code",
   "execution_count": null,
   "id": "ee9aabe3",
   "metadata": {},
   "outputs": [],
   "source": [
    "my_counter = collections.Counter(st_name_type_df['ord_stname_unique'])\n"
   ]
  },
  {
   "cell_type": "code",
   "execution_count": null,
   "id": "2560d6d5",
   "metadata": {},
   "outputs": [],
   "source": [
    "my_counter.most_common()"
   ]
  },
  {
   "cell_type": "code",
   "execution_count": null,
   "id": "60f6479b",
   "metadata": {},
   "outputs": [],
   "source": [
    "# the number of unique streets\n",
    "st_name_type_df.shape"
   ]
  },
  {
   "cell_type": "code",
   "execution_count": null,
   "id": "72e855f9",
   "metadata": {},
   "outputs": [],
   "source": [
    "st_name_type_df = st_name_type_df.sort_values(by = ['ord_street_name', 'ord_street_type', 'ord_stname_concat'])"
   ]
  },
  {
   "cell_type": "code",
   "execution_count": null,
   "id": "808de9d6",
   "metadata": {},
   "outputs": [],
   "source": [
    "st_name_type_df.head(n=10)"
   ]
  },
  {
   "cell_type": "code",
   "execution_count": null,
   "id": "6310b146",
   "metadata": {},
   "outputs": [],
   "source": [
    "# make some ids - ord_street_name\n",
    "osn_df = st_name_type_df['ord_street_name'].drop_duplicates().to_frame().sort_values(by = 'ord_street_name').reset_index(drop = True)\n",
    "osn_df['osn_id'] = range(0, osn_df.shape[0])\n",
    "osn_df.head()"
   ]
  },
  {
   "cell_type": "code",
   "execution_count": null,
   "id": "ee9629f2",
   "metadata": {},
   "outputs": [],
   "source": [
    "# ord_street_name and ord_street_type\n",
    "col_names = ['ord_street_name', 'ord_street_type']\n",
    "osn_ost_df = st_name_type_df[col_names].drop_duplicates().sort_values(by = col_names).reset_index(drop = True)\n",
    "osn_ost_df['osn_ost'] = osn_ost_df['ord_street_name'] + ' ' + osn_ost_df['ord_street_type']\n",
    "osn_ost_df['osn_ost_id'] = range(0, osn_ost_df.shape[0])\n",
    "osn_ost_df.head()\n"
   ]
  },
  {
   "cell_type": "code",
   "execution_count": null,
   "id": "36dcb242",
   "metadata": {},
   "outputs": [],
   "source": [
    "# ord_stname_concat\n",
    "ostc_df = st_name_type_df['ord_stname_concat'].drop_duplicates().to_frame().sort_values(by = 'ord_stname_concat').reset_index(drop = True)\n",
    "ostc_df['ostc_id'] = range(0, ostc_df.shape[0])\n",
    "ostc_df.head()\n"
   ]
  },
  {
   "cell_type": "code",
   "execution_count": null,
   "id": "21ce11c7",
   "metadata": {},
   "outputs": [],
   "source": [
    "# ord_stname_unique \n",
    "ostu_df = st_name_type_df['ord_stname_unique'].drop_duplicates().to_frame().sort_values(by = 'ord_stname_unique').reset_index(drop = True)\n",
    "ostu_df['ostu_id'] = range(0, ostu_df.shape[0])\n",
    "ostu_df.head()"
   ]
  },
  {
   "cell_type": "code",
   "execution_count": null,
   "id": "ba1a6e69",
   "metadata": {},
   "outputs": [],
   "source": [
    "# join to get the id values\n",
    "st_name_type_df = pd.merge(left = st_name_type_df, right = osn_df)\n",
    "st_name_type_df = pd.merge(left = st_name_type_df, right = osn_ost_df)\n",
    "st_name_type_df = pd.merge(left = st_name_type_df, right = ostc_df)\n",
    "st_name_type_df = pd.merge(left = st_name_type_df, right = ostu_df)"
   ]
  },
  {
   "cell_type": "code",
   "execution_count": null,
   "id": "dd1882b6",
   "metadata": {},
   "outputs": [],
   "source": [
    "st_name_type_df.shape"
   ]
  },
  {
   "cell_type": "code",
   "execution_count": null,
   "id": "653aa22c",
   "metadata": {},
   "outputs": [],
   "source": [
    "st_name_type_df.head()"
   ]
  },
  {
   "cell_type": "code",
   "execution_count": null,
   "id": "3251b60a",
   "metadata": {},
   "outputs": [],
   "source": [
    "st_name_type_df['ord_street_type'].unique()"
   ]
  },
  {
   "cell_type": "code",
   "execution_count": null,
   "id": "6994ede6",
   "metadata": {},
   "outputs": [],
   "source": [
    "st_name_type_df['city_sector'].unique()"
   ]
  },
  {
   "cell_type": "code",
   "execution_count": null,
   "id": "6a2ff16c",
   "metadata": {},
   "outputs": [],
   "source": [
    "check = st_name_type_df.loc[st_name_type_df['city_sector'] == 'WB', ]"
   ]
  },
  {
   "cell_type": "code",
   "execution_count": null,
   "id": "23770638",
   "metadata": {},
   "outputs": [],
   "source": [
    "check.head()"
   ]
  },
  {
   "cell_type": "code",
   "execution_count": null,
   "id": "b647f1ea",
   "metadata": {},
   "outputs": [],
   "source": [
    "# let's connect the ord_street_name and the ord_street_type\n",
    "st_name_type_df['osn_ost'].unique().shape"
   ]
  },
  {
   "cell_type": "code",
   "execution_count": null,
   "id": "88eb3eff",
   "metadata": {},
   "outputs": [],
   "source": [
    "# LET'S COUNT HOW MANY STREETS WE NEED TO PLOT AND MANUALLY REVIEW"
   ]
  },
  {
   "cell_type": "code",
   "execution_count": null,
   "id": "2bc35c74",
   "metadata": {},
   "outputs": [],
   "source": [
    "st_name_type_df['n_roads'] = int(1)"
   ]
  },
  {
   "cell_type": "code",
   "execution_count": null,
   "id": "9947a3af",
   "metadata": {},
   "outputs": [],
   "source": [
    "st_name_type_df.columns"
   ]
  },
  {
   "cell_type": "code",
   "execution_count": null,
   "id": "98e51073",
   "metadata": {},
   "outputs": [],
   "source": [
    "pv_df = pd.pivot_table(data = st_name_type_df, values = ['n_roads'],\n",
    "                          index = ['ord_street_name', 'ord_street_type'],\n",
    "                          columns = ['city_sector'], aggfunc='sum', fill_value=0,\n",
    "                          margins=True)"
   ]
  },
  {
   "cell_type": "code",
   "execution_count": null,
   "id": "4475e233",
   "metadata": {},
   "outputs": [],
   "source": [
    "pv_df.head()"
   ]
  },
  {
   "cell_type": "code",
   "execution_count": null,
   "id": "88478901",
   "metadata": {},
   "outputs": [],
   "source": [
    "# clean up column names\n",
    "pv_df.columns = [cn[1] for cn in pv_df.columns]"
   ]
  },
  {
   "cell_type": "code",
   "execution_count": null,
   "id": "801044af",
   "metadata": {},
   "outputs": [],
   "source": [
    "pv_df.columns"
   ]
  },
  {
   "cell_type": "code",
   "execution_count": null,
   "id": "f6cf030b",
   "metadata": {},
   "outputs": [],
   "source": [
    "pv_df = pv_df.reset_index()"
   ]
  },
  {
   "cell_type": "code",
   "execution_count": null,
   "id": "ef4c8179",
   "metadata": {},
   "outputs": [],
   "source": [
    "pv_df.tail()"
   ]
  },
  {
   "cell_type": "code",
   "execution_count": null,
   "id": "a8bbc058",
   "metadata": {},
   "outputs": [],
   "source": [
    "pv_df.shape"
   ]
  },
  {
   "cell_type": "code",
   "execution_count": null,
   "id": "c2952609",
   "metadata": {},
   "outputs": [],
   "source": [
    "# grouping by ord_street_name and ord_street_type tells us the number of streets\n",
    "# there are across the city sectors\n",
    "# we only need to worry about streets that span at least two sectors\n",
    "osn_count_df = pv_df.loc[(pv_df['All'] >= 2), :].copy()"
   ]
  },
  {
   "cell_type": "code",
   "execution_count": null,
   "id": "6bcab0d2",
   "metadata": {},
   "outputs": [],
   "source": [
    "# drop the All row\n",
    "osn_count_df = osn_count_df.loc[osn_count_df['ord_street_name'] != 'All', :]"
   ]
  },
  {
   "cell_type": "code",
   "execution_count": null,
   "id": "f099c35a",
   "metadata": {},
   "outputs": [],
   "source": [
    "osn_count_df.head()"
   ]
  },
  {
   "cell_type": "code",
   "execution_count": null,
   "id": "2fde2efc",
   "metadata": {},
   "outputs": [],
   "source": [
    "# melt, to reshape\n",
    "osnt_df = pd.melt(frame = osn_count_df, id_vars = ['ord_street_name', 'ord_street_type'],var_name='city_sector', value_name = 'n_roads')"
   ]
  },
  {
   "cell_type": "code",
   "execution_count": null,
   "id": "ee773ab7",
   "metadata": {},
   "outputs": [],
   "source": [
    "# drop zero records\n",
    "osnt_df = osnt_df.loc[(osnt_df['n_roads'] > 0), :].copy()"
   ]
  },
  {
   "cell_type": "code",
   "execution_count": null,
   "id": "08b5f2d8",
   "metadata": {},
   "outputs": [],
   "source": [
    "osnt_df.head()"
   ]
  },
  {
   "cell_type": "code",
   "execution_count": null,
   "id": "a71ed396",
   "metadata": {},
   "outputs": [],
   "source": [
    "# the osnt_df is effectively the same shape as the input gdf, but by pivoting we\n",
    "# can very easily count the number of roads that span multiple sectors by using\n",
    "# built-in tools. "
   ]
  },
  {
   "cell_type": "code",
   "execution_count": null,
   "id": "f33269a8",
   "metadata": {},
   "outputs": [],
   "source": [
    "osnt_df = osnt_df.loc[(osnt_df['city_sector'] != 'All'), :].copy()"
   ]
  },
  {
   "cell_type": "code",
   "execution_count": null,
   "id": "dd2719ea",
   "metadata": {},
   "outputs": [],
   "source": [
    "# sort it...\n",
    "osnt_df = osnt_df.sort_values(by = ['ord_street_name', 'ord_street_type', 'city_sector'])"
   ]
  },
  {
   "cell_type": "code",
   "execution_count": null,
   "id": "2cc6c6c6",
   "metadata": {},
   "outputs": [],
   "source": [
    "# we don't need this column\n",
    "osnt_df = osnt_df.drop(labels = ['n_roads'], axis = 1)"
   ]
  },
  {
   "cell_type": "code",
   "execution_count": null,
   "id": "316fbb63",
   "metadata": {},
   "outputs": [],
   "source": [
    "osnt_df.head()"
   ]
  },
  {
   "cell_type": "code",
   "execution_count": null,
   "id": "f6d4353c",
   "metadata": {},
   "outputs": [],
   "source": [
    "# get the numeric value of the streets, for the sort order...\n",
    "osnt_df['sort_order'] = osnt_df['ord_street_name'].map(get_sort_order)"
   ]
  },
  {
   "cell_type": "code",
   "execution_count": null,
   "id": "22afd39c",
   "metadata": {},
   "outputs": [],
   "source": [
    "osnt_df.head()"
   ]
  },
  {
   "cell_type": "code",
   "execution_count": null,
   "id": "3c2e25aa",
   "metadata": {},
   "outputs": [],
   "source": [
    "# reorder\n",
    "col_names = ['sort_order', 'ord_street_name', 'ord_street_type', 'city_sector']\n",
    "osnt_df = osnt_df[col_names].sort_values(by = col_names[:4])"
   ]
  },
  {
   "cell_type": "code",
   "execution_count": null,
   "id": "d7dab7cb",
   "metadata": {},
   "outputs": [],
   "source": [
    "# set an index - this is helpful for when we write this to excel \n",
    "# easier to read for manual review\n",
    "osnt_df = osnt_df.set_index(keys = col_names[:4])"
   ]
  },
  {
   "cell_type": "code",
   "execution_count": null,
   "id": "766b6c46",
   "metadata": {},
   "outputs": [],
   "source": [
    "osnt_df.head()"
   ]
  },
  {
   "cell_type": "code",
   "execution_count": null,
   "id": "67b357a4",
   "metadata": {},
   "outputs": [],
   "source": [
    "osnt_df.shape"
   ]
  },
  {
   "cell_type": "code",
   "execution_count": null,
   "id": "bfbd7a09",
   "metadata": {},
   "outputs": [],
   "source": [
    "osnt_df.columns"
   ]
  },
  {
   "cell_type": "code",
   "execution_count": null,
   "id": "97c82ce1",
   "metadata": {},
   "outputs": [],
   "source": [
    "# save it to excel\n",
    "ofpn = os.path.join(rc.ANALYSIS_OUTPUT_FILE_PATH, rc.S07_STREET_GROUP_OUT_FILE_NAME)\n",
    "osnt_df.to_excel(excel_writer=ofpn)\n"
   ]
  },
  {
   "cell_type": "markdown",
   "id": "8baaa84c",
   "metadata": {},
   "source": [
    "# make a simple plot of each street. "
   ]
  },
  {
   "cell_type": "code",
   "execution_count": null,
   "id": "db833e6e",
   "metadata": {},
   "outputs": [],
   "source": [
    "# each plot will feature the city sector boundaries as created by the convex-hull \n",
    "# in step 2 and the different road segments for each street."
   ]
  },
  {
   "cell_type": "code",
   "execution_count": null,
   "id": "5b14fd52",
   "metadata": {},
   "outputs": [],
   "source": [
    "# use the same colors for each city sector\n",
    "cdm = {}\n",
    "dir_list = ['CNTR', 'E', 'N', 'NE', 'NW', 'S', 'SW', 'W']\n",
    "for idir, dir_value in enumerate(dir_list):\n",
    "    cdm[dir_value] = mpl.colormaps[\"Dark2\"].colors[idir]\n",
    "\n",
    "my_cmap = mpl.colors.ListedColormap([cdm[c] for c in dir_list])"
   ]
  },
  {
   "cell_type": "code",
   "execution_count": null,
   "id": "42a44f0b",
   "metadata": {},
   "outputs": [],
   "source": [
    "# plot bounds to use across each plot\n",
    "bounds = [-122.4197794277490061,47.4803548409661005, -122.2200188105690017,47.7341482423694004]"
   ]
  },
  {
   "cell_type": "code",
   "execution_count": null,
   "id": "5088cb8a",
   "metadata": {},
   "outputs": [],
   "source": [
    "# load the boundaries of the city sectors\n",
    "ifpn = os.path.join(rc.OUTPUT_FILE_PATH, rc.S02_CITY_SECTORS_OUT_FILE_NAME)\n",
    "cs_gdf = gpd.read_file(filename=ifpn)"
   ]
  },
  {
   "cell_type": "code",
   "execution_count": null,
   "id": "ee4a6a75",
   "metadata": {},
   "outputs": [],
   "source": [
    "osnt_df = osnt_df.reset_index()"
   ]
  },
  {
   "cell_type": "code",
   "execution_count": null,
   "id": "b0a81d6f",
   "metadata": {},
   "outputs": [],
   "source": [
    "osnt_df.head()"
   ]
  },
  {
   "cell_type": "code",
   "execution_count": null,
   "id": "a9d15f03",
   "metadata": {},
   "outputs": [],
   "source": [
    "osn_ost_df.shape"
   ]
  },
  {
   "cell_type": "code",
   "execution_count": null,
   "id": "6a1a78ff",
   "metadata": {},
   "outputs": [],
   "source": [
    "wosnt_df = osnt_df[['ord_street_name', 'ord_street_type']].drop_duplicates()"
   ]
  },
  {
   "cell_type": "code",
   "execution_count": null,
   "id": "ca2837cf",
   "metadata": {},
   "outputs": [],
   "source": [
    "wosnt_df.shape"
   ]
  },
  {
   "cell_type": "code",
   "execution_count": null,
   "id": "97e37f8d",
   "metadata": {},
   "outputs": [],
   "source": [
    "t_wosnt_df = wosnt_df.iloc[1:10]"
   ]
  },
  {
   "cell_type": "code",
   "execution_count": null,
   "id": "f6539b6d",
   "metadata": {},
   "outputs": [],
   "source": [
    "t_wosnt_df.head()"
   ]
  },
  {
   "cell_type": "code",
   "execution_count": null,
   "id": "6b780b52",
   "metadata": {},
   "outputs": [],
   "source": [
    "wosnt_df.shape"
   ]
  },
  {
   "cell_type": "code",
   "execution_count": null,
   "id": "e0d6ac69",
   "metadata": {},
   "outputs": [],
   "source": [
    "make_plots = False\n",
    "output_file_name_list = []\n",
    "if make_plots:\n",
    "    for irow, row in wosnt_df.iterrows():\n",
    "        osn = row['ord_street_name']\n",
    "        ost = row['ord_street_type']\n",
    "\n",
    "\n",
    "        output_file_name = f\"{osn}_{ost}.png\"\n",
    "        ofpn = os.path.join(rc.S06_PLOT_OUTPUT_FILE_PATH, output_file_name)\n",
    "        print(ofpn)\n",
    "        output_file_name_list.append(output_file_name)\n",
    "\n",
    "        # now, let's make a map...\n",
    "        wgdf = gdf.loc[(gdf['ord_street_name'] == osn) &\n",
    "                    (gdf['ord_street_type'] == ost), :]\n",
    "        to_draw = wgdf[['city_sector', 'geometry']].dissolve(by = 'city_sector', as_index = False)\n",
    "        to_draw['coords'] = to_draw['geometry'].map(lambda x: x.centroid.coords[0])\n",
    "        fig = plt.figure(layout = 'constrained', figsize = (5, 10))\n",
    "        gs = GridSpec(1,1, figure = fig, height_ratios = [1])\n",
    "        ax1 = fig.add_subplot(gs[0,0])\n",
    "        ax1.set_xlim(bounds[0], bounds[2])\n",
    "        ax1.set_ylim(bounds[1], bounds[3])\n",
    "        cs_gdf.plot(ax = ax1, column = 'city_sector', alpha = .2)\n",
    "        to_draw.plot(ax = ax1, column = 'city_sector', cmap = my_cmap,  linewidth = 5, legend = True)\n",
    "\n",
    "        for irrow, row in to_draw.iterrows():    \n",
    "            ax1.annotate(text=row['city_sector'], xy=row['coords'], fontsize = 16 )\n",
    "\n",
    "        ax1.set_axis_off()\n",
    "\n",
    "        osn = wgdf['ord_street_name'].unique().tolist()[0]\n",
    "        ost = wgdf['ord_street_type'].unique().tolist()[0]\n",
    "        my_title = f\"Street Name: {osn} {ost}\"\n",
    "        plt.title(label = my_title)\n",
    "\n",
    "        #plt.show()\n",
    "\n",
    "        fig.savefig(fname = ofpn)\n",
    "        plt.close()"
   ]
  },
  {
   "cell_type": "markdown",
   "id": "3a76d666",
   "metadata": {},
   "source": [
    "# manually review each plot to identify the groups within each street."
   ]
  },
  {
   "cell_type": "markdown",
   "id": "0d3cb75a",
   "metadata": {},
   "source": [
    "In general, avenues run north-south and streets run east-west. \n",
    "Avenues can be grouped by:\n",
    "* NE, E, CNTR, S  \n",
    "* N, CNTR, S\n",
    "* NW, W, SW\n",
    "\n",
    "Streets can be be grouped by:\n",
    "* NW, N, NE\n",
    "* W, N, CNTR, E\n",
    "* SW, S"
   ]
  },
  {
   "cell_type": "markdown",
   "id": "780cc84f",
   "metadata": {},
   "source": [
    "# BONUS: is every state name represented as a street?"
   ]
  },
  {
   "cell_type": "code",
   "execution_count": null,
   "id": "9790c832",
   "metadata": {},
   "outputs": [],
   "source": [
    "fpn = os.path.join(rc.INPUT_FILE_PATH, 'state_name.csv')"
   ]
  },
  {
   "cell_type": "code",
   "execution_count": null,
   "id": "e5e12cb9",
   "metadata": {},
   "outputs": [],
   "source": [
    "state_df = pd.read_csv(filepath_or_buffer=fpn)"
   ]
  },
  {
   "cell_type": "code",
   "execution_count": null,
   "id": "c0c2706a",
   "metadata": {},
   "outputs": [],
   "source": [
    "state_df.head()"
   ]
  },
  {
   "cell_type": "code",
   "execution_count": null,
   "id": "3775595c",
   "metadata": {},
   "outputs": [],
   "source": [
    "# build a set of the state names after cleaning and converting to lower case\n",
    "state_name_set =  set([sn.strip().lower() for sn in state_df['Name']])"
   ]
  },
  {
   "cell_type": "code",
   "execution_count": null,
   "id": "d26f463f",
   "metadata": {},
   "outputs": [],
   "source": [
    "len(state_name_set)"
   ]
  },
  {
   "cell_type": "code",
   "execution_count": null,
   "id": "d1099350",
   "metadata": {},
   "outputs": [],
   "source": [
    "# do the same for the street name after dropping the streets that start with a number.\n",
    "street_name_set = set(gdf.loc[-gdf['ord_street_name'].str[0].isin(list('0123456789')), 'ord_street_name'].str.lower().unique().tolist())"
   ]
  },
  {
   "cell_type": "code",
   "execution_count": null,
   "id": "89e76cae",
   "metadata": {},
   "outputs": [],
   "source": [
    "len(street_name_set)"
   ]
  },
  {
   "cell_type": "code",
   "execution_count": null,
   "id": "d3361f22",
   "metadata": {},
   "outputs": [],
   "source": [
    "test_intersection = state_name_set.intersection(street_name_set)"
   ]
  },
  {
   "cell_type": "code",
   "execution_count": null,
   "id": "7ee8b9d7",
   "metadata": {},
   "outputs": [],
   "source": [
    "len(test_intersection)"
   ]
  },
  {
   "cell_type": "code",
   "execution_count": null,
   "id": "9f169b3e",
   "metadata": {},
   "outputs": [],
   "source": [
    "# so, 20 states are representated... "
   ]
  },
  {
   "cell_type": "code",
   "execution_count": null,
   "id": "9b8cfa26",
   "metadata": {},
   "outputs": [],
   "source": [
    "test_intersection"
   ]
  },
  {
   "cell_type": "code",
   "execution_count": null,
   "id": "d9403947",
   "metadata": {},
   "outputs": [],
   "source": [
    "# what's not represented?\n",
    "state_name_set.difference(street_name_set)"
   ]
  },
  {
   "cell_type": "code",
   "execution_count": null,
   "id": "16e17259",
   "metadata": {},
   "outputs": [],
   "source": [
    "# what about states with directons in the name and DC?"
   ]
  },
  {
   "cell_type": "code",
   "execution_count": null,
   "id": "17bc5ee9",
   "metadata": {},
   "outputs": [],
   "source": [
    "'dakota' in street_name_set"
   ]
  },
  {
   "cell_type": "code",
   "execution_count": null,
   "id": "dd93504f",
   "metadata": {},
   "outputs": [],
   "source": [
    "'columbia' in street_name_set"
   ]
  },
  {
   "cell_type": "code",
   "execution_count": null,
   "id": "a1a7cf9b",
   "metadata": {},
   "outputs": [],
   "source": [
    "'virginia' in street_name_set"
   ]
  },
  {
   "cell_type": "code",
   "execution_count": null,
   "id": "dec646e5",
   "metadata": {},
   "outputs": [],
   "source": [
    "'carolina' in street_name_set"
   ]
  },
  {
   "cell_type": "code",
   "execution_count": null,
   "id": "11bee2f4",
   "metadata": {},
   "outputs": [],
   "source": [
    "# if we count Dakota as ND and Sd\n",
    "# columbia as Washington DC\n",
    "# Virginia as both VA and West Virginia\n",
    "# Carolina as both NC and SC\n",
    "# that brings us to: 26. \n",
    "# so, over half. That's kind of cool."
   ]
  }
 ],
 "metadata": {
  "kernelspec": {
   "display_name": "analysis",
   "language": "python",
   "name": "python3"
  },
  "language_info": {
   "codemirror_mode": {
    "name": "ipython",
    "version": 3
   },
   "file_extension": ".py",
   "mimetype": "text/x-python",
   "name": "python",
   "nbconvert_exporter": "python",
   "pygments_lexer": "ipython3",
   "version": "3.12.7"
  }
 },
 "nbformat": 4,
 "nbformat_minor": 5
}
