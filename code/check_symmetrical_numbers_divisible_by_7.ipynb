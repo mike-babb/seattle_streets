{
 "cells": [
  {
   "cell_type": "code",
   "execution_count": 1,
   "id": "2ca7185e-794c-4ca3-a4d2-ce6da615daa3",
   "metadata": {},
   "outputs": [],
   "source": [
    "import pandas as pd"
   ]
  },
  {
   "cell_type": "code",
   "execution_count": 23,
   "id": "c3955f4d-d225-4a19-be31-892a4461f2fb",
   "metadata": {},
   "outputs": [],
   "source": [
    "output_list = []\n",
    "bad_list = []\n",
    "for ii in range(100, 1000):\n",
    "    ii_str = str(ii)\n",
    "    cat_ii = int(ii_str + ii_str)\n",
    "    if cat_ii % 7 != 0:\n",
    "        # print(cat_ii)\n",
    "        bad_list.append(cat_ii)\n",
    "    output_list.append(cat_ii)\n",
    "\n",
    "\n",
    "\n",
    "\n"
   ]
  },
  {
   "cell_type": "code",
   "execution_count": 24,
   "id": "843f47ca-7b5d-44d7-831a-21556e708d02",
   "metadata": {},
   "outputs": [
    {
     "data": {
      "text/plain": [
       "900"
      ]
     },
     "execution_count": 24,
     "metadata": {},
     "output_type": "execute_result"
    }
   ],
   "source": [
    "len(output_list)"
   ]
  },
  {
   "cell_type": "code",
   "execution_count": 25,
   "id": "702a8ff8-2ce8-4f60-b2a5-b515feb50834",
   "metadata": {},
   "outputs": [
    {
     "data": {
      "text/plain": [
       "0"
      ]
     },
     "execution_count": 25,
     "metadata": {},
     "output_type": "execute_result"
    }
   ],
   "source": [
    "len(bad_list)"
   ]
  },
  {
   "cell_type": "code",
   "execution_count": 13,
   "id": "52fd031a-e2b2-4690-abf6-9c918de55252",
   "metadata": {},
   "outputs": [
    {
     "data": {
      "text/plain": [
       "[100100, 101101, 102102, 103103, 104104]"
      ]
     },
     "execution_count": 13,
     "metadata": {},
     "output_type": "execute_result"
    }
   ],
   "source": [
    "output_list[:5]"
   ]
  },
  {
   "cell_type": "code",
   "execution_count": 14,
   "id": "1ddfcbaa-5c08-448a-a3fc-6ae155339aa5",
   "metadata": {},
   "outputs": [
    {
     "data": {
      "text/plain": [
       "[995995, 996996, 997997, 998998, 999999]"
      ]
     },
     "execution_count": 14,
     "metadata": {},
     "output_type": "execute_result"
    }
   ],
   "source": [
    "output_list[-5:]"
   ]
  },
  {
   "cell_type": "code",
   "execution_count": null,
   "id": "9fd460c1-ce1d-442b-9415-993591122ec7",
   "metadata": {},
   "outputs": [],
   "source": []
  }
 ],
 "metadata": {
  "kernelspec": {
   "display_name": "Python 3 (ipykernel)",
   "language": "python",
   "name": "python3"
  },
  "language_info": {
   "codemirror_mode": {
    "name": "ipython",
    "version": 3
   },
   "file_extension": ".py",
   "mimetype": "text/x-python",
   "name": "python",
   "nbconvert_exporter": "python",
   "pygments_lexer": "ipython3",
   "version": "3.12.4"
  }
 },
 "nbformat": 4,
 "nbformat_minor": 5
}
