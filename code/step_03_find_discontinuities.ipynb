{
 "cells": [
  {
   "cell_type": "markdown",
   "id": "fed9e25b-c5b9-4aee-89cd-15a7da3945c0",
   "metadata": {},
   "source": [
    "# Part 03: Find the discontinuities in Seattle's streets\n",
    "michael babb  \n",
    "2024 11 24"
   ]
  },
  {
   "cell_type": "code",
   "execution_count": 1,
   "id": "e88ca8b2-b75d-4e72-8fc7-65c4cea61cde",
   "metadata": {},
   "outputs": [],
   "source": [
    "# standard\n",
    "import os"
   ]
  },
  {
   "cell_type": "code",
   "execution_count": 2,
   "id": "0778d9a5-0c62-4724-be28-c21598d23b6f",
   "metadata": {},
   "outputs": [],
   "source": [
    "# external\n",
    "import geopandas as gpd\n",
    "import networkx as nx\n",
    "import numpy as np\n",
    "import pandas as pd\n",
    "from shapely.geometry import LineString, Point"
   ]
  },
  {
   "cell_type": "code",
   "execution_count": 3,
   "id": "2fc61400-c637-4828-820d-56c2cdd14942",
   "metadata": {},
   "outputs": [],
   "source": [
    "# custom\n",
    "from geodataio.geo_operations import points2distance\n",
    "from utils import *"
   ]
  },
  {
   "cell_type": "markdown",
   "id": "d56ea77e-ffd7-4326-b793-415f8a131ef2",
   "metadata": {},
   "source": [
    "# load the working seattle street network data"
   ]
  },
  {
   "cell_type": "code",
   "execution_count": 4,
   "id": "d07cfb9b-9184-48d7-af77-035e2390d9e5",
   "metadata": {},
   "outputs": [],
   "source": [
    "# file path\n",
    "input_file_path = 'H:/project/seattle_streets/data/' \n",
    "output_file_path = 'H:/project/seattle_streets/data/'\n"
   ]
  },
  {
   "cell_type": "code",
   "execution_count": 5,
   "id": "3c1039f5-a281-4460-b65d-98a6ca2556b7",
   "metadata": {},
   "outputs": [],
   "source": [
    "file_name = 'Street_Network_Database_Seattle_working.gpkg'"
   ]
  },
  {
   "cell_type": "code",
   "execution_count": 6,
   "id": "ddf62724-9105-44c9-b983-e4f520328fa9",
   "metadata": {},
   "outputs": [],
   "source": [
    "fpn = os.path.join(input_file_path, file_name)"
   ]
  },
  {
   "cell_type": "code",
   "execution_count": 7,
   "id": "2cbdb5c1-c973-4882-b442-cf5396e90d3e",
   "metadata": {},
   "outputs": [],
   "source": [
    "gdf = gpd.read_file(filename = fpn)"
   ]
  },
  {
   "cell_type": "markdown",
   "id": "7ee171e0-b275-4f73-9ec5-e8a2a718d55d",
   "metadata": {},
   "source": [
    "# load the node data"
   ]
  },
  {
   "cell_type": "code",
   "execution_count": 8,
   "id": "a99446f1-9603-4f7f-80e2-a2d8a10f8aa6",
   "metadata": {},
   "outputs": [],
   "source": [
    "input_file_name = 'Street_Network_Nodes.gpkg'"
   ]
  },
  {
   "cell_type": "code",
   "execution_count": 9,
   "id": "81e88fff-cc66-47fd-bc60-fb253a9f110f",
   "metadata": {},
   "outputs": [],
   "source": [
    "fpn = os.path.join(input_file_path, input_file_name)"
   ]
  },
  {
   "cell_type": "code",
   "execution_count": 10,
   "id": "e67fed54-4d3b-45ca-8a41-2f9e7103a699",
   "metadata": {},
   "outputs": [],
   "source": [
    "node_gdf = gpd.read_file(filename = fpn)"
   ]
  },
  {
   "cell_type": "code",
   "execution_count": 11,
   "id": "26bac731-425e-409f-bb41-c3a5d1a6bf2b",
   "metadata": {},
   "outputs": [
    {
     "data": {
      "text/html": [
       "<div>\n",
       "<style scoped>\n",
       "    .dataframe tbody tr th:only-of-type {\n",
       "        vertical-align: middle;\n",
       "    }\n",
       "\n",
       "    .dataframe tbody tr th {\n",
       "        vertical-align: top;\n",
       "    }\n",
       "\n",
       "    .dataframe thead th {\n",
       "        text-align: right;\n",
       "    }\n",
       "</style>\n",
       "<table border=\"1\" class=\"dataframe\">\n",
       "  <thead>\n",
       "    <tr style=\"text-align: right;\">\n",
       "      <th></th>\n",
       "      <th>node_id</th>\n",
       "      <th>geometry</th>\n",
       "    </tr>\n",
       "  </thead>\n",
       "  <tbody>\n",
       "    <tr>\n",
       "      <th>0</th>\n",
       "      <td>17740</td>\n",
       "      <td>POINT (-122.32287 47.52982)</td>\n",
       "    </tr>\n",
       "    <tr>\n",
       "      <th>1</th>\n",
       "      <td>11391</td>\n",
       "      <td>POINT (-122.32402 47.61849)</td>\n",
       "    </tr>\n",
       "    <tr>\n",
       "      <th>2</th>\n",
       "      <td>982</td>\n",
       "      <td>POINT (-122.29193 47.7649)</td>\n",
       "    </tr>\n",
       "    <tr>\n",
       "      <th>3</th>\n",
       "      <td>11695</td>\n",
       "      <td>POINT (-122.30782 47.61411)</td>\n",
       "    </tr>\n",
       "    <tr>\n",
       "      <th>4</th>\n",
       "      <td>6257</td>\n",
       "      <td>POINT (-122.38214 47.67456)</td>\n",
       "    </tr>\n",
       "  </tbody>\n",
       "</table>\n",
       "</div>"
      ],
      "text/plain": [
       "   node_id                     geometry\n",
       "0    17740  POINT (-122.32287 47.52982)\n",
       "1    11391  POINT (-122.32402 47.61849)\n",
       "2      982   POINT (-122.29193 47.7649)\n",
       "3    11695  POINT (-122.30782 47.61411)\n",
       "4     6257  POINT (-122.38214 47.67456)"
      ]
     },
     "execution_count": 11,
     "metadata": {},
     "output_type": "execute_result"
    }
   ],
   "source": [
    "node_gdf.head()"
   ]
  },
  {
   "cell_type": "code",
   "execution_count": 12,
   "id": "42a1ff85-d812-4f94-aff7-ad94f57cfba7",
   "metadata": {},
   "outputs": [],
   "source": [
    "node_gdf['node_id'] = node_gdf['node_id'].astype(int)"
   ]
  },
  {
   "cell_type": "code",
   "execution_count": 13,
   "id": "65c710c8-40db-4bc0-af3a-78c6c64e495b",
   "metadata": {},
   "outputs": [],
   "source": [
    "node_gdf['coords'] = node_gdf['geometry'].map(lambda x: x.coords[0])"
   ]
  },
  {
   "cell_type": "code",
   "execution_count": 14,
   "id": "ac7dff3c-6d52-4b80-b259-2214ef6c131a",
   "metadata": {},
   "outputs": [
    {
     "data": {
      "text/html": [
       "<div>\n",
       "<style scoped>\n",
       "    .dataframe tbody tr th:only-of-type {\n",
       "        vertical-align: middle;\n",
       "    }\n",
       "\n",
       "    .dataframe tbody tr th {\n",
       "        vertical-align: top;\n",
       "    }\n",
       "\n",
       "    .dataframe thead th {\n",
       "        text-align: right;\n",
       "    }\n",
       "</style>\n",
       "<table border=\"1\" class=\"dataframe\">\n",
       "  <thead>\n",
       "    <tr style=\"text-align: right;\">\n",
       "      <th></th>\n",
       "      <th>node_id</th>\n",
       "      <th>geometry</th>\n",
       "      <th>coords</th>\n",
       "    </tr>\n",
       "  </thead>\n",
       "  <tbody>\n",
       "    <tr>\n",
       "      <th>0</th>\n",
       "      <td>17740</td>\n",
       "      <td>POINT (-122.32287 47.52982)</td>\n",
       "      <td>(-122.32287444824671, 47.529819957875)</td>\n",
       "    </tr>\n",
       "    <tr>\n",
       "      <th>1</th>\n",
       "      <td>11391</td>\n",
       "      <td>POINT (-122.32402 47.61849)</td>\n",
       "      <td>(-122.32401964037119, 47.61848906651073)</td>\n",
       "    </tr>\n",
       "    <tr>\n",
       "      <th>2</th>\n",
       "      <td>982</td>\n",
       "      <td>POINT (-122.29193 47.7649)</td>\n",
       "      <td>(-122.29192836110747, 47.764904310419276)</td>\n",
       "    </tr>\n",
       "    <tr>\n",
       "      <th>3</th>\n",
       "      <td>11695</td>\n",
       "      <td>POINT (-122.30782 47.61411)</td>\n",
       "      <td>(-122.30781531879083, 47.61410595110372)</td>\n",
       "    </tr>\n",
       "    <tr>\n",
       "      <th>4</th>\n",
       "      <td>6257</td>\n",
       "      <td>POINT (-122.38214 47.67456)</td>\n",
       "      <td>(-122.38214200036303, 47.67455801597557)</td>\n",
       "    </tr>\n",
       "  </tbody>\n",
       "</table>\n",
       "</div>"
      ],
      "text/plain": [
       "   node_id                     geometry  \\\n",
       "0    17740  POINT (-122.32287 47.52982)   \n",
       "1    11391  POINT (-122.32402 47.61849)   \n",
       "2      982   POINT (-122.29193 47.7649)   \n",
       "3    11695  POINT (-122.30782 47.61411)   \n",
       "4     6257  POINT (-122.38214 47.67456)   \n",
       "\n",
       "                                      coords  \n",
       "0     (-122.32287444824671, 47.529819957875)  \n",
       "1   (-122.32401964037119, 47.61848906651073)  \n",
       "2  (-122.29192836110747, 47.764904310419276)  \n",
       "3   (-122.30781531879083, 47.61410595110372)  \n",
       "4   (-122.38214200036303, 47.67455801597557)  "
      ]
     },
     "execution_count": 14,
     "metadata": {},
     "output_type": "execute_result"
    }
   ],
   "source": [
    "node_gdf.head()"
   ]
  },
  {
   "cell_type": "code",
   "execution_count": 15,
   "id": "6b5cd5df-cf8d-4d55-8595-2c83b8140cd9",
   "metadata": {},
   "outputs": [
    {
     "data": {
      "text/plain": [
       "node_id        int32\n",
       "geometry    geometry\n",
       "coords        object\n",
       "dtype: object"
      ]
     },
     "execution_count": 15,
     "metadata": {},
     "output_type": "execute_result"
    }
   ],
   "source": [
    "node_gdf.dtypes"
   ]
  },
  {
   "cell_type": "code",
   "execution_count": 16,
   "id": "d26b04eb-ebbf-4b3c-a2a2-f7e5604a695a",
   "metadata": {},
   "outputs": [],
   "source": [
    "# zap this into a dictionary\n",
    "node_dict = {}\n",
    "for i, row in node_gdf.iterrows():\n",
    "    node_dict[row['node_id']] = row['coords']"
   ]
  },
  {
   "cell_type": "markdown",
   "id": "e3cc818f-24c9-4a7d-8f33-e516cde7dd55",
   "metadata": {},
   "source": [
    "# find missing segments"
   ]
  },
  {
   "cell_type": "code",
   "execution_count": 17,
   "id": "f66e8c67-7363-44b2-a812-f7c38d5619b2",
   "metadata": {},
   "outputs": [],
   "source": [
    "# create a weight variable from the gis_segment_length variable\n",
    "gdf['weight'] = gdf['gis_seg_length']"
   ]
  },
  {
   "cell_type": "code",
   "execution_count": 18,
   "id": "58d63e28-b0e3-4643-aa49-e14e498065fa",
   "metadata": {},
   "outputs": [],
   "source": [
    "# only select columns names used in subsequent steps\n",
    "col_names = ['f_intr_id',\n",
    "'t_intr_id',\n",
    "'snd_id',\n",
    "'snd_feacode',\n",
    "'gis_seg_length',\n",
    "'ord_street_name',\n",
    "'ord_street_type',\n",
    "'ord_stname_concat',\n",
    "'city_portion',\n",
    "'geometry',\n",
    "'weight']"
   ]
  },
  {
   "cell_type": "code",
   "execution_count": 19,
   "id": "a6d7fd5a-93e1-47de-96e0-29eebc7e4a21",
   "metadata": {},
   "outputs": [],
   "source": [
    "gdf = gdf[col_names].copy()"
   ]
  },
  {
   "cell_type": "code",
   "execution_count": 20,
   "id": "0fc359c3",
   "metadata": {},
   "outputs": [
    {
     "data": {
      "text/plain": [
       "50338"
      ]
     },
     "execution_count": 20,
     "metadata": {},
     "output_type": "execute_result"
    }
   ],
   "source": [
    "# what's the current max snd ID?\n",
    "gdf['snd_id'].max()"
   ]
  },
  {
   "cell_type": "code",
   "execution_count": 21,
   "id": "6dfe45d2",
   "metadata": {},
   "outputs": [
    {
     "data": {
      "text/plain": [
       "65536"
      ]
     },
     "execution_count": 21,
     "metadata": {},
     "output_type": "execute_result"
    }
   ],
   "source": [
    "2**16"
   ]
  },
  {
   "cell_type": "code",
   "execution_count": 36,
   "id": "e5fab916-d87a-4d24-b079-7ac593c4bfc7",
   "metadata": {
    "scrolled": true
   },
   "outputs": [
    {
     "name": "stdout",
     "output_type": "stream",
     "text": [
      "15TH AVE W\n"
     ]
    }
   ],
   "source": [
    "# here is where the discontinuities are identified and the \"missing\" segments are created.\n",
    "# a full run, without saving intermiedate data, takes less than a minute.\n",
    "# saving intermediate data takes an additional ~5 minutes.\n",
    "\n",
    "# save intermediate data for checking?\n",
    "\n",
    "write_intermediate = True\n",
    "\n",
    "# street_status\n",
    "# 0: complete street\n",
    "# 1: disconnected\n",
    "# 2: missing street\n",
    "\n",
    "# hold the output\n",
    "output_gdf_list = []\n",
    "shortest_added_path = []\n",
    "gdf['snd_group'] = int(0)\n",
    "snd_group_count = -1\n",
    "# use this value to start the ID number for the added segements.\n",
    "temp_snd_id = 2**16\n",
    "# get the list of unique names\n",
    "s_name = gdf['ord_stname_concat'].unique().tolist()\n",
    "# uncomment to test\n",
    "#s_name = ['7TH AVE N', 'W GALER ST']\n",
    "#s_name = ['W GALER ST']\n",
    "s_name = ['15TH AVE W']\n",
    "\n",
    "# the trouble_list, for lack of a beter name, are streets with parallel edges\n",
    "# we can record the names of these streets. \n",
    "trouble_list = []\n",
    "\n",
    "for sn in s_name[:None]:\n",
    "    print(sn)\n",
    "    \n",
    "    # subset the gdf by streetname\n",
    "    temp_gdf = gdf.loc[gdf['ord_stname_concat'] == sn, :].copy().reset_index(drop = True)\n",
    "    \n",
    "    # create the graph for a single street.\n",
    "    # For example, all streets names W GALER ST are a single graph.\n",
    "    # this is an undirected graph.\n",
    "    fg = nx.from_pandas_edgelist(df = temp_gdf, source = 'f_intr_id', target = 't_intr_id', edge_attr=True)\n",
    "    \n",
    "    if temp_gdf.shape[0] != fg.number_of_edges():\n",
    "        trouble_list.append(sn)            \n",
    "        \n",
    "        # subsequent steps need a single-edge graphs. \n",
    "        # Parallel edges are not allowed. \n",
    "        # so, let's return the edges last added to the graph.\n",
    "        mod_edge_list = []\n",
    "        for ed in fg.edges.data():\n",
    "            mod_edge_list.append(ed[2]['snd_id'])\n",
    "        temp_gdf = temp_gdf.loc[temp_gdf['snd_id'].isin(mod_edge_list), :]\n",
    "        \n",
    "    # get the list of nodes in the graph.\n",
    "    node_list = list(fg.nodes)\n",
    "    \n",
    "    # a list of the snd groups - this is necessary to match street segments to nodes\n",
    "    # nx.connected_components() identifies disconnected graphs\n",
    "    for cc in nx.connected_components(G = fg):\n",
    "        # cc is the sub graph\n",
    "        sub_graph = fg.subgraph(cc).copy()\n",
    "        # this is the edge data        \n",
    "        edge_data_list = sub_graph.edges.data()        \n",
    "        # this marks the street(s) in each sub graph\n",
    "        snd_id_list = []\n",
    "        for edl in edge_data_list:                        \n",
    "            snd_id_list.append(edl[2]['snd_id'])        \n",
    "        snd_group_count += 1\n",
    "        # this will update the gdf per street name with the groups of streets\n",
    "        temp_gdf.loc[temp_gdf['snd_id'].isin(snd_id_list), 'snd_group'] = snd_group_count     \n",
    "    \n",
    "    # this is the number of unique snd_groups\n",
    "    # also the number of discontinuities\n",
    "    snd_group_id_list = temp_gdf['snd_group'].unique()    \n",
    "    \n",
    "    n_discontinuities = len(snd_group_id_list)    \n",
    "    \n",
    "    if n_discontinuities > 1:\n",
    "        # process for the sub graphs\n",
    "        node_snd_group_dict = {}\n",
    "        # a node - an intersection - can have more than one street.\n",
    "        # we need to update the node snd group dict for every street\n",
    "        # identify each edge that each node is on\n",
    "        for ir, row in temp_gdf.iterrows():       \n",
    "            fn = row['f_intr_id']\n",
    "            tn = row['t_intr_id']\n",
    "            snd_group_id = row['snd_group']\n",
    "            node_snd_group_dict[fn] = snd_group_id\n",
    "            node_snd_group_dict[tn] = snd_group_id                                             \n",
    "        \n",
    "        # create a list of available edges - these are the missing segments\n",
    "        # these are formed from the non-edges of the graph.        \n",
    "        avail_edges = []\n",
    "\n",
    "        # dictionary to hold available edges\n",
    "        # let's only make the distance calculation once, yeah?\n",
    "        # it's a simple calculation, but even more simple to store it. \n",
    "        node_dist_dict = {}\n",
    "        # enumerate the non-edges\n",
    "        non_edge_count = 0\n",
    "        # the total number of non-edges\n",
    "        diff_non_edge_count = 0\n",
    "        # the number of non-edges that connect disconnected components\n",
    "        for ne in nx.non_edges(graph = fg):    \n",
    "            non_edge_count += 1\n",
    "            # ne is a tuple of from / to nodes.\n",
    "            # create available edges if the nodes are not on the same segment\n",
    "            # this will decrease the potential solution space\n",
    "            if node_snd_group_dict[ne[0]] != node_snd_group_dict[ne[1]]:\n",
    "                diff_non_edge_count += 1\n",
    "                # calculate the straight-line distance between two nodes. \n",
    "                # convert to feet to match the existing distance / weight variable\n",
    "                weight = points2distance(node_dict[ne[0]], node_dict[ne[1]], unit = 'miles') * 5280\n",
    "                # build the output tuple\n",
    "                output = (ne[0], ne[1], {'weight':weight})\n",
    "                # add to the distance dict\n",
    "                node_dist_dict[(ne[0], ne[1])] = weight \n",
    "                node_dist_dict[(ne[1], ne[0])] = weight \n",
    "                avail_edges.append(output)\n",
    "\n",
    "        # we just calculated all of the potential missing segments that span discontinuities\n",
    "        # nx.k_edge_augmentation() creates the missing edges in a graph by adding as\n",
    "        # few edges as possible. In a street network, with multiple disconnected\n",
    "        # components, there is really one way to minimally connect the disparate components\n",
    "        # to create full connectivity. And it's the shortest geographic segment in this case!\n",
    "        # weighted graph traversal works by accumulating as little weight as possible. \n",
    "        \n",
    "        # this will store the output\n",
    "        data_list = []\n",
    "        line_list = []\n",
    "        # once nx.k_edge_augmentation() finishes, it returns a generator with the added edges that\n",
    "        # ensure complete connectivity between all nodes.\n",
    "        augmented_edges = nx.k_edge_augmentation(G = fg, k = 1, avail = avail_edges, weight = 'weight')    \n",
    "        # enumerate the augmented edges\n",
    "        for i_ae, ae in enumerate(augmented_edges):\n",
    "            # unpack\n",
    "            fn, tn = ae            \n",
    "            # get the weight / distance of the added edge\n",
    "            weight = node_dist_dict[(fn, tn)] \n",
    "            # this is the output dictionary\n",
    "            # street name, integer indicating the snd_group, from node, to node, distance of the edge\n",
    "            temp_snd_id += 1\n",
    "            temp_data_list = [temp_snd_id, sn, i_ae, fn, tn, weight]\n",
    "            # now, let's create some geometry\n",
    "            temp_line = LineString([node_dict[fn], node_dict[tn]])\n",
    "            line_list.append(temp_line)\n",
    "            data_list.append(temp_data_list)\n",
    "\n",
    "        # compare the list of available edges to the list of chosen edges\n",
    "        # this isn't necessary to complete the edge augmentation, but it's nice to know how often\n",
    "        # added edges are always the shortest edges        \n",
    "        av_df = pd.DataFrame(data = avail_edges, columns = ['sn_id', 'en_id', 'weight_dict'])\n",
    "        av_df['dist'] = av_df['weight_dict'].map(lambda x: x['weight'])\n",
    "        av_df = av_df.drop(labels = 'weight_dict', axis = 1)\n",
    "        # rank distance - the lower the rank, the shorter the segment.\n",
    "        av_df['dist_rank'] = av_df['dist'].rank(method = 'dense')\n",
    "        \n",
    "        # build a gpd.GeoDataFrame - these are the \"missing\" segments\"\n",
    "        ms_gdf = gpd.GeoDataFrame(data = data_list,\n",
    "                                         columns = ['snd_id', 'ord_stname_concat', 'snd_group', 'sn_id', 'en_id', 'dist'],\n",
    "                                         geometry = line_list, crs = 'epsg:4326')\n",
    "        # these edges are not on the same street group\n",
    "        ms_gdf['street_status'] = int(2)\n",
    "\n",
    "        # this will track if there are any graphs with parallel edges.\n",
    "        if ms_gdf.empty:\n",
    "            trouble_list.append(sn)            \n",
    "        \n",
    "        # select where the rank is LTE than the number of records in the missing segement gdf\n",
    "        av_df = av_df.loc[av_df['dist_rank'] <= ms_gdf.shape[0], :]\n",
    "        \n",
    "        # if the sum of the distance of the added segments is the same, then only the\n",
    "        # shortest segments were added. If not, then other, longer, segments were added\n",
    "        # but that makes for less total distance traversed in the graph.\n",
    "        # So, how often does that happen.\n",
    "        shortest_tot_path = av_df['dist'].sum() == ms_gdf['dist'].sum()\n",
    "        shortest_added_path.append([sn, shortest_tot_path, n_discontinuities - 1])        \n",
    "                \n",
    "        # add the known, disconnected segments. These are the existing streets.\n",
    "        col_names = ['snd_id', 'ord_stname_concat', 'snd_group',  'f_intr_id', 't_intr_id', 'gis_seg_length', 'geometry']    \n",
    "        ks_gdf = temp_gdf[col_names].copy()\n",
    "        ks_gdf['street_status'] = int(1)\n",
    "        ks_gdf = ks_gdf.rename(columns = {'f_intr_id':'sn_id', 't_intr_id':'en_id', 'gis_seg_length':'dist'})\n",
    "\n",
    "        # stack the geodataframes\n",
    "        output_gdf = pd.concat([ms_gdf, ks_gdf])\n",
    "    \n",
    "        # write intermediate\n",
    "        if write_intermediate:\n",
    "            # intermediate streets - existing streets\n",
    "            is_output_file_path = os.path.join(output_file_path, 'individual_streets')\n",
    "            output_file_name = '_'.join(sn.split()) + '.gpkg'\n",
    "            write_gdf(gdf = temp_gdf, output_file_path = is_output_file_path, output_file_name = output_file_name)\n",
    "        \n",
    "            # intermediate nodes\n",
    "            curr_node_df = pd.DataFrame(data = {'node_id':fg.nodes()})\n",
    "            curr_node_list = curr_node_df['node_id'].tolist()\n",
    "            node_subset_gdf = subset_node_gdf(node_gdf = node_gdf, other_node_df = curr_node_df)\n",
    "            output_file_name = '_'.join(sn.split()) + '_full_nodes.gpkg'\n",
    "            write_gdf(gdf = node_subset_gdf, output_file_path = is_output_file_path, output_file_name = output_file_name)\n",
    "\n",
    "            # the missing and known segments for a street\n",
    "            output_file_name = '_'.join(sn.split()) + '_missing_segments.gpkg'\n",
    "            ofpn = os.path.join(output_file_path, output_file_name)                \n",
    "            write_gdf(gdf = output_gdf, output_file_path = is_output_file_path, output_file_name = output_file_name)\n",
    "\n",
    "    else:\n",
    "        # gather the streets with no missing segments.         \n",
    "        col_names = ['snd_id', 'ord_stname_concat', 'snd_group', 'f_intr_id', 't_intr_id', 'gis_seg_length', 'geometry']    \n",
    "        output_gdf = temp_gdf[col_names].copy()\n",
    "        output_gdf['street_status'] = int(0)\n",
    "        output_gdf = output_gdf.rename(columns = {'f_intr_id':'sn_id', 't_intr_id':'en_id', 'gis_seg_length':'dist'})\n",
    "\n",
    "    # add to the output list\n",
    "    output_gdf_list.append(output_gdf)"
   ]
  },
  {
   "cell_type": "markdown",
   "id": "de05d0f4",
   "metadata": {},
   "source": [
    "# combine data for output"
   ]
  },
  {
   "cell_type": "code",
   "execution_count": 37,
   "id": "a91f2298",
   "metadata": {},
   "outputs": [],
   "source": [
    "ms_gdf = pd.concat(objs = output_gdf_list)"
   ]
  },
  {
   "cell_type": "code",
   "execution_count": 38,
   "id": "3e350635",
   "metadata": {},
   "outputs": [],
   "source": [
    "ms_gdf['dist_miles'] = ms_gdf['dist'] / 5280"
   ]
  },
  {
   "cell_type": "code",
   "execution_count": 25,
   "id": "d5eb8f8e",
   "metadata": {},
   "outputs": [],
   "source": [
    "# join in other street indentification data"
   ]
  },
  {
   "cell_type": "code",
   "execution_count": 26,
   "id": "b1f3b405",
   "metadata": {},
   "outputs": [],
   "source": [
    "ms_gdf = pd.merge(left = ms_gdf, right = gdf[['ord_stname_concat', 'ord_street_type', 'ord_street_name']].drop_duplicates())"
   ]
  },
  {
   "cell_type": "code",
   "execution_count": 27,
   "id": "bc046287",
   "metadata": {},
   "outputs": [
    {
     "data": {
      "text/plain": [
       "(27, 11)"
      ]
     },
     "execution_count": 27,
     "metadata": {},
     "output_type": "execute_result"
    }
   ],
   "source": [
    "ms_gdf.shape"
   ]
  },
  {
   "cell_type": "code",
   "execution_count": 28,
   "id": "44d16718",
   "metadata": {},
   "outputs": [
    {
     "data": {
      "text/plain": [
       "street_status\n",
       "1    24\n",
       "2     3\n",
       "Name: count, dtype: int64"
      ]
     },
     "execution_count": 28,
     "metadata": {},
     "output_type": "execute_result"
    }
   ],
   "source": [
    "ms_gdf['street_status'].value_counts()"
   ]
  },
  {
   "cell_type": "code",
   "execution_count": 29,
   "id": "80c5b502",
   "metadata": {},
   "outputs": [
    {
     "name": "stdout",
     "output_type": "stream",
     "text": [
      "snd_id [False]\n",
      "ord_stname_concat [False]\n",
      "snd_group [False]\n",
      "sn_id [False]\n",
      "en_id [False]\n",
      "dist [False]\n",
      "geometry [False]\n",
      "street_status [False]\n",
      "dist_miles [False]\n",
      "ord_street_type [False]\n",
      "ord_street_name [False]\n"
     ]
    }
   ],
   "source": [
    "# check for missing values\n",
    "for cn in ms_gdf.columns:\n",
    "    print(cn, ms_gdf[cn].isna().unique())    "
   ]
  },
  {
   "cell_type": "code",
   "execution_count": 30,
   "id": "f22ae2fd",
   "metadata": {},
   "outputs": [
    {
     "data": {
      "text/plain": [
       "[]"
      ]
     },
     "execution_count": 30,
     "metadata": {},
     "output_type": "execute_result"
    }
   ],
   "source": [
    "# what streets have parallel edges?\n",
    "# these can be verified / examined in qGIS\n",
    "trouble_list"
   ]
  },
  {
   "cell_type": "markdown",
   "id": "583f4f60",
   "metadata": {},
   "source": [
    "# compute if the added segments were indeed the shortest."
   ]
  },
  {
   "cell_type": "code",
   "execution_count": 31,
   "id": "0c534bbc-15b2-42a5-a552-fcafb1e9aa8c",
   "metadata": {},
   "outputs": [],
   "source": [
    "# the number of times when the shortest segments\n",
    "sap_df = pd.DataFrame(data = shortest_added_path, columns = ['ord_stname_concat', 'shortest_added_path', 'n_discontinuities'])"
   ]
  },
  {
   "cell_type": "code",
   "execution_count": 32,
   "id": "dcacc94a-5323-4e25-9044-bae4cfe4fbfa",
   "metadata": {},
   "outputs": [],
   "source": [
    "sap_df['n_streets'] = int(1)"
   ]
  },
  {
   "cell_type": "code",
   "execution_count": 33,
   "id": "c5e9c2f5",
   "metadata": {},
   "outputs": [
    {
     "data": {
      "text/html": [
       "<div>\n",
       "<style scoped>\n",
       "    .dataframe tbody tr th:only-of-type {\n",
       "        vertical-align: middle;\n",
       "    }\n",
       "\n",
       "    .dataframe tbody tr th {\n",
       "        vertical-align: top;\n",
       "    }\n",
       "\n",
       "    .dataframe thead th {\n",
       "        text-align: right;\n",
       "    }\n",
       "</style>\n",
       "<table border=\"1\" class=\"dataframe\">\n",
       "  <thead>\n",
       "    <tr style=\"text-align: right;\">\n",
       "      <th></th>\n",
       "      <th>ord_stname_concat</th>\n",
       "      <th>shortest_added_path</th>\n",
       "      <th>n_discontinuities</th>\n",
       "      <th>n_streets</th>\n",
       "    </tr>\n",
       "  </thead>\n",
       "  <tbody>\n",
       "    <tr>\n",
       "      <th>0</th>\n",
       "      <td>15TH AVE W</td>\n",
       "      <td>False</td>\n",
       "      <td>3</td>\n",
       "      <td>1</td>\n",
       "    </tr>\n",
       "  </tbody>\n",
       "</table>\n",
       "</div>"
      ],
      "text/plain": [
       "  ord_stname_concat  shortest_added_path  n_discontinuities  n_streets\n",
       "0        15TH AVE W                False                  3          1"
      ]
     },
     "execution_count": 33,
     "metadata": {},
     "output_type": "execute_result"
    }
   ],
   "source": [
    "sap_df.head()"
   ]
  },
  {
   "cell_type": "code",
   "execution_count": 34,
   "id": "34fc35a2",
   "metadata": {},
   "outputs": [],
   "source": [
    "sap_df_ct_count = pd.pivot_table(data = sap_df, values = 'n_streets',\n",
    "                                 index = 'n_discontinuities', columns = 'shortest_added_path',\n",
    "                                 aggfunc='sum', fill_value=0, margins = True).reset_index(drop=False)"
   ]
  },
  {
   "cell_type": "code",
   "execution_count": 35,
   "id": "c82548cb",
   "metadata": {},
   "outputs": [
    {
     "ename": "ValueError",
     "evalue": "Length mismatch: Expected axis has 3 elements, new values have 4 elements",
     "output_type": "error",
     "traceback": [
      "\u001b[1;31m---------------------------------------------------------------------------\u001b[0m",
      "\u001b[1;31mValueError\u001b[0m                                Traceback (most recent call last)",
      "Cell \u001b[1;32mIn[35], line 1\u001b[0m\n\u001b[1;32m----> 1\u001b[0m sap_df_ct_count\u001b[38;5;241m.\u001b[39mcolumns \u001b[38;5;241m=\u001b[39m [\u001b[38;5;124m'\u001b[39m\u001b[38;5;124mn_discontinuities\u001b[39m\u001b[38;5;124m'\u001b[39m, \u001b[38;5;124m'\u001b[39m\u001b[38;5;124mshortest_is_false\u001b[39m\u001b[38;5;124m'\u001b[39m, \u001b[38;5;124m'\u001b[39m\u001b[38;5;124mshortest_is_true\u001b[39m\u001b[38;5;124m'\u001b[39m, \u001b[38;5;124m'\u001b[39m\u001b[38;5;124mn_streets\u001b[39m\u001b[38;5;124m'\u001b[39m]\n",
      "File \u001b[1;32mc:\\Users\\babbm\\anaconda3\\envs\\analysis\\Lib\\site-packages\\pandas\\core\\generic.py:6313\u001b[0m, in \u001b[0;36mNDFrame.__setattr__\u001b[1;34m(self, name, value)\u001b[0m\n\u001b[0;32m   6311\u001b[0m \u001b[38;5;28;01mtry\u001b[39;00m:\n\u001b[0;32m   6312\u001b[0m     \u001b[38;5;28mobject\u001b[39m\u001b[38;5;241m.\u001b[39m\u001b[38;5;21m__getattribute__\u001b[39m(\u001b[38;5;28mself\u001b[39m, name)\n\u001b[1;32m-> 6313\u001b[0m     \u001b[38;5;28;01mreturn\u001b[39;00m \u001b[38;5;28mobject\u001b[39m\u001b[38;5;241m.\u001b[39m\u001b[38;5;21m__setattr__\u001b[39m(\u001b[38;5;28mself\u001b[39m, name, value)\n\u001b[0;32m   6314\u001b[0m \u001b[38;5;28;01mexcept\u001b[39;00m \u001b[38;5;167;01mAttributeError\u001b[39;00m:\n\u001b[0;32m   6315\u001b[0m     \u001b[38;5;28;01mpass\u001b[39;00m\n",
      "File \u001b[1;32mproperties.pyx:69\u001b[0m, in \u001b[0;36mpandas._libs.properties.AxisProperty.__set__\u001b[1;34m()\u001b[0m\n",
      "File \u001b[1;32mc:\\Users\\babbm\\anaconda3\\envs\\analysis\\Lib\\site-packages\\pandas\\core\\generic.py:814\u001b[0m, in \u001b[0;36mNDFrame._set_axis\u001b[1;34m(self, axis, labels)\u001b[0m\n\u001b[0;32m    809\u001b[0m \u001b[38;5;250m\u001b[39m\u001b[38;5;124;03m\"\"\"\u001b[39;00m\n\u001b[0;32m    810\u001b[0m \u001b[38;5;124;03mThis is called from the cython code when we set the `index` attribute\u001b[39;00m\n\u001b[0;32m    811\u001b[0m \u001b[38;5;124;03mdirectly, e.g. `series.index = [1, 2, 3]`.\u001b[39;00m\n\u001b[0;32m    812\u001b[0m \u001b[38;5;124;03m\"\"\"\u001b[39;00m\n\u001b[0;32m    813\u001b[0m labels \u001b[38;5;241m=\u001b[39m ensure_index(labels)\n\u001b[1;32m--> 814\u001b[0m \u001b[38;5;28mself\u001b[39m\u001b[38;5;241m.\u001b[39m_mgr\u001b[38;5;241m.\u001b[39mset_axis(axis, labels)\n\u001b[0;32m    815\u001b[0m \u001b[38;5;28mself\u001b[39m\u001b[38;5;241m.\u001b[39m_clear_item_cache()\n",
      "File \u001b[1;32mc:\\Users\\babbm\\anaconda3\\envs\\analysis\\Lib\\site-packages\\pandas\\core\\internals\\managers.py:238\u001b[0m, in \u001b[0;36mBaseBlockManager.set_axis\u001b[1;34m(self, axis, new_labels)\u001b[0m\n\u001b[0;32m    236\u001b[0m \u001b[38;5;28;01mdef\u001b[39;00m \u001b[38;5;21mset_axis\u001b[39m(\u001b[38;5;28mself\u001b[39m, axis: AxisInt, new_labels: Index) \u001b[38;5;241m-\u001b[39m\u001b[38;5;241m>\u001b[39m \u001b[38;5;28;01mNone\u001b[39;00m:\n\u001b[0;32m    237\u001b[0m     \u001b[38;5;66;03m# Caller is responsible for ensuring we have an Index object.\u001b[39;00m\n\u001b[1;32m--> 238\u001b[0m     \u001b[38;5;28mself\u001b[39m\u001b[38;5;241m.\u001b[39m_validate_set_axis(axis, new_labels)\n\u001b[0;32m    239\u001b[0m     \u001b[38;5;28mself\u001b[39m\u001b[38;5;241m.\u001b[39maxes[axis] \u001b[38;5;241m=\u001b[39m new_labels\n",
      "File \u001b[1;32mc:\\Users\\babbm\\anaconda3\\envs\\analysis\\Lib\\site-packages\\pandas\\core\\internals\\base.py:98\u001b[0m, in \u001b[0;36mDataManager._validate_set_axis\u001b[1;34m(self, axis, new_labels)\u001b[0m\n\u001b[0;32m     95\u001b[0m     \u001b[38;5;28;01mpass\u001b[39;00m\n\u001b[0;32m     97\u001b[0m \u001b[38;5;28;01melif\u001b[39;00m new_len \u001b[38;5;241m!=\u001b[39m old_len:\n\u001b[1;32m---> 98\u001b[0m     \u001b[38;5;28;01mraise\u001b[39;00m \u001b[38;5;167;01mValueError\u001b[39;00m(\n\u001b[0;32m     99\u001b[0m         \u001b[38;5;124mf\u001b[39m\u001b[38;5;124m\"\u001b[39m\u001b[38;5;124mLength mismatch: Expected axis has \u001b[39m\u001b[38;5;132;01m{\u001b[39;00mold_len\u001b[38;5;132;01m}\u001b[39;00m\u001b[38;5;124m elements, new \u001b[39m\u001b[38;5;124m\"\u001b[39m\n\u001b[0;32m    100\u001b[0m         \u001b[38;5;124mf\u001b[39m\u001b[38;5;124m\"\u001b[39m\u001b[38;5;124mvalues have \u001b[39m\u001b[38;5;132;01m{\u001b[39;00mnew_len\u001b[38;5;132;01m}\u001b[39;00m\u001b[38;5;124m elements\u001b[39m\u001b[38;5;124m\"\u001b[39m\n\u001b[0;32m    101\u001b[0m     )\n",
      "\u001b[1;31mValueError\u001b[0m: Length mismatch: Expected axis has 3 elements, new values have 4 elements"
     ]
    }
   ],
   "source": [
    "sap_df_ct_count.columns = ['n_discontinuities', 'shortest_is_false', 'shortest_is_true', 'n_streets']"
   ]
  },
  {
   "cell_type": "code",
   "execution_count": null,
   "id": "6e28debc",
   "metadata": {},
   "outputs": [
    {
     "data": {
      "text/plain": [
       "Index(['n_discontinuities', 'shortest_is_false', 'shortest_is_true',\n",
       "       'n_streets'],\n",
       "      dtype='object')"
      ]
     },
     "execution_count": 35,
     "metadata": {},
     "output_type": "execute_result"
    }
   ],
   "source": [
    "sap_df_ct_count.columns"
   ]
  },
  {
   "cell_type": "code",
   "execution_count": null,
   "id": "4bad967e",
   "metadata": {},
   "outputs": [],
   "source": [
    "for cn in ['shortest_is_false', 'shortest_is_true']:\n",
    "    ncn = cn + '_per'\n",
    "    sap_df_ct_count[ncn] = sap_df_ct_count[cn] / sap_df_ct_count['n_streets']"
   ]
  },
  {
   "cell_type": "code",
   "execution_count": null,
   "id": "9fb3b244",
   "metadata": {},
   "outputs": [
    {
     "data": {
      "text/html": [
       "<div>\n",
       "<style scoped>\n",
       "    .dataframe tbody tr th:only-of-type {\n",
       "        vertical-align: middle;\n",
       "    }\n",
       "\n",
       "    .dataframe tbody tr th {\n",
       "        vertical-align: top;\n",
       "    }\n",
       "\n",
       "    .dataframe thead th {\n",
       "        text-align: right;\n",
       "    }\n",
       "</style>\n",
       "<table border=\"1\" class=\"dataframe\">\n",
       "  <thead>\n",
       "    <tr style=\"text-align: right;\">\n",
       "      <th></th>\n",
       "      <th>n_discontinuities</th>\n",
       "      <th>shortest_is_false</th>\n",
       "      <th>shortest_is_true</th>\n",
       "      <th>n_streets</th>\n",
       "      <th>shortest_is_false_per</th>\n",
       "      <th>shortest_is_true_per</th>\n",
       "    </tr>\n",
       "  </thead>\n",
       "  <tbody>\n",
       "    <tr>\n",
       "      <th>0</th>\n",
       "      <td>1</td>\n",
       "      <td>0</td>\n",
       "      <td>398</td>\n",
       "      <td>398</td>\n",
       "      <td>0.000000</td>\n",
       "      <td>1.000000</td>\n",
       "    </tr>\n",
       "    <tr>\n",
       "      <th>1</th>\n",
       "      <td>2</td>\n",
       "      <td>171</td>\n",
       "      <td>44</td>\n",
       "      <td>215</td>\n",
       "      <td>0.795349</td>\n",
       "      <td>0.204651</td>\n",
       "    </tr>\n",
       "    <tr>\n",
       "      <th>2</th>\n",
       "      <td>3</td>\n",
       "      <td>131</td>\n",
       "      <td>8</td>\n",
       "      <td>139</td>\n",
       "      <td>0.942446</td>\n",
       "      <td>0.057554</td>\n",
       "    </tr>\n",
       "    <tr>\n",
       "      <th>3</th>\n",
       "      <td>4</td>\n",
       "      <td>108</td>\n",
       "      <td>4</td>\n",
       "      <td>112</td>\n",
       "      <td>0.964286</td>\n",
       "      <td>0.035714</td>\n",
       "    </tr>\n",
       "    <tr>\n",
       "      <th>4</th>\n",
       "      <td>5</td>\n",
       "      <td>77</td>\n",
       "      <td>1</td>\n",
       "      <td>78</td>\n",
       "      <td>0.987179</td>\n",
       "      <td>0.012821</td>\n",
       "    </tr>\n",
       "  </tbody>\n",
       "</table>\n",
       "</div>"
      ],
      "text/plain": [
       "  n_discontinuities  shortest_is_false  shortest_is_true  n_streets  \\\n",
       "0                 1                  0               398        398   \n",
       "1                 2                171                44        215   \n",
       "2                 3                131                 8        139   \n",
       "3                 4                108                 4        112   \n",
       "4                 5                 77                 1         78   \n",
       "\n",
       "   shortest_is_false_per  shortest_is_true_per  \n",
       "0               0.000000              1.000000  \n",
       "1               0.795349              0.204651  \n",
       "2               0.942446              0.057554  \n",
       "3               0.964286              0.035714  \n",
       "4               0.987179              0.012821  "
      ]
     },
     "execution_count": 37,
     "metadata": {},
     "output_type": "execute_result"
    }
   ],
   "source": [
    "sap_df_ct_count.head()"
   ]
  },
  {
   "cell_type": "code",
   "execution_count": null,
   "id": "8741d730",
   "metadata": {},
   "outputs": [],
   "source": [
    "# export this to excel\n",
    "output_file_name = 'shortest_segment_count.xlsx'\n",
    "ofpn = os.path.join(output_file_path, 'analysis', output_file_name)\n",
    "sap_df_ct_count.to_excel(excel_writer=ofpn, sheet_name='shortest_segment_count', index = False)"
   ]
  },
  {
   "cell_type": "markdown",
   "id": "5717e052-e7bf-4e60-b5e1-70d1a855e7f8",
   "metadata": {},
   "source": [
    "# add ranking by street type to help with visualization"
   ]
  },
  {
   "cell_type": "code",
   "execution_count": null,
   "id": "17d0ea23-c8e1-4aa7-920d-c457eeb22ff0",
   "metadata": {},
   "outputs": [],
   "source": [
    "st_type_df = ms_gdf.loc[ms_gdf['street_status'] == 2, 'ord_street_type'].value_counts().to_frame(name = 'n_segments').reset_index()"
   ]
  },
  {
   "cell_type": "code",
   "execution_count": null,
   "id": "587d3e87-7ca6-4f14-a606-5e3fb459c83f",
   "metadata": {},
   "outputs": [
    {
     "data": {
      "text/html": [
       "<div>\n",
       "<style scoped>\n",
       "    .dataframe tbody tr th:only-of-type {\n",
       "        vertical-align: middle;\n",
       "    }\n",
       "\n",
       "    .dataframe tbody tr th {\n",
       "        vertical-align: top;\n",
       "    }\n",
       "\n",
       "    .dataframe thead th {\n",
       "        text-align: right;\n",
       "    }\n",
       "</style>\n",
       "<table border=\"1\" class=\"dataframe\">\n",
       "  <thead>\n",
       "    <tr style=\"text-align: right;\">\n",
       "      <th></th>\n",
       "      <th>ord_street_type</th>\n",
       "      <th>n_segments</th>\n",
       "    </tr>\n",
       "  </thead>\n",
       "  <tbody>\n",
       "    <tr>\n",
       "      <th>0</th>\n",
       "      <td>AVE</td>\n",
       "      <td>1806</td>\n",
       "    </tr>\n",
       "    <tr>\n",
       "      <th>1</th>\n",
       "      <td>ST</td>\n",
       "      <td>1661</td>\n",
       "    </tr>\n",
       "    <tr>\n",
       "      <th>2</th>\n",
       "      <td>PL</td>\n",
       "      <td>89</td>\n",
       "    </tr>\n",
       "    <tr>\n",
       "      <th>3</th>\n",
       "      <td>WAY</td>\n",
       "      <td>34</td>\n",
       "    </tr>\n",
       "    <tr>\n",
       "      <th>4</th>\n",
       "      <td>DR</td>\n",
       "      <td>19</td>\n",
       "    </tr>\n",
       "  </tbody>\n",
       "</table>\n",
       "</div>"
      ],
      "text/plain": [
       "  ord_street_type  n_segments\n",
       "0             AVE        1806\n",
       "1              ST        1661\n",
       "2              PL          89\n",
       "3             WAY          34\n",
       "4              DR          19"
      ]
     },
     "execution_count": 40,
     "metadata": {},
     "output_type": "execute_result"
    }
   ],
   "source": [
    "st_type_df.head()"
   ]
  },
  {
   "cell_type": "code",
   "execution_count": null,
   "id": "ac05148a-684c-4f11-b325-10c66b244227",
   "metadata": {},
   "outputs": [],
   "source": [
    "st_type_df['segment_rank'] = st_type_df['n_segments'].rank(ascending = True).astype(int).astype(str).str.zfill(2)"
   ]
  },
  {
   "cell_type": "code",
   "execution_count": null,
   "id": "4987655b-a00c-43c7-b04c-88d53a068b27",
   "metadata": {},
   "outputs": [
    {
     "data": {
      "text/html": [
       "<div>\n",
       "<style scoped>\n",
       "    .dataframe tbody tr th:only-of-type {\n",
       "        vertical-align: middle;\n",
       "    }\n",
       "\n",
       "    .dataframe tbody tr th {\n",
       "        vertical-align: top;\n",
       "    }\n",
       "\n",
       "    .dataframe thead th {\n",
       "        text-align: right;\n",
       "    }\n",
       "</style>\n",
       "<table border=\"1\" class=\"dataframe\">\n",
       "  <thead>\n",
       "    <tr style=\"text-align: right;\">\n",
       "      <th></th>\n",
       "      <th>ord_street_type</th>\n",
       "      <th>n_segments</th>\n",
       "      <th>segment_rank</th>\n",
       "    </tr>\n",
       "  </thead>\n",
       "  <tbody>\n",
       "    <tr>\n",
       "      <th>0</th>\n",
       "      <td>AVE</td>\n",
       "      <td>1806</td>\n",
       "      <td>10</td>\n",
       "    </tr>\n",
       "    <tr>\n",
       "      <th>1</th>\n",
       "      <td>ST</td>\n",
       "      <td>1661</td>\n",
       "      <td>09</td>\n",
       "    </tr>\n",
       "    <tr>\n",
       "      <th>2</th>\n",
       "      <td>PL</td>\n",
       "      <td>89</td>\n",
       "      <td>08</td>\n",
       "    </tr>\n",
       "    <tr>\n",
       "      <th>3</th>\n",
       "      <td>WAY</td>\n",
       "      <td>34</td>\n",
       "      <td>07</td>\n",
       "    </tr>\n",
       "    <tr>\n",
       "      <th>4</th>\n",
       "      <td>DR</td>\n",
       "      <td>19</td>\n",
       "      <td>06</td>\n",
       "    </tr>\n",
       "    <tr>\n",
       "      <th>5</th>\n",
       "      <td>LN</td>\n",
       "      <td>13</td>\n",
       "      <td>04</td>\n",
       "    </tr>\n",
       "    <tr>\n",
       "      <th>6</th>\n",
       "      <td>BLVD</td>\n",
       "      <td>13</td>\n",
       "      <td>04</td>\n",
       "    </tr>\n",
       "    <tr>\n",
       "      <th>7</th>\n",
       "      <td>RD</td>\n",
       "      <td>5</td>\n",
       "      <td>03</td>\n",
       "    </tr>\n",
       "    <tr>\n",
       "      <th>8</th>\n",
       "      <td>CT</td>\n",
       "      <td>2</td>\n",
       "      <td>02</td>\n",
       "    </tr>\n",
       "    <tr>\n",
       "      <th>9</th>\n",
       "      <td>PKWY</td>\n",
       "      <td>1</td>\n",
       "      <td>01</td>\n",
       "    </tr>\n",
       "  </tbody>\n",
       "</table>\n",
       "</div>"
      ],
      "text/plain": [
       "  ord_street_type  n_segments segment_rank\n",
       "0             AVE        1806           10\n",
       "1              ST        1661           09\n",
       "2              PL          89           08\n",
       "3             WAY          34           07\n",
       "4              DR          19           06\n",
       "5              LN          13           04\n",
       "6            BLVD          13           04\n",
       "7              RD           5           03\n",
       "8              CT           2           02\n",
       "9            PKWY           1           01"
      ]
     },
     "execution_count": 42,
     "metadata": {},
     "output_type": "execute_result"
    }
   ],
   "source": [
    "st_type_df.head(n=20)"
   ]
  },
  {
   "cell_type": "code",
   "execution_count": null,
   "id": "f6503816-1cf2-4304-9578-917b874aabc5",
   "metadata": {},
   "outputs": [],
   "source": [
    "st_type_df['ord_street_type_rank'] = st_type_df['segment_rank'] + '_' + st_type_df['ord_street_type']"
   ]
  },
  {
   "cell_type": "code",
   "execution_count": null,
   "id": "abeac03c-4917-4c5c-8fab-aebcac12dc0f",
   "metadata": {},
   "outputs": [],
   "source": [
    "st_rank_dict = {ost:ostr for ost, ostr in zip(st_type_df['ord_street_type'], st_type_df['ord_street_type_rank'])}"
   ]
  },
  {
   "cell_type": "code",
   "execution_count": null,
   "id": "e33d501e-0011-41ec-965f-7ad2657d36f0",
   "metadata": {},
   "outputs": [],
   "source": [
    "ms_gdf['ord_street_type_rank'] = ms_gdf['ord_street_type'].map(st_rank_dict)"
   ]
  },
  {
   "cell_type": "code",
   "execution_count": null,
   "id": "d4afaa78-b8cc-4713-915b-f08686446cc0",
   "metadata": {},
   "outputs": [],
   "source": [
    "ms_gdf.loc[ms_gdf['ord_street_type_rank'].isna(), 'ord_street_type_rank'] = \"\""
   ]
  },
  {
   "cell_type": "code",
   "execution_count": null,
   "id": "3766617b-52fa-4f04-992e-457b9343b9b1",
   "metadata": {},
   "outputs": [],
   "source": [
    "# reorder columns\n",
    "col_names = ['snd_id', 'ord_street_name','ord_stname_concat','ord_street_type', \n",
    "             'ord_street_type_rank', 'snd_group', 'street_status','sn_id',\n",
    "             'en_id','dist','dist_miles','geometry']"
   ]
  },
  {
   "cell_type": "code",
   "execution_count": null,
   "id": "6d849621-4392-415b-894a-4dcc9dfc7370",
   "metadata": {},
   "outputs": [],
   "source": [
    "ms_gdf = ms_gdf[col_names]"
   ]
  },
  {
   "cell_type": "markdown",
   "id": "8b17be1f-d5f8-4505-ab76-572b6598ff39",
   "metadata": {},
   "source": [
    "# save the geodataframe with the complete, disconnected, and added streets"
   ]
  },
  {
   "cell_type": "code",
   "execution_count": null,
   "id": "0b821c98-17dc-4529-a560-cc278daf1e89",
   "metadata": {},
   "outputs": [],
   "source": [
    "output_file_name = 'missing_segments.gpkg'\n",
    "ofpn = os.path.join(output_file_path, output_file_name)    \n",
    "\n",
    "ms_gdf.to_file(filename = ofpn, driver = 'GPKG', index = False)\n"
   ]
  },
  {
   "cell_type": "code",
   "execution_count": null,
   "id": "f98395ed-a581-4456-8227-722d250f83b0",
   "metadata": {},
   "outputs": [],
   "source": []
  }
 ],
 "metadata": {
  "kernelspec": {
   "display_name": "analysis",
   "language": "python",
   "name": "python3"
  },
  "language_info": {
   "codemirror_mode": {
    "name": "ipython",
    "version": 3
   },
   "file_extension": ".py",
   "mimetype": "text/x-python",
   "name": "python",
   "nbconvert_exporter": "python",
   "pygments_lexer": "ipython3",
   "version": "3.12.7"
  }
 },
 "nbformat": 4,
 "nbformat_minor": 5
}
