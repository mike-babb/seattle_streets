{
 "cells": [
  {
   "cell_type": "markdown",
   "id": "fed9e25b-c5b9-4aee-89cd-15a7da3945c0",
   "metadata": {},
   "source": [
    "# Part 09: Compare the edge differences between v1.0 and v2.0 of the added edges\n",
    "michael babb  \n",
    "2024 11 24"
   ]
  },
  {
   "cell_type": "code",
   "execution_count": null,
   "id": "e88ca8b2-b75d-4e72-8fc7-65c4cea61cde",
   "metadata": {},
   "outputs": [],
   "source": [
    "# standard\n",
    "import os"
   ]
  },
  {
   "cell_type": "code",
   "execution_count": null,
   "id": "0778d9a5-0c62-4724-be28-c21598d23b6f",
   "metadata": {},
   "outputs": [],
   "source": [
    "# external\n",
    "import geopandas as gpd\n",
    "import networkx as nx\n",
    "import numpy as np\n",
    "import pandas as pd\n",
    "from shapely.geometry import LineString, Point"
   ]
  },
  {
   "cell_type": "code",
   "execution_count": null,
   "id": "2fc61400-c637-4828-820d-56c2cdd14942",
   "metadata": {},
   "outputs": [],
   "source": [
    "# custom\n",
    "import run_constants as rc\n",
    "from utils import *"
   ]
  },
  {
   "cell_type": "markdown",
   "id": "d56ea77e-ffd7-4326-b793-415f8a131ef2",
   "metadata": {},
   "source": [
    "# load the working seattle street network data"
   ]
  },
  {
   "cell_type": "code",
   "execution_count": null,
   "id": "ddf62724-9105-44c9-b983-e4f520328fa9",
   "metadata": {},
   "outputs": [],
   "source": [
    "fpn = os.path.join(rc.OUTPUT_FILE_PATH, 'missing_segments_v1.gpkg')"
   ]
  },
  {
   "cell_type": "code",
   "execution_count": null,
   "id": "2cbdb5c1-c973-4882-b442-cf5396e90d3e",
   "metadata": {},
   "outputs": [],
   "source": [
    "gdf_v1 = gpd.read_file(filename = fpn)\n",
    "# we only want the added edges\n",
    "gdf_v1 = gdf_v1.loc[gdf_v1['street_status'] == 2, :].copy()"
   ]
  },
  {
   "cell_type": "code",
   "execution_count": null,
   "id": "165ab29f",
   "metadata": {},
   "outputs": [],
   "source": [
    "fpn = os.path.join(rc.OUTPUT_FILE_PATH, 'missing_segments_v2.gpkg')"
   ]
  },
  {
   "cell_type": "code",
   "execution_count": null,
   "id": "c2c8bde1",
   "metadata": {},
   "outputs": [],
   "source": [
    "gdf_v2 = gpd.read_file(filename = fpn)\n",
    "gdf_v2 = gdf_v2.loc[gdf_v2['street_status'] == 2, :].copy()"
   ]
  },
  {
   "cell_type": "code",
   "execution_count": null,
   "id": "d0ecbd2b",
   "metadata": {},
   "outputs": [],
   "source": [
    "gdf_v1['street_status'].value_counts()"
   ]
  },
  {
   "cell_type": "code",
   "execution_count": null,
   "id": "e4897c3c",
   "metadata": {},
   "outputs": [],
   "source": [
    "gdf_v2['street_status'].value_counts()"
   ]
  },
  {
   "cell_type": "code",
   "execution_count": null,
   "id": "1e545eb0",
   "metadata": {},
   "outputs": [],
   "source": [
    "# so, there are the same number of edges... but how have the edges changed?\n",
    "# the three things we need are the sn_id, the en_id, and the edge name.\n",
    "def build_hashed_value(row):\n",
    "    sn_id = row['sn_id']\n",
    "    en_id = row['en_id']\n",
    "    ord_stname_concat = row['ord_stname_concat']\n",
    "    node_list = [sn_id, en_id]\n",
    "    # sort it\n",
    "    sn_id, en_id = sorted(node_list)\n",
    "    id_tuple = (sn_id, en_id, ord_stname_concat)\n",
    "    return hash(id_tuple)"
   ]
  },
  {
   "cell_type": "code",
   "execution_count": null,
   "id": "6765e316",
   "metadata": {},
   "outputs": [],
   "source": [
    "gdf_v1['hashed_id'] = gdf_v1.apply(func = build_hashed_value, axis=1)"
   ]
  },
  {
   "cell_type": "code",
   "execution_count": null,
   "id": "5caf777f",
   "metadata": {},
   "outputs": [],
   "source": [
    "gdf_v2['hashed_id'] = gdf_v2.apply(func = build_hashed_value, axis=1)"
   ]
  },
  {
   "cell_type": "code",
   "execution_count": null,
   "id": "c34f2d1a",
   "metadata": {},
   "outputs": [],
   "source": [
    "gdf_v1_diff = gdf_v1.loc[-gdf_v1['hashed_id'].isin(gdf_v2['hashed_id']), :].copy()"
   ]
  },
  {
   "cell_type": "code",
   "execution_count": null,
   "id": "689cf508",
   "metadata": {},
   "outputs": [],
   "source": [
    "gdf_v1_diff.shape"
   ]
  },
  {
   "cell_type": "code",
   "execution_count": null,
   "id": "fb50a4c2",
   "metadata": {},
   "outputs": [],
   "source": [
    "gdf_v2_diff = gdf_v2.loc[-gdf_v2['hashed_id'].isin(gdf_v1['hashed_id']), :].copy()"
   ]
  },
  {
   "cell_type": "code",
   "execution_count": null,
   "id": "96648bd9",
   "metadata": {},
   "outputs": [],
   "source": [
    "gdf_v2_diff.shape"
   ]
  },
  {
   "cell_type": "code",
   "execution_count": null,
   "id": "8a05c90b",
   "metadata": {},
   "outputs": [],
   "source": [
    "gdf_v1_diff['version'] = 1\n",
    "gdf_v2_diff['version'] = 2"
   ]
  },
  {
   "cell_type": "code",
   "execution_count": null,
   "id": "b181d5dd",
   "metadata": {},
   "outputs": [],
   "source": [
    "v_gdf = pd.concat(objs=[gdf_v1_diff, gdf_v2_diff], axis = 0)"
   ]
  },
  {
   "cell_type": "code",
   "execution_count": null,
   "id": "82bcec34",
   "metadata": {},
   "outputs": [],
   "source": [
    "write_gdf(gdf = v_gdf, output_file_path=rc.OUTPUT_FILE_PATH, output_file_name='v1_v2_edge_diff.gpkg')"
   ]
  },
  {
   "cell_type": "code",
   "execution_count": null,
   "id": "6c1e9f31",
   "metadata": {},
   "outputs": [],
   "source": [
    "# now, let's find the differences in the edges\n",
    "v_gdf['version'].value_counts()"
   ]
  },
  {
   "cell_type": "code",
   "execution_count": null,
   "id": "3e510aea",
   "metadata": {},
   "outputs": [],
   "source": [
    "v_gdf[['version', 'dist_miles']].groupby(['version']).agg(dist_miles = ('dist_miles', 'sum'))"
   ]
  },
  {
   "cell_type": "code",
   "execution_count": null,
   "id": "4a6242a6",
   "metadata": {},
   "outputs": [],
   "source": [
    "# using version 2, the number of roads is shortened by half a mile. Makes sense...\n",
    "# get rid of the stubs, fewer connectivities. Awesome. Forward."
   ]
  }
 ],
 "metadata": {
  "kernelspec": {
   "display_name": "analysis",
   "language": "python",
   "name": "python3"
  },
  "language_info": {
   "codemirror_mode": {
    "name": "ipython",
    "version": 3
   },
   "file_extension": ".py",
   "mimetype": "text/x-python",
   "name": "python",
   "nbconvert_exporter": "python",
   "pygments_lexer": "ipython3",
   "version": "3.12.7"
  }
 },
 "nbformat": 4,
 "nbformat_minor": 5
}
