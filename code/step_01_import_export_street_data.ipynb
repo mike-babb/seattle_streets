{
 "cells": [
  {
   "cell_type": "code",
   "execution_count": 1,
   "id": "fed9e25b-c5b9-4aee-89cd-15a7da3945c0",
   "metadata": {},
   "outputs": [],
   "source": [
    "# mike babb\n",
    "# 2024 06 28\n",
    "# what streets start and stop?\n",
    "# step 01: import data / perform some initial formatting"
   ]
  },
  {
   "cell_type": "code",
   "execution_count": 2,
   "id": "e88ca8b2-b75d-4e72-8fc7-65c4cea61cde",
   "metadata": {},
   "outputs": [],
   "source": [
    "# standard\n",
    "import os"
   ]
  },
  {
   "cell_type": "code",
   "execution_count": 3,
   "id": "0778d9a5-0c62-4724-be28-c21598d23b6f",
   "metadata": {},
   "outputs": [],
   "source": [
    "# external\n",
    "import geopandas as gpd\n",
    "import networkx as nx\n",
    "import numpy as np\n",
    "import pandas as pd"
   ]
  },
  {
   "cell_type": "markdown",
   "id": "d56ea77e-ffd7-4326-b793-415f8a131ef2",
   "metadata": {},
   "source": [
    "# load the streent network shapefile as a gpd"
   ]
  },
  {
   "cell_type": "code",
   "execution_count": 4,
   "id": "d07cfb9b-9184-48d7-af77-035e2390d9e5",
   "metadata": {},
   "outputs": [],
   "source": [
    "# file paths\n",
    "input_file_path = 'H:/project/seattle_streets/data/WGS84/' \n",
    "output_file_path = 'H:/project/seattle_streets/data/'"
   ]
  },
  {
   "cell_type": "code",
   "execution_count": 5,
   "id": "3c1039f5-a281-4460-b65d-98a6ca2556b7",
   "metadata": {},
   "outputs": [],
   "source": [
    "file_name = 'Street_Network_Database.shp'"
   ]
  },
  {
   "cell_type": "code",
   "execution_count": 6,
   "id": "ddf62724-9105-44c9-b983-e4f520328fa9",
   "metadata": {},
   "outputs": [],
   "source": [
    "fpn = os.path.join(input_file_path, file_name)"
   ]
  },
  {
   "cell_type": "code",
   "execution_count": 7,
   "id": "2cbdb5c1-c973-4882-b442-cf5396e90d3e",
   "metadata": {},
   "outputs": [],
   "source": [
    "gdf = gpd.read_file(filename = fpn)"
   ]
  },
  {
   "cell_type": "markdown",
   "id": "b10491a0-78d3-4fc7-860a-2e42825b8bc4",
   "metadata": {},
   "source": [
    "# LOWER CASE AND RENAME COLUMNS"
   ]
  },
  {
   "cell_type": "code",
   "execution_count": 8,
   "id": "d8fafe8d-92b2-429e-8117-ce2a4ae4ac1b",
   "metadata": {},
   "outputs": [],
   "source": [
    "gdf.columns = [cn.lower() for cn in gdf.columns]"
   ]
  },
  {
   "cell_type": "code",
   "execution_count": 9,
   "id": "4987fb26-088d-41ec-9dcd-ed4359d57760",
   "metadata": {},
   "outputs": [
    {
     "data": {
      "text/plain": [
       "Index(['f_intr_id', 't_intr_id', 'snd_id', 'snd_feacod', 'citycode',\n",
       "       'stname_id', 'st_code', 'arterial_c', 'segment_ty', 'agency_cod',\n",
       "       'access_cod', 'divided_co', 'structure_', 'legalloc_c', 'vehicle_us',\n",
       "       'gis_seg_le', 'l_adrs_fro', 'l_adrs_to', 'r_adrs_fro', 'r_adrs_to',\n",
       "       'ord_pre_di', 'ord_street', 'ord_stre_1', 'ord_suf_di', 'ord_stname',\n",
       "       'l_city', 'l_state', 'l_zip', 'r_city', 'r_state', 'r_zip',\n",
       "       'sndseg_upd', 'compkey', 'comptype', 'unitid', 'unitid2', 'shape_leng',\n",
       "       'geometry'],\n",
       "      dtype='object')"
      ]
     },
     "execution_count": 9,
     "metadata": {},
     "output_type": "execute_result"
    }
   ],
   "source": [
    "gdf.columns"
   ]
  },
  {
   "cell_type": "code",
   "execution_count": 10,
   "id": "a7e66975-29a3-4672-b83c-5c55ae8f17a6",
   "metadata": {},
   "outputs": [],
   "source": [
    "# drop the shape_leng column, this is a shapefile artifact\n",
    "gdf = gdf.drop(labels = ['shape_leng'], axis = 1)"
   ]
  },
  {
   "cell_type": "code",
   "execution_count": 11,
   "id": "9b6113db-feb4-48a8-b471-c99f35aabae8",
   "metadata": {},
   "outputs": [],
   "source": [
    "# rename columns\n",
    "rename_dict = {'gis_seg_le':'gis_seg_length',\n",
    "               'l_adrs_fro':'l_adrs_from',\n",
    "               'r_adrs_fro':'r_adrs_from',\n",
    "               'ord_pre_di':'ord_pre_dir',\n",
    "               'ord_stre_1':'ord_street_type',\n",
    "               'ord_suf_di':'ord_suf_dir'}"
   ]
  },
  {
   "cell_type": "code",
   "execution_count": 12,
   "id": "75ff72b8-4ff1-4b58-8f6a-1524a5bf148b",
   "metadata": {},
   "outputs": [],
   "source": [
    "# rename columns to get around the 10-character shapefile limit\n",
    "gdf = gdf.rename(columns = rename_dict)"
   ]
  },
  {
   "cell_type": "markdown",
   "id": "ba2e9ad8-cac6-4d57-a64f-46c2c9a22e55",
   "metadata": {},
   "source": [
    "# ADD A COLUMN INDICATING WHICH PORTION OF THE CITY THE STREET IS IN"
   ]
  },
  {
   "cell_type": "code",
   "execution_count": 13,
   "id": "46ade67e-c27f-442d-94e2-93ad66dd4fe7",
   "metadata": {},
   "outputs": [],
   "source": [
    "# combine the ord_pre_dir and the ord_suf_dir to get the portion of the city."
   ]
  },
  {
   "cell_type": "code",
   "execution_count": 14,
   "id": "20bf5087-de0f-413a-9bc3-842396fd8fc6",
   "metadata": {},
   "outputs": [],
   "source": [
    "col_names = ['ord_pre_dir', 'ord_suf_dir']"
   ]
  },
  {
   "cell_type": "code",
   "execution_count": 15,
   "id": "3149a4ab-f51b-4502-a88f-1dff800def1d",
   "metadata": {},
   "outputs": [],
   "source": [
    "for cn in col_names:\n",
    "    gdf[cn] = gdf[cn].fillna('')"
   ]
  },
  {
   "cell_type": "code",
   "execution_count": 16,
   "id": "f06fcc5b-17ea-4135-8d0b-3b8668cd8a68",
   "metadata": {},
   "outputs": [],
   "source": [
    "def create_city_portion(my_row:pd.Series):\n",
    "    \n",
    "    opd = my_row['ord_pre_dir']\n",
    "    osd = my_row['ord_suf_dir']\n",
    "\n",
    "    outcome = opd + ' ' + osd\n",
    "    outcome = outcome.strip()\n",
    "    \n",
    "    return outcome"
   ]
  },
  {
   "cell_type": "code",
   "execution_count": 17,
   "id": "4da55af2-6695-4597-8711-2eb58981b3aa",
   "metadata": {},
   "outputs": [],
   "source": [
    "gdf['city_portion'] = gdf.apply(create_city_portion, axis = 1)"
   ]
  },
  {
   "cell_type": "code",
   "execution_count": 18,
   "id": "ae21a8ba-d7a3-4fac-bc07-cc24d42af8f5",
   "metadata": {},
   "outputs": [
    {
     "data": {
      "text/plain": [
       "array(['SW', 'N', 'NE', 'S', 'W', 'E', '', 'NW', 'NB', 'WB', 'SB', 'EB'],\n",
       "      dtype=object)"
      ]
     },
     "execution_count": 18,
     "metadata": {},
     "output_type": "execute_result"
    }
   ],
   "source": [
    "gdf['city_portion'].unique()"
   ]
  },
  {
   "cell_type": "markdown",
   "id": "133228ea-cd23-41f8-baf8-7d2a46dc2815",
   "metadata": {},
   "source": [
    "# WRITE THE GEODATAFRAME TO DISK AS GPKG"
   ]
  },
  {
   "cell_type": "code",
   "execution_count": 19,
   "id": "cae076d0-5a8c-4b6d-919d-2cd317f4a76d",
   "metadata": {},
   "outputs": [],
   "source": [
    "# file path\n",
    "output_file_name = 'Street_Network_Database.gpkg'"
   ]
  },
  {
   "cell_type": "code",
   "execution_count": 20,
   "id": "26ce85db-c0e5-435d-8ada-07336e002bf7",
   "metadata": {},
   "outputs": [],
   "source": [
    "ofpn = os.path.join(output_file_path, output_file_name)"
   ]
  },
  {
   "cell_type": "code",
   "execution_count": 21,
   "id": "65fc22af-3d45-427c-b76a-a6af6e9c6696",
   "metadata": {},
   "outputs": [],
   "source": [
    "# reproject to wgs 84\n",
    "gdf = gdf.to_crs(crs = 'epsg:4326')"
   ]
  },
  {
   "cell_type": "code",
   "execution_count": 22,
   "id": "7d327915-9990-4daa-ba35-9900582cd34c",
   "metadata": {},
   "outputs": [],
   "source": [
    "gdf.to_file(filename = ofpn, driver = 'GPKG', index = False)"
   ]
  },
  {
   "cell_type": "markdown",
   "id": "9cb3e564-6609-486d-8565-83bdddcc3688",
   "metadata": {},
   "source": [
    "# EXPORT THE BLANK STREET TYPES TO AN EXCEL FILE FOR MANUAL INSPECTION"
   ]
  },
  {
   "cell_type": "code",
   "execution_count": 23,
   "id": "6b77c227-dc1c-492e-ac66-6dd14b83e643",
   "metadata": {},
   "outputs": [],
   "source": [
    "blank_street_type_df = gdf.loc[gdf['ord_street_type'].isna(), 'ord_stname'].drop_duplicates().to_frame()"
   ]
  },
  {
   "cell_type": "code",
   "execution_count": 24,
   "id": "52bc1c50-f6d5-4b97-b9c5-bacf66398bf8",
   "metadata": {},
   "outputs": [],
   "source": [
    "output_file_name = 'blank_street_type.xlsx'"
   ]
  },
  {
   "cell_type": "code",
   "execution_count": 25,
   "id": "b238d8cb-6148-4a0f-8e3a-edc1c8cb88ab",
   "metadata": {},
   "outputs": [],
   "source": [
    "ofpn = os.path.join(output_file_path, output_file_name)"
   ]
  },
  {
   "cell_type": "code",
   "execution_count": 26,
   "id": "3f81673e-ac90-4c06-a767-7ba3e7f11465",
   "metadata": {},
   "outputs": [],
   "source": [
    "blank_street_type_df.to_excel(excel_writer=ofpn, index = False)"
   ]
  },
  {
   "cell_type": "code",
   "execution_count": null,
   "id": "4fd9c4c4-5bd4-4ed8-b63f-d16f1c82f34f",
   "metadata": {},
   "outputs": [],
   "source": []
  }
 ],
 "metadata": {
  "kernelspec": {
   "display_name": "Python 3 (ipykernel)",
   "language": "python",
   "name": "python3"
  },
  "language_info": {
   "codemirror_mode": {
    "name": "ipython",
    "version": 3
   },
   "file_extension": ".py",
   "mimetype": "text/x-python",
   "name": "python",
   "nbconvert_exporter": "python",
   "pygments_lexer": "ipython3",
   "version": "3.12.4"
  }
 },
 "nbformat": 4,
 "nbformat_minor": 5
}
