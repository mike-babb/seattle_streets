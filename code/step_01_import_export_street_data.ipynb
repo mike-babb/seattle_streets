{
 "cells": [
  {
   "cell_type": "markdown",
   "id": "c76742e8",
   "metadata": {},
   "source": [
    "# Part 01: Import and export the street data\n",
    "michael babb  \n",
    "2025 02 18"
   ]
  },
  {
   "cell_type": "code",
   "execution_count": 1,
   "id": "e88ca8b2-b75d-4e72-8fc7-65c4cea61cde",
   "metadata": {},
   "outputs": [],
   "source": [
    "# standard\n",
    "import os"
   ]
  },
  {
   "cell_type": "code",
   "execution_count": 2,
   "id": "0778d9a5-0c62-4724-be28-c21598d23b6f",
   "metadata": {},
   "outputs": [],
   "source": [
    "# external\n",
    "import geopandas as gpd\n",
    "import networkx as nx\n",
    "import numpy as np\n",
    "import pandas as pd"
   ]
  },
  {
   "cell_type": "code",
   "execution_count": 3,
   "id": "6c351ccd",
   "metadata": {},
   "outputs": [],
   "source": [
    "# custom\n",
    "from geo_data_io.fc_df_spatial import write_gdf\n",
    "import run_constants as rc\n",
    "from utils import create_city_sector, create_name\n"
   ]
  },
  {
   "cell_type": "markdown",
   "id": "d56ea77e-ffd7-4326-b793-415f8a131ef2",
   "metadata": {},
   "source": [
    "# load the street network shapefile as a gpd"
   ]
  },
  {
   "cell_type": "code",
   "execution_count": 4,
   "id": "8188f178",
   "metadata": {},
   "outputs": [],
   "source": [
    "# setup the output paths\n",
    "if not os.path.exists(rc.OUTPUT_FILE_PATH):\n",
    "    os.makedirs(rc.OUTPUT_FILE_PATH)"
   ]
  },
  {
   "cell_type": "code",
   "execution_count": 5,
   "id": "ddf62724-9105-44c9-b983-e4f520328fa9",
   "metadata": {},
   "outputs": [],
   "source": [
    "fpn = os.path.join(rc.INPUT_FILE_PATH, rc.S01_SND_IN_FILE_NAME)"
   ]
  },
  {
   "cell_type": "code",
   "execution_count": 6,
   "id": "2cbdb5c1-c973-4882-b442-cf5396e90d3e",
   "metadata": {},
   "outputs": [
    {
     "name": "stderr",
     "output_type": "stream",
     "text": [
      "c:\\Users\\babbm\\anaconda3\\envs\\analysis\\Lib\\site-packages\\pyogrio\\raw.py:198: RuntimeWarning: Non-conformant content for record 1 in column SNDSEG_UPDATE, 2007-04-22T00:00:00.0Z, successfully parsed\n",
      "  return ogr_read(\n"
     ]
    }
   ],
   "source": [
    "gdf = gpd.read_file(filename = fpn)"
   ]
  },
  {
   "cell_type": "code",
   "execution_count": 7,
   "id": "e961afc3",
   "metadata": {},
   "outputs": [
    {
     "data": {
      "text/plain": [
       "(34378, 37)"
      ]
     },
     "execution_count": 7,
     "metadata": {},
     "output_type": "execute_result"
    }
   ],
   "source": [
    "gdf.shape"
   ]
  },
  {
   "cell_type": "markdown",
   "id": "b10491a0-78d3-4fc7-860a-2e42825b8bc4",
   "metadata": {},
   "source": [
    "# lower case and rename columns"
   ]
  },
  {
   "cell_type": "code",
   "execution_count": 8,
   "id": "d8fafe8d-92b2-429e-8117-ce2a4ae4ac1b",
   "metadata": {},
   "outputs": [],
   "source": [
    "gdf.columns = [cn.lower() for cn in gdf.columns]"
   ]
  },
  {
   "cell_type": "code",
   "execution_count": 9,
   "id": "4987fb26-088d-41ec-9dcd-ed4359d57760",
   "metadata": {},
   "outputs": [
    {
     "data": {
      "text/plain": [
       "Index(['f_intr_id', 't_intr_id', 'snd_id', 'snd_feacode', 'citycode',\n",
       "       'stname_id', 'st_code', 'arterial_code', 'segment_type', 'agency_code',\n",
       "       'access_code', 'divided_code', 'structure_type', 'legalloc_code',\n",
       "       'vehicle_use_code', 'gis_seg_length', 'l_adrs_from', 'l_adrs_to',\n",
       "       'r_adrs_from', 'r_adrs_to', 'ord_pre_dir', 'ord_street_name',\n",
       "       'ord_street_type', 'ord_suf_dir', 'ord_stname_concat', 'l_city',\n",
       "       'l_state', 'l_zip', 'r_city', 'r_state', 'r_zip', 'sndseg_update',\n",
       "       'compkey', 'comptype', 'unitid', 'unitid2', 'geometry'],\n",
       "      dtype='object')"
      ]
     },
     "execution_count": 9,
     "metadata": {},
     "output_type": "execute_result"
    }
   ],
   "source": [
    "gdf.columns"
   ]
  },
  {
   "cell_type": "markdown",
   "id": "a32ee210-b606-474a-beb2-da7e9f61a930",
   "metadata": {},
   "source": [
    "# change datatypes"
   ]
  },
  {
   "cell_type": "code",
   "execution_count": 10,
   "id": "128e9f54-8fa8-4066-9000-39b4fcfbc94f",
   "metadata": {},
   "outputs": [],
   "source": [
    "for cn in gdf.columns:\n",
    "    if gdf[cn].dtype == np.int32:\n",
    "        gdf[cn] = gdf[cn].astype(np.int64)\n",
    "    "
   ]
  },
  {
   "cell_type": "markdown",
   "id": "ba2e9ad8-cac6-4d57-a64f-46c2c9a22e55",
   "metadata": {},
   "source": [
    "# indicate the sector of the city the street is in"
   ]
  },
  {
   "cell_type": "code",
   "execution_count": 11,
   "id": "46ade67e-c27f-442d-94e2-93ad66dd4fe7",
   "metadata": {},
   "outputs": [],
   "source": [
    "# combine the ord_pre_dir and the ord_suf_dir to get the sector of the city."
   ]
  },
  {
   "cell_type": "code",
   "execution_count": 12,
   "id": "20bf5087-de0f-413a-9bc3-842396fd8fc6",
   "metadata": {},
   "outputs": [],
   "source": [
    "col_names = ['ord_pre_dir', 'ord_suf_dir']"
   ]
  },
  {
   "cell_type": "code",
   "execution_count": 13,
   "id": "3149a4ab-f51b-4502-a88f-1dff800def1d",
   "metadata": {},
   "outputs": [],
   "source": [
    "for cn in col_names:\n",
    "    gdf[cn] = gdf[cn].fillna('')"
   ]
  },
  {
   "cell_type": "code",
   "execution_count": 14,
   "id": "4da55af2-6695-4597-8711-2eb58981b3aa",
   "metadata": {},
   "outputs": [],
   "source": [
    "gdf['city_sector'] = gdf.apply(func = create_city_sector, axis = 1)"
   ]
  },
  {
   "cell_type": "code",
   "execution_count": 15,
   "id": "ae21a8ba-d7a3-4fac-bc07-cc24d42af8f5",
   "metadata": {},
   "outputs": [
    {
     "data": {
      "text/plain": [
       "array(['S', 'E', 'NE', 'NW', 'N', 'CNTR', 'SW', 'W'], dtype=object)"
      ]
     },
     "execution_count": 15,
     "metadata": {},
     "output_type": "execute_result"
    }
   ],
   "source": [
    "gdf['city_sector'].unique()"
   ]
  },
  {
   "cell_type": "markdown",
   "id": "7a9455ee",
   "metadata": {},
   "source": [
    "## note: I used qGIS to manually recode the following streets:\n",
    "MAGNOLIA BR WB: W  \n",
    "WEST SEATTLE BR WB: mix of SW and S  \n",
    "WEST SEATTLE BR EB: mix of SW and S  \n",
    "1ST AV S BR SB: mix of SW and S  \n",
    "1ST AV S BR NB: mix of SW and S  \n",
    "(it's a lot easier to do this in qGIS)"
   ]
  },
  {
   "cell_type": "code",
   "execution_count": 16,
   "id": "b44573fa",
   "metadata": {},
   "outputs": [],
   "source": [
    "check = gdf.loc[gdf['city_sector'].str[-1] == 'B', 'ord_stname_concat'].unique().tolist()"
   ]
  },
  {
   "cell_type": "code",
   "execution_count": 17,
   "id": "641396d4",
   "metadata": {},
   "outputs": [
    {
     "data": {
      "text/plain": [
       "[]"
      ]
     },
     "execution_count": 17,
     "metadata": {},
     "output_type": "execute_result"
    }
   ],
   "source": [
    "check"
   ]
  },
  {
   "cell_type": "code",
   "execution_count": 18,
   "id": "4b782c98",
   "metadata": {},
   "outputs": [],
   "source": [
    "# let's create a unique name field"
   ]
  },
  {
   "cell_type": "code",
   "execution_count": 19,
   "id": "c6c7e568",
   "metadata": {},
   "outputs": [],
   "source": [
    "gdf['ord_stname_unique'] = gdf.apply(func = create_name, axis = 1)"
   ]
  },
  {
   "cell_type": "code",
   "execution_count": 20,
   "id": "0592213b",
   "metadata": {},
   "outputs": [
    {
     "data": {
      "text/plain": [
       "(3692,)"
      ]
     },
     "execution_count": 20,
     "metadata": {},
     "output_type": "execute_result"
    }
   ],
   "source": [
    "gdf['ord_stname_concat'].unique().shape"
   ]
  },
  {
   "cell_type": "code",
   "execution_count": 21,
   "id": "75312af2",
   "metadata": {},
   "outputs": [
    {
     "data": {
      "text/plain": [
       "(3696,)"
      ]
     },
     "execution_count": 21,
     "metadata": {},
     "output_type": "execute_result"
    }
   ],
   "source": [
    "gdf['ord_stname_unique'].unique().shape"
   ]
  },
  {
   "cell_type": "code",
   "execution_count": 22,
   "id": "52a29f1c",
   "metadata": {},
   "outputs": [
    {
     "data": {
      "text/plain": [
       "MultiLineString    34378\n",
       "Name: count, dtype: int64"
      ]
     },
     "execution_count": 22,
     "metadata": {},
     "output_type": "execute_result"
    }
   ],
   "source": [
    "# let's check what type of geometry we are working with\n",
    "gdf['geometry'].geom_type.value_counts()"
   ]
  },
  {
   "cell_type": "code",
   "execution_count": 23,
   "id": "d98183f6",
   "metadata": {},
   "outputs": [],
   "source": [
    "# everything is a MultLineString??? is that necessary?\n",
    "# we can call the gdf.explode() function to convert MultiLineStrings to LineStrings\n",
    "# if the record counts are the same, we can convert everything to LineStrings \n",
    "test_gdf = gdf.explode()"
   ]
  },
  {
   "cell_type": "code",
   "execution_count": 24,
   "id": "1a11a7c0",
   "metadata": {},
   "outputs": [
    {
     "data": {
      "text/plain": [
       "(34378, 39)"
      ]
     },
     "execution_count": 24,
     "metadata": {},
     "output_type": "execute_result"
    }
   ],
   "source": [
    "test_gdf.shape"
   ]
  },
  {
   "cell_type": "code",
   "execution_count": 25,
   "id": "6814e325",
   "metadata": {},
   "outputs": [],
   "source": [
    "# nope! The number of records is the same, indicating that MultiLineStrings are not necessary\n",
    "gdf = test_gdf.copy()"
   ]
  },
  {
   "cell_type": "code",
   "execution_count": 26,
   "id": "9c3f53bb",
   "metadata": {},
   "outputs": [
    {
     "data": {
      "text/plain": [
       "LineString    34378\n",
       "Name: count, dtype: int64"
      ]
     },
     "execution_count": 26,
     "metadata": {},
     "output_type": "execute_result"
    }
   ],
   "source": [
    "gdf['geometry'].geom_type.value_counts()"
   ]
  },
  {
   "cell_type": "markdown",
   "id": "133228ea-cd23-41f8-baf8-7d2a46dc2815",
   "metadata": {},
   "source": [
    "# write the geodataframe to disk as a gpkg"
   ]
  },
  {
   "cell_type": "code",
   "execution_count": 27,
   "id": "65fc22af-3d45-427c-b76a-a6af6e9c6696",
   "metadata": {},
   "outputs": [],
   "source": [
    "# reproject to wgs 84\n",
    "gdf = gdf.to_crs(crs = 'epsg:4326')"
   ]
  },
  {
   "cell_type": "code",
   "execution_count": 28,
   "id": "7d327915-9990-4daa-ba35-9900582cd34c",
   "metadata": {},
   "outputs": [],
   "source": [
    "write_gdf(gdf = gdf, output_file_path=rc.OUTPUT_FILE_PATH,\n",
    "           output_file_name=rc.S01_SND_OUT_FILE_NAME)"
   ]
  },
  {
   "cell_type": "markdown",
   "id": "2d2e36b8",
   "metadata": {},
   "source": [
    "# CREATE A GRAPH"
   ]
  },
  {
   "cell_type": "code",
   "execution_count": 30,
   "id": "2627d252",
   "metadata": {},
   "outputs": [
    {
     "data": {
      "text/html": [
       "<div>\n",
       "<style scoped>\n",
       "    .dataframe tbody tr th:only-of-type {\n",
       "        vertical-align: middle;\n",
       "    }\n",
       "\n",
       "    .dataframe tbody tr th {\n",
       "        vertical-align: top;\n",
       "    }\n",
       "\n",
       "    .dataframe thead th {\n",
       "        text-align: right;\n",
       "    }\n",
       "</style>\n",
       "<table border=\"1\" class=\"dataframe\">\n",
       "  <thead>\n",
       "    <tr style=\"text-align: right;\">\n",
       "      <th></th>\n",
       "      <th>f_intr_id</th>\n",
       "      <th>t_intr_id</th>\n",
       "      <th>snd_id</th>\n",
       "      <th>snd_feacode</th>\n",
       "      <th>citycode</th>\n",
       "      <th>stname_id</th>\n",
       "      <th>st_code</th>\n",
       "      <th>arterial_code</th>\n",
       "      <th>segment_type</th>\n",
       "      <th>agency_code</th>\n",
       "      <th>...</th>\n",
       "      <th>r_state</th>\n",
       "      <th>r_zip</th>\n",
       "      <th>sndseg_update</th>\n",
       "      <th>compkey</th>\n",
       "      <th>comptype</th>\n",
       "      <th>unitid</th>\n",
       "      <th>unitid2</th>\n",
       "      <th>city_sector</th>\n",
       "      <th>ord_stname_unique</th>\n",
       "      <th>geometry</th>\n",
       "    </tr>\n",
       "  </thead>\n",
       "  <tbody>\n",
       "    <tr>\n",
       "      <th>0</th>\n",
       "      <td>17740</td>\n",
       "      <td>17791</td>\n",
       "      <td>33478</td>\n",
       "      <td>5</td>\n",
       "      <td>1</td>\n",
       "      <td>566</td>\n",
       "      <td>0</td>\n",
       "      <td>1</td>\n",
       "      <td>1</td>\n",
       "      <td>1</td>\n",
       "      <td>...</td>\n",
       "      <td>WA</td>\n",
       "      <td>98108</td>\n",
       "      <td>2007-04-22 00:00:00+00:00</td>\n",
       "      <td>8460</td>\n",
       "      <td>68</td>\n",
       "      <td>04805</td>\n",
       "      <td>0820</td>\n",
       "      <td>S</td>\n",
       "      <td>8TH AVE S</td>\n",
       "      <td>LINESTRING (-122.32287 47.52982, -122.32289 47...</td>\n",
       "    </tr>\n",
       "    <tr>\n",
       "      <th>1</th>\n",
       "      <td>11391</td>\n",
       "      <td>11295</td>\n",
       "      <td>20097</td>\n",
       "      <td>1</td>\n",
       "      <td>1</td>\n",
       "      <td>659</td>\n",
       "      <td>0</td>\n",
       "      <td>0</td>\n",
       "      <td>1</td>\n",
       "      <td>1</td>\n",
       "      <td>...</td>\n",
       "      <td>WA</td>\n",
       "      <td>98102</td>\n",
       "      <td>2007-04-22 00:00:00+00:00</td>\n",
       "      <td>9236</td>\n",
       "      <td>68</td>\n",
       "      <td>05465</td>\n",
       "      <td>0010</td>\n",
       "      <td>E</td>\n",
       "      <td>BELMONT AVE E</td>\n",
       "      <td>LINESTRING (-122.32402 47.61849, -122.32403 47...</td>\n",
       "    </tr>\n",
       "    <tr>\n",
       "      <th>2</th>\n",
       "      <td>982</td>\n",
       "      <td>979</td>\n",
       "      <td>42208</td>\n",
       "      <td>1</td>\n",
       "      <td>0</td>\n",
       "      <td>1797</td>\n",
       "      <td>40</td>\n",
       "      <td>0</td>\n",
       "      <td>1</td>\n",
       "      <td>3</td>\n",
       "      <td>...</td>\n",
       "      <td>WA</td>\n",
       "      <td>98155</td>\n",
       "      <td>2004-05-19 00:00:00+00:00</td>\n",
       "      <td>0</td>\n",
       "      <td>0</td>\n",
       "      <td>0</td>\n",
       "      <td>0</td>\n",
       "      <td>NE</td>\n",
       "      <td>NE 187TH CT</td>\n",
       "      <td>LINESTRING (-122.29193 47.7649, -122.29127 47....</td>\n",
       "    </tr>\n",
       "    <tr>\n",
       "      <th>3</th>\n",
       "      <td>11695</td>\n",
       "      <td>11696</td>\n",
       "      <td>20460</td>\n",
       "      <td>77</td>\n",
       "      <td>1</td>\n",
       "      <td>1444</td>\n",
       "      <td>20</td>\n",
       "      <td>0</td>\n",
       "      <td>6</td>\n",
       "      <td>1</td>\n",
       "      <td>...</td>\n",
       "      <td>WA</td>\n",
       "      <td>98122</td>\n",
       "      <td>2004-05-19 00:00:00+00:00</td>\n",
       "      <td>0</td>\n",
       "      <td>0</td>\n",
       "      <td>0</td>\n",
       "      <td>0</td>\n",
       "      <td>E</td>\n",
       "      <td>E PIKE ST</td>\n",
       "      <td>LINESTRING (-122.30782 47.61411, -122.30749 47...</td>\n",
       "    </tr>\n",
       "    <tr>\n",
       "      <th>4</th>\n",
       "      <td>6257</td>\n",
       "      <td>6252</td>\n",
       "      <td>9237</td>\n",
       "      <td>1</td>\n",
       "      <td>1</td>\n",
       "      <td>2086</td>\n",
       "      <td>0</td>\n",
       "      <td>0</td>\n",
       "      <td>1</td>\n",
       "      <td>1</td>\n",
       "      <td>...</td>\n",
       "      <td>WA</td>\n",
       "      <td>98107</td>\n",
       "      <td>2012-10-12 00:00:00+00:00</td>\n",
       "      <td>18575</td>\n",
       "      <td>68</td>\n",
       "      <td>14630</td>\n",
       "      <td>0200</td>\n",
       "      <td>NW</td>\n",
       "      <td>NW 63RD ST</td>\n",
       "      <td>LINESTRING (-122.38214 47.67456, -122.38476 47...</td>\n",
       "    </tr>\n",
       "  </tbody>\n",
       "</table>\n",
       "<p>5 rows × 39 columns</p>\n",
       "</div>"
      ],
      "text/plain": [
       "   f_intr_id  t_intr_id  snd_id  snd_feacode  citycode  stname_id  st_code  \\\n",
       "0      17740      17791   33478            5         1        566        0   \n",
       "1      11391      11295   20097            1         1        659        0   \n",
       "2        982        979   42208            1         0       1797       40   \n",
       "3      11695      11696   20460           77         1       1444       20   \n",
       "4       6257       6252    9237            1         1       2086        0   \n",
       "\n",
       "   arterial_code  segment_type  agency_code  ...  r_state  r_zip  \\\n",
       "0              1             1            1  ...       WA  98108   \n",
       "1              0             1            1  ...       WA  98102   \n",
       "2              0             1            3  ...       WA  98155   \n",
       "3              0             6            1  ...       WA  98122   \n",
       "4              0             1            1  ...       WA  98107   \n",
       "\n",
       "              sndseg_update  compkey  comptype  unitid  unitid2  city_sector  \\\n",
       "0 2007-04-22 00:00:00+00:00     8460        68   04805     0820            S   \n",
       "1 2007-04-22 00:00:00+00:00     9236        68   05465     0010            E   \n",
       "2 2004-05-19 00:00:00+00:00        0         0       0        0           NE   \n",
       "3 2004-05-19 00:00:00+00:00        0         0       0        0            E   \n",
       "4 2012-10-12 00:00:00+00:00    18575        68   14630     0200           NW   \n",
       "\n",
       "   ord_stname_unique                                           geometry  \n",
       "0          8TH AVE S  LINESTRING (-122.32287 47.52982, -122.32289 47...  \n",
       "1      BELMONT AVE E  LINESTRING (-122.32402 47.61849, -122.32403 47...  \n",
       "2        NE 187TH CT  LINESTRING (-122.29193 47.7649, -122.29127 47....  \n",
       "3          E PIKE ST  LINESTRING (-122.30782 47.61411, -122.30749 47...  \n",
       "4         NW 63RD ST  LINESTRING (-122.38214 47.67456, -122.38476 47...  \n",
       "\n",
       "[5 rows x 39 columns]"
      ]
     },
     "execution_count": 30,
     "metadata": {},
     "output_type": "execute_result"
    }
   ],
   "source": [
    "gdf.head()"
   ]
  },
  {
   "cell_type": "code",
   "execution_count": 31,
   "id": "3c5a46df",
   "metadata": {},
   "outputs": [],
   "source": [
    "sg = nx.from_pandas_edgelist(df = gdf,\n",
    "source = 'f_intr_id', target = 't_intr_id', edge_attr = True)"
   ]
  },
  {
   "cell_type": "code",
   "execution_count": 32,
   "id": "8343fc07",
   "metadata": {},
   "outputs": [
    {
     "data": {
      "text/plain": [
       "True"
      ]
     },
     "execution_count": 32,
     "metadata": {},
     "output_type": "execute_result"
    }
   ],
   "source": [
    "sg.has_edge(u = 7710, v = 7711)"
   ]
  },
  {
   "cell_type": "markdown",
   "id": "9cb3e564-6609-486d-8565-83bdddcc3688",
   "metadata": {},
   "source": [
    "# export the blank street types to an excel file for manual inspection"
   ]
  },
  {
   "cell_type": "code",
   "execution_count": null,
   "id": "df8aedae-4709-4f33-92ec-3a2054a9454f",
   "metadata": {},
   "outputs": [],
   "source": [
    "gdf['ord_street_type'].unique()"
   ]
  },
  {
   "cell_type": "code",
   "execution_count": null,
   "id": "6b77c227-dc1c-492e-ac66-6dd14b83e643",
   "metadata": {},
   "outputs": [],
   "source": [
    "blank_street_type_df = gdf.loc[gdf['ord_street_type'].isna(), 'ord_stname_concat'].drop_duplicates().to_frame()"
   ]
  },
  {
   "cell_type": "code",
   "execution_count": null,
   "id": "f48ac460-d3ed-4631-bc51-59dbb44e2175",
   "metadata": {},
   "outputs": [],
   "source": [
    "blank_street_type_df.shape"
   ]
  },
  {
   "cell_type": "code",
   "execution_count": null,
   "id": "b238d8cb-6148-4a0f-8e3a-edc1c8cb88ab",
   "metadata": {},
   "outputs": [],
   "source": [
    "ofpn = os.path.join(rc.ANALYSIS_OUTPUT_FILE_PATH, rc.S01_BST_OUT_FILE_NAME)"
   ]
  },
  {
   "cell_type": "code",
   "execution_count": null,
   "id": "3f81673e-ac90-4c06-a767-7ba3e7f11465",
   "metadata": {},
   "outputs": [],
   "source": [
    "blank_street_type_df.to_excel(excel_writer=ofpn, index = False)"
   ]
  },
  {
   "cell_type": "code",
   "execution_count": null,
   "id": "726689b3",
   "metadata": {},
   "outputs": [],
   "source": []
  }
 ],
 "metadata": {
  "kernelspec": {
   "display_name": "analysis",
   "language": "python",
   "name": "python3"
  },
  "language_info": {
   "codemirror_mode": {
    "name": "ipython",
    "version": 3
   },
   "file_extension": ".py",
   "mimetype": "text/x-python",
   "name": "python",
   "nbconvert_exporter": "python",
   "pygments_lexer": "ipython3",
   "version": "3.12.7"
  }
 },
 "nbformat": 4,
 "nbformat_minor": 5
}
