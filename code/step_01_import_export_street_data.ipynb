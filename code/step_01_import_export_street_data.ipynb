{
 "cells": [
  {
   "cell_type": "markdown",
   "id": "c76742e8",
   "metadata": {},
   "source": [
    "# Part 01: Import and export the street data\n",
    "michael babb  \n",
    "2024 11 24"
   ]
  },
  {
   "cell_type": "code",
   "execution_count": null,
   "id": "e88ca8b2-b75d-4e72-8fc7-65c4cea61cde",
   "metadata": {},
   "outputs": [],
   "source": [
    "# standard\n",
    "import os"
   ]
  },
  {
   "cell_type": "code",
   "execution_count": null,
   "id": "0778d9a5-0c62-4724-be28-c21598d23b6f",
   "metadata": {},
   "outputs": [],
   "source": [
    "# external\n",
    "import geopandas as gpd\n",
    "import numpy as np\n",
    "import pandas as pd"
   ]
  },
  {
   "cell_type": "code",
   "execution_count": null,
   "id": "6c351ccd",
   "metadata": {},
   "outputs": [],
   "source": [
    "# custom\n",
    "import run_constants as rc\n",
    "from utils import create_city_sector, write_gdf, create_name"
   ]
  },
  {
   "cell_type": "markdown",
   "id": "d56ea77e-ffd7-4326-b793-415f8a131ef2",
   "metadata": {},
   "source": [
    "# load the street network shapefile as a gpd"
   ]
  },
  {
   "cell_type": "code",
   "execution_count": null,
   "id": "8188f178",
   "metadata": {},
   "outputs": [],
   "source": [
    "# setup the output paths\n",
    "if not os.path.exists(rc.OUTPUT_FILE_PATH):\n",
    "    os.makedirs(rc.OUTPUT_FILE_PATH)"
   ]
  },
  {
   "cell_type": "code",
   "execution_count": null,
   "id": "ddf62724-9105-44c9-b983-e4f520328fa9",
   "metadata": {},
   "outputs": [],
   "source": [
    "fpn = os.path.join(rc.INPUT_FILE_PATH, rc.S01_SND_IN_FILE_NAME)"
   ]
  },
  {
   "cell_type": "code",
   "execution_count": null,
   "id": "2cbdb5c1-c973-4882-b442-cf5396e90d3e",
   "metadata": {},
   "outputs": [],
   "source": [
    "gdf = gpd.read_file(filename = fpn)"
   ]
  },
  {
   "cell_type": "code",
   "execution_count": null,
   "id": "e961afc3",
   "metadata": {},
   "outputs": [],
   "source": [
    "gdf.shape"
   ]
  },
  {
   "cell_type": "markdown",
   "id": "b10491a0-78d3-4fc7-860a-2e42825b8bc4",
   "metadata": {},
   "source": [
    "# lower case and rename columns"
   ]
  },
  {
   "cell_type": "code",
   "execution_count": null,
   "id": "d8fafe8d-92b2-429e-8117-ce2a4ae4ac1b",
   "metadata": {},
   "outputs": [],
   "source": [
    "gdf.columns = [cn.lower() for cn in gdf.columns]"
   ]
  },
  {
   "cell_type": "code",
   "execution_count": null,
   "id": "4987fb26-088d-41ec-9dcd-ed4359d57760",
   "metadata": {},
   "outputs": [],
   "source": [
    "gdf.columns"
   ]
  },
  {
   "cell_type": "markdown",
   "id": "a32ee210-b606-474a-beb2-da7e9f61a930",
   "metadata": {},
   "source": [
    "# change datatypes"
   ]
  },
  {
   "cell_type": "code",
   "execution_count": null,
   "id": "128e9f54-8fa8-4066-9000-39b4fcfbc94f",
   "metadata": {},
   "outputs": [],
   "source": [
    "for cn in gdf.columns:\n",
    "    if gdf[cn].dtype == np.int32:\n",
    "        gdf[cn] = gdf[cn].astype(np.int64)\n",
    "    "
   ]
  },
  {
   "cell_type": "markdown",
   "id": "ba2e9ad8-cac6-4d57-a64f-46c2c9a22e55",
   "metadata": {},
   "source": [
    "# indicate the sector of the city the street is in"
   ]
  },
  {
   "cell_type": "code",
   "execution_count": null,
   "id": "46ade67e-c27f-442d-94e2-93ad66dd4fe7",
   "metadata": {},
   "outputs": [],
   "source": [
    "# combine the ord_pre_dir and the ord_suf_dir to get the sector of the city."
   ]
  },
  {
   "cell_type": "code",
   "execution_count": null,
   "id": "20bf5087-de0f-413a-9bc3-842396fd8fc6",
   "metadata": {},
   "outputs": [],
   "source": [
    "col_names = ['ord_pre_dir', 'ord_suf_dir']"
   ]
  },
  {
   "cell_type": "code",
   "execution_count": null,
   "id": "3149a4ab-f51b-4502-a88f-1dff800def1d",
   "metadata": {},
   "outputs": [],
   "source": [
    "for cn in col_names:\n",
    "    gdf[cn] = gdf[cn].fillna('')"
   ]
  },
  {
   "cell_type": "code",
   "execution_count": null,
   "id": "4da55af2-6695-4597-8711-2eb58981b3aa",
   "metadata": {},
   "outputs": [],
   "source": [
    "gdf['city_sector'] = gdf.apply(func = create_city_sector, axis = 1)"
   ]
  },
  {
   "cell_type": "code",
   "execution_count": null,
   "id": "ae21a8ba-d7a3-4fac-bc07-cc24d42af8f5",
   "metadata": {},
   "outputs": [],
   "source": [
    "gdf['city_sector'].unique()"
   ]
  },
  {
   "cell_type": "markdown",
   "id": "7a9455ee",
   "metadata": {},
   "source": [
    "## note: I used qGIS to manually recode the following streets:\n",
    "MAGNOLIA BR WB: W  \n",
    "WEST SEATTLE BR WB: mix of SW and S  \n",
    "WEST SEATTLE BR EB: mix of SW and S  \n",
    "1ST AV S BR SB: mix of SW and S  \n",
    "1ST AV S BR NB: mix of SW and S  \n",
    "(it's a lot easier to do this in qGIS)"
   ]
  },
  {
   "cell_type": "code",
   "execution_count": null,
   "id": "b44573fa",
   "metadata": {},
   "outputs": [],
   "source": [
    "check = gdf.loc[gdf['city_sector'].str[-1] == 'B', 'ord_stname_concat'].unique().tolist()"
   ]
  },
  {
   "cell_type": "code",
   "execution_count": null,
   "id": "641396d4",
   "metadata": {},
   "outputs": [],
   "source": [
    "check"
   ]
  },
  {
   "cell_type": "code",
   "execution_count": null,
   "id": "4b782c98",
   "metadata": {},
   "outputs": [],
   "source": [
    "# let's create a unique name field"
   ]
  },
  {
   "cell_type": "code",
   "execution_count": null,
   "id": "c6c7e568",
   "metadata": {},
   "outputs": [],
   "source": [
    "gdf['ord_stname_unique'] = gdf.apply(func = create_name, axis = 1)"
   ]
  },
  {
   "cell_type": "code",
   "execution_count": null,
   "id": "0592213b",
   "metadata": {},
   "outputs": [],
   "source": [
    "gdf['ord_stname_concat'].unique().shape"
   ]
  },
  {
   "cell_type": "code",
   "execution_count": null,
   "id": "75312af2",
   "metadata": {},
   "outputs": [],
   "source": [
    "gdf['ord_stname_unique'].unique().shape"
   ]
  },
  {
   "cell_type": "markdown",
   "id": "133228ea-cd23-41f8-baf8-7d2a46dc2815",
   "metadata": {},
   "source": [
    "# write the geodataframe to disk as a gpkg"
   ]
  },
  {
   "cell_type": "code",
   "execution_count": null,
   "id": "65fc22af-3d45-427c-b76a-a6af6e9c6696",
   "metadata": {},
   "outputs": [],
   "source": [
    "# reproject to wgs 84\n",
    "gdf = gdf.to_crs(crs = 'epsg:4326')"
   ]
  },
  {
   "cell_type": "code",
   "execution_count": null,
   "id": "7d327915-9990-4daa-ba35-9900582cd34c",
   "metadata": {},
   "outputs": [],
   "source": [
    "write_gdf(gdf = gdf, output_file_path=rc.OUTPUT_FILE_PATH,\n",
    "           output_file_name=rc.S01_SND_OUT_FILE_NAME)"
   ]
  },
  {
   "cell_type": "markdown",
   "id": "9cb3e564-6609-486d-8565-83bdddcc3688",
   "metadata": {},
   "source": [
    "# export the blank street types to an excel file for manual inspection"
   ]
  },
  {
   "cell_type": "code",
   "execution_count": null,
   "id": "df8aedae-4709-4f33-92ec-3a2054a9454f",
   "metadata": {},
   "outputs": [],
   "source": [
    "gdf['ord_street_type'].unique()"
   ]
  },
  {
   "cell_type": "code",
   "execution_count": null,
   "id": "6b77c227-dc1c-492e-ac66-6dd14b83e643",
   "metadata": {},
   "outputs": [],
   "source": [
    "blank_street_type_df = gdf.loc[gdf['ord_street_type'].isna(), 'ord_stname_concat'].drop_duplicates().to_frame()"
   ]
  },
  {
   "cell_type": "code",
   "execution_count": null,
   "id": "f48ac460-d3ed-4631-bc51-59dbb44e2175",
   "metadata": {},
   "outputs": [],
   "source": [
    "blank_street_type_df.shape"
   ]
  },
  {
   "cell_type": "code",
   "execution_count": null,
   "id": "b238d8cb-6148-4a0f-8e3a-edc1c8cb88ab",
   "metadata": {},
   "outputs": [],
   "source": [
    "ofpn = os.path.join(rc.ANALYSIS_OUTPUT_FILE_PATH, rc.S01_BST_OUT_FILE_NAME)"
   ]
  },
  {
   "cell_type": "code",
   "execution_count": null,
   "id": "3f81673e-ac90-4c06-a767-7ba3e7f11465",
   "metadata": {},
   "outputs": [],
   "source": [
    "blank_street_type_df.to_excel(excel_writer=ofpn, index = False)"
   ]
  },
  {
   "cell_type": "code",
   "execution_count": null,
   "id": "726689b3",
   "metadata": {},
   "outputs": [],
   "source": []
  }
 ],
 "metadata": {
  "kernelspec": {
   "display_name": "analysis",
   "language": "python",
   "name": "python3"
  },
  "language_info": {
   "codemirror_mode": {
    "name": "ipython",
    "version": 3
   },
   "file_extension": ".py",
   "mimetype": "text/x-python",
   "name": "python",
   "nbconvert_exporter": "python",
   "pygments_lexer": "ipython3",
   "version": "3.12.7"
  }
 },
 "nbformat": 4,
 "nbformat_minor": 5
}
