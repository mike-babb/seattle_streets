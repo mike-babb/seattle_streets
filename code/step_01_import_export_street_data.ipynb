{
 "cells": [
  {
   "cell_type": "code",
   "execution_count": 1,
   "id": "fed9e25b-c5b9-4aee-89cd-15a7da3945c0",
   "metadata": {},
   "outputs": [],
   "source": [
    "# mike babb\n",
    "# 2024 06 28\n",
    "# what streets start and stop?\n",
    "# step 01: import data / perform some initial formatting"
   ]
  },
  {
   "cell_type": "code",
   "execution_count": 2,
   "id": "e88ca8b2-b75d-4e72-8fc7-65c4cea61cde",
   "metadata": {},
   "outputs": [],
   "source": [
    "# standard\n",
    "import os"
   ]
  },
  {
   "cell_type": "code",
   "execution_count": 3,
   "id": "0778d9a5-0c62-4724-be28-c21598d23b6f",
   "metadata": {},
   "outputs": [],
   "source": [
    "# external\n",
    "import geopandas as gpd\n",
    "import networkx as nx\n",
    "import numpy as np\n",
    "import pandas as pd\n",
    "import shapely"
   ]
  },
  {
   "cell_type": "markdown",
   "id": "d56ea77e-ffd7-4326-b793-415f8a131ef2",
   "metadata": {},
   "source": [
    "# load the streent network shapefile as a gpd"
   ]
  },
  {
   "cell_type": "code",
   "execution_count": 4,
   "id": "d07cfb9b-9184-48d7-af77-035e2390d9e5",
   "metadata": {},
   "outputs": [],
   "source": [
    "# file paths\n",
    "input_file_path = 'H:/project/seattle_streets/data/' \n",
    "output_file_path = 'H:/project/seattle_streets/data/'"
   ]
  },
  {
   "cell_type": "code",
   "execution_count": 5,
   "id": "3c1039f5-a281-4460-b65d-98a6ca2556b7",
   "metadata": {},
   "outputs": [],
   "source": [
    "file_name = 'Street_Network_Database_SND_5117857036965774451.gpkg'"
   ]
  },
  {
   "cell_type": "code",
   "execution_count": 6,
   "id": "ddf62724-9105-44c9-b983-e4f520328fa9",
   "metadata": {},
   "outputs": [],
   "source": [
    "fpn = os.path.join(input_file_path, file_name)"
   ]
  },
  {
   "cell_type": "code",
   "execution_count": 7,
   "id": "2cbdb5c1-c973-4882-b442-cf5396e90d3e",
   "metadata": {},
   "outputs": [
    {
     "name": "stderr",
     "output_type": "stream",
     "text": [
      "C:\\Users\\babbm\\anaconda3\\envs\\analysis\\Lib\\site-packages\\pyogrio\\raw.py:198: RuntimeWarning: Non-conformant content for record 1 in column SNDSEG_UPDATE, 2007-04-22T00:00:00.0Z, successfully parsed\n",
      "  return ogr_read(\n"
     ]
    }
   ],
   "source": [
    "gdf = gpd.read_file(filename = fpn)"
   ]
  },
  {
   "cell_type": "markdown",
   "id": "b10491a0-78d3-4fc7-860a-2e42825b8bc4",
   "metadata": {},
   "source": [
    "# LOWER CASE AND RENAME COLUMNS"
   ]
  },
  {
   "cell_type": "code",
   "execution_count": 8,
   "id": "d8fafe8d-92b2-429e-8117-ce2a4ae4ac1b",
   "metadata": {},
   "outputs": [],
   "source": [
    "gdf.columns = [cn.lower() for cn in gdf.columns]"
   ]
  },
  {
   "cell_type": "code",
   "execution_count": 9,
   "id": "4987fb26-088d-41ec-9dcd-ed4359d57760",
   "metadata": {},
   "outputs": [
    {
     "data": {
      "text/plain": [
       "Index(['f_intr_id', 't_intr_id', 'snd_id', 'snd_feacode', 'citycode',\n",
       "       'stname_id', 'st_code', 'arterial_code', 'segment_type', 'agency_code',\n",
       "       'access_code', 'divided_code', 'structure_type', 'legalloc_code',\n",
       "       'vehicle_use_code', 'gis_seg_length', 'l_adrs_from', 'l_adrs_to',\n",
       "       'r_adrs_from', 'r_adrs_to', 'ord_pre_dir', 'ord_street_name',\n",
       "       'ord_street_type', 'ord_suf_dir', 'ord_stname_concat', 'l_city',\n",
       "       'l_state', 'l_zip', 'r_city', 'r_state', 'r_zip', 'sndseg_update',\n",
       "       'compkey', 'comptype', 'unitid', 'unitid2', 'geometry'],\n",
       "      dtype='object')"
      ]
     },
     "execution_count": 9,
     "metadata": {},
     "output_type": "execute_result"
    }
   ],
   "source": [
    "gdf.columns"
   ]
  },
  {
   "cell_type": "markdown",
   "id": "ba2e9ad8-cac6-4d57-a64f-46c2c9a22e55",
   "metadata": {},
   "source": [
    "# ADD A COLUMN INDICATING WHICH PORTION OF THE CITY THE STREET IS IN"
   ]
  },
  {
   "cell_type": "code",
   "execution_count": 10,
   "id": "46ade67e-c27f-442d-94e2-93ad66dd4fe7",
   "metadata": {},
   "outputs": [],
   "source": [
    "# combine the ord_pre_dir and the ord_suf_dir to get the portion of the city."
   ]
  },
  {
   "cell_type": "code",
   "execution_count": 11,
   "id": "20bf5087-de0f-413a-9bc3-842396fd8fc6",
   "metadata": {},
   "outputs": [],
   "source": [
    "col_names = ['ord_pre_dir', 'ord_suf_dir']"
   ]
  },
  {
   "cell_type": "code",
   "execution_count": 12,
   "id": "3149a4ab-f51b-4502-a88f-1dff800def1d",
   "metadata": {},
   "outputs": [],
   "source": [
    "for cn in col_names:\n",
    "    gdf[cn] = gdf[cn].fillna('')"
   ]
  },
  {
   "cell_type": "code",
   "execution_count": 13,
   "id": "f06fcc5b-17ea-4135-8d0b-3b8668cd8a68",
   "metadata": {},
   "outputs": [],
   "source": [
    "def create_city_portion(my_row:pd.Series):\n",
    "    \n",
    "    opd = my_row['ord_pre_dir']\n",
    "    osd = my_row['ord_suf_dir']\n",
    "\n",
    "    outcome = opd + ' ' + osd\n",
    "    outcome = outcome.strip()\n",
    "    if outcome == '':\n",
    "        outcome = ' '    \n",
    "    \n",
    "    return outcome"
   ]
  },
  {
   "cell_type": "code",
   "execution_count": 14,
   "id": "4da55af2-6695-4597-8711-2eb58981b3aa",
   "metadata": {},
   "outputs": [],
   "source": [
    "gdf['city_portion'] = gdf.apply(create_city_portion, axis = 1)"
   ]
  },
  {
   "cell_type": "code",
   "execution_count": 15,
   "id": "ae21a8ba-d7a3-4fac-bc07-cc24d42af8f5",
   "metadata": {},
   "outputs": [
    {
     "data": {
      "text/plain": [
       "array(['S', 'E', 'NE', 'NW', 'N', ' ', 'SW', 'W', 'WB', 'EB', 'SB', 'NB'],\n",
       "      dtype=object)"
      ]
     },
     "execution_count": 15,
     "metadata": {},
     "output_type": "execute_result"
    }
   ],
   "source": [
    "gdf['city_portion'].unique()"
   ]
  },
  {
   "cell_type": "markdown",
   "id": "133228ea-cd23-41f8-baf8-7d2a46dc2815",
   "metadata": {},
   "source": [
    "# WRITE THE GEODATAFRAME TO DISK AS A GPKG"
   ]
  },
  {
   "cell_type": "code",
   "execution_count": 16,
   "id": "cae076d0-5a8c-4b6d-919d-2cd317f4a76d",
   "metadata": {},
   "outputs": [],
   "source": [
    "# file path\n",
    "output_file_name = 'Street_Network_Database_Complete.gpkg'"
   ]
  },
  {
   "cell_type": "code",
   "execution_count": 17,
   "id": "26ce85db-c0e5-435d-8ada-07336e002bf7",
   "metadata": {},
   "outputs": [],
   "source": [
    "ofpn = os.path.join(output_file_path, output_file_name)"
   ]
  },
  {
   "cell_type": "code",
   "execution_count": 18,
   "id": "65fc22af-3d45-427c-b76a-a6af6e9c6696",
   "metadata": {},
   "outputs": [],
   "source": [
    "# reproject to wgs 84\n",
    "gdf = gdf.to_crs(crs = 'epsg:4326')"
   ]
  },
  {
   "cell_type": "code",
   "execution_count": 19,
   "id": "7d327915-9990-4daa-ba35-9900582cd34c",
   "metadata": {},
   "outputs": [],
   "source": [
    "gdf.to_file(filename = ofpn, driver = 'GPKG', index = False)"
   ]
  },
  {
   "cell_type": "markdown",
   "id": "9cb3e564-6609-486d-8565-83bdddcc3688",
   "metadata": {},
   "source": [
    "# EXPORT THE BLANK STREET TYPES TO AN EXCEL FILE FOR MANUAL INSPECTION"
   ]
  },
  {
   "cell_type": "code",
   "execution_count": 20,
   "id": "df8aedae-4709-4f33-92ec-3a2054a9454f",
   "metadata": {},
   "outputs": [
    {
     "data": {
      "text/plain": [
       "array(['AVE', 'CT', 'ST', 'PL', 'LN', 'RD', 'DR', 'WAY', 'PKWY', 'BLVD',\n",
       "       'CIR', 'TER', None, 'AL', 'RP', 'LOOP', 'OP', 'TRL', 'BR', 'ET',\n",
       "       'VIEW', 'HWY', 'PZ', 'MALL'], dtype=object)"
      ]
     },
     "execution_count": 20,
     "metadata": {},
     "output_type": "execute_result"
    }
   ],
   "source": [
    "gdf['ord_street_type'].unique()"
   ]
  },
  {
   "cell_type": "code",
   "execution_count": 21,
   "id": "6b77c227-dc1c-492e-ac66-6dd14b83e643",
   "metadata": {},
   "outputs": [],
   "source": [
    "blank_street_type_df = gdf.loc[gdf['ord_street_type'].isna(), 'ord_stname_concat'].drop_duplicates().to_frame()"
   ]
  },
  {
   "cell_type": "code",
   "execution_count": 22,
   "id": "f48ac460-d3ed-4631-bc51-59dbb44e2175",
   "metadata": {},
   "outputs": [
    {
     "data": {
      "text/plain": [
       "(80, 1)"
      ]
     },
     "execution_count": 22,
     "metadata": {},
     "output_type": "execute_result"
    }
   ],
   "source": [
    "blank_street_type_df.shape"
   ]
  },
  {
   "cell_type": "code",
   "execution_count": 23,
   "id": "52bc1c50-f6d5-4b97-b9c5-bacf66398bf8",
   "metadata": {},
   "outputs": [],
   "source": [
    "output_file_name = 'blank_street_type.xlsx'"
   ]
  },
  {
   "cell_type": "code",
   "execution_count": 24,
   "id": "b238d8cb-6148-4a0f-8e3a-edc1c8cb88ab",
   "metadata": {},
   "outputs": [],
   "source": [
    "ofpn = os.path.join(output_file_path, output_file_name)"
   ]
  },
  {
   "cell_type": "code",
   "execution_count": 25,
   "id": "3f81673e-ac90-4c06-a767-7ba3e7f11465",
   "metadata": {},
   "outputs": [],
   "source": [
    "blank_street_type_df.to_excel(excel_writer=ofpn, index = False)"
   ]
  },
  {
   "cell_type": "code",
   "execution_count": null,
   "id": "67610e3a-82b9-40ef-995b-3f37fa3e5766",
   "metadata": {},
   "outputs": [],
   "source": []
  }
 ],
 "metadata": {
  "kernelspec": {
   "display_name": "Python 3 (ipykernel)",
   "language": "python",
   "name": "python3"
  },
  "language_info": {
   "codemirror_mode": {
    "name": "ipython",
    "version": 3
   },
   "file_extension": ".py",
   "mimetype": "text/x-python",
   "name": "python",
   "nbconvert_exporter": "python",
   "pygments_lexer": "ipython3",
   "version": "3.12.7"
  }
 },
 "nbformat": 4,
 "nbformat_minor": 5
}
