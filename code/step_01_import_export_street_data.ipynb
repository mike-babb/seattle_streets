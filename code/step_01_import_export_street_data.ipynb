{
 "cells": [
  {
   "cell_type": "markdown",
   "id": "c76742e8",
   "metadata": {},
   "source": [
    "# Part 01: Import and export the street data\n",
    "michael babb  \n",
    "2025 09 22"
   ]
  },
  {
   "cell_type": "code",
   "execution_count": 1,
   "id": "e88ca8b2-b75d-4e72-8fc7-65c4cea61cde",
   "metadata": {},
   "outputs": [],
   "source": [
    "# standard\n",
    "import os"
   ]
  },
  {
   "cell_type": "code",
   "execution_count": 2,
   "id": "0778d9a5-0c62-4724-be28-c21598d23b6f",
   "metadata": {},
   "outputs": [],
   "source": [
    "# external\n",
    "import geopandas as gpd\n",
    "import networkx as nx\n",
    "import numpy as np\n",
    "import pandas as pd"
   ]
  },
  {
   "cell_type": "code",
   "execution_count": 3,
   "id": "6c351ccd",
   "metadata": {},
   "outputs": [],
   "source": [
    "# custom\n",
    "from geo_data_io.fc_df_spatial import write_gdf\n",
    "import run_constants as rc\n",
    "from utils import create_city_sector, create_name"
   ]
  },
  {
   "cell_type": "markdown",
   "id": "d56ea77e-ffd7-4326-b793-415f8a131ef2",
   "metadata": {},
   "source": [
    "# load the street network shapefile as a gpd"
   ]
  },
  {
   "cell_type": "code",
   "execution_count": 4,
   "id": "8188f178",
   "metadata": {},
   "outputs": [],
   "source": [
    "# setup the output paths\n",
    "if not os.path.exists(rc.OUTPUT_FILE_PATH):\n",
    "    os.makedirs(rc.OUTPUT_FILE_PATH)"
   ]
  },
  {
   "cell_type": "code",
   "execution_count": 5,
   "id": "ddf62724-9105-44c9-b983-e4f520328fa9",
   "metadata": {},
   "outputs": [],
   "source": [
    "fpn = os.path.join(rc.INPUT_FILE_PATH, rc.S01_SND_IN_FILE_NAME)"
   ]
  },
  {
   "cell_type": "code",
   "execution_count": 6,
   "id": "2cbdb5c1-c973-4882-b442-cf5396e90d3e",
   "metadata": {},
   "outputs": [
    {
     "name": "stderr",
     "output_type": "stream",
     "text": [
      "c:\\Users\\babbm\\anaconda3\\envs\\analysis\\Lib\\site-packages\\pyogrio\\raw.py:198: RuntimeWarning: Non-conformant content for record 1 in column SNDSEG_UPDATE, 2007-04-22T00:00:00.0Z, successfully parsed\n",
      "  return ogr_read(\n"
     ]
    }
   ],
   "source": [
    "gdf = gpd.read_file(filename = fpn)"
   ]
  },
  {
   "cell_type": "code",
   "execution_count": 7,
   "id": "e961afc3",
   "metadata": {},
   "outputs": [
    {
     "data": {
      "text/plain": [
       "(34378, 37)"
      ]
     },
     "execution_count": 7,
     "metadata": {},
     "output_type": "execute_result"
    }
   ],
   "source": [
    "gdf.shape"
   ]
  },
  {
   "cell_type": "markdown",
   "id": "b10491a0-78d3-4fc7-860a-2e42825b8bc4",
   "metadata": {},
   "source": [
    "# lower case and rename columns"
   ]
  },
  {
   "cell_type": "code",
   "execution_count": 8,
   "id": "d8fafe8d-92b2-429e-8117-ce2a4ae4ac1b",
   "metadata": {},
   "outputs": [],
   "source": [
    "gdf.columns = [cn.lower() for cn in gdf.columns]"
   ]
  },
  {
   "cell_type": "code",
   "execution_count": 9,
   "id": "4987fb26-088d-41ec-9dcd-ed4359d57760",
   "metadata": {},
   "outputs": [
    {
     "data": {
      "text/plain": [
       "Index(['f_intr_id', 't_intr_id', 'snd_id', 'snd_feacode', 'citycode',\n",
       "       'stname_id', 'st_code', 'arterial_code', 'segment_type', 'agency_code',\n",
       "       'access_code', 'divided_code', 'structure_type', 'legalloc_code',\n",
       "       'vehicle_use_code', 'gis_seg_length', 'l_adrs_from', 'l_adrs_to',\n",
       "       'r_adrs_from', 'r_adrs_to', 'ord_pre_dir', 'ord_street_name',\n",
       "       'ord_street_type', 'ord_suf_dir', 'ord_stname_concat', 'l_city',\n",
       "       'l_state', 'l_zip', 'r_city', 'r_state', 'r_zip', 'sndseg_update',\n",
       "       'compkey', 'comptype', 'unitid', 'unitid2', 'geometry'],\n",
       "      dtype='object')"
      ]
     },
     "execution_count": 9,
     "metadata": {},
     "output_type": "execute_result"
    }
   ],
   "source": [
    "gdf.columns"
   ]
  },
  {
   "cell_type": "code",
   "execution_count": 10,
   "id": "f2740e42",
   "metadata": {},
   "outputs": [
    {
     "data": {
      "text/plain": [
       "f_intr_id                          int32\n",
       "t_intr_id                          int32\n",
       "snd_id                             int32\n",
       "snd_feacode                        int32\n",
       "citycode                           int32\n",
       "stname_id                          int32\n",
       "st_code                            int32\n",
       "arterial_code                      int32\n",
       "segment_type                       int32\n",
       "agency_code                        int32\n",
       "access_code                        int32\n",
       "divided_code                       int32\n",
       "structure_type                     int32\n",
       "legalloc_code                      int32\n",
       "vehicle_use_code                   int32\n",
       "gis_seg_length                   float64\n",
       "l_adrs_from                        int32\n",
       "l_adrs_to                          int32\n",
       "r_adrs_from                        int32\n",
       "r_adrs_to                          int32\n",
       "ord_pre_dir                       object\n",
       "ord_street_name                   object\n",
       "ord_street_type                   object\n",
       "ord_suf_dir                       object\n",
       "ord_stname_concat                 object\n",
       "l_city                            object\n",
       "l_state                           object\n",
       "l_zip                             object\n",
       "r_city                            object\n",
       "r_state                           object\n",
       "r_zip                             object\n",
       "sndseg_update        datetime64[ms, UTC]\n",
       "compkey                            int32\n",
       "comptype                           int32\n",
       "unitid                            object\n",
       "unitid2                           object\n",
       "geometry                        geometry\n",
       "dtype: object"
      ]
     },
     "execution_count": 10,
     "metadata": {},
     "output_type": "execute_result"
    }
   ],
   "source": [
    "gdf.dtypes"
   ]
  },
  {
   "cell_type": "markdown",
   "id": "a32ee210-b606-474a-beb2-da7e9f61a930",
   "metadata": {},
   "source": [
    "# change datatypes"
   ]
  },
  {
   "cell_type": "code",
   "execution_count": 11,
   "id": "128e9f54-8fa8-4066-9000-39b4fcfbc94f",
   "metadata": {},
   "outputs": [],
   "source": [
    "for cn in gdf.columns:\n",
    "    if gdf[cn].dtype == np.int32:\n",
    "        print\n",
    "        gdf[cn] = gdf[cn].astype(np.int64)    "
   ]
  },
  {
   "cell_type": "markdown",
   "id": "ba2e9ad8-cac6-4d57-a64f-46c2c9a22e55",
   "metadata": {},
   "source": [
    "# indicate the sector of the city the street is in"
   ]
  },
  {
   "cell_type": "code",
   "execution_count": 12,
   "id": "46ade67e-c27f-442d-94e2-93ad66dd4fe7",
   "metadata": {},
   "outputs": [],
   "source": [
    "# combine the ord_pre_dir and the ord_suf_dir to get the sector of the city."
   ]
  },
  {
   "cell_type": "code",
   "execution_count": 13,
   "id": "20bf5087-de0f-413a-9bc3-842396fd8fc6",
   "metadata": {},
   "outputs": [],
   "source": [
    "col_names = ['ord_pre_dir', 'ord_suf_dir']"
   ]
  },
  {
   "cell_type": "code",
   "execution_count": 14,
   "id": "3149a4ab-f51b-4502-a88f-1dff800def1d",
   "metadata": {},
   "outputs": [],
   "source": [
    "for cn in col_names:\n",
    "    gdf[cn] = gdf[cn].fillna('')"
   ]
  },
  {
   "cell_type": "code",
   "execution_count": 15,
   "id": "4da55af2-6695-4597-8711-2eb58981b3aa",
   "metadata": {},
   "outputs": [],
   "source": [
    "gdf['city_sector'] = gdf.apply(func = create_city_sector, axis = 1)"
   ]
  },
  {
   "cell_type": "code",
   "execution_count": 16,
   "id": "ae21a8ba-d7a3-4fac-bc07-cc24d42af8f5",
   "metadata": {},
   "outputs": [
    {
     "data": {
      "text/plain": [
       "array(['S', 'E', 'NE', 'NW', 'N', 'CNTR', 'SW', 'W'], dtype=object)"
      ]
     },
     "execution_count": 16,
     "metadata": {},
     "output_type": "execute_result"
    }
   ],
   "source": [
    "gdf['city_sector'].unique()"
   ]
  },
  {
   "cell_type": "markdown",
   "id": "7a9455ee",
   "metadata": {},
   "source": [
    "## note: I used qGIS to manually recode the following streets:\n",
    "MAGNOLIA BR WB: W  \n",
    "WEST SEATTLE BR WB: mix of SW and S  \n",
    "WEST SEATTLE BR EB: mix of SW and S  \n",
    "1ST AV S BR SB: mix of SW and S  \n",
    "1ST AV S BR NB: mix of SW and S  \n",
    "(it's a lot easier to do this in qGIS)"
   ]
  },
  {
   "cell_type": "code",
   "execution_count": 17,
   "id": "b44573fa",
   "metadata": {},
   "outputs": [],
   "source": [
    "check = gdf.loc[gdf['city_sector'].str[-1] == 'B', 'ord_stname_concat'].unique().tolist()"
   ]
  },
  {
   "cell_type": "code",
   "execution_count": 18,
   "id": "4b782c98",
   "metadata": {},
   "outputs": [],
   "source": [
    "# let's create a unique name field"
   ]
  },
  {
   "cell_type": "code",
   "execution_count": 19,
   "id": "c6c7e568",
   "metadata": {},
   "outputs": [],
   "source": [
    "gdf['ord_stname_unique'] = gdf.apply(func = create_name, axis = 1)"
   ]
  },
  {
   "cell_type": "code",
   "execution_count": 20,
   "id": "0592213b",
   "metadata": {},
   "outputs": [
    {
     "data": {
      "text/plain": [
       "(3692,)"
      ]
     },
     "execution_count": 20,
     "metadata": {},
     "output_type": "execute_result"
    }
   ],
   "source": [
    "gdf['ord_stname_concat'].unique().shape"
   ]
  },
  {
   "cell_type": "code",
   "execution_count": 21,
   "id": "75312af2",
   "metadata": {},
   "outputs": [
    {
     "data": {
      "text/plain": [
       "(3696,)"
      ]
     },
     "execution_count": 21,
     "metadata": {},
     "output_type": "execute_result"
    }
   ],
   "source": [
    "gdf['ord_stname_unique'].unique().shape"
   ]
  },
  {
   "cell_type": "code",
   "execution_count": 22,
   "id": "52a29f1c",
   "metadata": {},
   "outputs": [
    {
     "data": {
      "text/plain": [
       "MultiLineString    34378\n",
       "Name: count, dtype: int64"
      ]
     },
     "execution_count": 22,
     "metadata": {},
     "output_type": "execute_result"
    }
   ],
   "source": [
    "# let's check what type of geometry we are working with\n",
    "gdf['geometry'].geom_type.value_counts()"
   ]
  },
  {
   "cell_type": "code",
   "execution_count": 23,
   "id": "d98183f6",
   "metadata": {},
   "outputs": [],
   "source": [
    "# everything is a MultLineString??? is that necessary?\n",
    "# we can call the gdf.explode() function to convert MultiLineStrings to LineStrings\n",
    "# if the record counts are the same, we can convert everything to LineStrings \n",
    "test_gdf = gdf.explode()"
   ]
  },
  {
   "cell_type": "code",
   "execution_count": 24,
   "id": "1a11a7c0",
   "metadata": {},
   "outputs": [
    {
     "data": {
      "text/plain": [
       "(34378, 39)"
      ]
     },
     "execution_count": 24,
     "metadata": {},
     "output_type": "execute_result"
    }
   ],
   "source": [
    "test_gdf.shape"
   ]
  },
  {
   "cell_type": "code",
   "execution_count": 25,
   "id": "6814e325",
   "metadata": {},
   "outputs": [],
   "source": [
    "# nope! The number of records is the same, indicating that MultiLineStrings are not necessary\n",
    "gdf = test_gdf.copy()"
   ]
  },
  {
   "cell_type": "code",
   "execution_count": 26,
   "id": "9c3f53bb",
   "metadata": {},
   "outputs": [
    {
     "data": {
      "text/plain": [
       "LineString    34378\n",
       "Name: count, dtype: int64"
      ]
     },
     "execution_count": 26,
     "metadata": {},
     "output_type": "execute_result"
    }
   ],
   "source": [
    "gdf['geometry'].geom_type.value_counts()"
   ]
  },
  {
   "cell_type": "markdown",
   "id": "133228ea-cd23-41f8-baf8-7d2a46dc2815",
   "metadata": {},
   "source": [
    "# write the geodataframe to disk as a gpkg"
   ]
  },
  {
   "cell_type": "code",
   "execution_count": 27,
   "id": "65fc22af-3d45-427c-b76a-a6af6e9c6696",
   "metadata": {},
   "outputs": [],
   "source": [
    "# reproject to wgs 84\n",
    "gdf = gdf.to_crs(crs = 'epsg:4326')"
   ]
  },
  {
   "cell_type": "code",
   "execution_count": 28,
   "id": "7d327915-9990-4daa-ba35-9900582cd34c",
   "metadata": {},
   "outputs": [],
   "source": [
    "write_gdf(gdf = gdf, output_file_path=rc.OUTPUT_FILE_PATH,\n",
    "           output_file_name=rc.S01_SND_OUT_FILE_NAME)"
   ]
  },
  {
   "cell_type": "markdown",
   "id": "9cb3e564-6609-486d-8565-83bdddcc3688",
   "metadata": {},
   "source": [
    "# export the blank street types to an excel file for manual inspection"
   ]
  },
  {
   "cell_type": "code",
   "execution_count": 29,
   "id": "df8aedae-4709-4f33-92ec-3a2054a9454f",
   "metadata": {},
   "outputs": [
    {
     "data": {
      "text/plain": [
       "array(['AVE', 'CT', 'ST', 'PL', 'LN', 'RD', 'DR', 'WAY', 'PKWY', 'BLVD',\n",
       "       'CIR', 'TER', None, 'AL', 'RP', 'LOOP', 'OP', 'TRL', 'BR', 'ET',\n",
       "       'VIEW', 'HWY', 'PZ', 'MALL'], dtype=object)"
      ]
     },
     "execution_count": 29,
     "metadata": {},
     "output_type": "execute_result"
    }
   ],
   "source": [
    "gdf['ord_street_type'].unique()"
   ]
  },
  {
   "cell_type": "code",
   "execution_count": 30,
   "id": "6b77c227-dc1c-492e-ac66-6dd14b83e643",
   "metadata": {},
   "outputs": [],
   "source": [
    "blank_street_type_df = gdf.loc[gdf['ord_street_type'].isna(), 'ord_stname_concat'].drop_duplicates().to_frame()"
   ]
  },
  {
   "cell_type": "code",
   "execution_count": 31,
   "id": "f48ac460-d3ed-4631-bc51-59dbb44e2175",
   "metadata": {},
   "outputs": [
    {
     "data": {
      "text/plain": [
       "(80, 1)"
      ]
     },
     "execution_count": 31,
     "metadata": {},
     "output_type": "execute_result"
    }
   ],
   "source": [
    "blank_street_type_df.shape"
   ]
  },
  {
   "cell_type": "code",
   "execution_count": 32,
   "id": "b238d8cb-6148-4a0f-8e3a-edc1c8cb88ab",
   "metadata": {},
   "outputs": [],
   "source": [
    "ofpn = os.path.join(rc.ANALYSIS_OUTPUT_FILE_PATH, rc.S01_BST_OUT_FILE_NAME)"
   ]
  },
  {
   "cell_type": "code",
   "execution_count": 33,
   "id": "3f81673e-ac90-4c06-a767-7ba3e7f11465",
   "metadata": {},
   "outputs": [],
   "source": [
    "blank_street_type_df.to_excel(excel_writer=ofpn, index = False)"
   ]
  },
  {
   "cell_type": "code",
   "execution_count": null,
   "id": "726689b3",
   "metadata": {},
   "outputs": [],
   "source": []
  }
 ],
 "metadata": {
  "kernelspec": {
   "display_name": "analysis",
   "language": "python",
   "name": "python3"
  },
  "language_info": {
   "codemirror_mode": {
    "name": "ipython",
    "version": 3
   },
   "file_extension": ".py",
   "mimetype": "text/x-python",
   "name": "python",
   "nbconvert_exporter": "python",
   "pygments_lexer": "ipython3",
   "version": "3.12.7"
  }
 },
 "nbformat": 4,
 "nbformat_minor": 5
}
