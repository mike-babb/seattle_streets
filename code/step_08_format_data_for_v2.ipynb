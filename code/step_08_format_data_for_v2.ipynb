{
 "cells": [
  {
   "cell_type": "markdown",
   "id": "fed9e25b-c5b9-4aee-89cd-15a7da3945c0",
   "metadata": {},
   "source": [
    "# Part 08: Visualize seattle street groups by type\n",
    "michael babb  \n",
    "2024 11 24"
   ]
  },
  {
   "cell_type": "code",
   "execution_count": null,
   "id": "e88ca8b2-b75d-4e72-8fc7-65c4cea61cde",
   "metadata": {},
   "outputs": [],
   "source": [
    "# standard\n",
    "import os"
   ]
  },
  {
   "cell_type": "code",
   "execution_count": null,
   "id": "0778d9a5-0c62-4724-be28-c21598d23b6f",
   "metadata": {},
   "outputs": [],
   "source": [
    "# external\n",
    "import geopandas as gpd\n",
    "import matplotlib as mpl\n",
    "from matplotlib.gridspec import GridSpec\n",
    "import matplotlib.pyplot as plt\n",
    "import numpy as np\n",
    "import pandas as pd\n",
    "import seaborn as sns"
   ]
  },
  {
   "cell_type": "code",
   "execution_count": null,
   "id": "2fc61400-c637-4828-820d-56c2cdd14942",
   "metadata": {},
   "outputs": [],
   "source": [
    "# custom\n",
    "import run_constants as rc\n",
    "from utils import *"
   ]
  },
  {
   "cell_type": "markdown",
   "id": "d56ea77e-ffd7-4326-b793-415f8a131ef2",
   "metadata": {},
   "source": [
    "# load the working seattle street network data"
   ]
  },
  {
   "cell_type": "code",
   "execution_count": null,
   "id": "ddf62724-9105-44c9-b983-e4f520328fa9",
   "metadata": {},
   "outputs": [],
   "source": [
    "fpn = os.path.join(rc.OUTPUT_FILE_PATH, rc.S03_SND_WORKING_IN_FILE_NAME)"
   ]
  },
  {
   "cell_type": "code",
   "execution_count": null,
   "id": "2cbdb5c1-c973-4882-b442-cf5396e90d3e",
   "metadata": {},
   "outputs": [],
   "source": [
    "gdf = gpd.read_file(filename = fpn)"
   ]
  },
  {
   "cell_type": "code",
   "execution_count": null,
   "id": "390b341e",
   "metadata": {},
   "outputs": [],
   "source": [
    "gdf.shape"
   ]
  },
  {
   "cell_type": "code",
   "execution_count": null,
   "id": "b2c54149",
   "metadata": {},
   "outputs": [],
   "source": [
    "gdf.columns"
   ]
  },
  {
   "cell_type": "code",
   "execution_count": null,
   "id": "5adf4877",
   "metadata": {},
   "outputs": [],
   "source": [
    "gdf['ord_stname_concat'].unique().shape"
   ]
  },
  {
   "cell_type": "code",
   "execution_count": null,
   "id": "966009e4",
   "metadata": {},
   "outputs": [],
   "source": [
    "gdf['ord_stname_unique'].unique().shape"
   ]
  },
  {
   "cell_type": "code",
   "execution_count": null,
   "id": "35ddd89f",
   "metadata": {},
   "outputs": [],
   "source": [
    "gdf['city_sector'].unique()"
   ]
  },
  {
   "cell_type": "markdown",
   "id": "bdc6814a",
   "metadata": {},
   "source": [
    "## load the manually created street group data\n",
    "These data were created in Step 6a, but we'll bring them into the Step 3 workflow."
   ]
  },
  {
   "cell_type": "code",
   "execution_count": null,
   "id": "b490fe46",
   "metadata": {},
   "outputs": [],
   "source": [
    "fpn = os.path.join(rc.INPUT_FILE_PATH, rc.S03_STREET_GROUP_IN_FILE_NAME)"
   ]
  },
  {
   "cell_type": "code",
   "execution_count": null,
   "id": "7fa5dd23",
   "metadata": {},
   "outputs": [],
   "source": [
    "# ['sort_order', 'ord_street_name', 'ord_street_type', 'city_sector']\n",
    "sg_df = pd.read_excel(io = fpn, index_col=[0, 1, 2, 3])\n",
    "sg_df = sg_df.reset_index()"
   ]
  },
  {
   "cell_type": "code",
   "execution_count": null,
   "id": "23379a66",
   "metadata": {},
   "outputs": [],
   "source": [
    "# remove some columns\n",
    "drop_cols = ['sort_order', 'progress', 'count']\n",
    "sg_df = sg_df.drop(labels = drop_cols, axis = 1)\n"
   ]
  },
  {
   "cell_type": "code",
   "execution_count": null,
   "id": "854d1ddd",
   "metadata": {},
   "outputs": [],
   "source": [
    "test_join = pd.merge(left = gdf, right = sg_df, how = 'outer', indicator=True)\n",
    "test_join['_merge'].value_counts()"
   ]
  },
  {
   "cell_type": "code",
   "execution_count": null,
   "id": "2b70ebe6",
   "metadata": {},
   "outputs": [],
   "source": [
    "gdf = test_join.drop(labels = ['_merge'], axis = 1)"
   ]
  },
  {
   "cell_type": "code",
   "execution_count": null,
   "id": "8b70615b",
   "metadata": {},
   "outputs": [],
   "source": [
    "gdf['group_id'] = gdf['group_id'].fillna(1).astype(int)\n",
    "gdf.shape"
   ]
  },
  {
   "cell_type": "markdown",
   "id": "231b9ac7",
   "metadata": {},
   "source": [
    "# create an id across street groups"
   ]
  },
  {
   "cell_type": "code",
   "execution_count": null,
   "id": "64b62645",
   "metadata": {},
   "outputs": [],
   "source": [
    "gdf.head()"
   ]
  },
  {
   "cell_type": "code",
   "execution_count": null,
   "id": "1722d21c",
   "metadata": {},
   "outputs": [],
   "source": [
    "gdf.columns"
   ]
  },
  {
   "cell_type": "code",
   "execution_count": null,
   "metadata": {},
   "outputs": [],
   "source": [
    "col_names = ['ord_street_name', 'ord_street_type', 'ord_stname_concat',\n",
    "             'ord_stname_unique', 'city_sector', 'group_id']\n",
    "id_df = gdf[col_names].drop_duplicates()"
   ]
  },
  {
   "cell_type": "code",
   "execution_count": null,
   "id": "fd8779df",
   "metadata": {},
   "outputs": [],
   "source": [
    "id_df['ord_stname_type'] = id_df['ord_street_name'] + ' ' + id_df['ord_street_type']"
   ]
  },
  {
   "cell_type": "code",
   "execution_count": null,
   "metadata": {},
   "outputs": [],
   "source": [
    "id_df['sort_order'] = id_df['ord_street_name'].map(get_sort_order)"
   ]
  },
  {
   "cell_type": "code",
   "execution_count": null,
   "id": "e716ecdf",
   "metadata": {},
   "outputs": [],
   "source": [
    "id_df = id_df.sort_values(by = ['sort_order', 'ord_street_type', 'city_sector'])"
   ]
  },
  {
   "cell_type": "code",
   "execution_count": null,
   "metadata": {},
   "outputs": [],
   "source": [
    "id_df.head()"
   ]
  },
  {
   "cell_type": "code",
   "execution_count": null,
   "id": "996dfa24",
   "metadata": {},
   "outputs": [],
   "source": [
    "id_df['ord_stname_unique'].unique().shape"
   ]
  },
  {
   "cell_type": "code",
   "execution_count": null,
   "id": "0d907eed",
   "metadata": {},
   "outputs": [],
   "source": [
    "# let's get the groups! can we aggregate this?"
   ]
  },
  {
   "cell_type": "code",
   "execution_count": null,
   "id": "d5ff5023",
   "metadata": {},
   "outputs": [],
   "source": [
    "col_names = ['sort_order', 'ord_street_name', 'ord_street_type', 'ord_stname_type', 'group_id', 'city_sector']\n",
    "test_agg = id_df[col_names].groupby(col_names[:-1]).agg(city_sector_group = ('city_sector', lambda x: '_'.join(sorted(set(x)))),\n",
    "                                                        n_groups = ('city_sector', lambda x: len(set(x)))).reset_index()"
   ]
  },
  {
   "cell_type": "code",
   "execution_count": null,
   "id": "f9f6f834",
   "metadata": {},
   "outputs": [],
   "source": [
    "test_agg.head()"
   ]
  },
  {
   "cell_type": "code",
   "execution_count": null,
   "id": "f2dac15f",
   "metadata": {},
   "outputs": [],
   "source": [
    "test_agg['city_sector_group'].unique().shape"
   ]
  },
  {
   "cell_type": "code",
   "execution_count": null,
   "id": "9fc3a8cb",
   "metadata": {},
   "outputs": [],
   "source": [
    "test_agg.head()"
   ]
  },
  {
   "cell_type": "code",
   "execution_count": null,
   "id": "793fbfca",
   "metadata": {},
   "outputs": [],
   "source": [
    "# export to excel - this will be manually updated in conjunction with the plots\n",
    "# generated below. This is necessary in order to better label street groups\n",
    "# order the city sectors from top-to-bottom and left-to-right\n",
    "city_sector_check = test_agg[['city_sector_group', 'ord_street_type', 'n_groups']].drop_duplicates().reset_index(drop = True)"
   ]
  },
  {
   "cell_type": "code",
   "execution_count": null,
   "id": "0ca157a4",
   "metadata": {},
   "outputs": [],
   "source": [
    "city_sector_check.head()"
   ]
  },
  {
   "cell_type": "code",
   "execution_count": null,
   "id": "a0be3aa4",
   "metadata": {},
   "outputs": [],
   "source": [
    "city_sector_check.shape"
   ]
  },
  {
   "cell_type": "code",
   "execution_count": null,
   "id": "1a163b8e",
   "metadata": {},
   "outputs": [],
   "source": [
    "city_sector_check = city_sector_check.sort_values(by = ['city_sector_group', 'ord_street_type'])"
   ]
  },
  {
   "cell_type": "code",
   "execution_count": null,
   "id": "e60d7028",
   "metadata": {},
   "outputs": [],
   "source": [
    "ofpn = os.path.join(rc.ANALYSIS_OUTPUT_FILE_PATH, rc.S08_CPG_OUTPUT_FILE_NAME)"
   ]
  },
  {
   "cell_type": "code",
   "execution_count": null,
   "id": "c5828929",
   "metadata": {},
   "outputs": [],
   "source": [
    "city_sector_check.to_excel(excel_writer=ofpn, index = False)"
   ]
  },
  {
   "cell_type": "markdown",
   "id": "063b645a",
   "metadata": {},
   "source": [
    "# join back to the working gdf"
   ]
  },
  {
   "cell_type": "code",
   "execution_count": null,
   "id": "dcd8f90c",
   "metadata": {},
   "outputs": [],
   "source": [
    "gdf.columns"
   ]
  },
  {
   "cell_type": "code",
   "execution_count": null,
   "id": "38e6e78d",
   "metadata": {},
   "outputs": [],
   "source": [
    "test_join = pd.merge(left = gdf, right = test_agg, how = 'outer', indicator=True)"
   ]
  },
  {
   "cell_type": "code",
   "execution_count": null,
   "id": "dd72030f",
   "metadata": {},
   "outputs": [],
   "source": [
    "test_join['_merge'].value_counts()"
   ]
  },
  {
   "cell_type": "code",
   "execution_count": null,
   "metadata": {},
   "outputs": [],
   "source": [
    "test_join.shape"
   ]
  },
  {
   "cell_type": "code",
   "execution_count": null,
   "id": "af72f260",
   "metadata": {},
   "outputs": [],
   "source": [
    "test_join.columns"
   ]
  },
  {
   "cell_type": "code",
   "execution_count": null,
   "id": "ba4def1e",
   "metadata": {},
   "outputs": [],
   "source": [
    "gdf = test_join.drop(labels = '_merge', axis = 1)"
   ]
  },
  {
   "cell_type": "markdown",
   "id": "0a75b29a",
   "metadata": {},
   "source": [
    "# MAKE A PLOT OF THE DIFFERENT CITY GROUPS BY STREET TYPE"
   ]
  },
  {
   "cell_type": "code",
   "execution_count": null,
   "id": "224e4bfd",
   "metadata": {},
   "outputs": [],
   "source": [
    "# use the same colors for each city sector\n",
    "cdm = {}\n",
    "dir_list = ['CNTR', 'E', 'N', 'NE', 'NW', 'S', 'SW', 'W']\n",
    "for idir, dir_value in enumerate(dir_list):\n",
    "    cdm[dir_value] = mpl.colormaps[\"Dark2\"].colors[idir]\n",
    "\n",
    "my_cmap = mpl.colors.ListedColormap([cdm[c] for c in dir_list])"
   ]
  },
  {
   "cell_type": "code",
   "execution_count": null,
   "metadata": {},
   "outputs": [],
   "source": [
    "wgdf = gdf.loc[gdf['n_groups'] > 1, :].copy()"
   ]
  },
  {
   "cell_type": "code",
   "execution_count": null,
   "metadata": {},
   "outputs": [],
   "source": [
    "wgdf.shape"
   ]
  },
  {
   "cell_type": "code",
   "execution_count": null,
   "metadata": {},
   "outputs": [],
   "source": [
    "col_names = ['city_sector_group', 'ord_street_type']\n",
    "control_df = wgdf[col_names].drop_duplicates()"
   ]
  },
  {
   "cell_type": "code",
   "execution_count": null,
   "id": "9aca914c",
   "metadata": {},
   "outputs": [],
   "source": [
    "control_df.shape"
   ]
  },
  {
   "cell_type": "code",
   "execution_count": null,
   "id": "b6427ece",
   "metadata": {},
   "outputs": [],
   "source": [
    "control_df.head()"
   ]
  },
  {
   "cell_type": "code",
   "execution_count": null,
   "id": "ad5c9970",
   "metadata": {},
   "outputs": [],
   "source": [
    "# plot bounds to use across each plot\n",
    "bounds = [-122.4197794277490061,47.4803548409661005, -122.2200188105690017,47.7341482423694004]"
   ]
  },
  {
   "cell_type": "code",
   "execution_count": null,
   "metadata": {},
   "outputs": [],
   "source": [
    "# load the boundaries of the city sectors\n",
    "ifpn = os.path.join(rc.OUTPUT_FILE_PATH, rc.S02_CITY_SECTORS_OUT_FILE_NAME)\n",
    "cs_gdf = gpd.read_file(filename=ifpn)"
   ]
  },
  {
   "cell_type": "code",
   "execution_count": null,
   "id": "c4834b71",
   "metadata": {},
   "outputs": [],
   "source": [
    "control_df.head()"
   ]
  },
  {
   "cell_type": "code",
   "execution_count": null,
   "id": "7a6f0e9d",
   "metadata": {},
   "outputs": [],
   "source": [
    "ost = 'BR'\n",
    "pgdf = gdf.loc[(gdf['ord_street_type'] == ost), :]"
   ]
  },
  {
   "cell_type": "code",
   "execution_count": null,
   "id": "6a136c14",
   "metadata": {},
   "outputs": [],
   "source": [
    "pgdf['city_sector_group'].unique()"
   ]
  },
  {
   "cell_type": "code",
   "execution_count": null,
   "id": "b63521d3",
   "metadata": {},
   "outputs": [],
   "source": [
    "pgdf.head()"
   ]
  },
  {
   "cell_type": "code",
   "execution_count": null,
   "id": "605e5500",
   "metadata": {},
   "outputs": [],
   "source": [
    "make_plots = True\n",
    "if make_plots:\n",
    "    for cr, crow in control_df.iterrows():\n",
    "        cpg = crow['city_sector_group']\n",
    "        ost = crow['ord_street_type']\n",
    "\n",
    "        output_file_name = f\"{ost}_{cpg}.png\"\n",
    "        ofpn = os.path.join(rc.S08_PLOT_OUTPUT_FILE_PATH_CITY_SECTOR_GROUPS, output_file_name)\n",
    "        print(ofpn)\n",
    "\n",
    "        # now, let's make a map...\n",
    "        pgdf = gdf.loc[(gdf['city_sector_group'] == cpg) &\n",
    "                    (gdf['ord_street_type'] == ost), :]\n",
    "        to_draw = pgdf[['city_sector', 'geometry']].dissolve(by = 'city_sector', as_index = False)\n",
    "        #to_draw['coords'] = to_draw['geometry'].map(lambda x: x.centroid.coords[0])\n",
    "        fig = plt.figure(layout = 'constrained', figsize = (5, 10))\n",
    "        gs = GridSpec(1,1, figure = fig, height_ratios = [1])\n",
    "        ax1 = fig.add_subplot(gs[0,0])\n",
    "        ax1.set_xlim(bounds[0], bounds[2])\n",
    "        ax1.set_ylim(bounds[1], bounds[3])\n",
    "        cs_gdf.plot(ax = ax1, column = 'city_sector', alpha = .2)\n",
    "        to_draw.plot(ax = ax1, column = 'city_sector', cmap = my_cmap,  linewidth = 5, legend = True)\n",
    "\n",
    "        #for irrow, row in to_draw.iterrows():    \n",
    "        #    ax1.annotate(text=row['city_sector'], xy=row['coords'], fontsize = 16 )\n",
    "\n",
    "        ax1.set_axis_off()\n",
    "        \n",
    "        my_title = f\"Street Type: {ost} | City Portion Group {cpg}\"\n",
    "        plt.title(label = my_title)\n",
    "\n",
    "        #plt.show()\n",
    "\n",
    "        fig.savefig(fname = ofpn)\n",
    "        plt.close()"
   ]
  },
  {
   "cell_type": "code",
   "execution_count": null,
   "id": "a0998236",
   "metadata": {},
   "outputs": [],
   "source": []
  }
 ],
 "metadata": {
  "kernelspec": {
   "display_name": "analysis",
   "language": "python",
   "name": "python3"
  },
  "language_info": {
   "codemirror_mode": {
    "name": "ipython",
    "version": 3
   },
   "file_extension": ".py",
   "mimetype": "text/x-python",
   "name": "python",
   "nbconvert_exporter": "python",
   "pygments_lexer": "ipython3",
   "version": "3.12.7"
  }
 },
 "nbformat": 4,
 "nbformat_minor": 5
}
