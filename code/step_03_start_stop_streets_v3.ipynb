{
 "cells": [
  {
   "cell_type": "code",
   "execution_count": 1,
   "id": "fed9e25b-c5b9-4aee-89cd-15a7da3945c0",
   "metadata": {},
   "outputs": [],
   "source": [
    "# mike babb\n",
    "# 2024 06 28\n",
    "# what streets start and stop?"
   ]
  },
  {
   "cell_type": "code",
   "execution_count": 2,
   "id": "e88ca8b2-b75d-4e72-8fc7-65c4cea61cde",
   "metadata": {},
   "outputs": [],
   "source": [
    "# standard\n",
    "import os"
   ]
  },
  {
   "cell_type": "code",
   "execution_count": 3,
   "id": "0778d9a5-0c62-4724-be28-c21598d23b6f",
   "metadata": {},
   "outputs": [],
   "source": [
    "# external\n",
    "from itertools import combinations, product\n",
    "import geopandas as gpd\n",
    "import networkx as nx\n",
    "import numpy as np\n",
    "import pandas as pd\n",
    "from shapely.geometry import LineString, Point\n",
    "from shapely import line_merge\n",
    "# from skspatial.objects import Point as sks_point"
   ]
  },
  {
   "cell_type": "code",
   "execution_count": 4,
   "id": "2fc61400-c637-4828-820d-56c2cdd14942",
   "metadata": {},
   "outputs": [],
   "source": [
    "# custom\n",
    "from geodataio.geo_operations import points2distance, calculate_initial_compass_bearing"
   ]
  },
  {
   "cell_type": "code",
   "execution_count": null,
   "id": "b1be287f-e724-4354-8ba7-e1ef50fefb9e",
   "metadata": {},
   "outputs": [],
   "source": []
  },
  {
   "cell_type": "markdown",
   "id": "d56ea77e-ffd7-4326-b793-415f8a131ef2",
   "metadata": {},
   "source": [
    "# load the street network"
   ]
  },
  {
   "cell_type": "code",
   "execution_count": 5,
   "id": "d07cfb9b-9184-48d7-af77-035e2390d9e5",
   "metadata": {},
   "outputs": [],
   "source": [
    "# file path\n",
    "input_file_path = 'H:/project/seattle_streets/data/' \n",
    "output_file_path = 'H:/project/seattle_streets/data/individual_streets'"
   ]
  },
  {
   "cell_type": "code",
   "execution_count": 6,
   "id": "3c1039f5-a281-4460-b65d-98a6ca2556b7",
   "metadata": {},
   "outputs": [],
   "source": [
    "file_name = 'Street_Network_Database.gpkg'"
   ]
  },
  {
   "cell_type": "code",
   "execution_count": 7,
   "id": "ddf62724-9105-44c9-b983-e4f520328fa9",
   "metadata": {},
   "outputs": [],
   "source": [
    "fpn = os.path.join(input_file_path, file_name)"
   ]
  },
  {
   "cell_type": "code",
   "execution_count": 8,
   "id": "2cbdb5c1-c973-4882-b442-cf5396e90d3e",
   "metadata": {},
   "outputs": [],
   "source": [
    "gdf = gpd.read_file(filename = fpn)"
   ]
  },
  {
   "cell_type": "code",
   "execution_count": 9,
   "id": "ce02bdf0-a0ca-46a5-bf8f-54b576ee2de7",
   "metadata": {},
   "outputs": [
    {
     "data": {
      "text/plain": [
       "Index(['f_intr_id', 't_intr_id', 'snd_id', 'snd_feacod', 'citycode',\n",
       "       'stname_id', 'st_code', 'arterial_c', 'segment_ty', 'agency_cod',\n",
       "       'access_cod', 'divided_co', 'structure_', 'legalloc_c', 'vehicle_us',\n",
       "       'gis_seg_length', 'l_adrs_from', 'l_adrs_to', 'r_adrs_from',\n",
       "       'r_adrs_to', 'ord_pre_dir', 'ord_street', 'ord_street_type',\n",
       "       'ord_suf_dir', 'ord_stname', 'l_city', 'l_state', 'l_zip', 'r_city',\n",
       "       'r_state', 'r_zip', 'sndseg_upd', 'compkey', 'comptype', 'unitid',\n",
       "       'unitid2', 'city_portion', 'ord_st_type', 'ord_street_st_type',\n",
       "       'snd_group', 'geometry'],\n",
       "      dtype='object')"
      ]
     },
     "execution_count": 9,
     "metadata": {},
     "output_type": "execute_result"
    }
   ],
   "source": [
    "gdf.columns"
   ]
  },
  {
   "cell_type": "code",
   "execution_count": 10,
   "id": "8ff216e4-54fe-4795-a9fd-3214a75677c0",
   "metadata": {},
   "outputs": [],
   "source": [
    "# load the node data\n",
    "input_file_name = 'Street_Network_Nodes.gpkg'"
   ]
  },
  {
   "cell_type": "code",
   "execution_count": 11,
   "id": "81e88fff-cc66-47fd-bc60-fb253a9f110f",
   "metadata": {},
   "outputs": [],
   "source": [
    "fpn = os.path.join(input_file_path, input_file_name)"
   ]
  },
  {
   "cell_type": "code",
   "execution_count": 12,
   "id": "e67fed54-4d3b-45ca-8a41-2f9e7103a699",
   "metadata": {},
   "outputs": [],
   "source": [
    "node_gdf = gpd.read_file(filename = fpn)"
   ]
  },
  {
   "cell_type": "code",
   "execution_count": 13,
   "id": "26bac731-425e-409f-bb41-c3a5d1a6bf2b",
   "metadata": {},
   "outputs": [
    {
     "data": {
      "text/html": [
       "<div>\n",
       "<style scoped>\n",
       "    .dataframe tbody tr th:only-of-type {\n",
       "        vertical-align: middle;\n",
       "    }\n",
       "\n",
       "    .dataframe tbody tr th {\n",
       "        vertical-align: top;\n",
       "    }\n",
       "\n",
       "    .dataframe thead th {\n",
       "        text-align: right;\n",
       "    }\n",
       "</style>\n",
       "<table border=\"1\" class=\"dataframe\">\n",
       "  <thead>\n",
       "    <tr style=\"text-align: right;\">\n",
       "      <th></th>\n",
       "      <th>node_id</th>\n",
       "      <th>geometry</th>\n",
       "    </tr>\n",
       "  </thead>\n",
       "  <tbody>\n",
       "    <tr>\n",
       "      <th>0</th>\n",
       "      <td>13827</td>\n",
       "      <td>POINT (-122.40808 47.57771)</td>\n",
       "    </tr>\n",
       "    <tr>\n",
       "      <th>1</th>\n",
       "      <td>8721</td>\n",
       "      <td>POINT (-122.33029 47.65195)</td>\n",
       "    </tr>\n",
       "    <tr>\n",
       "      <th>2</th>\n",
       "      <td>3606</td>\n",
       "      <td>POINT (-122.28808 47.70834)</td>\n",
       "    </tr>\n",
       "    <tr>\n",
       "      <th>3</th>\n",
       "      <td>3784</td>\n",
       "      <td>POINT (-122.27712 47.70534)</td>\n",
       "    </tr>\n",
       "    <tr>\n",
       "      <th>4</th>\n",
       "      <td>14373</td>\n",
       "      <td>POINT (-122.40387 47.57132)</td>\n",
       "    </tr>\n",
       "  </tbody>\n",
       "</table>\n",
       "</div>"
      ],
      "text/plain": [
       "   node_id                     geometry\n",
       "0    13827  POINT (-122.40808 47.57771)\n",
       "1     8721  POINT (-122.33029 47.65195)\n",
       "2     3606  POINT (-122.28808 47.70834)\n",
       "3     3784  POINT (-122.27712 47.70534)\n",
       "4    14373  POINT (-122.40387 47.57132)"
      ]
     },
     "execution_count": 13,
     "metadata": {},
     "output_type": "execute_result"
    }
   ],
   "source": [
    "node_gdf.head()"
   ]
  },
  {
   "cell_type": "code",
   "execution_count": 14,
   "id": "65c710c8-40db-4bc0-af3a-78c6c64e495b",
   "metadata": {},
   "outputs": [],
   "source": [
    "node_gdf['coords'] = node_gdf['geometry'].map(lambda x: x.coords[0])"
   ]
  },
  {
   "cell_type": "code",
   "execution_count": 15,
   "id": "ac7dff3c-6d52-4b80-b259-2214ef6c131a",
   "metadata": {},
   "outputs": [
    {
     "data": {
      "text/html": [
       "<div>\n",
       "<style scoped>\n",
       "    .dataframe tbody tr th:only-of-type {\n",
       "        vertical-align: middle;\n",
       "    }\n",
       "\n",
       "    .dataframe tbody tr th {\n",
       "        vertical-align: top;\n",
       "    }\n",
       "\n",
       "    .dataframe thead th {\n",
       "        text-align: right;\n",
       "    }\n",
       "</style>\n",
       "<table border=\"1\" class=\"dataframe\">\n",
       "  <thead>\n",
       "    <tr style=\"text-align: right;\">\n",
       "      <th></th>\n",
       "      <th>node_id</th>\n",
       "      <th>geometry</th>\n",
       "      <th>coords</th>\n",
       "    </tr>\n",
       "  </thead>\n",
       "  <tbody>\n",
       "    <tr>\n",
       "      <th>0</th>\n",
       "      <td>13827</td>\n",
       "      <td>POINT (-122.40808 47.57771)</td>\n",
       "      <td>(-122.40807905399998, 47.577706970000065)</td>\n",
       "    </tr>\n",
       "    <tr>\n",
       "      <th>1</th>\n",
       "      <td>8721</td>\n",
       "      <td>POINT (-122.33029 47.65195)</td>\n",
       "      <td>(-122.33029050099998, 47.651945700000056)</td>\n",
       "    </tr>\n",
       "    <tr>\n",
       "      <th>2</th>\n",
       "      <td>3606</td>\n",
       "      <td>POINT (-122.28808 47.70834)</td>\n",
       "      <td>(-122.28808025199999, 47.70834198600005)</td>\n",
       "    </tr>\n",
       "    <tr>\n",
       "      <th>3</th>\n",
       "      <td>3784</td>\n",
       "      <td>POINT (-122.27712 47.70534)</td>\n",
       "      <td>(-122.27712366699996, 47.70533646400003)</td>\n",
       "    </tr>\n",
       "    <tr>\n",
       "      <th>4</th>\n",
       "      <td>14373</td>\n",
       "      <td>POINT (-122.40387 47.57132)</td>\n",
       "      <td>(-122.40386783599996, 47.57132209200006)</td>\n",
       "    </tr>\n",
       "  </tbody>\n",
       "</table>\n",
       "</div>"
      ],
      "text/plain": [
       "   node_id                     geometry  \\\n",
       "0    13827  POINT (-122.40808 47.57771)   \n",
       "1     8721  POINT (-122.33029 47.65195)   \n",
       "2     3606  POINT (-122.28808 47.70834)   \n",
       "3     3784  POINT (-122.27712 47.70534)   \n",
       "4    14373  POINT (-122.40387 47.57132)   \n",
       "\n",
       "                                      coords  \n",
       "0  (-122.40807905399998, 47.577706970000065)  \n",
       "1  (-122.33029050099998, 47.651945700000056)  \n",
       "2   (-122.28808025199999, 47.70834198600005)  \n",
       "3   (-122.27712366699996, 47.70533646400003)  \n",
       "4   (-122.40386783599996, 47.57132209200006)  "
      ]
     },
     "execution_count": 15,
     "metadata": {},
     "output_type": "execute_result"
    }
   ],
   "source": [
    "node_gdf.head()"
   ]
  },
  {
   "cell_type": "code",
   "execution_count": 16,
   "id": "d26b04eb-ebbf-4b3c-a2a2-f7e5604a695a",
   "metadata": {},
   "outputs": [],
   "source": [
    "# zap this into a dictionary\n",
    "node_dict = {}\n",
    "for my_row in node_gdf.itertuples():\n",
    "    node_dict[my_row.node_id] = my_row.coords"
   ]
  },
  {
   "cell_type": "code",
   "execution_count": 17,
   "id": "075114a2-8138-4224-b950-3ec1c49d535e",
   "metadata": {},
   "outputs": [
    {
     "data": {
      "text/plain": [
       "(-122.39426507399997, 47.63229296900005)"
      ]
     },
     "execution_count": 17,
     "metadata": {},
     "output_type": "execute_result"
    }
   ],
   "source": [
    "node_dict[10272]"
   ]
  },
  {
   "cell_type": "markdown",
   "id": "3c242868-8a5d-4040-a480-e8c3258a1924",
   "metadata": {},
   "source": [
    "# PASS 1: FOCUS ON JUST THE STREETS, REGARDLESS OF DIRECTION AND TYPE"
   ]
  },
  {
   "cell_type": "code",
   "execution_count": 18,
   "id": "96d082b7-9fe3-44ca-8a9e-70dd41679c8e",
   "metadata": {},
   "outputs": [],
   "source": [
    "gdf_agg = gdf[['ord_stname', 'snd_group']].drop_duplicates().groupby(['ord_stname']).agg( snd_group_count = ('snd_group', 'size')).reset_index()"
   ]
  },
  {
   "cell_type": "code",
   "execution_count": 19,
   "id": "9d04b372-fb99-4246-8755-99e75bba0f5a",
   "metadata": {},
   "outputs": [
    {
     "data": {
      "text/html": [
       "<div>\n",
       "<style scoped>\n",
       "    .dataframe tbody tr th:only-of-type {\n",
       "        vertical-align: middle;\n",
       "    }\n",
       "\n",
       "    .dataframe tbody tr th {\n",
       "        vertical-align: top;\n",
       "    }\n",
       "\n",
       "    .dataframe thead th {\n",
       "        text-align: right;\n",
       "    }\n",
       "</style>\n",
       "<table border=\"1\" class=\"dataframe\">\n",
       "  <thead>\n",
       "    <tr style=\"text-align: right;\">\n",
       "      <th></th>\n",
       "      <th>ord_stname</th>\n",
       "      <th>snd_group_count</th>\n",
       "    </tr>\n",
       "  </thead>\n",
       "  <tbody>\n",
       "    <tr>\n",
       "      <th>0</th>\n",
       "      <td>10TH AVE</td>\n",
       "      <td>4</td>\n",
       "    </tr>\n",
       "    <tr>\n",
       "      <th>1</th>\n",
       "      <td>10TH AVE E</td>\n",
       "      <td>4</td>\n",
       "    </tr>\n",
       "    <tr>\n",
       "      <th>2</th>\n",
       "      <td>10TH AVE NE</td>\n",
       "      <td>2</td>\n",
       "    </tr>\n",
       "    <tr>\n",
       "      <th>3</th>\n",
       "      <td>10TH AVE NW</td>\n",
       "      <td>5</td>\n",
       "    </tr>\n",
       "    <tr>\n",
       "      <th>4</th>\n",
       "      <td>10TH AVE S</td>\n",
       "      <td>8</td>\n",
       "    </tr>\n",
       "  </tbody>\n",
       "</table>\n",
       "</div>"
      ],
      "text/plain": [
       "    ord_stname  snd_group_count\n",
       "0     10TH AVE                4\n",
       "1   10TH AVE E                4\n",
       "2  10TH AVE NE                2\n",
       "3  10TH AVE NW                5\n",
       "4   10TH AVE S                8"
      ]
     },
     "execution_count": 19,
     "metadata": {},
     "output_type": "execute_result"
    }
   ],
   "source": [
    "gdf_agg.head()"
   ]
  },
  {
   "cell_type": "code",
   "execution_count": 20,
   "id": "a1cc08cc-1479-467b-b440-08cadf4faf7d",
   "metadata": {},
   "outputs": [
    {
     "data": {
      "text/plain": [
       "count    2510.000000\n",
       "mean        2.443028\n",
       "std         2.353508\n",
       "min         1.000000\n",
       "25%         1.000000\n",
       "50%         1.000000\n",
       "75%         3.000000\n",
       "max        15.000000\n",
       "Name: snd_group_count, dtype: float64"
      ]
     },
     "execution_count": 20,
     "metadata": {},
     "output_type": "execute_result"
    }
   ],
   "source": [
    "gdf_agg['snd_group_count'].describe()"
   ]
  },
  {
   "cell_type": "code",
   "execution_count": 21,
   "id": "38f9b71e-ecff-4ac6-8c54-13d9f615bfb9",
   "metadata": {},
   "outputs": [
    {
     "data": {
      "text/html": [
       "<div>\n",
       "<style scoped>\n",
       "    .dataframe tbody tr th:only-of-type {\n",
       "        vertical-align: middle;\n",
       "    }\n",
       "\n",
       "    .dataframe tbody tr th {\n",
       "        vertical-align: top;\n",
       "    }\n",
       "\n",
       "    .dataframe thead th {\n",
       "        text-align: right;\n",
       "    }\n",
       "</style>\n",
       "<table border=\"1\" class=\"dataframe\">\n",
       "  <thead>\n",
       "    <tr style=\"text-align: right;\">\n",
       "      <th></th>\n",
       "      <th>ord_stname</th>\n",
       "      <th>snd_group_count</th>\n",
       "    </tr>\n",
       "  </thead>\n",
       "  <tbody>\n",
       "    <tr>\n",
       "      <th>92</th>\n",
       "      <td>1ST AVE NW</td>\n",
       "      <td>15</td>\n",
       "    </tr>\n",
       "    <tr>\n",
       "      <th>203</th>\n",
       "      <td>30TH AVE S</td>\n",
       "      <td>15</td>\n",
       "    </tr>\n",
       "    <tr>\n",
       "      <th>253</th>\n",
       "      <td>35TH AVE S</td>\n",
       "      <td>15</td>\n",
       "    </tr>\n",
       "    <tr>\n",
       "      <th>2408</th>\n",
       "      <td>W RAYE ST</td>\n",
       "      <td>15</td>\n",
       "    </tr>\n",
       "  </tbody>\n",
       "</table>\n",
       "</div>"
      ],
      "text/plain": [
       "      ord_stname  snd_group_count\n",
       "92    1ST AVE NW               15\n",
       "203   30TH AVE S               15\n",
       "253   35TH AVE S               15\n",
       "2408   W RAYE ST               15"
      ]
     },
     "execution_count": 21,
     "metadata": {},
     "output_type": "execute_result"
    }
   ],
   "source": [
    "# what are the streets with the most breaks?\n",
    "gdf_agg.loc[gdf_agg['snd_group_count'] == gdf_agg['snd_group_count'].max(), :]"
   ]
  },
  {
   "cell_type": "code",
   "execution_count": null,
   "id": "84b0c204-927d-43bb-ada3-16df4cb379b2",
   "metadata": {},
   "outputs": [],
   "source": []
  },
  {
   "cell_type": "code",
   "execution_count": 22,
   "id": "a2b8ea0a-18cd-456b-b50b-354026c19f53",
   "metadata": {},
   "outputs": [
    {
     "data": {
      "text/plain": [
       "(1131, 2)"
      ]
     },
     "execution_count": 22,
     "metadata": {},
     "output_type": "execute_result"
    }
   ],
   "source": [
    "# number of streets with at least two segments\n",
    "gdf_agg.loc[gdf_agg['snd_group_count'] > 1, :].shape"
   ]
  },
  {
   "cell_type": "code",
   "execution_count": 23,
   "id": "8a896485-8dc8-462f-b8bf-073659c28937",
   "metadata": {},
   "outputs": [
    {
     "data": {
      "text/plain": [
       "0.450597609561753"
      ]
     },
     "execution_count": 23,
     "metadata": {},
     "output_type": "execute_result"
    }
   ],
   "source": [
    "1131 / gdf_agg.shape[0]"
   ]
  },
  {
   "cell_type": "code",
   "execution_count": 24,
   "id": "0e968649-6cfa-443e-9fb8-307e793c5db9",
   "metadata": {},
   "outputs": [
    {
     "data": {
      "text/plain": [
       "(1379, 2)"
      ]
     },
     "execution_count": 24,
     "metadata": {},
     "output_type": "execute_result"
    }
   ],
   "source": [
    "gdf_agg.loc[gdf_agg['snd_group_count'] == 1, :].shape"
   ]
  },
  {
   "cell_type": "code",
   "execution_count": 25,
   "id": "de5778a7-3b51-44e6-b3df-9126b493286c",
   "metadata": {},
   "outputs": [
    {
     "data": {
      "text/plain": [
       "0.549402390438247"
      ]
     },
     "execution_count": 25,
     "metadata": {},
     "output_type": "execute_result"
    }
   ],
   "source": [
    "1379 / gdf_agg.shape[0]"
   ]
  },
  {
   "cell_type": "code",
   "execution_count": 26,
   "id": "76246864-2c4c-4448-b94b-3ef6c1abbf3d",
   "metadata": {},
   "outputs": [],
   "source": [
    "# 55 percent of streets are single segment\n",
    "# 45 percent of streets are multi-segments.\n",
    "# TODO: figure out how much of this is road miles."
   ]
  },
  {
   "cell_type": "code",
   "execution_count": 27,
   "id": "8f38f795-d11e-43e6-9b8c-642446b628c0",
   "metadata": {},
   "outputs": [],
   "source": [
    "# get start and end points of each line\n",
    "#gdf['s_coord'] = gdf['geometry'].map(lambda x: x.coords[0])\n",
    "#gdf['e_coord'] = gdf['geometry'].map(lambda x: x.coords[-1])"
   ]
  },
  {
   "cell_type": "markdown",
   "id": "e3cc818f-24c9-4a7d-8f33-e516cde7dd55",
   "metadata": {},
   "source": [
    "# BUILD THE ANTI-GRAPH OF DISCONNECTED SEGMENTS"
   ]
  },
  {
   "cell_type": "code",
   "execution_count": 28,
   "id": "f022fe70-866b-4239-ade3-fb22d3b8454a",
   "metadata": {},
   "outputs": [],
   "source": [
    "def write_gdf(gdf: gpd.GeoDataFrame, output_file_path:str, output_file_name:str):\n",
    "    \n",
    "    ofpn = os.path.join(output_file_path, output_file_name)\n",
    "\n",
    "    if 'coords' in gdf.columns:\n",
    "        output_gdf = gdf.drop(labels = ['coords'], axis = 1)\n",
    "        output_gdf.to_file(filename = ofpn, driver = 'GPKG', index = False)\n",
    "    else:\n",
    "        gdf.to_file(filename = ofpn, driver = 'GPKG', index = False)\n",
    "\n",
    "    return None"
   ]
  },
  {
   "cell_type": "code",
   "execution_count": 29,
   "id": "a8d93173-1920-4994-8afe-af8fae7fbf66",
   "metadata": {},
   "outputs": [],
   "source": [
    "def subset_node_gdf(node_gdf:gpd.GeoDataFrame, other_node_df:pd.DataFrame):\n",
    "    node_subset_gdf = pd.merge(left = node_gdf, right = other_node_df)\n",
    "    return node_subset_gdf"
   ]
  },
  {
   "cell_type": "code",
   "execution_count": 100,
   "id": "1dcb3355-6e22-4611-b885-6141446f798b",
   "metadata": {},
   "outputs": [],
   "source": [
    "def create_graph_count_edges(gdf:gpd.GeoDataFrame, source_node:str, end_node:str):\n",
    "\n",
    "    # create the graph for a single segment\n",
    "    g = nx.from_pandas_edgelist(df = gdf, source = 'f_intr_id', target = 't_intr_id', edge_attr=True)\n",
    "    node_list = list(g.nodes)\n",
    "\n",
    "    # node distance, total hops, and number of edges per node\n",
    "    node_dist_dict = {nn:0 for nn in node_list}\n",
    "    node_hop_dict = {nn:0 for nn in node_list}\n",
    "    # this will get the number of connected edges\n",
    "    nn_edge_count_dict = {}\n",
    "    \n",
    "    # the snd of each node\n",
    "    node_snd_group_dict = {}    \n",
    "    snd_group_list = gdf['snd_group'].unique().tolist()\n",
    "    for snd_group in snd_group_list:\n",
    "        # use graph travesal to accumulate geographic distance\n",
    "        curr_node_df = gdf.loc[gdf['snd_group'] == snd_group, ['f_intr_id', 't_intr_id']]\n",
    "        curr_node_list = set(curr_node_df['f_intr_id'].tolist()).union(curr_node_df['t_intr_id'])                \n",
    "        \n",
    "        curr_node_snd_group_dict = {nn:snd_group for nn in curr_node_list}\n",
    "        \n",
    "        # combine the two dictionaries\n",
    "        node_snd_group_dict = node_snd_group_dict | curr_node_snd_group_dict        \n",
    "        \n",
    "        # this will get the geographic distance and number of hops\n",
    "        for sn, en in combinations(curr_node_list, r = 2):\n",
    "            #print(sn, en)\n",
    "            sp = nx.shortest_path(G = g, source = sn, target = en, weight = 'gis_seg_length')\n",
    "            curr_dist = 0\n",
    "            curr_hop_dist = 0        \n",
    "            for i_nn, nn in enumerate(sp[:-1]):\n",
    "                curr_dist += g[nn][sp[i_nn + 1]]['gis_seg_length']\n",
    "                curr_hop_dist += 1            \n",
    "            node_dist_dict[sn] += curr_dist\n",
    "            node_dist_dict[en] += curr_dist\n",
    "    \n",
    "            node_hop_dict[sn] += curr_hop_dist\n",
    "            node_hop_dict[en] += curr_hop_dist                \n",
    "        \n",
    "    for nn in node_list:\n",
    "        nn_edge_count_dict[nn] = len(list(nx.dfs_edges(G = g, source=nn, depth_limit= 1)))\n",
    "        \n",
    "        \n",
    "    # this gets the total geographic distance and total hops\n",
    "    node_dist_df = pd.DataFrame.from_dict(data = node_dist_dict, orient = 'index', columns = ['tot_dist']).reset_index(names = ['node_id'])\n",
    "    node_dist_df['tot_hop_dist'] = node_dist_df['node_id'].map(node_hop_dict)\n",
    "    # number of edges\n",
    "    node_dist_df['n_edges'] = node_dist_df['node_id'].map(nn_edge_count_dict)\n",
    "    # add the snd_group\n",
    "    node_dist_df['snd_group'] = node_dist_df['node_id'].map(node_snd_group_dict)        \n",
    "\n",
    "    node_dist_df['avg_dist_per_hop'] = node_dist_df['tot_dist'] / node_dist_df['tot_hop_dist']\n",
    "    # rank it!\n",
    "    # greater distance indicates nodes further away from others\n",
    "    node_dist_df['tot_dist_rank'] = node_dist_df.groupby(['snd_group'])['tot_dist'].rank(method = 'dense', ascending = False) \n",
    "    node_dist_df['tot_hop_dist_rank'] = node_dist_df.groupby(['snd_group'])['tot_hop_dist'].rank(method = 'dense', ascending = False)    \n",
    "    # fewer edges indicates start and stop points\n",
    "    node_dist_df['n_edges_rank'] = node_dist_df.groupby(['snd_group'])['n_edges'].rank(method = 'dense', ascending = True)\n",
    "    # the rank per average distance - this also indicates greater distance\n",
    "    node_dist_df['avg_dist_per_hop_rank'] = node_dist_df.groupby(['snd_group'])['avg_dist_per_hop'].rank(method = 'dense', ascending = True)\n",
    "        \n",
    "    # the nodes with the lowest combined ranks are the \"start\" and \"end\" points of the lines\n",
    "    node_dist_df['combined_rank'] = node_dist_df['tot_dist_rank'] + node_dist_df['tot_hop_dist_rank'] + node_dist_df['n_edges_rank'] + node_dist_df['avg_dist_per_hop_rank']\n",
    "    \n",
    "    node_dist_df['final_rank'] = node_dist_df.groupby(['snd_group'])['combined_rank'].rank(method = 'dense', ascending = True)\n",
    "    node_dist_df = node_dist_df.sort_values(by = ['snd_group', 'final_rank'], ascending = True)\n",
    "\n",
    "    # build a dataframe that counts the number of edges per node:\n",
    "    n_edge_count_df = node_dist_df.loc[node_dist_df['final_rank'] <= 2, :].copy()\n",
    "    #print(n_edge_count_df.shape)\n",
    "\n",
    "    node_snd_group_id_df = pd.DataFrame.from_dict(data = node_snd_group_dict, orient = 'index', columns = ['snd_group']).reset_index(names = ['node_id'])            \n",
    "        \n",
    "    #print(edge_count_df.head())\n",
    "    #print(edge_count_df['snd_group'].value_counts())\n",
    "    # update the dataframes of interest    \n",
    "    #n_edge_count_df = n_edge_count_df.loc[-n_edge_count_df['node_id'].isin(drop_node_list), :].copy()\n",
    "    \n",
    "    snd_group_node_dict = {}\n",
    "    snd_group_id_list = n_edge_count_df['snd_group'].unique().tolist()\n",
    "    for snd_group in snd_group_id_list:        \n",
    "        snd_group_node_dict[snd_group] = n_edge_count_df.loc[n_edge_count_df['snd_group'] == snd_group, 'node_id'].tolist()        \n",
    "\n",
    "    \n",
    "    return g, n_edge_count_df, node_dist_df, node_snd_group_id_df, node_snd_group_dict, snd_group_node_dict"
   ]
  },
  {
   "cell_type": "code",
   "execution_count": 110,
   "id": "db32db82-9494-4141-b9f3-ac2151d49a33",
   "metadata": {},
   "outputs": [],
   "source": [
    "sn = '10TH AVE E'"
   ]
  },
  {
   "cell_type": "code",
   "execution_count": 111,
   "id": "0d1cc443-4058-4472-ab67-bba5377031d3",
   "metadata": {},
   "outputs": [],
   "source": [
    "temp_gdf = gdf.loc[gdf['ord_stname'] == sn, :].copy()        "
   ]
  },
  {
   "cell_type": "code",
   "execution_count": 112,
   "id": "3efd592a-924d-45bb-ba17-5c23d16eb6e0",
   "metadata": {},
   "outputs": [],
   "source": [
    "g, n_edge_count_df, node_dist_df, node_snd_group_id_df, node_snd_group_dict, snd_group_node_dict = create_graph_count_edges(gdf = temp_gdf, \n",
    "                                                                                                                  source_node = 'f_intr_id', \n",
    "                                                                                                                  end_node = 't_intr_id')\n"
   ]
  },
  {
   "cell_type": "code",
   "execution_count": 114,
   "id": "f0f68862-2fd9-4a08-9dd8-0cdf174657af",
   "metadata": {},
   "outputs": [
    {
     "data": {
      "text/plain": [
       "snd_group\n",
       "785    4\n",
       "788    3\n",
       "786    2\n",
       "787    2\n",
       "Name: count, dtype: int64"
      ]
     },
     "execution_count": 114,
     "metadata": {},
     "output_type": "execute_result"
    }
   ],
   "source": [
    "n_edge_count_df['snd_group'].value_counts()"
   ]
  },
  {
   "cell_type": "code",
   "execution_count": 113,
   "id": "5a993f5a-e7d4-453e-9b86-82776b8fe1fc",
   "metadata": {},
   "outputs": [
    {
     "data": {
      "text/html": [
       "<div>\n",
       "<style scoped>\n",
       "    .dataframe tbody tr th:only-of-type {\n",
       "        vertical-align: middle;\n",
       "    }\n",
       "\n",
       "    .dataframe tbody tr th {\n",
       "        vertical-align: top;\n",
       "    }\n",
       "\n",
       "    .dataframe thead th {\n",
       "        text-align: right;\n",
       "    }\n",
       "</style>\n",
       "<table border=\"1\" class=\"dataframe\">\n",
       "  <thead>\n",
       "    <tr style=\"text-align: right;\">\n",
       "      <th></th>\n",
       "      <th>node_id</th>\n",
       "      <th>tot_dist</th>\n",
       "      <th>tot_hop_dist</th>\n",
       "      <th>n_edges</th>\n",
       "      <th>snd_group</th>\n",
       "      <th>avg_dist_per_hop</th>\n",
       "      <th>tot_dist_rank</th>\n",
       "      <th>tot_hop_dist_rank</th>\n",
       "      <th>n_edges_rank</th>\n",
       "      <th>avg_dist_per_hop_rank</th>\n",
       "      <th>combined_rank</th>\n",
       "      <th>final_rank</th>\n",
       "    </tr>\n",
       "  </thead>\n",
       "  <tbody>\n",
       "    <tr>\n",
       "      <th>0</th>\n",
       "      <td>9391</td>\n",
       "      <td>2713.773548</td>\n",
       "      <td>6</td>\n",
       "      <td>1</td>\n",
       "      <td>785</td>\n",
       "      <td>452.295591</td>\n",
       "      <td>2.0</td>\n",
       "      <td>1.0</td>\n",
       "      <td>1.0</td>\n",
       "      <td>2.0</td>\n",
       "      <td>6.0</td>\n",
       "      <td>1.0</td>\n",
       "    </tr>\n",
       "    <tr>\n",
       "      <th>5</th>\n",
       "      <td>9083</td>\n",
       "      <td>2720.725284</td>\n",
       "      <td>6</td>\n",
       "      <td>1</td>\n",
       "      <td>785</td>\n",
       "      <td>453.454214</td>\n",
       "      <td>1.0</td>\n",
       "      <td>1.0</td>\n",
       "      <td>1.0</td>\n",
       "      <td>3.0</td>\n",
       "      <td>6.0</td>\n",
       "      <td>1.0</td>\n",
       "    </tr>\n",
       "    <tr>\n",
       "      <th>1</th>\n",
       "      <td>9251</td>\n",
       "      <td>1770.910394</td>\n",
       "      <td>4</td>\n",
       "      <td>2</td>\n",
       "      <td>785</td>\n",
       "      <td>442.727598</td>\n",
       "      <td>3.0</td>\n",
       "      <td>2.0</td>\n",
       "      <td>2.0</td>\n",
       "      <td>1.0</td>\n",
       "      <td>8.0</td>\n",
       "      <td>2.0</td>\n",
       "    </tr>\n",
       "    <tr>\n",
       "      <th>2</th>\n",
       "      <td>9170</td>\n",
       "      <td>1770.910394</td>\n",
       "      <td>4</td>\n",
       "      <td>2</td>\n",
       "      <td>785</td>\n",
       "      <td>442.727598</td>\n",
       "      <td>3.0</td>\n",
       "      <td>2.0</td>\n",
       "      <td>2.0</td>\n",
       "      <td>1.0</td>\n",
       "      <td>8.0</td>\n",
       "      <td>2.0</td>\n",
       "    </tr>\n",
       "    <tr>\n",
       "      <th>3</th>\n",
       "      <td>11355</td>\n",
       "      <td>1278.209282</td>\n",
       "      <td>3</td>\n",
       "      <td>1</td>\n",
       "      <td>786</td>\n",
       "      <td>426.069761</td>\n",
       "      <td>2.0</td>\n",
       "      <td>1.0</td>\n",
       "      <td>1.0</td>\n",
       "      <td>1.0</td>\n",
       "      <td>5.0</td>\n",
       "      <td>1.0</td>\n",
       "    </tr>\n",
       "    <tr>\n",
       "      <th>10</th>\n",
       "      <td>11179</td>\n",
       "      <td>1278.318643</td>\n",
       "      <td>3</td>\n",
       "      <td>1</td>\n",
       "      <td>786</td>\n",
       "      <td>426.106214</td>\n",
       "      <td>1.0</td>\n",
       "      <td>1.0</td>\n",
       "      <td>1.0</td>\n",
       "      <td>3.0</td>\n",
       "      <td>6.0</td>\n",
       "      <td>2.0</td>\n",
       "    </tr>\n",
       "    <tr>\n",
       "      <th>8</th>\n",
       "      <td>11178</td>\n",
       "      <td>3798.011625</td>\n",
       "      <td>10</td>\n",
       "      <td>1</td>\n",
       "      <td>787</td>\n",
       "      <td>379.801163</td>\n",
       "      <td>2.0</td>\n",
       "      <td>1.0</td>\n",
       "      <td>1.0</td>\n",
       "      <td>1.0</td>\n",
       "      <td>5.0</td>\n",
       "      <td>1.0</td>\n",
       "    </tr>\n",
       "    <tr>\n",
       "      <th>11</th>\n",
       "      <td>10869</td>\n",
       "      <td>4015.357300</td>\n",
       "      <td>10</td>\n",
       "      <td>1</td>\n",
       "      <td>787</td>\n",
       "      <td>401.535730</td>\n",
       "      <td>1.0</td>\n",
       "      <td>1.0</td>\n",
       "      <td>1.0</td>\n",
       "      <td>3.0</td>\n",
       "      <td>6.0</td>\n",
       "      <td>2.0</td>\n",
       "    </tr>\n",
       "    <tr>\n",
       "      <th>14</th>\n",
       "      <td>9748</td>\n",
       "      <td>28365.374111</td>\n",
       "      <td>58</td>\n",
       "      <td>2</td>\n",
       "      <td>788</td>\n",
       "      <td>489.058174</td>\n",
       "      <td>6.0</td>\n",
       "      <td>3.0</td>\n",
       "      <td>2.0</td>\n",
       "      <td>1.0</td>\n",
       "      <td>12.0</td>\n",
       "      <td>1.0</td>\n",
       "    </tr>\n",
       "    <tr>\n",
       "      <th>12</th>\n",
       "      <td>9573</td>\n",
       "      <td>34300.508855</td>\n",
       "      <td>67</td>\n",
       "      <td>2</td>\n",
       "      <td>788</td>\n",
       "      <td>511.947893</td>\n",
       "      <td>4.0</td>\n",
       "      <td>2.0</td>\n",
       "      <td>2.0</td>\n",
       "      <td>6.0</td>\n",
       "      <td>14.0</td>\n",
       "      <td>2.0</td>\n",
       "    </tr>\n",
       "  </tbody>\n",
       "</table>\n",
       "</div>"
      ],
      "text/plain": [
       "    node_id      tot_dist  tot_hop_dist  n_edges  snd_group  avg_dist_per_hop  \\\n",
       "0      9391   2713.773548             6        1        785        452.295591   \n",
       "5      9083   2720.725284             6        1        785        453.454214   \n",
       "1      9251   1770.910394             4        2        785        442.727598   \n",
       "2      9170   1770.910394             4        2        785        442.727598   \n",
       "3     11355   1278.209282             3        1        786        426.069761   \n",
       "10    11179   1278.318643             3        1        786        426.106214   \n",
       "8     11178   3798.011625            10        1        787        379.801163   \n",
       "11    10869   4015.357300            10        1        787        401.535730   \n",
       "14     9748  28365.374111            58        2        788        489.058174   \n",
       "12     9573  34300.508855            67        2        788        511.947893   \n",
       "\n",
       "    tot_dist_rank  tot_hop_dist_rank  n_edges_rank  avg_dist_per_hop_rank  \\\n",
       "0             2.0                1.0           1.0                    2.0   \n",
       "5             1.0                1.0           1.0                    3.0   \n",
       "1             3.0                2.0           2.0                    1.0   \n",
       "2             3.0                2.0           2.0                    1.0   \n",
       "3             2.0                1.0           1.0                    1.0   \n",
       "10            1.0                1.0           1.0                    3.0   \n",
       "8             2.0                1.0           1.0                    1.0   \n",
       "11            1.0                1.0           1.0                    3.0   \n",
       "14            6.0                3.0           2.0                    1.0   \n",
       "12            4.0                2.0           2.0                    6.0   \n",
       "\n",
       "    combined_rank  final_rank  \n",
       "0             6.0         1.0  \n",
       "5             6.0         1.0  \n",
       "1             8.0         2.0  \n",
       "2             8.0         2.0  \n",
       "3             5.0         1.0  \n",
       "10            6.0         2.0  \n",
       "8             5.0         1.0  \n",
       "11            6.0         2.0  \n",
       "14           12.0         1.0  \n",
       "12           14.0         2.0  "
      ]
     },
     "execution_count": 113,
     "metadata": {},
     "output_type": "execute_result"
    }
   ],
   "source": [
    "n_edge_count_df.head(n=10)"
   ]
  },
  {
   "cell_type": "code",
   "execution_count": null,
   "id": "0b40ddf1-81cd-4e09-bfb5-7e81eb9fffa8",
   "metadata": {},
   "outputs": [],
   "source": [
    "# nope, we can use k-edge augmentation with the computed distances to figure this out\n",
    "# https://networkx.org/documentation/stable/reference/algorithms/generated/networkx.algorithms.connectivity.edge_augmentation.k_edge_augmentation.html#networkx.algorithms.connectivity.edge_augmentation.k_edge_augmentation"
   ]
  },
  {
   "cell_type": "code",
   "execution_count": 108,
   "id": "a3786ae4-3aa0-44c1-8906-1392cc4cee26",
   "metadata": {},
   "outputs": [],
   "source": [
    "s_names = gdf_agg.loc[gdf_agg['snd_group_count'] > 1, 'ord_stname'].unique().tolist()\n",
    "#s_names = ['13TH AVE W']"
   ]
  },
  {
   "cell_type": "code",
   "execution_count": 109,
   "id": "04993dfc-433a-45ce-9e9d-037a1f91d863",
   "metadata": {
    "scrolled": true
   },
   "outputs": [
    {
     "name": "stdout",
     "output_type": "stream",
     "text": [
      "10TH AVE\n",
      "10TH AVE E\n"
     ]
    },
    {
     "ename": "ValueError",
     "evalue": "3 columns passed, passed data had 5 columns",
     "output_type": "error",
     "traceback": [
      "\u001b[1;31m---------------------------------------------------------------------------\u001b[0m",
      "\u001b[1;31mAssertionError\u001b[0m                            Traceback (most recent call last)",
      "File \u001b[1;32m~\\anaconda3\\envs\\analysis\\Lib\\site-packages\\pandas\\core\\internals\\construction.py:939\u001b[0m, in \u001b[0;36m_finalize_columns_and_data\u001b[1;34m(content, columns, dtype)\u001b[0m\n\u001b[0;32m    938\u001b[0m \u001b[38;5;28;01mtry\u001b[39;00m:\n\u001b[1;32m--> 939\u001b[0m     columns \u001b[38;5;241m=\u001b[39m _validate_or_indexify_columns(contents, columns)\n\u001b[0;32m    940\u001b[0m \u001b[38;5;28;01mexcept\u001b[39;00m \u001b[38;5;167;01mAssertionError\u001b[39;00m \u001b[38;5;28;01mas\u001b[39;00m err:\n\u001b[0;32m    941\u001b[0m     \u001b[38;5;66;03m# GH#26429 do not raise user-facing AssertionError\u001b[39;00m\n",
      "File \u001b[1;32m~\\anaconda3\\envs\\analysis\\Lib\\site-packages\\pandas\\core\\internals\\construction.py:986\u001b[0m, in \u001b[0;36m_validate_or_indexify_columns\u001b[1;34m(content, columns)\u001b[0m\n\u001b[0;32m    984\u001b[0m \u001b[38;5;28;01mif\u001b[39;00m \u001b[38;5;129;01mnot\u001b[39;00m is_mi_list \u001b[38;5;129;01mand\u001b[39;00m \u001b[38;5;28mlen\u001b[39m(columns) \u001b[38;5;241m!=\u001b[39m \u001b[38;5;28mlen\u001b[39m(content):  \u001b[38;5;66;03m# pragma: no cover\u001b[39;00m\n\u001b[0;32m    985\u001b[0m     \u001b[38;5;66;03m# caller's responsibility to check for this...\u001b[39;00m\n\u001b[1;32m--> 986\u001b[0m     \u001b[38;5;28;01mraise\u001b[39;00m \u001b[38;5;167;01mAssertionError\u001b[39;00m(\n\u001b[0;32m    987\u001b[0m         \u001b[38;5;124mf\u001b[39m\u001b[38;5;124m\"\u001b[39m\u001b[38;5;132;01m{\u001b[39;00m\u001b[38;5;28mlen\u001b[39m(columns)\u001b[38;5;132;01m}\u001b[39;00m\u001b[38;5;124m columns passed, passed data had \u001b[39m\u001b[38;5;124m\"\u001b[39m\n\u001b[0;32m    988\u001b[0m         \u001b[38;5;124mf\u001b[39m\u001b[38;5;124m\"\u001b[39m\u001b[38;5;132;01m{\u001b[39;00m\u001b[38;5;28mlen\u001b[39m(content)\u001b[38;5;132;01m}\u001b[39;00m\u001b[38;5;124m columns\u001b[39m\u001b[38;5;124m\"\u001b[39m\n\u001b[0;32m    989\u001b[0m     )\n\u001b[0;32m    990\u001b[0m \u001b[38;5;28;01mif\u001b[39;00m is_mi_list:\n\u001b[0;32m    991\u001b[0m     \u001b[38;5;66;03m# check if nested list column, length of each sub-list should be equal\u001b[39;00m\n",
      "\u001b[1;31mAssertionError\u001b[0m: 3 columns passed, passed data had 5 columns",
      "\nThe above exception was the direct cause of the following exception:\n",
      "\u001b[1;31mValueError\u001b[0m                                Traceback (most recent call last)",
      "Cell \u001b[1;32mIn[109], line 53\u001b[0m\n\u001b[0;32m     49\u001b[0m     nodes\u001b[38;5;241m.\u001b[39mappend(weight)\n\u001b[0;32m     50\u001b[0m     edge_list\u001b[38;5;241m.\u001b[39mappend(nodes)\n\u001b[1;32m---> 53\u001b[0m edge_df \u001b[38;5;241m=\u001b[39m pd\u001b[38;5;241m.\u001b[39mDataFrame(data \u001b[38;5;241m=\u001b[39m edge_list, columns \u001b[38;5;241m=\u001b[39m [\u001b[38;5;124m'\u001b[39m\u001b[38;5;124msn_id\u001b[39m\u001b[38;5;124m'\u001b[39m, \u001b[38;5;124m'\u001b[39m\u001b[38;5;124men_id\u001b[39m\u001b[38;5;124m'\u001b[39m, \u001b[38;5;124m'\u001b[39m\u001b[38;5;124mweight\u001b[39m\u001b[38;5;124m'\u001b[39m])\n\u001b[0;32m     55\u001b[0m sg \u001b[38;5;241m=\u001b[39m nx\u001b[38;5;241m.\u001b[39mfrom_pandas_edgelist(df \u001b[38;5;241m=\u001b[39m edge_df, source \u001b[38;5;241m=\u001b[39m \u001b[38;5;124m'\u001b[39m\u001b[38;5;124msn_id\u001b[39m\u001b[38;5;124m'\u001b[39m, target \u001b[38;5;241m=\u001b[39m \u001b[38;5;124m'\u001b[39m\u001b[38;5;124men_id\u001b[39m\u001b[38;5;124m'\u001b[39m, edge_attr\u001b[38;5;241m=\u001b[39m\u001b[38;5;28;01mTrue\u001b[39;00m)\n\u001b[0;32m     57\u001b[0m avail_edges \u001b[38;5;241m=\u001b[39m []\n",
      "File \u001b[1;32m~\\anaconda3\\envs\\analysis\\Lib\\site-packages\\pandas\\core\\frame.py:851\u001b[0m, in \u001b[0;36mDataFrame.__init__\u001b[1;34m(self, data, index, columns, dtype, copy)\u001b[0m\n\u001b[0;32m    849\u001b[0m     \u001b[38;5;28;01mif\u001b[39;00m columns \u001b[38;5;129;01mis\u001b[39;00m \u001b[38;5;129;01mnot\u001b[39;00m \u001b[38;5;28;01mNone\u001b[39;00m:\n\u001b[0;32m    850\u001b[0m         columns \u001b[38;5;241m=\u001b[39m ensure_index(columns)\n\u001b[1;32m--> 851\u001b[0m     arrays, columns, index \u001b[38;5;241m=\u001b[39m nested_data_to_arrays(\n\u001b[0;32m    852\u001b[0m         \u001b[38;5;66;03m# error: Argument 3 to \"nested_data_to_arrays\" has incompatible\u001b[39;00m\n\u001b[0;32m    853\u001b[0m         \u001b[38;5;66;03m# type \"Optional[Collection[Any]]\"; expected \"Optional[Index]\"\u001b[39;00m\n\u001b[0;32m    854\u001b[0m         data,\n\u001b[0;32m    855\u001b[0m         columns,\n\u001b[0;32m    856\u001b[0m         index,  \u001b[38;5;66;03m# type: ignore[arg-type]\u001b[39;00m\n\u001b[0;32m    857\u001b[0m         dtype,\n\u001b[0;32m    858\u001b[0m     )\n\u001b[0;32m    859\u001b[0m     mgr \u001b[38;5;241m=\u001b[39m arrays_to_mgr(\n\u001b[0;32m    860\u001b[0m         arrays,\n\u001b[0;32m    861\u001b[0m         columns,\n\u001b[1;32m   (...)\u001b[0m\n\u001b[0;32m    864\u001b[0m         typ\u001b[38;5;241m=\u001b[39mmanager,\n\u001b[0;32m    865\u001b[0m     )\n\u001b[0;32m    866\u001b[0m \u001b[38;5;28;01melse\u001b[39;00m:\n",
      "File \u001b[1;32m~\\anaconda3\\envs\\analysis\\Lib\\site-packages\\pandas\\core\\internals\\construction.py:520\u001b[0m, in \u001b[0;36mnested_data_to_arrays\u001b[1;34m(data, columns, index, dtype)\u001b[0m\n\u001b[0;32m    517\u001b[0m \u001b[38;5;28;01mif\u001b[39;00m is_named_tuple(data[\u001b[38;5;241m0\u001b[39m]) \u001b[38;5;129;01mand\u001b[39;00m columns \u001b[38;5;129;01mis\u001b[39;00m \u001b[38;5;28;01mNone\u001b[39;00m:\n\u001b[0;32m    518\u001b[0m     columns \u001b[38;5;241m=\u001b[39m ensure_index(data[\u001b[38;5;241m0\u001b[39m]\u001b[38;5;241m.\u001b[39m_fields)\n\u001b[1;32m--> 520\u001b[0m arrays, columns \u001b[38;5;241m=\u001b[39m to_arrays(data, columns, dtype\u001b[38;5;241m=\u001b[39mdtype)\n\u001b[0;32m    521\u001b[0m columns \u001b[38;5;241m=\u001b[39m ensure_index(columns)\n\u001b[0;32m    523\u001b[0m \u001b[38;5;28;01mif\u001b[39;00m index \u001b[38;5;129;01mis\u001b[39;00m \u001b[38;5;28;01mNone\u001b[39;00m:\n",
      "File \u001b[1;32m~\\anaconda3\\envs\\analysis\\Lib\\site-packages\\pandas\\core\\internals\\construction.py:845\u001b[0m, in \u001b[0;36mto_arrays\u001b[1;34m(data, columns, dtype)\u001b[0m\n\u001b[0;32m    842\u001b[0m     data \u001b[38;5;241m=\u001b[39m [\u001b[38;5;28mtuple\u001b[39m(x) \u001b[38;5;28;01mfor\u001b[39;00m x \u001b[38;5;129;01min\u001b[39;00m data]\n\u001b[0;32m    843\u001b[0m     arr \u001b[38;5;241m=\u001b[39m _list_to_arrays(data)\n\u001b[1;32m--> 845\u001b[0m content, columns \u001b[38;5;241m=\u001b[39m _finalize_columns_and_data(arr, columns, dtype)\n\u001b[0;32m    846\u001b[0m \u001b[38;5;28;01mreturn\u001b[39;00m content, columns\n",
      "File \u001b[1;32m~\\anaconda3\\envs\\analysis\\Lib\\site-packages\\pandas\\core\\internals\\construction.py:942\u001b[0m, in \u001b[0;36m_finalize_columns_and_data\u001b[1;34m(content, columns, dtype)\u001b[0m\n\u001b[0;32m    939\u001b[0m     columns \u001b[38;5;241m=\u001b[39m _validate_or_indexify_columns(contents, columns)\n\u001b[0;32m    940\u001b[0m \u001b[38;5;28;01mexcept\u001b[39;00m \u001b[38;5;167;01mAssertionError\u001b[39;00m \u001b[38;5;28;01mas\u001b[39;00m err:\n\u001b[0;32m    941\u001b[0m     \u001b[38;5;66;03m# GH#26429 do not raise user-facing AssertionError\u001b[39;00m\n\u001b[1;32m--> 942\u001b[0m     \u001b[38;5;28;01mraise\u001b[39;00m \u001b[38;5;167;01mValueError\u001b[39;00m(err) \u001b[38;5;28;01mfrom\u001b[39;00m \u001b[38;5;21;01merr\u001b[39;00m\n\u001b[0;32m    944\u001b[0m \u001b[38;5;28;01mif\u001b[39;00m \u001b[38;5;28mlen\u001b[39m(contents) \u001b[38;5;129;01mand\u001b[39;00m contents[\u001b[38;5;241m0\u001b[39m]\u001b[38;5;241m.\u001b[39mdtype \u001b[38;5;241m==\u001b[39m np\u001b[38;5;241m.\u001b[39mobject_:\n\u001b[0;32m    945\u001b[0m     contents \u001b[38;5;241m=\u001b[39m convert_object_array(contents, dtype\u001b[38;5;241m=\u001b[39mdtype)\n",
      "\u001b[1;31mValueError\u001b[0m: 3 columns passed, passed data had 5 columns"
     ]
    }
   ],
   "source": [
    "did_it_work = False\n",
    "output_gdf_list = []\n",
    "# extra explode gdf\n",
    "ex_gdf_list = []\n",
    "ex_ex_gdf_list = []\n",
    "for sn in s_names[:200]:\n",
    "    # get a street by name\n",
    "    print(sn)\n",
    "    # subset the gdf\n",
    "    temp_gdf = gdf.loc[gdf['ord_stname'] == sn, :].copy()        \n",
    "    \n",
    "    # build a graph to find (dis)connected components: this is an easy way to find portions of a street that are not connected to each other\n",
    "    # do I need this graph?\n",
    "    \n",
    "    # we can do products of products to find which streets should be compared.\n",
    "    # the first product to compare is the street group ids\n",
    "        \n",
    "    snd_group_id_list = temp_gdf['snd_group'].unique()\n",
    "    #print(snd_group_id_list)\n",
    "    output_file_name = '_'.join(sn.split()) + '.gpkg'\n",
    "    write_gdf(gdf = temp_gdf, output_file_path = output_file_path, output_file_name = output_file_name)\n",
    "    \n",
    "    # hmmm, let's compute the combinations\n",
    "    # figure out which nodes in a graph only have one successor\n",
    "    g, n_edge_count_df, node_dist_df, node_snd_group_id_df, node_snd_group_dict, snd_group_node_dict = create_graph_count_edges(gdf = temp_gdf, \n",
    "                                                                                                                  source_node = 'f_intr_id', \n",
    "                                                                                                                  end_node = 't_intr_id')\n",
    "\n",
    "\n",
    "    #n_edge_count_df = n_edge_count_df.loc[n_edge_count_df['tot_dist_rank'] <= 2, :]\n",
    "    #print(\n",
    "\n",
    "    # subset nodes\n",
    "    node_subset_gdf = subset_node_gdf(node_gdf = node_gdf, other_node_df = n_edge_count_df)\n",
    "    output_file_name = 'subset_nodes_' + '_'.join(sn.split()) + '.gpkg'\n",
    "    write_gdf(gdf = node_subset_gdf, output_file_path = output_file_path, output_file_name = output_file_name)\n",
    "\n",
    "    # full nodes\n",
    "    curr_node_df = pd.DataFrame(data = {'node_id':g.nodes()})\n",
    "    node_subset_gdf = subset_node_gdf(node_gdf = node_gdf, other_node_df = curr_node_df)\n",
    "    output_file_name = 'full_nodes_' + '_'.join(sn.split()) + '.gpkg'\n",
    "    write_gdf(gdf = node_subset_gdf, output_file_path = output_file_path, output_file_name = output_file_name)\n",
    "    \n",
    "         \n",
    "    edge_list = []\n",
    "    for snd_group in n_edge_count_df['snd_group'].unique().tolist():\n",
    "        nodes = n_edge_count_df.loc[n_edge_count_df['snd_group']==snd_group, 'node_id'].tolist()\n",
    "        weight = points2distance(node_dict[nodes[0]], node_dict[nodes[1]], unit = 'miles')\n",
    "        nodes.append(weight)\n",
    "        edge_list.append(nodes)\n",
    "        \n",
    "    \n",
    "    edge_df = pd.DataFrame(data = edge_list, columns = ['sn_id', 'en_id', 'weight'])\n",
    "    \n",
    "    sg = nx.from_pandas_edgelist(df = edge_df, source = 'sn_id', target = 'en_id', edge_attr=True)\n",
    "    \n",
    "    avail_edges = []\n",
    "    for ne in nx.non_edges(sg):    \n",
    "        weight = points2distance(node_dict[ne[0]], node_dict[ne[1]], unit = 'miles')\n",
    "        output = (ne[0], ne[1], {'weight':weight})\n",
    "        avail_edges.append(output)\n",
    "        \n",
    "    data_list = []\n",
    "    line_list = []\n",
    "    augmented_edges = nx.k_edge_augmentation(G = sg, k = 1, avail = avail_edges, weight = 'weight')    \n",
    "    for i_ne, ne in enumerate(augmented_edges):\n",
    "        temp_data_list = [sn, i_ne, ne[0], ne[1]]\n",
    "        temp_line = LineString([node_dict[ne[0]], node_dict[ne[1]]])\n",
    "        line_list.append(temp_line)\n",
    "        data_list.append(temp_data_list)\n",
    "\n",
    "    my_output_gdf = gpd.GeoDataFrame(data = data_list,\n",
    "                                     columns = ['ord_stname', 'as_id', 'sn_id', 'en_id'],\n",
    "                                     geometry = line_list, crs = 'epsg:4326')\n",
    "    \n",
    "    my_output_gdf['same_snd_group'] = int(0)\n",
    "    #my_output_gdf.loc[my_output_gdf['sn_snd_group_id'] == my_output_gdf['en_snd_group_id'], 'same_snd_group'] = 1 \n",
    "    #print(my_output_gdf.head())\n",
    "    \n",
    "    \n",
    "    output_file_name = 'missing_segments_' + '_'.join(sn.split()) + '.gpkg'\n",
    "    ofpn = os.path.join(output_file_path, output_file_name)    \n",
    "    \n",
    "    my_output_gdf.to_file(filename = ofpn, driver = 'GPKG', index = False)\n",
    "\n",
    "    output_gdf_list.append(my_output_gdf)\n",
    "    did_it_work = True"
   ]
  },
  {
   "cell_type": "code",
   "execution_count": null,
   "id": "58fed409-735d-4195-872b-09b98e3cc914",
   "metadata": {},
   "outputs": [],
   "source": [
    "ms_gdf = pd.concat(objs = output_gdf_list)"
   ]
  },
  {
   "cell_type": "code",
   "execution_count": null,
   "id": "602e0a28-fe01-47f1-9264-7a79dcb07a0d",
   "metadata": {},
   "outputs": [],
   "source": [
    "output_file_name = 'missing_segments.gpkg'\n",
    "ofpn = os.path.join(output_file_path, output_file_name)    \n",
    "\n",
    "ms_gdf.to_file(filename = ofpn, driver = 'GPKG', index = False)"
   ]
  },
  {
   "cell_type": "code",
   "execution_count": null,
   "id": "59c148fc-295e-4767-bd3b-81f881fc4641",
   "metadata": {},
   "outputs": [],
   "source": [
    "did_it_work"
   ]
  },
  {
   "cell_type": "code",
   "execution_count": null,
   "id": "e2928a0e-3aaf-4670-85e7-314a9983808f",
   "metadata": {},
   "outputs": [],
   "source": []
  },
  {
   "cell_type": "code",
   "execution_count": null,
   "id": "d492e552-527f-44a2-af63-61598dba30ba",
   "metadata": {},
   "outputs": [],
   "source": []
  },
  {
   "cell_type": "code",
   "execution_count": null,
   "id": "63f688dc-24e3-434d-90f3-dd4c043cf5ef",
   "metadata": {},
   "outputs": [],
   "source": []
  },
  {
   "cell_type": "code",
   "execution_count": null,
   "id": "21395f7c-e5cc-40a4-8107-819776eca158",
   "metadata": {},
   "outputs": [],
   "source": [
    "node_snd_group_id_df.shape"
   ]
  },
  {
   "cell_type": "code",
   "execution_count": null,
   "id": "b2a219f4-c32f-44be-baec-3559ea1c3300",
   "metadata": {},
   "outputs": [],
   "source": [
    "node_snd_group_id_df = node_snd_group_id_df.sort_values(by = ['snd_group', 'node_id'])"
   ]
  },
  {
   "cell_type": "code",
   "execution_count": null,
   "id": "a9c1c32f-8810-4235-8a9d-e9955d00f7d9",
   "metadata": {},
   "outputs": [],
   "source": [
    "node_snd_group_id_df.head(n=20)"
   ]
  },
  {
   "cell_type": "code",
   "execution_count": null,
   "id": "320ee3b5-af33-47c7-9af6-df56ce099c5a",
   "metadata": {},
   "outputs": [],
   "source": []
  },
  {
   "cell_type": "code",
   "execution_count": null,
   "id": "a328a797-85d6-4368-a269-b18aecdb4189",
   "metadata": {},
   "outputs": [],
   "source": []
  },
  {
   "cell_type": "code",
   "execution_count": null,
   "id": "8584da35-cb02-45f0-a54e-45bc7bc8531c",
   "metadata": {},
   "outputs": [],
   "source": []
  },
  {
   "cell_type": "code",
   "execution_count": null,
   "id": "8d1214e5-bdd2-4086-a1ff-bcfb430c73ae",
   "metadata": {},
   "outputs": [],
   "source": []
  },
  {
   "cell_type": "code",
   "execution_count": null,
   "id": "6d7356c1-eb6c-45a4-8e0a-e21e8850a464",
   "metadata": {},
   "outputs": [],
   "source": []
  },
  {
   "cell_type": "code",
   "execution_count": null,
   "id": "20cac754-38d4-4d31-8205-28a46ca94b19",
   "metadata": {},
   "outputs": [],
   "source": [
    "np.argmax(a=[1,2])"
   ]
  },
  {
   "cell_type": "code",
   "execution_count": null,
   "id": "e0dd4fec-e9ae-44f9-bb32-1b34bfa7e012",
   "metadata": {},
   "outputs": [],
   "source": []
  },
  {
   "cell_type": "code",
   "execution_count": null,
   "id": "3c9a036b-c925-46da-b881-0fb14ba5378d",
   "metadata": {},
   "outputs": [],
   "source": []
  },
  {
   "cell_type": "code",
   "execution_count": null,
   "id": "8b2a1e2c-76e6-4eba-9092-964f1e1ea600",
   "metadata": {},
   "outputs": [],
   "source": []
  },
  {
   "cell_type": "code",
   "execution_count": null,
   "id": "fbf21465-2ec4-4685-abbc-96bf983045ce",
   "metadata": {},
   "outputs": [],
   "source": []
  },
  {
   "cell_type": "code",
   "execution_count": null,
   "id": "5e9a41fe-b699-4c55-b143-7870efb87bf8",
   "metadata": {},
   "outputs": [],
   "source": [
    "node_dist_df.head()"
   ]
  },
  {
   "cell_type": "code",
   "execution_count": null,
   "id": "c6495e24-cac6-4764-9e76-51cfbbdcb98d",
   "metadata": {},
   "outputs": [],
   "source": [
    "sn_id_agg_df = node_dist_df[['sn_id', 'dist_miles']].groupby(['sn_id']).agg(tot_dist = ('dist_miles', 'sum'))\n",
    "\n",
    "sn_id_agg_df['tot_dist'].max()\n",
    "\n",
    "en_id_agg_df = node_dist_df[['en_id', 'dist_miles']].groupby(['en_id']).agg(tot_dist = ('dist_miles', 'sum'))\n",
    "\n",
    "en_id_agg_df['tot_dist'].max()"
   ]
  },
  {
   "cell_type": "code",
   "execution_count": null,
   "id": "61c7c6f8-31ba-4e18-9988-e35a8e9a6a0b",
   "metadata": {},
   "outputs": [],
   "source": [
    "# TODO: need a portion to flatten each line string, but keep the known vertices"
   ]
  }
 ],
 "metadata": {
  "kernelspec": {
   "display_name": "Python 3 (ipykernel)",
   "language": "python",
   "name": "python3"
  },
  "language_info": {
   "codemirror_mode": {
    "name": "ipython",
    "version": 3
   },
   "file_extension": ".py",
   "mimetype": "text/x-python",
   "name": "python",
   "nbconvert_exporter": "python",
   "pygments_lexer": "ipython3",
   "version": "3.12.4"
  }
 },
 "nbformat": 4,
 "nbformat_minor": 5
}
