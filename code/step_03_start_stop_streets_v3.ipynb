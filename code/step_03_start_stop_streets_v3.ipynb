{
 "cells": [
  {
   "cell_type": "code",
   "execution_count": 1,
   "id": "fed9e25b-c5b9-4aee-89cd-15a7da3945c0",
   "metadata": {},
   "outputs": [],
   "source": [
    "# mike babb\n",
    "# 2024 06 28\n",
    "# what streets start and stop?"
   ]
  },
  {
   "cell_type": "code",
   "execution_count": 2,
   "id": "e88ca8b2-b75d-4e72-8fc7-65c4cea61cde",
   "metadata": {},
   "outputs": [],
   "source": [
    "# standard\n",
    "import os"
   ]
  },
  {
   "cell_type": "code",
   "execution_count": 3,
   "id": "0778d9a5-0c62-4724-be28-c21598d23b6f",
   "metadata": {},
   "outputs": [],
   "source": [
    "# external\n",
    "from itertools import combinations, product\n",
    "import geopandas as gpd\n",
    "import networkx as nx\n",
    "import numpy as np\n",
    "import pandas as pd\n",
    "from shapely.geometry import LineString, Point\n",
    "from shapely import line_merge\n",
    "# from skspatial.objects import Point as sks_point"
   ]
  },
  {
   "cell_type": "code",
   "execution_count": 4,
   "id": "2fc61400-c637-4828-820d-56c2cdd14942",
   "metadata": {},
   "outputs": [],
   "source": [
    "# custom\n",
    "from geodataio.geo_operations import points2distance, calculate_initial_compass_bearing"
   ]
  },
  {
   "cell_type": "code",
   "execution_count": null,
   "id": "b1be287f-e724-4354-8ba7-e1ef50fefb9e",
   "metadata": {},
   "outputs": [],
   "source": []
  },
  {
   "cell_type": "markdown",
   "id": "d56ea77e-ffd7-4326-b793-415f8a131ef2",
   "metadata": {},
   "source": [
    "# load the street network"
   ]
  },
  {
   "cell_type": "code",
   "execution_count": 5,
   "id": "d07cfb9b-9184-48d7-af77-035e2390d9e5",
   "metadata": {},
   "outputs": [],
   "source": [
    "# file path\n",
    "input_file_path = 'H:/project/seattle_streets/data/' \n",
    "output_file_path = 'H:/project/seattle_streets/data/individual_streets'"
   ]
  },
  {
   "cell_type": "code",
   "execution_count": 6,
   "id": "3c1039f5-a281-4460-b65d-98a6ca2556b7",
   "metadata": {},
   "outputs": [],
   "source": [
    "file_name = 'Street_Network_Database.gpkg'"
   ]
  },
  {
   "cell_type": "code",
   "execution_count": 7,
   "id": "ddf62724-9105-44c9-b983-e4f520328fa9",
   "metadata": {},
   "outputs": [],
   "source": [
    "fpn = os.path.join(input_file_path, file_name)"
   ]
  },
  {
   "cell_type": "code",
   "execution_count": 8,
   "id": "2cbdb5c1-c973-4882-b442-cf5396e90d3e",
   "metadata": {},
   "outputs": [],
   "source": [
    "gdf = gpd.read_file(filename = fpn)"
   ]
  },
  {
   "cell_type": "code",
   "execution_count": 9,
   "id": "ce02bdf0-a0ca-46a5-bf8f-54b576ee2de7",
   "metadata": {},
   "outputs": [
    {
     "data": {
      "text/plain": [
       "Index(['f_intr_id', 't_intr_id', 'snd_id', 'snd_feacod', 'citycode',\n",
       "       'stname_id', 'st_code', 'arterial_c', 'segment_ty', 'agency_cod',\n",
       "       'access_cod', 'divided_co', 'structure_', 'legalloc_c', 'vehicle_us',\n",
       "       'gis_seg_length', 'l_adrs_from', 'l_adrs_to', 'r_adrs_from',\n",
       "       'r_adrs_to', 'ord_pre_dir', 'ord_street', 'ord_street_type',\n",
       "       'ord_suf_dir', 'ord_stname', 'l_city', 'l_state', 'l_zip', 'r_city',\n",
       "       'r_state', 'r_zip', 'sndseg_upd', 'compkey', 'comptype', 'unitid',\n",
       "       'unitid2', 'city_portion', 'ord_st_type', 'ord_street_st_type',\n",
       "       'snd_group', 'geometry'],\n",
       "      dtype='object')"
      ]
     },
     "execution_count": 9,
     "metadata": {},
     "output_type": "execute_result"
    }
   ],
   "source": [
    "gdf.columns"
   ]
  },
  {
   "cell_type": "code",
   "execution_count": 10,
   "id": "8ff216e4-54fe-4795-a9fd-3214a75677c0",
   "metadata": {},
   "outputs": [],
   "source": [
    "# load the node data\n",
    "input_file_name = 'Street_Network_Nodes.gpkg'"
   ]
  },
  {
   "cell_type": "code",
   "execution_count": 11,
   "id": "81e88fff-cc66-47fd-bc60-fb253a9f110f",
   "metadata": {},
   "outputs": [],
   "source": [
    "fpn = os.path.join(input_file_path, input_file_name)"
   ]
  },
  {
   "cell_type": "code",
   "execution_count": 12,
   "id": "e67fed54-4d3b-45ca-8a41-2f9e7103a699",
   "metadata": {},
   "outputs": [],
   "source": [
    "node_gdf = gpd.read_file(filename = fpn)"
   ]
  },
  {
   "cell_type": "code",
   "execution_count": 13,
   "id": "26bac731-425e-409f-bb41-c3a5d1a6bf2b",
   "metadata": {},
   "outputs": [
    {
     "data": {
      "text/html": [
       "<div>\n",
       "<style scoped>\n",
       "    .dataframe tbody tr th:only-of-type {\n",
       "        vertical-align: middle;\n",
       "    }\n",
       "\n",
       "    .dataframe tbody tr th {\n",
       "        vertical-align: top;\n",
       "    }\n",
       "\n",
       "    .dataframe thead th {\n",
       "        text-align: right;\n",
       "    }\n",
       "</style>\n",
       "<table border=\"1\" class=\"dataframe\">\n",
       "  <thead>\n",
       "    <tr style=\"text-align: right;\">\n",
       "      <th></th>\n",
       "      <th>node_id</th>\n",
       "      <th>geometry</th>\n",
       "    </tr>\n",
       "  </thead>\n",
       "  <tbody>\n",
       "    <tr>\n",
       "      <th>0</th>\n",
       "      <td>13827</td>\n",
       "      <td>POINT (-122.40808 47.57771)</td>\n",
       "    </tr>\n",
       "    <tr>\n",
       "      <th>1</th>\n",
       "      <td>8721</td>\n",
       "      <td>POINT (-122.33029 47.65195)</td>\n",
       "    </tr>\n",
       "    <tr>\n",
       "      <th>2</th>\n",
       "      <td>3606</td>\n",
       "      <td>POINT (-122.28808 47.70834)</td>\n",
       "    </tr>\n",
       "    <tr>\n",
       "      <th>3</th>\n",
       "      <td>3784</td>\n",
       "      <td>POINT (-122.27712 47.70534)</td>\n",
       "    </tr>\n",
       "    <tr>\n",
       "      <th>4</th>\n",
       "      <td>14373</td>\n",
       "      <td>POINT (-122.40387 47.57132)</td>\n",
       "    </tr>\n",
       "  </tbody>\n",
       "</table>\n",
       "</div>"
      ],
      "text/plain": [
       "   node_id                     geometry\n",
       "0    13827  POINT (-122.40808 47.57771)\n",
       "1     8721  POINT (-122.33029 47.65195)\n",
       "2     3606  POINT (-122.28808 47.70834)\n",
       "3     3784  POINT (-122.27712 47.70534)\n",
       "4    14373  POINT (-122.40387 47.57132)"
      ]
     },
     "execution_count": 13,
     "metadata": {},
     "output_type": "execute_result"
    }
   ],
   "source": [
    "node_gdf.head()"
   ]
  },
  {
   "cell_type": "code",
   "execution_count": 14,
   "id": "65c710c8-40db-4bc0-af3a-78c6c64e495b",
   "metadata": {},
   "outputs": [],
   "source": [
    "node_gdf['coords'] = node_gdf['geometry'].map(lambda x: x.coords[0])"
   ]
  },
  {
   "cell_type": "code",
   "execution_count": 15,
   "id": "ac7dff3c-6d52-4b80-b259-2214ef6c131a",
   "metadata": {},
   "outputs": [
    {
     "data": {
      "text/html": [
       "<div>\n",
       "<style scoped>\n",
       "    .dataframe tbody tr th:only-of-type {\n",
       "        vertical-align: middle;\n",
       "    }\n",
       "\n",
       "    .dataframe tbody tr th {\n",
       "        vertical-align: top;\n",
       "    }\n",
       "\n",
       "    .dataframe thead th {\n",
       "        text-align: right;\n",
       "    }\n",
       "</style>\n",
       "<table border=\"1\" class=\"dataframe\">\n",
       "  <thead>\n",
       "    <tr style=\"text-align: right;\">\n",
       "      <th></th>\n",
       "      <th>node_id</th>\n",
       "      <th>geometry</th>\n",
       "      <th>coords</th>\n",
       "    </tr>\n",
       "  </thead>\n",
       "  <tbody>\n",
       "    <tr>\n",
       "      <th>0</th>\n",
       "      <td>13827</td>\n",
       "      <td>POINT (-122.40808 47.57771)</td>\n",
       "      <td>(-122.40807905399998, 47.577706970000065)</td>\n",
       "    </tr>\n",
       "    <tr>\n",
       "      <th>1</th>\n",
       "      <td>8721</td>\n",
       "      <td>POINT (-122.33029 47.65195)</td>\n",
       "      <td>(-122.33029050099998, 47.651945700000056)</td>\n",
       "    </tr>\n",
       "    <tr>\n",
       "      <th>2</th>\n",
       "      <td>3606</td>\n",
       "      <td>POINT (-122.28808 47.70834)</td>\n",
       "      <td>(-122.28808025199999, 47.70834198600005)</td>\n",
       "    </tr>\n",
       "    <tr>\n",
       "      <th>3</th>\n",
       "      <td>3784</td>\n",
       "      <td>POINT (-122.27712 47.70534)</td>\n",
       "      <td>(-122.27712366699996, 47.70533646400003)</td>\n",
       "    </tr>\n",
       "    <tr>\n",
       "      <th>4</th>\n",
       "      <td>14373</td>\n",
       "      <td>POINT (-122.40387 47.57132)</td>\n",
       "      <td>(-122.40386783599996, 47.57132209200006)</td>\n",
       "    </tr>\n",
       "  </tbody>\n",
       "</table>\n",
       "</div>"
      ],
      "text/plain": [
       "   node_id                     geometry  \\\n",
       "0    13827  POINT (-122.40808 47.57771)   \n",
       "1     8721  POINT (-122.33029 47.65195)   \n",
       "2     3606  POINT (-122.28808 47.70834)   \n",
       "3     3784  POINT (-122.27712 47.70534)   \n",
       "4    14373  POINT (-122.40387 47.57132)   \n",
       "\n",
       "                                      coords  \n",
       "0  (-122.40807905399998, 47.577706970000065)  \n",
       "1  (-122.33029050099998, 47.651945700000056)  \n",
       "2   (-122.28808025199999, 47.70834198600005)  \n",
       "3   (-122.27712366699996, 47.70533646400003)  \n",
       "4   (-122.40386783599996, 47.57132209200006)  "
      ]
     },
     "execution_count": 15,
     "metadata": {},
     "output_type": "execute_result"
    }
   ],
   "source": [
    "node_gdf.head()"
   ]
  },
  {
   "cell_type": "code",
   "execution_count": 16,
   "id": "d26b04eb-ebbf-4b3c-a2a2-f7e5604a695a",
   "metadata": {},
   "outputs": [],
   "source": [
    "# zap this into a dictionary\n",
    "node_dict = {}\n",
    "for my_row in node_gdf.itertuples():\n",
    "    node_dict[my_row.node_id] = my_row.coords"
   ]
  },
  {
   "cell_type": "code",
   "execution_count": 17,
   "id": "075114a2-8138-4224-b950-3ec1c49d535e",
   "metadata": {},
   "outputs": [
    {
     "data": {
      "text/plain": [
       "(-122.39426507399997, 47.63229296900005)"
      ]
     },
     "execution_count": 17,
     "metadata": {},
     "output_type": "execute_result"
    }
   ],
   "source": [
    "node_dict[10272]"
   ]
  },
  {
   "cell_type": "markdown",
   "id": "3c242868-8a5d-4040-a480-e8c3258a1924",
   "metadata": {},
   "source": [
    "# PASS 1: FOCUS ON JUST THE STREETS, REGARDLESS OF DIRECTION AND TYPE"
   ]
  },
  {
   "cell_type": "code",
   "execution_count": 18,
   "id": "96d082b7-9fe3-44ca-8a9e-70dd41679c8e",
   "metadata": {},
   "outputs": [],
   "source": [
    "gdf_agg = gdf[['ord_stname', 'snd_group']].drop_duplicates().groupby(['ord_stname']).agg( snd_group_count = ('snd_group', 'size')).reset_index()"
   ]
  },
  {
   "cell_type": "code",
   "execution_count": 19,
   "id": "9d04b372-fb99-4246-8755-99e75bba0f5a",
   "metadata": {},
   "outputs": [
    {
     "data": {
      "text/html": [
       "<div>\n",
       "<style scoped>\n",
       "    .dataframe tbody tr th:only-of-type {\n",
       "        vertical-align: middle;\n",
       "    }\n",
       "\n",
       "    .dataframe tbody tr th {\n",
       "        vertical-align: top;\n",
       "    }\n",
       "\n",
       "    .dataframe thead th {\n",
       "        text-align: right;\n",
       "    }\n",
       "</style>\n",
       "<table border=\"1\" class=\"dataframe\">\n",
       "  <thead>\n",
       "    <tr style=\"text-align: right;\">\n",
       "      <th></th>\n",
       "      <th>ord_stname</th>\n",
       "      <th>snd_group_count</th>\n",
       "    </tr>\n",
       "  </thead>\n",
       "  <tbody>\n",
       "    <tr>\n",
       "      <th>0</th>\n",
       "      <td>10TH AVE</td>\n",
       "      <td>4</td>\n",
       "    </tr>\n",
       "    <tr>\n",
       "      <th>1</th>\n",
       "      <td>10TH AVE E</td>\n",
       "      <td>4</td>\n",
       "    </tr>\n",
       "    <tr>\n",
       "      <th>2</th>\n",
       "      <td>10TH AVE NE</td>\n",
       "      <td>2</td>\n",
       "    </tr>\n",
       "    <tr>\n",
       "      <th>3</th>\n",
       "      <td>10TH AVE NW</td>\n",
       "      <td>5</td>\n",
       "    </tr>\n",
       "    <tr>\n",
       "      <th>4</th>\n",
       "      <td>10TH AVE S</td>\n",
       "      <td>8</td>\n",
       "    </tr>\n",
       "  </tbody>\n",
       "</table>\n",
       "</div>"
      ],
      "text/plain": [
       "    ord_stname  snd_group_count\n",
       "0     10TH AVE                4\n",
       "1   10TH AVE E                4\n",
       "2  10TH AVE NE                2\n",
       "3  10TH AVE NW                5\n",
       "4   10TH AVE S                8"
      ]
     },
     "execution_count": 19,
     "metadata": {},
     "output_type": "execute_result"
    }
   ],
   "source": [
    "gdf_agg.head()"
   ]
  },
  {
   "cell_type": "code",
   "execution_count": 20,
   "id": "a1cc08cc-1479-467b-b440-08cadf4faf7d",
   "metadata": {},
   "outputs": [
    {
     "data": {
      "text/plain": [
       "count    2510.000000\n",
       "mean        2.443028\n",
       "std         2.353508\n",
       "min         1.000000\n",
       "25%         1.000000\n",
       "50%         1.000000\n",
       "75%         3.000000\n",
       "max        15.000000\n",
       "Name: snd_group_count, dtype: float64"
      ]
     },
     "execution_count": 20,
     "metadata": {},
     "output_type": "execute_result"
    }
   ],
   "source": [
    "gdf_agg['snd_group_count'].describe()"
   ]
  },
  {
   "cell_type": "code",
   "execution_count": 21,
   "id": "38f9b71e-ecff-4ac6-8c54-13d9f615bfb9",
   "metadata": {},
   "outputs": [
    {
     "data": {
      "text/html": [
       "<div>\n",
       "<style scoped>\n",
       "    .dataframe tbody tr th:only-of-type {\n",
       "        vertical-align: middle;\n",
       "    }\n",
       "\n",
       "    .dataframe tbody tr th {\n",
       "        vertical-align: top;\n",
       "    }\n",
       "\n",
       "    .dataframe thead th {\n",
       "        text-align: right;\n",
       "    }\n",
       "</style>\n",
       "<table border=\"1\" class=\"dataframe\">\n",
       "  <thead>\n",
       "    <tr style=\"text-align: right;\">\n",
       "      <th></th>\n",
       "      <th>ord_stname</th>\n",
       "      <th>snd_group_count</th>\n",
       "    </tr>\n",
       "  </thead>\n",
       "  <tbody>\n",
       "    <tr>\n",
       "      <th>92</th>\n",
       "      <td>1ST AVE NW</td>\n",
       "      <td>15</td>\n",
       "    </tr>\n",
       "    <tr>\n",
       "      <th>203</th>\n",
       "      <td>30TH AVE S</td>\n",
       "      <td>15</td>\n",
       "    </tr>\n",
       "    <tr>\n",
       "      <th>253</th>\n",
       "      <td>35TH AVE S</td>\n",
       "      <td>15</td>\n",
       "    </tr>\n",
       "    <tr>\n",
       "      <th>2408</th>\n",
       "      <td>W RAYE ST</td>\n",
       "      <td>15</td>\n",
       "    </tr>\n",
       "  </tbody>\n",
       "</table>\n",
       "</div>"
      ],
      "text/plain": [
       "      ord_stname  snd_group_count\n",
       "92    1ST AVE NW               15\n",
       "203   30TH AVE S               15\n",
       "253   35TH AVE S               15\n",
       "2408   W RAYE ST               15"
      ]
     },
     "execution_count": 21,
     "metadata": {},
     "output_type": "execute_result"
    }
   ],
   "source": [
    "# what are the streets with the most breaks?\n",
    "gdf_agg.loc[gdf_agg['snd_group_count'] == gdf_agg['snd_group_count'].max(), :]"
   ]
  },
  {
   "cell_type": "code",
   "execution_count": null,
   "id": "84b0c204-927d-43bb-ada3-16df4cb379b2",
   "metadata": {},
   "outputs": [],
   "source": []
  },
  {
   "cell_type": "code",
   "execution_count": 22,
   "id": "a2b8ea0a-18cd-456b-b50b-354026c19f53",
   "metadata": {},
   "outputs": [
    {
     "data": {
      "text/plain": [
       "(1131, 2)"
      ]
     },
     "execution_count": 22,
     "metadata": {},
     "output_type": "execute_result"
    }
   ],
   "source": [
    "# number of streets with at least two segments\n",
    "gdf_agg.loc[gdf_agg['snd_group_count'] > 1, :].shape"
   ]
  },
  {
   "cell_type": "code",
   "execution_count": 23,
   "id": "8a896485-8dc8-462f-b8bf-073659c28937",
   "metadata": {},
   "outputs": [
    {
     "data": {
      "text/plain": [
       "0.450597609561753"
      ]
     },
     "execution_count": 23,
     "metadata": {},
     "output_type": "execute_result"
    }
   ],
   "source": [
    "1131 / gdf_agg.shape[0]"
   ]
  },
  {
   "cell_type": "code",
   "execution_count": 24,
   "id": "0e968649-6cfa-443e-9fb8-307e793c5db9",
   "metadata": {},
   "outputs": [
    {
     "data": {
      "text/plain": [
       "(1379, 2)"
      ]
     },
     "execution_count": 24,
     "metadata": {},
     "output_type": "execute_result"
    }
   ],
   "source": [
    "gdf_agg.loc[gdf_agg['snd_group_count'] == 1, :].shape"
   ]
  },
  {
   "cell_type": "code",
   "execution_count": 25,
   "id": "de5778a7-3b51-44e6-b3df-9126b493286c",
   "metadata": {},
   "outputs": [
    {
     "data": {
      "text/plain": [
       "0.549402390438247"
      ]
     },
     "execution_count": 25,
     "metadata": {},
     "output_type": "execute_result"
    }
   ],
   "source": [
    "1379 / gdf_agg.shape[0]"
   ]
  },
  {
   "cell_type": "code",
   "execution_count": 26,
   "id": "76246864-2c4c-4448-b94b-3ef6c1abbf3d",
   "metadata": {},
   "outputs": [],
   "source": [
    "# 55 percent of streets are single segment\n",
    "# 45 percent of streets are multi-segments.\n",
    "# TODO: figure out how much of this is road miles."
   ]
  },
  {
   "cell_type": "code",
   "execution_count": 27,
   "id": "52326bde-781b-4e5c-b9ab-79cd7943cdcc",
   "metadata": {},
   "outputs": [
    {
     "data": {
      "text/html": [
       "<div>\n",
       "<style scoped>\n",
       "    .dataframe tbody tr th:only-of-type {\n",
       "        vertical-align: middle;\n",
       "    }\n",
       "\n",
       "    .dataframe tbody tr th {\n",
       "        vertical-align: top;\n",
       "    }\n",
       "\n",
       "    .dataframe thead th {\n",
       "        text-align: right;\n",
       "    }\n",
       "</style>\n",
       "<table border=\"1\" class=\"dataframe\">\n",
       "  <thead>\n",
       "    <tr style=\"text-align: right;\">\n",
       "      <th></th>\n",
       "      <th>f_intr_id</th>\n",
       "      <th>t_intr_id</th>\n",
       "      <th>snd_id</th>\n",
       "      <th>snd_feacod</th>\n",
       "      <th>citycode</th>\n",
       "      <th>stname_id</th>\n",
       "      <th>st_code</th>\n",
       "      <th>arterial_c</th>\n",
       "      <th>segment_ty</th>\n",
       "      <th>agency_cod</th>\n",
       "      <th>...</th>\n",
       "      <th>sndseg_upd</th>\n",
       "      <th>compkey</th>\n",
       "      <th>comptype</th>\n",
       "      <th>unitid</th>\n",
       "      <th>unitid2</th>\n",
       "      <th>city_portion</th>\n",
       "      <th>ord_st_type</th>\n",
       "      <th>ord_street_st_type</th>\n",
       "      <th>snd_group</th>\n",
       "      <th>geometry</th>\n",
       "    </tr>\n",
       "  </thead>\n",
       "  <tbody>\n",
       "    <tr>\n",
       "      <th>0</th>\n",
       "      <td>13827</td>\n",
       "      <td>13823</td>\n",
       "      <td>26941</td>\n",
       "      <td>1</td>\n",
       "      <td>1</td>\n",
       "      <td>2734</td>\n",
       "      <td>0</td>\n",
       "      <td>0</td>\n",
       "      <td>1</td>\n",
       "      <td>1</td>\n",
       "      <td>...</td>\n",
       "      <td>2005-05-04</td>\n",
       "      <td>22863</td>\n",
       "      <td>68</td>\n",
       "      <td>18205</td>\n",
       "      <td>0590</td>\n",
       "      <td>SW</td>\n",
       "      <td>ST</td>\n",
       "      <td>STEVENS ST</td>\n",
       "      <td>0</td>\n",
       "      <td>LINESTRING (-122.40808 47.57771, -122.40824 47...</td>\n",
       "    </tr>\n",
       "    <tr>\n",
       "      <th>1</th>\n",
       "      <td>8721</td>\n",
       "      <td>8722</td>\n",
       "      <td>11377</td>\n",
       "      <td>1</td>\n",
       "      <td>1</td>\n",
       "      <td>1605</td>\n",
       "      <td>0</td>\n",
       "      <td>0</td>\n",
       "      <td>1</td>\n",
       "      <td>1</td>\n",
       "      <td>...</td>\n",
       "      <td>2005-05-04</td>\n",
       "      <td>15349</td>\n",
       "      <td>68</td>\n",
       "      <td>12005</td>\n",
       "      <td>0240</td>\n",
       "      <td>N</td>\n",
       "      <td>ST</td>\n",
       "      <td>37TH ST</td>\n",
       "      <td>7</td>\n",
       "      <td>LINESTRING (-122.33029 47.65195, -122.32977 47...</td>\n",
       "    </tr>\n",
       "    <tr>\n",
       "      <th>2</th>\n",
       "      <td>3606</td>\n",
       "      <td>3608</td>\n",
       "      <td>6656</td>\n",
       "      <td>5</td>\n",
       "      <td>1</td>\n",
       "      <td>1702</td>\n",
       "      <td>0</td>\n",
       "      <td>1</td>\n",
       "      <td>1</td>\n",
       "      <td>1</td>\n",
       "      <td>...</td>\n",
       "      <td>2005-05-04</td>\n",
       "      <td>16291</td>\n",
       "      <td>68</td>\n",
       "      <td>12865</td>\n",
       "      <td>0380</td>\n",
       "      <td>NE</td>\n",
       "      <td>ST</td>\n",
       "      <td>110TH ST</td>\n",
       "      <td>8</td>\n",
       "      <td>LINESTRING (-122.28808 47.70834, -122.28674 47...</td>\n",
       "    </tr>\n",
       "    <tr>\n",
       "      <th>3</th>\n",
       "      <td>3784</td>\n",
       "      <td>3767</td>\n",
       "      <td>6770</td>\n",
       "      <td>1</td>\n",
       "      <td>1</td>\n",
       "      <td>1697</td>\n",
       "      <td>0</td>\n",
       "      <td>0</td>\n",
       "      <td>1</td>\n",
       "      <td>1</td>\n",
       "      <td>...</td>\n",
       "      <td>2005-05-04</td>\n",
       "      <td>16261</td>\n",
       "      <td>68</td>\n",
       "      <td>12840</td>\n",
       "      <td>0480</td>\n",
       "      <td>NE</td>\n",
       "      <td>ST</td>\n",
       "      <td>106TH ST</td>\n",
       "      <td>9</td>\n",
       "      <td>LINESTRING (-122.27712 47.70534, -122.27604 47...</td>\n",
       "    </tr>\n",
       "    <tr>\n",
       "      <th>4</th>\n",
       "      <td>14373</td>\n",
       "      <td>14456</td>\n",
       "      <td>27361</td>\n",
       "      <td>1</td>\n",
       "      <td>1</td>\n",
       "      <td>459</td>\n",
       "      <td>0</td>\n",
       "      <td>0</td>\n",
       "      <td>1</td>\n",
       "      <td>1</td>\n",
       "      <td>...</td>\n",
       "      <td>2007-04-22</td>\n",
       "      <td>7763</td>\n",
       "      <td>68</td>\n",
       "      <td>04260</td>\n",
       "      <td>0370</td>\n",
       "      <td>SW</td>\n",
       "      <td>AVE</td>\n",
       "      <td>56TH AVE</td>\n",
       "      <td>16</td>\n",
       "      <td>LINESTRING (-122.40387 47.57132, -122.40387 47...</td>\n",
       "    </tr>\n",
       "  </tbody>\n",
       "</table>\n",
       "<p>5 rows × 41 columns</p>\n",
       "</div>"
      ],
      "text/plain": [
       "   f_intr_id  t_intr_id  snd_id  snd_feacod  citycode  stname_id  st_code  \\\n",
       "0      13827      13823   26941           1         1       2734        0   \n",
       "1       8721       8722   11377           1         1       1605        0   \n",
       "2       3606       3608    6656           5         1       1702        0   \n",
       "3       3784       3767    6770           1         1       1697        0   \n",
       "4      14373      14456   27361           1         1        459        0   \n",
       "\n",
       "   arterial_c  segment_ty  agency_cod  ...  sndseg_upd  compkey  comptype  \\\n",
       "0           0           1           1  ...  2005-05-04    22863        68   \n",
       "1           0           1           1  ...  2005-05-04    15349        68   \n",
       "2           1           1           1  ...  2005-05-04    16291        68   \n",
       "3           0           1           1  ...  2005-05-04    16261        68   \n",
       "4           0           1           1  ...  2007-04-22     7763        68   \n",
       "\n",
       "   unitid  unitid2  city_portion  ord_st_type  ord_street_st_type  snd_group  \\\n",
       "0   18205     0590            SW           ST          STEVENS ST          0   \n",
       "1   12005     0240             N           ST             37TH ST          7   \n",
       "2   12865     0380            NE           ST            110TH ST          8   \n",
       "3   12840     0480            NE           ST            106TH ST          9   \n",
       "4   04260     0370            SW          AVE            56TH AVE         16   \n",
       "\n",
       "                                            geometry  \n",
       "0  LINESTRING (-122.40808 47.57771, -122.40824 47...  \n",
       "1  LINESTRING (-122.33029 47.65195, -122.32977 47...  \n",
       "2  LINESTRING (-122.28808 47.70834, -122.28674 47...  \n",
       "3  LINESTRING (-122.27712 47.70534, -122.27604 47...  \n",
       "4  LINESTRING (-122.40387 47.57132, -122.40387 47...  \n",
       "\n",
       "[5 rows x 41 columns]"
      ]
     },
     "execution_count": 27,
     "metadata": {},
     "output_type": "execute_result"
    }
   ],
   "source": [
    "gdf.head()"
   ]
  },
  {
   "cell_type": "code",
   "execution_count": 28,
   "id": "8f38f795-d11e-43e6-9b8c-642446b628c0",
   "metadata": {},
   "outputs": [],
   "source": [
    "# get start and end points of each line\n",
    "#gdf['s_coord'] = gdf['geometry'].map(lambda x: x.coords[0])\n",
    "#gdf['e_coord'] = gdf['geometry'].map(lambda x: x.coords[-1])"
   ]
  },
  {
   "cell_type": "code",
   "execution_count": 29,
   "id": "ca88576a-02a0-4ac5-8680-51974ae46bb7",
   "metadata": {},
   "outputs": [
    {
     "data": {
      "text/html": [
       "<div>\n",
       "<style scoped>\n",
       "    .dataframe tbody tr th:only-of-type {\n",
       "        vertical-align: middle;\n",
       "    }\n",
       "\n",
       "    .dataframe tbody tr th {\n",
       "        vertical-align: top;\n",
       "    }\n",
       "\n",
       "    .dataframe thead th {\n",
       "        text-align: right;\n",
       "    }\n",
       "</style>\n",
       "<table border=\"1\" class=\"dataframe\">\n",
       "  <thead>\n",
       "    <tr style=\"text-align: right;\">\n",
       "      <th></th>\n",
       "      <th>f_intr_id</th>\n",
       "      <th>t_intr_id</th>\n",
       "      <th>snd_id</th>\n",
       "      <th>snd_feacod</th>\n",
       "      <th>citycode</th>\n",
       "      <th>stname_id</th>\n",
       "      <th>st_code</th>\n",
       "      <th>arterial_c</th>\n",
       "      <th>segment_ty</th>\n",
       "      <th>agency_cod</th>\n",
       "      <th>...</th>\n",
       "      <th>sndseg_upd</th>\n",
       "      <th>compkey</th>\n",
       "      <th>comptype</th>\n",
       "      <th>unitid</th>\n",
       "      <th>unitid2</th>\n",
       "      <th>city_portion</th>\n",
       "      <th>ord_st_type</th>\n",
       "      <th>ord_street_st_type</th>\n",
       "      <th>snd_group</th>\n",
       "      <th>geometry</th>\n",
       "    </tr>\n",
       "  </thead>\n",
       "  <tbody>\n",
       "    <tr>\n",
       "      <th>0</th>\n",
       "      <td>13827</td>\n",
       "      <td>13823</td>\n",
       "      <td>26941</td>\n",
       "      <td>1</td>\n",
       "      <td>1</td>\n",
       "      <td>2734</td>\n",
       "      <td>0</td>\n",
       "      <td>0</td>\n",
       "      <td>1</td>\n",
       "      <td>1</td>\n",
       "      <td>...</td>\n",
       "      <td>2005-05-04</td>\n",
       "      <td>22863</td>\n",
       "      <td>68</td>\n",
       "      <td>18205</td>\n",
       "      <td>0590</td>\n",
       "      <td>SW</td>\n",
       "      <td>ST</td>\n",
       "      <td>STEVENS ST</td>\n",
       "      <td>0</td>\n",
       "      <td>LINESTRING (-122.40808 47.57771, -122.40824 47...</td>\n",
       "    </tr>\n",
       "    <tr>\n",
       "      <th>1</th>\n",
       "      <td>8721</td>\n",
       "      <td>8722</td>\n",
       "      <td>11377</td>\n",
       "      <td>1</td>\n",
       "      <td>1</td>\n",
       "      <td>1605</td>\n",
       "      <td>0</td>\n",
       "      <td>0</td>\n",
       "      <td>1</td>\n",
       "      <td>1</td>\n",
       "      <td>...</td>\n",
       "      <td>2005-05-04</td>\n",
       "      <td>15349</td>\n",
       "      <td>68</td>\n",
       "      <td>12005</td>\n",
       "      <td>0240</td>\n",
       "      <td>N</td>\n",
       "      <td>ST</td>\n",
       "      <td>37TH ST</td>\n",
       "      <td>7</td>\n",
       "      <td>LINESTRING (-122.33029 47.65195, -122.32977 47...</td>\n",
       "    </tr>\n",
       "    <tr>\n",
       "      <th>2</th>\n",
       "      <td>3606</td>\n",
       "      <td>3608</td>\n",
       "      <td>6656</td>\n",
       "      <td>5</td>\n",
       "      <td>1</td>\n",
       "      <td>1702</td>\n",
       "      <td>0</td>\n",
       "      <td>1</td>\n",
       "      <td>1</td>\n",
       "      <td>1</td>\n",
       "      <td>...</td>\n",
       "      <td>2005-05-04</td>\n",
       "      <td>16291</td>\n",
       "      <td>68</td>\n",
       "      <td>12865</td>\n",
       "      <td>0380</td>\n",
       "      <td>NE</td>\n",
       "      <td>ST</td>\n",
       "      <td>110TH ST</td>\n",
       "      <td>8</td>\n",
       "      <td>LINESTRING (-122.28808 47.70834, -122.28674 47...</td>\n",
       "    </tr>\n",
       "    <tr>\n",
       "      <th>3</th>\n",
       "      <td>3784</td>\n",
       "      <td>3767</td>\n",
       "      <td>6770</td>\n",
       "      <td>1</td>\n",
       "      <td>1</td>\n",
       "      <td>1697</td>\n",
       "      <td>0</td>\n",
       "      <td>0</td>\n",
       "      <td>1</td>\n",
       "      <td>1</td>\n",
       "      <td>...</td>\n",
       "      <td>2005-05-04</td>\n",
       "      <td>16261</td>\n",
       "      <td>68</td>\n",
       "      <td>12840</td>\n",
       "      <td>0480</td>\n",
       "      <td>NE</td>\n",
       "      <td>ST</td>\n",
       "      <td>106TH ST</td>\n",
       "      <td>9</td>\n",
       "      <td>LINESTRING (-122.27712 47.70534, -122.27604 47...</td>\n",
       "    </tr>\n",
       "    <tr>\n",
       "      <th>4</th>\n",
       "      <td>14373</td>\n",
       "      <td>14456</td>\n",
       "      <td>27361</td>\n",
       "      <td>1</td>\n",
       "      <td>1</td>\n",
       "      <td>459</td>\n",
       "      <td>0</td>\n",
       "      <td>0</td>\n",
       "      <td>1</td>\n",
       "      <td>1</td>\n",
       "      <td>...</td>\n",
       "      <td>2007-04-22</td>\n",
       "      <td>7763</td>\n",
       "      <td>68</td>\n",
       "      <td>04260</td>\n",
       "      <td>0370</td>\n",
       "      <td>SW</td>\n",
       "      <td>AVE</td>\n",
       "      <td>56TH AVE</td>\n",
       "      <td>16</td>\n",
       "      <td>LINESTRING (-122.40387 47.57132, -122.40387 47...</td>\n",
       "    </tr>\n",
       "  </tbody>\n",
       "</table>\n",
       "<p>5 rows × 41 columns</p>\n",
       "</div>"
      ],
      "text/plain": [
       "   f_intr_id  t_intr_id  snd_id  snd_feacod  citycode  stname_id  st_code  \\\n",
       "0      13827      13823   26941           1         1       2734        0   \n",
       "1       8721       8722   11377           1         1       1605        0   \n",
       "2       3606       3608    6656           5         1       1702        0   \n",
       "3       3784       3767    6770           1         1       1697        0   \n",
       "4      14373      14456   27361           1         1        459        0   \n",
       "\n",
       "   arterial_c  segment_ty  agency_cod  ...  sndseg_upd  compkey  comptype  \\\n",
       "0           0           1           1  ...  2005-05-04    22863        68   \n",
       "1           0           1           1  ...  2005-05-04    15349        68   \n",
       "2           1           1           1  ...  2005-05-04    16291        68   \n",
       "3           0           1           1  ...  2005-05-04    16261        68   \n",
       "4           0           1           1  ...  2007-04-22     7763        68   \n",
       "\n",
       "   unitid  unitid2  city_portion  ord_st_type  ord_street_st_type  snd_group  \\\n",
       "0   18205     0590            SW           ST          STEVENS ST          0   \n",
       "1   12005     0240             N           ST             37TH ST          7   \n",
       "2   12865     0380            NE           ST            110TH ST          8   \n",
       "3   12840     0480            NE           ST            106TH ST          9   \n",
       "4   04260     0370            SW          AVE            56TH AVE         16   \n",
       "\n",
       "                                            geometry  \n",
       "0  LINESTRING (-122.40808 47.57771, -122.40824 47...  \n",
       "1  LINESTRING (-122.33029 47.65195, -122.32977 47...  \n",
       "2  LINESTRING (-122.28808 47.70834, -122.28674 47...  \n",
       "3  LINESTRING (-122.27712 47.70534, -122.27604 47...  \n",
       "4  LINESTRING (-122.40387 47.57132, -122.40387 47...  \n",
       "\n",
       "[5 rows x 41 columns]"
      ]
     },
     "execution_count": 29,
     "metadata": {},
     "output_type": "execute_result"
    }
   ],
   "source": [
    "gdf.head()"
   ]
  },
  {
   "cell_type": "markdown",
   "id": "e3cc818f-24c9-4a7d-8f33-e516cde7dd55",
   "metadata": {},
   "source": [
    "# BUILD THE ANTI-GRAPH OF DISCONNECTED SEGMENTS"
   ]
  },
  {
   "cell_type": "code",
   "execution_count": 30,
   "id": "9f37ea96-41b5-43f9-b203-91d8ff9ab260",
   "metadata": {},
   "outputs": [],
   "source": [
    "s_names = gdf_agg.loc[gdf_agg['snd_group_count'] > 1, 'ord_stname'].unique().tolist()"
   ]
  },
  {
   "cell_type": "code",
   "execution_count": 37,
   "id": "0607603f-ef85-4fb3-a7c3-6c00235a2e26",
   "metadata": {},
   "outputs": [],
   "source": [
    "s_names = ['W GALER ST']"
   ]
  },
  {
   "cell_type": "code",
   "execution_count": 43,
   "id": "99941e69-1429-4c99-9ba6-c8f21c41ee58",
   "metadata": {
    "scrolled": true
   },
   "outputs": [
    {
     "name": "stdout",
     "output_type": "stream",
     "text": [
      "W GALER ST\n",
      "[162 163 164 165 166]\n"
     ]
    }
   ],
   "source": [
    "output_gdf_list = []\n",
    "# extra explode gdf\n",
    "ex_gdf_list = []\n",
    "ex_ex_gdf_list = []\n",
    "for sn in s_names[:None]:\n",
    "    # get a street by name\n",
    "    print(sn)\n",
    "    # subset the gdf\n",
    "    temp_gdf = gdf.loc[gdf['ord_stname'] == sn, :].copy()    \n",
    "    \n",
    "    \n",
    "    # build a graph to find (dis)connected components: this is an easy way to find portions of a street that are not connected to each other\n",
    "    # do I need this graph?\n",
    "    \n",
    "    # we can do products of products to find which streets should be compared.\n",
    "    # the first product to compare is the street group ids\n",
    "\n",
    "    snd_group_id_list = temp_gdf['snd_group'].unique()\n",
    "    print(snd_group_id_list)\n",
    "\n",
    "    output_file_name = '_'.join(sn.split()) + '.gpkg'\n",
    "    ofpn = os.path.join(output_file_path, output_file_name)\n",
    "    temp_gdf.to_file(filename = ofpn, driver = 'GPKG', index = False)\n",
    "\n",
    "    # hmmm, let's compute the combinations\n",
    "    # figure out which nodes in a graph only have one successor\n",
    "    g = nx.from_pandas_edgelist(df = temp_gdf, source = 'f_intr_id', target = 't_intr_id', edge_attr=True)\n",
    "    n_edge_list = []\n",
    "    for nn in g.nodes():\n",
    "        edge_count = len(g[nn])        \n",
    "        temp_list = [nn, edge_count]\n",
    "        n_edge_list.append(temp_list)\n",
    "\n",
    "    n_edge_count_df = pd.DataFrame(data = n_edge_list, columns = ['node_id', 'n_edges'])\n",
    "    n_edge_count_df = n_edge_count_df.loc[n_edge_count_df['n_edges'] == 1, :]\n",
    "    # but now, we need to know which node is on which snd_group\n",
    "    # so, what's the easiest way to do that?\n",
    "    # let's trim the temp_gdf\n",
    "    sn_snd_group_id_df = temp_gdf.loc[temp_gdf['f_intr_id'].isin(n_edge_count_df['node_id']), ['f_intr_id', 'snd_group']]\n",
    "    sn_snd_group_id_df.columns = ['node_id', 'snd_group']\n",
    "    en_snd_group_id_df = temp_gdf.loc[temp_gdf['t_intr_id'].isin(n_edge_count_df['node_id']), ['t_intr_id', 'snd_group']]\n",
    "    en_snd_group_id_df.columns = ['node_id', 'snd_group']\n",
    "\n",
    "    node_snd_group_id_df = pd.concat(objs = [sn_snd_group_id_df, en_snd_group_id_df])\n",
    "\n",
    "    # this df is also a graph, it's the start and end points of each node.\n",
    "    # can we do something to make this a litle more easy to query?\n",
    "    \n",
    "    \n",
    "    #print(n_edge_count_df.shape)\n",
    "    #print(n_edge_count_df.head())\n",
    "    \n",
    "    # these are the nodes that are either the start of the line or the end of the line\n",
    "    # now, we compute some distances\n",
    "    se_nodes = n_edge_count_df['node_id'].tolist()\n",
    "    node_dist_list = []\n",
    "    for sn_id, en_id in combinations(se_nodes, 2):                        \n",
    "        node_dist = points2distance(node_dict[sn_id], node_dict[en_id], unit = 'miles')\n",
    "        node_dist_list.append([sn_id, en_id, node_dist])\n",
    "\n",
    "    node_dist_df = pd.DataFrame(data = node_dist_list, \n",
    "                                columns = ['sn_id', 'en_id', 'dist_miles'])\n",
    "    \n",
    "    # so, this edge list is the anti-graph. \n",
    "    sn_id_agg_df = node_dist_df[['sn_id', 'dist_miles']].groupby(['sn_id']).agg(tot_dist = ('dist_miles', 'sum')).reset_index()\n",
    "    en_id_agg_df = node_dist_df[['en_id', 'dist_miles']].groupby(['en_id']).agg(tot_dist = ('dist_miles', 'sum')).reset_index()\n",
    "    # it contains the missing links and then some. What I need to do is find the shortest path that connects everything.\n",
    "    # let's first start with the node that is the farthest away from everything.\n",
    "\n",
    "    max_dist_list = [sn_id_agg_df['tot_dist'].max(), en_id_agg_df['tot_dist'].max()]\n",
    "    max_dist_id = np.argmax(max_dist_list)\n",
    "    max_dist = np.max(max_dist_list)\n",
    "    if max_dist_id == 0:\n",
    "        fp_df = sn_id_agg_df.loc[sn_id_agg_df['tot_dist'] == max_dist, :]\n",
    "        fp = fp_df['sn_id'].iloc[0]    \n",
    "    else:\n",
    "        fp_df = en_id_agg_df.loc[en_id_agg_df['tot_dist'] == max_dist, :]\n",
    "        fp = fp_df['en_id'].iloc[0]\n",
    "    \n",
    "        \n",
    "    # but what segment is that on?\n",
    "    # we know it's in group... \n",
    "\n",
    "\n",
    "\n",
    "    # okay, so, we need to start traversal.\n",
    "    # we only need to traverse nodes in the current segment\n",
    "    #curr_gdf = temp_gdf.loc[temp_gdf['snd_group'] == fp_snd_group, :].copy()\n",
    "    \n",
    "\n",
    "    # the farthest point is on which segment?\n",
    "    #dfs_dict = nx.dfs_successors(G = g, source=farthest_point)\n",
    "    #for nid in dfs_dict:\n",
    "    #print(len(testo.keys()))\n",
    "    #print(testo)\n",
    "        \n",
    "        \n",
    "    \n",
    "        \n",
    "        \n",
    "    \n",
    "                         \n",
    "    \n",
    "        \n",
    "        \n",
    "\n",
    "\n",
    "        \n",
    "        \n",
    "\n",
    "    \n",
    "    # i first need to identify the starting and ending nodes of each line so that \n",
    "    # I can find the farthest left and right\n",
    "    # just do the all pairs?\n",
    "    \n",
    "    \n",
    "    # output_dist_df_list = []\n",
    "    # for cc in combinations(snd_group_id_list, 2):\n",
    "    #     print(cc)\n",
    "    #     # start nodes!\n",
    "    #     s_nodes = temp_gdf.loc[temp_gdf['snd_group'] == cc[0], ['snd_group' 'f_intr_id', 'snd_id']]\n",
    "    #     # end nodes!\n",
    "    #     e_nodes = temp_gdf.loc[temp_gdf['snd_group'] == cc[1], ['snd_group' 't_intr_id', 'snd_id']]\n",
    "\n",
    "    #     # compute distance\n",
    "    #     for s_row in \n",
    "\n",
    "    \n",
    "    \n",
    "    "
   ]
  },
  {
   "cell_type": "code",
   "execution_count": 45,
   "id": "21395f7c-e5cc-40a4-8107-819776eca158",
   "metadata": {},
   "outputs": [
    {
     "data": {
      "text/plain": [
       "(10, 2)"
      ]
     },
     "execution_count": 45,
     "metadata": {},
     "output_type": "execute_result"
    }
   ],
   "source": [
    "node_snd_group_id_df.shape"
   ]
  },
  {
   "cell_type": "code",
   "execution_count": 48,
   "id": "b2a219f4-c32f-44be-baec-3559ea1c3300",
   "metadata": {},
   "outputs": [],
   "source": [
    "node_snd_group_id_df = node_snd_group_id_df.sort_values(by = ['snd_group', 'node_id'])"
   ]
  },
  {
   "cell_type": "code",
   "execution_count": 49,
   "id": "a9c1c32f-8810-4235-8a9d-e9955d00f7d9",
   "metadata": {},
   "outputs": [
    {
     "data": {
      "text/html": [
       "<div>\n",
       "<style scoped>\n",
       "    .dataframe tbody tr th:only-of-type {\n",
       "        vertical-align: middle;\n",
       "    }\n",
       "\n",
       "    .dataframe tbody tr th {\n",
       "        vertical-align: top;\n",
       "    }\n",
       "\n",
       "    .dataframe thead th {\n",
       "        text-align: right;\n",
       "    }\n",
       "</style>\n",
       "<table border=\"1\" class=\"dataframe\">\n",
       "  <thead>\n",
       "    <tr style=\"text-align: right;\">\n",
       "      <th></th>\n",
       "      <th>node_id</th>\n",
       "      <th>snd_group</th>\n",
       "    </tr>\n",
       "  </thead>\n",
       "  <tbody>\n",
       "    <tr>\n",
       "      <th>22453</th>\n",
       "      <td>10290</td>\n",
       "      <td>162</td>\n",
       "    </tr>\n",
       "    <tr>\n",
       "      <th>26341</th>\n",
       "      <td>10324</td>\n",
       "      <td>162</td>\n",
       "    </tr>\n",
       "    <tr>\n",
       "      <th>14288</th>\n",
       "      <td>10284</td>\n",
       "      <td>163</td>\n",
       "    </tr>\n",
       "    <tr>\n",
       "      <th>25652</th>\n",
       "      <td>10351</td>\n",
       "      <td>163</td>\n",
       "    </tr>\n",
       "    <tr>\n",
       "      <th>15064</th>\n",
       "      <td>10276</td>\n",
       "      <td>164</td>\n",
       "    </tr>\n",
       "    <tr>\n",
       "      <th>23542</th>\n",
       "      <td>10277</td>\n",
       "      <td>164</td>\n",
       "    </tr>\n",
       "    <tr>\n",
       "      <th>20106</th>\n",
       "      <td>10239</td>\n",
       "      <td>165</td>\n",
       "    </tr>\n",
       "    <tr>\n",
       "      <th>20106</th>\n",
       "      <td>10270</td>\n",
       "      <td>165</td>\n",
       "    </tr>\n",
       "    <tr>\n",
       "      <th>20519</th>\n",
       "      <td>10361</td>\n",
       "      <td>166</td>\n",
       "    </tr>\n",
       "    <tr>\n",
       "      <th>24895</th>\n",
       "      <td>10366</td>\n",
       "      <td>166</td>\n",
       "    </tr>\n",
       "  </tbody>\n",
       "</table>\n",
       "</div>"
      ],
      "text/plain": [
       "       node_id  snd_group\n",
       "22453    10290        162\n",
       "26341    10324        162\n",
       "14288    10284        163\n",
       "25652    10351        163\n",
       "15064    10276        164\n",
       "23542    10277        164\n",
       "20106    10239        165\n",
       "20106    10270        165\n",
       "20519    10361        166\n",
       "24895    10366        166"
      ]
     },
     "execution_count": 49,
     "metadata": {},
     "output_type": "execute_result"
    }
   ],
   "source": [
    "node_snd_group_id_df.head(n=20)"
   ]
  },
  {
   "cell_type": "code",
   "execution_count": null,
   "id": "320ee3b5-af33-47c7-9af6-df56ce099c5a",
   "metadata": {},
   "outputs": [],
   "source": []
  },
  {
   "cell_type": "code",
   "execution_count": null,
   "id": "a328a797-85d6-4368-a269-b18aecdb4189",
   "metadata": {},
   "outputs": [],
   "source": []
  },
  {
   "cell_type": "code",
   "execution_count": null,
   "id": "8584da35-cb02-45f0-a54e-45bc7bc8531c",
   "metadata": {},
   "outputs": [],
   "source": []
  },
  {
   "cell_type": "code",
   "execution_count": null,
   "id": "8d1214e5-bdd2-4086-a1ff-bcfb430c73ae",
   "metadata": {},
   "outputs": [],
   "source": []
  },
  {
   "cell_type": "code",
   "execution_count": null,
   "id": "6d7356c1-eb6c-45a4-8e0a-e21e8850a464",
   "metadata": {},
   "outputs": [],
   "source": []
  },
  {
   "cell_type": "code",
   "execution_count": null,
   "id": "20cac754-38d4-4d31-8205-28a46ca94b19",
   "metadata": {},
   "outputs": [],
   "source": [
    "np.argmax(a=[1,2])"
   ]
  },
  {
   "cell_type": "code",
   "execution_count": null,
   "id": "e0dd4fec-e9ae-44f9-bb32-1b34bfa7e012",
   "metadata": {},
   "outputs": [],
   "source": []
  },
  {
   "cell_type": "code",
   "execution_count": null,
   "id": "3c9a036b-c925-46da-b881-0fb14ba5378d",
   "metadata": {},
   "outputs": [],
   "source": []
  },
  {
   "cell_type": "code",
   "execution_count": null,
   "id": "8b2a1e2c-76e6-4eba-9092-964f1e1ea600",
   "metadata": {},
   "outputs": [],
   "source": []
  },
  {
   "cell_type": "code",
   "execution_count": null,
   "id": "fbf21465-2ec4-4685-abbc-96bf983045ce",
   "metadata": {},
   "outputs": [],
   "source": []
  },
  {
   "cell_type": "code",
   "execution_count": null,
   "id": "5e9a41fe-b699-4c55-b143-7870efb87bf8",
   "metadata": {},
   "outputs": [],
   "source": [
    "node_dist_df.head()"
   ]
  },
  {
   "cell_type": "code",
   "execution_count": null,
   "id": "c6495e24-cac6-4764-9e76-51cfbbdcb98d",
   "metadata": {},
   "outputs": [],
   "source": [
    "sn_id_agg_df = node_dist_df[['sn_id', 'dist_miles']].groupby(['sn_id']).agg(tot_dist = ('dist_miles', 'sum'))\n",
    "\n",
    "sn_id_agg_df['tot_dist'].max()\n",
    "\n",
    "en_id_agg_df = node_dist_df[['en_id', 'dist_miles']].groupby(['en_id']).agg(tot_dist = ('dist_miles', 'sum'))\n",
    "\n",
    "en_id_agg_df['tot_dist'].max()"
   ]
  },
  {
   "cell_type": "code",
   "execution_count": null,
   "id": "61c7c6f8-31ba-4e18-9988-e35a8e9a6a0b",
   "metadata": {},
   "outputs": [],
   "source": [
    "# TODO: need a portion to flatten each line string, but keep the known vertices"
   ]
  }
 ],
 "metadata": {
  "kernelspec": {
   "display_name": "Python 3 (ipykernel)",
   "language": "python",
   "name": "python3"
  },
  "language_info": {
   "codemirror_mode": {
    "name": "ipython",
    "version": 3
   },
   "file_extension": ".py",
   "mimetype": "text/x-python",
   "name": "python",
   "nbconvert_exporter": "python",
   "pygments_lexer": "ipython3",
   "version": "3.12.4"
  }
 },
 "nbformat": 4,
 "nbformat_minor": 5
}
