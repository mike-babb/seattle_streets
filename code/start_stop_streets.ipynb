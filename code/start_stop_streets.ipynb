{
 "cells": [
  {
   "cell_type": "code",
   "execution_count": 1,
   "id": "fed9e25b-c5b9-4aee-89cd-15a7da3945c0",
   "metadata": {},
   "outputs": [],
   "source": [
    "# mike babb\n",
    "# 2024 06 28\n",
    "# what streets start and stop?"
   ]
  },
  {
   "cell_type": "code",
   "execution_count": 2,
   "id": "e88ca8b2-b75d-4e72-8fc7-65c4cea61cde",
   "metadata": {},
   "outputs": [],
   "source": [
    "# standard\n",
    "import os"
   ]
  },
  {
   "cell_type": "code",
   "execution_count": 41,
   "id": "0778d9a5-0c62-4724-be28-c21598d23b6f",
   "metadata": {},
   "outputs": [],
   "source": [
    "# external\n",
    "from itertools import combinations, product\n",
    "import geopandas as gpd\n",
    "import networkx as nx\n",
    "import numpy as np\n",
    "import pandas as pd\n",
    "from shapely.geometry import LineString\n",
    "from shapely import line_merge"
   ]
  },
  {
   "cell_type": "code",
   "execution_count": 4,
   "id": "2fc61400-c637-4828-820d-56c2cdd14942",
   "metadata": {},
   "outputs": [],
   "source": [
    "# custom\n",
    "from geodataio.geo_operations import points2distance, calculate_initial_compass_bearing"
   ]
  },
  {
   "cell_type": "markdown",
   "id": "d56ea77e-ffd7-4326-b793-415f8a131ef2",
   "metadata": {},
   "source": [
    "# load the shapefile as a gpd"
   ]
  },
  {
   "cell_type": "code",
   "execution_count": 5,
   "id": "d07cfb9b-9184-48d7-af77-035e2390d9e5",
   "metadata": {},
   "outputs": [],
   "source": [
    "# file path\n",
    "file_path = 'H:/project/seattle_streets/data/' "
   ]
  },
  {
   "cell_type": "code",
   "execution_count": 6,
   "id": "3c1039f5-a281-4460-b65d-98a6ca2556b7",
   "metadata": {},
   "outputs": [],
   "source": [
    "file_name = 'Street_Network_Database.gpkg'"
   ]
  },
  {
   "cell_type": "code",
   "execution_count": 7,
   "id": "ddf62724-9105-44c9-b983-e4f520328fa9",
   "metadata": {},
   "outputs": [],
   "source": [
    "fpn = os.path.join(file_path, file_name)"
   ]
  },
  {
   "cell_type": "code",
   "execution_count": 8,
   "id": "2cbdb5c1-c973-4882-b442-cf5396e90d3e",
   "metadata": {},
   "outputs": [],
   "source": [
    "gdf = gpd.read_file(filename = fpn)"
   ]
  },
  {
   "cell_type": "code",
   "execution_count": 9,
   "id": "ce02bdf0-a0ca-46a5-bf8f-54b576ee2de7",
   "metadata": {},
   "outputs": [
    {
     "data": {
      "text/plain": [
       "Index(['f_intr_id', 't_intr_id', 'snd_id', 'snd_feacod', 'citycode',\n",
       "       'stname_id', 'st_code', 'arterial_c', 'segment_ty', 'agency_cod',\n",
       "       'access_cod', 'divided_co', 'structure_', 'legalloc_c', 'vehicle_us',\n",
       "       'gis_seg_length', 'l_adrs_from', 'l_adrs_to', 'r_adrs_from',\n",
       "       'r_adrs_to', 'ord_pre_dir', 'ord_street', 'ord_street_type',\n",
       "       'ord_suf_dir', 'ord_stname', 'l_city', 'l_state', 'l_zip', 'r_city',\n",
       "       'r_state', 'r_zip', 'sndseg_upd', 'compkey', 'comptype', 'unitid',\n",
       "       'unitid2', 'city_portion', 'geometry'],\n",
       "      dtype='object')"
      ]
     },
     "execution_count": 9,
     "metadata": {},
     "output_type": "execute_result"
    }
   ],
   "source": [
    "gdf.columns"
   ]
  },
  {
   "cell_type": "code",
   "execution_count": 10,
   "id": "67a207fe-eb27-4856-b180-464d22016e06",
   "metadata": {},
   "outputs": [],
   "source": [
    "# import the classified streets"
   ]
  },
  {
   "cell_type": "code",
   "execution_count": 11,
   "id": "d4c673dc-b00e-46c8-af40-ce97a772dbe2",
   "metadata": {},
   "outputs": [],
   "source": [
    "file_name = 'blank_street_type_modified.xlsx'"
   ]
  },
  {
   "cell_type": "code",
   "execution_count": 12,
   "id": "342b546d-6072-45cb-bc8f-8148e857e919",
   "metadata": {},
   "outputs": [],
   "source": [
    "fpn = os.path.join(file_path, file_name)"
   ]
  },
  {
   "cell_type": "code",
   "execution_count": 13,
   "id": "5f0c6695-b1ab-426c-ac2e-2268331131a9",
   "metadata": {},
   "outputs": [],
   "source": [
    "blank_street_type_df = pd.read_excel(io = fpn)"
   ]
  },
  {
   "cell_type": "code",
   "execution_count": 14,
   "id": "5390f24e-0e11-48b2-afc9-8e505a71a78e",
   "metadata": {},
   "outputs": [
    {
     "data": {
      "text/html": [
       "<div>\n",
       "<style scoped>\n",
       "    .dataframe tbody tr th:only-of-type {\n",
       "        vertical-align: middle;\n",
       "    }\n",
       "\n",
       "    .dataframe tbody tr th {\n",
       "        vertical-align: top;\n",
       "    }\n",
       "\n",
       "    .dataframe thead th {\n",
       "        text-align: right;\n",
       "    }\n",
       "</style>\n",
       "<table border=\"1\" class=\"dataframe\">\n",
       "  <thead>\n",
       "    <tr style=\"text-align: right;\">\n",
       "      <th></th>\n",
       "      <th>ord_stname</th>\n",
       "      <th>ord_st_type</th>\n",
       "    </tr>\n",
       "  </thead>\n",
       "  <tbody>\n",
       "    <tr>\n",
       "      <th>0</th>\n",
       "      <td>I5 SB</td>\n",
       "      <td>IS</td>\n",
       "    </tr>\n",
       "    <tr>\n",
       "      <th>1</th>\n",
       "      <td>BROADWAY E</td>\n",
       "      <td>ST</td>\n",
       "    </tr>\n",
       "    <tr>\n",
       "      <th>2</th>\n",
       "      <td>NW ESPLANADE</td>\n",
       "      <td>ST</td>\n",
       "    </tr>\n",
       "    <tr>\n",
       "      <th>3</th>\n",
       "      <td>FAUNTLEE CREST SW</td>\n",
       "      <td>ST</td>\n",
       "    </tr>\n",
       "    <tr>\n",
       "      <th>4</th>\n",
       "      <td>SR518</td>\n",
       "      <td>SR</td>\n",
       "    </tr>\n",
       "  </tbody>\n",
       "</table>\n",
       "</div>"
      ],
      "text/plain": [
       "          ord_stname ord_st_type\n",
       "0              I5 SB          IS\n",
       "1         BROADWAY E          ST\n",
       "2       NW ESPLANADE          ST\n",
       "3  FAUNTLEE CREST SW          ST\n",
       "4              SR518          SR"
      ]
     },
     "execution_count": 14,
     "metadata": {},
     "output_type": "execute_result"
    }
   ],
   "source": [
    "blank_street_type_df.head()"
   ]
  },
  {
   "cell_type": "code",
   "execution_count": 15,
   "id": "77b7c6a5-b465-47bc-b13f-42d9b98031a9",
   "metadata": {},
   "outputs": [
    {
     "data": {
      "text/plain": [
       "array(['ST', 'AVE', 'CT', 'PL', 'DR', 'WAY', 'BLVD', 'LN', 'TRL', 'RD',\n",
       "       'CIR', None, 'PKWY', 'TER', 'AL', 'VI', 'OP', 'RP', 'BR', 'LOOP',\n",
       "       'HWY', 'ET', 'VIEW', 'PZ', 'MALL'], dtype=object)"
      ]
     },
     "execution_count": 15,
     "metadata": {},
     "output_type": "execute_result"
    }
   ],
   "source": [
    "gdf['ord_street_type'].unique()"
   ]
  },
  {
   "cell_type": "code",
   "execution_count": 16,
   "id": "35858c52-641f-46b6-b7bb-c9a31f0d9889",
   "metadata": {},
   "outputs": [],
   "source": [
    "gdf = pd.merge(left = gdf, right = blank_street_type_df, how = 'left')"
   ]
  },
  {
   "cell_type": "code",
   "execution_count": 17,
   "id": "b72310c6-e543-4f5c-8df0-989da7b03d13",
   "metadata": {},
   "outputs": [],
   "source": [
    "gdf.loc[gdf['ord_st_type'].isna(), 'ord_st_type'] = gdf.loc[gdf['ord_st_type'].isna(), 'ord_street_type']"
   ]
  },
  {
   "cell_type": "code",
   "execution_count": 18,
   "id": "10e38a59-82ea-4a71-85df-2f37cb3a26a3",
   "metadata": {},
   "outputs": [
    {
     "data": {
      "text/plain": [
       "Index(['f_intr_id', 't_intr_id', 'snd_id', 'snd_feacod', 'citycode',\n",
       "       'stname_id', 'st_code', 'arterial_c', 'segment_ty', 'agency_cod',\n",
       "       'access_cod', 'divided_co', 'structure_', 'legalloc_c', 'vehicle_us',\n",
       "       'gis_seg_length', 'l_adrs_from', 'l_adrs_to', 'r_adrs_from',\n",
       "       'r_adrs_to', 'ord_pre_dir', 'ord_street', 'ord_street_type',\n",
       "       'ord_suf_dir', 'ord_stname', 'l_city', 'l_state', 'l_zip', 'r_city',\n",
       "       'r_state', 'r_zip', 'sndseg_upd', 'compkey', 'comptype', 'unitid',\n",
       "       'unitid2', 'city_portion', 'geometry', 'ord_st_type'],\n",
       "      dtype='object')"
      ]
     },
     "execution_count": 18,
     "metadata": {},
     "output_type": "execute_result"
    }
   ],
   "source": [
    "gdf.columns"
   ]
  },
  {
   "cell_type": "code",
   "execution_count": 19,
   "id": "8a64b4d4-aae1-4c8d-9009-f10cd3a26872",
   "metadata": {},
   "outputs": [],
   "source": [
    "# PASS 1: FOCUS ON JUST THE STREETS, REGARDLESS OF DIRECTION AND TYPE"
   ]
  },
  {
   "cell_type": "code",
   "execution_count": 20,
   "id": "5882e65a-a031-4010-8a55-e6eceb04e751",
   "metadata": {},
   "outputs": [],
   "source": [
    "gdf['ord_street_st_type'] = gdf['ord_street'] + ' ' + gdf['ord_st_type']"
   ]
  },
  {
   "cell_type": "code",
   "execution_count": 21,
   "id": "731e93a6-5038-4a40-9fd6-4e41eca71235",
   "metadata": {},
   "outputs": [],
   "source": [
    "agg_df = gdf[['ord_street_st_type']].drop_duplicates().copy()"
   ]
  },
  {
   "cell_type": "code",
   "execution_count": 22,
   "id": "7ea3d94a-9215-400e-a130-1910f475c07a",
   "metadata": {},
   "outputs": [
    {
     "data": {
      "text/html": [
       "<div>\n",
       "<style scoped>\n",
       "    .dataframe tbody tr th:only-of-type {\n",
       "        vertical-align: middle;\n",
       "    }\n",
       "\n",
       "    .dataframe tbody tr th {\n",
       "        vertical-align: top;\n",
       "    }\n",
       "\n",
       "    .dataframe thead th {\n",
       "        text-align: right;\n",
       "    }\n",
       "</style>\n",
       "<table border=\"1\" class=\"dataframe\">\n",
       "  <thead>\n",
       "    <tr style=\"text-align: right;\">\n",
       "      <th></th>\n",
       "      <th>ord_street_st_type</th>\n",
       "    </tr>\n",
       "  </thead>\n",
       "  <tbody>\n",
       "    <tr>\n",
       "      <th>0</th>\n",
       "      <td>STEVENS ST</td>\n",
       "    </tr>\n",
       "    <tr>\n",
       "      <th>1</th>\n",
       "      <td>37TH ST</td>\n",
       "    </tr>\n",
       "    <tr>\n",
       "      <th>2</th>\n",
       "      <td>110TH ST</td>\n",
       "    </tr>\n",
       "    <tr>\n",
       "      <th>3</th>\n",
       "      <td>106TH ST</td>\n",
       "    </tr>\n",
       "    <tr>\n",
       "      <th>4</th>\n",
       "      <td>56TH AVE</td>\n",
       "    </tr>\n",
       "  </tbody>\n",
       "</table>\n",
       "</div>"
      ],
      "text/plain": [
       "  ord_street_st_type\n",
       "0         STEVENS ST\n",
       "1            37TH ST\n",
       "2           110TH ST\n",
       "3           106TH ST\n",
       "4           56TH AVE"
      ]
     },
     "execution_count": 22,
     "metadata": {},
     "output_type": "execute_result"
    }
   ],
   "source": [
    "agg_df.head()"
   ]
  },
  {
   "cell_type": "code",
   "execution_count": 23,
   "id": "8bf27b30-6830-4501-ac0b-b93cac085b08",
   "metadata": {},
   "outputs": [],
   "source": [
    "s_names = agg_df['ord_street_st_type'].tolist()"
   ]
  },
  {
   "cell_type": "code",
   "execution_count": 24,
   "id": "644fb66f-320e-4a93-9c74-0896649258d3",
   "metadata": {},
   "outputs": [],
   "source": [
    "s_names = ['GALER ST']"
   ]
  },
  {
   "cell_type": "code",
   "execution_count": 25,
   "id": "1b4fd159-5aa7-49e1-aec5-f8b8172c1ea5",
   "metadata": {},
   "outputs": [
    {
     "name": "stdout",
     "output_type": "stream",
     "text": [
      "GALER ST\n"
     ]
    }
   ],
   "source": [
    "output_list = []\n",
    "output_gdf_list = []\n",
    "for sn in s_names:\n",
    "    # get a street by name and type\n",
    "    print(sn)\n",
    "    temp_gdf = gdf.loc[gdf['ord_street_st_type'] == sn, :].copy()\n",
    "    temp_gdf['snd_group'] = int(0)\n",
    "\n",
    "    g = nx.from_pandas_edgelist(df = temp_gdf, source = 'f_intr_id', target = 't_intr_id', edge_attr=True)\n",
    "    n_connected_components = nx.number_connected_components(g)\n",
    "    # try and get the edges in each subgrpah\n",
    "    # get each sub graph\n",
    "    snd_group_count = -1\n",
    "    for c in nx.connected_components(g):\n",
    "        edge_data_list = g.subgraph(c).edges.data()\n",
    "        snd_id_list = []\n",
    "        for edl in edge_data_list:            \n",
    "            #print(edl[2]['snd_id'])\n",
    "            snd_id_list.append(edl[2]['snd_id'])\n",
    "        snd_group_count += 1\n",
    "        temp_gdf.loc[temp_gdf['snd_id'].isin(snd_id_list), 'snd_group'] = snd_group_count        \n",
    "\n",
    "    # now, dissolve by the ord_street_st_type and snd_group\n",
    "    diss_gdf = temp_gdf[['ord_street', 'ord_st_type', 'snd_group', 'geometry']].dissolve(by = ['ord_street', 'ord_st_type', 'snd_group'],\n",
    "                                                                                        as_index = False)\n",
    "    # create single linestrings!\n",
    "    diss_gdf['geometry'] = diss_gdf['geometry'].map(lambda x: line_merge(x))\n",
    "    diss_gdf['geom_type'] = diss_gdf['geometry'].map(lambda x: x.geom_type)\n",
    "        \n",
    "    \n",
    "    # let's split and then recombine\n",
    "    # output_gdf_list.append(temp_gdf)\n",
    "    # dissolve the geometry\n",
    "        \n",
    "        "
   ]
  },
  {
   "cell_type": "code",
   "execution_count": 26,
   "id": "6c8a3dbf-7f10-4ded-bddd-2ac54c0ddeb4",
   "metadata": {},
   "outputs": [
    {
     "data": {
      "text/html": [
       "<div>\n",
       "<style scoped>\n",
       "    .dataframe tbody tr th:only-of-type {\n",
       "        vertical-align: middle;\n",
       "    }\n",
       "\n",
       "    .dataframe tbody tr th {\n",
       "        vertical-align: top;\n",
       "    }\n",
       "\n",
       "    .dataframe thead th {\n",
       "        text-align: right;\n",
       "    }\n",
       "</style>\n",
       "<table border=\"1\" class=\"dataframe\">\n",
       "  <thead>\n",
       "    <tr style=\"text-align: right;\">\n",
       "      <th></th>\n",
       "      <th>ord_street</th>\n",
       "      <th>ord_st_type</th>\n",
       "      <th>snd_group</th>\n",
       "      <th>geometry</th>\n",
       "      <th>geom_type</th>\n",
       "    </tr>\n",
       "  </thead>\n",
       "  <tbody>\n",
       "    <tr>\n",
       "      <th>0</th>\n",
       "      <td>GALER</td>\n",
       "      <td>ST</td>\n",
       "      <td>0</td>\n",
       "      <td>LINESTRING (-122.37169 47.63231, -122.37108 47...</td>\n",
       "      <td>LineString</td>\n",
       "    </tr>\n",
       "    <tr>\n",
       "      <th>1</th>\n",
       "      <td>GALER</td>\n",
       "      <td>ST</td>\n",
       "      <td>1</td>\n",
       "      <td>LINESTRING (-122.32607 47.63226, -122.32496 47...</td>\n",
       "      <td>LineString</td>\n",
       "    </tr>\n",
       "    <tr>\n",
       "      <th>2</th>\n",
       "      <td>GALER</td>\n",
       "      <td>ST</td>\n",
       "      <td>2</td>\n",
       "      <td>LINESTRING (-122.31250 47.63233, -122.31192 47...</td>\n",
       "      <td>LineString</td>\n",
       "    </tr>\n",
       "    <tr>\n",
       "      <th>3</th>\n",
       "      <td>GALER</td>\n",
       "      <td>ST</td>\n",
       "      <td>3</td>\n",
       "      <td>LINESTRING (-122.28478 47.63218, -122.28407 47...</td>\n",
       "      <td>LineString</td>\n",
       "    </tr>\n",
       "    <tr>\n",
       "      <th>4</th>\n",
       "      <td>GALER</td>\n",
       "      <td>ST</td>\n",
       "      <td>4</td>\n",
       "      <td>LINESTRING (-122.32021 47.63228, -122.31915 47...</td>\n",
       "      <td>LineString</td>\n",
       "    </tr>\n",
       "  </tbody>\n",
       "</table>\n",
       "</div>"
      ],
      "text/plain": [
       "  ord_street ord_st_type  snd_group  \\\n",
       "0      GALER          ST          0   \n",
       "1      GALER          ST          1   \n",
       "2      GALER          ST          2   \n",
       "3      GALER          ST          3   \n",
       "4      GALER          ST          4   \n",
       "\n",
       "                                            geometry   geom_type  \n",
       "0  LINESTRING (-122.37169 47.63231, -122.37108 47...  LineString  \n",
       "1  LINESTRING (-122.32607 47.63226, -122.32496 47...  LineString  \n",
       "2  LINESTRING (-122.31250 47.63233, -122.31192 47...  LineString  \n",
       "3  LINESTRING (-122.28478 47.63218, -122.28407 47...  LineString  \n",
       "4  LINESTRING (-122.32021 47.63228, -122.31915 47...  LineString  "
      ]
     },
     "execution_count": 26,
     "metadata": {},
     "output_type": "execute_result"
    }
   ],
   "source": [
    "diss_gdf.head()"
   ]
  },
  {
   "cell_type": "code",
   "execution_count": 34,
   "id": "3eb5d644-4be4-4110-9c94-e450647db794",
   "metadata": {},
   "outputs": [],
   "source": [
    "# we can't assume that start and end point are ordered in any way.\n",
    "# so we need to do all product pairs"
   ]
  },
  {
   "cell_type": "code",
   "execution_count": 27,
   "id": "40833b19-ec02-4f5f-9d00-8163560a7cc4",
   "metadata": {},
   "outputs": [],
   "source": [
    "# now we need to extract the start and end points of each line, to compute the distance between each segment\n",
    "start_point_dict = {i_id:sp for i_id, sp in enumerate(diss_gdf['geometry'].map(lambda x: x.coords[0]))}\n",
    "end_point_dict = {i_id:ep for i_id, ep in enumerate(diss_gdf['geometry'].map(lambda x: x.coords[-1]))}"
   ]
  },
  {
   "cell_type": "code",
   "execution_count": 36,
   "id": "1732406b-3974-4a39-87dc-15412c0867f0",
   "metadata": {},
   "outputs": [],
   "source": [
    "from itertools import combinations, product"
   ]
  },
  {
   "cell_type": "code",
   "execution_count": 42,
   "id": "160edda1-1a73-428f-8622-66ea7a4ae2be",
   "metadata": {},
   "outputs": [],
   "source": [
    "my_point = start_point_dict[0]"
   ]
  },
  {
   "cell_type": "code",
   "execution_count": 43,
   "id": "41e8d08f-5320-40aa-8af7-8b7baca4a00a",
   "metadata": {},
   "outputs": [
    {
     "data": {
      "text/plain": [
       "(-122.37169355299994, 47.632312513000045)"
      ]
     },
     "execution_count": 43,
     "metadata": {},
     "output_type": "execute_result"
    }
   ],
   "source": [
    "my_point"
   ]
  },
  {
   "cell_type": "code",
   "execution_count": 46,
   "id": "fe60de5f-610b-4282-b8bd-1a46c79e8295",
   "metadata": {},
   "outputs": [],
   "source": [
    "output_list = []\n",
    "for sp_id, ep_id in product(sorted(start_point_dict.keys()), sorted(end_point_dict.keys())):\n",
    "    if sp_id != ep_id:\n",
    "        sp = start_point_dict[sp_id]\n",
    "        ep = end_point_dict[ep_id]\n",
    "\n",
    "        dist = points2distance(start = sp, end = ep, unit = 'miles')\n",
    "        temp_list = [sp_id, ep_id, dist]\n",
    "        output_list.append(temp_list)\n",
    "        \n",
    "    "
   ]
  },
  {
   "cell_type": "code",
   "execution_count": 47,
   "id": "bdbaa33b-c8f9-4ebf-af40-c81165a3964c",
   "metadata": {},
   "outputs": [],
   "source": [
    "dist_df = pd.DataFrame(data = output_list, columns = ['sp_id', 'ep_id', 'dist'])"
   ]
  },
  {
   "cell_type": "code",
   "execution_count": 48,
   "id": "8b29b2bb-566f-4f8b-a929-d17714e49bb2",
   "metadata": {},
   "outputs": [
    {
     "data": {
      "text/html": [
       "<div>\n",
       "<style scoped>\n",
       "    .dataframe tbody tr th:only-of-type {\n",
       "        vertical-align: middle;\n",
       "    }\n",
       "\n",
       "    .dataframe tbody tr th {\n",
       "        vertical-align: top;\n",
       "    }\n",
       "\n",
       "    .dataframe thead th {\n",
       "        text-align: right;\n",
       "    }\n",
       "</style>\n",
       "<table border=\"1\" class=\"dataframe\">\n",
       "  <thead>\n",
       "    <tr style=\"text-align: right;\">\n",
       "      <th></th>\n",
       "      <th>sp_id</th>\n",
       "      <th>ep_id</th>\n",
       "      <th>dist</th>\n",
       "    </tr>\n",
       "  </thead>\n",
       "  <tbody>\n",
       "    <tr>\n",
       "      <th>0</th>\n",
       "      <td>0</td>\n",
       "      <td>1</td>\n",
       "      <td>2.176284</td>\n",
       "    </tr>\n",
       "    <tr>\n",
       "      <th>1</th>\n",
       "      <td>0</td>\n",
       "      <td>2</td>\n",
       "      <td>3.406419</td>\n",
       "    </tr>\n",
       "    <tr>\n",
       "      <th>2</th>\n",
       "      <td>0</td>\n",
       "      <td>3</td>\n",
       "      <td>4.337022</td>\n",
       "    </tr>\n",
       "    <tr>\n",
       "      <th>3</th>\n",
       "      <td>0</td>\n",
       "      <td>4</td>\n",
       "      <td>2.471104</td>\n",
       "    </tr>\n",
       "    <tr>\n",
       "      <th>4</th>\n",
       "      <td>0</td>\n",
       "      <td>5</td>\n",
       "      <td>0.219484</td>\n",
       "    </tr>\n",
       "  </tbody>\n",
       "</table>\n",
       "</div>"
      ],
      "text/plain": [
       "   sp_id  ep_id      dist\n",
       "0      0      1  2.176284\n",
       "1      0      2  3.406419\n",
       "2      0      3  4.337022\n",
       "3      0      4  2.471104\n",
       "4      0      5  0.219484"
      ]
     },
     "execution_count": 48,
     "metadata": {},
     "output_type": "execute_result"
    }
   ],
   "source": [
    "dist_df.head()"
   ]
  },
  {
   "cell_type": "code",
   "execution_count": 54,
   "id": "e9279daf-4fc8-48a5-b3e4-d183bea8d36f",
   "metadata": {},
   "outputs": [],
   "source": [
    "# take the min distance by start point and end point\n",
    "def compute_linestring(row):\n",
    "    sp_id = row['sp_id']\n",
    "    ep_id = row['ep_id']\n",
    "\n",
    "    sp = start_point_dict[sp_id]\n",
    "    ep = end_point_dict[ep_id]\n",
    "    line_string = LineString([sp, ep])\n",
    "\n",
    "    return line_string"
   ]
  },
  {
   "cell_type": "code",
   "execution_count": 55,
   "id": "2f496a5a-b025-427d-ab10-b1fa8d1ad3db",
   "metadata": {},
   "outputs": [],
   "source": [
    "geoms = dist_df.apply(compute_linestring, axis = 1)"
   ]
  },
  {
   "cell_type": "code",
   "execution_count": 56,
   "id": "0dfebd89-c743-479c-a813-d2b6a1f682f5",
   "metadata": {},
   "outputs": [],
   "source": [
    "dist_gdf = gpd.GeoDataFrame(data = dist_df, geometry = geoms, crs = 4326)"
   ]
  },
  {
   "cell_type": "code",
   "execution_count": 57,
   "id": "ad352fc8-7214-4794-ba17-63c1b52286c6",
   "metadata": {},
   "outputs": [],
   "source": [
    "output_file_name = 'test_distance.gpkg'"
   ]
  },
  {
   "cell_type": "code",
   "execution_count": 58,
   "id": "d4280cde-4994-41f7-82f1-41c100c3710f",
   "metadata": {},
   "outputs": [],
   "source": [
    "ofpn = os.path.join(file_path, output_file_name)"
   ]
  },
  {
   "cell_type": "code",
   "execution_count": 59,
   "id": "94325a5a-90eb-4545-837a-3d89e7ff8ee3",
   "metadata": {},
   "outputs": [],
   "source": [
    "dist_gdf.to_file(filename = ofpn, driver = 'GPKG')"
   ]
  },
  {
   "cell_type": "code",
   "execution_count": 60,
   "id": "c65cf6a3-f54e-4345-9262-da33f7f85e55",
   "metadata": {},
   "outputs": [],
   "source": [
    "# 2024 07 21: 1829\n",
    "# i need to look at each segment and each start point and end point in each segement\n",
    "# couldn't I use an rtree to build the point cloud and then return the nearest start/end point?\n",
    "# yes, that would be the easiest. T\n",
    "\n"
   ]
  },
  {
   "cell_type": "code",
   "execution_count": null,
   "id": "70864b72-9afa-4268-ae1e-d53a5ead3c1e",
   "metadata": {},
   "outputs": [],
   "source": []
  },
  {
   "cell_type": "code",
   "execution_count": null,
   "id": "305dd892-f205-4ba9-9290-aaefd963697f",
   "metadata": {},
   "outputs": [],
   "source": []
  },
  {
   "cell_type": "code",
   "execution_count": 40,
   "id": "f3d27529-2e13-4f28-9406-ed28e0f50142",
   "metadata": {},
   "outputs": [
    {
     "data": {
      "text/plain": [
       "[(0, 0),\n",
       " (0, 1),\n",
       " (0, 2),\n",
       " (0, 3),\n",
       " (0, 4),\n",
       " (0, 5),\n",
       " (0, 6),\n",
       " (0, 7),\n",
       " (0, 8),\n",
       " (0, 9),\n",
       " (0, 10),\n",
       " (1, 0),\n",
       " (1, 1),\n",
       " (1, 2),\n",
       " (1, 3),\n",
       " (1, 4),\n",
       " (1, 5),\n",
       " (1, 6),\n",
       " (1, 7),\n",
       " (1, 8),\n",
       " (1, 9),\n",
       " (1, 10),\n",
       " (2, 0),\n",
       " (2, 1),\n",
       " (2, 2),\n",
       " (2, 3),\n",
       " (2, 4),\n",
       " (2, 5),\n",
       " (2, 6),\n",
       " (2, 7),\n",
       " (2, 8),\n",
       " (2, 9),\n",
       " (2, 10),\n",
       " (3, 0),\n",
       " (3, 1),\n",
       " (3, 2),\n",
       " (3, 3),\n",
       " (3, 4),\n",
       " (3, 5),\n",
       " (3, 6),\n",
       " (3, 7),\n",
       " (3, 8),\n",
       " (3, 9),\n",
       " (3, 10),\n",
       " (4, 0),\n",
       " (4, 1),\n",
       " (4, 2),\n",
       " (4, 3),\n",
       " (4, 4),\n",
       " (4, 5),\n",
       " (4, 6),\n",
       " (4, 7),\n",
       " (4, 8),\n",
       " (4, 9),\n",
       " (4, 10),\n",
       " (5, 0),\n",
       " (5, 1),\n",
       " (5, 2),\n",
       " (5, 3),\n",
       " (5, 4),\n",
       " (5, 5),\n",
       " (5, 6),\n",
       " (5, 7),\n",
       " (5, 8),\n",
       " (5, 9),\n",
       " (5, 10),\n",
       " (6, 0),\n",
       " (6, 1),\n",
       " (6, 2),\n",
       " (6, 3),\n",
       " (6, 4),\n",
       " (6, 5),\n",
       " (6, 6),\n",
       " (6, 7),\n",
       " (6, 8),\n",
       " (6, 9),\n",
       " (6, 10),\n",
       " (7, 0),\n",
       " (7, 1),\n",
       " (7, 2),\n",
       " (7, 3),\n",
       " (7, 4),\n",
       " (7, 5),\n",
       " (7, 6),\n",
       " (7, 7),\n",
       " (7, 8),\n",
       " (7, 9),\n",
       " (7, 10),\n",
       " (8, 0),\n",
       " (8, 1),\n",
       " (8, 2),\n",
       " (8, 3),\n",
       " (8, 4),\n",
       " (8, 5),\n",
       " (8, 6),\n",
       " (8, 7),\n",
       " (8, 8),\n",
       " (8, 9),\n",
       " (8, 10),\n",
       " (9, 0),\n",
       " (9, 1),\n",
       " (9, 2),\n",
       " (9, 3),\n",
       " (9, 4),\n",
       " (9, 5),\n",
       " (9, 6),\n",
       " (9, 7),\n",
       " (9, 8),\n",
       " (9, 9),\n",
       " (9, 10),\n",
       " (10, 0),\n",
       " (10, 1),\n",
       " (10, 2),\n",
       " (10, 3),\n",
       " (10, 4),\n",
       " (10, 5),\n",
       " (10, 6),\n",
       " (10, 7),\n",
       " (10, 8),\n",
       " (10, 9),\n",
       " (10, 10)]"
      ]
     },
     "execution_count": 40,
     "metadata": {},
     "output_type": "execute_result"
    }
   ],
   "source": [
    "testo"
   ]
  },
  {
   "cell_type": "code",
   "execution_count": 33,
   "id": "edd6a65b-440d-4e36-952a-cad8ba0a1844",
   "metadata": {},
   "outputs": [
    {
     "data": {
      "text/plain": [
       "[0, 1, 2, 3, 4, 5, 6, 7, 8, 9, 10]"
      ]
     },
     "execution_count": 33,
     "metadata": {},
     "output_type": "execute_result"
    }
   ],
   "source": [
    "sorted(start_point_dict.keys())"
   ]
  },
  {
   "cell_type": "code",
   "execution_count": null,
   "id": "94742726-a39e-4d32-92fe-5f4106beffff",
   "metadata": {},
   "outputs": [],
   "source": [
    "# place this stuff into a dictionary\n",
    "end"
   ]
  },
  {
   "cell_type": "code",
   "execution_count": null,
   "id": "944c8df5-a77f-4aa9-b2d9-88455e92d8d6",
   "metadata": {},
   "outputs": [],
   "source": []
  },
  {
   "cell_type": "code",
   "execution_count": null,
   "id": "c6f388ee-9d0c-436a-ac21-40ad349f8db2",
   "metadata": {},
   "outputs": [],
   "source": [
    "# now we need to compute the combination of the end points\n",
    "\n",
    "\n"
   ]
  },
  {
   "cell_type": "code",
   "execution_count": null,
   "id": "a98709b4-3715-4da4-9c89-7283a4c5db6f",
   "metadata": {},
   "outputs": [],
   "source": []
  },
  {
   "cell_type": "code",
   "execution_count": null,
   "id": "b4e29d48-434c-4edb-bc53-12da151f5795",
   "metadata": {},
   "outputs": [],
   "source": [
    "output_file_name = 'galer.gpkg'"
   ]
  },
  {
   "cell_type": "code",
   "execution_count": null,
   "id": "d5783f02-c98c-4b84-9aa9-9be0888e00c5",
   "metadata": {},
   "outputs": [],
   "source": [
    "ofpn = os.path.join(file_path, output_file_name)"
   ]
  },
  {
   "cell_type": "code",
   "execution_count": null,
   "id": "e942205a-a4b5-4ef2-a240-1cc34250e167",
   "metadata": {},
   "outputs": [],
   "source": [
    "diss_gdf.to_file(filename = ofpn, driver = 'GPKG', layer = 'testo')"
   ]
  },
  {
   "cell_type": "code",
   "execution_count": null,
   "id": "ea909f4e-f1db-4c62-a902-8c68feb5d40a",
   "metadata": {},
   "outputs": [],
   "source": [
    "temp_gdf.shape"
   ]
  },
  {
   "cell_type": "code",
   "execution_count": null,
   "id": "8bd3e2ea-917e-436f-ac6b-a1920ed43150",
   "metadata": {},
   "outputs": [],
   "source": [
    "diss_gdf.head()"
   ]
  },
  {
   "cell_type": "code",
   "execution_count": null,
   "id": "622d0fbb-d8af-49b3-934d-a48716e86281",
   "metadata": {},
   "outputs": [],
   "source": [
    "# let's count the parts\n",
    "testo = diss_gdf.explode(index_parts = True)"
   ]
  },
  {
   "cell_type": "code",
   "execution_count": null,
   "id": "1fc2a3f4-58ad-459a-b4b5-73192a621eb1",
   "metadata": {},
   "outputs": [],
   "source": [
    "mygeom = diss_gdf['geometry'].iloc[0]"
   ]
  },
  {
   "cell_type": "code",
   "execution_count": null,
   "id": "8df57b20-971c-4bc8-96f9-6cdcb284ca0f",
   "metadata": {},
   "outputs": [],
   "source": [
    "from shapely.ops import linemerge"
   ]
  },
  {
   "cell_type": "code",
   "execution_count": null,
   "id": "c1150633-280f-4738-9b27-767d6429affc",
   "metadata": {},
   "outputs": [],
   "source": [
    "outcome = linemerge(mygeom)"
   ]
  },
  {
   "cell_type": "code",
   "execution_count": null,
   "id": "4470d8df-6dcc-43c6-bb18-58bbec0da2c5",
   "metadata": {},
   "outputs": [],
   "source": [
    "outcome"
   ]
  },
  {
   "cell_type": "code",
   "execution_count": null,
   "id": "3a8b145d-5727-4b46-9151-45a34b83bb95",
   "metadata": {},
   "outputs": [],
   "source": []
  },
  {
   "cell_type": "code",
   "execution_count": null,
   "id": "106ac1ad-f87b-4574-b55c-e576c1a31bc4",
   "metadata": {
    "scrolled": true
   },
   "outputs": [],
   "source": [
    "output_list = []\n",
    "output_gdf_list = []\n",
    "for sn in s_names:\n",
    "    print(sn)\n",
    "    temp_gdf = gdf.loc[gdf['ord_street'] == sn, ['ord_street', 'ord_st_type', 'geometry']].dissolve(by = ['ord_street', 'ord_st_type'], as_index = False)\n",
    "    temp_gdf = temp_gdf.explode(ignore_index = False, index_parts = True).reset_index(names = ['ord_street_id', 'ord_street_part_id'])\n",
    "    # let's split and then recombine\n",
    "    output_gdf_list.append(temp_gdf)\n",
    "        # dissolve the geometry\n",
    "        \n",
    "        "
   ]
  },
  {
   "cell_type": "code",
   "execution_count": null,
   "id": "297371ae-33de-4ffc-ab94-02c11eb2ea93",
   "metadata": {},
   "outputs": [],
   "source": [
    "output_gdf = pd.concat(output_gdf_list)"
   ]
  },
  {
   "cell_type": "code",
   "execution_count": null,
   "id": "6dd19bff-02ef-4cd6-8ba6-ccf68827319a",
   "metadata": {},
   "outputs": [],
   "source": [
    "output_gdf.head()"
   ]
  },
  {
   "cell_type": "code",
   "execution_count": null,
   "id": "18eb468d-2bfa-4ace-9bc2-be420a9492f0",
   "metadata": {},
   "outputs": [],
   "source": [
    "output_gdf.shape"
   ]
  },
  {
   "cell_type": "code",
   "execution_count": null,
   "id": "52954367-c5b1-4b01-b694-33c0b9c49695",
   "metadata": {},
   "outputs": [],
   "source": [
    "# let's put stuff in a directed graph"
   ]
  },
  {
   "cell_type": "code",
   "execution_count": null,
   "id": "0939eb49-2371-406b-813a-aaf7a75bad7d",
   "metadata": {},
   "outputs": [],
   "source": []
  },
  {
   "cell_type": "code",
   "execution_count": null,
   "id": "447d24c0-5ca5-4e61-9b86-7dc08a650ef5",
   "metadata": {},
   "outputs": [],
   "source": []
  },
  {
   "cell_type": "code",
   "execution_count": null,
   "id": "c7e46e67-b03d-4da3-bd42-6de5f2afb5d7",
   "metadata": {},
   "outputs": [],
   "source": [
    "# so, now we need to find the distance betwee the start and stop ids"
   ]
  },
  {
   "cell_type": "code",
   "execution_count": null,
   "id": "77bff9cc-0f3e-42fc-b701-d652e9b28b10",
   "metadata": {},
   "outputs": [],
   "source": [
    "# group to get counts\n",
    "agg_df = output_gdf['ord_street_id'].value_counts().to_frame()\n",
    "\n",
    "\n"
   ]
  },
  {
   "cell_type": "code",
   "execution_count": null,
   "id": "74ee7bb6-4b03-44ea-8b46-347a2146c5e5",
   "metadata": {},
   "outputs": [],
   "source": [
    "agg_df.head()"
   ]
  },
  {
   "cell_type": "code",
   "execution_count": null,
   "id": "55b03bb5-7b39-43a4-a967-d95f30b79d04",
   "metadata": {},
   "outputs": [],
   "source": []
  },
  {
   "cell_type": "code",
   "execution_count": null,
   "id": "f3be3f40-6672-4438-a51d-414f57d3ff34",
   "metadata": {
    "scrolled": true
   },
   "outputs": [],
   "source": [
    "output_list = []\n",
    "output_gdf_list = []\n",
    "for sn in s_names:\n",
    "    print(sn)\n",
    "    temp_gdf = gdf.loc[gdf['ord_stname'] == sn, ['ord_strname', 'geometry']].copy()\n",
    "    \n",
    "    #g = nx.from_pandas_edgelist(df = temp_gdf, source = 'f_intr_id', target = 't_intr_id', edge_attr=True)\n",
    "    n_connected_components = nx.number_connected_components(g)\n",
    "    temp_list = [sn, n_connected_components]\n",
    "    output_list.append(temp_list)\n",
    "    if n_connected_components > 1:\n",
    "        # dissolve this lovely\n",
    "        diss_gdf = temp_gdf.dissolve(by = 'ord_stname')\n",
    "        diss_gdf['n_parts'] = n_connected_components\n",
    "        output_gdf_list.append(diss_gdf)\n",
    "        # dissolve the geometry\n",
    "        \n",
    "        "
   ]
  },
  {
   "cell_type": "code",
   "execution_count": null,
   "id": "8a66c864-4fbd-4903-afcd-6941ca9a1f01",
   "metadata": {},
   "outputs": [],
   "source": [
    "con_df = pd.DataFrame(data = output_list, columns = ['ord_stname', 'n_parts'])"
   ]
  },
  {
   "cell_type": "code",
   "execution_count": null,
   "id": "00d1f75f-2b62-4d94-9885-335370f4aae6",
   "metadata": {},
   "outputs": [],
   "source": [
    "con_df = con_df.sort_values(by = ['n_parts'], ascending = False)"
   ]
  },
  {
   "cell_type": "code",
   "execution_count": null,
   "id": "771f60f1-471b-4e8b-af7b-4eea2cf8b91c",
   "metadata": {},
   "outputs": [],
   "source": [
    "con_df.head()"
   ]
  },
  {
   "cell_type": "code",
   "execution_count": null,
   "id": "da3d2ce4-5e23-4b95-9648-bde5a282f45a",
   "metadata": {},
   "outputs": [],
   "source": [
    "con_df['n_parts'].describe()"
   ]
  },
  {
   "cell_type": "code",
   "execution_count": null,
   "id": "ca0dddd2-462d-44e1-8a4f-1e325b1f3769",
   "metadata": {},
   "outputs": [],
   "source": [
    "my_gdf = pd.concat(objs = output_gdf_list, axis = 0)"
   ]
  },
  {
   "cell_type": "code",
   "execution_count": null,
   "id": "f56b2923-4c75-49f0-a149-4d476a611667",
   "metadata": {},
   "outputs": [],
   "source": [
    "my_gdf.shape"
   ]
  },
  {
   "cell_type": "code",
   "execution_count": null,
   "id": "61465d2e-8e30-47f3-a62e-d0359451b65b",
   "metadata": {},
   "outputs": [],
   "source": []
  },
  {
   "cell_type": "code",
   "execution_count": null,
   "id": "6fddcffd-b5ce-44d4-8332-1858c7b90abc",
   "metadata": {},
   "outputs": [],
   "source": [
    "output_file_path = 'H:/project/seattle_streets/data/'"
   ]
  },
  {
   "cell_type": "code",
   "execution_count": null,
   "id": "c98746db-3d63-49f0-a28a-92d9e1eb13e8",
   "metadata": {},
   "outputs": [],
   "source": [
    "output_file_name = 'multi_part_streets.gpkg'"
   ]
  },
  {
   "cell_type": "code",
   "execution_count": null,
   "id": "518a9a81-8280-490e-9685-8aa6b7043e24",
   "metadata": {},
   "outputs": [],
   "source": [
    "ofpn = os.path.join(output_file_path, output_file_name)"
   ]
  },
  {
   "cell_type": "code",
   "execution_count": null,
   "id": "e9a2d955-f1a0-4c59-a27f-cbc8a35bc174",
   "metadata": {},
   "outputs": [],
   "source": [
    "my_gdf.to_file(filename = ofpn, driver = 'GPKG')"
   ]
  },
  {
   "cell_type": "code",
   "execution_count": null,
   "id": "cc3859bd-078e-4c33-a22b-170a033e3703",
   "metadata": {},
   "outputs": [],
   "source": []
  }
 ],
 "metadata": {
  "kernelspec": {
   "display_name": "Python 3 (ipykernel)",
   "language": "python",
   "name": "python3"
  },
  "language_info": {
   "codemirror_mode": {
    "name": "ipython",
    "version": 3
   },
   "file_extension": ".py",
   "mimetype": "text/x-python",
   "name": "python",
   "nbconvert_exporter": "python",
   "pygments_lexer": "ipython3",
   "version": "3.12.4"
  }
 },
 "nbformat": 4,
 "nbformat_minor": 5
}
