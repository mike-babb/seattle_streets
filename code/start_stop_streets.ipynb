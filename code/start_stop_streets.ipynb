{
 "cells": [
  {
   "cell_type": "code",
   "execution_count": 1,
   "id": "fed9e25b-c5b9-4aee-89cd-15a7da3945c0",
   "metadata": {},
   "outputs": [],
   "source": [
    "# mike babb\n",
    "# 2024 06 28\n",
    "# what streets start and stop?"
   ]
  },
  {
   "cell_type": "code",
   "execution_count": 2,
   "id": "e88ca8b2-b75d-4e72-8fc7-65c4cea61cde",
   "metadata": {},
   "outputs": [],
   "source": [
    "# standard\n",
    "import os"
   ]
  },
  {
   "cell_type": "code",
   "execution_count": 3,
   "id": "0778d9a5-0c62-4724-be28-c21598d23b6f",
   "metadata": {},
   "outputs": [],
   "source": [
    "# external\n",
    "from itertools import combinations, product\n",
    "import geopandas as gpd\n",
    "import networkx as nx\n",
    "import numpy as np\n",
    "import pandas as pd\n",
    "from shapely.geometry import LineString, Point\n",
    "from shapely import line_merge"
   ]
  },
  {
   "cell_type": "code",
   "execution_count": 4,
   "id": "2fc61400-c637-4828-820d-56c2cdd14942",
   "metadata": {},
   "outputs": [],
   "source": [
    "# custom\n",
    "from geodataio.geo_operations import points2distance, calculate_initial_compass_bearing"
   ]
  },
  {
   "cell_type": "markdown",
   "id": "d56ea77e-ffd7-4326-b793-415f8a131ef2",
   "metadata": {},
   "source": [
    "# load the shapefile as a gpd"
   ]
  },
  {
   "cell_type": "code",
   "execution_count": 5,
   "id": "d07cfb9b-9184-48d7-af77-035e2390d9e5",
   "metadata": {},
   "outputs": [],
   "source": [
    "# file path\n",
    "file_path = 'H:/project/seattle_streets/data/' "
   ]
  },
  {
   "cell_type": "code",
   "execution_count": 6,
   "id": "3c1039f5-a281-4460-b65d-98a6ca2556b7",
   "metadata": {},
   "outputs": [],
   "source": [
    "file_name = 'Street_Network_Database.gpkg'"
   ]
  },
  {
   "cell_type": "code",
   "execution_count": 7,
   "id": "ddf62724-9105-44c9-b983-e4f520328fa9",
   "metadata": {},
   "outputs": [],
   "source": [
    "fpn = os.path.join(file_path, file_name)"
   ]
  },
  {
   "cell_type": "code",
   "execution_count": 8,
   "id": "2cbdb5c1-c973-4882-b442-cf5396e90d3e",
   "metadata": {},
   "outputs": [],
   "source": [
    "gdf = gpd.read_file(filename = fpn)"
   ]
  },
  {
   "cell_type": "code",
   "execution_count": 9,
   "id": "ce02bdf0-a0ca-46a5-bf8f-54b576ee2de7",
   "metadata": {},
   "outputs": [
    {
     "data": {
      "text/plain": [
       "Index(['f_intr_id', 't_intr_id', 'snd_id', 'snd_feacod', 'citycode',\n",
       "       'stname_id', 'st_code', 'arterial_c', 'segment_ty', 'agency_cod',\n",
       "       'access_cod', 'divided_co', 'structure_', 'legalloc_c', 'vehicle_us',\n",
       "       'gis_seg_length', 'l_adrs_from', 'l_adrs_to', 'r_adrs_from',\n",
       "       'r_adrs_to', 'ord_pre_dir', 'ord_street', 'ord_street_type',\n",
       "       'ord_suf_dir', 'ord_stname', 'l_city', 'l_state', 'l_zip', 'r_city',\n",
       "       'r_state', 'r_zip', 'sndseg_upd', 'compkey', 'comptype', 'unitid',\n",
       "       'unitid2', 'city_portion', 'geometry'],\n",
       "      dtype='object')"
      ]
     },
     "execution_count": 9,
     "metadata": {},
     "output_type": "execute_result"
    }
   ],
   "source": [
    "gdf.columns"
   ]
  },
  {
   "cell_type": "code",
   "execution_count": 10,
   "id": "67a207fe-eb27-4856-b180-464d22016e06",
   "metadata": {},
   "outputs": [],
   "source": [
    "# import the classified streets"
   ]
  },
  {
   "cell_type": "code",
   "execution_count": 11,
   "id": "d4c673dc-b00e-46c8-af40-ce97a772dbe2",
   "metadata": {},
   "outputs": [],
   "source": [
    "file_name = 'blank_street_type_modified.xlsx'"
   ]
  },
  {
   "cell_type": "code",
   "execution_count": 12,
   "id": "342b546d-6072-45cb-bc8f-8148e857e919",
   "metadata": {},
   "outputs": [],
   "source": [
    "fpn = os.path.join(file_path, file_name)"
   ]
  },
  {
   "cell_type": "code",
   "execution_count": 13,
   "id": "5f0c6695-b1ab-426c-ac2e-2268331131a9",
   "metadata": {},
   "outputs": [],
   "source": [
    "blank_street_type_df = pd.read_excel(io = fpn)"
   ]
  },
  {
   "cell_type": "code",
   "execution_count": 14,
   "id": "5390f24e-0e11-48b2-afc9-8e505a71a78e",
   "metadata": {},
   "outputs": [
    {
     "data": {
      "text/html": [
       "<div>\n",
       "<style scoped>\n",
       "    .dataframe tbody tr th:only-of-type {\n",
       "        vertical-align: middle;\n",
       "    }\n",
       "\n",
       "    .dataframe tbody tr th {\n",
       "        vertical-align: top;\n",
       "    }\n",
       "\n",
       "    .dataframe thead th {\n",
       "        text-align: right;\n",
       "    }\n",
       "</style>\n",
       "<table border=\"1\" class=\"dataframe\">\n",
       "  <thead>\n",
       "    <tr style=\"text-align: right;\">\n",
       "      <th></th>\n",
       "      <th>ord_stname</th>\n",
       "      <th>ord_st_type</th>\n",
       "    </tr>\n",
       "  </thead>\n",
       "  <tbody>\n",
       "    <tr>\n",
       "      <th>0</th>\n",
       "      <td>I5 SB</td>\n",
       "      <td>IS</td>\n",
       "    </tr>\n",
       "    <tr>\n",
       "      <th>1</th>\n",
       "      <td>BROADWAY E</td>\n",
       "      <td>ST</td>\n",
       "    </tr>\n",
       "    <tr>\n",
       "      <th>2</th>\n",
       "      <td>NW ESPLANADE</td>\n",
       "      <td>ST</td>\n",
       "    </tr>\n",
       "    <tr>\n",
       "      <th>3</th>\n",
       "      <td>FAUNTLEE CREST SW</td>\n",
       "      <td>ST</td>\n",
       "    </tr>\n",
       "    <tr>\n",
       "      <th>4</th>\n",
       "      <td>SR518</td>\n",
       "      <td>SR</td>\n",
       "    </tr>\n",
       "  </tbody>\n",
       "</table>\n",
       "</div>"
      ],
      "text/plain": [
       "          ord_stname ord_st_type\n",
       "0              I5 SB          IS\n",
       "1         BROADWAY E          ST\n",
       "2       NW ESPLANADE          ST\n",
       "3  FAUNTLEE CREST SW          ST\n",
       "4              SR518          SR"
      ]
     },
     "execution_count": 14,
     "metadata": {},
     "output_type": "execute_result"
    }
   ],
   "source": [
    "blank_street_type_df.head()"
   ]
  },
  {
   "cell_type": "code",
   "execution_count": 15,
   "id": "77b7c6a5-b465-47bc-b13f-42d9b98031a9",
   "metadata": {},
   "outputs": [
    {
     "data": {
      "text/plain": [
       "array(['ST', 'AVE', 'CT', 'PL', 'DR', 'WAY', 'BLVD', 'LN', 'TRL', 'RD',\n",
       "       'CIR', None, 'PKWY', 'TER', 'AL', 'VI', 'OP', 'RP', 'BR', 'LOOP',\n",
       "       'HWY', 'ET', 'VIEW', 'PZ', 'MALL'], dtype=object)"
      ]
     },
     "execution_count": 15,
     "metadata": {},
     "output_type": "execute_result"
    }
   ],
   "source": [
    "gdf['ord_street_type'].unique()"
   ]
  },
  {
   "cell_type": "code",
   "execution_count": 16,
   "id": "35858c52-641f-46b6-b7bb-c9a31f0d9889",
   "metadata": {},
   "outputs": [],
   "source": [
    "gdf = pd.merge(left = gdf, right = blank_street_type_df, how = 'left')"
   ]
  },
  {
   "cell_type": "code",
   "execution_count": 17,
   "id": "b72310c6-e543-4f5c-8df0-989da7b03d13",
   "metadata": {},
   "outputs": [],
   "source": [
    "gdf.loc[gdf['ord_st_type'].isna(), 'ord_st_type'] = gdf.loc[gdf['ord_st_type'].isna(), 'ord_street_type']"
   ]
  },
  {
   "cell_type": "code",
   "execution_count": 18,
   "id": "10e38a59-82ea-4a71-85df-2f37cb3a26a3",
   "metadata": {},
   "outputs": [
    {
     "data": {
      "text/plain": [
       "Index(['f_intr_id', 't_intr_id', 'snd_id', 'snd_feacod', 'citycode',\n",
       "       'stname_id', 'st_code', 'arterial_c', 'segment_ty', 'agency_cod',\n",
       "       'access_cod', 'divided_co', 'structure_', 'legalloc_c', 'vehicle_us',\n",
       "       'gis_seg_length', 'l_adrs_from', 'l_adrs_to', 'r_adrs_from',\n",
       "       'r_adrs_to', 'ord_pre_dir', 'ord_street', 'ord_street_type',\n",
       "       'ord_suf_dir', 'ord_stname', 'l_city', 'l_state', 'l_zip', 'r_city',\n",
       "       'r_state', 'r_zip', 'sndseg_upd', 'compkey', 'comptype', 'unitid',\n",
       "       'unitid2', 'city_portion', 'geometry', 'ord_st_type'],\n",
       "      dtype='object')"
      ]
     },
     "execution_count": 18,
     "metadata": {},
     "output_type": "execute_result"
    }
   ],
   "source": [
    "gdf.columns"
   ]
  },
  {
   "cell_type": "code",
   "execution_count": 19,
   "id": "bb4958cc-9880-44dc-9079-2adf57b94982",
   "metadata": {},
   "outputs": [
    {
     "data": {
      "text/plain": [
       "array(['ST', 'AVE', 'CT', 'PL', 'DR', 'WAY', 'BLVD', 'LN', 'TRL', 'RD',\n",
       "       'CIR', 'IS', 'PKWY', 'TER', 'AL', 'VI', 'OP', 'SR', 'WKWY', 'RP',\n",
       "       'BR', 'LOOP', 'HWY', 'RR', 'ET', 'VIEW', 'FLYOVER', 'STCR', 'RN',\n",
       "       'PZ', 'MALL'], dtype=object)"
      ]
     },
     "execution_count": 19,
     "metadata": {},
     "output_type": "execute_result"
    }
   ],
   "source": [
    "gdf['ord_st_type'].unique()"
   ]
  },
  {
   "cell_type": "markdown",
   "id": "07ec39b8-6b4d-4b08-b425-401532342d13",
   "metadata": {},
   "source": [
    "# CLEAN UP"
   ]
  },
  {
   "cell_type": "markdown",
   "id": "d22a0a93-529b-43ec-a554-42d7babac178",
   "metadata": {},
   "source": [
    "AL: Alley\n",
    "TRL: Trail\n",
    "CIR: Circle\n",
    "TER: Terrace\n",
    "OP: Overpass\n",
    "RP: Ramp\n",
    "ET: Extension\n",
    "RN: TURN\n",
    "\n",
    "\n"
   ]
  },
  {
   "cell_type": "code",
   "execution_count": 20,
   "id": "cf93f43f-53df-42bb-a817-4041778e9a04",
   "metadata": {},
   "outputs": [
    {
     "data": {
      "text/plain": [
       "30019    21ST AV SW TURN\n",
       "Name: ord_stname, dtype: object"
      ]
     },
     "execution_count": 20,
     "metadata": {},
     "output_type": "execute_result"
    }
   ],
   "source": [
    "test_type = 'RN'\n",
    "gdf.loc[gdf['ord_st_type'] == test_type, 'ord_stname'].head()"
   ]
  },
  {
   "cell_type": "code",
   "execution_count": 21,
   "id": "dedc0b62-80a5-40cf-a08f-f22cdb70b007",
   "metadata": {},
   "outputs": [],
   "source": [
    "# remove streets of the following type\n",
    "street_type_to_remove = [ 'AL', 'TRL', 'OP', 'IS', 'SR', 'RR', 'FLYOVER', 'STCR', 'ET', 'RN', 'RP']"
   ]
  },
  {
   "cell_type": "code",
   "execution_count": 22,
   "id": "4cccc313-31c7-4c25-a3fd-7f6c10075b38",
   "metadata": {},
   "outputs": [
    {
     "data": {
      "text/plain": [
       "(34057, 39)"
      ]
     },
     "execution_count": 22,
     "metadata": {},
     "output_type": "execute_result"
    }
   ],
   "source": [
    "gdf.shape"
   ]
  },
  {
   "cell_type": "code",
   "execution_count": 23,
   "id": "341a6852-40fa-41d0-8b39-55ac96fca8e8",
   "metadata": {},
   "outputs": [],
   "source": [
    "gdf = gdf.loc[-gdf['ord_st_type'].isin(street_type_to_remove), :].copy()"
   ]
  },
  {
   "cell_type": "code",
   "execution_count": 24,
   "id": "d812acd6-735b-4630-a4ff-769cacb00b7f",
   "metadata": {},
   "outputs": [
    {
     "data": {
      "text/plain": [
       "(32877, 39)"
      ]
     },
     "execution_count": 24,
     "metadata": {},
     "output_type": "execute_result"
    }
   ],
   "source": [
    "gdf.shape"
   ]
  },
  {
   "cell_type": "code",
   "execution_count": 25,
   "id": "b1d90de2-2054-4af2-92e1-13b6cd307ac9",
   "metadata": {},
   "outputs": [],
   "source": [
    "# keep only streets in Seattle"
   ]
  },
  {
   "cell_type": "code",
   "execution_count": 26,
   "id": "00fe8ad1-e796-46b0-bdc1-355e30b50140",
   "metadata": {},
   "outputs": [
    {
     "data": {
      "text/plain": [
       "Index(['f_intr_id', 't_intr_id', 'snd_id', 'snd_feacod', 'citycode',\n",
       "       'stname_id', 'st_code', 'arterial_c', 'segment_ty', 'agency_cod',\n",
       "       'access_cod', 'divided_co', 'structure_', 'legalloc_c', 'vehicle_us',\n",
       "       'gis_seg_length', 'l_adrs_from', 'l_adrs_to', 'r_adrs_from',\n",
       "       'r_adrs_to', 'ord_pre_dir', 'ord_street', 'ord_street_type',\n",
       "       'ord_suf_dir', 'ord_stname', 'l_city', 'l_state', 'l_zip', 'r_city',\n",
       "       'r_state', 'r_zip', 'sndseg_upd', 'compkey', 'comptype', 'unitid',\n",
       "       'unitid2', 'city_portion', 'geometry', 'ord_st_type'],\n",
       "      dtype='object')"
      ]
     },
     "execution_count": 26,
     "metadata": {},
     "output_type": "execute_result"
    }
   ],
   "source": [
    "gdf.columns"
   ]
  },
  {
   "cell_type": "code",
   "execution_count": 27,
   "id": "cf98aac3-47ef-4bbc-8598-ad8b8f037e32",
   "metadata": {},
   "outputs": [],
   "source": [
    "gdf = gdf.loc[(gdf['l_city'] == 'SEATTLE') &\n",
    "(gdf['r_city'] == 'SEATTLE'), :].copy()"
   ]
  },
  {
   "cell_type": "code",
   "execution_count": 28,
   "id": "b33a1013-76a9-4667-b631-3ffbe62c93d1",
   "metadata": {},
   "outputs": [
    {
     "data": {
      "text/plain": [
       "(26596, 39)"
      ]
     },
     "execution_count": 28,
     "metadata": {},
     "output_type": "execute_result"
    }
   ],
   "source": [
    "gdf.shape"
   ]
  },
  {
   "cell_type": "code",
   "execution_count": null,
   "id": "b32fb6af-702e-439b-9d32-c632f27b9fd6",
   "metadata": {},
   "outputs": [],
   "source": []
  },
  {
   "cell_type": "code",
   "execution_count": 29,
   "id": "8a64b4d4-aae1-4c8d-9009-f10cd3a26872",
   "metadata": {},
   "outputs": [],
   "source": [
    "# PASS 1: FOCUS ON JUST THE STREETS, REGARDLESS OF DIRECTION AND TYPE"
   ]
  },
  {
   "cell_type": "code",
   "execution_count": 30,
   "id": "5882e65a-a031-4010-8a55-e6eceb04e751",
   "metadata": {},
   "outputs": [],
   "source": [
    "gdf['ord_street_st_type'] = gdf['ord_street'] + ' ' + gdf['ord_st_type']"
   ]
  },
  {
   "cell_type": "code",
   "execution_count": 31,
   "id": "731e93a6-5038-4a40-9fd6-4e41eca71235",
   "metadata": {},
   "outputs": [],
   "source": [
    "agg_df = gdf[['ord_stname']].drop_duplicates().copy()"
   ]
  },
  {
   "cell_type": "code",
   "execution_count": 32,
   "id": "7ea3d94a-9215-400e-a130-1910f475c07a",
   "metadata": {},
   "outputs": [
    {
     "data": {
      "text/html": [
       "<div>\n",
       "<style scoped>\n",
       "    .dataframe tbody tr th:only-of-type {\n",
       "        vertical-align: middle;\n",
       "    }\n",
       "\n",
       "    .dataframe tbody tr th {\n",
       "        vertical-align: top;\n",
       "    }\n",
       "\n",
       "    .dataframe thead th {\n",
       "        text-align: right;\n",
       "    }\n",
       "</style>\n",
       "<table border=\"1\" class=\"dataframe\">\n",
       "  <thead>\n",
       "    <tr style=\"text-align: right;\">\n",
       "      <th></th>\n",
       "      <th>ord_stname</th>\n",
       "    </tr>\n",
       "  </thead>\n",
       "  <tbody>\n",
       "    <tr>\n",
       "      <th>0</th>\n",
       "      <td>SW STEVENS ST</td>\n",
       "    </tr>\n",
       "    <tr>\n",
       "      <th>1</th>\n",
       "      <td>N 37TH ST</td>\n",
       "    </tr>\n",
       "    <tr>\n",
       "      <th>2</th>\n",
       "      <td>NE 110TH ST</td>\n",
       "    </tr>\n",
       "    <tr>\n",
       "      <th>3</th>\n",
       "      <td>NE 106TH ST</td>\n",
       "    </tr>\n",
       "    <tr>\n",
       "      <th>4</th>\n",
       "      <td>56TH AVE SW</td>\n",
       "    </tr>\n",
       "  </tbody>\n",
       "</table>\n",
       "</div>"
      ],
      "text/plain": [
       "      ord_stname\n",
       "0  SW STEVENS ST\n",
       "1      N 37TH ST\n",
       "2    NE 110TH ST\n",
       "3    NE 106TH ST\n",
       "4    56TH AVE SW"
      ]
     },
     "execution_count": 32,
     "metadata": {},
     "output_type": "execute_result"
    }
   ],
   "source": [
    "agg_df.head()"
   ]
  },
  {
   "cell_type": "code",
   "execution_count": 37,
   "id": "8bf27b30-6830-4501-ac0b-b93cac085b08",
   "metadata": {},
   "outputs": [],
   "source": [
    "s_names = agg_df['ord_stname'].tolist()"
   ]
  },
  {
   "cell_type": "code",
   "execution_count": 44,
   "id": "a2034532-76fd-4067-8b60-63b62bdaa404",
   "metadata": {},
   "outputs": [],
   "source": [
    "s_names = ['BEACON AVE S']"
   ]
  },
  {
   "cell_type": "code",
   "execution_count": 45,
   "id": "99941e69-1429-4c99-9ba6-c8f21c41ee58",
   "metadata": {
    "scrolled": true
   },
   "outputs": [
    {
     "name": "stdout",
     "output_type": "stream",
     "text": [
      "BEACON AVE S\n",
      "  ord_street_st_type ord_street ord_st_type    ord_stname  snd_group  \\\n",
      "0         BEACON AVE     BEACON         AVE  BEACON AVE S          1   \n",
      "1         BEACON AVE     BEACON         AVE  BEACON AVE S          2   \n",
      "2         BEACON AVE     BEACON         AVE  BEACON AVE S          3   \n",
      "3         BEACON AVE     BEACON         AVE  BEACON AVE S          4   \n",
      "4         BEACON AVE     BEACON         AVE  BEACON AVE S          5   \n",
      "\n",
      "                                            geometry   geom_type  \n",
      "0  LINESTRING (-122.27016 47.50448, -122.27002 47...  LineString  \n",
      "1  LINESTRING (-122.27981 47.52068, -122.27877 47...  LineString  \n",
      "2  LINESTRING (-122.28067 47.52076, -122.28066 47...  LineString  \n",
      "3  LINESTRING (-122.31908 47.58571, -122.31898 47...  LineString  \n",
      "4  LINESTRING (-122.30513 47.56194, -122.30516 47...  LineString  \n"
     ]
    }
   ],
   "source": [
    "output_gdf_list = []\n",
    "# extra explode gdf\n",
    "ex_gdf_list = []\n",
    "ex_ex_gdf_list = []\n",
    "for sn in s_names[:None]:\n",
    "    # get a street by name\n",
    "    print(sn)\n",
    "    # subset the gdf\n",
    "    temp_gdf = gdf.loc[gdf['ord_stname'] == sn, :].copy()\n",
    "    \n",
    "    # a road group id\n",
    "    temp_gdf['snd_group'] = int(0)\n",
    "\n",
    "    # build a graph to find connected components\n",
    "    g = nx.from_pandas_edgelist(df = temp_gdf, source = 'f_intr_id', target = 't_intr_id', edge_attr=True)\n",
    "    n_connected_components = nx.number_connected_components(g)\n",
    "    \n",
    "    # get each sub graph\n",
    "    snd_group_count = -1\n",
    "    for c in nx.connected_components(g):\n",
    "        # c is the sub graph\n",
    "        # this is the edge data\n",
    "        edge_data_list = g.subgraph(c).edges.data()\n",
    "        # this marks the street(s) in each sub group\n",
    "        snd_id_list = []\n",
    "        for edl in edge_data_list:                        \n",
    "            snd_id_list.append(edl[2]['snd_id'])\n",
    "        snd_group_count += 1\n",
    "        temp_gdf.loc[temp_gdf['snd_id'].isin(snd_id_list), 'snd_group'] = snd_group_count        \n",
    "\n",
    "    # now, dissolve by the ord_street_st_type and snd_group\n",
    "    col_names = ['ord_street_st_type', 'ord_street', 'ord_st_type', 'ord_stname', 'snd_group', 'geometry']\n",
    "    diss_gdf = temp_gdf[col_names].dissolve(by = col_names[:-1], as_index = False)\n",
    "    # create single linestrings!\n",
    "    diss_gdf['geometry'] = diss_gdf['geometry'].map(lambda x: line_merge(x))\n",
    "    diss_gdf['geom_type'] = diss_gdf['geometry'].map(lambda x: x.geom_type)\n",
    "    \n",
    "    # blow up the multi-line string\n",
    "    if 'MultiLineString' in diss_gdf['geom_type'].unique():\n",
    "        # increment the last value of the snd_group_count - this is the last value\n",
    "        snd_group_count += 1\n",
    "        # the multilinestring\n",
    "        mls_gdf = diss_gdf.loc[diss_gdf['geom_type'] == 'MultiLineString', :].copy()\n",
    "        # the linestrings\n",
    "        ls_gdf = diss_gdf.loc[diss_gdf['geom_type'] == 'LineString', :].copy()\n",
    "        # explode\n",
    "        mls_gdf = mls_gdf.explode(index_parts = False)\n",
    "        \n",
    "        # dissolve lines\n",
    "        mls_gdf['geometry'] = mls_gdf['geometry'].map(lambda x: line_merge(x))\n",
    "        # get line types\n",
    "        mls_gdf['geom_type'] = mls_gdf['geometry'].map(lambda x: x.geom_type)\n",
    "\n",
    "        # assign indices\n",
    "        mls_gdf['snd_group'] = range(snd_group_count, snd_group_count + mls_gdf.shape[0])\n",
    "        # concatenate\n",
    "        diss_gdf = pd.concat(objs = [ls_gdf, mls_gdf])\n",
    "        \n",
    "        diss_gdf = diss_gdf.reset_index(drop = True)\n",
    "        ex_ex_gdf_list.append(diss_gdf.copy())             \n",
    "    \n",
    "    # add the dissolved gdf to the output list\n",
    "    ex_gdf_list.append(diss_gdf.copy())\n",
    "        \n",
    "    # get start and end coords\n",
    "    diss_gdf['sp_coords'] = diss_gdf['geometry'].map(lambda x: x.coords[0])\n",
    "    diss_gdf['ep_coords'] = diss_gdf['geometry'].map(lambda x: x.coords[-1])\n",
    "    # add ids\n",
    "    diss_gdf['sp_id'] = range(diss_gdf.shape[0])    \n",
    "    diss_gdf['ep_id'] = range(diss_gdf.shape[0], diss_gdf.shape[0] * 2)\n",
    "\n",
    "    # get the coords\n",
    "    node_dict = {}\n",
    "    for my_row in diss_gdf.itertuples():\n",
    "        node_dict[my_row.sp_id] = my_row.sp_coords\n",
    "        node_dict[my_row.ep_id] = my_row.ep_coords    \n",
    "    \n",
    "    if diss_gdf.shape[0] > 1:\n",
    "        #output_gdf_list.append(diss_gdf)\n",
    "        # let's split and then recombine\n",
    "        # output_gdf_list.append(temp_gdf)\n",
    "        # dissolve the geometry                    \n",
    "        \n",
    "        # we can't assume that start and end point are ordered in any way.\n",
    "        # so we need to do all product pairs\n",
    "        \n",
    "        # now, we have the basic part of the graph\n",
    "        \n",
    "        # build the simple graph, removing intermediate nodes and edges\n",
    "        g = nx.from_pandas_edgelist(df = diss_gdf, source = 'sp_id', target = 'ep_id', edge_attr=True)\n",
    "        \n",
    "        # build the anti-graph, the graph of missing edges\n",
    "        non_edge_list = []\n",
    "        ag = nx.Graph()\n",
    "        for ne in nx.non_edges(graph = g):\n",
    "    \n",
    "            # start and end coordinates\n",
    "            sp = node_dict[ne[0]]\n",
    "            ep = node_dict[ne[1]]\n",
    "            curr_dist = points2distance(start = sp,\n",
    "                                       end = ep,\n",
    "                                       unit = 'miles')\n",
    "            ag.add_edge(u_of_edge= ne[0], v_of_edge = ne[1], dist = curr_dist)\n",
    "            line_string = LineString([sp, ep])\n",
    "            non_edge_list.append([ne[0], ne[1], curr_dist, 'source', line_string])\n",
    "            non_edge_list.append([ne[1], ne[0], curr_dist, 'target', line_string])\n",
    "        \n",
    "        non_edge_df = pd.DataFrame(data = non_edge_list, columns = ['source', 'target', 'dist', 'desc', 'geometry'])\n",
    "        \n",
    "        # aggregate by source or target, the values will be the same\n",
    "        source_agg_df = non_edge_df[['source', 'dist']].groupby(['source']).agg(tot_dist = ('dist', 'sum')).reset_index()\n",
    "        source_agg_df = source_agg_df.sort_values(by = ['tot_dist'], ascending = False)\n",
    "        #print(source_agg_df.head())\n",
    "        \n",
    "        # furthest point, the current node\n",
    "        curr_node = source_agg_df['source'].iloc[0]\n",
    "        \n",
    "        sp_df = diss_gdf[['snd_group', 'sp_id', 'sp_coords']].copy()\n",
    "        ep_df = diss_gdf[['snd_group', 'ep_id', 'ep_coords']].copy()\n",
    "        \n",
    "        sp_gdf = gpd.GeoDataFrame(data = sp_df, geometry = sp_df['sp_coords'].map(lambda x: Point(x)),\n",
    "                                  crs = 4326).drop(labels = ['sp_coords'], axis = 1)\n",
    "        ep_gdf = gpd.GeoDataFrame(data = ep_df, geometry = ep_df['ep_coords'].map(lambda x: Point(x)),\n",
    "                                  crs = 4326).drop(labels = ['ep_coords'], axis = 1)\n",
    "        \n",
    "        output_file_name = 'start_points.gpkg'\n",
    "        ofpn = os.path.join(file_path, output_file_name)\n",
    "        #sp_gdf.to_file(filename = ofpn, driver = 'GPKG')\n",
    "        \n",
    "        output_file_name = 'end_points.gpkg'\n",
    "        ofpn = os.path.join(file_path, output_file_name)\n",
    "        #ep_gdf.to_file(filename = ofpn, driver = 'GPKG')            \n",
    "           \n",
    "        # start with all of the ids\n",
    "        \n",
    "        tot_node_order = [curr_node]\n",
    "        missing_segment_df_list = []\n",
    "        \n",
    "        # go end-start | end-start\n",
    "        step_count = 0\n",
    "        #print(step_count, curr_node)\n",
    "        while len(tot_node_order) < len(g):\n",
    "            # immediate successor on the known graph\n",
    "            curr_node = nx.dfs_successors(G = g, source = curr_node, depth_limit=1)[curr_node][0]\n",
    "            step_count += 1\n",
    "            #print(step_count, curr_node)\n",
    "            tot_node_order.append(curr_node)\n",
    "            \n",
    "            temp_dist_list = []\n",
    "            dfs = nx.dfs_successors(G = ag, source = curr_node, depth_limit=1)\n",
    "            for dest_node in dfs[curr_node]:\n",
    "                curr_dist = ag.get_edge_data(u = curr_node, v = dest_node)['dist']\n",
    "                if dest_node not in tot_node_order:\n",
    "                    # get coords as well\n",
    "                    source_coords = node_dict[curr_node]\n",
    "                    end_coords = node_dict[dest_node]\n",
    "                    line_string = LineString([source_coords, end_coords])\n",
    "                    temp_list = [curr_node, dest_node, curr_dist, line_string]\n",
    "                    temp_dist_list.append(temp_list)\n",
    "                \n",
    "            temp_df = pd.DataFrame(data = temp_dist_list, columns = ['source', 'dest', 'dist', 'geometry'])    \n",
    "            temp_df = temp_df.sort_values(by = 'dist')\n",
    "            \n",
    "            if temp_df.shape[0] > 0:\n",
    "                temp_df = temp_df.iloc[:1]\n",
    "                \n",
    "                missing_segment_df_list.append(temp_df)\n",
    "                curr_node = temp_df['dest'].iloc[0]\n",
    "                tot_node_order.append(curr_node)          \n",
    "                step_count += 1\n",
    "                #print(step_count, curr_node)\n",
    "                \n",
    "        \n",
    "        miss_seg_df = pd.concat(objs = missing_segment_df_list)\n",
    "        miss_seg_df['ord_stname'] = sn\n",
    "        \n",
    "        miss_seg_gdf = gpd.GeoDataFrame(data = miss_seg_df, \n",
    "                                        geometry = miss_seg_df['geometry'],\n",
    "                                        crs = 4326)\n",
    "        \n",
    "        output_gdf_list.append(miss_seg_gdf)\n",
    "\n",
    "if len(output_gdf_list) > 0:\n",
    "    miss_seg_gdf = pd.concat(output_gdf_list)\n",
    "    # write this out\n",
    "    if len(s_names) < 100:\n",
    "        output_file_name = 'temp_miss_seg.gpkg'\n",
    "    else:\n",
    "        output_file_name = 'miss_seg.gpkg'\n",
    "    ofpn = os.path.join(file_path, output_file_name)\n",
    "    miss_seg_gdf.to_file(filename = ofpn, driver = 'GPKG', index = False)\n",
    "    \n",
    "    # the exploded segements\n",
    "    if len(ex_gdf_list):\n",
    "        ex_gdf = pd.concat(ex_gdf_list)\n",
    "        print(ex_gdf.head())\n",
    "        # write this out\n",
    "        if len(s_names) < 100:\n",
    "            output_file_name = 'temp_exploded_street_segments.gpkg'\n",
    "        else:\n",
    "            output_file_name = 'exploded_street_segments.gpkg'        \n",
    "        ofpn = os.path.join(file_path, output_file_name)\n",
    "        ex_gdf.to_file(filename = ofpn, driver = 'GPKG', index = False)\n",
    "\n",
    "    # the exploded segements\n",
    "    if len(ex_ex_gdf_list):\n",
    "        ex_ex_gdf = pd.concat(ex_ex_gdf_list)\n",
    "        # write this out\n",
    "        if len(s_names) < 100:\n",
    "            output_file_name = 'temp_extra_exploded_street_segments.gpkg'\n",
    "        else:\n",
    "            output_file_name = 'extra_exploded_street_segments.gpkg'\n",
    "        ofpn = os.path.join(file_path, output_file_name)\n",
    "        ex_ex_gdf.to_file(filename = ofpn, driver = 'GPKG', index = False)"
   ]
  },
  {
   "cell_type": "code",
   "execution_count": null,
   "id": "61c7c6f8-31ba-4e18-9988-e35a8e9a6a0b",
   "metadata": {},
   "outputs": [],
   "source": []
  }
 ],
 "metadata": {
  "kernelspec": {
   "display_name": "Python 3 (ipykernel)",
   "language": "python",
   "name": "python3"
  },
  "language_info": {
   "codemirror_mode": {
    "name": "ipython",
    "version": 3
   },
   "file_extension": ".py",
   "mimetype": "text/x-python",
   "name": "python",
   "nbconvert_exporter": "python",
   "pygments_lexer": "ipython3",
   "version": "3.12.4"
  }
 },
 "nbformat": 4,
 "nbformat_minor": 5
}
