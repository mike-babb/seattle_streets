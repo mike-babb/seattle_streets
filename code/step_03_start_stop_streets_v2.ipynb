{
 "cells": [
  {
   "cell_type": "code",
   "execution_count": 1,
   "id": "fed9e25b-c5b9-4aee-89cd-15a7da3945c0",
   "metadata": {},
   "outputs": [],
   "source": [
    "# mike babb\n",
    "# 2024 06 28\n",
    "# what streets start and stop?"
   ]
  },
  {
   "cell_type": "code",
   "execution_count": 2,
   "id": "e88ca8b2-b75d-4e72-8fc7-65c4cea61cde",
   "metadata": {},
   "outputs": [],
   "source": [
    "# standard\n",
    "import os"
   ]
  },
  {
   "cell_type": "code",
   "execution_count": 3,
   "id": "0778d9a5-0c62-4724-be28-c21598d23b6f",
   "metadata": {},
   "outputs": [],
   "source": [
    "# external\n",
    "from itertools import combinations, product\n",
    "import geopandas as gpd\n",
    "from matplotlib.patches import Rectangle\n",
    "import matplotlib.pyplot as plt\n",
    "import networkx as nx\n",
    "import numpy as np\n",
    "import pandas as pd\n",
    "import seaborn as sns\n",
    "from shapely.geometry import LineString, Point\n",
    "from shapely import line_merge"
   ]
  },
  {
   "cell_type": "code",
   "execution_count": 4,
   "id": "2fc61400-c637-4828-820d-56c2cdd14942",
   "metadata": {},
   "outputs": [],
   "source": [
    "# custom\n",
    "from geodataio.geo_operations import points2distance, calculate_initial_compass_bearing\n",
    "from utils import *"
   ]
  },
  {
   "cell_type": "markdown",
   "id": "d56ea77e-ffd7-4326-b793-415f8a131ef2",
   "metadata": {},
   "source": [
    "# load the street network"
   ]
  },
  {
   "cell_type": "code",
   "execution_count": 5,
   "id": "d07cfb9b-9184-48d7-af77-035e2390d9e5",
   "metadata": {},
   "outputs": [],
   "source": [
    "# file path\n",
    "input_file_path = 'H:/project/seattle_streets/data/' \n",
    "output_file_path = 'H:/project/seattle_streets/data/individual_streets'"
   ]
  },
  {
   "cell_type": "code",
   "execution_count": 6,
   "id": "3c1039f5-a281-4460-b65d-98a6ca2556b7",
   "metadata": {},
   "outputs": [],
   "source": [
    "file_name = 'Street_Network_Database_Seattle_working.gpkg'"
   ]
  },
  {
   "cell_type": "code",
   "execution_count": 7,
   "id": "ddf62724-9105-44c9-b983-e4f520328fa9",
   "metadata": {},
   "outputs": [],
   "source": [
    "fpn = os.path.join(input_file_path, file_name)"
   ]
  },
  {
   "cell_type": "code",
   "execution_count": 8,
   "id": "2cbdb5c1-c973-4882-b442-cf5396e90d3e",
   "metadata": {},
   "outputs": [],
   "source": [
    "gdf = gpd.read_file(filename = fpn)"
   ]
  },
  {
   "cell_type": "code",
   "execution_count": 9,
   "id": "ce02bdf0-a0ca-46a5-bf8f-54b576ee2de7",
   "metadata": {},
   "outputs": [
    {
     "data": {
      "text/plain": [
       "Index(['f_intr_id', 't_intr_id', 'snd_id', 'snd_feacode', 'citycode',\n",
       "       'stname_id', 'st_code', 'arterial_code', 'segment_type', 'agency_code',\n",
       "       'access_code', 'divided_code', 'structure_type', 'legalloc_code',\n",
       "       'vehicle_use_code', 'gis_seg_length', 'l_adrs_from', 'l_adrs_to',\n",
       "       'r_adrs_from', 'r_adrs_to', 'ord_pre_dir', 'ord_street_name',\n",
       "       'ord_street_type', 'ord_suf_dir', 'ord_stname_concat', 'l_city',\n",
       "       'l_state', 'l_zip', 'r_city', 'r_state', 'r_zip', 'sndseg_update',\n",
       "       'compkey', 'comptype', 'unitid', 'unitid2', 'city_portion',\n",
       "       'ord_st_type', 'snd_group', 'geometry'],\n",
       "      dtype='object')"
      ]
     },
     "execution_count": 9,
     "metadata": {},
     "output_type": "execute_result"
    }
   ],
   "source": [
    "gdf.columns"
   ]
  },
  {
   "cell_type": "markdown",
   "id": "7ee171e0-b275-4f73-9ec5-e8a2a718d55d",
   "metadata": {},
   "source": [
    "# load the node data"
   ]
  },
  {
   "cell_type": "code",
   "execution_count": 10,
   "id": "a99446f1-9603-4f7f-80e2-a2d8a10f8aa6",
   "metadata": {},
   "outputs": [],
   "source": [
    "input_file_name = 'Street_Network_Nodes.gpkg'"
   ]
  },
  {
   "cell_type": "code",
   "execution_count": 11,
   "id": "81e88fff-cc66-47fd-bc60-fb253a9f110f",
   "metadata": {},
   "outputs": [],
   "source": [
    "fpn = os.path.join(input_file_path, input_file_name)"
   ]
  },
  {
   "cell_type": "code",
   "execution_count": 12,
   "id": "e67fed54-4d3b-45ca-8a41-2f9e7103a699",
   "metadata": {},
   "outputs": [],
   "source": [
    "node_gdf = gpd.read_file(filename = fpn)"
   ]
  },
  {
   "cell_type": "code",
   "execution_count": 13,
   "id": "26bac731-425e-409f-bb41-c3a5d1a6bf2b",
   "metadata": {},
   "outputs": [
    {
     "data": {
      "text/html": [
       "<div>\n",
       "<style scoped>\n",
       "    .dataframe tbody tr th:only-of-type {\n",
       "        vertical-align: middle;\n",
       "    }\n",
       "\n",
       "    .dataframe tbody tr th {\n",
       "        vertical-align: top;\n",
       "    }\n",
       "\n",
       "    .dataframe thead th {\n",
       "        text-align: right;\n",
       "    }\n",
       "</style>\n",
       "<table border=\"1\" class=\"dataframe\">\n",
       "  <thead>\n",
       "    <tr style=\"text-align: right;\">\n",
       "      <th></th>\n",
       "      <th>node_id</th>\n",
       "      <th>geometry</th>\n",
       "    </tr>\n",
       "  </thead>\n",
       "  <tbody>\n",
       "    <tr>\n",
       "      <th>0</th>\n",
       "      <td>17740</td>\n",
       "      <td>POINT (-122.32287 47.52982)</td>\n",
       "    </tr>\n",
       "    <tr>\n",
       "      <th>1</th>\n",
       "      <td>11391</td>\n",
       "      <td>POINT (-122.32402 47.61849)</td>\n",
       "    </tr>\n",
       "    <tr>\n",
       "      <th>2</th>\n",
       "      <td>982</td>\n",
       "      <td>POINT (-122.29193 47.7649)</td>\n",
       "    </tr>\n",
       "    <tr>\n",
       "      <th>3</th>\n",
       "      <td>11695</td>\n",
       "      <td>POINT (-122.30782 47.61411)</td>\n",
       "    </tr>\n",
       "    <tr>\n",
       "      <th>4</th>\n",
       "      <td>6257</td>\n",
       "      <td>POINT (-122.38214 47.67456)</td>\n",
       "    </tr>\n",
       "  </tbody>\n",
       "</table>\n",
       "</div>"
      ],
      "text/plain": [
       "   node_id                     geometry\n",
       "0    17740  POINT (-122.32287 47.52982)\n",
       "1    11391  POINT (-122.32402 47.61849)\n",
       "2      982   POINT (-122.29193 47.7649)\n",
       "3    11695  POINT (-122.30782 47.61411)\n",
       "4     6257  POINT (-122.38214 47.67456)"
      ]
     },
     "execution_count": 13,
     "metadata": {},
     "output_type": "execute_result"
    }
   ],
   "source": [
    "node_gdf.head()"
   ]
  },
  {
   "cell_type": "code",
   "execution_count": 14,
   "id": "65c710c8-40db-4bc0-af3a-78c6c64e495b",
   "metadata": {},
   "outputs": [],
   "source": [
    "node_gdf['coords'] = node_gdf['geometry'].map(lambda x: x.coords[0])"
   ]
  },
  {
   "cell_type": "code",
   "execution_count": 15,
   "id": "ac7dff3c-6d52-4b80-b259-2214ef6c131a",
   "metadata": {},
   "outputs": [
    {
     "data": {
      "text/html": [
       "<div>\n",
       "<style scoped>\n",
       "    .dataframe tbody tr th:only-of-type {\n",
       "        vertical-align: middle;\n",
       "    }\n",
       "\n",
       "    .dataframe tbody tr th {\n",
       "        vertical-align: top;\n",
       "    }\n",
       "\n",
       "    .dataframe thead th {\n",
       "        text-align: right;\n",
       "    }\n",
       "</style>\n",
       "<table border=\"1\" class=\"dataframe\">\n",
       "  <thead>\n",
       "    <tr style=\"text-align: right;\">\n",
       "      <th></th>\n",
       "      <th>node_id</th>\n",
       "      <th>geometry</th>\n",
       "      <th>coords</th>\n",
       "    </tr>\n",
       "  </thead>\n",
       "  <tbody>\n",
       "    <tr>\n",
       "      <th>0</th>\n",
       "      <td>17740</td>\n",
       "      <td>POINT (-122.32287 47.52982)</td>\n",
       "      <td>(-122.32287444824671, 47.529819957875)</td>\n",
       "    </tr>\n",
       "    <tr>\n",
       "      <th>1</th>\n",
       "      <td>11391</td>\n",
       "      <td>POINT (-122.32402 47.61849)</td>\n",
       "      <td>(-122.32401964037119, 47.61848906651073)</td>\n",
       "    </tr>\n",
       "    <tr>\n",
       "      <th>2</th>\n",
       "      <td>982</td>\n",
       "      <td>POINT (-122.29193 47.7649)</td>\n",
       "      <td>(-122.29192836110747, 47.764904310419276)</td>\n",
       "    </tr>\n",
       "    <tr>\n",
       "      <th>3</th>\n",
       "      <td>11695</td>\n",
       "      <td>POINT (-122.30782 47.61411)</td>\n",
       "      <td>(-122.30781531879083, 47.61410595110372)</td>\n",
       "    </tr>\n",
       "    <tr>\n",
       "      <th>4</th>\n",
       "      <td>6257</td>\n",
       "      <td>POINT (-122.38214 47.67456)</td>\n",
       "      <td>(-122.38214200036303, 47.67455801597557)</td>\n",
       "    </tr>\n",
       "  </tbody>\n",
       "</table>\n",
       "</div>"
      ],
      "text/plain": [
       "   node_id                     geometry  \\\n",
       "0    17740  POINT (-122.32287 47.52982)   \n",
       "1    11391  POINT (-122.32402 47.61849)   \n",
       "2      982   POINT (-122.29193 47.7649)   \n",
       "3    11695  POINT (-122.30782 47.61411)   \n",
       "4     6257  POINT (-122.38214 47.67456)   \n",
       "\n",
       "                                      coords  \n",
       "0     (-122.32287444824671, 47.529819957875)  \n",
       "1   (-122.32401964037119, 47.61848906651073)  \n",
       "2  (-122.29192836110747, 47.764904310419276)  \n",
       "3   (-122.30781531879083, 47.61410595110372)  \n",
       "4   (-122.38214200036303, 47.67455801597557)  "
      ]
     },
     "execution_count": 15,
     "metadata": {},
     "output_type": "execute_result"
    }
   ],
   "source": [
    "node_gdf.head()"
   ]
  },
  {
   "cell_type": "code",
   "execution_count": 16,
   "id": "d26b04eb-ebbf-4b3c-a2a2-f7e5604a695a",
   "metadata": {},
   "outputs": [],
   "source": [
    "# zap this into a dictionary\n",
    "node_dict = {}\n",
    "for i, row in node_gdf.iterrows():\n",
    "    node_dict[row['node_id']] = row['coords']"
   ]
  },
  {
   "cell_type": "markdown",
   "id": "3c242868-8a5d-4040-a480-e8c3258a1924",
   "metadata": {},
   "source": [
    "# COUNT UNIQUE STREET GROUPS"
   ]
  },
  {
   "cell_type": "code",
   "execution_count": 17,
   "id": "96d082b7-9fe3-44ca-8a9e-70dd41679c8e",
   "metadata": {},
   "outputs": [],
   "source": [
    "col_names = ['ord_stname_concat', 'ord_st_type', 'snd_group']\n",
    "\n",
    "gdf_agg = gdf[col_names].drop_duplicates().groupby(col_names[:-1]).agg( snd_group_count = ('snd_group', 'size')).reset_index()"
   ]
  },
  {
   "cell_type": "code",
   "execution_count": 18,
   "id": "440e1e58-3e27-45db-86c4-70a06bcfa727",
   "metadata": {},
   "outputs": [
    {
     "data": {
      "text/plain": [
       "(2551, 3)"
      ]
     },
     "execution_count": 18,
     "metadata": {},
     "output_type": "execute_result"
    }
   ],
   "source": [
    "gdf_agg.shape"
   ]
  },
  {
   "cell_type": "code",
   "execution_count": 19,
   "id": "9d04b372-fb99-4246-8755-99e75bba0f5a",
   "metadata": {},
   "outputs": [
    {
     "data": {
      "text/html": [
       "<div>\n",
       "<style scoped>\n",
       "    .dataframe tbody tr th:only-of-type {\n",
       "        vertical-align: middle;\n",
       "    }\n",
       "\n",
       "    .dataframe tbody tr th {\n",
       "        vertical-align: top;\n",
       "    }\n",
       "\n",
       "    .dataframe thead th {\n",
       "        text-align: right;\n",
       "    }\n",
       "</style>\n",
       "<table border=\"1\" class=\"dataframe\">\n",
       "  <thead>\n",
       "    <tr style=\"text-align: right;\">\n",
       "      <th></th>\n",
       "      <th>ord_stname_concat</th>\n",
       "      <th>ord_st_type</th>\n",
       "      <th>snd_group_count</th>\n",
       "    </tr>\n",
       "  </thead>\n",
       "  <tbody>\n",
       "    <tr>\n",
       "      <th>0</th>\n",
       "      <td>10TH AVE</td>\n",
       "      <td>AVE</td>\n",
       "      <td>4</td>\n",
       "    </tr>\n",
       "    <tr>\n",
       "      <th>1</th>\n",
       "      <td>10TH AVE E</td>\n",
       "      <td>AVE</td>\n",
       "      <td>4</td>\n",
       "    </tr>\n",
       "    <tr>\n",
       "      <th>2</th>\n",
       "      <td>10TH AVE NE</td>\n",
       "      <td>AVE</td>\n",
       "      <td>1</td>\n",
       "    </tr>\n",
       "    <tr>\n",
       "      <th>3</th>\n",
       "      <td>10TH AVE NW</td>\n",
       "      <td>AVE</td>\n",
       "      <td>5</td>\n",
       "    </tr>\n",
       "    <tr>\n",
       "      <th>4</th>\n",
       "      <td>10TH AVE S</td>\n",
       "      <td>AVE</td>\n",
       "      <td>8</td>\n",
       "    </tr>\n",
       "  </tbody>\n",
       "</table>\n",
       "</div>"
      ],
      "text/plain": [
       "  ord_stname_concat ord_st_type  snd_group_count\n",
       "0          10TH AVE         AVE                4\n",
       "1        10TH AVE E         AVE                4\n",
       "2       10TH AVE NE         AVE                1\n",
       "3       10TH AVE NW         AVE                5\n",
       "4        10TH AVE S         AVE                8"
      ]
     },
     "execution_count": 19,
     "metadata": {},
     "output_type": "execute_result"
    }
   ],
   "source": [
    "gdf_agg.head()"
   ]
  },
  {
   "cell_type": "code",
   "execution_count": 20,
   "id": "a1cc08cc-1479-467b-b440-08cadf4faf7d",
   "metadata": {},
   "outputs": [
    {
     "data": {
      "text/plain": [
       "count    2551.000000\n",
       "mean        2.444924\n",
       "std         2.358133\n",
       "min         1.000000\n",
       "25%         1.000000\n",
       "50%         1.000000\n",
       "75%         3.000000\n",
       "max        15.000000\n",
       "Name: snd_group_count, dtype: float64"
      ]
     },
     "execution_count": 20,
     "metadata": {},
     "output_type": "execute_result"
    }
   ],
   "source": [
    "gdf_agg['snd_group_count'].describe()"
   ]
  },
  {
   "cell_type": "code",
   "execution_count": 21,
   "id": "a2b8ea0a-18cd-456b-b50b-354026c19f53",
   "metadata": {},
   "outputs": [
    {
     "data": {
      "text/plain": [
       "1159"
      ]
     },
     "execution_count": 21,
     "metadata": {},
     "output_type": "execute_result"
    }
   ],
   "source": [
    "# number of streets with at least two segments\n",
    "split_streets = gdf_agg.loc[gdf_agg['snd_group_count'] > 1, :].shape[0]\n",
    "split_streets"
   ]
  },
  {
   "cell_type": "code",
   "execution_count": 22,
   "id": "8a896485-8dc8-462f-b8bf-073659c28937",
   "metadata": {},
   "outputs": [
    {
     "data": {
      "text/plain": [
       "0.45433163465307724"
      ]
     },
     "execution_count": 22,
     "metadata": {},
     "output_type": "execute_result"
    }
   ],
   "source": [
    "# percent\n",
    "split_streets / gdf_agg.shape[0]"
   ]
  },
  {
   "cell_type": "code",
   "execution_count": 23,
   "id": "0e968649-6cfa-443e-9fb8-307e793c5db9",
   "metadata": {},
   "outputs": [
    {
     "data": {
      "text/plain": [
       "1392"
      ]
     },
     "execution_count": 23,
     "metadata": {},
     "output_type": "execute_result"
    }
   ],
   "source": [
    "complete_streets = gdf_agg.loc[gdf_agg['snd_group_count'] == 1, :].shape[0]\n",
    "complete_streets"
   ]
  },
  {
   "cell_type": "code",
   "execution_count": 24,
   "id": "de5778a7-3b51-44e6-b3df-9126b493286c",
   "metadata": {},
   "outputs": [
    {
     "data": {
      "text/plain": [
       "0.5456683653469228"
      ]
     },
     "execution_count": 24,
     "metadata": {},
     "output_type": "execute_result"
    }
   ],
   "source": [
    "# percent\n",
    "complete_streets / gdf_agg.shape[0]"
   ]
  },
  {
   "cell_type": "code",
   "execution_count": 25,
   "id": "76246864-2c4c-4448-b94b-3ef6c1abbf3d",
   "metadata": {},
   "outputs": [],
   "source": [
    "# 55 percent of streets are single segment\n",
    "# 45 percent of streets are multi-segments.\n",
    "# TODO: figure out how much of this is road miles."
   ]
  },
  {
   "cell_type": "code",
   "execution_count": 26,
   "id": "c86aedfa-cd45-46ab-969f-6daf7d85b4dc",
   "metadata": {},
   "outputs": [],
   "source": [
    "# IDENTIFY THE STREET SUFFIX TYPE - IF NOT ALREADY DONE."
   ]
  },
  {
   "cell_type": "code",
   "execution_count": 27,
   "id": "caf1dc05-46f8-45e9-962d-5f4e8367dc0a",
   "metadata": {},
   "outputs": [
    {
     "data": {
      "text/plain": [
       "Index(['f_intr_id', 't_intr_id', 'snd_id', 'snd_feacode', 'citycode',\n",
       "       'stname_id', 'st_code', 'arterial_code', 'segment_type', 'agency_code',\n",
       "       'access_code', 'divided_code', 'structure_type', 'legalloc_code',\n",
       "       'vehicle_use_code', 'gis_seg_length', 'l_adrs_from', 'l_adrs_to',\n",
       "       'r_adrs_from', 'r_adrs_to', 'ord_pre_dir', 'ord_street_name',\n",
       "       'ord_street_type', 'ord_suf_dir', 'ord_stname_concat', 'l_city',\n",
       "       'l_state', 'l_zip', 'r_city', 'r_state', 'r_zip', 'sndseg_update',\n",
       "       'compkey', 'comptype', 'unitid', 'unitid2', 'city_portion',\n",
       "       'ord_st_type', 'snd_group', 'geometry'],\n",
       "      dtype='object')"
      ]
     },
     "execution_count": 27,
     "metadata": {},
     "output_type": "execute_result"
    }
   ],
   "source": [
    "gdf.columns"
   ]
  },
  {
   "cell_type": "code",
   "execution_count": 28,
   "id": "0b9f608d-b738-4908-90e3-c0f601518553",
   "metadata": {},
   "outputs": [
    {
     "data": {
      "text/plain": [
       "array([False])"
      ]
     },
     "execution_count": 28,
     "metadata": {},
     "output_type": "execute_result"
    }
   ],
   "source": [
    "gdf['ord_st_type'].isna().unique()"
   ]
  },
  {
   "cell_type": "markdown",
   "id": "e3cc818f-24c9-4a7d-8f33-e516cde7dd55",
   "metadata": {},
   "source": [
    "# FIND MISSING SEGMENTS"
   ]
  },
  {
   "cell_type": "code",
   "execution_count": 29,
   "id": "f66e8c67-7363-44b2-a812-f7c38d5619b2",
   "metadata": {},
   "outputs": [],
   "source": [
    "# create a weight variable from the gis_segment_length variable\n",
    "gdf['weight'] = gdf['gis_seg_length']"
   ]
  },
  {
   "cell_type": "code",
   "execution_count": 30,
   "id": "895ebf40-4b11-4ca4-890e-5b5a5a867023",
   "metadata": {},
   "outputs": [
    {
     "data": {
      "text/plain": [
       "Index(['f_intr_id', 't_intr_id', 'snd_id', 'snd_feacode', 'citycode',\n",
       "       'stname_id', 'st_code', 'arterial_code', 'segment_type', 'agency_code',\n",
       "       'access_code', 'divided_code', 'structure_type', 'legalloc_code',\n",
       "       'vehicle_use_code', 'gis_seg_length', 'l_adrs_from', 'l_adrs_to',\n",
       "       'r_adrs_from', 'r_adrs_to', 'ord_pre_dir', 'ord_street_name',\n",
       "       'ord_street_type', 'ord_suf_dir', 'ord_stname_concat', 'l_city',\n",
       "       'l_state', 'l_zip', 'r_city', 'r_state', 'r_zip', 'sndseg_update',\n",
       "       'compkey', 'comptype', 'unitid', 'unitid2', 'city_portion',\n",
       "       'ord_st_type', 'snd_group', 'geometry', 'weight'],\n",
       "      dtype='object')"
      ]
     },
     "execution_count": 30,
     "metadata": {},
     "output_type": "execute_result"
    }
   ],
   "source": [
    "gdf.columns"
   ]
  },
  {
   "cell_type": "code",
   "execution_count": 31,
   "id": "c4fd3741-90de-47be-8f70-95b5dec11555",
   "metadata": {},
   "outputs": [],
   "source": [
    "# the get the list of unique names\n",
    "s_name = gdf_agg['ord_stname_concat'].unique().tolist()"
   ]
  },
  {
   "cell_type": "code",
   "execution_count": 32,
   "id": "60e80096-168c-46a2-8615-dc66c72c28b2",
   "metadata": {},
   "outputs": [],
   "source": [
    "# let's create another dictionary with the st name and the street type;"
   ]
  },
  {
   "cell_type": "code",
   "execution_count": 33,
   "id": "3238f20f-1f75-49ce-8141-b68ad16d9de0",
   "metadata": {},
   "outputs": [],
   "source": [
    "st_name_type_dict = {st_name:st_type for st_name, st_type in zip(gdf_agg['ord_stname_concat'], gdf_agg['ord_st_type'])}"
   ]
  },
  {
   "cell_type": "code",
   "execution_count": 34,
   "id": "97b4cd20-0d2c-4807-b854-fe7b69e15461",
   "metadata": {},
   "outputs": [
    {
     "data": {
      "text/plain": [
       "array(['AVE', 'PL', 'RD', 'BR', 'CT', 'WKWY', 'RN', 'LN', 'TER', 'ST',\n",
       "       'CIR', 'WAY', 'AL', 'RR', 'DR', 'BLVD', 'STCR', 'IS', 'PKWY',\n",
       "       'MALL', 'PZ', 'FLYOVER', 'SR', 'VIEW', 'LOOP'], dtype=object)"
      ]
     },
     "execution_count": 34,
     "metadata": {},
     "output_type": "execute_result"
    }
   ],
   "source": [
    "gdf_agg['ord_st_type'].unique()"
   ]
  },
  {
   "cell_type": "code",
   "execution_count": null,
   "id": "e5fab916-d87a-4d24-b079-7ac593c4bfc7",
   "metadata": {
    "scrolled": true
   },
   "outputs": [],
   "source": [
    "write_intermediate = False\n",
    "did_it_work = False\n",
    "output_gdf_list = []\n",
    "\n",
    "\n",
    "for sn in s_name[:None]:\n",
    "    print(sn)\n",
    "    # subset the gdf by streetname\n",
    "    temp_gdf = gdf.loc[gdf['ord_stname_concat'] == sn, :].copy()\n",
    "\n",
    "    if write_intermediate:\n",
    "        output_file_name = '_'.join(sn.split()) + '.gpkg'\n",
    "        write_gdf(gdf = temp_gdf, output_file_path = output_file_path, output_file_name = output_file_name)\n",
    "\n",
    "    # create the graph for a single street network\n",
    "    fg = nx.from_pandas_edgelist(df = temp_gdf, source = 'f_intr_id', target = 't_intr_id', edge_attr=True)\n",
    "    node_list = list(fg.nodes)\n",
    "\n",
    "    # a list of the snd groups - this is necessary to \n",
    "    # match street segments to nodes\n",
    "    snd_group_id_list = temp_gdf['snd_group'].unique()\n",
    "    \n",
    "    # full nodes - all nodes in the line segments.\n",
    "    if write_intermediate:\n",
    "        curr_node_df = pd.DataFrame(data = {'node_id':fg.nodes()})\n",
    "        curr_node_list = curr_node_df['node_id'].tolist()\n",
    "        node_subset_gdf = subset_node_gdf(node_gdf = node_gdf, other_node_df = curr_node_df)\n",
    "        output_file_name = 'full_nodes_' + '_'.join(sn.split()) + '.gpkg'\n",
    "        write_gdf(gdf = node_subset_gdf, output_file_path = output_file_path, output_file_name = output_file_name)\n",
    "\n",
    "    \n",
    "    # for now, only the streets with two or more segments\n",
    "    if len(snd_group_id_list) > 1:\n",
    "        node_snd_group_dict = {}\n",
    "        # a node - an intersection - can have one more streets.\n",
    "        # we need to update the node snd group dict every time\n",
    "        for myrow in temp_gdf.itertuples():       \n",
    "            fn = myrow.f_intr_id\n",
    "            tn = myrow.t_intr_id\n",
    "            snd_group_id = myrow.snd_group\n",
    "            node_snd_group_dict[fn] = snd_group_id\n",
    "            node_snd_group_dict[tn] = snd_group_id                                             \n",
    "        \n",
    "        # step create a list of available edges - these are the missing segments\n",
    "        # these are formed from the non-edges of the graph.\n",
    "        # list to hold available edges\n",
    "        avail_edges = []\n",
    "        # dictionary to hold available edges\n",
    "        # let's only make the distance calculation once, yeah?\n",
    "        # it's a simple calculate, but even more simple to store it. \n",
    "        node_dist_dict = {}\n",
    "        for ne in nx.non_edges(fg):    \n",
    "            # ne is a tuple of from / to nodes.\n",
    "            # create available edges if the nodes are not on the same segment\n",
    "            # this will decrease the potential solution space\n",
    "            if node_snd_group_dict[ne[0]] != node_snd_group_dict[ne[1]]:\n",
    "                # calculate the straight-line distance between two nodes. \n",
    "                # convert to feet to match the existing weight\n",
    "                weight = points2distance(node_dict[ne[0]], node_dict[ne[1]], unit = 'miles') * 5280\n",
    "                # build the output tuple\n",
    "                output = (ne[0], ne[1], {'weight':weight})\n",
    "                # add \n",
    "                node_dist_dict[(ne[0], ne[1])] = weight \n",
    "                node_dist_dict[(ne[1], ne[0])] = weight \n",
    "                avail_edges.append(output)\n",
    "\n",
    "        # these are missing segments.\n",
    "        # nx.k_edge_augmentation creates the missing edges in a graph by adding as\n",
    "        # few edges as possible. In a street network, with multiple disconnected\n",
    "        # components, there is really one way to minimally connect the disparate components\n",
    "        # to create full connectivity. And it's the shortest geographic segment in this case!\n",
    "        # weighted graph traversal works by accumulating as little weight as possible. \n",
    "        \n",
    "        data_list = []\n",
    "        line_list = []\n",
    "        # once nx.k_edge_augmentation finishes, it returns a generator with the added edges that\n",
    "        # ensure complete connectivity.\n",
    "        augmented_edges = nx.k_edge_augmentation(G = fg, k = 1, avail = avail_edges, weight = 'weight')    \n",
    "        # so, get at the generator\n",
    "        for i_ae, ae in enumerate(augmented_edges):\n",
    "            # unpack\n",
    "            fn, tn = ae            \n",
    "            # get the weight of the added edge\n",
    "            weight = node_dist_dict[(fn, tn)] \n",
    "            # this is information about the created str strype\n",
    "            st_type = st_name_type_dict[sn]\n",
    "            temp_data_list = [sn, st_type,  i_ae, fn, tn, weight]\n",
    "            # now, let's create some geometry\n",
    "            temp_line = LineString([node_dict[fn], node_dict[tn]])\n",
    "            line_list.append(temp_line)\n",
    "            data_list.append(temp_data_list)\n",
    "\n",
    "        # build a gpd.GeoDataFrame - these are the \"missing\" segments\"\n",
    "        ms_gdf = gpd.GeoDataFrame(data = data_list,\n",
    "                                         columns = ['ord_stname_concat', 'ord_st_type', 'snd_group', 'sn_id', 'en_id', 'dist'],\n",
    "                                         geometry = line_list, crs = 'epsg:4326')\n",
    "        ms_gdf['same_snd_group'] = int(0)\n",
    "\n",
    "        # now, we need to get the known segments\n",
    "        col_names = ['ord_stname_concat', 'ord_st_type', 'snd_group',  'f_intr_id', 't_intr_id', 'gis_seg_length', 'geometry']    \n",
    "        ks_gdf = temp_gdf[col_names].copy()\n",
    "        ks_gdf['same_snd_group'] = int(1)\n",
    "        ks_gdf = ks_gdf.rename(columns = {'f_intr_id':'sn_id', 't_intr_id':'en_id', 'gis_seg_length':'dist'})\n",
    "\n",
    "        # stack the geodataframes\n",
    "        output_gdf = pd.concat([ms_gdf, ks_gdf])\n",
    "    \n",
    "        # write intermediate\n",
    "        if write_intermediate:\n",
    "            output_file_name = 'missing_segments_' + '_'.join(sn.split()) + '.gpkg'\n",
    "            ofpn = os.path.join(output_file_path, output_file_name)                \n",
    "            output_gdf.to_file(filename = ofpn, driver = 'GPKG', index = False)\n",
    "       \n",
    "\n",
    "    else:\n",
    "        # gather the streets with no missing segments. Solid segments        \n",
    "        col_names = ['ord_stname_concat', 'ord_st_type', 'snd_group', 'f_intr_id', 't_intr_id', 'gis_seg_length', 'geometry']    \n",
    "        output_gdf = temp_gdf[col_names].copy()\n",
    "        output_gdf['same_snd_group'] = int(-1)\n",
    "        output_gdf = output_gdf.rename(columns = {'f_intr_id':'sn_id', 't_intr_id':'en_id', 'gis_seg_length':'dist'})\n",
    "        \n",
    "    output_gdf_list.append(output_gdf)\n",
    "        \n",
    "did_it_work = True"
   ]
  },
  {
   "cell_type": "code",
   "execution_count": null,
   "id": "7b7caa23-d226-459d-b3cd-f9a9fc2afe80",
   "metadata": {},
   "outputs": [],
   "source": [
    "ms_gdf = pd.concat(objs = output_gdf_list)"
   ]
  },
  {
   "cell_type": "code",
   "execution_count": null,
   "id": "af5006c3-9ebc-413a-819f-80391b38cedf",
   "metadata": {},
   "outputs": [],
   "source": [
    "ms_gdf['dist_miles'] = ms_gdf['dist'] / 5280\n",
    "\n",
    "output_file_path = 'H:/project/seattle_streets/data'\n",
    "output_file_name = 'missing_segments.gpkg'\n",
    "ofpn = os.path.join(output_file_path, output_file_name)    \n",
    "\n",
    "ms_gdf.to_file(filename = ofpn, driver = 'GPKG', index = False)\n",
    "\n",
    "did_it_work"
   ]
  },
  {
   "cell_type": "code",
   "execution_count": null,
   "id": "320330be-17bf-425c-a7cb-e3434233cdbc",
   "metadata": {},
   "outputs": [],
   "source": [
    "ms_gdf.shape"
   ]
  },
  {
   "cell_type": "code",
   "execution_count": null,
   "id": "32eafaa6-40b6-40de-9b57-eb61eddad7f1",
   "metadata": {},
   "outputs": [],
   "source": [
    "ms_gdf.head()"
   ]
  },
  {
   "cell_type": "code",
   "execution_count": null,
   "id": "ea191607-106f-43fb-826f-b750b477b64e",
   "metadata": {},
   "outputs": [],
   "source": [
    "# group by and descibe\n",
    "wms_gdf = ms_gdf.loc[ms_gdf['same_snd_group'] == 0, :].copy()"
   ]
  },
  {
   "cell_type": "code",
   "execution_count": null,
   "id": "58bd641d-70bd-4f49-a726-f09336d626b9",
   "metadata": {},
   "outputs": [],
   "source": [
    "wms_gdf.groupby('ord_st_type')['dist_miles'].describe()"
   ]
  },
  {
   "cell_type": "code",
   "execution_count": null,
   "id": "43032c7b-8f87-4c8e-bcf7-4a0213b993f4",
   "metadata": {},
   "outputs": [],
   "source": [
    "# LET'S MAKE A GRAPHIC SHOWING THE DISTRIBUTION OF ADDED STREETS"
   ]
  },
  {
   "cell_type": "code",
   "execution_count": null,
   "id": "ec290a6e-8edc-4613-bffd-322a12ff1c18",
   "metadata": {},
   "outputs": [],
   "source": [
    "# find the longest\n",
    "ms_gdf['same_snd_group'].value_counts()"
   ]
  },
  {
   "cell_type": "code",
   "execution_count": null,
   "id": "c8d0f521-1c09-4119-895b-69e93c25fd44",
   "metadata": {},
   "outputs": [],
   "source": [
    "gdf['ord_stname_concat'].unique().shape"
   ]
  },
  {
   "cell_type": "markdown",
   "id": "39645fe5-d0ea-4848-a79a-19603648b951",
   "metadata": {},
   "source": [
    "# LONGEST MISSING STREETS"
   ]
  },
  {
   "cell_type": "code",
   "execution_count": null,
   "id": "08f13bc4-7ef7-42a4-8631-c74923c43b7b",
   "metadata": {},
   "outputs": [],
   "source": [
    "wms_gdf['dist_rank'] = wms_gdf['dist'].rank(method = 'dense', ascending = False)"
   ]
  },
  {
   "cell_type": "code",
   "execution_count": null,
   "id": "318bb352-980b-4633-9223-c96ee4cd0bfe",
   "metadata": {},
   "outputs": [],
   "source": [
    "wms_gdf.loc[wms_gdf['dist_rank'] <= 10, 'ord_stname_concat'].tolist()"
   ]
  },
  {
   "cell_type": "code",
   "execution_count": null,
   "id": "77d75dd2-492d-4dbe-ac73-7d0b2c67bc73",
   "metadata": {},
   "outputs": [],
   "source": [
    "wms_gdf['dist_miles_log'] = np.log10(wms_gdf['dist_miles'])"
   ]
  },
  {
   "cell_type": "code",
   "execution_count": null,
   "id": "2bdf45d3-a2b4-4fd3-a9a9-1f2f6464f58b",
   "metadata": {},
   "outputs": [],
   "source": [
    "wms_gdf['dist_miles_log'].describe()"
   ]
  },
  {
   "cell_type": "code",
   "execution_count": null,
   "id": "2a4c423a-57dd-4057-ba1e-93b320ffa9fc",
   "metadata": {},
   "outputs": [],
   "source": [
    "my_start_list = [100, 250, 500]\n",
    "\n",
    "for ii in range(1, 5):\n",
    "    my_calc = int((5280 * (ii / 4)))    \n",
    "    my_start_list.append(my_calc)    \n",
    "\n",
    "my_start_list\n",
    "\n",
    "for ii in range(1, 2):\n",
    "    for jj in range(0, 5):\n",
    "        my_calc = int((5280 * (ii / 1)) + (5280 * jj))        \n",
    "        my_start_list.append(my_calc)    \n",
    "\n",
    "x_tick_list = [x for x in my_start_list]"
   ]
  },
  {
   "cell_type": "code",
   "execution_count": null,
   "id": "8fd48c94-adea-4d5d-a155-c301f0110b33",
   "metadata": {},
   "outputs": [],
   "source": [
    "x_tick_list"
   ]
  },
  {
   "cell_type": "code",
   "execution_count": null,
   "id": "ae4c5536-b909-461f-ab60-742848295312",
   "metadata": {},
   "outputs": [],
   "source": [
    "# let's make a graphic showing the distances\n",
    "sns.set_theme(style = \"whitegrid\")\n",
    "f, ax = plt.subplots(figsize = (20, 5))\n",
    "\n",
    "my_plot = sns.histplot(data = wms_gdf, x = 'dist_miles_log',\n",
    "                      color='darkgreen', bins = 100)\n",
    "\n",
    "y_ticks = list(range(0, 176, 25))\n",
    "y_tick_labels_formatted = ['{:,}'.format(ytl) for ytl in y_ticks]   \n",
    "\n",
    "my_plot.set_yticks(ticks = y_ticks)\n",
    "my_plot.set_yticklabels(labels = y_tick_labels_formatted, rotation=0)\n",
    "\n",
    "plt.title(label = \"Histogram of missing segment length\")\n",
    "plt.xlabel(xlabel = 'Missing segment length')\n",
    "plt.ylabel(ylabel = \"Count\")\n",
    "\n",
    "x_tick_labels = [50 / 5280, 100 / 5280, 250 / 5280, 500 / 5280, .25, .5, .75, 1, 1.5, 2, 3]\n",
    "x_ticks = [np.log10(xtl) for xtl in x_tick_labels]\n",
    "\n",
    "x_tick_label_text = ['50 F', '100 F', '250 F',  '500 F', '1/4 M', '1/2 M', '3/4 M', '1 M', '1.5 M', '2 M', '3 M']\n",
    "#x_ticks = [-3, -2, -1, 0, .5]\n",
    "#x_tick_labels = [10**xt for xt in x_ticks]\n",
    "#x_tick_labels_formatted = ['{:,}'.format(10**xtl) for xtl in x_ticks]   \n",
    "\n",
    "my_plot.set_xticks(ticks = x_ticks)\n",
    "my_plot.set_xticklabels(labels = x_tick_label_text, rotation=0)\n",
    "\n",
    "output_file_name = '..\\\\assets\\\\dist_histogram.png'\n",
    "output_file_name = os.path.normpath(output_file_name)\n",
    "print(output_file_name)\n",
    "my_plot.get_figure().savefig(fname = output_file_name)"
   ]
  },
  {
   "cell_type": "code",
   "execution_count": null,
   "id": "27d58236-dcf2-46ff-9097-09b770a20774",
   "metadata": {},
   "outputs": [],
   "source": [
    "temp_wms_gdf = wms_gdf.loc[wms_gdf['ord_st_type'].isin(['AVE', 'ST']), :]"
   ]
  },
  {
   "cell_type": "code",
   "execution_count": null,
   "id": "42317919-45a1-4af6-b17f-cab9b61644f2",
   "metadata": {},
   "outputs": [],
   "source": [
    "# let's make a graphic showing the distances\n",
    "sns.set_theme(style = \"whitegrid\")\n",
    "f, ax = plt.subplots(figsize = (20, 5))\n",
    "\n",
    "my_plot = sns.kdeplot(data = temp_wms_gdf, x = 'dist_miles_log', fill = True,\n",
    "                      hue = 'ord_st_type')"
   ]
  },
  {
   "cell_type": "code",
   "execution_count": null,
   "id": "3f74497b-f37e-44a2-8cff-242394a0b18f",
   "metadata": {},
   "outputs": [],
   "source": [
    "file_name = '../testo.geojson'"
   ]
  },
  {
   "cell_type": "code",
   "execution_count": null,
   "id": "673134c3-4723-4f34-a619-708eeb6f952a",
   "metadata": {},
   "outputs": [],
   "source": [
    "tt = temp_wms_gdf.loc[temp_wms_gdf['ord_stname_concat'].str.find('GALER') > 0, :].copy()"
   ]
  },
  {
   "cell_type": "code",
   "execution_count": null,
   "id": "be7a9cdb-2b0b-4d0b-892a-679c9d8d05ea",
   "metadata": {},
   "outputs": [],
   "source": [
    "tt.to_file(filename = file_name, driver = 'geojson', index = False)"
   ]
  },
  {
   "cell_type": "code",
   "execution_count": null,
   "id": "2563b1e5-dc2d-4e4d-859a-c863943478a9",
   "metadata": {},
   "outputs": [],
   "source": []
  },
  {
   "cell_type": "code",
   "execution_count": null,
   "id": "a2215bc6-8ef3-45e1-bfb1-b14e66c7e18a",
   "metadata": {},
   "outputs": [],
   "source": [
    "y_ticks = list(range(0, 176, 25))\n",
    "y_tick_labels_formatted = ['{:,}'.format(ytl) for ytl in y_ticks]   \n",
    "\n",
    "my_plot.set_yticks(ticks = y_ticks)\n",
    "my_plot.set_yticklabels(labels = y_tick_labels_formatted, rotation=0)\n",
    "\n",
    "plt.title(label = \"Histogram of missing segment length\")\n",
    "plt.xlabel(xlabel = 'Missing segment length')\n",
    "plt.ylabel(ylabel = \"Count\")\n",
    "\n",
    "x_tick_labels = [50 / 5280, 100 / 5280, 250 / 5280, 500 / 5280, .25, .5, .75, 1, 1.5, 2, 3]\n",
    "x_ticks = [np.log10(xtl) for xtl in x_tick_labels]\n",
    "\n",
    "x_tick_label_text = ['50 F', '100 F', '250 F',  '500 F', '1/4 M', '1/2 M', '3/4 M', '1 M', '1.5 M', '2 M', '3 M']\n",
    "#x_ticks = [-3, -2, -1, 0, .5]\n",
    "#x_tick_labels = [10**xt for xt in x_ticks]\n",
    "#x_tick_labels_formatted = ['{:,}'.format(10**xtl) for xtl in x_ticks]   \n",
    "\n",
    "my_plot.set_xticks(ticks = x_ticks)\n",
    "my_plot.set_xticklabels(labels = x_tick_label_text, rotation=0)\n",
    "\n",
    "output_file_name = '..\\\\assets\\\\dist_histogram.png'\n",
    "output_file_name = os.path.normpath(output_file_name)\n",
    "print(output_file_name)\n",
    "my_plot.get_figure().savefig(fname = output_file_name)"
   ]
  },
  {
   "cell_type": "code",
   "execution_count": null,
   "id": "fd4941be-d4eb-4dc5-9a30-1fb85759a30b",
   "metadata": {},
   "outputs": [],
   "source": []
  },
  {
   "cell_type": "code",
   "execution_count": null,
   "id": "18879b53-2ddc-4aef-8ef6-b4c73ab55d13",
   "metadata": {},
   "outputs": [],
   "source": []
  },
  {
   "cell_type": "code",
   "execution_count": null,
   "id": "ed30df93-c9af-4b85-8e87-ed456eb18847",
   "metadata": {},
   "outputs": [],
   "source": []
  },
  {
   "cell_type": "code",
   "execution_count": null,
   "id": "3d093639-068f-4ff5-844b-605cfb10b1f9",
   "metadata": {},
   "outputs": [],
   "source": []
  }
 ],
 "metadata": {
  "kernelspec": {
   "display_name": "Python 3 (ipykernel)",
   "language": "python",
   "name": "python3"
  },
  "language_info": {
   "codemirror_mode": {
    "name": "ipython",
    "version": 3
   },
   "file_extension": ".py",
   "mimetype": "text/x-python",
   "name": "python",
   "nbconvert_exporter": "python",
   "pygments_lexer": "ipython3",
   "version": "3.12.7"
  }
 },
 "nbformat": 4,
 "nbformat_minor": 5
}
