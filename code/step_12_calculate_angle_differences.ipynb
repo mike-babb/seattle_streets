{
 "cells": [
  {
   "cell_type": "markdown",
   "id": "fed9e25b-c5b9-4aee-89cd-15a7da3945c0",
   "metadata": {},
   "source": [
    "# Part 12: Calculate the angle differences between each vertex\n",
    "michael babb  \n",
    "2025 09 18"
   ]
  },
  {
   "cell_type": "code",
   "execution_count": 1,
   "id": "e88ca8b2-b75d-4e72-8fc7-65c4cea61cde",
   "metadata": {},
   "outputs": [],
   "source": [
    "# standard\n",
    "import os\n",
    "from collections import Counter"
   ]
  },
  {
   "cell_type": "code",
   "execution_count": 2,
   "id": "0778d9a5-0c62-4724-be28-c21598d23b6f",
   "metadata": {},
   "outputs": [],
   "source": [
    "# external\n",
    "import geopandas as gpd\n",
    "import math\n",
    "import matplotlib.pyplot as plt\n",
    "import networkx as nx\n",
    "import numpy as np\n",
    "import pandas as pd\n",
    "from scipy import stats\n",
    "import seaborn as sns"
   ]
  },
  {
   "cell_type": "code",
   "execution_count": 3,
   "id": "2fc61400-c637-4828-820d-56c2cdd14942",
   "metadata": {},
   "outputs": [],
   "source": [
    "# custom\n",
    "import run_constants as rc\n",
    "from geo_data_io.fc_df_spatial import write_gdf \n",
    "from geo_data_io.geo_operations import calculate_initial_compass_bearing, points2distance\n",
    "from geo_data_io.df_operations import into_dict\n",
    "#from utils import *"
   ]
  },
  {
   "cell_type": "markdown",
   "id": "d56ea77e-ffd7-4326-b793-415f8a131ef2",
   "metadata": {},
   "source": [
    "# load the street network data"
   ]
  },
  {
   "cell_type": "code",
   "execution_count": 6,
   "id": "ddf62724-9105-44c9-b983-e4f520328fa9",
   "metadata": {},
   "outputs": [],
   "source": [
    "fpn = os.path.join(rc.OUTPUT_FILE_PATH, rc.S05_MISSING_IN_FILE_NAME)"
   ]
  },
  {
   "cell_type": "code",
   "execution_count": 7,
   "id": "2cbdb5c1-c973-4882-b442-cf5396e90d3e",
   "metadata": {},
   "outputs": [],
   "source": [
    "gdf = gpd.read_file(filename = fpn)"
   ]
  },
  {
   "cell_type": "code",
   "execution_count": 8,
   "id": "ce02bdf0-a0ca-46a5-bf8f-54b576ee2de7",
   "metadata": {},
   "outputs": [
    {
     "data": {
      "text/plain": [
       "Index(['snd_id', 'ord_street_name', 'ord_street_type', 'ord_stname_type',\n",
       "       'ord_stname_concat', 'ord_stname_unique', 'ord_stname_type_group',\n",
       "       'ord_street_type_rank', 'snd_group', 'group_id', 'city_sector',\n",
       "       'city_sector_group', 'street_status', 'sn_id', 'en_id', 'dist',\n",
       "       'dist_miles', 'geometry'],\n",
       "      dtype='object')"
      ]
     },
     "execution_count": 8,
     "metadata": {},
     "output_type": "execute_result"
    }
   ],
   "source": [
    "gdf.columns"
   ]
  },
  {
   "cell_type": "code",
   "execution_count": 9,
   "id": "0e1720d6",
   "metadata": {},
   "outputs": [
    {
     "data": {
      "text/plain": [
       "(29776, 18)"
      ]
     },
     "execution_count": 9,
     "metadata": {},
     "output_type": "execute_result"
    }
   ],
   "source": [
    "gdf.shape"
   ]
  },
  {
   "cell_type": "code",
   "execution_count": 10,
   "id": "0b203ee7-3a98-4f02-970b-b9d463918afe",
   "metadata": {},
   "outputs": [],
   "source": [
    "gdf['n_segments'] = int(1)"
   ]
  },
  {
   "cell_type": "code",
   "execution_count": null,
   "id": "ca5fec99-9b05-4830-b081-74d31d82aa61",
   "metadata": {},
   "outputs": [],
   "source": [
    "# add text descriptions for the street type categories\n"
   ]
  },
  {
   "cell_type": "code",
   "execution_count": null,
   "id": "a77fd1ec-b9c2-4814-bdcd-688df88d4c2e",
   "metadata": {},
   "outputs": [],
   "source": [
    "# add text descriptions for the street type categories\n",
    "gdf['street_status_desc'] = gdf['street_status'].map(rc.street_status_dict)"
   ]
  },
  {
   "cell_type": "code",
   "execution_count": 13,
   "id": "a35dce0a",
   "metadata": {},
   "outputs": [
    {
     "data": {
      "text/plain": [
       "street_status_desc\n",
       "discontinuous_street           21938\n",
       "continuous_street               3812\n",
       "added_street: within-sector     3616\n",
       "added_street: cross-sector       410\n",
       "Name: count, dtype: int64"
      ]
     },
     "execution_count": 13,
     "metadata": {},
     "output_type": "execute_result"
    }
   ],
   "source": [
    "# number of segments\n",
    "gdf['street_status_desc'].value_counts()"
   ]
  },
  {
   "cell_type": "code",
   "execution_count": 14,
   "id": "f60321c1",
   "metadata": {},
   "outputs": [
    {
     "data": {
      "text/plain": [
       "Index(['snd_id', 'ord_street_name', 'ord_street_type', 'ord_stname_type',\n",
       "       'ord_stname_concat', 'ord_stname_unique', 'ord_stname_type_group',\n",
       "       'ord_street_type_rank', 'snd_group', 'group_id', 'city_sector',\n",
       "       'city_sector_group', 'street_status', 'sn_id', 'en_id', 'dist',\n",
       "       'dist_miles', 'geometry', 'n_segments', 'street_status_desc'],\n",
       "      dtype='object')"
      ]
     },
     "execution_count": 14,
     "metadata": {},
     "output_type": "execute_result"
    }
   ],
   "source": [
    "# which street name columns feature ''?\n",
    "gdf.columns"
   ]
  },
  {
   "cell_type": "code",
   "execution_count": 15,
   "id": "4d65d143",
   "metadata": {},
   "outputs": [
    {
     "data": {
      "text/plain": [
       "False"
      ]
     },
     "execution_count": 15,
     "metadata": {},
     "output_type": "execute_result"
    }
   ],
   "source": [
    "'' in gdf['ord_stname_concat'].unique().tolist()\n"
   ]
  },
  {
   "cell_type": "code",
   "execution_count": 16,
   "id": "9bfb2254",
   "metadata": {},
   "outputs": [
    {
     "data": {
      "text/plain": [
       "False"
      ]
     },
     "execution_count": 16,
     "metadata": {},
     "output_type": "execute_result"
    }
   ],
   "source": [
    "'' in gdf['ord_stname_unique'].unique().tolist()"
   ]
  },
  {
   "cell_type": "code",
   "execution_count": 17,
   "id": "8c2bb777",
   "metadata": {},
   "outputs": [],
   "source": [
    "check_df = gdf.loc[(gdf['ord_stname_unique'] == '') &\n",
    "                (gdf['street_status'] == 2), :]"
   ]
  },
  {
   "cell_type": "markdown",
   "id": "5ec2bfab",
   "metadata": {},
   "source": [
    "# q1: pick one segment - GALER\n",
    "see if we can plot the polar coordinates of each vertex  \n",
    "michael babb  \n",
    "2025 10 01\n"
   ]
  },
  {
   "cell_type": "code",
   "execution_count": 19,
   "id": "706328a1",
   "metadata": {},
   "outputs": [
    {
     "data": {
      "text/plain": [
       "Index(['snd_id', 'ord_street_name', 'ord_street_type', 'ord_stname_type',\n",
       "       'ord_stname_concat', 'ord_stname_unique', 'ord_stname_type_group',\n",
       "       'ord_street_type_rank', 'snd_group', 'group_id', 'city_sector',\n",
       "       'city_sector_group', 'street_status', 'sn_id', 'en_id', 'dist',\n",
       "       'dist_miles', 'geometry', 'n_segments', 'street_status_desc'],\n",
       "      dtype='object')"
      ]
     },
     "execution_count": 19,
     "metadata": {},
     "output_type": "execute_result"
    }
   ],
   "source": [
    "gdf.columns"
   ]
  },
  {
   "cell_type": "code",
   "execution_count": 20,
   "id": "54ca9ad9",
   "metadata": {},
   "outputs": [
    {
     "data": {
      "text/plain": [
       "(82, 20)"
      ]
     },
     "execution_count": 20,
     "metadata": {},
     "output_type": "execute_result"
    }
   ],
   "source": [
    "tgdf = gdf.loc[gdf['ord_stname_type_group'].str.find('GALER ST') > -1, :].copy()\n",
    "tgdf.shape"
   ]
  },
  {
   "cell_type": "code",
   "execution_count": 21,
   "id": "880fa4bb",
   "metadata": {},
   "outputs": [
    {
     "data": {
      "text/html": [
       "<div>\n",
       "<style scoped>\n",
       "    .dataframe tbody tr th:only-of-type {\n",
       "        vertical-align: middle;\n",
       "    }\n",
       "\n",
       "    .dataframe tbody tr th {\n",
       "        vertical-align: top;\n",
       "    }\n",
       "\n",
       "    .dataframe thead th {\n",
       "        text-align: right;\n",
       "    }\n",
       "</style>\n",
       "<table border=\"1\" class=\"dataframe\">\n",
       "  <thead>\n",
       "    <tr style=\"text-align: right;\">\n",
       "      <th></th>\n",
       "      <th>snd_id</th>\n",
       "      <th>ord_street_name</th>\n",
       "      <th>ord_street_type</th>\n",
       "      <th>ord_stname_type</th>\n",
       "      <th>ord_stname_concat</th>\n",
       "      <th>ord_stname_unique</th>\n",
       "      <th>ord_stname_type_group</th>\n",
       "      <th>ord_street_type_rank</th>\n",
       "      <th>snd_group</th>\n",
       "      <th>group_id</th>\n",
       "      <th>city_sector</th>\n",
       "      <th>city_sector_group</th>\n",
       "      <th>street_status</th>\n",
       "      <th>sn_id</th>\n",
       "      <th>en_id</th>\n",
       "      <th>dist</th>\n",
       "      <th>dist_miles</th>\n",
       "      <th>geometry</th>\n",
       "      <th>n_segments</th>\n",
       "      <th>street_status_desc</th>\n",
       "    </tr>\n",
       "  </thead>\n",
       "  <tbody>\n",
       "    <tr>\n",
       "      <th>20870</th>\n",
       "      <td>68572</td>\n",
       "      <td>GALER</td>\n",
       "      <td>ST</td>\n",
       "      <td>GALER ST</td>\n",
       "      <td>W GALER ST</td>\n",
       "      <td>W GALER ST</td>\n",
       "      <td>GALER ST W_CNTR_E</td>\n",
       "      <td>10_ST</td>\n",
       "      <td>0</td>\n",
       "      <td>1</td>\n",
       "      <td>W</td>\n",
       "      <td>W_CNTR_E</td>\n",
       "      <td>2</td>\n",
       "      <td>10270</td>\n",
       "      <td>10272</td>\n",
       "      <td>492.611742</td>\n",
       "      <td>0.093298</td>\n",
       "      <td>LINESTRING (-122.39628 47.63228, -122.39428 47...</td>\n",
       "      <td>1</td>\n",
       "      <td>added_street: within-sector</td>\n",
       "    </tr>\n",
       "    <tr>\n",
       "      <th>20871</th>\n",
       "      <td>68573</td>\n",
       "      <td>GALER</td>\n",
       "      <td>ST</td>\n",
       "      <td>GALER ST</td>\n",
       "      <td>W GALER ST</td>\n",
       "      <td>W GALER ST</td>\n",
       "      <td>GALER ST W_CNTR_E</td>\n",
       "      <td>10_ST</td>\n",
       "      <td>1</td>\n",
       "      <td>1</td>\n",
       "      <td>W</td>\n",
       "      <td>W_CNTR_E</td>\n",
       "      <td>2</td>\n",
       "      <td>10276</td>\n",
       "      <td>10364</td>\n",
       "      <td>3244.800059</td>\n",
       "      <td>0.614545</td>\n",
       "      <td>LINESTRING (-122.39091 47.63233, -122.37776 47...</td>\n",
       "      <td>1</td>\n",
       "      <td>added_street: within-sector</td>\n",
       "    </tr>\n",
       "    <tr>\n",
       "      <th>20872</th>\n",
       "      <td>68574</td>\n",
       "      <td>GALER</td>\n",
       "      <td>ST</td>\n",
       "      <td>GALER ST</td>\n",
       "      <td>W GALER ST</td>\n",
       "      <td>W GALER ST</td>\n",
       "      <td>GALER ST W_CNTR_E</td>\n",
       "      <td>10_ST</td>\n",
       "      <td>2</td>\n",
       "      <td>1</td>\n",
       "      <td>W</td>\n",
       "      <td>W_CNTR_E</td>\n",
       "      <td>2</td>\n",
       "      <td>10296</td>\n",
       "      <td>10297</td>\n",
       "      <td>169.665188</td>\n",
       "      <td>0.032134</td>\n",
       "      <td>LINESTRING (-122.36909 47.63232, -122.3684 47....</td>\n",
       "      <td>1</td>\n",
       "      <td>added_street: within-sector</td>\n",
       "    </tr>\n",
       "    <tr>\n",
       "      <th>20873</th>\n",
       "      <td>68575</td>\n",
       "      <td>GALER</td>\n",
       "      <td>ST</td>\n",
       "      <td>GALER ST</td>\n",
       "      <td>W GALER ST</td>\n",
       "      <td>W GALER ST</td>\n",
       "      <td>GALER ST W_CNTR_E</td>\n",
       "      <td>10_ST</td>\n",
       "      <td>3</td>\n",
       "      <td>1</td>\n",
       "      <td>W</td>\n",
       "      <td>W_CNTR_E</td>\n",
       "      <td>2</td>\n",
       "      <td>10284</td>\n",
       "      <td>10290</td>\n",
       "      <td>714.801685</td>\n",
       "      <td>0.135379</td>\n",
       "      <td>LINESTRING (-122.37462 47.63232, -122.37171 47...</td>\n",
       "      <td>1</td>\n",
       "      <td>added_street: within-sector</td>\n",
       "    </tr>\n",
       "    <tr>\n",
       "      <th>20874</th>\n",
       "      <td>68576</td>\n",
       "      <td>GALER</td>\n",
       "      <td>ST</td>\n",
       "      <td>GALER ST</td>\n",
       "      <td>W GALER ST</td>\n",
       "      <td>W GALER ST</td>\n",
       "      <td>GALER ST W_CNTR_E</td>\n",
       "      <td>10_ST</td>\n",
       "      <td>4</td>\n",
       "      <td>1</td>\n",
       "      <td>W</td>\n",
       "      <td>W_CNTR_E</td>\n",
       "      <td>2</td>\n",
       "      <td>10299</td>\n",
       "      <td>10303</td>\n",
       "      <td>285.366292</td>\n",
       "      <td>0.054047</td>\n",
       "      <td>LINESTRING (-122.36764 47.63232, -122.36648 47...</td>\n",
       "      <td>1</td>\n",
       "      <td>added_street: within-sector</td>\n",
       "    </tr>\n",
       "  </tbody>\n",
       "</table>\n",
       "</div>"
      ],
      "text/plain": [
       "       snd_id ord_street_name ord_street_type ord_stname_type  \\\n",
       "20870   68572           GALER              ST        GALER ST   \n",
       "20871   68573           GALER              ST        GALER ST   \n",
       "20872   68574           GALER              ST        GALER ST   \n",
       "20873   68575           GALER              ST        GALER ST   \n",
       "20874   68576           GALER              ST        GALER ST   \n",
       "\n",
       "      ord_stname_concat ord_stname_unique ord_stname_type_group  \\\n",
       "20870        W GALER ST        W GALER ST     GALER ST W_CNTR_E   \n",
       "20871        W GALER ST        W GALER ST     GALER ST W_CNTR_E   \n",
       "20872        W GALER ST        W GALER ST     GALER ST W_CNTR_E   \n",
       "20873        W GALER ST        W GALER ST     GALER ST W_CNTR_E   \n",
       "20874        W GALER ST        W GALER ST     GALER ST W_CNTR_E   \n",
       "\n",
       "      ord_street_type_rank  snd_group  group_id city_sector city_sector_group  \\\n",
       "20870                10_ST          0         1           W          W_CNTR_E   \n",
       "20871                10_ST          1         1           W          W_CNTR_E   \n",
       "20872                10_ST          2         1           W          W_CNTR_E   \n",
       "20873                10_ST          3         1           W          W_CNTR_E   \n",
       "20874                10_ST          4         1           W          W_CNTR_E   \n",
       "\n",
       "       street_status  sn_id  en_id         dist  dist_miles  \\\n",
       "20870              2  10270  10272   492.611742    0.093298   \n",
       "20871              2  10276  10364  3244.800059    0.614545   \n",
       "20872              2  10296  10297   169.665188    0.032134   \n",
       "20873              2  10284  10290   714.801685    0.135379   \n",
       "20874              2  10299  10303   285.366292    0.054047   \n",
       "\n",
       "                                                geometry  n_segments  \\\n",
       "20870  LINESTRING (-122.39628 47.63228, -122.39428 47...           1   \n",
       "20871  LINESTRING (-122.39091 47.63233, -122.37776 47...           1   \n",
       "20872  LINESTRING (-122.36909 47.63232, -122.3684 47....           1   \n",
       "20873  LINESTRING (-122.37462 47.63232, -122.37171 47...           1   \n",
       "20874  LINESTRING (-122.36764 47.63232, -122.36648 47...           1   \n",
       "\n",
       "                street_status_desc  \n",
       "20870  added_street: within-sector  \n",
       "20871  added_street: within-sector  \n",
       "20872  added_street: within-sector  \n",
       "20873  added_street: within-sector  \n",
       "20874  added_street: within-sector  "
      ]
     },
     "execution_count": 21,
     "metadata": {},
     "output_type": "execute_result"
    }
   ],
   "source": [
    "tgdf.head()"
   ]
  },
  {
   "cell_type": "code",
   "execution_count": 22,
   "id": "36d14f6d",
   "metadata": {},
   "outputs": [
    {
     "data": {
      "text/plain": [
       "Index(['snd_id', 'ord_street_name', 'ord_street_type', 'ord_stname_type',\n",
       "       'ord_stname_concat', 'ord_stname_unique', 'ord_stname_type_group',\n",
       "       'ord_street_type_rank', 'snd_group', 'group_id', 'city_sector',\n",
       "       'city_sector_group', 'street_status', 'sn_id', 'en_id', 'dist',\n",
       "       'dist_miles', 'geometry', 'n_segments', 'street_status_desc'],\n",
       "      dtype='object')"
      ]
     },
     "execution_count": 22,
     "metadata": {},
     "output_type": "execute_result"
    }
   ],
   "source": [
    "tgdf.columns"
   ]
  },
  {
   "cell_type": "code",
   "execution_count": 23,
   "id": "e2303a3f",
   "metadata": {},
   "outputs": [
    {
     "data": {
      "text/plain": [
       "14"
      ]
     },
     "execution_count": 23,
     "metadata": {},
     "output_type": "execute_result"
    }
   ],
   "source": [
    "id_col_names = ['snd_id', 'ord_street_name', 'ord_street_type', 'ord_stname_type',\n",
    "       'ord_stname_concat', 'ord_stname_unique', 'ord_stname_type_group',\n",
    "       'ord_street_type_rank', 'snd_group', 'group_id', 'city_sector',\n",
    "       'city_sector_group', 'street_status','street_status_desc']\n",
    "len(id_col_names)"
   ]
  },
  {
   "cell_type": "code",
   "execution_count": 28,
   "id": "58170ba7",
   "metadata": {},
   "outputs": [
    {
     "name": "stdout",
     "output_type": "stream",
     "text": [
      "(266, 17)\n"
     ]
    }
   ],
   "source": [
    "# close, but not quite\n",
    "# make a graph!\n",
    "my_graph = nx.Graph()\n",
    "point_list = []\n",
    "n_coords_counter = Counter()\n",
    "\n",
    "test_list = []\n",
    "\n",
    "node_coord_dict = {}\n",
    "\n",
    "node_angle_list = []\n",
    "\n",
    "for i_row, row in tgdf.iterrows():    \n",
    "    line_geom = row['geometry']\n",
    "    line_vertices = line_geom.coords\n",
    "    n_vertices = len(line_vertices)\n",
    "    n_coords_counter[n_vertices] += 1\n",
    "\n",
    "    id_col_value_list = []    \n",
    "    for icn in id_col_names:\n",
    "        id_col_value_list.append(row[icn])    \n",
    "    \n",
    "    node_id_list = []\n",
    "    for i_lv, lv in enumerate(line_vertices): \n",
    "        \n",
    "        if i_lv == 0:\n",
    "            # use the starting node id\n",
    "            node_id = str(row['sn_id']) + '-' + str(0).zfill(3)\n",
    "        elif i_lv == n_vertices - 1:\n",
    "            # use the ending node id\n",
    "            node_id = str(row['en_id']) + '-' + str(0).zfill(3)\n",
    "        else:\n",
    "            node_id = str(row['snd_id']) + '-' + str(i_lv).zfill(3)\n",
    "\n",
    "        node_id_list.append(node_id)        \n",
    "\n",
    "        curr_point_list = id_col_value_list[:]    \n",
    "        curr_point_list.append(node_id)\n",
    "        curr_point_list.append(i_lv)\n",
    "        curr_point_list.append(lv)        \n",
    "        \n",
    "        # add to the total output list\n",
    "        point_list.append(curr_point_list)\n",
    "\n",
    "        node_coord_dict[node_id] = lv\n",
    "\n",
    "    # add these interim points to the graph\n",
    "    ex_line_segment_df = []\n",
    "    for i_node_id, curr_node_id in enumerate(node_id_list[:-1]):\n",
    "        next_node_id = node_id_list[i_node_id + 1]\n",
    "        my_graph.add_edge(u_of_edge=curr_node_id,\n",
    "                          v_of_edge=next_node_id)\n",
    "        \n",
    "        # get the coords\n",
    "        curr_node_coords = node_coord_dict[curr_node_id]\n",
    "        next_node_coords = node_coord_dict[next_node_id]\n",
    "        \n",
    "        node_angle = calculate_initial_compass_bearing(point_a=curr_node_coords,\n",
    "                                                   point_b=next_node_coords)\n",
    "        seg_dist = points2distance(start = curr_node_coords, end=next_node_coords, unit='miles') * 5280\n",
    "        \n",
    "        temp_list = [curr_node_id, next_node_id, seg_dist, node_angle]\n",
    "        temp_list.extend(id_col_value_list)    \n",
    "        node_angle_list.append(temp_list)\n",
    "\n",
    "\n",
    "# okay, now, let's build a gdf\n",
    "new_col_names = id_col_names[:]\n",
    "new_col_names.extend(['node_id', 'vertex_id', 'geometry'])\n",
    "vertex_df = pd.DataFrame(data = point_list, \n",
    "                          columns=new_col_names)\n",
    "print(vertex_df.shape)\n",
    "\n",
    "node_id_dict = into_dict(df = vertex_df, key_fn = 'node_id')\n",
    "new_col_names = ['sn_id', 'en_id', 'seg_dist', 'node_angle']\n",
    "new_col_names.extend(id_col_names)\n",
    "ex_line_df = pd.DataFrame(data = node_angle_list,\n",
    "                          columns = new_col_names)"
   ]
  },
  {
   "cell_type": "code",
   "execution_count": 29,
   "id": "471af757",
   "metadata": {},
   "outputs": [
    {
     "data": {
      "text/html": [
       "<div>\n",
       "<style scoped>\n",
       "    .dataframe tbody tr th:only-of-type {\n",
       "        vertical-align: middle;\n",
       "    }\n",
       "\n",
       "    .dataframe tbody tr th {\n",
       "        vertical-align: top;\n",
       "    }\n",
       "\n",
       "    .dataframe thead th {\n",
       "        text-align: right;\n",
       "    }\n",
       "</style>\n",
       "<table border=\"1\" class=\"dataframe\">\n",
       "  <thead>\n",
       "    <tr style=\"text-align: right;\">\n",
       "      <th></th>\n",
       "      <th>sn_id</th>\n",
       "      <th>en_id</th>\n",
       "      <th>seg_dist</th>\n",
       "      <th>node_angle</th>\n",
       "      <th>snd_id</th>\n",
       "      <th>ord_street_name</th>\n",
       "      <th>ord_street_type</th>\n",
       "      <th>ord_stname_type</th>\n",
       "      <th>ord_stname_concat</th>\n",
       "      <th>ord_stname_unique</th>\n",
       "      <th>ord_stname_type_group</th>\n",
       "      <th>ord_street_type_rank</th>\n",
       "      <th>snd_group</th>\n",
       "      <th>group_id</th>\n",
       "      <th>city_sector</th>\n",
       "      <th>city_sector_group</th>\n",
       "      <th>street_status</th>\n",
       "      <th>street_status_desc</th>\n",
       "    </tr>\n",
       "  </thead>\n",
       "  <tbody>\n",
       "    <tr>\n",
       "      <th>0</th>\n",
       "      <td>10270-000</td>\n",
       "      <td>10272-000</td>\n",
       "      <td>492.611742</td>\n",
       "      <td>89.234013</td>\n",
       "      <td>68572</td>\n",
       "      <td>GALER</td>\n",
       "      <td>ST</td>\n",
       "      <td>GALER ST</td>\n",
       "      <td>W GALER ST</td>\n",
       "      <td>W GALER ST</td>\n",
       "      <td>GALER ST W_CNTR_E</td>\n",
       "      <td>10_ST</td>\n",
       "      <td>0</td>\n",
       "      <td>1</td>\n",
       "      <td>W</td>\n",
       "      <td>W_CNTR_E</td>\n",
       "      <td>2</td>\n",
       "      <td>added_street: within-sector</td>\n",
       "    </tr>\n",
       "    <tr>\n",
       "      <th>1</th>\n",
       "      <td>10276-000</td>\n",
       "      <td>10364-000</td>\n",
       "      <td>3244.800059</td>\n",
       "      <td>94.918830</td>\n",
       "      <td>68573</td>\n",
       "      <td>GALER</td>\n",
       "      <td>ST</td>\n",
       "      <td>GALER ST</td>\n",
       "      <td>W GALER ST</td>\n",
       "      <td>W GALER ST</td>\n",
       "      <td>GALER ST W_CNTR_E</td>\n",
       "      <td>10_ST</td>\n",
       "      <td>1</td>\n",
       "      <td>1</td>\n",
       "      <td>W</td>\n",
       "      <td>W_CNTR_E</td>\n",
       "      <td>2</td>\n",
       "      <td>added_street: within-sector</td>\n",
       "    </tr>\n",
       "    <tr>\n",
       "      <th>2</th>\n",
       "      <td>10296-000</td>\n",
       "      <td>10297-000</td>\n",
       "      <td>169.665188</td>\n",
       "      <td>89.992467</td>\n",
       "      <td>68574</td>\n",
       "      <td>GALER</td>\n",
       "      <td>ST</td>\n",
       "      <td>GALER ST</td>\n",
       "      <td>W GALER ST</td>\n",
       "      <td>W GALER ST</td>\n",
       "      <td>GALER ST W_CNTR_E</td>\n",
       "      <td>10_ST</td>\n",
       "      <td>2</td>\n",
       "      <td>1</td>\n",
       "      <td>W</td>\n",
       "      <td>W_CNTR_E</td>\n",
       "      <td>2</td>\n",
       "      <td>added_street: within-sector</td>\n",
       "    </tr>\n",
       "    <tr>\n",
       "      <th>3</th>\n",
       "      <td>10284-000</td>\n",
       "      <td>10290-000</td>\n",
       "      <td>714.801685</td>\n",
       "      <td>89.946516</td>\n",
       "      <td>68575</td>\n",
       "      <td>GALER</td>\n",
       "      <td>ST</td>\n",
       "      <td>GALER ST</td>\n",
       "      <td>W GALER ST</td>\n",
       "      <td>W GALER ST</td>\n",
       "      <td>GALER ST W_CNTR_E</td>\n",
       "      <td>10_ST</td>\n",
       "      <td>3</td>\n",
       "      <td>1</td>\n",
       "      <td>W</td>\n",
       "      <td>W_CNTR_E</td>\n",
       "      <td>2</td>\n",
       "      <td>added_street: within-sector</td>\n",
       "    </tr>\n",
       "    <tr>\n",
       "      <th>4</th>\n",
       "      <td>10299-000</td>\n",
       "      <td>10303-000</td>\n",
       "      <td>285.366292</td>\n",
       "      <td>89.962376</td>\n",
       "      <td>68576</td>\n",
       "      <td>GALER</td>\n",
       "      <td>ST</td>\n",
       "      <td>GALER ST</td>\n",
       "      <td>W GALER ST</td>\n",
       "      <td>W GALER ST</td>\n",
       "      <td>GALER ST W_CNTR_E</td>\n",
       "      <td>10_ST</td>\n",
       "      <td>4</td>\n",
       "      <td>1</td>\n",
       "      <td>W</td>\n",
       "      <td>W_CNTR_E</td>\n",
       "      <td>2</td>\n",
       "      <td>added_street: within-sector</td>\n",
       "    </tr>\n",
       "  </tbody>\n",
       "</table>\n",
       "</div>"
      ],
      "text/plain": [
       "       sn_id      en_id     seg_dist  node_angle  snd_id ord_street_name  \\\n",
       "0  10270-000  10272-000   492.611742   89.234013   68572           GALER   \n",
       "1  10276-000  10364-000  3244.800059   94.918830   68573           GALER   \n",
       "2  10296-000  10297-000   169.665188   89.992467   68574           GALER   \n",
       "3  10284-000  10290-000   714.801685   89.946516   68575           GALER   \n",
       "4  10299-000  10303-000   285.366292   89.962376   68576           GALER   \n",
       "\n",
       "  ord_street_type ord_stname_type ord_stname_concat ord_stname_unique  \\\n",
       "0              ST        GALER ST        W GALER ST        W GALER ST   \n",
       "1              ST        GALER ST        W GALER ST        W GALER ST   \n",
       "2              ST        GALER ST        W GALER ST        W GALER ST   \n",
       "3              ST        GALER ST        W GALER ST        W GALER ST   \n",
       "4              ST        GALER ST        W GALER ST        W GALER ST   \n",
       "\n",
       "  ord_stname_type_group ord_street_type_rank  snd_group  group_id city_sector  \\\n",
       "0     GALER ST W_CNTR_E                10_ST          0         1           W   \n",
       "1     GALER ST W_CNTR_E                10_ST          1         1           W   \n",
       "2     GALER ST W_CNTR_E                10_ST          2         1           W   \n",
       "3     GALER ST W_CNTR_E                10_ST          3         1           W   \n",
       "4     GALER ST W_CNTR_E                10_ST          4         1           W   \n",
       "\n",
       "  city_sector_group  street_status           street_status_desc  \n",
       "0          W_CNTR_E              2  added_street: within-sector  \n",
       "1          W_CNTR_E              2  added_street: within-sector  \n",
       "2          W_CNTR_E              2  added_street: within-sector  \n",
       "3          W_CNTR_E              2  added_street: within-sector  \n",
       "4          W_CNTR_E              2  added_street: within-sector  "
      ]
     },
     "execution_count": 29,
     "metadata": {},
     "output_type": "execute_result"
    }
   ],
   "source": [
    "ex_line_df.head()"
   ]
  },
  {
   "cell_type": "code",
   "execution_count": 30,
   "id": "663909e9",
   "metadata": {},
   "outputs": [
    {
     "data": {
      "text/plain": [
       "node_id\n",
       "10270-000    2\n",
       "10292-000    2\n",
       "10330-000    2\n",
       "10331-000    2\n",
       "10332-000    2\n",
       "            ..\n",
       "17827-049    1\n",
       "17827-050    1\n",
       "17827-051    1\n",
       "17827-052    1\n",
       "10439-000    1\n",
       "Name: count, Length: 185, dtype: int64"
      ]
     },
     "execution_count": 30,
     "metadata": {},
     "output_type": "execute_result"
    }
   ],
   "source": [
    "vertex_df['node_id'].value_counts()"
   ]
  },
  {
   "cell_type": "code",
   "execution_count": 41,
   "id": "0382182a",
   "metadata": {},
   "outputs": [],
   "source": [
    "ex_line_df['seg_dist_normalized'] = 1\n",
    "ex_line_df['theta'] = ex_line_df['node_angle'].map(math.radians)"
   ]
  },
  {
   "cell_type": "code",
   "execution_count": 42,
   "id": "cc19fe4f",
   "metadata": {},
   "outputs": [
    {
     "data": {
      "text/html": [
       "<div>\n",
       "<style scoped>\n",
       "    .dataframe tbody tr th:only-of-type {\n",
       "        vertical-align: middle;\n",
       "    }\n",
       "\n",
       "    .dataframe tbody tr th {\n",
       "        vertical-align: top;\n",
       "    }\n",
       "\n",
       "    .dataframe thead th {\n",
       "        text-align: right;\n",
       "    }\n",
       "</style>\n",
       "<table border=\"1\" class=\"dataframe\">\n",
       "  <thead>\n",
       "    <tr style=\"text-align: right;\">\n",
       "      <th></th>\n",
       "      <th>sn_id</th>\n",
       "      <th>en_id</th>\n",
       "      <th>seg_dist</th>\n",
       "      <th>node_angle</th>\n",
       "      <th>snd_id</th>\n",
       "      <th>ord_street_name</th>\n",
       "      <th>ord_street_type</th>\n",
       "      <th>ord_stname_type</th>\n",
       "      <th>ord_stname_concat</th>\n",
       "      <th>ord_stname_unique</th>\n",
       "      <th>...</th>\n",
       "      <th>ord_street_type_rank</th>\n",
       "      <th>snd_group</th>\n",
       "      <th>group_id</th>\n",
       "      <th>city_sector</th>\n",
       "      <th>city_sector_group</th>\n",
       "      <th>street_status</th>\n",
       "      <th>street_status_desc</th>\n",
       "      <th>seg_dist_normalized</th>\n",
       "      <th>radians</th>\n",
       "      <th>theta</th>\n",
       "    </tr>\n",
       "  </thead>\n",
       "  <tbody>\n",
       "    <tr>\n",
       "      <th>0</th>\n",
       "      <td>10270-000</td>\n",
       "      <td>10272-000</td>\n",
       "      <td>492.611742</td>\n",
       "      <td>89.234013</td>\n",
       "      <td>68572</td>\n",
       "      <td>GALER</td>\n",
       "      <td>ST</td>\n",
       "      <td>GALER ST</td>\n",
       "      <td>W GALER ST</td>\n",
       "      <td>W GALER ST</td>\n",
       "      <td>...</td>\n",
       "      <td>10_ST</td>\n",
       "      <td>0</td>\n",
       "      <td>1</td>\n",
       "      <td>W</td>\n",
       "      <td>W_CNTR_E</td>\n",
       "      <td>2</td>\n",
       "      <td>added_street: within-sector</td>\n",
       "      <td>1</td>\n",
       "      <td>1.557427</td>\n",
       "      <td>1.557427</td>\n",
       "    </tr>\n",
       "    <tr>\n",
       "      <th>1</th>\n",
       "      <td>10276-000</td>\n",
       "      <td>10364-000</td>\n",
       "      <td>3244.800059</td>\n",
       "      <td>94.918830</td>\n",
       "      <td>68573</td>\n",
       "      <td>GALER</td>\n",
       "      <td>ST</td>\n",
       "      <td>GALER ST</td>\n",
       "      <td>W GALER ST</td>\n",
       "      <td>W GALER ST</td>\n",
       "      <td>...</td>\n",
       "      <td>10_ST</td>\n",
       "      <td>1</td>\n",
       "      <td>1</td>\n",
       "      <td>W</td>\n",
       "      <td>W_CNTR_E</td>\n",
       "      <td>2</td>\n",
       "      <td>added_street: within-sector</td>\n",
       "      <td>1</td>\n",
       "      <td>1.656646</td>\n",
       "      <td>1.656646</td>\n",
       "    </tr>\n",
       "    <tr>\n",
       "      <th>2</th>\n",
       "      <td>10296-000</td>\n",
       "      <td>10297-000</td>\n",
       "      <td>169.665188</td>\n",
       "      <td>89.992467</td>\n",
       "      <td>68574</td>\n",
       "      <td>GALER</td>\n",
       "      <td>ST</td>\n",
       "      <td>GALER ST</td>\n",
       "      <td>W GALER ST</td>\n",
       "      <td>W GALER ST</td>\n",
       "      <td>...</td>\n",
       "      <td>10_ST</td>\n",
       "      <td>2</td>\n",
       "      <td>1</td>\n",
       "      <td>W</td>\n",
       "      <td>W_CNTR_E</td>\n",
       "      <td>2</td>\n",
       "      <td>added_street: within-sector</td>\n",
       "      <td>1</td>\n",
       "      <td>1.570665</td>\n",
       "      <td>1.570665</td>\n",
       "    </tr>\n",
       "    <tr>\n",
       "      <th>3</th>\n",
       "      <td>10284-000</td>\n",
       "      <td>10290-000</td>\n",
       "      <td>714.801685</td>\n",
       "      <td>89.946516</td>\n",
       "      <td>68575</td>\n",
       "      <td>GALER</td>\n",
       "      <td>ST</td>\n",
       "      <td>GALER ST</td>\n",
       "      <td>W GALER ST</td>\n",
       "      <td>W GALER ST</td>\n",
       "      <td>...</td>\n",
       "      <td>10_ST</td>\n",
       "      <td>3</td>\n",
       "      <td>1</td>\n",
       "      <td>W</td>\n",
       "      <td>W_CNTR_E</td>\n",
       "      <td>2</td>\n",
       "      <td>added_street: within-sector</td>\n",
       "      <td>1</td>\n",
       "      <td>1.569863</td>\n",
       "      <td>1.569863</td>\n",
       "    </tr>\n",
       "    <tr>\n",
       "      <th>4</th>\n",
       "      <td>10299-000</td>\n",
       "      <td>10303-000</td>\n",
       "      <td>285.366292</td>\n",
       "      <td>89.962376</td>\n",
       "      <td>68576</td>\n",
       "      <td>GALER</td>\n",
       "      <td>ST</td>\n",
       "      <td>GALER ST</td>\n",
       "      <td>W GALER ST</td>\n",
       "      <td>W GALER ST</td>\n",
       "      <td>...</td>\n",
       "      <td>10_ST</td>\n",
       "      <td>4</td>\n",
       "      <td>1</td>\n",
       "      <td>W</td>\n",
       "      <td>W_CNTR_E</td>\n",
       "      <td>2</td>\n",
       "      <td>added_street: within-sector</td>\n",
       "      <td>1</td>\n",
       "      <td>1.570140</td>\n",
       "      <td>1.570140</td>\n",
       "    </tr>\n",
       "  </tbody>\n",
       "</table>\n",
       "<p>5 rows × 21 columns</p>\n",
       "</div>"
      ],
      "text/plain": [
       "       sn_id      en_id     seg_dist  node_angle  snd_id ord_street_name  \\\n",
       "0  10270-000  10272-000   492.611742   89.234013   68572           GALER   \n",
       "1  10276-000  10364-000  3244.800059   94.918830   68573           GALER   \n",
       "2  10296-000  10297-000   169.665188   89.992467   68574           GALER   \n",
       "3  10284-000  10290-000   714.801685   89.946516   68575           GALER   \n",
       "4  10299-000  10303-000   285.366292   89.962376   68576           GALER   \n",
       "\n",
       "  ord_street_type ord_stname_type ord_stname_concat ord_stname_unique  ...  \\\n",
       "0              ST        GALER ST        W GALER ST        W GALER ST  ...   \n",
       "1              ST        GALER ST        W GALER ST        W GALER ST  ...   \n",
       "2              ST        GALER ST        W GALER ST        W GALER ST  ...   \n",
       "3              ST        GALER ST        W GALER ST        W GALER ST  ...   \n",
       "4              ST        GALER ST        W GALER ST        W GALER ST  ...   \n",
       "\n",
       "  ord_street_type_rank snd_group  group_id  city_sector city_sector_group  \\\n",
       "0                10_ST         0         1            W          W_CNTR_E   \n",
       "1                10_ST         1         1            W          W_CNTR_E   \n",
       "2                10_ST         2         1            W          W_CNTR_E   \n",
       "3                10_ST         3         1            W          W_CNTR_E   \n",
       "4                10_ST         4         1            W          W_CNTR_E   \n",
       "\n",
       "  street_status           street_status_desc seg_dist_normalized   radians  \\\n",
       "0             2  added_street: within-sector                   1  1.557427   \n",
       "1             2  added_street: within-sector                   1  1.656646   \n",
       "2             2  added_street: within-sector                   1  1.570665   \n",
       "3             2  added_street: within-sector                   1  1.569863   \n",
       "4             2  added_street: within-sector                   1  1.570140   \n",
       "\n",
       "      theta  \n",
       "0  1.557427  \n",
       "1  1.656646  \n",
       "2  1.570665  \n",
       "3  1.569863  \n",
       "4  1.570140  \n",
       "\n",
       "[5 rows x 21 columns]"
      ]
     },
     "execution_count": 42,
     "metadata": {},
     "output_type": "execute_result"
    }
   ],
   "source": [
    "ex_line_df.head()"
   ]
  },
  {
   "cell_type": "code",
   "execution_count": 43,
   "id": "9d0864f2",
   "metadata": {},
   "outputs": [
    {
     "data": {
      "text/plain": [
       "count    184.000000\n",
       "mean       3.623780\n",
       "std        1.713006\n",
       "min        0.153852\n",
       "25%        1.578559\n",
       "50%        4.711670\n",
       "75%        5.140996\n",
       "max        5.547620\n",
       "Name: theta, dtype: float64"
      ]
     },
     "execution_count": 43,
     "metadata": {},
     "output_type": "execute_result"
    }
   ],
   "source": [
    "ex_line_df['theta'].describe()"
   ]
  },
  {
   "cell_type": "code",
   "execution_count": 45,
   "id": "a7143e6e",
   "metadata": {},
   "outputs": [
    {
     "data": {
      "text/plain": [
       "count    184.0\n",
       "mean       1.0\n",
       "std        0.0\n",
       "min        1.0\n",
       "25%        1.0\n",
       "50%        1.0\n",
       "75%        1.0\n",
       "max        1.0\n",
       "Name: seg_dist_normalized, dtype: float64"
      ]
     },
     "execution_count": 45,
     "metadata": {},
     "output_type": "execute_result"
    }
   ],
   "source": [
    "ex_line_df['seg_dist_normalized'].describe()"
   ]
  },
  {
   "cell_type": "code",
   "execution_count": 70,
   "id": "badb96a3",
   "metadata": {},
   "outputs": [],
   "source": [
    "color_dict = {\n",
    "0: \"#33a02c\",\n",
    "1: \"#000000\",\n",
    "2: \"#ca0020\",\n",
    "3: \"#1a4bed\"}"
   ]
  },
  {
   "cell_type": "code",
   "execution_count": 74,
   "id": "96dd2c53",
   "metadata": {},
   "outputs": [],
   "source": [
    "ex_line_df['line_color'] = ex_line_df['street_status'].map(color_dict)\n",
    "ex_line_df['line_dist'] = ex_line_df['street_status'] / 3"
   ]
  },
  {
   "cell_type": "code",
   "execution_count": 75,
   "id": "ca32933b",
   "metadata": {},
   "outputs": [
    {
     "data": {
      "text/plain": [
       "street_status\n",
       "1    167\n",
       "2     15\n",
       "3      2\n",
       "Name: count, dtype: int64"
      ]
     },
     "execution_count": 75,
     "metadata": {},
     "output_type": "execute_result"
    }
   ],
   "source": [
    "ex_line_df['street_status'].value_counts()\n"
   ]
  },
  {
   "cell_type": "code",
   "execution_count": 77,
   "id": "0cc5d540",
   "metadata": {},
   "outputs": [
    {
     "data": {
      "text/html": [
       "<div>\n",
       "<style scoped>\n",
       "    .dataframe tbody tr th:only-of-type {\n",
       "        vertical-align: middle;\n",
       "    }\n",
       "\n",
       "    .dataframe tbody tr th {\n",
       "        vertical-align: top;\n",
       "    }\n",
       "\n",
       "    .dataframe thead th {\n",
       "        text-align: right;\n",
       "    }\n",
       "</style>\n",
       "<table border=\"1\" class=\"dataframe\">\n",
       "  <thead>\n",
       "    <tr style=\"text-align: right;\">\n",
       "      <th></th>\n",
       "      <th>sn_id</th>\n",
       "      <th>en_id</th>\n",
       "      <th>seg_dist</th>\n",
       "      <th>node_angle</th>\n",
       "      <th>snd_id</th>\n",
       "      <th>ord_street_name</th>\n",
       "      <th>ord_street_type</th>\n",
       "      <th>ord_stname_type</th>\n",
       "      <th>ord_stname_concat</th>\n",
       "      <th>ord_stname_unique</th>\n",
       "      <th>...</th>\n",
       "      <th>group_id</th>\n",
       "      <th>city_sector</th>\n",
       "      <th>city_sector_group</th>\n",
       "      <th>street_status</th>\n",
       "      <th>street_status_desc</th>\n",
       "      <th>seg_dist_normalized</th>\n",
       "      <th>radians</th>\n",
       "      <th>theta</th>\n",
       "      <th>line_color</th>\n",
       "      <th>line_dist</th>\n",
       "    </tr>\n",
       "  </thead>\n",
       "  <tbody>\n",
       "    <tr>\n",
       "      <th>5</th>\n",
       "      <td>10324-000</td>\n",
       "      <td>10326-000</td>\n",
       "      <td>170.585456</td>\n",
       "      <td>89.976208</td>\n",
       "      <td>68577</td>\n",
       "      <td>GALER</td>\n",
       "      <td>ST</td>\n",
       "      <td>GALER ST</td>\n",
       "      <td>GALER ST W_CNTR_E</td>\n",
       "      <td>GALER ST W_CNTR_E</td>\n",
       "      <td>...</td>\n",
       "      <td>1</td>\n",
       "      <td>CNTR_E_W</td>\n",
       "      <td>W_CNTR_E</td>\n",
       "      <td>3</td>\n",
       "      <td>added_street: cross-sector</td>\n",
       "      <td>1</td>\n",
       "      <td>1.570381</td>\n",
       "      <td>1.570381</td>\n",
       "      <td>#1a4bed</td>\n",
       "      <td>1.0</td>\n",
       "    </tr>\n",
       "    <tr>\n",
       "      <th>13</th>\n",
       "      <td>10353-000</td>\n",
       "      <td>10363-000</td>\n",
       "      <td>3583.517380</td>\n",
       "      <td>91.031324</td>\n",
       "      <td>68585</td>\n",
       "      <td>GALER</td>\n",
       "      <td>ST</td>\n",
       "      <td>GALER ST</td>\n",
       "      <td>GALER ST W_CNTR_E</td>\n",
       "      <td>GALER ST W_CNTR_E</td>\n",
       "      <td>...</td>\n",
       "      <td>1</td>\n",
       "      <td>CNTR_E_W</td>\n",
       "      <td>W_CNTR_E</td>\n",
       "      <td>3</td>\n",
       "      <td>added_street: cross-sector</td>\n",
       "      <td>1</td>\n",
       "      <td>1.588796</td>\n",
       "      <td>1.588796</td>\n",
       "      <td>#1a4bed</td>\n",
       "      <td>1.0</td>\n",
       "    </tr>\n",
       "  </tbody>\n",
       "</table>\n",
       "<p>2 rows × 23 columns</p>\n",
       "</div>"
      ],
      "text/plain": [
       "        sn_id      en_id     seg_dist  node_angle  snd_id ord_street_name  \\\n",
       "5   10324-000  10326-000   170.585456   89.976208   68577           GALER   \n",
       "13  10353-000  10363-000  3583.517380   91.031324   68585           GALER   \n",
       "\n",
       "   ord_street_type ord_stname_type  ord_stname_concat  ord_stname_unique  ...  \\\n",
       "5               ST        GALER ST  GALER ST W_CNTR_E  GALER ST W_CNTR_E  ...   \n",
       "13              ST        GALER ST  GALER ST W_CNTR_E  GALER ST W_CNTR_E  ...   \n",
       "\n",
       "   group_id city_sector  city_sector_group  street_status  \\\n",
       "5         1    CNTR_E_W           W_CNTR_E              3   \n",
       "13        1    CNTR_E_W           W_CNTR_E              3   \n",
       "\n",
       "            street_status_desc seg_dist_normalized   radians     theta  \\\n",
       "5   added_street: cross-sector                   1  1.570381  1.570381   \n",
       "13  added_street: cross-sector                   1  1.588796  1.588796   \n",
       "\n",
       "    line_color  line_dist  \n",
       "5      #1a4bed        1.0  \n",
       "13     #1a4bed        1.0  \n",
       "\n",
       "[2 rows x 23 columns]"
      ]
     },
     "execution_count": 77,
     "metadata": {},
     "output_type": "execute_result"
    }
   ],
   "source": [
    "ex_line_df.loc[ex_line_df['street_status']==3, ].head()"
   ]
  },
  {
   "cell_type": "code",
   "execution_count": 79,
   "id": "03bcb50e",
   "metadata": {},
   "outputs": [
    {
     "name": "stderr",
     "output_type": "stream",
     "text": [
      "C:\\Users\\babbm\\AppData\\Local\\Temp\\ipykernel_2508\\3404783067.py:6: UserWarning: set_ticklabels() should only be used with a fixed number of ticks, i.e. after set_ticks() or using a FixedLocator.\n",
      "  axs.set_xticklabels(['N', 'NE', 'E', 'SE', 'S', 'SW', 'W', 'NW'])\n"
     ]
    },
    {
     "data": {
      "image/png": "[encoded data removed]",
      "text/plain": [
       "<Figure size 800x800 with 1 Axes>"
      ]
     },
     "metadata": {},
     "output_type": "display_data"
    }
   ],
   "source": [
    "fig, axs = plt.subplots(figsize=(8, 8), subplot_kw={'projection': 'polar'},\n",
    "                        layout='constrained')\n",
    "\n",
    "axs.set_theta_zero_location('N')  # Set zero to North\n",
    "axs.set_theta_direction(-1)  # Reverse the rotation\n",
    "axs.set_xticklabels(['N', 'NE', 'E', 'SE', 'S', 'SW', 'W', 'NW'])\n",
    "\n",
    "for i_row, row in ex_line_df.iterrows():\n",
    "    #axs.plot(row['theta'], row['seg_dist_normalized'], 'g.')\n",
    "    #ax.plot((0, w[0]), (0, w[1]), color=w[2], linewidth=2, zorder=3)\n",
    "    axs.plot((0, row['theta']), (0, row['line_dist']), color=row['line_color'], linewidth=2)\n",
    "\n",
    "plt.show()"
   ]
  },
  {
   "cell_type": "markdown",
   "id": "05d76594",
   "metadata": {},
   "source": [
    "# end"
   ]
  }
 ],
 "metadata": {
  "kernelspec": {
   "display_name": "analysis",
   "language": "python",
   "name": "python3"
  },
  "language_info": {
   "codemirror_mode": {
    "name": "ipython",
    "version": 3
   },
   "file_extension": ".py",
   "mimetype": "text/x-python",
   "name": "python",
   "nbconvert_exporter": "python",
   "pygments_lexer": "ipython3",
   "version": "3.12.7"
  }
 },
 "nbformat": 4,
 "nbformat_minor": 5
}
