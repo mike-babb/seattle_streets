{
 "cells": [
  {
   "cell_type": "markdown",
   "id": "d16cc440-052b-4b64-9e32-9df36be8df5f",
   "metadata": {},
   "source": [
    "# Part 05: Create a simple NetworkX Graphic\n",
    "michael babb  \n",
    "2024 11 24"
   ]
  },
  {
   "cell_type": "code",
   "execution_count": 1,
   "id": "9893406b-0946-4397-ab9e-7072edd47048",
   "metadata": {},
   "outputs": [],
   "source": [
    "# standard\n",
    "import os"
   ]
  },
  {
   "cell_type": "code",
   "execution_count": 2,
   "id": "bfe15750-e525-48c4-8b89-748ef0cdcec3",
   "metadata": {},
   "outputs": [],
   "source": [
    "# external\n",
    "import geopandas as gpd\n",
    "import networkx as nx\n",
    "import numpy as np\n",
    "import pandas as pd\n",
    "import seaborn as sns"
   ]
  },
  {
   "cell_type": "code",
   "execution_count": 3,
   "id": "6bbfb665-0785-4388-b459-be8d0a7f162f",
   "metadata": {},
   "outputs": [],
   "source": [
    "# custom\n",
    "import run_constants as rc\n",
    "from utils import *"
   ]
  },
  {
   "cell_type": "code",
   "execution_count": 4,
   "id": "7508295a-c042-4330-a305-9ec127991b78",
   "metadata": {},
   "outputs": [],
   "source": [
    "fpn = os.path.join(rc.OUTPUT_FILE_PATH, rc.S05_MISSING_IN_FILE_NAME)"
   ]
  },
  {
   "cell_type": "code",
   "execution_count": 5,
   "id": "e00013b9-0660-4c89-93a0-5e828066feba",
   "metadata": {},
   "outputs": [],
   "source": [
    "gdf = gpd.read_file(filename = fpn)"
   ]
  },
  {
   "cell_type": "code",
   "execution_count": 6,
   "id": "808e8085-43f6-4f9c-ad4d-7d7c8caafa1d",
   "metadata": {},
   "outputs": [],
   "source": [
    "gdf['n_segments'] = int(1)"
   ]
  },
  {
   "cell_type": "code",
   "execution_count": 7,
   "id": "90a138e1-19ca-421f-81f6-461f24366546",
   "metadata": {},
   "outputs": [],
   "source": [
    "missing_dict = {0:'complete_street',\n",
    "                1:'disconnected_street',\n",
    "                2:'missing_street'}"
   ]
  },
  {
   "cell_type": "code",
   "execution_count": 8,
   "id": "1a89a70b-d1bf-49f7-899d-844e33e22750",
   "metadata": {},
   "outputs": [],
   "source": [
    "gdf['street_status_desc'] = gdf['street_status'].map(missing_dict)"
   ]
  },
  {
   "cell_type": "code",
   "execution_count": 9,
   "id": "e27c4bff-765d-486f-9e12-29baaa3ef3d0",
   "metadata": {},
   "outputs": [
    {
     "data": {
      "text/plain": [
       "Index(['snd_id', 'ord_street_name', 'ord_stname_concat', 'ord_street_type',\n",
       "       'ord_street_type_rank', 'snd_group', 'street_status', 'sn_id', 'en_id',\n",
       "       'dist', 'dist_miles', 'geometry', 'n_segments', 'street_status_desc'],\n",
       "      dtype='object')"
      ]
     },
     "execution_count": 9,
     "metadata": {},
     "output_type": "execute_result"
    }
   ],
   "source": [
    "gdf.columns"
   ]
  },
  {
   "cell_type": "code",
   "execution_count": 10,
   "id": "bd0c66dd-640c-47a7-bf41-ea7712842a26",
   "metadata": {},
   "outputs": [],
   "source": [
    "# galer"
   ]
  },
  {
   "cell_type": "code",
   "execution_count": 11,
   "id": "87a18610-b710-43ff-99f4-453d736dd90b",
   "metadata": {},
   "outputs": [],
   "source": [
    "temp_gdf = gdf.loc[(gdf['ord_stname_concat'] == 'W GALER ST') &\n",
    "(gdf['street_status'] == 1), :]"
   ]
  },
  {
   "cell_type": "code",
   "execution_count": 12,
   "id": "e7c9a687-1d1b-452d-8481-7d58b42d8f40",
   "metadata": {},
   "outputs": [],
   "source": [
    "temp_gdf = temp_gdf.drop(labels = ['geometry'], axis = 1)"
   ]
  },
  {
   "cell_type": "code",
   "execution_count": 13,
   "id": "4e3221b2-cd79-49ab-bdd2-19f0a2db43b9",
   "metadata": {},
   "outputs": [],
   "source": [
    "g = nx.from_pandas_edgelist(df = temp_gdf, source = 'sn_id', target = 'en_id', edge_attr=True)"
   ]
  },
  {
   "cell_type": "code",
   "execution_count": 14,
   "id": "f18f8d5d-a010-4e01-98eb-d5c113009184",
   "metadata": {},
   "outputs": [
    {
     "name": "stdout",
     "output_type": "stream",
     "text": [
      "[10307, 10306, 10311, 10310, 10324, 10321, 10314, 10316, 10315, 10304, 10301, 10319, 10318, 10308, 10299, 10298, 10303, 10296, 10294, 47731, 10290, 10297]\n",
      "[10292, 10284, 10351]\n",
      "[10361, 10364, 10366]\n",
      "[10272, 10273, 10275, 10276, 10277]\n",
      "[10270, 10239]\n"
     ]
    }
   ],
   "source": [
    "for cc in nx.connected_components(G = g):\n",
    "    # cc is the sub graph\n",
    "    # this is the edge data\n",
    "    #sub_graph = G.subgraph(c).copy() for c in nx.connected_components(G)]\n",
    "    sub_graph = g.subgraph(cc).copy()\n",
    "    print(sub_graph.nodes())"
   ]
  },
  {
   "cell_type": "code",
   "execution_count": 16,
   "id": "9700e39c-90eb-422c-8448-e6b8255fb5d5",
   "metadata": {},
   "outputs": [
    {
     "data": {
      "image/png": "[encoded data removed]",
      "text/plain": [
       "<Figure size 640x480 with 1 Axes>"
      ]
     },
     "metadata": {},
     "output_type": "display_data"
    }
   ],
   "source": [
    "# the graphic will change every time it is run\n",
    "nx.draw(g, node_size = 100, node_color = 'black')"
   ]
  },
  {
   "cell_type": "code",
   "execution_count": null,
   "id": "2374b313-e2e6-4267-a135-3a1e52b26aff",
   "metadata": {},
   "outputs": [],
   "source": []
  },
  {
   "cell_type": "code",
   "execution_count": null,
   "id": "f377777c-d01d-4491-9cd0-bfccbf47ad39",
   "metadata": {},
   "outputs": [],
   "source": []
  }
 ],
 "metadata": {
  "kernelspec": {
   "display_name": "analysis",
   "language": "python",
   "name": "python3"
  },
  "language_info": {
   "codemirror_mode": {
    "name": "ipython",
    "version": 3
   },
   "file_extension": ".py",
   "mimetype": "text/x-python",
   "name": "python",
   "nbconvert_exporter": "python",
   "pygments_lexer": "ipython3",
   "version": "3.12.7"
  }
 },
 "nbformat": 4,
 "nbformat_minor": 5
}
