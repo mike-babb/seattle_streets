{
 "cells": [
  {
   "cell_type": "markdown",
   "id": "fed9e25b-c5b9-4aee-89cd-15a7da3945c0",
   "metadata": {},
   "source": [
    "# Part 08: Visualize seattle street groups by type\n",
    "michael babb  \n",
    "2025 02 18"
   ]
  },
  {
   "cell_type": "code",
   "execution_count": 1,
   "id": "e88ca8b2-b75d-4e72-8fc7-65c4cea61cde",
   "metadata": {},
   "outputs": [],
   "source": [
    "# standard\n",
    "import os"
   ]
  },
  {
   "cell_type": "code",
   "execution_count": 2,
   "id": "0778d9a5-0c62-4724-be28-c21598d23b6f",
   "metadata": {},
   "outputs": [],
   "source": [
    "# external\n",
    "import geopandas as gpd\n",
    "import matplotlib as mpl\n",
    "from matplotlib.gridspec import GridSpec\n",
    "import matplotlib.pyplot as plt\n",
    "import numpy as np\n",
    "import pandas as pd\n",
    "import seaborn as sns"
   ]
  },
  {
   "cell_type": "code",
   "execution_count": 3,
   "id": "2fc61400-c637-4828-820d-56c2cdd14942",
   "metadata": {},
   "outputs": [],
   "source": [
    "# custom\n",
    "import run_constants as rc\n",
    "from utils import get_sort_order"
   ]
  },
  {
   "cell_type": "markdown",
   "id": "d56ea77e-ffd7-4326-b793-415f8a131ef2",
   "metadata": {},
   "source": [
    "# load the working seattle street network data"
   ]
  },
  {
   "cell_type": "code",
   "execution_count": 4,
   "id": "ddf62724-9105-44c9-b983-e4f520328fa9",
   "metadata": {},
   "outputs": [],
   "source": [
    "fpn = os.path.join(rc.OUTPUT_FILE_PATH, rc.S03_SND_WORKING_IN_FILE_NAME)"
   ]
  },
  {
   "cell_type": "code",
   "execution_count": 5,
   "id": "2cbdb5c1-c973-4882-b442-cf5396e90d3e",
   "metadata": {},
   "outputs": [],
   "source": [
    "gdf = gpd.read_file(filename = fpn)"
   ]
  },
  {
   "cell_type": "code",
   "execution_count": 6,
   "id": "390b341e",
   "metadata": {},
   "outputs": [
    {
     "data": {
      "text/plain": [
       "(25773, 39)"
      ]
     },
     "execution_count": 6,
     "metadata": {},
     "output_type": "execute_result"
    }
   ],
   "source": [
    "gdf.shape"
   ]
  },
  {
   "cell_type": "code",
   "execution_count": 7,
   "id": "b2c54149",
   "metadata": {},
   "outputs": [
    {
     "data": {
      "text/plain": [
       "Index(['f_intr_id', 't_intr_id', 'snd_id', 'snd_feacode', 'citycode',\n",
       "       'stname_id', 'st_code', 'arterial_code', 'segment_type', 'agency_code',\n",
       "       'access_code', 'divided_code', 'structure_type', 'legalloc_code',\n",
       "       'vehicle_use_code', 'gis_seg_length', 'l_adrs_from', 'l_adrs_to',\n",
       "       'r_adrs_from', 'r_adrs_to', 'ord_pre_dir', 'ord_street_name',\n",
       "       'ord_street_type', 'ord_suf_dir', 'ord_stname_concat', 'l_city',\n",
       "       'l_state', 'l_zip', 'r_city', 'r_state', 'r_zip', 'sndseg_update',\n",
       "       'compkey', 'comptype', 'unitid', 'unitid2', 'city_sector',\n",
       "       'ord_stname_unique', 'geometry'],\n",
       "      dtype='object')"
      ]
     },
     "execution_count": 7,
     "metadata": {},
     "output_type": "execute_result"
    }
   ],
   "source": [
    "gdf.columns"
   ]
  },
  {
   "cell_type": "code",
   "execution_count": 8,
   "id": "5adf4877",
   "metadata": {},
   "outputs": [
    {
     "data": {
      "text/plain": [
       "(2455,)"
      ]
     },
     "execution_count": 8,
     "metadata": {},
     "output_type": "execute_result"
    }
   ],
   "source": [
    "gdf['ord_stname_concat'].unique().shape"
   ]
  },
  {
   "cell_type": "code",
   "execution_count": 9,
   "id": "966009e4",
   "metadata": {},
   "outputs": [
    {
     "data": {
      "text/plain": [
       "(2457,)"
      ]
     },
     "execution_count": 9,
     "metadata": {},
     "output_type": "execute_result"
    }
   ],
   "source": [
    "gdf['ord_stname_unique'].unique().shape"
   ]
  },
  {
   "cell_type": "code",
   "execution_count": 10,
   "id": "35ddd89f",
   "metadata": {},
   "outputs": [
    {
     "data": {
      "text/plain": [
       "array(['NW', 'N', 'NE', 'CNTR', 'E', 'W', 'S', 'SW'], dtype=object)"
      ]
     },
     "execution_count": 10,
     "metadata": {},
     "output_type": "execute_result"
    }
   ],
   "source": [
    "gdf['city_sector'].unique()"
   ]
  },
  {
   "cell_type": "markdown",
   "id": "bdc6814a",
   "metadata": {},
   "source": [
    "## load the manually created street group data\n",
    "These data were created in Step 6a, but we'll bring them into the Step 3 workflow."
   ]
  },
  {
   "cell_type": "code",
   "execution_count": 11,
   "id": "b490fe46",
   "metadata": {},
   "outputs": [],
   "source": [
    "fpn = os.path.join(rc.INPUT_FILE_PATH, rc.S03_STREET_GROUP_IN_FILE_NAME)"
   ]
  },
  {
   "cell_type": "code",
   "execution_count": 12,
   "id": "7fa5dd23",
   "metadata": {},
   "outputs": [],
   "source": [
    "# ['sort_order', 'ord_street_name', 'ord_street_type', 'city_sector']\n",
    "sg_df = pd.read_excel(io = fpn, index_col=[0, 1, 2, 3])\n",
    "sg_df = sg_df.reset_index()"
   ]
  },
  {
   "cell_type": "code",
   "execution_count": 13,
   "id": "23379a66",
   "metadata": {},
   "outputs": [],
   "source": [
    "# remove some columns\n",
    "drop_cols = ['sort_order', 'progress', 'count']\n",
    "sg_df = sg_df.drop(labels = drop_cols, axis = 1)\n"
   ]
  },
  {
   "cell_type": "code",
   "execution_count": 14,
   "id": "854d1ddd",
   "metadata": {},
   "outputs": [
    {
     "data": {
      "text/plain": [
       "_merge\n",
       "both          19032\n",
       "left_only      6741\n",
       "right_only        0\n",
       "Name: count, dtype: int64"
      ]
     },
     "execution_count": 14,
     "metadata": {},
     "output_type": "execute_result"
    }
   ],
   "source": [
    "test_join = pd.merge(left = gdf, right = sg_df, how = 'outer', indicator=True)\n",
    "test_join['_merge'].value_counts()"
   ]
  },
  {
   "cell_type": "code",
   "execution_count": 15,
   "id": "2b70ebe6",
   "metadata": {},
   "outputs": [],
   "source": [
    "gdf = test_join.drop(labels = ['_merge'], axis = 1)"
   ]
  },
  {
   "cell_type": "code",
   "execution_count": 16,
   "id": "8b70615b",
   "metadata": {},
   "outputs": [
    {
     "data": {
      "text/plain": [
       "(25773, 40)"
      ]
     },
     "execution_count": 16,
     "metadata": {},
     "output_type": "execute_result"
    }
   ],
   "source": [
    "gdf['group_id'] = gdf['group_id'].fillna(1).astype(int)\n",
    "gdf.shape"
   ]
  },
  {
   "cell_type": "markdown",
   "id": "231b9ac7",
   "metadata": {},
   "source": [
    "# create an id across street groups"
   ]
  },
  {
   "cell_type": "code",
   "execution_count": 17,
   "id": "64b62645",
   "metadata": {},
   "outputs": [
    {
     "data": {
      "text/html": [
       "<div>\n",
       "<style scoped>\n",
       "    .dataframe tbody tr th:only-of-type {\n",
       "        vertical-align: middle;\n",
       "    }\n",
       "\n",
       "    .dataframe tbody tr th {\n",
       "        vertical-align: top;\n",
       "    }\n",
       "\n",
       "    .dataframe thead th {\n",
       "        text-align: right;\n",
       "    }\n",
       "</style>\n",
       "<table border=\"1\" class=\"dataframe\">\n",
       "  <thead>\n",
       "    <tr style=\"text-align: right;\">\n",
       "      <th></th>\n",
       "      <th>f_intr_id</th>\n",
       "      <th>t_intr_id</th>\n",
       "      <th>snd_id</th>\n",
       "      <th>snd_feacode</th>\n",
       "      <th>citycode</th>\n",
       "      <th>stname_id</th>\n",
       "      <th>st_code</th>\n",
       "      <th>arterial_code</th>\n",
       "      <th>segment_type</th>\n",
       "      <th>agency_code</th>\n",
       "      <th>...</th>\n",
       "      <th>r_zip</th>\n",
       "      <th>sndseg_update</th>\n",
       "      <th>compkey</th>\n",
       "      <th>comptype</th>\n",
       "      <th>unitid</th>\n",
       "      <th>unitid2</th>\n",
       "      <th>city_sector</th>\n",
       "      <th>ord_stname_unique</th>\n",
       "      <th>geometry</th>\n",
       "      <th>group_id</th>\n",
       "    </tr>\n",
       "  </thead>\n",
       "  <tbody>\n",
       "    <tr>\n",
       "      <th>0</th>\n",
       "      <td>3836</td>\n",
       "      <td>3893</td>\n",
       "      <td>4787</td>\n",
       "      <td>5</td>\n",
       "      <td>1</td>\n",
       "      <td>1955</td>\n",
       "      <td>0</td>\n",
       "      <td>1</td>\n",
       "      <td>1</td>\n",
       "      <td>1</td>\n",
       "      <td>...</td>\n",
       "      <td>98177</td>\n",
       "      <td>2011-09-09 00:00:00+00:00</td>\n",
       "      <td>18112</td>\n",
       "      <td>68</td>\n",
       "      <td>14050</td>\n",
       "      <td>0040</td>\n",
       "      <td>NW</td>\n",
       "      <td>NW 100TH PL</td>\n",
       "      <td>LINESTRING (-122.36206 47.7035, -122.36342 47....</td>\n",
       "      <td>1</td>\n",
       "    </tr>\n",
       "    <tr>\n",
       "      <th>1</th>\n",
       "      <td>3893</td>\n",
       "      <td>3906</td>\n",
       "      <td>4802</td>\n",
       "      <td>5</td>\n",
       "      <td>1</td>\n",
       "      <td>1955</td>\n",
       "      <td>0</td>\n",
       "      <td>1</td>\n",
       "      <td>1</td>\n",
       "      <td>1</td>\n",
       "      <td>...</td>\n",
       "      <td>98177</td>\n",
       "      <td>2011-09-09 00:00:00+00:00</td>\n",
       "      <td>18113</td>\n",
       "      <td>68</td>\n",
       "      <td>14050</td>\n",
       "      <td>0043</td>\n",
       "      <td>NW</td>\n",
       "      <td>NW 100TH PL</td>\n",
       "      <td>LINESTRING (-122.36342 47.70275, -122.36386 47...</td>\n",
       "      <td>1</td>\n",
       "    </tr>\n",
       "    <tr>\n",
       "      <th>2</th>\n",
       "      <td>3906</td>\n",
       "      <td>3973</td>\n",
       "      <td>4864</td>\n",
       "      <td>5</td>\n",
       "      <td>1</td>\n",
       "      <td>1955</td>\n",
       "      <td>0</td>\n",
       "      <td>1</td>\n",
       "      <td>1</td>\n",
       "      <td>1</td>\n",
       "      <td>...</td>\n",
       "      <td>98177</td>\n",
       "      <td>2019-08-13 14:00:50+00:00</td>\n",
       "      <td>18114</td>\n",
       "      <td>68</td>\n",
       "      <td>14050</td>\n",
       "      <td>0070</td>\n",
       "      <td>NW</td>\n",
       "      <td>NW 100TH PL</td>\n",
       "      <td>LINESTRING (-122.36386 47.70251, -122.36535 47...</td>\n",
       "      <td>1</td>\n",
       "    </tr>\n",
       "    <tr>\n",
       "      <th>3</th>\n",
       "      <td>48444</td>\n",
       "      <td>48443</td>\n",
       "      <td>49871</td>\n",
       "      <td>1</td>\n",
       "      <td>0</td>\n",
       "      <td>3767</td>\n",
       "      <td>0</td>\n",
       "      <td>0</td>\n",
       "      <td>1</td>\n",
       "      <td>1</td>\n",
       "      <td>...</td>\n",
       "      <td>98146</td>\n",
       "      <td>2022-07-19 16:58:07+00:00</td>\n",
       "      <td>0</td>\n",
       "      <td>0</td>\n",
       "      <td>0</td>\n",
       "      <td>0</td>\n",
       "      <td>SW</td>\n",
       "      <td>SW 100TH PL</td>\n",
       "      <td>LINESTRING (-122.3403 47.51334, -122.34036 47....</td>\n",
       "      <td>2</td>\n",
       "    </tr>\n",
       "    <tr>\n",
       "      <th>4</th>\n",
       "      <td>3988</td>\n",
       "      <td>3991</td>\n",
       "      <td>4888</td>\n",
       "      <td>1</td>\n",
       "      <td>1</td>\n",
       "      <td>1465</td>\n",
       "      <td>0</td>\n",
       "      <td>0</td>\n",
       "      <td>1</td>\n",
       "      <td>1</td>\n",
       "      <td>...</td>\n",
       "      <td>98133</td>\n",
       "      <td>2005-05-04 00:00:00+00:00</td>\n",
       "      <td>14959</td>\n",
       "      <td>68</td>\n",
       "      <td>11695</td>\n",
       "      <td>0010</td>\n",
       "      <td>N</td>\n",
       "      <td>N 100TH ST</td>\n",
       "      <td>LINESTRING (-122.35809 47.70148, -122.35677 47...</td>\n",
       "      <td>1</td>\n",
       "    </tr>\n",
       "  </tbody>\n",
       "</table>\n",
       "<p>5 rows × 40 columns</p>\n",
       "</div>"
      ],
      "text/plain": [
       "   f_intr_id  t_intr_id  snd_id  snd_feacode  citycode  stname_id  st_code  \\\n",
       "0       3836       3893    4787            5         1       1955        0   \n",
       "1       3893       3906    4802            5         1       1955        0   \n",
       "2       3906       3973    4864            5         1       1955        0   \n",
       "3      48444      48443   49871            1         0       3767        0   \n",
       "4       3988       3991    4888            1         1       1465        0   \n",
       "\n",
       "   arterial_code  segment_type  agency_code  ...  r_zip  \\\n",
       "0              1             1            1  ...  98177   \n",
       "1              1             1            1  ...  98177   \n",
       "2              1             1            1  ...  98177   \n",
       "3              0             1            1  ...  98146   \n",
       "4              0             1            1  ...  98133   \n",
       "\n",
       "              sndseg_update  compkey  comptype  unitid  unitid2  city_sector  \\\n",
       "0 2011-09-09 00:00:00+00:00    18112        68   14050     0040           NW   \n",
       "1 2011-09-09 00:00:00+00:00    18113        68   14050     0043           NW   \n",
       "2 2019-08-13 14:00:50+00:00    18114        68   14050     0070           NW   \n",
       "3 2022-07-19 16:58:07+00:00        0         0       0        0           SW   \n",
       "4 2005-05-04 00:00:00+00:00    14959        68   11695     0010            N   \n",
       "\n",
       "   ord_stname_unique                                           geometry  \\\n",
       "0        NW 100TH PL  LINESTRING (-122.36206 47.7035, -122.36342 47....   \n",
       "1        NW 100TH PL  LINESTRING (-122.36342 47.70275, -122.36386 47...   \n",
       "2        NW 100TH PL  LINESTRING (-122.36386 47.70251, -122.36535 47...   \n",
       "3        SW 100TH PL  LINESTRING (-122.3403 47.51334, -122.34036 47....   \n",
       "4         N 100TH ST  LINESTRING (-122.35809 47.70148, -122.35677 47...   \n",
       "\n",
       "   group_id  \n",
       "0         1  \n",
       "1         1  \n",
       "2         1  \n",
       "3         2  \n",
       "4         1  \n",
       "\n",
       "[5 rows x 40 columns]"
      ]
     },
     "execution_count": 17,
     "metadata": {},
     "output_type": "execute_result"
    }
   ],
   "source": [
    "gdf.head()"
   ]
  },
  {
   "cell_type": "code",
   "execution_count": 18,
   "id": "1722d21c",
   "metadata": {},
   "outputs": [
    {
     "data": {
      "text/plain": [
       "Index(['f_intr_id', 't_intr_id', 'snd_id', 'snd_feacode', 'citycode',\n",
       "       'stname_id', 'st_code', 'arterial_code', 'segment_type', 'agency_code',\n",
       "       'access_code', 'divided_code', 'structure_type', 'legalloc_code',\n",
       "       'vehicle_use_code', 'gis_seg_length', 'l_adrs_from', 'l_adrs_to',\n",
       "       'r_adrs_from', 'r_adrs_to', 'ord_pre_dir', 'ord_street_name',\n",
       "       'ord_street_type', 'ord_suf_dir', 'ord_stname_concat', 'l_city',\n",
       "       'l_state', 'l_zip', 'r_city', 'r_state', 'r_zip', 'sndseg_update',\n",
       "       'compkey', 'comptype', 'unitid', 'unitid2', 'city_sector',\n",
       "       'ord_stname_unique', 'geometry', 'group_id'],\n",
       "      dtype='object')"
      ]
     },
     "execution_count": 18,
     "metadata": {},
     "output_type": "execute_result"
    }
   ],
   "source": [
    "gdf.columns"
   ]
  },
  {
   "cell_type": "code",
   "execution_count": 19,
   "metadata": {},
   "outputs": [],
   "source": [
    "col_names = ['ord_street_name', 'ord_street_type', 'ord_stname_concat',\n",
    "             'ord_stname_unique', 'city_sector', 'group_id']\n",
    "id_df = gdf[col_names].drop_duplicates()"
   ]
  },
  {
   "cell_type": "code",
   "execution_count": 20,
   "id": "fd8779df",
   "metadata": {},
   "outputs": [],
   "source": [
    "id_df['ord_stname_type'] = id_df['ord_street_name'] + ' ' + id_df['ord_street_type']"
   ]
  },
  {
   "cell_type": "code",
   "execution_count": 21,
   "metadata": {},
   "outputs": [],
   "source": [
    "id_df['sort_order'] = id_df['ord_street_name'].map(get_sort_order)"
   ]
  },
  {
   "cell_type": "code",
   "execution_count": 22,
   "id": "e716ecdf",
   "metadata": {},
   "outputs": [],
   "source": [
    "id_df = id_df.sort_values(by = ['sort_order', 'ord_street_type', 'city_sector'])"
   ]
  },
  {
   "cell_type": "code",
   "execution_count": 23,
   "metadata": {},
   "outputs": [
    {
     "data": {
      "text/html": [
       "<div>\n",
       "<style scoped>\n",
       "    .dataframe tbody tr th:only-of-type {\n",
       "        vertical-align: middle;\n",
       "    }\n",
       "\n",
       "    .dataframe tbody tr th {\n",
       "        vertical-align: top;\n",
       "    }\n",
       "\n",
       "    .dataframe thead th {\n",
       "        text-align: right;\n",
       "    }\n",
       "</style>\n",
       "<table border=\"1\" class=\"dataframe\">\n",
       "  <thead>\n",
       "    <tr style=\"text-align: right;\">\n",
       "      <th></th>\n",
       "      <th>ord_street_name</th>\n",
       "      <th>ord_street_type</th>\n",
       "      <th>ord_stname_concat</th>\n",
       "      <th>ord_stname_unique</th>\n",
       "      <th>city_sector</th>\n",
       "      <th>group_id</th>\n",
       "      <th>ord_stname_type</th>\n",
       "      <th>sort_order</th>\n",
       "    </tr>\n",
       "  </thead>\n",
       "  <tbody>\n",
       "    <tr>\n",
       "      <th>3387</th>\n",
       "      <td>1ST</td>\n",
       "      <td>AVE</td>\n",
       "      <td>1ST AVE</td>\n",
       "      <td>1ST AVE CNTR</td>\n",
       "      <td>CNTR</td>\n",
       "      <td>2</td>\n",
       "      <td>1ST AVE</td>\n",
       "      <td>001</td>\n",
       "    </tr>\n",
       "    <tr>\n",
       "      <th>3412</th>\n",
       "      <td>1ST</td>\n",
       "      <td>AVE</td>\n",
       "      <td>1ST AVE N</td>\n",
       "      <td>1ST AVE N</td>\n",
       "      <td>N</td>\n",
       "      <td>2</td>\n",
       "      <td>1ST AVE</td>\n",
       "      <td>001</td>\n",
       "    </tr>\n",
       "    <tr>\n",
       "      <th>3449</th>\n",
       "      <td>1ST</td>\n",
       "      <td>AVE</td>\n",
       "      <td>1ST AVE NE</td>\n",
       "      <td>1ST AVE NE</td>\n",
       "      <td>NE</td>\n",
       "      <td>2</td>\n",
       "      <td>1ST AVE</td>\n",
       "      <td>001</td>\n",
       "    </tr>\n",
       "    <tr>\n",
       "      <th>3504</th>\n",
       "      <td>1ST</td>\n",
       "      <td>AVE</td>\n",
       "      <td>1ST AVE NW</td>\n",
       "      <td>1ST AVE NW</td>\n",
       "      <td>NW</td>\n",
       "      <td>1</td>\n",
       "      <td>1ST AVE</td>\n",
       "      <td>001</td>\n",
       "    </tr>\n",
       "    <tr>\n",
       "      <th>3578</th>\n",
       "      <td>1ST</td>\n",
       "      <td>AVE</td>\n",
       "      <td>1ST AVE S</td>\n",
       "      <td>1ST AVE S</td>\n",
       "      <td>S</td>\n",
       "      <td>2</td>\n",
       "      <td>1ST AVE</td>\n",
       "      <td>001</td>\n",
       "    </tr>\n",
       "  </tbody>\n",
       "</table>\n",
       "</div>"
      ],
      "text/plain": [
       "     ord_street_name ord_street_type ord_stname_concat ord_stname_unique  \\\n",
       "3387             1ST             AVE           1ST AVE      1ST AVE CNTR   \n",
       "3412             1ST             AVE         1ST AVE N         1ST AVE N   \n",
       "3449             1ST             AVE        1ST AVE NE        1ST AVE NE   \n",
       "3504             1ST             AVE        1ST AVE NW        1ST AVE NW   \n",
       "3578             1ST             AVE         1ST AVE S         1ST AVE S   \n",
       "\n",
       "     city_sector  group_id ord_stname_type sort_order  \n",
       "3387        CNTR         2         1ST AVE        001  \n",
       "3412           N         2         1ST AVE        001  \n",
       "3449          NE         2         1ST AVE        001  \n",
       "3504          NW         1         1ST AVE        001  \n",
       "3578           S         2         1ST AVE        001  "
      ]
     },
     "execution_count": 23,
     "metadata": {},
     "output_type": "execute_result"
    }
   ],
   "source": [
    "id_df.head()"
   ]
  },
  {
   "cell_type": "code",
   "execution_count": 24,
   "id": "996dfa24",
   "metadata": {},
   "outputs": [
    {
     "data": {
      "text/plain": [
       "(2457,)"
      ]
     },
     "execution_count": 24,
     "metadata": {},
     "output_type": "execute_result"
    }
   ],
   "source": [
    "id_df['ord_stname_unique'].unique().shape"
   ]
  },
  {
   "cell_type": "code",
   "execution_count": 25,
   "id": "0d907eed",
   "metadata": {},
   "outputs": [],
   "source": [
    "# let's get the groups! can we aggregate this?"
   ]
  },
  {
   "cell_type": "code",
   "execution_count": 26,
   "id": "d5ff5023",
   "metadata": {},
   "outputs": [],
   "source": [
    "col_names = ['sort_order', 'ord_street_name', 'ord_street_type', 'ord_stname_type', 'group_id', 'city_sector']\n",
    "test_agg = id_df[col_names].groupby(col_names[:-1]).agg(city_sector_group = ('city_sector', lambda x: '_'.join(sorted(set(x)))),\n",
    "                                                        n_groups = ('city_sector', lambda x: len(set(x)))).reset_index()"
   ]
  },
  {
   "cell_type": "code",
   "execution_count": 27,
   "id": "f9f6f834",
   "metadata": {},
   "outputs": [
    {
     "data": {
      "text/html": [
       "<div>\n",
       "<style scoped>\n",
       "    .dataframe tbody tr th:only-of-type {\n",
       "        vertical-align: middle;\n",
       "    }\n",
       "\n",
       "    .dataframe tbody tr th {\n",
       "        vertical-align: top;\n",
       "    }\n",
       "\n",
       "    .dataframe thead th {\n",
       "        text-align: right;\n",
       "    }\n",
       "</style>\n",
       "<table border=\"1\" class=\"dataframe\">\n",
       "  <thead>\n",
       "    <tr style=\"text-align: right;\">\n",
       "      <th></th>\n",
       "      <th>sort_order</th>\n",
       "      <th>ord_street_name</th>\n",
       "      <th>ord_street_type</th>\n",
       "      <th>ord_stname_type</th>\n",
       "      <th>group_id</th>\n",
       "      <th>city_sector_group</th>\n",
       "      <th>n_groups</th>\n",
       "    </tr>\n",
       "  </thead>\n",
       "  <tbody>\n",
       "    <tr>\n",
       "      <th>0</th>\n",
       "      <td>001</td>\n",
       "      <td>1ST</td>\n",
       "      <td>AVE</td>\n",
       "      <td>1ST AVE</td>\n",
       "      <td>1</td>\n",
       "      <td>NW_SW_W</td>\n",
       "      <td>3</td>\n",
       "    </tr>\n",
       "    <tr>\n",
       "      <th>1</th>\n",
       "      <td>001</td>\n",
       "      <td>1ST</td>\n",
       "      <td>AVE</td>\n",
       "      <td>1ST AVE</td>\n",
       "      <td>2</td>\n",
       "      <td>CNTR_N_NE_S</td>\n",
       "      <td>4</td>\n",
       "    </tr>\n",
       "    <tr>\n",
       "      <th>2</th>\n",
       "      <td>001</td>\n",
       "      <td>1ST</td>\n",
       "      <td>PL</td>\n",
       "      <td>1ST PL</td>\n",
       "      <td>1</td>\n",
       "      <td>NE</td>\n",
       "      <td>1</td>\n",
       "    </tr>\n",
       "    <tr>\n",
       "      <th>3</th>\n",
       "      <td>002</td>\n",
       "      <td>2ND</td>\n",
       "      <td>AVE</td>\n",
       "      <td>2ND AVE</td>\n",
       "      <td>1</td>\n",
       "      <td>NW_SW_W</td>\n",
       "      <td>3</td>\n",
       "    </tr>\n",
       "    <tr>\n",
       "      <th>4</th>\n",
       "      <td>002</td>\n",
       "      <td>2ND</td>\n",
       "      <td>AVE</td>\n",
       "      <td>2ND AVE</td>\n",
       "      <td>2</td>\n",
       "      <td>CNTR_N_NE_S</td>\n",
       "      <td>4</td>\n",
       "    </tr>\n",
       "  </tbody>\n",
       "</table>\n",
       "</div>"
      ],
      "text/plain": [
       "  sort_order ord_street_name ord_street_type ord_stname_type  group_id  \\\n",
       "0        001             1ST             AVE         1ST AVE         1   \n",
       "1        001             1ST             AVE         1ST AVE         2   \n",
       "2        001             1ST              PL          1ST PL         1   \n",
       "3        002             2ND             AVE         2ND AVE         1   \n",
       "4        002             2ND             AVE         2ND AVE         2   \n",
       "\n",
       "  city_sector_group  n_groups  \n",
       "0           NW_SW_W         3  \n",
       "1       CNTR_N_NE_S         4  \n",
       "2                NE         1  \n",
       "3           NW_SW_W         3  \n",
       "4       CNTR_N_NE_S         4  "
      ]
     },
     "execution_count": 27,
     "metadata": {},
     "output_type": "execute_result"
    }
   ],
   "source": [
    "test_agg.head()"
   ]
  },
  {
   "cell_type": "code",
   "execution_count": 28,
   "id": "f2dac15f",
   "metadata": {},
   "outputs": [
    {
     "data": {
      "text/plain": [
       "(32,)"
      ]
     },
     "execution_count": 28,
     "metadata": {},
     "output_type": "execute_result"
    }
   ],
   "source": [
    "test_agg['city_sector_group'].unique().shape"
   ]
  },
  {
   "cell_type": "code",
   "execution_count": 29,
   "id": "9fc3a8cb",
   "metadata": {},
   "outputs": [
    {
     "data": {
      "text/html": [
       "<div>\n",
       "<style scoped>\n",
       "    .dataframe tbody tr th:only-of-type {\n",
       "        vertical-align: middle;\n",
       "    }\n",
       "\n",
       "    .dataframe tbody tr th {\n",
       "        vertical-align: top;\n",
       "    }\n",
       "\n",
       "    .dataframe thead th {\n",
       "        text-align: right;\n",
       "    }\n",
       "</style>\n",
       "<table border=\"1\" class=\"dataframe\">\n",
       "  <thead>\n",
       "    <tr style=\"text-align: right;\">\n",
       "      <th></th>\n",
       "      <th>sort_order</th>\n",
       "      <th>ord_street_name</th>\n",
       "      <th>ord_street_type</th>\n",
       "      <th>ord_stname_type</th>\n",
       "      <th>group_id</th>\n",
       "      <th>city_sector_group</th>\n",
       "      <th>n_groups</th>\n",
       "    </tr>\n",
       "  </thead>\n",
       "  <tbody>\n",
       "    <tr>\n",
       "      <th>0</th>\n",
       "      <td>001</td>\n",
       "      <td>1ST</td>\n",
       "      <td>AVE</td>\n",
       "      <td>1ST AVE</td>\n",
       "      <td>1</td>\n",
       "      <td>NW_SW_W</td>\n",
       "      <td>3</td>\n",
       "    </tr>\n",
       "    <tr>\n",
       "      <th>1</th>\n",
       "      <td>001</td>\n",
       "      <td>1ST</td>\n",
       "      <td>AVE</td>\n",
       "      <td>1ST AVE</td>\n",
       "      <td>2</td>\n",
       "      <td>CNTR_N_NE_S</td>\n",
       "      <td>4</td>\n",
       "    </tr>\n",
       "    <tr>\n",
       "      <th>2</th>\n",
       "      <td>001</td>\n",
       "      <td>1ST</td>\n",
       "      <td>PL</td>\n",
       "      <td>1ST PL</td>\n",
       "      <td>1</td>\n",
       "      <td>NE</td>\n",
       "      <td>1</td>\n",
       "    </tr>\n",
       "    <tr>\n",
       "      <th>3</th>\n",
       "      <td>002</td>\n",
       "      <td>2ND</td>\n",
       "      <td>AVE</td>\n",
       "      <td>2ND AVE</td>\n",
       "      <td>1</td>\n",
       "      <td>NW_SW_W</td>\n",
       "      <td>3</td>\n",
       "    </tr>\n",
       "    <tr>\n",
       "      <th>4</th>\n",
       "      <td>002</td>\n",
       "      <td>2ND</td>\n",
       "      <td>AVE</td>\n",
       "      <td>2ND AVE</td>\n",
       "      <td>2</td>\n",
       "      <td>CNTR_N_NE_S</td>\n",
       "      <td>4</td>\n",
       "    </tr>\n",
       "  </tbody>\n",
       "</table>\n",
       "</div>"
      ],
      "text/plain": [
       "  sort_order ord_street_name ord_street_type ord_stname_type  group_id  \\\n",
       "0        001             1ST             AVE         1ST AVE         1   \n",
       "1        001             1ST             AVE         1ST AVE         2   \n",
       "2        001             1ST              PL          1ST PL         1   \n",
       "3        002             2ND             AVE         2ND AVE         1   \n",
       "4        002             2ND             AVE         2ND AVE         2   \n",
       "\n",
       "  city_sector_group  n_groups  \n",
       "0           NW_SW_W         3  \n",
       "1       CNTR_N_NE_S         4  \n",
       "2                NE         1  \n",
       "3           NW_SW_W         3  \n",
       "4       CNTR_N_NE_S         4  "
      ]
     },
     "execution_count": 29,
     "metadata": {},
     "output_type": "execute_result"
    }
   ],
   "source": [
    "test_agg.head()"
   ]
  },
  {
   "cell_type": "code",
   "execution_count": 30,
   "id": "793fbfca",
   "metadata": {},
   "outputs": [],
   "source": [
    "# export to excel - this will be manually updated in conjunction with the plots\n",
    "# generated below. This is necessary in order to better label street groups\n",
    "# order the city sectors from top-to-bottom and left-to-right\n",
    "city_sector_check = test_agg[['city_sector_group', 'ord_street_type', 'n_groups']].drop_duplicates().reset_index(drop = True)"
   ]
  },
  {
   "cell_type": "code",
   "execution_count": 31,
   "id": "0ca157a4",
   "metadata": {},
   "outputs": [
    {
     "data": {
      "text/html": [
       "<div>\n",
       "<style scoped>\n",
       "    .dataframe tbody tr th:only-of-type {\n",
       "        vertical-align: middle;\n",
       "    }\n",
       "\n",
       "    .dataframe tbody tr th {\n",
       "        vertical-align: top;\n",
       "    }\n",
       "\n",
       "    .dataframe thead th {\n",
       "        text-align: right;\n",
       "    }\n",
       "</style>\n",
       "<table border=\"1\" class=\"dataframe\">\n",
       "  <thead>\n",
       "    <tr style=\"text-align: right;\">\n",
       "      <th></th>\n",
       "      <th>city_sector_group</th>\n",
       "      <th>ord_street_type</th>\n",
       "      <th>n_groups</th>\n",
       "    </tr>\n",
       "  </thead>\n",
       "  <tbody>\n",
       "    <tr>\n",
       "      <th>0</th>\n",
       "      <td>NW_SW_W</td>\n",
       "      <td>AVE</td>\n",
       "      <td>3</td>\n",
       "    </tr>\n",
       "    <tr>\n",
       "      <th>1</th>\n",
       "      <td>CNTR_N_NE_S</td>\n",
       "      <td>AVE</td>\n",
       "      <td>4</td>\n",
       "    </tr>\n",
       "    <tr>\n",
       "      <th>2</th>\n",
       "      <td>NE</td>\n",
       "      <td>PL</td>\n",
       "      <td>1</td>\n",
       "    </tr>\n",
       "    <tr>\n",
       "      <th>3</th>\n",
       "      <td>SW</td>\n",
       "      <td>LN</td>\n",
       "      <td>1</td>\n",
       "    </tr>\n",
       "    <tr>\n",
       "      <th>4</th>\n",
       "      <td>SW</td>\n",
       "      <td>PL</td>\n",
       "      <td>1</td>\n",
       "    </tr>\n",
       "  </tbody>\n",
       "</table>\n",
       "</div>"
      ],
      "text/plain": [
       "  city_sector_group ord_street_type  n_groups\n",
       "0           NW_SW_W             AVE         3\n",
       "1       CNTR_N_NE_S             AVE         4\n",
       "2                NE              PL         1\n",
       "3                SW              LN         1\n",
       "4                SW              PL         1"
      ]
     },
     "execution_count": 31,
     "metadata": {},
     "output_type": "execute_result"
    }
   ],
   "source": [
    "city_sector_check.head()"
   ]
  },
  {
   "cell_type": "code",
   "execution_count": 32,
   "id": "a0be3aa4",
   "metadata": {},
   "outputs": [
    {
     "data": {
      "text/plain": [
       "(127, 3)"
      ]
     },
     "execution_count": 32,
     "metadata": {},
     "output_type": "execute_result"
    }
   ],
   "source": [
    "city_sector_check.shape"
   ]
  },
  {
   "cell_type": "code",
   "execution_count": 33,
   "id": "1a163b8e",
   "metadata": {},
   "outputs": [],
   "source": [
    "city_sector_check = city_sector_check.sort_values(by = ['city_sector_group', 'ord_street_type'])"
   ]
  },
  {
   "cell_type": "code",
   "execution_count": 34,
   "id": "e60d7028",
   "metadata": {},
   "outputs": [],
   "source": [
    "ofpn = os.path.join(rc.ANALYSIS_OUTPUT_FILE_PATH, rc.S08_CPG_OUTPUT_FILE_NAME)"
   ]
  },
  {
   "cell_type": "code",
   "execution_count": 35,
   "id": "c5828929",
   "metadata": {},
   "outputs": [],
   "source": [
    "city_sector_check.to_excel(excel_writer=ofpn, index = False)"
   ]
  },
  {
   "cell_type": "markdown",
   "id": "063b645a",
   "metadata": {},
   "source": [
    "# join back to the working gdf"
   ]
  },
  {
   "cell_type": "code",
   "execution_count": 36,
   "id": "dcd8f90c",
   "metadata": {},
   "outputs": [
    {
     "data": {
      "text/plain": [
       "Index(['f_intr_id', 't_intr_id', 'snd_id', 'snd_feacode', 'citycode',\n",
       "       'stname_id', 'st_code', 'arterial_code', 'segment_type', 'agency_code',\n",
       "       'access_code', 'divided_code', 'structure_type', 'legalloc_code',\n",
       "       'vehicle_use_code', 'gis_seg_length', 'l_adrs_from', 'l_adrs_to',\n",
       "       'r_adrs_from', 'r_adrs_to', 'ord_pre_dir', 'ord_street_name',\n",
       "       'ord_street_type', 'ord_suf_dir', 'ord_stname_concat', 'l_city',\n",
       "       'l_state', 'l_zip', 'r_city', 'r_state', 'r_zip', 'sndseg_update',\n",
       "       'compkey', 'comptype', 'unitid', 'unitid2', 'city_sector',\n",
       "       'ord_stname_unique', 'geometry', 'group_id'],\n",
       "      dtype='object')"
      ]
     },
     "execution_count": 36,
     "metadata": {},
     "output_type": "execute_result"
    }
   ],
   "source": [
    "gdf.columns"
   ]
  },
  {
   "cell_type": "code",
   "execution_count": 37,
   "id": "38e6e78d",
   "metadata": {},
   "outputs": [],
   "source": [
    "test_join = pd.merge(left = gdf, right = test_agg, how = 'outer', indicator=True)"
   ]
  },
  {
   "cell_type": "code",
   "execution_count": 38,
   "id": "dd72030f",
   "metadata": {},
   "outputs": [
    {
     "data": {
      "text/plain": [
       "_merge\n",
       "both          25773\n",
       "left_only         0\n",
       "right_only        0\n",
       "Name: count, dtype: int64"
      ]
     },
     "execution_count": 38,
     "metadata": {},
     "output_type": "execute_result"
    }
   ],
   "source": [
    "test_join['_merge'].value_counts()"
   ]
  },
  {
   "cell_type": "code",
   "execution_count": 39,
   "metadata": {},
   "outputs": [
    {
     "data": {
      "text/plain": [
       "(25773, 45)"
      ]
     },
     "execution_count": 39,
     "metadata": {},
     "output_type": "execute_result"
    }
   ],
   "source": [
    "test_join.shape"
   ]
  },
  {
   "cell_type": "code",
   "execution_count": 40,
   "id": "af72f260",
   "metadata": {},
   "outputs": [
    {
     "data": {
      "text/plain": [
       "Index(['f_intr_id', 't_intr_id', 'snd_id', 'snd_feacode', 'citycode',\n",
       "       'stname_id', 'st_code', 'arterial_code', 'segment_type', 'agency_code',\n",
       "       'access_code', 'divided_code', 'structure_type', 'legalloc_code',\n",
       "       'vehicle_use_code', 'gis_seg_length', 'l_adrs_from', 'l_adrs_to',\n",
       "       'r_adrs_from', 'r_adrs_to', 'ord_pre_dir', 'ord_street_name',\n",
       "       'ord_street_type', 'ord_suf_dir', 'ord_stname_concat', 'l_city',\n",
       "       'l_state', 'l_zip', 'r_city', 'r_state', 'r_zip', 'sndseg_update',\n",
       "       'compkey', 'comptype', 'unitid', 'unitid2', 'city_sector',\n",
       "       'ord_stname_unique', 'geometry', 'group_id', 'sort_order',\n",
       "       'ord_stname_type', 'city_sector_group', 'n_groups', '_merge'],\n",
       "      dtype='object')"
      ]
     },
     "execution_count": 40,
     "metadata": {},
     "output_type": "execute_result"
    }
   ],
   "source": [
    "test_join.columns"
   ]
  },
  {
   "cell_type": "code",
   "execution_count": 41,
   "id": "ba4def1e",
   "metadata": {},
   "outputs": [],
   "source": [
    "gdf = test_join.drop(labels = '_merge', axis = 1)"
   ]
  },
  {
   "cell_type": "markdown",
   "id": "0a75b29a",
   "metadata": {},
   "source": [
    "# MAKE A PLOT OF THE DIFFERENT CITY GROUPS BY STREET TYPE"
   ]
  },
  {
   "cell_type": "code",
   "execution_count": 42,
   "id": "224e4bfd",
   "metadata": {},
   "outputs": [],
   "source": [
    "# use the same colors for each city sector\n",
    "cdm = {}\n",
    "dir_list = ['CNTR', 'E', 'N', 'NE', 'NW', 'S', 'SW', 'W']\n",
    "for idir, dir_value in enumerate(dir_list):\n",
    "    cdm[dir_value] = mpl.colormaps[\"Dark2\"].colors[idir]\n",
    "\n",
    "my_cmap = mpl.colors.ListedColormap([cdm[c] for c in dir_list])"
   ]
  },
  {
   "cell_type": "code",
   "execution_count": 43,
   "metadata": {},
   "outputs": [],
   "source": [
    "wgdf = gdf.loc[gdf['n_groups'] > 1, :].copy()"
   ]
  },
  {
   "cell_type": "code",
   "execution_count": 44,
   "metadata": {},
   "outputs": [
    {
     "data": {
      "text/plain": [
       "(18184, 44)"
      ]
     },
     "execution_count": 44,
     "metadata": {},
     "output_type": "execute_result"
    }
   ],
   "source": [
    "wgdf.shape"
   ]
  },
  {
   "cell_type": "code",
   "execution_count": 45,
   "metadata": {},
   "outputs": [],
   "source": [
    "col_names = ['city_sector_group', 'ord_street_type']\n",
    "control_df = wgdf[col_names].drop_duplicates()"
   ]
  },
  {
   "cell_type": "code",
   "execution_count": 46,
   "id": "9aca914c",
   "metadata": {},
   "outputs": [
    {
     "data": {
      "text/plain": [
       "(40, 2)"
      ]
     },
     "execution_count": 46,
     "metadata": {},
     "output_type": "execute_result"
    }
   ],
   "source": [
    "control_df.shape"
   ]
  },
  {
   "cell_type": "code",
   "execution_count": 47,
   "id": "b6427ece",
   "metadata": {},
   "outputs": [
    {
     "data": {
      "text/html": [
       "<div>\n",
       "<style scoped>\n",
       "    .dataframe tbody tr th:only-of-type {\n",
       "        vertical-align: middle;\n",
       "    }\n",
       "\n",
       "    .dataframe tbody tr th {\n",
       "        vertical-align: top;\n",
       "    }\n",
       "\n",
       "    .dataframe thead th {\n",
       "        text-align: right;\n",
       "    }\n",
       "</style>\n",
       "<table border=\"1\" class=\"dataframe\">\n",
       "  <thead>\n",
       "    <tr style=\"text-align: right;\">\n",
       "      <th></th>\n",
       "      <th>city_sector_group</th>\n",
       "      <th>ord_street_type</th>\n",
       "    </tr>\n",
       "  </thead>\n",
       "  <tbody>\n",
       "    <tr>\n",
       "      <th>4</th>\n",
       "      <td>N_NE_NW</td>\n",
       "      <td>ST</td>\n",
       "    </tr>\n",
       "    <tr>\n",
       "      <th>73</th>\n",
       "      <td>S_SW</td>\n",
       "      <td>ST</td>\n",
       "    </tr>\n",
       "    <tr>\n",
       "      <th>126</th>\n",
       "      <td>N_NW</td>\n",
       "      <td>ST</td>\n",
       "    </tr>\n",
       "    <tr>\n",
       "      <th>144</th>\n",
       "      <td>N_NE</td>\n",
       "      <td>ST</td>\n",
       "    </tr>\n",
       "    <tr>\n",
       "      <th>561</th>\n",
       "      <td>NE_NW</td>\n",
       "      <td>ST</td>\n",
       "    </tr>\n",
       "  </tbody>\n",
       "</table>\n",
       "</div>"
      ],
      "text/plain": [
       "    city_sector_group ord_street_type\n",
       "4             N_NE_NW              ST\n",
       "73               S_SW              ST\n",
       "126              N_NW              ST\n",
       "144              N_NE              ST\n",
       "561             NE_NW              ST"
      ]
     },
     "execution_count": 47,
     "metadata": {},
     "output_type": "execute_result"
    }
   ],
   "source": [
    "control_df.head()"
   ]
  },
  {
   "cell_type": "code",
   "execution_count": 48,
   "id": "ad5c9970",
   "metadata": {},
   "outputs": [],
   "source": [
    "# plot bounds to use across each plot\n",
    "bounds = [-122.4197794277490061,47.4803548409661005, -122.2200188105690017,47.7341482423694004]"
   ]
  },
  {
   "cell_type": "code",
   "execution_count": 49,
   "metadata": {},
   "outputs": [],
   "source": [
    "# load the boundaries of the city sectors\n",
    "ifpn = os.path.join(rc.OUTPUT_FILE_PATH, rc.S02_CITY_SECTORS_OUT_FILE_NAME)\n",
    "cs_gdf = gpd.read_file(filename=ifpn)"
   ]
  },
  {
   "cell_type": "code",
   "execution_count": 50,
   "id": "c4834b71",
   "metadata": {},
   "outputs": [
    {
     "data": {
      "text/html": [
       "<div>\n",
       "<style scoped>\n",
       "    .dataframe tbody tr th:only-of-type {\n",
       "        vertical-align: middle;\n",
       "    }\n",
       "\n",
       "    .dataframe tbody tr th {\n",
       "        vertical-align: top;\n",
       "    }\n",
       "\n",
       "    .dataframe thead th {\n",
       "        text-align: right;\n",
       "    }\n",
       "</style>\n",
       "<table border=\"1\" class=\"dataframe\">\n",
       "  <thead>\n",
       "    <tr style=\"text-align: right;\">\n",
       "      <th></th>\n",
       "      <th>city_sector_group</th>\n",
       "      <th>ord_street_type</th>\n",
       "    </tr>\n",
       "  </thead>\n",
       "  <tbody>\n",
       "    <tr>\n",
       "      <th>4</th>\n",
       "      <td>N_NE_NW</td>\n",
       "      <td>ST</td>\n",
       "    </tr>\n",
       "    <tr>\n",
       "      <th>73</th>\n",
       "      <td>S_SW</td>\n",
       "      <td>ST</td>\n",
       "    </tr>\n",
       "    <tr>\n",
       "      <th>126</th>\n",
       "      <td>N_NW</td>\n",
       "      <td>ST</td>\n",
       "    </tr>\n",
       "    <tr>\n",
       "      <th>144</th>\n",
       "      <td>N_NE</td>\n",
       "      <td>ST</td>\n",
       "    </tr>\n",
       "    <tr>\n",
       "      <th>561</th>\n",
       "      <td>NE_NW</td>\n",
       "      <td>ST</td>\n",
       "    </tr>\n",
       "  </tbody>\n",
       "</table>\n",
       "</div>"
      ],
      "text/plain": [
       "    city_sector_group ord_street_type\n",
       "4             N_NE_NW              ST\n",
       "73               S_SW              ST\n",
       "126              N_NW              ST\n",
       "144              N_NE              ST\n",
       "561             NE_NW              ST"
      ]
     },
     "execution_count": 50,
     "metadata": {},
     "output_type": "execute_result"
    }
   ],
   "source": [
    "control_df.head()"
   ]
  },
  {
   "cell_type": "code",
   "execution_count": 51,
   "id": "7a6f0e9d",
   "metadata": {},
   "outputs": [],
   "source": [
    "ost = 'BR'\n",
    "pgdf = gdf.loc[(gdf['ord_street_type'] == ost), :]"
   ]
  },
  {
   "cell_type": "code",
   "execution_count": 52,
   "id": "6a136c14",
   "metadata": {},
   "outputs": [
    {
     "data": {
      "text/plain": [
       "array(['S', 'N', 'NW_W', 'CNTR', 'W', 'E', 'SW', 'E_NE'], dtype=object)"
      ]
     },
     "execution_count": 52,
     "metadata": {},
     "output_type": "execute_result"
    }
   ],
   "source": [
    "pgdf['city_sector_group'].unique()"
   ]
  },
  {
   "cell_type": "code",
   "execution_count": 53,
   "id": "b63521d3",
   "metadata": {},
   "outputs": [
    {
     "data": {
      "text/html": [
       "<div>\n",
       "<style scoped>\n",
       "    .dataframe tbody tr th:only-of-type {\n",
       "        vertical-align: middle;\n",
       "    }\n",
       "\n",
       "    .dataframe tbody tr th {\n",
       "        vertical-align: top;\n",
       "    }\n",
       "\n",
       "    .dataframe thead th {\n",
       "        text-align: right;\n",
       "    }\n",
       "</style>\n",
       "<table border=\"1\" class=\"dataframe\">\n",
       "  <thead>\n",
       "    <tr style=\"text-align: right;\">\n",
       "      <th></th>\n",
       "      <th>f_intr_id</th>\n",
       "      <th>t_intr_id</th>\n",
       "      <th>snd_id</th>\n",
       "      <th>snd_feacode</th>\n",
       "      <th>citycode</th>\n",
       "      <th>stname_id</th>\n",
       "      <th>st_code</th>\n",
       "      <th>arterial_code</th>\n",
       "      <th>segment_type</th>\n",
       "      <th>agency_code</th>\n",
       "      <th>...</th>\n",
       "      <th>unitid</th>\n",
       "      <th>unitid2</th>\n",
       "      <th>city_sector</th>\n",
       "      <th>ord_stname_unique</th>\n",
       "      <th>geometry</th>\n",
       "      <th>group_id</th>\n",
       "      <th>sort_order</th>\n",
       "      <th>ord_stname_type</th>\n",
       "      <th>city_sector_group</th>\n",
       "      <th>n_groups</th>\n",
       "    </tr>\n",
       "  </thead>\n",
       "  <tbody>\n",
       "    <tr>\n",
       "      <th>2947</th>\n",
       "      <td>47553</td>\n",
       "      <td>17931</td>\n",
       "      <td>38578</td>\n",
       "      <td>5</td>\n",
       "      <td>0</td>\n",
       "      <td>2870</td>\n",
       "      <td>0</td>\n",
       "      <td>1</td>\n",
       "      <td>1</td>\n",
       "      <td>1</td>\n",
       "      <td>...</td>\n",
       "      <td>00705</td>\n",
       "      <td>0820</td>\n",
       "      <td>S</td>\n",
       "      <td>16TH AV S BR</td>\n",
       "      <td>LINESTRING (-122.31449 47.52947, -122.31456 47...</td>\n",
       "      <td>1</td>\n",
       "      <td>016</td>\n",
       "      <td>16TH AV S BR</td>\n",
       "      <td>S</td>\n",
       "      <td>1</td>\n",
       "    </tr>\n",
       "    <tr>\n",
       "      <th>14143</th>\n",
       "      <td>8947</td>\n",
       "      <td>8739</td>\n",
       "      <td>11489</td>\n",
       "      <td>5</td>\n",
       "      <td>1</td>\n",
       "      <td>2966</td>\n",
       "      <td>1</td>\n",
       "      <td>1</td>\n",
       "      <td>1</td>\n",
       "      <td>1</td>\n",
       "      <td>...</td>\n",
       "      <td>05254</td>\n",
       "      <td>0258</td>\n",
       "      <td>N</td>\n",
       "      <td>AURORA BR N</td>\n",
       "      <td>LINESTRING (-122.34732 47.64855, -122.34732 47...</td>\n",
       "      <td>1</td>\n",
       "      <td>AURORA</td>\n",
       "      <td>AURORA BR</td>\n",
       "      <td>N</td>\n",
       "      <td>1</td>\n",
       "    </tr>\n",
       "    <tr>\n",
       "      <th>14144</th>\n",
       "      <td>9107</td>\n",
       "      <td>8947</td>\n",
       "      <td>16480</td>\n",
       "      <td>5</td>\n",
       "      <td>1</td>\n",
       "      <td>2966</td>\n",
       "      <td>0</td>\n",
       "      <td>1</td>\n",
       "      <td>1</td>\n",
       "      <td>1</td>\n",
       "      <td>...</td>\n",
       "      <td>05254</td>\n",
       "      <td>0258</td>\n",
       "      <td>N</td>\n",
       "      <td>AURORA BR N</td>\n",
       "      <td>LINESTRING (-122.3473 47.64604, -122.34731 47....</td>\n",
       "      <td>1</td>\n",
       "      <td>AURORA</td>\n",
       "      <td>AURORA BR</td>\n",
       "      <td>N</td>\n",
       "      <td>1</td>\n",
       "    </tr>\n",
       "    <tr>\n",
       "      <th>14145</th>\n",
       "      <td>9358</td>\n",
       "      <td>9107</td>\n",
       "      <td>16776</td>\n",
       "      <td>5</td>\n",
       "      <td>1</td>\n",
       "      <td>2966</td>\n",
       "      <td>1</td>\n",
       "      <td>1</td>\n",
       "      <td>1</td>\n",
       "      <td>1</td>\n",
       "      <td>...</td>\n",
       "      <td>05254</td>\n",
       "      <td>0258</td>\n",
       "      <td>N</td>\n",
       "      <td>AURORA BR N</td>\n",
       "      <td>LINESTRING (-122.34717 47.643, -122.34719 47.6...</td>\n",
       "      <td>1</td>\n",
       "      <td>AURORA</td>\n",
       "      <td>AURORA BR</td>\n",
       "      <td>N</td>\n",
       "      <td>1</td>\n",
       "    </tr>\n",
       "    <tr>\n",
       "      <th>14236</th>\n",
       "      <td>7743</td>\n",
       "      <td>7517</td>\n",
       "      <td>10647</td>\n",
       "      <td>5</td>\n",
       "      <td>1</td>\n",
       "      <td>2974</td>\n",
       "      <td>0</td>\n",
       "      <td>1</td>\n",
       "      <td>1</td>\n",
       "      <td>1</td>\n",
       "      <td>...</td>\n",
       "      <td>05315</td>\n",
       "      <td>0440</td>\n",
       "      <td>NW</td>\n",
       "      <td>BALLARD BR NW</td>\n",
       "      <td>LINESTRING (-122.37624 47.66008, -122.37624 47...</td>\n",
       "      <td>1</td>\n",
       "      <td>BALLARD</td>\n",
       "      <td>BALLARD BR</td>\n",
       "      <td>NW_W</td>\n",
       "      <td>2</td>\n",
       "    </tr>\n",
       "  </tbody>\n",
       "</table>\n",
       "<p>5 rows × 44 columns</p>\n",
       "</div>"
      ],
      "text/plain": [
       "       f_intr_id  t_intr_id  snd_id  snd_feacode  citycode  stname_id  \\\n",
       "2947       47553      17931   38578            5         0       2870   \n",
       "14143       8947       8739   11489            5         1       2966   \n",
       "14144       9107       8947   16480            5         1       2966   \n",
       "14145       9358       9107   16776            5         1       2966   \n",
       "14236       7743       7517   10647            5         1       2974   \n",
       "\n",
       "       st_code  arterial_code  segment_type  agency_code  ...  unitid  \\\n",
       "2947         0              1             1            1  ...   00705   \n",
       "14143        1              1             1            1  ...   05254   \n",
       "14144        0              1             1            1  ...   05254   \n",
       "14145        1              1             1            1  ...   05254   \n",
       "14236        0              1             1            1  ...   05315   \n",
       "\n",
       "       unitid2  city_sector  ord_stname_unique  \\\n",
       "2947      0820            S       16TH AV S BR   \n",
       "14143     0258            N        AURORA BR N   \n",
       "14144     0258            N        AURORA BR N   \n",
       "14145     0258            N        AURORA BR N   \n",
       "14236     0440           NW      BALLARD BR NW   \n",
       "\n",
       "                                                geometry  group_id  \\\n",
       "2947   LINESTRING (-122.31449 47.52947, -122.31456 47...         1   \n",
       "14143  LINESTRING (-122.34732 47.64855, -122.34732 47...         1   \n",
       "14144  LINESTRING (-122.3473 47.64604, -122.34731 47....         1   \n",
       "14145  LINESTRING (-122.34717 47.643, -122.34719 47.6...         1   \n",
       "14236  LINESTRING (-122.37624 47.66008, -122.37624 47...         1   \n",
       "\n",
       "       sort_order  ord_stname_type  city_sector_group  n_groups  \n",
       "2947          016     16TH AV S BR                  S         1  \n",
       "14143      AURORA        AURORA BR                  N         1  \n",
       "14144      AURORA        AURORA BR                  N         1  \n",
       "14145      AURORA        AURORA BR                  N         1  \n",
       "14236     BALLARD       BALLARD BR               NW_W         2  \n",
       "\n",
       "[5 rows x 44 columns]"
      ]
     },
     "execution_count": 53,
     "metadata": {},
     "output_type": "execute_result"
    }
   ],
   "source": [
    "pgdf.head()"
   ]
  },
  {
   "cell_type": "code",
   "execution_count": 54,
   "id": "605e5500",
   "metadata": {},
   "outputs": [
    {
     "name": "stdout",
     "output_type": "stream",
     "text": [
      "../../../project/seattle_streets/print/city_sector_groups\\ST_N_NE_NW.png\n",
      "../../../project/seattle_streets/print/city_sector_groups\\ST_S_SW.png\n",
      "../../../project/seattle_streets/print/city_sector_groups\\ST_N_NW.png\n",
      "../../../project/seattle_streets/print/city_sector_groups\\ST_N_NE.png\n",
      "../../../project/seattle_streets/print/city_sector_groups\\ST_NE_NW.png\n",
      "../../../project/seattle_streets/print/city_sector_groups\\AVE_NW_SW_W.png\n",
      "../../../project/seattle_streets/print/city_sector_groups\\AVE_CNTR_E_NE_S.png\n",
      "../../../project/seattle_streets/print/city_sector_groups\\AVE_CNTR_E_S.png\n",
      "../../../project/seattle_streets/print/city_sector_groups\\AVE_CNTR_N_NE_S.png\n",
      "../../../project/seattle_streets/print/city_sector_groups\\AVE_SW_W.png\n",
      "../../../project/seattle_streets/print/city_sector_groups\\AVE_E_NE_S.png\n",
      "../../../project/seattle_streets/print/city_sector_groups\\AVE_NE_S.png\n",
      "../../../project/seattle_streets/print/city_sector_groups\\PL_S_SW.png\n",
      "../../../project/seattle_streets/print/city_sector_groups\\WAY_CNTR_S_W.png\n",
      "../../../project/seattle_streets/print/city_sector_groups\\ST_CNTR_E.png\n",
      "../../../project/seattle_streets/print/city_sector_groups\\ST_CNTR_E_W.png\n",
      "../../../project/seattle_streets/print/city_sector_groups\\ST_CNTR_W.png\n",
      "../../../project/seattle_streets/print/city_sector_groups\\BR_NW_W.png\n",
      "../../../project/seattle_streets/print/city_sector_groups\\AVE_CNTR_E.png\n",
      "../../../project/seattle_streets/print/city_sector_groups\\AVE_CNTR_N_S.png\n",
      "../../../project/seattle_streets/print/city_sector_groups\\CT_S_SW.png\n",
      "../../../project/seattle_streets/print/city_sector_groups\\WAY_CNTR_E_W.png\n",
      "../../../project/seattle_streets/print/city_sector_groups\\AVE_CNTR_N.png\n",
      "../../../project/seattle_streets/print/city_sector_groups\\AVE_CNTR_E_NE.png\n",
      "../../../project/seattle_streets/print/city_sector_groups\\AVE_CNTR_W.png\n",
      "../../../project/seattle_streets/print/city_sector_groups\\AVE_CNTR_E_N.png\n",
      "../../../project/seattle_streets/print/city_sector_groups\\DR_CNTR_E_W.png\n",
      "../../../project/seattle_streets/print/city_sector_groups\\RD_N_NW.png\n",
      "../../../project/seattle_streets/print/city_sector_groups\\DR_NE_S.png\n",
      "../../../project/seattle_streets/print/city_sector_groups\\BLVD_CNTR_E_S.png\n",
      "../../../project/seattle_streets/print/city_sector_groups\\AVE_CNTR_NE_S.png\n",
      "../../../project/seattle_streets/print/city_sector_groups\\WAY_CNTR_E_S.png\n",
      "../../../project/seattle_streets/print/city_sector_groups\\BLVD_E_NE.png\n",
      "../../../project/seattle_streets/print/city_sector_groups\\ST_S_W.png\n",
      "../../../project/seattle_streets/print/city_sector_groups\\WAY_N_NE.png\n",
      "../../../project/seattle_streets/print/city_sector_groups\\WAY_CNTR_E.png\n",
      "../../../project/seattle_streets/print/city_sector_groups\\RD_S_SW.png\n",
      "../../../project/seattle_streets/print/city_sector_groups\\BR_E_NE.png\n",
      "../../../project/seattle_streets/print/city_sector_groups\\WAY_S_SW.png\n",
      "../../../project/seattle_streets/print/city_sector_groups\\AVE_N_NE.png\n"
     ]
    }
   ],
   "source": [
    "make_plots = True\n",
    "if make_plots:\n",
    "    for cr, crow in control_df.iterrows():\n",
    "        cpg = crow['city_sector_group']\n",
    "        ost = crow['ord_street_type']\n",
    "\n",
    "        output_file_name = f\"{ost}_{cpg}.png\"\n",
    "        ofpn = os.path.join(rc.S08_PLOT_OUTPUT_FILE_PATH_CITY_SECTOR_GROUPS, output_file_name)\n",
    "        print(ofpn)\n",
    "\n",
    "        # now, let's make a map...\n",
    "        pgdf = gdf.loc[(gdf['city_sector_group'] == cpg) &\n",
    "                    (gdf['ord_street_type'] == ost), :]\n",
    "        to_draw = pgdf[['city_sector', 'geometry']].dissolve(by = 'city_sector', as_index = False)\n",
    "        #to_draw['coords'] = to_draw['geometry'].map(lambda x: x.centroid.coords[0])\n",
    "        fig = plt.figure(layout = 'constrained', figsize = (5, 10))\n",
    "        gs = GridSpec(1,1, figure = fig, height_ratios = [1])\n",
    "        ax1 = fig.add_subplot(gs[0,0])\n",
    "        ax1.set_xlim(bounds[0], bounds[2])\n",
    "        ax1.set_ylim(bounds[1], bounds[3])\n",
    "        cs_gdf.plot(ax = ax1, column = 'city_sector', alpha = .2)\n",
    "        to_draw.plot(ax = ax1, column = 'city_sector', cmap = my_cmap,  linewidth = 5, legend = True)\n",
    "\n",
    "        #for irrow, row in to_draw.iterrows():    \n",
    "        #    ax1.annotate(text=row['city_sector'], xy=row['coords'], fontsize = 16 )\n",
    "\n",
    "        ax1.set_axis_off()\n",
    "        \n",
    "        my_title = f\"Street Type: {ost} | City Sector Group {cpg}\"\n",
    "        plt.title(label = my_title)\n",
    "\n",
    "        #plt.show()\n",
    "\n",
    "        fig.savefig(fname = ofpn)\n",
    "        plt.close()"
   ]
  },
  {
   "cell_type": "code",
   "execution_count": null,
   "id": "a0998236",
   "metadata": {},
   "outputs": [],
   "source": []
  }
 ],
 "metadata": {
  "kernelspec": {
   "display_name": "analysis",
   "language": "python",
   "name": "python3"
  },
  "language_info": {
   "codemirror_mode": {
    "name": "ipython",
    "version": 3
   },
   "file_extension": ".py",
   "mimetype": "text/x-python",
   "name": "python",
   "nbconvert_exporter": "python",
   "pygments_lexer": "ipython3",
   "version": "3.12.7"
  }
 },
 "nbformat": 4,
 "nbformat_minor": 5
}
