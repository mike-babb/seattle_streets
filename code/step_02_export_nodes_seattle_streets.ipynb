{
 "cells": [
  {
   "cell_type": "markdown",
   "id": "fed9e25b-c5b9-4aee-89cd-15a7da3945c0",
   "metadata": {},
   "source": [
    "## Part 02: Export nodes and select working streets\n",
    "michael babb  \n",
    "2024 11 24"
   ]
  },
  {
   "cell_type": "code",
   "execution_count": 1,
   "id": "e88ca8b2-b75d-4e72-8fc7-65c4cea61cde",
   "metadata": {},
   "outputs": [],
   "source": [
    "# standard\n",
    "import os"
   ]
  },
  {
   "cell_type": "code",
   "execution_count": 2,
   "id": "0778d9a5-0c62-4724-be28-c21598d23b6f",
   "metadata": {},
   "outputs": [],
   "source": [
    "# external\n",
    "import geopandas as gpd\n",
    "import numpy as np\n",
    "import pandas as pd\n",
    "import shapely"
   ]
  },
  {
   "cell_type": "code",
   "execution_count": 3,
   "id": "b8dac5db",
   "metadata": {},
   "outputs": [],
   "source": [
    "# custom\n",
    "import run_constants as rc\n",
    "from utils import generate_street_end_vertices, write_gdf"
   ]
  },
  {
   "cell_type": "markdown",
   "id": "d56ea77e-ffd7-4326-b793-415f8a131ef2",
   "metadata": {},
   "source": [
    "# load the streetnetwork"
   ]
  },
  {
   "cell_type": "code",
   "execution_count": 4,
   "id": "ddf62724-9105-44c9-b983-e4f520328fa9",
   "metadata": {},
   "outputs": [],
   "source": [
    "fpn = os.path.join(rc.OUTPUT_FILE_PATH, rc.S02_SND_IN_FILE_NAME)"
   ]
  },
  {
   "cell_type": "code",
   "execution_count": 6,
   "id": "2cbdb5c1-c973-4882-b442-cf5396e90d3e",
   "metadata": {},
   "outputs": [],
   "source": [
    "gdf = gpd.read_file(filename = fpn)"
   ]
  },
  {
   "cell_type": "code",
   "execution_count": 7,
   "id": "4310f297",
   "metadata": {},
   "outputs": [],
   "source": [
    "# update the city portion variable"
   ]
  },
  {
   "cell_type": "code",
   "execution_count": 8,
   "id": "caa84c1f",
   "metadata": {},
   "outputs": [],
   "source": [
    "# after performing some analysis in qGIS, we can quickly identify the central streets\n",
    "fpn = os.path.join(rc.INPUT_FILE_PATH, rc.S02_CENTRAL_STREETS_IN_FILE_NAME)\n",
    "cs_df = pd.read_csv(filepath_or_buffer=fpn)\n"
   ]
  },
  {
   "cell_type": "code",
   "execution_count": 9,
   "id": "e44029eb",
   "metadata": {},
   "outputs": [
    {
     "data": {
      "text/html": [
       "<div>\n",
       "<style scoped>\n",
       "    .dataframe tbody tr th:only-of-type {\n",
       "        vertical-align: middle;\n",
       "    }\n",
       "\n",
       "    .dataframe tbody tr th {\n",
       "        vertical-align: top;\n",
       "    }\n",
       "\n",
       "    .dataframe thead th {\n",
       "        text-align: right;\n",
       "    }\n",
       "</style>\n",
       "<table border=\"1\" class=\"dataframe\">\n",
       "  <thead>\n",
       "    <tr style=\"text-align: right;\">\n",
       "      <th></th>\n",
       "      <th>snd_id</th>\n",
       "      <th>temp_city_group</th>\n",
       "    </tr>\n",
       "  </thead>\n",
       "  <tbody>\n",
       "    <tr>\n",
       "      <th>0</th>\n",
       "      <td>21082</td>\n",
       "      <td>CNTR</td>\n",
       "    </tr>\n",
       "    <tr>\n",
       "      <th>1</th>\n",
       "      <td>25880</td>\n",
       "      <td>CNTR</td>\n",
       "    </tr>\n",
       "    <tr>\n",
       "      <th>2</th>\n",
       "      <td>16760</td>\n",
       "      <td>CNTR</td>\n",
       "    </tr>\n",
       "    <tr>\n",
       "      <th>3</th>\n",
       "      <td>20437</td>\n",
       "      <td>CNTR</td>\n",
       "    </tr>\n",
       "    <tr>\n",
       "      <th>4</th>\n",
       "      <td>21232</td>\n",
       "      <td>CNTR</td>\n",
       "    </tr>\n",
       "  </tbody>\n",
       "</table>\n",
       "</div>"
      ],
      "text/plain": [
       "   snd_id temp_city_group\n",
       "0   21082            CNTR\n",
       "1   25880            CNTR\n",
       "2   16760            CNTR\n",
       "3   20437            CNTR\n",
       "4   21232            CNTR"
      ]
     },
     "execution_count": 9,
     "metadata": {},
     "output_type": "execute_result"
    }
   ],
   "source": [
    "cs_df.head()"
   ]
  },
  {
   "cell_type": "code",
   "execution_count": 10,
   "id": "46e364cd",
   "metadata": {},
   "outputs": [
    {
     "data": {
      "text/plain": [
       "_merge\n",
       "left_only     32667\n",
       "both           1711\n",
       "right_only        0\n",
       "Name: count, dtype: int64"
      ]
     },
     "execution_count": 10,
     "metadata": {},
     "output_type": "execute_result"
    }
   ],
   "source": [
    "test_join = pd.merge(left = gdf, right = cs_df, how = 'left', indicator = True)\n",
    "test_join.shape\n",
    "test_join['_merge'].value_counts()"
   ]
  },
  {
   "cell_type": "code",
   "execution_count": 11,
   "id": "4c734f82",
   "metadata": {},
   "outputs": [
    {
     "data": {
      "text/plain": [
       "Index(['f_intr_id', 't_intr_id', 'snd_id', 'snd_feacode', 'citycode',\n",
       "       'stname_id', 'st_code', 'arterial_code', 'segment_type', 'agency_code',\n",
       "       'access_code', 'divided_code', 'structure_type', 'legalloc_code',\n",
       "       'vehicle_use_code', 'gis_seg_length', 'l_adrs_from', 'l_adrs_to',\n",
       "       'r_adrs_from', 'r_adrs_to', 'ord_pre_dir', 'ord_street_name',\n",
       "       'ord_street_type', 'ord_suf_dir', 'ord_stname_concat', 'l_city',\n",
       "       'l_state', 'l_zip', 'r_city', 'r_state', 'r_zip', 'sndseg_update',\n",
       "       'compkey', 'comptype', 'unitid', 'unitid2', 'city_portion', 'geometry',\n",
       "       'temp_city_group', '_merge'],\n",
       "      dtype='object')"
      ]
     },
     "execution_count": 11,
     "metadata": {},
     "output_type": "execute_result"
    }
   ],
   "source": [
    "test_join.columns"
   ]
  },
  {
   "cell_type": "code",
   "execution_count": 12,
   "id": "4c89a399",
   "metadata": {},
   "outputs": [],
   "source": [
    "test_join.loc[test_join['_merge'] == 'both', 'city_portion'] = \\\n",
    "test_join.loc[test_join['_merge'] == 'both', 'temp_city_group']"
   ]
  },
  {
   "cell_type": "code",
   "execution_count": 13,
   "id": "1c5fbea5",
   "metadata": {},
   "outputs": [],
   "source": [
    "write_gdf(gdf = test_join, output_file_path=rc.OUTPUT_FILE_PATH,\n",
    "          output_file_name='test_city_portion_update.gpkg')"
   ]
  },
  {
   "cell_type": "code",
   "execution_count": 15,
   "id": "3538cda1",
   "metadata": {},
   "outputs": [],
   "source": [
    "drop_col_names = ['temp_city_group', '_merge']\n",
    "gdf = test_join.drop(labels = drop_col_names, axis = 1).copy()"
   ]
  },
  {
   "cell_type": "markdown",
   "id": "0ee23f19-dc28-461b-a434-9e91a73f264a",
   "metadata": {},
   "source": [
    "# generate street end vertices - these will be helpful with identification in subsequent steps"
   ]
  },
  {
   "cell_type": "code",
   "execution_count": 16,
   "id": "a802c5c0-882a-46e4-a2e1-7a9bd82cf41c",
   "metadata": {},
   "outputs": [
    {
     "data": {
      "text/plain": [
       "geometry\n",
       "MultiLineString    34378\n",
       "Name: count, dtype: int64"
      ]
     },
     "execution_count": 16,
     "metadata": {},
     "output_type": "execute_result"
    }
   ],
   "source": [
    "# can we generate the vertices? yes... but let's check what type of geometry we are working with\n",
    "gdf['geometry'].map(lambda x: x.geom_type).value_counts()"
   ]
  },
  {
   "cell_type": "code",
   "execution_count": 17,
   "id": "a017e0db-7ec9-466d-947f-4794a53262e4",
   "metadata": {},
   "outputs": [],
   "source": [
    "# everything is a MultLineString??? is that necessary?\n",
    "# we can call the gdf.explode() function to convert MultiLineStrings to LineStrings\n",
    "# if the record counts are the same, we can convert everything to LineStrings "
   ]
  },
  {
   "cell_type": "code",
   "execution_count": 18,
   "id": "8e4a3fc9-0f55-4f48-96f5-d770ba24193d",
   "metadata": {},
   "outputs": [],
   "source": [
    "test_gdf = gdf.explode()"
   ]
  },
  {
   "cell_type": "code",
   "execution_count": 19,
   "id": "2e3c65b0-9e32-4c96-ba8c-b6340f928e90",
   "metadata": {},
   "outputs": [
    {
     "data": {
      "text/plain": [
       "(34378, 38)"
      ]
     },
     "execution_count": 19,
     "metadata": {},
     "output_type": "execute_result"
    }
   ],
   "source": [
    "test_gdf.shape"
   ]
  },
  {
   "cell_type": "code",
   "execution_count": 20,
   "id": "2243cebc-9900-47e2-9b7a-2ec6b47176b8",
   "metadata": {},
   "outputs": [],
   "source": [
    "# nope! The number of records is the same, indicating that MultiLineStrings are not necessary"
   ]
  },
  {
   "cell_type": "code",
   "execution_count": 21,
   "id": "3faf243f-ebf2-43fc-9ffd-262ac4448290",
   "metadata": {},
   "outputs": [],
   "source": [
    "gdf = test_gdf.copy()"
   ]
  },
  {
   "cell_type": "code",
   "execution_count": 22,
   "id": "ce5bfa9e-a29f-42b9-9b24-01a8ed0594b0",
   "metadata": {},
   "outputs": [
    {
     "data": {
      "text/plain": [
       "LineString    34378\n",
       "Name: count, dtype: int64"
      ]
     },
     "execution_count": 22,
     "metadata": {},
     "output_type": "execute_result"
    }
   ],
   "source": [
    "gdf['geometry'].geom_type.value_counts()"
   ]
  },
  {
   "cell_type": "code",
   "execution_count": 23,
   "id": "606f209b-76da-440c-b422-de54f825bc54",
   "metadata": {},
   "outputs": [],
   "source": [
    "gdf, node_gdf = generate_street_end_vertices(gdf = gdf)"
   ]
  },
  {
   "cell_type": "code",
   "execution_count": 24,
   "id": "8425070b-771f-4eac-9ef7-fc1d08304a7b",
   "metadata": {},
   "outputs": [],
   "source": [
    "write_gdf(gdf = node_gdf, output_file_path=rc.OUTPUT_FILE_PATH,\n",
    "          output_file_name= rc.S02_NODE_OUT_FILE_NAME)"
   ]
  },
  {
   "cell_type": "markdown",
   "id": "df755b23-e11c-4719-8028-42d48bc74a8d",
   "metadata": {},
   "source": [
    "# import the manually classified streets to update streets without a classification. "
   ]
  },
  {
   "cell_type": "code",
   "execution_count": 25,
   "id": "342b546d-6072-45cb-bc8f-8148e857e919",
   "metadata": {},
   "outputs": [],
   "source": [
    "fpn = os.path.join(rc.INPUT_FILE_PATH, rc.S02_BST_IN_FILE_NAME)"
   ]
  },
  {
   "cell_type": "code",
   "execution_count": 26,
   "id": "5f0c6695-b1ab-426c-ac2e-2268331131a9",
   "metadata": {},
   "outputs": [],
   "source": [
    "blank_street_type_df = pd.read_excel(io = fpn)"
   ]
  },
  {
   "cell_type": "code",
   "execution_count": 27,
   "id": "5390f24e-0e11-48b2-afc9-8e505a71a78e",
   "metadata": {},
   "outputs": [
    {
     "data": {
      "text/html": [
       "<div>\n",
       "<style scoped>\n",
       "    .dataframe tbody tr th:only-of-type {\n",
       "        vertical-align: middle;\n",
       "    }\n",
       "\n",
       "    .dataframe tbody tr th {\n",
       "        vertical-align: top;\n",
       "    }\n",
       "\n",
       "    .dataframe thead th {\n",
       "        text-align: right;\n",
       "    }\n",
       "</style>\n",
       "<table border=\"1\" class=\"dataframe\">\n",
       "  <thead>\n",
       "    <tr style=\"text-align: right;\">\n",
       "      <th></th>\n",
       "      <th>ord_stname_concat</th>\n",
       "      <th>ord_street_type_fix</th>\n",
       "    </tr>\n",
       "  </thead>\n",
       "  <tbody>\n",
       "    <tr>\n",
       "      <th>0</th>\n",
       "      <td>NE SUNRISE VISTA</td>\n",
       "      <td>ST</td>\n",
       "    </tr>\n",
       "    <tr>\n",
       "      <th>1</th>\n",
       "      <td>NW ESPLANADE</td>\n",
       "      <td>ST</td>\n",
       "    </tr>\n",
       "    <tr>\n",
       "      <th>2</th>\n",
       "      <td>BROADWAY E</td>\n",
       "      <td>ST</td>\n",
       "    </tr>\n",
       "    <tr>\n",
       "      <th>3</th>\n",
       "      <td>FAUNTLEE CREST SW</td>\n",
       "      <td>ST</td>\n",
       "    </tr>\n",
       "    <tr>\n",
       "      <th>4</th>\n",
       "      <td>NE FOREST VISTA</td>\n",
       "      <td>ST</td>\n",
       "    </tr>\n",
       "  </tbody>\n",
       "</table>\n",
       "</div>"
      ],
      "text/plain": [
       "   ord_stname_concat ord_street_type_fix\n",
       "0   NE SUNRISE VISTA                  ST\n",
       "1       NW ESPLANADE                  ST\n",
       "2         BROADWAY E                  ST\n",
       "3  FAUNTLEE CREST SW                  ST\n",
       "4    NE FOREST VISTA                  ST"
      ]
     },
     "execution_count": 27,
     "metadata": {},
     "output_type": "execute_result"
    }
   ],
   "source": [
    "blank_street_type_df.head()"
   ]
  },
  {
   "cell_type": "code",
   "execution_count": 28,
   "id": "35858c52-641f-46b6-b7bb-c9a31f0d9889",
   "metadata": {},
   "outputs": [],
   "source": [
    "gdf = pd.merge(left = gdf, right = blank_street_type_df, how = 'left')"
   ]
  },
  {
   "cell_type": "code",
   "execution_count": 29,
   "id": "b72310c6-e543-4f5c-8df0-989da7b03d13",
   "metadata": {},
   "outputs": [],
   "source": [
    "gdf.loc[gdf['ord_street_type'].isna(), 'ord_street_type'] = gdf.loc[gdf['ord_street_type'].isna(), 'ord_street_type_fix']"
   ]
  },
  {
   "cell_type": "code",
   "execution_count": 30,
   "id": "bb4958cc-9880-44dc-9079-2adf57b94982",
   "metadata": {},
   "outputs": [
    {
     "data": {
      "text/plain": [
       "array(['AVE', 'CT', 'ST', 'PL', 'LN', 'RD', 'DR', 'WAY', 'PKWY', 'BLVD',\n",
       "       'CIR', 'TER', 'AL', 'RP', 'LOOP', 'SR', 'IS', 'OP', 'TRL', 'RR',\n",
       "       'BR', 'WKWY', 'ET', 'STCR', 'VIEW', 'FLYOVER', 'HWY', 'RN', 'PZ',\n",
       "       'MALL'], dtype=object)"
      ]
     },
     "execution_count": 30,
     "metadata": {},
     "output_type": "execute_result"
    }
   ],
   "source": [
    "gdf['ord_street_type'].unique()"
   ]
  },
  {
   "cell_type": "code",
   "execution_count": 31,
   "id": "38c9f78f-4f4e-4a85-bda6-b67b128316ba",
   "metadata": {},
   "outputs": [],
   "source": [
    "gdf = gdf.drop(labels = ['ord_street_type_fix'], axis = 1)"
   ]
  },
  {
   "cell_type": "markdown",
   "id": "9cc63170-dd96-48de-8c7d-ec3b2b2da3fb",
   "metadata": {},
   "source": [
    "# keep only streets in Seattle"
   ]
  },
  {
   "cell_type": "code",
   "execution_count": 32,
   "id": "ca8e9187-935b-4f32-a8db-ffae99bd7f8a",
   "metadata": {},
   "outputs": [],
   "source": [
    "gdf = gdf.loc[(gdf['l_city'] == 'SEATTLE') |\n",
    "(gdf['r_city'] == 'SEATTLE'), :].copy()"
   ]
  },
  {
   "cell_type": "code",
   "execution_count": 35,
   "id": "2a92b6e9",
   "metadata": {},
   "outputs": [
    {
     "data": {
      "text/plain": [
       "(27891, 38)"
      ]
     },
     "execution_count": 35,
     "metadata": {},
     "output_type": "execute_result"
    }
   ],
   "source": [
    "gdf.shape"
   ]
  },
  {
   "cell_type": "markdown",
   "id": "666fabe5-c82f-453b-b546-3f742e5b5fb1",
   "metadata": {},
   "source": [
    "# write the full seattle streets to disk"
   ]
  },
  {
   "cell_type": "code",
   "execution_count": 33,
   "id": "43ad560a-a2ce-4adf-b635-0780d9391a3a",
   "metadata": {},
   "outputs": [],
   "source": [
    "write_gdf(gdf = gdf, output_file_path=rc.OUTPUT_FILE_PATH,\n",
    "          output_file_name=rc.S02_SND_FULL_OUT_FILE_NAME)"
   ]
  },
  {
   "cell_type": "markdown",
   "id": "2f79b6ae-a9ff-4491-9826-f990134a50d2",
   "metadata": {},
   "source": [
    "# export the individual street portions to make the different sections"
   ]
  },
  {
   "cell_type": "code",
   "execution_count": 38,
   "id": "74454335-5b74-427e-aabc-abff001c4ffe",
   "metadata": {},
   "outputs": [],
   "source": [
    "# working_gdf\n",
    "# winnow down the list of streets to get what we're looking for\n",
    "q_str = 'segment_type in (1, )'\n",
    "wgdf = gdf.query(expr = q_str)"
   ]
  },
  {
   "cell_type": "markdown",
   "id": "9647fa0b",
   "metadata": {},
   "source": [
    "# draw a convex hull around each group of city streets"
   ]
  },
  {
   "cell_type": "code",
   "execution_count": 39,
   "id": "220bf124-65d7-4c87-89e2-3dd803cde54d",
   "metadata": {},
   "outputs": [
    {
     "name": "stdout",
     "output_type": "stream",
     "text": [
      "S\n",
      "E\n",
      "NW\n",
      "N\n",
      "CNTR\n",
      "NE\n",
      "SW\n",
      "W\n"
     ]
    }
   ],
   "source": [
    "data_list = []\n",
    "geom_list = []\n",
    "for cp in wgdf['city_portion'].unique().tolist():\n",
    "    print(cp)\n",
    "    temp_geoms = wgdf.loc[wgdf['city_portion'] == cp, 'geometry']\n",
    "    \n",
    "    # create the convex hull\n",
    "    geoms = shapely.unary_union(geometries = temp_geoms)\n",
    "    cvx_hull = shapely.convex_hull(geometry = geoms)\n",
    "    temp_list = [cp, 'convex']\n",
    "    data_list.append(temp_list)\n",
    "    geom_list.append(cvx_hull)"
   ]
  },
  {
   "cell_type": "code",
   "execution_count": 40,
   "id": "ac8c512c-8695-4279-9d18-9898c364146a",
   "metadata": {},
   "outputs": [],
   "source": [
    "output_gdf = gpd.GeoDataFrame(data = data_list, columns = ['city_portion', 'hull_type'], geometry = geom_list, crs = 'epsg:4326')"
   ]
  },
  {
   "cell_type": "code",
   "execution_count": 41,
   "id": "bc53fa34-9b14-4589-bb5e-d43c78a98ea3",
   "metadata": {},
   "outputs": [],
   "source": [
    "write_gdf(gdf = output_gdf, output_file_path=rc.OUTPUT_FILE_PATH,\n",
    "          output_file_name=rc.S02_CITY_SECTIONS_OUT_FILE_NAME)"
   ]
  },
  {
   "cell_type": "code",
   "execution_count": null,
   "id": "f97e2f9d",
   "metadata": {},
   "outputs": [],
   "source": []
  },
  {
   "cell_type": "markdown",
   "id": "65c81d0e",
   "metadata": {},
   "source": [
    "# Keep only streets with segment_type == 1, these are actual streets.\n",
    "Everything else not a street (rail, trail, staircase, etc...).  \n",
    "`segment_type == 15` is a stub, a dangling piece of a street, usually around 50 feet or less.  \n",
    "Very short! There are 362 of them."
   ]
  },
  {
   "cell_type": "code",
   "execution_count": null,
   "id": "0d5bd2a8",
   "metadata": {},
   "outputs": [],
   "source": [
    "gdf['segment_type'].value_counts()"
   ]
  },
  {
   "cell_type": "code",
   "execution_count": null,
   "id": "b276c080",
   "metadata": {},
   "outputs": [],
   "source": [
    "# before...\n",
    "gdf.shape"
   ]
  },
  {
   "cell_type": "code",
   "execution_count": 39,
   "id": "3c329bc7",
   "metadata": {},
   "outputs": [],
   "source": [
    "gdf = gdf.loc[gdf['segment_type'] == 1, :].copy()"
   ]
  },
  {
   "cell_type": "code",
   "execution_count": null,
   "id": "e8dafe4e",
   "metadata": {},
   "outputs": [],
   "source": [
    "# after...\n",
    "gdf.shape"
   ]
  },
  {
   "cell_type": "markdown",
   "id": "07ec39b8-6b4d-4b08-b425-401532342d13",
   "metadata": {},
   "source": [
    "# remove the following streets types:"
   ]
  },
  {
   "cell_type": "markdown",
   "id": "d22a0a93-529b-43ec-a554-42d7babac178",
   "metadata": {},
   "source": [
    "AL: alley  \n",
    "TRL: trail  \n",
    "OP: overpass  \n",
    "IS: interstate  \n",
    "SR: state route  \n",
    "RR: rail  \n",
    "FLYOVER: flyover  \n",
    "STCR: streetcar  \n",
    "ET: extension  \n",
    "RN: turn  \n",
    "RP: highway ramps  \n",
    "WKWY: walkways  "
   ]
  },
  {
   "cell_type": "code",
   "execution_count": 41,
   "id": "dedc0b62-80a5-40cf-a08f-f22cdb70b007",
   "metadata": {},
   "outputs": [],
   "source": [
    "# remove streets of the following type\n",
    "street_type_to_remove = [ 'AL', 'TRL', 'OP', 'IS', 'SR', 'RR', 'FLYOVER', 'STCR', 'ET', 'RN', 'RP', 'WKWY']"
   ]
  },
  {
   "cell_type": "code",
   "execution_count": null,
   "id": "4cccc313-31c7-4c25-a3fd-7f6c10075b38",
   "metadata": {},
   "outputs": [],
   "source": [
    "# before...\n",
    "gdf.shape"
   ]
  },
  {
   "cell_type": "code",
   "execution_count": null,
   "id": "7d7f8dae",
   "metadata": {},
   "outputs": [],
   "source": [
    "# what street types are left?\n",
    "gdf['ord_street_type'].unique()"
   ]
  },
  {
   "cell_type": "code",
   "execution_count": 44,
   "id": "341a6852-40fa-41d0-8b39-55ac96fca8e8",
   "metadata": {},
   "outputs": [],
   "source": [
    "# remove...\n",
    "gdf = gdf.loc[-gdf['ord_street_type'].isin(street_type_to_remove), :].copy()"
   ]
  },
  {
   "cell_type": "code",
   "execution_count": null,
   "id": "d812acd6-735b-4630-a4ff-769cacb00b7f",
   "metadata": {},
   "outputs": [],
   "source": [
    "# after..\n",
    "gdf.shape"
   ]
  },
  {
   "cell_type": "code",
   "execution_count": null,
   "id": "d0de6687-a001-48e4-bc72-c699b5ed2a36",
   "metadata": {},
   "outputs": [],
   "source": [
    "# what street types are left?\n",
    "gdf['ord_street_type'].unique()"
   ]
  },
  {
   "cell_type": "markdown",
   "id": "0797a51c",
   "metadata": {},
   "source": [
    "# remove other short segments that appear to be invalid."
   ]
  },
  {
   "cell_type": "code",
   "execution_count": 48,
   "id": "693dc46d",
   "metadata": {},
   "outputs": [],
   "source": [
    "# uncomment to remove the erroneous segments\n",
    "err_segments = pd.read_csv(filepath_or_buffer='../data/streets_to_remove.txt')\n"
   ]
  },
  {
   "cell_type": "code",
   "execution_count": null,
   "id": "cf3e555c",
   "metadata": {},
   "outputs": [],
   "source": [
    "# examine the erroneous segments\n",
    "tgdf = gdf.loc[gdf['snd_id'].isin(err_segments['snd_id']), :].copy()\n",
    "tgdf['gis_seg_length'].describe()\n",
    "# very short!"
   ]
  },
  {
   "cell_type": "code",
   "execution_count": null,
   "id": "151fdb19",
   "metadata": {},
   "outputs": [],
   "source": [
    "# check names...\n",
    "tgdf['ord_stname_concat'].unique().tolist()"
   ]
  },
  {
   "cell_type": "code",
   "execution_count": null,
   "id": "b3d727a9",
   "metadata": {},
   "outputs": [],
   "source": [
    "tgdf['segment_type'].unique()"
   ]
  },
  {
   "cell_type": "code",
   "execution_count": null,
   "id": "b18aec30",
   "metadata": {},
   "outputs": [],
   "source": [
    "tgdf.head()"
   ]
  },
  {
   "cell_type": "code",
   "execution_count": 53,
   "id": "2a2d78d2",
   "metadata": {},
   "outputs": [],
   "source": [
    "# remove the erroneous segments\n",
    "gdf = gdf.loc[-gdf['snd_id'].isin(err_segments['snd_id']), :].copy()"
   ]
  },
  {
   "cell_type": "code",
   "execution_count": null,
   "id": "74a992e4",
   "metadata": {},
   "outputs": [],
   "source": [
    "# after\n",
    "gdf.shape"
   ]
  },
  {
   "cell_type": "code",
   "execution_count": null,
   "id": "be679901",
   "metadata": {},
   "outputs": [],
   "source": [
    "# unique roads\n",
    "gdf['ord_stname_concat'].unique().shape"
   ]
  },
  {
   "cell_type": "code",
   "execution_count": null,
   "id": "27027af2",
   "metadata": {},
   "outputs": [],
   "source": [
    "# total miles\n",
    "gdf['gis_seg_length'].sum() / 5280"
   ]
  },
  {
   "cell_type": "markdown",
   "id": "c7b5f605-1e1b-4df6-8141-86b38ef66891",
   "metadata": {},
   "source": [
    "# save as a gdf - overwrite"
   ]
  },
  {
   "cell_type": "code",
   "execution_count": 57,
   "id": "33f44c2a-1e42-45f0-8cc3-70864f8b4efd",
   "metadata": {},
   "outputs": [],
   "source": [
    "write_gdf(gdf = gdf, output_file_path = rc.OUTPUT_FILE_PATH,\n",
    "          output_file_name =  rc.S02_SND_WORKING_OUT_FILE_NAME)"
   ]
  },
  {
   "cell_type": "code",
   "execution_count": null,
   "id": "a33b6dc7",
   "metadata": {},
   "outputs": [],
   "source": []
  }
 ],
 "metadata": {
  "kernelspec": {
   "display_name": "analysis",
   "language": "python",
   "name": "python3"
  },
  "language_info": {
   "codemirror_mode": {
    "name": "ipython",
    "version": 3
   },
   "file_extension": ".py",
   "mimetype": "text/x-python",
   "name": "python",
   "nbconvert_exporter": "python",
   "pygments_lexer": "ipython3",
   "version": "3.12.7"
  }
 },
 "nbformat": 4,
 "nbformat_minor": 5
}
