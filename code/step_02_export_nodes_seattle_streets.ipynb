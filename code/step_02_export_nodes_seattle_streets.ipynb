{
 "cells": [
  {
   "cell_type": "markdown",
   "id": "fed9e25b-c5b9-4aee-89cd-15a7da3945c0",
   "metadata": {},
   "source": [
    "## Part 02: Export nodes and select working streets\n",
    "michael babb  \n",
    "2024 11 24"
   ]
  },
  {
   "cell_type": "code",
   "execution_count": 1,
   "id": "e88ca8b2-b75d-4e72-8fc7-65c4cea61cde",
   "metadata": {},
   "outputs": [],
   "source": [
    "# standard\n",
    "import os\n",
    "import collections"
   ]
  },
  {
   "cell_type": "code",
   "execution_count": 2,
   "id": "0778d9a5-0c62-4724-be28-c21598d23b6f",
   "metadata": {},
   "outputs": [],
   "source": [
    "# external\n",
    "from concave_hull import concave_hull\n",
    "import geopandas as gpd\n",
    "import numpy as np\n",
    "import pandas as pd\n",
    "import shapely\n",
    "from shapely import Point, MultiPoint"
   ]
  },
  {
   "cell_type": "code",
   "execution_count": 3,
   "id": "b8dac5db",
   "metadata": {},
   "outputs": [],
   "source": [
    "# custom\n",
    "import run_constants as rc\n",
    "from utils import create_name, generate_street_end_vertices, write_gdf, write_json"
   ]
  },
  {
   "cell_type": "markdown",
   "id": "d56ea77e-ffd7-4326-b793-415f8a131ef2",
   "metadata": {},
   "source": [
    "# load the street network"
   ]
  },
  {
   "cell_type": "code",
   "execution_count": 4,
   "id": "ddf62724-9105-44c9-b983-e4f520328fa9",
   "metadata": {},
   "outputs": [],
   "source": [
    "fpn = os.path.join(rc.OUTPUT_FILE_PATH, rc.S02_SND_IN_FILE_NAME)"
   ]
  },
  {
   "cell_type": "code",
   "execution_count": 5,
   "id": "2cbdb5c1-c973-4882-b442-cf5396e90d3e",
   "metadata": {},
   "outputs": [],
   "source": [
    "gdf = gpd.read_file(filename = fpn)"
   ]
  },
  {
   "cell_type": "code",
   "execution_count": 6,
   "id": "69b4418d",
   "metadata": {},
   "outputs": [
    {
     "data": {
      "text/plain": [
       "(34378, 39)"
      ]
     },
     "execution_count": 6,
     "metadata": {},
     "output_type": "execute_result"
    }
   ],
   "source": [
    "gdf.shape"
   ]
  },
  {
   "cell_type": "code",
   "execution_count": 7,
   "id": "9426ddf9",
   "metadata": {},
   "outputs": [
    {
     "data": {
      "text/plain": [
       "(3696,)"
      ]
     },
     "execution_count": 7,
     "metadata": {},
     "output_type": "execute_result"
    }
   ],
   "source": [
    "gdf['ord_stname_unique'].unique().shape"
   ]
  },
  {
   "cell_type": "markdown",
   "id": "725c1e88-fe6f-438a-9dfc-eb8a1d49a417",
   "metadata": {},
   "source": [
    "# generate street end vertices - these will be helpful with identification in subsequent steps"
   ]
  },
  {
   "cell_type": "code",
   "execution_count": 8,
   "id": "13b06779-1a88-4cd4-90e5-9705f3e80981",
   "metadata": {},
   "outputs": [
    {
     "data": {
      "text/plain": [
       "geometry\n",
       "MultiLineString    34378\n",
       "Name: count, dtype: int64"
      ]
     },
     "execution_count": 8,
     "metadata": {},
     "output_type": "execute_result"
    }
   ],
   "source": [
    "# can we generate the vertices? yes... but let's check what type of geometry we are working with\n",
    "gdf['geometry'].map(lambda x: x.geom_type).value_counts()"
   ]
  },
  {
   "cell_type": "code",
   "execution_count": 9,
   "id": "2b131f8c-cc3e-4783-a3c5-cb14ec5b1e90",
   "metadata": {},
   "outputs": [],
   "source": [
    "# everything is a MultLineString??? is that necessary?\n",
    "# we can call the gdf.explode() function to convert MultiLineStrings to LineStrings\n",
    "# if the record counts are the same, we can convert everything to LineStrings \n",
    "test_gdf = gdf.explode()"
   ]
  },
  {
   "cell_type": "code",
   "execution_count": 10,
   "id": "a37aea2e-89c6-4f32-9fb5-dccc6b1e55e1",
   "metadata": {},
   "outputs": [
    {
     "data": {
      "text/plain": [
       "(34378, 39)"
      ]
     },
     "execution_count": 10,
     "metadata": {},
     "output_type": "execute_result"
    }
   ],
   "source": [
    "test_gdf.shape"
   ]
  },
  {
   "cell_type": "code",
   "execution_count": 11,
   "id": "3846d885-8a86-4181-a055-8a5652ac85a2",
   "metadata": {},
   "outputs": [],
   "source": [
    "# nope! The number of records is the same, indicating that MultiLineStrings are not necessary\n",
    "gdf = test_gdf.copy()"
   ]
  },
  {
   "cell_type": "code",
   "execution_count": 12,
   "id": "95db5d72-931d-4214-9ae9-03d05a622370",
   "metadata": {},
   "outputs": [
    {
     "data": {
      "text/plain": [
       "LineString    34378\n",
       "Name: count, dtype: int64"
      ]
     },
     "execution_count": 12,
     "metadata": {},
     "output_type": "execute_result"
    }
   ],
   "source": [
    "gdf['geometry'].geom_type.value_counts()"
   ]
  },
  {
   "cell_type": "code",
   "execution_count": 13,
   "id": "a1fa2779-c751-4fb5-8495-e5dfa6d24445",
   "metadata": {},
   "outputs": [],
   "source": [
    "gdf, node_gdf = generate_street_end_vertices(gdf = gdf)"
   ]
  },
  {
   "cell_type": "code",
   "execution_count": 14,
   "id": "560e8bb6-0a03-44ae-926b-5fda55998c05",
   "metadata": {},
   "outputs": [],
   "source": [
    "write_gdf(gdf = node_gdf, output_file_path=rc.OUTPUT_FILE_PATH,\n",
    "          output_file_name= rc.S02_NODE_OUT_FILE_NAME)"
   ]
  },
  {
   "cell_type": "markdown",
   "id": "073d9155-bc7a-4088-95c5-39ff650f4c24",
   "metadata": {},
   "source": [
    "# import the manually classified streets to update streets without a classification. "
   ]
  },
  {
   "cell_type": "code",
   "execution_count": 15,
   "id": "51fe0f73-246f-4f17-8fb6-19001b06dff3",
   "metadata": {},
   "outputs": [],
   "source": [
    "fpn = os.path.join(rc.INPUT_FILE_PATH, rc.S02_BST_IN_FILE_NAME)"
   ]
  },
  {
   "cell_type": "code",
   "execution_count": 16,
   "id": "4278aa87-32da-45d9-9409-0ad7b6391667",
   "metadata": {},
   "outputs": [],
   "source": [
    "blank_street_type_df = pd.read_excel(io = fpn)"
   ]
  },
  {
   "cell_type": "code",
   "execution_count": 17,
   "id": "c22610b5-eb2a-4128-9af9-efaf2fb3ecc7",
   "metadata": {},
   "outputs": [
    {
     "data": {
      "text/html": [
       "<div>\n",
       "<style scoped>\n",
       "    .dataframe tbody tr th:only-of-type {\n",
       "        vertical-align: middle;\n",
       "    }\n",
       "\n",
       "    .dataframe tbody tr th {\n",
       "        vertical-align: top;\n",
       "    }\n",
       "\n",
       "    .dataframe thead th {\n",
       "        text-align: right;\n",
       "    }\n",
       "</style>\n",
       "<table border=\"1\" class=\"dataframe\">\n",
       "  <thead>\n",
       "    <tr style=\"text-align: right;\">\n",
       "      <th></th>\n",
       "      <th>ord_stname_concat</th>\n",
       "      <th>ord_street_type_fix</th>\n",
       "    </tr>\n",
       "  </thead>\n",
       "  <tbody>\n",
       "    <tr>\n",
       "      <th>0</th>\n",
       "      <td>17TH AVE NW WKWY</td>\n",
       "      <td>WKWY</td>\n",
       "    </tr>\n",
       "    <tr>\n",
       "      <th>1</th>\n",
       "      <td>21ST AV SW TURN</td>\n",
       "      <td>RN</td>\n",
       "    </tr>\n",
       "    <tr>\n",
       "      <th>2</th>\n",
       "      <td>59TH AV SW TURN</td>\n",
       "      <td>ST</td>\n",
       "    </tr>\n",
       "    <tr>\n",
       "      <th>3</th>\n",
       "      <td>AIRPORT FY NB</td>\n",
       "      <td>SR</td>\n",
       "    </tr>\n",
       "    <tr>\n",
       "      <th>4</th>\n",
       "      <td>AIRPORT FY SB</td>\n",
       "      <td>SR</td>\n",
       "    </tr>\n",
       "  </tbody>\n",
       "</table>\n",
       "</div>"
      ],
      "text/plain": [
       "  ord_stname_concat ord_street_type_fix\n",
       "0  17TH AVE NW WKWY                WKWY\n",
       "1   21ST AV SW TURN                  RN\n",
       "2   59TH AV SW TURN                  ST\n",
       "3     AIRPORT FY NB                  SR\n",
       "4     AIRPORT FY SB                  SR"
      ]
     },
     "execution_count": 17,
     "metadata": {},
     "output_type": "execute_result"
    }
   ],
   "source": [
    "blank_street_type_df.head()"
   ]
  },
  {
   "cell_type": "code",
   "execution_count": 18,
   "id": "db450091-c38b-49b8-a214-49dc1d692fb4",
   "metadata": {},
   "outputs": [
    {
     "data": {
      "text/plain": [
       "(80, 2)"
      ]
     },
     "execution_count": 18,
     "metadata": {},
     "output_type": "execute_result"
    }
   ],
   "source": [
    "blank_street_type_df.shape"
   ]
  },
  {
   "cell_type": "code",
   "execution_count": 19,
   "id": "f2660b88-6713-4179-92f0-481a2bc9f9e3",
   "metadata": {},
   "outputs": [
    {
     "data": {
      "text/plain": [
       "Index(['f_intr_id', 't_intr_id', 'snd_id', 'snd_feacode', 'citycode',\n",
       "       'stname_id', 'st_code', 'arterial_code', 'segment_type', 'agency_code',\n",
       "       'access_code', 'divided_code', 'structure_type', 'legalloc_code',\n",
       "       'vehicle_use_code', 'gis_seg_length', 'l_adrs_from', 'l_adrs_to',\n",
       "       'r_adrs_from', 'r_adrs_to', 'ord_pre_dir', 'ord_street_name',\n",
       "       'ord_street_type', 'ord_suf_dir', 'ord_stname_concat', 'l_city',\n",
       "       'l_state', 'l_zip', 'r_city', 'r_state', 'r_zip', 'sndseg_update',\n",
       "       'compkey', 'comptype', 'unitid', 'unitid2', 'city_portion',\n",
       "       'ord_stname_unique', 'geometry'],\n",
       "      dtype='object')"
      ]
     },
     "execution_count": 19,
     "metadata": {},
     "output_type": "execute_result"
    }
   ],
   "source": [
    "gdf.columns"
   ]
  },
  {
   "cell_type": "code",
   "execution_count": 20,
   "id": "4216847f-bdad-4ffc-bf39-0d2f4284b8ba",
   "metadata": {},
   "outputs": [],
   "source": [
    "test_join = pd.merge(left = gdf, right = blank_street_type_df, how = 'outer', indicator = True)"
   ]
  },
  {
   "cell_type": "code",
   "execution_count": 21,
   "id": "627c9744-fc04-4fbe-ac54-e45f48e9c1f2",
   "metadata": {},
   "outputs": [
    {
     "data": {
      "text/plain": [
       "_merge\n",
       "left_only     33662\n",
       "both            716\n",
       "right_only        0\n",
       "Name: count, dtype: int64"
      ]
     },
     "execution_count": 21,
     "metadata": {},
     "output_type": "execute_result"
    }
   ],
   "source": [
    "test_join['_merge'].value_counts()"
   ]
  },
  {
   "cell_type": "code",
   "execution_count": 22,
   "id": "51ba8574-1d6b-4060-9421-b444467a63d7",
   "metadata": {},
   "outputs": [],
   "source": [
    "gdf = test_join.copy()"
   ]
  },
  {
   "cell_type": "code",
   "execution_count": 23,
   "id": "d5de6a40-5cb5-40a5-a0f5-467cf439b449",
   "metadata": {},
   "outputs": [],
   "source": [
    "gdf.loc[gdf['ord_street_type'].isna(), 'ord_street_type'] = gdf.loc[gdf['ord_street_type'].isna(), 'ord_street_type_fix']"
   ]
  },
  {
   "cell_type": "code",
   "execution_count": 24,
   "id": "f58a85b5-4fd4-4abd-b295-5ae198ce96db",
   "metadata": {},
   "outputs": [
    {
     "data": {
      "text/plain": [
       "array(['RP', 'AVE', 'LN', 'PL', 'TER', 'RD', 'CT', 'BR', 'WKWY', 'TRL',\n",
       "       'RN', 'ST', 'ET', 'DR', 'CIR', 'PKWY', 'SR', 'WAY', 'AL', 'RR',\n",
       "       'BLVD', 'OP', 'STCR', 'IS', 'MALL', 'PZ', 'LOOP', 'FLYOVER',\n",
       "       'VIEW', 'HWY'], dtype=object)"
      ]
     },
     "execution_count": 24,
     "metadata": {},
     "output_type": "execute_result"
    }
   ],
   "source": [
    "gdf['ord_street_type'].unique()"
   ]
  },
  {
   "cell_type": "code",
   "execution_count": 25,
   "id": "37c344ce-3feb-4708-8836-f08ba483483f",
   "metadata": {},
   "outputs": [
    {
     "data": {
      "text/plain": [
       "ord_street_type\n",
       "False    34378\n",
       "Name: count, dtype: int64"
      ]
     },
     "execution_count": 25,
     "metadata": {},
     "output_type": "execute_result"
    }
   ],
   "source": [
    "gdf['ord_street_type'].isna().value_counts()"
   ]
  },
  {
   "cell_type": "code",
   "execution_count": 26,
   "id": "495bcedb-664b-498c-a066-e42141427345",
   "metadata": {},
   "outputs": [],
   "source": [
    "gdf = gdf.drop(labels = ['ord_street_type_fix', '_merge'], axis = 1)"
   ]
  },
  {
   "cell_type": "markdown",
   "id": "56d01fce-aef4-49f1-87be-f5a5a18aac3b",
   "metadata": {},
   "source": [
    "# keep only streets in Seattle"
   ]
  },
  {
   "cell_type": "code",
   "execution_count": 27,
   "id": "c3a56bd2-70e9-4155-ad4f-41023dbf9649",
   "metadata": {},
   "outputs": [],
   "source": [
    "gdf = gdf.loc[(gdf['l_city'] == 'SEATTLE') |\n",
    "(gdf['r_city'] == 'SEATTLE'), :].copy()"
   ]
  },
  {
   "cell_type": "code",
   "execution_count": 28,
   "id": "78567698-400c-44e8-8449-67075a6a18fd",
   "metadata": {},
   "outputs": [
    {
     "data": {
      "text/plain": [
       "(27891, 39)"
      ]
     },
     "execution_count": 28,
     "metadata": {},
     "output_type": "execute_result"
    }
   ],
   "source": [
    "gdf.shape"
   ]
  },
  {
   "cell_type": "code",
   "execution_count": 29,
   "id": "80b27e89",
   "metadata": {},
   "outputs": [
    {
     "data": {
      "text/plain": [
       "(2795,)"
      ]
     },
     "execution_count": 29,
     "metadata": {},
     "output_type": "execute_result"
    }
   ],
   "source": [
    "gdf['ord_stname_concat'].unique().shape"
   ]
  },
  {
   "cell_type": "markdown",
   "id": "3d4dcd9e-b54a-4c07-94ee-a0c211c40e9b",
   "metadata": {},
   "source": [
    "# write the full seattle streets to disk"
   ]
  },
  {
   "cell_type": "code",
   "execution_count": 30,
   "id": "774a5f80-8beb-4047-9ff5-37d40819c792",
   "metadata": {},
   "outputs": [],
   "source": [
    "write_gdf(gdf = gdf, output_file_path=rc.OUTPUT_FILE_PATH,\n",
    "          output_file_name=rc.S02_SND_FULL_OUT_FILE_NAME)"
   ]
  },
  {
   "cell_type": "markdown",
   "id": "9d1e9af0-ce83-4f7e-ac5e-6a1fdd4edfb3",
   "metadata": {},
   "source": [
    "# keep only streets with segment_type == 1  \n",
    "These are actual streets.  \n",
    "Everything else not a street (rail, trail, staircase, etc...).  \n",
    "`segment_type == 15` is a stub, a dangling piece of a street, usually around 50 feet or less.  \n",
    "Very short! There are 362 of them."
   ]
  },
  {
   "cell_type": "code",
   "execution_count": 31,
   "id": "e51d381a-67bf-47d3-ad40-7281eb231293",
   "metadata": {},
   "outputs": [
    {
     "data": {
      "text/plain": [
       "segment_type\n",
       "1     25789\n",
       "15      362\n",
       "7       350\n",
       "6       332\n",
       "4       215\n",
       "3       205\n",
       "8       203\n",
       "9       175\n",
       "13      126\n",
       "2        49\n",
       "5        45\n",
       "11       33\n",
       "10        5\n",
       "12        1\n",
       "14        1\n",
       "Name: count, dtype: int64"
      ]
     },
     "execution_count": 31,
     "metadata": {},
     "output_type": "execute_result"
    }
   ],
   "source": [
    "gdf['segment_type'].value_counts()"
   ]
  },
  {
   "cell_type": "code",
   "execution_count": 32,
   "id": "9d55053a-aa3c-4d0e-8d0b-f234b5b22b81",
   "metadata": {},
   "outputs": [
    {
     "data": {
      "text/plain": [
       "(27891, 39)"
      ]
     },
     "execution_count": 32,
     "metadata": {},
     "output_type": "execute_result"
    }
   ],
   "source": [
    "# before...\n",
    "gdf.shape"
   ]
  },
  {
   "cell_type": "code",
   "execution_count": 33,
   "id": "d47fdc0a-8edb-413d-9ef4-2385f66405e7",
   "metadata": {},
   "outputs": [
    {
     "data": {
      "text/plain": [
       "(25789, 39)"
      ]
     },
     "execution_count": 33,
     "metadata": {},
     "output_type": "execute_result"
    }
   ],
   "source": [
    "gdf = gdf.loc[gdf['segment_type'] == 1, :].copy()\n",
    "# after...\n",
    "gdf.shape"
   ]
  },
  {
   "cell_type": "code",
   "execution_count": 34,
   "id": "730e5e66-94d8-4a96-b732-5f3877c5c695",
   "metadata": {},
   "outputs": [
    {
     "data": {
      "text/plain": [
       "(2462,)"
      ]
     },
     "execution_count": 34,
     "metadata": {},
     "output_type": "execute_result"
    }
   ],
   "source": [
    "gdf['ord_stname_unique'].unique().shape"
   ]
  },
  {
   "cell_type": "markdown",
   "id": "4310f297",
   "metadata": {},
   "source": [
    "# update the city portion variable"
   ]
  },
  {
   "cell_type": "code",
   "execution_count": 35,
   "id": "caa84c1f",
   "metadata": {},
   "outputs": [],
   "source": [
    "# we can quickly identify the central streets by performing some analysis in qGIS, \n",
    "fpn = os.path.join(rc.INPUT_FILE_PATH, rc.S02_CENTRAL_STREETS_IN_FILE_NAME)\n",
    "cs_df = pd.read_csv(filepath_or_buffer=fpn)\n"
   ]
  },
  {
   "cell_type": "code",
   "execution_count": 36,
   "id": "e44029eb",
   "metadata": {},
   "outputs": [
    {
     "data": {
      "text/html": [
       "<div>\n",
       "<style scoped>\n",
       "    .dataframe tbody tr th:only-of-type {\n",
       "        vertical-align: middle;\n",
       "    }\n",
       "\n",
       "    .dataframe tbody tr th {\n",
       "        vertical-align: top;\n",
       "    }\n",
       "\n",
       "    .dataframe thead th {\n",
       "        text-align: right;\n",
       "    }\n",
       "</style>\n",
       "<table border=\"1\" class=\"dataframe\">\n",
       "  <thead>\n",
       "    <tr style=\"text-align: right;\">\n",
       "      <th></th>\n",
       "      <th>snd_id</th>\n",
       "      <th>temp_city_portion</th>\n",
       "    </tr>\n",
       "  </thead>\n",
       "  <tbody>\n",
       "    <tr>\n",
       "      <th>0</th>\n",
       "      <td>11524</td>\n",
       "      <td>CNTR</td>\n",
       "    </tr>\n",
       "    <tr>\n",
       "      <th>1</th>\n",
       "      <td>16184</td>\n",
       "      <td>CNTR</td>\n",
       "    </tr>\n",
       "    <tr>\n",
       "      <th>2</th>\n",
       "      <td>16185</td>\n",
       "      <td>CNTR</td>\n",
       "    </tr>\n",
       "    <tr>\n",
       "      <th>3</th>\n",
       "      <td>16187</td>\n",
       "      <td>CNTR</td>\n",
       "    </tr>\n",
       "    <tr>\n",
       "      <th>4</th>\n",
       "      <td>16289</td>\n",
       "      <td>CNTR</td>\n",
       "    </tr>\n",
       "  </tbody>\n",
       "</table>\n",
       "</div>"
      ],
      "text/plain": [
       "   snd_id temp_city_portion\n",
       "0   11524              CNTR\n",
       "1   16184              CNTR\n",
       "2   16185              CNTR\n",
       "3   16187              CNTR\n",
       "4   16289              CNTR"
      ]
     },
     "execution_count": 36,
     "metadata": {},
     "output_type": "execute_result"
    }
   ],
   "source": [
    "# check\n",
    "cs_df.head()"
   ]
  },
  {
   "cell_type": "code",
   "execution_count": 37,
   "id": "46e364cd",
   "metadata": {},
   "outputs": [
    {
     "data": {
      "text/plain": [
       "_merge\n",
       "left_only     24082\n",
       "both           1707\n",
       "right_only        0\n",
       "Name: count, dtype: int64"
      ]
     },
     "execution_count": 37,
     "metadata": {},
     "output_type": "execute_result"
    }
   ],
   "source": [
    "# join\n",
    "test_join = pd.merge(left = gdf, right = cs_df, how = 'outer', indicator = True)\n",
    "test_join['_merge'].value_counts()"
   ]
  },
  {
   "cell_type": "code",
   "execution_count": 38,
   "id": "fa14b2ac",
   "metadata": {},
   "outputs": [
    {
     "data": {
      "text/plain": [
       "(2462,)"
      ]
     },
     "execution_count": 38,
     "metadata": {},
     "output_type": "execute_result"
    }
   ],
   "source": [
    "test_join['ord_stname_unique'].unique().shape"
   ]
  },
  {
   "cell_type": "code",
   "execution_count": 39,
   "id": "58fdc7fa",
   "metadata": {},
   "outputs": [],
   "source": [
    "check_df = test_join[['ord_stname_unique', 'city_portion']].drop_duplicates()"
   ]
  },
  {
   "cell_type": "code",
   "execution_count": 40,
   "id": "c79df0bf",
   "metadata": {},
   "outputs": [],
   "source": [
    "my_counter = collections.Counter(check_df['ord_stname_unique'])"
   ]
  },
  {
   "cell_type": "code",
   "execution_count": 41,
   "id": "4c734f82",
   "metadata": {},
   "outputs": [
    {
     "data": {
      "text/plain": [
       "Index(['f_intr_id', 't_intr_id', 'snd_id', 'snd_feacode', 'citycode',\n",
       "       'stname_id', 'st_code', 'arterial_code', 'segment_type', 'agency_code',\n",
       "       'access_code', 'divided_code', 'structure_type', 'legalloc_code',\n",
       "       'vehicle_use_code', 'gis_seg_length', 'l_adrs_from', 'l_adrs_to',\n",
       "       'r_adrs_from', 'r_adrs_to', 'ord_pre_dir', 'ord_street_name',\n",
       "       'ord_street_type', 'ord_suf_dir', 'ord_stname_concat', 'l_city',\n",
       "       'l_state', 'l_zip', 'r_city', 'r_state', 'r_zip', 'sndseg_update',\n",
       "       'compkey', 'comptype', 'unitid', 'unitid2', 'city_portion',\n",
       "       'ord_stname_unique', 'geometry', 'temp_city_portion', '_merge'],\n",
       "      dtype='object')"
      ]
     },
     "execution_count": 41,
     "metadata": {},
     "output_type": "execute_result"
    }
   ],
   "source": [
    "test_join.columns"
   ]
  },
  {
   "cell_type": "code",
   "execution_count": 42,
   "id": "4c89a399",
   "metadata": {},
   "outputs": [],
   "source": [
    "test_join.loc[test_join['_merge'] == 'both', 'city_portion'] = \\\n",
    "test_join.loc[test_join['_merge'] == 'both', 'temp_city_portion']"
   ]
  },
  {
   "cell_type": "code",
   "execution_count": 43,
   "id": "925be060",
   "metadata": {},
   "outputs": [],
   "source": [
    "test_join['ord_stname_unique'] = test_join.apply(func = create_name, axis = 1)"
   ]
  },
  {
   "cell_type": "code",
   "execution_count": 44,
   "id": "3538cda1",
   "metadata": {},
   "outputs": [],
   "source": [
    "# drop and overwrite\n",
    "drop_col_names = ['temp_city_portion', '_merge']\n",
    "gdf = test_join.drop(labels = drop_col_names, axis = 1).copy()"
   ]
  },
  {
   "cell_type": "code",
   "execution_count": 45,
   "id": "8ba22917-bbc3-4182-9de9-962a5efe1f14",
   "metadata": {},
   "outputs": [],
   "source": [
    "write_gdf(gdf = test_join, output_file_path = rc.OUTPUT_FILE_PATH, output_file_name='test_fucker.gpkg')"
   ]
  },
  {
   "cell_type": "markdown",
   "id": "9647fa0b",
   "metadata": {},
   "source": [
    "# draw a convex hull around each group of city streets"
   ]
  },
  {
   "cell_type": "code",
   "execution_count": 46,
   "id": "220bf124-65d7-4c87-89e2-3dd803cde54d",
   "metadata": {},
   "outputs": [
    {
     "name": "stdout",
     "output_type": "stream",
     "text": [
      "NW\n",
      "<class 'shapely.geometry.polygon.Polygon'>\n",
      "N\n",
      "<class 'shapely.geometry.polygon.Polygon'>\n",
      "NE\n",
      "<class 'shapely.geometry.polygon.Polygon'>\n",
      "CNTR\n",
      "<class 'shapely.geometry.polygon.Polygon'>\n",
      "E\n",
      "<class 'shapely.geometry.polygon.Polygon'>\n",
      "W\n",
      "<class 'shapely.geometry.polygon.Polygon'>\n",
      "S\n",
      "<class 'shapely.geometry.polygon.Polygon'>\n",
      "SW\n",
      "<class 'shapely.geometry.polygon.Polygon'>\n"
     ]
    }
   ],
   "source": [
    "data_list = []\n",
    "geom_list = []\n",
    "for cp in gdf['city_portion'].unique().tolist():\n",
    "    print(cp)\n",
    "    temp_geoms = gdf.loc[gdf['city_portion'] == cp, 'geometry']\n",
    "    \n",
    "    # create the convex hull around the points    \n",
    "    geom_point_list = []\n",
    "    point_list = []\n",
    "    for curr_line in temp_geoms:\n",
    "        for curr_coords in curr_line.coords:\n",
    "            geom_point_list.append(Point(curr_coords))\n",
    "            point_list.append(curr_coords)\n",
    "    \n",
    "    cvx_hull = shapely.convex_hull(geometry = MultiPoint(geom_point_list))\n",
    "    print(type(cvx_hull))\n",
    "    \n",
    "    temp_list = [cp, 'convex']\n",
    "    data_list.append(temp_list)\n",
    "    geom_list.append(cvx_hull)\n",
    "\n",
    "    # create a concave hull\n",
    "    ch = concave_hull(points = point_list)\n",
    "    my_poly = shapely.Polygon(ch)\n",
    "    data_list.append([cp, 'concave'])\n",
    "    geom_list.append(my_poly)"
   ]
  },
  {
   "cell_type": "code",
   "execution_count": null,
   "id": "8889db06",
   "metadata": {},
   "outputs": [],
   "source": []
  },
  {
   "cell_type": "code",
   "execution_count": 47,
   "id": "ac8c512c-8695-4279-9d18-9898c364146a",
   "metadata": {},
   "outputs": [],
   "source": [
    "# build a geodataframe\n",
    "output_gdf = gpd.GeoDataFrame(data = data_list, columns = ['city_portion', 'hull_type'], geometry = geom_list, crs = 'epsg:4326')\n",
    "# fix any odd geometries\n",
    "output_gdf['geometry'] = output_gdf['geometry'].make_valid()"
   ]
  },
  {
   "cell_type": "code",
   "execution_count": 48,
   "id": "efc2dcaf",
   "metadata": {},
   "outputs": [],
   "source": [
    "# now, let's project to WGS 84 UTM Zone 10N to perform some area calculation"
   ]
  },
  {
   "cell_type": "code",
   "execution_count": 49,
   "id": "585f11b6",
   "metadata": {},
   "outputs": [],
   "source": [
    "output_gdf = output_gdf.to_crs(epsg=32610)"
   ]
  },
  {
   "cell_type": "code",
   "execution_count": 50,
   "id": "283d1e0b",
   "metadata": {},
   "outputs": [
    {
     "data": {
      "text/html": [
       "<div>\n",
       "<style scoped>\n",
       "    .dataframe tbody tr th:only-of-type {\n",
       "        vertical-align: middle;\n",
       "    }\n",
       "\n",
       "    .dataframe tbody tr th {\n",
       "        vertical-align: top;\n",
       "    }\n",
       "\n",
       "    .dataframe thead th {\n",
       "        text-align: right;\n",
       "    }\n",
       "</style>\n",
       "<table border=\"1\" class=\"dataframe\">\n",
       "  <thead>\n",
       "    <tr style=\"text-align: right;\">\n",
       "      <th></th>\n",
       "      <th>city_portion</th>\n",
       "      <th>hull_type</th>\n",
       "      <th>geometry</th>\n",
       "    </tr>\n",
       "  </thead>\n",
       "  <tbody>\n",
       "    <tr>\n",
       "      <th>0</th>\n",
       "      <td>NW</td>\n",
       "      <td>convex</td>\n",
       "      <td>POLYGON ((548235.329 5277837.611, 548223.346 5...</td>\n",
       "    </tr>\n",
       "    <tr>\n",
       "      <th>1</th>\n",
       "      <td>NW</td>\n",
       "      <td>concave</td>\n",
       "      <td>MULTIPOLYGON (((548260.471 5278459.705, 548236...</td>\n",
       "    </tr>\n",
       "    <tr>\n",
       "      <th>2</th>\n",
       "      <td>N</td>\n",
       "      <td>convex</td>\n",
       "      <td>POLYGON ((550121.707 5274117.103, 550025.382 5...</td>\n",
       "    </tr>\n",
       "    <tr>\n",
       "      <th>3</th>\n",
       "      <td>N</td>\n",
       "      <td>concave</td>\n",
       "      <td>MULTIPOLYGON (((548236.706 5277549.869, 548236...</td>\n",
       "    </tr>\n",
       "    <tr>\n",
       "      <th>4</th>\n",
       "      <td>NE</td>\n",
       "      <td>convex</td>\n",
       "      <td>POLYGON ((552225.631 5277355.758, 551813.827 5...</td>\n",
       "    </tr>\n",
       "  </tbody>\n",
       "</table>\n",
       "</div>"
      ],
      "text/plain": [
       "  city_portion hull_type                                           geometry\n",
       "0           NW    convex  POLYGON ((548235.329 5277837.611, 548223.346 5...\n",
       "1           NW   concave  MULTIPOLYGON (((548260.471 5278459.705, 548236...\n",
       "2            N    convex  POLYGON ((550121.707 5274117.103, 550025.382 5...\n",
       "3            N   concave  MULTIPOLYGON (((548236.706 5277549.869, 548236...\n",
       "4           NE    convex  POLYGON ((552225.631 5277355.758, 551813.827 5..."
      ]
     },
     "execution_count": 50,
     "metadata": {},
     "output_type": "execute_result"
    }
   ],
   "source": [
    "output_gdf.head()"
   ]
  },
  {
   "cell_type": "code",
   "execution_count": 51,
   "id": "4432d3fa",
   "metadata": {},
   "outputs": [],
   "source": [
    "def keep_largest_geometry(gdf:gpd.GeoDataFrame,group_col_names:list = None):\n",
    "        \n",
    "    # explode\n",
    "    gdf = gdf.explode()\n",
    "    keep_col_names = gdf.columns\n",
    "    # select only Polygon or MultiPolygon geometries\n",
    "    gdf = gdf.loc[gdf['geometry'].geom_type.isin(['Polygon', 'MultiPolygon']), :]\n",
    "    gdf['geom_area'] = gdf['geometry'].area\n",
    "    # keep the biggest pieces / remove slivers    \n",
    "    if group_col_names is None:\n",
    "        gdf['area_rank'] = gdf['geom_area'].rank(method = 'dense', ascending=False)\n",
    "    else:\n",
    "        gdf['area_rank'] = gdf.groupby(group_col_names)['geom_area'].rank(method = 'dense', ascending=False)\n",
    "    \n",
    "    # keep the largest, drop the area_rank column\n",
    "    gdf = gdf.loc[gdf['area_rank'] == 1, keep_col_names]\n",
    "\n",
    "    return gdf"
   ]
  },
  {
   "cell_type": "code",
   "execution_count": 52,
   "id": "828aec35",
   "metadata": {},
   "outputs": [],
   "source": [
    "output_gdf = keep_largest_geometry(gdf = output_gdf, group_col_names=['city_portion', 'hull_type'])"
   ]
  },
  {
   "cell_type": "code",
   "execution_count": 53,
   "id": "7928df45",
   "metadata": {},
   "outputs": [
    {
     "data": {
      "text/html": [
       "<div>\n",
       "<style scoped>\n",
       "    .dataframe tbody tr th:only-of-type {\n",
       "        vertical-align: middle;\n",
       "    }\n",
       "\n",
       "    .dataframe tbody tr th {\n",
       "        vertical-align: top;\n",
       "    }\n",
       "\n",
       "    .dataframe thead th {\n",
       "        text-align: right;\n",
       "    }\n",
       "</style>\n",
       "<table border=\"1\" class=\"dataframe\">\n",
       "  <thead>\n",
       "    <tr style=\"text-align: right;\">\n",
       "      <th></th>\n",
       "      <th>city_portion</th>\n",
       "      <th>hull_type</th>\n",
       "      <th>geometry</th>\n",
       "    </tr>\n",
       "  </thead>\n",
       "  <tbody>\n",
       "    <tr>\n",
       "      <th>0</th>\n",
       "      <td>NW</td>\n",
       "      <td>convex</td>\n",
       "      <td>POLYGON ((548235.329 5277837.611, 548223.346 5...</td>\n",
       "    </tr>\n",
       "    <tr>\n",
       "      <th>1</th>\n",
       "      <td>NW</td>\n",
       "      <td>concave</td>\n",
       "      <td>POLYGON ((544560.158 5280213.434, 544559.88 52...</td>\n",
       "    </tr>\n",
       "    <tr>\n",
       "      <th>2</th>\n",
       "      <td>N</td>\n",
       "      <td>convex</td>\n",
       "      <td>POLYGON ((550121.707 5274117.103, 550025.382 5...</td>\n",
       "    </tr>\n",
       "    <tr>\n",
       "      <th>3</th>\n",
       "      <td>N</td>\n",
       "      <td>concave</td>\n",
       "      <td>POLYGON ((548236.706 5277549.869, 548236.48 52...</td>\n",
       "    </tr>\n",
       "    <tr>\n",
       "      <th>4</th>\n",
       "      <td>NE</td>\n",
       "      <td>convex</td>\n",
       "      <td>POLYGON ((552225.631 5277355.758, 551813.827 5...</td>\n",
       "    </tr>\n",
       "  </tbody>\n",
       "</table>\n",
       "</div>"
      ],
      "text/plain": [
       "  city_portion hull_type                                           geometry\n",
       "0           NW    convex  POLYGON ((548235.329 5277837.611, 548223.346 5...\n",
       "1           NW   concave  POLYGON ((544560.158 5280213.434, 544559.88 52...\n",
       "2            N    convex  POLYGON ((550121.707 5274117.103, 550025.382 5...\n",
       "3            N   concave  POLYGON ((548236.706 5277549.869, 548236.48 52...\n",
       "4           NE    convex  POLYGON ((552225.631 5277355.758, 551813.827 5..."
      ]
     },
     "execution_count": 53,
     "metadata": {},
     "output_type": "execute_result"
    }
   ],
   "source": [
    "output_gdf.head()"
   ]
  },
  {
   "cell_type": "code",
   "execution_count": 54,
   "id": "31a57ef1",
   "metadata": {},
   "outputs": [],
   "source": [
    "# TODO: fix the multi polygon issue"
   ]
  },
  {
   "cell_type": "code",
   "execution_count": 55,
   "id": "8b21a833",
   "metadata": {},
   "outputs": [],
   "source": [
    "# okay, cool. We have the lines. So, let's go back to the polygons. \n",
    "p_gdf = output_gdf.copy()"
   ]
  },
  {
   "cell_type": "code",
   "execution_count": 58,
   "id": "f210971d",
   "metadata": {},
   "outputs": [],
   "source": [
    "output_gdf = output_gdf.to_crs(epsg = 4326)"
   ]
  },
  {
   "cell_type": "code",
   "execution_count": 60,
   "id": "bc53fa34-9b14-4589-bb5e-d43c78a98ea3",
   "metadata": {},
   "outputs": [],
   "source": [
    "# save it!\n",
    "write_gdf(gdf = output_gdf, output_file_path=rc.OUTPUT_FILE_PATH,\n",
    "          output_file_name=rc.S02_CITY_SECTIONS_OUT_FILE_NAME)"
   ]
  },
  {
   "cell_type": "code",
   "execution_count": 61,
   "id": "092dc7a8",
   "metadata": {},
   "outputs": [],
   "source": [
    "# let's export this to a LineString file as well\n",
    "output_gdf['geometry'] = output_gdf['geometry'].boundary\n",
    "output_gdf['geometry'] = output_gdf['geometry'].make_valid()"
   ]
  },
  {
   "cell_type": "code",
   "execution_count": 62,
   "id": "90365795",
   "metadata": {},
   "outputs": [],
   "source": [
    "write_gdf(gdf = output_gdf, output_file_path=rc.OUTPUT_FILE_PATH, \n",
    "          output_file_name=rc.S02_CITY_SECTIONS_LINES_OUT_FILE_NAME)"
   ]
  },
  {
   "cell_type": "code",
   "execution_count": 63,
   "id": "aafba1df",
   "metadata": {},
   "outputs": [],
   "source": [
    "# let's get weird with buffers"
   ]
  },
  {
   "cell_type": "code",
   "execution_count": 64,
   "id": "8ae5ed24",
   "metadata": {},
   "outputs": [],
   "source": [
    "# keep only the concave bulls\n",
    "p_gdf = p_gdf.loc[p_gdf['hull_type'] == 'concave', :]"
   ]
  },
  {
   "cell_type": "code",
   "execution_count": 65,
   "id": "1f3ae2d8",
   "metadata": {},
   "outputs": [
    {
     "data": {
      "text/plain": [
       "<Axes: >"
      ]
     },
     "execution_count": 65,
     "metadata": {},
     "output_type": "execute_result"
    },
    {
     "data": {
      "image/png": "[encoded data removed]",
      "text/plain": [
       "<Figure size 640x480 with 1 Axes>"
      ]
     },
     "metadata": {},
     "output_type": "display_data"
    }
   ],
   "source": [
    "p_gdf.plot()"
   ]
  },
  {
   "cell_type": "code",
   "execution_count": 66,
   "id": "b7550a70",
   "metadata": {},
   "outputs": [
    {
     "data": {
      "text/html": [
       "<div>\n",
       "<style scoped>\n",
       "    .dataframe tbody tr th:only-of-type {\n",
       "        vertical-align: middle;\n",
       "    }\n",
       "\n",
       "    .dataframe tbody tr th {\n",
       "        vertical-align: top;\n",
       "    }\n",
       "\n",
       "    .dataframe thead th {\n",
       "        text-align: right;\n",
       "    }\n",
       "</style>\n",
       "<table border=\"1\" class=\"dataframe\">\n",
       "  <thead>\n",
       "    <tr style=\"text-align: right;\">\n",
       "      <th></th>\n",
       "      <th>city_portion</th>\n",
       "      <th>hull_type</th>\n",
       "      <th>geometry</th>\n",
       "    </tr>\n",
       "  </thead>\n",
       "  <tbody>\n",
       "    <tr>\n",
       "      <th>1</th>\n",
       "      <td>NW</td>\n",
       "      <td>concave</td>\n",
       "      <td>POLYGON ((544560.158 5280213.434, 544559.88 52...</td>\n",
       "    </tr>\n",
       "    <tr>\n",
       "      <th>3</th>\n",
       "      <td>N</td>\n",
       "      <td>concave</td>\n",
       "      <td>POLYGON ((548236.706 5277549.869, 548236.48 52...</td>\n",
       "    </tr>\n",
       "    <tr>\n",
       "      <th>5</th>\n",
       "      <td>NE</td>\n",
       "      <td>concave</td>\n",
       "      <td>POLYGON ((550433.919 5278501.622, 550442.898 5...</td>\n",
       "    </tr>\n",
       "    <tr>\n",
       "      <th>7</th>\n",
       "      <td>CNTR</td>\n",
       "      <td>concave</td>\n",
       "      <td>POLYGON ((548285.033 5274027.51, 548284.855 52...</td>\n",
       "    </tr>\n",
       "    <tr>\n",
       "      <th>9</th>\n",
       "      <td>E</td>\n",
       "      <td>concave</td>\n",
       "      <td>POLYGON ((550377.214 5276766.109, 550410.608 5...</td>\n",
       "    </tr>\n",
       "  </tbody>\n",
       "</table>\n",
       "</div>"
      ],
      "text/plain": [
       "  city_portion hull_type                                           geometry\n",
       "1           NW   concave  POLYGON ((544560.158 5280213.434, 544559.88 52...\n",
       "3            N   concave  POLYGON ((548236.706 5277549.869, 548236.48 52...\n",
       "5           NE   concave  POLYGON ((550433.919 5278501.622, 550442.898 5...\n",
       "7         CNTR   concave  POLYGON ((548285.033 5274027.51, 548284.855 52...\n",
       "9            E   concave  POLYGON ((550377.214 5276766.109, 550410.608 5..."
      ]
     },
     "execution_count": 66,
     "metadata": {},
     "output_type": "execute_result"
    }
   ],
   "source": [
    "p_gdf.head()"
   ]
  },
  {
   "cell_type": "code",
   "execution_count": 67,
   "id": "eb636395",
   "metadata": {},
   "outputs": [],
   "source": [
    "# we first need to reproject\n",
    "# and then: intersect the data so that it's nice and clean. So clean. "
   ]
  },
  {
   "cell_type": "code",
   "execution_count": 68,
   "id": "4196ae65",
   "metadata": {},
   "outputs": [],
   "source": [
    "# here is what needs to be intersected:\n",
    "# N and CNTR and E and CNTR\n",
    "g_names = ['N', 'CNTR', 'E']\n",
    "geom_dict = {}\n",
    "for gn in g_names:\n",
    "    geom_dict[gn] = p_gdf.loc[p_gdf['city_portion'] == gn, 'geometry'].iloc[0]"
   ]
  },
  {
   "cell_type": "code",
   "execution_count": 69,
   "id": "8515d06f",
   "metadata": {},
   "outputs": [],
   "source": [
    "# time to do an intersection!\n",
    "# north / center geometry\n",
    "nc_geom = geom_dict['N'].intersection(geom_dict['CNTR'])\n",
    "# east / center geometry\n",
    "ec_geom = geom_dict['E'].intersection(geom_dict['CNTR'])\n",
    "\n",
    "# the isolated center geometry\n",
    "c_geom = geom_dict['CNTR'].difference(geom_dict['N'])\n",
    "c_geom = c_geom.difference(geom_dict['E'])\n",
    "\n",
    "# we also need only the north and east geometry\n",
    "# north / center geometry\n",
    "nc_diff_geom = geom_dict['N'].difference(geom_dict['CNTR'])\n",
    "# east / center geometry\n",
    "ec_diff_geom = geom_dict['E'].difference(geom_dict['CNTR'])\n",
    "\n"
   ]
  },
  {
   "cell_type": "code",
   "execution_count": 70,
   "id": "c3b3b0ca",
   "metadata": {},
   "outputs": [],
   "source": [
    "# gather and create a geodataframe\n",
    "geom_list = [c_geom, nc_geom, ec_geom, nc_diff_geom, ec_diff_geom]\n",
    "data_list = ['CNTR', 'NC', 'EC', 'N', 'E']\n",
    "mod_gdf = gpd.GeoDataFrame(data = {'city_portion':data_list},\n",
    "                           geometry = geom_list, crs = 32610)"
   ]
  },
  {
   "cell_type": "code",
   "execution_count": 71,
   "id": "3ffc4f97",
   "metadata": {},
   "outputs": [],
   "source": [
    "# clean up the geometries\n",
    "mod_gdf = keep_largest_geometry(gdf = mod_gdf, group_col_names=['city_portion'])"
   ]
  },
  {
   "cell_type": "code",
   "execution_count": 72,
   "id": "07cb074b",
   "metadata": {},
   "outputs": [
    {
     "data": {
      "text/html": [
       "<div>\n",
       "<style scoped>\n",
       "    .dataframe tbody tr th:only-of-type {\n",
       "        vertical-align: middle;\n",
       "    }\n",
       "\n",
       "    .dataframe tbody tr th {\n",
       "        vertical-align: top;\n",
       "    }\n",
       "\n",
       "    .dataframe thead th {\n",
       "        text-align: right;\n",
       "    }\n",
       "</style>\n",
       "<table border=\"1\" class=\"dataframe\">\n",
       "  <thead>\n",
       "    <tr style=\"text-align: right;\">\n",
       "      <th></th>\n",
       "      <th>city_portion</th>\n",
       "      <th>geometry</th>\n",
       "    </tr>\n",
       "  </thead>\n",
       "  <tbody>\n",
       "    <tr>\n",
       "      <th>0</th>\n",
       "      <td>CNTR</td>\n",
       "      <td>POLYGON ((548207.446 5274110.047, 548205.081 5...</td>\n",
       "    </tr>\n",
       "    <tr>\n",
       "      <th>1</th>\n",
       "      <td>NC</td>\n",
       "      <td>POLYGON ((548236.48 5277575.735, 548237.788 52...</td>\n",
       "    </tr>\n",
       "    <tr>\n",
       "      <th>2</th>\n",
       "      <td>EC</td>\n",
       "      <td>POLYGON ((553990.355 5274053.615, 554005.492 5...</td>\n",
       "    </tr>\n",
       "    <tr>\n",
       "      <th>3</th>\n",
       "      <td>N</td>\n",
       "      <td>POLYGON ((548236.052 5277648.077, 548281.925 5...</td>\n",
       "    </tr>\n",
       "    <tr>\n",
       "      <th>4</th>\n",
       "      <td>E</td>\n",
       "      <td>POLYGON ((550410.608 5276841.828, 550415.26 52...</td>\n",
       "    </tr>\n",
       "  </tbody>\n",
       "</table>\n",
       "</div>"
      ],
      "text/plain": [
       "  city_portion                                           geometry\n",
       "0         CNTR  POLYGON ((548207.446 5274110.047, 548205.081 5...\n",
       "1           NC  POLYGON ((548236.48 5277575.735, 548237.788 52...\n",
       "2           EC  POLYGON ((553990.355 5274053.615, 554005.492 5...\n",
       "3            N  POLYGON ((548236.052 5277648.077, 548281.925 5...\n",
       "4            E  POLYGON ((550410.608 5276841.828, 550415.26 52..."
      ]
     },
     "execution_count": 72,
     "metadata": {},
     "output_type": "execute_result"
    }
   ],
   "source": [
    "mod_gdf.head()"
   ]
  },
  {
   "cell_type": "code",
   "execution_count": 73,
   "id": "487778b2",
   "metadata": {},
   "outputs": [
    {
     "data": {
      "text/html": [
       "<div>\n",
       "<style scoped>\n",
       "    .dataframe tbody tr th:only-of-type {\n",
       "        vertical-align: middle;\n",
       "    }\n",
       "\n",
       "    .dataframe tbody tr th {\n",
       "        vertical-align: top;\n",
       "    }\n",
       "\n",
       "    .dataframe thead th {\n",
       "        text-align: right;\n",
       "    }\n",
       "</style>\n",
       "<table border=\"1\" class=\"dataframe\">\n",
       "  <thead>\n",
       "    <tr style=\"text-align: right;\">\n",
       "      <th></th>\n",
       "      <th>city_portion</th>\n",
       "      <th>hull_type</th>\n",
       "      <th>geometry</th>\n",
       "    </tr>\n",
       "  </thead>\n",
       "  <tbody>\n",
       "    <tr>\n",
       "      <th>1</th>\n",
       "      <td>NW</td>\n",
       "      <td>concave</td>\n",
       "      <td>POLYGON ((544560.158 5280213.434, 544559.88 52...</td>\n",
       "    </tr>\n",
       "    <tr>\n",
       "      <th>3</th>\n",
       "      <td>N</td>\n",
       "      <td>concave</td>\n",
       "      <td>POLYGON ((548236.706 5277549.869, 548236.48 52...</td>\n",
       "    </tr>\n",
       "    <tr>\n",
       "      <th>5</th>\n",
       "      <td>NE</td>\n",
       "      <td>concave</td>\n",
       "      <td>POLYGON ((550433.919 5278501.622, 550442.898 5...</td>\n",
       "    </tr>\n",
       "    <tr>\n",
       "      <th>7</th>\n",
       "      <td>CNTR</td>\n",
       "      <td>concave</td>\n",
       "      <td>POLYGON ((548285.033 5274027.51, 548284.855 52...</td>\n",
       "    </tr>\n",
       "    <tr>\n",
       "      <th>9</th>\n",
       "      <td>E</td>\n",
       "      <td>concave</td>\n",
       "      <td>POLYGON ((550377.214 5276766.109, 550410.608 5...</td>\n",
       "    </tr>\n",
       "  </tbody>\n",
       "</table>\n",
       "</div>"
      ],
      "text/plain": [
       "  city_portion hull_type                                           geometry\n",
       "1           NW   concave  POLYGON ((544560.158 5280213.434, 544559.88 52...\n",
       "3            N   concave  POLYGON ((548236.706 5277549.869, 548236.48 52...\n",
       "5           NE   concave  POLYGON ((550433.919 5278501.622, 550442.898 5...\n",
       "7         CNTR   concave  POLYGON ((548285.033 5274027.51, 548284.855 52...\n",
       "9            E   concave  POLYGON ((550377.214 5276766.109, 550410.608 5..."
      ]
     },
     "execution_count": 73,
     "metadata": {},
     "output_type": "execute_result"
    }
   ],
   "source": [
    "# add them to the other geodataframe with the good geometry:\n",
    "p_gdf.head()"
   ]
  },
  {
   "cell_type": "code",
   "execution_count": 74,
   "id": "c79decc3",
   "metadata": {},
   "outputs": [],
   "source": [
    "mod_gdf['hull_type'] = 'concave'"
   ]
  },
  {
   "cell_type": "code",
   "execution_count": 75,
   "id": "be1a3e4e",
   "metadata": {},
   "outputs": [],
   "source": [
    "col_names = p_gdf.columns.tolist()\n",
    "mod_gdf = mod_gdf[col_names]"
   ]
  },
  {
   "cell_type": "code",
   "execution_count": 76,
   "id": "b3845e26",
   "metadata": {},
   "outputs": [],
   "source": [
    "p_gdf = p_gdf.loc[-p_gdf['city_portion'].isin(mod_gdf['city_portion']), :]"
   ]
  },
  {
   "cell_type": "code",
   "execution_count": 77,
   "id": "b778e7fe",
   "metadata": {},
   "outputs": [],
   "source": [
    "p_gdf = pd.concat(objs = [p_gdf, mod_gdf], axis = 0)"
   ]
  },
  {
   "cell_type": "code",
   "execution_count": 78,
   "id": "9c2d7a3d",
   "metadata": {},
   "outputs": [],
   "source": [
    "p_gdf = p_gdf.to_crs(epsg=4326)"
   ]
  },
  {
   "cell_type": "code",
   "execution_count": 79,
   "id": "cf2f954f",
   "metadata": {},
   "outputs": [],
   "source": [
    "write_gdf(gdf = p_gdf, output_file_path=rc.OUTPUT_FILE_PATH, output_file_name='test_split.gpkg')"
   ]
  },
  {
   "cell_type": "code",
   "execution_count": 80,
   "id": "c42e558f",
   "metadata": {},
   "outputs": [],
   "source": [
    "# convert back to WGS 84 UTM Zone 10 N, for buffering\n",
    "p_gdf = p_gdf.to_crs(epsg = 32610)"
   ]
  },
  {
   "cell_type": "code",
   "execution_count": 81,
   "id": "3f402320",
   "metadata": {},
   "outputs": [],
   "source": [
    "def build_gdf_from_geom(geom:shapely.geometry, remove_slivers:bool=True, crs:int=4326):\n",
    "    gdf = gpd.GeoDataFrame(data = {'id':[0]}, geometry=[geom], crs = crs)\n",
    "    if remove_slivers:\n",
    "        gdf = keep_largest_geometry(gdf = gdf)\n",
    "    return gdf\n"
   ]
  },
  {
   "cell_type": "code",
   "execution_count": 82,
   "id": "631a2282",
   "metadata": {},
   "outputs": [
    {
     "name": "stdout",
     "output_type": "stream",
     "text": [
      "NW\n",
      "NE\n",
      "W\n",
      "S\n",
      "SW\n",
      "CNTR\n",
      "NC\n",
      "EC\n",
      "N\n",
      "E\n"
     ]
    }
   ],
   "source": [
    "# let's do some fun inner buffering\n",
    "output_data_list = []\n",
    "output_geom_list = []\n",
    "\n",
    "output_line_data_list = []\n",
    "output_line_geom_list = []\n",
    "for ir, row in p_gdf.iterrows():\n",
    "    city_portion = row['city_portion']\n",
    "    print(city_portion)\n",
    "    geom = row['geometry']\n",
    "    perim = geom.boundary\n",
    "    previous_buff_dict = {}\n",
    "    for i_dist in range(10, 101, 10):\n",
    "        my_buff = perim.buffer(distance= i_dist)\n",
    "        # clip it\n",
    "        my_buff = my_buff.intersection(geom)\n",
    "        # this is the stuff on the inside of the ring\n",
    "        my_buff = build_gdf_from_geom(geom = my_buff, crs = p_gdf.crs)        \n",
    "        my_buff = my_buff['geometry'].iloc[0]\n",
    "        previous_buff_dict[i_dist] = my_buff\n",
    "\n",
    "        # now, clip it to the previous buffer\n",
    "        if i_dist > 10:\n",
    "            previous_disk = previous_buff_dict[i_dist - 10] \n",
    "            my_buff = my_buff.difference(previous_disk)\n",
    "\n",
    "            my_buff = build_gdf_from_geom(geom = my_buff, crs = p_gdf.crs)        \n",
    "            my_buff = my_buff['geometry'].iloc[0]                              \n",
    "\n",
    "        temp_list = [city_portion, i_dist]\n",
    "        output_data_list.append(temp_list)\n",
    "        output_geom_list.append(my_buff)\n",
    "\n",
    "        line_index = 0\n",
    "        for line_geom in my_buff.boundary.geoms:\n",
    "            curr_list = temp_list[:]\n",
    "            curr_list.append(line_index)\n",
    "            output_line_data_list.append(curr_list)\n",
    "            output_line_geom_list.append(line_geom)\n",
    "            line_index += 1\n",
    "\n",
    "\n",
    "output_gdf = gpd.GeoDataFrame(data = output_data_list, geometry = output_geom_list,\n",
    "                              crs = 'epsg:32610', columns = ['city_portion', 'distance'])\n",
    "\n",
    "output_gdf = output_gdf.to_crs(epsg = 4326)\n",
    "\n",
    "output_line_gdf = gpd.GeoDataFrame(data = output_line_data_list, geometry = output_line_geom_list,\n",
    "                              crs = 'epsg:32610', columns = ['city_portion', 'distance', 'line_index'])\n",
    "output_line_gdf = output_line_gdf.to_crs(epsg = 4326)"
   ]
  },
  {
   "cell_type": "code",
   "execution_count": 83,
   "id": "68ed18b8",
   "metadata": {},
   "outputs": [],
   "source": [
    "write_gdf(gdf = output_gdf, output_file_path=rc.OUTPUT_FILE_PATH, output_file_name='test_inner_buffer.gpkg')\n",
    "write_gdf(gdf = output_line_gdf, output_file_path=rc.OUTPUT_FILE_PATH, output_file_name='test_inner_line_buffer.gpkg')"
   ]
  },
  {
   "cell_type": "code",
   "execution_count": null,
   "id": "bb63fb28",
   "metadata": {},
   "outputs": [],
   "source": [
    "# WGS 84 UTM ZONE 10 N: EPSG:32610"
   ]
  },
  {
   "cell_type": "code",
   "execution_count": null,
   "id": "d9cbcd61",
   "metadata": {},
   "outputs": [],
   "source": [
    "temp_output_gdf = output_line_gdf.copy()\n",
    "temp_output_gdf.columns = ['cp', 'dist', 'li', 'geometry']\n",
    "temp_output_gdf['cp'] = temp_output_gdf['cp'].str.replace('CNTR', 'C')\n",
    "cs_json = temp_output_gdf.to_json(drop_id=True, to_wgs84=True)\n"
   ]
  },
  {
   "cell_type": "code",
   "execution_count": null,
   "id": "08b26623",
   "metadata": {},
   "outputs": [],
   "source": [
    "# let's save this to a geojson\n",
    "write_json(json_data=cs_json, output_file_path='../maps', output_file_name='city_section_lines.geojson',\n",
    "           var_name = None)"
   ]
  },
  {
   "cell_type": "markdown",
   "id": "07ec39b8-6b4d-4b08-b425-401532342d13",
   "metadata": {},
   "source": [
    "# remove the following streets types:"
   ]
  },
  {
   "cell_type": "code",
   "execution_count": null,
   "id": "ef6dad36",
   "metadata": {},
   "outputs": [],
   "source": []
  },
  {
   "cell_type": "markdown",
   "id": "d22a0a93-529b-43ec-a554-42d7babac178",
   "metadata": {},
   "source": [
    "AL: alley  \n",
    "TRL: trail  \n",
    "OP: overpass  \n",
    "IS: interstate  \n",
    "SR: state route  \n",
    "RR: rail  \n",
    "FLYOVER: flyover  \n",
    "STCR: streetcar  \n",
    "ET: extension  \n",
    "RN: turn  \n",
    "RP: highway ramps  \n",
    "WKWY: walkways  "
   ]
  },
  {
   "cell_type": "code",
   "execution_count": null,
   "id": "dedc0b62-80a5-40cf-a08f-f22cdb70b007",
   "metadata": {},
   "outputs": [],
   "source": [
    "# remove streets of the following type\n",
    "street_type_to_remove = [ 'AL', 'TRL', 'OP', 'IS', 'SR', 'RR', 'FLYOVER',\n",
    "                         'STCR', 'ET', 'RN', 'RP', 'WKWY']"
   ]
  },
  {
   "cell_type": "code",
   "execution_count": null,
   "id": "4cccc313-31c7-4c25-a3fd-7f6c10075b38",
   "metadata": {},
   "outputs": [],
   "source": [
    "# before...\n",
    "gdf.shape"
   ]
  },
  {
   "cell_type": "code",
   "execution_count": null,
   "id": "7d7f8dae",
   "metadata": {},
   "outputs": [],
   "source": [
    "# what street types are left?\n",
    "gdf['ord_street_type'].unique()"
   ]
  },
  {
   "cell_type": "code",
   "execution_count": null,
   "id": "341a6852-40fa-41d0-8b39-55ac96fca8e8",
   "metadata": {},
   "outputs": [],
   "source": [
    "# remove...\n",
    "gdf = gdf.loc[-gdf['ord_street_type'].isin(street_type_to_remove), :].copy()"
   ]
  },
  {
   "cell_type": "code",
   "execution_count": null,
   "id": "d812acd6-735b-4630-a4ff-769cacb00b7f",
   "metadata": {},
   "outputs": [],
   "source": [
    "# after..\n",
    "gdf.shape"
   ]
  },
  {
   "cell_type": "code",
   "execution_count": null,
   "id": "d0de6687-a001-48e4-bc72-c699b5ed2a36",
   "metadata": {},
   "outputs": [],
   "source": [
    "# what street types are left?\n",
    "gdf['ord_street_type'].unique()"
   ]
  },
  {
   "cell_type": "markdown",
   "id": "0797a51c",
   "metadata": {},
   "source": [
    "# remove other short segments that appear to be invalid."
   ]
  },
  {
   "cell_type": "code",
   "execution_count": null,
   "id": "693dc46d",
   "metadata": {},
   "outputs": [],
   "source": [
    "# uncomment to remove the erroneous segments\n",
    "err_segments = pd.read_csv(filepath_or_buffer='../data/streets_to_remove.txt')\n"
   ]
  },
  {
   "cell_type": "code",
   "execution_count": null,
   "id": "cf3e555c",
   "metadata": {},
   "outputs": [],
   "source": [
    "# examine the erroneous segments\n",
    "tgdf = gdf.loc[gdf['snd_id'].isin(err_segments['snd_id']), :].copy()\n",
    "tgdf['gis_seg_length'].describe()\n",
    "# very short!"
   ]
  },
  {
   "cell_type": "code",
   "execution_count": null,
   "id": "151fdb19",
   "metadata": {},
   "outputs": [],
   "source": [
    "# check names...\n",
    "tgdf['ord_stname_concat'].unique().tolist()"
   ]
  },
  {
   "cell_type": "code",
   "execution_count": null,
   "id": "b3d727a9",
   "metadata": {},
   "outputs": [],
   "source": [
    "tgdf['segment_type'].unique()"
   ]
  },
  {
   "cell_type": "code",
   "execution_count": null,
   "id": "b18aec30",
   "metadata": {},
   "outputs": [],
   "source": [
    "tgdf.head()"
   ]
  },
  {
   "cell_type": "code",
   "execution_count": null,
   "id": "2a2d78d2",
   "metadata": {},
   "outputs": [],
   "source": [
    "# remove the erroneous segments\n",
    "gdf = gdf.loc[-gdf['snd_id'].isin(err_segments['snd_id']), :].copy()"
   ]
  },
  {
   "cell_type": "code",
   "execution_count": null,
   "id": "74a992e4",
   "metadata": {},
   "outputs": [],
   "source": [
    "# after\n",
    "gdf.shape"
   ]
  },
  {
   "cell_type": "code",
   "execution_count": null,
   "id": "be679901",
   "metadata": {},
   "outputs": [],
   "source": [
    "# unique roads\n",
    "gdf['ord_stname_unique'].unique().shape"
   ]
  },
  {
   "cell_type": "code",
   "execution_count": null,
   "id": "27027af2",
   "metadata": {},
   "outputs": [],
   "source": [
    "# total miles in Seattle, based on select road ways\n",
    "gdf['gis_seg_length'].sum() / 5280"
   ]
  },
  {
   "cell_type": "markdown",
   "id": "c7b5f605-1e1b-4df6-8141-86b38ef66891",
   "metadata": {},
   "source": [
    "# save as a gdf - overwrite"
   ]
  },
  {
   "cell_type": "code",
   "execution_count": null,
   "id": "33f44c2a-1e42-45f0-8cc3-70864f8b4efd",
   "metadata": {},
   "outputs": [],
   "source": [
    "write_gdf(gdf = gdf, output_file_path = rc.OUTPUT_FILE_PATH,\n",
    "          output_file_name =  rc.S02_SND_WORKING_OUT_FILE_NAME)"
   ]
  },
  {
   "cell_type": "code",
   "execution_count": null,
   "id": "38187f2c",
   "metadata": {},
   "outputs": [],
   "source": []
  }
 ],
 "metadata": {
  "kernelspec": {
   "display_name": "analysis",
   "language": "python",
   "name": "python3"
  },
  "language_info": {
   "codemirror_mode": {
    "name": "ipython",
    "version": 3
   },
   "file_extension": ".py",
   "mimetype": "text/x-python",
   "name": "python",
   "nbconvert_exporter": "python",
   "pygments_lexer": "ipython3",
   "version": "3.12.7"
  }
 },
 "nbformat": 4,
 "nbformat_minor": 5
}
