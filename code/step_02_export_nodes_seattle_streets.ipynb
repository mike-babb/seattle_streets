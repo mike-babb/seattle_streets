{
 "cells": [
  {
   "cell_type": "markdown",
   "id": "fed9e25b-c5b9-4aee-89cd-15a7da3945c0",
   "metadata": {},
   "source": [
    "# Part 02: Export nodes and select working streets\n",
    "michael babb  \n",
    "2024 11 24"
   ]
  },
  {
   "cell_type": "code",
   "execution_count": 48,
   "id": "e88ca8b2-b75d-4e72-8fc7-65c4cea61cde",
   "metadata": {},
   "outputs": [],
   "source": [
    "# standard\n",
    "import os"
   ]
  },
  {
   "cell_type": "code",
   "execution_count": 49,
   "id": "0778d9a5-0c62-4724-be28-c21598d23b6f",
   "metadata": {},
   "outputs": [],
   "source": [
    "# external\n",
    "import geopandas as gpd\n",
    "import numpy as np\n",
    "import pandas as pd\n",
    "import shapely\n",
    "from shapely.geometry import LineString, Point"
   ]
  },
  {
   "cell_type": "markdown",
   "id": "d56ea77e-ffd7-4326-b793-415f8a131ef2",
   "metadata": {},
   "source": [
    "# load the streetnetwork"
   ]
  },
  {
   "cell_type": "code",
   "execution_count": 50,
   "id": "d07cfb9b-9184-48d7-af77-035e2390d9e5",
   "metadata": {},
   "outputs": [],
   "source": [
    "# file path\n",
    "file_path = 'H:/project/seattle_streets/data/' "
   ]
  },
  {
   "cell_type": "code",
   "execution_count": 51,
   "id": "3c1039f5-a281-4460-b65d-98a6ca2556b7",
   "metadata": {},
   "outputs": [],
   "source": [
    "file_name = 'Street_Network_Database_Complete.gpkg'"
   ]
  },
  {
   "cell_type": "code",
   "execution_count": 52,
   "id": "ddf62724-9105-44c9-b983-e4f520328fa9",
   "metadata": {},
   "outputs": [],
   "source": [
    "fpn = os.path.join(file_path, file_name)"
   ]
  },
  {
   "cell_type": "code",
   "execution_count": 53,
   "id": "2cbdb5c1-c973-4882-b442-cf5396e90d3e",
   "metadata": {},
   "outputs": [],
   "source": [
    "gdf = gpd.read_file(filename = fpn)"
   ]
  },
  {
   "cell_type": "markdown",
   "id": "0ee23f19-dc28-461b-a434-9e91a73f264a",
   "metadata": {},
   "source": [
    "# generate street end vertices - these will be helpful with identification in subsequent steps"
   ]
  },
  {
   "cell_type": "code",
   "execution_count": 54,
   "id": "cac4121c-bb09-48ee-90b1-95b4d3289891",
   "metadata": {},
   "outputs": [],
   "source": [
    "def generate_street_end_vertices(gdf:gpd.GeoDataFrame) -> gpd.GeoDataFrame | gpd.GeoDataFrame:\n",
    "    \"\"\" Generate a geodataframe with the street ends.\n",
    "    Args:\n",
    "        gdf (gpd.GeoDataFrame): Streets\n",
    "\n",
    "    Returns:\n",
    "        gpd.GeoDataFrame | gpd.GeoDataFrame: street network, street ends\n",
    "    \"\"\"\n",
    "\n",
    "    \n",
    "    \n",
    "    # export the vertex of each street end. \n",
    "    gdf['start_coord'] = gdf['geometry'].map(lambda x: x.coords[0])\n",
    "    \n",
    "    gdf['end_coord'] = gdf['geometry'].map(lambda x: x.coords[-1])\n",
    "    \n",
    "    f_node_gdf = gdf[['f_intr_id', 'start_coord']].copy().rename(columns = {'f_intr_id':'node_id',\n",
    "                                                                           'start_coord':'coord'})\n",
    "    t_node_gdf = gdf[['t_intr_id', 'end_coord']].copy().rename(columns = {'t_intr_id':'node_id',\n",
    "                                                                         'end_coord':'coord'})\n",
    "    \n",
    "    # stack the datagrame\n",
    "    node_df = pd.concat(objs = [f_node_gdf, t_node_gdf]).drop_duplicates()\n",
    "    \n",
    "    # make a gdf\n",
    "    node_gdf = gpd.GeoDataFrame(data = node_df, geometry =\n",
    "                                node_df['coord'].map(lambda x: Point(x)), crs = 'epsg:4326')\n",
    "    \n",
    "    node_gdf = node_gdf.drop(labels = ['coord'], axis = 1)\n",
    "\n",
    "    # remove the start and end coordinates\n",
    "    gdf = gdf.drop(labels = ['start_coord', 'end_coord'], axis = 1)\n",
    "    \n",
    "    return gdf, node_gdf"
   ]
  },
  {
   "cell_type": "code",
   "execution_count": 55,
   "id": "a802c5c0-882a-46e4-a2e1-7a9bd82cf41c",
   "metadata": {},
   "outputs": [
    {
     "data": {
      "text/plain": [
       "geometry\n",
       "MultiLineString    34378\n",
       "Name: count, dtype: int64"
      ]
     },
     "execution_count": 55,
     "metadata": {},
     "output_type": "execute_result"
    }
   ],
   "source": [
    "# can we generate the vertices? yes... but let's check what type of geometry we are working with\n",
    "gdf['geometry'].map(lambda x: x.geom_type).value_counts()"
   ]
  },
  {
   "cell_type": "code",
   "execution_count": 56,
   "id": "a017e0db-7ec9-466d-947f-4794a53262e4",
   "metadata": {},
   "outputs": [],
   "source": [
    "# everything is a multiline string??? is that necessary?"
   ]
  },
  {
   "cell_type": "code",
   "execution_count": 57,
   "id": "8e4a3fc9-0f55-4f48-96f5-d770ba24193d",
   "metadata": {},
   "outputs": [],
   "source": [
    "test_gdf = gdf.explode()"
   ]
  },
  {
   "cell_type": "code",
   "execution_count": 58,
   "id": "2e3c65b0-9e32-4c96-ba8c-b6340f928e90",
   "metadata": {},
   "outputs": [
    {
     "data": {
      "text/plain": [
       "(34378, 38)"
      ]
     },
     "execution_count": 58,
     "metadata": {},
     "output_type": "execute_result"
    }
   ],
   "source": [
    "test_gdf.shape"
   ]
  },
  {
   "cell_type": "code",
   "execution_count": 59,
   "id": "2243cebc-9900-47e2-9b7a-2ec6b47176b8",
   "metadata": {},
   "outputs": [],
   "source": [
    "# nope! if MultiLineStrings were necessary, the number of records would increase. Let's use the .explode() function to convert things to a LineString"
   ]
  },
  {
   "cell_type": "code",
   "execution_count": 60,
   "id": "3faf243f-ebf2-43fc-9ffd-262ac4448290",
   "metadata": {},
   "outputs": [],
   "source": [
    "gdf = test_gdf.copy()"
   ]
  },
  {
   "cell_type": "code",
   "execution_count": 61,
   "id": "ce5bfa9e-a29f-42b9-9b24-01a8ed0594b0",
   "metadata": {},
   "outputs": [
    {
     "data": {
      "text/plain": [
       "LineString    34378\n",
       "Name: count, dtype: int64"
      ]
     },
     "execution_count": 61,
     "metadata": {},
     "output_type": "execute_result"
    }
   ],
   "source": [
    "gdf['geometry'].geom_type.value_counts()"
   ]
  },
  {
   "cell_type": "code",
   "execution_count": 62,
   "id": "606f209b-76da-440c-b422-de54f825bc54",
   "metadata": {},
   "outputs": [],
   "source": [
    "gdf, node_gdf = generate_street_end_vertices(gdf = gdf)"
   ]
  },
  {
   "cell_type": "code",
   "execution_count": 63,
   "id": "80e4c580-c56c-4b8c-8acc-f66aee86a2f3",
   "metadata": {},
   "outputs": [],
   "source": [
    "output_file_name = 'Street_Network_Nodes.gpkg'"
   ]
  },
  {
   "cell_type": "code",
   "execution_count": 64,
   "id": "8425070b-771f-4eac-9ef7-fc1d08304a7b",
   "metadata": {},
   "outputs": [],
   "source": [
    "ofpn = os.path.join(file_path, output_file_name)"
   ]
  },
  {
   "cell_type": "code",
   "execution_count": 65,
   "id": "6d502b17-9dda-446a-a826-02d0529ee51d",
   "metadata": {},
   "outputs": [],
   "source": [
    "node_gdf.to_file(filename = ofpn)"
   ]
  },
  {
   "cell_type": "markdown",
   "id": "df755b23-e11c-4719-8028-42d48bc74a8d",
   "metadata": {},
   "source": [
    "# import the classified streets - this classifies streets without a classification. "
   ]
  },
  {
   "cell_type": "code",
   "execution_count": 66,
   "id": "d4c673dc-b00e-46c8-af40-ce97a772dbe2",
   "metadata": {},
   "outputs": [],
   "source": [
    "file_name = 'blank_street_type_modified.xlsx'"
   ]
  },
  {
   "cell_type": "code",
   "execution_count": 67,
   "id": "342b546d-6072-45cb-bc8f-8148e857e919",
   "metadata": {},
   "outputs": [],
   "source": [
    "fpn = os.path.join(file_path, file_name)"
   ]
  },
  {
   "cell_type": "code",
   "execution_count": 68,
   "id": "5f0c6695-b1ab-426c-ac2e-2268331131a9",
   "metadata": {},
   "outputs": [],
   "source": [
    "blank_street_type_df = pd.read_excel(io = fpn)"
   ]
  },
  {
   "cell_type": "code",
   "execution_count": 69,
   "id": "5390f24e-0e11-48b2-afc9-8e505a71a78e",
   "metadata": {},
   "outputs": [
    {
     "data": {
      "text/html": [
       "<div>\n",
       "<style scoped>\n",
       "    .dataframe tbody tr th:only-of-type {\n",
       "        vertical-align: middle;\n",
       "    }\n",
       "\n",
       "    .dataframe tbody tr th {\n",
       "        vertical-align: top;\n",
       "    }\n",
       "\n",
       "    .dataframe thead th {\n",
       "        text-align: right;\n",
       "    }\n",
       "</style>\n",
       "<table border=\"1\" class=\"dataframe\">\n",
       "  <thead>\n",
       "    <tr style=\"text-align: right;\">\n",
       "      <th></th>\n",
       "      <th>ord_stname_concat</th>\n",
       "      <th>ord_street_type_fix</th>\n",
       "    </tr>\n",
       "  </thead>\n",
       "  <tbody>\n",
       "    <tr>\n",
       "      <th>0</th>\n",
       "      <td>NE SUNRISE VISTA</td>\n",
       "      <td>ST</td>\n",
       "    </tr>\n",
       "    <tr>\n",
       "      <th>1</th>\n",
       "      <td>NW ESPLANADE</td>\n",
       "      <td>ST</td>\n",
       "    </tr>\n",
       "    <tr>\n",
       "      <th>2</th>\n",
       "      <td>BROADWAY E</td>\n",
       "      <td>ST</td>\n",
       "    </tr>\n",
       "    <tr>\n",
       "      <th>3</th>\n",
       "      <td>FAUNTLEE CREST SW</td>\n",
       "      <td>ST</td>\n",
       "    </tr>\n",
       "    <tr>\n",
       "      <th>4</th>\n",
       "      <td>NE FOREST VISTA</td>\n",
       "      <td>ST</td>\n",
       "    </tr>\n",
       "  </tbody>\n",
       "</table>\n",
       "</div>"
      ],
      "text/plain": [
       "   ord_stname_concat ord_street_type_fix\n",
       "0   NE SUNRISE VISTA                  ST\n",
       "1       NW ESPLANADE                  ST\n",
       "2         BROADWAY E                  ST\n",
       "3  FAUNTLEE CREST SW                  ST\n",
       "4    NE FOREST VISTA                  ST"
      ]
     },
     "execution_count": 69,
     "metadata": {},
     "output_type": "execute_result"
    }
   ],
   "source": [
    "blank_street_type_df.head()"
   ]
  },
  {
   "cell_type": "code",
   "execution_count": 70,
   "id": "35858c52-641f-46b6-b7bb-c9a31f0d9889",
   "metadata": {},
   "outputs": [],
   "source": [
    "gdf = pd.merge(left = gdf, right = blank_street_type_df, how = 'left')"
   ]
  },
  {
   "cell_type": "code",
   "execution_count": 71,
   "id": "b72310c6-e543-4f5c-8df0-989da7b03d13",
   "metadata": {},
   "outputs": [],
   "source": [
    "gdf.loc[gdf['ord_street_type'].isna(), 'ord_street_type'] = gdf.loc[gdf['ord_street_type'].isna(), 'ord_street_type_fix']"
   ]
  },
  {
   "cell_type": "code",
   "execution_count": 72,
   "id": "bb4958cc-9880-44dc-9079-2adf57b94982",
   "metadata": {},
   "outputs": [
    {
     "data": {
      "text/plain": [
       "array(['AVE', 'CT', 'ST', 'PL', 'LN', 'RD', 'DR', 'WAY', 'PKWY', 'BLVD',\n",
       "       'CIR', 'TER', 'AL', 'RP', 'LOOP', 'SR', 'IS', 'OP', 'TRL', 'RR',\n",
       "       'BR', 'WKWY', 'ET', 'STCR', 'VIEW', 'FLYOVER', 'HWY', 'RN', 'PZ',\n",
       "       'MALL'], dtype=object)"
      ]
     },
     "execution_count": 72,
     "metadata": {},
     "output_type": "execute_result"
    }
   ],
   "source": [
    "gdf['ord_street_type'].unique()"
   ]
  },
  {
   "cell_type": "code",
   "execution_count": 73,
   "id": "38c9f78f-4f4e-4a85-bda6-b67b128316ba",
   "metadata": {},
   "outputs": [],
   "source": [
    "gdf = gdf.drop(labels = ['ord_street_type_fix'], axis = 1)"
   ]
  },
  {
   "cell_type": "markdown",
   "id": "9cc63170-dd96-48de-8c7d-ec3b2b2da3fb",
   "metadata": {},
   "source": [
    "# keep only streets in Seattle"
   ]
  },
  {
   "cell_type": "code",
   "execution_count": 74,
   "id": "ca8e9187-935b-4f32-a8db-ffae99bd7f8a",
   "metadata": {},
   "outputs": [],
   "source": [
    "gdf = gdf.loc[(gdf['l_city'] == 'SEATTLE') |\n",
    "(gdf['r_city'] == 'SEATTLE'), :].copy()"
   ]
  },
  {
   "cell_type": "markdown",
   "id": "666fabe5-c82f-453b-b546-3f742e5b5fb1",
   "metadata": {},
   "source": [
    "# write the full seattle streets to disk"
   ]
  },
  {
   "cell_type": "code",
   "execution_count": 75,
   "id": "c9aca106-5a19-49d2-8f32-8009f95c9a1a",
   "metadata": {},
   "outputs": [],
   "source": [
    "output_file_name = 'Street_Network_Database_Seattle_Full.gpkg'"
   ]
  },
  {
   "cell_type": "code",
   "execution_count": 76,
   "id": "43ad560a-a2ce-4adf-b635-0780d9391a3a",
   "metadata": {},
   "outputs": [],
   "source": [
    "ofpn = os.path.join(file_path, output_file_name)"
   ]
  },
  {
   "cell_type": "code",
   "execution_count": 77,
   "id": "f7bc2048-29e0-4f4b-8748-652faa83d92e",
   "metadata": {},
   "outputs": [],
   "source": [
    "gdf.to_file(filename = ofpn, driver = 'GPKG', index = False)"
   ]
  },
  {
   "cell_type": "markdown",
   "id": "2f79b6ae-a9ff-4491-9826-f990134a50d2",
   "metadata": {},
   "source": [
    "# export the individual street portions to make the different sections"
   ]
  },
  {
   "cell_type": "code",
   "execution_count": 78,
   "id": "86e87875-f8bf-423a-b7f8-002de01d668e",
   "metadata": {},
   "outputs": [],
   "source": [
    "# after performing some analysis in GIS, we can quickly identify the central streets"
   ]
  },
  {
   "cell_type": "code",
   "execution_count": 79,
   "id": "06aef502-0535-4cb9-8c45-33246ebdb3cb",
   "metadata": {},
   "outputs": [],
   "source": [
    "file_name = 'Street_Network_Database_Seattle_Central_Streets.csv'"
   ]
  },
  {
   "cell_type": "code",
   "execution_count": 80,
   "id": "282ba1a8-d201-4751-b394-9ed0a214a8d8",
   "metadata": {},
   "outputs": [],
   "source": [
    "fpn = os.path.join(file_path, file_name)"
   ]
  },
  {
   "cell_type": "code",
   "execution_count": 81,
   "id": "ed4d7ed1-e53d-43af-adb8-c792e6814c77",
   "metadata": {},
   "outputs": [],
   "source": [
    "cs_df = pd.read_csv(filepath_or_buffer=fpn)"
   ]
  },
  {
   "cell_type": "code",
   "execution_count": 82,
   "id": "2dc9c0ae-3055-4b4e-814c-a9e2ae4a3057",
   "metadata": {},
   "outputs": [],
   "source": [
    "cs_df = cs_df.drop(labels = ['fid'], axis =  1)"
   ]
  },
  {
   "cell_type": "code",
   "execution_count": 83,
   "id": "74454335-5b74-427e-aabc-abff001c4ffe",
   "metadata": {},
   "outputs": [],
   "source": [
    "# working_gdf\n",
    "# winnow down the list of streets to get what we're looking for \n",
    "\n",
    "q_str = 'snd_feacode in (1, 5) and st_code in (0, ) and city_portion != \\'WB\\''\n",
    "wgdf = gdf.query(expr = q_str)"
   ]
  },
  {
   "cell_type": "markdown",
   "id": "9647fa0b",
   "metadata": {},
   "source": [
    "# draw a convex hull around each group of city streets"
   ]
  },
  {
   "cell_type": "code",
   "execution_count": 84,
   "id": "220bf124-65d7-4c87-89e2-3dd803cde54d",
   "metadata": {},
   "outputs": [
    {
     "name": "stdout",
     "output_type": "stream",
     "text": [
      "S\n",
      "E\n",
      "NW\n",
      "N\n",
      "CNTR\n",
      "NE\n",
      "SW\n",
      "W\n"
     ]
    }
   ],
   "source": [
    "data_list = []\n",
    "geom_list = []\n",
    "for cp in wgdf['city_portion'].unique().tolist():\n",
    "    print(cp)\n",
    "    if cp == 'CNTR':\n",
    "        temp_geoms = wgdf.loc[(wgdf['snd_id'].isin(cs_df['snd_id'])) &\n",
    "        (wgdf['city_portion'] == cp), 'geometry']\n",
    "    else:\n",
    "        temp_geoms = wgdf.loc[wgdf['city_portion'] == cp, 'geometry']\n",
    "    \n",
    "    # create the convex hull\n",
    "    geoms = shapely.unary_union(geometries = temp_geoms)\n",
    "    cvx_hull = shapely.convex_hull(geometry = geoms)\n",
    "    temp_list = [cp, 'convex']\n",
    "    data_list.append(temp_list)\n",
    "    geom_list.append(cvx_hull)"
   ]
  },
  {
   "cell_type": "code",
   "execution_count": 85,
   "id": "ac8c512c-8695-4279-9d18-9898c364146a",
   "metadata": {},
   "outputs": [],
   "source": [
    "output_gdf = gpd.GeoDataFrame(data = data_list, columns = ['city_portion', 'hull_type'], geometry = geom_list, crs = 'epsg:4326')"
   ]
  },
  {
   "cell_type": "code",
   "execution_count": 86,
   "id": "f5812091-e7b3-4e6d-b700-eb327e4af189",
   "metadata": {},
   "outputs": [],
   "source": [
    "file_name = 'city_sections.gpkg'"
   ]
  },
  {
   "cell_type": "code",
   "execution_count": 87,
   "id": "bc53fa34-9b14-4589-bb5e-d43c78a98ea3",
   "metadata": {},
   "outputs": [],
   "source": [
    "ofpn = os.path.join(file_path, file_name)"
   ]
  },
  {
   "cell_type": "code",
   "execution_count": 88,
   "id": "7ad22fa7-feaa-433f-be24-9cd1ae94282a",
   "metadata": {},
   "outputs": [],
   "source": [
    "output_gdf.to_file(filename = ofpn, driver = 'GPKG', index = False)"
   ]
  },
  {
   "cell_type": "markdown",
   "id": "07ec39b8-6b4d-4b08-b425-401532342d13",
   "metadata": {},
   "source": [
    "# remove \"streets\"  are really short turnouts and walking paths"
   ]
  },
  {
   "cell_type": "markdown",
   "id": "d22a0a93-529b-43ec-a554-42d7babac178",
   "metadata": {},
   "source": [
    "AL: alley  \n",
    "TRL: trail  \n",
    "OP: overpass  \n",
    "IS: interstate  \n",
    "SR: staterout  \n",
    "RR: rail  \n",
    "FLYOVER: flyover  \n",
    "STCR: streetcar  \n",
    "ET: extension  \n",
    "RN: turn  \n",
    "RP: highway ramps  \n",
    "WKWY: walkways  "
   ]
  },
  {
   "cell_type": "code",
   "execution_count": 89,
   "id": "dedc0b62-80a5-40cf-a08f-f22cdb70b007",
   "metadata": {},
   "outputs": [],
   "source": [
    "# remove streets of the following type\n",
    "street_type_to_remove = [ 'AL', 'TRL', 'OP', 'IS', 'SR', 'RR', 'FLYOVER', 'STCR', 'ET', 'RN', 'RP', 'WKWY']"
   ]
  },
  {
   "cell_type": "code",
   "execution_count": 90,
   "id": "4cccc313-31c7-4c25-a3fd-7f6c10075b38",
   "metadata": {},
   "outputs": [
    {
     "data": {
      "text/plain": [
       "(27891, 38)"
      ]
     },
     "execution_count": 90,
     "metadata": {},
     "output_type": "execute_result"
    }
   ],
   "source": [
    "# before...\n",
    "gdf.shape"
   ]
  },
  {
   "cell_type": "code",
   "execution_count": null,
   "id": "341a6852-40fa-41d0-8b39-55ac96fca8e8",
   "metadata": {},
   "outputs": [],
   "source": [
    "# remove...\n",
    "gdf = gdf.loc[-gdf['ord_street_type'].isin(street_type_to_remove), :].copy()"
   ]
  },
  {
   "cell_type": "code",
   "execution_count": 92,
   "id": "d812acd6-735b-4630-a4ff-769cacb00b7f",
   "metadata": {},
   "outputs": [
    {
     "data": {
      "text/plain": [
       "(26881, 38)"
      ]
     },
     "execution_count": 92,
     "metadata": {},
     "output_type": "execute_result"
    }
   ],
   "source": [
    "# after..\n",
    "gdf.shape"
   ]
  },
  {
   "cell_type": "code",
   "execution_count": 93,
   "id": "d0de6687-a001-48e4-bc72-c699b5ed2a36",
   "metadata": {},
   "outputs": [
    {
     "data": {
      "text/plain": [
       "array(['AVE', 'ST', 'PL', 'LN', 'RD', 'WAY', 'PKWY', 'DR', 'CT', 'BLVD',\n",
       "       'CIR', 'TER', 'BR', 'VIEW', 'LOOP', 'PZ', 'MALL'], dtype=object)"
      ]
     },
     "execution_count": 93,
     "metadata": {},
     "output_type": "execute_result"
    }
   ],
   "source": [
    "gdf['ord_street_type'].unique()"
   ]
  },
  {
   "cell_type": "markdown",
   "id": "c7b5f605-1e1b-4df6-8141-86b38ef66891",
   "metadata": {},
   "source": [
    "# save as a gdf - overwrite"
   ]
  },
  {
   "cell_type": "code",
   "execution_count": 94,
   "id": "aac5ea15-f31b-41a5-87cd-004df6f3ad54",
   "metadata": {},
   "outputs": [],
   "source": [
    "# file path\n",
    "output_file_name = 'Street_Network_Database_Seattle_working.gpkg'"
   ]
  },
  {
   "cell_type": "code",
   "execution_count": 95,
   "id": "33f44c2a-1e42-45f0-8cc3-70864f8b4efd",
   "metadata": {},
   "outputs": [],
   "source": [
    "ofpn = os.path.join(file_path, output_file_name)"
   ]
  },
  {
   "cell_type": "code",
   "execution_count": 96,
   "id": "d791b035-af69-47c3-9f71-2a4f3f20353a",
   "metadata": {},
   "outputs": [],
   "source": [
    "gdf.to_file(filename = ofpn, driver = 'GPKG', index = False)"
   ]
  },
  {
   "cell_type": "code",
   "execution_count": null,
   "id": "d01e6965-4db2-45fc-bb40-27851e299611",
   "metadata": {},
   "outputs": [],
   "source": []
  },
  {
   "cell_type": "code",
   "execution_count": null,
   "id": "d9f9b266-0592-4ee6-ae87-7ceb60636c8c",
   "metadata": {},
   "outputs": [],
   "source": []
  },
  {
   "cell_type": "code",
   "execution_count": null,
   "id": "815d3d82-a27c-406e-865c-6ea0c5a50388",
   "metadata": {},
   "outputs": [],
   "source": []
  }
 ],
 "metadata": {
  "kernelspec": {
   "display_name": "analysis",
   "language": "python",
   "name": "python3"
  },
  "language_info": {
   "codemirror_mode": {
    "name": "ipython",
    "version": 3
   },
   "file_extension": ".py",
   "mimetype": "text/x-python",
   "name": "python",
   "nbconvert_exporter": "python",
   "pygments_lexer": "ipython3",
   "version": "3.12.7"
  }
 },
 "nbformat": 4,
 "nbformat_minor": 5
}
