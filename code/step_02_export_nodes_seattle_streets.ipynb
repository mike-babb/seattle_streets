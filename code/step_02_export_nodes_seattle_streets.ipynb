{
 "cells": [
  {
   "cell_type": "markdown",
   "id": "fed9e25b-c5b9-4aee-89cd-15a7da3945c0",
   "metadata": {},
   "source": [
    "## Part 02: Export nodes and select working streets\n",
    "michael babb  \n",
    "2025 10 03"
   ]
  },
  {
   "cell_type": "code",
   "execution_count": 1,
   "id": "e88ca8b2-b75d-4e72-8fc7-65c4cea61cde",
   "metadata": {},
   "outputs": [],
   "source": [
    "# standard\n",
    "import os"
   ]
  },
  {
   "cell_type": "code",
   "execution_count": 2,
   "id": "0778d9a5-0c62-4724-be28-c21598d23b6f",
   "metadata": {},
   "outputs": [],
   "source": [
    "# external\n",
    "from concave_hull import concave_hull\n",
    "import geopandas as gpd\n",
    "import numpy as np\n",
    "import pandas as pd\n",
    "import shapely\n",
    "from shapely import Point, MultiPoint"
   ]
  },
  {
   "cell_type": "code",
   "execution_count": 3,
   "id": "b8dac5db",
   "metadata": {},
   "outputs": [],
   "source": [
    "# custom\n",
    "import run_constants as rc\n",
    "from utils import create_name, generate_street_end_vertices\n",
    "from geo_data_io.fc_df_spatial import keep_largest_geometry, write_gdf"
   ]
  },
  {
   "cell_type": "markdown",
   "id": "d56ea77e-ffd7-4326-b793-415f8a131ef2",
   "metadata": {},
   "source": [
    "# load the street network"
   ]
  },
  {
   "cell_type": "code",
   "execution_count": 4,
   "id": "ddf62724-9105-44c9-b983-e4f520328fa9",
   "metadata": {},
   "outputs": [],
   "source": [
    "# these are the streets as downloaded from the City of Seattle\n",
    "fpn = os.path.join(rc.OUTPUT_FILE_PATH, rc.S02_SND_IN_FILE_NAME)"
   ]
  },
  {
   "cell_type": "code",
   "execution_count": 5,
   "id": "2cbdb5c1-c973-4882-b442-cf5396e90d3e",
   "metadata": {},
   "outputs": [],
   "source": [
    "gdf = gpd.read_file(filename = fpn)"
   ]
  },
  {
   "cell_type": "code",
   "execution_count": 6,
   "id": "69b4418d",
   "metadata": {},
   "outputs": [
    {
     "data": {
      "text/plain": [
       "(34378, 39)"
      ]
     },
     "execution_count": 6,
     "metadata": {},
     "output_type": "execute_result"
    }
   ],
   "source": [
    "gdf.shape"
   ]
  },
  {
   "cell_type": "markdown",
   "id": "725c1e88-fe6f-438a-9dfc-eb8a1d49a417",
   "metadata": {},
   "source": [
    "# generate street end vertices - these will be helpful with identification in subsequent steps"
   ]
  },
  {
   "cell_type": "code",
   "execution_count": 7,
   "id": "a1fa2779-c751-4fb5-8495-e5dfa6d24445",
   "metadata": {},
   "outputs": [],
   "source": [
    "gdf, node_gdf = generate_street_end_vertices(gdf = gdf)"
   ]
  },
  {
   "cell_type": "code",
   "execution_count": 8,
   "id": "560e8bb6-0a03-44ae-926b-5fda55998c05",
   "metadata": {},
   "outputs": [],
   "source": [
    "write_gdf(gdf = node_gdf, output_file_path=rc.OUTPUT_FILE_PATH,\n",
    "          output_file_name= rc.S02_NODE_OUT_FILE_NAME)"
   ]
  },
  {
   "cell_type": "markdown",
   "id": "073d9155-bc7a-4088-95c5-39ff650f4c24",
   "metadata": {},
   "source": [
    "# import the manually classified streets to update streets without a classification. "
   ]
  },
  {
   "cell_type": "code",
   "execution_count": 9,
   "id": "51fe0f73-246f-4f17-8fb6-19001b06dff3",
   "metadata": {},
   "outputs": [],
   "source": [
    "fpn = os.path.join(rc.INPUT_FILE_PATH, rc.S02_BST_IN_FILE_NAME)"
   ]
  },
  {
   "cell_type": "code",
   "execution_count": 10,
   "id": "4278aa87-32da-45d9-9409-0ad7b6391667",
   "metadata": {},
   "outputs": [],
   "source": [
    "blank_street_type_df = pd.read_excel(io = fpn)"
   ]
  },
  {
   "cell_type": "code",
   "execution_count": 11,
   "id": "c22610b5-eb2a-4128-9af9-efaf2fb3ecc7",
   "metadata": {},
   "outputs": [
    {
     "data": {
      "text/html": [
       "<div>\n",
       "<style scoped>\n",
       "    .dataframe tbody tr th:only-of-type {\n",
       "        vertical-align: middle;\n",
       "    }\n",
       "\n",
       "    .dataframe tbody tr th {\n",
       "        vertical-align: top;\n",
       "    }\n",
       "\n",
       "    .dataframe thead th {\n",
       "        text-align: right;\n",
       "    }\n",
       "</style>\n",
       "<table border=\"1\" class=\"dataframe\">\n",
       "  <thead>\n",
       "    <tr style=\"text-align: right;\">\n",
       "      <th></th>\n",
       "      <th>ord_stname_concat</th>\n",
       "      <th>ord_street_type_fix</th>\n",
       "    </tr>\n",
       "  </thead>\n",
       "  <tbody>\n",
       "    <tr>\n",
       "      <th>0</th>\n",
       "      <td>17TH AVE NW WKWY</td>\n",
       "      <td>WKWY</td>\n",
       "    </tr>\n",
       "    <tr>\n",
       "      <th>1</th>\n",
       "      <td>21ST AV SW TURN</td>\n",
       "      <td>RN</td>\n",
       "    </tr>\n",
       "    <tr>\n",
       "      <th>2</th>\n",
       "      <td>59TH AV SW TURN</td>\n",
       "      <td>ST</td>\n",
       "    </tr>\n",
       "    <tr>\n",
       "      <th>3</th>\n",
       "      <td>AIRPORT FY NB</td>\n",
       "      <td>SR</td>\n",
       "    </tr>\n",
       "    <tr>\n",
       "      <th>4</th>\n",
       "      <td>AIRPORT FY SB</td>\n",
       "      <td>SR</td>\n",
       "    </tr>\n",
       "  </tbody>\n",
       "</table>\n",
       "</div>"
      ],
      "text/plain": [
       "  ord_stname_concat ord_street_type_fix\n",
       "0  17TH AVE NW WKWY                WKWY\n",
       "1   21ST AV SW TURN                  RN\n",
       "2   59TH AV SW TURN                  ST\n",
       "3     AIRPORT FY NB                  SR\n",
       "4     AIRPORT FY SB                  SR"
      ]
     },
     "execution_count": 11,
     "metadata": {},
     "output_type": "execute_result"
    }
   ],
   "source": [
    "blank_street_type_df.head()"
   ]
  },
  {
   "cell_type": "code",
   "execution_count": 12,
   "id": "db450091-c38b-49b8-a214-49dc1d692fb4",
   "metadata": {},
   "outputs": [
    {
     "data": {
      "text/plain": [
       "(80, 2)"
      ]
     },
     "execution_count": 12,
     "metadata": {},
     "output_type": "execute_result"
    }
   ],
   "source": [
    "blank_street_type_df.shape"
   ]
  },
  {
   "cell_type": "code",
   "execution_count": 13,
   "id": "f2660b88-6713-4179-92f0-481a2bc9f9e3",
   "metadata": {},
   "outputs": [
    {
     "data": {
      "text/plain": [
       "Index(['f_intr_id', 't_intr_id', 'snd_id', 'snd_feacode', 'citycode',\n",
       "       'stname_id', 'st_code', 'arterial_code', 'segment_type', 'agency_code',\n",
       "       'access_code', 'divided_code', 'structure_type', 'legalloc_code',\n",
       "       'vehicle_use_code', 'gis_seg_length', 'l_adrs_from', 'l_adrs_to',\n",
       "       'r_adrs_from', 'r_adrs_to', 'ord_pre_dir', 'ord_street_name',\n",
       "       'ord_street_type', 'ord_suf_dir', 'ord_stname_concat', 'l_city',\n",
       "       'l_state', 'l_zip', 'r_city', 'r_state', 'r_zip', 'sndseg_update',\n",
       "       'compkey', 'comptype', 'unitid', 'unitid2', 'city_sector',\n",
       "       'ord_stname_unique', 'geometry'],\n",
       "      dtype='object')"
      ]
     },
     "execution_count": 13,
     "metadata": {},
     "output_type": "execute_result"
    }
   ],
   "source": [
    "gdf.columns"
   ]
  },
  {
   "cell_type": "code",
   "execution_count": 14,
   "id": "4216847f-bdad-4ffc-bf39-0d2f4284b8ba",
   "metadata": {},
   "outputs": [],
   "source": [
    "test_join = pd.merge(left = gdf, right = blank_street_type_df, how = 'outer', indicator = True)"
   ]
  },
  {
   "cell_type": "code",
   "execution_count": 15,
   "id": "627c9744-fc04-4fbe-ac54-e45f48e9c1f2",
   "metadata": {},
   "outputs": [
    {
     "data": {
      "text/plain": [
       "_merge\n",
       "left_only     33662\n",
       "both            716\n",
       "right_only        0\n",
       "Name: count, dtype: int64"
      ]
     },
     "execution_count": 15,
     "metadata": {},
     "output_type": "execute_result"
    }
   ],
   "source": [
    "test_join['_merge'].value_counts()"
   ]
  },
  {
   "cell_type": "code",
   "execution_count": 16,
   "id": "51ba8574-1d6b-4060-9421-b444467a63d7",
   "metadata": {},
   "outputs": [],
   "source": [
    "gdf = test_join.copy()"
   ]
  },
  {
   "cell_type": "code",
   "execution_count": 17,
   "id": "d5de6a40-5cb5-40a5-a0f5-467cf439b449",
   "metadata": {},
   "outputs": [],
   "source": [
    "gdf.loc[gdf['ord_street_type'].isna(), 'ord_street_type'] = gdf.loc[gdf['ord_street_type'].isna(), 'ord_street_type_fix']"
   ]
  },
  {
   "cell_type": "code",
   "execution_count": 18,
   "id": "f58a85b5-4fd4-4abd-b295-5ae198ce96db",
   "metadata": {},
   "outputs": [
    {
     "data": {
      "text/plain": [
       "array(['RP', 'AVE', 'LN', 'PL', 'TER', 'RD', 'CT', 'BR', 'WKWY', 'TRL',\n",
       "       'RN', 'ST', 'ET', 'DR', 'CIR', 'PKWY', 'SR', 'WAY', 'AL', 'RR',\n",
       "       'BLVD', 'OP', 'STCR', 'IS', 'MALL', 'PZ', 'LOOP', 'FLYOVER',\n",
       "       'VIEW', 'HWY'], dtype=object)"
      ]
     },
     "execution_count": 18,
     "metadata": {},
     "output_type": "execute_result"
    }
   ],
   "source": [
    "gdf['ord_street_type'].unique()"
   ]
  },
  {
   "cell_type": "code",
   "execution_count": 19,
   "id": "37c344ce-3feb-4708-8836-f08ba483483f",
   "metadata": {},
   "outputs": [
    {
     "data": {
      "text/plain": [
       "ord_street_type\n",
       "False    34378\n",
       "Name: count, dtype: int64"
      ]
     },
     "execution_count": 19,
     "metadata": {},
     "output_type": "execute_result"
    }
   ],
   "source": [
    "gdf['ord_street_type'].isna().value_counts()"
   ]
  },
  {
   "cell_type": "code",
   "execution_count": 20,
   "id": "495bcedb-664b-498c-a066-e42141427345",
   "metadata": {},
   "outputs": [],
   "source": [
    "gdf = gdf.drop(labels = ['ord_street_type_fix', '_merge'], axis = 1)"
   ]
  },
  {
   "cell_type": "code",
   "execution_count": 21,
   "id": "5a453bb5",
   "metadata": {},
   "outputs": [
    {
     "data": {
      "text/plain": [
       "(34378, 39)"
      ]
     },
     "execution_count": 21,
     "metadata": {},
     "output_type": "execute_result"
    }
   ],
   "source": [
    "gdf.shape"
   ]
  },
  {
   "cell_type": "code",
   "execution_count": 22,
   "id": "85bd3f06",
   "metadata": {},
   "outputs": [],
   "source": [
    "# save the complete - but revised - street network\n",
    "write_gdf(gdf = gdf, output_file_path=rc.OUTPUT_FILE_PATH,\n",
    "          output_file_name=rc.S02_SND_COMPLETE_OUT_FILE_NAME)"
   ]
  },
  {
   "cell_type": "markdown",
   "id": "56d01fce-aef4-49f1-87be-f5a5a18aac3b",
   "metadata": {},
   "source": [
    "# keep only streets in Seattle\n",
    "These are streets that begin or end in Seattle"
   ]
  },
  {
   "cell_type": "code",
   "execution_count": 23,
   "id": "c3a56bd2-70e9-4155-ad4f-41023dbf9649",
   "metadata": {},
   "outputs": [],
   "source": [
    "gdf = gdf.loc[(gdf['l_city'] == 'SEATTLE') |\n",
    "(gdf['r_city'] == 'SEATTLE'), :].copy()"
   ]
  },
  {
   "cell_type": "code",
   "execution_count": 24,
   "id": "78567698-400c-44e8-8449-67075a6a18fd",
   "metadata": {},
   "outputs": [
    {
     "data": {
      "text/plain": [
       "(27891, 39)"
      ]
     },
     "execution_count": 24,
     "metadata": {},
     "output_type": "execute_result"
    }
   ],
   "source": [
    "gdf.shape"
   ]
  },
  {
   "cell_type": "code",
   "execution_count": 25,
   "id": "80b27e89",
   "metadata": {},
   "outputs": [
    {
     "data": {
      "text/plain": [
       "(2795,)"
      ]
     },
     "execution_count": 25,
     "metadata": {},
     "output_type": "execute_result"
    }
   ],
   "source": [
    "gdf['ord_stname_concat'].unique().shape"
   ]
  },
  {
   "cell_type": "markdown",
   "id": "3d4dcd9e-b54a-4c07-94ee-a0c211c40e9b",
   "metadata": {},
   "source": [
    "# write the full seattle streets to disk"
   ]
  },
  {
   "cell_type": "code",
   "execution_count": 26,
   "id": "774a5f80-8beb-4047-9ff5-37d40819c792",
   "metadata": {},
   "outputs": [],
   "source": [
    "write_gdf(gdf = gdf, output_file_path=rc.OUTPUT_FILE_PATH,\n",
    "          output_file_name=rc.S02_SND_FULL_OUT_FILE_NAME)"
   ]
  },
  {
   "cell_type": "markdown",
   "id": "9d1e9af0-ce83-4f7e-ac5e-6a1fdd4edfb3",
   "metadata": {},
   "source": [
    "# keep only streets with segment_type == 1  \n",
    "These are actual streets.  \n",
    "Every other segement_type is not a street (rail, trail, staircase, etc...).  \n",
    "`segment_type == 15` is a stub, a dangling piece of a street, usually around 50 feet or less.  \n",
    "Very short! There are 362 of them."
   ]
  },
  {
   "cell_type": "code",
   "execution_count": 27,
   "id": "e51d381a-67bf-47d3-ad40-7281eb231293",
   "metadata": {},
   "outputs": [
    {
     "data": {
      "text/plain": [
       "segment_type\n",
       "1     25789\n",
       "15      362\n",
       "7       350\n",
       "6       332\n",
       "4       215\n",
       "3       205\n",
       "8       203\n",
       "9       175\n",
       "13      126\n",
       "2        49\n",
       "5        45\n",
       "11       33\n",
       "10        5\n",
       "12        1\n",
       "14        1\n",
       "Name: count, dtype: int64"
      ]
     },
     "execution_count": 27,
     "metadata": {},
     "output_type": "execute_result"
    }
   ],
   "source": [
    "gdf['segment_type'].value_counts()"
   ]
  },
  {
   "cell_type": "code",
   "execution_count": 28,
   "id": "9d55053a-aa3c-4d0e-8d0b-f234b5b22b81",
   "metadata": {},
   "outputs": [
    {
     "data": {
      "text/plain": [
       "(27891, 39)"
      ]
     },
     "execution_count": 28,
     "metadata": {},
     "output_type": "execute_result"
    }
   ],
   "source": [
    "# before...\n",
    "gdf.shape"
   ]
  },
  {
   "cell_type": "code",
   "execution_count": 29,
   "id": "d47fdc0a-8edb-413d-9ef4-2385f66405e7",
   "metadata": {},
   "outputs": [
    {
     "data": {
      "text/plain": [
       "(25789, 39)"
      ]
     },
     "execution_count": 29,
     "metadata": {},
     "output_type": "execute_result"
    }
   ],
   "source": [
    "gdf = gdf.loc[gdf['segment_type'] == 1, :].copy()\n",
    "# after...\n",
    "gdf.shape"
   ]
  },
  {
   "cell_type": "code",
   "execution_count": 30,
   "id": "730e5e66-94d8-4a96-b732-5f3877c5c695",
   "metadata": {},
   "outputs": [
    {
     "data": {
      "text/plain": [
       "(2462,)"
      ]
     },
     "execution_count": 30,
     "metadata": {},
     "output_type": "execute_result"
    }
   ],
   "source": [
    "gdf['ord_stname_unique'].unique().shape"
   ]
  },
  {
   "cell_type": "markdown",
   "id": "4310f297",
   "metadata": {},
   "source": [
    "# update the city sector variable"
   ]
  },
  {
   "cell_type": "code",
   "execution_count": 31,
   "id": "caa84c1f",
   "metadata": {},
   "outputs": [
    {
     "name": "stdout",
     "output_type": "stream",
     "text": [
      "../data\\city_sector.csv\n"
     ]
    }
   ],
   "source": [
    "# we can quickly identify the central streets by performing some analysis in qGIS.\n",
    "# the rc.S02_CENTRAL_STREETS_IN_FILE_NAME is the result of that analysis\n",
    "fpn = os.path.join(rc.INPUT_FILE_PATH, rc.S02_CENTRAL_STREETS_IN_FILE_NAME)\n",
    "print(fpn)\n",
    "cs_df = pd.read_csv(filepath_or_buffer=fpn)"
   ]
  },
  {
   "cell_type": "code",
   "execution_count": 32,
   "id": "e44029eb",
   "metadata": {},
   "outputs": [
    {
     "data": {
      "text/html": [
       "<div>\n",
       "<style scoped>\n",
       "    .dataframe tbody tr th:only-of-type {\n",
       "        vertical-align: middle;\n",
       "    }\n",
       "\n",
       "    .dataframe tbody tr th {\n",
       "        vertical-align: top;\n",
       "    }\n",
       "\n",
       "    .dataframe thead th {\n",
       "        text-align: right;\n",
       "    }\n",
       "</style>\n",
       "<table border=\"1\" class=\"dataframe\">\n",
       "  <thead>\n",
       "    <tr style=\"text-align: right;\">\n",
       "      <th></th>\n",
       "      <th>snd_id</th>\n",
       "      <th>temp_city_sector</th>\n",
       "    </tr>\n",
       "  </thead>\n",
       "  <tbody>\n",
       "    <tr>\n",
       "      <th>0</th>\n",
       "      <td>11524</td>\n",
       "      <td>CNTR</td>\n",
       "    </tr>\n",
       "    <tr>\n",
       "      <th>1</th>\n",
       "      <td>16184</td>\n",
       "      <td>CNTR</td>\n",
       "    </tr>\n",
       "    <tr>\n",
       "      <th>2</th>\n",
       "      <td>16185</td>\n",
       "      <td>CNTR</td>\n",
       "    </tr>\n",
       "    <tr>\n",
       "      <th>3</th>\n",
       "      <td>16187</td>\n",
       "      <td>CNTR</td>\n",
       "    </tr>\n",
       "    <tr>\n",
       "      <th>4</th>\n",
       "      <td>16289</td>\n",
       "      <td>CNTR</td>\n",
       "    </tr>\n",
       "  </tbody>\n",
       "</table>\n",
       "</div>"
      ],
      "text/plain": [
       "   snd_id temp_city_sector\n",
       "0   11524             CNTR\n",
       "1   16184             CNTR\n",
       "2   16185             CNTR\n",
       "3   16187             CNTR\n",
       "4   16289             CNTR"
      ]
     },
     "execution_count": 32,
     "metadata": {},
     "output_type": "execute_result"
    }
   ],
   "source": [
    "# check\n",
    "cs_df.head()"
   ]
  },
  {
   "cell_type": "code",
   "execution_count": 33,
   "id": "46e364cd",
   "metadata": {},
   "outputs": [
    {
     "data": {
      "text/plain": [
       "_merge\n",
       "left_only     24082\n",
       "both           1707\n",
       "right_only        0\n",
       "Name: count, dtype: int64"
      ]
     },
     "execution_count": 33,
     "metadata": {},
     "output_type": "execute_result"
    }
   ],
   "source": [
    "# join\n",
    "test_join = pd.merge(left = gdf, right = cs_df, how = 'outer', indicator = True)\n",
    "test_join['_merge'].value_counts()"
   ]
  },
  {
   "cell_type": "code",
   "execution_count": 34,
   "id": "fa14b2ac",
   "metadata": {},
   "outputs": [
    {
     "data": {
      "text/plain": [
       "(2462,)"
      ]
     },
     "execution_count": 34,
     "metadata": {},
     "output_type": "execute_result"
    }
   ],
   "source": [
    "test_join['ord_stname_unique'].unique().shape"
   ]
  },
  {
   "cell_type": "code",
   "execution_count": 35,
   "id": "4c734f82",
   "metadata": {},
   "outputs": [
    {
     "data": {
      "text/plain": [
       "Index(['f_intr_id', 't_intr_id', 'snd_id', 'snd_feacode', 'citycode',\n",
       "       'stname_id', 'st_code', 'arterial_code', 'segment_type', 'agency_code',\n",
       "       'access_code', 'divided_code', 'structure_type', 'legalloc_code',\n",
       "       'vehicle_use_code', 'gis_seg_length', 'l_adrs_from', 'l_adrs_to',\n",
       "       'r_adrs_from', 'r_adrs_to', 'ord_pre_dir', 'ord_street_name',\n",
       "       'ord_street_type', 'ord_suf_dir', 'ord_stname_concat', 'l_city',\n",
       "       'l_state', 'l_zip', 'r_city', 'r_state', 'r_zip', 'sndseg_update',\n",
       "       'compkey', 'comptype', 'unitid', 'unitid2', 'city_sector',\n",
       "       'ord_stname_unique', 'geometry', 'temp_city_sector', '_merge'],\n",
       "      dtype='object')"
      ]
     },
     "execution_count": 35,
     "metadata": {},
     "output_type": "execute_result"
    }
   ],
   "source": [
    "test_join.columns"
   ]
  },
  {
   "cell_type": "code",
   "execution_count": 36,
   "id": "4c89a399",
   "metadata": {},
   "outputs": [],
   "source": [
    "# update the city city_sector variable with the temporary city sector variables\n",
    "test_join.loc[test_join['_merge'] == 'both', 'city_sector'] = \\\n",
    "test_join.loc[test_join['_merge'] == 'both', 'temp_city_sector']"
   ]
  },
  {
   "cell_type": "code",
   "execution_count": 37,
   "id": "925be060",
   "metadata": {},
   "outputs": [],
   "source": [
    "# update the unique name\n",
    "test_join['ord_stname_unique'] = test_join.apply(func = create_name, axis = 1)"
   ]
  },
  {
   "cell_type": "code",
   "execution_count": 38,
   "id": "3538cda1",
   "metadata": {},
   "outputs": [],
   "source": [
    "# drop and overwrite\n",
    "drop_col_names = ['temp_city_sector', '_merge']\n",
    "gdf = test_join.drop(labels = drop_col_names, axis = 1).copy()"
   ]
  },
  {
   "cell_type": "markdown",
   "id": "9647fa0b",
   "metadata": {},
   "source": [
    "# draw a convex hull and a concave hull around each group of city streets"
   ]
  },
  {
   "cell_type": "code",
   "execution_count": 39,
   "id": "220bf124-65d7-4c87-89e2-3dd803cde54d",
   "metadata": {},
   "outputs": [
    {
     "name": "stdout",
     "output_type": "stream",
     "text": [
      "NW\n",
      "N\n",
      "NE\n",
      "CNTR\n",
      "E\n",
      "W\n",
      "S\n",
      "SW\n"
     ]
    }
   ],
   "source": [
    "data_list = []\n",
    "geom_list = []\n",
    "for cp in gdf['city_sector'].unique().tolist():\n",
    "    print(cp)\n",
    "    temp_geoms = gdf.loc[gdf['city_sector'] == cp, 'geometry']\n",
    "    \n",
    "    # get the vertices of the line strings\n",
    "    # as shapely coordinates\n",
    "    geom_point_list = []\n",
    "    # as an x-y tuples\n",
    "    point_list = []\n",
    "    for curr_line in temp_geoms:\n",
    "        for curr_coords in curr_line.coords:\n",
    "            geom_point_list.append(Point(curr_coords))\n",
    "            point_list.append(curr_coords)\n",
    "    \n",
    "    # create the cnvx_hull\n",
    "    cnvx_hull = shapely.convex_hull(geometry = MultiPoint(geom_point_list))\n",
    "        \n",
    "    temp_list = [cp, 'convex']\n",
    "    data_list.append(temp_list)\n",
    "    geom_list.append(cnvx_hull)\n",
    "\n",
    "    # create a concave hull\n",
    "    cncv_hull = concave_hull(points = point_list)\n",
    "    # create a shapely polygon\n",
    "    cncv_poly = shapely.Polygon(cncv_hull)\n",
    "    data_list.append([cp, 'concave'])\n",
    "    geom_list.append(cncv_poly)"
   ]
  },
  {
   "cell_type": "code",
   "execution_count": 40,
   "id": "ac8c512c-8695-4279-9d18-9898c364146a",
   "metadata": {},
   "outputs": [],
   "source": [
    "# build a geodataframe\n",
    "output_gdf = gpd.GeoDataFrame(data = data_list, columns = ['city_sector', 'hull_type'], geometry = geom_list, crs = 'epsg:4326')\n",
    "# fix any odd geometries\n",
    "output_gdf['geometry'] = output_gdf['geometry'].make_valid()"
   ]
  },
  {
   "cell_type": "code",
   "execution_count": 41,
   "id": "efc2dcaf",
   "metadata": {},
   "outputs": [],
   "source": [
    "# now, let's project to WGS 84 UTM Zone 10N to perform some area calculations"
   ]
  },
  {
   "cell_type": "code",
   "execution_count": 42,
   "id": "585f11b6",
   "metadata": {},
   "outputs": [],
   "source": [
    "output_gdf = output_gdf.to_crs(epsg=32610)"
   ]
  },
  {
   "cell_type": "code",
   "execution_count": 43,
   "id": "283d1e0b",
   "metadata": {},
   "outputs": [
    {
     "data": {
      "text/html": [
       "<div>\n",
       "<style scoped>\n",
       "    .dataframe tbody tr th:only-of-type {\n",
       "        vertical-align: middle;\n",
       "    }\n",
       "\n",
       "    .dataframe tbody tr th {\n",
       "        vertical-align: top;\n",
       "    }\n",
       "\n",
       "    .dataframe thead th {\n",
       "        text-align: right;\n",
       "    }\n",
       "</style>\n",
       "<table border=\"1\" class=\"dataframe\">\n",
       "  <thead>\n",
       "    <tr style=\"text-align: right;\">\n",
       "      <th></th>\n",
       "      <th>city_sector</th>\n",
       "      <th>hull_type</th>\n",
       "      <th>geometry</th>\n",
       "    </tr>\n",
       "  </thead>\n",
       "  <tbody>\n",
       "    <tr>\n",
       "      <th>0</th>\n",
       "      <td>NW</td>\n",
       "      <td>convex</td>\n",
       "      <td>POLYGON ((548235.329 5277837.611, 548223.346 5...</td>\n",
       "    </tr>\n",
       "    <tr>\n",
       "      <th>1</th>\n",
       "      <td>NW</td>\n",
       "      <td>concave</td>\n",
       "      <td>MULTIPOLYGON (((548260.471 5278459.705, 548236...</td>\n",
       "    </tr>\n",
       "    <tr>\n",
       "      <th>2</th>\n",
       "      <td>N</td>\n",
       "      <td>convex</td>\n",
       "      <td>POLYGON ((550121.707 5274117.103, 550025.382 5...</td>\n",
       "    </tr>\n",
       "    <tr>\n",
       "      <th>3</th>\n",
       "      <td>N</td>\n",
       "      <td>concave</td>\n",
       "      <td>MULTIPOLYGON (((548236.706 5277549.869, 548236...</td>\n",
       "    </tr>\n",
       "    <tr>\n",
       "      <th>4</th>\n",
       "      <td>NE</td>\n",
       "      <td>convex</td>\n",
       "      <td>POLYGON ((552225.631 5277355.758, 551813.827 5...</td>\n",
       "    </tr>\n",
       "  </tbody>\n",
       "</table>\n",
       "</div>"
      ],
      "text/plain": [
       "  city_sector hull_type                                           geometry\n",
       "0          NW    convex  POLYGON ((548235.329 5277837.611, 548223.346 5...\n",
       "1          NW   concave  MULTIPOLYGON (((548260.471 5278459.705, 548236...\n",
       "2           N    convex  POLYGON ((550121.707 5274117.103, 550025.382 5...\n",
       "3           N   concave  MULTIPOLYGON (((548236.706 5277549.869, 548236...\n",
       "4          NE    convex  POLYGON ((552225.631 5277355.758, 551813.827 5..."
      ]
     },
     "execution_count": 43,
     "metadata": {},
     "output_type": "execute_result"
    }
   ],
   "source": [
    "output_gdf.head()"
   ]
  },
  {
   "cell_type": "code",
   "execution_count": 44,
   "id": "828aec35",
   "metadata": {},
   "outputs": [],
   "source": [
    "output_gdf = keep_largest_geometry(gdf = output_gdf, group_col_names=['city_sector', 'hull_type'])"
   ]
  },
  {
   "cell_type": "code",
   "execution_count": 45,
   "id": "7928df45",
   "metadata": {},
   "outputs": [
    {
     "data": {
      "text/html": [
       "<div>\n",
       "<style scoped>\n",
       "    .dataframe tbody tr th:only-of-type {\n",
       "        vertical-align: middle;\n",
       "    }\n",
       "\n",
       "    .dataframe tbody tr th {\n",
       "        vertical-align: top;\n",
       "    }\n",
       "\n",
       "    .dataframe thead th {\n",
       "        text-align: right;\n",
       "    }\n",
       "</style>\n",
       "<table border=\"1\" class=\"dataframe\">\n",
       "  <thead>\n",
       "    <tr style=\"text-align: right;\">\n",
       "      <th></th>\n",
       "      <th>city_sector</th>\n",
       "      <th>hull_type</th>\n",
       "      <th>geometry</th>\n",
       "    </tr>\n",
       "  </thead>\n",
       "  <tbody>\n",
       "    <tr>\n",
       "      <th>0</th>\n",
       "      <td>NW</td>\n",
       "      <td>convex</td>\n",
       "      <td>POLYGON ((548235.329 5277837.611, 548223.346 5...</td>\n",
       "    </tr>\n",
       "    <tr>\n",
       "      <th>1</th>\n",
       "      <td>NW</td>\n",
       "      <td>concave</td>\n",
       "      <td>POLYGON ((544560.158 5280213.434, 544559.88 52...</td>\n",
       "    </tr>\n",
       "    <tr>\n",
       "      <th>2</th>\n",
       "      <td>N</td>\n",
       "      <td>convex</td>\n",
       "      <td>POLYGON ((550121.707 5274117.103, 550025.382 5...</td>\n",
       "    </tr>\n",
       "    <tr>\n",
       "      <th>3</th>\n",
       "      <td>N</td>\n",
       "      <td>concave</td>\n",
       "      <td>POLYGON ((548236.706 5277549.869, 548236.48 52...</td>\n",
       "    </tr>\n",
       "    <tr>\n",
       "      <th>4</th>\n",
       "      <td>NE</td>\n",
       "      <td>convex</td>\n",
       "      <td>POLYGON ((552225.631 5277355.758, 551813.827 5...</td>\n",
       "    </tr>\n",
       "  </tbody>\n",
       "</table>\n",
       "</div>"
      ],
      "text/plain": [
       "  city_sector hull_type                                           geometry\n",
       "0          NW    convex  POLYGON ((548235.329 5277837.611, 548223.346 5...\n",
       "1          NW   concave  POLYGON ((544560.158 5280213.434, 544559.88 52...\n",
       "2           N    convex  POLYGON ((550121.707 5274117.103, 550025.382 5...\n",
       "3           N   concave  POLYGON ((548236.706 5277549.869, 548236.48 52...\n",
       "4          NE    convex  POLYGON ((552225.631 5277355.758, 551813.827 5..."
      ]
     },
     "execution_count": 45,
     "metadata": {},
     "output_type": "execute_result"
    }
   ],
   "source": [
    "output_gdf.head()"
   ]
  },
  {
   "cell_type": "code",
   "execution_count": 46,
   "id": "79e51220",
   "metadata": {},
   "outputs": [],
   "source": [
    "# re-project back to wgs-84\n",
    "output_gdf = output_gdf.to_crs(epsg = 4326)"
   ]
  },
  {
   "cell_type": "code",
   "execution_count": 47,
   "id": "bc53fa34-9b14-4589-bb5e-d43c78a98ea3",
   "metadata": {},
   "outputs": [],
   "source": [
    "# save it!\n",
    "write_gdf(gdf = output_gdf, output_file_path=rc.OUTPUT_FILE_PATH,\n",
    "          output_file_name=rc.S02_CITY_SECTORS_OUT_FILE_NAME)"
   ]
  },
  {
   "cell_type": "code",
   "execution_count": 48,
   "id": "092dc7a8",
   "metadata": {},
   "outputs": [],
   "source": [
    "# let's export this to a LineString file as well\n",
    "output_gdf['geometry'] = output_gdf['geometry'].boundary\n",
    "# fix any incorrect geometry\n",
    "output_gdf['geometry'] = output_gdf['geometry'].make_valid()"
   ]
  },
  {
   "cell_type": "code",
   "execution_count": 49,
   "id": "90365795",
   "metadata": {},
   "outputs": [],
   "source": [
    "write_gdf(gdf = output_gdf, output_file_path=rc.OUTPUT_FILE_PATH, \n",
    "          output_file_name=rc.S02_CITY_SECTORS_LINES_OUT_FILE_NAME)"
   ]
  },
  {
   "cell_type": "markdown",
   "id": "07ec39b8-6b4d-4b08-b425-401532342d13",
   "metadata": {},
   "source": [
    "# remove the following streets types:"
   ]
  },
  {
   "cell_type": "markdown",
   "id": "d22a0a93-529b-43ec-a554-42d7babac178",
   "metadata": {},
   "source": [
    "AL: alley  \n",
    "TRL: trail  \n",
    "OP: overpass  \n",
    "IS: interstate  \n",
    "SR: state route  \n",
    "RR: rail  \n",
    "FLYOVER: flyover  \n",
    "STCR: streetcar  \n",
    "ET: extension  \n",
    "RN: turn  \n",
    "RP: highway ramps  \n",
    "WKWY: walkways  "
   ]
  },
  {
   "cell_type": "code",
   "execution_count": 50,
   "id": "dedc0b62-80a5-40cf-a08f-f22cdb70b007",
   "metadata": {},
   "outputs": [],
   "source": [
    "# remove streets of the following type\n",
    "street_type_to_remove = [ 'AL', 'TRL', 'OP', 'IS', 'SR', 'RR', 'FLYOVER',\n",
    "                         'STCR', 'ET', 'RN', 'RP', 'WKWY']"
   ]
  },
  {
   "cell_type": "code",
   "execution_count": 51,
   "id": "4cccc313-31c7-4c25-a3fd-7f6c10075b38",
   "metadata": {},
   "outputs": [
    {
     "data": {
      "text/plain": [
       "(25789, 39)"
      ]
     },
     "execution_count": 51,
     "metadata": {},
     "output_type": "execute_result"
    }
   ],
   "source": [
    "# before...\n",
    "gdf.shape"
   ]
  },
  {
   "cell_type": "code",
   "execution_count": 52,
   "id": "7d7f8dae",
   "metadata": {},
   "outputs": [
    {
     "data": {
      "text/plain": [
       "array(['ST', 'AVE', 'RD', 'WAY', 'PL', 'LN', 'DR', 'CT', 'CIR', 'PZ',\n",
       "       'BLVD', 'LOOP', 'BR', 'PKWY', 'TER', 'ET', 'VIEW', 'OP', 'FLYOVER',\n",
       "       'RN', 'WKWY', 'TRL', 'SR'], dtype=object)"
      ]
     },
     "execution_count": 52,
     "metadata": {},
     "output_type": "execute_result"
    }
   ],
   "source": [
    "# what street types are currently in the gdf?\n",
    "gdf['ord_street_type'].unique()"
   ]
  },
  {
   "cell_type": "code",
   "execution_count": 53,
   "id": "341a6852-40fa-41d0-8b39-55ac96fca8e8",
   "metadata": {},
   "outputs": [],
   "source": [
    "# remove...\n",
    "gdf = gdf.loc[-gdf['ord_street_type'].isin(street_type_to_remove), :].copy()"
   ]
  },
  {
   "cell_type": "code",
   "execution_count": 54,
   "id": "d812acd6-735b-4630-a4ff-769cacb00b7f",
   "metadata": {},
   "outputs": [
    {
     "data": {
      "text/plain": [
       "(25774, 39)"
      ]
     },
     "execution_count": 54,
     "metadata": {},
     "output_type": "execute_result"
    }
   ],
   "source": [
    "# after..\n",
    "gdf.shape"
   ]
  },
  {
   "cell_type": "code",
   "execution_count": 55,
   "id": "d0de6687-a001-48e4-bc72-c699b5ed2a36",
   "metadata": {},
   "outputs": [
    {
     "data": {
      "text/plain": [
       "array(['ST', 'AVE', 'RD', 'WAY', 'PL', 'LN', 'DR', 'CT', 'CIR', 'PZ',\n",
       "       'BLVD', 'LOOP', 'BR', 'PKWY', 'TER', 'VIEW'], dtype=object)"
      ]
     },
     "execution_count": 55,
     "metadata": {},
     "output_type": "execute_result"
    }
   ],
   "source": [
    "# what street types are left?\n",
    "gdf['ord_street_type'].unique()"
   ]
  },
  {
   "cell_type": "markdown",
   "id": "0797a51c",
   "metadata": {},
   "source": [
    "# remove other short segments that appear to be invalid."
   ]
  },
  {
   "cell_type": "code",
   "execution_count": 56,
   "id": "693dc46d",
   "metadata": {},
   "outputs": [
    {
     "data": {
      "text/plain": [
       "(3, 2)"
      ]
     },
     "execution_count": 56,
     "metadata": {},
     "output_type": "execute_result"
    }
   ],
   "source": [
    "# uncomment to remove the erroneous segments\n",
    "err_segments = pd.read_csv(filepath_or_buffer='../data/streets_to_remove.txt')\n",
    "err_segments.shape"
   ]
  },
  {
   "cell_type": "code",
   "execution_count": 57,
   "id": "cf3e555c",
   "metadata": {},
   "outputs": [
    {
     "data": {
      "text/plain": [
       "count     3.000000\n",
       "mean     17.774578\n",
       "std       4.845671\n",
       "min      14.905917\n",
       "25%      14.977231\n",
       "50%      15.048545\n",
       "75%      19.208908\n",
       "max      23.369271\n",
       "Name: gis_seg_length, dtype: float64"
      ]
     },
     "execution_count": 57,
     "metadata": {},
     "output_type": "execute_result"
    }
   ],
   "source": [
    "# examine the erroneous segments\n",
    "tgdf = gdf.loc[gdf['snd_id'].isin(err_segments['snd_id']), :].copy()\n",
    "tgdf['gis_seg_length'].describe()\n",
    "\n",
    "# very short!"
   ]
  },
  {
   "cell_type": "code",
   "execution_count": 58,
   "id": "151fdb19",
   "metadata": {},
   "outputs": [
    {
     "data": {
      "text/plain": [
       "['15TH AVE W', 'CECIL AVE S', '18TH AVE S']"
      ]
     },
     "execution_count": 58,
     "metadata": {},
     "output_type": "execute_result"
    }
   ],
   "source": [
    "# check names...\n",
    "tgdf['ord_stname_concat'].unique().tolist()"
   ]
  },
  {
   "cell_type": "code",
   "execution_count": 59,
   "id": "b3d727a9",
   "metadata": {},
   "outputs": [
    {
     "data": {
      "text/plain": [
       "array([1])"
      ]
     },
     "execution_count": 59,
     "metadata": {},
     "output_type": "execute_result"
    }
   ],
   "source": [
    "tgdf['segment_type'].unique()"
   ]
  },
  {
   "cell_type": "code",
   "execution_count": 60,
   "id": "b18aec30",
   "metadata": {},
   "outputs": [
    {
     "data": {
      "text/html": [
       "<div>\n",
       "<style scoped>\n",
       "    .dataframe tbody tr th:only-of-type {\n",
       "        vertical-align: middle;\n",
       "    }\n",
       "\n",
       "    .dataframe tbody tr th {\n",
       "        vertical-align: top;\n",
       "    }\n",
       "\n",
       "    .dataframe thead th {\n",
       "        text-align: right;\n",
       "    }\n",
       "</style>\n",
       "<table border=\"1\" class=\"dataframe\">\n",
       "  <thead>\n",
       "    <tr style=\"text-align: right;\">\n",
       "      <th></th>\n",
       "      <th>f_intr_id</th>\n",
       "      <th>t_intr_id</th>\n",
       "      <th>snd_id</th>\n",
       "      <th>snd_feacode</th>\n",
       "      <th>citycode</th>\n",
       "      <th>stname_id</th>\n",
       "      <th>st_code</th>\n",
       "      <th>arterial_code</th>\n",
       "      <th>segment_type</th>\n",
       "      <th>agency_code</th>\n",
       "      <th>...</th>\n",
       "      <th>r_state</th>\n",
       "      <th>r_zip</th>\n",
       "      <th>sndseg_update</th>\n",
       "      <th>compkey</th>\n",
       "      <th>comptype</th>\n",
       "      <th>unitid</th>\n",
       "      <th>unitid2</th>\n",
       "      <th>city_sector</th>\n",
       "      <th>ord_stname_unique</th>\n",
       "      <th>geometry</th>\n",
       "    </tr>\n",
       "  </thead>\n",
       "  <tbody>\n",
       "    <tr>\n",
       "      <th>25142</th>\n",
       "      <td>46825</td>\n",
       "      <td>8049</td>\n",
       "      <td>47787</td>\n",
       "      <td>1</td>\n",
       "      <td>1</td>\n",
       "      <td>65</td>\n",
       "      <td>40</td>\n",
       "      <td>0</td>\n",
       "      <td>1</td>\n",
       "      <td>3</td>\n",
       "      <td>...</td>\n",
       "      <td>WA</td>\n",
       "      <td>98119</td>\n",
       "      <td>2009-05-22 00:00:00+00:00</td>\n",
       "      <td>0</td>\n",
       "      <td>0</td>\n",
       "      <td>None</td>\n",
       "      <td>None</td>\n",
       "      <td>W</td>\n",
       "      <td>15TH AVE W</td>\n",
       "      <td>LINESTRING (-122.37617 47.6595, -122.37624 47....</td>\n",
       "    </tr>\n",
       "    <tr>\n",
       "      <th>25202</th>\n",
       "      <td>47101</td>\n",
       "      <td>18236</td>\n",
       "      <td>48119</td>\n",
       "      <td>0</td>\n",
       "      <td>1</td>\n",
       "      <td>717</td>\n",
       "      <td>40</td>\n",
       "      <td>0</td>\n",
       "      <td>1</td>\n",
       "      <td>3</td>\n",
       "      <td>...</td>\n",
       "      <td>WA</td>\n",
       "      <td>98118</td>\n",
       "      <td>2010-07-15 00:00:00+00:00</td>\n",
       "      <td>0</td>\n",
       "      <td>0</td>\n",
       "      <td>None</td>\n",
       "      <td>None</td>\n",
       "      <td>S</td>\n",
       "      <td>CECIL AVE S</td>\n",
       "      <td>LINESTRING (-122.28771 47.52329, -122.28766 47...</td>\n",
       "    </tr>\n",
       "    <tr>\n",
       "      <th>25334</th>\n",
       "      <td>47413</td>\n",
       "      <td>13517</td>\n",
       "      <td>48499</td>\n",
       "      <td>0</td>\n",
       "      <td>1</td>\n",
       "      <td>93</td>\n",
       "      <td>40</td>\n",
       "      <td>0</td>\n",
       "      <td>1</td>\n",
       "      <td>3</td>\n",
       "      <td>...</td>\n",
       "      <td>WA</td>\n",
       "      <td>98144</td>\n",
       "      <td>2013-03-25 00:00:00+00:00</td>\n",
       "      <td>0</td>\n",
       "      <td>0</td>\n",
       "      <td>0</td>\n",
       "      <td>0</td>\n",
       "      <td>S</td>\n",
       "      <td>18TH AVE S</td>\n",
       "      <td>LINESTRING (-122.31011 47.58373, -122.3101 47....</td>\n",
       "    </tr>\n",
       "  </tbody>\n",
       "</table>\n",
       "<p>3 rows × 39 columns</p>\n",
       "</div>"
      ],
      "text/plain": [
       "       f_intr_id  t_intr_id  snd_id  snd_feacode  citycode  stname_id  \\\n",
       "25142      46825       8049   47787            1         1         65   \n",
       "25202      47101      18236   48119            0         1        717   \n",
       "25334      47413      13517   48499            0         1         93   \n",
       "\n",
       "       st_code  arterial_code  segment_type  agency_code  ...  r_state  r_zip  \\\n",
       "25142       40              0             1            3  ...       WA  98119   \n",
       "25202       40              0             1            3  ...       WA  98118   \n",
       "25334       40              0             1            3  ...       WA  98144   \n",
       "\n",
       "                  sndseg_update  compkey  comptype  unitid  unitid2  \\\n",
       "25142 2009-05-22 00:00:00+00:00        0         0    None     None   \n",
       "25202 2010-07-15 00:00:00+00:00        0         0    None     None   \n",
       "25334 2013-03-25 00:00:00+00:00        0         0       0        0   \n",
       "\n",
       "       city_sector  ord_stname_unique  \\\n",
       "25142            W         15TH AVE W   \n",
       "25202            S        CECIL AVE S   \n",
       "25334            S         18TH AVE S   \n",
       "\n",
       "                                                geometry  \n",
       "25142  LINESTRING (-122.37617 47.6595, -122.37624 47....  \n",
       "25202  LINESTRING (-122.28771 47.52329, -122.28766 47...  \n",
       "25334  LINESTRING (-122.31011 47.58373, -122.3101 47....  \n",
       "\n",
       "[3 rows x 39 columns]"
      ]
     },
     "execution_count": 60,
     "metadata": {},
     "output_type": "execute_result"
    }
   ],
   "source": [
    "tgdf.head()"
   ]
  },
  {
   "cell_type": "code",
   "execution_count": 61,
   "id": "5256e73f",
   "metadata": {},
   "outputs": [
    {
     "data": {
      "text/plain": [
       "25142    23.369271\n",
       "25202    14.905917\n",
       "25334    15.048545\n",
       "Name: gis_seg_length, dtype: float64"
      ]
     },
     "execution_count": 61,
     "metadata": {},
     "output_type": "execute_result"
    }
   ],
   "source": [
    "# so short!\n",
    "tgdf['gis_seg_length'].head()"
   ]
  },
  {
   "cell_type": "code",
   "execution_count": 62,
   "id": "2a2d78d2",
   "metadata": {},
   "outputs": [],
   "source": [
    "# remove the erroneous segments\n",
    "gdf = gdf.loc[-gdf['snd_id'].isin(err_segments['snd_id']), :].copy()"
   ]
  },
  {
   "cell_type": "code",
   "execution_count": 63,
   "id": "74a992e4",
   "metadata": {},
   "outputs": [
    {
     "data": {
      "text/plain": [
       "(25771, 39)"
      ]
     },
     "execution_count": 63,
     "metadata": {},
     "output_type": "execute_result"
    }
   ],
   "source": [
    "# after\n",
    "gdf.shape"
   ]
  },
  {
   "cell_type": "code",
   "execution_count": 64,
   "id": "be679901",
   "metadata": {},
   "outputs": [
    {
     "data": {
      "text/plain": [
       "(2457,)"
      ]
     },
     "execution_count": 64,
     "metadata": {},
     "output_type": "execute_result"
    }
   ],
   "source": [
    "# unique roads\n",
    "gdf['ord_stname_unique'].unique().shape"
   ]
  },
  {
   "cell_type": "code",
   "execution_count": 65,
   "id": "27027af2",
   "metadata": {},
   "outputs": [
    {
     "data": {
      "text/plain": [
       "np.float64(1892.4954813380684)"
      ]
     },
     "execution_count": 65,
     "metadata": {},
     "output_type": "execute_result"
    }
   ],
   "source": [
    "# total miles in Seattle, based on select road ways\n",
    "gdf['gis_seg_length'].sum() / 5280"
   ]
  },
  {
   "cell_type": "markdown",
   "id": "c7b5f605-1e1b-4df6-8141-86b38ef66891",
   "metadata": {},
   "source": [
    "# save as a gdf - overwrite"
   ]
  },
  {
   "cell_type": "code",
   "execution_count": 66,
   "id": "33f44c2a-1e42-45f0-8cc3-70864f8b4efd",
   "metadata": {},
   "outputs": [],
   "source": [
    "write_gdf(gdf = gdf, output_file_path = rc.OUTPUT_FILE_PATH,\n",
    "          output_file_name =  rc.S02_SND_WORKING_OUT_FILE_NAME)"
   ]
  },
  {
   "cell_type": "code",
   "execution_count": null,
   "id": "38187f2c",
   "metadata": {},
   "outputs": [],
   "source": []
  }
 ],
 "metadata": {
  "kernelspec": {
   "display_name": "analysis",
   "language": "python",
   "name": "python3"
  },
  "language_info": {
   "codemirror_mode": {
    "name": "ipython",
    "version": 3
   },
   "file_extension": ".py",
   "mimetype": "text/x-python",
   "name": "python",
   "nbconvert_exporter": "python",
   "pygments_lexer": "ipython3",
   "version": "3.12.7"
  }
 },
 "nbformat": 4,
 "nbformat_minor": 5
}
