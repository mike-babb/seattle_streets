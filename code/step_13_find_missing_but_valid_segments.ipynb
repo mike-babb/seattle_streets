{
 "cells": [
  {
   "cell_type": "markdown",
   "id": "de94a33b",
   "metadata": {},
   "source": [
    "# Part 13: Verify that the created streets are unique\n",
    "Added streets could be replicas of existing streets\n",
    "michael babb\n",
    "2025 09 23 "
   ]
  },
  {
   "cell_type": "code",
   "execution_count": 1,
   "id": "2d5b1a3f",
   "metadata": {},
   "outputs": [],
   "source": [
    "# standard\n",
    "import os"
   ]
  },
  {
   "cell_type": "code",
   "execution_count": 2,
   "id": "09b6bf80",
   "metadata": {},
   "outputs": [],
   "source": [
    "# external\n",
    "import geopandas as gpd\n",
    "from matplotlib_venn import venn2\n",
    "import matplotlib.pyplot as plt\n",
    "import matplotlib.patches as patches\n",
    "import matplotlib.patheffects as path_effects\n",
    "import networkx as nx\n",
    "import numpy as np\n",
    "import pandas as pd\n",
    "import seaborn as sns"
   ]
  },
  {
   "cell_type": "code",
   "execution_count": 3,
   "id": "02adbae0",
   "metadata": {},
   "outputs": [],
   "source": [
    "# custom\n",
    "from geo_data_io.fc_df_spatial import write_gdf\n",
    "import run_constants as rc\n",
    "from utils import create_city_sector, create_name"
   ]
  },
  {
   "cell_type": "code",
   "execution_count": 4,
   "id": "3d42713b",
   "metadata": {},
   "outputs": [],
   "source": [
    "# custom\n",
    "import run_constants as rc\n",
    "from utils import create_name, generate_street_end_vertices\n",
    "from geo_data_io.fc_df_spatial import keep_largest_geometry, write_gdf"
   ]
  },
  {
   "cell_type": "markdown",
   "id": "24af3925",
   "metadata": {},
   "source": [
    "# Load the data"
   ]
  },
  {
   "cell_type": "code",
   "execution_count": 5,
   "id": "4bdf9fe1",
   "metadata": {},
   "outputs": [
    {
     "data": {
      "text/plain": [
       "'../../../project/seattle_streets/data\\\\Street_Network_Database_Complete_Revised.gpkg'"
      ]
     },
     "execution_count": 5,
     "metadata": {},
     "output_type": "execute_result"
    }
   ],
   "source": [
    "fpn = os.path.join(rc.OUTPUT_FILE_PATH, rc.S02_SND_COMPLETE_OUT_FILE_NAME)\n",
    "fpn"
   ]
  },
  {
   "cell_type": "code",
   "execution_count": 6,
   "id": "d3273d31",
   "metadata": {},
   "outputs": [],
   "source": [
    "c_gdf = gpd.read_file(filename = fpn)"
   ]
  },
  {
   "cell_type": "code",
   "execution_count": 7,
   "id": "6cf0206f",
   "metadata": {},
   "outputs": [
    {
     "data": {
      "text/plain": [
       "f_intr_id                          int64\n",
       "t_intr_id                          int64\n",
       "snd_id                             int64\n",
       "snd_feacode                        int64\n",
       "citycode                           int64\n",
       "stname_id                          int64\n",
       "st_code                            int64\n",
       "arterial_code                      int64\n",
       "segment_type                       int64\n",
       "agency_code                        int64\n",
       "access_code                        int64\n",
       "divided_code                       int64\n",
       "structure_type                     int64\n",
       "legalloc_code                      int64\n",
       "vehicle_use_code                   int64\n",
       "gis_seg_length                   float64\n",
       "l_adrs_from                        int64\n",
       "l_adrs_to                          int64\n",
       "r_adrs_from                        int64\n",
       "r_adrs_to                          int64\n",
       "ord_pre_dir                       object\n",
       "ord_street_name                   object\n",
       "ord_street_type                   object\n",
       "ord_suf_dir                       object\n",
       "ord_stname_concat                 object\n",
       "l_city                            object\n",
       "l_state                           object\n",
       "l_zip                             object\n",
       "r_city                            object\n",
       "r_state                           object\n",
       "r_zip                             object\n",
       "sndseg_update        datetime64[ms, UTC]\n",
       "compkey                            int64\n",
       "comptype                           int64\n",
       "unitid                            object\n",
       "unitid2                           object\n",
       "city_sector                       object\n",
       "ord_stname_unique                 object\n",
       "geometry                        geometry\n",
       "dtype: object"
      ]
     },
     "execution_count": 7,
     "metadata": {},
     "output_type": "execute_result"
    }
   ],
   "source": [
    "c_gdf.dtypes"
   ]
  },
  {
   "cell_type": "code",
   "execution_count": 8,
   "id": "241696bc",
   "metadata": {},
   "outputs": [],
   "source": [
    "# create a graph"
   ]
  },
  {
   "cell_type": "code",
   "execution_count": 9,
   "id": "5aed20e1",
   "metadata": {},
   "outputs": [],
   "source": [
    "sg = nx.from_pandas_edgelist(df = c_gdf,\n",
    "source = 'f_intr_id', target = 't_intr_id', edge_attr = True)"
   ]
  },
  {
   "cell_type": "code",
   "execution_count": 10,
   "id": "f7a9ae90",
   "metadata": {},
   "outputs": [
    {
     "data": {
      "text/plain": [
       "23251"
      ]
     },
     "execution_count": 10,
     "metadata": {},
     "output_type": "execute_result"
    }
   ],
   "source": [
    "sg.number_of_nodes()"
   ]
  },
  {
   "cell_type": "markdown",
   "id": "d6067b4d",
   "metadata": {},
   "source": [
    "# load the added streets"
   ]
  },
  {
   "cell_type": "code",
   "execution_count": 11,
   "id": "a1e34108",
   "metadata": {},
   "outputs": [
    {
     "data": {
      "text/plain": [
       "'../../../project/seattle_streets/data\\\\missing_segments_v2.gpkg'"
      ]
     },
     "execution_count": 11,
     "metadata": {},
     "output_type": "execute_result"
    }
   ],
   "source": [
    "fpn = os.path.join(rc.OUTPUT_FILE_PATH, rc.S05_MISSING_IN_FILE_NAME)\n",
    "fpn"
   ]
  },
  {
   "cell_type": "code",
   "execution_count": 12,
   "id": "80c4c3ec",
   "metadata": {},
   "outputs": [],
   "source": [
    "gdf = gpd.read_file(filename = fpn)"
   ]
  },
  {
   "cell_type": "code",
   "execution_count": 13,
   "id": "6ec62952",
   "metadata": {},
   "outputs": [
    {
     "data": {
      "text/plain": [
       "snd_id                      int64\n",
       "ord_street_name            object\n",
       "ord_street_type            object\n",
       "ord_stname_type            object\n",
       "ord_stname_concat          object\n",
       "ord_stname_unique          object\n",
       "ord_stname_type_group      object\n",
       "ord_street_type_rank       object\n",
       "snd_group                   int64\n",
       "group_id                    int64\n",
       "city_sector                object\n",
       "city_sector_group          object\n",
       "street_status               int64\n",
       "sn_id                       int64\n",
       "en_id                       int64\n",
       "dist                      float64\n",
       "dist_miles                float64\n",
       "geometry                 geometry\n",
       "dtype: object"
      ]
     },
     "execution_count": 13,
     "metadata": {},
     "output_type": "execute_result"
    }
   ],
   "source": [
    "gdf.dtypes"
   ]
  },
  {
   "cell_type": "code",
   "execution_count": 14,
   "id": "aabc6c12",
   "metadata": {},
   "outputs": [],
   "source": [
    "# now, compare the data, by node id to node id"
   ]
  },
  {
   "cell_type": "code",
   "execution_count": 15,
   "id": "232d75c9",
   "metadata": {},
   "outputs": [],
   "source": [
    "def find_existing_segments(row):\n",
    "    return int(sg.has_edge(u = row['sn_id'], v = row['en_id']))"
   ]
  },
  {
   "cell_type": "code",
   "execution_count": 16,
   "id": "1eaaa808",
   "metadata": {},
   "outputs": [],
   "source": [
    "gdf['existing_segment'] = gdf.apply(func = find_existing_segments, axis = 1)"
   ]
  },
  {
   "cell_type": "code",
   "execution_count": 17,
   "id": "9f9db12f",
   "metadata": {},
   "outputs": [],
   "source": [
    "gdf['n_segments'] = int(1)"
   ]
  },
  {
   "cell_type": "code",
   "execution_count": 18,
   "id": "71b3c72c",
   "metadata": {},
   "outputs": [],
   "source": [
    "# do a pivot!\n",
    "pv_df = pd.pivot_table(data = gdf, \n",
    "                       values = 'n_segments',\n",
    "                       index = 'street_status',\n",
    "                       columns = 'existing_segment',\n",
    "                       aggfunc='sum',\n",
    "                       fill_value = 0,\n",
    "                       margins = True).reset_index()\n",
    "pv_df.columns = ['street_status', 'not_existing', 'is_existing', 'total']"
   ]
  },
  {
   "cell_type": "code",
   "execution_count": 19,
   "id": "46329e01",
   "metadata": {},
   "outputs": [],
   "source": [
    "# apply descriptions to the street_status"
   ]
  },
  {
   "cell_type": "code",
   "execution_count": 20,
   "id": "699bbdac",
   "metadata": {},
   "outputs": [],
   "source": [
    "gdf['street_status_desc'] = gdf['street_status'].map(rc.street_status_dict)"
   ]
  },
  {
   "cell_type": "code",
   "execution_count": 21,
   "id": "ee4ac5d0",
   "metadata": {},
   "outputs": [],
   "source": [
    "gdf['street_status_reclass'] = gdf['street_status'].astype(str) + '_' + gdf['existing_segment'].astype(str)"
   ]
  },
  {
   "cell_type": "code",
   "execution_count": 22,
   "id": "c5c12423",
   "metadata": {},
   "outputs": [],
   "source": [
    "gdf['street_status_reclass_desc'] = gdf['street_status_reclass'].map(rc.extended_street_status_dict)"
   ]
  },
  {
   "cell_type": "code",
   "execution_count": 23,
   "id": "5950b21c",
   "metadata": {},
   "outputs": [],
   "source": [
    "# save it to disk"
   ]
  },
  {
   "cell_type": "code",
   "execution_count": 24,
   "id": "34f08f39",
   "metadata": {},
   "outputs": [],
   "source": [
    "# let's save\n",
    "write_gdf(gdf = gdf, output_file_path=rc.OUTPUT_FILE_PATH,\n",
    "          output_file_name='missing_segments_v3.gpkg')"
   ]
  },
  {
   "cell_type": "markdown",
   "id": "ebfe14dd",
   "metadata": {},
   "source": [
    "# Simple Stats about the added streets"
   ]
  },
  {
   "cell_type": "code",
   "execution_count": 27,
   "id": "f59f1e57",
   "metadata": {},
   "outputs": [
    {
     "data": {
      "text/plain": [
       "street_status_desc\n",
       "discontinuous_street           21931\n",
       "continuous_street               3825\n",
       "added_street: within-sector     3614\n",
       "added_street: cross-sector       410\n",
       "Name: count, dtype: int64"
      ]
     },
     "execution_count": 27,
     "metadata": {},
     "output_type": "execute_result"
    }
   ],
   "source": [
    "gdf['street_status_desc'].value_counts()"
   ]
  },
  {
   "cell_type": "code",
   "execution_count": 29,
   "id": "62237f30",
   "metadata": {},
   "outputs": [
    {
     "data": {
      "text/plain": [
       "street_status_reclass_desc\n",
       "discontinuous_street                         21931\n",
       "continuous_street                             3825\n",
       "added_street: within-sector, not existing     2806\n",
       "added_street: within-sector, existing          808\n",
       "added_street: cross-sector, not existing       393\n",
       "added_street: cross-sector, existing            17\n",
       "Name: count, dtype: int64"
      ]
     },
     "execution_count": 29,
     "metadata": {},
     "output_type": "execute_result"
    }
   ],
   "source": [
    "gdf['street_status_reclass_desc'].value_counts()"
   ]
  },
  {
   "cell_type": "markdown",
   "id": "ffb4e1cb",
   "metadata": {},
   "source": [
    "# MAKE A BIG DUMB PLOT OF THE DIFFERENCES IN WITHIN-SECTOR CONNECTED STREETS"
   ]
  },
  {
   "cell_type": "code",
   "execution_count": null,
   "id": "cdcc49d1",
   "metadata": {},
   "outputs": [],
   "source": []
  },
  {
   "cell_type": "code",
   "execution_count": 30,
   "id": "7c59c48e",
   "metadata": {},
   "outputs": [],
   "source": [
    "# compute logs of distance\n",
    "gdf['dist_miles_log'] = np.log10(gdf['dist_miles'])"
   ]
  },
  {
   "cell_type": "code",
   "execution_count": 31,
   "id": "bd2e6fb7",
   "metadata": {},
   "outputs": [],
   "source": [
    "##\n",
    "# stack the original and the reclassified streets - this is used to generate the histograms\n",
    "##\n",
    "df_list = []\n",
    "\n",
    "# the original classification\n",
    "col_names = ['ord_stname_concat', 'dist', 'dist_miles', 'dist_miles_log', 'street_status', 'street_status_desc']\n",
    "tdf = gdf.loc[gdf['street_status'] == 2, col_names]\n",
    "tdf['street_status'] = gdf['street_status'].astype(str)\n",
    "df_list.append(tdf)\n",
    "\n",
    "# the reclassed streets\n",
    "col_names = ['ord_stname_concat', 'dist', 'dist_miles', 'dist_miles_log', 'street_status_reclass', 'street_status_reclass_desc']\n",
    "tdf = gdf.loc[gdf['street_status'] == 2, col_names]\n",
    "col_names = ['ord_stname_concat', 'dist', 'dist_miles', 'dist_miles_log', 'street_status', 'street_status_desc']\n",
    "tdf.columns = col_names \n",
    "df_list.append(tdf)\n",
    "tdf = pd.concat(objs = df_list, axis = 0)"
   ]
  },
  {
   "cell_type": "code",
   "execution_count": 32,
   "id": "121712a5",
   "metadata": {},
   "outputs": [],
   "source": [
    "##\n",
    "# CREATE A DATAFRAME THAT HOLDS ALL OF THE SUMMARY STATISTICS\n",
    "##"
   ]
  },
  {
   "cell_type": "code",
   "execution_count": 33,
   "id": "59a92b21",
   "metadata": {},
   "outputs": [],
   "source": [
    "# ds 1: averages\n",
    "# ds 2: added segments by type\n",
    "# ds 3: unique roads"
   ]
  },
  {
   "cell_type": "code",
   "execution_count": 34,
   "id": "13230fee",
   "metadata": {},
   "outputs": [],
   "source": [
    "##\n",
    "# Descriptive Statistic 01: average segment length and positioning for each group\n",
    "##\n",
    "col_names = ['street_status', 'street_status_desc', 'dist_miles']\n",
    "ds_df = tdf[col_names].groupby(col_names[:-1]).agg(avg_dist_miles = ('dist_miles', 'mean')).reset_index()\n",
    "ds_df['avg_dist_miles_log'] = np.log10(ds_df['avg_dist_miles'])\n",
    "ds_df['avg_dist'] = ds_df['avg_dist_miles'] * 5280\n",
    "ds_df['color'] = ['#000000', '#ca0020', '#b88b0b'] # these colors are used throughout\n",
    "ds_df['avg_text'] = ['0.23 mi (avg.)', '0.29 mi (avg.)',  '145 ft (avg.)']\n",
    "ds_df['avg_text_ha'] = ['right', 'left', 'center']\n",
    "ds_df['avg_text_x_pos'] = ds_df['avg_dist_miles_log']\n",
    "# the horizontal position is created from the distance in miles and the text jitter\n"
   ]
  },
  {
   "cell_type": "code",
   "execution_count": 35,
   "id": "4cbcf10d",
   "metadata": {},
   "outputs": [],
   "source": [
    "##\n",
    "# Descriptive Statistic 02: what roads have only new segments and/or only existing segment?\n",
    "##\n",
    "# pivot to get membership by street type\n",
    "ss_df = pd.pivot_table(data = gdf, index = ['ord_stname_concat'],\n",
    "                 columns = ['street_status_reclass'],\n",
    "                 values = ['n_segments'],aggfunc = 'sum', fill_value = 0)\n",
    "# new columns\n",
    "ss_df.columns = ['continuous', 'discontinuous', 'asws_new', 'asws_ex', 'asis_new', 'asis_ex']\n",
    "\n",
    "# rescale to 1 if GT 1\n",
    "ss_df = ss_df.map(func = lambda x: 1 if x > 1 else x)\n",
    "def unpack_it(row):\n",
    "    return '_'.join([str(rv) for rv in row.to_numpy()])\n",
    "\n",
    "ss_df['combined_class'] = ss_df.apply(unpack_it, axis = 1)\n",
    "\n",
    "# these are the street combos of interest\n",
    "voi = ['0_1_1_0_0_0', '0_1_1_1_0_0', '0_1_0_1_0_0']\n",
    "ss_df = ss_df.loc[ss_df['combined_class'].isin(voi), 'combined_class'].value_counts().to_frame(name = 'n_unique_roads').reset_index()\n",
    "\n",
    "# add street status for joining\n",
    "ss_df['street_status'] = ['2_0', '2', '2_1']\n",
    "ds_df = pd.merge(left = ds_df, right = ss_df)\n",
    "\n",
    "# Descriptive Statistic 02: segment status and histogram \n",
    "ds_df['seg_stat_desc'] =  ['added', 'new', 'existing']\n",
    "ds_df['seg_stat_alpha'] =  [0.2, 0.8, 0.8]\n",
    "ds_df['seg_stat_xy_text'] =  [(-3.15, 160), (-3.15, 145), (-3.15, 130)]\n",
    "ds_df['foreground_color'] =  ['white', 'white', 'white']"
   ]
  },
  {
   "cell_type": "code",
   "execution_count": 36,
   "id": "9c37a571",
   "metadata": {},
   "outputs": [],
   "source": [
    "# Descriptive Statistic 03: unique roads\n",
    "ds_df['ur_desc'] = ['new and existing segments', 'only new segments',  'only existing segments']\n",
    "ds_df['ur_xy_text'] = [(-3.15, 100), (-3.15, 85), (-3.15, 70)]"
   ]
  },
  {
   "cell_type": "code",
   "execution_count": 37,
   "id": "04c00be2",
   "metadata": {},
   "outputs": [
    {
     "data": {
      "text/plain": [
       "{'street_status': '2',\n",
       " 'street_status_desc': 'added_street: within-sector',\n",
       " 'avg_dist_miles': 0.23005073625172942,\n",
       " 'avg_dist_miles_log': -0.6381763724858979,\n",
       " 'avg_dist': 1214.6678874091313,\n",
       " 'color': '#000000',\n",
       " 'avg_text': '0.23 mi (avg.)',\n",
       " 'avg_text_ha': 'right',\n",
       " 'avg_text_x_pos': -0.6381763724858979,\n",
       " 'combined_class': '0_1_1_1_0_0',\n",
       " 'n_unique_roads': 399,\n",
       " 'seg_stat_desc': 'added',\n",
       " 'seg_stat_alpha': 0.2,\n",
       " 'seg_stat_xy_text': (-3.15, 160),\n",
       " 'foreground_color': 'white',\n",
       " 'ur_desc': 'new and existing segments',\n",
       " 'ur_xy_text': (-3.15, 100)}"
      ]
     },
     "execution_count": 37,
     "metadata": {},
     "output_type": "execute_result"
    }
   ],
   "source": [
    "ss = '2'\n",
    "ds_dict = ds_df.loc[ds_df['street_status'] == ss, :].to_dict(orient = 'records')[0]\n",
    "ds_dict"
   ]
  },
  {
   "cell_type": "code",
   "execution_count": 38,
   "id": "e5086a13",
   "metadata": {},
   "outputs": [
    {
     "name": "stdout",
     "output_type": "stream",
     "text": [
      "2\n",
      "2_0\n",
      "2_1\n",
      "..\\graphics\\histogram_ws_ALL_streets_revised.png\n"
     ]
    },
    {
     "data": {
      "image/png": "[encoded data removed]",
      "text/plain": [
       "<Figure size 2000x500 with 1 Axes>"
      ]
     },
     "metadata": {},
     "output_type": "display_data"
    }
   ],
   "source": [
    "# start your plots\n",
    "# top to bottom\n",
    "sns.set_theme(style = \"whitegrid\")\n",
    "f, ax = plt.subplots(figsize = (20, 5))\n",
    "\n",
    "ax.set_ylim(0, 185.6)\n",
    "ax.set_xlim(-3.2, .75)\n",
    "\n",
    "# set the top part of the plot frame - the spine - to black\n",
    "ax.spines['top'].set_edgecolor(color = 'black')\n",
    "\n",
    "# y ticks\n",
    "y_ticks = list(range(0, 176, 25))\n",
    "y_tick_labels_formatted = ['{:,}'.format(ytl) for ytl in y_ticks]   \n",
    "\n",
    "ax.set_yticks(ticks = y_ticks)\n",
    "ax.set_yticklabels(labels = y_tick_labels_formatted, rotation=0)\n",
    "\n",
    "# x tick positions - need to log transform to match the inputs\n",
    "x_tick_labels = [50 / 5280, 100 / 5280, 300 / 5280, .1, .25, .5, 1, 2, 3]\n",
    "x_ticks = [np.log10(xtl) for xtl in x_tick_labels]\n",
    "\n",
    "# x tick labels\n",
    "x_tick_label_text = ['50 ft', '100 ft', '300 ft',  '1/10 mi', '1/4 mi', '1/2 mi', '1 mi', '2 mi', '3 mi']\n",
    "\n",
    "ax.set_xticks(ticks = x_ticks)\n",
    "ax.set_xticklabels(labels = x_tick_label_text, rotation=0)\n",
    "\n",
    "# add separate histograms for each group.\n",
    "# This way we can control the alpha transparency for each histogram\n",
    "for ss in tdf['street_status'].unique():\n",
    "    print(ss)\n",
    "    \n",
    "    # current working df\n",
    "    adf = tdf.loc[tdf['street_status'] == ss, :]\n",
    "\n",
    "    # total unique roads\n",
    "    total_unique_roads = f\"{adf['ord_stname_concat'].unique().shape[0]:,}\"\n",
    "    total_miles = f\"{int(round(adf['dist_miles'].sum(), 0)):,}\"\n",
    "    total_segments = f\"{adf.shape[0]:,}\"\n",
    "\n",
    "    # place the descriptive stats and plotting options into a dictionary\n",
    "    ds_dict = ds_df.loc[ds_df['street_status'] == ss, :].to_dict(orient = 'records')[0]\n",
    "    \n",
    "    # create a color palette of the form 'data_category':'color\n",
    "    color_palette = {ss:ds_dict['color']}    \n",
    "\n",
    "    # add the histogram\n",
    "    ax1 = sns.histplot(\n",
    "        data=adf,\n",
    "        x=\"dist_miles_log\",\n",
    "        hue=\"street_status\",\n",
    "        palette=color_palette,\n",
    "        element='bars',\n",
    "        multiple = 'layer',\n",
    "        bins = 100,\n",
    "        edgecolor = 'black',\n",
    "        alpha = ds_dict['seg_stat_alpha'],\n",
    "        legend=None,\n",
    "        kde = True\n",
    "    )\n",
    "\n",
    "    ##\n",
    "    # DESCRIPTIVE STATISTICS 1: Average segment length\n",
    "    ##\n",
    "    # add vertical lines at some descriptive statistics points\n",
    "    ax.vlines(x = ds_dict['avg_dist_miles_log'], ymin = 0, ymax = 175, color = ds_dict['color'], linestyles = 'dashdot')\n",
    "\n",
    "    # add text for the descriptive stats    \n",
    "    ax.text(x = ds_dict['avg_text_x_pos'], y = 176, s = ds_dict['avg_text'], horizontalalignment = ds_dict['avg_text_ha'], color = ds_dict['color'])\n",
    "\n",
    "    ##\n",
    "    # DESCRIPTIVE STATISTICS 2: Segment status\n",
    "    ##\n",
    "    # add the text describing the mileage\n",
    "    desc_text = f\"{total_segments.rjust(5)} {ds_dict['seg_stat_desc']} segments\".ljust(24) + F\"| {total_miles.rjust(3)} miles\"\n",
    "            \n",
    "    txt = ax.annotate(text = desc_text, xy = ds_dict['seg_stat_xy_text'],\n",
    "                color = ds_dict['color'], fontsize = 12,\n",
    "                fontweight = 'bold', fontstretch = 'extra-expanded', fontfamily = 'monospace')\n",
    "    \n",
    "    txt.set_path_effects([\n",
    "        path_effects.Stroke(linewidth=2, foreground=ds_dict['foreground_color']),\n",
    "        path_effects.Normal()\n",
    "        ])\n",
    "    \n",
    "    ##\n",
    "    # DESCRIPTIVE STATISTICS 3: Unique road counts\n",
    "    ##\n",
    "    # add some text with the road counts\n",
    "\n",
    "    # add the text describing the mileage\n",
    "    desc_text = f\"{ds_dict['n_unique_roads']} unique roads with {ds_dict['ur_desc']}\"\n",
    "            \n",
    "    txt = ax.annotate(text = desc_text, xy = ds_dict['ur_xy_text'],\n",
    "                color = ds_dict['color'], fontsize = 12,\n",
    "                fontweight = 'bold', fontstretch = 'extra-expanded', fontfamily = 'monospace')\n",
    "    \n",
    "    txt.set_path_effects([\n",
    "        path_effects.Stroke(linewidth=2, foreground='white'),\n",
    "        path_effects.Normal()\n",
    "    ])    \n",
    "\n",
    "# white out the top portion of the ticks\n",
    "for xt in x_ticks:\n",
    "    ax.vlines(x = xt, ymin = 175, ymax = 185, color = 'white', linestyles = 'solid', linewidth = 2)\n",
    "\n",
    "##\n",
    "# BUILD THE TITLE\n",
    "##\n",
    "asws_df = gdf.loc[gdf['street_status'] == 2, ]\n",
    "\n",
    "# segments\n",
    "n_added = asws_df.shape[0]\n",
    "n_added =  f\"{n_added:,}\"\n",
    "\n",
    "tot_miles = asws_df['dist_miles'].sum()\n",
    "tot_miles = f\"{int(round(tot_miles, 0)):,}\"\n",
    "\n",
    "unique_roads = asws_df['ord_stname_concat'].unique().shape[0]\n",
    "unique_roads = f\"{unique_roads:,}\"\n",
    "\n",
    "my_title = f\"Histogram of within-sector added road segment length by new and existing segment type ({n_added} segments | {unique_roads} unique roads | {tot_miles} miles | )\"\n",
    "plt.title(label = my_title, fontsize = 16)\n",
    "plt.xlabel(xlabel = 'Added road segment length (log-scale)')\n",
    "plt.ylabel(ylabel = \"Number of added road segments\")\n",
    "\n",
    "output_file_name = '..\\\\graphics\\\\histogram_ws_ALL_streets_revised.png'\n",
    "output_file_name = os.path.normpath(output_file_name)\n",
    "print(output_file_name)\n",
    "ax.get_figure().savefig(fname = output_file_name)"
   ]
  },
  {
   "cell_type": "markdown",
   "id": "fae7e5a5",
   "metadata": {},
   "source": [
    "##\n",
    "# WHAT ARE THE EXISTING SEGMENTS - WHAT ARE THOSE FEATURES LIKE?\n",
    "## "
   ]
  },
  {
   "cell_type": "code",
   "execution_count": 39,
   "id": "7cb2fd42",
   "metadata": {},
   "outputs": [
    {
     "data": {
      "text/plain": [
       "Index(['snd_id', 'ord_street_name', 'ord_street_type', 'ord_stname_type',\n",
       "       'ord_stname_concat', 'ord_stname_unique', 'ord_stname_type_group',\n",
       "       'ord_street_type_rank', 'snd_group', 'group_id', 'city_sector',\n",
       "       'city_sector_group', 'street_status', 'sn_id', 'en_id', 'dist',\n",
       "       'dist_miles', 'geometry', 'existing_segment', 'n_segments',\n",
       "       'street_status_desc', 'street_status_reclass',\n",
       "       'street_status_reclass_desc', 'dist_miles_log'],\n",
       "      dtype='object')"
      ]
     },
     "execution_count": 39,
     "metadata": {},
     "output_type": "execute_result"
    }
   ],
   "source": [
    "gdf.columns"
   ]
  },
  {
   "cell_type": "code",
   "execution_count": 40,
   "id": "105dd560",
   "metadata": {},
   "outputs": [],
   "source": [
    "ex_seg_df = gdf.loc[gdf['street_status_reclass'].isin(('2_1', '3_1')), :]"
   ]
  },
  {
   "cell_type": "code",
   "execution_count": 41,
   "id": "21236624",
   "metadata": {},
   "outputs": [
    {
     "data": {
      "text/plain": [
       "(825, 24)"
      ]
     },
     "execution_count": 41,
     "metadata": {},
     "output_type": "execute_result"
    }
   ],
   "source": [
    "ex_seg_df.shape"
   ]
  },
  {
   "cell_type": "code",
   "execution_count": 42,
   "id": "5660d728",
   "metadata": {},
   "outputs": [
    {
     "data": {
      "text/plain": [
       "(825, 29)"
      ]
     },
     "execution_count": 42,
     "metadata": {},
     "output_type": "execute_result"
    }
   ],
   "source": [
    "# what are the existing snd id?\n",
    "def get_snd_id(row):\n",
    "    # and sort it!\n",
    "    gen_snd_id = row['snd_id']\n",
    "    sn_id = row['sn_id']\n",
    "    en_id = row['en_id']    \n",
    "    node_id_list = [sn_id, en_id]\n",
    "    node_id_list.sort()    \n",
    "    node_pair_hash = hash(tuple(node_id_list))\n",
    "\n",
    "    test_c_gdf = c_gdf.loc[(c_gdf['t_intr_id'] == sn_id) &\n",
    "                           (c_gdf['f_intr_id'] == en_id), :]\n",
    "    if test_c_gdf.empty:\n",
    "        test_c_gdf = c_gdf.loc[(c_gdf['t_intr_id'] == en_id) &\n",
    "                           (c_gdf['f_intr_id'] == sn_id), :]\n",
    "    \n",
    "    snd_id = test_c_gdf['snd_id'].iloc[0]\n",
    "\n",
    "\n",
    "    return [gen_snd_id, sn_id, en_id, node_pair_hash, snd_id]\n",
    "    \n",
    "snd_id = ex_seg_df.apply(func = get_snd_id, axis = 1).tolist()\n",
    "snd_df = pd.DataFrame(data = snd_id, columns = ['gen_snd_id', 'sn_id_ordered', 'en_id_ordered', 'node_pair_hash', 'ex_snd_id'])\n",
    "snd_gdf = pd.merge( left = ex_seg_df, right = snd_df,  left_on = 'snd_id', right_on='gen_snd_id')\n",
    "snd_gdf.shape"
   ]
  },
  {
   "cell_type": "code",
   "execution_count": 43,
   "id": "c7a11d78",
   "metadata": {},
   "outputs": [],
   "source": [
    "col_names = ['gen_snd_id', 'ex_snd_id', 'snd_id']"
   ]
  },
  {
   "cell_type": "code",
   "execution_count": 44,
   "id": "5595fdf4",
   "metadata": {},
   "outputs": [
    {
     "data": {
      "text/html": [
       "<div>\n",
       "<style scoped>\n",
       "    .dataframe tbody tr th:only-of-type {\n",
       "        vertical-align: middle;\n",
       "    }\n",
       "\n",
       "    .dataframe tbody tr th {\n",
       "        vertical-align: top;\n",
       "    }\n",
       "\n",
       "    .dataframe thead th {\n",
       "        text-align: right;\n",
       "    }\n",
       "</style>\n",
       "<table border=\"1\" class=\"dataframe\">\n",
       "  <thead>\n",
       "    <tr style=\"text-align: right;\">\n",
       "      <th></th>\n",
       "      <th>gen_snd_id</th>\n",
       "      <th>ex_snd_id</th>\n",
       "      <th>snd_id</th>\n",
       "    </tr>\n",
       "  </thead>\n",
       "  <tbody>\n",
       "    <tr>\n",
       "      <th>0</th>\n",
       "      <td>65539</td>\n",
       "      <td>49919</td>\n",
       "      <td>65539</td>\n",
       "    </tr>\n",
       "    <tr>\n",
       "      <th>1</th>\n",
       "      <td>65554</td>\n",
       "      <td>42716</td>\n",
       "      <td>65554</td>\n",
       "    </tr>\n",
       "    <tr>\n",
       "      <th>2</th>\n",
       "      <td>65558</td>\n",
       "      <td>36591</td>\n",
       "      <td>65558</td>\n",
       "    </tr>\n",
       "    <tr>\n",
       "      <th>3</th>\n",
       "      <td>65563</td>\n",
       "      <td>4749</td>\n",
       "      <td>65563</td>\n",
       "    </tr>\n",
       "    <tr>\n",
       "      <th>4</th>\n",
       "      <td>65564</td>\n",
       "      <td>49727</td>\n",
       "      <td>65564</td>\n",
       "    </tr>\n",
       "  </tbody>\n",
       "</table>\n",
       "</div>"
      ],
      "text/plain": [
       "   gen_snd_id  ex_snd_id  snd_id\n",
       "0       65539      49919   65539\n",
       "1       65554      42716   65554\n",
       "2       65558      36591   65558\n",
       "3       65563       4749   65563\n",
       "4       65564      49727   65564"
      ]
     },
     "execution_count": 44,
     "metadata": {},
     "output_type": "execute_result"
    }
   ],
   "source": [
    "snd_gdf[col_names].head()"
   ]
  },
  {
   "cell_type": "code",
   "execution_count": 45,
   "id": "bcd98ff6",
   "metadata": {},
   "outputs": [],
   "source": [
    "drop_col_names = ['snd_id']"
   ]
  },
  {
   "cell_type": "code",
   "execution_count": 46,
   "id": "e338a495",
   "metadata": {},
   "outputs": [],
   "source": [
    "snd_gdf = snd_gdf.drop(labels = drop_col_names, axis = 1)"
   ]
  },
  {
   "cell_type": "code",
   "execution_count": 47,
   "id": "8d7d87da",
   "metadata": {},
   "outputs": [
    {
     "data": {
      "text/plain": [
       "node_pair_hash\n",
       " 3512645605645246801    2\n",
       "-2647535646403037368    2\n",
       "-720059546479960975     2\n",
       "-3928292298372789036    2\n",
       "-6544092986442054644    1\n",
       "                       ..\n",
       "-1082611195619485011    1\n",
       " 3559724909797519599    1\n",
       " 2113829097800758301    1\n",
       " 8307085974783543952    1\n",
       "-2134483544638650110    1\n",
       "Name: count, Length: 821, dtype: int64"
      ]
     },
     "execution_count": 47,
     "metadata": {},
     "output_type": "execute_result"
    }
   ],
   "source": [
    "snd_gdf['node_pair_hash'].value_counts()"
   ]
  },
  {
   "cell_type": "code",
   "execution_count": 48,
   "id": "b90db460",
   "metadata": {},
   "outputs": [
    {
     "data": {
      "text/plain": [
       "Index(['ord_street_name', 'ord_street_type', 'ord_stname_type',\n",
       "       'ord_stname_concat', 'ord_stname_unique', 'ord_stname_type_group',\n",
       "       'ord_street_type_rank', 'snd_group', 'group_id', 'city_sector',\n",
       "       'city_sector_group', 'street_status', 'sn_id', 'en_id', 'dist',\n",
       "       'dist_miles', 'geometry', 'existing_segment', 'n_segments',\n",
       "       'street_status_desc', 'street_status_reclass',\n",
       "       'street_status_reclass_desc', 'dist_miles_log', 'gen_snd_id',\n",
       "       'sn_id_ordered', 'en_id_ordered', 'node_pair_hash', 'ex_snd_id'],\n",
       "      dtype='object')"
      ]
     },
     "execution_count": 48,
     "metadata": {},
     "output_type": "execute_result"
    }
   ],
   "source": [
    "# join this with the data from the c_gdf\n",
    "snd_gdf.columns"
   ]
  },
  {
   "cell_type": "code",
   "execution_count": 49,
   "id": "34b44945",
   "metadata": {},
   "outputs": [
    {
     "data": {
      "text/plain": [
       "Index(['f_intr_id', 't_intr_id', 'snd_id', 'snd_feacode', 'citycode',\n",
       "       'stname_id', 'st_code', 'arterial_code', 'segment_type', 'agency_code',\n",
       "       'access_code', 'divided_code', 'structure_type', 'legalloc_code',\n",
       "       'vehicle_use_code', 'gis_seg_length', 'l_adrs_from', 'l_adrs_to',\n",
       "       'r_adrs_from', 'r_adrs_to', 'ord_pre_dir', 'ord_street_name',\n",
       "       'ord_street_type', 'ord_suf_dir', 'ord_stname_concat', 'l_city',\n",
       "       'l_state', 'l_zip', 'r_city', 'r_state', 'r_zip', 'sndseg_update',\n",
       "       'compkey', 'comptype', 'unitid', 'unitid2', 'city_sector',\n",
       "       'ord_stname_unique', 'geometry'],\n",
       "      dtype='object')"
      ]
     },
     "execution_count": 49,
     "metadata": {},
     "output_type": "execute_result"
    }
   ],
   "source": [
    "c_gdf.columns"
   ]
  },
  {
   "cell_type": "code",
   "execution_count": 50,
   "id": "b9fde20a",
   "metadata": {},
   "outputs": [],
   "source": [
    "col_names = ['f_intr_id', 't_intr_id', 'snd_id', 'snd_feacode', 'st_code', 'arterial_code',\n",
    "             'segment_type']"
   ]
  },
  {
   "cell_type": "code",
   "execution_count": 51,
   "id": "6786e5d3",
   "metadata": {},
   "outputs": [
    {
     "data": {
      "text/plain": [
       "(825, 35)"
      ]
     },
     "execution_count": 51,
     "metadata": {},
     "output_type": "execute_result"
    }
   ],
   "source": [
    "snd_gdf = pd.merge(left = snd_gdf,  right = c_gdf[col_names],  left_on = 'ex_snd_id', right_on = 'snd_id')\n",
    "snd_gdf.shape"
   ]
  },
  {
   "cell_type": "code",
   "execution_count": 52,
   "id": "a70077ae",
   "metadata": {},
   "outputs": [],
   "source": [
    "# let's check the double counted streets!\n",
    "multi_segments = snd_gdf['node_pair_hash'].value_counts().to_frame(name = 'n_segments').reset_index(names='node_pair_hash')\n",
    "multi_segments = multi_segments.loc[multi_segments['n_segments'] > 1, 'node_pair_hash'].tolist()"
   ]
  },
  {
   "cell_type": "code",
   "execution_count": 53,
   "id": "59ff8d7f",
   "metadata": {},
   "outputs": [
    {
     "data": {
      "text/plain": [
       "[3512645605645246801,\n",
       " -2647535646403037368,\n",
       " -720059546479960975,\n",
       " -3928292298372789036]"
      ]
     },
     "execution_count": 53,
     "metadata": {},
     "output_type": "execute_result"
    }
   ],
   "source": [
    "multi_segments"
   ]
  },
  {
   "cell_type": "code",
   "execution_count": 54,
   "id": "3bb4ee98",
   "metadata": {},
   "outputs": [],
   "source": [
    "snd_gdf['is_multi'] = int(0)\n",
    "snd_gdf.loc[snd_gdf['node_pair_hash'].isin(multi_segments), 'is_multi'] = 1"
   ]
  },
  {
   "cell_type": "code",
   "execution_count": 56,
   "id": "07dc1910",
   "metadata": {},
   "outputs": [],
   "source": [
    "# to a geopackage\n",
    "write_gdf(gdf = snd_gdf, output_file_path=rc.OUTPUT_FILE_PATH, output_file_name='check_multi_segments.gpkg')"
   ]
  },
  {
   "cell_type": "code",
   "execution_count": 57,
   "id": "37363eda",
   "metadata": {},
   "outputs": [],
   "source": [
    "# summary stats"
   ]
  },
  {
   "cell_type": "code",
   "execution_count": 59,
   "id": "29188881",
   "metadata": {},
   "outputs": [
    {
     "data": {
      "text/plain": [
       "Index(['ord_street_name', 'ord_street_type', 'ord_stname_type',\n",
       "       'ord_stname_concat', 'ord_stname_unique', 'ord_stname_type_group',\n",
       "       'ord_street_type_rank', 'snd_group', 'group_id', 'city_sector',\n",
       "       'city_sector_group', 'street_status', 'sn_id', 'en_id', 'dist',\n",
       "       'dist_miles', 'geometry', 'existing_segment', 'n_segments',\n",
       "       'street_status_desc', 'street_status_reclass',\n",
       "       'street_status_reclass_desc', 'dist_miles_log', 'gen_snd_id',\n",
       "       'sn_id_ordered', 'en_id_ordered', 'node_pair_hash', 'ex_snd_id',\n",
       "       'f_intr_id', 't_intr_id', 'snd_id', 'snd_feacode', 'st_code',\n",
       "       'arterial_code', 'segment_type', 'is_multi'],\n",
       "      dtype='object')"
      ]
     },
     "execution_count": 59,
     "metadata": {},
     "output_type": "execute_result"
    }
   ],
   "source": [
    "snd_gdf.columns"
   ]
  },
  {
   "cell_type": "markdown",
   "id": "eeaa055c",
   "metadata": {},
   "source": [
    "# CROSSTAB"
   ]
  },
  {
   "cell_type": "code",
   "execution_count": 64,
   "id": "ca9e4d09",
   "metadata": {},
   "outputs": [],
   "source": [
    "idx_col_names = ['street_status_reclass', 'street_status_reclass_desc']\n",
    "outcome = pd.pivot_table(data = snd_gdf, values = 'n_segments',\n",
    "                         index = idx_col_names, columns = 'snd_feacode',\n",
    "                         aggfunc='sum', fill_value=0, margins=True)"
   ]
  },
  {
   "cell_type": "code",
   "execution_count": 67,
   "id": "f76ef7e0",
   "metadata": {},
   "outputs": [
    {
     "data": {
      "text/html": [
       "<div>\n",
       "<style scoped>\n",
       "    .dataframe tbody tr th:only-of-type {\n",
       "        vertical-align: middle;\n",
       "    }\n",
       "\n",
       "    .dataframe tbody tr th {\n",
       "        vertical-align: top;\n",
       "    }\n",
       "\n",
       "    .dataframe thead th {\n",
       "        text-align: right;\n",
       "    }\n",
       "</style>\n",
       "<table border=\"1\" class=\"dataframe\">\n",
       "  <thead>\n",
       "    <tr style=\"text-align: right;\">\n",
       "      <th></th>\n",
       "      <th>snd_feacode</th>\n",
       "      <th>1</th>\n",
       "      <th>5</th>\n",
       "      <th>77</th>\n",
       "      <th>85</th>\n",
       "      <th>All</th>\n",
       "    </tr>\n",
       "    <tr>\n",
       "      <th>street_status_reclass</th>\n",
       "      <th>street_status_reclass_desc</th>\n",
       "      <th></th>\n",
       "      <th></th>\n",
       "      <th></th>\n",
       "      <th></th>\n",
       "      <th></th>\n",
       "    </tr>\n",
       "  </thead>\n",
       "  <tbody>\n",
       "    <tr>\n",
       "      <th>2_1</th>\n",
       "      <th>added_street: within-sector, existing</th>\n",
       "      <td>373</td>\n",
       "      <td>246</td>\n",
       "      <td>188</td>\n",
       "      <td>1</td>\n",
       "      <td>808</td>\n",
       "    </tr>\n",
       "    <tr>\n",
       "      <th>3_1</th>\n",
       "      <th>added_street: cross-sector, existing</th>\n",
       "      <td>5</td>\n",
       "      <td>8</td>\n",
       "      <td>4</td>\n",
       "      <td>0</td>\n",
       "      <td>17</td>\n",
       "    </tr>\n",
       "    <tr>\n",
       "      <th>All</th>\n",
       "      <th></th>\n",
       "      <td>378</td>\n",
       "      <td>254</td>\n",
       "      <td>192</td>\n",
       "      <td>1</td>\n",
       "      <td>825</td>\n",
       "    </tr>\n",
       "  </tbody>\n",
       "</table>\n",
       "</div>"
      ],
      "text/plain": [
       "snd_feacode                                                    1    5   77  \\\n",
       "street_status_reclass street_status_reclass_desc                             \n",
       "2_1                   added_street: within-sector, existing  373  246  188   \n",
       "3_1                   added_street: cross-sector, existing     5    8    4   \n",
       "All                                                          378  254  192   \n",
       "\n",
       "snd_feacode                                                  85  All  \n",
       "street_status_reclass street_status_reclass_desc                      \n",
       "2_1                   added_street: within-sector, existing   1  808  \n",
       "3_1                   added_street: cross-sector, existing    0   17  \n",
       "All                                                           1  825  "
      ]
     },
     "metadata": {},
     "output_type": "display_data"
    }
   ],
   "source": [
    "display(outcome)"
   ]
  },
  {
   "cell_type": "code",
   "execution_count": 68,
   "id": "9c75b869",
   "metadata": {},
   "outputs": [
    {
     "data": {
      "text/plain": [
       "0.46163366336633666"
      ]
     },
     "execution_count": 68,
     "metadata": {},
     "output_type": "execute_result"
    }
   ],
   "source": [
    "373 / 808"
   ]
  },
  {
   "cell_type": "code",
   "execution_count": null,
   "id": "35cffedd",
   "metadata": {},
   "outputs": [],
   "source": []
  },
  {
   "cell_type": "code",
   "execution_count": null,
   "id": "3150277d",
   "metadata": {},
   "outputs": [],
   "source": []
  }
 ],
 "metadata": {
  "kernelspec": {
   "display_name": "analysis",
   "language": "python",
   "name": "python3"
  },
  "language_info": {
   "codemirror_mode": {
    "name": "ipython",
    "version": 3
   },
   "file_extension": ".py",
   "mimetype": "text/x-python",
   "name": "python",
   "nbconvert_exporter": "python",
   "pygments_lexer": "ipython3",
   "version": "3.12.7"
  }
 },
 "nbformat": 4,
 "nbformat_minor": 5
}
