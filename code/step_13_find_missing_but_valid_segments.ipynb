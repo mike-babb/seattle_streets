{
 "cells": [
  {
   "cell_type": "code",
   "execution_count": 1,
   "id": "2d5b1a3f",
   "metadata": {},
   "outputs": [],
   "source": [
    "# standard\n",
    "import os"
   ]
  },
  {
   "cell_type": "code",
   "execution_count": 2,
   "id": "09b6bf80",
   "metadata": {},
   "outputs": [],
   "source": [
    "# external\n",
    "import geopandas as gpd\n",
    "import networkx as nx\n",
    "import numpy as np\n",
    "import pandas as pd"
   ]
  },
  {
   "cell_type": "code",
   "execution_count": 3,
   "id": "02adbae0",
   "metadata": {},
   "outputs": [],
   "source": [
    "# custom\n",
    "from geo_data_io.fc_df_spatial import write_gdf\n",
    "import run_constants as rc\n",
    "from utils import create_city_sector, create_name\n"
   ]
  },
  {
   "cell_type": "code",
   "execution_count": 4,
   "id": "3d42713b",
   "metadata": {},
   "outputs": [],
   "source": [
    "# custom\n",
    "import run_constants as rc\n",
    "from utils import create_name, generate_street_end_vertices\n",
    "from geo_data_io.fc_df_spatial import keep_largest_geometry, write_gdf"
   ]
  },
  {
   "cell_type": "code",
   "execution_count": 5,
   "id": "4bdf9fe1",
   "metadata": {},
   "outputs": [],
   "source": [
    "fpn = os.path.join(rc.OUTPUT_FILE_PATH, rc.S02_SND_IN_FILE_NAME)"
   ]
  },
  {
   "cell_type": "code",
   "execution_count": 6,
   "id": "d3273d31",
   "metadata": {},
   "outputs": [],
   "source": [
    "gdf = gpd.read_file(filename = fpn)"
   ]
  },
  {
   "cell_type": "code",
   "execution_count": 7,
   "id": "6cf0206f",
   "metadata": {},
   "outputs": [
    {
     "data": {
      "text/plain": [
       "f_intr_id                          int64\n",
       "t_intr_id                          int64\n",
       "snd_id                             int64\n",
       "snd_feacode                        int64\n",
       "citycode                           int64\n",
       "stname_id                          int64\n",
       "st_code                            int64\n",
       "arterial_code                      int64\n",
       "segment_type                       int64\n",
       "agency_code                        int64\n",
       "access_code                        int64\n",
       "divided_code                       int64\n",
       "structure_type                     int64\n",
       "legalloc_code                      int64\n",
       "vehicle_use_code                   int64\n",
       "gis_seg_length                   float64\n",
       "l_adrs_from                        int64\n",
       "l_adrs_to                          int64\n",
       "r_adrs_from                        int64\n",
       "r_adrs_to                          int64\n",
       "ord_pre_dir                       object\n",
       "ord_street_name                   object\n",
       "ord_street_type                   object\n",
       "ord_suf_dir                       object\n",
       "ord_stname_concat                 object\n",
       "l_city                            object\n",
       "l_state                           object\n",
       "l_zip                             object\n",
       "r_city                            object\n",
       "r_state                           object\n",
       "r_zip                             object\n",
       "sndseg_update        datetime64[ms, UTC]\n",
       "compkey                            int64\n",
       "comptype                           int64\n",
       "unitid                            object\n",
       "unitid2                           object\n",
       "city_sector                       object\n",
       "ord_stname_unique                 object\n",
       "geometry                        geometry\n",
       "dtype: object"
      ]
     },
     "execution_count": 7,
     "metadata": {},
     "output_type": "execute_result"
    }
   ],
   "source": [
    "gdf.dtypes"
   ]
  },
  {
   "cell_type": "code",
   "execution_count": 8,
   "id": "241696bc",
   "metadata": {},
   "outputs": [],
   "source": [
    "# create a graph"
   ]
  },
  {
   "cell_type": "code",
   "execution_count": 9,
   "id": "5aed20e1",
   "metadata": {},
   "outputs": [],
   "source": [
    "sg = nx.from_pandas_edgelist(df = gdf,\n",
    "source = 'f_intr_id', target = 't_intr_id', edge_attr = True)"
   ]
  },
  {
   "cell_type": "code",
   "execution_count": 11,
   "id": "f7a9ae90",
   "metadata": {},
   "outputs": [
    {
     "data": {
      "text/plain": [
       "23251"
      ]
     },
     "execution_count": 11,
     "metadata": {},
     "output_type": "execute_result"
    }
   ],
   "source": [
    "sg.number_of_nodes()"
   ]
  },
  {
   "cell_type": "code",
   "execution_count": 16,
   "id": "c9817c5e",
   "metadata": {},
   "outputs": [
    {
     "data": {
      "text/plain": [
       "False"
      ]
     },
     "execution_count": 16,
     "metadata": {},
     "output_type": "execute_result"
    }
   ],
   "source": [
    "sg.has_edge(u = 9083, v = 3024)"
   ]
  },
  {
   "cell_type": "markdown",
   "id": "d6067b4d",
   "metadata": {},
   "source": [
    "# load the final output data"
   ]
  },
  {
   "cell_type": "code",
   "execution_count": 17,
   "id": "a1e34108",
   "metadata": {},
   "outputs": [],
   "source": [
    "fpn = os.path.join(rc.OUTPUT_FILE_PATH, rc.S05_MISSING_IN_FILE_NAME)"
   ]
  },
  {
   "cell_type": "code",
   "execution_count": 18,
   "id": "80c4c3ec",
   "metadata": {},
   "outputs": [],
   "source": [
    "gdf = gpd.read_file(filename = fpn)"
   ]
  },
  {
   "cell_type": "code",
   "execution_count": 19,
   "id": "6ec62952",
   "metadata": {},
   "outputs": [
    {
     "data": {
      "text/plain": [
       "snd_id                      int64\n",
       "ord_street_name            object\n",
       "ord_street_type            object\n",
       "ord_stname_type            object\n",
       "ord_stname_concat          object\n",
       "ord_stname_unique          object\n",
       "ord_stname_type_group      object\n",
       "ord_street_type_rank       object\n",
       "snd_group                   int64\n",
       "group_id                    int64\n",
       "city_sector                object\n",
       "city_sector_group          object\n",
       "street_status               int64\n",
       "sn_id                       int64\n",
       "en_id                       int64\n",
       "dist                      float64\n",
       "dist_miles                float64\n",
       "geometry                 geometry\n",
       "dtype: object"
      ]
     },
     "execution_count": 19,
     "metadata": {},
     "output_type": "execute_result"
    }
   ],
   "source": [
    "gdf.dtypes"
   ]
  },
  {
   "cell_type": "code",
   "execution_count": 20,
   "id": "aabc6c12",
   "metadata": {},
   "outputs": [],
   "source": [
    "# now, compare the data, by node id to node id"
   ]
  },
  {
   "cell_type": "code",
   "execution_count": 22,
   "id": "232d75c9",
   "metadata": {},
   "outputs": [],
   "source": [
    "def find_existing_segments(row):\n",
    "    return int(sg.has_edge(u = row['sn_id'], v = row['en_id']))"
   ]
  },
  {
   "cell_type": "code",
   "execution_count": 23,
   "id": "1eaaa808",
   "metadata": {},
   "outputs": [],
   "source": [
    "gdf['existing_segment'] = gdf.apply(func = find_existing_segments, axis = 1)"
   ]
  },
  {
   "cell_type": "code",
   "execution_count": 24,
   "id": "aa97b90d",
   "metadata": {},
   "outputs": [
    {
     "data": {
      "text/plain": [
       "np.int64(26577)"
      ]
     },
     "execution_count": 24,
     "metadata": {},
     "output_type": "execute_result"
    }
   ],
   "source": [
    "gdf['existing_segment'].sum()"
   ]
  },
  {
   "cell_type": "code",
   "execution_count": 25,
   "id": "456d833d",
   "metadata": {},
   "outputs": [
    {
     "data": {
      "text/plain": [
       "(29776, 19)"
      ]
     },
     "execution_count": 25,
     "metadata": {},
     "output_type": "execute_result"
    }
   ],
   "source": [
    "gdf.shape"
   ]
  },
  {
   "cell_type": "code",
   "execution_count": 26,
   "id": "9f9db12f",
   "metadata": {},
   "outputs": [],
   "source": [
    "gdf['n_segments'] = int(1)"
   ]
  },
  {
   "cell_type": "code",
   "execution_count": 35,
   "id": "71b3c72c",
   "metadata": {},
   "outputs": [],
   "source": [
    "# do a pivot!\n",
    "pv_df = pd.pivot_table(data = gdf, \n",
    "                       values = 'n_segments',\n",
    "                       index = 'street_status',\n",
    "                       columns = 'existing_segment',\n",
    "                       aggfunc='sum',\n",
    "                       fill_value = 0,\n",
    "                       margins = True).reset_index()\n",
    "pv_df.columns = ['street_status', 'not_existing', 'is_existing', 'total']"
   ]
  },
  {
   "cell_type": "code",
   "execution_count": 36,
   "id": "c8e8f64d",
   "metadata": {},
   "outputs": [
    {
     "data": {
      "text/html": [
       "<div>\n",
       "<style scoped>\n",
       "    .dataframe tbody tr th:only-of-type {\n",
       "        vertical-align: middle;\n",
       "    }\n",
       "\n",
       "    .dataframe tbody tr th {\n",
       "        vertical-align: top;\n",
       "    }\n",
       "\n",
       "    .dataframe thead th {\n",
       "        text-align: right;\n",
       "    }\n",
       "</style>\n",
       "<table border=\"1\" class=\"dataframe\">\n",
       "  <thead>\n",
       "    <tr style=\"text-align: right;\">\n",
       "      <th></th>\n",
       "      <th>street_status</th>\n",
       "      <th>not_existing</th>\n",
       "      <th>is_existing</th>\n",
       "      <th>total</th>\n",
       "    </tr>\n",
       "  </thead>\n",
       "  <tbody>\n",
       "    <tr>\n",
       "      <th>0</th>\n",
       "      <td>0</td>\n",
       "      <td>0</td>\n",
       "      <td>3812</td>\n",
       "      <td>3812</td>\n",
       "    </tr>\n",
       "    <tr>\n",
       "      <th>1</th>\n",
       "      <td>1</td>\n",
       "      <td>0</td>\n",
       "      <td>21938</td>\n",
       "      <td>21938</td>\n",
       "    </tr>\n",
       "    <tr>\n",
       "      <th>2</th>\n",
       "      <td>2</td>\n",
       "      <td>2806</td>\n",
       "      <td>810</td>\n",
       "      <td>3616</td>\n",
       "    </tr>\n",
       "    <tr>\n",
       "      <th>3</th>\n",
       "      <td>3</td>\n",
       "      <td>393</td>\n",
       "      <td>17</td>\n",
       "      <td>410</td>\n",
       "    </tr>\n",
       "    <tr>\n",
       "      <th>4</th>\n",
       "      <td>All</td>\n",
       "      <td>3199</td>\n",
       "      <td>26577</td>\n",
       "      <td>29776</td>\n",
       "    </tr>\n",
       "  </tbody>\n",
       "</table>\n",
       "</div>"
      ],
      "text/plain": [
       "  street_status  not_existing  is_existing  total\n",
       "0             0             0         3812   3812\n",
       "1             1             0        21938  21938\n",
       "2             2          2806          810   3616\n",
       "3             3           393           17    410\n",
       "4           All          3199        26577  29776"
      ]
     },
     "execution_count": 36,
     "metadata": {},
     "output_type": "execute_result"
    }
   ],
   "source": [
    "pv_df"
   ]
  },
  {
   "cell_type": "code",
   "execution_count": 33,
   "id": "51cecf12",
   "metadata": {},
   "outputs": [
    {
     "data": {
      "text/plain": [
       "0.22400442477876106"
      ]
     },
     "execution_count": 33,
     "metadata": {},
     "output_type": "execute_result"
    }
   ],
   "source": [
    "810 / 3616"
   ]
  },
  {
   "cell_type": "code",
   "execution_count": 34,
   "id": "46329e01",
   "metadata": {},
   "outputs": [
    {
     "data": {
      "text/plain": [
       "0.041463414634146344"
      ]
     },
     "execution_count": 34,
     "metadata": {},
     "output_type": "execute_result"
    }
   ],
   "source": [
    "17 / 410"
   ]
  },
  {
   "cell_type": "code",
   "execution_count": null,
   "id": "eea82b99",
   "metadata": {},
   "outputs": [],
   "source": [
    "pv_df.loc[(pv_df[''])]"
   ]
  },
  {
   "cell_type": "code",
   "execution_count": 37,
   "id": "e6ed4180",
   "metadata": {},
   "outputs": [
    {
     "data": {
      "text/plain": [
       "snd_id                      int64\n",
       "ord_street_name            object\n",
       "ord_street_type            object\n",
       "ord_stname_type            object\n",
       "ord_stname_concat          object\n",
       "ord_stname_unique          object\n",
       "ord_stname_type_group      object\n",
       "ord_street_type_rank       object\n",
       "snd_group                   int64\n",
       "group_id                    int64\n",
       "city_sector                object\n",
       "city_sector_group          object\n",
       "street_status               int64\n",
       "sn_id                       int64\n",
       "en_id                       int64\n",
       "dist                      float64\n",
       "dist_miles                float64\n",
       "geometry                 geometry\n",
       "existing_segment            int64\n",
       "n_segments                  int64\n",
       "dtype: object"
      ]
     },
     "execution_count": 37,
     "metadata": {},
     "output_type": "execute_result"
    }
   ],
   "source": [
    "gdf.dtypes"
   ]
  },
  {
   "cell_type": "code",
   "execution_count": 39,
   "id": "ee4ac5d0",
   "metadata": {},
   "outputs": [],
   "source": [
    "gdf['street_status_reclass'] = gdf['street_status'].astype(str) + '_' + gdf['existing_segment'].astype(str)"
   ]
  },
  {
   "cell_type": "code",
   "execution_count": 40,
   "id": "34f08f39",
   "metadata": {},
   "outputs": [],
   "source": [
    "# let's save\n",
    "write_gdf(gdf = gdf, output_file_path=rc.OUTPUT_FILE_PATH,\n",
    "          output_file_name='missing_segments_reclass.gpkg')"
   ]
  },
  {
   "cell_type": "code",
   "execution_count": 41,
   "id": "67549ab4",
   "metadata": {},
   "outputs": [
    {
     "data": {
      "text/plain": [
       "2.2307692307692304"
      ]
     },
     "execution_count": 41,
     "metadata": {},
     "output_type": "execute_result"
    }
   ],
   "source": [
    "1 / (0.13 / 0.29)"
   ]
  }
 ],
 "metadata": {
  "kernelspec": {
   "display_name": "analysis",
   "language": "python",
   "name": "python3"
  },
  "language_info": {
   "codemirror_mode": {
    "name": "ipython",
    "version": 3
   },
   "file_extension": ".py",
   "mimetype": "text/x-python",
   "name": "python",
   "nbconvert_exporter": "python",
   "pygments_lexer": "ipython3",
   "version": "3.12.7"
  }
 },
 "nbformat": 4,
 "nbformat_minor": 5
}
