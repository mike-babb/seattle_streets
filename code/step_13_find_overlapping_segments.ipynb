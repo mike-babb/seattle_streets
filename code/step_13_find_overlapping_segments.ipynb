{
 "cells": [
  {
   "cell_type": "markdown",
   "id": "de94a33b",
   "metadata": {},
   "source": [
    "# Part 13: Find overlapping streets\n",
    "Added streets could be replicas of existing streets  \n",
    "michael babb  \n",
    "2025 10 03"
   ]
  },
  {
   "cell_type": "code",
   "execution_count": 1,
   "id": "2d5b1a3f",
   "metadata": {},
   "outputs": [],
   "source": [
    "# standard\n",
    "from itertools import combinations\n",
    "import os"
   ]
  },
  {
   "cell_type": "code",
   "execution_count": 2,
   "id": "09b6bf80",
   "metadata": {},
   "outputs": [],
   "source": [
    "# external\n",
    "import geopandas as gpd\n",
    "from matplotlib_venn import venn2\n",
    "import matplotlib.pyplot as plt\n",
    "import matplotlib.patches as patches\n",
    "import matplotlib.patheffects as path_effects\n",
    "import networkx as nx\n",
    "import numpy as np\n",
    "import pandas as pd\n",
    "import seaborn as sns"
   ]
  },
  {
   "cell_type": "code",
   "execution_count": 3,
   "id": "02adbae0",
   "metadata": {},
   "outputs": [],
   "source": [
    "# custom\n",
    "from geo_data_io.fc_df_spatial import write_gdf\n",
    "import run_constants as rc\n",
    "from utils import create_city_sector, create_name"
   ]
  },
  {
   "cell_type": "code",
   "execution_count": 4,
   "id": "3d42713b",
   "metadata": {},
   "outputs": [],
   "source": [
    "# custom\n",
    "import run_constants as rc\n",
    "from utils import create_name, generate_street_end_vertices\n",
    "from geo_data_io.df_operations import hey_what_is_na\n",
    "from geo_data_io.fc_df_spatial import keep_largest_geometry, write_gdf"
   ]
  },
  {
   "cell_type": "markdown",
   "id": "24af3925",
   "metadata": {},
   "source": [
    "# Load the complete street network"
   ]
  },
  {
   "cell_type": "code",
   "execution_count": 5,
   "id": "4bdf9fe1",
   "metadata": {},
   "outputs": [
    {
     "data": {
      "text/plain": [
       "'../../../project/seattle_streets/data\\\\Street_Network_Database_Complete_Revised.gpkg'"
      ]
     },
     "execution_count": 5,
     "metadata": {},
     "output_type": "execute_result"
    }
   ],
   "source": [
    "# the full network of seattle streets\n",
    "fpn = os.path.join(rc.OUTPUT_FILE_PATH, rc.S02_SND_COMPLETE_OUT_FILE_NAME)\n",
    "fpn"
   ]
  },
  {
   "cell_type": "code",
   "execution_count": 6,
   "id": "d3273d31",
   "metadata": {},
   "outputs": [],
   "source": [
    "c_gdf = gpd.read_file(filename = fpn)"
   ]
  },
  {
   "cell_type": "code",
   "execution_count": 7,
   "id": "702ebd14",
   "metadata": {},
   "outputs": [
    {
     "data": {
      "text/plain": [
       "(34378, 39)"
      ]
     },
     "execution_count": 7,
     "metadata": {},
     "output_type": "execute_result"
    }
   ],
   "source": [
    "c_gdf.shape"
   ]
  },
  {
   "cell_type": "code",
   "execution_count": 8,
   "id": "3a9dda21",
   "metadata": {},
   "outputs": [
    {
     "data": {
      "text/plain": [
       "(34378,)"
      ]
     },
     "execution_count": 8,
     "metadata": {},
     "output_type": "execute_result"
    }
   ],
   "source": [
    "c_gdf['snd_id'].unique().shape"
   ]
  },
  {
   "cell_type": "code",
   "execution_count": 9,
   "id": "cfeea879",
   "metadata": {},
   "outputs": [],
   "source": [
    "# create a graph from the complete street network.\n",
    "# This wil be used to find and validate the overlapping edges\n",
    "sc_graph = nx.from_pandas_edgelist(df = c_gdf, source = 'f_intr_id', target = 't_intr_id',edge_attr=True,create_using=nx.MultiGraph, edge_key='snd_id')"
   ]
  },
  {
   "cell_type": "markdown",
   "id": "7eb8e2d7",
   "metadata": {},
   "source": [
    "# how many instances of parallel edges are there?"
   ]
  },
  {
   "cell_type": "code",
   "execution_count": 10,
   "id": "a38ca18d",
   "metadata": {},
   "outputs": [],
   "source": [
    "def create_node_pair_hash_id(row):\n",
    "    # hash the sorted sn_id, en_id pair\n",
    "    sn_id = row['f_intr_id']\n",
    "    en_id = row['t_intr_id']    \n",
    "    node_id_list = [sn_id, en_id]\n",
    "    node_id_list.sort()    \n",
    "    node_pair_hash = hash(tuple(node_id_list))\n",
    "    return node_pair_hash\n",
    "    \n",
    "c_gdf['node_pair_hash'] = c_gdf.apply(func = create_node_pair_hash_id, axis = 1)\n"
   ]
  },
  {
   "cell_type": "code",
   "execution_count": 11,
   "id": "d2389489",
   "metadata": {},
   "outputs": [
    {
     "data": {
      "text/plain": [
       "(132, 1)"
      ]
     },
     "execution_count": 11,
     "metadata": {},
     "output_type": "execute_result"
    }
   ],
   "source": [
    "# parallel edges\n",
    "pe_c_gdf = c_gdf['node_pair_hash'].value_counts().to_frame()\n",
    "pe_c_gdf.loc[pe_c_gdf['count'] > 1, ].shape"
   ]
  },
  {
   "cell_type": "markdown",
   "id": "d6067b4d",
   "metadata": {},
   "source": [
    "# load the added streets"
   ]
  },
  {
   "cell_type": "code",
   "execution_count": 12,
   "id": "a1e34108",
   "metadata": {},
   "outputs": [
    {
     "data": {
      "text/plain": [
       "'../../../project/seattle_streets/data\\\\missing_segments_v2.gpkg'"
      ]
     },
     "execution_count": 12,
     "metadata": {},
     "output_type": "execute_result"
    }
   ],
   "source": [
    "fpn = os.path.join(rc.OUTPUT_FILE_PATH, rc.S05_MISSING_IN_FILE_NAME)\n",
    "fpn"
   ]
  },
  {
   "cell_type": "code",
   "execution_count": 13,
   "id": "80c4c3ec",
   "metadata": {},
   "outputs": [],
   "source": [
    "gdf = gpd.read_file(filename = fpn)"
   ]
  },
  {
   "cell_type": "code",
   "execution_count": 14,
   "id": "6ec62952",
   "metadata": {},
   "outputs": [
    {
     "data": {
      "text/plain": [
       "snd_id                      int64\n",
       "ord_street_name            object\n",
       "ord_street_type            object\n",
       "ord_stname_type            object\n",
       "ord_stname_concat          object\n",
       "ord_stname_unique          object\n",
       "ord_stname_type_group      object\n",
       "ord_street_type_rank       object\n",
       "snd_group                   int64\n",
       "group_id                    int64\n",
       "city_sector                object\n",
       "city_sector_group          object\n",
       "street_status               int64\n",
       "sn_id                       int64\n",
       "en_id                       int64\n",
       "dist                      float64\n",
       "dist_miles                float64\n",
       "geometry                 geometry\n",
       "dtype: object"
      ]
     },
     "execution_count": 14,
     "metadata": {},
     "output_type": "execute_result"
    }
   ],
   "source": [
    "gdf.dtypes"
   ]
  },
  {
   "cell_type": "code",
   "execution_count": 15,
   "id": "4fc1530b",
   "metadata": {},
   "outputs": [
    {
     "data": {
      "text/plain": [
       "(29780, 23)"
      ]
     },
     "execution_count": 15,
     "metadata": {},
     "output_type": "execute_result"
    }
   ],
   "source": [
    "def get_snd_id(row):\n",
    "\n",
    "    # assigned edge id\n",
    "    gen_snd_id = row['snd_id']\n",
    "    # starting node\n",
    "    sn_id = row['sn_id']\n",
    "    # ending node\n",
    "    en_id = row['en_id']    \n",
    "\n",
    "    # create a hash id\n",
    "    node_pair_hash = hash(tuple(sorted([sn_id, en_id])))\n",
    "\n",
    "    # track the number of matches and type of match\n",
    "    n_edge_matches = -1\n",
    "    edge_match_outcome = -1    \n",
    "    \n",
    "    # check if the edge is existing\n",
    "    is_existing = sc_graph.has_edge(u = sn_id, v = en_id)\n",
    "    if is_existing:\n",
    "        # there is an existing edge between sn_id and en_id\n",
    "        \n",
    "        # get the edge data\n",
    "        edge_data = sc_graph.get_edge_data(u = sn_id, v = en_id)\n",
    "        # number of edges\n",
    "        n_edge_matches = len(edge_data)\n",
    "\n",
    "        if gen_snd_id in edge_data:            \n",
    "            # the edge exists and has the same id as an existing street\n",
    "            snd_id = gen_snd_id\n",
    "            if n_edge_matches == 1 :\n",
    "                edge_match_outcome = 0\n",
    "                # there is one single existing edge - these are existing streets\n",
    "                # this is the most common\n",
    "            else:\n",
    "                edge_match_outcome = 1\n",
    "                # there are multiple existing edges, but we only need to track one\n",
    "                # rare outcome\n",
    "        else:\n",
    "            # the edge exists, but has a different id                        \n",
    "            # these are the added, overlapping streets\n",
    "            overlapping_snd_id_list = list(edge_data.keys())            \n",
    "            if len(overlapping_snd_id_list) == 1:                \n",
    "                snd_id = overlapping_snd_id_list[0]\n",
    "                edge_match_outcome = 2\n",
    "                # added street with a single overlapping edge\n",
    "            else: \n",
    "                # multiple overlapping edges, we only need\n",
    "                # sort based on segment_type and snd_id to ensure repeatability\n",
    "                # sorting also helps ensure that streets are chosen over walkways or rail                \n",
    "                temp_c_gdf = c_gdf.loc[c_gdf['snd_id'].isin(overlapping_snd_id_list), :].sort_values(by = ['segment_type', 'snd_id'])\n",
    "                snd_id = temp_c_gdf['snd_id'].iloc[0]\n",
    "                edge_match_outcome = 3\n",
    "                # added street with multiple overlapping edges to choose from\n",
    "                # this is the rarest possibility\n",
    "            \n",
    "                # the sum of edges marked 2 and 3 produces the total count of overlapping edges\n",
    "    else:\n",
    "        snd_id = gen_snd_id\n",
    "        n_edge_matches = 0\n",
    "        edge_match_outcome = 4\n",
    "        # a genuine new street, no overlaps\n",
    "    \n",
    "    return [gen_snd_id, snd_id, node_pair_hash, n_edge_matches, edge_match_outcome]\n",
    "    \n",
    "snd_id = gdf.apply(func = get_snd_id, axis = 1).tolist()\n",
    "col_names = ['gen_snd_id', 'ex_snd_id', 'node_pair_hash', 'n_matches', 'edge_match_outcome']\n",
    "snd_df = pd.DataFrame(data = snd_id, columns = col_names)\n",
    "test_gdf = pd.merge(left = gdf, right = snd_df,  left_on = 'snd_id', right_on='gen_snd_id')\n",
    "test_gdf.shape"
   ]
  },
  {
   "cell_type": "code",
   "execution_count": 16,
   "id": "a0eab0fc",
   "metadata": {},
   "outputs": [
    {
     "data": {
      "text/html": [
       "<div>\n",
       "<style scoped>\n",
       "    .dataframe tbody tr th:only-of-type {\n",
       "        vertical-align: middle;\n",
       "    }\n",
       "\n",
       "    .dataframe tbody tr th {\n",
       "        vertical-align: top;\n",
       "    }\n",
       "\n",
       "    .dataframe thead th {\n",
       "        text-align: right;\n",
       "    }\n",
       "</style>\n",
       "<table border=\"1\" class=\"dataframe\">\n",
       "  <thead>\n",
       "    <tr style=\"text-align: right;\">\n",
       "      <th></th>\n",
       "      <th>gen_snd_id</th>\n",
       "      <th>ex_snd_id</th>\n",
       "      <th>node_pair_hash</th>\n",
       "      <th>n_matches</th>\n",
       "      <th>edge_match_outcome</th>\n",
       "    </tr>\n",
       "  </thead>\n",
       "  <tbody>\n",
       "    <tr>\n",
       "      <th>0</th>\n",
       "      <td>4787</td>\n",
       "      <td>4787</td>\n",
       "      <td>1742632130526754415</td>\n",
       "      <td>1</td>\n",
       "      <td>0</td>\n",
       "    </tr>\n",
       "    <tr>\n",
       "      <th>1</th>\n",
       "      <td>4802</td>\n",
       "      <td>4802</td>\n",
       "      <td>5541996999238381137</td>\n",
       "      <td>1</td>\n",
       "      <td>0</td>\n",
       "    </tr>\n",
       "    <tr>\n",
       "      <th>2</th>\n",
       "      <td>4864</td>\n",
       "      <td>4864</td>\n",
       "      <td>-7375905431718567330</td>\n",
       "      <td>1</td>\n",
       "      <td>0</td>\n",
       "    </tr>\n",
       "    <tr>\n",
       "      <th>3</th>\n",
       "      <td>49871</td>\n",
       "      <td>49871</td>\n",
       "      <td>-7366121494389088306</td>\n",
       "      <td>1</td>\n",
       "      <td>0</td>\n",
       "    </tr>\n",
       "    <tr>\n",
       "      <th>4</th>\n",
       "      <td>65537</td>\n",
       "      <td>65537</td>\n",
       "      <td>-2157650562141655519</td>\n",
       "      <td>0</td>\n",
       "      <td>4</td>\n",
       "    </tr>\n",
       "  </tbody>\n",
       "</table>\n",
       "</div>"
      ],
      "text/plain": [
       "   gen_snd_id  ex_snd_id       node_pair_hash  n_matches  edge_match_outcome\n",
       "0        4787       4787  1742632130526754415          1                   0\n",
       "1        4802       4802  5541996999238381137          1                   0\n",
       "2        4864       4864 -7375905431718567330          1                   0\n",
       "3       49871      49871 -7366121494389088306          1                   0\n",
       "4       65537      65537 -2157650562141655519          0                   4"
      ]
     },
     "execution_count": 16,
     "metadata": {},
     "output_type": "execute_result"
    }
   ],
   "source": [
    "snd_df.head()"
   ]
  },
  {
   "cell_type": "code",
   "execution_count": 17,
   "id": "944b2489",
   "metadata": {},
   "outputs": [
    {
     "data": {
      "text/plain": [
       "n_matches\n",
       "1    26451\n",
       "0     3199\n",
       "2       80\n",
       "3       50\n",
       "Name: count, dtype: int64"
      ]
     },
     "execution_count": 17,
     "metadata": {},
     "output_type": "execute_result"
    }
   ],
   "source": [
    "test_gdf['n_matches'].value_counts()"
   ]
  },
  {
   "cell_type": "code",
   "execution_count": 18,
   "id": "c15e8dc8",
   "metadata": {},
   "outputs": [
    {
     "data": {
      "text/plain": [
       "edge_match_outcome\n",
       "0    25628\n",
       "4     3199\n",
       "2      823\n",
       "1      128\n",
       "3        2\n",
       "Name: count, dtype: int64"
      ]
     },
     "execution_count": 18,
     "metadata": {},
     "output_type": "execute_result"
    }
   ],
   "source": [
    "test_gdf['edge_match_outcome'].value_counts()"
   ]
  },
  {
   "cell_type": "code",
   "execution_count": 19,
   "id": "38e8a844",
   "metadata": {},
   "outputs": [],
   "source": [
    "gdf = test_gdf.copy()"
   ]
  },
  {
   "cell_type": "code",
   "execution_count": 20,
   "id": "61314ae3",
   "metadata": {},
   "outputs": [
    {
     "data": {
      "text/plain": [
       "Index(['snd_id', 'ord_street_name', 'ord_street_type', 'ord_stname_type',\n",
       "       'ord_stname_concat', 'ord_stname_unique', 'ord_stname_type_group',\n",
       "       'ord_street_type_rank', 'snd_group', 'group_id', 'city_sector',\n",
       "       'city_sector_group', 'street_status', 'sn_id', 'en_id', 'dist',\n",
       "       'dist_miles', 'geometry', 'gen_snd_id', 'ex_snd_id', 'node_pair_hash',\n",
       "       'n_matches', 'edge_match_outcome'],\n",
       "      dtype='object')"
      ]
     },
     "execution_count": 20,
     "metadata": {},
     "output_type": "execute_result"
    }
   ],
   "source": [
    "gdf.columns"
   ]
  },
  {
   "cell_type": "code",
   "execution_count": 21,
   "id": "1318fb4c",
   "metadata": {},
   "outputs": [
    {
     "data": {
      "text/plain": [
       "n_matches\n",
       "1    26451\n",
       "0     3199\n",
       "2       80\n",
       "3       50\n",
       "Name: count, dtype: int64"
      ]
     },
     "execution_count": 21,
     "metadata": {},
     "output_type": "execute_result"
    }
   ],
   "source": [
    "gdf['n_matches'].value_counts()"
   ]
  },
  {
   "cell_type": "code",
   "execution_count": 22,
   "id": "b25df3bd",
   "metadata": {},
   "outputs": [
    {
     "data": {
      "text/plain": [
       "edge_match_outcome\n",
       "0    25628\n",
       "4     3199\n",
       "2      823\n",
       "1      128\n",
       "3        2\n",
       "Name: count, dtype: int64"
      ]
     },
     "execution_count": 22,
     "metadata": {},
     "output_type": "execute_result"
    }
   ],
   "source": [
    "gdf['edge_match_outcome'].value_counts()"
   ]
  },
  {
   "cell_type": "code",
   "execution_count": 23,
   "id": "edcd17e7",
   "metadata": {},
   "outputs": [
    {
     "name": "stdout",
     "output_type": "stream",
     "text": [
      "snd_id gen_snd_id\n",
      "False    29780\n",
      "Name: count, dtype: int64\n",
      "snd_id ex_snd_id\n",
      "False    28955\n",
      "True       825\n",
      "Name: count, dtype: int64\n",
      "gen_snd_id ex_snd_id\n",
      "False    28955\n",
      "True       825\n",
      "Name: count, dtype: int64\n"
     ]
    }
   ],
   "source": [
    "# determine which columns have matching snd values\n",
    "col_names = ['snd_id', 'gen_snd_id', 'ex_snd_id']\n",
    "for s_cn, t_cn in combinations(col_names, r = 2):\n",
    "    print(s_cn, t_cn)\n",
    "    print((gdf[s_cn] != gdf[t_cn]).value_counts())"
   ]
  },
  {
   "cell_type": "code",
   "execution_count": 24,
   "id": "dc1910b8",
   "metadata": {},
   "outputs": [],
   "source": [
    "# snd_id and gen_snd_id are the same. \n",
    "# Let's drop the snd_id\n",
    "gdf = gdf.drop(labels = ['snd_id'], axis = 1)"
   ]
  },
  {
   "cell_type": "code",
   "execution_count": 25,
   "id": "abbda0f9",
   "metadata": {},
   "outputs": [],
   "source": [
    "# flag where gen_snd_id != ex_snd_id\n",
    "gdf['existing_segment'] = (gdf['gen_snd_id'] != gdf['ex_snd_id']).astype(int)"
   ]
  },
  {
   "cell_type": "code",
   "execution_count": 26,
   "id": "326125a1",
   "metadata": {},
   "outputs": [
    {
     "data": {
      "text/plain": [
       "np.int64(825)"
      ]
     },
     "execution_count": 26,
     "metadata": {},
     "output_type": "execute_result"
    }
   ],
   "source": [
    "gdf['existing_segment'].sum()"
   ]
  },
  {
   "cell_type": "code",
   "execution_count": 27,
   "id": "9f9db12f",
   "metadata": {},
   "outputs": [],
   "source": [
    "gdf['n_segments'] = int(1)"
   ]
  },
  {
   "cell_type": "code",
   "execution_count": 28,
   "id": "71b3c72c",
   "metadata": {},
   "outputs": [
    {
     "data": {
      "text/html": [
       "<div>\n",
       "<style scoped>\n",
       "    .dataframe tbody tr th:only-of-type {\n",
       "        vertical-align: middle;\n",
       "    }\n",
       "\n",
       "    .dataframe tbody tr th {\n",
       "        vertical-align: top;\n",
       "    }\n",
       "\n",
       "    .dataframe thead th {\n",
       "        text-align: right;\n",
       "    }\n",
       "</style>\n",
       "<table border=\"1\" class=\"dataframe\">\n",
       "  <thead>\n",
       "    <tr style=\"text-align: right;\">\n",
       "      <th></th>\n",
       "      <th>street_status</th>\n",
       "      <th>overlap_existing</th>\n",
       "      <th>is_existing</th>\n",
       "      <th>total</th>\n",
       "    </tr>\n",
       "  </thead>\n",
       "  <tbody>\n",
       "    <tr>\n",
       "      <th>0</th>\n",
       "      <td>0</td>\n",
       "      <td>3825</td>\n",
       "      <td>0</td>\n",
       "      <td>3825</td>\n",
       "    </tr>\n",
       "    <tr>\n",
       "      <th>1</th>\n",
       "      <td>1</td>\n",
       "      <td>21931</td>\n",
       "      <td>0</td>\n",
       "      <td>21931</td>\n",
       "    </tr>\n",
       "    <tr>\n",
       "      <th>2</th>\n",
       "      <td>2</td>\n",
       "      <td>2806</td>\n",
       "      <td>808</td>\n",
       "      <td>3614</td>\n",
       "    </tr>\n",
       "    <tr>\n",
       "      <th>3</th>\n",
       "      <td>3</td>\n",
       "      <td>393</td>\n",
       "      <td>17</td>\n",
       "      <td>410</td>\n",
       "    </tr>\n",
       "    <tr>\n",
       "      <th>4</th>\n",
       "      <td>All</td>\n",
       "      <td>28955</td>\n",
       "      <td>825</td>\n",
       "      <td>29780</td>\n",
       "    </tr>\n",
       "  </tbody>\n",
       "</table>\n",
       "</div>"
      ],
      "text/plain": [
       "  street_status  overlap_existing  is_existing  total\n",
       "0             0              3825            0   3825\n",
       "1             1             21931            0  21931\n",
       "2             2              2806          808   3614\n",
       "3             3               393           17    410\n",
       "4           All             28955          825  29780"
      ]
     },
     "execution_count": 28,
     "metadata": {},
     "output_type": "execute_result"
    }
   ],
   "source": [
    "# do a pivot!\n",
    "pv_df = pd.pivot_table(data = gdf, \n",
    "                       values = 'n_segments',\n",
    "                       index = 'street_status',\n",
    "                       columns = 'existing_segment',\n",
    "                       aggfunc='sum',\n",
    "                       fill_value = 0,\n",
    "                       margins = True).reset_index()\n",
    "pv_df.columns = ['street_status', 'overlap_existing', 'is_existing', 'total']\n",
    "pv_df.head()"
   ]
  },
  {
   "cell_type": "markdown",
   "id": "ebfe14dd",
   "metadata": {},
   "source": [
    "# simple stats about the added streets"
   ]
  },
  {
   "cell_type": "code",
   "execution_count": 29,
   "id": "699bbdac",
   "metadata": {},
   "outputs": [],
   "source": [
    "gdf['street_status_desc'] = gdf['street_status'].map(rc.street_status_dict)"
   ]
  },
  {
   "cell_type": "code",
   "execution_count": 30,
   "id": "ee4ac5d0",
   "metadata": {},
   "outputs": [],
   "source": [
    "gdf['street_status_reclass'] = gdf['street_status'].astype(str) + '_' + gdf['existing_segment'].astype(str)"
   ]
  },
  {
   "cell_type": "code",
   "execution_count": 31,
   "id": "53caa0b8",
   "metadata": {},
   "outputs": [
    {
     "data": {
      "text/plain": [
       "street_status_reclass\n",
       "1_0    21931\n",
       "0_0     3825\n",
       "2_0     2806\n",
       "2_1      808\n",
       "3_0      393\n",
       "3_1       17\n",
       "Name: count, dtype: int64"
      ]
     },
     "execution_count": 31,
     "metadata": {},
     "output_type": "execute_result"
    }
   ],
   "source": [
    "gdf['street_status_reclass'].value_counts()"
   ]
  },
  {
   "cell_type": "code",
   "execution_count": 32,
   "id": "37c02573",
   "metadata": {},
   "outputs": [
    {
     "data": {
      "text/plain": [
       "{'0_0': 'continuous_street',\n",
       " '1_0': 'discontinuous_street',\n",
       " '2_0': 'added_street: within-sector, not existing',\n",
       " '2_1': 'added_street: within-sector, existing',\n",
       " '3_0': 'added_street: cross-sector, not existing',\n",
       " '3_1': 'added_street: cross-sector, existing'}"
      ]
     },
     "execution_count": 32,
     "metadata": {},
     "output_type": "execute_result"
    }
   ],
   "source": [
    "rc.street_status_reclass_dict"
   ]
  },
  {
   "cell_type": "code",
   "execution_count": 33,
   "id": "c5c12423",
   "metadata": {},
   "outputs": [],
   "source": [
    "gdf['street_status_reclass_desc'] = gdf['street_status_reclass'].map(rc.street_status_reclass_dict)"
   ]
  },
  {
   "cell_type": "code",
   "execution_count": 34,
   "id": "62237f30",
   "metadata": {},
   "outputs": [
    {
     "data": {
      "text/plain": [
       "street_status_reclass_desc\n",
       "discontinuous_street                         21931\n",
       "continuous_street                             3825\n",
       "added_street: within-sector, not existing     2806\n",
       "added_street: within-sector, existing          808\n",
       "added_street: cross-sector, not existing       393\n",
       "added_street: cross-sector, existing            17\n",
       "Name: count, dtype: int64"
      ]
     },
     "execution_count": 34,
     "metadata": {},
     "output_type": "execute_result"
    }
   ],
   "source": [
    "gdf['street_status_reclass_desc'].value_counts()"
   ]
  },
  {
   "cell_type": "code",
   "execution_count": 35,
   "id": "4d01f7a4",
   "metadata": {},
   "outputs": [
    {
     "data": {
      "text/plain": [
       "Index(['ord_street_name', 'ord_street_type', 'ord_stname_type',\n",
       "       'ord_stname_concat', 'ord_stname_unique', 'ord_stname_type_group',\n",
       "       'ord_street_type_rank', 'snd_group', 'group_id', 'city_sector',\n",
       "       'city_sector_group', 'street_status', 'sn_id', 'en_id', 'dist',\n",
       "       'dist_miles', 'geometry', 'gen_snd_id', 'ex_snd_id', 'node_pair_hash',\n",
       "       'n_matches', 'edge_match_outcome', 'existing_segment', 'n_segments',\n",
       "       'street_status_desc', 'street_status_reclass',\n",
       "       'street_status_reclass_desc'],\n",
       "      dtype='object')"
      ]
     },
     "execution_count": 35,
     "metadata": {},
     "output_type": "execute_result"
    }
   ],
   "source": [
    "gdf.columns"
   ]
  },
  {
   "cell_type": "code",
   "execution_count": 36,
   "id": "7e2f8ba6",
   "metadata": {},
   "outputs": [
    {
     "data": {
      "text/html": [
       "<div>\n",
       "<style scoped>\n",
       "    .dataframe tbody tr th:only-of-type {\n",
       "        vertical-align: middle;\n",
       "    }\n",
       "\n",
       "    .dataframe tbody tr th {\n",
       "        vertical-align: top;\n",
       "    }\n",
       "\n",
       "    .dataframe thead th {\n",
       "        text-align: right;\n",
       "    }\n",
       "</style>\n",
       "<table border=\"1\" class=\"dataframe\">\n",
       "  <thead>\n",
       "    <tr style=\"text-align: right;\">\n",
       "      <th></th>\n",
       "      <th>total_miles</th>\n",
       "    </tr>\n",
       "    <tr>\n",
       "      <th>street_status_reclass</th>\n",
       "      <th></th>\n",
       "    </tr>\n",
       "  </thead>\n",
       "  <tbody>\n",
       "    <tr>\n",
       "      <th>0_0</th>\n",
       "      <td>313</td>\n",
       "    </tr>\n",
       "    <tr>\n",
       "      <th>1_0</th>\n",
       "      <td>1578</td>\n",
       "    </tr>\n",
       "    <tr>\n",
       "      <th>2_0</th>\n",
       "      <td>809</td>\n",
       "    </tr>\n",
       "    <tr>\n",
       "      <th>2_1</th>\n",
       "      <td>22</td>\n",
       "    </tr>\n",
       "    <tr>\n",
       "      <th>3_0</th>\n",
       "      <td>823</td>\n",
       "    </tr>\n",
       "    <tr>\n",
       "      <th>3_1</th>\n",
       "      <td>1</td>\n",
       "    </tr>\n",
       "  </tbody>\n",
       "</table>\n",
       "</div>"
      ],
      "text/plain": [
       "                       total_miles\n",
       "street_status_reclass             \n",
       "0_0                            313\n",
       "1_0                           1578\n",
       "2_0                            809\n",
       "2_1                             22\n",
       "3_0                            823\n",
       "3_1                              1"
      ]
     },
     "execution_count": 36,
     "metadata": {},
     "output_type": "execute_result"
    }
   ],
   "source": [
    "# sum of miles by street status\n",
    "col_names = ['street_status_reclass', 'dist_miles', 'n_segments']\n",
    "ss_rc_df = gdf[col_names].groupby(col_names[:-2]).agg(total_miles = ('dist_miles', 'sum'))\n",
    "ss_rc_df['total_miles'] = ss_rc_df['total_miles'].round(0).astype(int)\n",
    "ss_rc_df"
   ]
  },
  {
   "cell_type": "code",
   "execution_count": 37,
   "id": "34f08f39",
   "metadata": {},
   "outputs": [],
   "source": [
    "ss_count_df = gdf['street_status'].value_counts().to_frame(name = 'n_segments').reset_index()"
   ]
  },
  {
   "cell_type": "markdown",
   "id": "ffb4e1cb",
   "metadata": {},
   "source": [
    "# plot of differences in within-sector connected streets"
   ]
  },
  {
   "cell_type": "code",
   "execution_count": 38,
   "id": "7c59c48e",
   "metadata": {},
   "outputs": [],
   "source": [
    "# compute logs of distance\n",
    "gdf['dist_miles_log'] = np.log10(gdf['dist_miles'])"
   ]
  },
  {
   "cell_type": "code",
   "execution_count": 39,
   "id": "bd2e6fb7",
   "metadata": {},
   "outputs": [],
   "source": [
    "##\n",
    "# stack the original and the reclassified streets - this is used to generate the histograms\n",
    "##\n",
    "df_list = []\n",
    "\n",
    "# the original classification\n",
    "col_names = ['ord_stname_concat', 'dist', 'dist_miles', 'dist_miles_log', 'street_status', 'street_status_desc']\n",
    "tdf = gdf.loc[gdf['street_status'] == 2, col_names]\n",
    "tdf['street_status'] = gdf['street_status'].astype(str)\n",
    "df_list.append(tdf)\n",
    "\n",
    "# the reclassified streets highlighting overlaps\n",
    "col_names = ['ord_stname_concat', 'dist', 'dist_miles', 'dist_miles_log', 'street_status_reclass', 'street_status_reclass_desc']\n",
    "tdf = gdf.loc[gdf['street_status'] == 2, col_names]\n",
    "col_names = ['ord_stname_concat', 'dist', 'dist_miles', 'dist_miles_log', 'street_status', 'street_status_desc']\n",
    "tdf.columns = col_names \n",
    "df_list.append(tdf)\n",
    "tdf = pd.concat(objs = df_list, axis = 0)"
   ]
  },
  {
   "cell_type": "code",
   "execution_count": 40,
   "id": "121712a5",
   "metadata": {},
   "outputs": [],
   "source": [
    "##\n",
    "# CREATE A DATAFRAME THAT HOLDS ALL OF THE DESCRIPTIVE STATISTICS AND PLOTTING OPTIONS\n",
    "##"
   ]
  },
  {
   "cell_type": "code",
   "execution_count": 41,
   "id": "59a92b21",
   "metadata": {},
   "outputs": [],
   "source": [
    "# ds 1: averages\n",
    "# ds 2: added segments by type\n",
    "# ds 3: unique roads"
   ]
  },
  {
   "cell_type": "code",
   "execution_count": 42,
   "id": "b3381d86",
   "metadata": {},
   "outputs": [],
   "source": [
    "tdf['n_segments'] = int(1)"
   ]
  },
  {
   "cell_type": "code",
   "execution_count": 43,
   "id": "13230fee",
   "metadata": {},
   "outputs": [],
   "source": [
    "##\n",
    "# Descriptive Statistic 01: average segment length and positioning for each group\n",
    "##\n",
    "col_names = ['street_status', 'street_status_desc', 'dist_miles', 'n_segments']\n",
    "ds_df = tdf[col_names].groupby(col_names[:-2]).agg(avg_dist_miles = ('dist_miles', 'mean'),\n",
    "                                                   total_miles = ('dist_miles', 'sum'),\n",
    "                                                   n_segments = ('n_segments', 'sum')).reset_index()\n",
    "ds_df['avg_dist_miles_log'] = np.log10(ds_df['avg_dist_miles'])\n",
    "ds_df['avg_dist'] = ds_df['avg_dist_miles'] * 5280\n",
    "#ds_df['color'] = ['#000000', '#ca0020', '#b88b0b'] # these colors are used throughout\n",
    "ds_df['color'] = ['#000000', '#ca0020', '#ff7f00'] # these colors are used throughout\n",
    "ds_df['avg_text'] = ['0.23 mi (avg.)', '0.29 mi (avg.)',  '145 ft (avg.)']\n",
    "ds_df['avg_text_ha'] = ['right', 'left', 'center']\n",
    "ds_df['avg_text_x_pos'] = ds_df['avg_dist_miles_log']\n",
    "# the horizontal position is created from the distance in miles and the text jitter\n"
   ]
  },
  {
   "cell_type": "code",
   "execution_count": 44,
   "id": "4054897b",
   "metadata": {},
   "outputs": [
    {
     "data": {
      "text/html": [
       "<div>\n",
       "<style scoped>\n",
       "    .dataframe tbody tr th:only-of-type {\n",
       "        vertical-align: middle;\n",
       "    }\n",
       "\n",
       "    .dataframe tbody tr th {\n",
       "        vertical-align: top;\n",
       "    }\n",
       "\n",
       "    .dataframe thead th {\n",
       "        text-align: right;\n",
       "    }\n",
       "</style>\n",
       "<table border=\"1\" class=\"dataframe\">\n",
       "  <thead>\n",
       "    <tr style=\"text-align: right;\">\n",
       "      <th></th>\n",
       "      <th>street_status</th>\n",
       "      <th>street_status_desc</th>\n",
       "      <th>avg_dist_miles</th>\n",
       "      <th>total_miles</th>\n",
       "      <th>n_segments</th>\n",
       "      <th>avg_dist_miles_log</th>\n",
       "      <th>avg_dist</th>\n",
       "      <th>color</th>\n",
       "      <th>avg_text</th>\n",
       "      <th>avg_text_ha</th>\n",
       "      <th>avg_text_x_pos</th>\n",
       "    </tr>\n",
       "  </thead>\n",
       "  <tbody>\n",
       "    <tr>\n",
       "      <th>0</th>\n",
       "      <td>2</td>\n",
       "      <td>added_street: within-sector</td>\n",
       "      <td>0.230051</td>\n",
       "      <td>831.403361</td>\n",
       "      <td>3614</td>\n",
       "      <td>-0.638176</td>\n",
       "      <td>1214.667887</td>\n",
       "      <td>#000000</td>\n",
       "      <td>0.23 mi (avg.)</td>\n",
       "      <td>right</td>\n",
       "      <td>-0.638176</td>\n",
       "    </tr>\n",
       "    <tr>\n",
       "      <th>1</th>\n",
       "      <td>2_0</td>\n",
       "      <td>added_street: within-sector, not existing</td>\n",
       "      <td>0.288409</td>\n",
       "      <td>809.275928</td>\n",
       "      <td>2806</td>\n",
       "      <td>-0.539991</td>\n",
       "      <td>1522.800035</td>\n",
       "      <td>#ca0020</td>\n",
       "      <td>0.29 mi (avg.)</td>\n",
       "      <td>left</td>\n",
       "      <td>-0.539991</td>\n",
       "    </tr>\n",
       "    <tr>\n",
       "      <th>2</th>\n",
       "      <td>2_1</td>\n",
       "      <td>added_street: within-sector, existing</td>\n",
       "      <td>0.027385</td>\n",
       "      <td>22.127433</td>\n",
       "      <td>808</td>\n",
       "      <td>-1.562480</td>\n",
       "      <td>144.595106</td>\n",
       "      <td>#ff7f00</td>\n",
       "      <td>145 ft (avg.)</td>\n",
       "      <td>center</td>\n",
       "      <td>-1.562480</td>\n",
       "    </tr>\n",
       "  </tbody>\n",
       "</table>\n",
       "</div>"
      ],
      "text/plain": [
       "  street_status                         street_status_desc  avg_dist_miles  \\\n",
       "0             2                added_street: within-sector        0.230051   \n",
       "1           2_0  added_street: within-sector, not existing        0.288409   \n",
       "2           2_1      added_street: within-sector, existing        0.027385   \n",
       "\n",
       "   total_miles  n_segments  avg_dist_miles_log     avg_dist    color  \\\n",
       "0   831.403361        3614           -0.638176  1214.667887  #000000   \n",
       "1   809.275928        2806           -0.539991  1522.800035  #ca0020   \n",
       "2    22.127433         808           -1.562480   144.595106  #ff7f00   \n",
       "\n",
       "         avg_text avg_text_ha  avg_text_x_pos  \n",
       "0  0.23 mi (avg.)       right       -0.638176  \n",
       "1  0.29 mi (avg.)        left       -0.539991  \n",
       "2   145 ft (avg.)      center       -1.562480  "
      ]
     },
     "execution_count": 44,
     "metadata": {},
     "output_type": "execute_result"
    }
   ],
   "source": [
    "ds_df"
   ]
  },
  {
   "cell_type": "code",
   "execution_count": 45,
   "id": "4cbcf10d",
   "metadata": {},
   "outputs": [],
   "source": [
    "##\n",
    "# Descriptive Statistic 02: what roads have only new segments and/or only existing segment?\n",
    "##\n",
    "# pivot to get membership by street type\n",
    "ss_df = pd.pivot_table(data = gdf, index = ['ord_stname_concat'],\n",
    "                 columns = ['street_status_reclass'],\n",
    "                 values = ['n_segments'],aggfunc = 'sum', fill_value = 0)\n",
    "# new columns\n",
    "ss_df.columns = ['continuous', 'discontinuous', 'asws_new', 'asws_ex', 'ascs_new', 'ascs_ex']\n",
    "\n",
    "# rescale to 1 if GT 1\n",
    "ss_df = ss_df.map(func = lambda x: 1 if x > 1 else x)\n",
    "def unpack_it(row):\n",
    "    return '_'.join([str(rv) for rv in row.to_numpy()])\n",
    "\n",
    "ss_df['combined_class'] = ss_df.apply(unpack_it, axis = 1)\n",
    "\n",
    "# these are the street combos of interest\n",
    "voi = ['0_1_1_0_0_0', '0_1_1_1_0_0', '0_1_0_1_0_0']\n",
    "ss_df = ss_df.loc[ss_df['combined_class'].isin(voi), 'combined_class'].value_counts().to_frame(name = 'n_unique_roads').reset_index()\n",
    "\n",
    "# add street status for joining\n",
    "ss_df['street_status'] = ['2_0', '2', '2_1']\n",
    "ds_df = pd.merge(left = ds_df, right = ss_df)\n",
    "\n",
    "# Descriptive Statistic 02: segment status and histogram \n",
    "ds_df['seg_stat_desc'] =  ['added', 'new', 'existing']\n",
    "ds_df['seg_stat_alpha'] =  [0.2, 0.8, 0.8]\n",
    "ds_df['seg_stat_xy_text'] =  [(-3.15, 160), (-3.15, 145), (-3.15, 130)]\n",
    "ds_df['foreground_color'] =  ['white', 'white', 'white']"
   ]
  },
  {
   "cell_type": "code",
   "execution_count": 46,
   "id": "68a00ee0",
   "metadata": {},
   "outputs": [
    {
     "data": {
      "text/html": [
       "<div>\n",
       "<style scoped>\n",
       "    .dataframe tbody tr th:only-of-type {\n",
       "        vertical-align: middle;\n",
       "    }\n",
       "\n",
       "    .dataframe tbody tr th {\n",
       "        vertical-align: top;\n",
       "    }\n",
       "\n",
       "    .dataframe thead th {\n",
       "        text-align: right;\n",
       "    }\n",
       "</style>\n",
       "<table border=\"1\" class=\"dataframe\">\n",
       "  <thead>\n",
       "    <tr style=\"text-align: right;\">\n",
       "      <th></th>\n",
       "      <th>street_status</th>\n",
       "      <th>street_status_desc</th>\n",
       "      <th>avg_dist_miles</th>\n",
       "      <th>total_miles</th>\n",
       "      <th>n_segments</th>\n",
       "      <th>avg_dist_miles_log</th>\n",
       "      <th>avg_dist</th>\n",
       "      <th>color</th>\n",
       "      <th>avg_text</th>\n",
       "      <th>avg_text_ha</th>\n",
       "      <th>avg_text_x_pos</th>\n",
       "      <th>combined_class</th>\n",
       "      <th>n_unique_roads</th>\n",
       "      <th>seg_stat_desc</th>\n",
       "      <th>seg_stat_alpha</th>\n",
       "      <th>seg_stat_xy_text</th>\n",
       "      <th>foreground_color</th>\n",
       "    </tr>\n",
       "  </thead>\n",
       "  <tbody>\n",
       "    <tr>\n",
       "      <th>0</th>\n",
       "      <td>2</td>\n",
       "      <td>added_street: within-sector</td>\n",
       "      <td>0.230051</td>\n",
       "      <td>831.403361</td>\n",
       "      <td>3614</td>\n",
       "      <td>-0.638176</td>\n",
       "      <td>1214.667887</td>\n",
       "      <td>#000000</td>\n",
       "      <td>0.23 mi (avg.)</td>\n",
       "      <td>right</td>\n",
       "      <td>-0.638176</td>\n",
       "      <td>0_1_1_1_0_0</td>\n",
       "      <td>399</td>\n",
       "      <td>added</td>\n",
       "      <td>0.2</td>\n",
       "      <td>(-3.15, 160)</td>\n",
       "      <td>white</td>\n",
       "    </tr>\n",
       "    <tr>\n",
       "      <th>1</th>\n",
       "      <td>2_0</td>\n",
       "      <td>added_street: within-sector, not existing</td>\n",
       "      <td>0.288409</td>\n",
       "      <td>809.275928</td>\n",
       "      <td>2806</td>\n",
       "      <td>-0.539991</td>\n",
       "      <td>1522.800035</td>\n",
       "      <td>#ca0020</td>\n",
       "      <td>0.29 mi (avg.)</td>\n",
       "      <td>left</td>\n",
       "      <td>-0.539991</td>\n",
       "      <td>0_1_1_0_0_0</td>\n",
       "      <td>590</td>\n",
       "      <td>new</td>\n",
       "      <td>0.8</td>\n",
       "      <td>(-3.15, 145)</td>\n",
       "      <td>white</td>\n",
       "    </tr>\n",
       "    <tr>\n",
       "      <th>2</th>\n",
       "      <td>2_1</td>\n",
       "      <td>added_street: within-sector, existing</td>\n",
       "      <td>0.027385</td>\n",
       "      <td>22.127433</td>\n",
       "      <td>808</td>\n",
       "      <td>-1.562480</td>\n",
       "      <td>144.595106</td>\n",
       "      <td>#ff7f00</td>\n",
       "      <td>145 ft (avg.)</td>\n",
       "      <td>center</td>\n",
       "      <td>-1.562480</td>\n",
       "      <td>0_1_0_1_0_0</td>\n",
       "      <td>112</td>\n",
       "      <td>existing</td>\n",
       "      <td>0.8</td>\n",
       "      <td>(-3.15, 130)</td>\n",
       "      <td>white</td>\n",
       "    </tr>\n",
       "  </tbody>\n",
       "</table>\n",
       "</div>"
      ],
      "text/plain": [
       "  street_status                         street_status_desc  avg_dist_miles  \\\n",
       "0             2                added_street: within-sector        0.230051   \n",
       "1           2_0  added_street: within-sector, not existing        0.288409   \n",
       "2           2_1      added_street: within-sector, existing        0.027385   \n",
       "\n",
       "   total_miles  n_segments  avg_dist_miles_log     avg_dist    color  \\\n",
       "0   831.403361        3614           -0.638176  1214.667887  #000000   \n",
       "1   809.275928        2806           -0.539991  1522.800035  #ca0020   \n",
       "2    22.127433         808           -1.562480   144.595106  #ff7f00   \n",
       "\n",
       "         avg_text avg_text_ha  avg_text_x_pos combined_class  n_unique_roads  \\\n",
       "0  0.23 mi (avg.)       right       -0.638176    0_1_1_1_0_0             399   \n",
       "1  0.29 mi (avg.)        left       -0.539991    0_1_1_0_0_0             590   \n",
       "2   145 ft (avg.)      center       -1.562480    0_1_0_1_0_0             112   \n",
       "\n",
       "  seg_stat_desc  seg_stat_alpha seg_stat_xy_text foreground_color  \n",
       "0         added             0.2     (-3.15, 160)            white  \n",
       "1           new             0.8     (-3.15, 145)            white  \n",
       "2      existing             0.8     (-3.15, 130)            white  "
      ]
     },
     "execution_count": 46,
     "metadata": {},
     "output_type": "execute_result"
    }
   ],
   "source": [
    "ds_df.head()"
   ]
  },
  {
   "cell_type": "code",
   "execution_count": 47,
   "id": "9c37a571",
   "metadata": {},
   "outputs": [],
   "source": [
    "# Descriptive Statistic 03: unique roads\n",
    "ds_df['ur_desc'] = ['new and overlapping segments', 'only new segments',  'only overlapping segments']\n",
    "ds_df['ur_xy_text'] = [(-3.15, 100), (-3.15, 85), (-3.15, 70)]"
   ]
  },
  {
   "cell_type": "code",
   "execution_count": 48,
   "id": "04c00be2",
   "metadata": {},
   "outputs": [
    {
     "data": {
      "text/plain": [
       "{'street_status': '2',\n",
       " 'street_status_desc': 'added_street: within-sector',\n",
       " 'avg_dist_miles': 0.23005073625172942,\n",
       " 'total_miles': 831.4033608137502,\n",
       " 'n_segments': 3614,\n",
       " 'avg_dist_miles_log': -0.6381763724858979,\n",
       " 'avg_dist': 1214.6678874091313,\n",
       " 'color': '#000000',\n",
       " 'avg_text': '0.23 mi (avg.)',\n",
       " 'avg_text_ha': 'right',\n",
       " 'avg_text_x_pos': -0.6381763724858979,\n",
       " 'combined_class': '0_1_1_1_0_0',\n",
       " 'n_unique_roads': 399,\n",
       " 'seg_stat_desc': 'added',\n",
       " 'seg_stat_alpha': 0.2,\n",
       " 'seg_stat_xy_text': (-3.15, 160),\n",
       " 'foreground_color': 'white',\n",
       " 'ur_desc': 'new and overlapping segments',\n",
       " 'ur_xy_text': (-3.15, 100)}"
      ]
     },
     "execution_count": 48,
     "metadata": {},
     "output_type": "execute_result"
    }
   ],
   "source": [
    "ss = '2'\n",
    "ds_dict = ds_df.loc[ds_df['street_status'] == ss, :].to_dict(orient = 'records')[0]\n",
    "ds_dict"
   ]
  },
  {
   "cell_type": "code",
   "execution_count": 49,
   "id": "e5086a13",
   "metadata": {},
   "outputs": [
    {
     "name": "stdout",
     "output_type": "stream",
     "text": [
      "2\n",
      "2_0\n",
      "2_1\n",
      "..\\graphics\\histogram_ws_ALL_streets_overlapping.png\n"
     ]
    },
    {
     "data": {
      "image/png": "[encoded data removed]",
      "text/plain": [
       "<Figure size 2000x500 with 1 Axes>"
      ]
     },
     "metadata": {},
     "output_type": "display_data"
    }
   ],
   "source": [
    "# start your plots\n",
    "# top to bottom\n",
    "sns.set_theme(style = \"whitegrid\")\n",
    "f, ax = plt.subplots(figsize = (20, 5))\n",
    "\n",
    "ax.set_ylim(0, 185.6)\n",
    "ax.set_xlim(-3.2, .75)\n",
    "\n",
    "# set the top part of the plot frame - the spine - to black\n",
    "ax.spines['top'].set_edgecolor(color = 'black')\n",
    "\n",
    "# y ticks\n",
    "y_ticks = list(range(0, 176, 25))\n",
    "y_tick_labels_formatted = ['{:,}'.format(ytl) for ytl in y_ticks]   \n",
    "\n",
    "ax.set_yticks(ticks = y_ticks)\n",
    "ax.set_yticklabels(labels = y_tick_labels_formatted, rotation=0)\n",
    "\n",
    "# x tick positions - need to log transform to match the inputs\n",
    "x_tick_labels = [50 / 5280, 100 / 5280, 300 / 5280, .1, .25, .5, 1, 2, 3]\n",
    "x_ticks = [np.log10(xtl) for xtl in x_tick_labels]\n",
    "\n",
    "# x tick labels\n",
    "x_tick_label_text = ['50 ft', '100 ft', '300 ft',  '1/10 mi', '1/4 mi', '1/2 mi', '1 mi', '2 mi', '3 mi']\n",
    "\n",
    "ax.set_xticks(ticks = x_ticks)\n",
    "ax.set_xticklabels(labels = x_tick_label_text, rotation=0)\n",
    "\n",
    "# add separate histograms for each group.\n",
    "# This way we can control the alpha transparency for each histogram\n",
    "for ss in tdf['street_status'].unique():\n",
    "    print(ss)\n",
    "\n",
    "    # place the descriptive stats and plotting options into a dictionary\n",
    "    ds_dict = ds_df.loc[ds_df['street_status'] == ss, :].to_dict(orient = 'records')[0]\n",
    "        \n",
    "    # current working df\n",
    "    adf = tdf.loc[tdf['street_status'] == ss, :]\n",
    "    \n",
    "    # total segments\n",
    "    total_segments = ds_df.loc[ds_df['street_status'] == '2', 'n_segments'].iloc[0]\n",
    "    ss_segments = adf.shape[0]\n",
    "    per_segments = ss_segments / total_segments \n",
    "    total_segments = f\"{total_segments:,}\"\n",
    "    ss_segments = f\"{ss_segments:,}\"\n",
    "    per_segments = f\"{per_segments:.0%}\"\n",
    "\n",
    "    # total miles\n",
    "    total_miles = tdf.loc[tdf['street_status'] == '2', 'dist_miles'].sum()\n",
    "    ss_miles = int(round(ds_dict['total_miles'], 0))\n",
    "    per_miles = ss_miles / total_miles\n",
    "    total_miles = f\"{int(total_miles)}\"\n",
    "    ss_miles = f\"{ss_miles:,}\"    \n",
    "    per_miles = f\"{per_miles:.0%}\"    \n",
    "        \n",
    "    # total unique roads\n",
    "    total_unique_roads = ds_df['n_unique_roads'].sum()\n",
    "    n_unique_roads = ds_dict['n_unique_roads']\n",
    "    per_unique_roads = n_unique_roads / total_unique_roads\n",
    "    total_unique_roads = f\"{total_unique_roads:,}\"\n",
    "    n_unique_roads = f\"{n_unique_roads:,}\"\n",
    "    per_unique_roads = f\"{per_unique_roads:.0%}\"\n",
    "            \n",
    "    # create a color palette of the form 'data_category':'color\n",
    "    color_palette = {ss:ds_dict['color']}    \n",
    "\n",
    "    # add the histogram\n",
    "    ax1 = sns.histplot(\n",
    "        data=adf,\n",
    "        x=\"dist_miles_log\",\n",
    "        hue=\"street_status\",\n",
    "        palette=color_palette,\n",
    "        element='bars',\n",
    "        multiple = 'layer',\n",
    "        bins = 100,\n",
    "        edgecolor = 'black',\n",
    "        alpha = ds_dict['seg_stat_alpha'],\n",
    "        legend=None,\n",
    "        kde = True\n",
    "    )\n",
    "\n",
    "    ##\n",
    "    # DESCRIPTIVE STATISTICS 1: Average segment length\n",
    "    ##\n",
    "    # add vertical lines at some descriptive statistics points\n",
    "    ax.vlines(x = ds_dict['avg_dist_miles_log'], ymin = 0, ymax = 175, color = ds_dict['color'], linestyles = 'dashdot')\n",
    "\n",
    "    # add text for the descriptive stats    \n",
    "    ax.text(x = ds_dict['avg_text_x_pos'], y = 176, s = ds_dict['avg_text'], horizontalalignment = ds_dict['avg_text_ha'], color = ds_dict['color'])\n",
    "\n",
    "    ##\n",
    "    # DESCRIPTIVE STATISTICS 2: Segment status\n",
    "    ##\n",
    "    # add the text describing segments the mileage\n",
    "    desc_text = f\"{ss_segments.rjust(5)} {ds_dict['seg_stat_desc']} segments ({per_segments})\".ljust(30) +  f\"| {ss_miles.rjust(3)} miles ({per_miles})\"\n",
    "            \n",
    "    txt = ax.annotate(text = desc_text, xy = ds_dict['seg_stat_xy_text'],\n",
    "                color = ds_dict['color'], fontsize = 12,\n",
    "                fontweight = 'bold', fontstretch = 'extra-expanded', fontfamily = 'monospace')\n",
    "    \n",
    "    txt.set_path_effects([\n",
    "        path_effects.Stroke(linewidth=2, foreground=ds_dict['foreground_color']),\n",
    "        path_effects.Normal()\n",
    "        ])\n",
    "    \n",
    "    ##\n",
    "    # DESCRIPTIVE STATISTICS 3: Unique road counts\n",
    "    ##\n",
    "    # add some text with the road counts\n",
    "\n",
    "    # add the text describing the mileage\n",
    "    desc_text = f\"{n_unique_roads} unique roads with {ds_dict['ur_desc']} ({per_unique_roads})\"\n",
    "            \n",
    "    txt = ax.annotate(text = desc_text, xy = ds_dict['ur_xy_text'],\n",
    "                color = ds_dict['color'], fontsize = 12,\n",
    "                fontweight = 'bold', fontstretch = 'extra-expanded', fontfamily = 'monospace')\n",
    "    \n",
    "    txt.set_path_effects([\n",
    "        path_effects.Stroke(linewidth=2, foreground='white'),\n",
    "        path_effects.Normal()\n",
    "    ])    \n",
    "\n",
    "# white out the top portion of the ticks\n",
    "for xt in x_ticks:\n",
    "    ax.vlines(x = xt, ymin = 175, ymax = 185, color = 'white', linestyles = 'solid', linewidth = 2)\n",
    "\n",
    "##\n",
    "# BUILD THE TITLE\n",
    "##\n",
    "asws_df = gdf.loc[gdf['street_status'] == 2, ]\n",
    "\n",
    "# segments\n",
    "n_added = asws_df.shape[0]\n",
    "n_added =  f\"{n_added:,}\"\n",
    "\n",
    "tot_miles = asws_df['dist_miles'].sum()\n",
    "tot_miles = f\"{int(round(tot_miles, 0)):,}\"\n",
    "\n",
    "unique_roads = asws_df['ord_stname_concat'].unique().shape[0]\n",
    "unique_roads = f\"{unique_roads:,}\"\n",
    "\n",
    "my_title = f\"Histogram of within-sector added road segment length by new and overlapping segment type ({n_added} segments | {unique_roads} unique roads | {tot_miles} miles | )\"\n",
    "plt.title(label = my_title, fontsize = 16)\n",
    "plt.xlabel(xlabel = 'Added road segment length (log-scale)')\n",
    "plt.ylabel(ylabel = \"Number of added road segments\")\n",
    "\n",
    "output_file_name = '..\\\\graphics\\\\histogram_ws_ALL_streets_overlapping.png'\n",
    "output_file_name = os.path.normpath(output_file_name)\n",
    "print(output_file_name)\n",
    "ax.get_figure().savefig(fname = output_file_name)"
   ]
  },
  {
   "cell_type": "markdown",
   "id": "fae7e5a5",
   "metadata": {},
   "source": [
    "# what are the existing segments - what are those features like?"
   ]
  },
  {
   "cell_type": "code",
   "execution_count": 50,
   "id": "8aec965a",
   "metadata": {},
   "outputs": [
    {
     "data": {
      "text/html": [
       "<div>\n",
       "<style scoped>\n",
       "    .dataframe tbody tr th:only-of-type {\n",
       "        vertical-align: middle;\n",
       "    }\n",
       "\n",
       "    .dataframe tbody tr th {\n",
       "        vertical-align: top;\n",
       "    }\n",
       "\n",
       "    .dataframe thead tr th {\n",
       "        text-align: left;\n",
       "    }\n",
       "\n",
       "    .dataframe thead tr:last-of-type th {\n",
       "        text-align: right;\n",
       "    }\n",
       "</style>\n",
       "<table border=\"1\" class=\"dataframe\">\n",
       "  <thead>\n",
       "    <tr>\n",
       "      <th></th>\n",
       "      <th></th>\n",
       "      <th colspan=\"8\" halign=\"left\">dist_miles</th>\n",
       "    </tr>\n",
       "    <tr>\n",
       "      <th></th>\n",
       "      <th></th>\n",
       "      <th>count</th>\n",
       "      <th>mean</th>\n",
       "      <th>std</th>\n",
       "      <th>min</th>\n",
       "      <th>25%</th>\n",
       "      <th>50%</th>\n",
       "      <th>75%</th>\n",
       "      <th>max</th>\n",
       "    </tr>\n",
       "    <tr>\n",
       "      <th>street_status_reclass</th>\n",
       "      <th>street_status_reclass_desc</th>\n",
       "      <th></th>\n",
       "      <th></th>\n",
       "      <th></th>\n",
       "      <th></th>\n",
       "      <th></th>\n",
       "      <th></th>\n",
       "      <th></th>\n",
       "      <th></th>\n",
       "    </tr>\n",
       "  </thead>\n",
       "  <tbody>\n",
       "    <tr>\n",
       "      <th>0_0</th>\n",
       "      <th>continuous_street</th>\n",
       "      <td>3825.0</td>\n",
       "      <td>0.081753</td>\n",
       "      <td>0.068245</td>\n",
       "      <td>0.003287</td>\n",
       "      <td>0.044034</td>\n",
       "      <td>0.063152</td>\n",
       "      <td>0.100839</td>\n",
       "      <td>0.974518</td>\n",
       "    </tr>\n",
       "    <tr>\n",
       "      <th>1_0</th>\n",
       "      <th>discontinuous_street</th>\n",
       "      <td>21931.0</td>\n",
       "      <td>0.071953</td>\n",
       "      <td>0.043731</td>\n",
       "      <td>0.001515</td>\n",
       "      <td>0.048485</td>\n",
       "      <td>0.060984</td>\n",
       "      <td>0.090873</td>\n",
       "      <td>0.895253</td>\n",
       "    </tr>\n",
       "    <tr>\n",
       "      <th>2_0</th>\n",
       "      <th>added_street: within-sector, not existing</th>\n",
       "      <td>2806.0</td>\n",
       "      <td>0.288409</td>\n",
       "      <td>0.416748</td>\n",
       "      <td>0.000744</td>\n",
       "      <td>0.060706</td>\n",
       "      <td>0.128373</td>\n",
       "      <td>0.334776</td>\n",
       "      <td>4.973674</td>\n",
       "    </tr>\n",
       "    <tr>\n",
       "      <th>2_1</th>\n",
       "      <th>added_street: within-sector, existing</th>\n",
       "      <td>808.0</td>\n",
       "      <td>0.027385</td>\n",
       "      <td>0.020434</td>\n",
       "      <td>0.002922</td>\n",
       "      <td>0.016892</td>\n",
       "      <td>0.023457</td>\n",
       "      <td>0.030909</td>\n",
       "      <td>0.257023</td>\n",
       "    </tr>\n",
       "    <tr>\n",
       "      <th>3_0</th>\n",
       "      <th>added_street: cross-sector, not existing</th>\n",
       "      <td>393.0</td>\n",
       "      <td>2.094195</td>\n",
       "      <td>2.298184</td>\n",
       "      <td>0.010212</td>\n",
       "      <td>0.502107</td>\n",
       "      <td>1.196392</td>\n",
       "      <td>2.716253</td>\n",
       "      <td>11.127778</td>\n",
       "    </tr>\n",
       "    <tr>\n",
       "      <th>3_1</th>\n",
       "      <th>added_street: cross-sector, existing</th>\n",
       "      <td>17.0</td>\n",
       "      <td>0.041748</td>\n",
       "      <td>0.069082</td>\n",
       "      <td>0.007820</td>\n",
       "      <td>0.017979</td>\n",
       "      <td>0.025878</td>\n",
       "      <td>0.032308</td>\n",
       "      <td>0.307315</td>\n",
       "    </tr>\n",
       "  </tbody>\n",
       "</table>\n",
       "</div>"
      ],
      "text/plain": [
       "                                                                dist_miles  \\\n",
       "                                                                     count   \n",
       "street_status_reclass street_status_reclass_desc                             \n",
       "0_0                   continuous_street                             3825.0   \n",
       "1_0                   discontinuous_street                         21931.0   \n",
       "2_0                   added_street: within-sector, not existing     2806.0   \n",
       "2_1                   added_street: within-sector, existing          808.0   \n",
       "3_0                   added_street: cross-sector, not existing       393.0   \n",
       "3_1                   added_street: cross-sector, existing            17.0   \n",
       "\n",
       "                                                                           \\\n",
       "                                                                     mean   \n",
       "street_status_reclass street_status_reclass_desc                            \n",
       "0_0                   continuous_street                          0.081753   \n",
       "1_0                   discontinuous_street                       0.071953   \n",
       "2_0                   added_street: within-sector, not existing  0.288409   \n",
       "2_1                   added_street: within-sector, existing      0.027385   \n",
       "3_0                   added_street: cross-sector, not existing   2.094195   \n",
       "3_1                   added_street: cross-sector, existing       0.041748   \n",
       "\n",
       "                                                                           \\\n",
       "                                                                      std   \n",
       "street_status_reclass street_status_reclass_desc                            \n",
       "0_0                   continuous_street                          0.068245   \n",
       "1_0                   discontinuous_street                       0.043731   \n",
       "2_0                   added_street: within-sector, not existing  0.416748   \n",
       "2_1                   added_street: within-sector, existing      0.020434   \n",
       "3_0                   added_street: cross-sector, not existing   2.298184   \n",
       "3_1                   added_street: cross-sector, existing       0.069082   \n",
       "\n",
       "                                                                           \\\n",
       "                                                                      min   \n",
       "street_status_reclass street_status_reclass_desc                            \n",
       "0_0                   continuous_street                          0.003287   \n",
       "1_0                   discontinuous_street                       0.001515   \n",
       "2_0                   added_street: within-sector, not existing  0.000744   \n",
       "2_1                   added_street: within-sector, existing      0.002922   \n",
       "3_0                   added_street: cross-sector, not existing   0.010212   \n",
       "3_1                   added_street: cross-sector, existing       0.007820   \n",
       "\n",
       "                                                                           \\\n",
       "                                                                      25%   \n",
       "street_status_reclass street_status_reclass_desc                            \n",
       "0_0                   continuous_street                          0.044034   \n",
       "1_0                   discontinuous_street                       0.048485   \n",
       "2_0                   added_street: within-sector, not existing  0.060706   \n",
       "2_1                   added_street: within-sector, existing      0.016892   \n",
       "3_0                   added_street: cross-sector, not existing   0.502107   \n",
       "3_1                   added_street: cross-sector, existing       0.017979   \n",
       "\n",
       "                                                                           \\\n",
       "                                                                      50%   \n",
       "street_status_reclass street_status_reclass_desc                            \n",
       "0_0                   continuous_street                          0.063152   \n",
       "1_0                   discontinuous_street                       0.060984   \n",
       "2_0                   added_street: within-sector, not existing  0.128373   \n",
       "2_1                   added_street: within-sector, existing      0.023457   \n",
       "3_0                   added_street: cross-sector, not existing   1.196392   \n",
       "3_1                   added_street: cross-sector, existing       0.025878   \n",
       "\n",
       "                                                                           \\\n",
       "                                                                      75%   \n",
       "street_status_reclass street_status_reclass_desc                            \n",
       "0_0                   continuous_street                          0.100839   \n",
       "1_0                   discontinuous_street                       0.090873   \n",
       "2_0                   added_street: within-sector, not existing  0.334776   \n",
       "2_1                   added_street: within-sector, existing      0.030909   \n",
       "3_0                   added_street: cross-sector, not existing   2.716253   \n",
       "3_1                   added_street: cross-sector, existing       0.032308   \n",
       "\n",
       "                                                                            \n",
       "                                                                       max  \n",
       "street_status_reclass street_status_reclass_desc                            \n",
       "0_0                   continuous_street                           0.974518  \n",
       "1_0                   discontinuous_street                        0.895253  \n",
       "2_0                   added_street: within-sector, not existing   4.973674  \n",
       "2_1                   added_street: within-sector, existing       0.257023  \n",
       "3_0                   added_street: cross-sector, not existing   11.127778  \n",
       "3_1                   added_street: cross-sector, existing        0.307315  "
      ]
     },
     "execution_count": 50,
     "metadata": {},
     "output_type": "execute_result"
    }
   ],
   "source": [
    "# okay, let's do some crosstabs to get the overall picture\n",
    "col_names = ['street_status_reclass', 'street_status_reclass_desc', 'dist_miles']\n",
    "outcome = gdf[col_names].groupby(col_names[:-1]).describe()\n",
    "outcome"
   ]
  },
  {
   "cell_type": "code",
   "execution_count": 51,
   "id": "971e260a",
   "metadata": {},
   "outputs": [
    {
     "data": {
      "text/plain": [
       "street_status_reclass\n",
       "1_0    21931\n",
       "0_0     3825\n",
       "2_0     2806\n",
       "2_1      808\n",
       "3_0      393\n",
       "3_1       17\n",
       "Name: count, dtype: int64"
      ]
     },
     "execution_count": 51,
     "metadata": {},
     "output_type": "execute_result"
    }
   ],
   "source": [
    "gdf['street_status_reclass'].value_counts()"
   ]
  },
  {
   "cell_type": "code",
   "execution_count": 52,
   "id": "ceade6c2",
   "metadata": {},
   "outputs": [],
   "source": [
    "col_names = ['snd_id', 'segment_type', 'snd_feacode']"
   ]
  },
  {
   "cell_type": "code",
   "execution_count": 53,
   "id": "02bb0341",
   "metadata": {},
   "outputs": [],
   "source": [
    "gdf = pd.merge(left = gdf, right = c_gdf[col_names], left_on = 'ex_snd_id', right_on = 'snd_id', how = 'left')"
   ]
  },
  {
   "cell_type": "code",
   "execution_count": 54,
   "id": "9ace343a",
   "metadata": {},
   "outputs": [],
   "source": [
    "gdf.loc[gdf['snd_id'].isna(), 'snd_id'] = gdf.loc[gdf['snd_id'].isna(), 'gen_snd_id']"
   ]
  },
  {
   "cell_type": "code",
   "execution_count": 55,
   "id": "34ba0072",
   "metadata": {},
   "outputs": [],
   "source": [
    "for cn in ['segment_type', 'snd_feacode']:\n",
    "    gdf[cn] = gdf[cn].fillna(-1).astype(int)"
   ]
  },
  {
   "cell_type": "code",
   "execution_count": 56,
   "id": "2edfae33",
   "metadata": {},
   "outputs": [
    {
     "data": {
      "text/plain": [
       "Index(['ord_street_name', 'ord_street_type', 'ord_stname_type',\n",
       "       'ord_stname_concat', 'ord_stname_unique', 'ord_stname_type_group',\n",
       "       'ord_street_type_rank', 'snd_group', 'group_id', 'city_sector',\n",
       "       'city_sector_group', 'street_status', 'sn_id', 'en_id', 'dist',\n",
       "       'dist_miles', 'geometry', 'gen_snd_id', 'ex_snd_id', 'node_pair_hash',\n",
       "       'n_matches', 'edge_match_outcome', 'existing_segment', 'n_segments',\n",
       "       'street_status_desc', 'street_status_reclass',\n",
       "       'street_status_reclass_desc', 'dist_miles_log', 'snd_id',\n",
       "       'segment_type', 'snd_feacode'],\n",
       "      dtype='object')"
      ]
     },
     "execution_count": 56,
     "metadata": {},
     "output_type": "execute_result"
    }
   ],
   "source": [
    "gdf.columns"
   ]
  },
  {
   "cell_type": "code",
   "execution_count": 57,
   "id": "fe093bf3",
   "metadata": {},
   "outputs": [
    {
     "data": {
      "text/plain": [
       "street_status_reclass\n",
       "1_0    21931\n",
       "0_0     3825\n",
       "2_0     2806\n",
       "2_1      808\n",
       "3_0      393\n",
       "3_1       17\n",
       "Name: count, dtype: int64"
      ]
     },
     "execution_count": 57,
     "metadata": {},
     "output_type": "execute_result"
    }
   ],
   "source": [
    "gdf['street_status_reclass'].value_counts()"
   ]
  },
  {
   "cell_type": "code",
   "execution_count": 58,
   "id": "9125424b",
   "metadata": {},
   "outputs": [
    {
     "data": {
      "text/html": [
       "<div>\n",
       "<style scoped>\n",
       "    .dataframe tbody tr th:only-of-type {\n",
       "        vertical-align: middle;\n",
       "    }\n",
       "\n",
       "    .dataframe tbody tr th {\n",
       "        vertical-align: top;\n",
       "    }\n",
       "\n",
       "    .dataframe thead th {\n",
       "        text-align: right;\n",
       "    }\n",
       "</style>\n",
       "<table border=\"1\" class=\"dataframe\">\n",
       "  <thead>\n",
       "    <tr style=\"text-align: right;\">\n",
       "      <th></th>\n",
       "      <th>street_status</th>\n",
       "      <th>ord_stname_concat</th>\n",
       "      <th>dist_miles</th>\n",
       "    </tr>\n",
       "  </thead>\n",
       "  <tbody>\n",
       "    <tr>\n",
       "      <th>12502</th>\n",
       "      <td>3</td>\n",
       "      <td>62ND AVE NE_S</td>\n",
       "      <td>11.127778</td>\n",
       "    </tr>\n",
       "    <tr>\n",
       "      <th>14163</th>\n",
       "      <td>2</td>\n",
       "      <td>7TH PL S</td>\n",
       "      <td>4.973674</td>\n",
       "    </tr>\n",
       "    <tr>\n",
       "      <th>16388</th>\n",
       "      <td>0</td>\n",
       "      <td>ARBORETUM DR E</td>\n",
       "      <td>0.974518</td>\n",
       "    </tr>\n",
       "    <tr>\n",
       "      <th>29268</th>\n",
       "      <td>1</td>\n",
       "      <td>WEST MARGINAL WAY SW</td>\n",
       "      <td>0.895253</td>\n",
       "    </tr>\n",
       "  </tbody>\n",
       "</table>\n",
       "</div>"
      ],
      "text/plain": [
       "       street_status     ord_stname_concat  dist_miles\n",
       "12502              3         62ND AVE NE_S   11.127778\n",
       "14163              2              7TH PL S    4.973674\n",
       "16388              0        ARBORETUM DR E    0.974518\n",
       "29268              1  WEST MARGINAL WAY SW    0.895253"
      ]
     },
     "execution_count": 58,
     "metadata": {},
     "output_type": "execute_result"
    }
   ],
   "source": [
    "gdf['dist_miles_rank'] = gdf.groupby('street_status')['dist_miles'].rank(method = 'dense', ascending = False)\n",
    "gdf.loc[gdf['dist_miles_rank'] == 1, ['street_status', 'ord_stname_concat', 'dist_miles'] ].head()\n",
    "    "
   ]
  },
  {
   "cell_type": "code",
   "execution_count": 59,
   "id": "444427e0",
   "metadata": {},
   "outputs": [
    {
     "data": {
      "text/plain": [
       "['11TH AVE S',\n",
       " '12TH AVE SW',\n",
       " '33RD AVE SW',\n",
       " '51ST AVE SW',\n",
       " '7TH PL S',\n",
       " '9TH AVE S',\n",
       " 'S 105TH ST',\n",
       " 'S 106TH ST',\n",
       " 'S 112TH ST',\n",
       " 'S 116TH ST']"
      ]
     },
     "execution_count": 59,
     "metadata": {},
     "output_type": "execute_result"
    }
   ],
   "source": [
    "sorted(gdf.loc[(gdf['street_status'] == 2) & (gdf['dist_miles_rank'] <= 10)\n",
    "        , 'ord_stname_concat'].tolist())"
   ]
  },
  {
   "cell_type": "code",
   "execution_count": 60,
   "id": "2344d771",
   "metadata": {},
   "outputs": [
    {
     "data": {
      "text/html": [
       "<div>\n",
       "<style scoped>\n",
       "    .dataframe tbody tr th:only-of-type {\n",
       "        vertical-align: middle;\n",
       "    }\n",
       "\n",
       "    .dataframe tbody tr th {\n",
       "        vertical-align: top;\n",
       "    }\n",
       "\n",
       "    .dataframe thead th {\n",
       "        text-align: right;\n",
       "    }\n",
       "</style>\n",
       "<table border=\"1\" class=\"dataframe\">\n",
       "  <thead>\n",
       "    <tr style=\"text-align: right;\">\n",
       "      <th></th>\n",
       "      <th>ord_street_name</th>\n",
       "      <th>ord_street_type</th>\n",
       "      <th>ord_stname_type</th>\n",
       "      <th>ord_stname_concat</th>\n",
       "      <th>ord_stname_unique</th>\n",
       "      <th>ord_stname_type_group</th>\n",
       "      <th>ord_street_type_rank</th>\n",
       "      <th>snd_group</th>\n",
       "      <th>group_id</th>\n",
       "      <th>city_sector</th>\n",
       "      <th>...</th>\n",
       "      <th>existing_segment</th>\n",
       "      <th>n_segments</th>\n",
       "      <th>street_status_desc</th>\n",
       "      <th>street_status_reclass</th>\n",
       "      <th>street_status_reclass_desc</th>\n",
       "      <th>dist_miles_log</th>\n",
       "      <th>snd_id</th>\n",
       "      <th>segment_type</th>\n",
       "      <th>snd_feacode</th>\n",
       "      <th>dist_miles_rank</th>\n",
       "    </tr>\n",
       "  </thead>\n",
       "  <tbody>\n",
       "    <tr>\n",
       "      <th>18423</th>\n",
       "      <td>CLOVERDALE</td>\n",
       "      <td>ST</td>\n",
       "      <td>CLOVERDALE ST</td>\n",
       "      <td>SW CLOVERDALE ST</td>\n",
       "      <td>SW CLOVERDALE ST</td>\n",
       "      <td>CLOVERDALE ST SW_S</td>\n",
       "      <td>10_ST</td>\n",
       "      <td>5</td>\n",
       "      <td>1</td>\n",
       "      <td>SW</td>\n",
       "      <td>...</td>\n",
       "      <td>0</td>\n",
       "      <td>1</td>\n",
       "      <td>added_street: within-sector</td>\n",
       "      <td>2_0</td>\n",
       "      <td>added_street: within-sector, not existing</td>\n",
       "      <td>-3.128428</td>\n",
       "      <td>68281.0</td>\n",
       "      <td>-1</td>\n",
       "      <td>-1</td>\n",
       "      <td>3597.0</td>\n",
       "    </tr>\n",
       "  </tbody>\n",
       "</table>\n",
       "<p>1 rows × 32 columns</p>\n",
       "</div>"
      ],
      "text/plain": [
       "      ord_street_name ord_street_type ord_stname_type ord_stname_concat  \\\n",
       "18423      CLOVERDALE              ST   CLOVERDALE ST  SW CLOVERDALE ST   \n",
       "\n",
       "      ord_stname_unique ord_stname_type_group ord_street_type_rank  snd_group  \\\n",
       "18423  SW CLOVERDALE ST    CLOVERDALE ST SW_S                10_ST          5   \n",
       "\n",
       "       group_id city_sector  ... existing_segment  n_segments  \\\n",
       "18423         1          SW  ...                0           1   \n",
       "\n",
       "                street_status_desc  street_status_reclass  \\\n",
       "18423  added_street: within-sector                    2_0   \n",
       "\n",
       "                      street_status_reclass_desc  dist_miles_log   snd_id  \\\n",
       "18423  added_street: within-sector, not existing       -3.128428  68281.0   \n",
       "\n",
       "       segment_type  snd_feacode  dist_miles_rank  \n",
       "18423            -1           -1           3597.0  \n",
       "\n",
       "[1 rows x 32 columns]"
      ]
     },
     "execution_count": 60,
     "metadata": {},
     "output_type": "execute_result"
    }
   ],
   "source": [
    "gdf.loc[gdf['dist_miles'] == gdf['dist_miles'].min(), ]"
   ]
  },
  {
   "cell_type": "code",
   "execution_count": 70,
   "id": "da3e0050",
   "metadata": {},
   "outputs": [
    {
     "data": {
      "text/plain": [
       "Index(['ord_street_name', 'ord_street_type', 'ord_stname_type',\n",
       "       'ord_stname_concat', 'ord_stname_unique', 'ord_stname_type_group',\n",
       "       'ord_street_type_rank', 'snd_group', 'group_id', 'city_sector',\n",
       "       'city_sector_group', 'street_status', 'sn_id', 'en_id', 'dist',\n",
       "       'dist_miles', 'geometry', 'gen_snd_id', 'ex_snd_id', 'node_pair_hash',\n",
       "       'n_matches', 'edge_match_outcome', 'existing_segment', 'n_segments',\n",
       "       'street_status_desc', 'street_status_reclass',\n",
       "       'street_status_reclass_desc', 'dist_miles_log', 'snd_id',\n",
       "       'segment_type', 'snd_feacode', 'dist_miles_rank'],\n",
       "      dtype='object')"
      ]
     },
     "execution_count": 70,
     "metadata": {},
     "output_type": "execute_result"
    }
   ],
   "source": [
    "gdf.columns"
   ]
  },
  {
   "cell_type": "code",
   "execution_count": null,
   "id": "f6cb6b4d",
   "metadata": {},
   "outputs": [
    {
     "name": "stdout",
     "output_type": "stream",
     "text": [
      "     street_status_reclass ord_stname_concat  n_segments  dist_miles  \\\n",
      "2584                   2_0        30TH AVE S          11    1.687962   \n",
      "2614                   2_0        35TH AVE S          10    2.514357   \n",
      "2579                   2_0        2ND AVE NE          10    2.807802   \n",
      "3109                   2_0    PALATINE AVE N          10    1.927207   \n",
      "2667                   2_0        45TH AVE S          10    1.900834   \n",
      "\n",
      "         dist_feet  \n",
      "2584   8912.438636  \n",
      "2614  13275.805959  \n",
      "2579  14825.193253  \n",
      "3109  10175.654105  \n",
      "2667  10036.401443  \n",
      "     street_status_reclass ord_stname_concat  n_segments  dist_miles  \\\n",
      "2778                   2_0         9TH AVE S           3    5.704713   \n",
      "2761                   2_0          7TH PL S           1    4.973674   \n",
      "2465                   2_0        11TH AVE S           2    4.577084   \n",
      "2457                   2_0        10TH AVE S           7    4.535400   \n",
      "2510                   2_0        19TH AVE S           6    4.501965   \n",
      "\n",
      "         dist_feet  \n",
      "2778  30120.884707  \n",
      "2761  26261.000182  \n",
      "2465  24167.004272  \n",
      "2457  23946.911217  \n",
      "2510  23770.376477  \n"
     ]
    },
    {
     "data": {
      "text/html": [
       "<div>\n",
       "<style scoped>\n",
       "    .dataframe tbody tr th:only-of-type {\n",
       "        vertical-align: middle;\n",
       "    }\n",
       "\n",
       "    .dataframe tbody tr th {\n",
       "        vertical-align: top;\n",
       "    }\n",
       "\n",
       "    .dataframe thead th {\n",
       "        text-align: right;\n",
       "    }\n",
       "</style>\n",
       "<table border=\"1\" class=\"dataframe\">\n",
       "  <thead>\n",
       "    <tr style=\"text-align: right;\">\n",
       "      <th></th>\n",
       "      <th>street_status_reclass</th>\n",
       "      <th>n_roads</th>\n",
       "      <th>n_segments</th>\n",
       "      <th>dist_miles</th>\n",
       "      <th>dist_feet</th>\n",
       "      <th>avg_added_segment</th>\n",
       "      <th>avg_added_length</th>\n",
       "      <th>avg_added_length_feet</th>\n",
       "    </tr>\n",
       "  </thead>\n",
       "  <tbody>\n",
       "    <tr>\n",
       "      <th>0</th>\n",
       "      <td>0_0</td>\n",
       "      <td>1150</td>\n",
       "      <td>3825</td>\n",
       "      <td>313</td>\n",
       "      <td>1.651078e+06</td>\n",
       "      <td>3.326087</td>\n",
       "      <td>0.081753</td>\n",
       "      <td>432</td>\n",
       "    </tr>\n",
       "    <tr>\n",
       "      <th>1</th>\n",
       "      <td>1_0</td>\n",
       "      <td>1305</td>\n",
       "      <td>21931</td>\n",
       "      <td>1578</td>\n",
       "      <td>8.331892e+06</td>\n",
       "      <td>16.805364</td>\n",
       "      <td>0.071953</td>\n",
       "      <td>380</td>\n",
       "    </tr>\n",
       "    <tr>\n",
       "      <th>2</th>\n",
       "      <td>2_0</td>\n",
       "      <td>989</td>\n",
       "      <td>2806</td>\n",
       "      <td>809</td>\n",
       "      <td>4.272977e+06</td>\n",
       "      <td>2.837209</td>\n",
       "      <td>0.288409</td>\n",
       "      <td>1523</td>\n",
       "    </tr>\n",
       "    <tr>\n",
       "      <th>3</th>\n",
       "      <td>2_1</td>\n",
       "      <td>511</td>\n",
       "      <td>808</td>\n",
       "      <td>22</td>\n",
       "      <td>1.168328e+05</td>\n",
       "      <td>1.581213</td>\n",
       "      <td>0.027385</td>\n",
       "      <td>145</td>\n",
       "    </tr>\n",
       "    <tr>\n",
       "      <th>4</th>\n",
       "      <td>3_0</td>\n",
       "      <td>304</td>\n",
       "      <td>393</td>\n",
       "      <td>823</td>\n",
       "      <td>4.345539e+06</td>\n",
       "      <td>1.292763</td>\n",
       "      <td>2.094195</td>\n",
       "      <td>11057</td>\n",
       "    </tr>\n",
       "    <tr>\n",
       "      <th>5</th>\n",
       "      <td>3_1</td>\n",
       "      <td>17</td>\n",
       "      <td>17</td>\n",
       "      <td>1</td>\n",
       "      <td>3.747279e+03</td>\n",
       "      <td>1.000000</td>\n",
       "      <td>0.041748</td>\n",
       "      <td>220</td>\n",
       "    </tr>\n",
       "  </tbody>\n",
       "</table>\n",
       "</div>"
      ],
      "text/plain": [
       "  street_status_reclass  n_roads  n_segments  dist_miles     dist_feet  \\\n",
       "0                   0_0     1150        3825         313  1.651078e+06   \n",
       "1                   1_0     1305       21931        1578  8.331892e+06   \n",
       "2                   2_0      989        2806         809  4.272977e+06   \n",
       "3                   2_1      511         808          22  1.168328e+05   \n",
       "4                   3_0      304         393         823  4.345539e+06   \n",
       "5                   3_1       17          17           1  3.747279e+03   \n",
       "\n",
       "   avg_added_segment  avg_added_length  avg_added_length_feet  \n",
       "0           3.326087          0.081753                    432  \n",
       "1          16.805364          0.071953                    380  \n",
       "2           2.837209          0.288409                   1523  \n",
       "3           1.581213          0.027385                    145  \n",
       "4           1.292763          2.094195                  11057  \n",
       "5           1.000000          0.041748                    220  "
      ]
     },
     "metadata": {},
     "output_type": "display_data"
    }
   ],
   "source": [
    "# how many roads?\n",
    "ss = 'street_status_reclass'\n",
    "col_names = [ss, 'ord_stname_concat', 'n_segments', 'dist_miles', 'dist']\n",
    "stat_check_df = gdf[col_names].groupby(col_names[:2]).agg(n_segments = ('n_segments', 'sum'),                                                           \n",
    "                                                           dist_miles = ('dist_miles', 'sum'),\n",
    "                                                           dist_feet = ('dist', 'sum')).reset_index()\n",
    "print(stat_check_df.loc[stat_check_df[ss] == '2_0', ].sort_values(by = 'n_segments', ascending = False).head())\n",
    "print(stat_check_df.loc[stat_check_df[ss] == '2_0', ].sort_values(by = 'dist_miles', ascending = False).head())\n",
    "\n",
    "# do another aggregation to count the number of roads\n",
    "stat_check_df['n_roads'] = int(1)\n",
    "col_names = [ss, 'n_roads', 'n_segments', 'dist_miles', 'dist_feet']\n",
    "stat_check_df = stat_check_df[col_names].groupby(col_names[:1]).agg(n_roads = ('n_roads', 'sum'),\n",
    "                                                           n_segments = ('n_segments', 'sum'),                                                           \n",
    "                                                           dist_miles = ('dist_miles', 'sum'),\n",
    "                                                           dist_feet = ('dist_feet', 'sum')).reset_index()\n",
    "stat_check_df['avg_added_segment'] = stat_check_df['n_segments'] / stat_check_df['n_roads']\n",
    "stat_check_df['avg_added_length'] = stat_check_df['dist_miles'] / stat_check_df['n_segments']\n",
    "stat_check_df['avg_added_length_feet'] = stat_check_df['avg_added_length'] * 5280\n",
    "\n",
    "stat_check_df['dist_miles'] = stat_check_df['dist_miles'].round(0).astype(int)\n",
    "stat_check_df['avg_added_length_feet'] = stat_check_df['avg_added_length_feet'].round(0).astype(int)\n",
    "\n",
    "\n",
    "display(stat_check_df)"
   ]
  },
  {
   "cell_type": "code",
   "execution_count": 74,
   "id": "07d7a894",
   "metadata": {},
   "outputs": [
    {
     "name": "stdout",
     "output_type": "stream",
     "text": [
      "590 112 399\n",
      "989\n",
      "511\n",
      "1101\n",
      "296 9 8\n",
      "304\n",
      "17\n",
      "313\n"
     ]
    }
   ],
   "source": [
    "# break this out by ord_stname_concat\n",
    "g0 = '2_0'\n",
    "g1 = '2_1'\n",
    "\n",
    "s0 = set(gdf.loc[gdf['street_status_reclass'] == g0, 'ord_stname_concat'].tolist())\n",
    "s1 = set(gdf.loc[gdf['street_status_reclass'] == g1, 'ord_stname_concat'].tolist())\n",
    "# the intersection\n",
    "s2 = s0.intersection(s1)\n",
    "# update\n",
    "s0 = s0 - s2\n",
    "s1 = s1 - s2\n",
    "\n",
    "print(len(s0), len(s1), len(s2)) \n",
    "print(len(s0) + len(s2))\n",
    "print(len(s1) + len(s2))\n",
    "print(len(s0) + len(s1) + len(s2))\n",
    "\n",
    "\n",
    "g0 = '3_0'\n",
    "g1 = '3_1'\n",
    "\n",
    "s0 = set(gdf.loc[gdf['street_status_reclass'] == g0, 'ord_stname_concat'].tolist())\n",
    "s1 = set(gdf.loc[gdf['street_status_reclass'] == g1, 'ord_stname_concat'].tolist())\n",
    "# the intersection\n",
    "s2 = s0.intersection(s1)\n",
    "# update\n",
    "s0 = s0 - s2\n",
    "s1 = s1 - s2\n",
    "\n",
    "print(len(s0), len(s1), len(s2)) \n",
    "print(len(s0) + len(s2))\n",
    "print(len(s1) + len(s2))\n",
    "print(len(s0) + len(s1) + len(s2))\n",
    "\n"
   ]
  },
  {
   "cell_type": "code",
   "execution_count": 75,
   "id": "588a5386",
   "metadata": {},
   "outputs": [
    {
     "data": {
      "text/html": [
       "<div>\n",
       "<style scoped>\n",
       "    .dataframe tbody tr th:only-of-type {\n",
       "        vertical-align: middle;\n",
       "    }\n",
       "\n",
       "    .dataframe tbody tr th {\n",
       "        vertical-align: top;\n",
       "    }\n",
       "\n",
       "    .dataframe thead th {\n",
       "        text-align: right;\n",
       "    }\n",
       "</style>\n",
       "<table border=\"1\" class=\"dataframe\">\n",
       "  <thead>\n",
       "    <tr style=\"text-align: right;\">\n",
       "      <th></th>\n",
       "      <th>count</th>\n",
       "      <th>mean</th>\n",
       "      <th>std</th>\n",
       "      <th>min</th>\n",
       "      <th>25%</th>\n",
       "      <th>50%</th>\n",
       "      <th>75%</th>\n",
       "      <th>max</th>\n",
       "      <th>units</th>\n",
       "    </tr>\n",
       "    <tr>\n",
       "      <th>street_status_reclass</th>\n",
       "      <th></th>\n",
       "      <th></th>\n",
       "      <th></th>\n",
       "      <th></th>\n",
       "      <th></th>\n",
       "      <th></th>\n",
       "      <th></th>\n",
       "      <th></th>\n",
       "      <th></th>\n",
       "    </tr>\n",
       "  </thead>\n",
       "  <tbody>\n",
       "    <tr>\n",
       "      <th>0_0</th>\n",
       "      <td>3825.0</td>\n",
       "      <td>0.08</td>\n",
       "      <td>0.07</td>\n",
       "      <td>0.00</td>\n",
       "      <td>0.04</td>\n",
       "      <td>0.06</td>\n",
       "      <td>0.10</td>\n",
       "      <td>0.97</td>\n",
       "      <td>miles</td>\n",
       "    </tr>\n",
       "    <tr>\n",
       "      <th>1_0</th>\n",
       "      <td>21931.0</td>\n",
       "      <td>0.07</td>\n",
       "      <td>0.04</td>\n",
       "      <td>0.00</td>\n",
       "      <td>0.05</td>\n",
       "      <td>0.06</td>\n",
       "      <td>0.09</td>\n",
       "      <td>0.90</td>\n",
       "      <td>miles</td>\n",
       "    </tr>\n",
       "    <tr>\n",
       "      <th>2_0</th>\n",
       "      <td>2806.0</td>\n",
       "      <td>0.29</td>\n",
       "      <td>0.42</td>\n",
       "      <td>0.00</td>\n",
       "      <td>0.06</td>\n",
       "      <td>0.13</td>\n",
       "      <td>0.33</td>\n",
       "      <td>4.97</td>\n",
       "      <td>miles</td>\n",
       "    </tr>\n",
       "    <tr>\n",
       "      <th>2_1</th>\n",
       "      <td>808.0</td>\n",
       "      <td>0.03</td>\n",
       "      <td>0.02</td>\n",
       "      <td>0.00</td>\n",
       "      <td>0.02</td>\n",
       "      <td>0.02</td>\n",
       "      <td>0.03</td>\n",
       "      <td>0.26</td>\n",
       "      <td>miles</td>\n",
       "    </tr>\n",
       "    <tr>\n",
       "      <th>3_0</th>\n",
       "      <td>393.0</td>\n",
       "      <td>2.09</td>\n",
       "      <td>2.30</td>\n",
       "      <td>0.01</td>\n",
       "      <td>0.50</td>\n",
       "      <td>1.20</td>\n",
       "      <td>2.72</td>\n",
       "      <td>11.13</td>\n",
       "      <td>miles</td>\n",
       "    </tr>\n",
       "    <tr>\n",
       "      <th>3_1</th>\n",
       "      <td>17.0</td>\n",
       "      <td>0.04</td>\n",
       "      <td>0.07</td>\n",
       "      <td>0.01</td>\n",
       "      <td>0.02</td>\n",
       "      <td>0.03</td>\n",
       "      <td>0.03</td>\n",
       "      <td>0.31</td>\n",
       "      <td>miles</td>\n",
       "    </tr>\n",
       "    <tr>\n",
       "      <th>0_0</th>\n",
       "      <td>3825.0</td>\n",
       "      <td>432.00</td>\n",
       "      <td>360.00</td>\n",
       "      <td>17.00</td>\n",
       "      <td>232.00</td>\n",
       "      <td>333.00</td>\n",
       "      <td>532.00</td>\n",
       "      <td>5145.00</td>\n",
       "      <td>feet</td>\n",
       "    </tr>\n",
       "    <tr>\n",
       "      <th>1_0</th>\n",
       "      <td>21931.0</td>\n",
       "      <td>380.00</td>\n",
       "      <td>231.00</td>\n",
       "      <td>8.00</td>\n",
       "      <td>256.00</td>\n",
       "      <td>322.00</td>\n",
       "      <td>480.00</td>\n",
       "      <td>4727.00</td>\n",
       "      <td>feet</td>\n",
       "    </tr>\n",
       "    <tr>\n",
       "      <th>2_0</th>\n",
       "      <td>2806.0</td>\n",
       "      <td>1523.00</td>\n",
       "      <td>2200.00</td>\n",
       "      <td>4.00</td>\n",
       "      <td>321.00</td>\n",
       "      <td>678.00</td>\n",
       "      <td>1768.00</td>\n",
       "      <td>26261.00</td>\n",
       "      <td>feet</td>\n",
       "    </tr>\n",
       "    <tr>\n",
       "      <th>2_1</th>\n",
       "      <td>808.0</td>\n",
       "      <td>145.00</td>\n",
       "      <td>108.00</td>\n",
       "      <td>15.00</td>\n",
       "      <td>89.00</td>\n",
       "      <td>124.00</td>\n",
       "      <td>163.00</td>\n",
       "      <td>1357.00</td>\n",
       "      <td>feet</td>\n",
       "    </tr>\n",
       "    <tr>\n",
       "      <th>3_0</th>\n",
       "      <td>393.0</td>\n",
       "      <td>11057.00</td>\n",
       "      <td>12134.00</td>\n",
       "      <td>54.00</td>\n",
       "      <td>2651.00</td>\n",
       "      <td>6317.00</td>\n",
       "      <td>14342.00</td>\n",
       "      <td>58755.00</td>\n",
       "      <td>feet</td>\n",
       "    </tr>\n",
       "    <tr>\n",
       "      <th>3_1</th>\n",
       "      <td>17.0</td>\n",
       "      <td>220.00</td>\n",
       "      <td>365.00</td>\n",
       "      <td>41.00</td>\n",
       "      <td>95.00</td>\n",
       "      <td>137.00</td>\n",
       "      <td>171.00</td>\n",
       "      <td>1623.00</td>\n",
       "      <td>feet</td>\n",
       "    </tr>\n",
       "  </tbody>\n",
       "</table>\n",
       "</div>"
      ],
      "text/plain": [
       "                         count      mean       std    min      25%      50%  \\\n",
       "street_status_reclass                                                         \n",
       "0_0                     3825.0      0.08      0.07   0.00     0.04     0.06   \n",
       "1_0                    21931.0      0.07      0.04   0.00     0.05     0.06   \n",
       "2_0                     2806.0      0.29      0.42   0.00     0.06     0.13   \n",
       "2_1                      808.0      0.03      0.02   0.00     0.02     0.02   \n",
       "3_0                      393.0      2.09      2.30   0.01     0.50     1.20   \n",
       "3_1                       17.0      0.04      0.07   0.01     0.02     0.03   \n",
       "0_0                     3825.0    432.00    360.00  17.00   232.00   333.00   \n",
       "1_0                    21931.0    380.00    231.00   8.00   256.00   322.00   \n",
       "2_0                     2806.0   1523.00   2200.00   4.00   321.00   678.00   \n",
       "2_1                      808.0    145.00    108.00  15.00    89.00   124.00   \n",
       "3_0                      393.0  11057.00  12134.00  54.00  2651.00  6317.00   \n",
       "3_1                       17.0    220.00    365.00  41.00    95.00   137.00   \n",
       "\n",
       "                            75%       max  units  \n",
       "street_status_reclass                             \n",
       "0_0                        0.10      0.97  miles  \n",
       "1_0                        0.09      0.90  miles  \n",
       "2_0                        0.33      4.97  miles  \n",
       "2_1                        0.03      0.26  miles  \n",
       "3_0                        2.72     11.13  miles  \n",
       "3_1                        0.03      0.31  miles  \n",
       "0_0                      532.00   5145.00   feet  \n",
       "1_0                      480.00   4727.00   feet  \n",
       "2_0                     1768.00  26261.00   feet  \n",
       "2_1                      163.00   1357.00   feet  \n",
       "3_0                    14342.00  58755.00   feet  \n",
       "3_1                      171.00   1623.00   feet  "
      ]
     },
     "metadata": {},
     "output_type": "display_data"
    }
   ],
   "source": [
    "# can we generate summary status by street_status\n",
    "ss_df_list = []\n",
    "ss_df = gdf.groupby('street_status_reclass')['dist_miles'].describe()\n",
    "ss_df = ss_df.round(2)\n",
    "ss_df['units'] = 'miles'\n",
    "ss_df_list.append(ss_df)\n",
    "ss_df = gdf.groupby('street_status_reclass')['dist'].describe()\n",
    "ss_df = ss_df.round(0)\n",
    "ss_df['units'] = 'feet'\n",
    "ss_df_list.append(ss_df)\n",
    "ss_df = pd.concat(objs = ss_df_list, axis = 0)\n",
    "display(ss_df)\n"
   ]
  },
  {
   "cell_type": "code",
   "execution_count": null,
   "id": "0bab880c",
   "metadata": {},
   "outputs": [],
   "source": []
  },
  {
   "cell_type": "code",
   "execution_count": null,
   "id": "77db5ca6",
   "metadata": {},
   "outputs": [],
   "source": []
  },
  {
   "cell_type": "code",
   "execution_count": null,
   "id": "9ebb14e8",
   "metadata": {},
   "outputs": [],
   "source": []
  },
  {
   "cell_type": "code",
   "execution_count": null,
   "id": "e0a119bb",
   "metadata": {},
   "outputs": [],
   "source": []
  },
  {
   "cell_type": "code",
   "execution_count": null,
   "id": "1bb438e0",
   "metadata": {},
   "outputs": [],
   "source": []
  },
  {
   "cell_type": "code",
   "execution_count": null,
   "id": "951b07ed",
   "metadata": {},
   "outputs": [],
   "source": []
  },
  {
   "cell_type": "code",
   "execution_count": null,
   "id": "a70077ae",
   "metadata": {},
   "outputs": [],
   "source": [
    "# let's check the double counted streets!\n",
    "multi_segments = gdf['node_pair_hash'].value_counts().to_frame(name = 'n_segments').reset_index(names='node_pair_hash')\n",
    "multi_segments = multi_segments.loc[multi_segments['n_segments'] > 1, 'node_pair_hash'].tolist()"
   ]
  },
  {
   "cell_type": "code",
   "execution_count": null,
   "id": "3bb4ee98",
   "metadata": {},
   "outputs": [],
   "source": [
    "gdf['is_multi'] = int(0)\n",
    "gdf.loc[gdf['node_pair_hash'].isin(multi_segments), 'is_multi'] = 1"
   ]
  },
  {
   "cell_type": "code",
   "execution_count": null,
   "id": "284ae6b8",
   "metadata": {},
   "outputs": [],
   "source": [
    "gdf.shape"
   ]
  },
  {
   "cell_type": "code",
   "execution_count": null,
   "id": "f7a1dd85",
   "metadata": {},
   "outputs": [],
   "source": [
    "gdf.columns.to_list()"
   ]
  },
  {
   "cell_type": "code",
   "execution_count": null,
   "id": "ab4f8bac",
   "metadata": {},
   "outputs": [],
   "source": [
    "# let's clean things up \n",
    "# determine which columns have matching snd values\n",
    "col_names = ['snd_id', 'gen_snd_id', 'ex_snd_id']\n",
    "for s_cn, t_cn in combinations(col_names, r = 2):\n",
    "    print(s_cn, t_cn)\n",
    "    print((gdf[s_cn] == gdf[t_cn]).value_counts())"
   ]
  },
  {
   "cell_type": "code",
   "execution_count": null,
   "id": "8d27ab1e",
   "metadata": {},
   "outputs": [],
   "source": [
    "# select and reorder columns\n",
    "col_names = ['snd_id',\n",
    "'gen_snd_id',\n",
    "'sn_id',\n",
    "'en_id',\n",
    "'node_pair_hash',\n",
    "'snd_group',\n",
    "'group_id',\n",
    "'ord_street_name',\n",
    "'ord_street_type',\n",
    "'ord_stname_type',\n",
    "'ord_stname_concat',\n",
    "'ord_stname_unique',\n",
    "'ord_stname_type_group',\n",
    "'ord_street_type_rank',\n",
    "'city_sector',\n",
    "'city_sector_group',\n",
    "'street_status',\n",
    "'street_status_desc',\n",
    "'street_status_reclass',\n",
    "'street_status_reclass_desc',\n",
    "'dist',\n",
    "'dist_miles',\n",
    "'edge_match_outcome',\n",
    "'n_matches',\n",
    "'is_multi',\n",
    "'existing_segment',\n",
    "'snd_feacode',\n",
    "'segment_type',\n",
    "'n_segments',\n",
    "'geometry']\n",
    "gdf = gdf[col_names].sort_values(by = ['street_status_reclass', 'gen_snd_id'])"
   ]
  },
  {
   "cell_type": "code",
   "execution_count": null,
   "id": "07dc1910",
   "metadata": {},
   "outputs": [],
   "source": [
    "# to a geopackage - these will be used to map later\n",
    "write_gdf(gdf = gdf, output_file_path=rc.OUTPUT_FILE_PATH, output_file_name=rc.S13_MISSING_OUT_FILE_NAME)"
   ]
  },
  {
   "cell_type": "markdown",
   "id": "eeaa055c",
   "metadata": {},
   "source": [
    "# crosstab\n",
    "This produces counts of segments by snd_feacode and segment_type telling us the types of segments added"
   ]
  },
  {
   "cell_type": "markdown",
   "id": "2a4dc0f2",
   "metadata": {},
   "source": [
    "The two variables of interest are `snd_feacode` and `segment_type`. Both of these variables features codes describing the street segment. The table below enumerates the feature codes and segment types.\n",
    "\n",
    "\n",
    "|      snd_feacode | Description        |      snd_feacode | Description            |      snd_feacode | Description     |\n",
    "|-----------------:|--------------------|-----------------:|------------------------|-----------------:|-----------------|\n",
    "|                1 | Local Street       |                5 | Major Street           |                9 | State highway   |\n",
    "|               13 | Interstate highway |               77 | Stairs, Trail, Walkway |               85 | Railroad        |\n",
    "| **segment_type** | **Description**    | **segment_type** | **Description**        | **segment_type** | **Description** |\n",
    "|                1 | Street             |                2 | StreetRamp             |                3 | LimitedAccess   |\n",
    "|                4 | LimitedAccessRamp  |                5 | Alley                  |                6 | Stairs          |\n",
    "|                7 | Walkway            |                8 | Trail                  |                9 | Railroad        |\n",
    "|               10 | Dock               |               11 | LightRail              |               12 | Monorail        |\n",
    "|               13 | Trolley            |               14 | ParkingAccess          |               15 | Stub            |"
   ]
  },
  {
   "cell_type": "code",
   "execution_count": null,
   "id": "fe1a10ae",
   "metadata": {},
   "outputs": [],
   "source": [
    "gdf['street_status_desc'].value_counts()"
   ]
  },
  {
   "cell_type": "code",
   "execution_count": null,
   "id": "8a00454f",
   "metadata": {},
   "outputs": [],
   "source": [
    "gdf['street_status_reclass_desc'].value_counts()"
   ]
  },
  {
   "cell_type": "code",
   "execution_count": null,
   "id": "1e4a05f5",
   "metadata": {},
   "outputs": [],
   "source": [
    "# include the snd_fc_xx and the st_xx to preserve sort order\n",
    "snd_feacode_dict = {\n",
    "1: 'snd_fc_01_LocalStreet',\n",
    "5: 'snd_fc_05_MajorStreet',\n",
    "9: 'snd_fc_09_StateHighway',\n",
    "13: 'snd_fc_13_InterstateHighway',\n",
    "77: 'snd_fc_77_StairsTrailWalkway',\n",
    "85: 'snd_fc_85_Railroad'}\n",
    "\n",
    "segment_type_dict = {\n",
    "1: 'st_01_Street',\n",
    "2: 'st_02_StreetRamp',\n",
    "3: 'st_03_LimitedAccess',\n",
    "4: 'st_04_LimitedAccessRamp',\n",
    "5: 'st_05_Alley',\n",
    "6: 'st_06_Stairs',\n",
    "7: 'st_07_Walkway',\n",
    "8: 'st_08_Trail',\n",
    "9: 'st_09_Railroad',\n",
    "10: 'st_10_Dock',\n",
    "11: 'st_11_LightRail',\n",
    "12: 'st_12_Monorail',\n",
    "13: 'st_13_Trolley',\n",
    "14: 'st_14_ParkingAccess',\n",
    "15: 'st_15_Stub'\n",
    "}"
   ]
  },
  {
   "cell_type": "code",
   "execution_count": null,
   "id": "79d53d10",
   "metadata": {},
   "outputs": [],
   "source": [
    "gdf['segment_type_desc'] = gdf['segment_type'].map(segment_type_dict)\n",
    "gdf['snd_feacode_desc'] = gdf['snd_feacode'].map(snd_feacode_dict)"
   ]
  },
  {
   "cell_type": "code",
   "execution_count": null,
   "id": "ca9e4d09",
   "metadata": {},
   "outputs": [],
   "source": [
    "idx_col_names = ['street_status_reclass', 'street_status_reclass_desc', 'segment_type_desc']\n",
    "outcome = pd.pivot_table(data = gdf.loc[gdf['street_status_reclass'].isin(('2_1', '3_1')), ], values = 'n_segments',\n",
    "                         index = idx_col_names, columns = 'snd_feacode_desc',\n",
    "                         aggfunc='sum', fill_value=0, margins=True, margins_name='Total Segments')"
   ]
  },
  {
   "cell_type": "code",
   "execution_count": null,
   "id": "b9ed9feb",
   "metadata": {},
   "outputs": [],
   "source": [
    "outcome.columns"
   ]
  },
  {
   "cell_type": "code",
   "execution_count": null,
   "id": "f76ef7e0",
   "metadata": {},
   "outputs": [],
   "source": [
    "display(outcome)"
   ]
  },
  {
   "cell_type": "code",
   "execution_count": null,
   "id": "3b46b7bf",
   "metadata": {},
   "outputs": [],
   "source": [
    "# export to an excel file for enhanced pivoting\n",
    "col_names = ['street_status_reclass', 'street_status_reclass_desc', 'segment_type_desc', 'snd_feacode_desc', 'n_segments', 'dist_miles']\n",
    "out_df = gdf.loc[gdf['street_status_reclass'].isin(('2_1', '3_1')), col_names]\n",
    "\n",
    "ofpn = os.path.join(rc.ANALYSIS_OUTPUT_FILE_PATH, rc.S13_OVERLAPPING_STREETS_TABULATION_FILE_NAME)\n",
    "out_df.to_excel(excel_writer = ofpn, index = False)"
   ]
  },
  {
   "cell_type": "code",
   "execution_count": null,
   "id": "f94b1bb2",
   "metadata": {},
   "outputs": [],
   "source": []
  }
 ],
 "metadata": {
  "kernelspec": {
   "display_name": "analysis",
   "language": "python",
   "name": "python3"
  },
  "language_info": {
   "codemirror_mode": {
    "name": "ipython",
    "version": 3
   },
   "file_extension": ".py",
   "mimetype": "text/x-python",
   "name": "python",
   "nbconvert_exporter": "python",
   "pygments_lexer": "ipython3",
   "version": "3.12.7"
  }
 },
 "nbformat": 4,
 "nbformat_minor": 5
}
