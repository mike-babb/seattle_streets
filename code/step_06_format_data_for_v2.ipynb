{
 "cells": [
  {
   "cell_type": "markdown",
   "id": "fed9e25b-c5b9-4aee-89cd-15a7da3945c0",
   "metadata": {},
   "source": [
    "# Part 06: Prep data for export for analysis for v2\n",
    "michael babb  \n",
    "2024 11 24"
   ]
  },
  {
   "cell_type": "code",
   "execution_count": 102,
   "id": "e88ca8b2-b75d-4e72-8fc7-65c4cea61cde",
   "metadata": {},
   "outputs": [],
   "source": [
    "# standard\n",
    "import os\n",
    "import re"
   ]
  },
  {
   "cell_type": "code",
   "execution_count": 103,
   "id": "0778d9a5-0c62-4724-be28-c21598d23b6f",
   "metadata": {},
   "outputs": [],
   "source": [
    "# external\n",
    "import geopandas as gpd\n",
    "import matplotlib as mpl\n",
    "from matplotlib.gridspec import GridSpec\n",
    "import matplotlib.pyplot as plt\n",
    "import numpy as np\n",
    "import pandas as pd\n",
    "import seaborn as sns"
   ]
  },
  {
   "cell_type": "code",
   "execution_count": 104,
   "id": "2fc61400-c637-4828-820d-56c2cdd14942",
   "metadata": {},
   "outputs": [],
   "source": [
    "# custom\n",
    "import run_constants as rc\n",
    "from utils import *"
   ]
  },
  {
   "cell_type": "code",
   "execution_count": 105,
   "id": "47a873e8",
   "metadata": {},
   "outputs": [],
   "source": [
    "# process flow variables\n"
   ]
  },
  {
   "cell_type": "markdown",
   "id": "d56ea77e-ffd7-4326-b793-415f8a131ef2",
   "metadata": {},
   "source": [
    "# load the street network data"
   ]
  },
  {
   "cell_type": "code",
   "execution_count": 106,
   "id": "c9bf0f01",
   "metadata": {},
   "outputs": [
    {
     "data": {
      "text/plain": [
       "'Street_Network_Database_Seattle_working.gpkg'"
      ]
     },
     "execution_count": 106,
     "metadata": {},
     "output_type": "execute_result"
    }
   ],
   "source": [
    "rc.S03_SND_WORKING_IN_FILE_NAME"
   ]
  },
  {
   "cell_type": "code",
   "execution_count": 107,
   "id": "ddf62724-9105-44c9-b983-e4f520328fa9",
   "metadata": {},
   "outputs": [],
   "source": [
    "# load the list of streets - this is before any work is done to compute the missing sections. \n",
    "fpn = os.path.join(rc.OUTPUT_FILE_PATH, rc.S03_SND_WORKING_IN_FILE_NAME)"
   ]
  },
  {
   "cell_type": "code",
   "execution_count": 108,
   "id": "2cbdb5c1-c973-4882-b442-cf5396e90d3e",
   "metadata": {},
   "outputs": [],
   "source": [
    "gdf = gpd.read_file(filename = fpn)"
   ]
  },
  {
   "cell_type": "code",
   "execution_count": 109,
   "id": "ce02bdf0-a0ca-46a5-bf8f-54b576ee2de7",
   "metadata": {},
   "outputs": [
    {
     "data": {
      "text/plain": [
       "Index(['f_intr_id', 't_intr_id', 'snd_id', 'snd_feacode', 'citycode',\n",
       "       'stname_id', 'st_code', 'arterial_code', 'segment_type', 'agency_code',\n",
       "       'access_code', 'divided_code', 'structure_type', 'legalloc_code',\n",
       "       'vehicle_use_code', 'gis_seg_length', 'l_adrs_from', 'l_adrs_to',\n",
       "       'r_adrs_from', 'r_adrs_to', 'ord_pre_dir', 'ord_street_name',\n",
       "       'ord_street_type', 'ord_suf_dir', 'ord_stname_concat', 'l_city',\n",
       "       'l_state', 'l_zip', 'r_city', 'r_state', 'r_zip', 'sndseg_update',\n",
       "       'compkey', 'comptype', 'unitid', 'unitid2', 'city_portion', 'geometry'],\n",
       "      dtype='object')"
      ]
     },
     "execution_count": 109,
     "metadata": {},
     "output_type": "execute_result"
    }
   ],
   "source": [
    "gdf.columns"
   ]
  },
  {
   "cell_type": "code",
   "execution_count": 110,
   "id": "0b203ee7-3a98-4f02-970b-b9d463918afe",
   "metadata": {},
   "outputs": [],
   "source": [
    "gdf['n_roads'] = int(1)"
   ]
  },
  {
   "cell_type": "markdown",
   "id": "d5a06e0f",
   "metadata": {},
   "source": [
    "# group data by street type for use in version 2.0"
   ]
  },
  {
   "cell_type": "code",
   "execution_count": 111,
   "id": "84cd647f",
   "metadata": {},
   "outputs": [],
   "source": [
    "col_names = ['ord_street_name', 'ord_street_type', 'ord_stname_concat', 'city_portion']\n",
    "st_name_type_df = gdf[col_names].drop_duplicates()"
   ]
  },
  {
   "cell_type": "code",
   "execution_count": 112,
   "id": "60f6479b",
   "metadata": {},
   "outputs": [
    {
     "data": {
      "text/plain": [
       "(2455, 4)"
      ]
     },
     "execution_count": 112,
     "metadata": {},
     "output_type": "execute_result"
    }
   ],
   "source": [
    "# the number of unique streets\n",
    "st_name_type_df.shape"
   ]
  },
  {
   "cell_type": "code",
   "execution_count": 113,
   "id": "72e855f9",
   "metadata": {},
   "outputs": [],
   "source": [
    "st_name_type_df = st_name_type_df.sort_values(by = ['ord_street_name', 'ord_street_type', 'ord_stname_concat'])"
   ]
  },
  {
   "cell_type": "code",
   "execution_count": 114,
   "id": "808de9d6",
   "metadata": {},
   "outputs": [
    {
     "data": {
      "text/html": [
       "<div>\n",
       "<style scoped>\n",
       "    .dataframe tbody tr th:only-of-type {\n",
       "        vertical-align: middle;\n",
       "    }\n",
       "\n",
       "    .dataframe tbody tr th {\n",
       "        vertical-align: top;\n",
       "    }\n",
       "\n",
       "    .dataframe thead th {\n",
       "        text-align: right;\n",
       "    }\n",
       "</style>\n",
       "<table border=\"1\" class=\"dataframe\">\n",
       "  <thead>\n",
       "    <tr style=\"text-align: right;\">\n",
       "      <th></th>\n",
       "      <th>ord_street_name</th>\n",
       "      <th>ord_street_type</th>\n",
       "      <th>ord_stname_concat</th>\n",
       "      <th>city_portion</th>\n",
       "    </tr>\n",
       "  </thead>\n",
       "  <tbody>\n",
       "    <tr>\n",
       "      <th>16649</th>\n",
       "      <td>100TH</td>\n",
       "      <td>PL</td>\n",
       "      <td>NW 100TH PL</td>\n",
       "      <td>NW</td>\n",
       "    </tr>\n",
       "    <tr>\n",
       "      <th>25064</th>\n",
       "      <td>100TH</td>\n",
       "      <td>PL</td>\n",
       "      <td>SW 100TH PL</td>\n",
       "      <td>SW</td>\n",
       "    </tr>\n",
       "    <tr>\n",
       "      <th>3392</th>\n",
       "      <td>100TH</td>\n",
       "      <td>ST</td>\n",
       "      <td>N 100TH ST</td>\n",
       "      <td>N</td>\n",
       "    </tr>\n",
       "    <tr>\n",
       "      <th>1185</th>\n",
       "      <td>100TH</td>\n",
       "      <td>ST</td>\n",
       "      <td>NE 100TH ST</td>\n",
       "      <td>NE</td>\n",
       "    </tr>\n",
       "    <tr>\n",
       "      <th>1685</th>\n",
       "      <td>100TH</td>\n",
       "      <td>ST</td>\n",
       "      <td>NW 100TH ST</td>\n",
       "      <td>NW</td>\n",
       "    </tr>\n",
       "    <tr>\n",
       "      <th>1741</th>\n",
       "      <td>100TH</td>\n",
       "      <td>ST</td>\n",
       "      <td>S 100TH ST</td>\n",
       "      <td>S</td>\n",
       "    </tr>\n",
       "    <tr>\n",
       "      <th>967</th>\n",
       "      <td>100TH</td>\n",
       "      <td>ST</td>\n",
       "      <td>SW 100TH ST</td>\n",
       "      <td>SW</td>\n",
       "    </tr>\n",
       "    <tr>\n",
       "      <th>25063</th>\n",
       "      <td>101ST</td>\n",
       "      <td>PL</td>\n",
       "      <td>SW 101ST PL</td>\n",
       "      <td>SW</td>\n",
       "    </tr>\n",
       "    <tr>\n",
       "      <th>2324</th>\n",
       "      <td>101ST</td>\n",
       "      <td>ST</td>\n",
       "      <td>N 101ST ST</td>\n",
       "      <td>N</td>\n",
       "    </tr>\n",
       "    <tr>\n",
       "      <th>1785</th>\n",
       "      <td>101ST</td>\n",
       "      <td>ST</td>\n",
       "      <td>NW 101ST ST</td>\n",
       "      <td>NW</td>\n",
       "    </tr>\n",
       "  </tbody>\n",
       "</table>\n",
       "</div>"
      ],
      "text/plain": [
       "      ord_street_name ord_street_type ord_stname_concat city_portion\n",
       "16649           100TH              PL       NW 100TH PL           NW\n",
       "25064           100TH              PL       SW 100TH PL           SW\n",
       "3392            100TH              ST        N 100TH ST            N\n",
       "1185            100TH              ST       NE 100TH ST           NE\n",
       "1685            100TH              ST       NW 100TH ST           NW\n",
       "1741            100TH              ST        S 100TH ST            S\n",
       "967             100TH              ST       SW 100TH ST           SW\n",
       "25063           101ST              PL       SW 101ST PL           SW\n",
       "2324            101ST              ST        N 101ST ST            N\n",
       "1785            101ST              ST       NW 101ST ST           NW"
      ]
     },
     "execution_count": 114,
     "metadata": {},
     "output_type": "execute_result"
    }
   ],
   "source": [
    "st_name_type_df.head(n=10)"
   ]
  },
  {
   "cell_type": "code",
   "execution_count": 115,
   "id": "6310b146",
   "metadata": {},
   "outputs": [
    {
     "data": {
      "text/html": [
       "<div>\n",
       "<style scoped>\n",
       "    .dataframe tbody tr th:only-of-type {\n",
       "        vertical-align: middle;\n",
       "    }\n",
       "\n",
       "    .dataframe tbody tr th {\n",
       "        vertical-align: top;\n",
       "    }\n",
       "\n",
       "    .dataframe thead th {\n",
       "        text-align: right;\n",
       "    }\n",
       "</style>\n",
       "<table border=\"1\" class=\"dataframe\">\n",
       "  <thead>\n",
       "    <tr style=\"text-align: right;\">\n",
       "      <th></th>\n",
       "      <th>ord_street_name</th>\n",
       "      <th>osn_id</th>\n",
       "    </tr>\n",
       "  </thead>\n",
       "  <tbody>\n",
       "    <tr>\n",
       "      <th>0</th>\n",
       "      <td>100TH</td>\n",
       "      <td>0</td>\n",
       "    </tr>\n",
       "    <tr>\n",
       "      <th>1</th>\n",
       "      <td>101ST</td>\n",
       "      <td>1</td>\n",
       "    </tr>\n",
       "    <tr>\n",
       "      <th>2</th>\n",
       "      <td>102ND</td>\n",
       "      <td>2</td>\n",
       "    </tr>\n",
       "    <tr>\n",
       "      <th>3</th>\n",
       "      <td>103RD</td>\n",
       "      <td>3</td>\n",
       "    </tr>\n",
       "    <tr>\n",
       "      <th>4</th>\n",
       "      <td>104TH</td>\n",
       "      <td>4</td>\n",
       "    </tr>\n",
       "  </tbody>\n",
       "</table>\n",
       "</div>"
      ],
      "text/plain": [
       "  ord_street_name  osn_id\n",
       "0           100TH       0\n",
       "1           101ST       1\n",
       "2           102ND       2\n",
       "3           103RD       3\n",
       "4           104TH       4"
      ]
     },
     "execution_count": 115,
     "metadata": {},
     "output_type": "execute_result"
    }
   ],
   "source": [
    "# make some ids - ord_street_name\n",
    "osn_df = st_name_type_df['ord_street_name'].drop_duplicates().to_frame().sort_values(by = 'ord_street_name').reset_index(drop = True)\n",
    "osn_df['osn_id'] = range(0, osn_df.shape[0])\n",
    "osn_df.head()"
   ]
  },
  {
   "cell_type": "code",
   "execution_count": 116,
   "id": "ee9629f2",
   "metadata": {},
   "outputs": [
    {
     "data": {
      "text/html": [
       "<div>\n",
       "<style scoped>\n",
       "    .dataframe tbody tr th:only-of-type {\n",
       "        vertical-align: middle;\n",
       "    }\n",
       "\n",
       "    .dataframe tbody tr th {\n",
       "        vertical-align: top;\n",
       "    }\n",
       "\n",
       "    .dataframe thead th {\n",
       "        text-align: right;\n",
       "    }\n",
       "</style>\n",
       "<table border=\"1\" class=\"dataframe\">\n",
       "  <thead>\n",
       "    <tr style=\"text-align: right;\">\n",
       "      <th></th>\n",
       "      <th>ord_street_name</th>\n",
       "      <th>ord_street_type</th>\n",
       "      <th>osn_ost</th>\n",
       "      <th>osn_ost_id</th>\n",
       "    </tr>\n",
       "  </thead>\n",
       "  <tbody>\n",
       "    <tr>\n",
       "      <th>0</th>\n",
       "      <td>100TH</td>\n",
       "      <td>PL</td>\n",
       "      <td>100TH PL</td>\n",
       "      <td>0</td>\n",
       "    </tr>\n",
       "    <tr>\n",
       "      <th>1</th>\n",
       "      <td>100TH</td>\n",
       "      <td>ST</td>\n",
       "      <td>100TH ST</td>\n",
       "      <td>1</td>\n",
       "    </tr>\n",
       "    <tr>\n",
       "      <th>2</th>\n",
       "      <td>101ST</td>\n",
       "      <td>PL</td>\n",
       "      <td>101ST PL</td>\n",
       "      <td>2</td>\n",
       "    </tr>\n",
       "    <tr>\n",
       "      <th>3</th>\n",
       "      <td>101ST</td>\n",
       "      <td>ST</td>\n",
       "      <td>101ST ST</td>\n",
       "      <td>3</td>\n",
       "    </tr>\n",
       "    <tr>\n",
       "      <th>4</th>\n",
       "      <td>102ND</td>\n",
       "      <td>LN</td>\n",
       "      <td>102ND LN</td>\n",
       "      <td>4</td>\n",
       "    </tr>\n",
       "  </tbody>\n",
       "</table>\n",
       "</div>"
      ],
      "text/plain": [
       "  ord_street_name ord_street_type   osn_ost  osn_ost_id\n",
       "0           100TH              PL  100TH PL           0\n",
       "1           100TH              ST  100TH ST           1\n",
       "2           101ST              PL  101ST PL           2\n",
       "3           101ST              ST  101ST ST           3\n",
       "4           102ND              LN  102ND LN           4"
      ]
     },
     "execution_count": 116,
     "metadata": {},
     "output_type": "execute_result"
    }
   ],
   "source": [
    "# ord_street_name and ord_street_type\n",
    "col_names = ['ord_street_name', 'ord_street_type']\n",
    "osn_ost_df = st_name_type_df[col_names].drop_duplicates().sort_values(by = col_names).reset_index(drop = True)\n",
    "osn_ost_df['osn_ost'] = osn_ost_df['ord_street_name'] + ' ' + osn_ost_df['ord_street_type']\n",
    "osn_ost_df['osn_ost_id'] = range(0, osn_ost_df.shape[0])\n",
    "osn_ost_df.head()\n"
   ]
  },
  {
   "cell_type": "code",
   "execution_count": 117,
   "id": "36dcb242",
   "metadata": {},
   "outputs": [
    {
     "data": {
      "text/html": [
       "<div>\n",
       "<style scoped>\n",
       "    .dataframe tbody tr th:only-of-type {\n",
       "        vertical-align: middle;\n",
       "    }\n",
       "\n",
       "    .dataframe tbody tr th {\n",
       "        vertical-align: top;\n",
       "    }\n",
       "\n",
       "    .dataframe thead th {\n",
       "        text-align: right;\n",
       "    }\n",
       "</style>\n",
       "<table border=\"1\" class=\"dataframe\">\n",
       "  <thead>\n",
       "    <tr style=\"text-align: right;\">\n",
       "      <th></th>\n",
       "      <th>ord_stname_concat</th>\n",
       "      <th>ostc_id</th>\n",
       "    </tr>\n",
       "  </thead>\n",
       "  <tbody>\n",
       "    <tr>\n",
       "      <th>0</th>\n",
       "      <td>10TH AVE</td>\n",
       "      <td>0</td>\n",
       "    </tr>\n",
       "    <tr>\n",
       "      <th>1</th>\n",
       "      <td>10TH AVE E</td>\n",
       "      <td>1</td>\n",
       "    </tr>\n",
       "    <tr>\n",
       "      <th>2</th>\n",
       "      <td>10TH AVE NE</td>\n",
       "      <td>2</td>\n",
       "    </tr>\n",
       "    <tr>\n",
       "      <th>3</th>\n",
       "      <td>10TH AVE NW</td>\n",
       "      <td>3</td>\n",
       "    </tr>\n",
       "    <tr>\n",
       "      <th>4</th>\n",
       "      <td>10TH AVE S</td>\n",
       "      <td>4</td>\n",
       "    </tr>\n",
       "  </tbody>\n",
       "</table>\n",
       "</div>"
      ],
      "text/plain": [
       "  ord_stname_concat  ostc_id\n",
       "0          10TH AVE        0\n",
       "1        10TH AVE E        1\n",
       "2       10TH AVE NE        2\n",
       "3       10TH AVE NW        3\n",
       "4        10TH AVE S        4"
      ]
     },
     "execution_count": 117,
     "metadata": {},
     "output_type": "execute_result"
    }
   ],
   "source": [
    "# ord_stname_concat\n",
    "ostc_df = st_name_type_df['ord_stname_concat'].drop_duplicates().to_frame().sort_values(by = 'ord_stname_concat').reset_index(drop = True)\n",
    "ostc_df['ostc_id'] = range(0, ostc_df.shape[0])\n",
    "ostc_df.head()\n"
   ]
  },
  {
   "cell_type": "code",
   "execution_count": 118,
   "id": "ba1a6e69",
   "metadata": {},
   "outputs": [],
   "source": [
    "# join to get the id values\n",
    "st_name_type_df = pd.merge(left = st_name_type_df, right = osn_df)\n",
    "st_name_type_df = pd.merge(left = st_name_type_df, right = osn_ost_df)\n",
    "st_name_type_df = pd.merge(left = st_name_type_df, right = ostc_df)\n",
    "\n"
   ]
  },
  {
   "cell_type": "code",
   "execution_count": 119,
   "id": "dd1882b6",
   "metadata": {},
   "outputs": [
    {
     "data": {
      "text/plain": [
       "(2455, 8)"
      ]
     },
     "execution_count": 119,
     "metadata": {},
     "output_type": "execute_result"
    }
   ],
   "source": [
    "st_name_type_df.shape"
   ]
  },
  {
   "cell_type": "code",
   "execution_count": 120,
   "id": "653aa22c",
   "metadata": {},
   "outputs": [
    {
     "data": {
      "text/html": [
       "<div>\n",
       "<style scoped>\n",
       "    .dataframe tbody tr th:only-of-type {\n",
       "        vertical-align: middle;\n",
       "    }\n",
       "\n",
       "    .dataframe tbody tr th {\n",
       "        vertical-align: top;\n",
       "    }\n",
       "\n",
       "    .dataframe thead th {\n",
       "        text-align: right;\n",
       "    }\n",
       "</style>\n",
       "<table border=\"1\" class=\"dataframe\">\n",
       "  <thead>\n",
       "    <tr style=\"text-align: right;\">\n",
       "      <th></th>\n",
       "      <th>ord_street_name</th>\n",
       "      <th>ord_street_type</th>\n",
       "      <th>ord_stname_concat</th>\n",
       "      <th>city_portion</th>\n",
       "      <th>osn_id</th>\n",
       "      <th>osn_ost</th>\n",
       "      <th>osn_ost_id</th>\n",
       "      <th>ostc_id</th>\n",
       "    </tr>\n",
       "  </thead>\n",
       "  <tbody>\n",
       "    <tr>\n",
       "      <th>0</th>\n",
       "      <td>100TH</td>\n",
       "      <td>PL</td>\n",
       "      <td>NW 100TH PL</td>\n",
       "      <td>NW</td>\n",
       "      <td>0</td>\n",
       "      <td>100TH PL</td>\n",
       "      <td>0</td>\n",
       "      <td>1450</td>\n",
       "    </tr>\n",
       "    <tr>\n",
       "      <th>1</th>\n",
       "      <td>100TH</td>\n",
       "      <td>PL</td>\n",
       "      <td>SW 100TH PL</td>\n",
       "      <td>SW</td>\n",
       "      <td>0</td>\n",
       "      <td>100TH PL</td>\n",
       "      <td>0</td>\n",
       "      <td>2041</td>\n",
       "    </tr>\n",
       "    <tr>\n",
       "      <th>2</th>\n",
       "      <td>100TH</td>\n",
       "      <td>ST</td>\n",
       "      <td>N 100TH ST</td>\n",
       "      <td>N</td>\n",
       "      <td>0</td>\n",
       "      <td>100TH ST</td>\n",
       "      <td>1</td>\n",
       "      <td>1127</td>\n",
       "    </tr>\n",
       "    <tr>\n",
       "      <th>3</th>\n",
       "      <td>100TH</td>\n",
       "      <td>ST</td>\n",
       "      <td>NE 100TH ST</td>\n",
       "      <td>NE</td>\n",
       "      <td>0</td>\n",
       "      <td>100TH ST</td>\n",
       "      <td>1</td>\n",
       "      <td>1253</td>\n",
       "    </tr>\n",
       "    <tr>\n",
       "      <th>4</th>\n",
       "      <td>100TH</td>\n",
       "      <td>ST</td>\n",
       "      <td>NW 100TH ST</td>\n",
       "      <td>NW</td>\n",
       "      <td>0</td>\n",
       "      <td>100TH ST</td>\n",
       "      <td>1</td>\n",
       "      <td>1451</td>\n",
       "    </tr>\n",
       "  </tbody>\n",
       "</table>\n",
       "</div>"
      ],
      "text/plain": [
       "  ord_street_name ord_street_type ord_stname_concat city_portion  osn_id  \\\n",
       "0           100TH              PL       NW 100TH PL           NW       0   \n",
       "1           100TH              PL       SW 100TH PL           SW       0   \n",
       "2           100TH              ST        N 100TH ST            N       0   \n",
       "3           100TH              ST       NE 100TH ST           NE       0   \n",
       "4           100TH              ST       NW 100TH ST           NW       0   \n",
       "\n",
       "    osn_ost  osn_ost_id  ostc_id  \n",
       "0  100TH PL           0     1450  \n",
       "1  100TH PL           0     2041  \n",
       "2  100TH ST           1     1127  \n",
       "3  100TH ST           1     1253  \n",
       "4  100TH ST           1     1451  "
      ]
     },
     "execution_count": 120,
     "metadata": {},
     "output_type": "execute_result"
    }
   ],
   "source": [
    "st_name_type_df.head()"
   ]
  },
  {
   "cell_type": "code",
   "execution_count": 121,
   "id": "3251b60a",
   "metadata": {},
   "outputs": [
    {
     "data": {
      "text/plain": [
       "array(['PL', 'ST', 'LN', 'WAY', 'AVE', 'CT', 'RD', 'BR', 'TER', 'CIR',\n",
       "       'DR', 'PKWY', 'BLVD', 'PZ', 'VIEW', 'LOOP'], dtype=object)"
      ]
     },
     "execution_count": 121,
     "metadata": {},
     "output_type": "execute_result"
    }
   ],
   "source": [
    "st_name_type_df['ord_street_type'].unique()"
   ]
  },
  {
   "cell_type": "code",
   "execution_count": 122,
   "id": "6994ede6",
   "metadata": {},
   "outputs": [
    {
     "data": {
      "text/plain": [
       "array(['NW', 'SW', 'N', 'NE', 'S', 'CNTR', 'E', 'W'], dtype=object)"
      ]
     },
     "execution_count": 122,
     "metadata": {},
     "output_type": "execute_result"
    }
   ],
   "source": [
    "st_name_type_df['city_portion'].unique()"
   ]
  },
  {
   "cell_type": "code",
   "execution_count": 123,
   "id": "6a2ff16c",
   "metadata": {},
   "outputs": [],
   "source": [
    "check = st_name_type_df.loc[st_name_type_df['city_portion'] == 'WB', ]"
   ]
  },
  {
   "cell_type": "code",
   "execution_count": 124,
   "id": "23770638",
   "metadata": {},
   "outputs": [
    {
     "data": {
      "text/html": [
       "<div>\n",
       "<style scoped>\n",
       "    .dataframe tbody tr th:only-of-type {\n",
       "        vertical-align: middle;\n",
       "    }\n",
       "\n",
       "    .dataframe tbody tr th {\n",
       "        vertical-align: top;\n",
       "    }\n",
       "\n",
       "    .dataframe thead th {\n",
       "        text-align: right;\n",
       "    }\n",
       "</style>\n",
       "<table border=\"1\" class=\"dataframe\">\n",
       "  <thead>\n",
       "    <tr style=\"text-align: right;\">\n",
       "      <th></th>\n",
       "      <th>ord_street_name</th>\n",
       "      <th>ord_street_type</th>\n",
       "      <th>ord_stname_concat</th>\n",
       "      <th>city_portion</th>\n",
       "      <th>osn_id</th>\n",
       "      <th>osn_ost</th>\n",
       "      <th>osn_ost_id</th>\n",
       "      <th>ostc_id</th>\n",
       "    </tr>\n",
       "  </thead>\n",
       "  <tbody>\n",
       "  </tbody>\n",
       "</table>\n",
       "</div>"
      ],
      "text/plain": [
       "Empty DataFrame\n",
       "Columns: [ord_street_name, ord_street_type, ord_stname_concat, city_portion, osn_id, osn_ost, osn_ost_id, ostc_id]\n",
       "Index: []"
      ]
     },
     "execution_count": 124,
     "metadata": {},
     "output_type": "execute_result"
    }
   ],
   "source": [
    "check.head()"
   ]
  },
  {
   "cell_type": "code",
   "execution_count": 125,
   "id": "b647f1ea",
   "metadata": {},
   "outputs": [
    {
     "data": {
      "text/plain": [
       "(1631,)"
      ]
     },
     "execution_count": 125,
     "metadata": {},
     "output_type": "execute_result"
    }
   ],
   "source": [
    "# let's connect the ord_street_name and the ord_street_type\n",
    "st_name_type_df['osn_ost'].unique().shape"
   ]
  },
  {
   "cell_type": "code",
   "execution_count": 126,
   "id": "88eb3eff",
   "metadata": {},
   "outputs": [],
   "source": [
    "# LET'S COUNT HOW MANY STREETS WE NEED TO PLOT AND MANUALLY REVIEW"
   ]
  },
  {
   "cell_type": "code",
   "execution_count": 127,
   "id": "2bc35c74",
   "metadata": {},
   "outputs": [],
   "source": [
    "st_name_type_df['n_roads'] = int(1)"
   ]
  },
  {
   "cell_type": "code",
   "execution_count": 128,
   "id": "9947a3af",
   "metadata": {},
   "outputs": [
    {
     "data": {
      "text/plain": [
       "Index(['ord_street_name', 'ord_street_type', 'ord_stname_concat',\n",
       "       'city_portion', 'osn_id', 'osn_ost', 'osn_ost_id', 'ostc_id',\n",
       "       'n_roads'],\n",
       "      dtype='object')"
      ]
     },
     "execution_count": 128,
     "metadata": {},
     "output_type": "execute_result"
    }
   ],
   "source": [
    "st_name_type_df.columns"
   ]
  },
  {
   "cell_type": "code",
   "execution_count": 129,
   "id": "98e51073",
   "metadata": {},
   "outputs": [],
   "source": [
    "pv_df = pd.pivot_table(data = st_name_type_df, values = ['n_roads'],\n",
    "                          index = ['ord_street_name', 'ord_street_type'],\n",
    "                          columns = ['city_portion'], aggfunc='sum', fill_value=0,\n",
    "                          margins=True)"
   ]
  },
  {
   "cell_type": "code",
   "execution_count": 130,
   "id": "4475e233",
   "metadata": {},
   "outputs": [
    {
     "data": {
      "text/html": [
       "<div>\n",
       "<style scoped>\n",
       "    .dataframe tbody tr th:only-of-type {\n",
       "        vertical-align: middle;\n",
       "    }\n",
       "\n",
       "    .dataframe tbody tr th {\n",
       "        vertical-align: top;\n",
       "    }\n",
       "\n",
       "    .dataframe thead tr th {\n",
       "        text-align: left;\n",
       "    }\n",
       "\n",
       "    .dataframe thead tr:last-of-type th {\n",
       "        text-align: right;\n",
       "    }\n",
       "</style>\n",
       "<table border=\"1\" class=\"dataframe\">\n",
       "  <thead>\n",
       "    <tr>\n",
       "      <th></th>\n",
       "      <th></th>\n",
       "      <th colspan=\"9\" halign=\"left\">n_roads</th>\n",
       "    </tr>\n",
       "    <tr>\n",
       "      <th></th>\n",
       "      <th>city_portion</th>\n",
       "      <th>CNTR</th>\n",
       "      <th>E</th>\n",
       "      <th>N</th>\n",
       "      <th>NE</th>\n",
       "      <th>NW</th>\n",
       "      <th>S</th>\n",
       "      <th>SW</th>\n",
       "      <th>W</th>\n",
       "      <th>All</th>\n",
       "    </tr>\n",
       "    <tr>\n",
       "      <th>ord_street_name</th>\n",
       "      <th>ord_street_type</th>\n",
       "      <th></th>\n",
       "      <th></th>\n",
       "      <th></th>\n",
       "      <th></th>\n",
       "      <th></th>\n",
       "      <th></th>\n",
       "      <th></th>\n",
       "      <th></th>\n",
       "      <th></th>\n",
       "    </tr>\n",
       "  </thead>\n",
       "  <tbody>\n",
       "    <tr>\n",
       "      <th rowspan=\"2\" valign=\"top\">100TH</th>\n",
       "      <th>PL</th>\n",
       "      <td>0</td>\n",
       "      <td>0</td>\n",
       "      <td>0</td>\n",
       "      <td>0</td>\n",
       "      <td>1</td>\n",
       "      <td>0</td>\n",
       "      <td>1</td>\n",
       "      <td>0</td>\n",
       "      <td>2</td>\n",
       "    </tr>\n",
       "    <tr>\n",
       "      <th>ST</th>\n",
       "      <td>0</td>\n",
       "      <td>0</td>\n",
       "      <td>1</td>\n",
       "      <td>1</td>\n",
       "      <td>1</td>\n",
       "      <td>1</td>\n",
       "      <td>1</td>\n",
       "      <td>0</td>\n",
       "      <td>5</td>\n",
       "    </tr>\n",
       "    <tr>\n",
       "      <th rowspan=\"2\" valign=\"top\">101ST</th>\n",
       "      <th>PL</th>\n",
       "      <td>0</td>\n",
       "      <td>0</td>\n",
       "      <td>0</td>\n",
       "      <td>0</td>\n",
       "      <td>0</td>\n",
       "      <td>0</td>\n",
       "      <td>1</td>\n",
       "      <td>0</td>\n",
       "      <td>1</td>\n",
       "    </tr>\n",
       "    <tr>\n",
       "      <th>ST</th>\n",
       "      <td>0</td>\n",
       "      <td>0</td>\n",
       "      <td>1</td>\n",
       "      <td>0</td>\n",
       "      <td>1</td>\n",
       "      <td>1</td>\n",
       "      <td>1</td>\n",
       "      <td>0</td>\n",
       "      <td>4</td>\n",
       "    </tr>\n",
       "    <tr>\n",
       "      <th>102ND</th>\n",
       "      <th>LN</th>\n",
       "      <td>0</td>\n",
       "      <td>0</td>\n",
       "      <td>0</td>\n",
       "      <td>0</td>\n",
       "      <td>0</td>\n",
       "      <td>0</td>\n",
       "      <td>1</td>\n",
       "      <td>0</td>\n",
       "      <td>1</td>\n",
       "    </tr>\n",
       "  </tbody>\n",
       "</table>\n",
       "</div>"
      ],
      "text/plain": [
       "                                n_roads                         \n",
       "city_portion                       CNTR  E  N NE NW  S SW  W All\n",
       "ord_street_name ord_street_type                                 \n",
       "100TH           PL                    0  0  0  0  1  0  1  0   2\n",
       "                ST                    0  0  1  1  1  1  1  0   5\n",
       "101ST           PL                    0  0  0  0  0  0  1  0   1\n",
       "                ST                    0  0  1  0  1  1  1  0   4\n",
       "102ND           LN                    0  0  0  0  0  0  1  0   1"
      ]
     },
     "execution_count": 130,
     "metadata": {},
     "output_type": "execute_result"
    }
   ],
   "source": [
    "pv_df.head()"
   ]
  },
  {
   "cell_type": "code",
   "execution_count": 131,
   "id": "88478901",
   "metadata": {},
   "outputs": [],
   "source": [
    "# clean up column names\n",
    "pv_df.columns = [cn[1] for cn in pv_df.columns]"
   ]
  },
  {
   "cell_type": "code",
   "execution_count": 132,
   "id": "801044af",
   "metadata": {},
   "outputs": [
    {
     "data": {
      "text/plain": [
       "Index(['CNTR', 'E', 'N', 'NE', 'NW', 'S', 'SW', 'W', 'All'], dtype='object')"
      ]
     },
     "execution_count": 132,
     "metadata": {},
     "output_type": "execute_result"
    }
   ],
   "source": [
    "pv_df.columns"
   ]
  },
  {
   "cell_type": "code",
   "execution_count": 133,
   "id": "f6cf030b",
   "metadata": {},
   "outputs": [],
   "source": [
    "pv_df = pv_df.reset_index()"
   ]
  },
  {
   "cell_type": "code",
   "execution_count": 134,
   "id": "ef4c8179",
   "metadata": {},
   "outputs": [
    {
     "data": {
      "text/html": [
       "<div>\n",
       "<style scoped>\n",
       "    .dataframe tbody tr th:only-of-type {\n",
       "        vertical-align: middle;\n",
       "    }\n",
       "\n",
       "    .dataframe tbody tr th {\n",
       "        vertical-align: top;\n",
       "    }\n",
       "\n",
       "    .dataframe thead th {\n",
       "        text-align: right;\n",
       "    }\n",
       "</style>\n",
       "<table border=\"1\" class=\"dataframe\">\n",
       "  <thead>\n",
       "    <tr style=\"text-align: right;\">\n",
       "      <th></th>\n",
       "      <th>ord_street_name</th>\n",
       "      <th>ord_street_type</th>\n",
       "      <th>CNTR</th>\n",
       "      <th>E</th>\n",
       "      <th>N</th>\n",
       "      <th>NE</th>\n",
       "      <th>NW</th>\n",
       "      <th>S</th>\n",
       "      <th>SW</th>\n",
       "      <th>W</th>\n",
       "      <th>All</th>\n",
       "    </tr>\n",
       "  </thead>\n",
       "  <tbody>\n",
       "    <tr>\n",
       "      <th>1627</th>\n",
       "      <td>YESLER</td>\n",
       "      <td>WAY</td>\n",
       "      <td>1</td>\n",
       "      <td>1</td>\n",
       "      <td>0</td>\n",
       "      <td>0</td>\n",
       "      <td>0</td>\n",
       "      <td>0</td>\n",
       "      <td>0</td>\n",
       "      <td>0</td>\n",
       "      <td>2</td>\n",
       "    </tr>\n",
       "    <tr>\n",
       "      <th>1628</th>\n",
       "      <td>YESLER TERRACE ACC</td>\n",
       "      <td>RD</td>\n",
       "      <td>1</td>\n",
       "      <td>0</td>\n",
       "      <td>0</td>\n",
       "      <td>0</td>\n",
       "      <td>0</td>\n",
       "      <td>0</td>\n",
       "      <td>0</td>\n",
       "      <td>0</td>\n",
       "      <td>1</td>\n",
       "    </tr>\n",
       "    <tr>\n",
       "      <th>1629</th>\n",
       "      <td>YORK</td>\n",
       "      <td>RD</td>\n",
       "      <td>0</td>\n",
       "      <td>0</td>\n",
       "      <td>0</td>\n",
       "      <td>0</td>\n",
       "      <td>0</td>\n",
       "      <td>1</td>\n",
       "      <td>0</td>\n",
       "      <td>0</td>\n",
       "      <td>1</td>\n",
       "    </tr>\n",
       "    <tr>\n",
       "      <th>1630</th>\n",
       "      <td>YUKON</td>\n",
       "      <td>AVE</td>\n",
       "      <td>0</td>\n",
       "      <td>0</td>\n",
       "      <td>0</td>\n",
       "      <td>0</td>\n",
       "      <td>0</td>\n",
       "      <td>1</td>\n",
       "      <td>0</td>\n",
       "      <td>0</td>\n",
       "      <td>1</td>\n",
       "    </tr>\n",
       "    <tr>\n",
       "      <th>1631</th>\n",
       "      <td>All</td>\n",
       "      <td></td>\n",
       "      <td>233</td>\n",
       "      <td>185</td>\n",
       "      <td>232</td>\n",
       "      <td>377</td>\n",
       "      <td>242</td>\n",
       "      <td>606</td>\n",
       "      <td>377</td>\n",
       "      <td>203</td>\n",
       "      <td>2455</td>\n",
       "    </tr>\n",
       "  </tbody>\n",
       "</table>\n",
       "</div>"
      ],
      "text/plain": [
       "         ord_street_name ord_street_type  CNTR    E    N   NE   NW    S   SW  \\\n",
       "1627              YESLER             WAY     1    1    0    0    0    0    0   \n",
       "1628  YESLER TERRACE ACC              RD     1    0    0    0    0    0    0   \n",
       "1629                YORK              RD     0    0    0    0    0    1    0   \n",
       "1630               YUKON             AVE     0    0    0    0    0    1    0   \n",
       "1631                 All                   233  185  232  377  242  606  377   \n",
       "\n",
       "        W   All  \n",
       "1627    0     2  \n",
       "1628    0     1  \n",
       "1629    0     1  \n",
       "1630    0     1  \n",
       "1631  203  2455  "
      ]
     },
     "execution_count": 134,
     "metadata": {},
     "output_type": "execute_result"
    }
   ],
   "source": [
    "pv_df.tail()"
   ]
  },
  {
   "cell_type": "code",
   "execution_count": 135,
   "id": "a8bbc058",
   "metadata": {},
   "outputs": [
    {
     "data": {
      "text/plain": [
       "(1632, 11)"
      ]
     },
     "execution_count": 135,
     "metadata": {},
     "output_type": "execute_result"
    }
   ],
   "source": [
    "pv_df.shape"
   ]
  },
  {
   "cell_type": "code",
   "execution_count": 136,
   "id": "c2952609",
   "metadata": {},
   "outputs": [],
   "source": [
    "# grouping by ord_street_name and ord_street_type tells us the number of streets\n",
    "# there are across the city portions\n",
    "# we only need to worry about streets that span at least two sections\n",
    "osn_count_df = pv_df.loc[(pv_df['All'] >= 2), :].copy()"
   ]
  },
  {
   "cell_type": "code",
   "execution_count": 137,
   "id": "6bcab0d2",
   "metadata": {},
   "outputs": [],
   "source": [
    "# drop the All row\n",
    "osn_count_df = osn_count_df.loc[osn_count_df['ord_street_name'] != 'All', :]"
   ]
  },
  {
   "cell_type": "code",
   "execution_count": 138,
   "id": "f099c35a",
   "metadata": {},
   "outputs": [
    {
     "data": {
      "text/html": [
       "<div>\n",
       "<style scoped>\n",
       "    .dataframe tbody tr th:only-of-type {\n",
       "        vertical-align: middle;\n",
       "    }\n",
       "\n",
       "    .dataframe tbody tr th {\n",
       "        vertical-align: top;\n",
       "    }\n",
       "\n",
       "    .dataframe thead th {\n",
       "        text-align: right;\n",
       "    }\n",
       "</style>\n",
       "<table border=\"1\" class=\"dataframe\">\n",
       "  <thead>\n",
       "    <tr style=\"text-align: right;\">\n",
       "      <th></th>\n",
       "      <th>ord_street_name</th>\n",
       "      <th>ord_street_type</th>\n",
       "      <th>CNTR</th>\n",
       "      <th>E</th>\n",
       "      <th>N</th>\n",
       "      <th>NE</th>\n",
       "      <th>NW</th>\n",
       "      <th>S</th>\n",
       "      <th>SW</th>\n",
       "      <th>W</th>\n",
       "      <th>All</th>\n",
       "    </tr>\n",
       "  </thead>\n",
       "  <tbody>\n",
       "    <tr>\n",
       "      <th>0</th>\n",
       "      <td>100TH</td>\n",
       "      <td>PL</td>\n",
       "      <td>0</td>\n",
       "      <td>0</td>\n",
       "      <td>0</td>\n",
       "      <td>0</td>\n",
       "      <td>1</td>\n",
       "      <td>0</td>\n",
       "      <td>1</td>\n",
       "      <td>0</td>\n",
       "      <td>2</td>\n",
       "    </tr>\n",
       "    <tr>\n",
       "      <th>1</th>\n",
       "      <td>100TH</td>\n",
       "      <td>ST</td>\n",
       "      <td>0</td>\n",
       "      <td>0</td>\n",
       "      <td>1</td>\n",
       "      <td>1</td>\n",
       "      <td>1</td>\n",
       "      <td>1</td>\n",
       "      <td>1</td>\n",
       "      <td>0</td>\n",
       "      <td>5</td>\n",
       "    </tr>\n",
       "    <tr>\n",
       "      <th>3</th>\n",
       "      <td>101ST</td>\n",
       "      <td>ST</td>\n",
       "      <td>0</td>\n",
       "      <td>0</td>\n",
       "      <td>1</td>\n",
       "      <td>0</td>\n",
       "      <td>1</td>\n",
       "      <td>1</td>\n",
       "      <td>1</td>\n",
       "      <td>0</td>\n",
       "      <td>4</td>\n",
       "    </tr>\n",
       "    <tr>\n",
       "      <th>5</th>\n",
       "      <td>102ND</td>\n",
       "      <td>ST</td>\n",
       "      <td>0</td>\n",
       "      <td>0</td>\n",
       "      <td>1</td>\n",
       "      <td>1</td>\n",
       "      <td>0</td>\n",
       "      <td>1</td>\n",
       "      <td>1</td>\n",
       "      <td>0</td>\n",
       "      <td>4</td>\n",
       "    </tr>\n",
       "    <tr>\n",
       "      <th>6</th>\n",
       "      <td>103RD</td>\n",
       "      <td>PL</td>\n",
       "      <td>0</td>\n",
       "      <td>0</td>\n",
       "      <td>0</td>\n",
       "      <td>1</td>\n",
       "      <td>0</td>\n",
       "      <td>0</td>\n",
       "      <td>1</td>\n",
       "      <td>0</td>\n",
       "      <td>2</td>\n",
       "    </tr>\n",
       "  </tbody>\n",
       "</table>\n",
       "</div>"
      ],
      "text/plain": [
       "  ord_street_name ord_street_type  CNTR  E  N  NE  NW  S  SW  W  All\n",
       "0           100TH              PL     0  0  0   0   1  0   1  0    2\n",
       "1           100TH              ST     0  0  1   1   1  1   1  0    5\n",
       "3           101ST              ST     0  0  1   0   1  1   1  0    4\n",
       "5           102ND              ST     0  0  1   1   0  1   1  0    4\n",
       "6           103RD              PL     0  0  0   1   0  0   1  0    2"
      ]
     },
     "execution_count": 138,
     "metadata": {},
     "output_type": "execute_result"
    }
   ],
   "source": [
    "osn_count_df.head()"
   ]
  },
  {
   "cell_type": "code",
   "execution_count": 139,
   "id": "2fde2efc",
   "metadata": {},
   "outputs": [],
   "source": [
    "# melt, to reshape\n",
    "osnt_df = pd.melt(frame = osn_count_df, id_vars = ['ord_street_name', 'ord_street_type'],var_name='city_portion', value_name = 'n_roads')"
   ]
  },
  {
   "cell_type": "code",
   "execution_count": 140,
   "id": "ee773ab7",
   "metadata": {},
   "outputs": [],
   "source": [
    "# drop zero records\n",
    "osnt_df = osnt_df.loc[(osnt_df['n_roads'] > 0), :].copy()"
   ]
  },
  {
   "cell_type": "code",
   "execution_count": 141,
   "id": "08b5f2d8",
   "metadata": {},
   "outputs": [
    {
     "data": {
      "text/html": [
       "<div>\n",
       "<style scoped>\n",
       "    .dataframe tbody tr th:only-of-type {\n",
       "        vertical-align: middle;\n",
       "    }\n",
       "\n",
       "    .dataframe tbody tr th {\n",
       "        vertical-align: top;\n",
       "    }\n",
       "\n",
       "    .dataframe thead th {\n",
       "        text-align: right;\n",
       "    }\n",
       "</style>\n",
       "<table border=\"1\" class=\"dataframe\">\n",
       "  <thead>\n",
       "    <tr style=\"text-align: right;\">\n",
       "      <th></th>\n",
       "      <th>ord_street_name</th>\n",
       "      <th>ord_street_type</th>\n",
       "      <th>city_portion</th>\n",
       "      <th>n_roads</th>\n",
       "    </tr>\n",
       "  </thead>\n",
       "  <tbody>\n",
       "    <tr>\n",
       "      <th>14</th>\n",
       "      <td>10TH</td>\n",
       "      <td>AVE</td>\n",
       "      <td>CNTR</td>\n",
       "      <td>1</td>\n",
       "    </tr>\n",
       "    <tr>\n",
       "      <th>30</th>\n",
       "      <td>11TH</td>\n",
       "      <td>AVE</td>\n",
       "      <td>CNTR</td>\n",
       "      <td>1</td>\n",
       "    </tr>\n",
       "    <tr>\n",
       "      <th>42</th>\n",
       "      <td>12TH</td>\n",
       "      <td>AVE</td>\n",
       "      <td>CNTR</td>\n",
       "      <td>1</td>\n",
       "    </tr>\n",
       "    <tr>\n",
       "      <th>55</th>\n",
       "      <td>13TH</td>\n",
       "      <td>AVE</td>\n",
       "      <td>CNTR</td>\n",
       "      <td>1</td>\n",
       "    </tr>\n",
       "    <tr>\n",
       "      <th>61</th>\n",
       "      <td>14TH</td>\n",
       "      <td>AVE</td>\n",
       "      <td>CNTR</td>\n",
       "      <td>1</td>\n",
       "    </tr>\n",
       "  </tbody>\n",
       "</table>\n",
       "</div>"
      ],
      "text/plain": [
       "   ord_street_name ord_street_type city_portion  n_roads\n",
       "14            10TH             AVE         CNTR        1\n",
       "30            11TH             AVE         CNTR        1\n",
       "42            12TH             AVE         CNTR        1\n",
       "55            13TH             AVE         CNTR        1\n",
       "61            14TH             AVE         CNTR        1"
      ]
     },
     "execution_count": 141,
     "metadata": {},
     "output_type": "execute_result"
    }
   ],
   "source": [
    "osnt_df.head()"
   ]
  },
  {
   "cell_type": "code",
   "execution_count": 142,
   "id": "a71ed396",
   "metadata": {},
   "outputs": [],
   "source": [
    "# the osnt_df is effectively the same shape as the input gdf, but by pivoting we\n",
    "# can very easily count the number of roads that span multiple sections by using\n",
    "# built-in tools. "
   ]
  },
  {
   "cell_type": "code",
   "execution_count": 143,
   "id": "f33269a8",
   "metadata": {},
   "outputs": [],
   "source": [
    "osnt_df = osnt_df.loc[(osnt_df['city_portion'] != 'All'), :].copy()"
   ]
  },
  {
   "cell_type": "code",
   "execution_count": 144,
   "id": "dd2719ea",
   "metadata": {},
   "outputs": [],
   "source": [
    "# sort it...\n",
    "osnt_df = osnt_df.sort_values(by = ['ord_street_name', 'ord_street_type', 'city_portion'])"
   ]
  },
  {
   "cell_type": "code",
   "execution_count": 145,
   "id": "2cc6c6c6",
   "metadata": {},
   "outputs": [],
   "source": [
    "# we don't need this column\n",
    "osnt_df = osnt_df.drop(labels = ['n_roads'], axis = 1)"
   ]
  },
  {
   "cell_type": "code",
   "execution_count": 146,
   "id": "316fbb63",
   "metadata": {},
   "outputs": [
    {
     "data": {
      "text/html": [
       "<div>\n",
       "<style scoped>\n",
       "    .dataframe tbody tr th:only-of-type {\n",
       "        vertical-align: middle;\n",
       "    }\n",
       "\n",
       "    .dataframe tbody tr th {\n",
       "        vertical-align: top;\n",
       "    }\n",
       "\n",
       "    .dataframe thead th {\n",
       "        text-align: right;\n",
       "    }\n",
       "</style>\n",
       "<table border=\"1\" class=\"dataframe\">\n",
       "  <thead>\n",
       "    <tr style=\"text-align: right;\">\n",
       "      <th></th>\n",
       "      <th>ord_street_name</th>\n",
       "      <th>ord_street_type</th>\n",
       "      <th>city_portion</th>\n",
       "    </tr>\n",
       "  </thead>\n",
       "  <tbody>\n",
       "    <tr>\n",
       "      <th>1636</th>\n",
       "      <td>100TH</td>\n",
       "      <td>PL</td>\n",
       "      <td>NW</td>\n",
       "    </tr>\n",
       "    <tr>\n",
       "      <th>2454</th>\n",
       "      <td>100TH</td>\n",
       "      <td>PL</td>\n",
       "      <td>SW</td>\n",
       "    </tr>\n",
       "    <tr>\n",
       "      <th>819</th>\n",
       "      <td>100TH</td>\n",
       "      <td>ST</td>\n",
       "      <td>N</td>\n",
       "    </tr>\n",
       "    <tr>\n",
       "      <th>1228</th>\n",
       "      <td>100TH</td>\n",
       "      <td>ST</td>\n",
       "      <td>NE</td>\n",
       "    </tr>\n",
       "    <tr>\n",
       "      <th>1637</th>\n",
       "      <td>100TH</td>\n",
       "      <td>ST</td>\n",
       "      <td>NW</td>\n",
       "    </tr>\n",
       "  </tbody>\n",
       "</table>\n",
       "</div>"
      ],
      "text/plain": [
       "     ord_street_name ord_street_type city_portion\n",
       "1636           100TH              PL           NW\n",
       "2454           100TH              PL           SW\n",
       "819            100TH              ST            N\n",
       "1228           100TH              ST           NE\n",
       "1637           100TH              ST           NW"
      ]
     },
     "execution_count": 146,
     "metadata": {},
     "output_type": "execute_result"
    }
   ],
   "source": [
    "osnt_df.head()"
   ]
  },
  {
   "cell_type": "code",
   "execution_count": 147,
   "id": "bb7194bc",
   "metadata": {},
   "outputs": [],
   "source": []
  },
  {
   "cell_type": "code",
   "execution_count": 148,
   "id": "f6d4353c",
   "metadata": {},
   "outputs": [],
   "source": [
    "# get the numeric value of the streets, for the sort order...\n",
    "osnt_df['sort_order'] = osnt_df['ord_street_name'].map(get_sort_order)"
   ]
  },
  {
   "cell_type": "code",
   "execution_count": 149,
   "id": "22afd39c",
   "metadata": {},
   "outputs": [
    {
     "data": {
      "text/html": [
       "<div>\n",
       "<style scoped>\n",
       "    .dataframe tbody tr th:only-of-type {\n",
       "        vertical-align: middle;\n",
       "    }\n",
       "\n",
       "    .dataframe tbody tr th {\n",
       "        vertical-align: top;\n",
       "    }\n",
       "\n",
       "    .dataframe thead th {\n",
       "        text-align: right;\n",
       "    }\n",
       "</style>\n",
       "<table border=\"1\" class=\"dataframe\">\n",
       "  <thead>\n",
       "    <tr style=\"text-align: right;\">\n",
       "      <th></th>\n",
       "      <th>ord_street_name</th>\n",
       "      <th>ord_street_type</th>\n",
       "      <th>city_portion</th>\n",
       "      <th>sort_order</th>\n",
       "    </tr>\n",
       "  </thead>\n",
       "  <tbody>\n",
       "    <tr>\n",
       "      <th>1636</th>\n",
       "      <td>100TH</td>\n",
       "      <td>PL</td>\n",
       "      <td>NW</td>\n",
       "      <td>100</td>\n",
       "    </tr>\n",
       "    <tr>\n",
       "      <th>2454</th>\n",
       "      <td>100TH</td>\n",
       "      <td>PL</td>\n",
       "      <td>SW</td>\n",
       "      <td>100</td>\n",
       "    </tr>\n",
       "    <tr>\n",
       "      <th>819</th>\n",
       "      <td>100TH</td>\n",
       "      <td>ST</td>\n",
       "      <td>N</td>\n",
       "      <td>100</td>\n",
       "    </tr>\n",
       "    <tr>\n",
       "      <th>1228</th>\n",
       "      <td>100TH</td>\n",
       "      <td>ST</td>\n",
       "      <td>NE</td>\n",
       "      <td>100</td>\n",
       "    </tr>\n",
       "    <tr>\n",
       "      <th>1637</th>\n",
       "      <td>100TH</td>\n",
       "      <td>ST</td>\n",
       "      <td>NW</td>\n",
       "      <td>100</td>\n",
       "    </tr>\n",
       "  </tbody>\n",
       "</table>\n",
       "</div>"
      ],
      "text/plain": [
       "     ord_street_name ord_street_type city_portion sort_order\n",
       "1636           100TH              PL           NW        100\n",
       "2454           100TH              PL           SW        100\n",
       "819            100TH              ST            N        100\n",
       "1228           100TH              ST           NE        100\n",
       "1637           100TH              ST           NW        100"
      ]
     },
     "execution_count": 149,
     "metadata": {},
     "output_type": "execute_result"
    }
   ],
   "source": [
    "osnt_df.head()"
   ]
  },
  {
   "cell_type": "code",
   "execution_count": 150,
   "id": "3c2e25aa",
   "metadata": {},
   "outputs": [],
   "source": [
    "# reorder\n",
    "col_names = ['sort_order', 'ord_street_name', 'ord_street_type', 'city_portion']\n",
    "osnt_df = osnt_df[col_names].sort_values(by = col_names[:4])"
   ]
  },
  {
   "cell_type": "code",
   "execution_count": 151,
   "id": "d7dab7cb",
   "metadata": {},
   "outputs": [],
   "source": [
    "# set an index - this is helpful for when we write this to excel \n",
    "# easier to read for manual review\n",
    "osnt_df = osnt_df.set_index(keys = col_names[:4])"
   ]
  },
  {
   "cell_type": "code",
   "execution_count": 152,
   "id": "766b6c46",
   "metadata": {},
   "outputs": [
    {
     "data": {
      "text/html": [
       "<div>\n",
       "<style scoped>\n",
       "    .dataframe tbody tr th:only-of-type {\n",
       "        vertical-align: middle;\n",
       "    }\n",
       "\n",
       "    .dataframe tbody tr th {\n",
       "        vertical-align: top;\n",
       "    }\n",
       "\n",
       "    .dataframe thead th {\n",
       "        text-align: right;\n",
       "    }\n",
       "</style>\n",
       "<table border=\"1\" class=\"dataframe\">\n",
       "  <thead>\n",
       "    <tr style=\"text-align: right;\">\n",
       "      <th></th>\n",
       "      <th></th>\n",
       "      <th></th>\n",
       "      <th></th>\n",
       "    </tr>\n",
       "    <tr>\n",
       "      <th>sort_order</th>\n",
       "      <th>ord_street_name</th>\n",
       "      <th>ord_street_type</th>\n",
       "      <th>city_portion</th>\n",
       "    </tr>\n",
       "  </thead>\n",
       "  <tbody>\n",
       "    <tr>\n",
       "      <th rowspan=\"5\" valign=\"top\">001</th>\n",
       "      <th rowspan=\"5\" valign=\"top\">1ST</th>\n",
       "      <th rowspan=\"5\" valign=\"top\">AVE</th>\n",
       "      <th>CNTR</th>\n",
       "    </tr>\n",
       "    <tr>\n",
       "      <th>N</th>\n",
       "    </tr>\n",
       "    <tr>\n",
       "      <th>NE</th>\n",
       "    </tr>\n",
       "    <tr>\n",
       "      <th>NW</th>\n",
       "    </tr>\n",
       "    <tr>\n",
       "      <th>S</th>\n",
       "    </tr>\n",
       "  </tbody>\n",
       "</table>\n",
       "</div>"
      ],
      "text/plain": [
       "Empty DataFrame\n",
       "Columns: []\n",
       "Index: [(001, 1ST, AVE, CNTR), (001, 1ST, AVE, N), (001, 1ST, AVE, NE), (001, 1ST, AVE, NW), (001, 1ST, AVE, S)]"
      ]
     },
     "execution_count": 152,
     "metadata": {},
     "output_type": "execute_result"
    }
   ],
   "source": [
    "osnt_df.head()"
   ]
  },
  {
   "cell_type": "code",
   "execution_count": 153,
   "id": "67b357a4",
   "metadata": {},
   "outputs": [
    {
     "data": {
      "text/plain": [
       "(1217, 0)"
      ]
     },
     "execution_count": 153,
     "metadata": {},
     "output_type": "execute_result"
    }
   ],
   "source": [
    "osnt_df.shape"
   ]
  },
  {
   "cell_type": "code",
   "execution_count": 154,
   "id": "97c82ce1",
   "metadata": {},
   "outputs": [],
   "source": [
    "# save it to excel\n",
    "output_file_path = rc.ANALYSIS_OUTPUT_FILE_PATH\n",
    "output_file_name = rc.S06_STREET_GROUP_OUT_FILE_NAME\n",
    "ofpn = os.path.join(output_file_path, output_file_name)\n",
    "osnt_df.to_excel(excel_writer=ofpn)\n"
   ]
  },
  {
   "cell_type": "markdown",
   "id": "8baaa84c",
   "metadata": {},
   "source": [
    "# PART 2: make a simple plot of each street. "
   ]
  },
  {
   "cell_type": "code",
   "execution_count": 155,
   "id": "db833e6e",
   "metadata": {},
   "outputs": [],
   "source": [
    "# each plot will feature the city portion boundaries as created by the convex-hull \n",
    "# in step 2 and the different road segments for each street."
   ]
  },
  {
   "cell_type": "code",
   "execution_count": 156,
   "id": "5b14fd52",
   "metadata": {},
   "outputs": [],
   "source": [
    "# use the same colors for each city portion\n",
    "cdm = {}\n",
    "dir_list = ['CNTR', 'E', 'N', 'NE', 'NW', 'S', 'SW', 'W']\n",
    "for idir, dir_value in enumerate(dir_list):\n",
    "    cdm[dir_value] = mpl.colormaps[\"Dark2\"].colors[idir]\n",
    "\n",
    "my_cmap = mpl.colors.ListedColormap([cdm[c] for c in dir_list])"
   ]
  },
  {
   "cell_type": "code",
   "execution_count": 157,
   "id": "42a44f0b",
   "metadata": {},
   "outputs": [],
   "source": [
    "# plot bounds to use across each plot\n",
    "bounds = [-122.4197794277490061,47.4803548409661005, -122.2200188105690017,47.7341482423694004]"
   ]
  },
  {
   "cell_type": "code",
   "execution_count": 158,
   "id": "5088cb8a",
   "metadata": {},
   "outputs": [],
   "source": [
    "# load the boundaries of the city sections\n",
    "ifpn = os.path.join(rc.OUTPUT_FILE_PATH, rc.S02_CITY_SECTIONS_OUT_FILE_NAME)\n",
    "cs_gdf = gpd.read_file(filename=ifpn)"
   ]
  },
  {
   "cell_type": "code",
   "execution_count": 159,
   "id": "ee4a6a75",
   "metadata": {},
   "outputs": [],
   "source": [
    "osnt_df = osnt_df.reset_index()"
   ]
  },
  {
   "cell_type": "code",
   "execution_count": 160,
   "id": "b0a81d6f",
   "metadata": {},
   "outputs": [
    {
     "data": {
      "text/html": [
       "<div>\n",
       "<style scoped>\n",
       "    .dataframe tbody tr th:only-of-type {\n",
       "        vertical-align: middle;\n",
       "    }\n",
       "\n",
       "    .dataframe tbody tr th {\n",
       "        vertical-align: top;\n",
       "    }\n",
       "\n",
       "    .dataframe thead th {\n",
       "        text-align: right;\n",
       "    }\n",
       "</style>\n",
       "<table border=\"1\" class=\"dataframe\">\n",
       "  <thead>\n",
       "    <tr style=\"text-align: right;\">\n",
       "      <th></th>\n",
       "      <th>sort_order</th>\n",
       "      <th>ord_street_name</th>\n",
       "      <th>ord_street_type</th>\n",
       "      <th>city_portion</th>\n",
       "    </tr>\n",
       "  </thead>\n",
       "  <tbody>\n",
       "    <tr>\n",
       "      <th>0</th>\n",
       "      <td>001</td>\n",
       "      <td>1ST</td>\n",
       "      <td>AVE</td>\n",
       "      <td>CNTR</td>\n",
       "    </tr>\n",
       "    <tr>\n",
       "      <th>1</th>\n",
       "      <td>001</td>\n",
       "      <td>1ST</td>\n",
       "      <td>AVE</td>\n",
       "      <td>N</td>\n",
       "    </tr>\n",
       "    <tr>\n",
       "      <th>2</th>\n",
       "      <td>001</td>\n",
       "      <td>1ST</td>\n",
       "      <td>AVE</td>\n",
       "      <td>NE</td>\n",
       "    </tr>\n",
       "    <tr>\n",
       "      <th>3</th>\n",
       "      <td>001</td>\n",
       "      <td>1ST</td>\n",
       "      <td>AVE</td>\n",
       "      <td>NW</td>\n",
       "    </tr>\n",
       "    <tr>\n",
       "      <th>4</th>\n",
       "      <td>001</td>\n",
       "      <td>1ST</td>\n",
       "      <td>AVE</td>\n",
       "      <td>S</td>\n",
       "    </tr>\n",
       "  </tbody>\n",
       "</table>\n",
       "</div>"
      ],
      "text/plain": [
       "  sort_order ord_street_name ord_street_type city_portion\n",
       "0        001             1ST             AVE         CNTR\n",
       "1        001             1ST             AVE            N\n",
       "2        001             1ST             AVE           NE\n",
       "3        001             1ST             AVE           NW\n",
       "4        001             1ST             AVE            S"
      ]
     },
     "execution_count": 160,
     "metadata": {},
     "output_type": "execute_result"
    }
   ],
   "source": [
    "osnt_df.head()"
   ]
  },
  {
   "cell_type": "code",
   "execution_count": 161,
   "id": "a9d15f03",
   "metadata": {},
   "outputs": [
    {
     "data": {
      "text/plain": [
       "(1631, 4)"
      ]
     },
     "execution_count": 161,
     "metadata": {},
     "output_type": "execute_result"
    }
   ],
   "source": [
    "osn_ost_df.shape"
   ]
  },
  {
   "cell_type": "code",
   "execution_count": 162,
   "id": "6a1a78ff",
   "metadata": {},
   "outputs": [],
   "source": [
    "wosnt_df = osnt_df[['ord_street_name', 'ord_street_type']].drop_duplicates()"
   ]
  },
  {
   "cell_type": "code",
   "execution_count": 163,
   "id": "ca2837cf",
   "metadata": {},
   "outputs": [
    {
     "data": {
      "text/plain": [
       "(409, 2)"
      ]
     },
     "execution_count": 163,
     "metadata": {},
     "output_type": "execute_result"
    }
   ],
   "source": [
    "wosnt_df.shape"
   ]
  },
  {
   "cell_type": "code",
   "execution_count": 164,
   "id": "97e37f8d",
   "metadata": {},
   "outputs": [],
   "source": [
    "t_wosnt_df = wosnt_df.iloc[1:10]"
   ]
  },
  {
   "cell_type": "code",
   "execution_count": 165,
   "id": "f6539b6d",
   "metadata": {},
   "outputs": [
    {
     "data": {
      "text/html": [
       "<div>\n",
       "<style scoped>\n",
       "    .dataframe tbody tr th:only-of-type {\n",
       "        vertical-align: middle;\n",
       "    }\n",
       "\n",
       "    .dataframe tbody tr th {\n",
       "        vertical-align: top;\n",
       "    }\n",
       "\n",
       "    .dataframe thead th {\n",
       "        text-align: right;\n",
       "    }\n",
       "</style>\n",
       "<table border=\"1\" class=\"dataframe\">\n",
       "  <thead>\n",
       "    <tr style=\"text-align: right;\">\n",
       "      <th></th>\n",
       "      <th>ord_street_name</th>\n",
       "      <th>ord_street_type</th>\n",
       "    </tr>\n",
       "  </thead>\n",
       "  <tbody>\n",
       "    <tr>\n",
       "      <th>7</th>\n",
       "      <td>2ND</td>\n",
       "      <td>AVE</td>\n",
       "    </tr>\n",
       "    <tr>\n",
       "      <th>14</th>\n",
       "      <td>3RD</td>\n",
       "      <td>AVE</td>\n",
       "    </tr>\n",
       "    <tr>\n",
       "      <th>21</th>\n",
       "      <td>3RD</td>\n",
       "      <td>PL</td>\n",
       "    </tr>\n",
       "    <tr>\n",
       "      <th>23</th>\n",
       "      <td>4TH</td>\n",
       "      <td>AVE</td>\n",
       "    </tr>\n",
       "    <tr>\n",
       "      <th>30</th>\n",
       "      <td>4TH</td>\n",
       "      <td>PL</td>\n",
       "    </tr>\n",
       "  </tbody>\n",
       "</table>\n",
       "</div>"
      ],
      "text/plain": [
       "   ord_street_name ord_street_type\n",
       "7              2ND             AVE\n",
       "14             3RD             AVE\n",
       "21             3RD              PL\n",
       "23             4TH             AVE\n",
       "30             4TH              PL"
      ]
     },
     "execution_count": 165,
     "metadata": {},
     "output_type": "execute_result"
    }
   ],
   "source": [
    "t_wosnt_df.head()"
   ]
  },
  {
   "cell_type": "code",
   "execution_count": 166,
   "id": "e0d6ac69",
   "metadata": {},
   "outputs": [],
   "source": [
    "make_plots = False\n",
    "if make_plots:\n",
    "    for irow, row in wosnt_df.iterrows():\n",
    "        osn = row['ord_street_name']\n",
    "        ost = row['ord_street_type']\n",
    "\n",
    "\n",
    "        output_file_name = f\"{osn}_{ost}.png\"\n",
    "        ofpn = os.path.join(rc.S06_PLOT_OUTPUT_FILE_PATH, output_file_name)\n",
    "        print(ofpn)\n",
    "\n",
    "        # now, let's make a map...\n",
    "        wgdf = gdf.loc[(gdf['ord_street_name'] == osn) &\n",
    "                    (gdf['ord_street_type'] == ost), :]\n",
    "        to_draw = wgdf[['city_portion', 'geometry']].dissolve(by = 'city_portion', as_index = False)\n",
    "        to_draw['coords'] = to_draw['geometry'].map(lambda x: x.centroid.coords[0])\n",
    "        fig = plt.figure(layout = 'constrained', figsize = (5, 10))\n",
    "        gs = GridSpec(1,1, figure = fig, height_ratios = [1])\n",
    "        ax1 = fig.add_subplot(gs[0,0])\n",
    "        ax1.set_xlim(bounds[0], bounds[2])\n",
    "        ax1.set_ylim(bounds[1], bounds[3])\n",
    "        cs_gdf.plot(ax = ax1, column = 'city_portion', alpha = .2)\n",
    "        to_draw.plot(ax = ax1, column = 'city_portion', cmap = my_cmap,  linewidth = 5, legend = True)\n",
    "\n",
    "        for irrow, row in to_draw.iterrows():    \n",
    "            ax1.annotate(text=row['city_portion'], xy=row['coords'], fontsize = 16 )\n",
    "\n",
    "        ax1.set_axis_off()\n",
    "\n",
    "        osn = wgdf['ord_street_name'].unique().tolist()[0]\n",
    "        ost = wgdf['ord_street_type'].unique().tolist()[0]\n",
    "        my_title = f\"Street Name: {osn} {ost}\"\n",
    "        plt.title(label = my_title)\n",
    "\n",
    "        #plt.show()\n",
    "\n",
    "        fig.savefig(fname = ofpn)\n",
    "        plt.close()"
   ]
  },
  {
   "cell_type": "markdown",
   "id": "3a76d666",
   "metadata": {},
   "source": [
    "# manually review each plot to identify the groups within each street."
   ]
  },
  {
   "cell_type": "markdown",
   "id": "0d3cb75a",
   "metadata": {},
   "source": [
    "In general, avenues run north-south and streets run east-west. \n",
    "Avenues can be grouped by:\n",
    "* NE, E, CNTR, S  \n",
    "* N, CNTR, S\n",
    "* NW, W, SW\n",
    "\n",
    "Streets can be be grouped by:\n",
    "* NW, N, NE\n",
    "* W, N, CNTR, E\n",
    "* SW, S"
   ]
  },
  {
   "cell_type": "markdown",
   "id": "780cc84f",
   "metadata": {},
   "source": [
    "# BONUS: is every state name represented as a street?"
   ]
  },
  {
   "cell_type": "code",
   "execution_count": 168,
   "id": "9790c832",
   "metadata": {},
   "outputs": [],
   "source": [
    "fpn = os.path.join(rc.INPUT_FILE_PATH, 'state_name.csv')"
   ]
  },
  {
   "cell_type": "code",
   "execution_count": 169,
   "id": "e5e12cb9",
   "metadata": {},
   "outputs": [],
   "source": [
    "state_df = pd.read_csv(filepath_or_buffer=fpn)"
   ]
  },
  {
   "cell_type": "code",
   "execution_count": 170,
   "id": "c0c2706a",
   "metadata": {},
   "outputs": [
    {
     "data": {
      "text/html": [
       "<div>\n",
       "<style scoped>\n",
       "    .dataframe tbody tr th:only-of-type {\n",
       "        vertical-align: middle;\n",
       "    }\n",
       "\n",
       "    .dataframe tbody tr th {\n",
       "        vertical-align: top;\n",
       "    }\n",
       "\n",
       "    .dataframe thead th {\n",
       "        text-align: right;\n",
       "    }\n",
       "</style>\n",
       "<table border=\"1\" class=\"dataframe\">\n",
       "  <thead>\n",
       "    <tr style=\"text-align: right;\">\n",
       "      <th></th>\n",
       "      <th>Name</th>\n",
       "    </tr>\n",
       "  </thead>\n",
       "  <tbody>\n",
       "    <tr>\n",
       "      <th>0</th>\n",
       "      <td>Alabama</td>\n",
       "    </tr>\n",
       "    <tr>\n",
       "      <th>1</th>\n",
       "      <td>Alaska</td>\n",
       "    </tr>\n",
       "    <tr>\n",
       "      <th>2</th>\n",
       "      <td>Arizona</td>\n",
       "    </tr>\n",
       "    <tr>\n",
       "      <th>3</th>\n",
       "      <td>Arkansas</td>\n",
       "    </tr>\n",
       "    <tr>\n",
       "      <th>4</th>\n",
       "      <td>California</td>\n",
       "    </tr>\n",
       "  </tbody>\n",
       "</table>\n",
       "</div>"
      ],
      "text/plain": [
       "         Name\n",
       "0     Alabama\n",
       "1      Alaska\n",
       "2     Arizona\n",
       "3    Arkansas\n",
       "4  California"
      ]
     },
     "execution_count": 170,
     "metadata": {},
     "output_type": "execute_result"
    }
   ],
   "source": [
    "state_df.head()"
   ]
  },
  {
   "cell_type": "code",
   "execution_count": 171,
   "id": "3775595c",
   "metadata": {},
   "outputs": [],
   "source": [
    "# build a set of the state names after cleaning and converting to lower case\n",
    "state_name_set =  set([sn.strip().lower() for sn in state_df['Name']])"
   ]
  },
  {
   "cell_type": "code",
   "execution_count": 172,
   "id": "d26f463f",
   "metadata": {},
   "outputs": [
    {
     "data": {
      "text/plain": [
       "51"
      ]
     },
     "execution_count": 172,
     "metadata": {},
     "output_type": "execute_result"
    }
   ],
   "source": [
    "len(state_name_set)"
   ]
  },
  {
   "cell_type": "code",
   "execution_count": 173,
   "id": "d1099350",
   "metadata": {},
   "outputs": [],
   "source": [
    "# do the same for the street name after dropping the streets that start with a number.\n",
    "street_name_set = set(gdf.loc[-gdf['ord_street_name'].str[0].isin(list('0123456789')), 'ord_street_name'].str.lower().unique().tolist())"
   ]
  },
  {
   "cell_type": "code",
   "execution_count": 174,
   "id": "89e76cae",
   "metadata": {},
   "outputs": [
    {
     "data": {
      "text/plain": [
       "1040"
      ]
     },
     "execution_count": 174,
     "metadata": {},
     "output_type": "execute_result"
    }
   ],
   "source": [
    "len(street_name_set)"
   ]
  },
  {
   "cell_type": "code",
   "execution_count": 175,
   "id": "d3361f22",
   "metadata": {},
   "outputs": [],
   "source": [
    "test_intersection = state_name_set.intersection(street_name_set)"
   ]
  },
  {
   "cell_type": "code",
   "execution_count": 176,
   "id": "7ee8b9d7",
   "metadata": {},
   "outputs": [
    {
     "data": {
      "text/plain": [
       "20"
      ]
     },
     "execution_count": 176,
     "metadata": {},
     "output_type": "execute_result"
    }
   ],
   "source": [
    "len(test_intersection)"
   ]
  },
  {
   "cell_type": "code",
   "execution_count": 177,
   "id": "9f169b3e",
   "metadata": {},
   "outputs": [],
   "source": [
    "# so, 20 states are representated... "
   ]
  },
  {
   "cell_type": "code",
   "execution_count": 178,
   "id": "9b8cfa26",
   "metadata": {},
   "outputs": [
    {
     "data": {
      "text/plain": [
       "{'alaska',\n",
       " 'california',\n",
       " 'colorado',\n",
       " 'florida',\n",
       " 'idaho',\n",
       " 'illinois',\n",
       " 'iowa',\n",
       " 'kansas',\n",
       " 'maryland',\n",
       " 'massachusetts',\n",
       " 'michigan',\n",
       " 'montana',\n",
       " 'nebraska',\n",
       " 'nevada',\n",
       " 'ohio',\n",
       " 'oregon',\n",
       " 'texas',\n",
       " 'utah',\n",
       " 'virginia',\n",
       " 'washington'}"
      ]
     },
     "execution_count": 178,
     "metadata": {},
     "output_type": "execute_result"
    }
   ],
   "source": [
    "test_intersection"
   ]
  },
  {
   "cell_type": "code",
   "execution_count": 179,
   "id": "d9403947",
   "metadata": {},
   "outputs": [
    {
     "data": {
      "text/plain": [
       "{'alabama',\n",
       " 'arizona',\n",
       " 'arkansas',\n",
       " 'connecticut',\n",
       " 'delaware',\n",
       " 'district of columbia',\n",
       " 'georgia',\n",
       " 'hawaii',\n",
       " 'indiana',\n",
       " 'kentucky',\n",
       " 'louisiana',\n",
       " 'maine',\n",
       " 'minnesota',\n",
       " 'mississippi',\n",
       " 'missouri',\n",
       " 'new hampshire',\n",
       " 'new jersey',\n",
       " 'new mexico',\n",
       " 'new york',\n",
       " 'north carolina',\n",
       " 'north dakota',\n",
       " 'oklahoma',\n",
       " 'pennsylvania',\n",
       " 'rhode island',\n",
       " 'south carolina',\n",
       " 'south dakota',\n",
       " 'tennessee',\n",
       " 'vermont',\n",
       " 'west virginia',\n",
       " 'wisconsin',\n",
       " 'wyoming'}"
      ]
     },
     "execution_count": 179,
     "metadata": {},
     "output_type": "execute_result"
    }
   ],
   "source": [
    "# what's not represented?\n",
    "state_name_set.difference(street_name_set)"
   ]
  },
  {
   "cell_type": "code",
   "execution_count": null,
   "id": "16e17259",
   "metadata": {},
   "outputs": [],
   "source": [
    "# what about states with directons in the name and DC?"
   ]
  },
  {
   "cell_type": "code",
   "execution_count": 180,
   "id": "17bc5ee9",
   "metadata": {},
   "outputs": [
    {
     "data": {
      "text/plain": [
       "True"
      ]
     },
     "execution_count": 180,
     "metadata": {},
     "output_type": "execute_result"
    }
   ],
   "source": [
    "'dakota' in street_name_set"
   ]
  },
  {
   "cell_type": "code",
   "execution_count": 181,
   "id": "dd93504f",
   "metadata": {},
   "outputs": [
    {
     "data": {
      "text/plain": [
       "True"
      ]
     },
     "execution_count": 181,
     "metadata": {},
     "output_type": "execute_result"
    }
   ],
   "source": [
    "'columbia' in street_name_set"
   ]
  },
  {
   "cell_type": "code",
   "execution_count": 182,
   "id": "a1a7cf9b",
   "metadata": {},
   "outputs": [
    {
     "data": {
      "text/plain": [
       "True"
      ]
     },
     "execution_count": 182,
     "metadata": {},
     "output_type": "execute_result"
    }
   ],
   "source": [
    "'virginia' in street_name_set"
   ]
  },
  {
   "cell_type": "code",
   "execution_count": 183,
   "id": "dec646e5",
   "metadata": {},
   "outputs": [
    {
     "data": {
      "text/plain": [
       "True"
      ]
     },
     "execution_count": 183,
     "metadata": {},
     "output_type": "execute_result"
    }
   ],
   "source": [
    "'carolina' in street_name_set"
   ]
  },
  {
   "cell_type": "code",
   "execution_count": 184,
   "id": "11bee2f4",
   "metadata": {},
   "outputs": [],
   "source": [
    "# if we count Dakota as ND and Sd\n",
    "# columbia as Washington DC\n",
    "# Virginia as both VA and West Virginia\n",
    "# Carolina as both NC and SC\n",
    "# that brings us to: 26. \n",
    "# so, over half. That's kind of cool."
   ]
  }
 ],
 "metadata": {
  "kernelspec": {
   "display_name": "analysis",
   "language": "python",
   "name": "python3"
  },
  "language_info": {
   "codemirror_mode": {
    "name": "ipython",
    "version": 3
   },
   "file_extension": ".py",
   "mimetype": "text/x-python",
   "name": "python",
   "nbconvert_exporter": "python",
   "pygments_lexer": "ipython3",
   "version": "3.12.7"
  }
 },
 "nbformat": 4,
 "nbformat_minor": 5
}
