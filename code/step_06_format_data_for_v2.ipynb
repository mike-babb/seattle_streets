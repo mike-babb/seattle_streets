{
 "cells": [
  {
   "cell_type": "markdown",
   "id": "fed9e25b-c5b9-4aee-89cd-15a7da3945c0",
   "metadata": {},
   "source": [
    "# Part 06: Prep data for export for analysis for v2\n",
    "michael babb  \n",
    "2024 11 24"
   ]
  },
  {
   "cell_type": "code",
   "execution_count": 1,
   "id": "e88ca8b2-b75d-4e72-8fc7-65c4cea61cde",
   "metadata": {},
   "outputs": [],
   "source": [
    "# standard\n",
    "import os\n",
    "import re"
   ]
  },
  {
   "cell_type": "code",
   "execution_count": 2,
   "id": "0778d9a5-0c62-4724-be28-c21598d23b6f",
   "metadata": {},
   "outputs": [],
   "source": [
    "# external\n",
    "import geopandas as gpd\n",
    "import matplotlib as mpl\n",
    "from matplotlib.gridspec import GridSpec\n",
    "import matplotlib.pyplot as plt\n",
    "import numpy as np\n",
    "import pandas as pd\n",
    "import seaborn as sns"
   ]
  },
  {
   "cell_type": "code",
   "execution_count": 3,
   "id": "2fc61400-c637-4828-820d-56c2cdd14942",
   "metadata": {},
   "outputs": [],
   "source": [
    "# custom\n",
    "import run_constants as rc\n",
    "from utils import *"
   ]
  },
  {
   "cell_type": "code",
   "execution_count": 4,
   "id": "47a873e8",
   "metadata": {},
   "outputs": [],
   "source": [
    "# process flow variables\n"
   ]
  },
  {
   "cell_type": "markdown",
   "id": "d56ea77e-ffd7-4326-b793-415f8a131ef2",
   "metadata": {},
   "source": [
    "# load the street network data"
   ]
  },
  {
   "cell_type": "code",
   "execution_count": 5,
   "id": "ddf62724-9105-44c9-b983-e4f520328fa9",
   "metadata": {},
   "outputs": [],
   "source": [
    "fpn = os.path.join(rc.OUTPUT_FILE_PATH, rc.S03_SND_WORKING_IN_FILE_NAME)"
   ]
  },
  {
   "cell_type": "code",
   "execution_count": 6,
   "id": "2cbdb5c1-c973-4882-b442-cf5396e90d3e",
   "metadata": {},
   "outputs": [],
   "source": [
    "gdf = gpd.read_file(filename = fpn)"
   ]
  },
  {
   "cell_type": "code",
   "execution_count": 7,
   "id": "ce02bdf0-a0ca-46a5-bf8f-54b576ee2de7",
   "metadata": {},
   "outputs": [
    {
     "data": {
      "text/plain": [
       "Index(['f_intr_id', 't_intr_id', 'snd_id', 'snd_feacode', 'citycode',\n",
       "       'stname_id', 'st_code', 'arterial_code', 'segment_type', 'agency_code',\n",
       "       'access_code', 'divided_code', 'structure_type', 'legalloc_code',\n",
       "       'vehicle_use_code', 'gis_seg_length', 'l_adrs_from', 'l_adrs_to',\n",
       "       'r_adrs_from', 'r_adrs_to', 'ord_pre_dir', 'ord_street_name',\n",
       "       'ord_street_type', 'ord_suf_dir', 'ord_stname_concat', 'l_city',\n",
       "       'l_state', 'l_zip', 'r_city', 'r_state', 'r_zip', 'sndseg_update',\n",
       "       'compkey', 'comptype', 'unitid', 'unitid2', 'city_portion', 'geometry'],\n",
       "      dtype='object')"
      ]
     },
     "execution_count": 7,
     "metadata": {},
     "output_type": "execute_result"
    }
   ],
   "source": [
    "gdf.columns"
   ]
  },
  {
   "cell_type": "code",
   "execution_count": 8,
   "id": "0b203ee7-3a98-4f02-970b-b9d463918afe",
   "metadata": {},
   "outputs": [],
   "source": [
    "gdf['n_roads'] = int(1)"
   ]
  },
  {
   "cell_type": "markdown",
   "id": "d5a06e0f",
   "metadata": {},
   "source": [
    "# group data by street type for use in version 2.0"
   ]
  },
  {
   "cell_type": "code",
   "execution_count": 9,
   "id": "84cd647f",
   "metadata": {},
   "outputs": [],
   "source": [
    "col_names = ['ord_street_name', 'ord_street_type', 'ord_stname_concat', 'city_portion']\n",
    "st_name_type_df = gdf[col_names].drop_duplicates()"
   ]
  },
  {
   "cell_type": "code",
   "execution_count": 10,
   "id": "60f6479b",
   "metadata": {},
   "outputs": [
    {
     "data": {
      "text/plain": [
       "(2455, 4)"
      ]
     },
     "execution_count": 10,
     "metadata": {},
     "output_type": "execute_result"
    }
   ],
   "source": [
    "# the number of unique streets\n",
    "st_name_type_df.shape"
   ]
  },
  {
   "cell_type": "code",
   "execution_count": 11,
   "id": "72e855f9",
   "metadata": {},
   "outputs": [],
   "source": [
    "st_name_type_df = st_name_type_df.sort_values(by = ['ord_street_name', 'ord_street_type', 'ord_stname_concat'])"
   ]
  },
  {
   "cell_type": "code",
   "execution_count": 12,
   "id": "808de9d6",
   "metadata": {},
   "outputs": [
    {
     "data": {
      "text/html": [
       "<div>\n",
       "<style scoped>\n",
       "    .dataframe tbody tr th:only-of-type {\n",
       "        vertical-align: middle;\n",
       "    }\n",
       "\n",
       "    .dataframe tbody tr th {\n",
       "        vertical-align: top;\n",
       "    }\n",
       "\n",
       "    .dataframe thead th {\n",
       "        text-align: right;\n",
       "    }\n",
       "</style>\n",
       "<table border=\"1\" class=\"dataframe\">\n",
       "  <thead>\n",
       "    <tr style=\"text-align: right;\">\n",
       "      <th></th>\n",
       "      <th>ord_street_name</th>\n",
       "      <th>ord_street_type</th>\n",
       "      <th>ord_stname_concat</th>\n",
       "      <th>city_portion</th>\n",
       "    </tr>\n",
       "  </thead>\n",
       "  <tbody>\n",
       "    <tr>\n",
       "      <th>16649</th>\n",
       "      <td>100TH</td>\n",
       "      <td>PL</td>\n",
       "      <td>NW 100TH PL</td>\n",
       "      <td>NW</td>\n",
       "    </tr>\n",
       "    <tr>\n",
       "      <th>25064</th>\n",
       "      <td>100TH</td>\n",
       "      <td>PL</td>\n",
       "      <td>SW 100TH PL</td>\n",
       "      <td>SW</td>\n",
       "    </tr>\n",
       "    <tr>\n",
       "      <th>3392</th>\n",
       "      <td>100TH</td>\n",
       "      <td>ST</td>\n",
       "      <td>N 100TH ST</td>\n",
       "      <td>N</td>\n",
       "    </tr>\n",
       "    <tr>\n",
       "      <th>1185</th>\n",
       "      <td>100TH</td>\n",
       "      <td>ST</td>\n",
       "      <td>NE 100TH ST</td>\n",
       "      <td>NE</td>\n",
       "    </tr>\n",
       "    <tr>\n",
       "      <th>1685</th>\n",
       "      <td>100TH</td>\n",
       "      <td>ST</td>\n",
       "      <td>NW 100TH ST</td>\n",
       "      <td>NW</td>\n",
       "    </tr>\n",
       "    <tr>\n",
       "      <th>1741</th>\n",
       "      <td>100TH</td>\n",
       "      <td>ST</td>\n",
       "      <td>S 100TH ST</td>\n",
       "      <td>S</td>\n",
       "    </tr>\n",
       "    <tr>\n",
       "      <th>967</th>\n",
       "      <td>100TH</td>\n",
       "      <td>ST</td>\n",
       "      <td>SW 100TH ST</td>\n",
       "      <td>SW</td>\n",
       "    </tr>\n",
       "    <tr>\n",
       "      <th>25063</th>\n",
       "      <td>101ST</td>\n",
       "      <td>PL</td>\n",
       "      <td>SW 101ST PL</td>\n",
       "      <td>SW</td>\n",
       "    </tr>\n",
       "    <tr>\n",
       "      <th>2324</th>\n",
       "      <td>101ST</td>\n",
       "      <td>ST</td>\n",
       "      <td>N 101ST ST</td>\n",
       "      <td>N</td>\n",
       "    </tr>\n",
       "    <tr>\n",
       "      <th>1785</th>\n",
       "      <td>101ST</td>\n",
       "      <td>ST</td>\n",
       "      <td>NW 101ST ST</td>\n",
       "      <td>NW</td>\n",
       "    </tr>\n",
       "  </tbody>\n",
       "</table>\n",
       "</div>"
      ],
      "text/plain": [
       "      ord_street_name ord_street_type ord_stname_concat city_portion\n",
       "16649           100TH              PL       NW 100TH PL           NW\n",
       "25064           100TH              PL       SW 100TH PL           SW\n",
       "3392            100TH              ST        N 100TH ST            N\n",
       "1185            100TH              ST       NE 100TH ST           NE\n",
       "1685            100TH              ST       NW 100TH ST           NW\n",
       "1741            100TH              ST        S 100TH ST            S\n",
       "967             100TH              ST       SW 100TH ST           SW\n",
       "25063           101ST              PL       SW 101ST PL           SW\n",
       "2324            101ST              ST        N 101ST ST            N\n",
       "1785            101ST              ST       NW 101ST ST           NW"
      ]
     },
     "execution_count": 12,
     "metadata": {},
     "output_type": "execute_result"
    }
   ],
   "source": [
    "st_name_type_df.head(n=10)"
   ]
  },
  {
   "cell_type": "code",
   "execution_count": 13,
   "id": "6310b146",
   "metadata": {},
   "outputs": [
    {
     "data": {
      "text/html": [
       "<div>\n",
       "<style scoped>\n",
       "    .dataframe tbody tr th:only-of-type {\n",
       "        vertical-align: middle;\n",
       "    }\n",
       "\n",
       "    .dataframe tbody tr th {\n",
       "        vertical-align: top;\n",
       "    }\n",
       "\n",
       "    .dataframe thead th {\n",
       "        text-align: right;\n",
       "    }\n",
       "</style>\n",
       "<table border=\"1\" class=\"dataframe\">\n",
       "  <thead>\n",
       "    <tr style=\"text-align: right;\">\n",
       "      <th></th>\n",
       "      <th>ord_street_name</th>\n",
       "      <th>osn_id</th>\n",
       "    </tr>\n",
       "  </thead>\n",
       "  <tbody>\n",
       "    <tr>\n",
       "      <th>0</th>\n",
       "      <td>100TH</td>\n",
       "      <td>0</td>\n",
       "    </tr>\n",
       "    <tr>\n",
       "      <th>1</th>\n",
       "      <td>101ST</td>\n",
       "      <td>1</td>\n",
       "    </tr>\n",
       "    <tr>\n",
       "      <th>2</th>\n",
       "      <td>102ND</td>\n",
       "      <td>2</td>\n",
       "    </tr>\n",
       "    <tr>\n",
       "      <th>3</th>\n",
       "      <td>103RD</td>\n",
       "      <td>3</td>\n",
       "    </tr>\n",
       "    <tr>\n",
       "      <th>4</th>\n",
       "      <td>104TH</td>\n",
       "      <td>4</td>\n",
       "    </tr>\n",
       "  </tbody>\n",
       "</table>\n",
       "</div>"
      ],
      "text/plain": [
       "  ord_street_name  osn_id\n",
       "0           100TH       0\n",
       "1           101ST       1\n",
       "2           102ND       2\n",
       "3           103RD       3\n",
       "4           104TH       4"
      ]
     },
     "execution_count": 13,
     "metadata": {},
     "output_type": "execute_result"
    }
   ],
   "source": [
    "# make some ids - ord_street_name\n",
    "osn_df = st_name_type_df['ord_street_name'].drop_duplicates().to_frame().sort_values(by = 'ord_street_name').reset_index(drop = True)\n",
    "osn_df['osn_id'] = range(0, osn_df.shape[0])\n",
    "osn_df.head()"
   ]
  },
  {
   "cell_type": "code",
   "execution_count": 14,
   "id": "ee9629f2",
   "metadata": {},
   "outputs": [
    {
     "data": {
      "text/html": [
       "<div>\n",
       "<style scoped>\n",
       "    .dataframe tbody tr th:only-of-type {\n",
       "        vertical-align: middle;\n",
       "    }\n",
       "\n",
       "    .dataframe tbody tr th {\n",
       "        vertical-align: top;\n",
       "    }\n",
       "\n",
       "    .dataframe thead th {\n",
       "        text-align: right;\n",
       "    }\n",
       "</style>\n",
       "<table border=\"1\" class=\"dataframe\">\n",
       "  <thead>\n",
       "    <tr style=\"text-align: right;\">\n",
       "      <th></th>\n",
       "      <th>ord_street_name</th>\n",
       "      <th>ord_street_type</th>\n",
       "      <th>osn_ost</th>\n",
       "      <th>osn_ost_id</th>\n",
       "    </tr>\n",
       "  </thead>\n",
       "  <tbody>\n",
       "    <tr>\n",
       "      <th>0</th>\n",
       "      <td>100TH</td>\n",
       "      <td>PL</td>\n",
       "      <td>100TH PL</td>\n",
       "      <td>0</td>\n",
       "    </tr>\n",
       "    <tr>\n",
       "      <th>1</th>\n",
       "      <td>100TH</td>\n",
       "      <td>ST</td>\n",
       "      <td>100TH ST</td>\n",
       "      <td>1</td>\n",
       "    </tr>\n",
       "    <tr>\n",
       "      <th>2</th>\n",
       "      <td>101ST</td>\n",
       "      <td>PL</td>\n",
       "      <td>101ST PL</td>\n",
       "      <td>2</td>\n",
       "    </tr>\n",
       "    <tr>\n",
       "      <th>3</th>\n",
       "      <td>101ST</td>\n",
       "      <td>ST</td>\n",
       "      <td>101ST ST</td>\n",
       "      <td>3</td>\n",
       "    </tr>\n",
       "    <tr>\n",
       "      <th>4</th>\n",
       "      <td>102ND</td>\n",
       "      <td>LN</td>\n",
       "      <td>102ND LN</td>\n",
       "      <td>4</td>\n",
       "    </tr>\n",
       "  </tbody>\n",
       "</table>\n",
       "</div>"
      ],
      "text/plain": [
       "  ord_street_name ord_street_type   osn_ost  osn_ost_id\n",
       "0           100TH              PL  100TH PL           0\n",
       "1           100TH              ST  100TH ST           1\n",
       "2           101ST              PL  101ST PL           2\n",
       "3           101ST              ST  101ST ST           3\n",
       "4           102ND              LN  102ND LN           4"
      ]
     },
     "execution_count": 14,
     "metadata": {},
     "output_type": "execute_result"
    }
   ],
   "source": [
    "# ord_street_name and ord_street_type\n",
    "col_names = ['ord_street_name', 'ord_street_type']\n",
    "osn_ost_df = st_name_type_df[col_names].drop_duplicates().sort_values(by = col_names).reset_index(drop = True)\n",
    "osn_ost_df['osn_ost'] = osn_ost_df['ord_street_name'] + ' ' + osn_ost_df['ord_street_type']\n",
    "osn_ost_df['osn_ost_id'] = range(0, osn_ost_df.shape[0])\n",
    "osn_ost_df.head()\n"
   ]
  },
  {
   "cell_type": "code",
   "execution_count": 15,
   "id": "36dcb242",
   "metadata": {},
   "outputs": [
    {
     "data": {
      "text/html": [
       "<div>\n",
       "<style scoped>\n",
       "    .dataframe tbody tr th:only-of-type {\n",
       "        vertical-align: middle;\n",
       "    }\n",
       "\n",
       "    .dataframe tbody tr th {\n",
       "        vertical-align: top;\n",
       "    }\n",
       "\n",
       "    .dataframe thead th {\n",
       "        text-align: right;\n",
       "    }\n",
       "</style>\n",
       "<table border=\"1\" class=\"dataframe\">\n",
       "  <thead>\n",
       "    <tr style=\"text-align: right;\">\n",
       "      <th></th>\n",
       "      <th>ord_stname_concat</th>\n",
       "      <th>ostc_id</th>\n",
       "    </tr>\n",
       "  </thead>\n",
       "  <tbody>\n",
       "    <tr>\n",
       "      <th>0</th>\n",
       "      <td>10TH AVE</td>\n",
       "      <td>0</td>\n",
       "    </tr>\n",
       "    <tr>\n",
       "      <th>1</th>\n",
       "      <td>10TH AVE E</td>\n",
       "      <td>1</td>\n",
       "    </tr>\n",
       "    <tr>\n",
       "      <th>2</th>\n",
       "      <td>10TH AVE NE</td>\n",
       "      <td>2</td>\n",
       "    </tr>\n",
       "    <tr>\n",
       "      <th>3</th>\n",
       "      <td>10TH AVE NW</td>\n",
       "      <td>3</td>\n",
       "    </tr>\n",
       "    <tr>\n",
       "      <th>4</th>\n",
       "      <td>10TH AVE S</td>\n",
       "      <td>4</td>\n",
       "    </tr>\n",
       "  </tbody>\n",
       "</table>\n",
       "</div>"
      ],
      "text/plain": [
       "  ord_stname_concat  ostc_id\n",
       "0          10TH AVE        0\n",
       "1        10TH AVE E        1\n",
       "2       10TH AVE NE        2\n",
       "3       10TH AVE NW        3\n",
       "4        10TH AVE S        4"
      ]
     },
     "execution_count": 15,
     "metadata": {},
     "output_type": "execute_result"
    }
   ],
   "source": [
    "# ord_stname_concat\n",
    "ostc_df = st_name_type_df['ord_stname_concat'].drop_duplicates().to_frame().sort_values(by = 'ord_stname_concat').reset_index(drop = True)\n",
    "ostc_df['ostc_id'] = range(0, ostc_df.shape[0])\n",
    "ostc_df.head()\n"
   ]
  },
  {
   "cell_type": "code",
   "execution_count": 16,
   "id": "ba1a6e69",
   "metadata": {},
   "outputs": [],
   "source": [
    "# joins\n",
    "st_name_type_df = pd.merge(left = st_name_type_df, right = osn_df)\n",
    "st_name_type_df = pd.merge(left = st_name_type_df, right = osn_ost_df)\n",
    "st_name_type_df = pd.merge(left = st_name_type_df, right = ostc_df)\n",
    "\n"
   ]
  },
  {
   "cell_type": "code",
   "execution_count": 17,
   "id": "dd1882b6",
   "metadata": {},
   "outputs": [
    {
     "data": {
      "text/plain": [
       "(2455, 8)"
      ]
     },
     "execution_count": 17,
     "metadata": {},
     "output_type": "execute_result"
    }
   ],
   "source": [
    "st_name_type_df.shape"
   ]
  },
  {
   "cell_type": "code",
   "execution_count": 18,
   "id": "653aa22c",
   "metadata": {},
   "outputs": [
    {
     "data": {
      "text/html": [
       "<div>\n",
       "<style scoped>\n",
       "    .dataframe tbody tr th:only-of-type {\n",
       "        vertical-align: middle;\n",
       "    }\n",
       "\n",
       "    .dataframe tbody tr th {\n",
       "        vertical-align: top;\n",
       "    }\n",
       "\n",
       "    .dataframe thead th {\n",
       "        text-align: right;\n",
       "    }\n",
       "</style>\n",
       "<table border=\"1\" class=\"dataframe\">\n",
       "  <thead>\n",
       "    <tr style=\"text-align: right;\">\n",
       "      <th></th>\n",
       "      <th>ord_street_name</th>\n",
       "      <th>ord_street_type</th>\n",
       "      <th>ord_stname_concat</th>\n",
       "      <th>city_portion</th>\n",
       "      <th>osn_id</th>\n",
       "      <th>osn_ost</th>\n",
       "      <th>osn_ost_id</th>\n",
       "      <th>ostc_id</th>\n",
       "    </tr>\n",
       "  </thead>\n",
       "  <tbody>\n",
       "    <tr>\n",
       "      <th>0</th>\n",
       "      <td>100TH</td>\n",
       "      <td>PL</td>\n",
       "      <td>NW 100TH PL</td>\n",
       "      <td>NW</td>\n",
       "      <td>0</td>\n",
       "      <td>100TH PL</td>\n",
       "      <td>0</td>\n",
       "      <td>1450</td>\n",
       "    </tr>\n",
       "    <tr>\n",
       "      <th>1</th>\n",
       "      <td>100TH</td>\n",
       "      <td>PL</td>\n",
       "      <td>SW 100TH PL</td>\n",
       "      <td>SW</td>\n",
       "      <td>0</td>\n",
       "      <td>100TH PL</td>\n",
       "      <td>0</td>\n",
       "      <td>2041</td>\n",
       "    </tr>\n",
       "    <tr>\n",
       "      <th>2</th>\n",
       "      <td>100TH</td>\n",
       "      <td>ST</td>\n",
       "      <td>N 100TH ST</td>\n",
       "      <td>N</td>\n",
       "      <td>0</td>\n",
       "      <td>100TH ST</td>\n",
       "      <td>1</td>\n",
       "      <td>1127</td>\n",
       "    </tr>\n",
       "    <tr>\n",
       "      <th>3</th>\n",
       "      <td>100TH</td>\n",
       "      <td>ST</td>\n",
       "      <td>NE 100TH ST</td>\n",
       "      <td>NE</td>\n",
       "      <td>0</td>\n",
       "      <td>100TH ST</td>\n",
       "      <td>1</td>\n",
       "      <td>1253</td>\n",
       "    </tr>\n",
       "    <tr>\n",
       "      <th>4</th>\n",
       "      <td>100TH</td>\n",
       "      <td>ST</td>\n",
       "      <td>NW 100TH ST</td>\n",
       "      <td>NW</td>\n",
       "      <td>0</td>\n",
       "      <td>100TH ST</td>\n",
       "      <td>1</td>\n",
       "      <td>1451</td>\n",
       "    </tr>\n",
       "  </tbody>\n",
       "</table>\n",
       "</div>"
      ],
      "text/plain": [
       "  ord_street_name ord_street_type ord_stname_concat city_portion  osn_id  \\\n",
       "0           100TH              PL       NW 100TH PL           NW       0   \n",
       "1           100TH              PL       SW 100TH PL           SW       0   \n",
       "2           100TH              ST        N 100TH ST            N       0   \n",
       "3           100TH              ST       NE 100TH ST           NE       0   \n",
       "4           100TH              ST       NW 100TH ST           NW       0   \n",
       "\n",
       "    osn_ost  osn_ost_id  ostc_id  \n",
       "0  100TH PL           0     1450  \n",
       "1  100TH PL           0     2041  \n",
       "2  100TH ST           1     1127  \n",
       "3  100TH ST           1     1253  \n",
       "4  100TH ST           1     1451  "
      ]
     },
     "execution_count": 18,
     "metadata": {},
     "output_type": "execute_result"
    }
   ],
   "source": [
    "st_name_type_df.head()"
   ]
  },
  {
   "cell_type": "code",
   "execution_count": 19,
   "id": "3251b60a",
   "metadata": {},
   "outputs": [
    {
     "data": {
      "text/plain": [
       "array(['PL', 'ST', 'LN', 'WAY', 'AVE', 'CT', 'RD', 'BR', 'TER', 'CIR',\n",
       "       'DR', 'PKWY', 'BLVD', 'PZ', 'VIEW', 'LOOP'], dtype=object)"
      ]
     },
     "execution_count": 19,
     "metadata": {},
     "output_type": "execute_result"
    }
   ],
   "source": [
    "st_name_type_df['ord_street_type'].unique()"
   ]
  },
  {
   "cell_type": "code",
   "execution_count": 20,
   "id": "6994ede6",
   "metadata": {},
   "outputs": [
    {
     "data": {
      "text/plain": [
       "array(['NW', 'SW', 'N', 'NE', 'S', 'CNTR', 'E', 'W', 'WB'], dtype=object)"
      ]
     },
     "execution_count": 20,
     "metadata": {},
     "output_type": "execute_result"
    }
   ],
   "source": [
    "st_name_type_df['city_portion'].unique()"
   ]
  },
  {
   "cell_type": "code",
   "execution_count": 21,
   "id": "6a2ff16c",
   "metadata": {},
   "outputs": [],
   "source": [
    "check = st_name_type_df.loc[st_name_type_df['city_portion'] == 'WB', ]"
   ]
  },
  {
   "cell_type": "code",
   "execution_count": 23,
   "id": "23770638",
   "metadata": {},
   "outputs": [
    {
     "data": {
      "text/html": [
       "<div>\n",
       "<style scoped>\n",
       "    .dataframe tbody tr th:only-of-type {\n",
       "        vertical-align: middle;\n",
       "    }\n",
       "\n",
       "    .dataframe tbody tr th {\n",
       "        vertical-align: top;\n",
       "    }\n",
       "\n",
       "    .dataframe thead th {\n",
       "        text-align: right;\n",
       "    }\n",
       "</style>\n",
       "<table border=\"1\" class=\"dataframe\">\n",
       "  <thead>\n",
       "    <tr style=\"text-align: right;\">\n",
       "      <th></th>\n",
       "      <th>ord_street_name</th>\n",
       "      <th>ord_street_type</th>\n",
       "      <th>ord_stname_concat</th>\n",
       "      <th>city_portion</th>\n",
       "      <th>osn_id</th>\n",
       "      <th>osn_ost</th>\n",
       "      <th>osn_ost_id</th>\n",
       "      <th>ostc_id</th>\n",
       "    </tr>\n",
       "  </thead>\n",
       "  <tbody>\n",
       "    <tr>\n",
       "      <th>1799</th>\n",
       "      <td>MAGNOLIA</td>\n",
       "      <td>BR</td>\n",
       "      <td>MAGNOLIA BR WB</td>\n",
       "      <td>WB</td>\n",
       "      <td>727</td>\n",
       "      <td>MAGNOLIA BR</td>\n",
       "      <td>1066</td>\n",
       "      <td>1063</td>\n",
       "    </tr>\n",
       "  </tbody>\n",
       "</table>\n",
       "</div>"
      ],
      "text/plain": [
       "     ord_street_name ord_street_type ord_stname_concat city_portion  osn_id  \\\n",
       "1799        MAGNOLIA              BR    MAGNOLIA BR WB           WB     727   \n",
       "\n",
       "          osn_ost  osn_ost_id  ostc_id  \n",
       "1799  MAGNOLIA BR        1066     1063  "
      ]
     },
     "execution_count": 23,
     "metadata": {},
     "output_type": "execute_result"
    }
   ],
   "source": [
    "check"
   ]
  },
  {
   "cell_type": "code",
   "execution_count": 24,
   "id": "b647f1ea",
   "metadata": {},
   "outputs": [
    {
     "data": {
      "text/plain": [
       "(1631,)"
      ]
     },
     "execution_count": 24,
     "metadata": {},
     "output_type": "execute_result"
    }
   ],
   "source": [
    "# let's connect the ord_street_name and the ord_street_type\n",
    "st_name_type_df['osn_ost'].unique().shape"
   ]
  },
  {
   "cell_type": "code",
   "execution_count": 25,
   "id": "88eb3eff",
   "metadata": {},
   "outputs": [],
   "source": [
    "# LET'S COUNT HOW MANY STREETS WE NEED TO PLOT AND MANUALLY REVIEW"
   ]
  },
  {
   "cell_type": "code",
   "execution_count": 26,
   "id": "2bc35c74",
   "metadata": {},
   "outputs": [],
   "source": [
    "st_name_type_df['n_roads'] = int(1)"
   ]
  },
  {
   "cell_type": "code",
   "execution_count": null,
   "id": "9947a3af",
   "metadata": {},
   "outputs": [],
   "source": [
    "st_name_type_df.columns"
   ]
  },
  {
   "cell_type": "code",
   "execution_count": 28,
   "id": "98e51073",
   "metadata": {},
   "outputs": [],
   "source": [
    "pv_df = pd.pivot_table(data = st_name_type_df, values = ['n_roads'],\n",
    "                          index = ['ord_street_name', 'ord_street_type'],\n",
    "                          columns = ['city_portion'], aggfunc='sum', fill_value=0,\n",
    "                          margins=True)"
   ]
  },
  {
   "cell_type": "code",
   "execution_count": null,
   "id": "4475e233",
   "metadata": {},
   "outputs": [],
   "source": [
    "pv_df.head()"
   ]
  },
  {
   "cell_type": "code",
   "execution_count": 30,
   "id": "88478901",
   "metadata": {},
   "outputs": [],
   "source": [
    "pv_df.columns = [cn[1] for cn in pv_df.columns]"
   ]
  },
  {
   "cell_type": "code",
   "execution_count": null,
   "id": "801044af",
   "metadata": {},
   "outputs": [],
   "source": [
    "pv_df.columns"
   ]
  },
  {
   "cell_type": "code",
   "execution_count": 32,
   "id": "f6cf030b",
   "metadata": {},
   "outputs": [],
   "source": [
    "pv_df = pv_df.reset_index()"
   ]
  },
  {
   "cell_type": "code",
   "execution_count": null,
   "id": "ef4c8179",
   "metadata": {},
   "outputs": [],
   "source": [
    "pv_df.tail()"
   ]
  },
  {
   "cell_type": "code",
   "execution_count": 34,
   "id": "c2952609",
   "metadata": {},
   "outputs": [],
   "source": [
    "n_check = pv_df.loc[(pv_df['All'] >= 2), :].copy()"
   ]
  },
  {
   "cell_type": "code",
   "execution_count": 35,
   "id": "634124da",
   "metadata": {},
   "outputs": [],
   "source": [
    "n_check = n_check.drop(labels = ['WB'], axis = 1)"
   ]
  },
  {
   "cell_type": "code",
   "execution_count": 36,
   "id": "6bcab0d2",
   "metadata": {},
   "outputs": [],
   "source": [
    "n_check = n_check.loc[n_check['ord_street_name'] != 'All', :]"
   ]
  },
  {
   "cell_type": "code",
   "execution_count": null,
   "id": "f099c35a",
   "metadata": {},
   "outputs": [],
   "source": [
    "n_check.head()"
   ]
  },
  {
   "cell_type": "code",
   "execution_count": 38,
   "id": "2fde2efc",
   "metadata": {},
   "outputs": [],
   "source": [
    "melt_df = pd.melt(frame = n_check, id_vars = ['ord_street_name', 'ord_street_type'],var_name='city_portion', value_name = 'n_roads')"
   ]
  },
  {
   "cell_type": "code",
   "execution_count": 39,
   "id": "ee773ab7",
   "metadata": {},
   "outputs": [],
   "source": [
    "melt_df = melt_df.loc[(melt_df['n_roads'] > 0), :].copy()"
   ]
  },
  {
   "cell_type": "code",
   "execution_count": null,
   "id": "08b5f2d8",
   "metadata": {},
   "outputs": [],
   "source": [
    "melt_df.head()"
   ]
  },
  {
   "cell_type": "code",
   "execution_count": 41,
   "id": "f33269a8",
   "metadata": {},
   "outputs": [],
   "source": [
    "melt_df = melt_df.loc[(melt_df['city_portion'] != 'All'), :].copy()"
   ]
  },
  {
   "cell_type": "code",
   "execution_count": 42,
   "id": "dd2719ea",
   "metadata": {},
   "outputs": [],
   "source": [
    "melt_df = melt_df.sort_values(by = ['ord_street_name', 'ord_street_type', 'city_portion'])"
   ]
  },
  {
   "cell_type": "code",
   "execution_count": 43,
   "id": "2cc6c6c6",
   "metadata": {},
   "outputs": [],
   "source": [
    "melt_df = melt_df.drop(labels = ['n_roads'], axis = 1)"
   ]
  },
  {
   "cell_type": "code",
   "execution_count": null,
   "id": "316fbb63",
   "metadata": {},
   "outputs": [],
   "source": [
    "melt_df.head()"
   ]
  },
  {
   "cell_type": "code",
   "execution_count": 45,
   "id": "bb7194bc",
   "metadata": {},
   "outputs": [],
   "source": [
    "def get_sort_order(sn):\n",
    "    re_outcome = re.findall(pattern=r'\\d+', string = sn)\n",
    "    if re_outcome:\n",
    "        outcome = re_outcome[0]\n",
    "        outcome = outcome.zfill(3)\n",
    "    else:\n",
    "        outcome = sn\n",
    "    \n",
    "    return outcome"
   ]
  },
  {
   "cell_type": "code",
   "execution_count": 46,
   "id": "f6d4353c",
   "metadata": {},
   "outputs": [],
   "source": [
    "# get the numeric value of the streets, for the sort order...\n",
    "melt_df['sort_order'] = melt_df['ord_street_name'].map(get_sort_order)"
   ]
  },
  {
   "cell_type": "code",
   "execution_count": null,
   "id": "22afd39c",
   "metadata": {},
   "outputs": [],
   "source": [
    "melt_df.head()"
   ]
  },
  {
   "cell_type": "code",
   "execution_count": null,
   "id": "6d621f37",
   "metadata": {},
   "outputs": [],
   "source": []
  },
  {
   "cell_type": "code",
   "execution_count": 48,
   "id": "3c2e25aa",
   "metadata": {},
   "outputs": [],
   "source": [
    "col_names = ['sort_order', 'ord_street_name', 'ord_street_type', 'city_portion']\n",
    "melt_df = melt_df[col_names].sort_values(by = col_names[:4])"
   ]
  },
  {
   "cell_type": "code",
   "execution_count": 49,
   "id": "d7dab7cb",
   "metadata": {},
   "outputs": [],
   "source": [
    "melt_df = melt_df.set_index(keys = col_names[:4])"
   ]
  },
  {
   "cell_type": "code",
   "execution_count": null,
   "id": "766b6c46",
   "metadata": {},
   "outputs": [],
   "source": [
    "melt_df.head()"
   ]
  },
  {
   "cell_type": "code",
   "execution_count": null,
   "id": "67b357a4",
   "metadata": {},
   "outputs": [],
   "source": [
    "melt_df.shape"
   ]
  },
  {
   "cell_type": "code",
   "execution_count": 52,
   "id": "97c82ce1",
   "metadata": {},
   "outputs": [],
   "source": [
    "melt_df.to_excel(excel_writer='street_groups.xlsx')"
   ]
  },
  {
   "cell_type": "code",
   "execution_count": 53,
   "id": "8baaa84c",
   "metadata": {},
   "outputs": [],
   "source": [
    "# make plots"
   ]
  },
  {
   "cell_type": "code",
   "execution_count": 54,
   "id": "5b14fd52",
   "metadata": {},
   "outputs": [],
   "source": [
    "# color list\n",
    "cdm = {}\n",
    "dir_list = ['CNTR', 'E', 'N', 'NE', 'NW', 'S', 'SW', 'W']\n",
    "for idir, dir_value in enumerate(dir_list):\n",
    "    cdm[dir_value] = mpl.colormaps[\"Dark2\"].colors[idir]\n",
    "\n",
    "my_cmap = mpl.colors.ListedColormap([cdm[c] for c in dir_list])"
   ]
  },
  {
   "cell_type": "code",
   "execution_count": 55,
   "id": "42a44f0b",
   "metadata": {},
   "outputs": [],
   "source": [
    "# plot bounds to standardize\n",
    "bounds = [-122.4197794277490061,47.4803548409661005, -122.2200188105690017,47.7341482423694004]"
   ]
  },
  {
   "cell_type": "code",
   "execution_count": 56,
   "id": "5088cb8a",
   "metadata": {},
   "outputs": [],
   "source": [
    "# load the boundaries of the city sections\n",
    "ifpn = os.path.join(rc.OUTPUT_FILE_PATH, rc.S02_CITY_SECTIONS_OUT_FILE_NAME)\n",
    "cs_gdf = gpd.read_file(filename=ifpn)"
   ]
  },
  {
   "cell_type": "code",
   "execution_count": 57,
   "id": "5e3dea67",
   "metadata": {},
   "outputs": [],
   "source": [
    "output_path = 'H:/project/seattle_streets/print/individual_streets'"
   ]
  },
  {
   "cell_type": "code",
   "execution_count": 58,
   "id": "ee4a6a75",
   "metadata": {},
   "outputs": [],
   "source": [
    "melt_df = melt_df.reset_index()"
   ]
  },
  {
   "cell_type": "code",
   "execution_count": null,
   "id": "b0a81d6f",
   "metadata": {},
   "outputs": [],
   "source": [
    "melt_df.head()"
   ]
  },
  {
   "cell_type": "code",
   "execution_count": null,
   "id": "a9d15f03",
   "metadata": {},
   "outputs": [],
   "source": [
    "osn_ost_df.shape"
   ]
  },
  {
   "cell_type": "code",
   "execution_count": 61,
   "id": "6a1a78ff",
   "metadata": {},
   "outputs": [],
   "source": [
    "bk_df = melt_df[['ord_street_name', 'ord_street_type']].drop_duplicates()"
   ]
  },
  {
   "cell_type": "code",
   "execution_count": null,
   "id": "ca2837cf",
   "metadata": {},
   "outputs": [],
   "source": [
    "bk_df.shape"
   ]
  },
  {
   "cell_type": "code",
   "execution_count": 63,
   "id": "97e37f8d",
   "metadata": {},
   "outputs": [],
   "source": [
    "t_bk_df = bk_df.iloc[1:10]"
   ]
  },
  {
   "cell_type": "code",
   "execution_count": null,
   "id": "f6539b6d",
   "metadata": {},
   "outputs": [],
   "source": [
    "t_bk_df.head()"
   ]
  },
  {
   "cell_type": "code",
   "execution_count": 65,
   "id": "e0d6ac69",
   "metadata": {},
   "outputs": [],
   "source": [
    "make_plots = False\n",
    "if make_plots:\n",
    "    for irow, row in bk_df.iterrows():\n",
    "        osn = row['ord_street_name']\n",
    "        ost = row['ord_street_type']\n",
    "\n",
    "\n",
    "        output_file_name = f\"{osn}_{ost}.png\"\n",
    "        ofpn = os.path.join(output_path, output_file_name)\n",
    "        print(ofpn)\n",
    "\n",
    "        # now, let's make a map...\n",
    "        wgdf = gdf.loc[(gdf['ord_street_name'] == osn) &\n",
    "                    (gdf['ord_street_type'] == ost), :]\n",
    "        to_draw = wgdf[['city_portion', 'geometry']].dissolve(by = 'city_portion', as_index = False)\n",
    "        to_draw['coords'] = to_draw['geometry'].map(lambda x: x.centroid.coords[0])\n",
    "        fig = plt.figure(layout = 'constrained', figsize = (5, 10))\n",
    "        gs = GridSpec(1,1, figure = fig, height_ratios = [1])\n",
    "        ax1 = fig.add_subplot(gs[0,0])\n",
    "        ax1.set_xlim(bounds[0], bounds[2])\n",
    "        ax1.set_ylim(bounds[1], bounds[3])\n",
    "        cs_gdf.plot(ax = ax1, column = 'city_portion', alpha = .2)\n",
    "        to_draw.plot(ax = ax1, column = 'city_portion', cmap = my_cmap,  linewidth = 5, legend = True)\n",
    "\n",
    "        for irrow, row in to_draw.iterrows():    \n",
    "            ax1.annotate(text=row['city_portion'], xy=row['coords'], fontsize = 16 )\n",
    "\n",
    "        ax1.set_axis_off()\n",
    "\n",
    "        osn = wgdf['ord_street_name'].unique().tolist()[0]\n",
    "        ost = wgdf['ord_street_type'].unique().tolist()[0]\n",
    "        my_title = f\"Street Name: {osn} {ost}\"\n",
    "        plt.title(label = my_title)\n",
    "\n",
    "        #plt.show()\n",
    "\n",
    "        fig.savefig(fname = ofpn)\n",
    "        plt.close()"
   ]
  },
  {
   "cell_type": "code",
   "execution_count": 66,
   "id": "16726790",
   "metadata": {},
   "outputs": [],
   "source": [
    "# load the saved excel file with the manually created groups"
   ]
  },
  {
   "cell_type": "code",
   "execution_count": 67,
   "id": "a93388bb",
   "metadata": {},
   "outputs": [],
   "source": [
    "file_name = 'street_groups_working.xlsx'"
   ]
  },
  {
   "cell_type": "code",
   "execution_count": 68,
   "id": "f4e69199",
   "metadata": {},
   "outputs": [],
   "source": [
    "index_cols = ['sort_order', 'ord_street_name', 'ord_street_type', 'city_portion']"
   ]
  },
  {
   "cell_type": "code",
   "execution_count": 69,
   "id": "566ebb88",
   "metadata": {},
   "outputs": [],
   "source": [
    "sg_df = pd.read_excel(io = file_name, index_col=[0, 1, 2, 3])"
   ]
  },
  {
   "cell_type": "code",
   "execution_count": null,
   "id": "a83ffea2",
   "metadata": {},
   "outputs": [],
   "source": [
    "sg_df.head()"
   ]
  },
  {
   "cell_type": "code",
   "execution_count": 71,
   "id": "6dd1dba6",
   "metadata": {},
   "outputs": [],
   "source": [
    "sg_df = sg_df.reset_index()"
   ]
  },
  {
   "cell_type": "code",
   "execution_count": null,
   "id": "eab832d8",
   "metadata": {},
   "outputs": [],
   "source": [
    "sg_df.head()"
   ]
  },
  {
   "cell_type": "code",
   "execution_count": null,
   "id": "cc21a13b",
   "metadata": {},
   "outputs": [],
   "source": [
    "gdf.shape"
   ]
  },
  {
   "cell_type": "code",
   "execution_count": 74,
   "id": "e20a6eca",
   "metadata": {},
   "outputs": [],
   "source": [
    "gdf = pd.merge(left = gdf, right = sg_df, how = 'left')"
   ]
  },
  {
   "cell_type": "code",
   "execution_count": 75,
   "id": "d3e3ffd7",
   "metadata": {},
   "outputs": [],
   "source": [
    "drop_cols = ['sort_order', 'progress', 'count']\n",
    "gdf = gdf.drop(labels = drop_cols, axis = 1)"
   ]
  },
  {
   "cell_type": "code",
   "execution_count": 76,
   "id": "b127ffb4",
   "metadata": {},
   "outputs": [],
   "source": [
    "gdf['group_id'] = gdf['group_id'].fillna(1)"
   ]
  },
  {
   "cell_type": "code",
   "execution_count": null,
   "id": "36401989",
   "metadata": {},
   "outputs": [],
   "source": [
    "rc.S03_SND_WORKING_IN_FILE_NAME"
   ]
  },
  {
   "cell_type": "code",
   "execution_count": null,
   "id": "b3445807",
   "metadata": {},
   "outputs": [],
   "source": [
    "gdf.shape"
   ]
  },
  {
   "cell_type": "code",
   "execution_count": 79,
   "id": "da8ed778",
   "metadata": {},
   "outputs": [],
   "source": [
    "write_gdf(gdf = gdf, output_file_path=rc.OUTPUT_FILE_PATH, output_file_name='Street_Network_Database_Seattle_working_v2.gpkg')"
   ]
  },
  {
   "cell_type": "code",
   "execution_count": 80,
   "id": "780cc84f",
   "metadata": {},
   "outputs": [],
   "source": [
    "# is every state name represented as a street?"
   ]
  },
  {
   "cell_type": "code",
   "execution_count": 83,
   "id": "35404b03",
   "metadata": {},
   "outputs": [],
   "source": [
    "file_path = 'H:/data/census_geography/states/state_state_code.xlsx'"
   ]
  },
  {
   "cell_type": "code",
   "execution_count": 84,
   "id": "e5e12cb9",
   "metadata": {},
   "outputs": [],
   "source": [
    "state_df = pd.read_excel(io = file_path)"
   ]
  },
  {
   "cell_type": "code",
   "execution_count": 93,
   "id": "ab132fc1",
   "metadata": {},
   "outputs": [],
   "source": [
    "state_df = state_df.loc[state_df['State'] == 1, :]"
   ]
  },
  {
   "cell_type": "code",
   "execution_count": 97,
   "id": "3775595c",
   "metadata": {},
   "outputs": [],
   "source": [
    "s_set =  set([sn.strip().lower() for sn in state_df['Name ']])"
   ]
  },
  {
   "cell_type": "code",
   "execution_count": null,
   "id": "d26f463f",
   "metadata": {},
   "outputs": [],
   "source": [
    "s_set"
   ]
  },
  {
   "cell_type": "code",
   "execution_count": 99,
   "id": "372735b4",
   "metadata": {},
   "outputs": [],
   "source": [
    "street_name = set(gdf['ord_street_name'].str.lower())"
   ]
  },
  {
   "cell_type": "code",
   "execution_count": 100,
   "id": "d3361f22",
   "metadata": {},
   "outputs": [],
   "source": [
    "testo = s_set.intersection(street_name)"
   ]
  },
  {
   "cell_type": "code",
   "execution_count": null,
   "id": "7ee8b9d7",
   "metadata": {},
   "outputs": [],
   "source": [
    "len(testo)"
   ]
  },
  {
   "cell_type": "code",
   "execution_count": null,
   "id": "d9403947",
   "metadata": {},
   "outputs": [],
   "source": [
    "'york' in street_name"
   ]
  },
  {
   "cell_type": "code",
   "execution_count": null,
   "id": "042425db",
   "metadata": {},
   "outputs": [],
   "source": [
    "testo"
   ]
  }
 ],
 "metadata": {
  "kernelspec": {
   "display_name": "analysis",
   "language": "python",
   "name": "python3"
  },
  "language_info": {
   "codemirror_mode": {
    "name": "ipython",
    "version": 3
   },
   "file_extension": ".py",
   "mimetype": "text/x-python",
   "name": "python",
   "nbconvert_exporter": "python",
   "pygments_lexer": "ipython3",
   "version": "3.12.7"
  }
 },
 "nbformat": 4,
 "nbformat_minor": 5
}
