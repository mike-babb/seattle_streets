{
 "cells": [
  {
   "cell_type": "markdown",
   "id": "fed9e25b-c5b9-4aee-89cd-15a7da3945c0",
   "metadata": {},
   "source": [
    "# Part 06: Prep data for export for analysis for v2\n",
    "michael babb  \n",
    "2024 11 24"
   ]
  },
  {
   "cell_type": "code",
   "execution_count": 1,
   "id": "e88ca8b2-b75d-4e72-8fc7-65c4cea61cde",
   "metadata": {},
   "outputs": [],
   "source": [
    "# standard\n",
    "import os"
   ]
  },
  {
   "cell_type": "code",
   "execution_count": 2,
   "id": "0778d9a5-0c62-4724-be28-c21598d23b6f",
   "metadata": {},
   "outputs": [],
   "source": [
    "# external\n",
    "import geopandas as gpd\n",
    "import matplotlib as mpl\n",
    "from matplotlib.gridspec import GridSpec\n",
    "import matplotlib.pyplot as plt\n",
    "import numpy as np\n",
    "import pandas as pd\n",
    "import seaborn as sns"
   ]
  },
  {
   "cell_type": "code",
   "execution_count": 3,
   "id": "2fc61400-c637-4828-820d-56c2cdd14942",
   "metadata": {},
   "outputs": [],
   "source": [
    "# custom\n",
    "import run_constants as rc\n",
    "from utils import *"
   ]
  },
  {
   "cell_type": "markdown",
   "id": "d56ea77e-ffd7-4326-b793-415f8a131ef2",
   "metadata": {},
   "source": [
    "# load the street network data"
   ]
  },
  {
   "cell_type": "code",
   "execution_count": 4,
   "id": "ddf62724-9105-44c9-b983-e4f520328fa9",
   "metadata": {},
   "outputs": [],
   "source": [
    "fpn = os.path.join(rc.OUTPUT_FILE_PATH, rc.S03_SND_WORKING_IN_FILE_NAME)"
   ]
  },
  {
   "cell_type": "code",
   "execution_count": 5,
   "id": "2cbdb5c1-c973-4882-b442-cf5396e90d3e",
   "metadata": {},
   "outputs": [],
   "source": [
    "gdf = gpd.read_file(filename = fpn)"
   ]
  },
  {
   "cell_type": "code",
   "execution_count": 6,
   "id": "ce02bdf0-a0ca-46a5-bf8f-54b576ee2de7",
   "metadata": {},
   "outputs": [
    {
     "data": {
      "text/plain": [
       "Index(['f_intr_id', 't_intr_id', 'snd_id', 'snd_feacode', 'citycode',\n",
       "       'stname_id', 'st_code', 'arterial_code', 'segment_type', 'agency_code',\n",
       "       'access_code', 'divided_code', 'structure_type', 'legalloc_code',\n",
       "       'vehicle_use_code', 'gis_seg_length', 'l_adrs_from', 'l_adrs_to',\n",
       "       'r_adrs_from', 'r_adrs_to', 'ord_pre_dir', 'ord_street_name',\n",
       "       'ord_street_type', 'ord_suf_dir', 'ord_stname_concat', 'l_city',\n",
       "       'l_state', 'l_zip', 'r_city', 'r_state', 'r_zip', 'sndseg_update',\n",
       "       'compkey', 'comptype', 'unitid', 'unitid2', 'city_portion', 'geometry'],\n",
       "      dtype='object')"
      ]
     },
     "execution_count": 6,
     "metadata": {},
     "output_type": "execute_result"
    }
   ],
   "source": [
    "gdf.columns"
   ]
  },
  {
   "cell_type": "code",
   "execution_count": 7,
   "id": "0b203ee7-3a98-4f02-970b-b9d463918afe",
   "metadata": {},
   "outputs": [],
   "source": [
    "gdf['n_roads'] = int(1)"
   ]
  },
  {
   "cell_type": "markdown",
   "id": "d5a06e0f",
   "metadata": {},
   "source": [
    "# group data by street type for use in version 2.0"
   ]
  },
  {
   "cell_type": "code",
   "execution_count": 8,
   "id": "84cd647f",
   "metadata": {},
   "outputs": [],
   "source": [
    "col_names = ['ord_street_name', 'ord_street_type', 'ord_stname_concat', 'city_portion']\n",
    "st_name_type_df = gdf[col_names].drop_duplicates()"
   ]
  },
  {
   "cell_type": "code",
   "execution_count": 9,
   "id": "60f6479b",
   "metadata": {},
   "outputs": [
    {
     "data": {
      "text/plain": [
       "(2455, 4)"
      ]
     },
     "execution_count": 9,
     "metadata": {},
     "output_type": "execute_result"
    }
   ],
   "source": [
    "st_name_type_df.shape"
   ]
  },
  {
   "cell_type": "code",
   "execution_count": 10,
   "id": "72e855f9",
   "metadata": {},
   "outputs": [],
   "source": [
    "st_name_type_df = st_name_type_df.sort_values(by = ['ord_street_name', 'ord_street_type', 'ord_stname_concat'])"
   ]
  },
  {
   "cell_type": "code",
   "execution_count": 11,
   "id": "808de9d6",
   "metadata": {},
   "outputs": [
    {
     "data": {
      "text/html": [
       "<div>\n",
       "<style scoped>\n",
       "    .dataframe tbody tr th:only-of-type {\n",
       "        vertical-align: middle;\n",
       "    }\n",
       "\n",
       "    .dataframe tbody tr th {\n",
       "        vertical-align: top;\n",
       "    }\n",
       "\n",
       "    .dataframe thead th {\n",
       "        text-align: right;\n",
       "    }\n",
       "</style>\n",
       "<table border=\"1\" class=\"dataframe\">\n",
       "  <thead>\n",
       "    <tr style=\"text-align: right;\">\n",
       "      <th></th>\n",
       "      <th>ord_street_name</th>\n",
       "      <th>ord_street_type</th>\n",
       "      <th>ord_stname_concat</th>\n",
       "      <th>city_portion</th>\n",
       "    </tr>\n",
       "  </thead>\n",
       "  <tbody>\n",
       "    <tr>\n",
       "      <th>16649</th>\n",
       "      <td>100TH</td>\n",
       "      <td>PL</td>\n",
       "      <td>NW 100TH PL</td>\n",
       "      <td>NW</td>\n",
       "    </tr>\n",
       "    <tr>\n",
       "      <th>25064</th>\n",
       "      <td>100TH</td>\n",
       "      <td>PL</td>\n",
       "      <td>SW 100TH PL</td>\n",
       "      <td>SW</td>\n",
       "    </tr>\n",
       "    <tr>\n",
       "      <th>3392</th>\n",
       "      <td>100TH</td>\n",
       "      <td>ST</td>\n",
       "      <td>N 100TH ST</td>\n",
       "      <td>N</td>\n",
       "    </tr>\n",
       "    <tr>\n",
       "      <th>1185</th>\n",
       "      <td>100TH</td>\n",
       "      <td>ST</td>\n",
       "      <td>NE 100TH ST</td>\n",
       "      <td>NE</td>\n",
       "    </tr>\n",
       "    <tr>\n",
       "      <th>1685</th>\n",
       "      <td>100TH</td>\n",
       "      <td>ST</td>\n",
       "      <td>NW 100TH ST</td>\n",
       "      <td>NW</td>\n",
       "    </tr>\n",
       "    <tr>\n",
       "      <th>1741</th>\n",
       "      <td>100TH</td>\n",
       "      <td>ST</td>\n",
       "      <td>S 100TH ST</td>\n",
       "      <td>S</td>\n",
       "    </tr>\n",
       "    <tr>\n",
       "      <th>967</th>\n",
       "      <td>100TH</td>\n",
       "      <td>ST</td>\n",
       "      <td>SW 100TH ST</td>\n",
       "      <td>SW</td>\n",
       "    </tr>\n",
       "    <tr>\n",
       "      <th>25063</th>\n",
       "      <td>101ST</td>\n",
       "      <td>PL</td>\n",
       "      <td>SW 101ST PL</td>\n",
       "      <td>SW</td>\n",
       "    </tr>\n",
       "    <tr>\n",
       "      <th>2324</th>\n",
       "      <td>101ST</td>\n",
       "      <td>ST</td>\n",
       "      <td>N 101ST ST</td>\n",
       "      <td>N</td>\n",
       "    </tr>\n",
       "    <tr>\n",
       "      <th>1785</th>\n",
       "      <td>101ST</td>\n",
       "      <td>ST</td>\n",
       "      <td>NW 101ST ST</td>\n",
       "      <td>NW</td>\n",
       "    </tr>\n",
       "  </tbody>\n",
       "</table>\n",
       "</div>"
      ],
      "text/plain": [
       "      ord_street_name ord_street_type ord_stname_concat city_portion\n",
       "16649           100TH              PL       NW 100TH PL           NW\n",
       "25064           100TH              PL       SW 100TH PL           SW\n",
       "3392            100TH              ST        N 100TH ST            N\n",
       "1185            100TH              ST       NE 100TH ST           NE\n",
       "1685            100TH              ST       NW 100TH ST           NW\n",
       "1741            100TH              ST        S 100TH ST            S\n",
       "967             100TH              ST       SW 100TH ST           SW\n",
       "25063           101ST              PL       SW 101ST PL           SW\n",
       "2324            101ST              ST        N 101ST ST            N\n",
       "1785            101ST              ST       NW 101ST ST           NW"
      ]
     },
     "execution_count": 11,
     "metadata": {},
     "output_type": "execute_result"
    }
   ],
   "source": [
    "st_name_type_df.head(n=10)"
   ]
  },
  {
   "cell_type": "code",
   "execution_count": 12,
   "id": "a7adcaf1",
   "metadata": {},
   "outputs": [
    {
     "data": {
      "text/plain": [
       "(2455, 4)"
      ]
     },
     "execution_count": 12,
     "metadata": {},
     "output_type": "execute_result"
    }
   ],
   "source": [
    "st_name_type_df.shape"
   ]
  },
  {
   "cell_type": "code",
   "execution_count": 13,
   "id": "6310b146",
   "metadata": {},
   "outputs": [
    {
     "data": {
      "text/html": [
       "<div>\n",
       "<style scoped>\n",
       "    .dataframe tbody tr th:only-of-type {\n",
       "        vertical-align: middle;\n",
       "    }\n",
       "\n",
       "    .dataframe tbody tr th {\n",
       "        vertical-align: top;\n",
       "    }\n",
       "\n",
       "    .dataframe thead th {\n",
       "        text-align: right;\n",
       "    }\n",
       "</style>\n",
       "<table border=\"1\" class=\"dataframe\">\n",
       "  <thead>\n",
       "    <tr style=\"text-align: right;\">\n",
       "      <th></th>\n",
       "      <th>ord_street_name</th>\n",
       "      <th>osn_id</th>\n",
       "    </tr>\n",
       "  </thead>\n",
       "  <tbody>\n",
       "    <tr>\n",
       "      <th>0</th>\n",
       "      <td>100TH</td>\n",
       "      <td>0</td>\n",
       "    </tr>\n",
       "    <tr>\n",
       "      <th>1</th>\n",
       "      <td>101ST</td>\n",
       "      <td>1</td>\n",
       "    </tr>\n",
       "    <tr>\n",
       "      <th>2</th>\n",
       "      <td>102ND</td>\n",
       "      <td>2</td>\n",
       "    </tr>\n",
       "    <tr>\n",
       "      <th>3</th>\n",
       "      <td>103RD</td>\n",
       "      <td>3</td>\n",
       "    </tr>\n",
       "    <tr>\n",
       "      <th>4</th>\n",
       "      <td>104TH</td>\n",
       "      <td>4</td>\n",
       "    </tr>\n",
       "  </tbody>\n",
       "</table>\n",
       "</div>"
      ],
      "text/plain": [
       "  ord_street_name  osn_id\n",
       "0           100TH       0\n",
       "1           101ST       1\n",
       "2           102ND       2\n",
       "3           103RD       3\n",
       "4           104TH       4"
      ]
     },
     "execution_count": 13,
     "metadata": {},
     "output_type": "execute_result"
    }
   ],
   "source": [
    "# make some ids - ord_street_name\n",
    "osn_df = st_name_type_df['ord_street_name'].drop_duplicates().to_frame().sort_values(by = 'ord_street_name').reset_index(drop = True)\n",
    "osn_df['osn_id'] = range(0, osn_df.shape[0])\n",
    "osn_df.head()"
   ]
  },
  {
   "cell_type": "code",
   "execution_count": 14,
   "id": "ee9629f2",
   "metadata": {},
   "outputs": [
    {
     "data": {
      "text/html": [
       "<div>\n",
       "<style scoped>\n",
       "    .dataframe tbody tr th:only-of-type {\n",
       "        vertical-align: middle;\n",
       "    }\n",
       "\n",
       "    .dataframe tbody tr th {\n",
       "        vertical-align: top;\n",
       "    }\n",
       "\n",
       "    .dataframe thead th {\n",
       "        text-align: right;\n",
       "    }\n",
       "</style>\n",
       "<table border=\"1\" class=\"dataframe\">\n",
       "  <thead>\n",
       "    <tr style=\"text-align: right;\">\n",
       "      <th></th>\n",
       "      <th>ord_street_name</th>\n",
       "      <th>ord_street_type</th>\n",
       "      <th>osn_ost</th>\n",
       "      <th>osn_ost_id</th>\n",
       "    </tr>\n",
       "  </thead>\n",
       "  <tbody>\n",
       "    <tr>\n",
       "      <th>0</th>\n",
       "      <td>100TH</td>\n",
       "      <td>PL</td>\n",
       "      <td>100TH PL</td>\n",
       "      <td>0</td>\n",
       "    </tr>\n",
       "    <tr>\n",
       "      <th>1</th>\n",
       "      <td>100TH</td>\n",
       "      <td>ST</td>\n",
       "      <td>100TH ST</td>\n",
       "      <td>1</td>\n",
       "    </tr>\n",
       "    <tr>\n",
       "      <th>2</th>\n",
       "      <td>101ST</td>\n",
       "      <td>PL</td>\n",
       "      <td>101ST PL</td>\n",
       "      <td>2</td>\n",
       "    </tr>\n",
       "    <tr>\n",
       "      <th>3</th>\n",
       "      <td>101ST</td>\n",
       "      <td>ST</td>\n",
       "      <td>101ST ST</td>\n",
       "      <td>3</td>\n",
       "    </tr>\n",
       "    <tr>\n",
       "      <th>4</th>\n",
       "      <td>102ND</td>\n",
       "      <td>LN</td>\n",
       "      <td>102ND LN</td>\n",
       "      <td>4</td>\n",
       "    </tr>\n",
       "  </tbody>\n",
       "</table>\n",
       "</div>"
      ],
      "text/plain": [
       "  ord_street_name ord_street_type   osn_ost  osn_ost_id\n",
       "0           100TH              PL  100TH PL           0\n",
       "1           100TH              ST  100TH ST           1\n",
       "2           101ST              PL  101ST PL           2\n",
       "3           101ST              ST  101ST ST           3\n",
       "4           102ND              LN  102ND LN           4"
      ]
     },
     "execution_count": 14,
     "metadata": {},
     "output_type": "execute_result"
    }
   ],
   "source": [
    "# ord_street_name and ord_street_type\n",
    "col_names = ['ord_street_name', 'ord_street_type']\n",
    "osn_ost_df = st_name_type_df[col_names].drop_duplicates().sort_values(by = col_names).reset_index(drop = True)\n",
    "osn_ost_df['osn_ost'] = osn_ost_df['ord_street_name'] + ' ' + osn_ost_df['ord_street_type']\n",
    "osn_ost_df['osn_ost_id'] = range(0, osn_ost_df.shape[0])\n",
    "osn_ost_df.head()\n"
   ]
  },
  {
   "cell_type": "code",
   "execution_count": 15,
   "id": "36dcb242",
   "metadata": {},
   "outputs": [
    {
     "data": {
      "text/html": [
       "<div>\n",
       "<style scoped>\n",
       "    .dataframe tbody tr th:only-of-type {\n",
       "        vertical-align: middle;\n",
       "    }\n",
       "\n",
       "    .dataframe tbody tr th {\n",
       "        vertical-align: top;\n",
       "    }\n",
       "\n",
       "    .dataframe thead th {\n",
       "        text-align: right;\n",
       "    }\n",
       "</style>\n",
       "<table border=\"1\" class=\"dataframe\">\n",
       "  <thead>\n",
       "    <tr style=\"text-align: right;\">\n",
       "      <th></th>\n",
       "      <th>ord_stname_concat</th>\n",
       "      <th>ostc_id</th>\n",
       "    </tr>\n",
       "  </thead>\n",
       "  <tbody>\n",
       "    <tr>\n",
       "      <th>0</th>\n",
       "      <td>10TH AVE</td>\n",
       "      <td>0</td>\n",
       "    </tr>\n",
       "    <tr>\n",
       "      <th>1</th>\n",
       "      <td>10TH AVE E</td>\n",
       "      <td>1</td>\n",
       "    </tr>\n",
       "    <tr>\n",
       "      <th>2</th>\n",
       "      <td>10TH AVE NE</td>\n",
       "      <td>2</td>\n",
       "    </tr>\n",
       "    <tr>\n",
       "      <th>3</th>\n",
       "      <td>10TH AVE NW</td>\n",
       "      <td>3</td>\n",
       "    </tr>\n",
       "    <tr>\n",
       "      <th>4</th>\n",
       "      <td>10TH AVE S</td>\n",
       "      <td>4</td>\n",
       "    </tr>\n",
       "  </tbody>\n",
       "</table>\n",
       "</div>"
      ],
      "text/plain": [
       "  ord_stname_concat  ostc_id\n",
       "0          10TH AVE        0\n",
       "1        10TH AVE E        1\n",
       "2       10TH AVE NE        2\n",
       "3       10TH AVE NW        3\n",
       "4        10TH AVE S        4"
      ]
     },
     "execution_count": 15,
     "metadata": {},
     "output_type": "execute_result"
    }
   ],
   "source": [
    "# ord_stname_concat\n",
    "ostc_df = st_name_type_df['ord_stname_concat'].drop_duplicates().to_frame().sort_values(by = 'ord_stname_concat').reset_index(drop = True)\n",
    "ostc_df['ostc_id'] = range(0, ostc_df.shape[0])\n",
    "ostc_df.head()\n"
   ]
  },
  {
   "cell_type": "code",
   "execution_count": 16,
   "id": "ba1a6e69",
   "metadata": {},
   "outputs": [],
   "source": [
    "# joins\n",
    "st_name_type_df = pd.merge(left = st_name_type_df, right = osn_df)\n",
    "st_name_type_df = pd.merge(left = st_name_type_df, right = osn_ost_df)\n",
    "st_name_type_df = pd.merge(left = st_name_type_df, right = ostc_df)\n",
    "\n"
   ]
  },
  {
   "cell_type": "code",
   "execution_count": 17,
   "id": "dd1882b6",
   "metadata": {},
   "outputs": [
    {
     "data": {
      "text/plain": [
       "(2455, 8)"
      ]
     },
     "execution_count": 17,
     "metadata": {},
     "output_type": "execute_result"
    }
   ],
   "source": [
    "st_name_type_df.shape"
   ]
  },
  {
   "cell_type": "code",
   "execution_count": 18,
   "id": "653aa22c",
   "metadata": {},
   "outputs": [
    {
     "data": {
      "text/html": [
       "<div>\n",
       "<style scoped>\n",
       "    .dataframe tbody tr th:only-of-type {\n",
       "        vertical-align: middle;\n",
       "    }\n",
       "\n",
       "    .dataframe tbody tr th {\n",
       "        vertical-align: top;\n",
       "    }\n",
       "\n",
       "    .dataframe thead th {\n",
       "        text-align: right;\n",
       "    }\n",
       "</style>\n",
       "<table border=\"1\" class=\"dataframe\">\n",
       "  <thead>\n",
       "    <tr style=\"text-align: right;\">\n",
       "      <th></th>\n",
       "      <th>ord_street_name</th>\n",
       "      <th>ord_street_type</th>\n",
       "      <th>ord_stname_concat</th>\n",
       "      <th>city_portion</th>\n",
       "      <th>osn_id</th>\n",
       "      <th>osn_ost</th>\n",
       "      <th>osn_ost_id</th>\n",
       "      <th>ostc_id</th>\n",
       "    </tr>\n",
       "  </thead>\n",
       "  <tbody>\n",
       "    <tr>\n",
       "      <th>0</th>\n",
       "      <td>100TH</td>\n",
       "      <td>PL</td>\n",
       "      <td>NW 100TH PL</td>\n",
       "      <td>NW</td>\n",
       "      <td>0</td>\n",
       "      <td>100TH PL</td>\n",
       "      <td>0</td>\n",
       "      <td>1450</td>\n",
       "    </tr>\n",
       "    <tr>\n",
       "      <th>1</th>\n",
       "      <td>100TH</td>\n",
       "      <td>PL</td>\n",
       "      <td>SW 100TH PL</td>\n",
       "      <td>SW</td>\n",
       "      <td>0</td>\n",
       "      <td>100TH PL</td>\n",
       "      <td>0</td>\n",
       "      <td>2041</td>\n",
       "    </tr>\n",
       "    <tr>\n",
       "      <th>2</th>\n",
       "      <td>100TH</td>\n",
       "      <td>ST</td>\n",
       "      <td>N 100TH ST</td>\n",
       "      <td>N</td>\n",
       "      <td>0</td>\n",
       "      <td>100TH ST</td>\n",
       "      <td>1</td>\n",
       "      <td>1127</td>\n",
       "    </tr>\n",
       "    <tr>\n",
       "      <th>3</th>\n",
       "      <td>100TH</td>\n",
       "      <td>ST</td>\n",
       "      <td>NE 100TH ST</td>\n",
       "      <td>NE</td>\n",
       "      <td>0</td>\n",
       "      <td>100TH ST</td>\n",
       "      <td>1</td>\n",
       "      <td>1253</td>\n",
       "    </tr>\n",
       "    <tr>\n",
       "      <th>4</th>\n",
       "      <td>100TH</td>\n",
       "      <td>ST</td>\n",
       "      <td>NW 100TH ST</td>\n",
       "      <td>NW</td>\n",
       "      <td>0</td>\n",
       "      <td>100TH ST</td>\n",
       "      <td>1</td>\n",
       "      <td>1451</td>\n",
       "    </tr>\n",
       "  </tbody>\n",
       "</table>\n",
       "</div>"
      ],
      "text/plain": [
       "  ord_street_name ord_street_type ord_stname_concat city_portion  osn_id  \\\n",
       "0           100TH              PL       NW 100TH PL           NW       0   \n",
       "1           100TH              PL       SW 100TH PL           SW       0   \n",
       "2           100TH              ST        N 100TH ST            N       0   \n",
       "3           100TH              ST       NE 100TH ST           NE       0   \n",
       "4           100TH              ST       NW 100TH ST           NW       0   \n",
       "\n",
       "    osn_ost  osn_ost_id  ostc_id  \n",
       "0  100TH PL           0     1450  \n",
       "1  100TH PL           0     2041  \n",
       "2  100TH ST           1     1127  \n",
       "3  100TH ST           1     1253  \n",
       "4  100TH ST           1     1451  "
      ]
     },
     "execution_count": 18,
     "metadata": {},
     "output_type": "execute_result"
    }
   ],
   "source": [
    "st_name_type_df.head()"
   ]
  },
  {
   "cell_type": "code",
   "execution_count": 19,
   "id": "3251b60a",
   "metadata": {},
   "outputs": [
    {
     "data": {
      "text/plain": [
       "array(['PL', 'ST', 'LN', 'WAY', 'AVE', 'CT', 'RD', 'BR', 'TER', 'CIR',\n",
       "       'DR', 'PKWY', 'BLVD', 'PZ', 'VIEW', 'LOOP'], dtype=object)"
      ]
     },
     "execution_count": 19,
     "metadata": {},
     "output_type": "execute_result"
    }
   ],
   "source": [
    "st_name_type_df['ord_street_type'].unique()"
   ]
  },
  {
   "cell_type": "code",
   "execution_count": 20,
   "id": "6994ede6",
   "metadata": {},
   "outputs": [
    {
     "data": {
      "text/plain": [
       "array(['NW', 'SW', 'N', 'NE', 'S', 'CNTR', 'E', 'W', 'WB'], dtype=object)"
      ]
     },
     "execution_count": 20,
     "metadata": {},
     "output_type": "execute_result"
    }
   ],
   "source": [
    "st_name_type_df['city_portion'].unique()"
   ]
  },
  {
   "cell_type": "code",
   "execution_count": 21,
   "id": "b647f1ea",
   "metadata": {},
   "outputs": [
    {
     "data": {
      "text/plain": [
       "(1631,)"
      ]
     },
     "execution_count": 21,
     "metadata": {},
     "output_type": "execute_result"
    }
   ],
   "source": [
    "# let's connect the ord_street_name and the ord_street_type\n",
    "st_name_type_df['osn_ost'].unique().shape"
   ]
  },
  {
   "cell_type": "code",
   "execution_count": 22,
   "id": "88eb3eff",
   "metadata": {},
   "outputs": [],
   "source": [
    "# LET'S COUNT HOW MANY STREETS WE NEED TO PLOT AND MANUALLY REVIEW"
   ]
  },
  {
   "cell_type": "code",
   "execution_count": 23,
   "id": "2bc35c74",
   "metadata": {},
   "outputs": [],
   "source": [
    "st_name_type_df['n_roads'] = int(1)"
   ]
  },
  {
   "cell_type": "code",
   "execution_count": 24,
   "id": "9947a3af",
   "metadata": {},
   "outputs": [
    {
     "data": {
      "text/plain": [
       "Index(['ord_street_name', 'ord_street_type', 'ord_stname_concat',\n",
       "       'city_portion', 'osn_id', 'osn_ost', 'osn_ost_id', 'ostc_id',\n",
       "       'n_roads'],\n",
       "      dtype='object')"
      ]
     },
     "execution_count": 24,
     "metadata": {},
     "output_type": "execute_result"
    }
   ],
   "source": [
    "st_name_type_df.columns"
   ]
  },
  {
   "cell_type": "code",
   "execution_count": 25,
   "id": "98e51073",
   "metadata": {},
   "outputs": [],
   "source": [
    "pv_df = pd.pivot_table(data = st_name_type_df, values = ['n_roads'],\n",
    "                          index = ['ord_street_name', 'ord_street_type'],\n",
    "                          columns = ['city_portion'], aggfunc='sum', fill_value=0,\n",
    "                          margins=True)"
   ]
  },
  {
   "cell_type": "code",
   "execution_count": 26,
   "id": "4475e233",
   "metadata": {},
   "outputs": [
    {
     "data": {
      "text/html": [
       "<div>\n",
       "<style scoped>\n",
       "    .dataframe tbody tr th:only-of-type {\n",
       "        vertical-align: middle;\n",
       "    }\n",
       "\n",
       "    .dataframe tbody tr th {\n",
       "        vertical-align: top;\n",
       "    }\n",
       "\n",
       "    .dataframe thead tr th {\n",
       "        text-align: left;\n",
       "    }\n",
       "\n",
       "    .dataframe thead tr:last-of-type th {\n",
       "        text-align: right;\n",
       "    }\n",
       "</style>\n",
       "<table border=\"1\" class=\"dataframe\">\n",
       "  <thead>\n",
       "    <tr>\n",
       "      <th></th>\n",
       "      <th></th>\n",
       "      <th colspan=\"10\" halign=\"left\">n_roads</th>\n",
       "    </tr>\n",
       "    <tr>\n",
       "      <th></th>\n",
       "      <th>city_portion</th>\n",
       "      <th>CNTR</th>\n",
       "      <th>E</th>\n",
       "      <th>N</th>\n",
       "      <th>NE</th>\n",
       "      <th>NW</th>\n",
       "      <th>S</th>\n",
       "      <th>SW</th>\n",
       "      <th>W</th>\n",
       "      <th>WB</th>\n",
       "      <th>All</th>\n",
       "    </tr>\n",
       "    <tr>\n",
       "      <th>ord_street_name</th>\n",
       "      <th>ord_street_type</th>\n",
       "      <th></th>\n",
       "      <th></th>\n",
       "      <th></th>\n",
       "      <th></th>\n",
       "      <th></th>\n",
       "      <th></th>\n",
       "      <th></th>\n",
       "      <th></th>\n",
       "      <th></th>\n",
       "      <th></th>\n",
       "    </tr>\n",
       "  </thead>\n",
       "  <tbody>\n",
       "    <tr>\n",
       "      <th rowspan=\"2\" valign=\"top\">100TH</th>\n",
       "      <th>PL</th>\n",
       "      <td>0</td>\n",
       "      <td>0</td>\n",
       "      <td>0</td>\n",
       "      <td>0</td>\n",
       "      <td>1</td>\n",
       "      <td>0</td>\n",
       "      <td>1</td>\n",
       "      <td>0</td>\n",
       "      <td>0</td>\n",
       "      <td>2</td>\n",
       "    </tr>\n",
       "    <tr>\n",
       "      <th>ST</th>\n",
       "      <td>0</td>\n",
       "      <td>0</td>\n",
       "      <td>1</td>\n",
       "      <td>1</td>\n",
       "      <td>1</td>\n",
       "      <td>1</td>\n",
       "      <td>1</td>\n",
       "      <td>0</td>\n",
       "      <td>0</td>\n",
       "      <td>5</td>\n",
       "    </tr>\n",
       "    <tr>\n",
       "      <th rowspan=\"2\" valign=\"top\">101ST</th>\n",
       "      <th>PL</th>\n",
       "      <td>0</td>\n",
       "      <td>0</td>\n",
       "      <td>0</td>\n",
       "      <td>0</td>\n",
       "      <td>0</td>\n",
       "      <td>0</td>\n",
       "      <td>1</td>\n",
       "      <td>0</td>\n",
       "      <td>0</td>\n",
       "      <td>1</td>\n",
       "    </tr>\n",
       "    <tr>\n",
       "      <th>ST</th>\n",
       "      <td>0</td>\n",
       "      <td>0</td>\n",
       "      <td>1</td>\n",
       "      <td>0</td>\n",
       "      <td>1</td>\n",
       "      <td>1</td>\n",
       "      <td>1</td>\n",
       "      <td>0</td>\n",
       "      <td>0</td>\n",
       "      <td>4</td>\n",
       "    </tr>\n",
       "    <tr>\n",
       "      <th>102ND</th>\n",
       "      <th>LN</th>\n",
       "      <td>0</td>\n",
       "      <td>0</td>\n",
       "      <td>0</td>\n",
       "      <td>0</td>\n",
       "      <td>0</td>\n",
       "      <td>0</td>\n",
       "      <td>1</td>\n",
       "      <td>0</td>\n",
       "      <td>0</td>\n",
       "      <td>1</td>\n",
       "    </tr>\n",
       "  </tbody>\n",
       "</table>\n",
       "</div>"
      ],
      "text/plain": [
       "                                n_roads                            \n",
       "city_portion                       CNTR  E  N NE NW  S SW  W WB All\n",
       "ord_street_name ord_street_type                                    \n",
       "100TH           PL                    0  0  0  0  1  0  1  0  0   2\n",
       "                ST                    0  0  1  1  1  1  1  0  0   5\n",
       "101ST           PL                    0  0  0  0  0  0  1  0  0   1\n",
       "                ST                    0  0  1  0  1  1  1  0  0   4\n",
       "102ND           LN                    0  0  0  0  0  0  1  0  0   1"
      ]
     },
     "execution_count": 26,
     "metadata": {},
     "output_type": "execute_result"
    }
   ],
   "source": [
    "pv_df.head()"
   ]
  },
  {
   "cell_type": "code",
   "execution_count": 27,
   "id": "88478901",
   "metadata": {},
   "outputs": [],
   "source": [
    "pv_df.columns = [cn[1] for cn in pv_df.columns]"
   ]
  },
  {
   "cell_type": "code",
   "execution_count": 28,
   "id": "801044af",
   "metadata": {},
   "outputs": [
    {
     "data": {
      "text/plain": [
       "Index(['CNTR', 'E', 'N', 'NE', 'NW', 'S', 'SW', 'W', 'WB', 'All'], dtype='object')"
      ]
     },
     "execution_count": 28,
     "metadata": {},
     "output_type": "execute_result"
    }
   ],
   "source": [
    "pv_df.columns"
   ]
  },
  {
   "cell_type": "code",
   "execution_count": 29,
   "id": "f6cf030b",
   "metadata": {},
   "outputs": [],
   "source": [
    "pv_df = pv_df.reset_index()"
   ]
  },
  {
   "cell_type": "code",
   "execution_count": 30,
   "id": "ef4c8179",
   "metadata": {},
   "outputs": [
    {
     "data": {
      "text/html": [
       "<div>\n",
       "<style scoped>\n",
       "    .dataframe tbody tr th:only-of-type {\n",
       "        vertical-align: middle;\n",
       "    }\n",
       "\n",
       "    .dataframe tbody tr th {\n",
       "        vertical-align: top;\n",
       "    }\n",
       "\n",
       "    .dataframe thead th {\n",
       "        text-align: right;\n",
       "    }\n",
       "</style>\n",
       "<table border=\"1\" class=\"dataframe\">\n",
       "  <thead>\n",
       "    <tr style=\"text-align: right;\">\n",
       "      <th></th>\n",
       "      <th>ord_street_name</th>\n",
       "      <th>ord_street_type</th>\n",
       "      <th>CNTR</th>\n",
       "      <th>E</th>\n",
       "      <th>N</th>\n",
       "      <th>NE</th>\n",
       "      <th>NW</th>\n",
       "      <th>S</th>\n",
       "      <th>SW</th>\n",
       "      <th>W</th>\n",
       "      <th>WB</th>\n",
       "      <th>All</th>\n",
       "    </tr>\n",
       "  </thead>\n",
       "  <tbody>\n",
       "    <tr>\n",
       "      <th>1627</th>\n",
       "      <td>YESLER</td>\n",
       "      <td>WAY</td>\n",
       "      <td>1</td>\n",
       "      <td>1</td>\n",
       "      <td>0</td>\n",
       "      <td>0</td>\n",
       "      <td>0</td>\n",
       "      <td>0</td>\n",
       "      <td>0</td>\n",
       "      <td>0</td>\n",
       "      <td>0</td>\n",
       "      <td>2</td>\n",
       "    </tr>\n",
       "    <tr>\n",
       "      <th>1628</th>\n",
       "      <td>YESLER TERRACE ACC</td>\n",
       "      <td>RD</td>\n",
       "      <td>1</td>\n",
       "      <td>0</td>\n",
       "      <td>0</td>\n",
       "      <td>0</td>\n",
       "      <td>0</td>\n",
       "      <td>0</td>\n",
       "      <td>0</td>\n",
       "      <td>0</td>\n",
       "      <td>0</td>\n",
       "      <td>1</td>\n",
       "    </tr>\n",
       "    <tr>\n",
       "      <th>1629</th>\n",
       "      <td>YORK</td>\n",
       "      <td>RD</td>\n",
       "      <td>0</td>\n",
       "      <td>0</td>\n",
       "      <td>0</td>\n",
       "      <td>0</td>\n",
       "      <td>0</td>\n",
       "      <td>1</td>\n",
       "      <td>0</td>\n",
       "      <td>0</td>\n",
       "      <td>0</td>\n",
       "      <td>1</td>\n",
       "    </tr>\n",
       "    <tr>\n",
       "      <th>1630</th>\n",
       "      <td>YUKON</td>\n",
       "      <td>AVE</td>\n",
       "      <td>0</td>\n",
       "      <td>0</td>\n",
       "      <td>0</td>\n",
       "      <td>0</td>\n",
       "      <td>0</td>\n",
       "      <td>1</td>\n",
       "      <td>0</td>\n",
       "      <td>0</td>\n",
       "      <td>0</td>\n",
       "      <td>1</td>\n",
       "    </tr>\n",
       "    <tr>\n",
       "      <th>1631</th>\n",
       "      <td>All</td>\n",
       "      <td></td>\n",
       "      <td>233</td>\n",
       "      <td>185</td>\n",
       "      <td>232</td>\n",
       "      <td>377</td>\n",
       "      <td>242</td>\n",
       "      <td>606</td>\n",
       "      <td>377</td>\n",
       "      <td>202</td>\n",
       "      <td>1</td>\n",
       "      <td>2455</td>\n",
       "    </tr>\n",
       "  </tbody>\n",
       "</table>\n",
       "</div>"
      ],
      "text/plain": [
       "         ord_street_name ord_street_type  CNTR    E    N   NE   NW    S   SW  \\\n",
       "1627              YESLER             WAY     1    1    0    0    0    0    0   \n",
       "1628  YESLER TERRACE ACC              RD     1    0    0    0    0    0    0   \n",
       "1629                YORK              RD     0    0    0    0    0    1    0   \n",
       "1630               YUKON             AVE     0    0    0    0    0    1    0   \n",
       "1631                 All                   233  185  232  377  242  606  377   \n",
       "\n",
       "        W  WB   All  \n",
       "1627    0   0     2  \n",
       "1628    0   0     1  \n",
       "1629    0   0     1  \n",
       "1630    0   0     1  \n",
       "1631  202   1  2455  "
      ]
     },
     "execution_count": 30,
     "metadata": {},
     "output_type": "execute_result"
    }
   ],
   "source": [
    "pv_df.tail()"
   ]
  },
  {
   "cell_type": "code",
   "execution_count": 31,
   "id": "c2952609",
   "metadata": {},
   "outputs": [],
   "source": [
    "n_check = pv_df.loc[(pv_df['All'] >= 2), :].copy()"
   ]
  },
  {
   "cell_type": "code",
   "execution_count": 32,
   "id": "634124da",
   "metadata": {},
   "outputs": [],
   "source": [
    "n_check = n_check.drop(labels = ['WB'], axis = 1)"
   ]
  },
  {
   "cell_type": "code",
   "execution_count": 33,
   "id": "6bcab0d2",
   "metadata": {},
   "outputs": [],
   "source": [
    "n_check = n_check.loc[n_check['ord_street_name'] != 'All', :]"
   ]
  },
  {
   "cell_type": "code",
   "execution_count": 34,
   "id": "f099c35a",
   "metadata": {},
   "outputs": [
    {
     "data": {
      "text/html": [
       "<div>\n",
       "<style scoped>\n",
       "    .dataframe tbody tr th:only-of-type {\n",
       "        vertical-align: middle;\n",
       "    }\n",
       "\n",
       "    .dataframe tbody tr th {\n",
       "        vertical-align: top;\n",
       "    }\n",
       "\n",
       "    .dataframe thead th {\n",
       "        text-align: right;\n",
       "    }\n",
       "</style>\n",
       "<table border=\"1\" class=\"dataframe\">\n",
       "  <thead>\n",
       "    <tr style=\"text-align: right;\">\n",
       "      <th></th>\n",
       "      <th>ord_street_name</th>\n",
       "      <th>ord_street_type</th>\n",
       "      <th>CNTR</th>\n",
       "      <th>E</th>\n",
       "      <th>N</th>\n",
       "      <th>NE</th>\n",
       "      <th>NW</th>\n",
       "      <th>S</th>\n",
       "      <th>SW</th>\n",
       "      <th>W</th>\n",
       "      <th>All</th>\n",
       "    </tr>\n",
       "  </thead>\n",
       "  <tbody>\n",
       "    <tr>\n",
       "      <th>0</th>\n",
       "      <td>100TH</td>\n",
       "      <td>PL</td>\n",
       "      <td>0</td>\n",
       "      <td>0</td>\n",
       "      <td>0</td>\n",
       "      <td>0</td>\n",
       "      <td>1</td>\n",
       "      <td>0</td>\n",
       "      <td>1</td>\n",
       "      <td>0</td>\n",
       "      <td>2</td>\n",
       "    </tr>\n",
       "    <tr>\n",
       "      <th>1</th>\n",
       "      <td>100TH</td>\n",
       "      <td>ST</td>\n",
       "      <td>0</td>\n",
       "      <td>0</td>\n",
       "      <td>1</td>\n",
       "      <td>1</td>\n",
       "      <td>1</td>\n",
       "      <td>1</td>\n",
       "      <td>1</td>\n",
       "      <td>0</td>\n",
       "      <td>5</td>\n",
       "    </tr>\n",
       "    <tr>\n",
       "      <th>3</th>\n",
       "      <td>101ST</td>\n",
       "      <td>ST</td>\n",
       "      <td>0</td>\n",
       "      <td>0</td>\n",
       "      <td>1</td>\n",
       "      <td>0</td>\n",
       "      <td>1</td>\n",
       "      <td>1</td>\n",
       "      <td>1</td>\n",
       "      <td>0</td>\n",
       "      <td>4</td>\n",
       "    </tr>\n",
       "    <tr>\n",
       "      <th>5</th>\n",
       "      <td>102ND</td>\n",
       "      <td>ST</td>\n",
       "      <td>0</td>\n",
       "      <td>0</td>\n",
       "      <td>1</td>\n",
       "      <td>1</td>\n",
       "      <td>0</td>\n",
       "      <td>1</td>\n",
       "      <td>1</td>\n",
       "      <td>0</td>\n",
       "      <td>4</td>\n",
       "    </tr>\n",
       "    <tr>\n",
       "      <th>6</th>\n",
       "      <td>103RD</td>\n",
       "      <td>PL</td>\n",
       "      <td>0</td>\n",
       "      <td>0</td>\n",
       "      <td>0</td>\n",
       "      <td>1</td>\n",
       "      <td>0</td>\n",
       "      <td>0</td>\n",
       "      <td>1</td>\n",
       "      <td>0</td>\n",
       "      <td>2</td>\n",
       "    </tr>\n",
       "  </tbody>\n",
       "</table>\n",
       "</div>"
      ],
      "text/plain": [
       "  ord_street_name ord_street_type  CNTR  E  N  NE  NW  S  SW  W  All\n",
       "0           100TH              PL     0  0  0   0   1  0   1  0    2\n",
       "1           100TH              ST     0  0  1   1   1  1   1  0    5\n",
       "3           101ST              ST     0  0  1   0   1  1   1  0    4\n",
       "5           102ND              ST     0  0  1   1   0  1   1  0    4\n",
       "6           103RD              PL     0  0  0   1   0  0   1  0    2"
      ]
     },
     "execution_count": 34,
     "metadata": {},
     "output_type": "execute_result"
    }
   ],
   "source": [
    "n_check.head()"
   ]
  },
  {
   "cell_type": "code",
   "execution_count": 42,
   "id": "2fde2efc",
   "metadata": {},
   "outputs": [],
   "source": [
    "melt_df = pd.melt(frame = n_check, id_vars = ['ord_street_name', 'ord_street_type'],var_name='city_portion', value_name = 'n_roads')"
   ]
  },
  {
   "cell_type": "code",
   "execution_count": 43,
   "id": "ee773ab7",
   "metadata": {},
   "outputs": [],
   "source": [
    "melt_df = melt_df.loc[(melt_df['n_roads'] > 0), :].copy()"
   ]
  },
  {
   "cell_type": "code",
   "execution_count": 44,
   "id": "08b5f2d8",
   "metadata": {},
   "outputs": [
    {
     "data": {
      "text/html": [
       "<div>\n",
       "<style scoped>\n",
       "    .dataframe tbody tr th:only-of-type {\n",
       "        vertical-align: middle;\n",
       "    }\n",
       "\n",
       "    .dataframe tbody tr th {\n",
       "        vertical-align: top;\n",
       "    }\n",
       "\n",
       "    .dataframe thead th {\n",
       "        text-align: right;\n",
       "    }\n",
       "</style>\n",
       "<table border=\"1\" class=\"dataframe\">\n",
       "  <thead>\n",
       "    <tr style=\"text-align: right;\">\n",
       "      <th></th>\n",
       "      <th>ord_street_name</th>\n",
       "      <th>ord_street_type</th>\n",
       "      <th>city_portion</th>\n",
       "      <th>n_roads</th>\n",
       "    </tr>\n",
       "  </thead>\n",
       "  <tbody>\n",
       "    <tr>\n",
       "      <th>14</th>\n",
       "      <td>10TH</td>\n",
       "      <td>AVE</td>\n",
       "      <td>CNTR</td>\n",
       "      <td>1</td>\n",
       "    </tr>\n",
       "    <tr>\n",
       "      <th>30</th>\n",
       "      <td>11TH</td>\n",
       "      <td>AVE</td>\n",
       "      <td>CNTR</td>\n",
       "      <td>1</td>\n",
       "    </tr>\n",
       "    <tr>\n",
       "      <th>42</th>\n",
       "      <td>12TH</td>\n",
       "      <td>AVE</td>\n",
       "      <td>CNTR</td>\n",
       "      <td>1</td>\n",
       "    </tr>\n",
       "    <tr>\n",
       "      <th>55</th>\n",
       "      <td>13TH</td>\n",
       "      <td>AVE</td>\n",
       "      <td>CNTR</td>\n",
       "      <td>1</td>\n",
       "    </tr>\n",
       "    <tr>\n",
       "      <th>61</th>\n",
       "      <td>14TH</td>\n",
       "      <td>AVE</td>\n",
       "      <td>CNTR</td>\n",
       "      <td>1</td>\n",
       "    </tr>\n",
       "  </tbody>\n",
       "</table>\n",
       "</div>"
      ],
      "text/plain": [
       "   ord_street_name ord_street_type city_portion  n_roads\n",
       "14            10TH             AVE         CNTR        1\n",
       "30            11TH             AVE         CNTR        1\n",
       "42            12TH             AVE         CNTR        1\n",
       "55            13TH             AVE         CNTR        1\n",
       "61            14TH             AVE         CNTR        1"
      ]
     },
     "execution_count": 44,
     "metadata": {},
     "output_type": "execute_result"
    }
   ],
   "source": [
    "melt_df.head()"
   ]
  },
  {
   "cell_type": "code",
   "execution_count": 45,
   "id": "f33269a8",
   "metadata": {},
   "outputs": [],
   "source": [
    "melt_df = melt_df.loc[(melt_df['city_portion'] != 'All'), :].copy()"
   ]
  },
  {
   "cell_type": "code",
   "execution_count": 46,
   "id": "dd2719ea",
   "metadata": {},
   "outputs": [],
   "source": [
    "melt_df = melt_df.sort_values(by = ['ord_street_name', 'ord_street_type', 'city_portion'])"
   ]
  },
  {
   "cell_type": "code",
   "execution_count": 47,
   "id": "2cc6c6c6",
   "metadata": {},
   "outputs": [],
   "source": [
    "melt_df = melt_df.drop(labels = ['n_roads'], axis = 1)"
   ]
  },
  {
   "cell_type": "code",
   "execution_count": 48,
   "id": "316fbb63",
   "metadata": {},
   "outputs": [
    {
     "data": {
      "text/html": [
       "<div>\n",
       "<style scoped>\n",
       "    .dataframe tbody tr th:only-of-type {\n",
       "        vertical-align: middle;\n",
       "    }\n",
       "\n",
       "    .dataframe tbody tr th {\n",
       "        vertical-align: top;\n",
       "    }\n",
       "\n",
       "    .dataframe thead th {\n",
       "        text-align: right;\n",
       "    }\n",
       "</style>\n",
       "<table border=\"1\" class=\"dataframe\">\n",
       "  <thead>\n",
       "    <tr style=\"text-align: right;\">\n",
       "      <th></th>\n",
       "      <th>ord_street_name</th>\n",
       "      <th>ord_street_type</th>\n",
       "      <th>city_portion</th>\n",
       "    </tr>\n",
       "  </thead>\n",
       "  <tbody>\n",
       "    <tr>\n",
       "      <th>1636</th>\n",
       "      <td>100TH</td>\n",
       "      <td>PL</td>\n",
       "      <td>NW</td>\n",
       "    </tr>\n",
       "    <tr>\n",
       "      <th>2454</th>\n",
       "      <td>100TH</td>\n",
       "      <td>PL</td>\n",
       "      <td>SW</td>\n",
       "    </tr>\n",
       "    <tr>\n",
       "      <th>819</th>\n",
       "      <td>100TH</td>\n",
       "      <td>ST</td>\n",
       "      <td>N</td>\n",
       "    </tr>\n",
       "    <tr>\n",
       "      <th>1228</th>\n",
       "      <td>100TH</td>\n",
       "      <td>ST</td>\n",
       "      <td>NE</td>\n",
       "    </tr>\n",
       "    <tr>\n",
       "      <th>1637</th>\n",
       "      <td>100TH</td>\n",
       "      <td>ST</td>\n",
       "      <td>NW</td>\n",
       "    </tr>\n",
       "  </tbody>\n",
       "</table>\n",
       "</div>"
      ],
      "text/plain": [
       "     ord_street_name ord_street_type city_portion\n",
       "1636           100TH              PL           NW\n",
       "2454           100TH              PL           SW\n",
       "819            100TH              ST            N\n",
       "1228           100TH              ST           NE\n",
       "1637           100TH              ST           NW"
      ]
     },
     "execution_count": 48,
     "metadata": {},
     "output_type": "execute_result"
    }
   ],
   "source": [
    "melt_df.head()"
   ]
  },
  {
   "cell_type": "code",
   "execution_count": 82,
   "id": "f5f97cc7",
   "metadata": {},
   "outputs": [
    {
     "data": {
      "text/plain": [
       "True"
      ]
     },
     "execution_count": 82,
     "metadata": {},
     "output_type": "execute_result"
    }
   ],
   "source": [
    "'1' in '123'"
   ]
  },
  {
   "cell_type": "code",
   "execution_count": 95,
   "id": "b72df07a",
   "metadata": {},
   "outputs": [],
   "source": [
    "import re\n",
    "\n",
    "pattern = r'\\d+'\n",
    "test_string = \"tuesday\""
   ]
  },
  {
   "cell_type": "code",
   "execution_count": 96,
   "id": "d3547dfd",
   "metadata": {},
   "outputs": [],
   "source": [
    "outcome = re.findall(pattern=pattern, string=test_string)"
   ]
  },
  {
   "cell_type": "code",
   "execution_count": 99,
   "id": "7609387d",
   "metadata": {},
   "outputs": [
    {
     "data": {
      "text/plain": [
       "[]"
      ]
     },
     "execution_count": 99,
     "metadata": {},
     "output_type": "execute_result"
    }
   ],
   "source": [
    "outcome"
   ]
  },
  {
   "cell_type": "code",
   "execution_count": 101,
   "id": "bb7194bc",
   "metadata": {},
   "outputs": [],
   "source": [
    "def get_sort_order(sn):\n",
    "    re_outcome = re.findall(pattern=r'\\d+', string = sn)\n",
    "    if re_outcome:\n",
    "        outcome = re_outcome[0]\n",
    "        outcome = outcome.zfill(3)\n",
    "    else:\n",
    "        outcome = sn\n",
    "    \n",
    "    return outcome"
   ]
  },
  {
   "cell_type": "code",
   "execution_count": 102,
   "id": "f6d4353c",
   "metadata": {},
   "outputs": [],
   "source": [
    "# get the numeric value of the streets, for the sort order...\n",
    "melt_df['sort_order'] = melt_df['ord_street_name'].map(get_sort_order)"
   ]
  },
  {
   "cell_type": "code",
   "execution_count": 103,
   "id": "22afd39c",
   "metadata": {},
   "outputs": [
    {
     "data": {
      "text/html": [
       "<div>\n",
       "<style scoped>\n",
       "    .dataframe tbody tr th:only-of-type {\n",
       "        vertical-align: middle;\n",
       "    }\n",
       "\n",
       "    .dataframe tbody tr th {\n",
       "        vertical-align: top;\n",
       "    }\n",
       "\n",
       "    .dataframe thead th {\n",
       "        text-align: right;\n",
       "    }\n",
       "</style>\n",
       "<table border=\"1\" class=\"dataframe\">\n",
       "  <thead>\n",
       "    <tr style=\"text-align: right;\">\n",
       "      <th></th>\n",
       "      <th>ord_street_name</th>\n",
       "      <th>ord_street_type</th>\n",
       "      <th>city_portion</th>\n",
       "      <th>group_id</th>\n",
       "      <th>sort_order</th>\n",
       "    </tr>\n",
       "  </thead>\n",
       "  <tbody>\n",
       "    <tr>\n",
       "      <th>0</th>\n",
       "      <td>100TH</td>\n",
       "      <td>PL</td>\n",
       "      <td>NW</td>\n",
       "      <td></td>\n",
       "      <td>100</td>\n",
       "    </tr>\n",
       "    <tr>\n",
       "      <th>1</th>\n",
       "      <td>100TH</td>\n",
       "      <td>PL</td>\n",
       "      <td>SW</td>\n",
       "      <td></td>\n",
       "      <td>100</td>\n",
       "    </tr>\n",
       "    <tr>\n",
       "      <th>2</th>\n",
       "      <td>100TH</td>\n",
       "      <td>ST</td>\n",
       "      <td>N</td>\n",
       "      <td></td>\n",
       "      <td>100</td>\n",
       "    </tr>\n",
       "    <tr>\n",
       "      <th>3</th>\n",
       "      <td>100TH</td>\n",
       "      <td>ST</td>\n",
       "      <td>NE</td>\n",
       "      <td></td>\n",
       "      <td>100</td>\n",
       "    </tr>\n",
       "    <tr>\n",
       "      <th>4</th>\n",
       "      <td>100TH</td>\n",
       "      <td>ST</td>\n",
       "      <td>NW</td>\n",
       "      <td></td>\n",
       "      <td>100</td>\n",
       "    </tr>\n",
       "  </tbody>\n",
       "</table>\n",
       "</div>"
      ],
      "text/plain": [
       "  ord_street_name ord_street_type city_portion group_id sort_order\n",
       "0           100TH              PL           NW                 100\n",
       "1           100TH              PL           SW                 100\n",
       "2           100TH              ST            N                 100\n",
       "3           100TH              ST           NE                 100\n",
       "4           100TH              ST           NW                 100"
      ]
     },
     "execution_count": 103,
     "metadata": {},
     "output_type": "execute_result"
    }
   ],
   "source": [
    "melt_df.head()"
   ]
  },
  {
   "cell_type": "code",
   "execution_count": 107,
   "id": "3c2e25aa",
   "metadata": {},
   "outputs": [],
   "source": [
    "col_names = ['sort_order', 'ord_street_name', 'ord_street_type', 'city_portion', 'group_id']\n",
    "melt_df = melt_df[col_names].sort_values(by = col_names[:4])"
   ]
  },
  {
   "cell_type": "code",
   "execution_count": 108,
   "id": "d7dab7cb",
   "metadata": {},
   "outputs": [],
   "source": [
    "melt_df = melt_df.set_index(keys = col_names[:4])"
   ]
  },
  {
   "cell_type": "code",
   "execution_count": 109,
   "id": "766b6c46",
   "metadata": {},
   "outputs": [
    {
     "data": {
      "text/html": [
       "<div>\n",
       "<style scoped>\n",
       "    .dataframe tbody tr th:only-of-type {\n",
       "        vertical-align: middle;\n",
       "    }\n",
       "\n",
       "    .dataframe tbody tr th {\n",
       "        vertical-align: top;\n",
       "    }\n",
       "\n",
       "    .dataframe thead th {\n",
       "        text-align: right;\n",
       "    }\n",
       "</style>\n",
       "<table border=\"1\" class=\"dataframe\">\n",
       "  <thead>\n",
       "    <tr style=\"text-align: right;\">\n",
       "      <th></th>\n",
       "      <th></th>\n",
       "      <th></th>\n",
       "      <th></th>\n",
       "      <th>group_id</th>\n",
       "    </tr>\n",
       "    <tr>\n",
       "      <th>sort_order</th>\n",
       "      <th>ord_street_name</th>\n",
       "      <th>ord_street_type</th>\n",
       "      <th>city_portion</th>\n",
       "      <th></th>\n",
       "    </tr>\n",
       "  </thead>\n",
       "  <tbody>\n",
       "    <tr>\n",
       "      <th rowspan=\"5\" valign=\"top\">001</th>\n",
       "      <th rowspan=\"5\" valign=\"top\">1ST</th>\n",
       "      <th rowspan=\"5\" valign=\"top\">AVE</th>\n",
       "      <th>CNTR</th>\n",
       "      <td></td>\n",
       "    </tr>\n",
       "    <tr>\n",
       "      <th>N</th>\n",
       "      <td></td>\n",
       "    </tr>\n",
       "    <tr>\n",
       "      <th>NE</th>\n",
       "      <td></td>\n",
       "    </tr>\n",
       "    <tr>\n",
       "      <th>NW</th>\n",
       "      <td></td>\n",
       "    </tr>\n",
       "    <tr>\n",
       "      <th>S</th>\n",
       "      <td></td>\n",
       "    </tr>\n",
       "  </tbody>\n",
       "</table>\n",
       "</div>"
      ],
      "text/plain": [
       "                                                        group_id\n",
       "sort_order ord_street_name ord_street_type city_portion         \n",
       "001        1ST             AVE             CNTR                 \n",
       "                                           N                    \n",
       "                                           NE                   \n",
       "                                           NW                   \n",
       "                                           S                    "
      ]
     },
     "execution_count": 109,
     "metadata": {},
     "output_type": "execute_result"
    }
   ],
   "source": [
    "melt_df.head()"
   ]
  },
  {
   "cell_type": "code",
   "execution_count": 110,
   "id": "67b357a4",
   "metadata": {},
   "outputs": [
    {
     "data": {
      "text/plain": [
       "(1216, 1)"
      ]
     },
     "execution_count": 110,
     "metadata": {},
     "output_type": "execute_result"
    }
   ],
   "source": [
    "melt_df.shape"
   ]
  },
  {
   "cell_type": "code",
   "execution_count": 111,
   "id": "97c82ce1",
   "metadata": {},
   "outputs": [],
   "source": [
    "melt_df.to_excel(excel_writer='street_groups.xlsx')"
   ]
  },
  {
   "cell_type": "code",
   "execution_count": 53,
   "id": "8baaa84c",
   "metadata": {},
   "outputs": [],
   "source": [
    "# make plots"
   ]
  },
  {
   "cell_type": "code",
   "execution_count": 54,
   "id": "5b14fd52",
   "metadata": {},
   "outputs": [],
   "source": [
    "# color list\n",
    "cdm = {}\n",
    "dir_list = ['CNTR', 'E', 'N', 'NE', 'NW', 'S', 'SW', 'W']\n",
    "for idir, dir_value in enumerate(dir_list):\n",
    "    cdm[dir_value] = mpl.colormaps[\"Dark2\"].colors[idir]\n",
    "\n",
    "my_cmap = mpl.colors.ListedColormap([cdm[c] for c in dir_list])"
   ]
  },
  {
   "cell_type": "code",
   "execution_count": 55,
   "id": "42a44f0b",
   "metadata": {},
   "outputs": [],
   "source": [
    "# plot bounds to standardize\n",
    "bounds = [-122.4197794277490061,47.4803548409661005, -122.2200188105690017,47.7341482423694004]"
   ]
  },
  {
   "cell_type": "code",
   "execution_count": 56,
   "id": "5088cb8a",
   "metadata": {},
   "outputs": [],
   "source": [
    "# load the boundaries of the city sections\n",
    "ifpn = os.path.join(rc.OUTPUT_FILE_PATH, rc.S02_CITY_SECTIONS_OUT_FILE_NAME)\n",
    "cs_gdf = gpd.read_file(filename=ifpn)"
   ]
  },
  {
   "cell_type": "code",
   "execution_count": 57,
   "id": "5e3dea67",
   "metadata": {},
   "outputs": [],
   "source": [
    "output_path = 'H:/project/seattle_streets/print/individual_streets'"
   ]
  },
  {
   "cell_type": "code",
   "execution_count": 59,
   "id": "ee4a6a75",
   "metadata": {},
   "outputs": [],
   "source": [
    "melt_df = melt_df.reset_index()"
   ]
  },
  {
   "cell_type": "code",
   "execution_count": 60,
   "id": "b0a81d6f",
   "metadata": {},
   "outputs": [
    {
     "data": {
      "text/html": [
       "<div>\n",
       "<style scoped>\n",
       "    .dataframe tbody tr th:only-of-type {\n",
       "        vertical-align: middle;\n",
       "    }\n",
       "\n",
       "    .dataframe tbody tr th {\n",
       "        vertical-align: top;\n",
       "    }\n",
       "\n",
       "    .dataframe thead th {\n",
       "        text-align: right;\n",
       "    }\n",
       "</style>\n",
       "<table border=\"1\" class=\"dataframe\">\n",
       "  <thead>\n",
       "    <tr style=\"text-align: right;\">\n",
       "      <th></th>\n",
       "      <th>ord_street_name</th>\n",
       "      <th>ord_street_type</th>\n",
       "      <th>city_portion</th>\n",
       "      <th>group_id</th>\n",
       "    </tr>\n",
       "  </thead>\n",
       "  <tbody>\n",
       "    <tr>\n",
       "      <th>0</th>\n",
       "      <td>100TH</td>\n",
       "      <td>PL</td>\n",
       "      <td>NW</td>\n",
       "      <td></td>\n",
       "    </tr>\n",
       "    <tr>\n",
       "      <th>1</th>\n",
       "      <td>100TH</td>\n",
       "      <td>PL</td>\n",
       "      <td>SW</td>\n",
       "      <td></td>\n",
       "    </tr>\n",
       "    <tr>\n",
       "      <th>2</th>\n",
       "      <td>100TH</td>\n",
       "      <td>ST</td>\n",
       "      <td>N</td>\n",
       "      <td></td>\n",
       "    </tr>\n",
       "    <tr>\n",
       "      <th>3</th>\n",
       "      <td>100TH</td>\n",
       "      <td>ST</td>\n",
       "      <td>NE</td>\n",
       "      <td></td>\n",
       "    </tr>\n",
       "    <tr>\n",
       "      <th>4</th>\n",
       "      <td>100TH</td>\n",
       "      <td>ST</td>\n",
       "      <td>NW</td>\n",
       "      <td></td>\n",
       "    </tr>\n",
       "  </tbody>\n",
       "</table>\n",
       "</div>"
      ],
      "text/plain": [
       "  ord_street_name ord_street_type city_portion group_id\n",
       "0           100TH              PL           NW         \n",
       "1           100TH              PL           SW         \n",
       "2           100TH              ST            N         \n",
       "3           100TH              ST           NE         \n",
       "4           100TH              ST           NW         "
      ]
     },
     "execution_count": 60,
     "metadata": {},
     "output_type": "execute_result"
    }
   ],
   "source": [
    "melt_df.head()"
   ]
  },
  {
   "cell_type": "code",
   "execution_count": 62,
   "id": "a9d15f03",
   "metadata": {},
   "outputs": [
    {
     "data": {
      "text/plain": [
       "(1631, 4)"
      ]
     },
     "execution_count": 62,
     "metadata": {},
     "output_type": "execute_result"
    }
   ],
   "source": [
    "osn_ost_df.shape"
   ]
  },
  {
   "cell_type": "code",
   "execution_count": 64,
   "id": "6a1a78ff",
   "metadata": {},
   "outputs": [],
   "source": [
    "bk_df = melt_df[['ord_street_name', 'ord_street_type']].drop_duplicates()"
   ]
  },
  {
   "cell_type": "code",
   "execution_count": 65,
   "id": "ca2837cf",
   "metadata": {},
   "outputs": [
    {
     "data": {
      "text/plain": [
       "(409, 2)"
      ]
     },
     "execution_count": 65,
     "metadata": {},
     "output_type": "execute_result"
    }
   ],
   "source": [
    "bk_df.shape"
   ]
  },
  {
   "cell_type": "code",
   "execution_count": 78,
   "id": "97e37f8d",
   "metadata": {},
   "outputs": [],
   "source": [
    "t_bk_df = bk_df.iloc[1:10]"
   ]
  },
  {
   "cell_type": "code",
   "execution_count": 79,
   "id": "f6539b6d",
   "metadata": {},
   "outputs": [
    {
     "data": {
      "text/html": [
       "<div>\n",
       "<style scoped>\n",
       "    .dataframe tbody tr th:only-of-type {\n",
       "        vertical-align: middle;\n",
       "    }\n",
       "\n",
       "    .dataframe tbody tr th {\n",
       "        vertical-align: top;\n",
       "    }\n",
       "\n",
       "    .dataframe thead th {\n",
       "        text-align: right;\n",
       "    }\n",
       "</style>\n",
       "<table border=\"1\" class=\"dataframe\">\n",
       "  <thead>\n",
       "    <tr style=\"text-align: right;\">\n",
       "      <th></th>\n",
       "      <th>ord_street_name</th>\n",
       "      <th>ord_street_type</th>\n",
       "    </tr>\n",
       "  </thead>\n",
       "  <tbody>\n",
       "    <tr>\n",
       "      <th>2</th>\n",
       "      <td>100TH</td>\n",
       "      <td>ST</td>\n",
       "    </tr>\n",
       "    <tr>\n",
       "      <th>7</th>\n",
       "      <td>101ST</td>\n",
       "      <td>ST</td>\n",
       "    </tr>\n",
       "    <tr>\n",
       "      <th>11</th>\n",
       "      <td>102ND</td>\n",
       "      <td>ST</td>\n",
       "    </tr>\n",
       "    <tr>\n",
       "      <th>15</th>\n",
       "      <td>103RD</td>\n",
       "      <td>PL</td>\n",
       "    </tr>\n",
       "    <tr>\n",
       "      <th>17</th>\n",
       "      <td>103RD</td>\n",
       "      <td>ST</td>\n",
       "    </tr>\n",
       "  </tbody>\n",
       "</table>\n",
       "</div>"
      ],
      "text/plain": [
       "   ord_street_name ord_street_type\n",
       "2            100TH              ST\n",
       "7            101ST              ST\n",
       "11           102ND              ST\n",
       "15           103RD              PL\n",
       "17           103RD              ST"
      ]
     },
     "execution_count": 79,
     "metadata": {},
     "output_type": "execute_result"
    }
   ],
   "source": [
    "t_bk_df.head()"
   ]
  },
  {
   "cell_type": "code",
   "execution_count": 81,
   "id": "e0d6ac69",
   "metadata": {},
   "outputs": [
    {
     "name": "stdout",
     "output_type": "stream",
     "text": [
      "H:/project/seattle_streets/print/individual_streets\\100TH_PL.png\n",
      "H:/project/seattle_streets/print/individual_streets\\100TH_ST.png\n",
      "H:/project/seattle_streets/print/individual_streets\\101ST_ST.png\n",
      "H:/project/seattle_streets/print/individual_streets\\102ND_ST.png\n",
      "H:/project/seattle_streets/print/individual_streets\\103RD_PL.png\n",
      "H:/project/seattle_streets/print/individual_streets\\103RD_ST.png\n",
      "H:/project/seattle_streets/print/individual_streets\\104TH_ST.png\n",
      "H:/project/seattle_streets/print/individual_streets\\105TH_PL.png\n",
      "H:/project/seattle_streets/print/individual_streets\\105TH_ST.png\n",
      "H:/project/seattle_streets/print/individual_streets\\106TH_ST.png\n",
      "H:/project/seattle_streets/print/individual_streets\\107TH_ST.png\n",
      "H:/project/seattle_streets/print/individual_streets\\108TH_PL.png\n",
      "H:/project/seattle_streets/print/individual_streets\\108TH_ST.png\n",
      "H:/project/seattle_streets/print/individual_streets\\109TH_ST.png\n",
      "H:/project/seattle_streets/print/individual_streets\\10TH_AVE.png\n",
      "H:/project/seattle_streets/print/individual_streets\\10TH_PL.png\n",
      "H:/project/seattle_streets/print/individual_streets\\110TH_PL.png\n",
      "H:/project/seattle_streets/print/individual_streets\\110TH_ST.png\n",
      "H:/project/seattle_streets/print/individual_streets\\111TH_ST.png\n",
      "H:/project/seattle_streets/print/individual_streets\\112TH_PL.png\n",
      "H:/project/seattle_streets/print/individual_streets\\112TH_ST.png\n",
      "H:/project/seattle_streets/print/individual_streets\\113TH_PL.png\n",
      "H:/project/seattle_streets/print/individual_streets\\113TH_ST.png\n",
      "H:/project/seattle_streets/print/individual_streets\\114TH_ST.png\n",
      "H:/project/seattle_streets/print/individual_streets\\115TH_ST.png\n",
      "H:/project/seattle_streets/print/individual_streets\\116TH_ST.png\n",
      "H:/project/seattle_streets/print/individual_streets\\117TH_PL.png\n",
      "H:/project/seattle_streets/print/individual_streets\\117TH_ST.png\n",
      "H:/project/seattle_streets/print/individual_streets\\118TH_ST.png\n",
      "H:/project/seattle_streets/print/individual_streets\\119TH_ST.png\n",
      "H:/project/seattle_streets/print/individual_streets\\11TH_AVE.png\n",
      "H:/project/seattle_streets/print/individual_streets\\120TH_ST.png\n",
      "H:/project/seattle_streets/print/individual_streets\\121ST_ST.png\n",
      "H:/project/seattle_streets/print/individual_streets\\122ND_PL.png\n",
      "H:/project/seattle_streets/print/individual_streets\\122ND_ST.png\n",
      "H:/project/seattle_streets/print/individual_streets\\123RD_ST.png\n",
      "H:/project/seattle_streets/print/individual_streets\\124TH_ST.png\n",
      "H:/project/seattle_streets/print/individual_streets\\125TH_ST.png\n",
      "H:/project/seattle_streets/print/individual_streets\\126TH_PL.png\n",
      "H:/project/seattle_streets/print/individual_streets\\126TH_ST.png\n",
      "H:/project/seattle_streets/print/individual_streets\\127TH_ST.png\n",
      "H:/project/seattle_streets/print/individual_streets\\128TH_ST.png\n",
      "H:/project/seattle_streets/print/individual_streets\\12TH_AVE.png\n",
      "H:/project/seattle_streets/print/individual_streets\\130TH_PL.png\n",
      "H:/project/seattle_streets/print/individual_streets\\130TH_ST.png\n",
      "H:/project/seattle_streets/print/individual_streets\\131ST_PL.png\n",
      "H:/project/seattle_streets/print/individual_streets\\131ST_ST.png\n",
      "H:/project/seattle_streets/print/individual_streets\\132ND_ST.png\n",
      "H:/project/seattle_streets/print/individual_streets\\133RD_ST.png\n",
      "H:/project/seattle_streets/print/individual_streets\\134TH_ST.png\n",
      "H:/project/seattle_streets/print/individual_streets\\135TH_PL.png\n",
      "H:/project/seattle_streets/print/individual_streets\\135TH_ST.png\n",
      "H:/project/seattle_streets/print/individual_streets\\136TH_ST.png\n",
      "H:/project/seattle_streets/print/individual_streets\\137TH_ST.png\n",
      "H:/project/seattle_streets/print/individual_streets\\138TH_ST.png\n",
      "H:/project/seattle_streets/print/individual_streets\\13TH_AVE.png\n",
      "H:/project/seattle_streets/print/individual_streets\\140TH_ST.png\n",
      "H:/project/seattle_streets/print/individual_streets\\142ND_ST.png\n",
      "H:/project/seattle_streets/print/individual_streets\\143RD_ST.png\n",
      "H:/project/seattle_streets/print/individual_streets\\144TH_ST.png\n",
      "H:/project/seattle_streets/print/individual_streets\\145TH_ST.png\n",
      "H:/project/seattle_streets/print/individual_streets\\14TH_AVE.png\n",
      "H:/project/seattle_streets/print/individual_streets\\15TH_AVE.png\n",
      "H:/project/seattle_streets/print/individual_streets\\15TH_PL.png\n",
      "H:/project/seattle_streets/print/individual_streets\\16TH_AVE.png\n",
      "H:/project/seattle_streets/print/individual_streets\\17TH_AVE.png\n",
      "H:/project/seattle_streets/print/individual_streets\\17TH_PL.png\n",
      "H:/project/seattle_streets/print/individual_streets\\18TH_AVE.png\n",
      "H:/project/seattle_streets/print/individual_streets\\19TH_AVE.png\n",
      "H:/project/seattle_streets/print/individual_streets\\1ST_AVE.png\n",
      "H:/project/seattle_streets/print/individual_streets\\20TH_AVE.png\n",
      "H:/project/seattle_streets/print/individual_streets\\20TH_PL.png\n",
      "H:/project/seattle_streets/print/individual_streets\\21ST_AVE.png\n",
      "H:/project/seattle_streets/print/individual_streets\\22ND_AVE.png\n",
      "H:/project/seattle_streets/print/individual_streets\\22ND_PL.png\n",
      "H:/project/seattle_streets/print/individual_streets\\23RD_AVE.png\n",
      "H:/project/seattle_streets/print/individual_streets\\23RD_CT.png\n",
      "H:/project/seattle_streets/print/individual_streets\\24TH_AVE.png\n",
      "H:/project/seattle_streets/print/individual_streets\\24TH_PL.png\n",
      "H:/project/seattle_streets/print/individual_streets\\25TH_AVE.png\n",
      "H:/project/seattle_streets/print/individual_streets\\25TH_PL.png\n",
      "H:/project/seattle_streets/print/individual_streets\\26TH_AVE.png\n",
      "H:/project/seattle_streets/print/individual_streets\\26TH_PL.png\n",
      "H:/project/seattle_streets/print/individual_streets\\27TH_AVE.png\n",
      "H:/project/seattle_streets/print/individual_streets\\28TH_AVE.png\n",
      "H:/project/seattle_streets/print/individual_streets\\29TH_AVE.png\n",
      "H:/project/seattle_streets/print/individual_streets\\2ND_AVE.png\n",
      "H:/project/seattle_streets/print/individual_streets\\30TH_AVE.png\n",
      "H:/project/seattle_streets/print/individual_streets\\31ST_AVE.png\n",
      "H:/project/seattle_streets/print/individual_streets\\31ST_PL.png\n",
      "H:/project/seattle_streets/print/individual_streets\\32ND_AVE.png\n",
      "H:/project/seattle_streets/print/individual_streets\\33RD_AVE.png\n",
      "H:/project/seattle_streets/print/individual_streets\\33RD_PL.png\n",
      "H:/project/seattle_streets/print/individual_streets\\34TH_AVE.png\n",
      "H:/project/seattle_streets/print/individual_streets\\34TH_CT.png\n",
      "H:/project/seattle_streets/print/individual_streets\\34TH_PL.png\n",
      "H:/project/seattle_streets/print/individual_streets\\35TH_AVE.png\n",
      "H:/project/seattle_streets/print/individual_streets\\35TH_PL.png\n",
      "H:/project/seattle_streets/print/individual_streets\\35TH_ST.png\n",
      "H:/project/seattle_streets/print/individual_streets\\36TH_AVE.png\n",
      "H:/project/seattle_streets/print/individual_streets\\36TH_ST.png\n",
      "H:/project/seattle_streets/print/individual_streets\\37TH_AVE.png\n",
      "H:/project/seattle_streets/print/individual_streets\\37TH_PL.png\n",
      "H:/project/seattle_streets/print/individual_streets\\38TH_AVE.png\n",
      "H:/project/seattle_streets/print/individual_streets\\38TH_ST.png\n",
      "H:/project/seattle_streets/print/individual_streets\\39TH_AVE.png\n",
      "H:/project/seattle_streets/print/individual_streets\\39TH_ST.png\n",
      "H:/project/seattle_streets/print/individual_streets\\3RD_AVE.png\n",
      "H:/project/seattle_streets/print/individual_streets\\3RD_PL.png\n",
      "H:/project/seattle_streets/print/individual_streets\\40TH_AVE.png\n",
      "H:/project/seattle_streets/print/individual_streets\\40TH_ST.png\n",
      "H:/project/seattle_streets/print/individual_streets\\41ST_AVE.png\n",
      "H:/project/seattle_streets/print/individual_streets\\41ST_ST.png\n",
      "H:/project/seattle_streets/print/individual_streets\\42ND_AVE.png\n",
      "H:/project/seattle_streets/print/individual_streets\\42ND_PL.png\n",
      "H:/project/seattle_streets/print/individual_streets\\42ND_ST.png\n",
      "H:/project/seattle_streets/print/individual_streets\\43RD_AVE.png\n",
      "H:/project/seattle_streets/print/individual_streets\\43RD_PL.png\n",
      "H:/project/seattle_streets/print/individual_streets\\43RD_ST.png\n",
      "H:/project/seattle_streets/print/individual_streets\\44TH_AVE.png\n",
      "H:/project/seattle_streets/print/individual_streets\\44TH_PL.png\n",
      "H:/project/seattle_streets/print/individual_streets\\44TH_ST.png\n",
      "H:/project/seattle_streets/print/individual_streets\\45TH_AVE.png\n",
      "H:/project/seattle_streets/print/individual_streets\\45TH_ST.png\n",
      "H:/project/seattle_streets/print/individual_streets\\46TH_AVE.png\n",
      "H:/project/seattle_streets/print/individual_streets\\46TH_PL.png\n",
      "H:/project/seattle_streets/print/individual_streets\\46TH_ST.png\n",
      "H:/project/seattle_streets/print/individual_streets\\47TH_AVE.png\n",
      "H:/project/seattle_streets/print/individual_streets\\47TH_PL.png\n",
      "H:/project/seattle_streets/print/individual_streets\\47TH_ST.png\n",
      "H:/project/seattle_streets/print/individual_streets\\48TH_AVE.png\n",
      "H:/project/seattle_streets/print/individual_streets\\48TH_ST.png\n",
      "H:/project/seattle_streets/print/individual_streets\\49TH_AVE.png\n",
      "H:/project/seattle_streets/print/individual_streets\\49TH_ST.png\n",
      "H:/project/seattle_streets/print/individual_streets\\4TH_AVE.png\n",
      "H:/project/seattle_streets/print/individual_streets\\4TH_PL.png\n",
      "H:/project/seattle_streets/print/individual_streets\\50TH_AVE.png\n",
      "H:/project/seattle_streets/print/individual_streets\\50TH_ST.png\n",
      "H:/project/seattle_streets/print/individual_streets\\51ST_AVE.png\n",
      "H:/project/seattle_streets/print/individual_streets\\51ST_PL.png\n",
      "H:/project/seattle_streets/print/individual_streets\\51ST_ST.png\n",
      "H:/project/seattle_streets/print/individual_streets\\52ND_AVE.png\n",
      "H:/project/seattle_streets/print/individual_streets\\52ND_PL.png\n",
      "H:/project/seattle_streets/print/individual_streets\\52ND_ST.png\n",
      "H:/project/seattle_streets/print/individual_streets\\53RD_AVE.png\n",
      "H:/project/seattle_streets/print/individual_streets\\53RD_ST.png\n",
      "H:/project/seattle_streets/print/individual_streets\\54TH_AVE.png\n",
      "H:/project/seattle_streets/print/individual_streets\\54TH_ST.png\n",
      "H:/project/seattle_streets/print/individual_streets\\55TH_AVE.png\n",
      "H:/project/seattle_streets/print/individual_streets\\55TH_PL.png\n",
      "H:/project/seattle_streets/print/individual_streets\\55TH_ST.png\n",
      "H:/project/seattle_streets/print/individual_streets\\56TH_AVE.png\n",
      "H:/project/seattle_streets/print/individual_streets\\56TH_PL.png\n",
      "H:/project/seattle_streets/print/individual_streets\\56TH_ST.png\n",
      "H:/project/seattle_streets/print/individual_streets\\57TH_AVE.png\n",
      "H:/project/seattle_streets/print/individual_streets\\57TH_PL.png\n",
      "H:/project/seattle_streets/print/individual_streets\\57TH_ST.png\n",
      "H:/project/seattle_streets/print/individual_streets\\58TH_AVE.png\n",
      "H:/project/seattle_streets/print/individual_streets\\58TH_PL.png\n",
      "H:/project/seattle_streets/print/individual_streets\\58TH_ST.png\n",
      "H:/project/seattle_streets/print/individual_streets\\59TH_AVE.png\n",
      "H:/project/seattle_streets/print/individual_streets\\59TH_ST.png\n",
      "H:/project/seattle_streets/print/individual_streets\\5TH_AVE.png\n",
      "H:/project/seattle_streets/print/individual_streets\\60TH_AVE.png\n",
      "H:/project/seattle_streets/print/individual_streets\\60TH_ST.png\n",
      "H:/project/seattle_streets/print/individual_streets\\61ST_AVE.png\n",
      "H:/project/seattle_streets/print/individual_streets\\61ST_ST.png\n",
      "H:/project/seattle_streets/print/individual_streets\\62ND_AVE.png\n",
      "H:/project/seattle_streets/print/individual_streets\\62ND_ST.png\n",
      "H:/project/seattle_streets/print/individual_streets\\63RD_AVE.png\n",
      "H:/project/seattle_streets/print/individual_streets\\63RD_ST.png\n",
      "H:/project/seattle_streets/print/individual_streets\\64TH_AVE.png\n",
      "H:/project/seattle_streets/print/individual_streets\\64TH_PL.png\n",
      "H:/project/seattle_streets/print/individual_streets\\64TH_ST.png\n",
      "H:/project/seattle_streets/print/individual_streets\\65TH_AVE.png\n",
      "H:/project/seattle_streets/print/individual_streets\\65TH_ST.png\n",
      "H:/project/seattle_streets/print/individual_streets\\66TH_AVE.png\n",
      "H:/project/seattle_streets/print/individual_streets\\66TH_ST.png\n",
      "H:/project/seattle_streets/print/individual_streets\\67TH_ST.png\n",
      "H:/project/seattle_streets/print/individual_streets\\68TH_ST.png\n",
      "H:/project/seattle_streets/print/individual_streets\\69TH_ST.png\n",
      "H:/project/seattle_streets/print/individual_streets\\6TH_AVE.png\n",
      "H:/project/seattle_streets/print/individual_streets\\6TH_PL.png\n",
      "H:/project/seattle_streets/print/individual_streets\\70TH_ST.png\n",
      "H:/project/seattle_streets/print/individual_streets\\71ST_ST.png\n",
      "H:/project/seattle_streets/print/individual_streets\\72ND_ST.png\n",
      "H:/project/seattle_streets/print/individual_streets\\73RD_PL.png\n",
      "H:/project/seattle_streets/print/individual_streets\\73RD_ST.png\n",
      "H:/project/seattle_streets/print/individual_streets\\74TH_PL.png\n",
      "H:/project/seattle_streets/print/individual_streets\\74TH_ST.png\n",
      "H:/project/seattle_streets/print/individual_streets\\75TH_ST.png\n",
      "H:/project/seattle_streets/print/individual_streets\\76TH_ST.png\n",
      "H:/project/seattle_streets/print/individual_streets\\77TH_ST.png\n",
      "H:/project/seattle_streets/print/individual_streets\\78TH_ST.png\n",
      "H:/project/seattle_streets/print/individual_streets\\79TH_ST.png\n",
      "H:/project/seattle_streets/print/individual_streets\\7TH_AVE.png\n",
      "H:/project/seattle_streets/print/individual_streets\\7TH_PL.png\n",
      "H:/project/seattle_streets/print/individual_streets\\80TH_ST.png\n",
      "H:/project/seattle_streets/print/individual_streets\\81ST_PL.png\n",
      "H:/project/seattle_streets/print/individual_streets\\81ST_ST.png\n",
      "H:/project/seattle_streets/print/individual_streets\\82ND_ST.png\n",
      "H:/project/seattle_streets/print/individual_streets\\83RD_ST.png\n",
      "H:/project/seattle_streets/print/individual_streets\\84TH_ST.png\n",
      "H:/project/seattle_streets/print/individual_streets\\85TH_ST.png\n",
      "H:/project/seattle_streets/print/individual_streets\\86TH_ST.png\n",
      "H:/project/seattle_streets/print/individual_streets\\87TH_ST.png\n",
      "H:/project/seattle_streets/print/individual_streets\\88TH_ST.png\n",
      "H:/project/seattle_streets/print/individual_streets\\89TH_ST.png\n",
      "H:/project/seattle_streets/print/individual_streets\\8TH_AVE.png\n",
      "H:/project/seattle_streets/print/individual_streets\\8TH_PL.png\n",
      "H:/project/seattle_streets/print/individual_streets\\90TH_PL.png\n",
      "H:/project/seattle_streets/print/individual_streets\\90TH_ST.png\n",
      "H:/project/seattle_streets/print/individual_streets\\91ST_ST.png\n",
      "H:/project/seattle_streets/print/individual_streets\\92ND_ST.png\n",
      "H:/project/seattle_streets/print/individual_streets\\93RD_ST.png\n",
      "H:/project/seattle_streets/print/individual_streets\\94TH_ST.png\n",
      "H:/project/seattle_streets/print/individual_streets\\95TH_ST.png\n",
      "H:/project/seattle_streets/print/individual_streets\\96TH_PL.png\n",
      "H:/project/seattle_streets/print/individual_streets\\96TH_ST.png\n",
      "H:/project/seattle_streets/print/individual_streets\\97TH_ST.png\n",
      "H:/project/seattle_streets/print/individual_streets\\98TH_ST.png\n",
      "H:/project/seattle_streets/print/individual_streets\\99TH_PL.png\n",
      "H:/project/seattle_streets/print/individual_streets\\99TH_ST.png\n",
      "H:/project/seattle_streets/print/individual_streets\\9TH_AVE.png\n",
      "H:/project/seattle_streets/print/individual_streets\\ADAMS_ST.png\n",
      "H:/project/seattle_streets/print/individual_streets\\ALASKA_ST.png\n",
      "H:/project/seattle_streets/print/individual_streets\\ALASKAN_WAY.png\n",
      "H:/project/seattle_streets/print/individual_streets\\ALDER_ST.png\n",
      "H:/project/seattle_streets/print/individual_streets\\ALOHA_ST.png\n",
      "H:/project/seattle_streets/print/individual_streets\\ANDOVER_ST.png\n",
      "H:/project/seattle_streets/print/individual_streets\\ANGELINE_ST.png\n",
      "H:/project/seattle_streets/print/individual_streets\\ARMOUR_ST.png\n",
      "H:/project/seattle_streets/print/individual_streets\\ATLANTIC_ST.png\n",
      "H:/project/seattle_streets/print/individual_streets\\AUSTIN_ST.png\n",
      "H:/project/seattle_streets/print/individual_streets\\BARTON_PL.png\n",
      "H:/project/seattle_streets/print/individual_streets\\BARTON_ST.png\n",
      "H:/project/seattle_streets/print/individual_streets\\BELLEVUE_AVE.png\n",
      "H:/project/seattle_streets/print/individual_streets\\BELMONT_AVE.png\n",
      "H:/project/seattle_streets/print/individual_streets\\BEVERIDGE_PL.png\n",
      "H:/project/seattle_streets/print/individual_streets\\BLAINE_ST.png\n",
      "H:/project/seattle_streets/print/individual_streets\\BOREN_AVE.png\n",
      "H:/project/seattle_streets/print/individual_streets\\BOSTON_ST.png\n",
      "H:/project/seattle_streets/print/individual_streets\\BOWDOIN_PL.png\n",
      "H:/project/seattle_streets/print/individual_streets\\BOYLSTON_AVE.png\n",
      "H:/project/seattle_streets/print/individual_streets\\BRADFORD_ST.png\n",
      "H:/project/seattle_streets/print/individual_streets\\BRANDON_ST.png\n",
      "H:/project/seattle_streets/print/individual_streets\\BRIARCLIFF_LN.png\n",
      "H:/project/seattle_streets/print/individual_streets\\BROADWAY_ST.png\n",
      "H:/project/seattle_streets/print/individual_streets\\CALIFORNIA_AVE.png\n",
      "H:/project/seattle_streets/print/individual_streets\\CAMBRIDGE_ST.png\n",
      "H:/project/seattle_streets/print/individual_streets\\CANAL_ST.png\n",
      "H:/project/seattle_streets/print/individual_streets\\CHARLESTOWN_ST.png\n",
      "H:/project/seattle_streets/print/individual_streets\\CHERRY_ST.png\n",
      "H:/project/seattle_streets/print/individual_streets\\CHICAGO_CT.png\n",
      "H:/project/seattle_streets/print/individual_streets\\CLOVERDALE_ST.png\n",
      "H:/project/seattle_streets/print/individual_streets\\COLLEGE_ST.png\n",
      "H:/project/seattle_streets/print/individual_streets\\COLUMBIA_ST.png\n",
      "H:/project/seattle_streets/print/individual_streets\\COMSTOCK_ST.png\n",
      "H:/project/seattle_streets/print/individual_streets\\CONCORD_ST.png\n",
      "H:/project/seattle_streets/print/individual_streets\\CORGIAT_DR.png\n",
      "H:/project/seattle_streets/print/individual_streets\\COURTLAND_PL.png\n",
      "H:/project/seattle_streets/print/individual_streets\\COWLITZ_RD.png\n",
      "H:/project/seattle_streets/print/individual_streets\\CREMONA_ST.png\n",
      "H:/project/seattle_streets/print/individual_streets\\CROCKETT_ST.png\n",
      "H:/project/seattle_streets/print/individual_streets\\DAKOTA_ST.png\n",
      "H:/project/seattle_streets/print/individual_streets\\DAWSON_ST.png\n",
      "H:/project/seattle_streets/print/individual_streets\\DENNY_WAY.png\n",
      "H:/project/seattle_streets/print/individual_streets\\DEXTER_AVE.png\n",
      "H:/project/seattle_streets/print/individual_streets\\DIRECTOR_ST.png\n",
      "H:/project/seattle_streets/print/individual_streets\\DONOVAN_ST.png\n",
      "H:/project/seattle_streets/print/individual_streets\\DRAVUS_ST.png\n",
      "H:/project/seattle_streets/print/individual_streets\\EASTLAKE_AVE.png\n",
      "H:/project/seattle_streets/print/individual_streets\\EDDY_ST.png\n",
      "H:/project/seattle_streets/print/individual_streets\\EDMUNDS_ST.png\n",
      "H:/project/seattle_streets/print/individual_streets\\ELLIOTT_AVE.png\n",
      "H:/project/seattle_streets/print/individual_streets\\ELMGROVE_ST.png\n",
      "H:/project/seattle_streets/print/individual_streets\\ETRURIA_ST.png\n",
      "H:/project/seattle_streets/print/individual_streets\\FAIRVIEW_AVE.png\n",
      "H:/project/seattle_streets/print/individual_streets\\FINDLAY_ST.png\n",
      "H:/project/seattle_streets/print/individual_streets\\FIR_ST.png\n",
      "H:/project/seattle_streets/print/individual_streets\\FLETCHER_ST.png\n",
      "H:/project/seattle_streets/print/individual_streets\\FLORENTIA_ST.png\n",
      "H:/project/seattle_streets/print/individual_streets\\FONTANELLE_ST.png\n",
      "H:/project/seattle_streets/print/individual_streets\\FOREST_ST.png\n",
      "H:/project/seattle_streets/print/individual_streets\\FRANKLIN_PL.png\n",
      "H:/project/seattle_streets/print/individual_streets\\FRONT_ST.png\n",
      "H:/project/seattle_streets/print/individual_streets\\FRONTENAC_ST.png\n",
      "H:/project/seattle_streets/print/individual_streets\\FULTON_ST.png\n",
      "H:/project/seattle_streets/print/individual_streets\\GALER_ST.png\n",
      "H:/project/seattle_streets/print/individual_streets\\GARFIELD_ST.png\n",
      "H:/project/seattle_streets/print/individual_streets\\GENESEE_ST.png\n",
      "H:/project/seattle_streets/print/individual_streets\\GRAHAM_ST.png\n",
      "H:/project/seattle_streets/print/individual_streets\\HALLADAY_ST.png\n",
      "H:/project/seattle_streets/print/individual_streets\\HANFORD_ST.png\n",
      "H:/project/seattle_streets/print/individual_streets\\HARRISON_ST.png\n",
      "H:/project/seattle_streets/print/individual_streets\\HARVARD_AVE.png\n",
      "H:/project/seattle_streets/print/individual_streets\\HAYES_ST.png\n",
      "H:/project/seattle_streets/print/individual_streets\\HENDERSON_ST.png\n",
      "H:/project/seattle_streets/print/individual_streets\\HIGHLAND_DR.png\n",
      "H:/project/seattle_streets/print/individual_streets\\HILL_ST.png\n",
      "H:/project/seattle_streets/print/individual_streets\\HINDS_ST.png\n",
      "H:/project/seattle_streets/print/individual_streets\\HOLDEN_ST.png\n",
      "H:/project/seattle_streets/print/individual_streets\\HOLGATE_ST.png\n",
      "H:/project/seattle_streets/print/individual_streets\\HOLLY_PL.png\n",
      "H:/project/seattle_streets/print/individual_streets\\HOLLY_ST.png\n",
      "H:/project/seattle_streets/print/individual_streets\\HOLLY PARK_DR.png\n",
      "H:/project/seattle_streets/print/individual_streets\\HOLMAN_RD.png\n",
      "H:/project/seattle_streets/print/individual_streets\\HORTON_ST.png\n",
      "H:/project/seattle_streets/print/individual_streets\\HOWE_ST.png\n",
      "H:/project/seattle_streets/print/individual_streets\\HOWELL_ST.png\n",
      "H:/project/seattle_streets/print/individual_streets\\HUDSON_ST.png\n",
      "H:/project/seattle_streets/print/individual_streets\\IDAHO_ST.png\n",
      "H:/project/seattle_streets/print/individual_streets\\JAMES_ST.png\n",
      "H:/project/seattle_streets/print/individual_streets\\JEFFERSON_ST.png\n",
      "H:/project/seattle_streets/print/individual_streets\\JOHN_ST.png\n",
      "H:/project/seattle_streets/print/individual_streets\\JUNEAU_ST.png\n",
      "H:/project/seattle_streets/print/individual_streets\\KENYON_ST.png\n",
      "H:/project/seattle_streets/print/individual_streets\\LAKE RIDGE_DR.png\n",
      "H:/project/seattle_streets/print/individual_streets\\LAKE SHORE_DR.png\n",
      "H:/project/seattle_streets/print/individual_streets\\LAKE WASHINGTON_BLVD.png\n",
      "H:/project/seattle_streets/print/individual_streets\\LAKESIDE_AVE.png\n",
      "H:/project/seattle_streets/print/individual_streets\\LANDER_ST.png\n",
      "H:/project/seattle_streets/print/individual_streets\\LEARY_WAY.png\n",
      "H:/project/seattle_streets/print/individual_streets\\LEE_ST.png\n",
      "H:/project/seattle_streets/print/individual_streets\\LYNN_ST.png\n",
      "H:/project/seattle_streets/print/individual_streets\\M L KING JR_WAY.png\n",
      "H:/project/seattle_streets/print/individual_streets\\MADISON_ST.png\n",
      "H:/project/seattle_streets/print/individual_streets\\MAGNOLIA_BR.png\n",
      "H:/project/seattle_streets/print/individual_streets\\MARION_ST.png\n",
      "H:/project/seattle_streets/print/individual_streets\\MARKET_ST.png\n",
      "H:/project/seattle_streets/print/individual_streets\\MASON_RD.png\n",
      "H:/project/seattle_streets/print/individual_streets\\MASSACHUSETTS_ST.png\n",
      "H:/project/seattle_streets/print/individual_streets\\MCGRAW_PL.png\n",
      "H:/project/seattle_streets/print/individual_streets\\MCGRAW_ST.png\n",
      "H:/project/seattle_streets/print/individual_streets\\MELROSE_AVE.png\n",
      "H:/project/seattle_streets/print/individual_streets\\MERCER_ST.png\n",
      "H:/project/seattle_streets/print/individual_streets\\MICHIGAN_ST.png\n",
      "H:/project/seattle_streets/print/individual_streets\\MINOR_AVE.png\n",
      "H:/project/seattle_streets/print/individual_streets\\MONROE_ST.png\n",
      "H:/project/seattle_streets/print/individual_streets\\MONTLAKE_BLVD.png\n",
      "H:/project/seattle_streets/print/individual_streets\\MORGAN_ST.png\n",
      "H:/project/seattle_streets/print/individual_streets\\MYRTLE_ST.png\n",
      "H:/project/seattle_streets/print/individual_streets\\NEBRASKA_ST.png\n",
      "H:/project/seattle_streets/print/individual_streets\\NEVADA_ST.png\n",
      "H:/project/seattle_streets/print/individual_streets\\NEWELL_ST.png\n",
      "H:/project/seattle_streets/print/individual_streets\\NEWTON_ST.png\n",
      "H:/project/seattle_streets/print/individual_streets\\NICKERSON_ST.png\n",
      "H:/project/seattle_streets/print/individual_streets\\NORTHGATE_WAY.png\n",
      "H:/project/seattle_streets/print/individual_streets\\NORTHLAKE_PL.png\n",
      "H:/project/seattle_streets/print/individual_streets\\NORTHLAKE_WAY.png\n",
      "H:/project/seattle_streets/print/individual_streets\\NORTHWOOD_RD.png\n",
      "H:/project/seattle_streets/print/individual_streets\\OLIVE_WAY.png\n",
      "H:/project/seattle_streets/print/individual_streets\\ORCHARD_ST.png\n",
      "H:/project/seattle_streets/print/individual_streets\\OREGON_ST.png\n",
      "H:/project/seattle_streets/print/individual_streets\\OTHELLO_ST.png\n",
      "H:/project/seattle_streets/print/individual_streets\\PACIFIC_ST.png\n",
      "H:/project/seattle_streets/print/individual_streets\\PARK_RD.png\n",
      "H:/project/seattle_streets/print/individual_streets\\PIKE_ST.png\n",
      "H:/project/seattle_streets/print/individual_streets\\PINE_ST.png\n",
      "H:/project/seattle_streets/print/individual_streets\\PORTLAND_ST.png\n",
      "H:/project/seattle_streets/print/individual_streets\\PROSPECT_ST.png\n",
      "H:/project/seattle_streets/print/individual_streets\\QUEEN ANNE_AVE.png\n",
      "H:/project/seattle_streets/print/individual_streets\\RADFORD_DR.png\n",
      "H:/project/seattle_streets/print/individual_streets\\RAYE_ST.png\n",
      "H:/project/seattle_streets/print/individual_streets\\RAYMOND_ST.png\n",
      "H:/project/seattle_streets/print/individual_streets\\REPUBLICAN_ST.png\n",
      "H:/project/seattle_streets/print/individual_streets\\ROOSEVELT_WAY.png\n",
      "H:/project/seattle_streets/print/individual_streets\\ROSE_ST.png\n",
      "H:/project/seattle_streets/print/individual_streets\\ROXBURY_ST.png\n",
      "H:/project/seattle_streets/print/individual_streets\\ROY_ST.png\n",
      "H:/project/seattle_streets/print/individual_streets\\RUSTIC_RD.png\n",
      "H:/project/seattle_streets/print/individual_streets\\SAN JUAN_RD.png\n",
      "H:/project/seattle_streets/print/individual_streets\\SENECA_ST.png\n",
      "H:/project/seattle_streets/print/individual_streets\\SMITH_ST.png\n",
      "H:/project/seattle_streets/print/individual_streets\\SNOQUALMIE_ST.png\n",
      "H:/project/seattle_streets/print/individual_streets\\SOUTHERN_ST.png\n",
      "H:/project/seattle_streets/print/individual_streets\\SPOKANE_ST.png\n",
      "H:/project/seattle_streets/print/individual_streets\\SPOKANE TURN_RD.png\n",
      "H:/project/seattle_streets/print/individual_streets\\SPRING_ST.png\n",
      "H:/project/seattle_streets/print/individual_streets\\STEVENS_ST.png\n",
      "H:/project/seattle_streets/print/individual_streets\\SULLIVAN_ST.png\n",
      "H:/project/seattle_streets/print/individual_streets\\SUMMIT_AVE.png\n",
      "H:/project/seattle_streets/print/individual_streets\\SURBER_DR.png\n",
      "H:/project/seattle_streets/print/individual_streets\\TAYLOR_AVE.png\n",
      "H:/project/seattle_streets/print/individual_streets\\TEMPLE_PL.png\n",
      "H:/project/seattle_streets/print/individual_streets\\TERRACE_ST.png\n",
      "H:/project/seattle_streets/print/individual_streets\\TERRY_AVE.png\n",
      "H:/project/seattle_streets/print/individual_streets\\TEXAS_WAY.png\n",
      "H:/project/seattle_streets/print/individual_streets\\THISTLE_ST.png\n",
      "H:/project/seattle_streets/print/individual_streets\\THOMAS_ST.png\n",
      "H:/project/seattle_streets/print/individual_streets\\TRENTON_ST.png\n",
      "H:/project/seattle_streets/print/individual_streets\\UNION_ST.png\n",
      "H:/project/seattle_streets/print/individual_streets\\VALLEY_ST.png\n",
      "H:/project/seattle_streets/print/individual_streets\\WAITE_ST.png\n",
      "H:/project/seattle_streets/print/individual_streets\\WALKER_ST.png\n",
      "H:/project/seattle_streets/print/individual_streets\\WARD_ST.png\n",
      "H:/project/seattle_streets/print/individual_streets\\WARREN_PL.png\n",
      "H:/project/seattle_streets/print/individual_streets\\WARSAW_ST.png\n",
      "H:/project/seattle_streets/print/individual_streets\\WASHINGTON_AVE.png\n",
      "H:/project/seattle_streets/print/individual_streets\\WEBSTER_ST.png\n",
      "H:/project/seattle_streets/print/individual_streets\\WEST MARGINAL_WAY.png\n",
      "H:/project/seattle_streets/print/individual_streets\\WESTERN_AVE.png\n",
      "H:/project/seattle_streets/print/individual_streets\\WESTLAKE_AVE.png\n",
      "H:/project/seattle_streets/print/individual_streets\\WHEELER_ST.png\n",
      "H:/project/seattle_streets/print/individual_streets\\WILLOW_ST.png\n",
      "H:/project/seattle_streets/print/individual_streets\\WINTHROP_ST.png\n",
      "H:/project/seattle_streets/print/individual_streets\\WOODLAWN_AVE.png\n",
      "H:/project/seattle_streets/print/individual_streets\\YALE_AVE.png\n",
      "H:/project/seattle_streets/print/individual_streets\\YESLER_WAY.png\n"
     ]
    }
   ],
   "source": [
    "for irow, row in bk_df.iterrows():\n",
    "    osn = row['ord_street_name']\n",
    "    ost = row['ord_street_type']\n",
    "\n",
    "\n",
    "    output_file_name = f\"{osn}_{ost}.png\"\n",
    "    ofpn = os.path.join(output_path, output_file_name)\n",
    "    print(ofpn)\n",
    "\n",
    "    # now, let's make a map...\n",
    "    wgdf = gdf.loc[(gdf['ord_street_name'] == osn) &\n",
    "                (gdf['ord_street_type'] == ost), :]\n",
    "    to_draw = wgdf[['city_portion', 'geometry']].dissolve(by = 'city_portion', as_index = False)\n",
    "    to_draw['coords'] = to_draw['geometry'].map(lambda x: x.centroid.coords[0])\n",
    "    fig = plt.figure(layout = 'constrained', figsize = (5, 10))\n",
    "    gs = GridSpec(1,1, figure = fig, height_ratios = [1])\n",
    "    ax1 = fig.add_subplot(gs[0,0])\n",
    "    ax1.set_xlim(bounds[0], bounds[2])\n",
    "    ax1.set_ylim(bounds[1], bounds[3])\n",
    "    cs_gdf.plot(ax = ax1, column = 'city_portion', alpha = .2)\n",
    "    to_draw.plot(ax = ax1, column = 'city_portion', cmap = my_cmap,  linewidth = 5, legend = True)\n",
    "\n",
    "    for irrow, row in to_draw.iterrows():    \n",
    "        ax1.annotate(text=row['city_portion'], xy=row['coords'], fontsize = 16 )\n",
    "\n",
    "    ax1.set_axis_off()\n",
    "\n",
    "    osn = wgdf['ord_street_name'].unique().tolist()[0]\n",
    "    ost = wgdf['ord_street_type'].unique().tolist()[0]\n",
    "    my_title = f\"Street Name: {osn} {ost}\"\n",
    "    plt.title(label = my_title)\n",
    "\n",
    "    #plt.show()\n",
    "\n",
    "    fig.savefig(fname = ofpn)\n",
    "    plt.close()"
   ]
  },
  {
   "cell_type": "code",
   "execution_count": null,
   "id": "fc588213",
   "metadata": {},
   "outputs": [],
   "source": []
  },
  {
   "cell_type": "code",
   "execution_count": null,
   "id": "5aa55a1c",
   "metadata": {},
   "outputs": [],
   "source": []
  },
  {
   "cell_type": "code",
   "execution_count": 53,
   "id": "0a9a8f1c",
   "metadata": {},
   "outputs": [],
   "source": [
    "wgdf = gdf.loc[gdf['ord_street_name'] == '51ST', :]"
   ]
  },
  {
   "cell_type": "code",
   "execution_count": null,
   "metadata": {},
   "outputs": [],
   "source": [
    "wgdf.plot()"
   ]
  },
  {
   "cell_type": "code",
   "execution_count": null,
   "id": "3a7f2314",
   "metadata": {},
   "outputs": [],
   "source": []
  },
  {
   "cell_type": "code",
   "execution_count": null,
   "id": "bc5f8be3",
   "metadata": {},
   "outputs": [],
   "source": []
  },
  {
   "cell_type": "code",
   "execution_count": null,
   "id": "830a226e",
   "metadata": {},
   "outputs": [],
   "source": []
  },
  {
   "cell_type": "code",
   "execution_count": null,
   "id": "068a8355",
   "metadata": {},
   "outputs": [],
   "source": []
  },
  {
   "cell_type": "code",
   "execution_count": null,
   "id": "c5a3241c",
   "metadata": {},
   "outputs": [],
   "source": [
    "# VERSION 2.0\n",
    "# We only really have to do this for ST and AVE.\n",
    "# I can "
   ]
  },
  {
   "cell_type": "code",
   "execution_count": null,
   "id": "1973fa31",
   "metadata": {},
   "outputs": [],
   "source": [
    "# VERSION 1.0: This works, but it's not perfect. It needs some tweaking. And too many exceptions."
   ]
  },
  {
   "cell_type": "code",
   "execution_count": null,
   "id": "5016c94c",
   "metadata": {},
   "outputs": [],
   "source": [
    "def select_rows_by_set_membership(df:pd.DataFrame, curr_set:set):\n",
    "\n",
    "    out_df = df.loc[(df['city_portion'].isin(curr_set)) & \n",
    "                       (df['group_id'] == -1), :] "
   ]
  },
  {
   "cell_type": "code",
   "execution_count": 85,
   "id": "4cc197d0",
   "metadata": {},
   "outputs": [],
   "source": [
    "def find_street_pattern(my_combo:list, df:pd.DataFrame, city_portion_set:set, group_id:int):\n",
    "    pattern_found = 0\n",
    "    for ii in range(len(my_combo), 0, -1):\n",
    "        for curr_combo in list(combinations(my_combo, r = ii)):\n",
    "            curr_set = set(curr_combo)            \n",
    "            if pattern_found == 0 and curr_set.issubset(city_portion_set):\n",
    "                #print('!!!', curr_set)\n",
    "                test_df = \n",
    "                if not test_df.empty:\n",
    "                \n",
    "                    df.loc[(df['city_portion'].isin(curr_set)) & \n",
    "                        (df['group_id'] == -1), 'group_type'] = '_'.join(curr_set)\n",
    "                    \n",
    "                    df.loc[(df['city_portion'].isin(curr_set)) & \n",
    "                        (df['group_id'] == -1), 'group_id'] = group_id                \n",
    "                \n",
    "                    #print(group_id)\n",
    "                    pattern_found = 1                \n",
    "                    group_id += 1\n",
    "                    \n",
    "    return df, group_id"
   ]
  },
  {
   "cell_type": "code",
   "execution_count": 86,
   "id": "f8a23b69",
   "metadata": {},
   "outputs": [],
   "source": [
    "t_osn_ost_df = osn_ost_df.loc[osn_ost_df['osn_ost_id'] == 1, :]\n",
    "output_list = []\n",
    "group_id = 0\n",
    "st_name_type_df['group_id'] = -1\n",
    "st_name_type_df['group_type'] = ''\n",
    "for osn_ost_id in osn_ost_df['osn_ost_id'].unique():\n",
    "    t1_df = st_name_type_df.loc[st_name_type_df['osn_ost_id'] == osn_ost_id, :].copy()\n",
    "    for ost in t1_df['ord_street_type'].unique():\n",
    "        # this is all streets of type OST, could be ord_stname_concat\n",
    "        t2_df = t1_df.loc[t1_df['ord_street_type'] == ost, :].copy()\n",
    "        city_portion_set = set(t2_df['city_portion'].unique().tolist())        \n",
    "        if ost == 'ST':\n",
    "            #print(ost, 'here')\n",
    "            # streets run east / west: join east-west\n",
    "            combo_lists = [\n",
    "            ['NW', 'N', 'NE'],\n",
    "            ['W', 'N', 'CNTR', 'E'],\n",
    "            ['SW', 'S']\n",
    "            ]\n",
    "            for my_combo in combo_lists:\n",
    "                #print('***', my_combo)\n",
    "                t2_df, group_id = find_street_pattern(my_combo=my_combo,\n",
    "                                                        df = t2_df,\n",
    "                                                        city_portion_set=city_portion_set,\n",
    "                                                        group_id=group_id)\n",
    "            output_list.append(t2_df)\n",
    "        elif ost == 'AVE':          \n",
    "            #print(ost, 'here')\n",
    "            # avenues run north / south: join north-south\n",
    "            combo_lists = [\n",
    "            ['NW', 'W', 'SW'],\n",
    "            ['N', 'CNTR', 'SW'],\n",
    "            ['N', 'CNTR', 'S'],\n",
    "            ['NE', 'E', 'S']\n",
    "            ]\n",
    "            for my_combo in combo_lists:\n",
    "                t2_df, group_id = find_street_pattern(my_combo=my_combo,\n",
    "                                                        df = t2_df,\n",
    "                                                        city_portion_set=city_portion_set,\n",
    "                                                        group_id=group_id)\n",
    "            output_list.append(t2_df) \n",
    "        else:                \n",
    "            for ostc in t2_df['ord_stname_concat'].unique():\n",
    "                t3_df = t2_df.loc[t2_df['ord_stname_concat'] == ostc, :].copy()\n",
    "            \n",
    "                t3_df['group_id'] = group_id\n",
    "                t3_df['group_type'] = t3_df['city_portion']\n",
    "                group_id += 1\n",
    "                output_list.append(t3_df)                 \n",
    "                #print(ost, 'here 3')                \n",
    "                        \n",
    "                            \n",
    "                                "
   ]
  },
  {
   "cell_type": "code",
   "execution_count": null,
   "id": "1bca9a3a",
   "metadata": {},
   "outputs": [],
   "source": [
    "len(output_list)"
   ]
  },
  {
   "cell_type": "code",
   "execution_count": 88,
   "id": "aae592b9",
   "metadata": {},
   "outputs": [],
   "source": [
    "testo = pd.concat(output_list)"
   ]
  },
  {
   "cell_type": "code",
   "execution_count": null,
   "id": "39aa1620",
   "metadata": {},
   "outputs": [],
   "source": [
    "testo.head()"
   ]
  },
  {
   "cell_type": "code",
   "execution_count": null,
   "id": "1200c6e1",
   "metadata": {},
   "outputs": [],
   "source": [
    "testo.shape"
   ]
  },
  {
   "cell_type": "code",
   "execution_count": null,
   "id": "bf5c2c80",
   "metadata": {},
   "outputs": [],
   "source": []
  },
  {
   "cell_type": "code",
   "execution_count": null,
   "id": "0ca2484e",
   "metadata": {},
   "outputs": [],
   "source": [
    "testo['group_type'].unique().shape"
   ]
  },
  {
   "cell_type": "code",
   "execution_count": null,
   "id": "611b309d",
   "metadata": {},
   "outputs": [],
   "source": [
    "gdf.shape"
   ]
  },
  {
   "cell_type": "code",
   "execution_count": 93,
   "id": "b4e13042",
   "metadata": {},
   "outputs": [],
   "source": [
    "# join to the gdf\n",
    "out_gdf = pd.merge(left = gdf, right = testo)"
   ]
  },
  {
   "cell_type": "code",
   "execution_count": null,
   "id": "960c4966",
   "metadata": {},
   "outputs": [],
   "source": [
    "out_gdf.shape"
   ]
  },
  {
   "cell_type": "code",
   "execution_count": 95,
   "id": "2ab7d082",
   "metadata": {},
   "outputs": [],
   "source": [
    "write_gdf(gdf = out_gdf, output_file_path=rc.OUTPUT_FILE_PATH, output_file_name='pv_dfregate.gpkg')"
   ]
  },
  {
   "cell_type": "code",
   "execution_count": null,
   "id": "3aee3418",
   "metadata": {},
   "outputs": [],
   "source": [
    "testo['ord_street_type'].unique()"
   ]
  },
  {
   "cell_type": "code",
   "execution_count": null,
   "id": "520d57c7",
   "metadata": {},
   "outputs": [],
   "source": [
    "out_gdf.columns"
   ]
  },
  {
   "cell_type": "code",
   "execution_count": null,
   "id": "35858c26",
   "metadata": {},
   "outputs": [],
   "source": [
    "group_type = 'CNTR_S_N'\n",
    "t_gdf = out_gdf.loc[out_gdf['group_type'] == group_type, :].copy()\n",
    "t_gdf['city_portion'].unique()"
   ]
  },
  {
   "cell_type": "code",
   "execution_count": null,
   "id": "8bf6654f",
   "metadata": {},
   "outputs": [],
   "source": []
  },
  {
   "cell_type": "markdown",
   "id": "6528523b",
   "metadata": {},
   "source": [
    "# start writing down rules\n",
    "## streets run east / west: join across\n",
    "* NW, N, and NE\n",
    "* W, N, CNTR, E\n",
    "* SW, S\n",
    "## avenues run north / south: join across\n",
    "* NW, W, SW, \n",
    "* N, CNTR, SW\n",
    "* N, CNTR, S\n",
    "* NE, E, S\n",
    "\n",
    "## Street types that do not connect across sections/quadrants\n",
    "* PL"
   ]
  },
  {
   "cell_type": "code",
   "execution_count": null,
   "id": "415f5bd2",
   "metadata": {},
   "outputs": [],
   "source": []
  },
  {
   "cell_type": "code",
   "execution_count": null,
   "id": "76e92240",
   "metadata": {},
   "outputs": [],
   "source": []
  },
  {
   "cell_type": "code",
   "execution_count": 24,
   "id": "ef3780ed",
   "metadata": {},
   "outputs": [],
   "source": [
    "# left off here: 2025 01 09\n",
    "# bring in the street directions and types  "
   ]
  },
  {
   "cell_type": "code",
   "execution_count": null,
   "id": "16726790",
   "metadata": {},
   "outputs": [],
   "source": []
  }
 ],
 "metadata": {
  "kernelspec": {
   "display_name": "analysis",
   "language": "python",
   "name": "python3"
  },
  "language_info": {
   "codemirror_mode": {
    "name": "ipython",
    "version": 3
   },
   "file_extension": ".py",
   "mimetype": "text/x-python",
   "name": "python",
   "nbconvert_exporter": "python",
   "pygments_lexer": "ipython3",
   "version": "3.12.7"
  }
 },
 "nbformat": 4,
 "nbformat_minor": 5
}
