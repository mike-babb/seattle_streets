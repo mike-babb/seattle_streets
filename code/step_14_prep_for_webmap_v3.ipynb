{
 "cells": [
  {
   "cell_type": "markdown",
   "id": "fed9e25b-c5b9-4aee-89cd-15a7da3945c0",
   "metadata": {},
   "source": [
    "## Part 14: export data for a web map\n",
    "michael babb\n",
    "2025 10 01"
   ]
  },
  {
   "cell_type": "code",
   "execution_count": 27,
   "id": "e88ca8b2-b75d-4e72-8fc7-65c4cea61cde",
   "metadata": {},
   "outputs": [],
   "source": [
    "# standard\n",
    "import os"
   ]
  },
  {
   "cell_type": "code",
   "execution_count": 28,
   "id": "0778d9a5-0c62-4724-be28-c21598d23b6f",
   "metadata": {},
   "outputs": [],
   "source": [
    "# external\n",
    "import geopandas as gpd\n",
    "import numpy as np\n",
    "import pandas as pd"
   ]
  },
  {
   "cell_type": "code",
   "execution_count": 29,
   "id": "b8dac5db",
   "metadata": {},
   "outputs": [],
   "source": [
    "# custom\n",
    "import run_constants as rc\n",
    "from geo_data_io.fc_df_spatial import  check_MultiLineStrings\n",
    "from geo_data_io.fileio import write_json"
   ]
  },
  {
   "cell_type": "markdown",
   "id": "1c60134f",
   "metadata": {},
   "source": [
    "# load the added street data"
   ]
  },
  {
   "cell_type": "code",
   "execution_count": 30,
   "id": "74d1f901",
   "metadata": {},
   "outputs": [],
   "source": [
    "fpn = os.path.join(rc.OUTPUT_FILE_PATH, rc.S13_MISSING_OUT_FILE_NAME)"
   ]
  },
  {
   "cell_type": "code",
   "execution_count": 31,
   "id": "e5ee7745",
   "metadata": {},
   "outputs": [],
   "source": [
    "gdf = gpd.read_file(filename = fpn)"
   ]
  },
  {
   "cell_type": "markdown",
   "id": "5ec3bf80",
   "metadata": {},
   "source": [
    "# dissolve and aggregate\n",
    "This is necessary so that the geometry is grouped together"
   ]
  },
  {
   "cell_type": "code",
   "execution_count": 32,
   "id": "7b8aa612",
   "metadata": {},
   "outputs": [],
   "source": [
    "# dissolve - this also aggregates\n",
    "col_names = ['ord_stname_type_group','snd_group', 'street_status_reclass', 'group_id', 'dist_miles', 'geometry']\n",
    "diss_gdf = gdf[col_names].dissolve(by = col_names[:-2],\n",
    "                     aggfunc =  ['sum'], as_index = False)"
   ]
  },
  {
   "cell_type": "code",
   "execution_count": 33,
   "id": "af7059dd",
   "metadata": {},
   "outputs": [
    {
     "data": {
      "text/html": [
       "<div>\n",
       "<style scoped>\n",
       "    .dataframe tbody tr th:only-of-type {\n",
       "        vertical-align: middle;\n",
       "    }\n",
       "\n",
       "    .dataframe tbody tr th {\n",
       "        vertical-align: top;\n",
       "    }\n",
       "\n",
       "    .dataframe thead th {\n",
       "        text-align: right;\n",
       "    }\n",
       "</style>\n",
       "<table border=\"1\" class=\"dataframe\">\n",
       "  <thead>\n",
       "    <tr style=\"text-align: right;\">\n",
       "      <th></th>\n",
       "      <th>ord_stname_type_group</th>\n",
       "      <th>snd_group</th>\n",
       "      <th>street_status_reclass</th>\n",
       "      <th>group_id</th>\n",
       "      <th>geometry</th>\n",
       "      <th>(dist_miles, sum)</th>\n",
       "    </tr>\n",
       "  </thead>\n",
       "  <tbody>\n",
       "    <tr>\n",
       "      <th>0</th>\n",
       "      <td>100TH PL NW</td>\n",
       "      <td>0</td>\n",
       "      <td>0_0</td>\n",
       "      <td>1</td>\n",
       "      <td>MULTILINESTRING ((-122.36206 47.7035, -122.363...</td>\n",
       "      <td>0.201049</td>\n",
       "    </tr>\n",
       "    <tr>\n",
       "      <th>1</th>\n",
       "      <td>100TH PL SW</td>\n",
       "      <td>1</td>\n",
       "      <td>0_0</td>\n",
       "      <td>2</td>\n",
       "      <td>LINESTRING (-122.3403 47.51334, -122.34036 47....</td>\n",
       "      <td>0.035254</td>\n",
       "    </tr>\n",
       "    <tr>\n",
       "      <th>2</th>\n",
       "      <td>100TH ST NW_N_NE</td>\n",
       "      <td>0</td>\n",
       "      <td>2_0</td>\n",
       "      <td>1</td>\n",
       "      <td>LINESTRING (-122.38387 47.70155, -122.3823 47....</td>\n",
       "      <td>0.072951</td>\n",
       "    </tr>\n",
       "    <tr>\n",
       "      <th>3</th>\n",
       "      <td>100TH ST NW_N_NE</td>\n",
       "      <td>1</td>\n",
       "      <td>2_0</td>\n",
       "      <td>1</td>\n",
       "      <td>LINESTRING (-122.36478 47.70151, -122.36208 47...</td>\n",
       "      <td>0.125399</td>\n",
       "    </tr>\n",
       "    <tr>\n",
       "      <th>4</th>\n",
       "      <td>100TH ST NW_N_NE</td>\n",
       "      <td>2</td>\n",
       "      <td>1_0</td>\n",
       "      <td>1</td>\n",
       "      <td>MULTILINESTRING ((-122.38757 47.70155, -122.38...</td>\n",
       "      <td>0.273002</td>\n",
       "    </tr>\n",
       "  </tbody>\n",
       "</table>\n",
       "</div>"
      ],
      "text/plain": [
       "  ord_stname_type_group  snd_group street_status_reclass  group_id  \\\n",
       "0           100TH PL NW          0                   0_0         1   \n",
       "1           100TH PL SW          1                   0_0         2   \n",
       "2      100TH ST NW_N_NE          0                   2_0         1   \n",
       "3      100TH ST NW_N_NE          1                   2_0         1   \n",
       "4      100TH ST NW_N_NE          2                   1_0         1   \n",
       "\n",
       "                                            geometry  (dist_miles, sum)  \n",
       "0  MULTILINESTRING ((-122.36206 47.7035, -122.363...           0.201049  \n",
       "1  LINESTRING (-122.3403 47.51334, -122.34036 47....           0.035254  \n",
       "2  LINESTRING (-122.38387 47.70155, -122.3823 47....           0.072951  \n",
       "3  LINESTRING (-122.36478 47.70151, -122.36208 47...           0.125399  \n",
       "4  MULTILINESTRING ((-122.38757 47.70155, -122.38...           0.273002  "
      ]
     },
     "execution_count": 33,
     "metadata": {},
     "output_type": "execute_result"
    }
   ],
   "source": [
    "diss_gdf.head()"
   ]
  },
  {
   "cell_type": "code",
   "execution_count": 34,
   "id": "15b4a2d7",
   "metadata": {},
   "outputs": [],
   "source": [
    "# set column names\n",
    "col_names = ['ord_stname_type_group','snd_group', 'street_status_reclass', 'group_id', 'geometry', 'dist_miles']\n",
    "diss_gdf.columns = col_names"
   ]
  },
  {
   "cell_type": "code",
   "execution_count": 35,
   "id": "6d3d02b6",
   "metadata": {},
   "outputs": [],
   "source": [
    "# add a column to count the number of records - this will be summed later\n",
    "diss_gdf['n_segments'] = 1\n",
    "# shorten column names. This reduces the file size a bit because of how json stores data\n",
    "# it's better to repeat 'osntg' as opposed to 'ord_stname_type_group'\n",
    "col_names = ['osntg','sndg', 'ss', 'gi', 'geometry', 'dm', 'ns']\n",
    "diss_gdf.columns = col_names"
   ]
  },
  {
   "cell_type": "code",
   "execution_count": 36,
   "id": "e93926d1",
   "metadata": {},
   "outputs": [],
   "source": [
    "# let's try dropping some columns\n",
    "drop_col_names = ['sndg', 'gi']\n",
    "diss_gdf = diss_gdf.drop(labels=drop_col_names, axis = 1)"
   ]
  },
  {
   "cell_type": "code",
   "execution_count": 37,
   "id": "b2146671",
   "metadata": {},
   "outputs": [
    {
     "data": {
      "text/html": [
       "<div>\n",
       "<style scoped>\n",
       "    .dataframe tbody tr th:only-of-type {\n",
       "        vertical-align: middle;\n",
       "    }\n",
       "\n",
       "    .dataframe tbody tr th {\n",
       "        vertical-align: top;\n",
       "    }\n",
       "\n",
       "    .dataframe thead th {\n",
       "        text-align: right;\n",
       "    }\n",
       "</style>\n",
       "<table border=\"1\" class=\"dataframe\">\n",
       "  <thead>\n",
       "    <tr style=\"text-align: right;\">\n",
       "      <th></th>\n",
       "      <th>osntg</th>\n",
       "      <th>ss</th>\n",
       "      <th>geometry</th>\n",
       "      <th>(dm, sum)</th>\n",
       "      <th>(ns, sum)</th>\n",
       "    </tr>\n",
       "  </thead>\n",
       "  <tbody>\n",
       "    <tr>\n",
       "      <th>0</th>\n",
       "      <td>100TH PL NW</td>\n",
       "      <td>0_0</td>\n",
       "      <td>MULTILINESTRING ((-122.36206 47.7035, -122.363...</td>\n",
       "      <td>0.201049</td>\n",
       "      <td>1</td>\n",
       "    </tr>\n",
       "    <tr>\n",
       "      <th>1</th>\n",
       "      <td>100TH PL SW</td>\n",
       "      <td>0_0</td>\n",
       "      <td>LINESTRING (-122.3403 47.51334, -122.34036 47....</td>\n",
       "      <td>0.035254</td>\n",
       "      <td>1</td>\n",
       "    </tr>\n",
       "    <tr>\n",
       "      <th>2</th>\n",
       "      <td>100TH ST NW_N_NE</td>\n",
       "      <td>1_0</td>\n",
       "      <td>MULTILINESTRING ((-122.38757 47.70155, -122.38...</td>\n",
       "      <td>4.535595</td>\n",
       "      <td>9</td>\n",
       "    </tr>\n",
       "    <tr>\n",
       "      <th>3</th>\n",
       "      <td>100TH ST NW_N_NE</td>\n",
       "      <td>2_0</td>\n",
       "      <td>MULTILINESTRING ((-122.38387 47.70155, -122.38...</td>\n",
       "      <td>0.653439</td>\n",
       "      <td>7</td>\n",
       "    </tr>\n",
       "    <tr>\n",
       "      <th>4</th>\n",
       "      <td>100TH ST NW_N_NE</td>\n",
       "      <td>3_1</td>\n",
       "      <td>LINESTRING (-122.33512 47.70142, -122.32852 47...</td>\n",
       "      <td>0.307315</td>\n",
       "      <td>1</td>\n",
       "    </tr>\n",
       "  </tbody>\n",
       "</table>\n",
       "</div>"
      ],
      "text/plain": [
       "              osntg   ss                                           geometry  \\\n",
       "0       100TH PL NW  0_0  MULTILINESTRING ((-122.36206 47.7035, -122.363...   \n",
       "1       100TH PL SW  0_0  LINESTRING (-122.3403 47.51334, -122.34036 47....   \n",
       "2  100TH ST NW_N_NE  1_0  MULTILINESTRING ((-122.38757 47.70155, -122.38...   \n",
       "3  100TH ST NW_N_NE  2_0  MULTILINESTRING ((-122.38387 47.70155, -122.38...   \n",
       "4  100TH ST NW_N_NE  3_1  LINESTRING (-122.33512 47.70142, -122.32852 47...   \n",
       "\n",
       "   (dm, sum)  (ns, sum)  \n",
       "0   0.201049          1  \n",
       "1   0.035254          1  \n",
       "2   4.535595          9  \n",
       "3   0.653439          7  \n",
       "4   0.307315          1  "
      ]
     },
     "execution_count": 37,
     "metadata": {},
     "output_type": "execute_result"
    }
   ],
   "source": [
    "# perform another dissolve in order to get the right count of segments\n",
    "# this is necessary because we want continuous segments to be counted as one\n",
    "diss_gdf.columns\n",
    "col_names = ['osntg', 'ss', 'dm', 'ns']\n",
    "diss_gdf = diss_gdf.dissolve(by = col_names[:2], aggfunc =  ['sum'], as_index = False)\n",
    "diss_gdf.head()"
   ]
  },
  {
   "cell_type": "code",
   "execution_count": 38,
   "id": "653febfb",
   "metadata": {},
   "outputs": [
    {
     "data": {
      "text/html": [
       "<div>\n",
       "<style scoped>\n",
       "    .dataframe tbody tr th:only-of-type {\n",
       "        vertical-align: middle;\n",
       "    }\n",
       "\n",
       "    .dataframe tbody tr th {\n",
       "        vertical-align: top;\n",
       "    }\n",
       "\n",
       "    .dataframe thead th {\n",
       "        text-align: right;\n",
       "    }\n",
       "</style>\n",
       "<table border=\"1\" class=\"dataframe\">\n",
       "  <thead>\n",
       "    <tr style=\"text-align: right;\">\n",
       "      <th></th>\n",
       "      <th>osntg</th>\n",
       "      <th>ss</th>\n",
       "      <th>geometry</th>\n",
       "      <th>dm</th>\n",
       "      <th>ns</th>\n",
       "    </tr>\n",
       "  </thead>\n",
       "  <tbody>\n",
       "    <tr>\n",
       "      <th>0</th>\n",
       "      <td>100TH PL NW</td>\n",
       "      <td>0_0</td>\n",
       "      <td>MULTILINESTRING ((-122.36206 47.7035, -122.363...</td>\n",
       "      <td>0.201049</td>\n",
       "      <td>1</td>\n",
       "    </tr>\n",
       "    <tr>\n",
       "      <th>1</th>\n",
       "      <td>100TH PL SW</td>\n",
       "      <td>0_0</td>\n",
       "      <td>LINESTRING (-122.3403 47.51334, -122.34036 47....</td>\n",
       "      <td>0.035254</td>\n",
       "      <td>1</td>\n",
       "    </tr>\n",
       "    <tr>\n",
       "      <th>2</th>\n",
       "      <td>100TH ST NW_N_NE</td>\n",
       "      <td>1_0</td>\n",
       "      <td>MULTILINESTRING ((-122.38757 47.70155, -122.38...</td>\n",
       "      <td>4.535595</td>\n",
       "      <td>9</td>\n",
       "    </tr>\n",
       "    <tr>\n",
       "      <th>3</th>\n",
       "      <td>100TH ST NW_N_NE</td>\n",
       "      <td>2_0</td>\n",
       "      <td>MULTILINESTRING ((-122.38387 47.70155, -122.38...</td>\n",
       "      <td>0.653439</td>\n",
       "      <td>7</td>\n",
       "    </tr>\n",
       "    <tr>\n",
       "      <th>4</th>\n",
       "      <td>100TH ST NW_N_NE</td>\n",
       "      <td>3_1</td>\n",
       "      <td>LINESTRING (-122.33512 47.70142, -122.32852 47...</td>\n",
       "      <td>0.307315</td>\n",
       "      <td>1</td>\n",
       "    </tr>\n",
       "  </tbody>\n",
       "</table>\n",
       "</div>"
      ],
      "text/plain": [
       "              osntg   ss                                           geometry  \\\n",
       "0       100TH PL NW  0_0  MULTILINESTRING ((-122.36206 47.7035, -122.363...   \n",
       "1       100TH PL SW  0_0  LINESTRING (-122.3403 47.51334, -122.34036 47....   \n",
       "2  100TH ST NW_N_NE  1_0  MULTILINESTRING ((-122.38757 47.70155, -122.38...   \n",
       "3  100TH ST NW_N_NE  2_0  MULTILINESTRING ((-122.38387 47.70155, -122.38...   \n",
       "4  100TH ST NW_N_NE  3_1  LINESTRING (-122.33512 47.70142, -122.32852 47...   \n",
       "\n",
       "         dm  ns  \n",
       "0  0.201049   1  \n",
       "1  0.035254   1  \n",
       "2  4.535595   9  \n",
       "3  0.653439   7  \n",
       "4  0.307315   1  "
      ]
     },
     "execution_count": 38,
     "metadata": {},
     "output_type": "execute_result"
    }
   ],
   "source": [
    "# rename \n",
    "diss_gdf.columns = ['osntg', 'ss', 'geometry', 'dm', 'ns']\n",
    "diss_gdf.shape\n",
    "diss_gdf.head()"
   ]
  },
  {
   "cell_type": "code",
   "execution_count": 39,
   "id": "bab4de5d",
   "metadata": {},
   "outputs": [],
   "source": [
    "# format the osntg output\n",
    "def format_osntg(sn):\n",
    "    if '_' in sn:\n",
    "        pos = sn.rfind(' ') \n",
    "        osn = sn[:pos]\n",
    "        #ost = sn[pos + 1:].replace('_', '] [')\n",
    "        #outcome = osn + ' : [' + ost + ']'\n",
    "        ost = sn[pos + 1:].replace('_', ' | ')\n",
    "        outcome = osn + ': ' + ost\n",
    "\n",
    "    else:\n",
    "        outcome = sn\n",
    "    return outcome\n"
   ]
  },
  {
   "cell_type": "code",
   "execution_count": 40,
   "id": "fa7e1423",
   "metadata": {},
   "outputs": [
    {
     "data": {
      "text/html": [
       "<div>\n",
       "<style scoped>\n",
       "    .dataframe tbody tr th:only-of-type {\n",
       "        vertical-align: middle;\n",
       "    }\n",
       "\n",
       "    .dataframe tbody tr th {\n",
       "        vertical-align: top;\n",
       "    }\n",
       "\n",
       "    .dataframe thead th {\n",
       "        text-align: right;\n",
       "    }\n",
       "</style>\n",
       "<table border=\"1\" class=\"dataframe\">\n",
       "  <thead>\n",
       "    <tr style=\"text-align: right;\">\n",
       "      <th></th>\n",
       "      <th>osntg</th>\n",
       "      <th>ss</th>\n",
       "      <th>geometry</th>\n",
       "      <th>dm</th>\n",
       "      <th>ns</th>\n",
       "    </tr>\n",
       "  </thead>\n",
       "  <tbody>\n",
       "    <tr>\n",
       "      <th>0</th>\n",
       "      <td>100TH PL NW</td>\n",
       "      <td>0_0</td>\n",
       "      <td>MULTILINESTRING ((-122.36206 47.7035, -122.363...</td>\n",
       "      <td>0.201049</td>\n",
       "      <td>1</td>\n",
       "    </tr>\n",
       "    <tr>\n",
       "      <th>1</th>\n",
       "      <td>100TH PL SW</td>\n",
       "      <td>0_0</td>\n",
       "      <td>LINESTRING (-122.3403 47.51334, -122.34036 47....</td>\n",
       "      <td>0.035254</td>\n",
       "      <td>1</td>\n",
       "    </tr>\n",
       "    <tr>\n",
       "      <th>2</th>\n",
       "      <td>100TH ST: NW | N | NE</td>\n",
       "      <td>1_0</td>\n",
       "      <td>MULTILINESTRING ((-122.38757 47.70155, -122.38...</td>\n",
       "      <td>4.535595</td>\n",
       "      <td>9</td>\n",
       "    </tr>\n",
       "    <tr>\n",
       "      <th>3</th>\n",
       "      <td>100TH ST: NW | N | NE</td>\n",
       "      <td>2_0</td>\n",
       "      <td>MULTILINESTRING ((-122.38387 47.70155, -122.38...</td>\n",
       "      <td>0.653439</td>\n",
       "      <td>7</td>\n",
       "    </tr>\n",
       "    <tr>\n",
       "      <th>4</th>\n",
       "      <td>100TH ST: NW | N | NE</td>\n",
       "      <td>3_1</td>\n",
       "      <td>LINESTRING (-122.33512 47.70142, -122.32852 47...</td>\n",
       "      <td>0.307315</td>\n",
       "      <td>1</td>\n",
       "    </tr>\n",
       "  </tbody>\n",
       "</table>\n",
       "</div>"
      ],
      "text/plain": [
       "                   osntg   ss  \\\n",
       "0            100TH PL NW  0_0   \n",
       "1            100TH PL SW  0_0   \n",
       "2  100TH ST: NW | N | NE  1_0   \n",
       "3  100TH ST: NW | N | NE  2_0   \n",
       "4  100TH ST: NW | N | NE  3_1   \n",
       "\n",
       "                                            geometry        dm  ns  \n",
       "0  MULTILINESTRING ((-122.36206 47.7035, -122.363...  0.201049   1  \n",
       "1  LINESTRING (-122.3403 47.51334, -122.34036 47....  0.035254   1  \n",
       "2  MULTILINESTRING ((-122.38757 47.70155, -122.38...  4.535595   9  \n",
       "3  MULTILINESTRING ((-122.38387 47.70155, -122.38...  0.653439   7  \n",
       "4  LINESTRING (-122.33512 47.70142, -122.32852 47...  0.307315   1  "
      ]
     },
     "execution_count": 40,
     "metadata": {},
     "output_type": "execute_result"
    }
   ],
   "source": [
    "diss_gdf['osntg'] = diss_gdf['osntg'].map(format_osntg)\n",
    "diss_gdf.head()"
   ]
  },
  {
   "cell_type": "code",
   "execution_count": 41,
   "id": "3db8958b",
   "metadata": {},
   "outputs": [
    {
     "data": {
      "text/plain": [
       "MultiLineString    2005\n",
       "LineString         1148\n",
       "Name: count, dtype: int64"
      ]
     },
     "execution_count": 41,
     "metadata": {},
     "output_type": "execute_result"
    }
   ],
   "source": [
    "# see if we can collapse MultiLineStrings to LineStrings\n",
    "diss_gdf['geometry'].geom_type.value_counts()\n"
   ]
  },
  {
   "cell_type": "code",
   "execution_count": 42,
   "id": "53caec72",
   "metadata": {},
   "outputs": [
    {
     "data": {
      "text/plain": [
       "LineString         1681\n",
       "MultiLineString    1472\n",
       "Name: count, dtype: int64"
      ]
     },
     "execution_count": 42,
     "metadata": {},
     "output_type": "execute_result"
    }
   ],
   "source": [
    "diss_gdf['geometry'] = diss_gdf['geometry'].map(check_MultiLineStrings)\n",
    "diss_gdf['geometry'].geom_type.value_counts()"
   ]
  },
  {
   "cell_type": "code",
   "execution_count": 43,
   "id": "abb9e1c3",
   "metadata": {},
   "outputs": [
    {
     "data": {
      "text/html": [
       "<div>\n",
       "<style scoped>\n",
       "    .dataframe tbody tr th:only-of-type {\n",
       "        vertical-align: middle;\n",
       "    }\n",
       "\n",
       "    .dataframe tbody tr th {\n",
       "        vertical-align: top;\n",
       "    }\n",
       "\n",
       "    .dataframe thead th {\n",
       "        text-align: right;\n",
       "    }\n",
       "</style>\n",
       "<table border=\"1\" class=\"dataframe\">\n",
       "  <thead>\n",
       "    <tr style=\"text-align: right;\">\n",
       "      <th></th>\n",
       "      <th>osntg</th>\n",
       "      <th>ss</th>\n",
       "      <th>geometry</th>\n",
       "      <th>dm</th>\n",
       "      <th>ns</th>\n",
       "    </tr>\n",
       "  </thead>\n",
       "  <tbody>\n",
       "    <tr>\n",
       "      <th>0</th>\n",
       "      <td>100TH PL NW</td>\n",
       "      <td>0_0</td>\n",
       "      <td>LINESTRING (-122.36206 47.7035, -122.36342 47....</td>\n",
       "      <td>0.201049</td>\n",
       "      <td>1</td>\n",
       "    </tr>\n",
       "    <tr>\n",
       "      <th>1</th>\n",
       "      <td>100TH PL SW</td>\n",
       "      <td>0_0</td>\n",
       "      <td>LINESTRING (-122.3403 47.51334, -122.34036 47....</td>\n",
       "      <td>0.035254</td>\n",
       "      <td>1</td>\n",
       "    </tr>\n",
       "    <tr>\n",
       "      <th>2</th>\n",
       "      <td>100TH ST: NW | N | NE</td>\n",
       "      <td>1_0</td>\n",
       "      <td>MULTILINESTRING ((-122.38757 47.70155, -122.38...</td>\n",
       "      <td>4.535595</td>\n",
       "      <td>9</td>\n",
       "    </tr>\n",
       "    <tr>\n",
       "      <th>3</th>\n",
       "      <td>100TH ST: NW | N | NE</td>\n",
       "      <td>2_0</td>\n",
       "      <td>MULTILINESTRING ((-122.38387 47.70155, -122.38...</td>\n",
       "      <td>0.653439</td>\n",
       "      <td>7</td>\n",
       "    </tr>\n",
       "    <tr>\n",
       "      <th>4</th>\n",
       "      <td>100TH ST: NW | N | NE</td>\n",
       "      <td>3_1</td>\n",
       "      <td>LINESTRING (-122.33512 47.70142, -122.32852 47...</td>\n",
       "      <td>0.307315</td>\n",
       "      <td>1</td>\n",
       "    </tr>\n",
       "  </tbody>\n",
       "</table>\n",
       "</div>"
      ],
      "text/plain": [
       "                   osntg   ss  \\\n",
       "0            100TH PL NW  0_0   \n",
       "1            100TH PL SW  0_0   \n",
       "2  100TH ST: NW | N | NE  1_0   \n",
       "3  100TH ST: NW | N | NE  2_0   \n",
       "4  100TH ST: NW | N | NE  3_1   \n",
       "\n",
       "                                            geometry        dm  ns  \n",
       "0  LINESTRING (-122.36206 47.7035, -122.36342 47....  0.201049   1  \n",
       "1  LINESTRING (-122.3403 47.51334, -122.34036 47....  0.035254   1  \n",
       "2  MULTILINESTRING ((-122.38757 47.70155, -122.38...  4.535595   9  \n",
       "3  MULTILINESTRING ((-122.38387 47.70155, -122.38...  0.653439   7  \n",
       "4  LINESTRING (-122.33512 47.70142, -122.32852 47...  0.307315   1  "
      ]
     },
     "execution_count": 43,
     "metadata": {},
     "output_type": "execute_result"
    }
   ],
   "source": [
    "diss_gdf.head()"
   ]
  },
  {
   "cell_type": "code",
   "execution_count": 44,
   "id": "30d5db6d",
   "metadata": {},
   "outputs": [],
   "source": [
    "# recode the street segments\n",
    "ss_recode_dict = {'0_0':0,\n",
    "                  '1_0':1,\n",
    "                  '2_0':2,\n",
    "                  '3_0':3,\n",
    "                  '2_1':4,\n",
    "                  '3_1':5\n",
    "}\n",
    "\n",
    "diss_gdf['ss'] = diss_gdf['ss'].map(ss_recode_dict)"
   ]
  },
  {
   "cell_type": "code",
   "execution_count": 45,
   "id": "e1777c78",
   "metadata": {},
   "outputs": [
    {
     "data": {
      "text/plain": [
       "ss\n",
       "0    1117\n",
       "1     699\n",
       "2     636\n",
       "4     380\n",
       "3     304\n",
       "5      17\n",
       "Name: count, dtype: int64"
      ]
     },
     "execution_count": 45,
     "metadata": {},
     "output_type": "execute_result"
    }
   ],
   "source": [
    "diss_gdf['ss'].value_counts()"
   ]
  },
  {
   "cell_type": "code",
   "execution_count": 46,
   "id": "3bcae3e0",
   "metadata": {},
   "outputs": [
    {
     "data": {
      "text/html": [
       "<div>\n",
       "<style scoped>\n",
       "    .dataframe tbody tr th:only-of-type {\n",
       "        vertical-align: middle;\n",
       "    }\n",
       "\n",
       "    .dataframe tbody tr th {\n",
       "        vertical-align: top;\n",
       "    }\n",
       "\n",
       "    .dataframe thead th {\n",
       "        text-align: right;\n",
       "    }\n",
       "</style>\n",
       "<table border=\"1\" class=\"dataframe\">\n",
       "  <thead>\n",
       "    <tr style=\"text-align: right;\">\n",
       "      <th></th>\n",
       "      <th>osntg</th>\n",
       "      <th>ss</th>\n",
       "      <th>geometry</th>\n",
       "      <th>dm</th>\n",
       "      <th>ns</th>\n",
       "    </tr>\n",
       "  </thead>\n",
       "  <tbody>\n",
       "    <tr>\n",
       "      <th>0</th>\n",
       "      <td>100TH PL NW</td>\n",
       "      <td>0</td>\n",
       "      <td>LINESTRING (-122.36206 47.7035, -122.36342 47....</td>\n",
       "      <td>0.201049</td>\n",
       "      <td>1</td>\n",
       "    </tr>\n",
       "    <tr>\n",
       "      <th>1</th>\n",
       "      <td>100TH PL SW</td>\n",
       "      <td>0</td>\n",
       "      <td>LINESTRING (-122.3403 47.51334, -122.34036 47....</td>\n",
       "      <td>0.035254</td>\n",
       "      <td>1</td>\n",
       "    </tr>\n",
       "    <tr>\n",
       "      <th>2</th>\n",
       "      <td>100TH ST: NW | N | NE</td>\n",
       "      <td>1</td>\n",
       "      <td>MULTILINESTRING ((-122.38757 47.70155, -122.38...</td>\n",
       "      <td>4.535595</td>\n",
       "      <td>9</td>\n",
       "    </tr>\n",
       "    <tr>\n",
       "      <th>3</th>\n",
       "      <td>100TH ST: NW | N | NE</td>\n",
       "      <td>2</td>\n",
       "      <td>MULTILINESTRING ((-122.38387 47.70155, -122.38...</td>\n",
       "      <td>0.653439</td>\n",
       "      <td>7</td>\n",
       "    </tr>\n",
       "    <tr>\n",
       "      <th>4</th>\n",
       "      <td>100TH ST: NW | N | NE</td>\n",
       "      <td>5</td>\n",
       "      <td>LINESTRING (-122.33512 47.70142, -122.32852 47...</td>\n",
       "      <td>0.307315</td>\n",
       "      <td>1</td>\n",
       "    </tr>\n",
       "  </tbody>\n",
       "</table>\n",
       "</div>"
      ],
      "text/plain": [
       "                   osntg  ss  \\\n",
       "0            100TH PL NW   0   \n",
       "1            100TH PL SW   0   \n",
       "2  100TH ST: NW | N | NE   1   \n",
       "3  100TH ST: NW | N | NE   2   \n",
       "4  100TH ST: NW | N | NE   5   \n",
       "\n",
       "                                            geometry        dm  ns  \n",
       "0  LINESTRING (-122.36206 47.7035, -122.36342 47....  0.201049   1  \n",
       "1  LINESTRING (-122.3403 47.51334, -122.34036 47....  0.035254   1  \n",
       "2  MULTILINESTRING ((-122.38757 47.70155, -122.38...  4.535595   9  \n",
       "3  MULTILINESTRING ((-122.38387 47.70155, -122.38...  0.653439   7  \n",
       "4  LINESTRING (-122.33512 47.70142, -122.32852 47...  0.307315   1  "
      ]
     },
     "execution_count": 46,
     "metadata": {},
     "output_type": "execute_result"
    }
   ],
   "source": [
    "diss_gdf.head()"
   ]
  },
  {
   "cell_type": "code",
   "execution_count": 47,
   "id": "23bc9dcf",
   "metadata": {},
   "outputs": [
    {
     "name": "stdout",
     "output_type": "stream",
     "text": [
      "all_streets_diss\n"
     ]
    }
   ],
   "source": [
    "# finally, rename the CNTR streets to just C\n",
    "diss_gdf['osntg'] = diss_gdf['osntg'].str.replace('CNTR', 'C')\n",
    "out_data = diss_gdf.to_json(drop_id=True, to_wgs84=True)\n",
    "output_file_name = rc.S14_STREETS_JSON_FILE_NAME\n",
    "write_json(json_data=out_data, output_file_path ='../maps',\n",
    "               output_file_name = output_file_name, var_name = 'all_streets_diss')\n"
   ]
  },
  {
   "cell_type": "code",
   "execution_count": null,
   "id": "b9f041d1",
   "metadata": {},
   "outputs": [],
   "source": []
  }
 ],
 "metadata": {
  "kernelspec": {
   "display_name": "analysis",
   "language": "python",
   "name": "python3"
  },
  "language_info": {
   "codemirror_mode": {
    "name": "ipython",
    "version": 3
   },
   "file_extension": ".py",
   "mimetype": "text/x-python",
   "name": "python",
   "nbconvert_exporter": "python",
   "pygments_lexer": "ipython3",
   "version": "3.12.7"
  }
 },
 "nbformat": 4,
 "nbformat_minor": 5
}
