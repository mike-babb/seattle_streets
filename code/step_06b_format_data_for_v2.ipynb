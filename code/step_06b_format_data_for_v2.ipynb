{
 "cells": [
  {
   "cell_type": "markdown",
   "id": "fed9e25b-c5b9-4aee-89cd-15a7da3945c0",
   "metadata": {},
   "source": [
    "# Part 06b: Visualize seattle street groups by type\n",
    "michael babb  \n",
    "2024 11 24"
   ]
  },
  {
   "cell_type": "code",
   "execution_count": 1,
   "id": "e88ca8b2-b75d-4e72-8fc7-65c4cea61cde",
   "metadata": {},
   "outputs": [],
   "source": [
    "# standard\n",
    "import os"
   ]
  },
  {
   "cell_type": "code",
   "execution_count": 2,
   "id": "0778d9a5-0c62-4724-be28-c21598d23b6f",
   "metadata": {},
   "outputs": [],
   "source": [
    "# external\n",
    "import geopandas as gpd\n",
    "import matplotlib as mpl\n",
    "from matplotlib.gridspec import GridSpec\n",
    "import matplotlib.pyplot as plt\n",
    "import numpy as np\n",
    "import pandas as pd\n",
    "import seaborn as sns"
   ]
  },
  {
   "cell_type": "code",
   "execution_count": 3,
   "id": "2fc61400-c637-4828-820d-56c2cdd14942",
   "metadata": {},
   "outputs": [],
   "source": [
    "# custom\n",
    "import run_constants as rc\n",
    "from utils import *"
   ]
  },
  {
   "cell_type": "markdown",
   "id": "d56ea77e-ffd7-4326-b793-415f8a131ef2",
   "metadata": {},
   "source": [
    "# load the working seattle street network data"
   ]
  },
  {
   "cell_type": "code",
   "execution_count": 4,
   "id": "ddf62724-9105-44c9-b983-e4f520328fa9",
   "metadata": {},
   "outputs": [],
   "source": [
    "fpn = os.path.join(rc.OUTPUT_FILE_PATH, rc.S03_SND_WORKING_IN_FILE_NAME)"
   ]
  },
  {
   "cell_type": "code",
   "execution_count": 5,
   "id": "2cbdb5c1-c973-4882-b442-cf5396e90d3e",
   "metadata": {},
   "outputs": [],
   "source": [
    "gdf = gpd.read_file(filename = fpn)"
   ]
  },
  {
   "cell_type": "code",
   "execution_count": 6,
   "id": "390b341e",
   "metadata": {},
   "outputs": [
    {
     "data": {
      "text/plain": [
       "(25773, 39)"
      ]
     },
     "execution_count": 6,
     "metadata": {},
     "output_type": "execute_result"
    }
   ],
   "source": [
    "gdf.shape"
   ]
  },
  {
   "cell_type": "code",
   "execution_count": 7,
   "id": "5adf4877",
   "metadata": {},
   "outputs": [
    {
     "data": {
      "text/plain": [
       "(2455,)"
      ]
     },
     "execution_count": 7,
     "metadata": {},
     "output_type": "execute_result"
    }
   ],
   "source": [
    "gdf['ord_stname_concat'].unique().shape"
   ]
  },
  {
   "cell_type": "code",
   "execution_count": 8,
   "id": "b2c54149",
   "metadata": {},
   "outputs": [
    {
     "data": {
      "text/plain": [
       "Index(['f_intr_id', 't_intr_id', 'snd_id', 'snd_feacode', 'citycode',\n",
       "       'stname_id', 'st_code', 'arterial_code', 'segment_type', 'agency_code',\n",
       "       'access_code', 'divided_code', 'structure_type', 'legalloc_code',\n",
       "       'vehicle_use_code', 'gis_seg_length', 'l_adrs_from', 'l_adrs_to',\n",
       "       'r_adrs_from', 'r_adrs_to', 'ord_pre_dir', 'ord_street_name',\n",
       "       'ord_street_type', 'ord_suf_dir', 'ord_stname_concat', 'l_city',\n",
       "       'l_state', 'l_zip', 'r_city', 'r_state', 'r_zip', 'sndseg_update',\n",
       "       'compkey', 'comptype', 'unitid', 'unitid2', 'city_portion',\n",
       "       'ord_stname_unique', 'geometry'],\n",
       "      dtype='object')"
      ]
     },
     "execution_count": 8,
     "metadata": {},
     "output_type": "execute_result"
    }
   ],
   "source": [
    "gdf.columns"
   ]
  },
  {
   "cell_type": "code",
   "execution_count": 9,
   "id": "35ddd89f",
   "metadata": {},
   "outputs": [
    {
     "data": {
      "text/plain": [
       "array(['CNTR', 'E', 'NE', 'NW', 'S', 'SW', 'W', 'N'], dtype=object)"
      ]
     },
     "execution_count": 9,
     "metadata": {},
     "output_type": "execute_result"
    }
   ],
   "source": [
    "gdf['city_portion'].unique()"
   ]
  },
  {
   "cell_type": "code",
   "execution_count": null,
   "id": "fa84ae11",
   "metadata": {},
   "outputs": [],
   "source": []
  },
  {
   "cell_type": "markdown",
   "id": "bdc6814a",
   "metadata": {},
   "source": [
    "## load the manually created street group data\n",
    "These data were created in Step 6a, but we'll bring them into the Step 3 workflow."
   ]
  },
  {
   "cell_type": "code",
   "execution_count": 10,
   "id": "b490fe46",
   "metadata": {},
   "outputs": [],
   "source": [
    "fpn = os.path.join(rc.INPUT_FILE_PATH, rc.S03_STREET_GROUP_IN_FILE_NAME)"
   ]
  },
  {
   "cell_type": "code",
   "execution_count": 11,
   "id": "7fa5dd23",
   "metadata": {},
   "outputs": [],
   "source": [
    "index_cols = ['sort_order', 'ord_street_name', 'ord_street_type', 'city_portion']\n",
    "sg_df = pd.read_excel(io = fpn, index_col=[0, 1, 2, 3])\n",
    "sg_df = sg_df.reset_index()"
   ]
  },
  {
   "cell_type": "code",
   "execution_count": 12,
   "id": "23379a66",
   "metadata": {},
   "outputs": [],
   "source": [
    "drop_cols = ['sort_order', 'progress', 'count']\n",
    "sg_df = sg_df.drop(labels = drop_cols, axis = 1)\n"
   ]
  },
  {
   "cell_type": "code",
   "execution_count": 13,
   "id": "854d1ddd",
   "metadata": {},
   "outputs": [
    {
     "data": {
      "text/plain": [
       "_merge\n",
       "both          19032\n",
       "left_only      6741\n",
       "right_only        0\n",
       "Name: count, dtype: int64"
      ]
     },
     "execution_count": 13,
     "metadata": {},
     "output_type": "execute_result"
    }
   ],
   "source": [
    "test_join = pd.merge(left = gdf, right = sg_df, how = 'left', indicator=True)\n",
    "test_join['_merge'].value_counts()"
   ]
  },
  {
   "cell_type": "code",
   "execution_count": 14,
   "id": "2b70ebe6",
   "metadata": {},
   "outputs": [],
   "source": [
    "gdf = test_join.copy()"
   ]
  },
  {
   "cell_type": "code",
   "execution_count": 15,
   "id": "8b70615b",
   "metadata": {},
   "outputs": [
    {
     "data": {
      "text/plain": [
       "(25773, 41)"
      ]
     },
     "execution_count": 15,
     "metadata": {},
     "output_type": "execute_result"
    }
   ],
   "source": [
    "gdf['group_id'] = gdf['group_id'].fillna(1).astype(int)\n",
    "gdf.shape"
   ]
  },
  {
   "cell_type": "markdown",
   "id": "231b9ac7",
   "metadata": {},
   "source": [
    "# create an id across street groups"
   ]
  },
  {
   "cell_type": "code",
   "execution_count": 16,
   "id": "64b62645",
   "metadata": {},
   "outputs": [
    {
     "data": {
      "text/html": [
       "<div>\n",
       "<style scoped>\n",
       "    .dataframe tbody tr th:only-of-type {\n",
       "        vertical-align: middle;\n",
       "    }\n",
       "\n",
       "    .dataframe tbody tr th {\n",
       "        vertical-align: top;\n",
       "    }\n",
       "\n",
       "    .dataframe thead th {\n",
       "        text-align: right;\n",
       "    }\n",
       "</style>\n",
       "<table border=\"1\" class=\"dataframe\">\n",
       "  <thead>\n",
       "    <tr style=\"text-align: right;\">\n",
       "      <th></th>\n",
       "      <th>f_intr_id</th>\n",
       "      <th>t_intr_id</th>\n",
       "      <th>snd_id</th>\n",
       "      <th>snd_feacode</th>\n",
       "      <th>citycode</th>\n",
       "      <th>stname_id</th>\n",
       "      <th>st_code</th>\n",
       "      <th>arterial_code</th>\n",
       "      <th>segment_type</th>\n",
       "      <th>agency_code</th>\n",
       "      <th>...</th>\n",
       "      <th>sndseg_update</th>\n",
       "      <th>compkey</th>\n",
       "      <th>comptype</th>\n",
       "      <th>unitid</th>\n",
       "      <th>unitid2</th>\n",
       "      <th>city_portion</th>\n",
       "      <th>ord_stname_unique</th>\n",
       "      <th>geometry</th>\n",
       "      <th>group_id</th>\n",
       "      <th>_merge</th>\n",
       "    </tr>\n",
       "  </thead>\n",
       "  <tbody>\n",
       "    <tr>\n",
       "      <th>0</th>\n",
       "      <td>12378</td>\n",
       "      <td>12359</td>\n",
       "      <td>21329</td>\n",
       "      <td>1</td>\n",
       "      <td>1</td>\n",
       "      <td>1</td>\n",
       "      <td>0</td>\n",
       "      <td>0</td>\n",
       "      <td>1</td>\n",
       "      <td>1</td>\n",
       "      <td>...</td>\n",
       "      <td>2007-04-18 00:00:00+00:00</td>\n",
       "      <td>1284</td>\n",
       "      <td>68</td>\n",
       "      <td>00145</td>\n",
       "      <td>0015</td>\n",
       "      <td>CNTR</td>\n",
       "      <td>10TH AVE CNTR</td>\n",
       "      <td>LINESTRING (-122.31942 47.6027, -122.31942 47....</td>\n",
       "      <td>2</td>\n",
       "      <td>both</td>\n",
       "    </tr>\n",
       "    <tr>\n",
       "      <th>1</th>\n",
       "      <td>12319</td>\n",
       "      <td>12265</td>\n",
       "      <td>21259</td>\n",
       "      <td>1</td>\n",
       "      <td>1</td>\n",
       "      <td>1</td>\n",
       "      <td>0</td>\n",
       "      <td>0</td>\n",
       "      <td>1</td>\n",
       "      <td>1</td>\n",
       "      <td>...</td>\n",
       "      <td>2007-04-20 00:00:00+00:00</td>\n",
       "      <td>1286</td>\n",
       "      <td>68</td>\n",
       "      <td>00145</td>\n",
       "      <td>0020</td>\n",
       "      <td>CNTR</td>\n",
       "      <td>10TH AVE CNTR</td>\n",
       "      <td>LINESTRING (-122.31942 47.60352, -122.31943 47...</td>\n",
       "      <td>2</td>\n",
       "      <td>both</td>\n",
       "    </tr>\n",
       "    <tr>\n",
       "      <th>2</th>\n",
       "      <td>11809</td>\n",
       "      <td>11752</td>\n",
       "      <td>20601</td>\n",
       "      <td>1</td>\n",
       "      <td>1</td>\n",
       "      <td>1</td>\n",
       "      <td>0</td>\n",
       "      <td>0</td>\n",
       "      <td>1</td>\n",
       "      <td>1</td>\n",
       "      <td>...</td>\n",
       "      <td>2007-04-20 00:00:00+00:00</td>\n",
       "      <td>1194</td>\n",
       "      <td>68</td>\n",
       "      <td>00145</td>\n",
       "      <td>0112</td>\n",
       "      <td>CNTR</td>\n",
       "      <td>10TH AVE CNTR</td>\n",
       "      <td>LINESTRING (-122.31938 47.61218, -122.31939 47...</td>\n",
       "      <td>2</td>\n",
       "      <td>both</td>\n",
       "    </tr>\n",
       "    <tr>\n",
       "      <th>3</th>\n",
       "      <td>12265</td>\n",
       "      <td>12222</td>\n",
       "      <td>21189</td>\n",
       "      <td>1</td>\n",
       "      <td>1</td>\n",
       "      <td>1</td>\n",
       "      <td>0</td>\n",
       "      <td>0</td>\n",
       "      <td>1</td>\n",
       "      <td>1</td>\n",
       "      <td>...</td>\n",
       "      <td>2007-04-20 00:00:00+00:00</td>\n",
       "      <td>1191</td>\n",
       "      <td>68</td>\n",
       "      <td>00145</td>\n",
       "      <td>0030</td>\n",
       "      <td>CNTR</td>\n",
       "      <td>10TH AVE CNTR</td>\n",
       "      <td>LINESTRING (-122.31943 47.60437, -122.31943 47...</td>\n",
       "      <td>2</td>\n",
       "      <td>both</td>\n",
       "    </tr>\n",
       "    <tr>\n",
       "      <th>4</th>\n",
       "      <td>12222</td>\n",
       "      <td>12162</td>\n",
       "      <td>21131</td>\n",
       "      <td>1</td>\n",
       "      <td>1</td>\n",
       "      <td>1</td>\n",
       "      <td>0</td>\n",
       "      <td>0</td>\n",
       "      <td>1</td>\n",
       "      <td>1</td>\n",
       "      <td>...</td>\n",
       "      <td>2007-04-20 00:00:00+00:00</td>\n",
       "      <td>1192</td>\n",
       "      <td>68</td>\n",
       "      <td>00145</td>\n",
       "      <td>0040</td>\n",
       "      <td>CNTR</td>\n",
       "      <td>10TH AVE CNTR</td>\n",
       "      <td>LINESTRING (-122.31943 47.60521, -122.31943 47...</td>\n",
       "      <td>2</td>\n",
       "      <td>both</td>\n",
       "    </tr>\n",
       "  </tbody>\n",
       "</table>\n",
       "<p>5 rows × 41 columns</p>\n",
       "</div>"
      ],
      "text/plain": [
       "   f_intr_id  t_intr_id  snd_id  snd_feacode  citycode  stname_id  st_code  \\\n",
       "0      12378      12359   21329            1         1          1        0   \n",
       "1      12319      12265   21259            1         1          1        0   \n",
       "2      11809      11752   20601            1         1          1        0   \n",
       "3      12265      12222   21189            1         1          1        0   \n",
       "4      12222      12162   21131            1         1          1        0   \n",
       "\n",
       "   arterial_code  segment_type  agency_code  ...             sndseg_update  \\\n",
       "0              0             1            1  ... 2007-04-18 00:00:00+00:00   \n",
       "1              0             1            1  ... 2007-04-20 00:00:00+00:00   \n",
       "2              0             1            1  ... 2007-04-20 00:00:00+00:00   \n",
       "3              0             1            1  ... 2007-04-20 00:00:00+00:00   \n",
       "4              0             1            1  ... 2007-04-20 00:00:00+00:00   \n",
       "\n",
       "   compkey  comptype  unitid  unitid2  city_portion  ord_stname_unique  \\\n",
       "0     1284        68   00145     0015          CNTR      10TH AVE CNTR   \n",
       "1     1286        68   00145     0020          CNTR      10TH AVE CNTR   \n",
       "2     1194        68   00145     0112          CNTR      10TH AVE CNTR   \n",
       "3     1191        68   00145     0030          CNTR      10TH AVE CNTR   \n",
       "4     1192        68   00145     0040          CNTR      10TH AVE CNTR   \n",
       "\n",
       "                                            geometry  group_id  _merge  \n",
       "0  LINESTRING (-122.31942 47.6027, -122.31942 47....         2    both  \n",
       "1  LINESTRING (-122.31942 47.60352, -122.31943 47...         2    both  \n",
       "2  LINESTRING (-122.31938 47.61218, -122.31939 47...         2    both  \n",
       "3  LINESTRING (-122.31943 47.60437, -122.31943 47...         2    both  \n",
       "4  LINESTRING (-122.31943 47.60521, -122.31943 47...         2    both  \n",
       "\n",
       "[5 rows x 41 columns]"
      ]
     },
     "execution_count": 16,
     "metadata": {},
     "output_type": "execute_result"
    }
   ],
   "source": [
    "gdf.head()"
   ]
  },
  {
   "cell_type": "code",
   "execution_count": 17,
   "id": "1722d21c",
   "metadata": {},
   "outputs": [
    {
     "data": {
      "text/plain": [
       "Index(['f_intr_id', 't_intr_id', 'snd_id', 'snd_feacode', 'citycode',\n",
       "       'stname_id', 'st_code', 'arterial_code', 'segment_type', 'agency_code',\n",
       "       'access_code', 'divided_code', 'structure_type', 'legalloc_code',\n",
       "       'vehicle_use_code', 'gis_seg_length', 'l_adrs_from', 'l_adrs_to',\n",
       "       'r_adrs_from', 'r_adrs_to', 'ord_pre_dir', 'ord_street_name',\n",
       "       'ord_street_type', 'ord_suf_dir', 'ord_stname_concat', 'l_city',\n",
       "       'l_state', 'l_zip', 'r_city', 'r_state', 'r_zip', 'sndseg_update',\n",
       "       'compkey', 'comptype', 'unitid', 'unitid2', 'city_portion',\n",
       "       'ord_stname_unique', 'geometry', 'group_id', '_merge'],\n",
       "      dtype='object')"
      ]
     },
     "execution_count": 17,
     "metadata": {},
     "output_type": "execute_result"
    }
   ],
   "source": [
    "gdf.columns"
   ]
  },
  {
   "cell_type": "code",
   "execution_count": 18,
   "metadata": {},
   "outputs": [],
   "source": [
    "col_names = ['ord_street_name', 'ord_street_type', 'ord_stname_concat',\n",
    "             'ord_stname_unique', 'city_portion', 'group_id']\n",
    "id_df = gdf[col_names].drop_duplicates()"
   ]
  },
  {
   "cell_type": "code",
   "execution_count": 19,
   "id": "fd8779df",
   "metadata": {},
   "outputs": [],
   "source": [
    "id_df['ord_stname_type'] = id_df['ord_street_name'] + ' ' + id_df['ord_street_type']"
   ]
  },
  {
   "cell_type": "code",
   "execution_count": 20,
   "metadata": {},
   "outputs": [],
   "source": [
    "id_df['sort_order'] = id_df['ord_street_name'].map(get_sort_order)"
   ]
  },
  {
   "cell_type": "code",
   "execution_count": 21,
   "id": "e716ecdf",
   "metadata": {},
   "outputs": [],
   "source": [
    "id_df = id_df.sort_values(by = ['sort_order', 'ord_street_type', 'city_portion'])"
   ]
  },
  {
   "cell_type": "code",
   "execution_count": 22,
   "metadata": {},
   "outputs": [
    {
     "data": {
      "text/html": [
       "<div>\n",
       "<style scoped>\n",
       "    .dataframe tbody tr th:only-of-type {\n",
       "        vertical-align: middle;\n",
       "    }\n",
       "\n",
       "    .dataframe tbody tr th {\n",
       "        vertical-align: top;\n",
       "    }\n",
       "\n",
       "    .dataframe thead th {\n",
       "        text-align: right;\n",
       "    }\n",
       "</style>\n",
       "<table border=\"1\" class=\"dataframe\">\n",
       "  <thead>\n",
       "    <tr style=\"text-align: right;\">\n",
       "      <th></th>\n",
       "      <th>ord_street_name</th>\n",
       "      <th>ord_street_type</th>\n",
       "      <th>ord_stname_concat</th>\n",
       "      <th>ord_stname_unique</th>\n",
       "      <th>city_portion</th>\n",
       "      <th>group_id</th>\n",
       "      <th>ord_stname_type</th>\n",
       "      <th>sort_order</th>\n",
       "    </tr>\n",
       "  </thead>\n",
       "  <tbody>\n",
       "    <tr>\n",
       "      <th>1647</th>\n",
       "      <td>1ST</td>\n",
       "      <td>AVE</td>\n",
       "      <td>1ST AVE</td>\n",
       "      <td>1ST AVE CNTR</td>\n",
       "      <td>CNTR</td>\n",
       "      <td>2</td>\n",
       "      <td>1ST AVE</td>\n",
       "      <td>001</td>\n",
       "    </tr>\n",
       "    <tr>\n",
       "      <th>1672</th>\n",
       "      <td>1ST</td>\n",
       "      <td>AVE</td>\n",
       "      <td>1ST AVE N</td>\n",
       "      <td>1ST AVE N</td>\n",
       "      <td>N</td>\n",
       "      <td>2</td>\n",
       "      <td>1ST AVE</td>\n",
       "      <td>001</td>\n",
       "    </tr>\n",
       "    <tr>\n",
       "      <th>1709</th>\n",
       "      <td>1ST</td>\n",
       "      <td>AVE</td>\n",
       "      <td>1ST AVE NE</td>\n",
       "      <td>1ST AVE NE</td>\n",
       "      <td>NE</td>\n",
       "      <td>2</td>\n",
       "      <td>1ST AVE</td>\n",
       "      <td>001</td>\n",
       "    </tr>\n",
       "    <tr>\n",
       "      <th>1764</th>\n",
       "      <td>1ST</td>\n",
       "      <td>AVE</td>\n",
       "      <td>1ST AVE NW</td>\n",
       "      <td>1ST AVE NW</td>\n",
       "      <td>NW</td>\n",
       "      <td>1</td>\n",
       "      <td>1ST AVE</td>\n",
       "      <td>001</td>\n",
       "    </tr>\n",
       "    <tr>\n",
       "      <th>1838</th>\n",
       "      <td>1ST</td>\n",
       "      <td>AVE</td>\n",
       "      <td>1ST AVE S</td>\n",
       "      <td>1ST AVE S</td>\n",
       "      <td>S</td>\n",
       "      <td>2</td>\n",
       "      <td>1ST AVE</td>\n",
       "      <td>001</td>\n",
       "    </tr>\n",
       "  </tbody>\n",
       "</table>\n",
       "</div>"
      ],
      "text/plain": [
       "     ord_street_name ord_street_type ord_stname_concat ord_stname_unique  \\\n",
       "1647             1ST             AVE           1ST AVE      1ST AVE CNTR   \n",
       "1672             1ST             AVE         1ST AVE N         1ST AVE N   \n",
       "1709             1ST             AVE        1ST AVE NE        1ST AVE NE   \n",
       "1764             1ST             AVE        1ST AVE NW        1ST AVE NW   \n",
       "1838             1ST             AVE         1ST AVE S         1ST AVE S   \n",
       "\n",
       "     city_portion  group_id ord_stname_type sort_order  \n",
       "1647         CNTR         2         1ST AVE        001  \n",
       "1672            N         2         1ST AVE        001  \n",
       "1709           NE         2         1ST AVE        001  \n",
       "1764           NW         1         1ST AVE        001  \n",
       "1838            S         2         1ST AVE        001  "
      ]
     },
     "execution_count": 22,
     "metadata": {},
     "output_type": "execute_result"
    }
   ],
   "source": [
    "id_df.head()"
   ]
  },
  {
   "cell_type": "code",
   "execution_count": 23,
   "id": "996dfa24",
   "metadata": {},
   "outputs": [
    {
     "data": {
      "text/plain": [
       "(2457,)"
      ]
     },
     "execution_count": 23,
     "metadata": {},
     "output_type": "execute_result"
    }
   ],
   "source": [
    "id_df['ord_stname_unique'].unique().shape"
   ]
  },
  {
   "cell_type": "code",
   "execution_count": 24,
   "id": "0d907eed",
   "metadata": {},
   "outputs": [],
   "source": [
    "# let's get the groups! can we aggregate this?"
   ]
  },
  {
   "cell_type": "code",
   "execution_count": 25,
   "id": "d5ff5023",
   "metadata": {},
   "outputs": [],
   "source": [
    "col_names = ['sort_order', 'ord_street_name', 'ord_street_type', 'ord_stname_type', 'group_id', 'city_portion']\n",
    "test_agg = id_df[col_names].groupby(col_names[:-1]).agg(city_portion_group = ('city_portion', lambda x: '_'.join(sorted(set(x)))),\n",
    "                                                        n_groups = ('city_portion', lambda x: len(set(x)))).reset_index()"
   ]
  },
  {
   "cell_type": "code",
   "execution_count": 26,
   "id": "f9f6f834",
   "metadata": {},
   "outputs": [
    {
     "data": {
      "text/html": [
       "<div>\n",
       "<style scoped>\n",
       "    .dataframe tbody tr th:only-of-type {\n",
       "        vertical-align: middle;\n",
       "    }\n",
       "\n",
       "    .dataframe tbody tr th {\n",
       "        vertical-align: top;\n",
       "    }\n",
       "\n",
       "    .dataframe thead th {\n",
       "        text-align: right;\n",
       "    }\n",
       "</style>\n",
       "<table border=\"1\" class=\"dataframe\">\n",
       "  <thead>\n",
       "    <tr style=\"text-align: right;\">\n",
       "      <th></th>\n",
       "      <th>sort_order</th>\n",
       "      <th>ord_street_name</th>\n",
       "      <th>ord_street_type</th>\n",
       "      <th>ord_stname_type</th>\n",
       "      <th>group_id</th>\n",
       "      <th>city_portion_group</th>\n",
       "      <th>n_groups</th>\n",
       "    </tr>\n",
       "  </thead>\n",
       "  <tbody>\n",
       "    <tr>\n",
       "      <th>0</th>\n",
       "      <td>001</td>\n",
       "      <td>1ST</td>\n",
       "      <td>AVE</td>\n",
       "      <td>1ST AVE</td>\n",
       "      <td>1</td>\n",
       "      <td>NW_SW_W</td>\n",
       "      <td>3</td>\n",
       "    </tr>\n",
       "    <tr>\n",
       "      <th>1</th>\n",
       "      <td>001</td>\n",
       "      <td>1ST</td>\n",
       "      <td>AVE</td>\n",
       "      <td>1ST AVE</td>\n",
       "      <td>2</td>\n",
       "      <td>CNTR_N_NE_S</td>\n",
       "      <td>4</td>\n",
       "    </tr>\n",
       "    <tr>\n",
       "      <th>2</th>\n",
       "      <td>001</td>\n",
       "      <td>1ST</td>\n",
       "      <td>PL</td>\n",
       "      <td>1ST PL</td>\n",
       "      <td>1</td>\n",
       "      <td>NE</td>\n",
       "      <td>1</td>\n",
       "    </tr>\n",
       "    <tr>\n",
       "      <th>3</th>\n",
       "      <td>002</td>\n",
       "      <td>2ND</td>\n",
       "      <td>AVE</td>\n",
       "      <td>2ND AVE</td>\n",
       "      <td>1</td>\n",
       "      <td>NW_SW_W</td>\n",
       "      <td>3</td>\n",
       "    </tr>\n",
       "    <tr>\n",
       "      <th>4</th>\n",
       "      <td>002</td>\n",
       "      <td>2ND</td>\n",
       "      <td>AVE</td>\n",
       "      <td>2ND AVE</td>\n",
       "      <td>2</td>\n",
       "      <td>CNTR_N_NE_S</td>\n",
       "      <td>4</td>\n",
       "    </tr>\n",
       "  </tbody>\n",
       "</table>\n",
       "</div>"
      ],
      "text/plain": [
       "  sort_order ord_street_name ord_street_type ord_stname_type  group_id  \\\n",
       "0        001             1ST             AVE         1ST AVE         1   \n",
       "1        001             1ST             AVE         1ST AVE         2   \n",
       "2        001             1ST              PL          1ST PL         1   \n",
       "3        002             2ND             AVE         2ND AVE         1   \n",
       "4        002             2ND             AVE         2ND AVE         2   \n",
       "\n",
       "  city_portion_group  n_groups  \n",
       "0            NW_SW_W         3  \n",
       "1        CNTR_N_NE_S         4  \n",
       "2                 NE         1  \n",
       "3            NW_SW_W         3  \n",
       "4        CNTR_N_NE_S         4  "
      ]
     },
     "execution_count": 26,
     "metadata": {},
     "output_type": "execute_result"
    }
   ],
   "source": [
    "test_agg.head()"
   ]
  },
  {
   "cell_type": "code",
   "execution_count": 27,
   "id": "f2dac15f",
   "metadata": {},
   "outputs": [
    {
     "data": {
      "text/plain": [
       "(32,)"
      ]
     },
     "execution_count": 27,
     "metadata": {},
     "output_type": "execute_result"
    }
   ],
   "source": [
    "test_agg['city_portion_group'].unique().shape"
   ]
  },
  {
   "cell_type": "code",
   "execution_count": 28,
   "id": "9fc3a8cb",
   "metadata": {},
   "outputs": [
    {
     "data": {
      "text/html": [
       "<div>\n",
       "<style scoped>\n",
       "    .dataframe tbody tr th:only-of-type {\n",
       "        vertical-align: middle;\n",
       "    }\n",
       "\n",
       "    .dataframe tbody tr th {\n",
       "        vertical-align: top;\n",
       "    }\n",
       "\n",
       "    .dataframe thead th {\n",
       "        text-align: right;\n",
       "    }\n",
       "</style>\n",
       "<table border=\"1\" class=\"dataframe\">\n",
       "  <thead>\n",
       "    <tr style=\"text-align: right;\">\n",
       "      <th></th>\n",
       "      <th>sort_order</th>\n",
       "      <th>ord_street_name</th>\n",
       "      <th>ord_street_type</th>\n",
       "      <th>ord_stname_type</th>\n",
       "      <th>group_id</th>\n",
       "      <th>city_portion_group</th>\n",
       "      <th>n_groups</th>\n",
       "    </tr>\n",
       "  </thead>\n",
       "  <tbody>\n",
       "    <tr>\n",
       "      <th>0</th>\n",
       "      <td>001</td>\n",
       "      <td>1ST</td>\n",
       "      <td>AVE</td>\n",
       "      <td>1ST AVE</td>\n",
       "      <td>1</td>\n",
       "      <td>NW_SW_W</td>\n",
       "      <td>3</td>\n",
       "    </tr>\n",
       "    <tr>\n",
       "      <th>1</th>\n",
       "      <td>001</td>\n",
       "      <td>1ST</td>\n",
       "      <td>AVE</td>\n",
       "      <td>1ST AVE</td>\n",
       "      <td>2</td>\n",
       "      <td>CNTR_N_NE_S</td>\n",
       "      <td>4</td>\n",
       "    </tr>\n",
       "    <tr>\n",
       "      <th>2</th>\n",
       "      <td>001</td>\n",
       "      <td>1ST</td>\n",
       "      <td>PL</td>\n",
       "      <td>1ST PL</td>\n",
       "      <td>1</td>\n",
       "      <td>NE</td>\n",
       "      <td>1</td>\n",
       "    </tr>\n",
       "    <tr>\n",
       "      <th>3</th>\n",
       "      <td>002</td>\n",
       "      <td>2ND</td>\n",
       "      <td>AVE</td>\n",
       "      <td>2ND AVE</td>\n",
       "      <td>1</td>\n",
       "      <td>NW_SW_W</td>\n",
       "      <td>3</td>\n",
       "    </tr>\n",
       "    <tr>\n",
       "      <th>4</th>\n",
       "      <td>002</td>\n",
       "      <td>2ND</td>\n",
       "      <td>AVE</td>\n",
       "      <td>2ND AVE</td>\n",
       "      <td>2</td>\n",
       "      <td>CNTR_N_NE_S</td>\n",
       "      <td>4</td>\n",
       "    </tr>\n",
       "  </tbody>\n",
       "</table>\n",
       "</div>"
      ],
      "text/plain": [
       "  sort_order ord_street_name ord_street_type ord_stname_type  group_id  \\\n",
       "0        001             1ST             AVE         1ST AVE         1   \n",
       "1        001             1ST             AVE         1ST AVE         2   \n",
       "2        001             1ST              PL          1ST PL         1   \n",
       "3        002             2ND             AVE         2ND AVE         1   \n",
       "4        002             2ND             AVE         2ND AVE         2   \n",
       "\n",
       "  city_portion_group  n_groups  \n",
       "0            NW_SW_W         3  \n",
       "1        CNTR_N_NE_S         4  \n",
       "2                 NE         1  \n",
       "3            NW_SW_W         3  \n",
       "4        CNTR_N_NE_S         4  "
      ]
     },
     "execution_count": 28,
     "metadata": {},
     "output_type": "execute_result"
    }
   ],
   "source": [
    "test_agg.head()"
   ]
  },
  {
   "cell_type": "code",
   "execution_count": 29,
   "id": "2c60e664",
   "metadata": {},
   "outputs": [
    {
     "name": "stdout",
     "output_type": "stream",
     "text": [
      "(0, 7)\n"
     ]
    },
    {
     "data": {
      "text/html": [
       "<div>\n",
       "<style scoped>\n",
       "    .dataframe tbody tr th:only-of-type {\n",
       "        vertical-align: middle;\n",
       "    }\n",
       "\n",
       "    .dataframe tbody tr th {\n",
       "        vertical-align: top;\n",
       "    }\n",
       "\n",
       "    .dataframe thead th {\n",
       "        text-align: right;\n",
       "    }\n",
       "</style>\n",
       "<table border=\"1\" class=\"dataframe\">\n",
       "  <thead>\n",
       "    <tr style=\"text-align: right;\">\n",
       "      <th></th>\n",
       "      <th>sort_order</th>\n",
       "      <th>ord_street_name</th>\n",
       "      <th>ord_street_type</th>\n",
       "      <th>ord_stname_type</th>\n",
       "      <th>group_id</th>\n",
       "      <th>city_portion_group</th>\n",
       "      <th>n_groups</th>\n",
       "    </tr>\n",
       "  </thead>\n",
       "  <tbody>\n",
       "  </tbody>\n",
       "</table>\n",
       "</div>"
      ],
      "text/plain": [
       "Empty DataFrame\n",
       "Columns: [sort_order, ord_street_name, ord_street_type, ord_stname_type, group_id, city_portion_group, n_groups]\n",
       "Index: []"
      ]
     },
     "execution_count": 29,
     "metadata": {},
     "output_type": "execute_result"
    }
   ],
   "source": [
    "test_cpg = 'CNTR_W'\n",
    "test_ost = 'BR'\n",
    "check_df = test_agg.loc[(test_agg['city_portion_group'] == test_cpg) &\n",
    "                        (test_agg['ord_street_type'] == test_ost), ]\n",
    "print(check_df.shape)\n",
    "check_df.head()"
   ]
  },
  {
   "cell_type": "code",
   "execution_count": 30,
   "id": "793fbfca",
   "metadata": {},
   "outputs": [],
   "source": [
    "# export to excel\n",
    "city_portion_check = test_agg[['city_portion_group', 'ord_street_type', 'n_groups']].drop_duplicates().reset_index(drop = True)"
   ]
  },
  {
   "cell_type": "code",
   "execution_count": 31,
   "id": "0ca157a4",
   "metadata": {},
   "outputs": [
    {
     "data": {
      "text/html": [
       "<div>\n",
       "<style scoped>\n",
       "    .dataframe tbody tr th:only-of-type {\n",
       "        vertical-align: middle;\n",
       "    }\n",
       "\n",
       "    .dataframe tbody tr th {\n",
       "        vertical-align: top;\n",
       "    }\n",
       "\n",
       "    .dataframe thead th {\n",
       "        text-align: right;\n",
       "    }\n",
       "</style>\n",
       "<table border=\"1\" class=\"dataframe\">\n",
       "  <thead>\n",
       "    <tr style=\"text-align: right;\">\n",
       "      <th></th>\n",
       "      <th>city_portion_group</th>\n",
       "      <th>ord_street_type</th>\n",
       "      <th>n_groups</th>\n",
       "    </tr>\n",
       "  </thead>\n",
       "  <tbody>\n",
       "    <tr>\n",
       "      <th>0</th>\n",
       "      <td>NW_SW_W</td>\n",
       "      <td>AVE</td>\n",
       "      <td>3</td>\n",
       "    </tr>\n",
       "    <tr>\n",
       "      <th>1</th>\n",
       "      <td>CNTR_N_NE_S</td>\n",
       "      <td>AVE</td>\n",
       "      <td>4</td>\n",
       "    </tr>\n",
       "    <tr>\n",
       "      <th>2</th>\n",
       "      <td>NE</td>\n",
       "      <td>PL</td>\n",
       "      <td>1</td>\n",
       "    </tr>\n",
       "    <tr>\n",
       "      <th>3</th>\n",
       "      <td>SW</td>\n",
       "      <td>LN</td>\n",
       "      <td>1</td>\n",
       "    </tr>\n",
       "    <tr>\n",
       "      <th>4</th>\n",
       "      <td>SW</td>\n",
       "      <td>PL</td>\n",
       "      <td>1</td>\n",
       "    </tr>\n",
       "  </tbody>\n",
       "</table>\n",
       "</div>"
      ],
      "text/plain": [
       "  city_portion_group ord_street_type  n_groups\n",
       "0            NW_SW_W             AVE         3\n",
       "1        CNTR_N_NE_S             AVE         4\n",
       "2                 NE              PL         1\n",
       "3                 SW              LN         1\n",
       "4                 SW              PL         1"
      ]
     },
     "execution_count": 31,
     "metadata": {},
     "output_type": "execute_result"
    }
   ],
   "source": [
    "city_portion_check.head()"
   ]
  },
  {
   "cell_type": "code",
   "execution_count": 32,
   "id": "a0be3aa4",
   "metadata": {},
   "outputs": [
    {
     "data": {
      "text/plain": [
       "(126, 3)"
      ]
     },
     "execution_count": 32,
     "metadata": {},
     "output_type": "execute_result"
    }
   ],
   "source": [
    "city_portion_check.shape"
   ]
  },
  {
   "cell_type": "code",
   "execution_count": 92,
   "id": "fe8fcf17",
   "metadata": {},
   "outputs": [],
   "source": []
  },
  {
   "cell_type": "code",
   "execution_count": 33,
   "id": "1a163b8e",
   "metadata": {},
   "outputs": [],
   "source": [
    "city_portion_check = city_portion_check.sort_values(by = ['city_portion_group', 'ord_street_type'])"
   ]
  },
  {
   "cell_type": "code",
   "execution_count": 34,
   "id": "c5828929",
   "metadata": {},
   "outputs": [],
   "source": [
    "city_portion_check.to_excel(excel_writer='city_portion_check.xlsx', index = False)"
   ]
  },
  {
   "cell_type": "code",
   "execution_count": 35,
   "id": "a7c678cf",
   "metadata": {},
   "outputs": [
    {
     "data": {
      "text/html": [
       "<div>\n",
       "<style scoped>\n",
       "    .dataframe tbody tr th:only-of-type {\n",
       "        vertical-align: middle;\n",
       "    }\n",
       "\n",
       "    .dataframe tbody tr th {\n",
       "        vertical-align: top;\n",
       "    }\n",
       "\n",
       "    .dataframe thead th {\n",
       "        text-align: right;\n",
       "    }\n",
       "</style>\n",
       "<table border=\"1\" class=\"dataframe\">\n",
       "  <thead>\n",
       "    <tr style=\"text-align: right;\">\n",
       "      <th></th>\n",
       "      <th>sort_order</th>\n",
       "      <th>ord_street_name</th>\n",
       "      <th>ord_street_type</th>\n",
       "      <th>ord_stname_type</th>\n",
       "      <th>group_id</th>\n",
       "      <th>city_portion_group</th>\n",
       "      <th>n_groups</th>\n",
       "    </tr>\n",
       "  </thead>\n",
       "  <tbody>\n",
       "    <tr>\n",
       "      <th>0</th>\n",
       "      <td>001</td>\n",
       "      <td>1ST</td>\n",
       "      <td>AVE</td>\n",
       "      <td>1ST AVE</td>\n",
       "      <td>1</td>\n",
       "      <td>NW_SW_W</td>\n",
       "      <td>3</td>\n",
       "    </tr>\n",
       "    <tr>\n",
       "      <th>1</th>\n",
       "      <td>001</td>\n",
       "      <td>1ST</td>\n",
       "      <td>AVE</td>\n",
       "      <td>1ST AVE</td>\n",
       "      <td>2</td>\n",
       "      <td>CNTR_N_NE_S</td>\n",
       "      <td>4</td>\n",
       "    </tr>\n",
       "    <tr>\n",
       "      <th>2</th>\n",
       "      <td>001</td>\n",
       "      <td>1ST</td>\n",
       "      <td>PL</td>\n",
       "      <td>1ST PL</td>\n",
       "      <td>1</td>\n",
       "      <td>NE</td>\n",
       "      <td>1</td>\n",
       "    </tr>\n",
       "    <tr>\n",
       "      <th>3</th>\n",
       "      <td>002</td>\n",
       "      <td>2ND</td>\n",
       "      <td>AVE</td>\n",
       "      <td>2ND AVE</td>\n",
       "      <td>1</td>\n",
       "      <td>NW_SW_W</td>\n",
       "      <td>3</td>\n",
       "    </tr>\n",
       "    <tr>\n",
       "      <th>4</th>\n",
       "      <td>002</td>\n",
       "      <td>2ND</td>\n",
       "      <td>AVE</td>\n",
       "      <td>2ND AVE</td>\n",
       "      <td>2</td>\n",
       "      <td>CNTR_N_NE_S</td>\n",
       "      <td>4</td>\n",
       "    </tr>\n",
       "  </tbody>\n",
       "</table>\n",
       "</div>"
      ],
      "text/plain": [
       "  sort_order ord_street_name ord_street_type ord_stname_type  group_id  \\\n",
       "0        001             1ST             AVE         1ST AVE         1   \n",
       "1        001             1ST             AVE         1ST AVE         2   \n",
       "2        001             1ST              PL          1ST PL         1   \n",
       "3        002             2ND             AVE         2ND AVE         1   \n",
       "4        002             2ND             AVE         2ND AVE         2   \n",
       "\n",
       "  city_portion_group  n_groups  \n",
       "0            NW_SW_W         3  \n",
       "1        CNTR_N_NE_S         4  \n",
       "2                 NE         1  \n",
       "3            NW_SW_W         3  \n",
       "4        CNTR_N_NE_S         4  "
      ]
     },
     "execution_count": 35,
     "metadata": {},
     "output_type": "execute_result"
    }
   ],
   "source": [
    "test_agg.head()"
   ]
  },
  {
   "cell_type": "code",
   "execution_count": 36,
   "id": "a700b790",
   "metadata": {},
   "outputs": [
    {
     "data": {
      "text/plain": [
       "(1816, 7)"
      ]
     },
     "execution_count": 36,
     "metadata": {},
     "output_type": "execute_result"
    }
   ],
   "source": [
    "test_agg.shape"
   ]
  },
  {
   "cell_type": "code",
   "execution_count": 37,
   "id": "063b645a",
   "metadata": {},
   "outputs": [],
   "source": [
    "# join back to the working gdf"
   ]
  },
  {
   "cell_type": "code",
   "execution_count": 38,
   "id": "dcd8f90c",
   "metadata": {},
   "outputs": [
    {
     "data": {
      "text/plain": [
       "Index(['f_intr_id', 't_intr_id', 'snd_id', 'snd_feacode', 'citycode',\n",
       "       'stname_id', 'st_code', 'arterial_code', 'segment_type', 'agency_code',\n",
       "       'access_code', 'divided_code', 'structure_type', 'legalloc_code',\n",
       "       'vehicle_use_code', 'gis_seg_length', 'l_adrs_from', 'l_adrs_to',\n",
       "       'r_adrs_from', 'r_adrs_to', 'ord_pre_dir', 'ord_street_name',\n",
       "       'ord_street_type', 'ord_suf_dir', 'ord_stname_concat', 'l_city',\n",
       "       'l_state', 'l_zip', 'r_city', 'r_state', 'r_zip', 'sndseg_update',\n",
       "       'compkey', 'comptype', 'unitid', 'unitid2', 'city_portion',\n",
       "       'ord_stname_unique', 'geometry', 'group_id', '_merge'],\n",
       "      dtype='object')"
      ]
     },
     "execution_count": 38,
     "metadata": {},
     "output_type": "execute_result"
    }
   ],
   "source": [
    "gdf.columns"
   ]
  },
  {
   "cell_type": "code",
   "execution_count": 39,
   "id": "b4db0351",
   "metadata": {},
   "outputs": [],
   "source": [
    "gdf = gdf.drop(labels = ['_merge'], axis = 1)"
   ]
  },
  {
   "cell_type": "code",
   "execution_count": 40,
   "id": "38e6e78d",
   "metadata": {},
   "outputs": [],
   "source": [
    "test_join = pd.merge(left = gdf, right = test_agg, how = 'outer', indicator=True)"
   ]
  },
  {
   "cell_type": "code",
   "execution_count": 41,
   "id": "dd72030f",
   "metadata": {},
   "outputs": [
    {
     "data": {
      "text/plain": [
       "_merge\n",
       "both          25773\n",
       "left_only         0\n",
       "right_only        0\n",
       "Name: count, dtype: int64"
      ]
     },
     "execution_count": 41,
     "metadata": {},
     "output_type": "execute_result"
    }
   ],
   "source": [
    "test_join['_merge'].value_counts()"
   ]
  },
  {
   "cell_type": "code",
   "execution_count": 42,
   "metadata": {},
   "outputs": [
    {
     "data": {
      "text/plain": [
       "(25773, 45)"
      ]
     },
     "execution_count": 42,
     "metadata": {},
     "output_type": "execute_result"
    }
   ],
   "source": [
    "test_join.shape"
   ]
  },
  {
   "cell_type": "code",
   "execution_count": 43,
   "id": "af72f260",
   "metadata": {},
   "outputs": [
    {
     "data": {
      "text/plain": [
       "Index(['f_intr_id', 't_intr_id', 'snd_id', 'snd_feacode', 'citycode',\n",
       "       'stname_id', 'st_code', 'arterial_code', 'segment_type', 'agency_code',\n",
       "       'access_code', 'divided_code', 'structure_type', 'legalloc_code',\n",
       "       'vehicle_use_code', 'gis_seg_length', 'l_adrs_from', 'l_adrs_to',\n",
       "       'r_adrs_from', 'r_adrs_to', 'ord_pre_dir', 'ord_street_name',\n",
       "       'ord_street_type', 'ord_suf_dir', 'ord_stname_concat', 'l_city',\n",
       "       'l_state', 'l_zip', 'r_city', 'r_state', 'r_zip', 'sndseg_update',\n",
       "       'compkey', 'comptype', 'unitid', 'unitid2', 'city_portion',\n",
       "       'ord_stname_unique', 'geometry', 'group_id', 'sort_order',\n",
       "       'ord_stname_type', 'city_portion_group', 'n_groups', '_merge'],\n",
       "      dtype='object')"
      ]
     },
     "execution_count": 43,
     "metadata": {},
     "output_type": "execute_result"
    }
   ],
   "source": [
    "test_join.columns"
   ]
  },
  {
   "cell_type": "code",
   "execution_count": 44,
   "id": "b4a2fe7f",
   "metadata": {},
   "outputs": [
    {
     "data": {
      "text/plain": [
       "_merge\n",
       "both          25773\n",
       "left_only         0\n",
       "right_only        0\n",
       "Name: count, dtype: int64"
      ]
     },
     "execution_count": 44,
     "metadata": {},
     "output_type": "execute_result"
    }
   ],
   "source": [
    "test_join['_merge'].value_counts()"
   ]
  },
  {
   "cell_type": "code",
   "execution_count": 45,
   "id": "ba4def1e",
   "metadata": {},
   "outputs": [],
   "source": [
    "gdf = test_join.copy()"
   ]
  },
  {
   "cell_type": "code",
   "execution_count": null,
   "id": "305f2eca",
   "metadata": {},
   "outputs": [],
   "source": []
  },
  {
   "cell_type": "markdown",
   "id": "0a75b29a",
   "metadata": {},
   "source": [
    "# MAKE A PLOT OF THE DIFFERENT CITY GROUPS BY STREET TYPE"
   ]
  },
  {
   "cell_type": "code",
   "execution_count": 53,
   "id": "224e4bfd",
   "metadata": {},
   "outputs": [],
   "source": [
    "# use the same colors for each city portion\n",
    "cdm = {}\n",
    "dir_list = ['CNTR', 'E', 'N', 'NE', 'NW', 'S', 'SW', 'W']\n",
    "for idir, dir_value in enumerate(dir_list):\n",
    "    cdm[dir_value] = mpl.colormaps[\"Dark2\"].colors[idir]\n",
    "\n",
    "my_cmap = mpl.colors.ListedColormap([cdm[c] for c in dir_list])"
   ]
  },
  {
   "cell_type": "code",
   "execution_count": 54,
   "metadata": {},
   "outputs": [],
   "source": [
    "wgdf = gdf.loc[gdf['n_groups'] > 1, :].copy()"
   ]
  },
  {
   "cell_type": "code",
   "execution_count": null,
   "metadata": {},
   "outputs": [],
   "source": [
    "wgdf.shape"
   ]
  },
  {
   "cell_type": "code",
   "execution_count": 56,
   "metadata": {},
   "outputs": [],
   "source": [
    "col_names = ['city_portion_group', 'ord_street_type']\n",
    "control_df = wgdf[col_names].drop_duplicates()"
   ]
  },
  {
   "cell_type": "code",
   "execution_count": null,
   "id": "9aca914c",
   "metadata": {},
   "outputs": [],
   "source": [
    "control_df.shape"
   ]
  },
  {
   "cell_type": "code",
   "execution_count": null,
   "id": "b6427ece",
   "metadata": {},
   "outputs": [],
   "source": [
    "control_df.head()"
   ]
  },
  {
   "cell_type": "code",
   "execution_count": 59,
   "id": "ad5c9970",
   "metadata": {},
   "outputs": [],
   "source": [
    "# plot bounds to use across each plot\n",
    "bounds = [-122.4197794277490061,47.4803548409661005, -122.2200188105690017,47.7341482423694004]"
   ]
  },
  {
   "cell_type": "code",
   "execution_count": 60,
   "metadata": {},
   "outputs": [],
   "source": [
    "# load the boundaries of the city sections\n",
    "ifpn = os.path.join(rc.OUTPUT_FILE_PATH, rc.S02_CITY_SECTIONS_OUT_FILE_NAME)\n",
    "cs_gdf = gpd.read_file(filename=ifpn)"
   ]
  },
  {
   "cell_type": "code",
   "execution_count": null,
   "id": "c4834b71",
   "metadata": {},
   "outputs": [],
   "source": [
    "control_df.head()"
   ]
  },
  {
   "cell_type": "code",
   "execution_count": 62,
   "id": "7a6f0e9d",
   "metadata": {},
   "outputs": [],
   "source": [
    "ost = 'BR'\n",
    "pgdf = gdf.loc[(gdf['ord_street_type'] == ost), :]"
   ]
  },
  {
   "cell_type": "code",
   "execution_count": null,
   "id": "6a136c14",
   "metadata": {},
   "outputs": [],
   "source": [
    "pgdf['city_portion_group'].unique()"
   ]
  },
  {
   "cell_type": "code",
   "execution_count": null,
   "id": "b63521d3",
   "metadata": {},
   "outputs": [],
   "source": [
    "pgdf.head()"
   ]
  },
  {
   "cell_type": "code",
   "execution_count": null,
   "id": "605e5500",
   "metadata": {},
   "outputs": [],
   "source": [
    "make_plots = True\n",
    "if make_plots:\n",
    "    for cr, crow in control_df.iterrows():\n",
    "        cpg = crow['city_portion_group']\n",
    "        ost = crow['ord_street_type']\n",
    "\n",
    "        output_file_name = f\"{ost}_{cpg}.png\"\n",
    "        ofpn = os.path.join(rc.S06_PLOT_OUTPUT_FILE_PATH_CITY_PORTION_GROUPS, output_file_name)\n",
    "        print(ofpn)\n",
    "\n",
    "        # now, let's make a map...\n",
    "        pgdf = gdf.loc[(gdf['city_portion_group'] == cpg) &\n",
    "                    (gdf['ord_street_type'] == ost), :]\n",
    "        to_draw = pgdf[['city_portion', 'geometry']].dissolve(by = 'city_portion', as_index = False)\n",
    "        #to_draw['coords'] = to_draw['geometry'].map(lambda x: x.centroid.coords[0])\n",
    "        fig = plt.figure(layout = 'constrained', figsize = (5, 10))\n",
    "        gs = GridSpec(1,1, figure = fig, height_ratios = [1])\n",
    "        ax1 = fig.add_subplot(gs[0,0])\n",
    "        ax1.set_xlim(bounds[0], bounds[2])\n",
    "        ax1.set_ylim(bounds[1], bounds[3])\n",
    "        cs_gdf.plot(ax = ax1, column = 'city_portion', alpha = .2)\n",
    "        to_draw.plot(ax = ax1, column = 'city_portion', cmap = my_cmap,  linewidth = 5, legend = True)\n",
    "\n",
    "        #for irrow, row in to_draw.iterrows():    \n",
    "        #    ax1.annotate(text=row['city_portion'], xy=row['coords'], fontsize = 16 )\n",
    "\n",
    "        ax1.set_axis_off()\n",
    "        \n",
    "        my_title = f\"Street Type: {ost} | City Portion Group {cpg}\"\n",
    "        plt.title(label = my_title)\n",
    "\n",
    "        #plt.show()\n",
    "\n",
    "        fig.savefig(fname = ofpn)\n",
    "        plt.close()"
   ]
  }
 ],
 "metadata": {
  "kernelspec": {
   "display_name": "analysis",
   "language": "python",
   "name": "python3"
  },
  "language_info": {
   "codemirror_mode": {
    "name": "ipython",
    "version": 3
   },
   "file_extension": ".py",
   "mimetype": "text/x-python",
   "name": "python",
   "nbconvert_exporter": "python",
   "pygments_lexer": "ipython3",
   "version": "3.12.7"
  }
 },
 "nbformat": 4,
 "nbformat_minor": 5
}
