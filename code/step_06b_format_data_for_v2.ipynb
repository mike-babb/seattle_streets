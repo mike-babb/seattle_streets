{
 "cells": [
  {
   "cell_type": "markdown",
   "id": "fed9e25b-c5b9-4aee-89cd-15a7da3945c0",
   "metadata": {},
   "source": [
    "# Part 06b: Visualize seattle street groups by type\n",
    "michael babb  \n",
    "2024 11 24"
   ]
  },
  {
   "cell_type": "code",
   "execution_count": 57,
   "id": "e88ca8b2-b75d-4e72-8fc7-65c4cea61cde",
   "metadata": {},
   "outputs": [],
   "source": [
    "# standard\n",
    "import os"
   ]
  },
  {
   "cell_type": "code",
   "execution_count": 58,
   "id": "0778d9a5-0c62-4724-be28-c21598d23b6f",
   "metadata": {},
   "outputs": [],
   "source": [
    "# external\n",
    "import geopandas as gpd\n",
    "import matplotlib as mpl\n",
    "from matplotlib.gridspec import GridSpec\n",
    "import matplotlib.pyplot as plt\n",
    "import numpy as np\n",
    "import pandas as pd\n",
    "import seaborn as sns"
   ]
  },
  {
   "cell_type": "code",
   "execution_count": 59,
   "id": "2fc61400-c637-4828-820d-56c2cdd14942",
   "metadata": {},
   "outputs": [],
   "source": [
    "# custom\n",
    "import run_constants as rc\n",
    "from utils import *"
   ]
  },
  {
   "cell_type": "markdown",
   "id": "d56ea77e-ffd7-4326-b793-415f8a131ef2",
   "metadata": {},
   "source": [
    "# load the working seattle street network data"
   ]
  },
  {
   "cell_type": "code",
   "execution_count": 60,
   "id": "ddf62724-9105-44c9-b983-e4f520328fa9",
   "metadata": {},
   "outputs": [],
   "source": [
    "fpn = os.path.join(rc.OUTPUT_FILE_PATH, rc.S03_SND_WORKING_IN_FILE_NAME)"
   ]
  },
  {
   "cell_type": "code",
   "execution_count": 61,
   "id": "2cbdb5c1-c973-4882-b442-cf5396e90d3e",
   "metadata": {},
   "outputs": [],
   "source": [
    "gdf = gpd.read_file(filename = fpn)"
   ]
  },
  {
   "cell_type": "code",
   "execution_count": 62,
   "id": "390b341e",
   "metadata": {},
   "outputs": [
    {
     "data": {
      "text/plain": [
       "(25773, 38)"
      ]
     },
     "execution_count": 62,
     "metadata": {},
     "output_type": "execute_result"
    }
   ],
   "source": [
    "gdf.shape"
   ]
  },
  {
   "cell_type": "code",
   "execution_count": 63,
   "id": "5adf4877",
   "metadata": {},
   "outputs": [
    {
     "data": {
      "text/plain": [
       "(2455,)"
      ]
     },
     "execution_count": 63,
     "metadata": {},
     "output_type": "execute_result"
    }
   ],
   "source": [
    "gdf['ord_stname_concat'].unique().shape"
   ]
  },
  {
   "cell_type": "code",
   "execution_count": 66,
   "id": "b2c54149",
   "metadata": {},
   "outputs": [
    {
     "data": {
      "text/plain": [
       "Index(['f_intr_id', 't_intr_id', 'snd_id', 'snd_feacode', 'citycode',\n",
       "       'stname_id', 'st_code', 'arterial_code', 'segment_type', 'agency_code',\n",
       "       'access_code', 'divided_code', 'structure_type', 'legalloc_code',\n",
       "       'vehicle_use_code', 'gis_seg_length', 'l_adrs_from', 'l_adrs_to',\n",
       "       'r_adrs_from', 'r_adrs_to', 'ord_pre_dir', 'ord_street_name',\n",
       "       'ord_street_type', 'ord_suf_dir', 'ord_stname_concat', 'l_city',\n",
       "       'l_state', 'l_zip', 'r_city', 'r_state', 'r_zip', 'sndseg_update',\n",
       "       'compkey', 'comptype', 'unitid', 'unitid2', 'city_portion', 'geometry'],\n",
       "      dtype='object')"
      ]
     },
     "execution_count": 66,
     "metadata": {},
     "output_type": "execute_result"
    }
   ],
   "source": [
    "gdf.columns"
   ]
  },
  {
   "cell_type": "code",
   "execution_count": 65,
   "id": "35ddd89f",
   "metadata": {},
   "outputs": [
    {
     "data": {
      "text/plain": [
       "array(['S', 'E', 'NW', 'N', 'CNTR', 'NE', 'SW', 'W'], dtype=object)"
      ]
     },
     "execution_count": 65,
     "metadata": {},
     "output_type": "execute_result"
    }
   ],
   "source": [
    "gdf['city_portion'].unique()"
   ]
  },
  {
   "cell_type": "code",
   "execution_count": null,
   "id": "c22553f0",
   "metadata": {},
   "outputs": [],
   "source": []
  },
  {
   "cell_type": "code",
   "execution_count": null,
   "id": "fa84ae11",
   "metadata": {},
   "outputs": [],
   "source": []
  },
  {
   "cell_type": "markdown",
   "id": "bdc6814a",
   "metadata": {},
   "source": [
    "## load the manually created street group data\n",
    "These data were created in Step 6, but we'll bring them into the Step 3 workflow."
   ]
  },
  {
   "cell_type": "code",
   "execution_count": 67,
   "id": "b490fe46",
   "metadata": {},
   "outputs": [],
   "source": [
    "fpn = os.path.join(rc.INPUT_FILE_PATH, rc.S03_STREET_GROUP_IN_FILE_NAME)"
   ]
  },
  {
   "cell_type": "code",
   "execution_count": 68,
   "id": "7fa5dd23",
   "metadata": {},
   "outputs": [],
   "source": [
    "index_cols = ['sort_order', 'ord_street_name', 'ord_street_type', 'city_portion']\n",
    "sg_df = pd.read_excel(io = fpn, index_col=[0, 1, 2, 3])\n",
    "sg_df = sg_df.reset_index()"
   ]
  },
  {
   "cell_type": "code",
   "execution_count": 69,
   "id": "23379a66",
   "metadata": {},
   "outputs": [],
   "source": [
    "drop_cols = ['sort_order', 'progress', 'count']\n",
    "sg_df = sg_df.drop(labels = drop_cols, axis = 1)\n"
   ]
  },
  {
   "cell_type": "code",
   "execution_count": null,
   "id": "bdf79428",
   "metadata": {},
   "outputs": [],
   "source": []
  },
  {
   "cell_type": "code",
   "execution_count": 11,
   "id": "854d1ddd",
   "metadata": {},
   "outputs": [
    {
     "data": {
      "text/plain": [
       "_merge\n",
       "both          19032\n",
       "left_only      6741\n",
       "right_only        7\n",
       "Name: count, dtype: int64"
      ]
     },
     "execution_count": 11,
     "metadata": {},
     "output_type": "execute_result"
    }
   ],
   "source": [
    "test_join = pd.merge(left = gdf, right = sg_df, how = 'outer', indicator=True)\n",
    "test_join['_merge'].value_counts()"
   ]
  },
  {
   "cell_type": "code",
   "execution_count": 12,
   "id": "2b70ebe6",
   "metadata": {},
   "outputs": [],
   "source": [
    "gdf = test_join.copy()"
   ]
  },
  {
   "cell_type": "code",
   "execution_count": 13,
   "id": "8b70615b",
   "metadata": {},
   "outputs": [
    {
     "data": {
      "text/plain": [
       "(25780, 40)"
      ]
     },
     "execution_count": 13,
     "metadata": {},
     "output_type": "execute_result"
    }
   ],
   "source": [
    "gdf['group_id'] = gdf['group_id'].fillna(1).astype(int)\n",
    "gdf.shape"
   ]
  },
  {
   "cell_type": "markdown",
   "id": "231b9ac7",
   "metadata": {},
   "source": [
    "# create an id across street groups"
   ]
  },
  {
   "cell_type": "code",
   "execution_count": 14,
   "id": "64b62645",
   "metadata": {},
   "outputs": [
    {
     "data": {
      "text/html": [
       "<div>\n",
       "<style scoped>\n",
       "    .dataframe tbody tr th:only-of-type {\n",
       "        vertical-align: middle;\n",
       "    }\n",
       "\n",
       "    .dataframe tbody tr th {\n",
       "        vertical-align: top;\n",
       "    }\n",
       "\n",
       "    .dataframe thead th {\n",
       "        text-align: right;\n",
       "    }\n",
       "</style>\n",
       "<table border=\"1\" class=\"dataframe\">\n",
       "  <thead>\n",
       "    <tr style=\"text-align: right;\">\n",
       "      <th></th>\n",
       "      <th>f_intr_id</th>\n",
       "      <th>t_intr_id</th>\n",
       "      <th>snd_id</th>\n",
       "      <th>snd_feacode</th>\n",
       "      <th>citycode</th>\n",
       "      <th>stname_id</th>\n",
       "      <th>st_code</th>\n",
       "      <th>arterial_code</th>\n",
       "      <th>segment_type</th>\n",
       "      <th>agency_code</th>\n",
       "      <th>...</th>\n",
       "      <th>r_zip</th>\n",
       "      <th>sndseg_update</th>\n",
       "      <th>compkey</th>\n",
       "      <th>comptype</th>\n",
       "      <th>unitid</th>\n",
       "      <th>unitid2</th>\n",
       "      <th>city_portion</th>\n",
       "      <th>geometry</th>\n",
       "      <th>group_id</th>\n",
       "      <th>_merge</th>\n",
       "    </tr>\n",
       "  </thead>\n",
       "  <tbody>\n",
       "    <tr>\n",
       "      <th>0</th>\n",
       "      <td>3836.0</td>\n",
       "      <td>3893.0</td>\n",
       "      <td>4787.0</td>\n",
       "      <td>5.0</td>\n",
       "      <td>1.0</td>\n",
       "      <td>1955.0</td>\n",
       "      <td>0.0</td>\n",
       "      <td>1.0</td>\n",
       "      <td>1.0</td>\n",
       "      <td>1.0</td>\n",
       "      <td>...</td>\n",
       "      <td>98177</td>\n",
       "      <td>2011-09-09 00:00:00+00:00</td>\n",
       "      <td>18112.0</td>\n",
       "      <td>68.0</td>\n",
       "      <td>14050</td>\n",
       "      <td>0040</td>\n",
       "      <td>NW</td>\n",
       "      <td>LINESTRING (-122.36206 47.7035, -122.36342 47....</td>\n",
       "      <td>1</td>\n",
       "      <td>both</td>\n",
       "    </tr>\n",
       "    <tr>\n",
       "      <th>1</th>\n",
       "      <td>3893.0</td>\n",
       "      <td>3906.0</td>\n",
       "      <td>4802.0</td>\n",
       "      <td>5.0</td>\n",
       "      <td>1.0</td>\n",
       "      <td>1955.0</td>\n",
       "      <td>0.0</td>\n",
       "      <td>1.0</td>\n",
       "      <td>1.0</td>\n",
       "      <td>1.0</td>\n",
       "      <td>...</td>\n",
       "      <td>98177</td>\n",
       "      <td>2011-09-09 00:00:00+00:00</td>\n",
       "      <td>18113.0</td>\n",
       "      <td>68.0</td>\n",
       "      <td>14050</td>\n",
       "      <td>0043</td>\n",
       "      <td>NW</td>\n",
       "      <td>LINESTRING (-122.36342 47.70275, -122.36386 47...</td>\n",
       "      <td>1</td>\n",
       "      <td>both</td>\n",
       "    </tr>\n",
       "    <tr>\n",
       "      <th>2</th>\n",
       "      <td>3906.0</td>\n",
       "      <td>3973.0</td>\n",
       "      <td>4864.0</td>\n",
       "      <td>5.0</td>\n",
       "      <td>1.0</td>\n",
       "      <td>1955.0</td>\n",
       "      <td>0.0</td>\n",
       "      <td>1.0</td>\n",
       "      <td>1.0</td>\n",
       "      <td>1.0</td>\n",
       "      <td>...</td>\n",
       "      <td>98177</td>\n",
       "      <td>2019-08-13 14:00:50+00:00</td>\n",
       "      <td>18114.0</td>\n",
       "      <td>68.0</td>\n",
       "      <td>14050</td>\n",
       "      <td>0070</td>\n",
       "      <td>NW</td>\n",
       "      <td>LINESTRING (-122.36386 47.70251, -122.36535 47...</td>\n",
       "      <td>1</td>\n",
       "      <td>both</td>\n",
       "    </tr>\n",
       "    <tr>\n",
       "      <th>3</th>\n",
       "      <td>48444.0</td>\n",
       "      <td>48443.0</td>\n",
       "      <td>49871.0</td>\n",
       "      <td>1.0</td>\n",
       "      <td>0.0</td>\n",
       "      <td>3767.0</td>\n",
       "      <td>0.0</td>\n",
       "      <td>0.0</td>\n",
       "      <td>1.0</td>\n",
       "      <td>1.0</td>\n",
       "      <td>...</td>\n",
       "      <td>98146</td>\n",
       "      <td>2022-07-19 16:58:07+00:00</td>\n",
       "      <td>0.0</td>\n",
       "      <td>0.0</td>\n",
       "      <td>0</td>\n",
       "      <td>0</td>\n",
       "      <td>SW</td>\n",
       "      <td>LINESTRING (-122.3403 47.51334, -122.34036 47....</td>\n",
       "      <td>2</td>\n",
       "      <td>both</td>\n",
       "    </tr>\n",
       "    <tr>\n",
       "      <th>4</th>\n",
       "      <td>4014.0</td>\n",
       "      <td>4015.0</td>\n",
       "      <td>4911.0</td>\n",
       "      <td>1.0</td>\n",
       "      <td>1.0</td>\n",
       "      <td>1465.0</td>\n",
       "      <td>0.0</td>\n",
       "      <td>0.0</td>\n",
       "      <td>1.0</td>\n",
       "      <td>1.0</td>\n",
       "      <td>...</td>\n",
       "      <td>98133</td>\n",
       "      <td>2005-05-04 00:00:00+00:00</td>\n",
       "      <td>14968.0</td>\n",
       "      <td>68.0</td>\n",
       "      <td>11695</td>\n",
       "      <td>0110</td>\n",
       "      <td>N</td>\n",
       "      <td>LINESTRING (-122.34467 47.70144, -122.34197 47...</td>\n",
       "      <td>1</td>\n",
       "      <td>both</td>\n",
       "    </tr>\n",
       "  </tbody>\n",
       "</table>\n",
       "<p>5 rows × 40 columns</p>\n",
       "</div>"
      ],
      "text/plain": [
       "   f_intr_id  t_intr_id   snd_id  snd_feacode  citycode  stname_id  st_code  \\\n",
       "0     3836.0     3893.0   4787.0          5.0       1.0     1955.0      0.0   \n",
       "1     3893.0     3906.0   4802.0          5.0       1.0     1955.0      0.0   \n",
       "2     3906.0     3973.0   4864.0          5.0       1.0     1955.0      0.0   \n",
       "3    48444.0    48443.0  49871.0          1.0       0.0     3767.0      0.0   \n",
       "4     4014.0     4015.0   4911.0          1.0       1.0     1465.0      0.0   \n",
       "\n",
       "   arterial_code  segment_type  agency_code  ...  r_zip  \\\n",
       "0            1.0           1.0          1.0  ...  98177   \n",
       "1            1.0           1.0          1.0  ...  98177   \n",
       "2            1.0           1.0          1.0  ...  98177   \n",
       "3            0.0           1.0          1.0  ...  98146   \n",
       "4            0.0           1.0          1.0  ...  98133   \n",
       "\n",
       "              sndseg_update  compkey  comptype  unitid  unitid2  city_portion  \\\n",
       "0 2011-09-09 00:00:00+00:00  18112.0      68.0   14050     0040            NW   \n",
       "1 2011-09-09 00:00:00+00:00  18113.0      68.0   14050     0043            NW   \n",
       "2 2019-08-13 14:00:50+00:00  18114.0      68.0   14050     0070            NW   \n",
       "3 2022-07-19 16:58:07+00:00      0.0       0.0       0        0            SW   \n",
       "4 2005-05-04 00:00:00+00:00  14968.0      68.0   11695     0110             N   \n",
       "\n",
       "                                            geometry  group_id  _merge  \n",
       "0  LINESTRING (-122.36206 47.7035, -122.36342 47....         1    both  \n",
       "1  LINESTRING (-122.36342 47.70275, -122.36386 47...         1    both  \n",
       "2  LINESTRING (-122.36386 47.70251, -122.36535 47...         1    both  \n",
       "3  LINESTRING (-122.3403 47.51334, -122.34036 47....         2    both  \n",
       "4  LINESTRING (-122.34467 47.70144, -122.34197 47...         1    both  \n",
       "\n",
       "[5 rows x 40 columns]"
      ]
     },
     "execution_count": 14,
     "metadata": {},
     "output_type": "execute_result"
    }
   ],
   "source": [
    "gdf.head()"
   ]
  },
  {
   "cell_type": "code",
   "execution_count": 15,
   "id": "1722d21c",
   "metadata": {},
   "outputs": [
    {
     "data": {
      "text/plain": [
       "Index(['f_intr_id', 't_intr_id', 'snd_id', 'snd_feacode', 'citycode',\n",
       "       'stname_id', 'st_code', 'arterial_code', 'segment_type', 'agency_code',\n",
       "       'access_code', 'divided_code', 'structure_type', 'legalloc_code',\n",
       "       'vehicle_use_code', 'gis_seg_length', 'l_adrs_from', 'l_adrs_to',\n",
       "       'r_adrs_from', 'r_adrs_to', 'ord_pre_dir', 'ord_street_name',\n",
       "       'ord_street_type', 'ord_suf_dir', 'ord_stname_concat', 'l_city',\n",
       "       'l_state', 'l_zip', 'r_city', 'r_state', 'r_zip', 'sndseg_update',\n",
       "       'compkey', 'comptype', 'unitid', 'unitid2', 'city_portion', 'geometry',\n",
       "       'group_id', '_merge'],\n",
       "      dtype='object')"
      ]
     },
     "execution_count": 15,
     "metadata": {},
     "output_type": "execute_result"
    }
   ],
   "source": [
    "gdf.columns"
   ]
  },
  {
   "cell_type": "code",
   "execution_count": 16,
   "metadata": {},
   "outputs": [],
   "source": [
    "col_names = ['ord_street_name', 'ord_street_type',  'ord_stname_concat', 'city_portion', 'group_id']\n",
    "id_df = gdf[col_names].drop_duplicates()"
   ]
  },
  {
   "cell_type": "code",
   "execution_count": 17,
   "id": "fd8779df",
   "metadata": {},
   "outputs": [],
   "source": [
    "id_df['ord_stname_type'] = id_df['ord_street_name'] + ' ' + id_df['ord_street_type']"
   ]
  },
  {
   "cell_type": "code",
   "execution_count": 18,
   "metadata": {},
   "outputs": [],
   "source": [
    "id_df['sort_order'] = id_df['ord_street_name'].map(get_sort_order)"
   ]
  },
  {
   "cell_type": "code",
   "execution_count": 19,
   "id": "e716ecdf",
   "metadata": {},
   "outputs": [],
   "source": [
    "id_df = id_df.sort_values(by = ['sort_order', 'ord_street_type', 'city_portion'])"
   ]
  },
  {
   "cell_type": "code",
   "execution_count": 20,
   "metadata": {},
   "outputs": [
    {
     "data": {
      "text/html": [
       "<div>\n",
       "<style scoped>\n",
       "    .dataframe tbody tr th:only-of-type {\n",
       "        vertical-align: middle;\n",
       "    }\n",
       "\n",
       "    .dataframe tbody tr th {\n",
       "        vertical-align: top;\n",
       "    }\n",
       "\n",
       "    .dataframe thead th {\n",
       "        text-align: right;\n",
       "    }\n",
       "</style>\n",
       "<table border=\"1\" class=\"dataframe\">\n",
       "  <thead>\n",
       "    <tr style=\"text-align: right;\">\n",
       "      <th></th>\n",
       "      <th>ord_street_name</th>\n",
       "      <th>ord_street_type</th>\n",
       "      <th>ord_stname_concat</th>\n",
       "      <th>city_portion</th>\n",
       "      <th>group_id</th>\n",
       "      <th>ord_stname_type</th>\n",
       "      <th>sort_order</th>\n",
       "    </tr>\n",
       "  </thead>\n",
       "  <tbody>\n",
       "    <tr>\n",
       "      <th>3387</th>\n",
       "      <td>1ST</td>\n",
       "      <td>AVE</td>\n",
       "      <td>1ST AVE</td>\n",
       "      <td>CNTR</td>\n",
       "      <td>2</td>\n",
       "      <td>1ST AVE</td>\n",
       "      <td>001</td>\n",
       "    </tr>\n",
       "    <tr>\n",
       "      <th>3412</th>\n",
       "      <td>1ST</td>\n",
       "      <td>AVE</td>\n",
       "      <td>1ST AVE N</td>\n",
       "      <td>N</td>\n",
       "      <td>2</td>\n",
       "      <td>1ST AVE</td>\n",
       "      <td>001</td>\n",
       "    </tr>\n",
       "    <tr>\n",
       "      <th>3449</th>\n",
       "      <td>1ST</td>\n",
       "      <td>AVE</td>\n",
       "      <td>1ST AVE NE</td>\n",
       "      <td>NE</td>\n",
       "      <td>2</td>\n",
       "      <td>1ST AVE</td>\n",
       "      <td>001</td>\n",
       "    </tr>\n",
       "    <tr>\n",
       "      <th>3504</th>\n",
       "      <td>1ST</td>\n",
       "      <td>AVE</td>\n",
       "      <td>1ST AVE NW</td>\n",
       "      <td>NW</td>\n",
       "      <td>1</td>\n",
       "      <td>1ST AVE</td>\n",
       "      <td>001</td>\n",
       "    </tr>\n",
       "    <tr>\n",
       "      <th>3578</th>\n",
       "      <td>1ST</td>\n",
       "      <td>AVE</td>\n",
       "      <td>1ST AVE S</td>\n",
       "      <td>S</td>\n",
       "      <td>2</td>\n",
       "      <td>1ST AVE</td>\n",
       "      <td>001</td>\n",
       "    </tr>\n",
       "  </tbody>\n",
       "</table>\n",
       "</div>"
      ],
      "text/plain": [
       "     ord_street_name ord_street_type ord_stname_concat city_portion  group_id  \\\n",
       "3387             1ST             AVE           1ST AVE         CNTR         2   \n",
       "3412             1ST             AVE         1ST AVE N            N         2   \n",
       "3449             1ST             AVE        1ST AVE NE           NE         2   \n",
       "3504             1ST             AVE        1ST AVE NW           NW         1   \n",
       "3578             1ST             AVE         1ST AVE S            S         2   \n",
       "\n",
       "     ord_stname_type sort_order  \n",
       "3387         1ST AVE        001  \n",
       "3412         1ST AVE        001  \n",
       "3449         1ST AVE        001  \n",
       "3504         1ST AVE        001  \n",
       "3578         1ST AVE        001  "
      ]
     },
     "execution_count": 20,
     "metadata": {},
     "output_type": "execute_result"
    }
   ],
   "source": [
    "id_df.head()"
   ]
  },
  {
   "cell_type": "code",
   "execution_count": 21,
   "id": "996dfa24",
   "metadata": {},
   "outputs": [
    {
     "data": {
      "text/plain": [
       "(2456,)"
      ]
     },
     "execution_count": 21,
     "metadata": {},
     "output_type": "execute_result"
    }
   ],
   "source": [
    "id_df['ord_stname_concat'].unique().shape"
   ]
  },
  {
   "cell_type": "code",
   "execution_count": 22,
   "id": "0d907eed",
   "metadata": {},
   "outputs": [],
   "source": [
    "# let's get the groups! can we aggregate this?"
   ]
  },
  {
   "cell_type": "code",
   "execution_count": 23,
   "id": "d5ff5023",
   "metadata": {},
   "outputs": [],
   "source": [
    "col_names = ['sort_order', 'ord_street_name', 'ord_street_type', 'ord_stname_type', 'group_id', 'city_portion']\n",
    "test_agg = id_df[col_names].groupby(col_names[:-1]).agg(city_portion_group = ('city_portion', lambda x: '_'.join(sorted(set(x)))),\n",
    "                                                        n_groups = ('city_portion', lambda x: len(set(x)))).reset_index()"
   ]
  },
  {
   "cell_type": "code",
   "execution_count": 24,
   "id": "f9f6f834",
   "metadata": {},
   "outputs": [
    {
     "data": {
      "text/html": [
       "<div>\n",
       "<style scoped>\n",
       "    .dataframe tbody tr th:only-of-type {\n",
       "        vertical-align: middle;\n",
       "    }\n",
       "\n",
       "    .dataframe tbody tr th {\n",
       "        vertical-align: top;\n",
       "    }\n",
       "\n",
       "    .dataframe thead th {\n",
       "        text-align: right;\n",
       "    }\n",
       "</style>\n",
       "<table border=\"1\" class=\"dataframe\">\n",
       "  <thead>\n",
       "    <tr style=\"text-align: right;\">\n",
       "      <th></th>\n",
       "      <th>sort_order</th>\n",
       "      <th>ord_street_name</th>\n",
       "      <th>ord_street_type</th>\n",
       "      <th>ord_stname_type</th>\n",
       "      <th>group_id</th>\n",
       "      <th>city_portion_group</th>\n",
       "      <th>n_groups</th>\n",
       "    </tr>\n",
       "  </thead>\n",
       "  <tbody>\n",
       "    <tr>\n",
       "      <th>0</th>\n",
       "      <td>001</td>\n",
       "      <td>1ST</td>\n",
       "      <td>AVE</td>\n",
       "      <td>1ST AVE</td>\n",
       "      <td>1</td>\n",
       "      <td>NW_SW_W</td>\n",
       "      <td>3</td>\n",
       "    </tr>\n",
       "    <tr>\n",
       "      <th>1</th>\n",
       "      <td>001</td>\n",
       "      <td>1ST</td>\n",
       "      <td>AVE</td>\n",
       "      <td>1ST AVE</td>\n",
       "      <td>2</td>\n",
       "      <td>CNTR_N_NE_S</td>\n",
       "      <td>4</td>\n",
       "    </tr>\n",
       "    <tr>\n",
       "      <th>2</th>\n",
       "      <td>001</td>\n",
       "      <td>1ST</td>\n",
       "      <td>PL</td>\n",
       "      <td>1ST PL</td>\n",
       "      <td>1</td>\n",
       "      <td>NE</td>\n",
       "      <td>1</td>\n",
       "    </tr>\n",
       "    <tr>\n",
       "      <th>3</th>\n",
       "      <td>002</td>\n",
       "      <td>2ND</td>\n",
       "      <td>AVE</td>\n",
       "      <td>2ND AVE</td>\n",
       "      <td>1</td>\n",
       "      <td>NW_SW_W</td>\n",
       "      <td>3</td>\n",
       "    </tr>\n",
       "    <tr>\n",
       "      <th>4</th>\n",
       "      <td>002</td>\n",
       "      <td>2ND</td>\n",
       "      <td>AVE</td>\n",
       "      <td>2ND AVE</td>\n",
       "      <td>2</td>\n",
       "      <td>CNTR_N_NE_S</td>\n",
       "      <td>4</td>\n",
       "    </tr>\n",
       "  </tbody>\n",
       "</table>\n",
       "</div>"
      ],
      "text/plain": [
       "  sort_order ord_street_name ord_street_type ord_stname_type  group_id  \\\n",
       "0        001             1ST             AVE         1ST AVE         1   \n",
       "1        001             1ST             AVE         1ST AVE         2   \n",
       "2        001             1ST              PL          1ST PL         1   \n",
       "3        002             2ND             AVE         2ND AVE         1   \n",
       "4        002             2ND             AVE         2ND AVE         2   \n",
       "\n",
       "  city_portion_group  n_groups  \n",
       "0            NW_SW_W         3  \n",
       "1        CNTR_N_NE_S         4  \n",
       "2                 NE         1  \n",
       "3            NW_SW_W         3  \n",
       "4        CNTR_N_NE_S         4  "
      ]
     },
     "execution_count": 24,
     "metadata": {},
     "output_type": "execute_result"
    }
   ],
   "source": [
    "test_agg.head()"
   ]
  },
  {
   "cell_type": "code",
   "execution_count": 25,
   "id": "f2dac15f",
   "metadata": {},
   "outputs": [
    {
     "data": {
      "text/plain": [
       "(33,)"
      ]
     },
     "execution_count": 25,
     "metadata": {},
     "output_type": "execute_result"
    }
   ],
   "source": [
    "test_agg['city_portion_group'].unique().shape"
   ]
  },
  {
   "cell_type": "code",
   "execution_count": 26,
   "id": "9fc3a8cb",
   "metadata": {},
   "outputs": [
    {
     "data": {
      "text/html": [
       "<div>\n",
       "<style scoped>\n",
       "    .dataframe tbody tr th:only-of-type {\n",
       "        vertical-align: middle;\n",
       "    }\n",
       "\n",
       "    .dataframe tbody tr th {\n",
       "        vertical-align: top;\n",
       "    }\n",
       "\n",
       "    .dataframe thead th {\n",
       "        text-align: right;\n",
       "    }\n",
       "</style>\n",
       "<table border=\"1\" class=\"dataframe\">\n",
       "  <thead>\n",
       "    <tr style=\"text-align: right;\">\n",
       "      <th></th>\n",
       "      <th>sort_order</th>\n",
       "      <th>ord_street_name</th>\n",
       "      <th>ord_street_type</th>\n",
       "      <th>ord_stname_type</th>\n",
       "      <th>group_id</th>\n",
       "      <th>city_portion_group</th>\n",
       "      <th>n_groups</th>\n",
       "    </tr>\n",
       "  </thead>\n",
       "  <tbody>\n",
       "    <tr>\n",
       "      <th>0</th>\n",
       "      <td>001</td>\n",
       "      <td>1ST</td>\n",
       "      <td>AVE</td>\n",
       "      <td>1ST AVE</td>\n",
       "      <td>1</td>\n",
       "      <td>NW_SW_W</td>\n",
       "      <td>3</td>\n",
       "    </tr>\n",
       "    <tr>\n",
       "      <th>1</th>\n",
       "      <td>001</td>\n",
       "      <td>1ST</td>\n",
       "      <td>AVE</td>\n",
       "      <td>1ST AVE</td>\n",
       "      <td>2</td>\n",
       "      <td>CNTR_N_NE_S</td>\n",
       "      <td>4</td>\n",
       "    </tr>\n",
       "    <tr>\n",
       "      <th>2</th>\n",
       "      <td>001</td>\n",
       "      <td>1ST</td>\n",
       "      <td>PL</td>\n",
       "      <td>1ST PL</td>\n",
       "      <td>1</td>\n",
       "      <td>NE</td>\n",
       "      <td>1</td>\n",
       "    </tr>\n",
       "    <tr>\n",
       "      <th>3</th>\n",
       "      <td>002</td>\n",
       "      <td>2ND</td>\n",
       "      <td>AVE</td>\n",
       "      <td>2ND AVE</td>\n",
       "      <td>1</td>\n",
       "      <td>NW_SW_W</td>\n",
       "      <td>3</td>\n",
       "    </tr>\n",
       "    <tr>\n",
       "      <th>4</th>\n",
       "      <td>002</td>\n",
       "      <td>2ND</td>\n",
       "      <td>AVE</td>\n",
       "      <td>2ND AVE</td>\n",
       "      <td>2</td>\n",
       "      <td>CNTR_N_NE_S</td>\n",
       "      <td>4</td>\n",
       "    </tr>\n",
       "  </tbody>\n",
       "</table>\n",
       "</div>"
      ],
      "text/plain": [
       "  sort_order ord_street_name ord_street_type ord_stname_type  group_id  \\\n",
       "0        001             1ST             AVE         1ST AVE         1   \n",
       "1        001             1ST             AVE         1ST AVE         2   \n",
       "2        001             1ST              PL          1ST PL         1   \n",
       "3        002             2ND             AVE         2ND AVE         1   \n",
       "4        002             2ND             AVE         2ND AVE         2   \n",
       "\n",
       "  city_portion_group  n_groups  \n",
       "0            NW_SW_W         3  \n",
       "1        CNTR_N_NE_S         4  \n",
       "2                 NE         1  \n",
       "3            NW_SW_W         3  \n",
       "4        CNTR_N_NE_S         4  "
      ]
     },
     "execution_count": 26,
     "metadata": {},
     "output_type": "execute_result"
    }
   ],
   "source": [
    "test_agg.head()"
   ]
  },
  {
   "cell_type": "code",
   "execution_count": 27,
   "id": "2c60e664",
   "metadata": {},
   "outputs": [
    {
     "name": "stdout",
     "output_type": "stream",
     "text": [
      "(1, 7)\n"
     ]
    },
    {
     "data": {
      "text/html": [
       "<div>\n",
       "<style scoped>\n",
       "    .dataframe tbody tr th:only-of-type {\n",
       "        vertical-align: middle;\n",
       "    }\n",
       "\n",
       "    .dataframe tbody tr th {\n",
       "        vertical-align: top;\n",
       "    }\n",
       "\n",
       "    .dataframe thead th {\n",
       "        text-align: right;\n",
       "    }\n",
       "</style>\n",
       "<table border=\"1\" class=\"dataframe\">\n",
       "  <thead>\n",
       "    <tr style=\"text-align: right;\">\n",
       "      <th></th>\n",
       "      <th>sort_order</th>\n",
       "      <th>ord_street_name</th>\n",
       "      <th>ord_street_type</th>\n",
       "      <th>ord_stname_type</th>\n",
       "      <th>group_id</th>\n",
       "      <th>city_portion_group</th>\n",
       "      <th>n_groups</th>\n",
       "    </tr>\n",
       "  </thead>\n",
       "  <tbody>\n",
       "    <tr>\n",
       "      <th>1251</th>\n",
       "      <td>MAGNOLIA</td>\n",
       "      <td>MAGNOLIA</td>\n",
       "      <td>BR</td>\n",
       "      <td>MAGNOLIA BR</td>\n",
       "      <td>1</td>\n",
       "      <td>CNTR_W</td>\n",
       "      <td>2</td>\n",
       "    </tr>\n",
       "  </tbody>\n",
       "</table>\n",
       "</div>"
      ],
      "text/plain": [
       "     sort_order ord_street_name ord_street_type ord_stname_type  group_id  \\\n",
       "1251   MAGNOLIA        MAGNOLIA              BR     MAGNOLIA BR         1   \n",
       "\n",
       "     city_portion_group  n_groups  \n",
       "1251             CNTR_W         2  "
      ]
     },
     "execution_count": 27,
     "metadata": {},
     "output_type": "execute_result"
    }
   ],
   "source": [
    "test_cpg = 'CNTR_W'\n",
    "test_ost = 'BR'\n",
    "check_df = test_agg.loc[(test_agg['city_portion_group'] == test_cpg) &\n",
    "                        (test_agg['ord_street_type'] == test_ost), ]\n",
    "print(check_df.shape)\n",
    "check_df.head()"
   ]
  },
  {
   "cell_type": "code",
   "execution_count": 28,
   "id": "793fbfca",
   "metadata": {},
   "outputs": [],
   "source": [
    "# export to excel\n",
    "city_portion_check = test_agg[['city_portion_group', 'ord_street_type', 'n_groups']].drop_duplicates().reset_index(drop = True)"
   ]
  },
  {
   "cell_type": "code",
   "execution_count": 29,
   "id": "0ca157a4",
   "metadata": {},
   "outputs": [
    {
     "data": {
      "text/html": [
       "<div>\n",
       "<style scoped>\n",
       "    .dataframe tbody tr th:only-of-type {\n",
       "        vertical-align: middle;\n",
       "    }\n",
       "\n",
       "    .dataframe tbody tr th {\n",
       "        vertical-align: top;\n",
       "    }\n",
       "\n",
       "    .dataframe thead th {\n",
       "        text-align: right;\n",
       "    }\n",
       "</style>\n",
       "<table border=\"1\" class=\"dataframe\">\n",
       "  <thead>\n",
       "    <tr style=\"text-align: right;\">\n",
       "      <th></th>\n",
       "      <th>city_portion_group</th>\n",
       "      <th>ord_street_type</th>\n",
       "      <th>n_groups</th>\n",
       "    </tr>\n",
       "  </thead>\n",
       "  <tbody>\n",
       "    <tr>\n",
       "      <th>0</th>\n",
       "      <td>NW_SW_W</td>\n",
       "      <td>AVE</td>\n",
       "      <td>3</td>\n",
       "    </tr>\n",
       "    <tr>\n",
       "      <th>1</th>\n",
       "      <td>CNTR_N_NE_S</td>\n",
       "      <td>AVE</td>\n",
       "      <td>4</td>\n",
       "    </tr>\n",
       "    <tr>\n",
       "      <th>2</th>\n",
       "      <td>NE</td>\n",
       "      <td>PL</td>\n",
       "      <td>1</td>\n",
       "    </tr>\n",
       "    <tr>\n",
       "      <th>3</th>\n",
       "      <td>SW</td>\n",
       "      <td>LN</td>\n",
       "      <td>1</td>\n",
       "    </tr>\n",
       "    <tr>\n",
       "      <th>4</th>\n",
       "      <td>SW</td>\n",
       "      <td>PL</td>\n",
       "      <td>1</td>\n",
       "    </tr>\n",
       "  </tbody>\n",
       "</table>\n",
       "</div>"
      ],
      "text/plain": [
       "  city_portion_group ord_street_type  n_groups\n",
       "0            NW_SW_W             AVE         3\n",
       "1        CNTR_N_NE_S             AVE         4\n",
       "2                 NE              PL         1\n",
       "3                 SW              LN         1\n",
       "4                 SW              PL         1"
      ]
     },
     "execution_count": 29,
     "metadata": {},
     "output_type": "execute_result"
    }
   ],
   "source": [
    "city_portion_check.head()"
   ]
  },
  {
   "cell_type": "code",
   "execution_count": 30,
   "id": "a0be3aa4",
   "metadata": {},
   "outputs": [
    {
     "data": {
      "text/plain": [
       "(129, 3)"
      ]
     },
     "execution_count": 30,
     "metadata": {},
     "output_type": "execute_result"
    }
   ],
   "source": [
    "city_portion_check.shape"
   ]
  },
  {
   "cell_type": "code",
   "execution_count": 92,
   "id": "fe8fcf17",
   "metadata": {},
   "outputs": [],
   "source": []
  },
  {
   "cell_type": "code",
   "execution_count": 31,
   "id": "1a163b8e",
   "metadata": {},
   "outputs": [],
   "source": [
    "city_portion_check = city_portion_check.sort_values(by = ['city_portion_group', 'ord_street_type'])"
   ]
  },
  {
   "cell_type": "code",
   "execution_count": 32,
   "id": "c5828929",
   "metadata": {},
   "outputs": [],
   "source": [
    "city_portion_check.to_excel(excel_writer='city_portion_check.xlsx', index = False)"
   ]
  },
  {
   "cell_type": "code",
   "execution_count": 33,
   "id": "a7c678cf",
   "metadata": {},
   "outputs": [
    {
     "data": {
      "text/html": [
       "<div>\n",
       "<style scoped>\n",
       "    .dataframe tbody tr th:only-of-type {\n",
       "        vertical-align: middle;\n",
       "    }\n",
       "\n",
       "    .dataframe tbody tr th {\n",
       "        vertical-align: top;\n",
       "    }\n",
       "\n",
       "    .dataframe thead th {\n",
       "        text-align: right;\n",
       "    }\n",
       "</style>\n",
       "<table border=\"1\" class=\"dataframe\">\n",
       "  <thead>\n",
       "    <tr style=\"text-align: right;\">\n",
       "      <th></th>\n",
       "      <th>sort_order</th>\n",
       "      <th>ord_street_name</th>\n",
       "      <th>ord_street_type</th>\n",
       "      <th>ord_stname_type</th>\n",
       "      <th>group_id</th>\n",
       "      <th>city_portion_group</th>\n",
       "      <th>n_groups</th>\n",
       "    </tr>\n",
       "  </thead>\n",
       "  <tbody>\n",
       "    <tr>\n",
       "      <th>0</th>\n",
       "      <td>001</td>\n",
       "      <td>1ST</td>\n",
       "      <td>AVE</td>\n",
       "      <td>1ST AVE</td>\n",
       "      <td>1</td>\n",
       "      <td>NW_SW_W</td>\n",
       "      <td>3</td>\n",
       "    </tr>\n",
       "    <tr>\n",
       "      <th>1</th>\n",
       "      <td>001</td>\n",
       "      <td>1ST</td>\n",
       "      <td>AVE</td>\n",
       "      <td>1ST AVE</td>\n",
       "      <td>2</td>\n",
       "      <td>CNTR_N_NE_S</td>\n",
       "      <td>4</td>\n",
       "    </tr>\n",
       "    <tr>\n",
       "      <th>2</th>\n",
       "      <td>001</td>\n",
       "      <td>1ST</td>\n",
       "      <td>PL</td>\n",
       "      <td>1ST PL</td>\n",
       "      <td>1</td>\n",
       "      <td>NE</td>\n",
       "      <td>1</td>\n",
       "    </tr>\n",
       "    <tr>\n",
       "      <th>3</th>\n",
       "      <td>002</td>\n",
       "      <td>2ND</td>\n",
       "      <td>AVE</td>\n",
       "      <td>2ND AVE</td>\n",
       "      <td>1</td>\n",
       "      <td>NW_SW_W</td>\n",
       "      <td>3</td>\n",
       "    </tr>\n",
       "    <tr>\n",
       "      <th>4</th>\n",
       "      <td>002</td>\n",
       "      <td>2ND</td>\n",
       "      <td>AVE</td>\n",
       "      <td>2ND AVE</td>\n",
       "      <td>2</td>\n",
       "      <td>CNTR_N_NE_S</td>\n",
       "      <td>4</td>\n",
       "    </tr>\n",
       "  </tbody>\n",
       "</table>\n",
       "</div>"
      ],
      "text/plain": [
       "  sort_order ord_street_name ord_street_type ord_stname_type  group_id  \\\n",
       "0        001             1ST             AVE         1ST AVE         1   \n",
       "1        001             1ST             AVE         1ST AVE         2   \n",
       "2        001             1ST              PL          1ST PL         1   \n",
       "3        002             2ND             AVE         2ND AVE         1   \n",
       "4        002             2ND             AVE         2ND AVE         2   \n",
       "\n",
       "  city_portion_group  n_groups  \n",
       "0            NW_SW_W         3  \n",
       "1        CNTR_N_NE_S         4  \n",
       "2                 NE         1  \n",
       "3            NW_SW_W         3  \n",
       "4        CNTR_N_NE_S         4  "
      ]
     },
     "execution_count": 33,
     "metadata": {},
     "output_type": "execute_result"
    }
   ],
   "source": [
    "test_agg.head()"
   ]
  },
  {
   "cell_type": "code",
   "execution_count": 34,
   "id": "a700b790",
   "metadata": {},
   "outputs": [
    {
     "data": {
      "text/plain": [
       "(1816, 7)"
      ]
     },
     "execution_count": 34,
     "metadata": {},
     "output_type": "execute_result"
    }
   ],
   "source": [
    "test_agg.shape"
   ]
  },
  {
   "cell_type": "code",
   "execution_count": 35,
   "id": "063b645a",
   "metadata": {},
   "outputs": [],
   "source": [
    "# join back to the working gdf"
   ]
  },
  {
   "cell_type": "code",
   "execution_count": 36,
   "id": "dcd8f90c",
   "metadata": {},
   "outputs": [
    {
     "data": {
      "text/plain": [
       "Index(['f_intr_id', 't_intr_id', 'snd_id', 'snd_feacode', 'citycode',\n",
       "       'stname_id', 'st_code', 'arterial_code', 'segment_type', 'agency_code',\n",
       "       'access_code', 'divided_code', 'structure_type', 'legalloc_code',\n",
       "       'vehicle_use_code', 'gis_seg_length', 'l_adrs_from', 'l_adrs_to',\n",
       "       'r_adrs_from', 'r_adrs_to', 'ord_pre_dir', 'ord_street_name',\n",
       "       'ord_street_type', 'ord_suf_dir', 'ord_stname_concat', 'l_city',\n",
       "       'l_state', 'l_zip', 'r_city', 'r_state', 'r_zip', 'sndseg_update',\n",
       "       'compkey', 'comptype', 'unitid', 'unitid2', 'city_portion', 'geometry',\n",
       "       'group_id', '_merge'],\n",
       "      dtype='object')"
      ]
     },
     "execution_count": 36,
     "metadata": {},
     "output_type": "execute_result"
    }
   ],
   "source": [
    "gdf.columns"
   ]
  },
  {
   "cell_type": "code",
   "execution_count": 37,
   "id": "b4db0351",
   "metadata": {},
   "outputs": [],
   "source": [
    "gdf = gdf.drop(labels = ['_merge'], axis = 1)"
   ]
  },
  {
   "cell_type": "code",
   "execution_count": 38,
   "id": "38e6e78d",
   "metadata": {},
   "outputs": [],
   "source": [
    "test_join = pd.merge(left = gdf, right = test_agg, how = 'outer', indicator=True)"
   ]
  },
  {
   "cell_type": "code",
   "execution_count": 39,
   "metadata": {},
   "outputs": [
    {
     "data": {
      "text/plain": [
       "(25780, 44)"
      ]
     },
     "execution_count": 39,
     "metadata": {},
     "output_type": "execute_result"
    }
   ],
   "source": [
    "test_join.shape"
   ]
  },
  {
   "cell_type": "code",
   "execution_count": 40,
   "id": "af72f260",
   "metadata": {},
   "outputs": [
    {
     "data": {
      "text/plain": [
       "Index(['f_intr_id', 't_intr_id', 'snd_id', 'snd_feacode', 'citycode',\n",
       "       'stname_id', 'st_code', 'arterial_code', 'segment_type', 'agency_code',\n",
       "       'access_code', 'divided_code', 'structure_type', 'legalloc_code',\n",
       "       'vehicle_use_code', 'gis_seg_length', 'l_adrs_from', 'l_adrs_to',\n",
       "       'r_adrs_from', 'r_adrs_to', 'ord_pre_dir', 'ord_street_name',\n",
       "       'ord_street_type', 'ord_suf_dir', 'ord_stname_concat', 'l_city',\n",
       "       'l_state', 'l_zip', 'r_city', 'r_state', 'r_zip', 'sndseg_update',\n",
       "       'compkey', 'comptype', 'unitid', 'unitid2', 'city_portion', 'geometry',\n",
       "       'group_id', 'sort_order', 'ord_stname_type', 'city_portion_group',\n",
       "       'n_groups', '_merge'],\n",
       "      dtype='object')"
      ]
     },
     "execution_count": 40,
     "metadata": {},
     "output_type": "execute_result"
    }
   ],
   "source": [
    "test_join.columns"
   ]
  },
  {
   "cell_type": "code",
   "execution_count": 41,
   "id": "b4a2fe7f",
   "metadata": {},
   "outputs": [
    {
     "data": {
      "text/plain": [
       "_merge\n",
       "both          25780\n",
       "left_only         0\n",
       "right_only        0\n",
       "Name: count, dtype: int64"
      ]
     },
     "execution_count": 41,
     "metadata": {},
     "output_type": "execute_result"
    }
   ],
   "source": [
    "test_join['_merge'].value_counts()"
   ]
  },
  {
   "cell_type": "code",
   "execution_count": 42,
   "id": "ba4def1e",
   "metadata": {},
   "outputs": [],
   "source": [
    "gdf = test_join.copy()"
   ]
  },
  {
   "cell_type": "markdown",
   "id": "0a75b29a",
   "metadata": {},
   "source": [
    "# MAKE A PLOT OF THE DIFFERENT CITY GROUPS BY STREET TYPE"
   ]
  },
  {
   "cell_type": "code",
   "execution_count": 43,
   "id": "224e4bfd",
   "metadata": {},
   "outputs": [],
   "source": [
    "# use the same colors for each city portion\n",
    "cdm = {}\n",
    "dir_list = ['CNTR', 'E', 'N', 'NE', 'NW', 'S', 'SW', 'W']\n",
    "for idir, dir_value in enumerate(dir_list):\n",
    "    cdm[dir_value] = mpl.colormaps[\"Dark2\"].colors[idir]\n",
    "\n",
    "my_cmap = mpl.colors.ListedColormap([cdm[c] for c in dir_list])"
   ]
  },
  {
   "cell_type": "code",
   "execution_count": 44,
   "metadata": {},
   "outputs": [],
   "source": [
    "wgdf = gdf.loc[gdf['n_groups'] > 1, :].copy()"
   ]
  },
  {
   "cell_type": "code",
   "execution_count": 45,
   "metadata": {},
   "outputs": [
    {
     "data": {
      "text/plain": [
       "(18205, 44)"
      ]
     },
     "execution_count": 45,
     "metadata": {},
     "output_type": "execute_result"
    }
   ],
   "source": [
    "wgdf.shape"
   ]
  },
  {
   "cell_type": "code",
   "execution_count": 46,
   "metadata": {},
   "outputs": [],
   "source": [
    "col_names = ['city_portion_group', 'ord_street_type']\n",
    "control_df = wgdf[col_names].drop_duplicates()"
   ]
  },
  {
   "cell_type": "code",
   "execution_count": 47,
   "id": "9aca914c",
   "metadata": {},
   "outputs": [
    {
     "data": {
      "text/plain": [
       "(44, 2)"
      ]
     },
     "execution_count": 47,
     "metadata": {},
     "output_type": "execute_result"
    }
   ],
   "source": [
    "control_df.shape"
   ]
  },
  {
   "cell_type": "code",
   "execution_count": 48,
   "id": "b6427ece",
   "metadata": {},
   "outputs": [
    {
     "data": {
      "text/html": [
       "<div>\n",
       "<style scoped>\n",
       "    .dataframe tbody tr th:only-of-type {\n",
       "        vertical-align: middle;\n",
       "    }\n",
       "\n",
       "    .dataframe tbody tr th {\n",
       "        vertical-align: top;\n",
       "    }\n",
       "\n",
       "    .dataframe thead th {\n",
       "        text-align: right;\n",
       "    }\n",
       "</style>\n",
       "<table border=\"1\" class=\"dataframe\">\n",
       "  <thead>\n",
       "    <tr style=\"text-align: right;\">\n",
       "      <th></th>\n",
       "      <th>city_portion_group</th>\n",
       "      <th>ord_street_type</th>\n",
       "    </tr>\n",
       "  </thead>\n",
       "  <tbody>\n",
       "    <tr>\n",
       "      <th>4</th>\n",
       "      <td>N_NE_NW</td>\n",
       "      <td>ST</td>\n",
       "    </tr>\n",
       "    <tr>\n",
       "      <th>73</th>\n",
       "      <td>S_SW</td>\n",
       "      <td>ST</td>\n",
       "    </tr>\n",
       "    <tr>\n",
       "      <th>126</th>\n",
       "      <td>N_NW</td>\n",
       "      <td>ST</td>\n",
       "    </tr>\n",
       "    <tr>\n",
       "      <th>144</th>\n",
       "      <td>N_NE</td>\n",
       "      <td>ST</td>\n",
       "    </tr>\n",
       "    <tr>\n",
       "      <th>561</th>\n",
       "      <td>NE_NW</td>\n",
       "      <td>ST</td>\n",
       "    </tr>\n",
       "  </tbody>\n",
       "</table>\n",
       "</div>"
      ],
      "text/plain": [
       "    city_portion_group ord_street_type\n",
       "4              N_NE_NW              ST\n",
       "73                S_SW              ST\n",
       "126               N_NW              ST\n",
       "144               N_NE              ST\n",
       "561              NE_NW              ST"
      ]
     },
     "execution_count": 48,
     "metadata": {},
     "output_type": "execute_result"
    }
   ],
   "source": [
    "control_df.head()"
   ]
  },
  {
   "cell_type": "code",
   "execution_count": 49,
   "id": "ad5c9970",
   "metadata": {},
   "outputs": [],
   "source": [
    "# plot bounds to use across each plot\n",
    "bounds = [-122.4197794277490061,47.4803548409661005, -122.2200188105690017,47.7341482423694004]"
   ]
  },
  {
   "cell_type": "code",
   "execution_count": 50,
   "metadata": {},
   "outputs": [],
   "source": [
    "# load the boundaries of the city sections\n",
    "ifpn = os.path.join(rc.OUTPUT_FILE_PATH, rc.S02_CITY_SECTIONS_OUT_FILE_NAME)\n",
    "cs_gdf = gpd.read_file(filename=ifpn)"
   ]
  },
  {
   "cell_type": "code",
   "execution_count": 51,
   "id": "c4834b71",
   "metadata": {},
   "outputs": [
    {
     "data": {
      "text/html": [
       "<div>\n",
       "<style scoped>\n",
       "    .dataframe tbody tr th:only-of-type {\n",
       "        vertical-align: middle;\n",
       "    }\n",
       "\n",
       "    .dataframe tbody tr th {\n",
       "        vertical-align: top;\n",
       "    }\n",
       "\n",
       "    .dataframe thead th {\n",
       "        text-align: right;\n",
       "    }\n",
       "</style>\n",
       "<table border=\"1\" class=\"dataframe\">\n",
       "  <thead>\n",
       "    <tr style=\"text-align: right;\">\n",
       "      <th></th>\n",
       "      <th>city_portion_group</th>\n",
       "      <th>ord_street_type</th>\n",
       "    </tr>\n",
       "  </thead>\n",
       "  <tbody>\n",
       "    <tr>\n",
       "      <th>4</th>\n",
       "      <td>N_NE_NW</td>\n",
       "      <td>ST</td>\n",
       "    </tr>\n",
       "    <tr>\n",
       "      <th>73</th>\n",
       "      <td>S_SW</td>\n",
       "      <td>ST</td>\n",
       "    </tr>\n",
       "    <tr>\n",
       "      <th>126</th>\n",
       "      <td>N_NW</td>\n",
       "      <td>ST</td>\n",
       "    </tr>\n",
       "    <tr>\n",
       "      <th>144</th>\n",
       "      <td>N_NE</td>\n",
       "      <td>ST</td>\n",
       "    </tr>\n",
       "    <tr>\n",
       "      <th>561</th>\n",
       "      <td>NE_NW</td>\n",
       "      <td>ST</td>\n",
       "    </tr>\n",
       "  </tbody>\n",
       "</table>\n",
       "</div>"
      ],
      "text/plain": [
       "    city_portion_group ord_street_type\n",
       "4              N_NE_NW              ST\n",
       "73                S_SW              ST\n",
       "126               N_NW              ST\n",
       "144               N_NE              ST\n",
       "561              NE_NW              ST"
      ]
     },
     "execution_count": 51,
     "metadata": {},
     "output_type": "execute_result"
    }
   ],
   "source": [
    "control_df.head()"
   ]
  },
  {
   "cell_type": "code",
   "execution_count": 53,
   "id": "7a6f0e9d",
   "metadata": {},
   "outputs": [],
   "source": [
    "ost = 'BR'\n",
    "pgdf = gdf.loc[(gdf['ord_street_type'] == ost), :]"
   ]
  },
  {
   "cell_type": "code",
   "execution_count": 55,
   "id": "6a136c14",
   "metadata": {},
   "outputs": [
    {
     "data": {
      "text/plain": [
       "array(['S', 'CNTR_N', 'NW_W', 'CNTR', 'CNTR_W', 'E', 'SW', 'E_NE'],\n",
       "      dtype=object)"
      ]
     },
     "execution_count": 55,
     "metadata": {},
     "output_type": "execute_result"
    }
   ],
   "source": [
    "pgdf['city_portion_group'].unique()"
   ]
  },
  {
   "cell_type": "code",
   "execution_count": 54,
   "id": "b63521d3",
   "metadata": {},
   "outputs": [
    {
     "data": {
      "text/html": [
       "<div>\n",
       "<style scoped>\n",
       "    .dataframe tbody tr th:only-of-type {\n",
       "        vertical-align: middle;\n",
       "    }\n",
       "\n",
       "    .dataframe tbody tr th {\n",
       "        vertical-align: top;\n",
       "    }\n",
       "\n",
       "    .dataframe thead th {\n",
       "        text-align: right;\n",
       "    }\n",
       "</style>\n",
       "<table border=\"1\" class=\"dataframe\">\n",
       "  <thead>\n",
       "    <tr style=\"text-align: right;\">\n",
       "      <th></th>\n",
       "      <th>f_intr_id</th>\n",
       "      <th>t_intr_id</th>\n",
       "      <th>snd_id</th>\n",
       "      <th>snd_feacode</th>\n",
       "      <th>citycode</th>\n",
       "      <th>stname_id</th>\n",
       "      <th>st_code</th>\n",
       "      <th>arterial_code</th>\n",
       "      <th>segment_type</th>\n",
       "      <th>agency_code</th>\n",
       "      <th>...</th>\n",
       "      <th>unitid</th>\n",
       "      <th>unitid2</th>\n",
       "      <th>city_portion</th>\n",
       "      <th>geometry</th>\n",
       "      <th>group_id</th>\n",
       "      <th>sort_order</th>\n",
       "      <th>ord_stname_type</th>\n",
       "      <th>city_portion_group</th>\n",
       "      <th>n_groups</th>\n",
       "      <th>_merge</th>\n",
       "    </tr>\n",
       "  </thead>\n",
       "  <tbody>\n",
       "    <tr>\n",
       "      <th>2947</th>\n",
       "      <td>47553.0</td>\n",
       "      <td>17931.0</td>\n",
       "      <td>38578.0</td>\n",
       "      <td>5.0</td>\n",
       "      <td>0.0</td>\n",
       "      <td>2870.0</td>\n",
       "      <td>0.0</td>\n",
       "      <td>1.0</td>\n",
       "      <td>1.0</td>\n",
       "      <td>1.0</td>\n",
       "      <td>...</td>\n",
       "      <td>00705</td>\n",
       "      <td>0820</td>\n",
       "      <td>S</td>\n",
       "      <td>LINESTRING (-122.31449 47.52947, -122.31456 47...</td>\n",
       "      <td>1</td>\n",
       "      <td>016</td>\n",
       "      <td>16TH AV S BR</td>\n",
       "      <td>S</td>\n",
       "      <td>1</td>\n",
       "      <td>both</td>\n",
       "    </tr>\n",
       "    <tr>\n",
       "      <th>14143</th>\n",
       "      <td>9358.0</td>\n",
       "      <td>9107.0</td>\n",
       "      <td>16776.0</td>\n",
       "      <td>5.0</td>\n",
       "      <td>1.0</td>\n",
       "      <td>2966.0</td>\n",
       "      <td>1.0</td>\n",
       "      <td>1.0</td>\n",
       "      <td>1.0</td>\n",
       "      <td>1.0</td>\n",
       "      <td>...</td>\n",
       "      <td>05254</td>\n",
       "      <td>0258</td>\n",
       "      <td>CNTR</td>\n",
       "      <td>LINESTRING (-122.34717 47.643, -122.34719 47.6...</td>\n",
       "      <td>1</td>\n",
       "      <td>AURORA</td>\n",
       "      <td>AURORA BR</td>\n",
       "      <td>CNTR_N</td>\n",
       "      <td>2</td>\n",
       "      <td>both</td>\n",
       "    </tr>\n",
       "    <tr>\n",
       "      <th>14144</th>\n",
       "      <td>8947.0</td>\n",
       "      <td>8739.0</td>\n",
       "      <td>11489.0</td>\n",
       "      <td>5.0</td>\n",
       "      <td>1.0</td>\n",
       "      <td>2966.0</td>\n",
       "      <td>1.0</td>\n",
       "      <td>1.0</td>\n",
       "      <td>1.0</td>\n",
       "      <td>1.0</td>\n",
       "      <td>...</td>\n",
       "      <td>05254</td>\n",
       "      <td>0258</td>\n",
       "      <td>N</td>\n",
       "      <td>LINESTRING (-122.34732 47.64855, -122.34732 47...</td>\n",
       "      <td>1</td>\n",
       "      <td>AURORA</td>\n",
       "      <td>AURORA BR</td>\n",
       "      <td>CNTR_N</td>\n",
       "      <td>2</td>\n",
       "      <td>both</td>\n",
       "    </tr>\n",
       "    <tr>\n",
       "      <th>14145</th>\n",
       "      <td>9107.0</td>\n",
       "      <td>8947.0</td>\n",
       "      <td>16480.0</td>\n",
       "      <td>5.0</td>\n",
       "      <td>1.0</td>\n",
       "      <td>2966.0</td>\n",
       "      <td>0.0</td>\n",
       "      <td>1.0</td>\n",
       "      <td>1.0</td>\n",
       "      <td>1.0</td>\n",
       "      <td>...</td>\n",
       "      <td>05254</td>\n",
       "      <td>0258</td>\n",
       "      <td>N</td>\n",
       "      <td>LINESTRING (-122.3473 47.64604, -122.34731 47....</td>\n",
       "      <td>1</td>\n",
       "      <td>AURORA</td>\n",
       "      <td>AURORA BR</td>\n",
       "      <td>CNTR_N</td>\n",
       "      <td>2</td>\n",
       "      <td>both</td>\n",
       "    </tr>\n",
       "    <tr>\n",
       "      <th>14236</th>\n",
       "      <td>7743.0</td>\n",
       "      <td>7517.0</td>\n",
       "      <td>10647.0</td>\n",
       "      <td>5.0</td>\n",
       "      <td>1.0</td>\n",
       "      <td>2974.0</td>\n",
       "      <td>0.0</td>\n",
       "      <td>1.0</td>\n",
       "      <td>1.0</td>\n",
       "      <td>1.0</td>\n",
       "      <td>...</td>\n",
       "      <td>05315</td>\n",
       "      <td>0440</td>\n",
       "      <td>NW</td>\n",
       "      <td>LINESTRING (-122.37624 47.66008, -122.37624 47...</td>\n",
       "      <td>1</td>\n",
       "      <td>BALLARD</td>\n",
       "      <td>BALLARD BR</td>\n",
       "      <td>NW_W</td>\n",
       "      <td>2</td>\n",
       "      <td>both</td>\n",
       "    </tr>\n",
       "  </tbody>\n",
       "</table>\n",
       "<p>5 rows × 44 columns</p>\n",
       "</div>"
      ],
      "text/plain": [
       "       f_intr_id  t_intr_id   snd_id  snd_feacode  citycode  stname_id  \\\n",
       "2947     47553.0    17931.0  38578.0          5.0       0.0     2870.0   \n",
       "14143     9358.0     9107.0  16776.0          5.0       1.0     2966.0   \n",
       "14144     8947.0     8739.0  11489.0          5.0       1.0     2966.0   \n",
       "14145     9107.0     8947.0  16480.0          5.0       1.0     2966.0   \n",
       "14236     7743.0     7517.0  10647.0          5.0       1.0     2974.0   \n",
       "\n",
       "       st_code  arterial_code  segment_type  agency_code  ...  unitid  \\\n",
       "2947       0.0            1.0           1.0          1.0  ...   00705   \n",
       "14143      1.0            1.0           1.0          1.0  ...   05254   \n",
       "14144      1.0            1.0           1.0          1.0  ...   05254   \n",
       "14145      0.0            1.0           1.0          1.0  ...   05254   \n",
       "14236      0.0            1.0           1.0          1.0  ...   05315   \n",
       "\n",
       "       unitid2  city_portion  \\\n",
       "2947      0820             S   \n",
       "14143     0258          CNTR   \n",
       "14144     0258             N   \n",
       "14145     0258             N   \n",
       "14236     0440            NW   \n",
       "\n",
       "                                                geometry  group_id  \\\n",
       "2947   LINESTRING (-122.31449 47.52947, -122.31456 47...         1   \n",
       "14143  LINESTRING (-122.34717 47.643, -122.34719 47.6...         1   \n",
       "14144  LINESTRING (-122.34732 47.64855, -122.34732 47...         1   \n",
       "14145  LINESTRING (-122.3473 47.64604, -122.34731 47....         1   \n",
       "14236  LINESTRING (-122.37624 47.66008, -122.37624 47...         1   \n",
       "\n",
       "       sort_order  ord_stname_type  city_portion_group  n_groups  _merge  \n",
       "2947          016     16TH AV S BR                   S         1    both  \n",
       "14143      AURORA        AURORA BR              CNTR_N         2    both  \n",
       "14144      AURORA        AURORA BR              CNTR_N         2    both  \n",
       "14145      AURORA        AURORA BR              CNTR_N         2    both  \n",
       "14236     BALLARD       BALLARD BR                NW_W         2    both  \n",
       "\n",
       "[5 rows x 44 columns]"
      ]
     },
     "execution_count": 54,
     "metadata": {},
     "output_type": "execute_result"
    }
   ],
   "source": [
    "pgdf.head()"
   ]
  },
  {
   "cell_type": "code",
   "execution_count": 52,
   "id": "605e5500",
   "metadata": {},
   "outputs": [
    {
     "name": "stdout",
     "output_type": "stream",
     "text": [
      "../../../project/seattle_streets/print/city_portion_groups\\ST_N_NE_NW.png\n",
      "../../../project/seattle_streets/print/city_portion_groups\\ST_S_SW.png\n",
      "../../../project/seattle_streets/print/city_portion_groups\\ST_N_NW.png\n",
      "../../../project/seattle_streets/print/city_portion_groups\\ST_N_NE.png\n",
      "../../../project/seattle_streets/print/city_portion_groups\\ST_NE_NW.png\n",
      "../../../project/seattle_streets/print/city_portion_groups\\AVE_NW_SW_W.png\n",
      "../../../project/seattle_streets/print/city_portion_groups\\AVE_CNTR_E_NE_S.png\n",
      "../../../project/seattle_streets/print/city_portion_groups\\AVE_CNTR_E_S.png\n",
      "../../../project/seattle_streets/print/city_portion_groups\\AVE_CNTR_N_NE_S.png\n",
      "../../../project/seattle_streets/print/city_portion_groups\\AVE_SW_W.png\n",
      "../../../project/seattle_streets/print/city_portion_groups\\AVE_E_NE_S.png\n",
      "../../../project/seattle_streets/print/city_portion_groups\\AVE_NE_S.png\n",
      "../../../project/seattle_streets/print/city_portion_groups\\WAY_CNTR_S_W.png\n",
      "../../../project/seattle_streets/print/city_portion_groups\\ST_CNTR_E.png\n",
      "../../../project/seattle_streets/print/city_portion_groups\\ST_CNTR_E_W.png\n",
      "../../../project/seattle_streets/print/city_portion_groups\\ST_CNTR_W.png\n",
      "../../../project/seattle_streets/print/city_portion_groups\\BR_CNTR_N.png\n",
      "../../../project/seattle_streets/print/city_portion_groups\\BR_NW_W.png\n",
      "../../../project/seattle_streets/print/city_portion_groups\\AVE_CNTR_E.png\n",
      "../../../project/seattle_streets/print/city_portion_groups\\AVE_CNTR_N_S.png\n",
      "../../../project/seattle_streets/print/city_portion_groups\\AVE_CNTR_SW_W.png\n",
      "../../../project/seattle_streets/print/city_portion_groups\\CT_S_SW.png\n",
      "../../../project/seattle_streets/print/city_portion_groups\\WAY_CNTR_E_W.png\n",
      "../../../project/seattle_streets/print/city_portion_groups\\AVE_CNTR_N.png\n",
      "../../../project/seattle_streets/print/city_portion_groups\\AVE_CNTR_E_NE.png\n",
      "../../../project/seattle_streets/print/city_portion_groups\\AVE_CNTR_W.png\n",
      "../../../project/seattle_streets/print/city_portion_groups\\AVE_CNTR_E_N.png\n",
      "../../../project/seattle_streets/print/city_portion_groups\\DR_CNTR_E_W.png\n",
      "../../../project/seattle_streets/print/city_portion_groups\\RD_N_NW.png\n",
      "../../../project/seattle_streets/print/city_portion_groups\\DR_NE_S.png\n",
      "../../../project/seattle_streets/print/city_portion_groups\\BLVD_CNTR_E_S.png\n",
      "../../../project/seattle_streets/print/city_portion_groups\\AVE_CNTR_NE_S.png\n",
      "../../../project/seattle_streets/print/city_portion_groups\\WAY_CNTR_E_S.png\n",
      "../../../project/seattle_streets/print/city_portion_groups\\BR_CNTR_W.png\n",
      "../../../project/seattle_streets/print/city_portion_groups\\BLVD_E_NE.png\n",
      "../../../project/seattle_streets/print/city_portion_groups\\ST_CNTR_S_W.png\n",
      "../../../project/seattle_streets/print/city_portion_groups\\WAY_N_NE.png\n",
      "../../../project/seattle_streets/print/city_portion_groups\\WAY_CNTR_E.png\n",
      "../../../project/seattle_streets/print/city_portion_groups\\ST_CNTR_S_SW.png\n",
      "../../../project/seattle_streets/print/city_portion_groups\\RD_CNTR_S_SW.png\n",
      "../../../project/seattle_streets/print/city_portion_groups\\WAY_CNTR_W.png\n",
      "../../../project/seattle_streets/print/city_portion_groups\\BR_E_NE.png\n",
      "../../../project/seattle_streets/print/city_portion_groups\\WAY_S_SW.png\n",
      "../../../project/seattle_streets/print/city_portion_groups\\AVE_N_NE.png\n"
     ]
    }
   ],
   "source": [
    "make_plots = True\n",
    "if make_plots:\n",
    "    for cr, crow in control_df.iterrows():\n",
    "        cpg = crow['city_portion_group']\n",
    "        ost = crow['ord_street_type']\n",
    "\n",
    "        output_file_name = f\"{ost}_{cpg}.png\"\n",
    "        ofpn = os.path.join(rc.S06_PLOT_OUTPUT_FILE_PATH_CITY_PORTION_GROUPS, output_file_name)\n",
    "        print(ofpn)\n",
    "\n",
    "        # now, let's make a map...\n",
    "        pgdf = gdf.loc[(gdf['city_portion_group'] == cpg) &\n",
    "                    (gdf['ord_street_type'] == ost), :]\n",
    "        to_draw = pgdf[['city_portion', 'geometry']].dissolve(by = 'city_portion', as_index = False)\n",
    "        #to_draw['coords'] = to_draw['geometry'].map(lambda x: x.centroid.coords[0])\n",
    "        fig = plt.figure(layout = 'constrained', figsize = (5, 10))\n",
    "        gs = GridSpec(1,1, figure = fig, height_ratios = [1])\n",
    "        ax1 = fig.add_subplot(gs[0,0])\n",
    "        ax1.set_xlim(bounds[0], bounds[2])\n",
    "        ax1.set_ylim(bounds[1], bounds[3])\n",
    "        cs_gdf.plot(ax = ax1, column = 'city_portion', alpha = .2)\n",
    "        to_draw.plot(ax = ax1, column = 'city_portion', cmap = my_cmap,  linewidth = 5, legend = True)\n",
    "\n",
    "        #for irrow, row in to_draw.iterrows():    \n",
    "        #    ax1.annotate(text=row['city_portion'], xy=row['coords'], fontsize = 16 )\n",
    "\n",
    "        ax1.set_axis_off()\n",
    "        \n",
    "        my_title = f\"Street Type: {ost} | City Portion Group {cpg}\"\n",
    "        plt.title(label = my_title)\n",
    "\n",
    "        #plt.show()\n",
    "\n",
    "        fig.savefig(fname = ofpn)\n",
    "        plt.close()"
   ]
  },
  {
   "cell_type": "code",
   "execution_count": null,
   "id": "159e7b68",
   "metadata": {},
   "outputs": [],
   "source": []
  },
  {
   "cell_type": "code",
   "execution_count": null,
   "id": "83dab2ed",
   "metadata": {},
   "outputs": [],
   "source": []
  },
  {
   "cell_type": "code",
   "execution_count": null,
   "id": "38ff7f32",
   "metadata": {},
   "outputs": [],
   "source": []
  }
 ],
 "metadata": {
  "kernelspec": {
   "display_name": "analysis",
   "language": "python",
   "name": "python3"
  },
  "language_info": {
   "codemirror_mode": {
    "name": "ipython",
    "version": 3
   },
   "file_extension": ".py",
   "mimetype": "text/x-python",
   "name": "python",
   "nbconvert_exporter": "python",
   "pygments_lexer": "ipython3",
   "version": "3.12.7"
  }
 },
 "nbformat": 4,
 "nbformat_minor": 5
}
