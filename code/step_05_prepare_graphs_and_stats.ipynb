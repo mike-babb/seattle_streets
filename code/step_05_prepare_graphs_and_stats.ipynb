{
 "cells": [
  {
   "cell_type": "markdown",
   "id": "fed9e25b-c5b9-4aee-89cd-15a7da3945c0",
   "metadata": {},
   "source": [
    "# Part 05: Tabulate statistics on the street disconntinuties\n",
    "michael babb  \n",
    "2025 02 18"
   ]
  },
  {
   "cell_type": "code",
   "execution_count": 1,
   "id": "e88ca8b2-b75d-4e72-8fc7-65c4cea61cde",
   "metadata": {},
   "outputs": [],
   "source": [
    "# standard\n",
    "import os"
   ]
  },
  {
   "cell_type": "code",
   "execution_count": 2,
   "id": "0778d9a5-0c62-4724-be28-c21598d23b6f",
   "metadata": {},
   "outputs": [],
   "source": [
    "# external\n",
    "import geopandas as gpd\n",
    "import matplotlib.pyplot as plt\n",
    "import numpy as np\n",
    "import pandas as pd\n",
    "from scipy import stats\n",
    "import seaborn as sns\n",
    "from sklearn.preprocessing import MinMaxScaler"
   ]
  },
  {
   "cell_type": "code",
   "execution_count": 3,
   "id": "2fc61400-c637-4828-820d-56c2cdd14942",
   "metadata": {},
   "outputs": [],
   "source": [
    "# custom\n",
    "import run_constants as rc\n",
    "from utils import *"
   ]
  },
  {
   "cell_type": "markdown",
   "id": "358f0850-02ab-40e9-9153-bfafaa9ec699",
   "metadata": {},
   "source": [
    "# output excel file"
   ]
  },
  {
   "cell_type": "code",
   "execution_count": 4,
   "id": "38fa089c-59ba-46ae-9dbf-9956fc58b714",
   "metadata": {},
   "outputs": [],
   "source": [
    "ofpn = os.path.join(rc.ANALYSIS_OUTPUT_FILE_PATH, rc.S05_ANALYSIS_OUT_FILE_NAME)"
   ]
  },
  {
   "cell_type": "code",
   "execution_count": 5,
   "id": "0dc40716-4c84-4eea-b7c3-0253e57e9f84",
   "metadata": {},
   "outputs": [],
   "source": [
    "e_writer = pd.ExcelWriter(path = ofpn)"
   ]
  },
  {
   "cell_type": "markdown",
   "id": "d56ea77e-ffd7-4326-b793-415f8a131ef2",
   "metadata": {},
   "source": [
    "# load the street network data"
   ]
  },
  {
   "cell_type": "code",
   "execution_count": 6,
   "id": "ddf62724-9105-44c9-b983-e4f520328fa9",
   "metadata": {},
   "outputs": [],
   "source": [
    "fpn = os.path.join(rc.OUTPUT_FILE_PATH, rc.S05_MISSING_IN_FILE_NAME)"
   ]
  },
  {
   "cell_type": "code",
   "execution_count": 7,
   "id": "2cbdb5c1-c973-4882-b442-cf5396e90d3e",
   "metadata": {},
   "outputs": [],
   "source": [
    "gdf = gpd.read_file(filename = fpn)"
   ]
  },
  {
   "cell_type": "code",
   "execution_count": 8,
   "id": "ce02bdf0-a0ca-46a5-bf8f-54b576ee2de7",
   "metadata": {},
   "outputs": [
    {
     "data": {
      "text/plain": [
       "Index(['snd_id', 'ord_street_name', 'ord_street_type', 'ord_stname_type',\n",
       "       'ord_stname_concat', 'ord_stname_unique', 'ord_stname_type_group',\n",
       "       'ord_street_type_rank', 'snd_group', 'group_id', 'city_sector',\n",
       "       'city_sector_group', 'street_status', 'sn_id', 'en_id', 'dist',\n",
       "       'dist_miles', 'geometry'],\n",
       "      dtype='object')"
      ]
     },
     "execution_count": 8,
     "metadata": {},
     "output_type": "execute_result"
    }
   ],
   "source": [
    "gdf.columns"
   ]
  },
  {
   "cell_type": "code",
   "execution_count": 9,
   "id": "0b203ee7-3a98-4f02-970b-b9d463918afe",
   "metadata": {},
   "outputs": [],
   "source": [
    "gdf['n_segments'] = int(1)"
   ]
  },
  {
   "cell_type": "code",
   "execution_count": 10,
   "id": "ca5fec99-9b05-4830-b081-74d31d82aa61",
   "metadata": {},
   "outputs": [],
   "source": [
    "# add text descriptions for the street type categories\n",
    "street_status_dict = {0:'continuous_street',\n",
    "                1:'discontinuous_street',\n",
    "                2:'added_street: within-sector',\n",
    "                3:'added_street: cross-sector'}"
   ]
  },
  {
   "cell_type": "code",
   "execution_count": 11,
   "id": "a77fd1ec-b9c2-4814-bdcd-688df88d4c2e",
   "metadata": {},
   "outputs": [],
   "source": [
    "gdf['street_status_desc'] = gdf['street_status'].map(street_status_dict)"
   ]
  },
  {
   "cell_type": "code",
   "execution_count": 12,
   "id": "a35dce0a",
   "metadata": {},
   "outputs": [
    {
     "data": {
      "text/plain": [
       "street_status_desc\n",
       "discontinuous_street           21940\n",
       "continuous_street               3810\n",
       "added_street: within-sector     3617\n",
       "added_street: cross-sector       410\n",
       "Name: count, dtype: int64"
      ]
     },
     "execution_count": 12,
     "metadata": {},
     "output_type": "execute_result"
    }
   ],
   "source": [
    "# number of segments\n",
    "gdf['street_status_desc'].value_counts()"
   ]
  },
  {
   "cell_type": "code",
   "execution_count": 13,
   "id": "f60321c1",
   "metadata": {},
   "outputs": [
    {
     "data": {
      "text/plain": [
       "Index(['snd_id', 'ord_street_name', 'ord_street_type', 'ord_stname_type',\n",
       "       'ord_stname_concat', 'ord_stname_unique', 'ord_stname_type_group',\n",
       "       'ord_street_type_rank', 'snd_group', 'group_id', 'city_sector',\n",
       "       'city_sector_group', 'street_status', 'sn_id', 'en_id', 'dist',\n",
       "       'dist_miles', 'geometry', 'n_segments', 'street_status_desc'],\n",
       "      dtype='object')"
      ]
     },
     "execution_count": 13,
     "metadata": {},
     "output_type": "execute_result"
    }
   ],
   "source": [
    "# which street name columns feature ''?\n",
    "gdf.columns"
   ]
  },
  {
   "cell_type": "code",
   "execution_count": 14,
   "id": "4d65d143",
   "metadata": {},
   "outputs": [
    {
     "data": {
      "text/plain": [
       "False"
      ]
     },
     "execution_count": 14,
     "metadata": {},
     "output_type": "execute_result"
    }
   ],
   "source": [
    "'' in gdf['ord_stname_concat'].unique().tolist()\n"
   ]
  },
  {
   "cell_type": "code",
   "execution_count": 15,
   "id": "9bfb2254",
   "metadata": {},
   "outputs": [
    {
     "data": {
      "text/plain": [
       "False"
      ]
     },
     "execution_count": 15,
     "metadata": {},
     "output_type": "execute_result"
    }
   ],
   "source": [
    "'' in gdf['ord_stname_unique'].unique().tolist()"
   ]
  },
  {
   "cell_type": "code",
   "execution_count": 16,
   "id": "8c2bb777",
   "metadata": {},
   "outputs": [],
   "source": [
    "check_df = gdf.loc[(gdf['ord_stname_unique'] == '') &\n",
    "                (gdf['street_status'] == 2), :]"
   ]
  },
  {
   "cell_type": "code",
   "execution_count": 17,
   "id": "4eac3bfe",
   "metadata": {},
   "outputs": [
    {
     "data": {
      "text/html": [
       "<div>\n",
       "<style scoped>\n",
       "    .dataframe tbody tr th:only-of-type {\n",
       "        vertical-align: middle;\n",
       "    }\n",
       "\n",
       "    .dataframe tbody tr th {\n",
       "        vertical-align: top;\n",
       "    }\n",
       "\n",
       "    .dataframe thead th {\n",
       "        text-align: right;\n",
       "    }\n",
       "</style>\n",
       "<table border=\"1\" class=\"dataframe\">\n",
       "  <thead>\n",
       "    <tr style=\"text-align: right;\">\n",
       "      <th></th>\n",
       "      <th>snd_id</th>\n",
       "      <th>ord_street_name</th>\n",
       "      <th>ord_street_type</th>\n",
       "      <th>ord_stname_type</th>\n",
       "      <th>ord_stname_concat</th>\n",
       "      <th>ord_stname_unique</th>\n",
       "      <th>ord_stname_type_group</th>\n",
       "      <th>ord_street_type_rank</th>\n",
       "      <th>snd_group</th>\n",
       "      <th>group_id</th>\n",
       "      <th>city_sector</th>\n",
       "      <th>city_sector_group</th>\n",
       "      <th>street_status</th>\n",
       "      <th>sn_id</th>\n",
       "      <th>en_id</th>\n",
       "      <th>dist</th>\n",
       "      <th>dist_miles</th>\n",
       "      <th>geometry</th>\n",
       "      <th>n_segments</th>\n",
       "      <th>street_status_desc</th>\n",
       "    </tr>\n",
       "  </thead>\n",
       "  <tbody>\n",
       "  </tbody>\n",
       "</table>\n",
       "</div>"
      ],
      "text/plain": [
       "Empty GeoDataFrame\n",
       "Columns: [snd_id, ord_street_name, ord_street_type, ord_stname_type, ord_stname_concat, ord_stname_unique, ord_stname_type_group, ord_street_type_rank, snd_group, group_id, city_sector, city_sector_group, street_status, sn_id, en_id, dist, dist_miles, geometry, n_segments, street_status_desc]\n",
       "Index: []"
      ]
     },
     "execution_count": 17,
     "metadata": {},
     "output_type": "execute_result"
    }
   ],
   "source": [
    "check_df.head()"
   ]
  },
  {
   "cell_type": "markdown",
   "id": "5ec2bfab",
   "metadata": {},
   "source": [
    "# q0: basic tabulations"
   ]
  },
  {
   "cell_type": "code",
   "execution_count": 18,
   "id": "3d9c11bc",
   "metadata": {},
   "outputs": [
    {
     "data": {
      "text/plain": [
       "(2453,)"
      ]
     },
     "execution_count": 18,
     "metadata": {},
     "output_type": "execute_result"
    }
   ],
   "source": [
    "# uniquely named roads in the study areas\n",
    "gdf.loc[gdf['street_status'].isin([0, 1]), 'ord_stname_concat'].unique().shape"
   ]
  },
  {
   "cell_type": "code",
   "execution_count": 19,
   "id": "37925135",
   "metadata": {},
   "outputs": [],
   "source": [
    "gdf['n_segments'] = int(1)"
   ]
  },
  {
   "cell_type": "code",
   "execution_count": 20,
   "id": "47a3190d",
   "metadata": {},
   "outputs": [
    {
     "data": {
      "text/html": [
       "<div>\n",
       "<style scoped>\n",
       "    .dataframe tbody tr th:only-of-type {\n",
       "        vertical-align: middle;\n",
       "    }\n",
       "\n",
       "    .dataframe tbody tr th {\n",
       "        vertical-align: top;\n",
       "    }\n",
       "\n",
       "    .dataframe thead th {\n",
       "        text-align: right;\n",
       "    }\n",
       "</style>\n",
       "<table border=\"1\" class=\"dataframe\">\n",
       "  <thead>\n",
       "    <tr style=\"text-align: right;\">\n",
       "      <th></th>\n",
       "      <th>n_roads</th>\n",
       "    </tr>\n",
       "    <tr>\n",
       "      <th>street_status</th>\n",
       "      <th></th>\n",
       "    </tr>\n",
       "  </thead>\n",
       "  <tbody>\n",
       "    <tr>\n",
       "      <th>0</th>\n",
       "      <td>1145</td>\n",
       "    </tr>\n",
       "    <tr>\n",
       "      <th>1</th>\n",
       "      <td>1308</td>\n",
       "    </tr>\n",
       "    <tr>\n",
       "      <th>2</th>\n",
       "      <td>1103</td>\n",
       "    </tr>\n",
       "    <tr>\n",
       "      <th>3</th>\n",
       "      <td>313</td>\n",
       "    </tr>\n",
       "  </tbody>\n",
       "</table>\n",
       "</div>"
      ],
      "text/plain": [
       "               n_roads\n",
       "street_status         \n",
       "0                 1145\n",
       "1                 1308\n",
       "2                 1103\n",
       "3                  313"
      ]
     },
     "execution_count": 20,
     "metadata": {},
     "output_type": "execute_result"
    }
   ],
   "source": [
    "col_names = ['ord_stname_concat', 'street_status', 'n_segments']\n",
    "gdf[col_names].drop_duplicates().groupby(by = col_names[1:2]).agg(n_roads = ('n_segments', 'sum'))"
   ]
  },
  {
   "cell_type": "code",
   "execution_count": 21,
   "id": "1e9f018d",
   "metadata": {},
   "outputs": [
    {
     "data": {
      "text/html": [
       "<div>\n",
       "<style scoped>\n",
       "    .dataframe tbody tr th:only-of-type {\n",
       "        vertical-align: middle;\n",
       "    }\n",
       "\n",
       "    .dataframe tbody tr th {\n",
       "        vertical-align: top;\n",
       "    }\n",
       "\n",
       "    .dataframe thead th {\n",
       "        text-align: right;\n",
       "    }\n",
       "</style>\n",
       "<table border=\"1\" class=\"dataframe\">\n",
       "  <thead>\n",
       "    <tr style=\"text-align: right;\">\n",
       "      <th></th>\n",
       "      <th>n_miles</th>\n",
       "      <th>n_segments</th>\n",
       "    </tr>\n",
       "    <tr>\n",
       "      <th>street_status</th>\n",
       "      <th></th>\n",
       "      <th></th>\n",
       "    </tr>\n",
       "  </thead>\n",
       "  <tbody>\n",
       "    <tr>\n",
       "      <th>0</th>\n",
       "      <td>311.804778</td>\n",
       "      <td>3810</td>\n",
       "    </tr>\n",
       "    <tr>\n",
       "      <th>1</th>\n",
       "      <td>1578.369226</td>\n",
       "      <td>21940</td>\n",
       "    </tr>\n",
       "    <tr>\n",
       "      <th>2</th>\n",
       "      <td>833.487569</td>\n",
       "      <td>3617</td>\n",
       "    </tr>\n",
       "    <tr>\n",
       "      <th>3</th>\n",
       "      <td>823.728529</td>\n",
       "      <td>410</td>\n",
       "    </tr>\n",
       "  </tbody>\n",
       "</table>\n",
       "</div>"
      ],
      "text/plain": [
       "                   n_miles  n_segments\n",
       "street_status                         \n",
       "0               311.804778        3810\n",
       "1              1578.369226       21940\n",
       "2               833.487569        3617\n",
       "3               823.728529         410"
      ]
     },
     "execution_count": 21,
     "metadata": {},
     "output_type": "execute_result"
    }
   ],
   "source": [
    "col_names = ['ord_stname_concat', 'street_status', 'dist_miles']\n",
    "gdf.groupby(by = col_names[1:2]).agg(n_miles = ('dist_miles', 'sum'),\n",
    "                                     n_segments = ('n_segments', 'sum'))"
   ]
  },
  {
   "cell_type": "code",
   "execution_count": 22,
   "id": "4207fd01",
   "metadata": {},
   "outputs": [
    {
     "data": {
      "text/plain": [
       "np.float64(1890.1740039767046)"
      ]
     },
     "execution_count": 22,
     "metadata": {},
     "output_type": "execute_result"
    }
   ],
   "source": [
    "# total road miles in the study area\n",
    "gdf.loc[gdf['street_status'].isin([0, 1]), 'dist_miles'].sum()"
   ]
  },
  {
   "cell_type": "code",
   "execution_count": 23,
   "id": "02632a8c",
   "metadata": {},
   "outputs": [],
   "source": [
    "# simple count of road miles\n",
    "col_names = ['street_status_desc', 'dist_miles']\n",
    "gdf_agg = gdf[col_names].groupby(col_names[:-1]).agg(n_miles = ('dist_miles', 'sum')).reset_index()"
   ]
  },
  {
   "cell_type": "code",
   "execution_count": 24,
   "id": "7c8f31ad",
   "metadata": {},
   "outputs": [
    {
     "data": {
      "text/html": [
       "<div>\n",
       "<style scoped>\n",
       "    .dataframe tbody tr th:only-of-type {\n",
       "        vertical-align: middle;\n",
       "    }\n",
       "\n",
       "    .dataframe tbody tr th {\n",
       "        vertical-align: top;\n",
       "    }\n",
       "\n",
       "    .dataframe thead th {\n",
       "        text-align: right;\n",
       "    }\n",
       "</style>\n",
       "<table border=\"1\" class=\"dataframe\">\n",
       "  <thead>\n",
       "    <tr style=\"text-align: right;\">\n",
       "      <th></th>\n",
       "      <th>street_status_desc</th>\n",
       "      <th>n_miles</th>\n",
       "    </tr>\n",
       "  </thead>\n",
       "  <tbody>\n",
       "    <tr>\n",
       "      <th>0</th>\n",
       "      <td>added_street: cross-sector</td>\n",
       "      <td>823.728529</td>\n",
       "    </tr>\n",
       "    <tr>\n",
       "      <th>1</th>\n",
       "      <td>added_street: within-sector</td>\n",
       "      <td>833.487569</td>\n",
       "    </tr>\n",
       "    <tr>\n",
       "      <th>2</th>\n",
       "      <td>continuous_street</td>\n",
       "      <td>311.804778</td>\n",
       "    </tr>\n",
       "    <tr>\n",
       "      <th>3</th>\n",
       "      <td>discontinuous_street</td>\n",
       "      <td>1578.369226</td>\n",
       "    </tr>\n",
       "  </tbody>\n",
       "</table>\n",
       "</div>"
      ],
      "text/plain": [
       "            street_status_desc      n_miles\n",
       "0   added_street: cross-sector   823.728529\n",
       "1  added_street: within-sector   833.487569\n",
       "2            continuous_street   311.804778\n",
       "3         discontinuous_street  1578.369226"
      ]
     },
     "execution_count": 24,
     "metadata": {},
     "output_type": "execute_result"
    }
   ],
   "source": [
    "# total road miles\n",
    "gdf_agg.head()"
   ]
  },
  {
   "cell_type": "code",
   "execution_count": 25,
   "id": "34e20d5f",
   "metadata": {},
   "outputs": [],
   "source": [
    "col_names = ['ord_stname_type_group', 'ord_stname_concat', 'street_status_desc', 'n_segments']\n",
    "gdf_agg = gdf[col_names].drop_duplicates().groupby(col_names[2:-1]).agg(n_roads = ('n_segments', 'sum')).reset_index()"
   ]
  },
  {
   "cell_type": "code",
   "execution_count": 26,
   "id": "0a6d5522",
   "metadata": {},
   "outputs": [
    {
     "data": {
      "text/html": [
       "<div>\n",
       "<style scoped>\n",
       "    .dataframe tbody tr th:only-of-type {\n",
       "        vertical-align: middle;\n",
       "    }\n",
       "\n",
       "    .dataframe tbody tr th {\n",
       "        vertical-align: top;\n",
       "    }\n",
       "\n",
       "    .dataframe thead th {\n",
       "        text-align: right;\n",
       "    }\n",
       "</style>\n",
       "<table border=\"1\" class=\"dataframe\">\n",
       "  <thead>\n",
       "    <tr style=\"text-align: right;\">\n",
       "      <th></th>\n",
       "      <th>street_status_desc</th>\n",
       "      <th>n_roads</th>\n",
       "    </tr>\n",
       "  </thead>\n",
       "  <tbody>\n",
       "    <tr>\n",
       "      <th>0</th>\n",
       "      <td>added_street: cross-sector</td>\n",
       "      <td>313</td>\n",
       "    </tr>\n",
       "    <tr>\n",
       "      <th>1</th>\n",
       "      <td>added_street: within-sector</td>\n",
       "      <td>1103</td>\n",
       "    </tr>\n",
       "    <tr>\n",
       "      <th>2</th>\n",
       "      <td>continuous_street</td>\n",
       "      <td>1145</td>\n",
       "    </tr>\n",
       "    <tr>\n",
       "      <th>3</th>\n",
       "      <td>discontinuous_street</td>\n",
       "      <td>1308</td>\n",
       "    </tr>\n",
       "  </tbody>\n",
       "</table>\n",
       "</div>"
      ],
      "text/plain": [
       "            street_status_desc  n_roads\n",
       "0   added_street: cross-sector      313\n",
       "1  added_street: within-sector     1103\n",
       "2            continuous_street     1145\n",
       "3         discontinuous_street     1308"
      ]
     },
     "execution_count": 26,
     "metadata": {},
     "output_type": "execute_result"
    }
   ],
   "source": [
    "gdf_agg.head()"
   ]
  },
  {
   "cell_type": "code",
   "execution_count": 27,
   "id": "158dbf4a",
   "metadata": {},
   "outputs": [
    {
     "data": {
      "text/plain": [
       "street_status_desc\n",
       "discontinuous_street           21940\n",
       "continuous_street               3810\n",
       "added_street: within-sector     3617\n",
       "added_street: cross-sector       410\n",
       "Name: count, dtype: int64"
      ]
     },
     "execution_count": 27,
     "metadata": {},
     "output_type": "execute_result"
    }
   ],
   "source": [
    "# number of added segments\n",
    "gdf['street_status_desc'].value_counts()"
   ]
  },
  {
   "cell_type": "code",
   "execution_count": 28,
   "id": "1670e3be",
   "metadata": {},
   "outputs": [
    {
     "data": {
      "text/plain": [
       "3.2792384406165005"
      ]
     },
     "execution_count": 28,
     "metadata": {},
     "output_type": "execute_result"
    }
   ],
   "source": [
    "# within-sector: average number of segments added per uniquely named road\n",
    "3617 / 1103"
   ]
  },
  {
   "cell_type": "code",
   "execution_count": 29,
   "id": "bb66e655",
   "metadata": {},
   "outputs": [
    {
     "data": {
      "text/plain": [
       "1.3099041533546325"
      ]
     },
     "execution_count": 29,
     "metadata": {},
     "output_type": "execute_result"
    }
   ],
   "source": [
    "410 / 313"
   ]
  },
  {
   "cell_type": "code",
   "execution_count": null,
   "id": "cec586df",
   "metadata": {},
   "outputs": [],
   "source": []
  },
  {
   "cell_type": "markdown",
   "id": "5dad39fe",
   "metadata": {},
   "source": [
    "# q1: are cross-sector added streets correct?"
   ]
  },
  {
   "cell_type": "code",
   "execution_count": 30,
   "id": "37c1f353",
   "metadata": {},
   "outputs": [
    {
     "data": {
      "text/plain": [
       "Index(['snd_id', 'ord_street_name', 'ord_street_type', 'ord_stname_type',\n",
       "       'ord_stname_concat', 'ord_stname_unique', 'ord_stname_type_group',\n",
       "       'ord_street_type_rank', 'snd_group', 'group_id', 'city_sector',\n",
       "       'city_sector_group', 'street_status', 'sn_id', 'en_id', 'dist',\n",
       "       'dist_miles', 'geometry', 'n_segments', 'street_status_desc'],\n",
       "      dtype='object')"
      ]
     },
     "execution_count": 30,
     "metadata": {},
     "output_type": "execute_result"
    }
   ],
   "source": [
    "gdf.columns"
   ]
  },
  {
   "cell_type": "code",
   "execution_count": 31,
   "id": "67b2ccf6",
   "metadata": {},
   "outputs": [],
   "source": [
    "col_names = ['ord_stname_type_group', 'street_status', 'n_segments']"
   ]
  },
  {
   "cell_type": "code",
   "execution_count": 32,
   "id": "7f956859",
   "metadata": {},
   "outputs": [],
   "source": [
    "# pivot\n",
    "gdf_agg = pd.pivot_table(data = gdf, values = 'n_segments', index = ['ord_stname_type_group'],\n",
    "                         columns = ['street_status'], aggfunc='sum', fill_value=0)"
   ]
  },
  {
   "cell_type": "code",
   "execution_count": 33,
   "id": "40a32723",
   "metadata": {},
   "outputs": [],
   "source": [
    "# rename columns\n",
    "gdf_agg.columns = ['ss_' + str(x) for x in range(0, 4)]"
   ]
  },
  {
   "cell_type": "code",
   "execution_count": 34,
   "id": "0c1db79e",
   "metadata": {},
   "outputs": [],
   "source": [
    "gdf_agg = gdf_agg.reset_index()"
   ]
  },
  {
   "cell_type": "code",
   "execution_count": 35,
   "id": "230fdfae",
   "metadata": {},
   "outputs": [],
   "source": [
    "# perform a series of tests to identify the multi_sector street\n",
    "gdf_agg['is_multi_sector'] = int(0)"
   ]
  },
  {
   "cell_type": "code",
   "execution_count": 36,
   "id": "337ba7a3",
   "metadata": {},
   "outputs": [],
   "source": [
    "gdf_agg.loc[gdf_agg['ord_stname_type_group'].str.find('_') > 0, 'is_multi_sector'] = int(1)"
   ]
  },
  {
   "cell_type": "code",
   "execution_count": 37,
   "id": "41ff1e54",
   "metadata": {},
   "outputs": [],
   "source": [
    "# false negatives: an added segment is not marked cross-sector when it should be\n",
    "gdf_agg['check_street_fn'] = int(0)"
   ]
  },
  {
   "cell_type": "code",
   "execution_count": 38,
   "id": "cdb47a27",
   "metadata": {},
   "outputs": [],
   "source": [
    "gdf_agg.loc[(gdf_agg['is_multi_sector'] == 1) &\n",
    "            (gdf_agg['ss_3'] == 0), 'check_street_fn'] = int(1)"
   ]
  },
  {
   "cell_type": "code",
   "execution_count": 39,
   "id": "94dcac39",
   "metadata": {},
   "outputs": [
    {
     "data": {
      "text/plain": [
       "np.int64(76)"
      ]
     },
     "execution_count": 39,
     "metadata": {},
     "output_type": "execute_result"
    }
   ],
   "source": [
    "gdf_agg['check_street_fn'].sum()"
   ]
  },
  {
   "cell_type": "code",
   "execution_count": 40,
   "id": "1f4be7cd",
   "metadata": {},
   "outputs": [],
   "source": [
    "# false positives: an added segment is marked cross-sector when it should not be\n",
    "gdf_agg['check_street_fp'] = int(0)\n",
    "gdf_agg.loc[(gdf_agg['is_multi_sector'] == 0) &\n",
    "            (gdf_agg['ss_3'] != 0), 'check_street_fp'] = int(1)"
   ]
  },
  {
   "cell_type": "code",
   "execution_count": 41,
   "id": "ba08f0c3",
   "metadata": {},
   "outputs": [
    {
     "data": {
      "text/plain": [
       "np.int64(0)"
      ]
     },
     "execution_count": 41,
     "metadata": {},
     "output_type": "execute_result"
    }
   ],
   "source": [
    "gdf_agg['check_street_fp'].sum()"
   ]
  },
  {
   "cell_type": "code",
   "execution_count": 42,
   "id": "940efb36",
   "metadata": {},
   "outputs": [],
   "source": [
    "# we only have false negatives. Let's highlight those"
   ]
  },
  {
   "cell_type": "code",
   "execution_count": 43,
   "id": "bc306065",
   "metadata": {},
   "outputs": [],
   "source": [
    "check_gdf_agg = gdf_agg.loc[(gdf_agg['check_street_fn'] == 1) |\n",
    "                      (gdf_agg['check_street_fp'] == 1), :]"
   ]
  },
  {
   "cell_type": "code",
   "execution_count": 44,
   "id": "13256aab",
   "metadata": {},
   "outputs": [],
   "source": [
    "# export these streets\n",
    "check_gdf = gdf.loc[gdf['ord_stname_type_group'].isin(check_gdf_agg['ord_stname_type_group']), :]"
   ]
  },
  {
   "cell_type": "code",
   "execution_count": 45,
   "id": "ac136d99",
   "metadata": {},
   "outputs": [
    {
     "data": {
      "text/plain": [
       "(76,)"
      ]
     },
     "execution_count": 45,
     "metadata": {},
     "output_type": "execute_result"
    }
   ],
   "source": [
    "check_gdf['ord_stname_type_group'].unique().shape"
   ]
  },
  {
   "cell_type": "code",
   "execution_count": 46,
   "id": "e29cefef",
   "metadata": {},
   "outputs": [],
   "source": [
    "# visualize\n",
    "write_gdf(gdf = check_gdf, output_file_path=rc.OUTPUT_FILE_PATH, output_file_name=rc.S05_STREET_CONNECTION_CHECK_FILE_NAME)"
   ]
  },
  {
   "cell_type": "code",
   "execution_count": 47,
   "id": "d4019e1a",
   "metadata": {},
   "outputs": [],
   "source": [
    "# okay, after looking at these segments in qGIS - they appear to be correct. \n",
    "# this is because the existing street crosses from one sector of the city to \n",
    "# another, but the added segments are all within-sector. So in a way, by a\n",
    "# strict definition, these are false negatives, but these streets are correct. "
   ]
  },
  {
   "cell_type": "markdown",
   "id": "f18a47d3-1f2c-444b-ab15-a079f9c80557",
   "metadata": {},
   "source": [
    "# q2: what street name - excluding direction - has the most street types?"
   ]
  },
  {
   "cell_type": "code",
   "execution_count": 48,
   "id": "6ba407e8-2619-457d-bdca-d90d341a5e01",
   "metadata": {},
   "outputs": [],
   "source": [
    "col_names = ['ord_street_name', 'ord_street_type', 'n_segments']"
   ]
  },
  {
   "cell_type": "code",
   "execution_count": 49,
   "id": "7b7f1fb8-5923-4262-b8dd-8a672837cf82",
   "metadata": {},
   "outputs": [],
   "source": [
    "gdf_agg = gdf.loc[gdf['street_status'].isin((0,1)), col_names].drop_duplicates()"
   ]
  },
  {
   "cell_type": "code",
   "execution_count": 50,
   "id": "039bb6c4-897a-4094-9555-bdb3dc0f316d",
   "metadata": {},
   "outputs": [],
   "source": [
    "gdf_pv = pd.pivot_table(data = gdf_agg, values = ['n_segments'], index = 'ord_street_name', columns = ['ord_street_type'], aggfunc = 'sum', fill_value = 0, margins = True).reset_index()"
   ]
  },
  {
   "cell_type": "code",
   "execution_count": 51,
   "id": "50cc7c5b-8352-4466-a490-b85b9773f04e",
   "metadata": {},
   "outputs": [],
   "source": [
    "gdf_pv.columns = [''.join(cn).replace('n_segments', '') for cn in gdf_pv.columns]"
   ]
  },
  {
   "cell_type": "code",
   "execution_count": 52,
   "id": "949704f8-42df-4ac4-b178-696183ffac2b",
   "metadata": {},
   "outputs": [
    {
     "data": {
      "text/html": [
       "<div>\n",
       "<style scoped>\n",
       "    .dataframe tbody tr th:only-of-type {\n",
       "        vertical-align: middle;\n",
       "    }\n",
       "\n",
       "    .dataframe tbody tr th {\n",
       "        vertical-align: top;\n",
       "    }\n",
       "\n",
       "    .dataframe thead th {\n",
       "        text-align: right;\n",
       "    }\n",
       "</style>\n",
       "<table border=\"1\" class=\"dataframe\">\n",
       "  <thead>\n",
       "    <tr style=\"text-align: right;\">\n",
       "      <th></th>\n",
       "      <th>ord_street_name</th>\n",
       "      <th>AVE</th>\n",
       "      <th>BLVD</th>\n",
       "      <th>BR</th>\n",
       "      <th>CIR</th>\n",
       "      <th>CT</th>\n",
       "      <th>DR</th>\n",
       "      <th>LN</th>\n",
       "      <th>LOOP</th>\n",
       "      <th>PKWY</th>\n",
       "      <th>PL</th>\n",
       "      <th>PZ</th>\n",
       "      <th>RD</th>\n",
       "      <th>ST</th>\n",
       "      <th>TER</th>\n",
       "      <th>VIEW</th>\n",
       "      <th>WAY</th>\n",
       "      <th>All</th>\n",
       "    </tr>\n",
       "  </thead>\n",
       "  <tbody>\n",
       "    <tr>\n",
       "      <th>0</th>\n",
       "      <td>100TH</td>\n",
       "      <td>0</td>\n",
       "      <td>0</td>\n",
       "      <td>0</td>\n",
       "      <td>0</td>\n",
       "      <td>0</td>\n",
       "      <td>0</td>\n",
       "      <td>0</td>\n",
       "      <td>0</td>\n",
       "      <td>0</td>\n",
       "      <td>1</td>\n",
       "      <td>0</td>\n",
       "      <td>0</td>\n",
       "      <td>1</td>\n",
       "      <td>0</td>\n",
       "      <td>0</td>\n",
       "      <td>0</td>\n",
       "      <td>2</td>\n",
       "    </tr>\n",
       "    <tr>\n",
       "      <th>1</th>\n",
       "      <td>101ST</td>\n",
       "      <td>0</td>\n",
       "      <td>0</td>\n",
       "      <td>0</td>\n",
       "      <td>0</td>\n",
       "      <td>0</td>\n",
       "      <td>0</td>\n",
       "      <td>0</td>\n",
       "      <td>0</td>\n",
       "      <td>0</td>\n",
       "      <td>1</td>\n",
       "      <td>0</td>\n",
       "      <td>0</td>\n",
       "      <td>1</td>\n",
       "      <td>0</td>\n",
       "      <td>0</td>\n",
       "      <td>0</td>\n",
       "      <td>2</td>\n",
       "    </tr>\n",
       "    <tr>\n",
       "      <th>2</th>\n",
       "      <td>102ND</td>\n",
       "      <td>0</td>\n",
       "      <td>0</td>\n",
       "      <td>0</td>\n",
       "      <td>0</td>\n",
       "      <td>0</td>\n",
       "      <td>0</td>\n",
       "      <td>1</td>\n",
       "      <td>0</td>\n",
       "      <td>0</td>\n",
       "      <td>0</td>\n",
       "      <td>0</td>\n",
       "      <td>0</td>\n",
       "      <td>1</td>\n",
       "      <td>0</td>\n",
       "      <td>0</td>\n",
       "      <td>0</td>\n",
       "      <td>2</td>\n",
       "    </tr>\n",
       "    <tr>\n",
       "      <th>3</th>\n",
       "      <td>103RD</td>\n",
       "      <td>0</td>\n",
       "      <td>0</td>\n",
       "      <td>0</td>\n",
       "      <td>0</td>\n",
       "      <td>0</td>\n",
       "      <td>0</td>\n",
       "      <td>0</td>\n",
       "      <td>0</td>\n",
       "      <td>0</td>\n",
       "      <td>1</td>\n",
       "      <td>0</td>\n",
       "      <td>0</td>\n",
       "      <td>1</td>\n",
       "      <td>0</td>\n",
       "      <td>0</td>\n",
       "      <td>0</td>\n",
       "      <td>2</td>\n",
       "    </tr>\n",
       "    <tr>\n",
       "      <th>4</th>\n",
       "      <td>104TH</td>\n",
       "      <td>0</td>\n",
       "      <td>0</td>\n",
       "      <td>0</td>\n",
       "      <td>0</td>\n",
       "      <td>0</td>\n",
       "      <td>0</td>\n",
       "      <td>1</td>\n",
       "      <td>0</td>\n",
       "      <td>0</td>\n",
       "      <td>1</td>\n",
       "      <td>0</td>\n",
       "      <td>0</td>\n",
       "      <td>1</td>\n",
       "      <td>0</td>\n",
       "      <td>0</td>\n",
       "      <td>1</td>\n",
       "      <td>4</td>\n",
       "    </tr>\n",
       "  </tbody>\n",
       "</table>\n",
       "</div>"
      ],
      "text/plain": [
       "  ord_street_name  AVE  BLVD  BR  CIR  CT  DR  LN  LOOP  PKWY  PL  PZ  RD  ST  \\\n",
       "0           100TH    0     0   0    0   0   0   0     0     0   1   0   0   1   \n",
       "1           101ST    0     0   0    0   0   0   0     0     0   1   0   0   1   \n",
       "2           102ND    0     0   0    0   0   0   1     0     0   0   0   0   1   \n",
       "3           103RD    0     0   0    0   0   0   0     0     0   1   0   0   1   \n",
       "4           104TH    0     0   0    0   0   0   1     0     0   1   0   0   1   \n",
       "\n",
       "   TER  VIEW  WAY  All  \n",
       "0    0     0    0    2  \n",
       "1    0     0    0    2  \n",
       "2    0     0    0    2  \n",
       "3    0     0    0    2  \n",
       "4    0     0    1    4  "
      ]
     },
     "execution_count": 52,
     "metadata": {},
     "output_type": "execute_result"
    }
   ],
   "source": [
    "gdf_pv.head()"
   ]
  },
  {
   "cell_type": "code",
   "execution_count": 53,
   "id": "8b3a5d0a-f993-4352-a96c-0f15218d5103",
   "metadata": {},
   "outputs": [],
   "source": [
    "gdf_pv.to_excel(excel_writer=e_writer, sheet_name = 's_type_count', index = False)"
   ]
  },
  {
   "cell_type": "markdown",
   "id": "1b7bb5ae-834e-4078-b830-ed9f8f6c29de",
   "metadata": {},
   "source": [
    "# q3: what street name - excluding type - has the most street connections?"
   ]
  },
  {
   "cell_type": "code",
   "execution_count": 54,
   "id": "816f7b54-543e-4afa-aa2c-1d92197435fe",
   "metadata": {},
   "outputs": [],
   "source": [
    "col_names = ['ord_street_name', 'street_status_desc', 'n_segments']\n",
    "gdf_agg = gdf[col_names].drop_duplicates()"
   ]
  },
  {
   "cell_type": "code",
   "execution_count": 55,
   "id": "b30c8d9a-5711-4c9a-bea9-fe2e4ac06eee",
   "metadata": {},
   "outputs": [],
   "source": [
    "gdf_pv = pd.pivot_table(data = gdf_agg, values = ['n_segments'], index = 'ord_street_name', columns = ['street_status_desc'],\n",
    "                        aggfunc = 'sum', fill_value = 0, margins = True).reset_index()"
   ]
  },
  {
   "cell_type": "code",
   "execution_count": 56,
   "id": "f54b0198-3b4d-4cac-8e8a-3f0070ba1666",
   "metadata": {},
   "outputs": [
    {
     "data": {
      "text/html": [
       "<div>\n",
       "<style scoped>\n",
       "    .dataframe tbody tr th:only-of-type {\n",
       "        vertical-align: middle;\n",
       "    }\n",
       "\n",
       "    .dataframe tbody tr th {\n",
       "        vertical-align: top;\n",
       "    }\n",
       "\n",
       "    .dataframe thead tr th {\n",
       "        text-align: left;\n",
       "    }\n",
       "</style>\n",
       "<table border=\"1\" class=\"dataframe\">\n",
       "  <thead>\n",
       "    <tr>\n",
       "      <th></th>\n",
       "      <th>ord_street_name</th>\n",
       "      <th colspan=\"5\" halign=\"left\">n_segments</th>\n",
       "    </tr>\n",
       "    <tr>\n",
       "      <th>street_status_desc</th>\n",
       "      <th></th>\n",
       "      <th>added_street: cross-sector</th>\n",
       "      <th>added_street: within-sector</th>\n",
       "      <th>continuous_street</th>\n",
       "      <th>discontinuous_street</th>\n",
       "      <th>All</th>\n",
       "    </tr>\n",
       "  </thead>\n",
       "  <tbody>\n",
       "    <tr>\n",
       "      <th>0</th>\n",
       "      <td>100TH</td>\n",
       "      <td>1</td>\n",
       "      <td>1</td>\n",
       "      <td>1</td>\n",
       "      <td>1</td>\n",
       "      <td>4</td>\n",
       "    </tr>\n",
       "    <tr>\n",
       "      <th>1</th>\n",
       "      <td>101ST</td>\n",
       "      <td>1</td>\n",
       "      <td>1</td>\n",
       "      <td>1</td>\n",
       "      <td>1</td>\n",
       "      <td>4</td>\n",
       "    </tr>\n",
       "    <tr>\n",
       "      <th>2</th>\n",
       "      <td>102ND</td>\n",
       "      <td>1</td>\n",
       "      <td>1</td>\n",
       "      <td>1</td>\n",
       "      <td>1</td>\n",
       "      <td>4</td>\n",
       "    </tr>\n",
       "    <tr>\n",
       "      <th>3</th>\n",
       "      <td>103RD</td>\n",
       "      <td>1</td>\n",
       "      <td>1</td>\n",
       "      <td>1</td>\n",
       "      <td>1</td>\n",
       "      <td>4</td>\n",
       "    </tr>\n",
       "    <tr>\n",
       "      <th>4</th>\n",
       "      <td>104TH</td>\n",
       "      <td>1</td>\n",
       "      <td>1</td>\n",
       "      <td>1</td>\n",
       "      <td>1</td>\n",
       "      <td>4</td>\n",
       "    </tr>\n",
       "  </tbody>\n",
       "</table>\n",
       "</div>"
      ],
      "text/plain": [
       "                   ord_street_name                 n_segments  \\\n",
       "street_status_desc                 added_street: cross-sector   \n",
       "0                            100TH                          1   \n",
       "1                            101ST                          1   \n",
       "2                            102ND                          1   \n",
       "3                            103RD                          1   \n",
       "4                            104TH                          1   \n",
       "\n",
       "                                                                  \\\n",
       "street_status_desc added_street: within-sector continuous_street   \n",
       "0                                            1                 1   \n",
       "1                                            1                 1   \n",
       "2                                            1                 1   \n",
       "3                                            1                 1   \n",
       "4                                            1                 1   \n",
       "\n",
       "                                             \n",
       "street_status_desc discontinuous_street All  \n",
       "0                                     1   4  \n",
       "1                                     1   4  \n",
       "2                                     1   4  \n",
       "3                                     1   4  \n",
       "4                                     1   4  "
      ]
     },
     "execution_count": 56,
     "metadata": {},
     "output_type": "execute_result"
    }
   ],
   "source": [
    "gdf_pv.head()"
   ]
  },
  {
   "cell_type": "code",
   "execution_count": 57,
   "id": "b56fdcf8-da0a-4f91-a222-8df69eb1bd7f",
   "metadata": {},
   "outputs": [],
   "source": [
    "gdf_pv.columns = [''.join(cn).replace('n_segments', '') for cn in gdf_pv.columns]"
   ]
  },
  {
   "cell_type": "code",
   "execution_count": 58,
   "id": "0dd440d1-d9ec-4133-8131-09d79bfdd3e8",
   "metadata": {},
   "outputs": [
    {
     "data": {
      "text/plain": [
       "Index(['ord_street_name', 'added_street: cross-sector',\n",
       "       'added_street: within-sector', 'continuous_street',\n",
       "       'discontinuous_street', 'All'],\n",
       "      dtype='object')"
      ]
     },
     "execution_count": 58,
     "metadata": {},
     "output_type": "execute_result"
    }
   ],
   "source": [
    "gdf_pv.columns"
   ]
  },
  {
   "cell_type": "code",
   "execution_count": 59,
   "id": "c0384c02-840a-4534-a919-2cdb1b5693d2",
   "metadata": {},
   "outputs": [
    {
     "data": {
      "text/html": [
       "<div>\n",
       "<style scoped>\n",
       "    .dataframe tbody tr th:only-of-type {\n",
       "        vertical-align: middle;\n",
       "    }\n",
       "\n",
       "    .dataframe tbody tr th {\n",
       "        vertical-align: top;\n",
       "    }\n",
       "\n",
       "    .dataframe thead th {\n",
       "        text-align: right;\n",
       "    }\n",
       "</style>\n",
       "<table border=\"1\" class=\"dataframe\">\n",
       "  <thead>\n",
       "    <tr style=\"text-align: right;\">\n",
       "      <th></th>\n",
       "      <th>ord_street_name</th>\n",
       "      <th>added_street: cross-sector</th>\n",
       "      <th>added_street: within-sector</th>\n",
       "      <th>continuous_street</th>\n",
       "      <th>discontinuous_street</th>\n",
       "      <th>All</th>\n",
       "    </tr>\n",
       "  </thead>\n",
       "  <tbody>\n",
       "    <tr>\n",
       "      <th>0</th>\n",
       "      <td>100TH</td>\n",
       "      <td>1</td>\n",
       "      <td>1</td>\n",
       "      <td>1</td>\n",
       "      <td>1</td>\n",
       "      <td>4</td>\n",
       "    </tr>\n",
       "    <tr>\n",
       "      <th>1</th>\n",
       "      <td>101ST</td>\n",
       "      <td>1</td>\n",
       "      <td>1</td>\n",
       "      <td>1</td>\n",
       "      <td>1</td>\n",
       "      <td>4</td>\n",
       "    </tr>\n",
       "    <tr>\n",
       "      <th>2</th>\n",
       "      <td>102ND</td>\n",
       "      <td>1</td>\n",
       "      <td>1</td>\n",
       "      <td>1</td>\n",
       "      <td>1</td>\n",
       "      <td>4</td>\n",
       "    </tr>\n",
       "    <tr>\n",
       "      <th>3</th>\n",
       "      <td>103RD</td>\n",
       "      <td>1</td>\n",
       "      <td>1</td>\n",
       "      <td>1</td>\n",
       "      <td>1</td>\n",
       "      <td>4</td>\n",
       "    </tr>\n",
       "    <tr>\n",
       "      <th>4</th>\n",
       "      <td>104TH</td>\n",
       "      <td>1</td>\n",
       "      <td>1</td>\n",
       "      <td>1</td>\n",
       "      <td>1</td>\n",
       "      <td>4</td>\n",
       "    </tr>\n",
       "  </tbody>\n",
       "</table>\n",
       "</div>"
      ],
      "text/plain": [
       "  ord_street_name  added_street: cross-sector  added_street: within-sector  \\\n",
       "0           100TH                           1                            1   \n",
       "1           101ST                           1                            1   \n",
       "2           102ND                           1                            1   \n",
       "3           103RD                           1                            1   \n",
       "4           104TH                           1                            1   \n",
       "\n",
       "   continuous_street  discontinuous_street  All  \n",
       "0                  1                     1    4  \n",
       "1                  1                     1    4  \n",
       "2                  1                     1    4  \n",
       "3                  1                     1    4  \n",
       "4                  1                     1    4  "
      ]
     },
     "execution_count": 59,
     "metadata": {},
     "output_type": "execute_result"
    }
   ],
   "source": [
    "gdf_pv.head()"
   ]
  },
  {
   "cell_type": "code",
   "execution_count": 60,
   "id": "cac54e56-219b-492f-ae81-d072405e9cb2",
   "metadata": {},
   "outputs": [],
   "source": [
    "gdf_pv.to_excel(excel_writer=e_writer, sheet_name = 'connection_count_by_name', index = False)"
   ]
  },
  {
   "cell_type": "markdown",
   "id": "08b2c5f6-690e-4ac9-bdc4-5e0514b33a64",
   "metadata": {},
   "source": [
    "# q4: what street name - including direction and type - has the most street connections?"
   ]
  },
  {
   "cell_type": "code",
   "execution_count": 61,
   "id": "01a1bf1f-227a-4af1-a828-8bef3e0f08c3",
   "metadata": {},
   "outputs": [],
   "source": [
    "col_names = ['ord_stname_type_group', 'ord_stname_unique', 'ord_stname_concat', 'ord_street_type', 'street_status', 'street_status_desc', 'n_segments']\n",
    "gdf_agg = gdf[col_names]"
   ]
  },
  {
   "cell_type": "code",
   "execution_count": 62,
   "id": "78d1c42a-2682-4029-abdf-ec0b76cd0758",
   "metadata": {},
   "outputs": [],
   "source": [
    "gdf_pv = pd.pivot_table(data = gdf, values = ['n_segments'], index = ['ord_stname_unique', 'ord_street_type'],\n",
    "                        columns = ['street_status_desc'], aggfunc = 'sum', fill_value = 0, margins = True).reset_index()"
   ]
  },
  {
   "cell_type": "code",
   "execution_count": 63,
   "id": "7f72b0c0-9358-4814-895d-e3bdd2e67df5",
   "metadata": {},
   "outputs": [],
   "source": [
    "gdf_pv.columns = [''.join(cn).replace('n_segments', '') for cn in gdf_pv.columns]"
   ]
  },
  {
   "cell_type": "code",
   "execution_count": 64,
   "id": "0c16ca15-fced-4ee7-b1fb-e0507f8c6201",
   "metadata": {},
   "outputs": [
    {
     "data": {
      "text/html": [
       "<div>\n",
       "<style scoped>\n",
       "    .dataframe tbody tr th:only-of-type {\n",
       "        vertical-align: middle;\n",
       "    }\n",
       "\n",
       "    .dataframe tbody tr th {\n",
       "        vertical-align: top;\n",
       "    }\n",
       "\n",
       "    .dataframe thead th {\n",
       "        text-align: right;\n",
       "    }\n",
       "</style>\n",
       "<table border=\"1\" class=\"dataframe\">\n",
       "  <thead>\n",
       "    <tr style=\"text-align: right;\">\n",
       "      <th></th>\n",
       "      <th>ord_stname_unique</th>\n",
       "      <th>ord_street_type</th>\n",
       "      <th>added_street: cross-sector</th>\n",
       "      <th>added_street: within-sector</th>\n",
       "      <th>continuous_street</th>\n",
       "      <th>discontinuous_street</th>\n",
       "      <th>All</th>\n",
       "    </tr>\n",
       "  </thead>\n",
       "  <tbody>\n",
       "    <tr>\n",
       "      <th>0</th>\n",
       "      <td>100TH ST NW_N_NE</td>\n",
       "      <td>ST</td>\n",
       "      <td>1</td>\n",
       "      <td>0</td>\n",
       "      <td>0</td>\n",
       "      <td>0</td>\n",
       "      <td>1</td>\n",
       "    </tr>\n",
       "    <tr>\n",
       "      <th>1</th>\n",
       "      <td>101ST ST SW_S</td>\n",
       "      <td>ST</td>\n",
       "      <td>1</td>\n",
       "      <td>0</td>\n",
       "      <td>0</td>\n",
       "      <td>0</td>\n",
       "      <td>1</td>\n",
       "    </tr>\n",
       "    <tr>\n",
       "      <th>2</th>\n",
       "      <td>102ND ST N_NE</td>\n",
       "      <td>ST</td>\n",
       "      <td>1</td>\n",
       "      <td>0</td>\n",
       "      <td>0</td>\n",
       "      <td>0</td>\n",
       "      <td>1</td>\n",
       "    </tr>\n",
       "    <tr>\n",
       "      <th>3</th>\n",
       "      <td>103RD ST NW_N_NE</td>\n",
       "      <td>ST</td>\n",
       "      <td>2</td>\n",
       "      <td>0</td>\n",
       "      <td>0</td>\n",
       "      <td>0</td>\n",
       "      <td>2</td>\n",
       "    </tr>\n",
       "    <tr>\n",
       "      <th>4</th>\n",
       "      <td>103RD ST SW_S</td>\n",
       "      <td>ST</td>\n",
       "      <td>1</td>\n",
       "      <td>0</td>\n",
       "      <td>0</td>\n",
       "      <td>0</td>\n",
       "      <td>1</td>\n",
       "    </tr>\n",
       "  </tbody>\n",
       "</table>\n",
       "</div>"
      ],
      "text/plain": [
       "  ord_stname_unique ord_street_type  added_street: cross-sector  \\\n",
       "0  100TH ST NW_N_NE              ST                           1   \n",
       "1     101ST ST SW_S              ST                           1   \n",
       "2     102ND ST N_NE              ST                           1   \n",
       "3  103RD ST NW_N_NE              ST                           2   \n",
       "4     103RD ST SW_S              ST                           1   \n",
       "\n",
       "   added_street: within-sector  continuous_street  discontinuous_street  All  \n",
       "0                            0                  0                     0    1  \n",
       "1                            0                  0                     0    1  \n",
       "2                            0                  0                     0    1  \n",
       "3                            0                  0                     0    2  \n",
       "4                            0                  0                     0    1  "
      ]
     },
     "execution_count": 64,
     "metadata": {},
     "output_type": "execute_result"
    }
   ],
   "source": [
    "gdf_pv.head()"
   ]
  },
  {
   "cell_type": "code",
   "execution_count": 65,
   "id": "664f9830",
   "metadata": {},
   "outputs": [],
   "source": [
    "# remove the all row\n",
    "gdf_pv = gdf_pv.loc[gdf_pv['ord_stname_unique'] != 'All', :]"
   ]
  },
  {
   "cell_type": "code",
   "execution_count": 66,
   "id": "12b52f64-bcc9-4c3a-a1c8-39fc48e16224",
   "metadata": {},
   "outputs": [
    {
     "data": {
      "text/plain": [
       "(2768, 7)"
      ]
     },
     "execution_count": 66,
     "metadata": {},
     "output_type": "execute_result"
    }
   ],
   "source": [
    "gdf_pv.shape"
   ]
  },
  {
   "cell_type": "markdown",
   "id": "1c7b09a5",
   "metadata": {},
   "source": [
    "# q5: what are the streets with at least 10 discontinuities?"
   ]
  },
  {
   "cell_type": "code",
   "execution_count": 67,
   "id": "967f466c-65e3-436e-b489-acf630afd23b",
   "metadata": {},
   "outputs": [
    {
     "data": {
      "text/plain": [
       "['1ST AVE NW', '2ND AVE NE', '2ND AVE NW', '30TH AVE S', 'W RAYE ST']"
      ]
     },
     "execution_count": 67,
     "metadata": {},
     "output_type": "execute_result"
    }
   ],
   "source": [
    "gdf_pv.loc[gdf_pv['added_street: within-sector'] >= 13, 'ord_stname_unique'].tolist()"
   ]
  },
  {
   "cell_type": "code",
   "execution_count": 68,
   "id": "9c95166a-031f-49f5-b0cc-1643d57f8963",
   "metadata": {},
   "outputs": [],
   "source": [
    "gdf_pv.to_excel(excel_writer=e_writer, sheet_name = 'connection_count_full_name', index = False)"
   ]
  },
  {
   "cell_type": "code",
   "execution_count": 69,
   "id": "36cb42e4",
   "metadata": {},
   "outputs": [
    {
     "data": {
      "text/plain": [
       "['1ST AVE NW']"
      ]
     },
     "execution_count": 69,
     "metadata": {},
     "output_type": "execute_result"
    }
   ],
   "source": [
    "# what streets feature the most dicontinuities?\n",
    "gdf_pv.loc[gdf_pv['added_street: within-sector'] == gdf_pv['added_street: within-sector'].max(), 'ord_stname_unique'].tolist()"
   ]
  },
  {
   "cell_type": "markdown",
   "id": "7da624c7",
   "metadata": {},
   "source": [
    "# q6: what is the ratio of discontinuous to continuous streets?\n",
    "looking at uniquely named streets"
   ]
  },
  {
   "cell_type": "code",
   "execution_count": 70,
   "id": "2c8070eb",
   "metadata": {},
   "outputs": [],
   "source": [
    "continuous_streets = gdf.loc[gdf['street_status'] == 0, 'ord_stname_unique'].unique().shape[0]\n",
    "discontinuous_streets = gdf.loc[gdf['street_status'] == 1, 'ord_stname_unique'].unique().shape[0]\n",
    "total_streets = continuous_streets + discontinuous_streets"
   ]
  },
  {
   "cell_type": "code",
   "execution_count": 71,
   "id": "7742c295-99cd-4341-9af1-c09fcd0795ac",
   "metadata": {},
   "outputs": [
    {
     "data": {
      "text/plain": [
       "0.4672097759674134"
      ]
     },
     "execution_count": 71,
     "metadata": {},
     "output_type": "execute_result"
    }
   ],
   "source": [
    "continuous_streets / total_streets"
   ]
  },
  {
   "cell_type": "code",
   "execution_count": 72,
   "id": "cbac562b-c88b-4639-8e49-a168590abfee",
   "metadata": {},
   "outputs": [
    {
     "data": {
      "text/plain": [
       "0.5327902240325866"
      ]
     },
     "execution_count": 72,
     "metadata": {},
     "output_type": "execute_result"
    }
   ],
   "source": [
    "discontinuous_streets / total_streets"
   ]
  },
  {
   "cell_type": "code",
   "execution_count": 73,
   "id": "1ab8dc0d-f9d4-4bfb-8f37-96c1c769fbbd",
   "metadata": {},
   "outputs": [],
   "source": [
    "# 47 percent of named streets are continuous.\n",
    "# 53 percent of named streets are discontinous.\n",
    "# this tracks"
   ]
  },
  {
   "cell_type": "markdown",
   "id": "7429299f-c713-41d0-a8eb-57c623c63d6c",
   "metadata": {},
   "source": [
    "# q7: which streets feature longer discontinuous portions?"
   ]
  },
  {
   "cell_type": "code",
   "execution_count": 74,
   "id": "e2105d40-f7cd-4f1c-8d5d-3e43a815626b",
   "metadata": {},
   "outputs": [],
   "source": [
    "gdf_pv = pd.pivot_table(data = gdf, values = ['dist_miles'], index = ['ord_stname_type_group', 'ord_street_type'],\n",
    "                        columns = ['street_status_desc'], aggfunc = 'sum', fill_value = 0, margins = True).reset_index()"
   ]
  },
  {
   "cell_type": "code",
   "execution_count": 75,
   "id": "480db292-c5cc-4975-b332-367a29bece9c",
   "metadata": {},
   "outputs": [],
   "source": [
    "gdf_pv.columns = [''.join(cn).replace('dist_miles', '') for cn in gdf_pv.columns]"
   ]
  },
  {
   "cell_type": "code",
   "execution_count": 76,
   "id": "b4933d0b",
   "metadata": {},
   "outputs": [
    {
     "data": {
      "text/plain": [
       "(1815, 7)"
      ]
     },
     "execution_count": 76,
     "metadata": {},
     "output_type": "execute_result"
    }
   ],
   "source": [
    "gdf_pv.shape"
   ]
  },
  {
   "cell_type": "code",
   "execution_count": 77,
   "id": "e9e843d2",
   "metadata": {},
   "outputs": [],
   "source": [
    "gdf_pv = gdf_pv.loc[gdf_pv['ord_stname_type_group']!= 'All', :].copy()"
   ]
  },
  {
   "cell_type": "code",
   "execution_count": 78,
   "id": "8511b981",
   "metadata": {},
   "outputs": [
    {
     "data": {
      "text/plain": [
       "(1814, 7)"
      ]
     },
     "execution_count": 78,
     "metadata": {},
     "output_type": "execute_result"
    }
   ],
   "source": [
    "gdf_pv.shape"
   ]
  },
  {
   "cell_type": "code",
   "execution_count": 79,
   "id": "fd8f0b02-27b6-42e5-9647-99b3a439ff61",
   "metadata": {},
   "outputs": [
    {
     "data": {
      "text/html": [
       "<div>\n",
       "<style scoped>\n",
       "    .dataframe tbody tr th:only-of-type {\n",
       "        vertical-align: middle;\n",
       "    }\n",
       "\n",
       "    .dataframe tbody tr th {\n",
       "        vertical-align: top;\n",
       "    }\n",
       "\n",
       "    .dataframe thead th {\n",
       "        text-align: right;\n",
       "    }\n",
       "</style>\n",
       "<table border=\"1\" class=\"dataframe\">\n",
       "  <thead>\n",
       "    <tr style=\"text-align: right;\">\n",
       "      <th></th>\n",
       "      <th>ord_stname_type_group</th>\n",
       "      <th>ord_street_type</th>\n",
       "      <th>added_street: cross-sector</th>\n",
       "      <th>added_street: within-sector</th>\n",
       "      <th>continuous_street</th>\n",
       "      <th>discontinuous_street</th>\n",
       "      <th>All</th>\n",
       "    </tr>\n",
       "  </thead>\n",
       "  <tbody>\n",
       "    <tr>\n",
       "      <th>0</th>\n",
       "      <td>100TH PL NW</td>\n",
       "      <td>PL</td>\n",
       "      <td>0.000000</td>\n",
       "      <td>0.000000</td>\n",
       "      <td>0.201049</td>\n",
       "      <td>0.000000</td>\n",
       "      <td>0.201049</td>\n",
       "    </tr>\n",
       "    <tr>\n",
       "      <th>1</th>\n",
       "      <td>100TH PL SW</td>\n",
       "      <td>PL</td>\n",
       "      <td>0.000000</td>\n",
       "      <td>0.000000</td>\n",
       "      <td>0.035254</td>\n",
       "      <td>0.000000</td>\n",
       "      <td>0.035254</td>\n",
       "    </tr>\n",
       "    <tr>\n",
       "      <th>2</th>\n",
       "      <td>100TH ST NW_N_NE</td>\n",
       "      <td>ST</td>\n",
       "      <td>0.307315</td>\n",
       "      <td>0.653439</td>\n",
       "      <td>0.000000</td>\n",
       "      <td>4.535595</td>\n",
       "      <td>5.496349</td>\n",
       "    </tr>\n",
       "    <tr>\n",
       "      <th>3</th>\n",
       "      <td>100TH ST SW_S</td>\n",
       "      <td>ST</td>\n",
       "      <td>0.000000</td>\n",
       "      <td>0.761244</td>\n",
       "      <td>0.000000</td>\n",
       "      <td>2.970913</td>\n",
       "      <td>3.732157</td>\n",
       "    </tr>\n",
       "    <tr>\n",
       "      <th>4</th>\n",
       "      <td>101ST PL SW</td>\n",
       "      <td>PL</td>\n",
       "      <td>0.000000</td>\n",
       "      <td>0.000000</td>\n",
       "      <td>0.034279</td>\n",
       "      <td>0.000000</td>\n",
       "      <td>0.034279</td>\n",
       "    </tr>\n",
       "  </tbody>\n",
       "</table>\n",
       "</div>"
      ],
      "text/plain": [
       "  ord_stname_type_group ord_street_type  added_street: cross-sector  \\\n",
       "0           100TH PL NW              PL                    0.000000   \n",
       "1           100TH PL SW              PL                    0.000000   \n",
       "2      100TH ST NW_N_NE              ST                    0.307315   \n",
       "3         100TH ST SW_S              ST                    0.000000   \n",
       "4           101ST PL SW              PL                    0.000000   \n",
       "\n",
       "   added_street: within-sector  continuous_street  discontinuous_street  \\\n",
       "0                     0.000000           0.201049              0.000000   \n",
       "1                     0.000000           0.035254              0.000000   \n",
       "2                     0.653439           0.000000              4.535595   \n",
       "3                     0.761244           0.000000              2.970913   \n",
       "4                     0.000000           0.034279              0.000000   \n",
       "\n",
       "        All  \n",
       "0  0.201049  \n",
       "1  0.035254  \n",
       "2  5.496349  \n",
       "3  3.732157  \n",
       "4  0.034279  "
      ]
     },
     "execution_count": 79,
     "metadata": {},
     "output_type": "execute_result"
    }
   ],
   "source": [
    "gdf_pv.head()"
   ]
  },
  {
   "cell_type": "code",
   "execution_count": 80,
   "id": "ab7a421e-74c3-465f-a3a4-cc9f53606127",
   "metadata": {},
   "outputs": [],
   "source": [
    "gdf_pv['longer_added'] = int(0) # street is complete\n",
    "gdf_pv.loc[(gdf_pv['continuous_street'] == 0) & (gdf_pv['added_street: within-sector'] <= gdf_pv['discontinuous_street']), 'longer_added'] = int(1)\n",
    "gdf_pv.loc[(gdf_pv['continuous_street'] == 0) & (gdf_pv['added_street: within-sector'] > gdf_pv['discontinuous_street']), 'longer_added'] = int(2)"
   ]
  },
  {
   "cell_type": "code",
   "execution_count": 81,
   "id": "bfaf3134-e1b7-4abe-a5a8-64083ab78709",
   "metadata": {},
   "outputs": [
    {
     "data": {
      "text/plain": [
       "longer_added\n",
       "0    1113\n",
       "1     543\n",
       "2     158\n",
       "Name: count, dtype: int64"
      ]
     },
     "execution_count": 81,
     "metadata": {},
     "output_type": "execute_result"
    }
   ],
   "source": [
    "gdf_pv['longer_added'].value_counts()"
   ]
  },
  {
   "cell_type": "code",
   "execution_count": 82,
   "id": "0b13203b-090a-4298-9e26-b43303650e2c",
   "metadata": {},
   "outputs": [],
   "source": [
    "gdf_pv.to_excel(excel_writer=e_writer, sheet_name = 'distance_full_name', index = False)"
   ]
  },
  {
   "cell_type": "code",
   "execution_count": 83,
   "id": "d03e5668-9c2e-425c-9d24-5801c5011450",
   "metadata": {},
   "outputs": [
    {
     "data": {
      "text/plain": [
       "np.float64(1578.3692260090909)"
      ]
     },
     "execution_count": 83,
     "metadata": {},
     "output_type": "execute_result"
    }
   ],
   "source": [
    "# road miles on streets with at least one added segment\n",
    "split_streets = gdf_pv['discontinuous_street'].sum()\n",
    "split_streets"
   ]
  },
  {
   "cell_type": "code",
   "execution_count": 84,
   "id": "1ec88b36-6bbb-4a35-8d85-02187c2a7cd4",
   "metadata": {},
   "outputs": [
    {
     "data": {
      "text/plain": [
       "np.float64(311.80477796761363)"
      ]
     },
     "execution_count": 84,
     "metadata": {},
     "output_type": "execute_result"
    }
   ],
   "source": [
    "# road miles on streets with no added segments\n",
    "continuous_streets = gdf_pv['continuous_street'].sum()\n",
    "continuous_streets"
   ]
  },
  {
   "cell_type": "code",
   "execution_count": 85,
   "id": "8bb21306-30c2-43c5-9720-864e851cb0ff",
   "metadata": {},
   "outputs": [
    {
     "data": {
      "text/plain": [
       "np.float64(0.8350391142235514)"
      ]
     },
     "execution_count": 85,
     "metadata": {},
     "output_type": "execute_result"
    }
   ],
   "source": [
    "split_streets / (split_streets + continuous_streets)"
   ]
  },
  {
   "cell_type": "code",
   "execution_count": 86,
   "id": "540aec80-4735-4613-bcd0-61a0ce073770",
   "metadata": {},
   "outputs": [
    {
     "data": {
      "text/plain": [
       "np.float64(0.16496088577644857)"
      ]
     },
     "execution_count": 86,
     "metadata": {},
     "output_type": "execute_result"
    }
   ],
   "source": [
    "continuous_streets / (split_streets + continuous_streets)"
   ]
  },
  {
   "cell_type": "code",
   "execution_count": 87,
   "id": "d16b0f1e-e6ee-4007-9405-3bb212a7ee91",
   "metadata": {},
   "outputs": [],
   "source": [
    "# 84 percent of road miles are multi-segments streets\n",
    "# 16 percent of road miles are single segment streets"
   ]
  },
  {
   "cell_type": "markdown",
   "id": "2f3989a8-b1ac-46d7-9609-a1a5266912a8",
   "metadata": {},
   "source": [
    "# tabulate distances and distributions by street type"
   ]
  },
  {
   "cell_type": "code",
   "execution_count": 88,
   "id": "5b1cec5c-854e-4243-87e3-7b947e7b709c",
   "metadata": {},
   "outputs": [],
   "source": [
    "st_type_df = pd.pivot_table(data = gdf, index = ['ord_street_type'],\n",
    "                         columns = ['street_status_desc'], values = ['dist_miles'],\n",
    "                        aggfunc='sum', fill_value = 0).reset_index()\n",
    "\n"
   ]
  },
  {
   "cell_type": "code",
   "execution_count": 89,
   "id": "4f98d7f5-56b7-4603-8f44-0d3289f281f9",
   "metadata": {},
   "outputs": [],
   "source": [
    "st_type_df.columns = [''.join(cn).replace('dist_miles', '') for cn in st_type_df.columns]"
   ]
  },
  {
   "cell_type": "code",
   "execution_count": 90,
   "id": "14541764-7683-4aad-915a-74f00cbfc4c5",
   "metadata": {},
   "outputs": [
    {
     "data": {
      "text/plain": [
       "(16, 5)"
      ]
     },
     "execution_count": 90,
     "metadata": {},
     "output_type": "execute_result"
    }
   ],
   "source": [
    "st_type_df.shape"
   ]
  },
  {
   "cell_type": "code",
   "execution_count": 91,
   "id": "488d701e-4705-4a4c-a3c4-b4b8eb51bbf0",
   "metadata": {},
   "outputs": [
    {
     "data": {
      "text/html": [
       "<div>\n",
       "<style scoped>\n",
       "    .dataframe tbody tr th:only-of-type {\n",
       "        vertical-align: middle;\n",
       "    }\n",
       "\n",
       "    .dataframe tbody tr th {\n",
       "        vertical-align: top;\n",
       "    }\n",
       "\n",
       "    .dataframe thead th {\n",
       "        text-align: right;\n",
       "    }\n",
       "</style>\n",
       "<table border=\"1\" class=\"dataframe\">\n",
       "  <thead>\n",
       "    <tr style=\"text-align: right;\">\n",
       "      <th></th>\n",
       "      <th>ord_street_type</th>\n",
       "      <th>added_street: cross-sector</th>\n",
       "      <th>added_street: within-sector</th>\n",
       "      <th>continuous_street</th>\n",
       "      <th>discontinuous_street</th>\n",
       "    </tr>\n",
       "  </thead>\n",
       "  <tbody>\n",
       "    <tr>\n",
       "      <th>0</th>\n",
       "      <td>AVE</td>\n",
       "      <td>560.253713</td>\n",
       "      <td>431.877647</td>\n",
       "      <td>72.647575</td>\n",
       "      <td>857.534570</td>\n",
       "    </tr>\n",
       "    <tr>\n",
       "      <th>1</th>\n",
       "      <td>BLVD</td>\n",
       "      <td>0.046053</td>\n",
       "      <td>0.467329</td>\n",
       "      <td>16.408015</td>\n",
       "      <td>8.648006</td>\n",
       "    </tr>\n",
       "    <tr>\n",
       "      <th>2</th>\n",
       "      <td>BR</td>\n",
       "      <td>0.000000</td>\n",
       "      <td>0.000000</td>\n",
       "      <td>4.212091</td>\n",
       "      <td>0.000000</td>\n",
       "    </tr>\n",
       "    <tr>\n",
       "      <th>3</th>\n",
       "      <td>CIR</td>\n",
       "      <td>0.000000</td>\n",
       "      <td>0.000000</td>\n",
       "      <td>0.698582</td>\n",
       "      <td>0.000000</td>\n",
       "    </tr>\n",
       "    <tr>\n",
       "      <th>4</th>\n",
       "      <td>CT</td>\n",
       "      <td>3.848201</td>\n",
       "      <td>0.022490</td>\n",
       "      <td>4.254737</td>\n",
       "      <td>0.218229</td>\n",
       "    </tr>\n",
       "  </tbody>\n",
       "</table>\n",
       "</div>"
      ],
      "text/plain": [
       "  ord_street_type  added_street: cross-sector  added_street: within-sector  \\\n",
       "0             AVE                  560.253713                   431.877647   \n",
       "1            BLVD                    0.046053                     0.467329   \n",
       "2              BR                    0.000000                     0.000000   \n",
       "3             CIR                    0.000000                     0.000000   \n",
       "4              CT                    3.848201                     0.022490   \n",
       "\n",
       "   continuous_street  discontinuous_street  \n",
       "0          72.647575            857.534570  \n",
       "1          16.408015              8.648006  \n",
       "2           4.212091              0.000000  \n",
       "3           0.698582              0.000000  \n",
       "4           4.254737              0.218229  "
      ]
     },
     "execution_count": 91,
     "metadata": {},
     "output_type": "execute_result"
    }
   ],
   "source": [
    "st_type_df.head()"
   ]
  },
  {
   "cell_type": "code",
   "execution_count": 92,
   "id": "d9ea6a1c-610e-488d-800c-6723bf54b72b",
   "metadata": {},
   "outputs": [],
   "source": [
    "# now, melt\n",
    "st_type_df_melt = pd.melt(frame = st_type_df, id_vars = ['ord_street_type'],\n",
    "                          var_name = 'street_status_desc',\n",
    "                          value_name = 'total_miles')"
   ]
  },
  {
   "cell_type": "code",
   "execution_count": 93,
   "id": "36d9b6fb-77d1-40d8-ac6d-0db7fc142d02",
   "metadata": {},
   "outputs": [
    {
     "data": {
      "text/html": [
       "<div>\n",
       "<style scoped>\n",
       "    .dataframe tbody tr th:only-of-type {\n",
       "        vertical-align: middle;\n",
       "    }\n",
       "\n",
       "    .dataframe tbody tr th {\n",
       "        vertical-align: top;\n",
       "    }\n",
       "\n",
       "    .dataframe thead th {\n",
       "        text-align: right;\n",
       "    }\n",
       "</style>\n",
       "<table border=\"1\" class=\"dataframe\">\n",
       "  <thead>\n",
       "    <tr style=\"text-align: right;\">\n",
       "      <th></th>\n",
       "      <th>ord_street_type</th>\n",
       "      <th>street_status_desc</th>\n",
       "      <th>total_miles</th>\n",
       "    </tr>\n",
       "  </thead>\n",
       "  <tbody>\n",
       "    <tr>\n",
       "      <th>0</th>\n",
       "      <td>AVE</td>\n",
       "      <td>added_street: cross-sector</td>\n",
       "      <td>560.253713</td>\n",
       "    </tr>\n",
       "    <tr>\n",
       "      <th>1</th>\n",
       "      <td>BLVD</td>\n",
       "      <td>added_street: cross-sector</td>\n",
       "      <td>0.046053</td>\n",
       "    </tr>\n",
       "    <tr>\n",
       "      <th>2</th>\n",
       "      <td>BR</td>\n",
       "      <td>added_street: cross-sector</td>\n",
       "      <td>0.000000</td>\n",
       "    </tr>\n",
       "    <tr>\n",
       "      <th>3</th>\n",
       "      <td>CIR</td>\n",
       "      <td>added_street: cross-sector</td>\n",
       "      <td>0.000000</td>\n",
       "    </tr>\n",
       "    <tr>\n",
       "      <th>4</th>\n",
       "      <td>CT</td>\n",
       "      <td>added_street: cross-sector</td>\n",
       "      <td>3.848201</td>\n",
       "    </tr>\n",
       "  </tbody>\n",
       "</table>\n",
       "</div>"
      ],
      "text/plain": [
       "  ord_street_type          street_status_desc  total_miles\n",
       "0             AVE  added_street: cross-sector   560.253713\n",
       "1            BLVD  added_street: cross-sector     0.046053\n",
       "2              BR  added_street: cross-sector     0.000000\n",
       "3             CIR  added_street: cross-sector     0.000000\n",
       "4              CT  added_street: cross-sector     3.848201"
      ]
     },
     "execution_count": 93,
     "metadata": {},
     "output_type": "execute_result"
    }
   ],
   "source": [
    "st_type_df_melt.head()"
   ]
  },
  {
   "cell_type": "code",
   "execution_count": 94,
   "id": "9ff43502-84df-446b-bfd9-a95d0bf81ecb",
   "metadata": {},
   "outputs": [],
   "source": [
    "col_names = ['ord_street_type', 'street_status_desc', 'dist_miles']"
   ]
  },
  {
   "cell_type": "code",
   "execution_count": 95,
   "id": "338b9aa8-5848-4f7d-98d6-00d6588bb7f9",
   "metadata": {},
   "outputs": [],
   "source": [
    "ds_st_df = gdf[col_names].groupby(col_names[:-1]).describe().reset_index()"
   ]
  },
  {
   "cell_type": "code",
   "execution_count": 96,
   "id": "58af1cc8-30f3-4df3-9292-062d489ba15e",
   "metadata": {},
   "outputs": [
    {
     "data": {
      "text/html": [
       "<div>\n",
       "<style scoped>\n",
       "    .dataframe tbody tr th:only-of-type {\n",
       "        vertical-align: middle;\n",
       "    }\n",
       "\n",
       "    .dataframe tbody tr th {\n",
       "        vertical-align: top;\n",
       "    }\n",
       "\n",
       "    .dataframe thead tr th {\n",
       "        text-align: left;\n",
       "    }\n",
       "</style>\n",
       "<table border=\"1\" class=\"dataframe\">\n",
       "  <thead>\n",
       "    <tr>\n",
       "      <th></th>\n",
       "      <th>ord_street_type</th>\n",
       "      <th>street_status_desc</th>\n",
       "      <th colspan=\"8\" halign=\"left\">dist_miles</th>\n",
       "    </tr>\n",
       "    <tr>\n",
       "      <th></th>\n",
       "      <th></th>\n",
       "      <th></th>\n",
       "      <th>count</th>\n",
       "      <th>mean</th>\n",
       "      <th>std</th>\n",
       "      <th>min</th>\n",
       "      <th>25%</th>\n",
       "      <th>50%</th>\n",
       "      <th>75%</th>\n",
       "      <th>max</th>\n",
       "    </tr>\n",
       "  </thead>\n",
       "  <tbody>\n",
       "    <tr>\n",
       "      <th>0</th>\n",
       "      <td>AVE</td>\n",
       "      <td>added_street: cross-sector</td>\n",
       "      <td>193.0</td>\n",
       "      <td>2.902869</td>\n",
       "      <td>2.786502</td>\n",
       "      <td>0.007820</td>\n",
       "      <td>0.520193</td>\n",
       "      <td>1.504484</td>\n",
       "      <td>4.799009</td>\n",
       "      <td>11.127778</td>\n",
       "    </tr>\n",
       "    <tr>\n",
       "      <th>1</th>\n",
       "      <td>AVE</td>\n",
       "      <td>added_street: within-sector</td>\n",
       "      <td>1728.0</td>\n",
       "      <td>0.249929</td>\n",
       "      <td>0.402936</td>\n",
       "      <td>0.002857</td>\n",
       "      <td>0.030614</td>\n",
       "      <td>0.095037</td>\n",
       "      <td>0.269936</td>\n",
       "      <td>3.739595</td>\n",
       "    </tr>\n",
       "    <tr>\n",
       "      <th>2</th>\n",
       "      <td>AVE</td>\n",
       "      <td>continuous_street</td>\n",
       "      <td>906.0</td>\n",
       "      <td>0.080185</td>\n",
       "      <td>0.058779</td>\n",
       "      <td>0.003313</td>\n",
       "      <td>0.045066</td>\n",
       "      <td>0.067970</td>\n",
       "      <td>0.099905</td>\n",
       "      <td>0.639583</td>\n",
       "    </tr>\n",
       "    <tr>\n",
       "      <th>3</th>\n",
       "      <td>AVE</td>\n",
       "      <td>discontinuous_street</td>\n",
       "      <td>10531.0</td>\n",
       "      <td>0.081430</td>\n",
       "      <td>0.046233</td>\n",
       "      <td>0.001535</td>\n",
       "      <td>0.050360</td>\n",
       "      <td>0.069714</td>\n",
       "      <td>0.122449</td>\n",
       "      <td>0.633067</td>\n",
       "    </tr>\n",
       "    <tr>\n",
       "      <th>4</th>\n",
       "      <td>BLVD</td>\n",
       "      <td>added_street: cross-sector</td>\n",
       "      <td>1.0</td>\n",
       "      <td>0.046053</td>\n",
       "      <td>NaN</td>\n",
       "      <td>0.046053</td>\n",
       "      <td>0.046053</td>\n",
       "      <td>0.046053</td>\n",
       "      <td>0.046053</td>\n",
       "      <td>0.046053</td>\n",
       "    </tr>\n",
       "  </tbody>\n",
       "</table>\n",
       "</div>"
      ],
      "text/plain": [
       "  ord_street_type           street_status_desc dist_miles                      \\\n",
       "                                                    count      mean       std   \n",
       "0             AVE   added_street: cross-sector      193.0  2.902869  2.786502   \n",
       "1             AVE  added_street: within-sector     1728.0  0.249929  0.402936   \n",
       "2             AVE            continuous_street      906.0  0.080185  0.058779   \n",
       "3             AVE         discontinuous_street    10531.0  0.081430  0.046233   \n",
       "4            BLVD   added_street: cross-sector        1.0  0.046053       NaN   \n",
       "\n",
       "                                                      \n",
       "        min       25%       50%       75%        max  \n",
       "0  0.007820  0.520193  1.504484  4.799009  11.127778  \n",
       "1  0.002857  0.030614  0.095037  0.269936   3.739595  \n",
       "2  0.003313  0.045066  0.067970  0.099905   0.639583  \n",
       "3  0.001535  0.050360  0.069714  0.122449   0.633067  \n",
       "4  0.046053  0.046053  0.046053  0.046053   0.046053  "
      ]
     },
     "execution_count": 96,
     "metadata": {},
     "output_type": "execute_result"
    }
   ],
   "source": [
    "ds_st_df.head()"
   ]
  },
  {
   "cell_type": "code",
   "execution_count": 97,
   "id": "7d8f27a6-287d-4691-b62c-89e80392accd",
   "metadata": {},
   "outputs": [],
   "source": [
    "ds_st_df.columns =  [''.join(cn).replace('dist_miles', '') for cn in ds_st_df.columns]"
   ]
  },
  {
   "cell_type": "code",
   "execution_count": 98,
   "id": "c347a8d3-bd9f-4088-b974-b587cc13cf05",
   "metadata": {},
   "outputs": [
    {
     "data": {
      "text/html": [
       "<div>\n",
       "<style scoped>\n",
       "    .dataframe tbody tr th:only-of-type {\n",
       "        vertical-align: middle;\n",
       "    }\n",
       "\n",
       "    .dataframe tbody tr th {\n",
       "        vertical-align: top;\n",
       "    }\n",
       "\n",
       "    .dataframe thead th {\n",
       "        text-align: right;\n",
       "    }\n",
       "</style>\n",
       "<table border=\"1\" class=\"dataframe\">\n",
       "  <thead>\n",
       "    <tr style=\"text-align: right;\">\n",
       "      <th></th>\n",
       "      <th>ord_street_type</th>\n",
       "      <th>street_status_desc</th>\n",
       "      <th>count</th>\n",
       "      <th>mean</th>\n",
       "      <th>std</th>\n",
       "      <th>min</th>\n",
       "      <th>25%</th>\n",
       "      <th>50%</th>\n",
       "      <th>75%</th>\n",
       "      <th>max</th>\n",
       "    </tr>\n",
       "  </thead>\n",
       "  <tbody>\n",
       "    <tr>\n",
       "      <th>0</th>\n",
       "      <td>AVE</td>\n",
       "      <td>added_street: cross-sector</td>\n",
       "      <td>193.0</td>\n",
       "      <td>2.902869</td>\n",
       "      <td>2.786502</td>\n",
       "      <td>0.007820</td>\n",
       "      <td>0.520193</td>\n",
       "      <td>1.504484</td>\n",
       "      <td>4.799009</td>\n",
       "      <td>11.127778</td>\n",
       "    </tr>\n",
       "    <tr>\n",
       "      <th>1</th>\n",
       "      <td>AVE</td>\n",
       "      <td>added_street: within-sector</td>\n",
       "      <td>1728.0</td>\n",
       "      <td>0.249929</td>\n",
       "      <td>0.402936</td>\n",
       "      <td>0.002857</td>\n",
       "      <td>0.030614</td>\n",
       "      <td>0.095037</td>\n",
       "      <td>0.269936</td>\n",
       "      <td>3.739595</td>\n",
       "    </tr>\n",
       "    <tr>\n",
       "      <th>2</th>\n",
       "      <td>AVE</td>\n",
       "      <td>continuous_street</td>\n",
       "      <td>906.0</td>\n",
       "      <td>0.080185</td>\n",
       "      <td>0.058779</td>\n",
       "      <td>0.003313</td>\n",
       "      <td>0.045066</td>\n",
       "      <td>0.067970</td>\n",
       "      <td>0.099905</td>\n",
       "      <td>0.639583</td>\n",
       "    </tr>\n",
       "    <tr>\n",
       "      <th>3</th>\n",
       "      <td>AVE</td>\n",
       "      <td>discontinuous_street</td>\n",
       "      <td>10531.0</td>\n",
       "      <td>0.081430</td>\n",
       "      <td>0.046233</td>\n",
       "      <td>0.001535</td>\n",
       "      <td>0.050360</td>\n",
       "      <td>0.069714</td>\n",
       "      <td>0.122449</td>\n",
       "      <td>0.633067</td>\n",
       "    </tr>\n",
       "    <tr>\n",
       "      <th>4</th>\n",
       "      <td>BLVD</td>\n",
       "      <td>added_street: cross-sector</td>\n",
       "      <td>1.0</td>\n",
       "      <td>0.046053</td>\n",
       "      <td>NaN</td>\n",
       "      <td>0.046053</td>\n",
       "      <td>0.046053</td>\n",
       "      <td>0.046053</td>\n",
       "      <td>0.046053</td>\n",
       "      <td>0.046053</td>\n",
       "    </tr>\n",
       "  </tbody>\n",
       "</table>\n",
       "</div>"
      ],
      "text/plain": [
       "  ord_street_type           street_status_desc    count      mean       std  \\\n",
       "0             AVE   added_street: cross-sector    193.0  2.902869  2.786502   \n",
       "1             AVE  added_street: within-sector   1728.0  0.249929  0.402936   \n",
       "2             AVE            continuous_street    906.0  0.080185  0.058779   \n",
       "3             AVE         discontinuous_street  10531.0  0.081430  0.046233   \n",
       "4            BLVD   added_street: cross-sector      1.0  0.046053       NaN   \n",
       "\n",
       "        min       25%       50%       75%        max  \n",
       "0  0.007820  0.520193  1.504484  4.799009  11.127778  \n",
       "1  0.002857  0.030614  0.095037  0.269936   3.739595  \n",
       "2  0.003313  0.045066  0.067970  0.099905   0.639583  \n",
       "3  0.001535  0.050360  0.069714  0.122449   0.633067  \n",
       "4  0.046053  0.046053  0.046053  0.046053   0.046053  "
      ]
     },
     "execution_count": 98,
     "metadata": {},
     "output_type": "execute_result"
    }
   ],
   "source": [
    "ds_st_df.head()"
   ]
  },
  {
   "cell_type": "code",
   "execution_count": 99,
   "id": "b040c362-b1dd-4432-9d1c-2d8760856454",
   "metadata": {},
   "outputs": [],
   "source": [
    "temp_ds_st_df = ds_st_df.loc[ds_st_df['street_status_desc'] == 'added_street', :].copy()"
   ]
  },
  {
   "cell_type": "code",
   "execution_count": 100,
   "id": "7a6a7ffe-5561-42ee-a96f-1bbcbce84212",
   "metadata": {},
   "outputs": [],
   "source": [
    "temp_ds_st_df = temp_ds_st_df.drop(labels = 'std', axis = 1)"
   ]
  },
  {
   "cell_type": "code",
   "execution_count": 101,
   "id": "1e8f7bee-c334-434d-aa6f-22927d30604b",
   "metadata": {},
   "outputs": [],
   "source": [
    "temp_ds_st_df = temp_ds_st_df.sort_values(by = ['count'], ascending = False)"
   ]
  },
  {
   "cell_type": "code",
   "execution_count": 102,
   "id": "336dc410",
   "metadata": {},
   "outputs": [],
   "source": [
    "temp_ds_st_df.to_excel(excel_writer=e_writer, sheet_name = 'added_street_count', index = False)"
   ]
  },
  {
   "cell_type": "code",
   "execution_count": 103,
   "id": "489a1eaa-5ddb-4d7a-894d-cb9cc67b7158",
   "metadata": {},
   "outputs": [
    {
     "data": {
      "text/html": [
       "<div>\n",
       "<style scoped>\n",
       "    .dataframe tbody tr th:only-of-type {\n",
       "        vertical-align: middle;\n",
       "    }\n",
       "\n",
       "    .dataframe tbody tr th {\n",
       "        vertical-align: top;\n",
       "    }\n",
       "\n",
       "    .dataframe thead th {\n",
       "        text-align: right;\n",
       "    }\n",
       "</style>\n",
       "<table border=\"1\" class=\"dataframe\">\n",
       "  <thead>\n",
       "    <tr style=\"text-align: right;\">\n",
       "      <th></th>\n",
       "      <th>ord_street_type</th>\n",
       "      <th>street_status_desc</th>\n",
       "      <th>total_miles</th>\n",
       "    </tr>\n",
       "  </thead>\n",
       "  <tbody>\n",
       "    <tr>\n",
       "      <th>0</th>\n",
       "      <td>AVE</td>\n",
       "      <td>added_street: cross-sector</td>\n",
       "      <td>560.253713</td>\n",
       "    </tr>\n",
       "    <tr>\n",
       "      <th>1</th>\n",
       "      <td>BLVD</td>\n",
       "      <td>added_street: cross-sector</td>\n",
       "      <td>0.046053</td>\n",
       "    </tr>\n",
       "    <tr>\n",
       "      <th>2</th>\n",
       "      <td>BR</td>\n",
       "      <td>added_street: cross-sector</td>\n",
       "      <td>0.000000</td>\n",
       "    </tr>\n",
       "    <tr>\n",
       "      <th>3</th>\n",
       "      <td>CIR</td>\n",
       "      <td>added_street: cross-sector</td>\n",
       "      <td>0.000000</td>\n",
       "    </tr>\n",
       "    <tr>\n",
       "      <th>4</th>\n",
       "      <td>CT</td>\n",
       "      <td>added_street: cross-sector</td>\n",
       "      <td>3.848201</td>\n",
       "    </tr>\n",
       "  </tbody>\n",
       "</table>\n",
       "</div>"
      ],
      "text/plain": [
       "  ord_street_type          street_status_desc  total_miles\n",
       "0             AVE  added_street: cross-sector   560.253713\n",
       "1            BLVD  added_street: cross-sector     0.046053\n",
       "2              BR  added_street: cross-sector     0.000000\n",
       "3             CIR  added_street: cross-sector     0.000000\n",
       "4              CT  added_street: cross-sector     3.848201"
      ]
     },
     "execution_count": 103,
     "metadata": {},
     "output_type": "execute_result"
    }
   ],
   "source": [
    "st_type_df_melt.head()"
   ]
  },
  {
   "cell_type": "code",
   "execution_count": 104,
   "id": "b619198d",
   "metadata": {},
   "outputs": [
    {
     "data": {
      "text/html": [
       "<div>\n",
       "<style scoped>\n",
       "    .dataframe tbody tr th:only-of-type {\n",
       "        vertical-align: middle;\n",
       "    }\n",
       "\n",
       "    .dataframe tbody tr th {\n",
       "        vertical-align: top;\n",
       "    }\n",
       "\n",
       "    .dataframe thead th {\n",
       "        text-align: right;\n",
       "    }\n",
       "</style>\n",
       "<table border=\"1\" class=\"dataframe\">\n",
       "  <thead>\n",
       "    <tr style=\"text-align: right;\">\n",
       "      <th></th>\n",
       "      <th>ord_street_type</th>\n",
       "      <th>street_status_desc</th>\n",
       "      <th>count</th>\n",
       "      <th>mean</th>\n",
       "      <th>std</th>\n",
       "      <th>min</th>\n",
       "      <th>25%</th>\n",
       "      <th>50%</th>\n",
       "      <th>75%</th>\n",
       "      <th>max</th>\n",
       "    </tr>\n",
       "  </thead>\n",
       "  <tbody>\n",
       "    <tr>\n",
       "      <th>0</th>\n",
       "      <td>AVE</td>\n",
       "      <td>added_street: cross-sector</td>\n",
       "      <td>193.0</td>\n",
       "      <td>2.902869</td>\n",
       "      <td>2.786502</td>\n",
       "      <td>0.007820</td>\n",
       "      <td>0.520193</td>\n",
       "      <td>1.504484</td>\n",
       "      <td>4.799009</td>\n",
       "      <td>11.127778</td>\n",
       "    </tr>\n",
       "    <tr>\n",
       "      <th>1</th>\n",
       "      <td>AVE</td>\n",
       "      <td>added_street: within-sector</td>\n",
       "      <td>1728.0</td>\n",
       "      <td>0.249929</td>\n",
       "      <td>0.402936</td>\n",
       "      <td>0.002857</td>\n",
       "      <td>0.030614</td>\n",
       "      <td>0.095037</td>\n",
       "      <td>0.269936</td>\n",
       "      <td>3.739595</td>\n",
       "    </tr>\n",
       "    <tr>\n",
       "      <th>2</th>\n",
       "      <td>AVE</td>\n",
       "      <td>continuous_street</td>\n",
       "      <td>906.0</td>\n",
       "      <td>0.080185</td>\n",
       "      <td>0.058779</td>\n",
       "      <td>0.003313</td>\n",
       "      <td>0.045066</td>\n",
       "      <td>0.067970</td>\n",
       "      <td>0.099905</td>\n",
       "      <td>0.639583</td>\n",
       "    </tr>\n",
       "    <tr>\n",
       "      <th>3</th>\n",
       "      <td>AVE</td>\n",
       "      <td>discontinuous_street</td>\n",
       "      <td>10531.0</td>\n",
       "      <td>0.081430</td>\n",
       "      <td>0.046233</td>\n",
       "      <td>0.001535</td>\n",
       "      <td>0.050360</td>\n",
       "      <td>0.069714</td>\n",
       "      <td>0.122449</td>\n",
       "      <td>0.633067</td>\n",
       "    </tr>\n",
       "    <tr>\n",
       "      <th>4</th>\n",
       "      <td>BLVD</td>\n",
       "      <td>added_street: cross-sector</td>\n",
       "      <td>1.0</td>\n",
       "      <td>0.046053</td>\n",
       "      <td>NaN</td>\n",
       "      <td>0.046053</td>\n",
       "      <td>0.046053</td>\n",
       "      <td>0.046053</td>\n",
       "      <td>0.046053</td>\n",
       "      <td>0.046053</td>\n",
       "    </tr>\n",
       "  </tbody>\n",
       "</table>\n",
       "</div>"
      ],
      "text/plain": [
       "  ord_street_type           street_status_desc    count      mean       std  \\\n",
       "0             AVE   added_street: cross-sector    193.0  2.902869  2.786502   \n",
       "1             AVE  added_street: within-sector   1728.0  0.249929  0.402936   \n",
       "2             AVE            continuous_street    906.0  0.080185  0.058779   \n",
       "3             AVE         discontinuous_street  10531.0  0.081430  0.046233   \n",
       "4            BLVD   added_street: cross-sector      1.0  0.046053       NaN   \n",
       "\n",
       "        min       25%       50%       75%        max  \n",
       "0  0.007820  0.520193  1.504484  4.799009  11.127778  \n",
       "1  0.002857  0.030614  0.095037  0.269936   3.739595  \n",
       "2  0.003313  0.045066  0.067970  0.099905   0.639583  \n",
       "3  0.001535  0.050360  0.069714  0.122449   0.633067  \n",
       "4  0.046053  0.046053  0.046053  0.046053   0.046053  "
      ]
     },
     "execution_count": 104,
     "metadata": {},
     "output_type": "execute_result"
    }
   ],
   "source": [
    "ds_st_df.head()"
   ]
  },
  {
   "cell_type": "code",
   "execution_count": 105,
   "id": "0ca83554-691c-4ca0-bfa1-018bf313b3de",
   "metadata": {},
   "outputs": [],
   "source": [
    "# join to get total miles and summary statistics\n",
    "ds_st_df = pd.merge(left = st_type_df_melt, right = ds_st_df, how = 'left')"
   ]
  },
  {
   "cell_type": "code",
   "execution_count": 106,
   "id": "cb00d37e-e37f-42bd-953d-ae5ee3cb379b",
   "metadata": {},
   "outputs": [
    {
     "data": {
      "text/html": [
       "<div>\n",
       "<style scoped>\n",
       "    .dataframe tbody tr th:only-of-type {\n",
       "        vertical-align: middle;\n",
       "    }\n",
       "\n",
       "    .dataframe tbody tr th {\n",
       "        vertical-align: top;\n",
       "    }\n",
       "\n",
       "    .dataframe thead th {\n",
       "        text-align: right;\n",
       "    }\n",
       "</style>\n",
       "<table border=\"1\" class=\"dataframe\">\n",
       "  <thead>\n",
       "    <tr style=\"text-align: right;\">\n",
       "      <th></th>\n",
       "      <th>ord_street_type</th>\n",
       "      <th>street_status_desc</th>\n",
       "      <th>total_miles</th>\n",
       "      <th>count</th>\n",
       "      <th>mean</th>\n",
       "      <th>std</th>\n",
       "      <th>min</th>\n",
       "      <th>25%</th>\n",
       "      <th>50%</th>\n",
       "      <th>75%</th>\n",
       "      <th>max</th>\n",
       "    </tr>\n",
       "  </thead>\n",
       "  <tbody>\n",
       "    <tr>\n",
       "      <th>0</th>\n",
       "      <td>AVE</td>\n",
       "      <td>added_street: cross-sector</td>\n",
       "      <td>560.253713</td>\n",
       "      <td>193.0</td>\n",
       "      <td>2.902869</td>\n",
       "      <td>2.786502</td>\n",
       "      <td>0.007820</td>\n",
       "      <td>0.520193</td>\n",
       "      <td>1.504484</td>\n",
       "      <td>4.799009</td>\n",
       "      <td>11.127778</td>\n",
       "    </tr>\n",
       "    <tr>\n",
       "      <th>1</th>\n",
       "      <td>BLVD</td>\n",
       "      <td>added_street: cross-sector</td>\n",
       "      <td>0.046053</td>\n",
       "      <td>1.0</td>\n",
       "      <td>0.046053</td>\n",
       "      <td>NaN</td>\n",
       "      <td>0.046053</td>\n",
       "      <td>0.046053</td>\n",
       "      <td>0.046053</td>\n",
       "      <td>0.046053</td>\n",
       "      <td>0.046053</td>\n",
       "    </tr>\n",
       "    <tr>\n",
       "      <th>2</th>\n",
       "      <td>BR</td>\n",
       "      <td>added_street: cross-sector</td>\n",
       "      <td>0.000000</td>\n",
       "      <td>NaN</td>\n",
       "      <td>NaN</td>\n",
       "      <td>NaN</td>\n",
       "      <td>NaN</td>\n",
       "      <td>NaN</td>\n",
       "      <td>NaN</td>\n",
       "      <td>NaN</td>\n",
       "      <td>NaN</td>\n",
       "    </tr>\n",
       "    <tr>\n",
       "      <th>3</th>\n",
       "      <td>CIR</td>\n",
       "      <td>added_street: cross-sector</td>\n",
       "      <td>0.000000</td>\n",
       "      <td>NaN</td>\n",
       "      <td>NaN</td>\n",
       "      <td>NaN</td>\n",
       "      <td>NaN</td>\n",
       "      <td>NaN</td>\n",
       "      <td>NaN</td>\n",
       "      <td>NaN</td>\n",
       "      <td>NaN</td>\n",
       "    </tr>\n",
       "    <tr>\n",
       "      <th>4</th>\n",
       "      <td>CT</td>\n",
       "      <td>added_street: cross-sector</td>\n",
       "      <td>3.848201</td>\n",
       "      <td>1.0</td>\n",
       "      <td>3.848201</td>\n",
       "      <td>NaN</td>\n",
       "      <td>3.848201</td>\n",
       "      <td>3.848201</td>\n",
       "      <td>3.848201</td>\n",
       "      <td>3.848201</td>\n",
       "      <td>3.848201</td>\n",
       "    </tr>\n",
       "  </tbody>\n",
       "</table>\n",
       "</div>"
      ],
      "text/plain": [
       "  ord_street_type          street_status_desc  total_miles  count      mean  \\\n",
       "0             AVE  added_street: cross-sector   560.253713  193.0  2.902869   \n",
       "1            BLVD  added_street: cross-sector     0.046053    1.0  0.046053   \n",
       "2              BR  added_street: cross-sector     0.000000    NaN       NaN   \n",
       "3             CIR  added_street: cross-sector     0.000000    NaN       NaN   \n",
       "4              CT  added_street: cross-sector     3.848201    1.0  3.848201   \n",
       "\n",
       "        std       min       25%       50%       75%        max  \n",
       "0  2.786502  0.007820  0.520193  1.504484  4.799009  11.127778  \n",
       "1       NaN  0.046053  0.046053  0.046053  0.046053   0.046053  \n",
       "2       NaN       NaN       NaN       NaN       NaN        NaN  \n",
       "3       NaN       NaN       NaN       NaN       NaN        NaN  \n",
       "4       NaN  3.848201  3.848201  3.848201  3.848201   3.848201  "
      ]
     },
     "execution_count": 106,
     "metadata": {},
     "output_type": "execute_result"
    }
   ],
   "source": [
    "ds_st_df.head()"
   ]
  },
  {
   "cell_type": "code",
   "execution_count": 107,
   "id": "ad359c4d-6bda-443a-b944-3c3a6d0f7f79",
   "metadata": {},
   "outputs": [
    {
     "data": {
      "text/plain": [
       "Index(['ord_street_type', 'street_status_desc', 'total_miles', 'count', 'mean',\n",
       "       'std', 'min', '25%', '50%', '75%', 'max'],\n",
       "      dtype='object')"
      ]
     },
     "execution_count": 107,
     "metadata": {},
     "output_type": "execute_result"
    }
   ],
   "source": [
    "ds_st_df.columns"
   ]
  },
  {
   "cell_type": "code",
   "execution_count": 108,
   "id": "f9bd13d2-e5b2-4c08-be56-763e9adfa1ce",
   "metadata": {},
   "outputs": [],
   "source": [
    "for cn in ds_st_df.columns:\n",
    "    if ds_st_df[cn].dtype == 'float64':\n",
    "        ds_st_df[cn] = ds_st_df[cn].fillna(0)"
   ]
  },
  {
   "cell_type": "code",
   "execution_count": 109,
   "id": "340a2e24-a4b5-4b64-95e9-9802256d211e",
   "metadata": {},
   "outputs": [],
   "source": [
    "ds_st_df = ds_st_df.sort_values(by = ['ord_street_type', 'street_status_desc'])"
   ]
  },
  {
   "cell_type": "code",
   "execution_count": 110,
   "id": "e2405bb7-df4d-4cbc-87d7-5336de7fcd71",
   "metadata": {},
   "outputs": [],
   "source": [
    "ds_st_df['street_status_desc'] = ds_st_df['street_status_desc'].str.replace('_street', '')"
   ]
  },
  {
   "cell_type": "code",
   "execution_count": 111,
   "id": "f656f484-086d-4ce6-8813-292cce915d4f",
   "metadata": {},
   "outputs": [],
   "source": [
    "# set index"
   ]
  },
  {
   "cell_type": "code",
   "execution_count": 112,
   "id": "974ccfba-d8f4-41fb-94ac-05501da7cc0b",
   "metadata": {},
   "outputs": [],
   "source": [
    "ds_st_df = ds_st_df.set_index(keys = ['ord_street_type', 'street_status_desc'])"
   ]
  },
  {
   "cell_type": "code",
   "execution_count": 113,
   "id": "8fab26f7-0320-46ec-ae66-1a91fc89015c",
   "metadata": {},
   "outputs": [],
   "source": [
    "# reorder columns\n",
    "col_names = ['count', 'min', '25%', '50%', 'mean', '75%', 'max', 'total_miles']\n",
    "ds_st_df = ds_st_df[col_names]"
   ]
  },
  {
   "cell_type": "code",
   "execution_count": 114,
   "id": "ab160db0-766d-4909-9f5b-1154b766e8f1",
   "metadata": {},
   "outputs": [],
   "source": [
    "ds_st_df.to_excel(excel_writer=e_writer, sheet_name = 'sum_stats', index = True)\n",
    "                  "
   ]
  },
  {
   "cell_type": "code",
   "execution_count": 115,
   "id": "822cd67d-bcd1-4509-a442-cbd8911808a6",
   "metadata": {},
   "outputs": [],
   "source": [
    "e_writer.close()"
   ]
  },
  {
   "cell_type": "code",
   "execution_count": 116,
   "id": "de911359",
   "metadata": {},
   "outputs": [
    {
     "data": {
      "text/html": [
       "<div>\n",
       "<style scoped>\n",
       "    .dataframe tbody tr th:only-of-type {\n",
       "        vertical-align: middle;\n",
       "    }\n",
       "\n",
       "    .dataframe tbody tr th {\n",
       "        vertical-align: top;\n",
       "    }\n",
       "\n",
       "    .dataframe thead th {\n",
       "        text-align: right;\n",
       "    }\n",
       "</style>\n",
       "<table border=\"1\" class=\"dataframe\">\n",
       "  <thead>\n",
       "    <tr style=\"text-align: right;\">\n",
       "      <th></th>\n",
       "      <th></th>\n",
       "      <th>count</th>\n",
       "      <th>min</th>\n",
       "      <th>25%</th>\n",
       "      <th>50%</th>\n",
       "      <th>mean</th>\n",
       "      <th>75%</th>\n",
       "      <th>max</th>\n",
       "      <th>total_miles</th>\n",
       "    </tr>\n",
       "    <tr>\n",
       "      <th>ord_street_type</th>\n",
       "      <th>street_status_desc</th>\n",
       "      <th></th>\n",
       "      <th></th>\n",
       "      <th></th>\n",
       "      <th></th>\n",
       "      <th></th>\n",
       "      <th></th>\n",
       "      <th></th>\n",
       "      <th></th>\n",
       "    </tr>\n",
       "  </thead>\n",
       "  <tbody>\n",
       "    <tr>\n",
       "      <th rowspan=\"4\" valign=\"top\">AVE</th>\n",
       "      <th>added: cross-sector</th>\n",
       "      <td>193.0</td>\n",
       "      <td>0.007820</td>\n",
       "      <td>0.520193</td>\n",
       "      <td>1.504484</td>\n",
       "      <td>2.902869</td>\n",
       "      <td>4.799009</td>\n",
       "      <td>11.127778</td>\n",
       "      <td>560.253713</td>\n",
       "    </tr>\n",
       "    <tr>\n",
       "      <th>added: within-sector</th>\n",
       "      <td>1728.0</td>\n",
       "      <td>0.002857</td>\n",
       "      <td>0.030614</td>\n",
       "      <td>0.095037</td>\n",
       "      <td>0.249929</td>\n",
       "      <td>0.269936</td>\n",
       "      <td>3.739595</td>\n",
       "      <td>431.877647</td>\n",
       "    </tr>\n",
       "    <tr>\n",
       "      <th>continuous</th>\n",
       "      <td>906.0</td>\n",
       "      <td>0.003313</td>\n",
       "      <td>0.045066</td>\n",
       "      <td>0.067970</td>\n",
       "      <td>0.080185</td>\n",
       "      <td>0.099905</td>\n",
       "      <td>0.639583</td>\n",
       "      <td>72.647575</td>\n",
       "    </tr>\n",
       "    <tr>\n",
       "      <th>discontinuous</th>\n",
       "      <td>10531.0</td>\n",
       "      <td>0.001535</td>\n",
       "      <td>0.050360</td>\n",
       "      <td>0.069714</td>\n",
       "      <td>0.081430</td>\n",
       "      <td>0.122449</td>\n",
       "      <td>0.633067</td>\n",
       "      <td>857.534570</td>\n",
       "    </tr>\n",
       "    <tr>\n",
       "      <th>BLVD</th>\n",
       "      <th>added: cross-sector</th>\n",
       "      <td>1.0</td>\n",
       "      <td>0.046053</td>\n",
       "      <td>0.046053</td>\n",
       "      <td>0.046053</td>\n",
       "      <td>0.046053</td>\n",
       "      <td>0.046053</td>\n",
       "      <td>0.046053</td>\n",
       "      <td>0.046053</td>\n",
       "    </tr>\n",
       "  </tbody>\n",
       "</table>\n",
       "</div>"
      ],
      "text/plain": [
       "                                        count       min       25%       50%  \\\n",
       "ord_street_type street_status_desc                                            \n",
       "AVE             added: cross-sector     193.0  0.007820  0.520193  1.504484   \n",
       "                added: within-sector   1728.0  0.002857  0.030614  0.095037   \n",
       "                continuous              906.0  0.003313  0.045066  0.067970   \n",
       "                discontinuous         10531.0  0.001535  0.050360  0.069714   \n",
       "BLVD            added: cross-sector       1.0  0.046053  0.046053  0.046053   \n",
       "\n",
       "                                          mean       75%        max  \\\n",
       "ord_street_type street_status_desc                                    \n",
       "AVE             added: cross-sector   2.902869  4.799009  11.127778   \n",
       "                added: within-sector  0.249929  0.269936   3.739595   \n",
       "                continuous            0.080185  0.099905   0.639583   \n",
       "                discontinuous         0.081430  0.122449   0.633067   \n",
       "BLVD            added: cross-sector   0.046053  0.046053   0.046053   \n",
       "\n",
       "                                      total_miles  \n",
       "ord_street_type street_status_desc                 \n",
       "AVE             added: cross-sector    560.253713  \n",
       "                added: within-sector   431.877647  \n",
       "                continuous              72.647575  \n",
       "                discontinuous          857.534570  \n",
       "BLVD            added: cross-sector      0.046053  "
      ]
     },
     "execution_count": 116,
     "metadata": {},
     "output_type": "execute_result"
    }
   ],
   "source": [
    "ds_st_df.head()"
   ]
  },
  {
   "cell_type": "markdown",
   "id": "39645fe5-d0ea-4848-a79a-19603648b951",
   "metadata": {},
   "source": [
    "# 10 longest added streets by cross-sector and within-sector"
   ]
  },
  {
   "cell_type": "code",
   "execution_count": 117,
   "id": "245b03b4-37a9-45f8-8c73-ed815e7eb6c7",
   "metadata": {},
   "outputs": [],
   "source": [
    "wms_gdf = gdf.loc[gdf['street_status'].isin([2,3]), :].copy()"
   ]
  },
  {
   "cell_type": "code",
   "execution_count": 118,
   "id": "08f13bc4-7ef7-42a4-8631-c74923c43b7b",
   "metadata": {},
   "outputs": [],
   "source": [
    "wms_gdf['dist_rank'] = wms_gdf.groupby('street_status')['dist'].rank(method = 'dense', ascending = False)"
   ]
  },
  {
   "cell_type": "code",
   "execution_count": 119,
   "id": "318bb352-980b-4633-9223-c96ee4cd0bfe",
   "metadata": {},
   "outputs": [
    {
     "data": {
      "text/plain": [
       "['S 105TH ST',\n",
       " 'S 106TH ST',\n",
       " 'S 112TH ST',\n",
       " 'S 116TH ST',\n",
       " '11TH AVE S',\n",
       " '12TH AVE SW',\n",
       " '33RD AVE SW',\n",
       " '51ST AVE SW',\n",
       " '7TH PL S',\n",
       " '9TH AVE S']"
      ]
     },
     "execution_count": 119,
     "metadata": {},
     "output_type": "execute_result"
    }
   ],
   "source": [
    "wms_gdf.loc[(wms_gdf['dist_rank'] <= 10) &\n",
    "            (wms_gdf['street_status'] == 2), 'ord_stname_unique'].tolist()"
   ]
  },
  {
   "cell_type": "markdown",
   "id": "4df5e632",
   "metadata": {},
   "source": [
    "# histogram of all added streets"
   ]
  },
  {
   "cell_type": "code",
   "execution_count": 120,
   "id": "77d75dd2-492d-4dbe-ac73-7d0b2c67bc73",
   "metadata": {},
   "outputs": [],
   "source": [
    "# log transform the distance in miles to prep for plotting\n",
    "wms_gdf['dist_miles_log'] = np.log10(wms_gdf['dist_miles'])"
   ]
  },
  {
   "cell_type": "code",
   "execution_count": 121,
   "id": "2bdf45d3-a2b4-4fd3-a9a9-1f2f6464f58b",
   "metadata": {},
   "outputs": [
    {
     "data": {
      "text/plain": [
       "count    4027.000000\n",
       "mean       -0.925085\n",
       "std         0.661113\n",
       "min        -3.128428\n",
       "25%        -1.451861\n",
       "50%        -0.984131\n",
       "75%        -0.462482\n",
       "max         1.046408\n",
       "Name: dist_miles_log, dtype: float64"
      ]
     },
     "execution_count": 121,
     "metadata": {},
     "output_type": "execute_result"
    }
   ],
   "source": [
    "wms_gdf['dist_miles_log'].describe()"
   ]
  },
  {
   "cell_type": "code",
   "execution_count": 122,
   "id": "7c525a73-5a19-4c34-8e3f-20d0c235d79c",
   "metadata": {},
   "outputs": [],
   "source": [
    "# compute summary stats and create a dataframe\n",
    "# the ds_df will hold values of interest to plot and plotting keywords for \n",
    "# those values\n",
    "ds_df_list = []\n",
    "for ss in [2,3]:\n",
    "    ds_df = wms_gdf.loc[wms_gdf['street_status'] == ss, 'dist_miles'].describe().to_frame().reset_index(names = ['stat'])\n",
    "    ds_df['street_status'] = ss\n",
    "    ds_df_list.append(ds_df)\n",
    "ds_df = pd.concat(ds_df_list)"
   ]
  },
  {
   "cell_type": "code",
   "execution_count": 123,
   "id": "98e1aaad",
   "metadata": {},
   "outputs": [
    {
     "data": {
      "text/html": [
       "<div>\n",
       "<style scoped>\n",
       "    .dataframe tbody tr th:only-of-type {\n",
       "        vertical-align: middle;\n",
       "    }\n",
       "\n",
       "    .dataframe tbody tr th {\n",
       "        vertical-align: top;\n",
       "    }\n",
       "\n",
       "    .dataframe thead th {\n",
       "        text-align: right;\n",
       "    }\n",
       "</style>\n",
       "<table border=\"1\" class=\"dataframe\">\n",
       "  <thead>\n",
       "    <tr style=\"text-align: right;\">\n",
       "      <th></th>\n",
       "      <th>stat</th>\n",
       "      <th>dist_miles</th>\n",
       "      <th>street_status</th>\n",
       "    </tr>\n",
       "  </thead>\n",
       "  <tbody>\n",
       "    <tr>\n",
       "      <th>3</th>\n",
       "      <td>min</td>\n",
       "      <td>0.007820</td>\n",
       "      <td>3</td>\n",
       "    </tr>\n",
       "    <tr>\n",
       "      <th>4</th>\n",
       "      <td>25%</td>\n",
       "      <td>0.465272</td>\n",
       "      <td>3</td>\n",
       "    </tr>\n",
       "    <tr>\n",
       "      <th>5</th>\n",
       "      <td>50%</td>\n",
       "      <td>1.086217</td>\n",
       "      <td>3</td>\n",
       "    </tr>\n",
       "    <tr>\n",
       "      <th>6</th>\n",
       "      <td>75%</td>\n",
       "      <td>2.666548</td>\n",
       "      <td>3</td>\n",
       "    </tr>\n",
       "    <tr>\n",
       "      <th>7</th>\n",
       "      <td>max</td>\n",
       "      <td>11.127778</td>\n",
       "      <td>3</td>\n",
       "    </tr>\n",
       "  </tbody>\n",
       "</table>\n",
       "</div>"
      ],
      "text/plain": [
       "  stat  dist_miles  street_status\n",
       "3  min    0.007820              3\n",
       "4  25%    0.465272              3\n",
       "5  50%    1.086217              3\n",
       "6  75%    2.666548              3\n",
       "7  max   11.127778              3"
      ]
     },
     "execution_count": 123,
     "metadata": {},
     "output_type": "execute_result"
    }
   ],
   "source": [
    "ds_df.tail()"
   ]
  },
  {
   "cell_type": "code",
   "execution_count": 124,
   "id": "5e32f197-6d19-4d61-8dd4-eff65476ec40",
   "metadata": {},
   "outputs": [],
   "source": [
    "# remove the count and the standard deviation - not useful for plotting\n",
    "ds_df = ds_df.loc[-ds_df['stat'].isin(['count', 'std']), :]"
   ]
  },
  {
   "cell_type": "code",
   "execution_count": 125,
   "id": "5f43b2a3-11a8-4670-8b5f-580c432ba6de",
   "metadata": {},
   "outputs": [],
   "source": [
    "# add the 10th, 95th, and 99th precentiles\n",
    "temp_stat_df_list = []\n",
    "for ss in [2,3]:\n",
    "    temp_values = wms_gdf.loc[wms_gdf['street_status'] == ss, 'dist_miles'].to_numpy()\n",
    "    temp_stat_records = [\n",
    "        ['10%', np.quantile(a = temp_values, q = 0.10), ss],\n",
    "        ['95%', np.quantile(a = temp_values, q = 0.95), ss],\n",
    "        ['99%', np.quantile(a = temp_values, q = 0.99), ss]\n",
    "    ]\n",
    "    temp_stat_df = pd.DataFrame(data = temp_stat_records, columns = ds_df.columns)\n",
    "    temp_stat_df_list.append(temp_stat_df)\n",
    "\n",
    "temp_stat_df = pd.concat(temp_stat_df_list)\n",
    "\n"
   ]
  },
  {
   "cell_type": "code",
   "execution_count": 126,
   "id": "1131eacf-69d0-466c-be56-3e56afdb5369",
   "metadata": {},
   "outputs": [],
   "source": [
    "# combine\n",
    "ds_df = pd.concat(objs = [ds_df, temp_stat_df], axis = 0)"
   ]
  },
  {
   "cell_type": "code",
   "execution_count": 127,
   "id": "91de3404-7cce-4987-8d60-c082cbad6692",
   "metadata": {},
   "outputs": [],
   "source": [
    "ds_df = ds_df.sort_values(by = ['street_status', 'dist_miles'])"
   ]
  },
  {
   "cell_type": "code",
   "execution_count": 128,
   "id": "d0d5f3dd-3e10-4f84-bf92-21c7f738371e",
   "metadata": {},
   "outputs": [],
   "source": [
    "ds_df['dist_miles_log'] = ds_df['dist_miles'].map(lambda x: np.log10(x))"
   ]
  },
  {
   "cell_type": "code",
   "execution_count": 129,
   "id": "965a66b7-46f5-445f-b84a-773ef91f7e7e",
   "metadata": {},
   "outputs": [],
   "source": [
    "# the color of the lines to add\n",
    "ds_df['color_list'] = 'black'"
   ]
  },
  {
   "cell_type": "code",
   "execution_count": 130,
   "id": "8aae0a65-898a-46d4-8338-1b84993e19a1",
   "metadata": {},
   "outputs": [],
   "source": [
    "# convert to feet to help with labeling\n",
    "ds_df['dist_feet'] = ds_df['dist_miles'] * 5280"
   ]
  },
  {
   "cell_type": "code",
   "execution_count": 131,
   "id": "957abd84",
   "metadata": {},
   "outputs": [
    {
     "data": {
      "text/html": [
       "<div>\n",
       "<style scoped>\n",
       "    .dataframe tbody tr th:only-of-type {\n",
       "        vertical-align: middle;\n",
       "    }\n",
       "\n",
       "    .dataframe tbody tr th {\n",
       "        vertical-align: top;\n",
       "    }\n",
       "\n",
       "    .dataframe thead th {\n",
       "        text-align: right;\n",
       "    }\n",
       "</style>\n",
       "<table border=\"1\" class=\"dataframe\">\n",
       "  <thead>\n",
       "    <tr style=\"text-align: right;\">\n",
       "      <th></th>\n",
       "      <th>stat</th>\n",
       "      <th>dist_miles</th>\n",
       "      <th>street_status</th>\n",
       "      <th>dist_miles_log</th>\n",
       "      <th>color_list</th>\n",
       "      <th>dist_feet</th>\n",
       "    </tr>\n",
       "  </thead>\n",
       "  <tbody>\n",
       "    <tr>\n",
       "      <th>3</th>\n",
       "      <td>min</td>\n",
       "      <td>0.000744</td>\n",
       "      <td>2</td>\n",
       "      <td>-3.128428</td>\n",
       "      <td>black</td>\n",
       "      <td>3.928314</td>\n",
       "    </tr>\n",
       "    <tr>\n",
       "      <th>0</th>\n",
       "      <td>10%</td>\n",
       "      <td>0.018320</td>\n",
       "      <td>2</td>\n",
       "      <td>-1.737063</td>\n",
       "      <td>black</td>\n",
       "      <td>96.732168</td>\n",
       "    </tr>\n",
       "    <tr>\n",
       "      <th>4</th>\n",
       "      <td>25%</td>\n",
       "      <td>0.031744</td>\n",
       "      <td>2</td>\n",
       "      <td>-1.498338</td>\n",
       "      <td>black</td>\n",
       "      <td>167.608566</td>\n",
       "    </tr>\n",
       "    <tr>\n",
       "      <th>5</th>\n",
       "      <td>50%</td>\n",
       "      <td>0.084890</td>\n",
       "      <td>2</td>\n",
       "      <td>-1.071145</td>\n",
       "      <td>black</td>\n",
       "      <td>448.217700</td>\n",
       "    </tr>\n",
       "    <tr>\n",
       "      <th>1</th>\n",
       "      <td>mean</td>\n",
       "      <td>0.230436</td>\n",
       "      <td>2</td>\n",
       "      <td>-0.637449</td>\n",
       "      <td>black</td>\n",
       "      <td>1216.702893</td>\n",
       "    </tr>\n",
       "    <tr>\n",
       "      <th>6</th>\n",
       "      <td>75%</td>\n",
       "      <td>0.251245</td>\n",
       "      <td>2</td>\n",
       "      <td>-0.599902</td>\n",
       "      <td>black</td>\n",
       "      <td>1326.574912</td>\n",
       "    </tr>\n",
       "    <tr>\n",
       "      <th>1</th>\n",
       "      <td>95%</td>\n",
       "      <td>0.964556</td>\n",
       "      <td>2</td>\n",
       "      <td>-0.015673</td>\n",
       "      <td>black</td>\n",
       "      <td>5092.854199</td>\n",
       "    </tr>\n",
       "    <tr>\n",
       "      <th>2</th>\n",
       "      <td>99%</td>\n",
       "      <td>1.934898</td>\n",
       "      <td>2</td>\n",
       "      <td>0.286658</td>\n",
       "      <td>black</td>\n",
       "      <td>10216.259556</td>\n",
       "    </tr>\n",
       "    <tr>\n",
       "      <th>7</th>\n",
       "      <td>max</td>\n",
       "      <td>4.973674</td>\n",
       "      <td>2</td>\n",
       "      <td>0.696677</td>\n",
       "      <td>black</td>\n",
       "      <td>26261.000182</td>\n",
       "    </tr>\n",
       "    <tr>\n",
       "      <th>3</th>\n",
       "      <td>min</td>\n",
       "      <td>0.007820</td>\n",
       "      <td>3</td>\n",
       "      <td>-2.106767</td>\n",
       "      <td>black</td>\n",
       "      <td>41.292065</td>\n",
       "    </tr>\n",
       "    <tr>\n",
       "      <th>0</th>\n",
       "      <td>10%</td>\n",
       "      <td>0.105484</td>\n",
       "      <td>3</td>\n",
       "      <td>-0.976812</td>\n",
       "      <td>black</td>\n",
       "      <td>556.957236</td>\n",
       "    </tr>\n",
       "    <tr>\n",
       "      <th>4</th>\n",
       "      <td>25%</td>\n",
       "      <td>0.465272</td>\n",
       "      <td>3</td>\n",
       "      <td>-0.332294</td>\n",
       "      <td>black</td>\n",
       "      <td>2456.633743</td>\n",
       "    </tr>\n",
       "    <tr>\n",
       "      <th>5</th>\n",
       "      <td>50%</td>\n",
       "      <td>1.086217</td>\n",
       "      <td>3</td>\n",
       "      <td>0.035917</td>\n",
       "      <td>black</td>\n",
       "      <td>5735.227879</td>\n",
       "    </tr>\n",
       "    <tr>\n",
       "      <th>1</th>\n",
       "      <td>mean</td>\n",
       "      <td>2.009094</td>\n",
       "      <td>3</td>\n",
       "      <td>0.303000</td>\n",
       "      <td>black</td>\n",
       "      <td>10608.016179</td>\n",
       "    </tr>\n",
       "    <tr>\n",
       "      <th>6</th>\n",
       "      <td>75%</td>\n",
       "      <td>2.666548</td>\n",
       "      <td>3</td>\n",
       "      <td>0.425949</td>\n",
       "      <td>black</td>\n",
       "      <td>14079.374702</td>\n",
       "    </tr>\n",
       "    <tr>\n",
       "      <th>1</th>\n",
       "      <td>95%</td>\n",
       "      <td>6.676756</td>\n",
       "      <td>3</td>\n",
       "      <td>0.824566</td>\n",
       "      <td>black</td>\n",
       "      <td>35253.271885</td>\n",
       "    </tr>\n",
       "    <tr>\n",
       "      <th>2</th>\n",
       "      <td>99%</td>\n",
       "      <td>10.639797</td>\n",
       "      <td>3</td>\n",
       "      <td>1.026933</td>\n",
       "      <td>black</td>\n",
       "      <td>56178.129864</td>\n",
       "    </tr>\n",
       "    <tr>\n",
       "      <th>7</th>\n",
       "      <td>max</td>\n",
       "      <td>11.127778</td>\n",
       "      <td>3</td>\n",
       "      <td>1.046408</td>\n",
       "      <td>black</td>\n",
       "      <td>58754.669445</td>\n",
       "    </tr>\n",
       "  </tbody>\n",
       "</table>\n",
       "</div>"
      ],
      "text/plain": [
       "   stat  dist_miles  street_status  dist_miles_log color_list     dist_feet\n",
       "3   min    0.000744              2       -3.128428      black      3.928314\n",
       "0   10%    0.018320              2       -1.737063      black     96.732168\n",
       "4   25%    0.031744              2       -1.498338      black    167.608566\n",
       "5   50%    0.084890              2       -1.071145      black    448.217700\n",
       "1  mean    0.230436              2       -0.637449      black   1216.702893\n",
       "6   75%    0.251245              2       -0.599902      black   1326.574912\n",
       "1   95%    0.964556              2       -0.015673      black   5092.854199\n",
       "2   99%    1.934898              2        0.286658      black  10216.259556\n",
       "7   max    4.973674              2        0.696677      black  26261.000182\n",
       "3   min    0.007820              3       -2.106767      black     41.292065\n",
       "0   10%    0.105484              3       -0.976812      black    556.957236\n",
       "4   25%    0.465272              3       -0.332294      black   2456.633743\n",
       "5   50%    1.086217              3        0.035917      black   5735.227879\n",
       "1  mean    2.009094              3        0.303000      black  10608.016179\n",
       "6   75%    2.666548              3        0.425949      black  14079.374702\n",
       "1   95%    6.676756              3        0.824566      black  35253.271885\n",
       "2   99%   10.639797              3        1.026933      black  56178.129864\n",
       "7   max   11.127778              3        1.046408      black  58754.669445"
      ]
     },
     "metadata": {},
     "output_type": "display_data"
    }
   ],
   "source": [
    "display(ds_df)"
   ]
  },
  {
   "cell_type": "code",
   "execution_count": 132,
   "id": "563fa33d-01c4-4e69-980d-1fe762e14bdc",
   "metadata": {},
   "outputs": [],
   "source": [
    "# this is the horizontal alignment of each piece of added text\n",
    "ss_2_text_ha = ['left', 'center',  'center', 'right', 'right', 'left', 'center', 'center', 'right'] \n",
    "ss_3_text_ha = ['left', 'right',  'center', 'right', 'right', 'left', 'center', 'center', 'right'] \n",
    "\n",
    "text_ha = ss_2_text_ha[:]\n",
    "text_ha.extend(ss_3_text_ha)\n",
    "ds_df['text_ha'] = text_ha"
   ]
  },
  {
   "cell_type": "code",
   "execution_count": 133,
   "id": "fee2b3cf-5d58-4bdf-b759-009fab23a2db",
   "metadata": {},
   "outputs": [],
   "source": [
    "# the text labels to add\n",
    "ss_2_text = ['4ft (min.)', '97 ft (10%)', '167 ft (25%)', '448 ft (med.)', '0.23 mi (avg.)', '0.25 mi (75%)', '0.96 mi (95%)', '1.9 mi (99%)', '5 mi (max.)']\n",
    "ss_3_text = ['42ft (min.)', '557 ft (10%)', '0.47 mi (25%)', '1.1 mi (med.)', '2.0 mi (avg.)', '2.7 mi (75%)', '6.7 mi (95%)', '10.7 mi (99%)', '11 mi (max.)']\n",
    "\n",
    "text_labels = ss_2_text[:]\n",
    "text_labels.extend(ss_3_text)\n",
    "ds_df['text'] = text_labels"
   ]
  },
  {
   "cell_type": "code",
   "execution_count": 134,
   "id": "2da23a3b-fff6-4263-bd00-1b8f8e9aeb38",
   "metadata": {},
   "outputs": [],
   "source": [
    "# jitter each piece of text by a small amount left or right\n",
    "ss_2_text_jitter = [0, -.01, 0, .09, 0, 0, -.05, 0, 0]\n",
    "ss_3_text_jitter = [0, .001, 0, .09, 0, 0, -.05, 0, 0]\n",
    "text_jitter = ss_2_text_jitter[:]\n",
    "text_jitter.extend(ss_3_text_jitter)\n",
    "\n",
    "ds_df['text_jitter'] = text_jitter"
   ]
  },
  {
   "cell_type": "code",
   "execution_count": 135,
   "id": "cbd0ccc4-51f5-498f-9e11-7165350e00ab",
   "metadata": {},
   "outputs": [],
   "source": [
    "# the horizontal position is created from the distance in miles and the text jitter\n",
    "ds_df['text_x_pos'] = ds_df['dist_miles_log'] + ds_df['text_jitter']"
   ]
  },
  {
   "cell_type": "code",
   "execution_count": 136,
   "id": "11de704b-c412-4058-a214-d40b24dfb3cf",
   "metadata": {},
   "outputs": [
    {
     "data": {
      "text/html": [
       "<div>\n",
       "<style scoped>\n",
       "    .dataframe tbody tr th:only-of-type {\n",
       "        vertical-align: middle;\n",
       "    }\n",
       "\n",
       "    .dataframe tbody tr th {\n",
       "        vertical-align: top;\n",
       "    }\n",
       "\n",
       "    .dataframe thead th {\n",
       "        text-align: right;\n",
       "    }\n",
       "</style>\n",
       "<table border=\"1\" class=\"dataframe\">\n",
       "  <thead>\n",
       "    <tr style=\"text-align: right;\">\n",
       "      <th></th>\n",
       "      <th>stat</th>\n",
       "      <th>dist_miles</th>\n",
       "      <th>street_status</th>\n",
       "      <th>dist_miles_log</th>\n",
       "      <th>color_list</th>\n",
       "      <th>dist_feet</th>\n",
       "      <th>text_ha</th>\n",
       "      <th>text</th>\n",
       "      <th>text_jitter</th>\n",
       "      <th>text_x_pos</th>\n",
       "    </tr>\n",
       "  </thead>\n",
       "  <tbody>\n",
       "    <tr>\n",
       "      <th>3</th>\n",
       "      <td>min</td>\n",
       "      <td>0.000744</td>\n",
       "      <td>2</td>\n",
       "      <td>-3.128428</td>\n",
       "      <td>black</td>\n",
       "      <td>3.928314</td>\n",
       "      <td>left</td>\n",
       "      <td>4ft (min.)</td>\n",
       "      <td>0.00</td>\n",
       "      <td>-3.128428</td>\n",
       "    </tr>\n",
       "    <tr>\n",
       "      <th>0</th>\n",
       "      <td>10%</td>\n",
       "      <td>0.018320</td>\n",
       "      <td>2</td>\n",
       "      <td>-1.737063</td>\n",
       "      <td>black</td>\n",
       "      <td>96.732168</td>\n",
       "      <td>center</td>\n",
       "      <td>97 ft (10%)</td>\n",
       "      <td>-0.01</td>\n",
       "      <td>-1.747063</td>\n",
       "    </tr>\n",
       "    <tr>\n",
       "      <th>4</th>\n",
       "      <td>25%</td>\n",
       "      <td>0.031744</td>\n",
       "      <td>2</td>\n",
       "      <td>-1.498338</td>\n",
       "      <td>black</td>\n",
       "      <td>167.608566</td>\n",
       "      <td>center</td>\n",
       "      <td>167 ft (25%)</td>\n",
       "      <td>0.00</td>\n",
       "      <td>-1.498338</td>\n",
       "    </tr>\n",
       "    <tr>\n",
       "      <th>5</th>\n",
       "      <td>50%</td>\n",
       "      <td>0.084890</td>\n",
       "      <td>2</td>\n",
       "      <td>-1.071145</td>\n",
       "      <td>black</td>\n",
       "      <td>448.217700</td>\n",
       "      <td>right</td>\n",
       "      <td>448 ft (med.)</td>\n",
       "      <td>0.09</td>\n",
       "      <td>-0.981145</td>\n",
       "    </tr>\n",
       "    <tr>\n",
       "      <th>1</th>\n",
       "      <td>mean</td>\n",
       "      <td>0.230436</td>\n",
       "      <td>2</td>\n",
       "      <td>-0.637449</td>\n",
       "      <td>black</td>\n",
       "      <td>1216.702893</td>\n",
       "      <td>right</td>\n",
       "      <td>0.23 mi (avg.)</td>\n",
       "      <td>0.00</td>\n",
       "      <td>-0.637449</td>\n",
       "    </tr>\n",
       "    <tr>\n",
       "      <th>6</th>\n",
       "      <td>75%</td>\n",
       "      <td>0.251245</td>\n",
       "      <td>2</td>\n",
       "      <td>-0.599902</td>\n",
       "      <td>black</td>\n",
       "      <td>1326.574912</td>\n",
       "      <td>left</td>\n",
       "      <td>0.25 mi (75%)</td>\n",
       "      <td>0.00</td>\n",
       "      <td>-0.599902</td>\n",
       "    </tr>\n",
       "    <tr>\n",
       "      <th>1</th>\n",
       "      <td>95%</td>\n",
       "      <td>0.964556</td>\n",
       "      <td>2</td>\n",
       "      <td>-0.015673</td>\n",
       "      <td>black</td>\n",
       "      <td>5092.854199</td>\n",
       "      <td>center</td>\n",
       "      <td>0.96 mi (95%)</td>\n",
       "      <td>-0.05</td>\n",
       "      <td>-0.065673</td>\n",
       "    </tr>\n",
       "    <tr>\n",
       "      <th>2</th>\n",
       "      <td>99%</td>\n",
       "      <td>1.934898</td>\n",
       "      <td>2</td>\n",
       "      <td>0.286658</td>\n",
       "      <td>black</td>\n",
       "      <td>10216.259556</td>\n",
       "      <td>center</td>\n",
       "      <td>1.9 mi (99%)</td>\n",
       "      <td>0.00</td>\n",
       "      <td>0.286658</td>\n",
       "    </tr>\n",
       "    <tr>\n",
       "      <th>7</th>\n",
       "      <td>max</td>\n",
       "      <td>4.973674</td>\n",
       "      <td>2</td>\n",
       "      <td>0.696677</td>\n",
       "      <td>black</td>\n",
       "      <td>26261.000182</td>\n",
       "      <td>right</td>\n",
       "      <td>5 mi (max.)</td>\n",
       "      <td>0.00</td>\n",
       "      <td>0.696677</td>\n",
       "    </tr>\n",
       "    <tr>\n",
       "      <th>3</th>\n",
       "      <td>min</td>\n",
       "      <td>0.007820</td>\n",
       "      <td>3</td>\n",
       "      <td>-2.106767</td>\n",
       "      <td>black</td>\n",
       "      <td>41.292065</td>\n",
       "      <td>left</td>\n",
       "      <td>42ft (min.)</td>\n",
       "      <td>0.00</td>\n",
       "      <td>-2.106767</td>\n",
       "    </tr>\n",
       "  </tbody>\n",
       "</table>\n",
       "</div>"
      ],
      "text/plain": [
       "   stat  dist_miles  street_status  dist_miles_log color_list     dist_feet  \\\n",
       "3   min    0.000744              2       -3.128428      black      3.928314   \n",
       "0   10%    0.018320              2       -1.737063      black     96.732168   \n",
       "4   25%    0.031744              2       -1.498338      black    167.608566   \n",
       "5   50%    0.084890              2       -1.071145      black    448.217700   \n",
       "1  mean    0.230436              2       -0.637449      black   1216.702893   \n",
       "6   75%    0.251245              2       -0.599902      black   1326.574912   \n",
       "1   95%    0.964556              2       -0.015673      black   5092.854199   \n",
       "2   99%    1.934898              2        0.286658      black  10216.259556   \n",
       "7   max    4.973674              2        0.696677      black  26261.000182   \n",
       "3   min    0.007820              3       -2.106767      black     41.292065   \n",
       "\n",
       "  text_ha            text  text_jitter  text_x_pos  \n",
       "3    left      4ft (min.)         0.00   -3.128428  \n",
       "0  center     97 ft (10%)        -0.01   -1.747063  \n",
       "4  center    167 ft (25%)         0.00   -1.498338  \n",
       "5   right   448 ft (med.)         0.09   -0.981145  \n",
       "1   right  0.23 mi (avg.)         0.00   -0.637449  \n",
       "6    left   0.25 mi (75%)         0.00   -0.599902  \n",
       "1  center   0.96 mi (95%)        -0.05   -0.065673  \n",
       "2  center    1.9 mi (99%)         0.00    0.286658  \n",
       "7   right     5 mi (max.)         0.00    0.696677  \n",
       "3    left     42ft (min.)         0.00   -2.106767  "
      ]
     },
     "execution_count": 136,
     "metadata": {},
     "output_type": "execute_result"
    }
   ],
   "source": [
    "ds_df.head(n=10)"
   ]
  },
  {
   "cell_type": "code",
   "execution_count": 137,
   "id": "ae4c5536-b909-461f-ab60-742848295312",
   "metadata": {},
   "outputs": [
    {
     "name": "stdout",
     "output_type": "stream",
     "text": [
      "..\\graphics\\histogram_ws_ALL_streets.png\n"
     ]
    },
    {
     "data": {
      "image/png": "[encoded data removed]",
      "text/plain": [
       "<Figure size 2000x500 with 1 Axes>"
      ]
     },
     "metadata": {},
     "output_type": "display_data"
    }
   ],
   "source": [
    "# compute the histogram of the added distribution - for within-sector added streets\n",
    "working_wms_gdf = wms_gdf.loc[wms_gdf['street_status'] == 2, :]\n",
    "w_ds_df = ds_df.loc[ds_df['street_status'] == 2, :]\n",
    "sns.set_theme(style = \"whitegrid\")\n",
    "f, ax = plt.subplots(figsize = (20, 5))\n",
    "\n",
    "ax.set_ylim(0, 185.6)\n",
    "ax.set_xlim(-3.2, .75)\n",
    "\n",
    "my_plot = sns.histplot(data = working_wms_gdf, x = 'dist_miles_log',\n",
    "                      color='#ca0020', bins = 100)\n",
    "\n",
    "# set the top part of the plot frame - the spine - to black\n",
    "ax.spines['top'].set_edgecolor(color = 'black')\n",
    "\n",
    "y_ticks = list(range(0, 176, 25))\n",
    "y_tick_labels_formatted = ['{:,}'.format(ytl) for ytl in y_ticks]   \n",
    "\n",
    "my_plot.set_yticks(ticks = y_ticks)\n",
    "my_plot.set_yticklabels(labels = y_tick_labels_formatted, rotation=0)\n",
    "\n",
    "# total added streets\n",
    "n_added = working_wms_gdf.shape[0]\n",
    "n_added =  f\"{n_added:,}\"\n",
    "\n",
    "tot_miles = working_wms_gdf['dist_miles'].sum()\n",
    "tot_miles = f\"{int(round(tot_miles, 0)):,}\"\n",
    "\n",
    "my_title = \"Histogram of within-sector added road segment length, all road types (n = {} | {} miles)\".format(n_added, tot_miles)\n",
    "\n",
    "plt.title(label = my_title, fontsize = 16)\n",
    "plt.xlabel(xlabel = 'Added road segment length (log-scale)')\n",
    "plt.ylabel(ylabel = \"Number of added road segments\")\n",
    "\n",
    "# x tick positions\n",
    "x_tick_labels = [50 / 5280, 100 / 5280, 300 / 5280, .1, .25, .5, 1, 2, 3]\n",
    "x_ticks = [np.log10(xtl) for xtl in x_tick_labels]\n",
    "\n",
    "# x tick labels\n",
    "x_tick_label_text = ['50 ft', '100 ft', '300 ft',  '1/10 mi', '1/4 mi', '1/2 mi', '1 mi', '2 mi', '3 mi']\n",
    "\n",
    "my_plot.set_xticks(ticks = x_ticks)\n",
    "my_plot.set_xticklabels(labels = x_tick_label_text, rotation=0)\n",
    "\n",
    "# white out the top portion of the ticks\n",
    "for xt in x_ticks:\n",
    "    my_plot.vlines(x = xt, ymin = 175, ymax = 185, color = 'white', linestyles = 'solid', linewidth = 2)\n",
    "\n",
    "# add vertical lines at some descriptive statistics points\n",
    "my_plot.vlines(x = w_ds_df['dist_miles_log'], ymin = 0, ymax = 175, color = w_ds_df['color_list'], linestyles = 'dashdot')\n",
    "\n",
    "# add text for the descriptive stats\n",
    "for ir, row in w_ds_df.iterrows():\n",
    "    my_plot.text(x = row['text_x_pos'], y = 176, s = row['text'], horizontalalignment = row['text_ha'], color = '#ca0020')\n",
    "\n",
    "output_file_name = '..\\\\graphics\\\\histogram_ws_ALL_streets.png'\n",
    "output_file_name = os.path.normpath(output_file_name)\n",
    "print(output_file_name)\n",
    "my_plot.get_figure().savefig(fname = output_file_name)\n",
    "plt.show()"
   ]
  },
  {
   "cell_type": "code",
   "execution_count": 138,
   "id": "8970a023-51b0-43e7-a271-0de1964d82e3",
   "metadata": {},
   "outputs": [],
   "source": [
    "# and there you have it... most added streets are short. \n",
    "# 75% of all added streets are 0.25 miles or less. "
   ]
  },
  {
   "cell_type": "code",
   "execution_count": 139,
   "id": "5d77a0f5",
   "metadata": {},
   "outputs": [],
   "source": [
    "working_wms_gdf = wms_gdf.loc[wms_gdf['street_status'] == 3, :]\n",
    "w_ds_df = ds_df.loc[ds_df['street_status'] == 3, :]\n"
   ]
  },
  {
   "cell_type": "code",
   "execution_count": 140,
   "id": "f7571f6d",
   "metadata": {},
   "outputs": [
    {
     "data": {
      "text/plain": [
       "count    410.000000\n",
       "mean      -0.036019\n",
       "std        0.649008\n",
       "min       -2.106767\n",
       "25%       -0.332294\n",
       "50%        0.035917\n",
       "75%        0.425927\n",
       "max        1.046408\n",
       "Name: dist_miles_log, dtype: float64"
      ]
     },
     "execution_count": 140,
     "metadata": {},
     "output_type": "execute_result"
    }
   ],
   "source": [
    "working_wms_gdf['dist_miles_log'].describe()"
   ]
  },
  {
   "cell_type": "code",
   "execution_count": 141,
   "id": "7372dac3",
   "metadata": {},
   "outputs": [
    {
     "data": {
      "text/plain": [
       "3     0.007820\n",
       "0     0.105484\n",
       "4     0.465272\n",
       "5     1.086217\n",
       "1     2.009094\n",
       "6     2.666548\n",
       "1     6.676756\n",
       "2    10.639797\n",
       "7    11.127778\n",
       "Name: dist_miles, dtype: float64"
      ]
     },
     "execution_count": 141,
     "metadata": {},
     "output_type": "execute_result"
    }
   ],
   "source": [
    "w_ds_df['dist_miles']"
   ]
  },
  {
   "cell_type": "code",
   "execution_count": 142,
   "id": "dfe34002",
   "metadata": {},
   "outputs": [
    {
     "name": "stdout",
     "output_type": "stream",
     "text": [
      "..\\graphics\\histogram_cs_ALL_streets.png\n"
     ]
    },
    {
     "data": {
      "image/png": "[encoded data removed]",
      "text/plain": [
       "<Figure size 2000x500 with 1 Axes>"
      ]
     },
     "metadata": {},
     "output_type": "display_data"
    }
   ],
   "source": [
    "# compute the histogram of the added distribution - for cross-sector added streets\n",
    "working_wms_gdf = wms_gdf.loc[wms_gdf['street_status'] == 3, :].copy()\n",
    "w_ds_df = ds_df.loc[(ds_df['street_status'] == 3) & \n",
    "                    (ds_df['stat'] != '99%'), :].copy()\n",
    "\n",
    "\n",
    "sns.set_theme(style = \"whitegrid\")\n",
    "f, ax = plt.subplots(figsize = (20, 5))\n",
    "\n",
    "ax.set_ylim(0, 21)\n",
    "ax.set_xlim(-2.2, 1.3)\n",
    "\n",
    "my_plot = sns.histplot(data = working_wms_gdf, x = 'dist_miles_log',\n",
    "                      color='#1a4bed', bins = 100)\n",
    "\n",
    "# set the top part of the plot frame - the spine - to black\n",
    "ax.spines['top'].set_edgecolor(color = 'black')\n",
    "\n",
    "y_ticks = list(range(0, 21, 5))\n",
    "y_tick_labels_formatted = ['{:,}'.format(ytl) for ytl in y_ticks]   \n",
    "\n",
    "my_plot.set_yticks(ticks = y_ticks)\n",
    "my_plot.set_yticklabels(labels = y_tick_labels_formatted, rotation=0)\n",
    "\n",
    "# total added streets\n",
    "n_added = working_wms_gdf.shape[0]\n",
    "n_added =  f\"{n_added:,}\"\n",
    "\n",
    "tot_miles = working_wms_gdf['dist_miles'].sum()\n",
    "tot_miles = f\"{int(round(tot_miles, 0)):,}\"\n",
    "\n",
    "my_title = \"Histogram of cross-sector added road segment length, all road types (n = {} | {} miles)\".format(n_added, tot_miles)\n",
    "\n",
    "plt.title(label = my_title, fontsize = 16)\n",
    "plt.xlabel(xlabel = 'Added road segment length (log-scale)')\n",
    "plt.ylabel(ylabel = \"Number of added road segments\")\n",
    "\n",
    "# x tick positions\n",
    "x_tick_labels = [50 / 5280, 100 / 5280, 300 / 5280, .1, .25, .5, 1, 2, 5, 10]\n",
    "x_ticks = [np.log10(xtl) for xtl in x_tick_labels]\n",
    "\n",
    "# x tick labels\n",
    "x_tick_label_text = ['50 ft', '100 ft', '300 ft',  '1/10 mi', '1/4 mi', '1/2 mi', '1 mi', '2 mi', '5 mi', '10 mi']\n",
    "\n",
    "my_plot.set_xticks(ticks = x_ticks)\n",
    "my_plot.set_xticklabels(labels = x_tick_label_text, rotation=0)\n",
    "\n",
    "# white out the top portion of the ticks\n",
    "for xt in x_ticks:\n",
    "    my_plot.vlines(x = xt, ymin = 20, ymax = 25, color = 'white', linestyles = 'solid', linewidth = 2)\n",
    "\n",
    "# add vertical lines at some descriptive statistics points\n",
    "my_plot.vlines(x = w_ds_df['dist_miles_log'], ymin = 0, ymax = 20, color = w_ds_df['color_list'], linestyles = 'dashdot')\n",
    "\n",
    "# add text for the descriptive stats\n",
    "w_ds_df['text_x_pos'] = w_ds_df['text_x_pos'] + [0,0,0,-.05,-.07,-.03, .03,0]\n",
    "w_ds_df['text_ha'] = ['left', 'center', 'center', 'right', 'center', 'left', 'center', 'center']\n",
    "for ir, row in w_ds_df.iterrows():\n",
    "    my_plot.text(x = row['text_x_pos'], y = 20.1, s = row['text'], horizontalalignment = row['text_ha'], color = '#1a4bed')\n",
    "\n",
    "output_file_name = '..\\\\graphics\\\\histogram_cs_ALL_streets.png'\n",
    "output_file_name = os.path.normpath(output_file_name)\n",
    "print(output_file_name)\n",
    "my_plot.get_figure().savefig(fname = output_file_name)\n",
    "plt.show()"
   ]
  },
  {
   "cell_type": "code",
   "execution_count": 143,
   "id": "268f956b",
   "metadata": {},
   "outputs": [],
   "source": [
    "# average cross sector added segment is 2.0 miles.\n",
    "# That makes sense as cross-sector connections are going to be longer because \n",
    "# of water bodies."
   ]
  },
  {
   "cell_type": "markdown",
   "id": "4050443b-5e5d-4a02-a99f-1a110ee80202",
   "metadata": {},
   "source": [
    "# histogram of each type of street"
   ]
  },
  {
   "cell_type": "code",
   "execution_count": 144,
   "id": "53d57e75-dd3a-4385-bb31-58c128e070e3",
   "metadata": {},
   "outputs": [],
   "source": [
    "st_type_df = pd.pivot_table(data = wms_gdf, index = ['ord_street_type'],\n",
    "                         columns = ['street_status_desc'], values = ['dist_miles'],\n",
    "                        aggfunc='sum', fill_value = 0).reset_index()"
   ]
  },
  {
   "cell_type": "code",
   "execution_count": 145,
   "id": "26b893ff-3656-4567-ae2c-2dd8b8dd9165",
   "metadata": {},
   "outputs": [
    {
     "data": {
      "text/html": [
       "<div>\n",
       "<style scoped>\n",
       "    .dataframe tbody tr th:only-of-type {\n",
       "        vertical-align: middle;\n",
       "    }\n",
       "\n",
       "    .dataframe tbody tr th {\n",
       "        vertical-align: top;\n",
       "    }\n",
       "\n",
       "    .dataframe thead tr th {\n",
       "        text-align: left;\n",
       "    }\n",
       "</style>\n",
       "<table border=\"1\" class=\"dataframe\">\n",
       "  <thead>\n",
       "    <tr>\n",
       "      <th></th>\n",
       "      <th>ord_street_type</th>\n",
       "      <th colspan=\"2\" halign=\"left\">dist_miles</th>\n",
       "    </tr>\n",
       "    <tr>\n",
       "      <th>street_status_desc</th>\n",
       "      <th></th>\n",
       "      <th>added_street: cross-sector</th>\n",
       "      <th>added_street: within-sector</th>\n",
       "    </tr>\n",
       "  </thead>\n",
       "  <tbody>\n",
       "    <tr>\n",
       "      <th>0</th>\n",
       "      <td>AVE</td>\n",
       "      <td>560.253713</td>\n",
       "      <td>431.877647</td>\n",
       "    </tr>\n",
       "    <tr>\n",
       "      <th>1</th>\n",
       "      <td>BLVD</td>\n",
       "      <td>0.046053</td>\n",
       "      <td>0.467329</td>\n",
       "    </tr>\n",
       "    <tr>\n",
       "      <th>2</th>\n",
       "      <td>CT</td>\n",
       "      <td>3.848201</td>\n",
       "      <td>0.022490</td>\n",
       "    </tr>\n",
       "    <tr>\n",
       "      <th>3</th>\n",
       "      <td>DR</td>\n",
       "      <td>9.561867</td>\n",
       "      <td>1.246189</td>\n",
       "    </tr>\n",
       "    <tr>\n",
       "      <th>4</th>\n",
       "      <td>LN</td>\n",
       "      <td>0.000000</td>\n",
       "      <td>2.066653</td>\n",
       "    </tr>\n",
       "  </tbody>\n",
       "</table>\n",
       "</div>"
      ],
      "text/plain": [
       "                   ord_street_type                 dist_miles  \\\n",
       "street_status_desc                 added_street: cross-sector   \n",
       "0                              AVE                 560.253713   \n",
       "1                             BLVD                   0.046053   \n",
       "2                               CT                   3.848201   \n",
       "3                               DR                   9.561867   \n",
       "4                               LN                   0.000000   \n",
       "\n",
       "                                                \n",
       "street_status_desc added_street: within-sector  \n",
       "0                                   431.877647  \n",
       "1                                     0.467329  \n",
       "2                                     0.022490  \n",
       "3                                     1.246189  \n",
       "4                                     2.066653  "
      ]
     },
     "execution_count": 145,
     "metadata": {},
     "output_type": "execute_result"
    }
   ],
   "source": [
    "st_type_df.head()"
   ]
  },
  {
   "cell_type": "code",
   "execution_count": 146,
   "id": "f63da0ad-fe7a-43da-bf85-02e170b318dd",
   "metadata": {},
   "outputs": [],
   "source": [
    "st_type_df.columns = [''.join(cn).replace('dist_miles', '') for cn in st_type_df.columns]"
   ]
  },
  {
   "cell_type": "code",
   "execution_count": 147,
   "id": "ab22f894-c935-44fc-9fb0-10cb5deb981d",
   "metadata": {},
   "outputs": [
    {
     "data": {
      "text/html": [
       "<div>\n",
       "<style scoped>\n",
       "    .dataframe tbody tr th:only-of-type {\n",
       "        vertical-align: middle;\n",
       "    }\n",
       "\n",
       "    .dataframe tbody tr th {\n",
       "        vertical-align: top;\n",
       "    }\n",
       "\n",
       "    .dataframe thead th {\n",
       "        text-align: right;\n",
       "    }\n",
       "</style>\n",
       "<table border=\"1\" class=\"dataframe\">\n",
       "  <thead>\n",
       "    <tr style=\"text-align: right;\">\n",
       "      <th></th>\n",
       "      <th>ord_street_type</th>\n",
       "      <th>added_street: cross-sector</th>\n",
       "      <th>added_street: within-sector</th>\n",
       "    </tr>\n",
       "  </thead>\n",
       "  <tbody>\n",
       "    <tr>\n",
       "      <th>0</th>\n",
       "      <td>AVE</td>\n",
       "      <td>560.253713</td>\n",
       "      <td>431.877647</td>\n",
       "    </tr>\n",
       "    <tr>\n",
       "      <th>1</th>\n",
       "      <td>BLVD</td>\n",
       "      <td>0.046053</td>\n",
       "      <td>0.467329</td>\n",
       "    </tr>\n",
       "    <tr>\n",
       "      <th>2</th>\n",
       "      <td>CT</td>\n",
       "      <td>3.848201</td>\n",
       "      <td>0.022490</td>\n",
       "    </tr>\n",
       "    <tr>\n",
       "      <th>3</th>\n",
       "      <td>DR</td>\n",
       "      <td>9.561867</td>\n",
       "      <td>1.246189</td>\n",
       "    </tr>\n",
       "    <tr>\n",
       "      <th>4</th>\n",
       "      <td>LN</td>\n",
       "      <td>0.000000</td>\n",
       "      <td>2.066653</td>\n",
       "    </tr>\n",
       "  </tbody>\n",
       "</table>\n",
       "</div>"
      ],
      "text/plain": [
       "  ord_street_type  added_street: cross-sector  added_street: within-sector\n",
       "0             AVE                  560.253713                   431.877647\n",
       "1            BLVD                    0.046053                     0.467329\n",
       "2              CT                    3.848201                     0.022490\n",
       "3              DR                    9.561867                     1.246189\n",
       "4              LN                    0.000000                     2.066653"
      ]
     },
     "execution_count": 147,
     "metadata": {},
     "output_type": "execute_result"
    }
   ],
   "source": [
    "st_type_df.head()"
   ]
  },
  {
   "cell_type": "code",
   "execution_count": 148,
   "id": "2c9c7927-679a-44db-a559-a00c41025a2c",
   "metadata": {},
   "outputs": [],
   "source": [
    "st_type_df.columns = ['ord_street_type', 'total_miles_cross_sector', 'total_miles_within_sector']"
   ]
  },
  {
   "cell_type": "code",
   "execution_count": 149,
   "id": "b4856a7b-901f-457b-8003-f824b88e317d",
   "metadata": {},
   "outputs": [],
   "source": [
    "ds_df_list = []\n",
    "for ss in [2,3]:\n",
    "    temp_wms_gdf = wms_gdf.loc[wms_gdf['street_status'] == ss, :]\n",
    "    ds_df = temp_wms_gdf[['ord_street_type', 'dist_miles']].groupby(['ord_street_type'])['dist_miles'].describe().reset_index(names = ['ord_street_type'])\n",
    "    ds_df['street_status'] = ss\n",
    "    ds_df_list.append(ds_df)\n",
    "ds_df = pd.concat(ds_df_list)"
   ]
  },
  {
   "cell_type": "code",
   "execution_count": 150,
   "id": "3f69b31e-cc60-4e77-9e7d-74c845110d61",
   "metadata": {},
   "outputs": [
    {
     "data": {
      "text/html": [
       "<div>\n",
       "<style scoped>\n",
       "    .dataframe tbody tr th:only-of-type {\n",
       "        vertical-align: middle;\n",
       "    }\n",
       "\n",
       "    .dataframe tbody tr th {\n",
       "        vertical-align: top;\n",
       "    }\n",
       "\n",
       "    .dataframe thead th {\n",
       "        text-align: right;\n",
       "    }\n",
       "</style>\n",
       "<table border=\"1\" class=\"dataframe\">\n",
       "  <thead>\n",
       "    <tr style=\"text-align: right;\">\n",
       "      <th></th>\n",
       "      <th>ord_street_type</th>\n",
       "      <th>count</th>\n",
       "      <th>mean</th>\n",
       "      <th>std</th>\n",
       "      <th>min</th>\n",
       "      <th>25%</th>\n",
       "      <th>50%</th>\n",
       "      <th>75%</th>\n",
       "      <th>max</th>\n",
       "      <th>street_status</th>\n",
       "    </tr>\n",
       "  </thead>\n",
       "  <tbody>\n",
       "    <tr>\n",
       "      <th>0</th>\n",
       "      <td>AVE</td>\n",
       "      <td>1728.0</td>\n",
       "      <td>0.249929</td>\n",
       "      <td>0.402936</td>\n",
       "      <td>0.002857</td>\n",
       "      <td>0.030614</td>\n",
       "      <td>0.095037</td>\n",
       "      <td>0.269936</td>\n",
       "      <td>3.739595</td>\n",
       "      <td>2</td>\n",
       "    </tr>\n",
       "    <tr>\n",
       "      <th>1</th>\n",
       "      <td>BLVD</td>\n",
       "      <td>9.0</td>\n",
       "      <td>0.051925</td>\n",
       "      <td>0.079263</td>\n",
       "      <td>0.001021</td>\n",
       "      <td>0.010911</td>\n",
       "      <td>0.019715</td>\n",
       "      <td>0.046605</td>\n",
       "      <td>0.255118</td>\n",
       "      <td>2</td>\n",
       "    </tr>\n",
       "    <tr>\n",
       "      <th>2</th>\n",
       "      <td>CT</td>\n",
       "      <td>1.0</td>\n",
       "      <td>0.022490</td>\n",
       "      <td>NaN</td>\n",
       "      <td>0.022490</td>\n",
       "      <td>0.022490</td>\n",
       "      <td>0.022490</td>\n",
       "      <td>0.022490</td>\n",
       "      <td>0.022490</td>\n",
       "      <td>2</td>\n",
       "    </tr>\n",
       "    <tr>\n",
       "      <th>3</th>\n",
       "      <td>DR</td>\n",
       "      <td>14.0</td>\n",
       "      <td>0.089013</td>\n",
       "      <td>0.102982</td>\n",
       "      <td>0.004334</td>\n",
       "      <td>0.029131</td>\n",
       "      <td>0.051434</td>\n",
       "      <td>0.110189</td>\n",
       "      <td>0.383551</td>\n",
       "      <td>2</td>\n",
       "    </tr>\n",
       "    <tr>\n",
       "      <th>4</th>\n",
       "      <td>LN</td>\n",
       "      <td>9.0</td>\n",
       "      <td>0.229628</td>\n",
       "      <td>0.321047</td>\n",
       "      <td>0.015234</td>\n",
       "      <td>0.018194</td>\n",
       "      <td>0.039581</td>\n",
       "      <td>0.408942</td>\n",
       "      <td>0.903147</td>\n",
       "      <td>2</td>\n",
       "    </tr>\n",
       "  </tbody>\n",
       "</table>\n",
       "</div>"
      ],
      "text/plain": [
       "  ord_street_type   count      mean       std       min       25%       50%  \\\n",
       "0             AVE  1728.0  0.249929  0.402936  0.002857  0.030614  0.095037   \n",
       "1            BLVD     9.0  0.051925  0.079263  0.001021  0.010911  0.019715   \n",
       "2              CT     1.0  0.022490       NaN  0.022490  0.022490  0.022490   \n",
       "3              DR    14.0  0.089013  0.102982  0.004334  0.029131  0.051434   \n",
       "4              LN     9.0  0.229628  0.321047  0.015234  0.018194  0.039581   \n",
       "\n",
       "        75%       max  street_status  \n",
       "0  0.269936  3.739595              2  \n",
       "1  0.046605  0.255118              2  \n",
       "2  0.022490  0.022490              2  \n",
       "3  0.110189  0.383551              2  \n",
       "4  0.408942  0.903147              2  "
      ]
     },
     "execution_count": 150,
     "metadata": {},
     "output_type": "execute_result"
    }
   ],
   "source": [
    "ds_df.head()"
   ]
  },
  {
   "cell_type": "markdown",
   "id": "1b03945a",
   "metadata": {},
   "source": [
    "## within-sector added streets"
   ]
  },
  {
   "cell_type": "code",
   "execution_count": 151,
   "id": "631cb418-6cdf-4b2a-9e17-5363959616fd",
   "metadata": {},
   "outputs": [
    {
     "name": "stdout",
     "output_type": "stream",
     "text": [
      "..\\graphics\\histogram_ws_AVE.png\n",
      "..\\graphics\\histogram_ws_BLVD.png\n",
      "..\\graphics\\histogram_ws_CT.png\n",
      "..\\graphics\\histogram_ws_DR.png\n",
      "..\\graphics\\histogram_ws_LN.png\n",
      "..\\graphics\\histogram_ws_PKWY.png\n",
      "..\\graphics\\histogram_ws_PL.png\n",
      "..\\graphics\\histogram_ws_RD.png\n",
      "..\\graphics\\histogram_ws_ST.png\n",
      "..\\graphics\\histogram_ws_WAY.png\n"
     ]
    }
   ],
   "source": [
    "w_ds_df = ds_df.loc[ds_df['street_status'] == 2, :]\n",
    "for ir, row in w_ds_df.iterrows():\n",
    "    # let's make a graphic showing the distances\n",
    "    sns.set_theme(style = \"whitegrid\")\n",
    "    f, ax = plt.subplots(figsize = (20, 5))\n",
    "\n",
    "    # set the top part of the plot frame - the spine - to black\n",
    "    ax.spines['top'].set_edgecolor(color = 'black')\n",
    "\n",
    "    x_max = row['max']\n",
    "    ost = row['ord_street_type']    \n",
    "    \n",
    "    if x_max > 1:\n",
    "        xlim_max = .75\n",
    "    else:\n",
    "        xlim_max = 0\n",
    "    ax.set_xlim(-3.2, xlim_max)\n",
    "\n",
    "    temp_gdf = wms_gdf.loc[(wms_gdf['ord_street_type'] == ost) &\n",
    "                           (wms_gdf['street_status'] == 2), :]\n",
    "    my_plot = sns.histplot(data = temp_gdf, x = 'dist_miles_log',\n",
    "                          color='#ca0020', bins = 100)\n",
    "    \n",
    "    # total added streets\n",
    "    n_added = temp_gdf.shape[0]\n",
    "    n_added =  f\"{n_added:,}\"\n",
    "\n",
    "    tot_miles = temp_gdf['dist_miles'].sum()    \n",
    "    dist_units = 'miles'\n",
    "    if tot_miles < .25:\n",
    "        tot_dist = int(round(temp_gdf['dist'].sum(), 0))\n",
    "        dist_units = 'feet'        \n",
    "    elif tot_miles >= .25 and tot_miles <= 5:    \n",
    "        tot_dist = tot_miles\n",
    "        tot_dist = round(tot_dist, 2)        \n",
    "    else:\n",
    "        tot_dist = int(round(tot_miles, 0))        \n",
    "        \n",
    "    my_title =   \"Histogram of within-sector added road segment length: {} (n = {} | {} {})\".format(ost, n_added, tot_dist, dist_units )\n",
    "    \n",
    "    plt.title(label = my_title, fontsize = 16)\n",
    "    plt.xlabel(xlabel = 'Added road segment length (log-scale)')\n",
    "    plt.ylabel(ylabel = \"Number of added road segments\")\n",
    "    \n",
    "    if x_max > 1:\n",
    "        x_tick_labels = [50 / 5280, 100 / 5280, 300 / 5280, .1, .25, .5, 1, 2, 3]\n",
    "        x_tick_label_text = ['50 ft', '100 ft', '300 ft',  '1/10 mi', '1/4 mi', '1/2 mi', '1 mi', '2 mi', '3 mi']\n",
    "    else:\n",
    "        x_tick_labels = [50 / 5280, 100 / 5280, 300 / 5280, .1, .25, .5, 1]\n",
    "        x_tick_label_text = ['50 ft', '100 ft', '300 ft',  '1/10 mi', '1/4 mi', '1/2 mi', '1 mi']\n",
    "        \n",
    "    x_ticks = [np.log10(xtl) for xtl in x_tick_labels]\n",
    "    \n",
    "    my_plot.set_xticks(ticks = x_ticks)\n",
    "    my_plot.set_xticklabels(labels = x_tick_label_text, rotation=0)        \n",
    "    \n",
    "    output_file_name = '..\\\\graphics\\\\histogram_ws_{}.png'.format(row['ord_street_type'])\n",
    "    output_file_name = os.path.normpath(output_file_name)\n",
    "    print(output_file_name)\n",
    "    my_plot.get_figure().savefig(fname = output_file_name)\n",
    "    plt.close()"
   ]
  },
  {
   "cell_type": "markdown",
   "id": "752c0d79",
   "metadata": {},
   "source": [
    "## cross-sector added streets"
   ]
  },
  {
   "cell_type": "code",
   "execution_count": 152,
   "id": "c42b093a",
   "metadata": {},
   "outputs": [
    {
     "name": "stdout",
     "output_type": "stream",
     "text": [
      "11.12777830391803\n",
      "..\\graphics\\histogram_cs_AVE.png\n",
      "0.04605250958975585\n",
      "..\\graphics\\histogram_cs_BLVD.png\n",
      "3.848200891309714\n",
      "..\\graphics\\histogram_cs_CT.png\n",
      "8.793808719286599\n",
      "..\\graphics\\histogram_cs_DR.png\n",
      "2.1419286774069763\n",
      "..\\graphics\\histogram_cs_RD.png\n",
      "8.832586832112682\n",
      "..\\graphics\\histogram_cs_ST.png\n",
      "1.5325142173098012\n",
      "..\\graphics\\histogram_cs_WAY.png\n"
     ]
    }
   ],
   "source": [
    "w_ds_df = ds_df.loc[ds_df['street_status'] == 3, :]\n",
    "for ir, row in w_ds_df.iterrows():\n",
    "    # let's make a graphic showing the distances\n",
    "    sns.set_theme(style = \"whitegrid\")\n",
    "    f, ax = plt.subplots(figsize = (20, 5))\n",
    "\n",
    "    # set the top part of the plot frame - the spine - to black\n",
    "    ax.spines['top'].set_edgecolor(color = 'black')\n",
    "\n",
    "    x_max = row['max']\n",
    "    print(x_max)\n",
    "    ost = row['ord_street_type']    \n",
    "    \n",
    "    if x_max > 1:\n",
    "        xlim_max = 1.2\n",
    "    else:\n",
    "        xlim_max = 0\n",
    "    ax.set_xlim(-3.2, xlim_max)\n",
    "\n",
    "    temp_gdf = wms_gdf.loc[(wms_gdf['ord_street_type'] == ost) &\n",
    "                           (wms_gdf['street_status'] == 3), :]\n",
    "    my_plot = sns.histplot(data = temp_gdf, x = 'dist_miles_log',\n",
    "                          color='#1a4bed', bins = 100)\n",
    "    \n",
    "    # total added streets\n",
    "    n_added = temp_gdf.shape[0]\n",
    "    n_added =  f\"{n_added:,}\"\n",
    "\n",
    "    tot_miles = temp_gdf['dist_miles'].sum()    \n",
    "    dist_units = 'miles'\n",
    "    if tot_miles < .25:\n",
    "        tot_dist = int(round(temp_gdf['dist'].sum(), 0))\n",
    "        dist_units = 'feet'        \n",
    "    elif tot_miles >= .25 and tot_miles <= 5:    \n",
    "        tot_dist = tot_miles\n",
    "        tot_dist = round(tot_dist, 2)        \n",
    "    else:\n",
    "        tot_dist = int(round(tot_miles, 0))        \n",
    "        \n",
    "    my_title =   \"Histogram of cross-sector added road segment length: {} (n = {} | {} {})\".format(ost, n_added, tot_dist, dist_units )\n",
    "    \n",
    "    plt.title(label = my_title, fontsize = 16)\n",
    "    plt.xlabel(xlabel = 'Added road segment length (log-scale)')\n",
    "    plt.ylabel(ylabel = \"Number of added road segments\")\n",
    "    \n",
    "    if x_max > 1:\n",
    "        x_tick_labels = [50 / 5280, 100 / 5280, 300 / 5280, .1, .25, .5, 1, 3, 5, 10]\n",
    "        x_tick_label_text = ['50 ft', '100 ft', '300 ft',  '1/10 mi', '1/4 mi', '1/2 mi', '1 mi', '3 mi', '5 mi', '10 mi']\n",
    "    else:\n",
    "        x_tick_labels = [50 / 5280, 100 / 5280, 300 / 5280, .1, .25, .5, 1]\n",
    "        x_tick_label_text = ['50 ft', '100 ft', '300 ft',  '1/10 mi', '1/4 mi', '1/2 mi', '1 mi']\n",
    "        \n",
    "    x_ticks = [np.log10(xtl) for xtl in x_tick_labels]\n",
    "    \n",
    "    my_plot.set_xticks(ticks = x_ticks)\n",
    "    my_plot.set_xticklabels(labels = x_tick_label_text, rotation=0)    \n",
    "    \n",
    "    \n",
    "    output_file_name = '..\\\\graphics\\\\histogram_cs_{}.png'.format(row['ord_street_type'])\n",
    "    output_file_name = os.path.normpath(output_file_name)\n",
    "    print(output_file_name)\n",
    "    my_plot.get_figure().savefig(fname = output_file_name)\n",
    "    plt.close()"
   ]
  },
  {
   "cell_type": "markdown",
   "id": "0355753c",
   "metadata": {},
   "source": [
    "# barplot of total added miles"
   ]
  },
  {
   "cell_type": "code",
   "execution_count": 153,
   "id": "de5e38e3-2524-4ee8-b278-d076b15ce789",
   "metadata": {},
   "outputs": [],
   "source": [
    "col_names = ['ord_street_type', 'street_status_desc', 'dist_miles']\n",
    "ds_st_df = gdf[col_names].groupby(col_names[:-1]).agg(n_segments = ('dist_miles', 'size'),\n",
    "                                                      n_miles = ('dist_miles', 'sum')).reset_index()"
   ]
  },
  {
   "cell_type": "code",
   "execution_count": 154,
   "id": "e708690f",
   "metadata": {},
   "outputs": [
    {
     "data": {
      "text/html": [
       "<div>\n",
       "<style scoped>\n",
       "    .dataframe tbody tr th:only-of-type {\n",
       "        vertical-align: middle;\n",
       "    }\n",
       "\n",
       "    .dataframe tbody tr th {\n",
       "        vertical-align: top;\n",
       "    }\n",
       "\n",
       "    .dataframe thead th {\n",
       "        text-align: right;\n",
       "    }\n",
       "</style>\n",
       "<table border=\"1\" class=\"dataframe\">\n",
       "  <thead>\n",
       "    <tr style=\"text-align: right;\">\n",
       "      <th></th>\n",
       "      <th>ord_street_type</th>\n",
       "      <th>street_status_desc</th>\n",
       "      <th>n_segments</th>\n",
       "      <th>n_miles</th>\n",
       "    </tr>\n",
       "  </thead>\n",
       "  <tbody>\n",
       "    <tr>\n",
       "      <th>0</th>\n",
       "      <td>AVE</td>\n",
       "      <td>added_street: cross-sector</td>\n",
       "      <td>193</td>\n",
       "      <td>560.253713</td>\n",
       "    </tr>\n",
       "    <tr>\n",
       "      <th>1</th>\n",
       "      <td>AVE</td>\n",
       "      <td>added_street: within-sector</td>\n",
       "      <td>1728</td>\n",
       "      <td>431.877647</td>\n",
       "    </tr>\n",
       "    <tr>\n",
       "      <th>2</th>\n",
       "      <td>AVE</td>\n",
       "      <td>continuous_street</td>\n",
       "      <td>906</td>\n",
       "      <td>72.647575</td>\n",
       "    </tr>\n",
       "    <tr>\n",
       "      <th>3</th>\n",
       "      <td>AVE</td>\n",
       "      <td>discontinuous_street</td>\n",
       "      <td>10531</td>\n",
       "      <td>857.534570</td>\n",
       "    </tr>\n",
       "    <tr>\n",
       "      <th>4</th>\n",
       "      <td>BLVD</td>\n",
       "      <td>added_street: cross-sector</td>\n",
       "      <td>1</td>\n",
       "      <td>0.046053</td>\n",
       "    </tr>\n",
       "  </tbody>\n",
       "</table>\n",
       "</div>"
      ],
      "text/plain": [
       "  ord_street_type           street_status_desc  n_segments     n_miles\n",
       "0             AVE   added_street: cross-sector         193  560.253713\n",
       "1             AVE  added_street: within-sector        1728  431.877647\n",
       "2             AVE            continuous_street         906   72.647575\n",
       "3             AVE         discontinuous_street       10531  857.534570\n",
       "4            BLVD   added_street: cross-sector           1    0.046053"
      ]
     },
     "execution_count": 154,
     "metadata": {},
     "output_type": "execute_result"
    }
   ],
   "source": [
    "ds_st_df.head()"
   ]
  },
  {
   "cell_type": "code",
   "execution_count": 155,
   "id": "3b55634b",
   "metadata": {},
   "outputs": [],
   "source": [
    "col_names = ['street_status_desc', 'dist_miles']\n",
    "all_ds_st_df = gdf[col_names].groupby(col_names[:-1]).agg(n_segments = ('dist_miles', 'size'),\n",
    "                                                      n_miles = ('dist_miles', 'sum')).reset_index()"
   ]
  },
  {
   "cell_type": "code",
   "execution_count": 156,
   "id": "d03b7a18",
   "metadata": {},
   "outputs": [],
   "source": [
    "all_ds_st_df['ord_street_type'] = 'ALL'"
   ]
  },
  {
   "cell_type": "code",
   "execution_count": 157,
   "id": "030a6f3b",
   "metadata": {},
   "outputs": [],
   "source": [
    "col_names = ['ord_street_type', 'street_status_desc', 'n_segments', 'n_miles']\n",
    "all_ds_st_df = all_ds_st_df[col_names]"
   ]
  },
  {
   "cell_type": "code",
   "execution_count": 158,
   "id": "73b71b61",
   "metadata": {},
   "outputs": [],
   "source": [
    "ds_st_df = pd.concat(objs = [all_ds_st_df, ds_st_df])"
   ]
  },
  {
   "cell_type": "code",
   "execution_count": 159,
   "id": "42b47ed8",
   "metadata": {},
   "outputs": [
    {
     "data": {
      "text/html": [
       "<div>\n",
       "<style scoped>\n",
       "    .dataframe tbody tr th:only-of-type {\n",
       "        vertical-align: middle;\n",
       "    }\n",
       "\n",
       "    .dataframe tbody tr th {\n",
       "        vertical-align: top;\n",
       "    }\n",
       "\n",
       "    .dataframe thead th {\n",
       "        text-align: right;\n",
       "    }\n",
       "</style>\n",
       "<table border=\"1\" class=\"dataframe\">\n",
       "  <thead>\n",
       "    <tr style=\"text-align: right;\">\n",
       "      <th></th>\n",
       "      <th>ord_street_type</th>\n",
       "      <th>street_status_desc</th>\n",
       "      <th>n_segments</th>\n",
       "      <th>n_miles</th>\n",
       "    </tr>\n",
       "  </thead>\n",
       "  <tbody>\n",
       "    <tr>\n",
       "      <th>0</th>\n",
       "      <td>ALL</td>\n",
       "      <td>added_street: cross-sector</td>\n",
       "      <td>410</td>\n",
       "      <td>823.728529</td>\n",
       "    </tr>\n",
       "    <tr>\n",
       "      <th>1</th>\n",
       "      <td>ALL</td>\n",
       "      <td>added_street: within-sector</td>\n",
       "      <td>3617</td>\n",
       "      <td>833.487569</td>\n",
       "    </tr>\n",
       "    <tr>\n",
       "      <th>2</th>\n",
       "      <td>ALL</td>\n",
       "      <td>continuous_street</td>\n",
       "      <td>3810</td>\n",
       "      <td>311.804778</td>\n",
       "    </tr>\n",
       "    <tr>\n",
       "      <th>3</th>\n",
       "      <td>ALL</td>\n",
       "      <td>discontinuous_street</td>\n",
       "      <td>21940</td>\n",
       "      <td>1578.369226</td>\n",
       "    </tr>\n",
       "    <tr>\n",
       "      <th>0</th>\n",
       "      <td>AVE</td>\n",
       "      <td>added_street: cross-sector</td>\n",
       "      <td>193</td>\n",
       "      <td>560.253713</td>\n",
       "    </tr>\n",
       "  </tbody>\n",
       "</table>\n",
       "</div>"
      ],
      "text/plain": [
       "  ord_street_type           street_status_desc  n_segments      n_miles\n",
       "0             ALL   added_street: cross-sector         410   823.728529\n",
       "1             ALL  added_street: within-sector        3617   833.487569\n",
       "2             ALL            continuous_street        3810   311.804778\n",
       "3             ALL         discontinuous_street       21940  1578.369226\n",
       "0             AVE   added_street: cross-sector         193   560.253713"
      ]
     },
     "execution_count": 159,
     "metadata": {},
     "output_type": "execute_result"
    }
   ],
   "source": [
    "ds_st_df.head()"
   ]
  },
  {
   "cell_type": "code",
   "execution_count": 160,
   "id": "c1e8d055",
   "metadata": {},
   "outputs": [],
   "source": [
    "ds_st_df['n_miles_log'] = np.log(ds_st_df['n_miles'])\n",
    "ds_st_df['street_status_desc'] = ds_st_df['street_status_desc'].str.replace('_', ' ')"
   ]
  },
  {
   "cell_type": "code",
   "execution_count": 161,
   "id": "af3ec83b",
   "metadata": {},
   "outputs": [
    {
     "name": "stdout",
     "output_type": "stream",
     "text": [
      "..\\graphics\\barplot_miles.png\n"
     ]
    },
    {
     "data": {
      "image/png": "[encoded data removed]",
      "text/plain": [
       "<Figure size 2000x500 with 1 Axes>"
      ]
     },
     "metadata": {},
     "output_type": "display_data"
    }
   ],
   "source": [
    "sns.set_theme(style = \"whitegrid\")\n",
    "f, ax = plt.subplots(figsize = (20, 5))\n",
    "ax.set_ylim(0, 1600)\n",
    "\n",
    "# these are the same green, black, and red colors used in qGIS. \n",
    "my_color_palette = {'continuous street': '#33a02c',\n",
    "'discontinuous street': '#000000',\n",
    "'added street: within-sector': '#ca0020',\n",
    "'added street: cross-sector': '#1a4bed'}\n",
    "\n",
    "my_plot = sns.barplot(data = ds_st_df, x = 'ord_street_type', y = 'n_miles',\n",
    "                      hue = 'street_status_desc', palette=my_color_palette)\n",
    "\n",
    "# set the top part of the plot frame - the spine - to black\n",
    "ax.spines['top'].set_edgecolor(color = 'black')\n",
    "\n",
    "y_ticks = list(range(0, 1601, 200))\n",
    "y_tick_labels_formatted = ['{:,}'.format(ytl) for ytl in y_ticks]   \n",
    "\n",
    "my_plot.set_yticks(ticks = y_ticks)\n",
    "my_plot.set_yticklabels(labels = y_tick_labels_formatted, rotation=0)\n",
    "\n",
    "my_title = \"Total miles by road types and road status\"\n",
    "\n",
    "plt.title(label = my_title, fontsize = 16)\n",
    "plt.xlabel(xlabel = 'Road type')\n",
    "plt.ylabel(ylabel = \"Miles\")\n",
    "\n",
    "plt.legend(title='Road status')\n",
    "\n",
    "output_file_name = '..\\\\graphics\\\\barplot_miles.png'\n",
    "output_file_name = os.path.normpath(output_file_name)\n",
    "print(output_file_name)\n",
    "my_plot.get_figure().savefig(fname = output_file_name)\n",
    "plt.show()"
   ]
  },
  {
   "cell_type": "code",
   "execution_count": 162,
   "id": "8665cc98",
   "metadata": {},
   "outputs": [
    {
     "data": {
      "text/html": [
       "<div>\n",
       "<style scoped>\n",
       "    .dataframe tbody tr th:only-of-type {\n",
       "        vertical-align: middle;\n",
       "    }\n",
       "\n",
       "    .dataframe tbody tr th {\n",
       "        vertical-align: top;\n",
       "    }\n",
       "\n",
       "    .dataframe thead th {\n",
       "        text-align: right;\n",
       "    }\n",
       "</style>\n",
       "<table border=\"1\" class=\"dataframe\">\n",
       "  <thead>\n",
       "    <tr style=\"text-align: right;\">\n",
       "      <th></th>\n",
       "      <th>n_segments</th>\n",
       "      <th>n_miles</th>\n",
       "      <th>n_miles_log</th>\n",
       "    </tr>\n",
       "  </thead>\n",
       "  <tbody>\n",
       "    <tr>\n",
       "      <th>count</th>\n",
       "      <td>46.000000</td>\n",
       "      <td>46.000000</td>\n",
       "      <td>46.000000</td>\n",
       "    </tr>\n",
       "    <tr>\n",
       "      <th>mean</th>\n",
       "      <td>1294.652174</td>\n",
       "      <td>154.234352</td>\n",
       "      <td>2.103562</td>\n",
       "    </tr>\n",
       "    <tr>\n",
       "      <th>std</th>\n",
       "      <td>3823.508791</td>\n",
       "      <td>323.631381</td>\n",
       "      <td>3.041143</td>\n",
       "    </tr>\n",
       "    <tr>\n",
       "      <th>min</th>\n",
       "      <td>1.000000</td>\n",
       "      <td>0.015919</td>\n",
       "      <td>-4.140264</td>\n",
       "    </tr>\n",
       "    <tr>\n",
       "      <th>25%</th>\n",
       "      <td>6.000000</td>\n",
       "      <td>1.352368</td>\n",
       "      <td>0.293409</td>\n",
       "    </tr>\n",
       "    <tr>\n",
       "      <th>50%</th>\n",
       "      <td>73.000000</td>\n",
       "      <td>5.316756</td>\n",
       "      <td>1.670862</td>\n",
       "    </tr>\n",
       "    <tr>\n",
       "      <th>75%</th>\n",
       "      <td>524.000000</td>\n",
       "      <td>56.105832</td>\n",
       "      <td>4.027209</td>\n",
       "    </tr>\n",
       "    <tr>\n",
       "      <th>max</th>\n",
       "      <td>21940.000000</td>\n",
       "      <td>1578.369226</td>\n",
       "      <td>7.364147</td>\n",
       "    </tr>\n",
       "  </tbody>\n",
       "</table>\n",
       "</div>"
      ],
      "text/plain": [
       "         n_segments      n_miles  n_miles_log\n",
       "count     46.000000    46.000000    46.000000\n",
       "mean    1294.652174   154.234352     2.103562\n",
       "std     3823.508791   323.631381     3.041143\n",
       "min        1.000000     0.015919    -4.140264\n",
       "25%        6.000000     1.352368     0.293409\n",
       "50%       73.000000     5.316756     1.670862\n",
       "75%      524.000000    56.105832     4.027209\n",
       "max    21940.000000  1578.369226     7.364147"
      ]
     },
     "execution_count": 162,
     "metadata": {},
     "output_type": "execute_result"
    }
   ],
   "source": [
    "ds_st_df.describe()"
   ]
  },
  {
   "cell_type": "code",
   "execution_count": 163,
   "id": "a2c5929c",
   "metadata": {},
   "outputs": [
    {
     "name": "stdout",
     "output_type": "stream",
     "text": [
      "..\\graphics\\barplot_segment_count.png\n"
     ]
    },
    {
     "data": {
      "image/png": "[encoded data removed]",
      "text/plain": [
       "<Figure size 2000x500 with 1 Axes>"
      ]
     },
     "metadata": {},
     "output_type": "display_data"
    }
   ],
   "source": [
    "sns.set_theme(style = \"whitegrid\")\n",
    "f, ax = plt.subplots(figsize = (20, 5))\n",
    "ax.set_ylim(0, 22000)\n",
    "\n",
    "my_plot = sns.barplot(data = ds_st_df, x = 'ord_street_type', y = 'n_segments',\n",
    "                      hue = 'street_status_desc', palette=my_color_palette)\n",
    "\n",
    "# set the top part of the plot frame - the spine - to black\n",
    "ax.spines['top'].set_edgecolor(color = 'black')\n",
    "\n",
    "y_ticks = list(range(0, 22001, 2000))\n",
    "y_tick_labels_formatted = ['{:,}'.format(ytl) for ytl in y_ticks]   \n",
    "\n",
    "my_plot.set_yticks(ticks = y_ticks)\n",
    "my_plot.set_yticklabels(labels = y_tick_labels_formatted, rotation=0)\n",
    "\n",
    "my_title = \"Total segments by road types and road status\"\n",
    "\n",
    "plt.title(label = my_title, fontsize = 16)\n",
    "plt.xlabel(xlabel = 'Road type')\n",
    "plt.ylabel(ylabel = \"Number of segments\")\n",
    "\n",
    "plt.legend(title='Road status')\n",
    "\n",
    "output_file_name = '..\\\\graphics\\\\barplot_segment_count.png'\n",
    "output_file_name = os.path.normpath(output_file_name)\n",
    "print(output_file_name)\n",
    "my_plot.get_figure().savefig(fname = output_file_name)\n",
    "plt.show()"
   ]
  },
  {
   "cell_type": "markdown",
   "id": "373e2c7c",
   "metadata": {},
   "source": [
    "# plot ratio of added streets to existing streets"
   ]
  },
  {
   "cell_type": "code",
   "execution_count": null,
   "id": "38ba1b3e",
   "metadata": {},
   "outputs": [],
   "source": [
    "# select only the added and existing streets\n",
    "w_gdf = gdf.loc[gdf['street_status'].isin([1,2]), :]"
   ]
  },
  {
   "cell_type": "code",
   "execution_count": 167,
   "id": "5164c8f1",
   "metadata": {},
   "outputs": [],
   "source": [
    "# pivot the data so we can compute the ratio of existing street segments to the added streets\n",
    "pv_df = pd.pivot_table(data = w_gdf, values = 'dist_miles',index = ['city_sector', 'ord_stname_concat'],\n",
    "                        columns='street_status_desc',aggfunc='sum',fill_value=0,margins=False).reset_index()"
   ]
  },
  {
   "cell_type": "code",
   "execution_count": 168,
   "id": "fbd62fea",
   "metadata": {},
   "outputs": [
    {
     "data": {
      "text/plain": [
       "(1308, 4)"
      ]
     },
     "execution_count": 168,
     "metadata": {},
     "output_type": "execute_result"
    }
   ],
   "source": [
    "pv_df.shape"
   ]
  },
  {
   "cell_type": "code",
   "execution_count": 169,
   "id": "245fc757",
   "metadata": {},
   "outputs": [],
   "source": [
    "# rename\n",
    "pv_df.columns = ['city_sector', 'ord_stname_concat', 'added_street_within_sector', 'discontinuous_street']"
   ]
  },
  {
   "cell_type": "code",
   "execution_count": 170,
   "id": "5958005f",
   "metadata": {},
   "outputs": [],
   "source": [
    "# drop the streets that are only discontinuous across sectors\n",
    "# keep only the streets that are discontinuous within sectors\n",
    "pv_df = pv_df.loc[pv_df['added_street_within_sector'] != 0, ]"
   ]
  },
  {
   "cell_type": "code",
   "execution_count": 171,
   "id": "345a14da",
   "metadata": {},
   "outputs": [
    {
     "data": {
      "text/plain": [
       "(1103, 4)"
      ]
     },
     "execution_count": 171,
     "metadata": {},
     "output_type": "execute_result"
    }
   ],
   "source": [
    "pv_df.shape"
   ]
  },
  {
   "cell_type": "code",
   "execution_count": 175,
   "id": "169682c6",
   "metadata": {},
   "outputs": [],
   "source": [
    "# compute the ratio of discontinuous streets to added streets\n",
    "# values GTE 1 indicate there is more existing street than added street\n",
    "pv_df['street_ratio'] = pv_df['discontinuous_street'] / pv_df['added_street_within_sector']\n",
    "\n",
    "# Flag streets that are LT 1 and GTE 1 \n",
    "pv_df['street_ratio_hue'] = int(0)\n",
    "pv_df.loc[pv_df['street_ratio'] >= 1, 'street_ratio_hue'] = int(1)"
   ]
  },
  {
   "cell_type": "code",
   "execution_count": null,
   "id": "a47ac61c",
   "metadata": {},
   "outputs": [],
   "source": [
    "# log transform the length measurement of each street - this will help with plotting\n",
    "pv_df['discontinuous_street_log'] = np.log10(pv_df['discontinuous_street'])\n",
    "pv_df['added_street_within_sector_log'] = np.log10(pv_df['added_street_within_sector'])"
   ]
  },
  {
   "cell_type": "code",
   "execution_count": 177,
   "id": "90f3fadf",
   "metadata": {},
   "outputs": [
    {
     "data": {
      "text/plain": [
       "count    1103.000000\n",
       "mean       -0.052688\n",
       "std         0.413820\n",
       "min        -1.848859\n",
       "25%        -0.317936\n",
       "50%         0.006399\n",
       "75%         0.245734\n",
       "max         1.137309\n",
       "Name: discontinuous_street_log, dtype: float64"
      ]
     },
     "execution_count": 177,
     "metadata": {},
     "output_type": "execute_result"
    }
   ],
   "source": [
    "pv_df['discontinuous_street_log'].describe()"
   ]
  },
  {
   "cell_type": "code",
   "execution_count": 182,
   "id": "bafc5171",
   "metadata": {},
   "outputs": [
    {
     "data": {
      "text/html": [
       "<div>\n",
       "<style scoped>\n",
       "    .dataframe tbody tr th:only-of-type {\n",
       "        vertical-align: middle;\n",
       "    }\n",
       "\n",
       "    .dataframe tbody tr th {\n",
       "        vertical-align: top;\n",
       "    }\n",
       "\n",
       "    .dataframe thead th {\n",
       "        text-align: right;\n",
       "    }\n",
       "</style>\n",
       "<table border=\"1\" class=\"dataframe\">\n",
       "  <thead>\n",
       "    <tr style=\"text-align: right;\">\n",
       "      <th></th>\n",
       "      <th>city_sector</th>\n",
       "      <th>ord_stname_concat</th>\n",
       "      <th>added_street_within_sector</th>\n",
       "      <th>discontinuous_street</th>\n",
       "      <th>street_ratio</th>\n",
       "      <th>discontinuous_street_log</th>\n",
       "      <th>added_street_within_sector_log</th>\n",
       "      <th>street_ratio_hue</th>\n",
       "    </tr>\n",
       "  </thead>\n",
       "  <tbody>\n",
       "    <tr>\n",
       "      <th>0</th>\n",
       "      <td>CNTR</td>\n",
       "      <td>10TH AVE</td>\n",
       "      <td>0.412324</td>\n",
       "      <td>0.528322</td>\n",
       "      <td>1.281327</td>\n",
       "      <td>-0.277101</td>\n",
       "      <td>-0.384761</td>\n",
       "      <td>1</td>\n",
       "    </tr>\n",
       "    <tr>\n",
       "      <th>1</th>\n",
       "      <td>CNTR</td>\n",
       "      <td>11TH AVE</td>\n",
       "      <td>0.291208</td>\n",
       "      <td>0.818979</td>\n",
       "      <td>2.812346</td>\n",
       "      <td>-0.086727</td>\n",
       "      <td>-0.535796</td>\n",
       "      <td>1</td>\n",
       "    </tr>\n",
       "    <tr>\n",
       "      <th>3</th>\n",
       "      <td>CNTR</td>\n",
       "      <td>13TH AVE</td>\n",
       "      <td>0.200588</td>\n",
       "      <td>0.981715</td>\n",
       "      <td>4.894174</td>\n",
       "      <td>-0.008015</td>\n",
       "      <td>-0.697694</td>\n",
       "      <td>1</td>\n",
       "    </tr>\n",
       "    <tr>\n",
       "      <th>5</th>\n",
       "      <td>CNTR</td>\n",
       "      <td>15TH AVE</td>\n",
       "      <td>0.026696</td>\n",
       "      <td>1.136307</td>\n",
       "      <td>42.563924</td>\n",
       "      <td>0.055496</td>\n",
       "      <td>-1.573546</td>\n",
       "      <td>1</td>\n",
       "    </tr>\n",
       "    <tr>\n",
       "      <th>6</th>\n",
       "      <td>CNTR</td>\n",
       "      <td>16TH AVE</td>\n",
       "      <td>0.044515</td>\n",
       "      <td>1.147012</td>\n",
       "      <td>25.766973</td>\n",
       "      <td>0.059568</td>\n",
       "      <td>-1.351496</td>\n",
       "      <td>1</td>\n",
       "    </tr>\n",
       "  </tbody>\n",
       "</table>\n",
       "</div>"
      ],
      "text/plain": [
       "  city_sector ord_stname_concat  added_street_within_sector  \\\n",
       "0        CNTR          10TH AVE                    0.412324   \n",
       "1        CNTR          11TH AVE                    0.291208   \n",
       "3        CNTR          13TH AVE                    0.200588   \n",
       "5        CNTR          15TH AVE                    0.026696   \n",
       "6        CNTR          16TH AVE                    0.044515   \n",
       "\n",
       "   discontinuous_street  street_ratio  discontinuous_street_log  \\\n",
       "0              0.528322      1.281327                 -0.277101   \n",
       "1              0.818979      2.812346                 -0.086727   \n",
       "3              0.981715      4.894174                 -0.008015   \n",
       "5              1.136307     42.563924                  0.055496   \n",
       "6              1.147012     25.766973                  0.059568   \n",
       "\n",
       "   added_street_within_sector_log  street_ratio_hue  \n",
       "0                       -0.384761                 1  \n",
       "1                       -0.535796                 1  \n",
       "3                       -0.697694                 1  \n",
       "5                       -1.573546                 1  \n",
       "6                       -1.351496                 1  "
      ]
     },
     "execution_count": 182,
     "metadata": {},
     "output_type": "execute_result"
    }
   ],
   "source": [
    "pv_df.head()"
   ]
  },
  {
   "cell_type": "code",
   "execution_count": 215,
   "id": "10defe57",
   "metadata": {},
   "outputs": [],
   "source": [
    "pv_df['record_count'] = int(1)"
   ]
  },
  {
   "cell_type": "code",
   "execution_count": 218,
   "id": "527dc6bc",
   "metadata": {},
   "outputs": [
    {
     "data": {
      "text/html": [
       "<div>\n",
       "<style scoped>\n",
       "    .dataframe tbody tr th:only-of-type {\n",
       "        vertical-align: middle;\n",
       "    }\n",
       "\n",
       "    .dataframe tbody tr th {\n",
       "        vertical-align: top;\n",
       "    }\n",
       "\n",
       "    .dataframe thead th {\n",
       "        text-align: right;\n",
       "    }\n",
       "</style>\n",
       "<table border=\"1\" class=\"dataframe\">\n",
       "  <thead>\n",
       "    <tr style=\"text-align: right;\">\n",
       "      <th></th>\n",
       "      <th>city_sector</th>\n",
       "      <th>added_is_gt</th>\n",
       "      <th>existing_is_gt</th>\n",
       "      <th>total_streets</th>\n",
       "      <th>added_is_gt_per</th>\n",
       "      <th>existing_is_gt_per</th>\n",
       "    </tr>\n",
       "  </thead>\n",
       "  <tbody>\n",
       "    <tr>\n",
       "      <th>0</th>\n",
       "      <td>CNTR</td>\n",
       "      <td>6</td>\n",
       "      <td>58</td>\n",
       "      <td>64</td>\n",
       "      <td>0.093750</td>\n",
       "      <td>0.906250</td>\n",
       "    </tr>\n",
       "    <tr>\n",
       "      <th>1</th>\n",
       "      <td>E</td>\n",
       "      <td>14</td>\n",
       "      <td>75</td>\n",
       "      <td>89</td>\n",
       "      <td>0.157303</td>\n",
       "      <td>0.842697</td>\n",
       "    </tr>\n",
       "    <tr>\n",
       "      <th>2</th>\n",
       "      <td>N</td>\n",
       "      <td>27</td>\n",
       "      <td>86</td>\n",
       "      <td>113</td>\n",
       "      <td>0.238938</td>\n",
       "      <td>0.761062</td>\n",
       "    </tr>\n",
       "    <tr>\n",
       "      <th>3</th>\n",
       "      <td>NE</td>\n",
       "      <td>61</td>\n",
       "      <td>119</td>\n",
       "      <td>180</td>\n",
       "      <td>0.338889</td>\n",
       "      <td>0.661111</td>\n",
       "    </tr>\n",
       "    <tr>\n",
       "      <th>4</th>\n",
       "      <td>NW</td>\n",
       "      <td>15</td>\n",
       "      <td>82</td>\n",
       "      <td>97</td>\n",
       "      <td>0.154639</td>\n",
       "      <td>0.845361</td>\n",
       "    </tr>\n",
       "  </tbody>\n",
       "</table>\n",
       "</div>"
      ],
      "text/plain": [
       "  city_sector  added_is_gt  existing_is_gt  total_streets  added_is_gt_per  \\\n",
       "0        CNTR            6              58             64         0.093750   \n",
       "1           E           14              75             89         0.157303   \n",
       "2           N           27              86            113         0.238938   \n",
       "3          NE           61             119            180         0.338889   \n",
       "4          NW           15              82             97         0.154639   \n",
       "\n",
       "   existing_is_gt_per  \n",
       "0            0.906250  \n",
       "1            0.842697  \n",
       "2            0.761062  \n",
       "3            0.661111  \n",
       "4            0.845361  "
      ]
     },
     "execution_count": 218,
     "metadata": {},
     "output_type": "execute_result"
    }
   ],
   "source": [
    "pv_pv_df = pd.pivot_table(data = pv_df, values = 'record_count', index = 'city_sector',\n",
    "                          columns = 'street_ratio_hue', aggfunc='sum', margins = True).reset_index()\n",
    "pv_pv_df.columns = ['city_sector', 'added_is_gt', 'existing_is_gt', 'total_streets']\n",
    "col_names = ['added_is_gt', 'existing_is_gt']\n",
    "for cn in col_names:\n",
    "    ncn = cn + '_per'\n",
    "    pv_pv_df[ncn] = pv_pv_df[cn] / pv_pv_df['total_streets']\n",
    "pv_pv_df.head()"
   ]
  },
  {
   "cell_type": "code",
   "execution_count": null,
   "id": "3967f7e3",
   "metadata": {},
   "outputs": [],
   "source": [
    "# aggregate to get the sums of miles thing!\n",
    "col_names = ['city_sector', 'added_street_within_sector', 'discontinuous_street']\n",
    "pv_agg = pv_df[col_names].groupby(col_names[:-2]).agg(added_street_within_sector = ('added_street_within_sector', 'mean'),\n",
    "                                                      discontinuous_street = ('discontinuous_street', 'mean')).reset_index()\n",
    "pv_agg['street_ratio'] = pv_agg['discontinuous_street'] / pv_agg['added_street_within_sector']\n",
    "\n"
   ]
  },
  {
   "cell_type": "code",
   "execution_count": 220,
   "id": "23753b4c",
   "metadata": {},
   "outputs": [
    {
     "data": {
      "text/plain": [
       "['city_sector',\n",
       " 'added_is_gt',\n",
       " 'existing_is_gt',\n",
       " 'total_streets',\n",
       " 'added_is_gt_per',\n",
       " 'existing_is_gt_per']"
      ]
     },
     "execution_count": 220,
     "metadata": {},
     "output_type": "execute_result"
    }
   ],
   "source": [
    "pv_pv_df.columns.to_list()"
   ]
  },
  {
   "cell_type": "code",
   "execution_count": 192,
   "id": "e4eafe16",
   "metadata": {},
   "outputs": [
    {
     "data": {
      "text/html": [
       "<div>\n",
       "<style scoped>\n",
       "    .dataframe tbody tr th:only-of-type {\n",
       "        vertical-align: middle;\n",
       "    }\n",
       "\n",
       "    .dataframe tbody tr th {\n",
       "        vertical-align: top;\n",
       "    }\n",
       "\n",
       "    .dataframe thead th {\n",
       "        text-align: right;\n",
       "    }\n",
       "</style>\n",
       "<table border=\"1\" class=\"dataframe\">\n",
       "  <thead>\n",
       "    <tr style=\"text-align: right;\">\n",
       "      <th></th>\n",
       "      <th>city_sector</th>\n",
       "      <th>added_street_within_sector</th>\n",
       "      <th>discontinuous_street</th>\n",
       "      <th>street_ratio</th>\n",
       "    </tr>\n",
       "  </thead>\n",
       "  <tbody>\n",
       "    <tr>\n",
       "      <th>0</th>\n",
       "      <td>CNTR</td>\n",
       "      <td>0.167148</td>\n",
       "      <td>0.699919</td>\n",
       "      <td>4.187412</td>\n",
       "    </tr>\n",
       "    <tr>\n",
       "      <th>1</th>\n",
       "      <td>E</td>\n",
       "      <td>0.414756</td>\n",
       "      <td>1.102470</td>\n",
       "      <td>2.658118</td>\n",
       "    </tr>\n",
       "    <tr>\n",
       "      <th>2</th>\n",
       "      <td>N</td>\n",
       "      <td>0.665375</td>\n",
       "      <td>1.360520</td>\n",
       "      <td>2.044740</td>\n",
       "    </tr>\n",
       "    <tr>\n",
       "      <th>3</th>\n",
       "      <td>NE</td>\n",
       "      <td>0.950520</td>\n",
       "      <td>1.572294</td>\n",
       "      <td>1.654142</td>\n",
       "    </tr>\n",
       "    <tr>\n",
       "      <th>4</th>\n",
       "      <td>NW</td>\n",
       "      <td>0.372054</td>\n",
       "      <td>1.329486</td>\n",
       "      <td>3.573370</td>\n",
       "    </tr>\n",
       "    <tr>\n",
       "      <th>5</th>\n",
       "      <td>S</td>\n",
       "      <td>1.124205</td>\n",
       "      <td>1.321449</td>\n",
       "      <td>1.175452</td>\n",
       "    </tr>\n",
       "    <tr>\n",
       "      <th>6</th>\n",
       "      <td>SW</td>\n",
       "      <td>0.827981</td>\n",
       "      <td>1.431721</td>\n",
       "      <td>1.729171</td>\n",
       "    </tr>\n",
       "    <tr>\n",
       "      <th>7</th>\n",
       "      <td>W</td>\n",
       "      <td>0.360925</td>\n",
       "      <td>1.060645</td>\n",
       "      <td>2.938684</td>\n",
       "    </tr>\n",
       "  </tbody>\n",
       "</table>\n",
       "</div>"
      ],
      "text/plain": [
       "  city_sector  added_street_within_sector  discontinuous_street  street_ratio\n",
       "0        CNTR                    0.167148              0.699919      4.187412\n",
       "1           E                    0.414756              1.102470      2.658118\n",
       "2           N                    0.665375              1.360520      2.044740\n",
       "3          NE                    0.950520              1.572294      1.654142\n",
       "4          NW                    0.372054              1.329486      3.573370\n",
       "5           S                    1.124205              1.321449      1.175452\n",
       "6          SW                    0.827981              1.431721      1.729171\n",
       "7           W                    0.360925              1.060645      2.938684"
      ]
     },
     "metadata": {},
     "output_type": "display_data"
    }
   ],
   "source": [
    "display(pv_agg)"
   ]
  },
  {
   "cell_type": "code",
   "execution_count": 264,
   "id": "c4174f28",
   "metadata": {},
   "outputs": [
    {
     "data": {
      "image/png": "[encoded data removed]",
      "text/plain": [
       "<Figure size 2000x1000 with 8 Axes>"
      ]
     },
     "metadata": {},
     "output_type": "display_data"
    }
   ],
   "source": [
    "# make the plot\n",
    "g = sns.FacetGrid(pv_df, col=\"city_sector\", col_wrap=4, height=5, aspect=1)\n",
    "g.map_dataframe(sns.scatterplot, x=\"added_street_within_sector_log\", y=\"discontinuous_street_log\",\n",
    "                hue = 'street_ratio_hue')\n",
    "\n",
    "# Add a red diagonal line at unity\n",
    "def draw_diagonal(*args, **kwargs):\n",
    "    plt.plot([-3, 1], [-3, 1], color='red', linestyle='--', linewidth=2)\n",
    "\n",
    "g.map(draw_diagonal)\n",
    "\n",
    "g.set(xlim=(-2.5,1.2), ylim=(-2.5,1.2))\n",
    "g.set_axis_labels(\"Added Street Segment Length\", \"Existing Street Segment Length\")\n",
    "#g.set_titles(col_template=\"{col_name}\")\n",
    "\n",
    "# x axis\n",
    "x_tick_labels = [50 / 5280, 100 / 5280, 300 / 5280, .1, .25, .5, 1, 3, 5, 10]\n",
    "x_tick_label_text = ['50 ft', '100 ft', '300 ft',  '1/10 mi', '1/4 mi', '1/2 mi', '1 mi', '3 mi', '5 mi', '10 mi']\n",
    "x_ticks = [np.log10(xtl) for xtl in x_tick_labels]\n",
    "\n",
    "# y axis\n",
    "y_tick_labels = [50 / 5280, 100 / 5280, 300 / 5280, .1, .25, .5, 1, 3, 5, 10]\n",
    "y_tick_label_text = ['50 ft', '100 ft', '300 ft',  '1/10 mi', '1/4 mi', '1/2 mi', '1 mi', '3 mi', '5 mi', '10 mi']\n",
    "y_ticks = [np.log10(ytl) for ytl in y_tick_labels]\n",
    "\n",
    "\n",
    "for ax in g.axes.flat:\n",
    "    #print(dir(ax))\n",
    "    \n",
    "    # x axis\n",
    "    ax.set_xticks(ticks = x_ticks)\n",
    "    ax.set_xticklabels(labels = x_tick_label_text, rotation=45)    \n",
    "\n",
    "    # y axis\n",
    "    ax.set_yticks(ticks = y_ticks)\n",
    "    ax.set_yticklabels(labels = y_tick_label_text, rotation=0)    \n",
    "    \n",
    "    # titles\n",
    "    curr_cs = ax.get_title()[len('city_sector = '):]\n",
    "    #print(curr_title)\n",
    "    \n",
    "    # the average ratio of added to existing streets\n",
    "    curr_row = pv_agg.loc[pv_agg['city_sector']==curr_cs, :].iloc[0].to_list()\n",
    "    avg_added = f'{curr_row[1]:,.2f}'\n",
    "    avg_existing = f'{curr_row[2]:,.2f}'\n",
    "    avg_ratio = f'{curr_row[3]:,.2f}'\n",
    "\n",
    "    curr_title = f\"{curr_cs} Sector \\n Avg. Existing Length {avg_existing} Miles \\n Avg. Added Length {avg_added} Miles \\n Avg. Ratio {avg_ratio}\"\n",
    "    ax.set_title(curr_title)\n",
    "\n",
    "    # the number of streets with more added length than existing length and vice-versa\n",
    "    curr_row = pv_pv_df.loc[pv_pv_df['city_sector']==curr_cs, :].iloc[0].to_list()\n",
    "    added_streets = curr_row[1]\n",
    "    existing_streets = curr_row[2]\n",
    "    total_streets = curr_row[3]\n",
    "    added_streets_per = f'{curr_row[4]:.0%}'\n",
    "    existing_streets_per = f'{curr_row[5]:.0%}'\n",
    "\n",
    "    existing_text = f\"{existing_streets} streets ({existing_streets_per})\"\n",
    "    ax.text(x = -2.2, y = .8, s = existing_text, color = 'black', bbox = {'fc':'tab:orange', 'alpha':1})\n",
    "\n",
    "    added_text = f\"{added_streets} streets ({added_streets_per})\"\n",
    "    ax.text(x = -.8, y = -1.75, s = added_text, color = 'white', bbox = {'fc':'tab:blue', 'alpha':1})\n",
    "\n",
    "    # total streets\n",
    "    total_text = f\"{total_streets} streets total\"\n",
    "    ax.text(x = .1, y = -2.3, s = total_text, bbox = {'fc':'lightgrey','alpha':.5})\n",
    "\n",
    "# Adjust layout\n",
    "plt.tight_layout()\n",
    "plt.show()"
   ]
  }
 ],
 "metadata": {
  "kernelspec": {
   "display_name": "analysis",
   "language": "python",
   "name": "python3"
  },
  "language_info": {
   "codemirror_mode": {
    "name": "ipython",
    "version": 3
   },
   "file_extension": ".py",
   "mimetype": "text/x-python",
   "name": "python",
   "nbconvert_exporter": "python",
   "pygments_lexer": "ipython3",
   "version": "3.12.7"
  }
 },
 "nbformat": 4,
 "nbformat_minor": 5
}
