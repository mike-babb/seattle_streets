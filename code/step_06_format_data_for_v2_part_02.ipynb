{
 "cells": [
  {
   "cell_type": "markdown",
   "id": "fed9e25b-c5b9-4aee-89cd-15a7da3945c0",
   "metadata": {},
   "source": [
    "# Part 03: Find the discontinuities in Seattle's streets\n",
    "michael babb  \n",
    "2024 11 24"
   ]
  },
  {
   "cell_type": "code",
   "execution_count": 1,
   "id": "e88ca8b2-b75d-4e72-8fc7-65c4cea61cde",
   "metadata": {},
   "outputs": [],
   "source": [
    "# standard\n",
    "import os"
   ]
  },
  {
   "cell_type": "code",
   "execution_count": 2,
   "id": "0778d9a5-0c62-4724-be28-c21598d23b6f",
   "metadata": {},
   "outputs": [],
   "source": [
    "# external\n",
    "import geopandas as gpd\n",
    "import matplotlib as mpl\n",
    "from matplotlib.gridspec import GridSpec\n",
    "import matplotlib.pyplot as plt\n",
    "import numpy as np\n",
    "import pandas as pd\n",
    "import seaborn as sns"
   ]
  },
  {
   "cell_type": "code",
   "execution_count": 3,
   "id": "2fc61400-c637-4828-820d-56c2cdd14942",
   "metadata": {},
   "outputs": [],
   "source": [
    "# custom\n",
    "import run_constants as rc\n",
    "from utils import *"
   ]
  },
  {
   "cell_type": "markdown",
   "id": "d56ea77e-ffd7-4326-b793-415f8a131ef2",
   "metadata": {},
   "source": [
    "# load the working seattle street network data"
   ]
  },
  {
   "cell_type": "code",
   "execution_count": 4,
   "id": "ddf62724-9105-44c9-b983-e4f520328fa9",
   "metadata": {},
   "outputs": [],
   "source": [
    "fpn = os.path.join(rc.OUTPUT_FILE_PATH, rc.S03_SND_WORKING_IN_FILE_NAME)"
   ]
  },
  {
   "cell_type": "code",
   "execution_count": 5,
   "id": "2cbdb5c1-c973-4882-b442-cf5396e90d3e",
   "metadata": {},
   "outputs": [],
   "source": [
    "gdf = gpd.read_file(filename = fpn)"
   ]
  },
  {
   "cell_type": "code",
   "execution_count": 6,
   "id": "390b341e",
   "metadata": {},
   "outputs": [
    {
     "data": {
      "text/plain": [
       "(25773, 38)"
      ]
     },
     "execution_count": 6,
     "metadata": {},
     "output_type": "execute_result"
    }
   ],
   "source": [
    "gdf.shape"
   ]
  },
  {
   "cell_type": "code",
   "execution_count": 7,
   "id": "5adf4877",
   "metadata": {},
   "outputs": [
    {
     "data": {
      "text/plain": [
       "(2455,)"
      ]
     },
     "execution_count": 7,
     "metadata": {},
     "output_type": "execute_result"
    }
   ],
   "source": [
    "gdf['ord_stname_concat'].unique().shape"
   ]
  },
  {
   "cell_type": "markdown",
   "id": "bdc6814a",
   "metadata": {},
   "source": [
    "## load the manually created street group data\n",
    "These data were created in Step 6, but we'll bring them into the Step 3 workflow."
   ]
  },
  {
   "cell_type": "code",
   "execution_count": 8,
   "id": "b490fe46",
   "metadata": {},
   "outputs": [],
   "source": [
    "fpn = os.path.join(rc.INPUT_FILE_PATH, rc.S03_STREET_GROUP_IN_FILE_NAME)"
   ]
  },
  {
   "cell_type": "code",
   "execution_count": 9,
   "id": "7fa5dd23",
   "metadata": {},
   "outputs": [],
   "source": [
    "index_cols = ['sort_order', 'ord_street_name', 'ord_street_type', 'city_portion']\n",
    "sg_df = pd.read_excel(io = fpn, index_col=[0, 1, 2, 3])\n",
    "sg_df = sg_df.reset_index()"
   ]
  },
  {
   "cell_type": "code",
   "execution_count": 10,
   "id": "23379a66",
   "metadata": {},
   "outputs": [],
   "source": [
    "drop_cols = ['sort_order', 'progress', 'count']\n",
    "sg_df = sg_df.drop(labels = drop_cols, axis = 1)\n"
   ]
  },
  {
   "cell_type": "code",
   "execution_count": null,
   "id": "bdf79428",
   "metadata": {},
   "outputs": [],
   "source": []
  },
  {
   "cell_type": "code",
   "execution_count": 11,
   "id": "854d1ddd",
   "metadata": {},
   "outputs": [
    {
     "data": {
      "text/plain": [
       "_merge\n",
       "both          19034\n",
       "left_only      6739\n",
       "right_only        0\n",
       "Name: count, dtype: int64"
      ]
     },
     "execution_count": 11,
     "metadata": {},
     "output_type": "execute_result"
    }
   ],
   "source": [
    "test_join = pd.merge(left = gdf, right = sg_df, how = 'outer', indicator=True)\n",
    "test_join['_merge'].value_counts()"
   ]
  },
  {
   "cell_type": "code",
   "execution_count": 12,
   "id": "2b70ebe6",
   "metadata": {},
   "outputs": [],
   "source": [
    "gdf = test_join.copy()"
   ]
  },
  {
   "cell_type": "code",
   "execution_count": 13,
   "id": "8b70615b",
   "metadata": {},
   "outputs": [
    {
     "data": {
      "text/plain": [
       "(25773, 40)"
      ]
     },
     "execution_count": 13,
     "metadata": {},
     "output_type": "execute_result"
    }
   ],
   "source": [
    "gdf['group_id'] = gdf['group_id'].fillna(1).astype(int)\n",
    "gdf.shape"
   ]
  },
  {
   "cell_type": "markdown",
   "id": "231b9ac7",
   "metadata": {},
   "source": [
    "# create an id across street groups"
   ]
  },
  {
   "cell_type": "code",
   "execution_count": 14,
   "id": "64b62645",
   "metadata": {},
   "outputs": [
    {
     "data": {
      "text/html": [
       "<div>\n",
       "<style scoped>\n",
       "    .dataframe tbody tr th:only-of-type {\n",
       "        vertical-align: middle;\n",
       "    }\n",
       "\n",
       "    .dataframe tbody tr th {\n",
       "        vertical-align: top;\n",
       "    }\n",
       "\n",
       "    .dataframe thead th {\n",
       "        text-align: right;\n",
       "    }\n",
       "</style>\n",
       "<table border=\"1\" class=\"dataframe\">\n",
       "  <thead>\n",
       "    <tr style=\"text-align: right;\">\n",
       "      <th></th>\n",
       "      <th>f_intr_id</th>\n",
       "      <th>t_intr_id</th>\n",
       "      <th>snd_id</th>\n",
       "      <th>snd_feacode</th>\n",
       "      <th>citycode</th>\n",
       "      <th>stname_id</th>\n",
       "      <th>st_code</th>\n",
       "      <th>arterial_code</th>\n",
       "      <th>segment_type</th>\n",
       "      <th>agency_code</th>\n",
       "      <th>...</th>\n",
       "      <th>r_zip</th>\n",
       "      <th>sndseg_update</th>\n",
       "      <th>compkey</th>\n",
       "      <th>comptype</th>\n",
       "      <th>unitid</th>\n",
       "      <th>unitid2</th>\n",
       "      <th>city_portion</th>\n",
       "      <th>geometry</th>\n",
       "      <th>group_id</th>\n",
       "      <th>_merge</th>\n",
       "    </tr>\n",
       "  </thead>\n",
       "  <tbody>\n",
       "    <tr>\n",
       "      <th>0</th>\n",
       "      <td>3836</td>\n",
       "      <td>3893</td>\n",
       "      <td>4787</td>\n",
       "      <td>5</td>\n",
       "      <td>1</td>\n",
       "      <td>1955</td>\n",
       "      <td>0</td>\n",
       "      <td>1</td>\n",
       "      <td>1</td>\n",
       "      <td>1</td>\n",
       "      <td>...</td>\n",
       "      <td>98177</td>\n",
       "      <td>2011-09-09 00:00:00+00:00</td>\n",
       "      <td>18112</td>\n",
       "      <td>68</td>\n",
       "      <td>14050</td>\n",
       "      <td>0040</td>\n",
       "      <td>NW</td>\n",
       "      <td>LINESTRING (-122.36206 47.7035, -122.36342 47....</td>\n",
       "      <td>1</td>\n",
       "      <td>both</td>\n",
       "    </tr>\n",
       "    <tr>\n",
       "      <th>1</th>\n",
       "      <td>3893</td>\n",
       "      <td>3906</td>\n",
       "      <td>4802</td>\n",
       "      <td>5</td>\n",
       "      <td>1</td>\n",
       "      <td>1955</td>\n",
       "      <td>0</td>\n",
       "      <td>1</td>\n",
       "      <td>1</td>\n",
       "      <td>1</td>\n",
       "      <td>...</td>\n",
       "      <td>98177</td>\n",
       "      <td>2011-09-09 00:00:00+00:00</td>\n",
       "      <td>18113</td>\n",
       "      <td>68</td>\n",
       "      <td>14050</td>\n",
       "      <td>0043</td>\n",
       "      <td>NW</td>\n",
       "      <td>LINESTRING (-122.36342 47.70275, -122.36386 47...</td>\n",
       "      <td>1</td>\n",
       "      <td>both</td>\n",
       "    </tr>\n",
       "    <tr>\n",
       "      <th>2</th>\n",
       "      <td>3906</td>\n",
       "      <td>3973</td>\n",
       "      <td>4864</td>\n",
       "      <td>5</td>\n",
       "      <td>1</td>\n",
       "      <td>1955</td>\n",
       "      <td>0</td>\n",
       "      <td>1</td>\n",
       "      <td>1</td>\n",
       "      <td>1</td>\n",
       "      <td>...</td>\n",
       "      <td>98177</td>\n",
       "      <td>2019-08-13 14:00:50+00:00</td>\n",
       "      <td>18114</td>\n",
       "      <td>68</td>\n",
       "      <td>14050</td>\n",
       "      <td>0070</td>\n",
       "      <td>NW</td>\n",
       "      <td>LINESTRING (-122.36386 47.70251, -122.36535 47...</td>\n",
       "      <td>1</td>\n",
       "      <td>both</td>\n",
       "    </tr>\n",
       "    <tr>\n",
       "      <th>3</th>\n",
       "      <td>48444</td>\n",
       "      <td>48443</td>\n",
       "      <td>49871</td>\n",
       "      <td>1</td>\n",
       "      <td>0</td>\n",
       "      <td>3767</td>\n",
       "      <td>0</td>\n",
       "      <td>0</td>\n",
       "      <td>1</td>\n",
       "      <td>1</td>\n",
       "      <td>...</td>\n",
       "      <td>98146</td>\n",
       "      <td>2022-07-19 16:58:07+00:00</td>\n",
       "      <td>0</td>\n",
       "      <td>0</td>\n",
       "      <td>0</td>\n",
       "      <td>0</td>\n",
       "      <td>SW</td>\n",
       "      <td>LINESTRING (-122.3403 47.51334, -122.34036 47....</td>\n",
       "      <td>2</td>\n",
       "      <td>both</td>\n",
       "    </tr>\n",
       "    <tr>\n",
       "      <th>4</th>\n",
       "      <td>4014</td>\n",
       "      <td>4015</td>\n",
       "      <td>4911</td>\n",
       "      <td>1</td>\n",
       "      <td>1</td>\n",
       "      <td>1465</td>\n",
       "      <td>0</td>\n",
       "      <td>0</td>\n",
       "      <td>1</td>\n",
       "      <td>1</td>\n",
       "      <td>...</td>\n",
       "      <td>98133</td>\n",
       "      <td>2005-05-04 00:00:00+00:00</td>\n",
       "      <td>14968</td>\n",
       "      <td>68</td>\n",
       "      <td>11695</td>\n",
       "      <td>0110</td>\n",
       "      <td>N</td>\n",
       "      <td>LINESTRING (-122.34467 47.70144, -122.34197 47...</td>\n",
       "      <td>1</td>\n",
       "      <td>both</td>\n",
       "    </tr>\n",
       "  </tbody>\n",
       "</table>\n",
       "<p>5 rows × 40 columns</p>\n",
       "</div>"
      ],
      "text/plain": [
       "   f_intr_id  t_intr_id  snd_id  snd_feacode  citycode  stname_id  st_code  \\\n",
       "0       3836       3893    4787            5         1       1955        0   \n",
       "1       3893       3906    4802            5         1       1955        0   \n",
       "2       3906       3973    4864            5         1       1955        0   \n",
       "3      48444      48443   49871            1         0       3767        0   \n",
       "4       4014       4015    4911            1         1       1465        0   \n",
       "\n",
       "   arterial_code  segment_type  agency_code  ...  r_zip  \\\n",
       "0              1             1            1  ...  98177   \n",
       "1              1             1            1  ...  98177   \n",
       "2              1             1            1  ...  98177   \n",
       "3              0             1            1  ...  98146   \n",
       "4              0             1            1  ...  98133   \n",
       "\n",
       "              sndseg_update  compkey  comptype  unitid  unitid2  city_portion  \\\n",
       "0 2011-09-09 00:00:00+00:00    18112        68   14050     0040            NW   \n",
       "1 2011-09-09 00:00:00+00:00    18113        68   14050     0043            NW   \n",
       "2 2019-08-13 14:00:50+00:00    18114        68   14050     0070            NW   \n",
       "3 2022-07-19 16:58:07+00:00        0         0       0        0            SW   \n",
       "4 2005-05-04 00:00:00+00:00    14968        68   11695     0110             N   \n",
       "\n",
       "                                            geometry  group_id  _merge  \n",
       "0  LINESTRING (-122.36206 47.7035, -122.36342 47....         1    both  \n",
       "1  LINESTRING (-122.36342 47.70275, -122.36386 47...         1    both  \n",
       "2  LINESTRING (-122.36386 47.70251, -122.36535 47...         1    both  \n",
       "3  LINESTRING (-122.3403 47.51334, -122.34036 47....         2    both  \n",
       "4  LINESTRING (-122.34467 47.70144, -122.34197 47...         1    both  \n",
       "\n",
       "[5 rows x 40 columns]"
      ]
     },
     "execution_count": 14,
     "metadata": {},
     "output_type": "execute_result"
    }
   ],
   "source": [
    "gdf.head()"
   ]
  },
  {
   "cell_type": "code",
   "execution_count": 15,
   "id": "1722d21c",
   "metadata": {},
   "outputs": [
    {
     "data": {
      "text/plain": [
       "Index(['f_intr_id', 't_intr_id', 'snd_id', 'snd_feacode', 'citycode',\n",
       "       'stname_id', 'st_code', 'arterial_code', 'segment_type', 'agency_code',\n",
       "       'access_code', 'divided_code', 'structure_type', 'legalloc_code',\n",
       "       'vehicle_use_code', 'gis_seg_length', 'l_adrs_from', 'l_adrs_to',\n",
       "       'r_adrs_from', 'r_adrs_to', 'ord_pre_dir', 'ord_street_name',\n",
       "       'ord_street_type', 'ord_suf_dir', 'ord_stname_concat', 'l_city',\n",
       "       'l_state', 'l_zip', 'r_city', 'r_state', 'r_zip', 'sndseg_update',\n",
       "       'compkey', 'comptype', 'unitid', 'unitid2', 'city_portion', 'geometry',\n",
       "       'group_id', '_merge'],\n",
       "      dtype='object')"
      ]
     },
     "execution_count": 15,
     "metadata": {},
     "output_type": "execute_result"
    }
   ],
   "source": [
    "gdf.columns"
   ]
  },
  {
   "cell_type": "code",
   "execution_count": 16,
   "metadata": {},
   "outputs": [],
   "source": [
    "col_names = ['ord_street_name', 'ord_street_type',  'ord_stname_concat', 'city_portion', 'group_id']\n",
    "id_df = gdf[col_names].drop_duplicates()"
   ]
  },
  {
   "cell_type": "code",
   "execution_count": 17,
   "id": "fd8779df",
   "metadata": {},
   "outputs": [],
   "source": [
    "id_df['ord_stname_type'] = id_df['ord_street_name'] + ' ' + id_df['ord_street_type']"
   ]
  },
  {
   "cell_type": "code",
   "execution_count": 18,
   "metadata": {},
   "outputs": [],
   "source": [
    "id_df['sort_order'] = id_df['ord_street_name'].map(get_sort_order)"
   ]
  },
  {
   "cell_type": "code",
   "execution_count": 19,
   "id": "e716ecdf",
   "metadata": {},
   "outputs": [],
   "source": [
    "id_df = id_df.sort_values(by = ['sort_order', 'ord_street_type', 'city_portion'])"
   ]
  },
  {
   "cell_type": "code",
   "execution_count": 20,
   "metadata": {},
   "outputs": [
    {
     "data": {
      "text/html": [
       "<div>\n",
       "<style scoped>\n",
       "    .dataframe tbody tr th:only-of-type {\n",
       "        vertical-align: middle;\n",
       "    }\n",
       "\n",
       "    .dataframe tbody tr th {\n",
       "        vertical-align: top;\n",
       "    }\n",
       "\n",
       "    .dataframe thead th {\n",
       "        text-align: right;\n",
       "    }\n",
       "</style>\n",
       "<table border=\"1\" class=\"dataframe\">\n",
       "  <thead>\n",
       "    <tr style=\"text-align: right;\">\n",
       "      <th></th>\n",
       "      <th>ord_street_name</th>\n",
       "      <th>ord_street_type</th>\n",
       "      <th>ord_stname_concat</th>\n",
       "      <th>city_portion</th>\n",
       "      <th>group_id</th>\n",
       "      <th>ord_stname_type</th>\n",
       "      <th>sort_order</th>\n",
       "    </tr>\n",
       "  </thead>\n",
       "  <tbody>\n",
       "    <tr>\n",
       "      <th>3387</th>\n",
       "      <td>1ST</td>\n",
       "      <td>AVE</td>\n",
       "      <td>1ST AVE</td>\n",
       "      <td>CNTR</td>\n",
       "      <td>2</td>\n",
       "      <td>1ST AVE</td>\n",
       "      <td>001</td>\n",
       "    </tr>\n",
       "    <tr>\n",
       "      <th>3412</th>\n",
       "      <td>1ST</td>\n",
       "      <td>AVE</td>\n",
       "      <td>1ST AVE N</td>\n",
       "      <td>N</td>\n",
       "      <td>2</td>\n",
       "      <td>1ST AVE</td>\n",
       "      <td>001</td>\n",
       "    </tr>\n",
       "    <tr>\n",
       "      <th>3449</th>\n",
       "      <td>1ST</td>\n",
       "      <td>AVE</td>\n",
       "      <td>1ST AVE NE</td>\n",
       "      <td>NE</td>\n",
       "      <td>2</td>\n",
       "      <td>1ST AVE</td>\n",
       "      <td>001</td>\n",
       "    </tr>\n",
       "    <tr>\n",
       "      <th>3504</th>\n",
       "      <td>1ST</td>\n",
       "      <td>AVE</td>\n",
       "      <td>1ST AVE NW</td>\n",
       "      <td>NW</td>\n",
       "      <td>1</td>\n",
       "      <td>1ST AVE</td>\n",
       "      <td>001</td>\n",
       "    </tr>\n",
       "    <tr>\n",
       "      <th>3578</th>\n",
       "      <td>1ST</td>\n",
       "      <td>AVE</td>\n",
       "      <td>1ST AVE S</td>\n",
       "      <td>S</td>\n",
       "      <td>2</td>\n",
       "      <td>1ST AVE</td>\n",
       "      <td>001</td>\n",
       "    </tr>\n",
       "  </tbody>\n",
       "</table>\n",
       "</div>"
      ],
      "text/plain": [
       "     ord_street_name ord_street_type ord_stname_concat city_portion  group_id  \\\n",
       "3387             1ST             AVE           1ST AVE         CNTR         2   \n",
       "3412             1ST             AVE         1ST AVE N            N         2   \n",
       "3449             1ST             AVE        1ST AVE NE           NE         2   \n",
       "3504             1ST             AVE        1ST AVE NW           NW         1   \n",
       "3578             1ST             AVE         1ST AVE S            S         2   \n",
       "\n",
       "     ord_stname_type sort_order  \n",
       "3387         1ST AVE        001  \n",
       "3412         1ST AVE        001  \n",
       "3449         1ST AVE        001  \n",
       "3504         1ST AVE        001  \n",
       "3578         1ST AVE        001  "
      ]
     },
     "execution_count": 20,
     "metadata": {},
     "output_type": "execute_result"
    }
   ],
   "source": [
    "id_df.head()"
   ]
  },
  {
   "cell_type": "code",
   "execution_count": 21,
   "id": "996dfa24",
   "metadata": {},
   "outputs": [
    {
     "data": {
      "text/plain": [
       "(2455,)"
      ]
     },
     "execution_count": 21,
     "metadata": {},
     "output_type": "execute_result"
    }
   ],
   "source": [
    "id_df['ord_stname_concat'].unique().shape"
   ]
  },
  {
   "cell_type": "code",
   "execution_count": 22,
   "id": "0d907eed",
   "metadata": {},
   "outputs": [],
   "source": [
    "# let's get the groups! can we aggregate this?"
   ]
  },
  {
   "cell_type": "code",
   "execution_count": 23,
   "id": "d5ff5023",
   "metadata": {},
   "outputs": [],
   "source": [
    "col_names = ['sort_order', 'ord_street_name', 'ord_street_type', 'ord_stname_type', 'group_id', 'city_portion']\n",
    "test_agg = id_df[col_names].groupby(col_names[:-1]).agg(city_portion_group = ('city_portion', lambda x: '_'.join(sorted(set(x)))),\n",
    "                                                        n_groups = ('city_portion', lambda x: len(set(x)))).reset_index()"
   ]
  },
  {
   "cell_type": "code",
   "execution_count": 24,
   "id": "f9f6f834",
   "metadata": {},
   "outputs": [
    {
     "data": {
      "text/html": [
       "<div>\n",
       "<style scoped>\n",
       "    .dataframe tbody tr th:only-of-type {\n",
       "        vertical-align: middle;\n",
       "    }\n",
       "\n",
       "    .dataframe tbody tr th {\n",
       "        vertical-align: top;\n",
       "    }\n",
       "\n",
       "    .dataframe thead th {\n",
       "        text-align: right;\n",
       "    }\n",
       "</style>\n",
       "<table border=\"1\" class=\"dataframe\">\n",
       "  <thead>\n",
       "    <tr style=\"text-align: right;\">\n",
       "      <th></th>\n",
       "      <th>sort_order</th>\n",
       "      <th>ord_street_name</th>\n",
       "      <th>ord_street_type</th>\n",
       "      <th>ord_stname_type</th>\n",
       "      <th>group_id</th>\n",
       "      <th>city_portion_group</th>\n",
       "      <th>n_groups</th>\n",
       "    </tr>\n",
       "  </thead>\n",
       "  <tbody>\n",
       "    <tr>\n",
       "      <th>0</th>\n",
       "      <td>001</td>\n",
       "      <td>1ST</td>\n",
       "      <td>AVE</td>\n",
       "      <td>1ST AVE</td>\n",
       "      <td>1</td>\n",
       "      <td>NW_SW_W</td>\n",
       "      <td>3</td>\n",
       "    </tr>\n",
       "    <tr>\n",
       "      <th>1</th>\n",
       "      <td>001</td>\n",
       "      <td>1ST</td>\n",
       "      <td>AVE</td>\n",
       "      <td>1ST AVE</td>\n",
       "      <td>2</td>\n",
       "      <td>CNTR_N_NE_S</td>\n",
       "      <td>4</td>\n",
       "    </tr>\n",
       "    <tr>\n",
       "      <th>2</th>\n",
       "      <td>001</td>\n",
       "      <td>1ST</td>\n",
       "      <td>PL</td>\n",
       "      <td>1ST PL</td>\n",
       "      <td>1</td>\n",
       "      <td>NE</td>\n",
       "      <td>1</td>\n",
       "    </tr>\n",
       "    <tr>\n",
       "      <th>3</th>\n",
       "      <td>002</td>\n",
       "      <td>2ND</td>\n",
       "      <td>AVE</td>\n",
       "      <td>2ND AVE</td>\n",
       "      <td>1</td>\n",
       "      <td>NW_SW_W</td>\n",
       "      <td>3</td>\n",
       "    </tr>\n",
       "    <tr>\n",
       "      <th>4</th>\n",
       "      <td>002</td>\n",
       "      <td>2ND</td>\n",
       "      <td>AVE</td>\n",
       "      <td>2ND AVE</td>\n",
       "      <td>2</td>\n",
       "      <td>CNTR_N_NE_S</td>\n",
       "      <td>4</td>\n",
       "    </tr>\n",
       "  </tbody>\n",
       "</table>\n",
       "</div>"
      ],
      "text/plain": [
       "  sort_order ord_street_name ord_street_type ord_stname_type  group_id  \\\n",
       "0        001             1ST             AVE         1ST AVE         1   \n",
       "1        001             1ST             AVE         1ST AVE         2   \n",
       "2        001             1ST              PL          1ST PL         1   \n",
       "3        002             2ND             AVE         2ND AVE         1   \n",
       "4        002             2ND             AVE         2ND AVE         2   \n",
       "\n",
       "  city_portion_group  n_groups  \n",
       "0            NW_SW_W         3  \n",
       "1        CNTR_N_NE_S         4  \n",
       "2                 NE         1  \n",
       "3            NW_SW_W         3  \n",
       "4        CNTR_N_NE_S         4  "
      ]
     },
     "execution_count": 24,
     "metadata": {},
     "output_type": "execute_result"
    }
   ],
   "source": [
    "test_agg.head()"
   ]
  },
  {
   "cell_type": "code",
   "execution_count": 25,
   "id": "f2dac15f",
   "metadata": {},
   "outputs": [
    {
     "data": {
      "text/plain": [
       "(33,)"
      ]
     },
     "execution_count": 25,
     "metadata": {},
     "output_type": "execute_result"
    }
   ],
   "source": [
    "test_agg['city_portion_group'].unique().shape"
   ]
  },
  {
   "cell_type": "code",
   "execution_count": 26,
   "id": "9fc3a8cb",
   "metadata": {},
   "outputs": [
    {
     "data": {
      "text/html": [
       "<div>\n",
       "<style scoped>\n",
       "    .dataframe tbody tr th:only-of-type {\n",
       "        vertical-align: middle;\n",
       "    }\n",
       "\n",
       "    .dataframe tbody tr th {\n",
       "        vertical-align: top;\n",
       "    }\n",
       "\n",
       "    .dataframe thead th {\n",
       "        text-align: right;\n",
       "    }\n",
       "</style>\n",
       "<table border=\"1\" class=\"dataframe\">\n",
       "  <thead>\n",
       "    <tr style=\"text-align: right;\">\n",
       "      <th></th>\n",
       "      <th>sort_order</th>\n",
       "      <th>ord_street_name</th>\n",
       "      <th>ord_street_type</th>\n",
       "      <th>ord_stname_type</th>\n",
       "      <th>group_id</th>\n",
       "      <th>city_portion_group</th>\n",
       "      <th>n_groups</th>\n",
       "    </tr>\n",
       "  </thead>\n",
       "  <tbody>\n",
       "    <tr>\n",
       "      <th>0</th>\n",
       "      <td>001</td>\n",
       "      <td>1ST</td>\n",
       "      <td>AVE</td>\n",
       "      <td>1ST AVE</td>\n",
       "      <td>1</td>\n",
       "      <td>NW_SW_W</td>\n",
       "      <td>3</td>\n",
       "    </tr>\n",
       "    <tr>\n",
       "      <th>1</th>\n",
       "      <td>001</td>\n",
       "      <td>1ST</td>\n",
       "      <td>AVE</td>\n",
       "      <td>1ST AVE</td>\n",
       "      <td>2</td>\n",
       "      <td>CNTR_N_NE_S</td>\n",
       "      <td>4</td>\n",
       "    </tr>\n",
       "    <tr>\n",
       "      <th>2</th>\n",
       "      <td>001</td>\n",
       "      <td>1ST</td>\n",
       "      <td>PL</td>\n",
       "      <td>1ST PL</td>\n",
       "      <td>1</td>\n",
       "      <td>NE</td>\n",
       "      <td>1</td>\n",
       "    </tr>\n",
       "    <tr>\n",
       "      <th>3</th>\n",
       "      <td>002</td>\n",
       "      <td>2ND</td>\n",
       "      <td>AVE</td>\n",
       "      <td>2ND AVE</td>\n",
       "      <td>1</td>\n",
       "      <td>NW_SW_W</td>\n",
       "      <td>3</td>\n",
       "    </tr>\n",
       "    <tr>\n",
       "      <th>4</th>\n",
       "      <td>002</td>\n",
       "      <td>2ND</td>\n",
       "      <td>AVE</td>\n",
       "      <td>2ND AVE</td>\n",
       "      <td>2</td>\n",
       "      <td>CNTR_N_NE_S</td>\n",
       "      <td>4</td>\n",
       "    </tr>\n",
       "  </tbody>\n",
       "</table>\n",
       "</div>"
      ],
      "text/plain": [
       "  sort_order ord_street_name ord_street_type ord_stname_type  group_id  \\\n",
       "0        001             1ST             AVE         1ST AVE         1   \n",
       "1        001             1ST             AVE         1ST AVE         2   \n",
       "2        001             1ST              PL          1ST PL         1   \n",
       "3        002             2ND             AVE         2ND AVE         1   \n",
       "4        002             2ND             AVE         2ND AVE         2   \n",
       "\n",
       "  city_portion_group  n_groups  \n",
       "0            NW_SW_W         3  \n",
       "1        CNTR_N_NE_S         4  \n",
       "2                 NE         1  \n",
       "3            NW_SW_W         3  \n",
       "4        CNTR_N_NE_S         4  "
      ]
     },
     "execution_count": 26,
     "metadata": {},
     "output_type": "execute_result"
    }
   ],
   "source": [
    "test_agg.head()"
   ]
  },
  {
   "cell_type": "code",
   "execution_count": 28,
   "id": "2c60e664",
   "metadata": {},
   "outputs": [
    {
     "name": "stdout",
     "output_type": "stream",
     "text": [
      "(1, 7)\n"
     ]
    },
    {
     "data": {
      "text/html": [
       "<div>\n",
       "<style scoped>\n",
       "    .dataframe tbody tr th:only-of-type {\n",
       "        vertical-align: middle;\n",
       "    }\n",
       "\n",
       "    .dataframe tbody tr th {\n",
       "        vertical-align: top;\n",
       "    }\n",
       "\n",
       "    .dataframe thead th {\n",
       "        text-align: right;\n",
       "    }\n",
       "</style>\n",
       "<table border=\"1\" class=\"dataframe\">\n",
       "  <thead>\n",
       "    <tr style=\"text-align: right;\">\n",
       "      <th></th>\n",
       "      <th>sort_order</th>\n",
       "      <th>ord_street_name</th>\n",
       "      <th>ord_street_type</th>\n",
       "      <th>ord_stname_type</th>\n",
       "      <th>group_id</th>\n",
       "      <th>city_portion_group</th>\n",
       "      <th>n_groups</th>\n",
       "    </tr>\n",
       "  </thead>\n",
       "  <tbody>\n",
       "    <tr>\n",
       "      <th>1251</th>\n",
       "      <td>MAGNOLIA</td>\n",
       "      <td>MAGNOLIA</td>\n",
       "      <td>BR</td>\n",
       "      <td>MAGNOLIA BR</td>\n",
       "      <td>1</td>\n",
       "      <td>CNTR_W</td>\n",
       "      <td>2</td>\n",
       "    </tr>\n",
       "  </tbody>\n",
       "</table>\n",
       "</div>"
      ],
      "text/plain": [
       "     sort_order ord_street_name ord_street_type ord_stname_type  group_id  \\\n",
       "1251   MAGNOLIA        MAGNOLIA              BR     MAGNOLIA BR         1   \n",
       "\n",
       "     city_portion_group  n_groups  \n",
       "1251             CNTR_W         2  "
      ]
     },
     "execution_count": 28,
     "metadata": {},
     "output_type": "execute_result"
    }
   ],
   "source": [
    "test_cpg = 'CNTR_W'\n",
    "test_ost = 'BR'\n",
    "check_df = test_agg.loc[(test_agg['city_portion_group'] == test_cpg) &\n",
    "                        (test_agg['ord_street_type'] == test_ost), ]\n",
    "print(check_df.shape)\n",
    "check_df.head()"
   ]
  },
  {
   "cell_type": "code",
   "execution_count": 28,
   "id": "793fbfca",
   "metadata": {},
   "outputs": [],
   "source": [
    "# export to excel\n",
    "city_portion_check = test_agg[['city_portion_group', 'ord_street_type', 'n_groups']].drop_duplicates().reset_index(drop = True)"
   ]
  },
  {
   "cell_type": "code",
   "execution_count": null,
   "id": "0ca157a4",
   "metadata": {},
   "outputs": [],
   "source": [
    "city_portion_check.head()"
   ]
  },
  {
   "cell_type": "code",
   "execution_count": null,
   "id": "a0be3aa4",
   "metadata": {},
   "outputs": [],
   "source": [
    "city_portion_check.shape"
   ]
  },
  {
   "cell_type": "code",
   "execution_count": 92,
   "id": "fe8fcf17",
   "metadata": {},
   "outputs": [],
   "source": []
  },
  {
   "cell_type": "code",
   "execution_count": 31,
   "id": "1a163b8e",
   "metadata": {},
   "outputs": [],
   "source": [
    "city_portion_check = city_portion_check.sort_values(by = ['city_portion_group', 'ord_street_type'])"
   ]
  },
  {
   "cell_type": "code",
   "execution_count": 32,
   "id": "c5828929",
   "metadata": {},
   "outputs": [],
   "source": [
    "city_portion_check.to_excel(excel_writer='city_portion_check.xlsx', index = False)"
   ]
  },
  {
   "cell_type": "code",
   "execution_count": null,
   "id": "a7c678cf",
   "metadata": {},
   "outputs": [],
   "source": [
    "test_agg.head()"
   ]
  },
  {
   "cell_type": "code",
   "execution_count": null,
   "id": "a700b790",
   "metadata": {},
   "outputs": [],
   "source": [
    "test_agg.shape"
   ]
  },
  {
   "cell_type": "code",
   "execution_count": 35,
   "id": "063b645a",
   "metadata": {},
   "outputs": [],
   "source": [
    "# join back to the working gdf"
   ]
  },
  {
   "cell_type": "code",
   "execution_count": null,
   "id": "dcd8f90c",
   "metadata": {},
   "outputs": [],
   "source": [
    "gdf.columns"
   ]
  },
  {
   "cell_type": "code",
   "execution_count": 37,
   "id": "b4db0351",
   "metadata": {},
   "outputs": [],
   "source": [
    "gdf = gdf.drop(labels = ['_merge'], axis = 1)"
   ]
  },
  {
   "cell_type": "code",
   "execution_count": 38,
   "id": "38e6e78d",
   "metadata": {},
   "outputs": [],
   "source": [
    "test_join = pd.merge(left = gdf, right = test_agg, how = 'outer', indicator=True)"
   ]
  },
  {
   "cell_type": "code",
   "execution_count": null,
   "metadata": {},
   "outputs": [],
   "source": [
    "test_join.shape"
   ]
  },
  {
   "cell_type": "code",
   "execution_count": null,
   "id": "af72f260",
   "metadata": {},
   "outputs": [],
   "source": [
    "test_join.columns"
   ]
  },
  {
   "cell_type": "code",
   "execution_count": null,
   "id": "b4a2fe7f",
   "metadata": {},
   "outputs": [],
   "source": [
    "test_join['_merge'].value_counts()"
   ]
  },
  {
   "cell_type": "code",
   "execution_count": 42,
   "id": "ba4def1e",
   "metadata": {},
   "outputs": [],
   "source": [
    "gdf = test_join.copy()"
   ]
  },
  {
   "cell_type": "markdown",
   "id": "0a75b29a",
   "metadata": {},
   "source": [
    "# MAKE A PLOT OF THE DIFFERENT CITY GROUPS BY STREET TYPE"
   ]
  },
  {
   "cell_type": "code",
   "execution_count": 43,
   "id": "224e4bfd",
   "metadata": {},
   "outputs": [],
   "source": [
    "# use the same colors for each city portion\n",
    "cdm = {}\n",
    "dir_list = ['CNTR', 'E', 'N', 'NE', 'NW', 'S', 'SW', 'W']\n",
    "for idir, dir_value in enumerate(dir_list):\n",
    "    cdm[dir_value] = mpl.colormaps[\"Dark2\"].colors[idir]\n",
    "\n",
    "my_cmap = mpl.colors.ListedColormap([cdm[c] for c in dir_list])"
   ]
  },
  {
   "cell_type": "code",
   "execution_count": 44,
   "metadata": {},
   "outputs": [],
   "source": [
    "wgdf = gdf.loc[gdf['n_groups'] > 1, :].copy()"
   ]
  },
  {
   "cell_type": "code",
   "execution_count": null,
   "metadata": {},
   "outputs": [],
   "source": [
    "wgdf.shape"
   ]
  },
  {
   "cell_type": "code",
   "execution_count": 46,
   "metadata": {},
   "outputs": [],
   "source": [
    "col_names = ['city_portion_group', 'ord_street_type']\n",
    "control_df = wgdf[col_names].drop_duplicates()"
   ]
  },
  {
   "cell_type": "code",
   "execution_count": null,
   "id": "9aca914c",
   "metadata": {},
   "outputs": [],
   "source": [
    "control_df.shape"
   ]
  },
  {
   "cell_type": "code",
   "execution_count": null,
   "id": "b6427ece",
   "metadata": {},
   "outputs": [],
   "source": [
    "control_df.head()"
   ]
  },
  {
   "cell_type": "code",
   "execution_count": 49,
   "id": "ad5c9970",
   "metadata": {},
   "outputs": [],
   "source": [
    "# plot bounds to use across each plot\n",
    "bounds = [-122.4197794277490061,47.4803548409661005, -122.2200188105690017,47.7341482423694004]"
   ]
  },
  {
   "cell_type": "code",
   "execution_count": 50,
   "metadata": {},
   "outputs": [],
   "source": [
    "# load the boundaries of the city sections\n",
    "ifpn = os.path.join(rc.OUTPUT_FILE_PATH, rc.S02_CITY_SECTIONS_OUT_FILE_NAME)\n",
    "cs_gdf = gpd.read_file(filename=ifpn)"
   ]
  },
  {
   "cell_type": "code",
   "execution_count": null,
   "id": "c4834b71",
   "metadata": {},
   "outputs": [],
   "source": [
    "control_df.head()"
   ]
  },
  {
   "cell_type": "code",
   "execution_count": null,
   "id": "605e5500",
   "metadata": {},
   "outputs": [],
   "source": [
    "make_plots = True\n",
    "if make_plots:\n",
    "    for cr, crow in control_df.iterrows():\n",
    "        cpg = crow['city_portion_group']\n",
    "        ost = crow['ord_street_type']\n",
    "\n",
    "        output_file_name = f\"{ost}_{cpg}.png\"\n",
    "        ofpn = os.path.join(rc.S06_PLOT_OUTPUT_FILE_PATH_CITY_PORTION_GROUPS, output_file_name)\n",
    "        print(ofpn)\n",
    "\n",
    "        # now, let's make a map...\n",
    "        pgdf = gdf.loc[(gdf['city_portion_group'] == cpg) &\n",
    "                    (gdf['ord_street_type'] == ost), :]\n",
    "        to_draw = pgdf[['city_portion', 'geometry']].dissolve(by = 'city_portion', as_index = False)\n",
    "        #to_draw['coords'] = to_draw['geometry'].map(lambda x: x.centroid.coords[0])\n",
    "        fig = plt.figure(layout = 'constrained', figsize = (5, 10))\n",
    "        gs = GridSpec(1,1, figure = fig, height_ratios = [1])\n",
    "        ax1 = fig.add_subplot(gs[0,0])\n",
    "        ax1.set_xlim(bounds[0], bounds[2])\n",
    "        ax1.set_ylim(bounds[1], bounds[3])\n",
    "        cs_gdf.plot(ax = ax1, column = 'city_portion', alpha = .2)\n",
    "        to_draw.plot(ax = ax1, column = 'city_portion', cmap = my_cmap,  linewidth = 5, legend = True)\n",
    "\n",
    "        #for irrow, row in to_draw.iterrows():    \n",
    "        #    ax1.annotate(text=row['city_portion'], xy=row['coords'], fontsize = 16 )\n",
    "\n",
    "        ax1.set_axis_off()\n",
    "        \n",
    "        my_title = f\"Street Type: {ost} | City Portion Group {cpg}\"\n",
    "        plt.title(label = my_title)\n",
    "\n",
    "        #plt.show()\n",
    "\n",
    "        fig.savefig(fname = ofpn)\n",
    "        plt.close()"
   ]
  },
  {
   "cell_type": "code",
   "execution_count": null,
   "id": "159e7b68",
   "metadata": {},
   "outputs": [],
   "source": []
  },
  {
   "cell_type": "code",
   "execution_count": null,
   "id": "83dab2ed",
   "metadata": {},
   "outputs": [],
   "source": []
  },
  {
   "cell_type": "code",
   "execution_count": null,
   "id": "38ff7f32",
   "metadata": {},
   "outputs": [],
   "source": []
  },
  {
   "cell_type": "code",
   "execution_count": null,
   "id": "ad0d3546",
   "metadata": {},
   "outputs": [],
   "source": []
  },
  {
   "cell_type": "markdown",
   "id": "7ee171e0-b275-4f73-9ec5-e8a2a718d55d",
   "metadata": {},
   "source": [
    "# load the node data"
   ]
  },
  {
   "cell_type": "code",
   "execution_count": null,
   "id": "884ced98",
   "metadata": {},
   "outputs": [],
   "source": []
  },
  {
   "cell_type": "code",
   "execution_count": null,
   "id": "54a2b443",
   "metadata": {},
   "outputs": [],
   "source": []
  },
  {
   "cell_type": "code",
   "execution_count": null,
   "id": "664fee8d",
   "metadata": {},
   "outputs": [],
   "source": []
  },
  {
   "cell_type": "code",
   "execution_count": null,
   "id": "2fff0f14",
   "metadata": {},
   "outputs": [],
   "source": []
  },
  {
   "cell_type": "code",
   "execution_count": 12,
   "id": "a99446f1-9603-4f7f-80e2-a2d8a10f8aa6",
   "metadata": {},
   "outputs": [],
   "source": [
    "input_file_name = 'Street_Network_Nodes.gpkg'"
   ]
  },
  {
   "cell_type": "code",
   "execution_count": 13,
   "id": "81e88fff-cc66-47fd-bc60-fb253a9f110f",
   "metadata": {},
   "outputs": [],
   "source": [
    "fpn = os.path.join(rc.OUTPUT_FILE_PATH, rc.S03_NODE_IN_FILE_NAME)"
   ]
  },
  {
   "cell_type": "code",
   "execution_count": 14,
   "id": "e67fed54-4d3b-45ca-8a41-2f9e7103a699",
   "metadata": {},
   "outputs": [],
   "source": [
    "node_gdf = gpd.read_file(filename = fpn)"
   ]
  },
  {
   "cell_type": "code",
   "execution_count": null,
   "id": "26bac731-425e-409f-bb41-c3a5d1a6bf2b",
   "metadata": {},
   "outputs": [],
   "source": [
    "node_gdf.head()"
   ]
  },
  {
   "cell_type": "code",
   "execution_count": 16,
   "id": "42a1ff85-d812-4f94-aff7-ad94f57cfba7",
   "metadata": {},
   "outputs": [],
   "source": [
    "node_gdf['node_id'] = node_gdf['node_id'].astype(int)"
   ]
  },
  {
   "cell_type": "code",
   "execution_count": 17,
   "id": "65c710c8-40db-4bc0-af3a-78c6c64e495b",
   "metadata": {},
   "outputs": [],
   "source": [
    "node_gdf['coords'] = node_gdf['geometry'].map(lambda x: x.coords[0])"
   ]
  },
  {
   "cell_type": "code",
   "execution_count": null,
   "id": "ac7dff3c-6d52-4b80-b259-2214ef6c131a",
   "metadata": {},
   "outputs": [],
   "source": [
    "node_gdf.head()"
   ]
  },
  {
   "cell_type": "code",
   "execution_count": null,
   "id": "6b5cd5df-cf8d-4d55-8595-2c83b8140cd9",
   "metadata": {},
   "outputs": [],
   "source": [
    "node_gdf.dtypes"
   ]
  },
  {
   "cell_type": "code",
   "execution_count": 20,
   "id": "d26b04eb-ebbf-4b3c-a2a2-f7e5604a695a",
   "metadata": {},
   "outputs": [],
   "source": [
    "# zap this into a dictionary\n",
    "node_dict = {}\n",
    "for i, row in node_gdf.iterrows():\n",
    "    node_dict[row['node_id']] = row['coords']"
   ]
  },
  {
   "cell_type": "markdown",
   "id": "e3cc818f-24c9-4a7d-8f33-e516cde7dd55",
   "metadata": {},
   "source": [
    "# find missing segments"
   ]
  },
  {
   "cell_type": "code",
   "execution_count": 21,
   "id": "dd6c1638",
   "metadata": {},
   "outputs": [],
   "source": [
    "# create the ord_street_name and ord_street_type variable\n",
    "gdf['ord_street_name_type'] = gdf['ord_street_name'] + ' ' + gdf['ord_street_type']"
   ]
  },
  {
   "cell_type": "code",
   "execution_count": 22,
   "id": "f66e8c67-7363-44b2-a812-f7c38d5619b2",
   "metadata": {},
   "outputs": [],
   "source": [
    "# create a weight variable from the gis_segment_length variable\n",
    "gdf['weight'] = gdf['gis_seg_length']"
   ]
  },
  {
   "cell_type": "code",
   "execution_count": 23,
   "id": "58d63e28-b0e3-4643-aa49-e14e498065fa",
   "metadata": {},
   "outputs": [],
   "source": [
    "# only select columns names used in subsequent steps\n",
    "col_names = ['f_intr_id',\n",
    "'t_intr_id',\n",
    "'snd_id',\n",
    "'snd_feacode',\n",
    "'gis_seg_length',\n",
    "'ord_street_name',\n",
    "'ord_street_type',\n",
    "'ord_street_name_type',\n",
    "'ord_stname_concat',\n",
    "'city_portion',\n",
    "'geometry',\n",
    "'weight',\n",
    "'group_id']"
   ]
  },
  {
   "cell_type": "code",
   "execution_count": 24,
   "id": "a6d7fd5a-93e1-47de-96e0-29eebc7e4a21",
   "metadata": {},
   "outputs": [],
   "source": [
    "gdf = gdf[col_names].copy()"
   ]
  },
  {
   "cell_type": "code",
   "execution_count": null,
   "id": "0fc359c3",
   "metadata": {},
   "outputs": [],
   "source": [
    "# what's the current max snd ID?\n",
    "gdf['snd_id'].max()"
   ]
  },
  {
   "cell_type": "code",
   "execution_count": null,
   "id": "6dfe45d2",
   "metadata": {},
   "outputs": [],
   "source": [
    "# what's 2^16? start adding IDs at this value?\n",
    "2**16"
   ]
  },
  {
   "cell_type": "code",
   "execution_count": null,
   "id": "f0a069b7",
   "metadata": {},
   "outputs": [],
   "source": [
    "gdf.columns"
   ]
  },
  {
   "cell_type": "code",
   "execution_count": null,
   "id": "e5fab916-d87a-4d24-b079-7ac593c4bfc7",
   "metadata": {
    "scrolled": true
   },
   "outputs": [],
   "source": [
    "# here is where the discontinuities are identified and the \"missing\" segments are created.\n",
    "# a full run, without saving intermediate data, takes less than a minute.\n",
    "# saving intermediate data takes an additional ~5 minutes.\n",
    "\n",
    "write_intermediate = False\n",
    "use_v1 = False\n",
    "\n",
    "# street_status\n",
    "# 0: continuous street\n",
    "# 1: discontinuous\n",
    "# 2: added street\n",
    "\n",
    "# hold the output\n",
    "output_gdf_list = []\n",
    "shortest_added_path = []\n",
    "gdf['snd_group'] = int(0)\n",
    "snd_group_count = -1\n",
    "# use this value to start the ID number for the added segements.\n",
    "temp_snd_id = 2**16\n",
    "# get the list of unique names\n",
    "snt_list = gdf['ord_street_name_type'].unique().tolist()\n",
    "\n",
    "# uncomment to test specifc street\n",
    "#snt_list = ['7TH AVE N', 'W GALER ST']\n",
    "#snt_list = ['GALER ST']\n",
    "#snt_list = ['15TH AVE W']\n",
    "#snt_list = ['WOODLAWN AVE N']\n",
    "\n",
    "# the trouble_list, for lack of a beter name, are streets with parallel edges\n",
    "# we can record the names of these streets. \n",
    "trouble_list = []\n",
    "\n",
    "for snt in snt_list[:None]:\n",
    "    print(snt)\n",
    "    \n",
    "    # subset the gdf by ord_stname_concat\n",
    "    sub_gdf = gdf.loc[gdf['ord_street_name_type'] == snt, :].copy().reset_index(drop = True)\n",
    "    unique_id_list = sub_gdf['group_id'].unique().tolist()\n",
    "    \n",
    "    for gi in unique_id_list:\n",
    "        \n",
    "        temp_gdf = sub_gdf.loc[sub_gdf['group_id'] == gi, :].copy()\n",
    "        \n",
    "        # create the graph for a single street.\n",
    "        # For example, all streets named W GALER ST are a single graph.\n",
    "        # this is an undirected graph.\n",
    "        fg = nx.from_pandas_edgelist(df = temp_gdf, source = 'f_intr_id', target = 't_intr_id', edge_attr=True)\n",
    "        \n",
    "        if temp_gdf.shape[0] != fg.number_of_edges():\n",
    "            trouble_list.append(snt)            \n",
    "            \n",
    "            # subsequent steps need a single-edge graph. \n",
    "            # Parallel edges are not allowed. \n",
    "            # so, let's return the edges last added to the graph.\n",
    "            mod_edge_list = []\n",
    "            for ed in fg.edges.data():\n",
    "                mod_edge_list.append(ed[2]['snd_id'])\n",
    "            temp_gdf = temp_gdf.loc[temp_gdf['snd_id'].isin(mod_edge_list), :]\n",
    "            \n",
    "        # get the list of nodes in the graph.\n",
    "        node_list = list(fg.nodes)\n",
    "        \n",
    "        # a list of the snd groups - this is necessary to match street segments to nodes\n",
    "        # nx.connected_components() identifies disconnected graphs\n",
    "        for cc in nx.connected_components(G = fg):\n",
    "            # cc is the sub graph\n",
    "            sub_graph = fg.subgraph(cc).copy()\n",
    "            # this is the edge data        \n",
    "            edge_data_list = sub_graph.edges.data()        \n",
    "            # this marks the street(s) in each sub graph\n",
    "            snd_id_list = []\n",
    "            for edl in edge_data_list:                        \n",
    "                snd_id_list.append(edl[2]['snd_id'])        \n",
    "            snd_group_count += 1\n",
    "            # this will update the gdf per street name with the groups of streets\n",
    "            temp_gdf.loc[temp_gdf['snd_id'].isin(snd_id_list), 'snd_group'] = snd_group_count     \n",
    "        \n",
    "        # this is the number of unique snd_groups\n",
    "        # also the number of discontinuities\n",
    "        snd_group_id_list = temp_gdf['snd_group'].unique()    \n",
    "        \n",
    "        n_discontinuities = len(snd_group_id_list)    \n",
    "        \n",
    "        if n_discontinuities > 1:\n",
    "            # process for the sub graphs\n",
    "            node_snd_group_dict = {}\n",
    "            # a node - an intersection - can have more than one street.\n",
    "            # we need to update the node snd group dict for every street\n",
    "            # identify each edge that each node is on\n",
    "            for ir, row in temp_gdf.iterrows():       \n",
    "                fn = row['f_intr_id']\n",
    "                tn = row['t_intr_id']\n",
    "                #osn = row['ord_street_name']\n",
    "                #osnt = row['ord_street_name_type']\n",
    "                #osnc = row['ord_stname_concat']\n",
    "\n",
    "                snd_group_id = row['snd_group']\n",
    "                node_snd_group_dict[fn] = snd_group_id\n",
    "                node_snd_group_dict[tn] = snd_group_id                                             \n",
    "            \n",
    "            # create a list of available edges - these are the missing segments\n",
    "            # these are formed from the non-edges of the graph.        \n",
    "            avail_edges = []\n",
    "\n",
    "            # compute the degree centrality \n",
    "            node_centrality_dict = nx.degree_centrality(G = fg)\n",
    "\n",
    "            # dictionary to hold available edges\n",
    "            # let's only make the distance calculation once, yeah?\n",
    "            # it's a simple calculation, but even more simple to store it. \n",
    "            node_dist_dict = {}\n",
    "            # enumerate the non-edges\n",
    "            non_edge_count = 0\n",
    "            # the total number of non-edges\n",
    "            diff_non_edge_count = 0\n",
    "            # the number of non-edges that connect disconnected components\n",
    "            for ne in nx.non_edges(graph = fg):    \n",
    "                non_edge_count += 1\n",
    "                # ne is a tuple of from / to nodes.\n",
    "                # create available edges if the nodes are not on the same segment\n",
    "                # this will decrease the potential solution space\n",
    "                if node_snd_group_dict[ne[0]] != node_snd_group_dict[ne[1]]:\n",
    "                    diff_non_edge_count += 1\n",
    "                    # calculate the straight-line distance between two nodes. \n",
    "                    # convert to feet to match the existing distance / weight variable\n",
    "                    weight = points2distance(node_dict[ne[0]], node_dict[ne[1]], unit = 'miles') * 5280\n",
    "                    \n",
    "                    # build the output tuple\n",
    "                    if use_v1:\n",
    "                        # this does not use node centrality\n",
    "                        output = (ne[0], ne[1], {'weight':weight})\n",
    "                    else:\n",
    "                        # let's get the node centrality and use its inverse to further weight distances                     \n",
    "                        ne_0_nc = node_centrality_dict[ne[0]]\n",
    "                        ne_1_nc = node_centrality_dict[ne[1]]\n",
    "                        edge_weight = weight * (ne_0_nc * ne_1_nc)\n",
    "                        output = (ne[0], ne[1], {'weight':edge_weight})                        \n",
    "                    # add to the distance dict\n",
    "                    node_dist_dict[(ne[0], ne[1])] = weight \n",
    "                    node_dist_dict[(ne[1], ne[0])] = weight \n",
    "                    avail_edges.append(output)\n",
    "\n",
    "            # we just calculated all of the potential segments that span discontinuities\n",
    "            # nx.k_edge_augmentation() creates the potential edges in a graph by adding as\n",
    "            # few edges as possible. In a street network, with multiple disconnected\n",
    "            # components, there is really one way to minimally connect the disparate components\n",
    "            # to create full connectivity. And it's the shortest geographic segment in this case!\n",
    "            # weighted graph traversal works by accumulating as little weight as possible. \n",
    "            \n",
    "            # this will store the output\n",
    "            data_list = []\n",
    "            line_list = []\n",
    "            # once nx.k_edge_augmentation() finishes, it returns a generator with the added edges that\n",
    "            # ensure complete connectivity between all nodes.\n",
    "            augmented_edges = nx.k_edge_augmentation(G = fg, k = 1, avail = avail_edges, weight = 'weight')    \n",
    "            # enumerate the augmented edges\n",
    "            for i_ae, ae in enumerate(augmented_edges):                \n",
    "                # unpack\n",
    "                fn, tn = ae            \n",
    "                # get the weight / distance of the added edge\n",
    "                weight = node_dist_dict[(fn, tn)] \n",
    "                # this is the output dictionary\n",
    "                # street name, integer indicating the snd_group, from node, to node, distance of the edge\n",
    "\n",
    "                # get node data\n",
    "                fn_node_list = []                \n",
    "                for curr_edge in fg.edges(fn):\n",
    "                    edge_dict = fg.edges[curr_edge]\n",
    "                    fn_node_list.append(edge_dict)\n",
    "                \n",
    "                fn_df = pd.DataFrame(data = fn_node_list)\n",
    "                fn_osnc = fn_df['ord_stname_concat']\n",
    "\n",
    "                tn_node_list = []\n",
    "                for curr_edge in fg.edges(tn):\n",
    "                    edge_dict = fg.edges[curr_edge]\n",
    "                    tn_node_list.append(edge_dict)\n",
    "                \n",
    "                tn_df = pd.DataFrame(data = tn_node_list)\n",
    "                tn_osnc = tn_df['ord_stname_concat']\n",
    "\n",
    "                # ord_stname_concat: determine this by computing the set intersection\n",
    "                osnc_set = set(fn_osnc).intersection(tn_osnc)\n",
    "                if len(osnc_set) == 1:\n",
    "                    osnc = osnc_set.pop()\n",
    "                else:\n",
    "                    osnc = ''\n",
    "\n",
    "                # ord_street_name\n",
    "                osn = temp_gdf['ord_street_name'].unique().tolist()[0]\n",
    "                # ord_street_type\n",
    "                ost = temp_gdf['ord_street_type'].unique().tolist()[0]\n",
    "\n",
    "                # now, get the city portion\n",
    "                tn_city_portion = set(tn_df['city_portion'])\n",
    "                fn_city_portion = set(fn_df['city_portion'])\n",
    "                cp = list(tn_city_portion.union(fn_city_portion))\n",
    "                cp = '_'.join(sorted(cp))\n",
    "\n",
    "                temp_snd_id += 1\n",
    "                temp_data_list = [temp_snd_id, osn, ost, snt, osnc, i_ae, fn, tn, weight, cp, gi]\n",
    "                # now, let's create some geometry\n",
    "                temp_line = LineString([node_dict[fn], node_dict[tn]])\n",
    "                line_list.append(temp_line)\n",
    "                data_list.append(temp_data_list)\n",
    "\n",
    "            # compare the list of available edges to the list of chosen edges\n",
    "            # this isn't necessary to complete the edge augmentation, but it's\n",
    "            # nice to know how often added edges are always the shortest edges        \n",
    "            av_df = pd.DataFrame(data = avail_edges, columns = ['sn_id', 'en_id', 'weight_dict'])\n",
    "            #av_df['dist'] = av_df['weight_dict'].map(lambda x: x['weight'])\n",
    "\n",
    "            av_df['dist'] = av_df.apply(func=lambda x: node_dist_dict[(x['sn_id'], x['en_id'])], axis = 1)\n",
    "            av_df = av_df.drop(labels = 'weight_dict', axis = 1)\n",
    "            # rank distance - the lower the rank, the shorter the segment.\n",
    "            av_df['dist_rank'] = av_df['dist'].rank(method = 'dense')\n",
    "            \n",
    "            # build a gpd.GeoDataFrame - these are the \"missing\" segments\"\n",
    "            col_names = ['snd_id', 'ord_street_name', 'ord_street_type',\n",
    "                         'ord_street_name_type', 'ord_stname_concat',\n",
    "                         'snd_group', 'sn_id', 'en_id', 'dist', 'city_portion', \n",
    "                         'group_id']\n",
    "            ms_gdf = gpd.GeoDataFrame(data = data_list,\n",
    "                                            columns = col_names,\n",
    "                                            geometry = line_list, crs = 'epsg:4326')\n",
    "            # these edges are not on the same street group\n",
    "            ms_gdf['street_status'] = int(2)\n",
    "            # update where the connection spans city portions     \n",
    "            ms_gdf.loc[ms_gdf['ord_stname_concat'] == '', 'street_status'] = 3\n",
    "\n",
    "            # this will track if there are any graphs with parallel edges.\n",
    "            if ms_gdf.empty:\n",
    "                trouble_list.append(snt)            \n",
    "            \n",
    "            # select where the rank is LTE than the number of records in the missing segement gdf\n",
    "            av_df = av_df.loc[av_df['dist_rank'] <= ms_gdf.shape[0], :]\n",
    "            \n",
    "            # if the sum of the distance of the added segments is the same, then only the\n",
    "            # shortest segments were added. If not, then other, longer, segments were added\n",
    "            # but that makes for less total distance traversed in the graph.\n",
    "            # So, how often does that happen?\n",
    "            shortest_tot_path = av_df['dist'].sum() == ms_gdf['dist'].sum()\n",
    "            shortest_tot_path = int(shortest_tot_path)\n",
    "            shortest_added_path.append([osn, ost, snt, osnc,  shortest_tot_path, n_discontinuities - 1])        \n",
    "                    \n",
    "            # add the known, disconnected segments. These are the existing streets.\n",
    "            col_names = ['snd_id','ord_street_name', 'ord_street_type', 'ord_street_name_type',\n",
    "                         'ord_stname_concat', 'snd_group',  'f_intr_id', 't_intr_id',\n",
    "                         'gis_seg_length', 'city_portion', 'group_id', 'geometry']    \n",
    "            ks_gdf = temp_gdf[col_names].copy()\n",
    "            ks_gdf['street_status'] = int(1)\n",
    "            ks_gdf = ks_gdf.rename(columns = {'f_intr_id':'sn_id', 't_intr_id':'en_id', 'gis_seg_length':'dist'})\n",
    "\n",
    "            # stack the geodataframes\n",
    "            output_gdf = pd.concat([ms_gdf, ks_gdf])            \n",
    "        \n",
    "            # write intermediate\n",
    "            if write_intermediate:\n",
    "                # intermediate streets - existing streets\n",
    "                is_output_file_path = os.path.join(rc.OUTPUT_FILE_PATH, 'individual_streets')\n",
    "                if not os.path.exists(is_output_file_path):\n",
    "                    os.makedirs(is_output_file_path)\n",
    "                output_file_name = '_'.join(snt.split()) + '.gpkg'\n",
    "                write_gdf(gdf = temp_gdf, output_file_path = is_output_file_path, output_file_name = output_file_name)\n",
    "            \n",
    "                # intermediate nodes\n",
    "                curr_node_df = pd.DataFrame(data = {'node_id':fg.nodes()})\n",
    "                #curr_node_list = curr_node_df['node_id'].tolist()\n",
    "                curr_node_df['node_centrality'] = curr_node_df['node_id'].map(node_centrality_dict)\n",
    "                node_subset_gdf = subset_node_gdf(node_gdf = node_gdf, other_node_df = curr_node_df)\n",
    "                output_file_name = '_'.join(snt.split()) + '_full_nodes.gpkg'\n",
    "                write_gdf(gdf = node_subset_gdf, output_file_path = is_output_file_path, output_file_name = output_file_name)\n",
    "\n",
    "                # the added and continuous segments for a street\n",
    "                output_file_name = '_'.join(snt.split()) + '_missing_segments.gpkg'\n",
    "                ofpn = os.path.join(is_output_file_path, output_file_name)                \n",
    "                write_gdf(gdf = output_gdf, output_file_path = is_output_file_path, output_file_name = output_file_name)\n",
    "\n",
    "        else:\n",
    "            # gather the streets with no missing segments.         \n",
    "            col_names = ['snd_id', 'ord_street_name', 'ord_street_type', \n",
    "                         'ord_street_name_type', 'ord_stname_concat', \n",
    "                         'snd_group', 'f_intr_id', 't_intr_id', 'gis_seg_length', \n",
    "                         'city_portion', 'group_id', 'geometry']    \n",
    "            output_gdf = temp_gdf[col_names].copy()\n",
    "            output_gdf['street_status'] = int(0)\n",
    "            output_gdf = output_gdf.rename(columns = {'f_intr_id':'sn_id', 't_intr_id':'en_id', 'gis_seg_length':'dist'})\n",
    "\n",
    "        # add to the output list\n",
    "        output_gdf_list.append(output_gdf)"
   ]
  },
  {
   "cell_type": "markdown",
   "id": "de05d0f4",
   "metadata": {},
   "source": [
    "# combine data for output"
   ]
  },
  {
   "cell_type": "code",
   "execution_count": 29,
   "id": "a91f2298",
   "metadata": {},
   "outputs": [],
   "source": [
    "ms_gdf = pd.concat(objs = output_gdf_list)"
   ]
  },
  {
   "cell_type": "code",
   "execution_count": 30,
   "id": "3e350635",
   "metadata": {},
   "outputs": [],
   "source": [
    "ms_gdf['dist_miles'] = ms_gdf['dist'] / 5280"
   ]
  },
  {
   "cell_type": "code",
   "execution_count": 31,
   "id": "d5eb8f8e",
   "metadata": {},
   "outputs": [],
   "source": [
    "# join in other street indentification data"
   ]
  },
  {
   "cell_type": "code",
   "execution_count": null,
   "id": "b1cc3456",
   "metadata": {},
   "outputs": [],
   "source": [
    "ms_gdf.shape"
   ]
  },
  {
   "cell_type": "code",
   "execution_count": null,
   "id": "bd1af46b",
   "metadata": {},
   "outputs": [],
   "source": [
    "ms_gdf['street_status'].value_counts()"
   ]
  },
  {
   "cell_type": "code",
   "execution_count": null,
   "id": "b5a7ebef",
   "metadata": {},
   "outputs": [],
   "source": [
    "ms_gdf.columns"
   ]
  },
  {
   "cell_type": "code",
   "execution_count": null,
   "id": "fe2e3319",
   "metadata": {},
   "outputs": [],
   "source": []
  },
  {
   "cell_type": "code",
   "execution_count": null,
   "id": "80c5b502",
   "metadata": {},
   "outputs": [],
   "source": [
    "# check for missing values\n",
    "for cn in ms_gdf.columns:\n",
    "    print(cn, ms_gdf[cn].isna().unique())    "
   ]
  },
  {
   "cell_type": "code",
   "execution_count": null,
   "id": "f22ae2fd",
   "metadata": {},
   "outputs": [],
   "source": [
    "# what streets have parallel edges?\n",
    "# these can be verified / examined in qGIS\n",
    "trouble_list"
   ]
  },
  {
   "cell_type": "markdown",
   "id": "583f4f60",
   "metadata": {},
   "source": [
    "# compute if the added segments were indeed the shortest."
   ]
  },
  {
   "cell_type": "code",
   "execution_count": 38,
   "id": "0c534bbc-15b2-42a5-a552-fcafb1e9aa8c",
   "metadata": {},
   "outputs": [],
   "source": [
    "# the number of times when the shortest segment is the shortest\n",
    "col_names = ['ord_street_name', 'ord_street_type', 'ord_street_name_type',\n",
    "             'ord_stname_concat', 'shortest_added_path', 'n_discontinuities']                                      \n",
    "sap_df = pd.DataFrame(data = shortest_added_path, columns = col_names)"
   ]
  },
  {
   "cell_type": "code",
   "execution_count": 39,
   "id": "dcacc94a-5323-4e25-9044-bae4cfe4fbfa",
   "metadata": {},
   "outputs": [],
   "source": [
    "sap_df['n_streets'] = int(1)"
   ]
  },
  {
   "cell_type": "code",
   "execution_count": null,
   "id": "c5e9c2f5",
   "metadata": {},
   "outputs": [],
   "source": [
    "sap_df.head()"
   ]
  },
  {
   "cell_type": "code",
   "execution_count": 41,
   "id": "9f2dcc6c",
   "metadata": {},
   "outputs": [],
   "source": [
    "recode_dict = {0:'shortest_is_false', 1:'shortest_is_true', }"
   ]
  },
  {
   "cell_type": "code",
   "execution_count": 42,
   "id": "f8287618",
   "metadata": {},
   "outputs": [],
   "source": [
    "sap_df['shortest_added_path'] = sap_df['shortest_added_path'].map(recode_dict)"
   ]
  },
  {
   "cell_type": "code",
   "execution_count": 43,
   "id": "0b4d1387",
   "metadata": {},
   "outputs": [],
   "source": [
    "sap_df = sap_df.sort_values(by = ['ord_street_name_type', 'ord_stname_concat'])"
   ]
  },
  {
   "cell_type": "code",
   "execution_count": 44,
   "id": "bc490774",
   "metadata": {},
   "outputs": [],
   "source": [
    "sap_df['connection_status'] = \"intraconnection\"\n",
    "sap_df.loc[sap_df['ord_stname_concat'] == '', 'connection_status'] = 'interconnection'"
   ]
  },
  {
   "cell_type": "code",
   "execution_count": null,
   "id": "92d74132",
   "metadata": {},
   "outputs": [],
   "source": [
    "sap_df.head()"
   ]
  },
  {
   "cell_type": "code",
   "execution_count": 46,
   "id": "34fc35a2",
   "metadata": {},
   "outputs": [],
   "source": [
    "sap_df_ct_count = pd.pivot_table(data = sap_df, values = 'n_streets',\n",
    "                                 index = ['connection_status', 'n_discontinuities'], columns = 'shortest_added_path',\n",
    "                                 aggfunc='sum', fill_value=0, margins = True).reset_index(drop=False)"
   ]
  },
  {
   "cell_type": "code",
   "execution_count": null,
   "id": "1f775d6b",
   "metadata": {},
   "outputs": [],
   "source": [
    "sap_df_ct_count.columns"
   ]
  },
  {
   "cell_type": "code",
   "execution_count": null,
   "id": "67859efe",
   "metadata": {},
   "outputs": [],
   "source": [
    "sap_df_ct_count.head()"
   ]
  },
  {
   "cell_type": "code",
   "execution_count": 49,
   "id": "955c862b",
   "metadata": {},
   "outputs": [],
   "source": [
    "for recode_key, recode_value in recode_dict.items():\n",
    "    if recode_value not in sap_df_ct_count.columns:\n",
    "        sap_df_ct_count[recode_value] = [0] * sap_df_ct_count.shape[0]"
   ]
  },
  {
   "cell_type": "code",
   "execution_count": null,
   "id": "dc40aca8",
   "metadata": {},
   "outputs": [],
   "source": [
    "sap_df_ct_count.head()"
   ]
  },
  {
   "cell_type": "code",
   "execution_count": 51,
   "id": "c82548cb",
   "metadata": {},
   "outputs": [],
   "source": [
    "sap_df_ct_count = sap_df_ct_count.rename(columns = {'All':'n_streets'})\n",
    "col_names = ['connection_status', 'n_discontinuities', 'shortest_is_false', 'shortest_is_true', 'n_streets']\n",
    "sap_df_ct_count = sap_df_ct_count[col_names]"
   ]
  },
  {
   "cell_type": "code",
   "execution_count": 52,
   "id": "4bad967e",
   "metadata": {},
   "outputs": [],
   "source": [
    "for cn in ['shortest_is_false', 'shortest_is_true']:\n",
    "    ncn = cn + '_per'\n",
    "    sap_df_ct_count[ncn] = sap_df_ct_count[cn] / sap_df_ct_count['n_streets']"
   ]
  },
  {
   "cell_type": "code",
   "execution_count": null,
   "id": "9fb3b244",
   "metadata": {},
   "outputs": [],
   "source": [
    "sap_df_ct_count.head()"
   ]
  },
  {
   "cell_type": "code",
   "execution_count": null,
   "id": "8741d730",
   "metadata": {},
   "outputs": [],
   "source": [
    "# export this to excel\n",
    "if not os.path.exists(rc.ANALYSIS_OUTPUT_FILE_PATH):\n",
    "    os.makedirs(rc.ANALYSIS_OUTPUT_FILE_PATH)\n",
    "ofpn = os.path.join(rc.ANALYSIS_OUTPUT_FILE_PATH, rc.S03_SS_COUNT_OUT_FILE_NAME)\n",
    "print(ofpn)\n",
    "\n",
    "sap_df_ct_count.to_excel(excel_writer=ofpn, sheet_name='shortest_segment_count', index = False)"
   ]
  },
  {
   "cell_type": "markdown",
   "id": "5717e052-e7bf-4e60-b5e1-70d1a855e7f8",
   "metadata": {},
   "source": [
    "# add ranking by street type to help with visualization"
   ]
  },
  {
   "cell_type": "code",
   "execution_count": 55,
   "id": "17d0ea23-c8e1-4aa7-920d-c457eeb22ff0",
   "metadata": {},
   "outputs": [],
   "source": [
    "st_type_df = ms_gdf.loc[ms_gdf['street_status'].isin((2,3)), 'ord_street_type'].value_counts().to_frame(name = 'n_segments').reset_index()"
   ]
  },
  {
   "cell_type": "code",
   "execution_count": null,
   "id": "587d3e87-7ca6-4f14-a606-5e3fb459c83f",
   "metadata": {},
   "outputs": [],
   "source": [
    "st_type_df.head()"
   ]
  },
  {
   "cell_type": "code",
   "execution_count": 57,
   "id": "ac05148a-684c-4f11-b325-10c66b244227",
   "metadata": {},
   "outputs": [],
   "source": [
    "st_type_df['segment_rank'] = st_type_df['n_segments'].rank(ascending = True).astype(int).astype(str).str.zfill(2)"
   ]
  },
  {
   "cell_type": "code",
   "execution_count": null,
   "id": "4987655b-a00c-43c7-b04c-88d53a068b27",
   "metadata": {},
   "outputs": [],
   "source": [
    "st_type_df.head(n=20)"
   ]
  },
  {
   "cell_type": "code",
   "execution_count": 59,
   "id": "f6503816-1cf2-4304-9578-917b874aabc5",
   "metadata": {},
   "outputs": [],
   "source": [
    "st_type_df['ord_street_type_rank'] = st_type_df['segment_rank'] + '_' + st_type_df['ord_street_type']"
   ]
  },
  {
   "cell_type": "code",
   "execution_count": 60,
   "id": "abeac03c-4917-4c5c-8fab-aebcac12dc0f",
   "metadata": {},
   "outputs": [],
   "source": [
    "st_rank_dict = {ost:ostr for ost, ostr in zip(st_type_df['ord_street_type'], st_type_df['ord_street_type_rank'])}"
   ]
  },
  {
   "cell_type": "code",
   "execution_count": 61,
   "id": "e33d501e-0011-41ec-965f-7ad2657d36f0",
   "metadata": {},
   "outputs": [],
   "source": [
    "ms_gdf['ord_street_type_rank'] = ms_gdf['ord_street_type'].map(st_rank_dict)"
   ]
  },
  {
   "cell_type": "code",
   "execution_count": 62,
   "id": "d4afaa78-b8cc-4713-915b-f08686446cc0",
   "metadata": {},
   "outputs": [],
   "source": [
    "ms_gdf.loc[ms_gdf['ord_street_type_rank'].isna(), 'ord_street_type_rank'] = \"\""
   ]
  },
  {
   "cell_type": "code",
   "execution_count": null,
   "id": "efa67109",
   "metadata": {},
   "outputs": [],
   "source": [
    "ms_gdf.columns"
   ]
  },
  {
   "cell_type": "code",
   "execution_count": 65,
   "id": "3766617b-52fa-4f04-992e-457b9343b9b1",
   "metadata": {},
   "outputs": [],
   "source": [
    "# reorder columns\n",
    "col_names = ['snd_id', 'ord_street_name','ord_stname_concat','ord_street_name_type',\n",
    "             'ord_street_type', 'city_portion', 'ord_street_type_rank', 'snd_group',\n",
    "               'street_status', 'group_id', 'sn_id','en_id','dist','dist_miles','geometry']"
   ]
  },
  {
   "cell_type": "code",
   "execution_count": 66,
   "id": "6d849621-4392-415b-894a-4dcc9dfc7370",
   "metadata": {},
   "outputs": [],
   "source": [
    "ms_gdf = ms_gdf[col_names]"
   ]
  },
  {
   "cell_type": "markdown",
   "id": "8b17be1f-d5f8-4505-ab76-572b6598ff39",
   "metadata": {},
   "source": [
    "# save the geodataframe with the continuous, discontinuous, and added streets"
   ]
  },
  {
   "cell_type": "code",
   "execution_count": 67,
   "id": "0b821c98-17dc-4529-a560-cc278daf1e89",
   "metadata": {},
   "outputs": [],
   "source": [
    "write_gdf(gdf = ms_gdf, output_file_path= rc.OUTPUT_FILE_PATH,\n",
    "          output_file_name = rc.S03_MISSING_OUT_FILE_NAME)"
   ]
  }
 ],
 "metadata": {
  "kernelspec": {
   "display_name": "analysis",
   "language": "python",
   "name": "python3"
  },
  "language_info": {
   "codemirror_mode": {
    "name": "ipython",
    "version": 3
   },
   "file_extension": ".py",
   "mimetype": "text/x-python",
   "name": "python",
   "nbconvert_exporter": "python",
   "pygments_lexer": "ipython3",
   "version": "3.12.7"
  }
 },
 "nbformat": 4,
 "nbformat_minor": 5
}
